{
 "cells": [
  {
   "cell_type": "markdown",
   "metadata": {},
   "source": [
    "# Convert MTH5 to miniseed"
   ]
  },
  {
   "cell_type": "code",
   "execution_count": 1,
   "metadata": {},
   "outputs": [],
   "source": [
    "from mth5.io.conversion import MTH5ToMiniSEEDStationXML"
   ]
  },
  {
   "cell_type": "code",
   "execution_count": null,
   "metadata": {},
   "outputs": [
    {
     "name": "stdout",
     "output_type": "stream",
     "text": [
      "\u001b[1m2025-04-01T10:36:47.134591-0700 | INFO | mth5.mth5 | close_mth5 | Flushing and closing c:\\Users\\jpeacock\\OneDrive - DOI\\MTData\\CL2021\\archive\\cl008.h5\u001b[0m\n",
      "\u001b[1m2025-04-01T10:38:09.304781-0700 | INFO | mt_metadata.timeseries.filters.channel_response | to_obspy | total sensitivity 50331650.0 != total gain 1048576000.0. Using total_gain.\u001b[0m\n",
      "\u001b[1m2025-04-01T10:38:45.103046-0700 | INFO | mt_metadata.timeseries.filters.channel_response | to_obspy | total sensitivity 55574530.0 != total gain 1048576000.0. Using total_gain.\u001b[0m\n",
      "\u001b[1m2025-04-01T10:38:46.077154-0700 | INFO | mt_metadata.timeseries.filters.channel_response | to_obspy | total sensitivity 104957800000.0 != total gain 1048576000.0. Using total_gain.\u001b[0m\n",
      "\u001b[1m2025-04-01T10:38:46.790101-0700 | INFO | mt_metadata.timeseries.filters.channel_response | to_obspy | total sensitivity 99528330000.0 != total gain 1048576000.0. Using total_gain.\u001b[0m\n",
      "\u001b[1m2025-04-01T10:38:47.550984-0700 | INFO | mt_metadata.timeseries.filters.channel_response | to_obspy | total sensitivity 104398700000.0 != total gain 1048576000.0. Using total_gain.\u001b[0m\n",
      "\u001b[1m2025-04-01T10:38:48.201773-0700 | INFO | mt_metadata.timeseries.filters.channel_response | to_obspy | total sensitivity 50331650.0 != total gain 1048576000.0. Using total_gain.\u001b[0m\n",
      "\u001b[1m2025-04-01T10:38:49.051406-0700 | INFO | mt_metadata.timeseries.filters.channel_response | to_obspy | total sensitivity 55574530.0 != total gain 1048576000.0. Using total_gain.\u001b[0m\n",
      "\u001b[1m2025-04-01T10:38:50.405633-0700 | INFO | mt_metadata.timeseries.filters.channel_response | to_obspy | total sensitivity 104957800000.0 != total gain 1048576000.0. Using total_gain.\u001b[0m\n",
      "\u001b[1m2025-04-01T10:38:52.126084-0700 | INFO | mt_metadata.timeseries.filters.channel_response | to_obspy | total sensitivity 99528330000.0 != total gain 1048576000.0. Using total_gain.\u001b[0m\n",
      "\u001b[1m2025-04-01T10:38:55.123100-0700 | INFO | mt_metadata.timeseries.filters.channel_response | to_obspy | total sensitivity 104398700000.0 != total gain 1048576000.0. Using total_gain.\u001b[0m\n",
      "\u001b[1m2025-04-01T10:38:56.095079-0700 | INFO | mt_metadata.timeseries.filters.channel_response | to_obspy | total sensitivity 50331650.0 != total gain 1048576000.0. Using total_gain.\u001b[0m\n",
      "\u001b[1m2025-04-01T10:38:58.070962-0700 | INFO | mt_metadata.timeseries.filters.channel_response | to_obspy | total sensitivity 55574530.0 != total gain 1048576000.0. Using total_gain.\u001b[0m\n",
      "\u001b[1m2025-04-01T10:38:59.623895-0700 | INFO | mt_metadata.timeseries.filters.channel_response | to_obspy | total sensitivity 104957800000.0 != total gain 1048576000.0. Using total_gain.\u001b[0m\n",
      "\u001b[1m2025-04-01T10:39:00.805100-0700 | INFO | mt_metadata.timeseries.filters.channel_response | to_obspy | total sensitivity 99528330000.0 != total gain 1048576000.0. Using total_gain.\u001b[0m\n",
      "\u001b[1m2025-04-01T10:39:01.628458-0700 | INFO | mt_metadata.timeseries.filters.channel_response | to_obspy | total sensitivity 104398700000.0 != total gain 1048576000.0. Using total_gain.\u001b[0m\n",
      "\u001b[1m2025-04-01T10:39:02.941650-0700 | INFO | mt_metadata.timeseries.filters.channel_response | to_obspy | total sensitivity 50331650.0 != total gain 1048576000.0. Using total_gain.\u001b[0m\n",
      "\u001b[1m2025-04-01T10:39:03.621194-0700 | INFO | mt_metadata.timeseries.filters.channel_response | to_obspy | total sensitivity 55574530.0 != total gain 1048576000.0. Using total_gain.\u001b[0m\n",
      "\u001b[1m2025-04-01T10:39:04.275439-0700 | INFO | mt_metadata.timeseries.filters.channel_response | to_obspy | total sensitivity 104957800000.0 != total gain 1048576000.0. Using total_gain.\u001b[0m\n",
      "\u001b[1m2025-04-01T10:39:04.881074-0700 | INFO | mt_metadata.timeseries.filters.channel_response | to_obspy | total sensitivity 99528330000.0 != total gain 1048576000.0. Using total_gain.\u001b[0m\n",
      "\u001b[1m2025-04-01T10:39:05.424876-0700 | INFO | mt_metadata.timeseries.filters.channel_response | to_obspy | total sensitivity 104398700000.0 != total gain 1048576000.0. Using total_gain.\u001b[0m\n",
      "\u001b[1m2025-04-01T10:39:06.016177-0700 | INFO | mt_metadata.timeseries.filters.channel_response | to_obspy | total sensitivity 50331650.0 != total gain 1048576000.0. Using total_gain.\u001b[0m\n",
      "\u001b[1m2025-04-01T10:39:06.695186-0700 | INFO | mt_metadata.timeseries.filters.channel_response | to_obspy | total sensitivity 55574530.0 != total gain 1048576000.0. Using total_gain.\u001b[0m\n",
      "\u001b[1m2025-04-01T10:39:07.361754-0700 | INFO | mt_metadata.timeseries.filters.channel_response | to_obspy | total sensitivity 104957800000.0 != total gain 1048576000.0. Using total_gain.\u001b[0m\n",
      "\u001b[1m2025-04-01T10:39:07.967578-0700 | INFO | mt_metadata.timeseries.filters.channel_response | to_obspy | total sensitivity 99528330000.0 != total gain 1048576000.0. Using total_gain.\u001b[0m\n",
      "\u001b[1m2025-04-01T10:39:08.419009-0700 | INFO | mt_metadata.timeseries.filters.channel_response | to_obspy | total sensitivity 104398700000.0 != total gain 1048576000.0. Using total_gain.\u001b[0m\n",
      "\u001b[1m2025-04-01T10:39:08.788987-0700 | INFO | mt_metadata.timeseries.filters.channel_response | to_obspy | total sensitivity 50331650.0 != total gain 1048576000.0. Using total_gain.\u001b[0m\n",
      "\u001b[1m2025-04-01T10:39:09.301007-0700 | INFO | mt_metadata.timeseries.filters.channel_response | to_obspy | total sensitivity 55574530.0 != total gain 1048576000.0. Using total_gain.\u001b[0m\n",
      "\u001b[1m2025-04-01T10:39:09.752970-0700 | INFO | mt_metadata.timeseries.filters.channel_response | to_obspy | total sensitivity 104957800000.0 != total gain 1048576000.0. Using total_gain.\u001b[0m\n",
      "\u001b[1m2025-04-01T10:39:10.344290-0700 | INFO | mt_metadata.timeseries.filters.channel_response | to_obspy | total sensitivity 99528330000.0 != total gain 1048576000.0. Using total_gain.\u001b[0m\n",
      "\u001b[1m2025-04-01T10:39:10.946502-0700 | INFO | mt_metadata.timeseries.filters.channel_response | to_obspy | total sensitivity 104398700000.0 != total gain 1048576000.0. Using total_gain.\u001b[0m\n",
      "\u001b[1m2025-04-01T10:39:11.770162-0700 | INFO | mt_metadata.timeseries.filters.channel_response | to_obspy | total sensitivity 50331650.0 != total gain 1048576000.0. Using total_gain.\u001b[0m\n",
      "\u001b[1m2025-04-01T10:39:12.436088-0700 | INFO | mt_metadata.timeseries.filters.channel_response | to_obspy | total sensitivity 55574530.0 != total gain 1048576000.0. Using total_gain.\u001b[0m\n",
      "\u001b[1m2025-04-01T10:39:13.123567-0700 | INFO | mt_metadata.timeseries.filters.channel_response | to_obspy | total sensitivity 104957800000.0 != total gain 1048576000.0. Using total_gain.\u001b[0m\n",
      "\u001b[1m2025-04-01T10:39:13.729695-0700 | INFO | mt_metadata.timeseries.filters.channel_response | to_obspy | total sensitivity 99528330000.0 != total gain 1048576000.0. Using total_gain.\u001b[0m\n",
      "\u001b[1m2025-04-01T10:39:14.377732-0700 | INFO | mt_metadata.timeseries.filters.channel_response | to_obspy | total sensitivity 104398700000.0 != total gain 1048576000.0. Using total_gain.\u001b[0m\n",
      "\u001b[1m2025-04-01T10:39:15.138952-0700 | INFO | mt_metadata.timeseries.filters.channel_response | to_obspy | total sensitivity 50331650.0 != total gain 1048576000.0. Using total_gain.\u001b[0m\n",
      "\u001b[1m2025-04-01T10:39:15.748714-0700 | INFO | mt_metadata.timeseries.filters.channel_response | to_obspy | total sensitivity 55574530.0 != total gain 1048576000.0. Using total_gain.\u001b[0m\n",
      "\u001b[1m2025-04-01T10:39:16.261152-0700 | INFO | mt_metadata.timeseries.filters.channel_response | to_obspy | total sensitivity 104957800000.0 != total gain 1048576000.0. Using total_gain.\u001b[0m\n",
      "\u001b[1m2025-04-01T10:39:17.022935-0700 | INFO | mt_metadata.timeseries.filters.channel_response | to_obspy | total sensitivity 99528330000.0 != total gain 1048576000.0. Using total_gain.\u001b[0m\n",
      "\u001b[1m2025-04-01T10:39:17.538943-0700 | INFO | mt_metadata.timeseries.filters.channel_response | to_obspy | total sensitivity 104398700000.0 != total gain 1048576000.0. Using total_gain.\u001b[0m\n",
      "\u001b[1m2025-04-01T10:39:18.256624-0700 | INFO | mt_metadata.timeseries.filters.channel_response | to_obspy | total sensitivity 50331650.0 != total gain 1048576000.0. Using total_gain.\u001b[0m\n",
      "\u001b[1m2025-04-01T10:39:19.076748-0700 | INFO | mt_metadata.timeseries.filters.channel_response | to_obspy | total sensitivity 55574530.0 != total gain 1048576000.0. Using total_gain.\u001b[0m\n",
      "\u001b[1m2025-04-01T10:39:22.171336-0700 | INFO | mt_metadata.timeseries.filters.channel_response | to_obspy | total sensitivity 104957800000.0 != total gain 1048576000.0. Using total_gain.\u001b[0m\n",
      "\u001b[1m2025-04-01T10:39:22.221004-0700 | INFO | mt_metadata.timeseries.filters.channel_response | to_obspy | total sensitivity 99528330000.0 != total gain 1048576000.0. Using total_gain.\u001b[0m\n",
      "\u001b[1m2025-04-01T10:39:22.273195-0700 | INFO | mt_metadata.timeseries.filters.channel_response | to_obspy | total sensitivity 104398700000.0 != total gain 1048576000.0. Using total_gain.\u001b[0m\n",
      "\u001b[1m2025-04-01T10:39:22.322943-0700 | INFO | mt_metadata.timeseries.filters.channel_response | to_obspy | total sensitivity 50331650.0 != total gain 1048576000.0. Using total_gain.\u001b[0m\n",
      "\u001b[1m2025-04-01T10:39:22.380516-0700 | INFO | mt_metadata.timeseries.filters.channel_response | to_obspy | total sensitivity 55574530.0 != total gain 1048576000.0. Using total_gain.\u001b[0m\n",
      "\u001b[1m2025-04-01T10:39:22.433398-0700 | INFO | mt_metadata.timeseries.filters.channel_response | to_obspy | total sensitivity 104957800000.0 != total gain 1048576000.0. Using total_gain.\u001b[0m\n",
      "\u001b[1m2025-04-01T10:39:22.481137-0700 | INFO | mt_metadata.timeseries.filters.channel_response | to_obspy | total sensitivity 99528330000.0 != total gain 1048576000.0. Using total_gain.\u001b[0m\n",
      "\u001b[1m2025-04-01T10:39:22.549854-0700 | INFO | mt_metadata.timeseries.filters.channel_response | to_obspy | total sensitivity 104398700000.0 != total gain 1048576000.0. Using total_gain.\u001b[0m\n"
     ]
    },
    {
     "name": "stdout",
     "output_type": "stream",
     "text": [
      "\u001b[1m2025-04-01T10:50:05.070325-0700 | INFO | mth5.io.conversion | convert_mth5_to_ms_stationxml | Wrote StationXML to c:\\Users\\jpeacock\\OneDrive - DOI\\MTData\\CL2021\\archive\\to_dmc\\cl008.xml\u001b[0m\n"
     ]
    },
    {
     "ename": "NameError",
     "evalue": "name 'stream_list' is not defined",
     "output_type": "error",
     "traceback": [
      "\u001b[1;31m---------------------------------------------------------------------------\u001b[0m",
      "\u001b[1;31mNameError\u001b[0m                                 Traceback (most recent call last)",
      "Cell \u001b[1;32mIn[2], line 1\u001b[0m\n\u001b[1;32m----> 1\u001b[0m station_xml, ms_list \u001b[38;5;241m=\u001b[39m \u001b[43mMTH5ToMiniSEEDStationXML\u001b[49m\u001b[38;5;241;43m.\u001b[39;49m\u001b[43mconvert_mth5_to_ms_stationxml\u001b[49m\u001b[43m(\u001b[49m\n\u001b[0;32m      2\u001b[0m \u001b[43m    \u001b[49m\u001b[43mmth5_path\u001b[49m\u001b[38;5;241;43m=\u001b[39;49m\u001b[38;5;124;43mr\u001b[39;49m\u001b[38;5;124;43m\"\u001b[39;49m\u001b[38;5;124;43mc:\u001b[39;49m\u001b[38;5;124;43m\\\u001b[39;49m\u001b[38;5;124;43mUsers\u001b[39;49m\u001b[38;5;124;43m\\\u001b[39;49m\u001b[38;5;124;43mjpeacock\u001b[39;49m\u001b[38;5;124;43m\\\u001b[39;49m\u001b[38;5;124;43mOneDrive - DOI\u001b[39;49m\u001b[38;5;124;43m\\\u001b[39;49m\u001b[38;5;124;43mMTData\u001b[39;49m\u001b[38;5;124;43m\\\u001b[39;49m\u001b[38;5;124;43mCL2021\u001b[39;49m\u001b[38;5;124;43m\\\u001b[39;49m\u001b[38;5;124;43marchive\u001b[39;49m\u001b[38;5;124;43m\\\u001b[39;49m\u001b[38;5;124;43mcl008.h5\u001b[39;49m\u001b[38;5;124;43m\"\u001b[39;49m\u001b[43m,\u001b[49m\n\u001b[0;32m      3\u001b[0m \u001b[43m    \u001b[49m\u001b[43msave_path\u001b[49m\u001b[38;5;241;43m=\u001b[39;49m\u001b[38;5;124;43mr\u001b[39;49m\u001b[38;5;124;43m\"\u001b[39;49m\u001b[38;5;124;43mc:\u001b[39;49m\u001b[38;5;124;43m\\\u001b[39;49m\u001b[38;5;124;43mUsers\u001b[39;49m\u001b[38;5;124;43m\\\u001b[39;49m\u001b[38;5;124;43mjpeacock\u001b[39;49m\u001b[38;5;124;43m\\\u001b[39;49m\u001b[38;5;124;43mOneDrive - DOI\u001b[39;49m\u001b[38;5;124;43m\\\u001b[39;49m\u001b[38;5;124;43mMTData\u001b[39;49m\u001b[38;5;124;43m\\\u001b[39;49m\u001b[38;5;124;43mCL2021\u001b[39;49m\u001b[38;5;124;43m\\\u001b[39;49m\u001b[38;5;124;43marchive\u001b[39;49m\u001b[38;5;124;43m\\\u001b[39;49m\u001b[38;5;124;43mto_dmc\u001b[39;49m\u001b[38;5;124;43m\"\u001b[39;49m\u001b[43m,\u001b[49m\n\u001b[0;32m      4\u001b[0m \u001b[43m    \u001b[49m\u001b[43mnetwork_code\u001b[49m\u001b[38;5;241;43m=\u001b[39;49m\u001b[38;5;124;43m\"\u001b[39;49m\u001b[38;5;124;43m1Z\u001b[39;49m\u001b[38;5;124;43m\"\u001b[39;49m\u001b[43m,\u001b[49m\n\u001b[0;32m      5\u001b[0m \u001b[43m    \u001b[49m\u001b[43mencoding\u001b[49m\u001b[38;5;241;43m=\u001b[39;49m\u001b[38;5;124;43m\"\u001b[39;49m\u001b[38;5;124;43mINT32\u001b[39;49m\u001b[38;5;124;43m\"\u001b[39;49m\u001b[43m,\u001b[49m\n\u001b[0;32m      6\u001b[0m \u001b[43m)\u001b[49m\n",
      "File \u001b[1;32m~\\OneDrive - DOI\\Documents\\GitHub\\mth5\\mth5\\io\\conversion.py:155\u001b[0m, in \u001b[0;36mconvert_mth5_to_ms_stationxml\u001b[1;34m(cls, mth5_path, save_path, network_code, use_runs_with_data_only, **kwargs)\u001b[0m\n\u001b[0;32m    153\u001b[0m logger.info(f\"Wrote StationXML to {xml_fn}\")\n\u001b[0;32m    154\u001b[0m \n\u001b[1;32m--> 155\u001b[0m return xml_fn, stream_list\n\u001b[0;32m    156\u001b[0m \n\u001b[0;32m    157\u001b[0m \n",
      "\u001b[1;31mNameError\u001b[0m: name 'stream_list' is not defined"
     ]
    }
   ],
   "source": [
    "station_xml, ms_list = MTH5ToMiniSEEDStationXML.convert_mth5_to_ms_stationxml(\n",
    "    mth5_path=r\"c:\\Users\\jpeacock\\OneDrive - DOI\\MTData\\CL2021\\archive\\cl008.h5\",\n",
    "    save_path=r\"c:\\Users\\jpeacock\\OneDrive - DOI\\MTData\\CL2021\\archive\\to_dmc\",\n",
    "    network_code=\"1Z\",\n",
    "    encoding=\"INT32\",\n",
    ")"
   ]
  },
  {
   "cell_type": "code",
   "execution_count": 3,
   "metadata": {},
   "outputs": [
    {
     "data": {
      "text/plain": [
       "[WindowsPath('c:/Users/jpeacock/OneDrive - DOI/MTData/CL2021/archive/to_dmc/Clearlake2022_cl008_sr1_0001.mseed'),\n",
       " WindowsPath('c:/Users/jpeacock/OneDrive - DOI/MTData/CL2021/archive/to_dmc/Clearlake2022_cl008_sr256_0001.mseed'),\n",
       " WindowsPath('c:/Users/jpeacock/OneDrive - DOI/MTData/CL2021/archive/to_dmc/Clearlake2022_cl008_sr4096_0002.mseed'),\n",
       " WindowsPath('c:/Users/jpeacock/OneDrive - DOI/MTData/CL2021/archive/to_dmc/Clearlake2022_cl008_sr256_0003.mseed'),\n",
       " WindowsPath('c:/Users/jpeacock/OneDrive - DOI/MTData/CL2021/archive/to_dmc/Clearlake2022_cl008_sr4096_0004.mseed'),\n",
       " WindowsPath('c:/Users/jpeacock/OneDrive - DOI/MTData/CL2021/archive/to_dmc/Clearlake2022_cl008_sr256_0005.mseed'),\n",
       " WindowsPath('c:/Users/jpeacock/OneDrive - DOI/MTData/CL2021/archive/to_dmc/Clearlake2022_cl008_sr4096_0006.mseed'),\n",
       " WindowsPath('c:/Users/jpeacock/OneDrive - DOI/MTData/CL2021/archive/to_dmc/Clearlake2022_cl008_sr256_0007.mseed'),\n",
       " WindowsPath('c:/Users/jpeacock/OneDrive - DOI/MTData/CL2021/archive/to_dmc/Clearlake2022_cl008_sr4096_0008.mseed'),\n",
       " WindowsPath('c:/Users/jpeacock/OneDrive - DOI/MTData/CL2021/archive/to_dmc/Clearlake2022_cl008_sr256_0009.mseed')]"
      ]
     },
     "execution_count": 3,
     "metadata": {},
     "output_type": "execute_result"
    }
   ],
   "source": [
    "ms_list"
   ]
  },
  {
   "cell_type": "code",
   "execution_count": 3,
   "metadata": {},
   "outputs": [],
   "source": [
    "# Certainly! Splitting MiniSEED files by day using ObsPy is a common task for seismologists. Below is a Python script that demonstrates how to achieve this:\n",
    "\n",
    "from pathlib import Path\n",
    "from obspy import read\n",
    "from obspy.core import UTCDateTime\n",
    "import datetime\n",
    "\n",
    "\n",
    "def split_miniseed_by_day(input_file):\n",
    "    save_path = Path(input_file).parent\n",
    "    # Read the MiniSEED file\n",
    "    st = read(input_file)\n",
    "\n",
    "    tr_list = []\n",
    "    # Iterate over each trace in the stream\n",
    "    for tr in st:\n",
    "        start_time = tr.stats.starttime\n",
    "        end_time = tr.stats.endtime\n",
    "\n",
    "        # Split the trace by day\n",
    "        current_time = start_time\n",
    "        while current_time < end_time:\n",
    "            next_day = UTCDateTime(current_time.date + datetime.timedelta(days=1))\n",
    "            if next_day > end_time:\n",
    "                next_day = end_time\n",
    "\n",
    "            # Slice the trace for the current day\n",
    "            tr_day = tr.slice(current_time, next_day)\n",
    "\n",
    "            # Generate the output file name\n",
    "            output_file = save_path.joinpath(\n",
    "                f\"{tr.stats.network}.{tr.stats.station}.{tr.stats.location}.{tr.stats.channel}.{current_time.date}.mseed\"\n",
    "            )\n",
    "\n",
    "            # Write the sliced trace to a new MiniSEED file\n",
    "            tr_day.write(output_file, format=\"MSEED\")\n",
    "\n",
    "            # Move to the next day\n",
    "            current_time = next_day\n",
    "\n",
    "\n",
    "# Example usage\n",
    "\n",
    "\n",
    "# Explanation:\n",
    "# Reading the MiniSEED File: The script starts by reading the MiniSEED file using obspy.read().\n",
    "# Creating Output Directory: It ensures the output directory exists or creates it if it doesn't.\n",
    "# Iterating Over Traces: It iterates over each trace in the stream.\n",
    "# Splitting by Day: For each trace, it slices the data into daily segments.\n",
    "# Writing Output Files: Each daily segment is written to a new MiniSEED file with a filename that includes the date.\n",
    "\n",
    "# This script should help you split your MiniSEED files by day efficiently. If you have any further questions or need additional customization, feel free to ask!"
   ]
  },
  {
   "cell_type": "code",
   "execution_count": 5,
   "metadata": {},
   "outputs": [],
   "source": [
    "split_miniseed_by_day(r\"c:\\Users\\jpeacock\\OneDrive - DOI\\MTData\\CL2021\\archive\\to_dmc\\Clearlake2022_cl008_sr1_0001.mseed\")"
   ]
  },
  {
   "cell_type": "code",
   "execution_count": null,
   "metadata": {},
   "outputs": [],
   "source": []
  }
 ],
 "metadata": {
  "kernelspec": {
   "display_name": "py311",
   "language": "python",
   "name": "python3"
  },
  "language_info": {
   "codemirror_mode": {
    "name": "ipython",
    "version": 3
   },
   "file_extension": ".py",
   "mimetype": "text/x-python",
   "name": "python",
   "nbconvert_exporter": "python",
   "pygments_lexer": "ipython3",
   "version": "3.11.11"
  }
 },
 "nbformat": 4,
 "nbformat_minor": 2
}
