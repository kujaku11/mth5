{
 "cells": [
  {
   "cell_type": "markdown",
   "metadata": {},
   "source": [
    "# Convert MTH5 to miniseed"
   ]
  },
  {
   "cell_type": "code",
   "execution_count": 5,
   "metadata": {},
   "outputs": [],
   "source": [
    "from pathlib import Path\n",
    "from mth5.io.conversion import MTH5ToMiniSEEDStationXML"
   ]
  },
  {
   "cell_type": "code",
   "execution_count": 6,
   "metadata": {},
   "outputs": [
    {
     "name": "stdout",
     "output_type": "stream",
     "text": [
      "\u001b[33m\u001b[1m2025-04-02T11:41:46.198670-0700 | WARNING | mt_metadata.timeseries.station | remove_run | Could not find cl302a to remove.\u001b[0m\n",
      "\u001b[1m2025-04-02T11:41:49.751365-0700 | INFO | mth5.io.conversion | split_ms_to_days | Wrote miniseed file to: c:\\Users\\jpeacock\\OneDrive - DOI\\MTData\\CL2021\\archive\\to_dmc\\1Z_CL302__LQN_2022_07_10T00_24_58.mseed\u001b[0m\n",
      "\u001b[1m2025-04-02T11:41:49.762363-0700 | INFO | mth5.io.conversion | split_ms_to_days | Wrote miniseed file to: c:\\Users\\jpeacock\\OneDrive - DOI\\MTData\\CL2021\\archive\\to_dmc\\1Z_CL302__LQE_2022_07_10T00_24_58.mseed\u001b[0m\n",
      "\u001b[1m2025-04-02T11:41:49.769329-0700 | INFO | mth5.io.conversion | split_ms_to_days | Wrote miniseed file to: c:\\Users\\jpeacock\\OneDrive - DOI\\MTData\\CL2021\\archive\\to_dmc\\1Z_CL302__LFN_2022_07_10T00_24_58.mseed\u001b[0m\n",
      "\u001b[1m2025-04-02T11:41:49.779331-0700 | INFO | mth5.io.conversion | split_ms_to_days | Wrote miniseed file to: c:\\Users\\jpeacock\\OneDrive - DOI\\MTData\\CL2021\\archive\\to_dmc\\1Z_CL302__LFE_2022_07_10T00_24_58.mseed\u001b[0m\n",
      "\u001b[1m2025-04-02T11:41:49.786329-0700 | INFO | mth5.io.conversion | split_ms_to_days | Wrote miniseed file to: c:\\Users\\jpeacock\\OneDrive - DOI\\MTData\\CL2021\\archive\\to_dmc\\1Z_CL302__LFZ_2022_07_10T00_24_58.mseed\u001b[0m\n",
      "\u001b[1m2025-04-02T11:41:53.704121-0700 | INFO | mth5.io.conversion | split_ms_to_days | Wrote miniseed file to: c:\\Users\\jpeacock\\OneDrive - DOI\\MTData\\CL2021\\archive\\to_dmc\\1Z_CL302__CQN_2022_07_10T00_24_58.mseed\u001b[0m\n",
      "\u001b[1m2025-04-02T11:41:53.750637-0700 | INFO | mth5.io.conversion | split_ms_to_days | Wrote miniseed file to: c:\\Users\\jpeacock\\OneDrive - DOI\\MTData\\CL2021\\archive\\to_dmc\\1Z_CL302__CQE_2022_07_10T00_24_58.mseed\u001b[0m\n",
      "\u001b[1m2025-04-02T11:41:53.799666-0700 | INFO | mth5.io.conversion | split_ms_to_days | Wrote miniseed file to: c:\\Users\\jpeacock\\OneDrive - DOI\\MTData\\CL2021\\archive\\to_dmc\\1Z_CL302__CFN_2022_07_10T00_24_58.mseed\u001b[0m\n",
      "\u001b[1m2025-04-02T11:41:53.849194-0700 | INFO | mth5.io.conversion | split_ms_to_days | Wrote miniseed file to: c:\\Users\\jpeacock\\OneDrive - DOI\\MTData\\CL2021\\archive\\to_dmc\\1Z_CL302__CFE_2022_07_10T00_24_58.mseed\u001b[0m\n",
      "\u001b[1m2025-04-02T11:41:53.898188-0700 | INFO | mth5.io.conversion | split_ms_to_days | Wrote miniseed file to: c:\\Users\\jpeacock\\OneDrive - DOI\\MTData\\CL2021\\archive\\to_dmc\\1Z_CL302__CFZ_2022_07_10T00_24_58.mseed\u001b[0m\n",
      "\u001b[1m2025-04-02T11:41:57.643558-0700 | INFO | mth5.timeseries.run_ts | _align_channels | Channels do not have a common end, using latest: 2022-07-10T01:09:41.998779296\u001b[0m\n",
      "\u001b[33m\u001b[1m2025-04-02T11:42:00.310300-0700 | WARNING | mth5.timeseries.run_ts | validate_metadata | end time of dataset 2022-07-10T01:09:41.998535156+00:00 does not match metadata end 2022-07-10T01:09:41.998779296+00:00 updating metatdata value to 2022-07-10T01:09:41.998535156+00:00\u001b[0m\n"
     ]
    },
    {
     "name": "stderr",
     "output_type": "stream",
     "text": [
      "C:\\Users\\jpeacock\\OneDrive - DOI\\Documents\\GitHub\\mth5\\mth5\\timeseries\\channel_ts.py:1524: RuntimeWarning: invalid value encountered in cast\n",
      "  obspy_trace = Trace(self.ts.astype(encoding_dict[encoding]))\n"
     ]
    },
    {
     "name": "stdout",
     "output_type": "stream",
     "text": [
      "\u001b[1m2025-04-02T11:42:01.066548-0700 | INFO | mth5.io.conversion | split_ms_to_days | Wrote miniseed file to: c:\\Users\\jpeacock\\OneDrive - DOI\\MTData\\CL2021\\archive\\to_dmc\\1Z_CL302__FQN_2022_07_10T00_59_58.mseed\u001b[0m\n",
      "\u001b[1m2025-04-02T11:42:01.257629-0700 | INFO | mth5.io.conversion | split_ms_to_days | Wrote miniseed file to: c:\\Users\\jpeacock\\OneDrive - DOI\\MTData\\CL2021\\archive\\to_dmc\\1Z_CL302__FQE_2022_07_10T00_59_58.mseed\u001b[0m\n",
      "\u001b[1m2025-04-02T11:42:01.454675-0700 | INFO | mth5.io.conversion | split_ms_to_days | Wrote miniseed file to: c:\\Users\\jpeacock\\OneDrive - DOI\\MTData\\CL2021\\archive\\to_dmc\\1Z_CL302__FFN_2022_07_10T00_59_58.mseed\u001b[0m\n",
      "\u001b[1m2025-04-02T11:42:01.657034-0700 | INFO | mth5.io.conversion | split_ms_to_days | Wrote miniseed file to: c:\\Users\\jpeacock\\OneDrive - DOI\\MTData\\CL2021\\archive\\to_dmc\\1Z_CL302__FFE_2022_07_10T00_59_58.mseed\u001b[0m\n",
      "\u001b[1m2025-04-02T11:42:01.852798-0700 | INFO | mth5.io.conversion | split_ms_to_days | Wrote miniseed file to: c:\\Users\\jpeacock\\OneDrive - DOI\\MTData\\CL2021\\archive\\to_dmc\\1Z_CL302__FFZ_2022_07_10T00_59_58.mseed\u001b[0m\n",
      "\u001b[1m2025-04-02T11:42:09.500957-0700 | INFO | mth5.io.conversion | split_ms_to_days | Wrote miniseed file to: c:\\Users\\jpeacock\\OneDrive - DOI\\MTData\\CL2021\\archive\\to_dmc\\1Z_CL302__CQN_2022_07_10T01_09_58.mseed\u001b[0m\n",
      "\u001b[1m2025-04-02T11:42:09.915544-0700 | INFO | mth5.io.conversion | split_ms_to_days | Wrote miniseed file to: c:\\Users\\jpeacock\\OneDrive - DOI\\MTData\\CL2021\\archive\\to_dmc\\1Z_CL302__CQE_2022_07_10T01_09_58.mseed\u001b[0m\n",
      "\u001b[1m2025-04-02T11:42:10.351395-0700 | INFO | mth5.io.conversion | split_ms_to_days | Wrote miniseed file to: c:\\Users\\jpeacock\\OneDrive - DOI\\MTData\\CL2021\\archive\\to_dmc\\1Z_CL302__CFN_2022_07_10T01_09_58.mseed\u001b[0m\n",
      "\u001b[1m2025-04-02T11:42:10.797733-0700 | INFO | mth5.io.conversion | split_ms_to_days | Wrote miniseed file to: c:\\Users\\jpeacock\\OneDrive - DOI\\MTData\\CL2021\\archive\\to_dmc\\1Z_CL302__CFE_2022_07_10T01_09_58.mseed\u001b[0m\n",
      "\u001b[1m2025-04-02T11:42:11.233753-0700 | INFO | mth5.io.conversion | split_ms_to_days | Wrote miniseed file to: c:\\Users\\jpeacock\\OneDrive - DOI\\MTData\\CL2021\\archive\\to_dmc\\1Z_CL302__CFZ_2022_07_10T01_09_58.mseed\u001b[0m\n",
      "\u001b[1m2025-04-02T11:42:14.911501-0700 | INFO | mth5.timeseries.run_ts | _align_channels | Channels do not have a common end, using latest: 2022-07-10T07:09:41.998535156\u001b[0m\n",
      "\u001b[33m\u001b[1m2025-04-02T11:42:17.587593-0700 | WARNING | mth5.timeseries.run_ts | validate_metadata | end time of dataset 2022-07-10T07:09:41.998291015+00:00 does not match metadata end 2022-07-10T07:09:41.998535156+00:00 updating metatdata value to 2022-07-10T07:09:41.998291015+00:00\u001b[0m\n"
     ]
    },
    {
     "name": "stderr",
     "output_type": "stream",
     "text": [
      "C:\\Users\\jpeacock\\OneDrive - DOI\\Documents\\GitHub\\mth5\\mth5\\timeseries\\channel_ts.py:1524: RuntimeWarning: invalid value encountered in cast\n",
      "  obspy_trace = Trace(self.ts.astype(encoding_dict[encoding]))\n"
     ]
    },
    {
     "name": "stdout",
     "output_type": "stream",
     "text": [
      "\u001b[1m2025-04-02T11:42:18.362617-0700 | INFO | mth5.io.conversion | split_ms_to_days | Wrote miniseed file to: c:\\Users\\jpeacock\\OneDrive - DOI\\MTData\\CL2021\\archive\\to_dmc\\1Z_CL302__FQN_2022_07_10T06_59_58.mseed\u001b[0m\n",
      "\u001b[1m2025-04-02T11:42:18.577646-0700 | INFO | mth5.io.conversion | split_ms_to_days | Wrote miniseed file to: c:\\Users\\jpeacock\\OneDrive - DOI\\MTData\\CL2021\\archive\\to_dmc\\1Z_CL302__FQE_2022_07_10T06_59_58.mseed\u001b[0m\n",
      "\u001b[1m2025-04-02T11:42:18.821222-0700 | INFO | mth5.io.conversion | split_ms_to_days | Wrote miniseed file to: c:\\Users\\jpeacock\\OneDrive - DOI\\MTData\\CL2021\\archive\\to_dmc\\1Z_CL302__FFN_2022_07_10T06_59_58.mseed\u001b[0m\n",
      "\u001b[1m2025-04-02T11:42:19.024254-0700 | INFO | mth5.io.conversion | split_ms_to_days | Wrote miniseed file to: c:\\Users\\jpeacock\\OneDrive - DOI\\MTData\\CL2021\\archive\\to_dmc\\1Z_CL302__FFE_2022_07_10T06_59_58.mseed\u001b[0m\n",
      "\u001b[1m2025-04-02T11:42:19.231406-0700 | INFO | mth5.io.conversion | split_ms_to_days | Wrote miniseed file to: c:\\Users\\jpeacock\\OneDrive - DOI\\MTData\\CL2021\\archive\\to_dmc\\1Z_CL302__FFZ_2022_07_10T06_59_58.mseed\u001b[0m\n",
      "\u001b[1m2025-04-02T11:42:26.817322-0700 | INFO | mth5.io.conversion | split_ms_to_days | Wrote miniseed file to: c:\\Users\\jpeacock\\OneDrive - DOI\\MTData\\CL2021\\archive\\to_dmc\\1Z_CL302__CQN_2022_07_10T07_09_58.mseed\u001b[0m\n",
      "\u001b[1m2025-04-02T11:42:27.270591-0700 | INFO | mth5.io.conversion | split_ms_to_days | Wrote miniseed file to: c:\\Users\\jpeacock\\OneDrive - DOI\\MTData\\CL2021\\archive\\to_dmc\\1Z_CL302__CQE_2022_07_10T07_09_58.mseed\u001b[0m\n",
      "\u001b[1m2025-04-02T11:42:27.705611-0700 | INFO | mth5.io.conversion | split_ms_to_days | Wrote miniseed file to: c:\\Users\\jpeacock\\OneDrive - DOI\\MTData\\CL2021\\archive\\to_dmc\\1Z_CL302__CFN_2022_07_10T07_09_58.mseed\u001b[0m\n",
      "\u001b[1m2025-04-02T11:42:28.146814-0700 | INFO | mth5.io.conversion | split_ms_to_days | Wrote miniseed file to: c:\\Users\\jpeacock\\OneDrive - DOI\\MTData\\CL2021\\archive\\to_dmc\\1Z_CL302__CFE_2022_07_10T07_09_58.mseed\u001b[0m\n",
      "\u001b[1m2025-04-02T11:42:28.587050-0700 | INFO | mth5.io.conversion | split_ms_to_days | Wrote miniseed file to: c:\\Users\\jpeacock\\OneDrive - DOI\\MTData\\CL2021\\archive\\to_dmc\\1Z_CL302__CFZ_2022_07_10T07_09_58.mseed\u001b[0m\n",
      "\u001b[1m2025-04-02T11:42:32.434426-0700 | INFO | mth5.timeseries.run_ts | _align_channels | Channels do not have a common end, using latest: 2022-07-10T13:09:41.998535156\u001b[0m\n",
      "\u001b[33m\u001b[1m2025-04-02T11:42:35.243788-0700 | WARNING | mth5.timeseries.run_ts | validate_metadata | end time of dataset 2022-07-10T13:09:41.998291015+00:00 does not match metadata end 2022-07-10T13:09:41.998535156+00:00 updating metatdata value to 2022-07-10T13:09:41.998291015+00:00\u001b[0m\n"
     ]
    },
    {
     "name": "stderr",
     "output_type": "stream",
     "text": [
      "C:\\Users\\jpeacock\\OneDrive - DOI\\Documents\\GitHub\\mth5\\mth5\\timeseries\\channel_ts.py:1524: RuntimeWarning: invalid value encountered in cast\n",
      "  obspy_trace = Trace(self.ts.astype(encoding_dict[encoding]))\n"
     ]
    },
    {
     "name": "stdout",
     "output_type": "stream",
     "text": [
      "\u001b[1m2025-04-02T11:42:35.984841-0700 | INFO | mth5.io.conversion | split_ms_to_days | Wrote miniseed file to: c:\\Users\\jpeacock\\OneDrive - DOI\\MTData\\CL2021\\archive\\to_dmc\\1Z_CL302__FQN_2022_07_10T12_59_58.mseed\u001b[0m\n",
      "\u001b[1m2025-04-02T11:42:36.174978-0700 | INFO | mth5.io.conversion | split_ms_to_days | Wrote miniseed file to: c:\\Users\\jpeacock\\OneDrive - DOI\\MTData\\CL2021\\archive\\to_dmc\\1Z_CL302__FQE_2022_07_10T12_59_58.mseed\u001b[0m\n",
      "\u001b[1m2025-04-02T11:42:36.385115-0700 | INFO | mth5.io.conversion | split_ms_to_days | Wrote miniseed file to: c:\\Users\\jpeacock\\OneDrive - DOI\\MTData\\CL2021\\archive\\to_dmc\\1Z_CL302__FFN_2022_07_10T12_59_58.mseed\u001b[0m\n",
      "\u001b[1m2025-04-02T11:42:36.586209-0700 | INFO | mth5.io.conversion | split_ms_to_days | Wrote miniseed file to: c:\\Users\\jpeacock\\OneDrive - DOI\\MTData\\CL2021\\archive\\to_dmc\\1Z_CL302__FFE_2022_07_10T12_59_58.mseed\u001b[0m\n",
      "\u001b[1m2025-04-02T11:42:36.812252-0700 | INFO | mth5.io.conversion | split_ms_to_days | Wrote miniseed file to: c:\\Users\\jpeacock\\OneDrive - DOI\\MTData\\CL2021\\archive\\to_dmc\\1Z_CL302__FFZ_2022_07_10T12_59_58.mseed\u001b[0m\n",
      "\u001b[1m2025-04-02T11:42:43.033265-0700 | INFO | mth5.timeseries.run_ts | _align_channels | Channels do not have a common end, using latest: 2022-07-10T18:04:42.000000000\u001b[0m\n",
      "\u001b[1m2025-04-02T11:42:45.664990-0700 | INFO | mth5.io.conversion | split_ms_to_days | Wrote miniseed file to: c:\\Users\\jpeacock\\OneDrive - DOI\\MTData\\CL2021\\archive\\to_dmc\\1Z_CL302__CQN_2022_07_10T13_09_58.mseed\u001b[0m\n",
      "\u001b[1m2025-04-02T11:42:46.016937-0700 | INFO | mth5.io.conversion | split_ms_to_days | Wrote miniseed file to: c:\\Users\\jpeacock\\OneDrive - DOI\\MTData\\CL2021\\archive\\to_dmc\\1Z_CL302__CQE_2022_07_10T13_09_58.mseed\u001b[0m\n",
      "\u001b[1m2025-04-02T11:42:46.396906-0700 | INFO | mth5.io.conversion | split_ms_to_days | Wrote miniseed file to: c:\\Users\\jpeacock\\OneDrive - DOI\\MTData\\CL2021\\archive\\to_dmc\\1Z_CL302__CFN_2022_07_10T13_09_58.mseed\u001b[0m\n",
      "\u001b[1m2025-04-02T11:42:46.768273-0700 | INFO | mth5.io.conversion | split_ms_to_days | Wrote miniseed file to: c:\\Users\\jpeacock\\OneDrive - DOI\\MTData\\CL2021\\archive\\to_dmc\\1Z_CL302__CFE_2022_07_10T13_09_58.mseed\u001b[0m\n",
      "\u001b[1m2025-04-02T11:42:47.155520-0700 | INFO | mth5.io.conversion | split_ms_to_days | Wrote miniseed file to: c:\\Users\\jpeacock\\OneDrive - DOI\\MTData\\CL2021\\archive\\to_dmc\\1Z_CL302__CFZ_2022_07_10T13_09_58.mseed\u001b[0m\n",
      "\u001b[1m2025-04-02T11:42:48.311416-0700 | INFO | mth5.mth5 | close_mth5 | Flushing and closing c:\\Users\\jpeacock\\OneDrive - DOI\\MTData\\CL2021\\archive\\cl302.h5\u001b[0m\n",
      "\u001b[33m\u001b[1m2025-04-02T11:42:48.318415-0700 | WARNING | mt_metadata.timeseries.stationxml.xml_station_mt_station | mt_to_xml | Station.geographic_name is None, using Station.id = cl302.Check StationXML site.name.\u001b[0m\n",
      "\u001b[1m2025-04-02T11:42:48.400039-0700 | INFO | mt_metadata.timeseries.filters.channel_response | to_obspy | total sensitivity 104063415757.0512 != total gain 1048576000.000055. Using total_gain.\u001b[0m\n",
      "\u001b[1m2025-04-02T11:42:48.432040-0700 | INFO | mt_metadata.timeseries.filters.channel_response | to_obspy | total sensitivity 104064067310.72034 != total gain 1048576000.000055. Using total_gain.\u001b[0m\n",
      "\u001b[1m2025-04-02T11:42:48.460383-0700 | INFO | mt_metadata.timeseries.filters.channel_response | to_obspy | total sensitivity 104852080647.21446 != total gain 1048576000.000055. Using total_gain.\u001b[0m\n",
      "\u001b[1m2025-04-02T11:42:48.562949-0700 | INFO | mt_metadata.timeseries.filters.channel_response | to_obspy | total sensitivity 104063415757.0512 != total gain 1048576000.000055. Using total_gain.\u001b[0m\n",
      "\u001b[1m2025-04-02T11:42:48.591956-0700 | INFO | mt_metadata.timeseries.filters.channel_response | to_obspy | total sensitivity 104064067310.72034 != total gain 1048576000.000055. Using total_gain.\u001b[0m\n",
      "\u001b[1m2025-04-02T11:42:48.623969-0700 | INFO | mt_metadata.timeseries.filters.channel_response | to_obspy | total sensitivity 104852080647.21446 != total gain 1048576000.000055. Using total_gain.\u001b[0m\n",
      "\u001b[1m2025-04-02T11:42:48.722547-0700 | INFO | mt_metadata.timeseries.filters.channel_response | to_obspy | total sensitivity 104063415757.0512 != total gain 1048576000.000055. Using total_gain.\u001b[0m\n",
      "\u001b[1m2025-04-02T11:42:48.750190-0700 | INFO | mt_metadata.timeseries.filters.channel_response | to_obspy | total sensitivity 104064067310.72034 != total gain 1048576000.000055. Using total_gain.\u001b[0m\n",
      "\u001b[1m2025-04-02T11:42:48.781160-0700 | INFO | mt_metadata.timeseries.filters.channel_response | to_obspy | total sensitivity 104852080647.21446 != total gain 1048576000.000055. Using total_gain.\u001b[0m\n",
      "\u001b[1m2025-04-02T11:42:48.877682-0700 | INFO | mt_metadata.timeseries.filters.channel_response | to_obspy | total sensitivity 104063415757.0512 != total gain 1048576000.000055. Using total_gain.\u001b[0m\n",
      "\u001b[1m2025-04-02T11:42:48.917717-0700 | INFO | mt_metadata.timeseries.filters.channel_response | to_obspy | total sensitivity 104064067310.72034 != total gain 1048576000.000055. Using total_gain.\u001b[0m\n",
      "\u001b[1m2025-04-02T11:42:48.952320-0700 | INFO | mt_metadata.timeseries.filters.channel_response | to_obspy | total sensitivity 104852080647.21446 != total gain 1048576000.000055. Using total_gain.\u001b[0m\n",
      "\u001b[1m2025-04-02T11:42:49.052936-0700 | INFO | mt_metadata.timeseries.filters.channel_response | to_obspy | total sensitivity 104063415757.0512 != total gain 1048576000.000055. Using total_gain.\u001b[0m\n",
      "\u001b[1m2025-04-02T11:42:49.080938-0700 | INFO | mt_metadata.timeseries.filters.channel_response | to_obspy | total sensitivity 104064067310.72034 != total gain 1048576000.000055. Using total_gain.\u001b[0m\n",
      "\u001b[1m2025-04-02T11:42:49.109937-0700 | INFO | mt_metadata.timeseries.filters.channel_response | to_obspy | total sensitivity 104852080647.21446 != total gain 1048576000.000055. Using total_gain.\u001b[0m\n",
      "\u001b[1m2025-04-02T11:42:49.205459-0700 | INFO | mt_metadata.timeseries.filters.channel_response | to_obspy | total sensitivity 104063415757.0512 != total gain 1048576000.000055. Using total_gain.\u001b[0m\n",
      "\u001b[1m2025-04-02T11:42:49.235466-0700 | INFO | mt_metadata.timeseries.filters.channel_response | to_obspy | total sensitivity 104064067310.72034 != total gain 1048576000.000055. Using total_gain.\u001b[0m\n",
      "\u001b[1m2025-04-02T11:42:49.265074-0700 | INFO | mt_metadata.timeseries.filters.channel_response | to_obspy | total sensitivity 104852080647.21446 != total gain 1048576000.000055. Using total_gain.\u001b[0m\n",
      "\u001b[1m2025-04-02T11:42:49.358693-0700 | INFO | mt_metadata.timeseries.filters.channel_response | to_obspy | total sensitivity 104063415757.0512 != total gain 1048576000.000055. Using total_gain.\u001b[0m\n",
      "\u001b[1m2025-04-02T11:42:49.388661-0700 | INFO | mt_metadata.timeseries.filters.channel_response | to_obspy | total sensitivity 104064067310.72034 != total gain 1048576000.000055. Using total_gain.\u001b[0m\n",
      "\u001b[1m2025-04-02T11:42:49.420691-0700 | INFO | mt_metadata.timeseries.filters.channel_response | to_obspy | total sensitivity 104852080647.21446 != total gain 1048576000.000055. Using total_gain.\u001b[0m\n",
      "\u001b[1m2025-04-02T11:42:49.511275-0700 | INFO | mt_metadata.timeseries.filters.channel_response | to_obspy | total sensitivity 104063415757.0512 != total gain 1048576000.000055. Using total_gain.\u001b[0m\n",
      "\u001b[1m2025-04-02T11:42:49.538281-0700 | INFO | mt_metadata.timeseries.filters.channel_response | to_obspy | total sensitivity 104064067310.72034 != total gain 1048576000.000055. Using total_gain.\u001b[0m\n",
      "\u001b[1m2025-04-02T11:42:49.567892-0700 | INFO | mt_metadata.timeseries.filters.channel_response | to_obspy | total sensitivity 104852080647.21446 != total gain 1048576000.000055. Using total_gain.\u001b[0m\n",
      "\u001b[1m2025-04-02T11:42:49.603858-0700 | INFO | mth5.io.conversion | convert_mth5_to_ms_stationxml | Wrote StationXML to c:\\Users\\jpeacock\\OneDrive - DOI\\MTData\\CL2021\\archive\\to_dmc\\cl302.xml\u001b[0m\n",
      "\u001b[33m\u001b[1m2025-04-02T11:42:50.936813-0700 | WARNING | mt_metadata.timeseries.station | remove_run | Could not find cl303a to remove.\u001b[0m\n",
      "\u001b[1m2025-04-02T11:42:54.335332-0700 | INFO | mth5.io.conversion | split_ms_to_days | Wrote miniseed file to: c:\\Users\\jpeacock\\OneDrive - DOI\\MTData\\CL2021\\archive\\to_dmc\\1Z_CL303__LQN_2022_07_10T01_34_58.mseed\u001b[0m\n",
      "\u001b[1m2025-04-02T11:42:54.343303-0700 | INFO | mth5.io.conversion | split_ms_to_days | Wrote miniseed file to: c:\\Users\\jpeacock\\OneDrive - DOI\\MTData\\CL2021\\archive\\to_dmc\\1Z_CL303__LQE_2022_07_10T01_34_58.mseed\u001b[0m\n",
      "\u001b[1m2025-04-02T11:42:54.351304-0700 | INFO | mth5.io.conversion | split_ms_to_days | Wrote miniseed file to: c:\\Users\\jpeacock\\OneDrive - DOI\\MTData\\CL2021\\archive\\to_dmc\\1Z_CL303__LFN_2022_07_10T01_34_58.mseed\u001b[0m\n",
      "\u001b[1m2025-04-02T11:42:54.359819-0700 | INFO | mth5.io.conversion | split_ms_to_days | Wrote miniseed file to: c:\\Users\\jpeacock\\OneDrive - DOI\\MTData\\CL2021\\archive\\to_dmc\\1Z_CL303__LFE_2022_07_10T01_34_58.mseed\u001b[0m\n",
      "\u001b[1m2025-04-02T11:42:54.372819-0700 | INFO | mth5.io.conversion | split_ms_to_days | Wrote miniseed file to: c:\\Users\\jpeacock\\OneDrive - DOI\\MTData\\CL2021\\archive\\to_dmc\\1Z_CL303__LFZ_2022_07_10T01_34_58.mseed\u001b[0m\n",
      "\u001b[1m2025-04-02T11:43:01.376695-0700 | INFO | mth5.io.conversion | split_ms_to_days | Wrote miniseed file to: c:\\Users\\jpeacock\\OneDrive - DOI\\MTData\\CL2021\\archive\\to_dmc\\1Z_CL303__CQN_2022_07_10T01_34_58.mseed\u001b[0m\n",
      "\u001b[1m2025-04-02T11:43:01.776355-0700 | INFO | mth5.io.conversion | split_ms_to_days | Wrote miniseed file to: c:\\Users\\jpeacock\\OneDrive - DOI\\MTData\\CL2021\\archive\\to_dmc\\1Z_CL303__CQE_2022_07_10T01_34_58.mseed\u001b[0m\n",
      "\u001b[1m2025-04-02T11:43:02.198468-0700 | INFO | mth5.io.conversion | split_ms_to_days | Wrote miniseed file to: c:\\Users\\jpeacock\\OneDrive - DOI\\MTData\\CL2021\\archive\\to_dmc\\1Z_CL303__CFN_2022_07_10T01_34_58.mseed\u001b[0m\n",
      "\u001b[1m2025-04-02T11:43:02.604448-0700 | INFO | mth5.io.conversion | split_ms_to_days | Wrote miniseed file to: c:\\Users\\jpeacock\\OneDrive - DOI\\MTData\\CL2021\\archive\\to_dmc\\1Z_CL303__CFE_2022_07_10T01_34_58.mseed\u001b[0m\n",
      "\u001b[1m2025-04-02T11:43:03.039591-0700 | INFO | mth5.io.conversion | split_ms_to_days | Wrote miniseed file to: c:\\Users\\jpeacock\\OneDrive - DOI\\MTData\\CL2021\\archive\\to_dmc\\1Z_CL303__CFZ_2022_07_10T01_34_58.mseed\u001b[0m\n",
      "\u001b[1m2025-04-02T11:43:06.503576-0700 | INFO | mth5.timeseries.run_ts | _align_channels | Channels do not have a common end, using latest: 2022-07-10T07:09:41.998779296\u001b[0m\n",
      "\u001b[33m\u001b[1m2025-04-02T11:43:08.657972-0700 | WARNING | mth5.timeseries.run_ts | validate_metadata | end time of dataset 2022-07-10T07:09:41.998535156+00:00 does not match metadata end 2022-07-10T07:09:41.998779296+00:00 updating metatdata value to 2022-07-10T07:09:41.998535156+00:00\u001b[0m\n"
     ]
    },
    {
     "name": "stderr",
     "output_type": "stream",
     "text": [
      "C:\\Users\\jpeacock\\OneDrive - DOI\\Documents\\GitHub\\mth5\\mth5\\timeseries\\channel_ts.py:1524: RuntimeWarning: invalid value encountered in cast\n",
      "  obspy_trace = Trace(self.ts.astype(encoding_dict[encoding]))\n"
     ]
    },
    {
     "name": "stdout",
     "output_type": "stream",
     "text": [
      "\u001b[1m2025-04-02T11:43:09.458821-0700 | INFO | mth5.io.conversion | split_ms_to_days | Wrote miniseed file to: c:\\Users\\jpeacock\\OneDrive - DOI\\MTData\\CL2021\\archive\\to_dmc\\1Z_CL303__FQN_2022_07_10T06_59_58.mseed\u001b[0m\n",
      "\u001b[1m2025-04-02T11:43:09.651864-0700 | INFO | mth5.io.conversion | split_ms_to_days | Wrote miniseed file to: c:\\Users\\jpeacock\\OneDrive - DOI\\MTData\\CL2021\\archive\\to_dmc\\1Z_CL303__FQE_2022_07_10T06_59_58.mseed\u001b[0m\n",
      "\u001b[1m2025-04-02T11:43:09.872744-0700 | INFO | mth5.io.conversion | split_ms_to_days | Wrote miniseed file to: c:\\Users\\jpeacock\\OneDrive - DOI\\MTData\\CL2021\\archive\\to_dmc\\1Z_CL303__FFN_2022_07_10T06_59_58.mseed\u001b[0m\n",
      "\u001b[1m2025-04-02T11:43:10.101768-0700 | INFO | mth5.io.conversion | split_ms_to_days | Wrote miniseed file to: c:\\Users\\jpeacock\\OneDrive - DOI\\MTData\\CL2021\\archive\\to_dmc\\1Z_CL303__FFE_2022_07_10T06_59_58.mseed\u001b[0m\n",
      "\u001b[1m2025-04-02T11:43:10.299805-0700 | INFO | mth5.io.conversion | split_ms_to_days | Wrote miniseed file to: c:\\Users\\jpeacock\\OneDrive - DOI\\MTData\\CL2021\\archive\\to_dmc\\1Z_CL303__FFZ_2022_07_10T06_59_58.mseed\u001b[0m\n",
      "\u001b[1m2025-04-02T11:43:17.619451-0700 | INFO | mth5.io.conversion | split_ms_to_days | Wrote miniseed file to: c:\\Users\\jpeacock\\OneDrive - DOI\\MTData\\CL2021\\archive\\to_dmc\\1Z_CL303__CQN_2022_07_10T07_09_58.mseed\u001b[0m\n",
      "\u001b[1m2025-04-02T11:43:18.046025-0700 | INFO | mth5.io.conversion | split_ms_to_days | Wrote miniseed file to: c:\\Users\\jpeacock\\OneDrive - DOI\\MTData\\CL2021\\archive\\to_dmc\\1Z_CL303__CQE_2022_07_10T07_09_58.mseed\u001b[0m\n",
      "\u001b[1m2025-04-02T11:43:18.479639-0700 | INFO | mth5.io.conversion | split_ms_to_days | Wrote miniseed file to: c:\\Users\\jpeacock\\OneDrive - DOI\\MTData\\CL2021\\archive\\to_dmc\\1Z_CL303__CFN_2022_07_10T07_09_58.mseed\u001b[0m\n",
      "\u001b[1m2025-04-02T11:43:18.939132-0700 | INFO | mth5.io.conversion | split_ms_to_days | Wrote miniseed file to: c:\\Users\\jpeacock\\OneDrive - DOI\\MTData\\CL2021\\archive\\to_dmc\\1Z_CL303__CFE_2022_07_10T07_09_58.mseed\u001b[0m\n",
      "\u001b[1m2025-04-02T11:43:19.688628-0700 | INFO | mth5.io.conversion | split_ms_to_days | Wrote miniseed file to: c:\\Users\\jpeacock\\OneDrive - DOI\\MTData\\CL2021\\archive\\to_dmc\\1Z_CL303__CFZ_2022_07_10T07_09_58.mseed\u001b[0m\n",
      "\u001b[1m2025-04-02T11:43:24.506065-0700 | INFO | mth5.timeseries.run_ts | _align_channels | Channels do not have a common end, using latest: 2022-07-10T13:09:41.999023437\u001b[0m\n",
      "\u001b[33m\u001b[1m2025-04-02T11:43:27.518429-0700 | WARNING | mth5.timeseries.run_ts | validate_metadata | end time of dataset 2022-07-10T13:09:41.998779296+00:00 does not match metadata end 2022-07-10T13:09:41.999023437+00:00 updating metatdata value to 2022-07-10T13:09:41.998779296+00:00\u001b[0m\n"
     ]
    },
    {
     "name": "stderr",
     "output_type": "stream",
     "text": [
      "C:\\Users\\jpeacock\\OneDrive - DOI\\Documents\\GitHub\\mth5\\mth5\\timeseries\\channel_ts.py:1524: RuntimeWarning: invalid value encountered in cast\n",
      "  obspy_trace = Trace(self.ts.astype(encoding_dict[encoding]))\n"
     ]
    },
    {
     "name": "stdout",
     "output_type": "stream",
     "text": [
      "\u001b[1m2025-04-02T11:43:28.356847-0700 | INFO | mth5.io.conversion | split_ms_to_days | Wrote miniseed file to: c:\\Users\\jpeacock\\OneDrive - DOI\\MTData\\CL2021\\archive\\to_dmc\\1Z_CL303__FQN_2022_07_10T12_59_58.mseed\u001b[0m\n",
      "\u001b[1m2025-04-02T11:43:28.589837-0700 | INFO | mth5.io.conversion | split_ms_to_days | Wrote miniseed file to: c:\\Users\\jpeacock\\OneDrive - DOI\\MTData\\CL2021\\archive\\to_dmc\\1Z_CL303__FQE_2022_07_10T12_59_58.mseed\u001b[0m\n",
      "\u001b[1m2025-04-02T11:43:28.790926-0700 | INFO | mth5.io.conversion | split_ms_to_days | Wrote miniseed file to: c:\\Users\\jpeacock\\OneDrive - DOI\\MTData\\CL2021\\archive\\to_dmc\\1Z_CL303__FFN_2022_07_10T12_59_58.mseed\u001b[0m\n",
      "\u001b[1m2025-04-02T11:43:28.997723-0700 | INFO | mth5.io.conversion | split_ms_to_days | Wrote miniseed file to: c:\\Users\\jpeacock\\OneDrive - DOI\\MTData\\CL2021\\archive\\to_dmc\\1Z_CL303__FFE_2022_07_10T12_59_58.mseed\u001b[0m\n",
      "\u001b[1m2025-04-02T11:43:29.209791-0700 | INFO | mth5.io.conversion | split_ms_to_days | Wrote miniseed file to: c:\\Users\\jpeacock\\OneDrive - DOI\\MTData\\CL2021\\archive\\to_dmc\\1Z_CL303__FFZ_2022_07_10T12_59_58.mseed\u001b[0m\n",
      "\u001b[1m2025-04-02T11:43:36.536725-0700 | INFO | mth5.io.conversion | split_ms_to_days | Wrote miniseed file to: c:\\Users\\jpeacock\\OneDrive - DOI\\MTData\\CL2021\\archive\\to_dmc\\1Z_CL303__CQN_2022_07_10T13_09_58.mseed\u001b[0m\n",
      "\u001b[1m2025-04-02T11:43:36.949584-0700 | INFO | mth5.io.conversion | split_ms_to_days | Wrote miniseed file to: c:\\Users\\jpeacock\\OneDrive - DOI\\MTData\\CL2021\\archive\\to_dmc\\1Z_CL303__CQE_2022_07_10T13_09_58.mseed\u001b[0m\n",
      "\u001b[1m2025-04-02T11:43:37.385494-0700 | INFO | mth5.io.conversion | split_ms_to_days | Wrote miniseed file to: c:\\Users\\jpeacock\\OneDrive - DOI\\MTData\\CL2021\\archive\\to_dmc\\1Z_CL303__CFN_2022_07_10T13_09_58.mseed\u001b[0m\n",
      "\u001b[1m2025-04-02T11:43:37.824351-0700 | INFO | mth5.io.conversion | split_ms_to_days | Wrote miniseed file to: c:\\Users\\jpeacock\\OneDrive - DOI\\MTData\\CL2021\\archive\\to_dmc\\1Z_CL303__CFE_2022_07_10T13_09_58.mseed\u001b[0m\n",
      "\u001b[1m2025-04-02T11:43:38.255710-0700 | INFO | mth5.io.conversion | split_ms_to_days | Wrote miniseed file to: c:\\Users\\jpeacock\\OneDrive - DOI\\MTData\\CL2021\\archive\\to_dmc\\1Z_CL303__CFZ_2022_07_10T13_09_58.mseed\u001b[0m\n",
      "\u001b[1m2025-04-02T11:43:39.373727-0700 | INFO | mth5.mth5 | close_mth5 | Flushing and closing c:\\Users\\jpeacock\\OneDrive - DOI\\MTData\\CL2021\\archive\\cl303.h5\u001b[0m\n",
      "\u001b[33m\u001b[1m2025-04-02T11:43:39.376737-0700 | WARNING | mt_metadata.timeseries.stationxml.xml_station_mt_station | mt_to_xml | Station.geographic_name is None, using Station.id = cl303.Check StationXML site.name.\u001b[0m\n",
      "\u001b[1m2025-04-02T11:43:39.478841-0700 | INFO | mt_metadata.timeseries.filters.channel_response | to_obspy | total sensitivity 105384854631.2247 != total gain 1048576000.000055. Using total_gain.\u001b[0m\n",
      "\u001b[1m2025-04-02T11:43:39.523349-0700 | INFO | mt_metadata.timeseries.filters.channel_response | to_obspy | total sensitivity 105012851743.1351 != total gain 1048576000.000055. Using total_gain.\u001b[0m\n",
      "\u001b[1m2025-04-02T11:43:39.561347-0700 | INFO | mt_metadata.timeseries.filters.channel_response | to_obspy | total sensitivity 104693940307.89154 != total gain 1048576000.000055. Using total_gain.\u001b[0m\n",
      "\u001b[1m2025-04-02T11:43:39.677812-0700 | INFO | mt_metadata.timeseries.filters.channel_response | to_obspy | total sensitivity 105384854631.2247 != total gain 1048576000.000055. Using total_gain.\u001b[0m\n",
      "\u001b[1m2025-04-02T11:43:39.715320-0700 | INFO | mt_metadata.timeseries.filters.channel_response | to_obspy | total sensitivity 105012851743.1351 != total gain 1048576000.000055. Using total_gain.\u001b[0m\n",
      "\u001b[1m2025-04-02T11:43:39.748324-0700 | INFO | mt_metadata.timeseries.filters.channel_response | to_obspy | total sensitivity 104693940307.89154 != total gain 1048576000.000055. Using total_gain.\u001b[0m\n",
      "\u001b[1m2025-04-02T11:43:39.850853-0700 | INFO | mt_metadata.timeseries.filters.channel_response | to_obspy | total sensitivity 105384854631.2247 != total gain 1048576000.000055. Using total_gain.\u001b[0m\n",
      "\u001b[1m2025-04-02T11:43:39.880855-0700 | INFO | mt_metadata.timeseries.filters.channel_response | to_obspy | total sensitivity 105012851743.1351 != total gain 1048576000.000055. Using total_gain.\u001b[0m\n",
      "\u001b[1m2025-04-02T11:43:39.912362-0700 | INFO | mt_metadata.timeseries.filters.channel_response | to_obspy | total sensitivity 104693940307.89154 != total gain 1048576000.000055. Using total_gain.\u001b[0m\n",
      "\u001b[1m2025-04-02T11:43:40.009106-0700 | INFO | mt_metadata.timeseries.filters.channel_response | to_obspy | total sensitivity 105384854631.2247 != total gain 1048576000.000055. Using total_gain.\u001b[0m\n",
      "\u001b[1m2025-04-02T11:43:40.037071-0700 | INFO | mt_metadata.timeseries.filters.channel_response | to_obspy | total sensitivity 105012851743.1351 != total gain 1048576000.000055. Using total_gain.\u001b[0m\n",
      "\u001b[1m2025-04-02T11:43:40.066072-0700 | INFO | mt_metadata.timeseries.filters.channel_response | to_obspy | total sensitivity 104693940307.89154 != total gain 1048576000.000055. Using total_gain.\u001b[0m\n",
      "\u001b[1m2025-04-02T11:43:40.154586-0700 | INFO | mt_metadata.timeseries.filters.channel_response | to_obspy | total sensitivity 105384854631.2247 != total gain 1048576000.000055. Using total_gain.\u001b[0m\n",
      "\u001b[1m2025-04-02T11:43:40.183592-0700 | INFO | mt_metadata.timeseries.filters.channel_response | to_obspy | total sensitivity 105012851743.1351 != total gain 1048576000.000055. Using total_gain.\u001b[0m\n",
      "\u001b[1m2025-04-02T11:43:40.218112-0700 | INFO | mt_metadata.timeseries.filters.channel_response | to_obspy | total sensitivity 104693940307.89154 != total gain 1048576000.000055. Using total_gain.\u001b[0m\n",
      "\u001b[1m2025-04-02T11:43:40.324125-0700 | INFO | mt_metadata.timeseries.filters.channel_response | to_obspy | total sensitivity 105384854631.2247 != total gain 1048576000.000055. Using total_gain.\u001b[0m\n",
      "\u001b[1m2025-04-02T11:43:40.354166-0700 | INFO | mt_metadata.timeseries.filters.channel_response | to_obspy | total sensitivity 105012851743.1351 != total gain 1048576000.000055. Using total_gain.\u001b[0m\n",
      "\u001b[1m2025-04-02T11:43:40.383132-0700 | INFO | mt_metadata.timeseries.filters.channel_response | to_obspy | total sensitivity 104693940307.89154 != total gain 1048576000.000055. Using total_gain.\u001b[0m\n",
      "\u001b[1m2025-04-02T11:43:40.414954-0700 | INFO | mth5.io.conversion | convert_mth5_to_ms_stationxml | Wrote StationXML to c:\\Users\\jpeacock\\OneDrive - DOI\\MTData\\CL2021\\archive\\to_dmc\\cl303.xml\u001b[0m\n",
      "\u001b[33m\u001b[1m2025-04-02T11:43:42.123721-0700 | WARNING | mt_metadata.timeseries.station | remove_run | Could not find cl304a to remove.\u001b[0m\n",
      "\u001b[1m2025-04-02T11:43:45.706547-0700 | INFO | mth5.io.conversion | split_ms_to_days | Wrote miniseed file to: c:\\Users\\jpeacock\\OneDrive - DOI\\MTData\\CL2021\\archive\\to_dmc\\1Z_CL304__LQN_2022_07_10T22_29_58.mseed\u001b[0m\n",
      "\u001b[1m2025-04-02T11:43:45.708545-0700 | INFO | mth5.io.conversion | split_ms_to_days | Wrote miniseed file to: c:\\Users\\jpeacock\\OneDrive - DOI\\MTData\\CL2021\\archive\\to_dmc\\1Z_CL304__LQN_2022_07_11T00_00_00.mseed\u001b[0m\n",
      "\u001b[1m2025-04-02T11:43:45.716543-0700 | INFO | mth5.io.conversion | split_ms_to_days | Wrote miniseed file to: c:\\Users\\jpeacock\\OneDrive - DOI\\MTData\\CL2021\\archive\\to_dmc\\1Z_CL304__LQE_2022_07_10T22_29_58.mseed\u001b[0m\n",
      "\u001b[1m2025-04-02T11:43:45.724547-0700 | INFO | mth5.io.conversion | split_ms_to_days | Wrote miniseed file to: c:\\Users\\jpeacock\\OneDrive - DOI\\MTData\\CL2021\\archive\\to_dmc\\1Z_CL304__LQE_2022_07_11T00_00_00.mseed\u001b[0m\n",
      "\u001b[1m2025-04-02T11:43:45.733581-0700 | INFO | mth5.io.conversion | split_ms_to_days | Wrote miniseed file to: c:\\Users\\jpeacock\\OneDrive - DOI\\MTData\\CL2021\\archive\\to_dmc\\1Z_CL304__LFN_2022_07_10T22_29_58.mseed\u001b[0m\n",
      "\u001b[1m2025-04-02T11:43:45.745552-0700 | INFO | mth5.io.conversion | split_ms_to_days | Wrote miniseed file to: c:\\Users\\jpeacock\\OneDrive - DOI\\MTData\\CL2021\\archive\\to_dmc\\1Z_CL304__LFN_2022_07_11T00_00_00.mseed\u001b[0m\n",
      "\u001b[1m2025-04-02T11:43:45.753546-0700 | INFO | mth5.io.conversion | split_ms_to_days | Wrote miniseed file to: c:\\Users\\jpeacock\\OneDrive - DOI\\MTData\\CL2021\\archive\\to_dmc\\1Z_CL304__LFE_2022_07_10T22_29_58.mseed\u001b[0m\n",
      "\u001b[1m2025-04-02T11:43:45.756549-0700 | INFO | mth5.io.conversion | split_ms_to_days | Wrote miniseed file to: c:\\Users\\jpeacock\\OneDrive - DOI\\MTData\\CL2021\\archive\\to_dmc\\1Z_CL304__LFE_2022_07_11T00_00_00.mseed\u001b[0m\n",
      "\u001b[1m2025-04-02T11:43:45.763546-0700 | INFO | mth5.io.conversion | split_ms_to_days | Wrote miniseed file to: c:\\Users\\jpeacock\\OneDrive - DOI\\MTData\\CL2021\\archive\\to_dmc\\1Z_CL304__LFZ_2022_07_10T22_29_58.mseed\u001b[0m\n",
      "\u001b[1m2025-04-02T11:43:45.773655-0700 | INFO | mth5.io.conversion | split_ms_to_days | Wrote miniseed file to: c:\\Users\\jpeacock\\OneDrive - DOI\\MTData\\CL2021\\archive\\to_dmc\\1Z_CL304__LFZ_2022_07_11T00_00_00.mseed\u001b[0m\n",
      "\u001b[1m2025-04-02T11:43:50.784397-0700 | INFO | mth5.io.conversion | split_ms_to_days | Wrote miniseed file to: c:\\Users\\jpeacock\\OneDrive - DOI\\MTData\\CL2021\\archive\\to_dmc\\1Z_CL304__CQN_2022_07_10T22_29_58.mseed\u001b[0m\n",
      "\u001b[1m2025-04-02T11:43:50.897776-0700 | INFO | mth5.io.conversion | split_ms_to_days | Wrote miniseed file to: c:\\Users\\jpeacock\\OneDrive - DOI\\MTData\\CL2021\\archive\\to_dmc\\1Z_CL304__CQN_2022_07_11T00_00_00.mseed\u001b[0m\n",
      "\u001b[1m2025-04-02T11:43:50.975464-0700 | INFO | mth5.io.conversion | split_ms_to_days | Wrote miniseed file to: c:\\Users\\jpeacock\\OneDrive - DOI\\MTData\\CL2021\\archive\\to_dmc\\1Z_CL304__CQE_2022_07_10T22_29_58.mseed\u001b[0m\n",
      "\u001b[1m2025-04-02T11:43:51.099994-0700 | INFO | mth5.io.conversion | split_ms_to_days | Wrote miniseed file to: c:\\Users\\jpeacock\\OneDrive - DOI\\MTData\\CL2021\\archive\\to_dmc\\1Z_CL304__CQE_2022_07_11T00_00_00.mseed\u001b[0m\n",
      "\u001b[1m2025-04-02T11:43:51.173506-0700 | INFO | mth5.io.conversion | split_ms_to_days | Wrote miniseed file to: c:\\Users\\jpeacock\\OneDrive - DOI\\MTData\\CL2021\\archive\\to_dmc\\1Z_CL304__CFN_2022_07_10T22_29_58.mseed\u001b[0m\n",
      "\u001b[1m2025-04-02T11:43:51.288377-0700 | INFO | mth5.io.conversion | split_ms_to_days | Wrote miniseed file to: c:\\Users\\jpeacock\\OneDrive - DOI\\MTData\\CL2021\\archive\\to_dmc\\1Z_CL304__CFN_2022_07_11T00_00_00.mseed\u001b[0m\n",
      "\u001b[1m2025-04-02T11:43:51.362928-0700 | INFO | mth5.io.conversion | split_ms_to_days | Wrote miniseed file to: c:\\Users\\jpeacock\\OneDrive - DOI\\MTData\\CL2021\\archive\\to_dmc\\1Z_CL304__CFE_2022_07_10T22_29_58.mseed\u001b[0m\n",
      "\u001b[1m2025-04-02T11:43:51.477442-0700 | INFO | mth5.io.conversion | split_ms_to_days | Wrote miniseed file to: c:\\Users\\jpeacock\\OneDrive - DOI\\MTData\\CL2021\\archive\\to_dmc\\1Z_CL304__CFE_2022_07_11T00_00_00.mseed\u001b[0m\n",
      "\u001b[1m2025-04-02T11:43:51.550057-0700 | INFO | mth5.io.conversion | split_ms_to_days | Wrote miniseed file to: c:\\Users\\jpeacock\\OneDrive - DOI\\MTData\\CL2021\\archive\\to_dmc\\1Z_CL304__CFZ_2022_07_10T22_29_58.mseed\u001b[0m\n",
      "\u001b[1m2025-04-02T11:43:51.667212-0700 | INFO | mth5.io.conversion | split_ms_to_days | Wrote miniseed file to: c:\\Users\\jpeacock\\OneDrive - DOI\\MTData\\CL2021\\archive\\to_dmc\\1Z_CL304__CFZ_2022_07_11T00_00_00.mseed\u001b[0m\n",
      "\u001b[1m2025-04-02T11:43:56.693678-0700 | INFO | mth5.timeseries.run_ts | _align_channels | Channels do not have a common end, using latest: 2022-07-11T01:09:41.999512000\u001b[0m\n"
     ]
    },
    {
     "name": "stderr",
     "output_type": "stream",
     "text": [
      "C:\\Users\\jpeacock\\OneDrive - DOI\\Documents\\GitHub\\mth5\\mth5\\timeseries\\channel_ts.py:1524: RuntimeWarning: invalid value encountered in cast\n",
      "  obspy_trace = Trace(self.ts.astype(encoding_dict[encoding]))\n"
     ]
    },
    {
     "name": "stdout",
     "output_type": "stream",
     "text": [
      "\u001b[1m2025-04-02T11:43:59.723856-0700 | INFO | mth5.io.conversion | split_ms_to_days | Wrote miniseed file to: c:\\Users\\jpeacock\\OneDrive - DOI\\MTData\\CL2021\\archive\\to_dmc\\1Z_CL304__FQN_2022_07_11T00_59_58.mseed\u001b[0m\n",
      "\u001b[1m2025-04-02T11:43:59.947890-0700 | INFO | mth5.io.conversion | split_ms_to_days | Wrote miniseed file to: c:\\Users\\jpeacock\\OneDrive - DOI\\MTData\\CL2021\\archive\\to_dmc\\1Z_CL304__FQE_2022_07_11T00_59_58.mseed\u001b[0m\n",
      "\u001b[1m2025-04-02T11:44:00.181936-0700 | INFO | mth5.io.conversion | split_ms_to_days | Wrote miniseed file to: c:\\Users\\jpeacock\\OneDrive - DOI\\MTData\\CL2021\\archive\\to_dmc\\1Z_CL304__FFN_2022_07_11T00_59_58.mseed\u001b[0m\n",
      "\u001b[1m2025-04-02T11:44:00.397993-0700 | INFO | mth5.io.conversion | split_ms_to_days | Wrote miniseed file to: c:\\Users\\jpeacock\\OneDrive - DOI\\MTData\\CL2021\\archive\\to_dmc\\1Z_CL304__FFE_2022_07_11T00_59_58.mseed\u001b[0m\n",
      "\u001b[1m2025-04-02T11:44:00.605763-0700 | INFO | mth5.io.conversion | split_ms_to_days | Wrote miniseed file to: c:\\Users\\jpeacock\\OneDrive - DOI\\MTData\\CL2021\\archive\\to_dmc\\1Z_CL304__FFZ_2022_07_11T00_59_58.mseed\u001b[0m\n",
      "\u001b[1m2025-04-02T11:44:07.818766-0700 | INFO | mth5.timeseries.run_ts | _align_channels | Channels do not have a common end, using latest: 2022-07-11T06:59:41.968750000\u001b[0m\n",
      "\u001b[1m2025-04-02T11:44:11.688535-0700 | INFO | mth5.io.conversion | split_ms_to_days | Wrote miniseed file to: c:\\Users\\jpeacock\\OneDrive - DOI\\MTData\\CL2021\\archive\\to_dmc\\1Z_CL304__CQN_2022_07_11T01_09_58.mseed\u001b[0m\n",
      "\u001b[1m2025-04-02T11:44:12.117631-0700 | INFO | mth5.io.conversion | split_ms_to_days | Wrote miniseed file to: c:\\Users\\jpeacock\\OneDrive - DOI\\MTData\\CL2021\\archive\\to_dmc\\1Z_CL304__CQE_2022_07_11T01_09_58.mseed\u001b[0m\n",
      "\u001b[1m2025-04-02T11:44:12.561104-0700 | INFO | mth5.io.conversion | split_ms_to_days | Wrote miniseed file to: c:\\Users\\jpeacock\\OneDrive - DOI\\MTData\\CL2021\\archive\\to_dmc\\1Z_CL304__CFN_2022_07_11T01_09_58.mseed\u001b[0m\n",
      "\u001b[1m2025-04-02T11:44:12.989565-0700 | INFO | mth5.io.conversion | split_ms_to_days | Wrote miniseed file to: c:\\Users\\jpeacock\\OneDrive - DOI\\MTData\\CL2021\\archive\\to_dmc\\1Z_CL304__CFE_2022_07_11T01_09_58.mseed\u001b[0m\n",
      "\u001b[1m2025-04-02T11:44:13.446538-0700 | INFO | mth5.io.conversion | split_ms_to_days | Wrote miniseed file to: c:\\Users\\jpeacock\\OneDrive - DOI\\MTData\\CL2021\\archive\\to_dmc\\1Z_CL304__CFZ_2022_07_11T01_09_58.mseed\u001b[0m\n",
      "\u001b[1m2025-04-02T11:44:17.090066-0700 | INFO | mth5.timeseries.run_ts | _align_channels | Channels do not have a common end, using latest: 2022-07-11T07:09:41.998535156\u001b[0m\n",
      "\u001b[33m\u001b[1m2025-04-02T11:44:19.581147-0700 | WARNING | mth5.timeseries.run_ts | validate_metadata | end time of dataset 2022-07-11T07:09:41.998291015+00:00 does not match metadata end 2022-07-11T07:09:41.998535156+00:00 updating metatdata value to 2022-07-11T07:09:41.998291015+00:00\u001b[0m\n"
     ]
    },
    {
     "name": "stderr",
     "output_type": "stream",
     "text": [
      "C:\\Users\\jpeacock\\OneDrive - DOI\\Documents\\GitHub\\mth5\\mth5\\timeseries\\channel_ts.py:1524: RuntimeWarning: invalid value encountered in cast\n",
      "  obspy_trace = Trace(self.ts.astype(encoding_dict[encoding]))\n"
     ]
    },
    {
     "name": "stdout",
     "output_type": "stream",
     "text": [
      "\u001b[1m2025-04-02T11:44:20.296509-0700 | INFO | mth5.io.conversion | split_ms_to_days | Wrote miniseed file to: c:\\Users\\jpeacock\\OneDrive - DOI\\MTData\\CL2021\\archive\\to_dmc\\1Z_CL304__FQN_2022_07_11T06_59_58.mseed\u001b[0m\n",
      "\u001b[1m2025-04-02T11:44:20.482754-0700 | INFO | mth5.io.conversion | split_ms_to_days | Wrote miniseed file to: c:\\Users\\jpeacock\\OneDrive - DOI\\MTData\\CL2021\\archive\\to_dmc\\1Z_CL304__FQE_2022_07_11T06_59_58.mseed\u001b[0m\n",
      "\u001b[1m2025-04-02T11:44:20.667032-0700 | INFO | mth5.io.conversion | split_ms_to_days | Wrote miniseed file to: c:\\Users\\jpeacock\\OneDrive - DOI\\MTData\\CL2021\\archive\\to_dmc\\1Z_CL304__FFN_2022_07_11T06_59_58.mseed\u001b[0m\n",
      "\u001b[1m2025-04-02T11:44:20.852281-0700 | INFO | mth5.io.conversion | split_ms_to_days | Wrote miniseed file to: c:\\Users\\jpeacock\\OneDrive - DOI\\MTData\\CL2021\\archive\\to_dmc\\1Z_CL304__FFE_2022_07_11T06_59_58.mseed\u001b[0m\n",
      "\u001b[1m2025-04-02T11:44:21.038085-0700 | INFO | mth5.io.conversion | split_ms_to_days | Wrote miniseed file to: c:\\Users\\jpeacock\\OneDrive - DOI\\MTData\\CL2021\\archive\\to_dmc\\1Z_CL304__FFZ_2022_07_11T06_59_58.mseed\u001b[0m\n",
      "\u001b[1m2025-04-02T11:44:28.256805-0700 | INFO | mth5.timeseries.run_ts | _align_channels | Channels do not have a common end, using latest: 2022-07-11T12:59:41.968750000\u001b[0m\n"
     ]
    },
    {
     "name": "stderr",
     "output_type": "stream",
     "text": [
      "C:\\Users\\jpeacock\\OneDrive - DOI\\Documents\\GitHub\\mth5\\mth5\\timeseries\\channel_ts.py:1524: RuntimeWarning: invalid value encountered in cast\n",
      "  obspy_trace = Trace(self.ts.astype(encoding_dict[encoding]))\n"
     ]
    },
    {
     "name": "stdout",
     "output_type": "stream",
     "text": [
      "\u001b[1m2025-04-02T11:44:32.499411-0700 | INFO | mth5.io.conversion | split_ms_to_days | Wrote miniseed file to: c:\\Users\\jpeacock\\OneDrive - DOI\\MTData\\CL2021\\archive\\to_dmc\\1Z_CL304__CQN_2022_07_11T07_09_58.mseed\u001b[0m\n",
      "\u001b[1m2025-04-02T11:44:32.959215-0700 | INFO | mth5.io.conversion | split_ms_to_days | Wrote miniseed file to: c:\\Users\\jpeacock\\OneDrive - DOI\\MTData\\CL2021\\archive\\to_dmc\\1Z_CL304__CQE_2022_07_11T07_09_58.mseed\u001b[0m\n",
      "\u001b[1m2025-04-02T11:44:33.417280-0700 | INFO | mth5.io.conversion | split_ms_to_days | Wrote miniseed file to: c:\\Users\\jpeacock\\OneDrive - DOI\\MTData\\CL2021\\archive\\to_dmc\\1Z_CL304__CFN_2022_07_11T07_09_58.mseed\u001b[0m\n",
      "\u001b[1m2025-04-02T11:44:33.881776-0700 | INFO | mth5.io.conversion | split_ms_to_days | Wrote miniseed file to: c:\\Users\\jpeacock\\OneDrive - DOI\\MTData\\CL2021\\archive\\to_dmc\\1Z_CL304__CFE_2022_07_11T07_09_58.mseed\u001b[0m\n",
      "\u001b[1m2025-04-02T11:44:34.339223-0700 | INFO | mth5.io.conversion | split_ms_to_days | Wrote miniseed file to: c:\\Users\\jpeacock\\OneDrive - DOI\\MTData\\CL2021\\archive\\to_dmc\\1Z_CL304__CFZ_2022_07_11T07_09_58.mseed\u001b[0m\n",
      "\u001b[1m2025-04-02T11:44:38.285514-0700 | INFO | mth5.timeseries.run_ts | _align_channels | Channels do not have a common end, using latest: 2022-07-11T13:09:41.999023437\u001b[0m\n",
      "\u001b[33m\u001b[1m2025-04-02T11:44:40.274105-0700 | WARNING | mth5.timeseries.run_ts | validate_metadata | end time of dataset 2022-07-11T13:09:41.998779296+00:00 does not match metadata end 2022-07-11T13:09:41.999023437+00:00 updating metatdata value to 2022-07-11T13:09:41.998779296+00:00\u001b[0m\n"
     ]
    },
    {
     "name": "stderr",
     "output_type": "stream",
     "text": [
      "C:\\Users\\jpeacock\\OneDrive - DOI\\Documents\\GitHub\\mth5\\mth5\\timeseries\\channel_ts.py:1524: RuntimeWarning: invalid value encountered in cast\n",
      "  obspy_trace = Trace(self.ts.astype(encoding_dict[encoding]))\n"
     ]
    },
    {
     "name": "stdout",
     "output_type": "stream",
     "text": [
      "\u001b[1m2025-04-02T11:44:41.024237-0700 | INFO | mth5.io.conversion | split_ms_to_days | Wrote miniseed file to: c:\\Users\\jpeacock\\OneDrive - DOI\\MTData\\CL2021\\archive\\to_dmc\\1Z_CL304__FQN_2022_07_11T12_59_58.mseed\u001b[0m\n",
      "\u001b[1m2025-04-02T11:44:41.211328-0700 | INFO | mth5.io.conversion | split_ms_to_days | Wrote miniseed file to: c:\\Users\\jpeacock\\OneDrive - DOI\\MTData\\CL2021\\archive\\to_dmc\\1Z_CL304__FQE_2022_07_11T12_59_58.mseed\u001b[0m\n",
      "\u001b[1m2025-04-02T11:44:41.408863-0700 | INFO | mth5.io.conversion | split_ms_to_days | Wrote miniseed file to: c:\\Users\\jpeacock\\OneDrive - DOI\\MTData\\CL2021\\archive\\to_dmc\\1Z_CL304__FFN_2022_07_11T12_59_58.mseed\u001b[0m\n",
      "\u001b[1m2025-04-02T11:44:41.602966-0700 | INFO | mth5.io.conversion | split_ms_to_days | Wrote miniseed file to: c:\\Users\\jpeacock\\OneDrive - DOI\\MTData\\CL2021\\archive\\to_dmc\\1Z_CL304__FFE_2022_07_11T12_59_58.mseed\u001b[0m\n",
      "\u001b[1m2025-04-02T11:44:41.800221-0700 | INFO | mth5.io.conversion | split_ms_to_days | Wrote miniseed file to: c:\\Users\\jpeacock\\OneDrive - DOI\\MTData\\CL2021\\archive\\to_dmc\\1Z_CL304__FFZ_2022_07_11T12_59_58.mseed\u001b[0m\n",
      "\u001b[1m2025-04-02T11:44:47.301976-0700 | INFO | mth5.io.conversion | split_ms_to_days | Wrote miniseed file to: c:\\Users\\jpeacock\\OneDrive - DOI\\MTData\\CL2021\\archive\\to_dmc\\1Z_CL304__CQN_2022_07_11T13_09_58.mseed\u001b[0m\n",
      "\u001b[1m2025-04-02T11:44:47.520086-0700 | INFO | mth5.io.conversion | split_ms_to_days | Wrote miniseed file to: c:\\Users\\jpeacock\\OneDrive - DOI\\MTData\\CL2021\\archive\\to_dmc\\1Z_CL304__CQE_2022_07_11T13_09_58.mseed\u001b[0m\n",
      "\u001b[1m2025-04-02T11:44:47.831524-0700 | INFO | mth5.io.conversion | split_ms_to_days | Wrote miniseed file to: c:\\Users\\jpeacock\\OneDrive - DOI\\MTData\\CL2021\\archive\\to_dmc\\1Z_CL304__CFN_2022_07_11T13_09_58.mseed\u001b[0m\n",
      "\u001b[1m2025-04-02T11:44:48.060065-0700 | INFO | mth5.io.conversion | split_ms_to_days | Wrote miniseed file to: c:\\Users\\jpeacock\\OneDrive - DOI\\MTData\\CL2021\\archive\\to_dmc\\1Z_CL304__CFE_2022_07_11T13_09_58.mseed\u001b[0m\n",
      "\u001b[1m2025-04-02T11:44:48.292022-0700 | INFO | mth5.io.conversion | split_ms_to_days | Wrote miniseed file to: c:\\Users\\jpeacock\\OneDrive - DOI\\MTData\\CL2021\\archive\\to_dmc\\1Z_CL304__CFZ_2022_07_11T13_09_58.mseed\u001b[0m\n",
      "\u001b[1m2025-04-02T11:44:49.343912-0700 | INFO | mth5.mth5 | close_mth5 | Flushing and closing c:\\Users\\jpeacock\\OneDrive - DOI\\MTData\\CL2021\\archive\\cl304.h5\u001b[0m\n",
      "\u001b[33m\u001b[1m2025-04-02T11:44:49.347913-0700 | WARNING | mt_metadata.timeseries.stationxml.xml_station_mt_station | mt_to_xml | Station.geographic_name is None, using Station.id = cl304.Check StationXML site.name.\u001b[0m\n",
      "\u001b[1m2025-04-02T11:44:49.423857-0700 | INFO | mt_metadata.timeseries.filters.channel_response | to_obspy | total sensitivity 104063415757.0512 != total gain 1048576000.000055. Using total_gain.\u001b[0m\n",
      "\u001b[1m2025-04-02T11:44:49.455938-0700 | INFO | mt_metadata.timeseries.filters.channel_response | to_obspy | total sensitivity 104064067310.72034 != total gain 1048576000.000055. Using total_gain.\u001b[0m\n",
      "\u001b[1m2025-04-02T11:44:49.487938-0700 | INFO | mt_metadata.timeseries.filters.channel_response | to_obspy | total sensitivity 104852080647.21446 != total gain 1048576000.000055. Using total_gain.\u001b[0m\n",
      "\u001b[1m2025-04-02T11:44:49.585455-0700 | INFO | mt_metadata.timeseries.filters.channel_response | to_obspy | total sensitivity 104063415757.0512 != total gain 1048576000.000055. Using total_gain.\u001b[0m\n",
      "\u001b[1m2025-04-02T11:44:49.617454-0700 | INFO | mt_metadata.timeseries.filters.channel_response | to_obspy | total sensitivity 104064067310.72034 != total gain 1048576000.000055. Using total_gain.\u001b[0m\n",
      "\u001b[1m2025-04-02T11:44:49.653967-0700 | INFO | mt_metadata.timeseries.filters.channel_response | to_obspy | total sensitivity 104852080647.21446 != total gain 1048576000.000055. Using total_gain.\u001b[0m\n",
      "\u001b[1m2025-04-02T11:44:49.745970-0700 | INFO | mt_metadata.timeseries.filters.channel_response | to_obspy | total sensitivity 104063415757.0512 != total gain 1048576000.000055. Using total_gain.\u001b[0m\n",
      "\u001b[1m2025-04-02T11:44:49.776481-0700 | INFO | mt_metadata.timeseries.filters.channel_response | to_obspy | total sensitivity 104064067310.72034 != total gain 1048576000.000055. Using total_gain.\u001b[0m\n",
      "\u001b[1m2025-04-02T11:44:49.807513-0700 | INFO | mt_metadata.timeseries.filters.channel_response | to_obspy | total sensitivity 104852080647.21446 != total gain 1048576000.000055. Using total_gain.\u001b[0m\n",
      "\u001b[1m2025-04-02T11:44:49.905042-0700 | INFO | mt_metadata.timeseries.filters.channel_response | to_obspy | total sensitivity 104063415757.0512 != total gain 1048576000.000055. Using total_gain.\u001b[0m\n",
      "\u001b[1m2025-04-02T11:44:49.933045-0700 | INFO | mt_metadata.timeseries.filters.channel_response | to_obspy | total sensitivity 104064067310.72034 != total gain 1048576000.000055. Using total_gain.\u001b[0m\n",
      "\u001b[1m2025-04-02T11:44:49.962526-0700 | INFO | mt_metadata.timeseries.filters.channel_response | to_obspy | total sensitivity 104852080647.21446 != total gain 1048576000.000055. Using total_gain.\u001b[0m\n",
      "\u001b[1m2025-04-02T11:44:50.058077-0700 | INFO | mt_metadata.timeseries.filters.channel_response | to_obspy | total sensitivity 104063415757.0512 != total gain 1048576000.000055. Using total_gain.\u001b[0m\n",
      "\u001b[1m2025-04-02T11:44:50.087079-0700 | INFO | mt_metadata.timeseries.filters.channel_response | to_obspy | total sensitivity 104064067310.72034 != total gain 1048576000.000055. Using total_gain.\u001b[0m\n",
      "\u001b[1m2025-04-02T11:44:50.128083-0700 | INFO | mt_metadata.timeseries.filters.channel_response | to_obspy | total sensitivity 104852080647.21446 != total gain 1048576000.000055. Using total_gain.\u001b[0m\n",
      "\u001b[1m2025-04-02T11:44:50.230599-0700 | INFO | mt_metadata.timeseries.filters.channel_response | to_obspy | total sensitivity 104063415757.0512 != total gain 1048576000.000055. Using total_gain.\u001b[0m\n",
      "\u001b[1m2025-04-02T11:44:50.258113-0700 | INFO | mt_metadata.timeseries.filters.channel_response | to_obspy | total sensitivity 104064067310.72034 != total gain 1048576000.000055. Using total_gain.\u001b[0m\n",
      "\u001b[1m2025-04-02T11:44:50.288113-0700 | INFO | mt_metadata.timeseries.filters.channel_response | to_obspy | total sensitivity 104852080647.21446 != total gain 1048576000.000055. Using total_gain.\u001b[0m\n",
      "\u001b[1m2025-04-02T11:44:50.386626-0700 | INFO | mt_metadata.timeseries.filters.channel_response | to_obspy | total sensitivity 104063415757.0512 != total gain 1048576000.000055. Using total_gain.\u001b[0m\n",
      "\u001b[1m2025-04-02T11:44:50.418661-0700 | INFO | mt_metadata.timeseries.filters.channel_response | to_obspy | total sensitivity 104064067310.72034 != total gain 1048576000.000055. Using total_gain.\u001b[0m\n",
      "\u001b[1m2025-04-02T11:44:50.446634-0700 | INFO | mt_metadata.timeseries.filters.channel_response | to_obspy | total sensitivity 104852080647.21446 != total gain 1048576000.000055. Using total_gain.\u001b[0m\n",
      "\u001b[1m2025-04-02T11:44:50.539149-0700 | INFO | mt_metadata.timeseries.filters.channel_response | to_obspy | total sensitivity 104063415757.0512 != total gain 1048576000.000055. Using total_gain.\u001b[0m\n",
      "\u001b[1m2025-04-02T11:44:50.568655-0700 | INFO | mt_metadata.timeseries.filters.channel_response | to_obspy | total sensitivity 104064067310.72034 != total gain 1048576000.000055. Using total_gain.\u001b[0m\n",
      "\u001b[1m2025-04-02T11:44:50.599656-0700 | INFO | mt_metadata.timeseries.filters.channel_response | to_obspy | total sensitivity 104852080647.21446 != total gain 1048576000.000055. Using total_gain.\u001b[0m\n",
      "\u001b[1m2025-04-02T11:44:50.634726-0700 | INFO | mth5.io.conversion | convert_mth5_to_ms_stationxml | Wrote StationXML to c:\\Users\\jpeacock\\OneDrive - DOI\\MTData\\CL2021\\archive\\to_dmc\\cl304.xml\u001b[0m\n",
      "\u001b[33m\u001b[1m2025-04-02T11:44:52.667418-0700 | WARNING | mt_metadata.timeseries.station | remove_run | Could not find cl305a to remove.\u001b[0m\n",
      "\u001b[1m2025-04-02T11:44:56.300520-0700 | INFO | mth5.io.conversion | split_ms_to_days | Wrote miniseed file to: c:\\Users\\jpeacock\\OneDrive - DOI\\MTData\\CL2021\\archive\\to_dmc\\1Z_CL305__LQN_2022_07_11T00_14_58.mseed\u001b[0m\n",
      "\u001b[1m2025-04-02T11:44:56.307488-0700 | INFO | mth5.io.conversion | split_ms_to_days | Wrote miniseed file to: c:\\Users\\jpeacock\\OneDrive - DOI\\MTData\\CL2021\\archive\\to_dmc\\1Z_CL305__LQE_2022_07_11T00_14_58.mseed\u001b[0m\n",
      "\u001b[1m2025-04-02T11:44:56.317521-0700 | INFO | mth5.io.conversion | split_ms_to_days | Wrote miniseed file to: c:\\Users\\jpeacock\\OneDrive - DOI\\MTData\\CL2021\\archive\\to_dmc\\1Z_CL305__LFN_2022_07_11T00_14_58.mseed\u001b[0m\n",
      "\u001b[1m2025-04-02T11:44:56.327492-0700 | INFO | mth5.io.conversion | split_ms_to_days | Wrote miniseed file to: c:\\Users\\jpeacock\\OneDrive - DOI\\MTData\\CL2021\\archive\\to_dmc\\1Z_CL305__LFE_2022_07_11T00_14_58.mseed\u001b[0m\n",
      "\u001b[1m2025-04-02T11:44:56.337489-0700 | INFO | mth5.io.conversion | split_ms_to_days | Wrote miniseed file to: c:\\Users\\jpeacock\\OneDrive - DOI\\MTData\\CL2021\\archive\\to_dmc\\1Z_CL305__LFZ_2022_07_11T00_14_58.mseed\u001b[0m\n",
      "\u001b[1m2025-04-02T11:45:00.588930-0700 | INFO | mth5.io.conversion | split_ms_to_days | Wrote miniseed file to: c:\\Users\\jpeacock\\OneDrive - DOI\\MTData\\CL2021\\archive\\to_dmc\\1Z_CL305__CQN_2022_07_11T00_14_58.mseed\u001b[0m\n",
      "\u001b[1m2025-04-02T11:45:00.651380-0700 | INFO | mth5.io.conversion | split_ms_to_days | Wrote miniseed file to: c:\\Users\\jpeacock\\OneDrive - DOI\\MTData\\CL2021\\archive\\to_dmc\\1Z_CL305__CQE_2022_07_11T00_14_58.mseed\u001b[0m\n",
      "\u001b[1m2025-04-02T11:45:00.711690-0700 | INFO | mth5.io.conversion | split_ms_to_days | Wrote miniseed file to: c:\\Users\\jpeacock\\OneDrive - DOI\\MTData\\CL2021\\archive\\to_dmc\\1Z_CL305__CFN_2022_07_11T00_14_58.mseed\u001b[0m\n",
      "\u001b[1m2025-04-02T11:45:00.778500-0700 | INFO | mth5.io.conversion | split_ms_to_days | Wrote miniseed file to: c:\\Users\\jpeacock\\OneDrive - DOI\\MTData\\CL2021\\archive\\to_dmc\\1Z_CL305__CFE_2022_07_11T00_14_58.mseed\u001b[0m\n",
      "\u001b[1m2025-04-02T11:45:00.834484-0700 | INFO | mth5.io.conversion | split_ms_to_days | Wrote miniseed file to: c:\\Users\\jpeacock\\OneDrive - DOI\\MTData\\CL2021\\archive\\to_dmc\\1Z_CL305__CFZ_2022_07_11T00_14_58.mseed\u001b[0m\n",
      "\u001b[1m2025-04-02T11:45:04.322172-0700 | INFO | mth5.timeseries.run_ts | _align_channels | Channels do not have a common end, using latest: 2022-07-11T01:09:41.999023437\u001b[0m\n",
      "\u001b[33m\u001b[1m2025-04-02T11:45:06.796524-0700 | WARNING | mth5.timeseries.run_ts | validate_metadata | end time of dataset 2022-07-11T01:09:41.998779296+00:00 does not match metadata end 2022-07-11T01:09:41.999023437+00:00 updating metatdata value to 2022-07-11T01:09:41.998779296+00:00\u001b[0m\n"
     ]
    },
    {
     "name": "stderr",
     "output_type": "stream",
     "text": [
      "C:\\Users\\jpeacock\\OneDrive - DOI\\Documents\\GitHub\\mth5\\mth5\\timeseries\\channel_ts.py:1524: RuntimeWarning: invalid value encountered in cast\n",
      "  obspy_trace = Trace(self.ts.astype(encoding_dict[encoding]))\n"
     ]
    },
    {
     "name": "stdout",
     "output_type": "stream",
     "text": [
      "\u001b[1m2025-04-02T11:45:07.511105-0700 | INFO | mth5.io.conversion | split_ms_to_days | Wrote miniseed file to: c:\\Users\\jpeacock\\OneDrive - DOI\\MTData\\CL2021\\archive\\to_dmc\\1Z_CL305__FQN_2022_07_11T00_59_58.mseed\u001b[0m\n",
      "\u001b[1m2025-04-02T11:45:07.705239-0700 | INFO | mth5.io.conversion | split_ms_to_days | Wrote miniseed file to: c:\\Users\\jpeacock\\OneDrive - DOI\\MTData\\CL2021\\archive\\to_dmc\\1Z_CL305__FQE_2022_07_11T00_59_58.mseed\u001b[0m\n",
      "\u001b[1m2025-04-02T11:45:07.909444-0700 | INFO | mth5.io.conversion | split_ms_to_days | Wrote miniseed file to: c:\\Users\\jpeacock\\OneDrive - DOI\\MTData\\CL2021\\archive\\to_dmc\\1Z_CL305__FFN_2022_07_11T00_59_58.mseed\u001b[0m\n",
      "\u001b[1m2025-04-02T11:45:08.107014-0700 | INFO | mth5.io.conversion | split_ms_to_days | Wrote miniseed file to: c:\\Users\\jpeacock\\OneDrive - DOI\\MTData\\CL2021\\archive\\to_dmc\\1Z_CL305__FFE_2022_07_11T00_59_58.mseed\u001b[0m\n",
      "\u001b[1m2025-04-02T11:45:08.304176-0700 | INFO | mth5.io.conversion | split_ms_to_days | Wrote miniseed file to: c:\\Users\\jpeacock\\OneDrive - DOI\\MTData\\CL2021\\archive\\to_dmc\\1Z_CL305__FFZ_2022_07_11T00_59_58.mseed\u001b[0m\n",
      "\u001b[1m2025-04-02T11:45:15.942205-0700 | INFO | mth5.io.conversion | split_ms_to_days | Wrote miniseed file to: c:\\Users\\jpeacock\\OneDrive - DOI\\MTData\\CL2021\\archive\\to_dmc\\1Z_CL305__CQN_2022_07_11T01_09_58.mseed\u001b[0m\n",
      "\u001b[1m2025-04-02T11:45:16.373127-0700 | INFO | mth5.io.conversion | split_ms_to_days | Wrote miniseed file to: c:\\Users\\jpeacock\\OneDrive - DOI\\MTData\\CL2021\\archive\\to_dmc\\1Z_CL305__CQE_2022_07_11T01_09_58.mseed\u001b[0m\n",
      "\u001b[1m2025-04-02T11:45:16.810895-0700 | INFO | mth5.io.conversion | split_ms_to_days | Wrote miniseed file to: c:\\Users\\jpeacock\\OneDrive - DOI\\MTData\\CL2021\\archive\\to_dmc\\1Z_CL305__CFN_2022_07_11T01_09_58.mseed\u001b[0m\n",
      "\u001b[1m2025-04-02T11:45:17.240156-0700 | INFO | mth5.io.conversion | split_ms_to_days | Wrote miniseed file to: c:\\Users\\jpeacock\\OneDrive - DOI\\MTData\\CL2021\\archive\\to_dmc\\1Z_CL305__CFE_2022_07_11T01_09_58.mseed\u001b[0m\n",
      "\u001b[1m2025-04-02T11:45:17.674845-0700 | INFO | mth5.io.conversion | split_ms_to_days | Wrote miniseed file to: c:\\Users\\jpeacock\\OneDrive - DOI\\MTData\\CL2021\\archive\\to_dmc\\1Z_CL305__CFZ_2022_07_11T01_09_58.mseed\u001b[0m\n",
      "\u001b[1m2025-04-02T11:45:21.563454-0700 | INFO | mth5.timeseries.run_ts | _align_channels | Channels do not have a common end, using latest: 2022-07-11T07:09:41.998779296\u001b[0m\n",
      "\u001b[33m\u001b[1m2025-04-02T11:45:23.549551-0700 | WARNING | mth5.timeseries.run_ts | validate_metadata | end time of dataset 2022-07-11T07:09:41.998535156+00:00 does not match metadata end 2022-07-11T07:09:41.998779296+00:00 updating metatdata value to 2022-07-11T07:09:41.998535156+00:00\u001b[0m\n"
     ]
    },
    {
     "name": "stderr",
     "output_type": "stream",
     "text": [
      "C:\\Users\\jpeacock\\OneDrive - DOI\\Documents\\GitHub\\mth5\\mth5\\timeseries\\channel_ts.py:1524: RuntimeWarning: invalid value encountered in cast\n",
      "  obspy_trace = Trace(self.ts.astype(encoding_dict[encoding]))\n"
     ]
    },
    {
     "name": "stdout",
     "output_type": "stream",
     "text": [
      "\u001b[1m2025-04-02T11:45:24.310060-0700 | INFO | mth5.io.conversion | split_ms_to_days | Wrote miniseed file to: c:\\Users\\jpeacock\\OneDrive - DOI\\MTData\\CL2021\\archive\\to_dmc\\1Z_CL305__FQN_2022_07_11T06_59_58.mseed\u001b[0m\n",
      "\u001b[1m2025-04-02T11:45:24.497332-0700 | INFO | mth5.io.conversion | split_ms_to_days | Wrote miniseed file to: c:\\Users\\jpeacock\\OneDrive - DOI\\MTData\\CL2021\\archive\\to_dmc\\1Z_CL305__FQE_2022_07_11T06_59_58.mseed\u001b[0m\n",
      "\u001b[1m2025-04-02T11:45:24.694485-0700 | INFO | mth5.io.conversion | split_ms_to_days | Wrote miniseed file to: c:\\Users\\jpeacock\\OneDrive - DOI\\MTData\\CL2021\\archive\\to_dmc\\1Z_CL305__FFN_2022_07_11T06_59_58.mseed\u001b[0m\n",
      "\u001b[1m2025-04-02T11:45:24.902663-0700 | INFO | mth5.io.conversion | split_ms_to_days | Wrote miniseed file to: c:\\Users\\jpeacock\\OneDrive - DOI\\MTData\\CL2021\\archive\\to_dmc\\1Z_CL305__FFE_2022_07_11T06_59_58.mseed\u001b[0m\n",
      "\u001b[1m2025-04-02T11:45:25.088588-0700 | INFO | mth5.io.conversion | split_ms_to_days | Wrote miniseed file to: c:\\Users\\jpeacock\\OneDrive - DOI\\MTData\\CL2021\\archive\\to_dmc\\1Z_CL305__FFZ_2022_07_11T06_59_58.mseed\u001b[0m\n",
      "\u001b[1m2025-04-02T11:45:33.230202-0700 | INFO | mth5.io.conversion | split_ms_to_days | Wrote miniseed file to: c:\\Users\\jpeacock\\OneDrive - DOI\\MTData\\CL2021\\archive\\to_dmc\\1Z_CL305__CQN_2022_07_11T07_09_58.mseed\u001b[0m\n",
      "\u001b[1m2025-04-02T11:45:33.680678-0700 | INFO | mth5.io.conversion | split_ms_to_days | Wrote miniseed file to: c:\\Users\\jpeacock\\OneDrive - DOI\\MTData\\CL2021\\archive\\to_dmc\\1Z_CL305__CQE_2022_07_11T07_09_58.mseed\u001b[0m\n",
      "\u001b[1m2025-04-02T11:45:34.117645-0700 | INFO | mth5.io.conversion | split_ms_to_days | Wrote miniseed file to: c:\\Users\\jpeacock\\OneDrive - DOI\\MTData\\CL2021\\archive\\to_dmc\\1Z_CL305__CFN_2022_07_11T07_09_58.mseed\u001b[0m\n",
      "\u001b[1m2025-04-02T11:45:34.568367-0700 | INFO | mth5.io.conversion | split_ms_to_days | Wrote miniseed file to: c:\\Users\\jpeacock\\OneDrive - DOI\\MTData\\CL2021\\archive\\to_dmc\\1Z_CL305__CFE_2022_07_11T07_09_58.mseed\u001b[0m\n",
      "\u001b[1m2025-04-02T11:45:35.020057-0700 | INFO | mth5.io.conversion | split_ms_to_days | Wrote miniseed file to: c:\\Users\\jpeacock\\OneDrive - DOI\\MTData\\CL2021\\archive\\to_dmc\\1Z_CL305__CFZ_2022_07_11T07_09_58.mseed\u001b[0m\n",
      "\u001b[1m2025-04-02T11:45:39.411488-0700 | INFO | mth5.timeseries.run_ts | _align_channels | Channels do not have a common end, using latest: 2022-07-11T13:09:41.999023437\u001b[0m\n",
      "\u001b[33m\u001b[1m2025-04-02T11:45:41.462672-0700 | WARNING | mth5.timeseries.run_ts | validate_metadata | end time of dataset 2022-07-11T13:09:41.998779296+00:00 does not match metadata end 2022-07-11T13:09:41.999023437+00:00 updating metatdata value to 2022-07-11T13:09:41.998779296+00:00\u001b[0m\n"
     ]
    },
    {
     "name": "stderr",
     "output_type": "stream",
     "text": [
      "C:\\Users\\jpeacock\\OneDrive - DOI\\Documents\\GitHub\\mth5\\mth5\\timeseries\\channel_ts.py:1524: RuntimeWarning: invalid value encountered in cast\n",
      "  obspy_trace = Trace(self.ts.astype(encoding_dict[encoding]))\n"
     ]
    },
    {
     "name": "stdout",
     "output_type": "stream",
     "text": [
      "\u001b[1m2025-04-02T11:45:42.211156-0700 | INFO | mth5.io.conversion | split_ms_to_days | Wrote miniseed file to: c:\\Users\\jpeacock\\OneDrive - DOI\\MTData\\CL2021\\archive\\to_dmc\\1Z_CL305__FQN_2022_07_11T12_59_58.mseed\u001b[0m\n",
      "\u001b[1m2025-04-02T11:45:42.409521-0700 | INFO | mth5.io.conversion | split_ms_to_days | Wrote miniseed file to: c:\\Users\\jpeacock\\OneDrive - DOI\\MTData\\CL2021\\archive\\to_dmc\\1Z_CL305__FQE_2022_07_11T12_59_58.mseed\u001b[0m\n",
      "\u001b[1m2025-04-02T11:45:42.614850-0700 | INFO | mth5.io.conversion | split_ms_to_days | Wrote miniseed file to: c:\\Users\\jpeacock\\OneDrive - DOI\\MTData\\CL2021\\archive\\to_dmc\\1Z_CL305__FFN_2022_07_11T12_59_58.mseed\u001b[0m\n",
      "\u001b[1m2025-04-02T11:45:42.813016-0700 | INFO | mth5.io.conversion | split_ms_to_days | Wrote miniseed file to: c:\\Users\\jpeacock\\OneDrive - DOI\\MTData\\CL2021\\archive\\to_dmc\\1Z_CL305__FFE_2022_07_11T12_59_58.mseed\u001b[0m\n",
      "\u001b[1m2025-04-02T11:45:43.018157-0700 | INFO | mth5.io.conversion | split_ms_to_days | Wrote miniseed file to: c:\\Users\\jpeacock\\OneDrive - DOI\\MTData\\CL2021\\archive\\to_dmc\\1Z_CL305__FFZ_2022_07_11T12_59_58.mseed\u001b[0m\n",
      "\u001b[1m2025-04-02T11:45:50.122428-0700 | INFO | mth5.timeseries.run_ts | _align_channels | Channels do not have a common end, using latest: 2022-07-11T18:59:41.968750000\u001b[0m\n",
      "\u001b[1m2025-04-02T11:45:52.943980-0700 | INFO | mth5.io.conversion | split_ms_to_days | Wrote miniseed file to: c:\\Users\\jpeacock\\OneDrive - DOI\\MTData\\CL2021\\archive\\to_dmc\\1Z_CL305__CQN_2022_07_11T13_09_58.mseed\u001b[0m\n",
      "\u001b[1m2025-04-02T11:45:53.406306-0700 | INFO | mth5.io.conversion | split_ms_to_days | Wrote miniseed file to: c:\\Users\\jpeacock\\OneDrive - DOI\\MTData\\CL2021\\archive\\to_dmc\\1Z_CL305__CQE_2022_07_11T13_09_58.mseed\u001b[0m\n",
      "\u001b[1m2025-04-02T11:45:53.934657-0700 | INFO | mth5.io.conversion | split_ms_to_days | Wrote miniseed file to: c:\\Users\\jpeacock\\OneDrive - DOI\\MTData\\CL2021\\archive\\to_dmc\\1Z_CL305__CFN_2022_07_11T13_09_58.mseed\u001b[0m\n",
      "\u001b[1m2025-04-02T11:45:54.389821-0700 | INFO | mth5.io.conversion | split_ms_to_days | Wrote miniseed file to: c:\\Users\\jpeacock\\OneDrive - DOI\\MTData\\CL2021\\archive\\to_dmc\\1Z_CL305__CFE_2022_07_11T13_09_58.mseed\u001b[0m\n",
      "\u001b[1m2025-04-02T11:45:54.858223-0700 | INFO | mth5.io.conversion | split_ms_to_days | Wrote miniseed file to: c:\\Users\\jpeacock\\OneDrive - DOI\\MTData\\CL2021\\archive\\to_dmc\\1Z_CL305__CFZ_2022_07_11T13_09_58.mseed\u001b[0m\n",
      "\u001b[1m2025-04-02T11:45:59.164220-0700 | INFO | mth5.timeseries.run_ts | _align_channels | Channels do not have a common end, using latest: 2022-07-11T19:09:41.998779296\u001b[0m\n",
      "\u001b[33m\u001b[1m2025-04-02T11:46:01.795644-0700 | WARNING | mth5.timeseries.run_ts | validate_metadata | end time of dataset 2022-07-11T19:09:41.998535156+00:00 does not match metadata end 2022-07-11T19:09:41.998779296+00:00 updating metatdata value to 2022-07-11T19:09:41.998535156+00:00\u001b[0m\n"
     ]
    },
    {
     "name": "stderr",
     "output_type": "stream",
     "text": [
      "C:\\Users\\jpeacock\\OneDrive - DOI\\Documents\\GitHub\\mth5\\mth5\\timeseries\\channel_ts.py:1524: RuntimeWarning: invalid value encountered in cast\n",
      "  obspy_trace = Trace(self.ts.astype(encoding_dict[encoding]))\n"
     ]
    },
    {
     "name": "stdout",
     "output_type": "stream",
     "text": [
      "\u001b[1m2025-04-02T11:46:02.554953-0700 | INFO | mth5.io.conversion | split_ms_to_days | Wrote miniseed file to: c:\\Users\\jpeacock\\OneDrive - DOI\\MTData\\CL2021\\archive\\to_dmc\\1Z_CL305__FQN_2022_07_11T18_59_58.mseed\u001b[0m\n",
      "\u001b[1m2025-04-02T11:46:02.756065-0700 | INFO | mth5.io.conversion | split_ms_to_days | Wrote miniseed file to: c:\\Users\\jpeacock\\OneDrive - DOI\\MTData\\CL2021\\archive\\to_dmc\\1Z_CL305__FQE_2022_07_11T18_59_58.mseed\u001b[0m\n",
      "\u001b[1m2025-04-02T11:46:02.952003-0700 | INFO | mth5.io.conversion | split_ms_to_days | Wrote miniseed file to: c:\\Users\\jpeacock\\OneDrive - DOI\\MTData\\CL2021\\archive\\to_dmc\\1Z_CL305__FFN_2022_07_11T18_59_58.mseed\u001b[0m\n",
      "\u001b[1m2025-04-02T11:46:03.148195-0700 | INFO | mth5.io.conversion | split_ms_to_days | Wrote miniseed file to: c:\\Users\\jpeacock\\OneDrive - DOI\\MTData\\CL2021\\archive\\to_dmc\\1Z_CL305__FFE_2022_07_11T18_59_58.mseed\u001b[0m\n",
      "\u001b[1m2025-04-02T11:46:03.367713-0700 | INFO | mth5.io.conversion | split_ms_to_days | Wrote miniseed file to: c:\\Users\\jpeacock\\OneDrive - DOI\\MTData\\CL2021\\archive\\to_dmc\\1Z_CL305__FFZ_2022_07_11T18_59_58.mseed\u001b[0m\n",
      "\u001b[1m2025-04-02T11:46:07.314610-0700 | INFO | mth5.timeseries.run_ts | _align_channels | Channels do not have a common end, using latest: 2022-07-11T20:14:42.000000000\u001b[0m\n",
      "\u001b[1m2025-04-02T11:46:08.292884-0700 | INFO | mth5.io.conversion | split_ms_to_days | Wrote miniseed file to: c:\\Users\\jpeacock\\OneDrive - DOI\\MTData\\CL2021\\archive\\to_dmc\\1Z_CL305__CQN_2022_07_11T19_09_58.mseed\u001b[0m\n",
      "\u001b[1m2025-04-02T11:46:08.380857-0700 | INFO | mth5.io.conversion | split_ms_to_days | Wrote miniseed file to: c:\\Users\\jpeacock\\OneDrive - DOI\\MTData\\CL2021\\archive\\to_dmc\\1Z_CL305__CQE_2022_07_11T19_09_58.mseed\u001b[0m\n",
      "\u001b[1m2025-04-02T11:46:08.465377-0700 | INFO | mth5.io.conversion | split_ms_to_days | Wrote miniseed file to: c:\\Users\\jpeacock\\OneDrive - DOI\\MTData\\CL2021\\archive\\to_dmc\\1Z_CL305__CFN_2022_07_11T19_09_58.mseed\u001b[0m\n",
      "\u001b[1m2025-04-02T11:46:08.546912-0700 | INFO | mth5.io.conversion | split_ms_to_days | Wrote miniseed file to: c:\\Users\\jpeacock\\OneDrive - DOI\\MTData\\CL2021\\archive\\to_dmc\\1Z_CL305__CFE_2022_07_11T19_09_58.mseed\u001b[0m\n",
      "\u001b[1m2025-04-02T11:46:08.628429-0700 | INFO | mth5.io.conversion | split_ms_to_days | Wrote miniseed file to: c:\\Users\\jpeacock\\OneDrive - DOI\\MTData\\CL2021\\archive\\to_dmc\\1Z_CL305__CFZ_2022_07_11T19_09_58.mseed\u001b[0m\n",
      "\u001b[1m2025-04-02T11:46:09.700771-0700 | INFO | mth5.mth5 | close_mth5 | Flushing and closing c:\\Users\\jpeacock\\OneDrive - DOI\\MTData\\CL2021\\archive\\cl305.h5\u001b[0m\n",
      "\u001b[33m\u001b[1m2025-04-02T11:46:09.704779-0700 | WARNING | mt_metadata.timeseries.stationxml.xml_station_mt_station | mt_to_xml | Station.geographic_name is None, using Station.id = cl305.Check StationXML site.name.\u001b[0m\n",
      "\u001b[1m2025-04-02T11:46:09.780078-0700 | INFO | mt_metadata.timeseries.filters.channel_response | to_obspy | total sensitivity 104382542748.06306 != total gain 1048576000.000055. Using total_gain.\u001b[0m\n",
      "\u001b[1m2025-04-02T11:46:09.809221-0700 | INFO | mt_metadata.timeseries.filters.channel_response | to_obspy | total sensitivity 105026369151.30917 != total gain 1048576000.000055. Using total_gain.\u001b[0m\n",
      "\u001b[1m2025-04-02T11:46:09.839226-0700 | INFO | mt_metadata.timeseries.filters.channel_response | to_obspy | total sensitivity 105276966379.19785 != total gain 1048576000.000055. Using total_gain.\u001b[0m\n",
      "\u001b[1m2025-04-02T11:46:09.928846-0700 | INFO | mt_metadata.timeseries.filters.channel_response | to_obspy | total sensitivity 104382542748.06306 != total gain 1048576000.000055. Using total_gain.\u001b[0m\n",
      "\u001b[1m2025-04-02T11:46:09.956817-0700 | INFO | mt_metadata.timeseries.filters.channel_response | to_obspy | total sensitivity 105026369151.30917 != total gain 1048576000.000055. Using total_gain.\u001b[0m\n",
      "\u001b[1m2025-04-02T11:46:09.985887-0700 | INFO | mt_metadata.timeseries.filters.channel_response | to_obspy | total sensitivity 105276966379.19785 != total gain 1048576000.000055. Using total_gain.\u001b[0m\n",
      "\u001b[1m2025-04-02T11:46:10.075212-0700 | INFO | mt_metadata.timeseries.filters.channel_response | to_obspy | total sensitivity 104382542748.06306 != total gain 1048576000.000055. Using total_gain.\u001b[0m\n",
      "\u001b[1m2025-04-02T11:46:10.116698-0700 | INFO | mt_metadata.timeseries.filters.channel_response | to_obspy | total sensitivity 105026369151.30917 != total gain 1048576000.000055. Using total_gain.\u001b[0m\n",
      "\u001b[1m2025-04-02T11:46:10.148694-0700 | INFO | mt_metadata.timeseries.filters.channel_response | to_obspy | total sensitivity 105276966379.19785 != total gain 1048576000.000055. Using total_gain.\u001b[0m\n",
      "\u001b[1m2025-04-02T11:46:10.242322-0700 | INFO | mt_metadata.timeseries.filters.channel_response | to_obspy | total sensitivity 104382542748.06306 != total gain 1048576000.000055. Using total_gain.\u001b[0m\n",
      "\u001b[1m2025-04-02T11:46:10.272340-0700 | INFO | mt_metadata.timeseries.filters.channel_response | to_obspy | total sensitivity 105026369151.30917 != total gain 1048576000.000055. Using total_gain.\u001b[0m\n",
      "\u001b[1m2025-04-02T11:46:10.306880-0700 | INFO | mt_metadata.timeseries.filters.channel_response | to_obspy | total sensitivity 105276966379.19785 != total gain 1048576000.000055. Using total_gain.\u001b[0m\n",
      "\u001b[1m2025-04-02T11:46:10.400497-0700 | INFO | mt_metadata.timeseries.filters.channel_response | to_obspy | total sensitivity 104382542748.06306 != total gain 1048576000.000055. Using total_gain.\u001b[0m\n",
      "\u001b[1m2025-04-02T11:46:10.432496-0700 | INFO | mt_metadata.timeseries.filters.channel_response | to_obspy | total sensitivity 105026369151.30917 != total gain 1048576000.000055. Using total_gain.\u001b[0m\n",
      "\u001b[1m2025-04-02T11:46:10.463499-0700 | INFO | mt_metadata.timeseries.filters.channel_response | to_obspy | total sensitivity 105276966379.19785 != total gain 1048576000.000055. Using total_gain.\u001b[0m\n",
      "\u001b[1m2025-04-02T11:46:10.552052-0700 | INFO | mt_metadata.timeseries.filters.channel_response | to_obspy | total sensitivity 104382542748.06306 != total gain 1048576000.000055. Using total_gain.\u001b[0m\n",
      "\u001b[1m2025-04-02T11:46:10.581033-0700 | INFO | mt_metadata.timeseries.filters.channel_response | to_obspy | total sensitivity 105026369151.30917 != total gain 1048576000.000055. Using total_gain.\u001b[0m\n",
      "\u001b[1m2025-04-02T11:46:10.610583-0700 | INFO | mt_metadata.timeseries.filters.channel_response | to_obspy | total sensitivity 105276966379.19785 != total gain 1048576000.000055. Using total_gain.\u001b[0m\n",
      "\u001b[1m2025-04-02T11:46:10.700169-0700 | INFO | mt_metadata.timeseries.filters.channel_response | to_obspy | total sensitivity 104382542748.06306 != total gain 1048576000.000055. Using total_gain.\u001b[0m\n",
      "\u001b[1m2025-04-02T11:46:10.728137-0700 | INFO | mt_metadata.timeseries.filters.channel_response | to_obspy | total sensitivity 105026369151.30917 != total gain 1048576000.000055. Using total_gain.\u001b[0m\n",
      "\u001b[1m2025-04-02T11:46:10.756136-0700 | INFO | mt_metadata.timeseries.filters.channel_response | to_obspy | total sensitivity 105276966379.19785 != total gain 1048576000.000055. Using total_gain.\u001b[0m\n",
      "\u001b[1m2025-04-02T11:46:10.848659-0700 | INFO | mt_metadata.timeseries.filters.channel_response | to_obspy | total sensitivity 104382542748.06306 != total gain 1048576000.000055. Using total_gain.\u001b[0m\n",
      "\u001b[1m2025-04-02T11:46:10.877708-0700 | INFO | mt_metadata.timeseries.filters.channel_response | to_obspy | total sensitivity 105026369151.30917 != total gain 1048576000.000055. Using total_gain.\u001b[0m\n",
      "\u001b[1m2025-04-02T11:46:10.905279-0700 | INFO | mt_metadata.timeseries.filters.channel_response | to_obspy | total sensitivity 105276966379.19785 != total gain 1048576000.000055. Using total_gain.\u001b[0m\n",
      "\u001b[1m2025-04-02T11:46:11.005859-0700 | INFO | mt_metadata.timeseries.filters.channel_response | to_obspy | total sensitivity 104382542748.06306 != total gain 1048576000.000055. Using total_gain.\u001b[0m\n",
      "\u001b[1m2025-04-02T11:46:11.034860-0700 | INFO | mt_metadata.timeseries.filters.channel_response | to_obspy | total sensitivity 105026369151.30917 != total gain 1048576000.000055. Using total_gain.\u001b[0m\n",
      "\u001b[1m2025-04-02T11:46:11.062861-0700 | INFO | mt_metadata.timeseries.filters.channel_response | to_obspy | total sensitivity 105276966379.19785 != total gain 1048576000.000055. Using total_gain.\u001b[0m\n",
      "\u001b[1m2025-04-02T11:46:11.177461-0700 | INFO | mt_metadata.timeseries.filters.channel_response | to_obspy | total sensitivity 104382542748.06306 != total gain 1048576000.000055. Using total_gain.\u001b[0m\n",
      "\u001b[1m2025-04-02T11:46:11.207040-0700 | INFO | mt_metadata.timeseries.filters.channel_response | to_obspy | total sensitivity 105026369151.30917 != total gain 1048576000.000055. Using total_gain.\u001b[0m\n",
      "\u001b[1m2025-04-02T11:46:11.236039-0700 | INFO | mt_metadata.timeseries.filters.channel_response | to_obspy | total sensitivity 105276966379.19785 != total gain 1048576000.000055. Using total_gain.\u001b[0m\n",
      "\u001b[1m2025-04-02T11:46:11.267008-0700 | INFO | mth5.io.conversion | convert_mth5_to_ms_stationxml | Wrote StationXML to c:\\Users\\jpeacock\\OneDrive - DOI\\MTData\\CL2021\\archive\\to_dmc\\cl305.xml\u001b[0m\n",
      "\u001b[33m\u001b[1m2025-04-02T11:46:13.260366-0700 | WARNING | mt_metadata.timeseries.station | remove_run | Could not find cl306a to remove.\u001b[0m\n",
      "\u001b[1m2025-04-02T11:46:16.564783-0700 | INFO | mth5.io.conversion | split_ms_to_days | Wrote miniseed file to: c:\\Users\\jpeacock\\OneDrive - DOI\\MTData\\CL2021\\archive\\to_dmc\\1Z_CL306__LQN_2022_07_12T20_44_58.mseed\u001b[0m\n",
      "\u001b[1m2025-04-02T11:46:16.567776-0700 | INFO | mth5.io.conversion | split_ms_to_days | Wrote miniseed file to: c:\\Users\\jpeacock\\OneDrive - DOI\\MTData\\CL2021\\archive\\to_dmc\\1Z_CL306__LQN_2022_07_13T00_00_00.mseed\u001b[0m\n",
      "\u001b[1m2025-04-02T11:46:16.574752-0700 | INFO | mth5.io.conversion | split_ms_to_days | Wrote miniseed file to: c:\\Users\\jpeacock\\OneDrive - DOI\\MTData\\CL2021\\archive\\to_dmc\\1Z_CL306__LQE_2022_07_12T20_44_58.mseed\u001b[0m\n",
      "\u001b[1m2025-04-02T11:46:16.578755-0700 | INFO | mth5.io.conversion | split_ms_to_days | Wrote miniseed file to: c:\\Users\\jpeacock\\OneDrive - DOI\\MTData\\CL2021\\archive\\to_dmc\\1Z_CL306__LQE_2022_07_13T00_00_00.mseed\u001b[0m\n",
      "\u001b[1m2025-04-02T11:46:16.588763-0700 | INFO | mth5.io.conversion | split_ms_to_days | Wrote miniseed file to: c:\\Users\\jpeacock\\OneDrive - DOI\\MTData\\CL2021\\archive\\to_dmc\\1Z_CL306__LFN_2022_07_12T20_44_58.mseed\u001b[0m\n",
      "\u001b[1m2025-04-02T11:46:16.591762-0700 | INFO | mth5.io.conversion | split_ms_to_days | Wrote miniseed file to: c:\\Users\\jpeacock\\OneDrive - DOI\\MTData\\CL2021\\archive\\to_dmc\\1Z_CL306__LFN_2022_07_13T00_00_00.mseed\u001b[0m\n",
      "\u001b[1m2025-04-02T11:46:16.599299-0700 | INFO | mth5.io.conversion | split_ms_to_days | Wrote miniseed file to: c:\\Users\\jpeacock\\OneDrive - DOI\\MTData\\CL2021\\archive\\to_dmc\\1Z_CL306__LFE_2022_07_12T20_44_58.mseed\u001b[0m\n",
      "\u001b[1m2025-04-02T11:46:16.603298-0700 | INFO | mth5.io.conversion | split_ms_to_days | Wrote miniseed file to: c:\\Users\\jpeacock\\OneDrive - DOI\\MTData\\CL2021\\archive\\to_dmc\\1Z_CL306__LFE_2022_07_13T00_00_00.mseed\u001b[0m\n",
      "\u001b[1m2025-04-02T11:46:16.610296-0700 | INFO | mth5.io.conversion | split_ms_to_days | Wrote miniseed file to: c:\\Users\\jpeacock\\OneDrive - DOI\\MTData\\CL2021\\archive\\to_dmc\\1Z_CL306__LFZ_2022_07_12T20_44_58.mseed\u001b[0m\n",
      "\u001b[1m2025-04-02T11:46:16.613296-0700 | INFO | mth5.io.conversion | split_ms_to_days | Wrote miniseed file to: c:\\Users\\jpeacock\\OneDrive - DOI\\MTData\\CL2021\\archive\\to_dmc\\1Z_CL306__LFZ_2022_07_13T00_00_00.mseed\u001b[0m\n",
      "\u001b[1m2025-04-02T11:46:22.080010-0700 | INFO | mth5.timeseries.run_ts | _align_channels | Channels do not have a common end, using latest: 2022-07-13T00:59:41.968750000\u001b[0m\n",
      "\u001b[1m2025-04-02T11:46:24.447203-0700 | INFO | mth5.io.conversion | split_ms_to_days | Wrote miniseed file to: c:\\Users\\jpeacock\\OneDrive - DOI\\MTData\\CL2021\\archive\\to_dmc\\1Z_CL306__CQN_2022_07_12T20_44_58.mseed\u001b[0m\n",
      "\u001b[1m2025-04-02T11:46:24.679259-0700 | INFO | mth5.io.conversion | split_ms_to_days | Wrote miniseed file to: c:\\Users\\jpeacock\\OneDrive - DOI\\MTData\\CL2021\\archive\\to_dmc\\1Z_CL306__CQN_2022_07_13T00_00_00.mseed\u001b[0m\n",
      "\u001b[1m2025-04-02T11:46:24.758284-0700 | INFO | mth5.io.conversion | split_ms_to_days | Wrote miniseed file to: c:\\Users\\jpeacock\\OneDrive - DOI\\MTData\\CL2021\\archive\\to_dmc\\1Z_CL306__CQE_2022_07_12T20_44_58.mseed\u001b[0m\n",
      "\u001b[1m2025-04-02T11:46:25.005521-0700 | INFO | mth5.io.conversion | split_ms_to_days | Wrote miniseed file to: c:\\Users\\jpeacock\\OneDrive - DOI\\MTData\\CL2021\\archive\\to_dmc\\1Z_CL306__CQE_2022_07_13T00_00_00.mseed\u001b[0m\n",
      "\u001b[1m2025-04-02T11:46:25.079521-0700 | INFO | mth5.io.conversion | split_ms_to_days | Wrote miniseed file to: c:\\Users\\jpeacock\\OneDrive - DOI\\MTData\\CL2021\\archive\\to_dmc\\1Z_CL306__CFN_2022_07_12T20_44_58.mseed\u001b[0m\n",
      "\u001b[1m2025-04-02T11:46:25.325197-0700 | INFO | mth5.io.conversion | split_ms_to_days | Wrote miniseed file to: c:\\Users\\jpeacock\\OneDrive - DOI\\MTData\\CL2021\\archive\\to_dmc\\1Z_CL306__CFN_2022_07_13T00_00_00.mseed\u001b[0m\n",
      "\u001b[1m2025-04-02T11:46:25.399235-0700 | INFO | mth5.io.conversion | split_ms_to_days | Wrote miniseed file to: c:\\Users\\jpeacock\\OneDrive - DOI\\MTData\\CL2021\\archive\\to_dmc\\1Z_CL306__CFE_2022_07_12T20_44_58.mseed\u001b[0m\n",
      "\u001b[1m2025-04-02T11:46:25.642914-0700 | INFO | mth5.io.conversion | split_ms_to_days | Wrote miniseed file to: c:\\Users\\jpeacock\\OneDrive - DOI\\MTData\\CL2021\\archive\\to_dmc\\1Z_CL306__CFE_2022_07_13T00_00_00.mseed\u001b[0m\n",
      "\u001b[1m2025-04-02T11:46:25.718441-0700 | INFO | mth5.io.conversion | split_ms_to_days | Wrote miniseed file to: c:\\Users\\jpeacock\\OneDrive - DOI\\MTData\\CL2021\\archive\\to_dmc\\1Z_CL306__CFZ_2022_07_12T20_44_58.mseed\u001b[0m\n",
      "\u001b[1m2025-04-02T11:46:25.979062-0700 | INFO | mth5.io.conversion | split_ms_to_days | Wrote miniseed file to: c:\\Users\\jpeacock\\OneDrive - DOI\\MTData\\CL2021\\archive\\to_dmc\\1Z_CL306__CFZ_2022_07_13T00_00_00.mseed\u001b[0m\n",
      "\u001b[1m2025-04-02T11:46:29.410649-0700 | INFO | mth5.timeseries.run_ts | _align_channels | Channels do not have a common end, using latest: 2022-07-13T01:09:41.998535156\u001b[0m\n",
      "\u001b[33m\u001b[1m2025-04-02T11:46:31.618062-0700 | WARNING | mth5.timeseries.run_ts | validate_metadata | end time of dataset 2022-07-13T01:09:41.998291015+00:00 does not match metadata end 2022-07-13T01:09:41.998535156+00:00 updating metatdata value to 2022-07-13T01:09:41.998291015+00:00\u001b[0m\n"
     ]
    },
    {
     "name": "stderr",
     "output_type": "stream",
     "text": [
      "C:\\Users\\jpeacock\\OneDrive - DOI\\Documents\\GitHub\\mth5\\mth5\\timeseries\\channel_ts.py:1524: RuntimeWarning: invalid value encountered in cast\n",
      "  obspy_trace = Trace(self.ts.astype(encoding_dict[encoding]))\n"
     ]
    },
    {
     "name": "stdout",
     "output_type": "stream",
     "text": [
      "\u001b[1m2025-04-02T11:46:32.382860-0700 | INFO | mth5.io.conversion | split_ms_to_days | Wrote miniseed file to: c:\\Users\\jpeacock\\OneDrive - DOI\\MTData\\CL2021\\archive\\to_dmc\\1Z_CL306__FQN_2022_07_13T00_59_58.mseed\u001b[0m\n",
      "\u001b[1m2025-04-02T11:46:32.577940-0700 | INFO | mth5.io.conversion | split_ms_to_days | Wrote miniseed file to: c:\\Users\\jpeacock\\OneDrive - DOI\\MTData\\CL2021\\archive\\to_dmc\\1Z_CL306__FQE_2022_07_13T00_59_58.mseed\u001b[0m\n",
      "\u001b[1m2025-04-02T11:46:32.787029-0700 | INFO | mth5.io.conversion | split_ms_to_days | Wrote miniseed file to: c:\\Users\\jpeacock\\OneDrive - DOI\\MTData\\CL2021\\archive\\to_dmc\\1Z_CL306__FFN_2022_07_13T00_59_58.mseed\u001b[0m\n",
      "\u001b[1m2025-04-02T11:46:32.980672-0700 | INFO | mth5.io.conversion | split_ms_to_days | Wrote miniseed file to: c:\\Users\\jpeacock\\OneDrive - DOI\\MTData\\CL2021\\archive\\to_dmc\\1Z_CL306__FFE_2022_07_13T00_59_58.mseed\u001b[0m\n",
      "\u001b[1m2025-04-02T11:46:33.175406-0700 | INFO | mth5.io.conversion | split_ms_to_days | Wrote miniseed file to: c:\\Users\\jpeacock\\OneDrive - DOI\\MTData\\CL2021\\archive\\to_dmc\\1Z_CL306__FFZ_2022_07_13T00_59_58.mseed\u001b[0m\n",
      "\u001b[1m2025-04-02T11:46:40.724163-0700 | INFO | mth5.io.conversion | split_ms_to_days | Wrote miniseed file to: c:\\Users\\jpeacock\\OneDrive - DOI\\MTData\\CL2021\\archive\\to_dmc\\1Z_CL306__CQN_2022_07_13T01_09_58.mseed\u001b[0m\n",
      "\u001b[1m2025-04-02T11:46:41.160346-0700 | INFO | mth5.io.conversion | split_ms_to_days | Wrote miniseed file to: c:\\Users\\jpeacock\\OneDrive - DOI\\MTData\\CL2021\\archive\\to_dmc\\1Z_CL306__CQE_2022_07_13T01_09_58.mseed\u001b[0m\n",
      "\u001b[1m2025-04-02T11:46:41.607309-0700 | INFO | mth5.io.conversion | split_ms_to_days | Wrote miniseed file to: c:\\Users\\jpeacock\\OneDrive - DOI\\MTData\\CL2021\\archive\\to_dmc\\1Z_CL306__CFN_2022_07_13T01_09_58.mseed\u001b[0m\n",
      "\u001b[1m2025-04-02T11:46:42.044981-0700 | INFO | mth5.io.conversion | split_ms_to_days | Wrote miniseed file to: c:\\Users\\jpeacock\\OneDrive - DOI\\MTData\\CL2021\\archive\\to_dmc\\1Z_CL306__CFE_2022_07_13T01_09_58.mseed\u001b[0m\n",
      "\u001b[1m2025-04-02T11:46:42.491237-0700 | INFO | mth5.io.conversion | split_ms_to_days | Wrote miniseed file to: c:\\Users\\jpeacock\\OneDrive - DOI\\MTData\\CL2021\\archive\\to_dmc\\1Z_CL306__CFZ_2022_07_13T01_09_58.mseed\u001b[0m\n",
      "\u001b[1m2025-04-02T11:46:46.852447-0700 | INFO | mth5.timeseries.run_ts | _align_channels | Channels do not have a common end, using latest: 2022-07-13T07:09:41.998779296\u001b[0m\n",
      "\u001b[33m\u001b[1m2025-04-02T11:46:49.580001-0700 | WARNING | mth5.timeseries.run_ts | validate_metadata | end time of dataset 2022-07-13T07:09:41.998535156+00:00 does not match metadata end 2022-07-13T07:09:41.998779296+00:00 updating metatdata value to 2022-07-13T07:09:41.998535156+00:00\u001b[0m\n"
     ]
    },
    {
     "name": "stderr",
     "output_type": "stream",
     "text": [
      "C:\\Users\\jpeacock\\OneDrive - DOI\\Documents\\GitHub\\mth5\\mth5\\timeseries\\channel_ts.py:1524: RuntimeWarning: invalid value encountered in cast\n",
      "  obspy_trace = Trace(self.ts.astype(encoding_dict[encoding]))\n"
     ]
    },
    {
     "name": "stdout",
     "output_type": "stream",
     "text": [
      "\u001b[1m2025-04-02T11:46:50.414227-0700 | INFO | mth5.io.conversion | split_ms_to_days | Wrote miniseed file to: c:\\Users\\jpeacock\\OneDrive - DOI\\MTData\\CL2021\\archive\\to_dmc\\1Z_CL306__FQN_2022_07_13T06_59_58.mseed\u001b[0m\n",
      "\u001b[1m2025-04-02T11:46:50.606538-0700 | INFO | mth5.io.conversion | split_ms_to_days | Wrote miniseed file to: c:\\Users\\jpeacock\\OneDrive - DOI\\MTData\\CL2021\\archive\\to_dmc\\1Z_CL306__FQE_2022_07_13T06_59_58.mseed\u001b[0m\n",
      "\u001b[1m2025-04-02T11:46:50.804080-0700 | INFO | mth5.io.conversion | split_ms_to_days | Wrote miniseed file to: c:\\Users\\jpeacock\\OneDrive - DOI\\MTData\\CL2021\\archive\\to_dmc\\1Z_CL306__FFN_2022_07_13T06_59_58.mseed\u001b[0m\n",
      "\u001b[1m2025-04-02T11:46:50.998424-0700 | INFO | mth5.io.conversion | split_ms_to_days | Wrote miniseed file to: c:\\Users\\jpeacock\\OneDrive - DOI\\MTData\\CL2021\\archive\\to_dmc\\1Z_CL306__FFE_2022_07_13T06_59_58.mseed\u001b[0m\n",
      "\u001b[1m2025-04-02T11:46:51.197888-0700 | INFO | mth5.io.conversion | split_ms_to_days | Wrote miniseed file to: c:\\Users\\jpeacock\\OneDrive - DOI\\MTData\\CL2021\\archive\\to_dmc\\1Z_CL306__FFZ_2022_07_13T06_59_58.mseed\u001b[0m\n",
      "\u001b[1m2025-04-02T11:46:58.769971-0700 | INFO | mth5.io.conversion | split_ms_to_days | Wrote miniseed file to: c:\\Users\\jpeacock\\OneDrive - DOI\\MTData\\CL2021\\archive\\to_dmc\\1Z_CL306__CQN_2022_07_13T07_09_58.mseed\u001b[0m\n",
      "\u001b[1m2025-04-02T11:46:59.209130-0700 | INFO | mth5.io.conversion | split_ms_to_days | Wrote miniseed file to: c:\\Users\\jpeacock\\OneDrive - DOI\\MTData\\CL2021\\archive\\to_dmc\\1Z_CL306__CQE_2022_07_13T07_09_58.mseed\u001b[0m\n",
      "\u001b[1m2025-04-02T11:46:59.641042-0700 | INFO | mth5.io.conversion | split_ms_to_days | Wrote miniseed file to: c:\\Users\\jpeacock\\OneDrive - DOI\\MTData\\CL2021\\archive\\to_dmc\\1Z_CL306__CFN_2022_07_13T07_09_58.mseed\u001b[0m\n",
      "\u001b[1m2025-04-02T11:47:00.096691-0700 | INFO | mth5.io.conversion | split_ms_to_days | Wrote miniseed file to: c:\\Users\\jpeacock\\OneDrive - DOI\\MTData\\CL2021\\archive\\to_dmc\\1Z_CL306__CFE_2022_07_13T07_09_58.mseed\u001b[0m\n",
      "\u001b[1m2025-04-02T11:47:00.533132-0700 | INFO | mth5.io.conversion | split_ms_to_days | Wrote miniseed file to: c:\\Users\\jpeacock\\OneDrive - DOI\\MTData\\CL2021\\archive\\to_dmc\\1Z_CL306__CFZ_2022_07_13T07_09_58.mseed\u001b[0m\n",
      "\u001b[1m2025-04-02T11:47:04.115144-0700 | INFO | mth5.timeseries.run_ts | _align_channels | Channels do not have a common end, using latest: 2022-07-13T13:09:41.998291015\u001b[0m\n",
      "\u001b[33m\u001b[1m2025-04-02T11:47:05.817450-0700 | WARNING | mth5.timeseries.run_ts | validate_metadata | end time of dataset 2022-07-13T13:09:41.998047+00:00 does not match metadata end 2022-07-13T13:09:41.998291015+00:00 updating metatdata value to 2022-07-13T13:09:41.998047+00:00\u001b[0m\n"
     ]
    },
    {
     "name": "stderr",
     "output_type": "stream",
     "text": [
      "C:\\Users\\jpeacock\\OneDrive - DOI\\Documents\\GitHub\\mth5\\mth5\\timeseries\\channel_ts.py:1524: RuntimeWarning: invalid value encountered in cast\n",
      "  obspy_trace = Trace(self.ts.astype(encoding_dict[encoding]))\n"
     ]
    },
    {
     "name": "stdout",
     "output_type": "stream",
     "text": [
      "\u001b[1m2025-04-02T11:47:06.555716-0700 | INFO | mth5.io.conversion | split_ms_to_days | Wrote miniseed file to: c:\\Users\\jpeacock\\OneDrive - DOI\\MTData\\CL2021\\archive\\to_dmc\\1Z_CL306__FQN_2022_07_13T12_59_58.mseed\u001b[0m\n",
      "\u001b[1m2025-04-02T11:47:06.757753-0700 | INFO | mth5.io.conversion | split_ms_to_days | Wrote miniseed file to: c:\\Users\\jpeacock\\OneDrive - DOI\\MTData\\CL2021\\archive\\to_dmc\\1Z_CL306__FQE_2022_07_13T12_59_58.mseed\u001b[0m\n",
      "\u001b[1m2025-04-02T11:47:06.972101-0700 | INFO | mth5.io.conversion | split_ms_to_days | Wrote miniseed file to: c:\\Users\\jpeacock\\OneDrive - DOI\\MTData\\CL2021\\archive\\to_dmc\\1Z_CL306__FFN_2022_07_13T12_59_58.mseed\u001b[0m\n",
      "\u001b[1m2025-04-02T11:47:07.178123-0700 | INFO | mth5.io.conversion | split_ms_to_days | Wrote miniseed file to: c:\\Users\\jpeacock\\OneDrive - DOI\\MTData\\CL2021\\archive\\to_dmc\\1Z_CL306__FFE_2022_07_13T12_59_58.mseed\u001b[0m\n",
      "\u001b[1m2025-04-02T11:47:07.390616-0700 | INFO | mth5.io.conversion | split_ms_to_days | Wrote miniseed file to: c:\\Users\\jpeacock\\OneDrive - DOI\\MTData\\CL2021\\archive\\to_dmc\\1Z_CL306__FFZ_2022_07_13T12_59_58.mseed\u001b[0m\n",
      "\u001b[1m2025-04-02T11:47:12.828742-0700 | INFO | mth5.io.conversion | split_ms_to_days | Wrote miniseed file to: c:\\Users\\jpeacock\\OneDrive - DOI\\MTData\\CL2021\\archive\\to_dmc\\1Z_CL306__CQN_2022_07_13T13_09_58.mseed\u001b[0m\n",
      "\u001b[1m2025-04-02T11:47:13.027433-0700 | INFO | mth5.io.conversion | split_ms_to_days | Wrote miniseed file to: c:\\Users\\jpeacock\\OneDrive - DOI\\MTData\\CL2021\\archive\\to_dmc\\1Z_CL306__CQE_2022_07_13T13_09_58.mseed\u001b[0m\n",
      "\u001b[1m2025-04-02T11:47:13.221518-0700 | INFO | mth5.io.conversion | split_ms_to_days | Wrote miniseed file to: c:\\Users\\jpeacock\\OneDrive - DOI\\MTData\\CL2021\\archive\\to_dmc\\1Z_CL306__CFN_2022_07_13T13_09_58.mseed\u001b[0m\n",
      "\u001b[1m2025-04-02T11:47:13.415763-0700 | INFO | mth5.io.conversion | split_ms_to_days | Wrote miniseed file to: c:\\Users\\jpeacock\\OneDrive - DOI\\MTData\\CL2021\\archive\\to_dmc\\1Z_CL306__CFE_2022_07_13T13_09_58.mseed\u001b[0m\n",
      "\u001b[1m2025-04-02T11:47:13.611928-0700 | INFO | mth5.io.conversion | split_ms_to_days | Wrote miniseed file to: c:\\Users\\jpeacock\\OneDrive - DOI\\MTData\\CL2021\\archive\\to_dmc\\1Z_CL306__CFZ_2022_07_13T13_09_58.mseed\u001b[0m\n",
      "\u001b[1m2025-04-02T11:47:14.752684-0700 | INFO | mth5.mth5 | close_mth5 | Flushing and closing c:\\Users\\jpeacock\\OneDrive - DOI\\MTData\\CL2021\\archive\\cl306.h5\u001b[0m\n",
      "\u001b[33m\u001b[1m2025-04-02T11:47:14.755682-0700 | WARNING | mt_metadata.timeseries.stationxml.xml_station_mt_station | mt_to_xml | Station.geographic_name is None, using Station.id = cl306.Check StationXML site.name.\u001b[0m\n",
      "\u001b[1m2025-04-02T11:47:14.835692-0700 | INFO | mt_metadata.timeseries.filters.channel_response | to_obspy | total sensitivity 105384854631.2247 != total gain 1048576000.000055. Using total_gain.\u001b[0m\n",
      "\u001b[1m2025-04-02T11:47:14.864211-0700 | INFO | mt_metadata.timeseries.filters.channel_response | to_obspy | total sensitivity 105012851743.1351 != total gain 1048576000.000055. Using total_gain.\u001b[0m\n",
      "\u001b[1m2025-04-02T11:47:14.893214-0700 | INFO | mt_metadata.timeseries.filters.channel_response | to_obspy | total sensitivity 104693940307.89154 != total gain 1048576000.000055. Using total_gain.\u001b[0m\n",
      "\u001b[1m2025-04-02T11:47:15.002740-0700 | INFO | mt_metadata.timeseries.filters.channel_response | to_obspy | total sensitivity 105384854631.2247 != total gain 1048576000.000055. Using total_gain.\u001b[0m\n",
      "\u001b[1m2025-04-02T11:47:15.032745-0700 | INFO | mt_metadata.timeseries.filters.channel_response | to_obspy | total sensitivity 105012851743.1351 != total gain 1048576000.000055. Using total_gain.\u001b[0m\n",
      "\u001b[1m2025-04-02T11:47:15.064262-0700 | INFO | mt_metadata.timeseries.filters.channel_response | to_obspy | total sensitivity 104693940307.89154 != total gain 1048576000.000055. Using total_gain.\u001b[0m\n",
      "\u001b[1m2025-04-02T11:47:15.158793-0700 | INFO | mt_metadata.timeseries.filters.channel_response | to_obspy | total sensitivity 105384854631.2247 != total gain 1048576000.000055. Using total_gain.\u001b[0m\n",
      "\u001b[1m2025-04-02T11:47:15.189794-0700 | INFO | mt_metadata.timeseries.filters.channel_response | to_obspy | total sensitivity 105012851743.1351 != total gain 1048576000.000055. Using total_gain.\u001b[0m\n",
      "\u001b[1m2025-04-02T11:47:15.222794-0700 | INFO | mt_metadata.timeseries.filters.channel_response | to_obspy | total sensitivity 104693940307.89154 != total gain 1048576000.000055. Using total_gain.\u001b[0m\n",
      "\u001b[1m2025-04-02T11:47:15.313324-0700 | INFO | mt_metadata.timeseries.filters.channel_response | to_obspy | total sensitivity 105384854631.2247 != total gain 1048576000.000055. Using total_gain.\u001b[0m\n",
      "\u001b[1m2025-04-02T11:47:15.343850-0700 | INFO | mt_metadata.timeseries.filters.channel_response | to_obspy | total sensitivity 105012851743.1351 != total gain 1048576000.000055. Using total_gain.\u001b[0m\n",
      "\u001b[1m2025-04-02T11:47:15.374847-0700 | INFO | mt_metadata.timeseries.filters.channel_response | to_obspy | total sensitivity 104693940307.89154 != total gain 1048576000.000055. Using total_gain.\u001b[0m\n",
      "\u001b[1m2025-04-02T11:47:15.471272-0700 | INFO | mt_metadata.timeseries.filters.channel_response | to_obspy | total sensitivity 105384854631.2247 != total gain 1048576000.000055. Using total_gain.\u001b[0m\n",
      "\u001b[1m2025-04-02T11:47:15.503276-0700 | INFO | mt_metadata.timeseries.filters.channel_response | to_obspy | total sensitivity 105012851743.1351 != total gain 1048576000.000055. Using total_gain.\u001b[0m\n",
      "\u001b[1m2025-04-02T11:47:15.535097-0700 | INFO | mt_metadata.timeseries.filters.channel_response | to_obspy | total sensitivity 104693940307.89154 != total gain 1048576000.000055. Using total_gain.\u001b[0m\n",
      "\u001b[1m2025-04-02T11:47:15.635179-0700 | INFO | mt_metadata.timeseries.filters.channel_response | to_obspy | total sensitivity 105384854631.2247 != total gain 1048576000.000055. Using total_gain.\u001b[0m\n",
      "\u001b[1m2025-04-02T11:47:15.681695-0700 | INFO | mt_metadata.timeseries.filters.channel_response | to_obspy | total sensitivity 105012851743.1351 != total gain 1048576000.000055. Using total_gain.\u001b[0m\n",
      "\u001b[1m2025-04-02T11:47:15.718700-0700 | INFO | mt_metadata.timeseries.filters.channel_response | to_obspy | total sensitivity 104693940307.89154 != total gain 1048576000.000055. Using total_gain.\u001b[0m\n",
      "\u001b[1m2025-04-02T11:47:15.819253-0700 | INFO | mt_metadata.timeseries.filters.channel_response | to_obspy | total sensitivity 105384854631.2247 != total gain 1048576000.000055. Using total_gain.\u001b[0m\n",
      "\u001b[1m2025-04-02T11:47:15.852814-0700 | INFO | mt_metadata.timeseries.filters.channel_response | to_obspy | total sensitivity 105012851743.1351 != total gain 1048576000.000055. Using total_gain.\u001b[0m\n",
      "\u001b[1m2025-04-02T11:47:15.882780-0700 | INFO | mt_metadata.timeseries.filters.channel_response | to_obspy | total sensitivity 104693940307.89154 != total gain 1048576000.000055. Using total_gain.\u001b[0m\n",
      "\u001b[1m2025-04-02T11:47:16.008510-0700 | INFO | mt_metadata.timeseries.filters.channel_response | to_obspy | total sensitivity 105384854631.2247 != total gain 1048576000.000055. Using total_gain.\u001b[0m\n",
      "\u001b[1m2025-04-02T11:47:16.038525-0700 | INFO | mt_metadata.timeseries.filters.channel_response | to_obspy | total sensitivity 105012851743.1351 != total gain 1048576000.000055. Using total_gain.\u001b[0m\n",
      "\u001b[1m2025-04-02T11:47:16.085084-0700 | INFO | mt_metadata.timeseries.filters.channel_response | to_obspy | total sensitivity 104693940307.89154 != total gain 1048576000.000055. Using total_gain.\u001b[0m\n",
      "\u001b[1m2025-04-02T11:47:16.121303-0700 | INFO | mth5.io.conversion | convert_mth5_to_ms_stationxml | Wrote StationXML to c:\\Users\\jpeacock\\OneDrive - DOI\\MTData\\CL2021\\archive\\to_dmc\\cl306.xml\u001b[0m\n",
      "\u001b[33m\u001b[1m2025-04-02T11:47:18.225665-0700 | WARNING | mt_metadata.timeseries.station | remove_run | Could not find cl3101a to remove.\u001b[0m\n",
      "\u001b[1m2025-04-02T11:47:23.083574-0700 | INFO | mth5.io.conversion | split_ms_to_days | Wrote miniseed file to: c:\\Users\\jpeacock\\OneDrive - DOI\\MTData\\CL2021\\archive\\to_dmc\\1Z_CL3101__LQN_2022_07_08T18_59_58.mseed\u001b[0m\n",
      "\u001b[1m2025-04-02T11:47:23.087577-0700 | INFO | mth5.io.conversion | split_ms_to_days | Wrote miniseed file to: c:\\Users\\jpeacock\\OneDrive - DOI\\MTData\\CL2021\\archive\\to_dmc\\1Z_CL3101__LQN_2022_07_09T00_00_00.mseed\u001b[0m\n",
      "\u001b[1m2025-04-02T11:47:23.095575-0700 | INFO | mth5.io.conversion | split_ms_to_days | Wrote miniseed file to: c:\\Users\\jpeacock\\OneDrive - DOI\\MTData\\CL2021\\archive\\to_dmc\\1Z_CL3101__LQE_2022_07_08T18_59_58.mseed\u001b[0m\n",
      "\u001b[1m2025-04-02T11:47:23.100577-0700 | INFO | mth5.io.conversion | split_ms_to_days | Wrote miniseed file to: c:\\Users\\jpeacock\\OneDrive - DOI\\MTData\\CL2021\\archive\\to_dmc\\1Z_CL3101__LQE_2022_07_09T00_00_00.mseed\u001b[0m\n",
      "\u001b[1m2025-04-02T11:47:23.111576-0700 | INFO | mth5.io.conversion | split_ms_to_days | Wrote miniseed file to: c:\\Users\\jpeacock\\OneDrive - DOI\\MTData\\CL2021\\archive\\to_dmc\\1Z_CL3101__LFN_2022_07_08T18_59_58.mseed\u001b[0m\n",
      "\u001b[1m2025-04-02T11:47:23.117590-0700 | INFO | mth5.io.conversion | split_ms_to_days | Wrote miniseed file to: c:\\Users\\jpeacock\\OneDrive - DOI\\MTData\\CL2021\\archive\\to_dmc\\1Z_CL3101__LFN_2022_07_09T00_00_00.mseed\u001b[0m\n",
      "\u001b[1m2025-04-02T11:47:23.126608-0700 | INFO | mth5.io.conversion | split_ms_to_days | Wrote miniseed file to: c:\\Users\\jpeacock\\OneDrive - DOI\\MTData\\CL2021\\archive\\to_dmc\\1Z_CL3101__LFE_2022_07_08T18_59_58.mseed\u001b[0m\n",
      "\u001b[1m2025-04-02T11:47:23.132105-0700 | INFO | mth5.io.conversion | split_ms_to_days | Wrote miniseed file to: c:\\Users\\jpeacock\\OneDrive - DOI\\MTData\\CL2021\\archive\\to_dmc\\1Z_CL3101__LFE_2022_07_09T00_00_00.mseed\u001b[0m\n",
      "\u001b[1m2025-04-02T11:47:23.144123-0700 | INFO | mth5.io.conversion | split_ms_to_days | Wrote miniseed file to: c:\\Users\\jpeacock\\OneDrive - DOI\\MTData\\CL2021\\archive\\to_dmc\\1Z_CL3101__LFZ_2022_07_08T18_59_58.mseed\u001b[0m\n",
      "\u001b[1m2025-04-02T11:47:23.149109-0700 | INFO | mth5.io.conversion | split_ms_to_days | Wrote miniseed file to: c:\\Users\\jpeacock\\OneDrive - DOI\\MTData\\CL2021\\archive\\to_dmc\\1Z_CL3101__LFZ_2022_07_09T00_00_00.mseed\u001b[0m\n",
      "\u001b[1m2025-04-02T11:47:27.127646-0700 | INFO | mth5.timeseries.run_ts | _align_channels | Channels do not have a common end, using latest: 2022-07-08T19:09:41.997803000\u001b[0m\n"
     ]
    },
    {
     "name": "stderr",
     "output_type": "stream",
     "text": [
      "C:\\Users\\jpeacock\\OneDrive - DOI\\Documents\\GitHub\\mth5\\mth5\\timeseries\\channel_ts.py:1524: RuntimeWarning: invalid value encountered in cast\n",
      "  obspy_trace = Trace(self.ts.astype(encoding_dict[encoding]))\n"
     ]
    },
    {
     "name": "stdout",
     "output_type": "stream",
     "text": [
      "\u001b[1m2025-04-02T11:47:29.998858-0700 | INFO | mth5.io.conversion | split_ms_to_days | Wrote miniseed file to: c:\\Users\\jpeacock\\OneDrive - DOI\\MTData\\CL2021\\archive\\to_dmc\\1Z_CL3101__FQN_2022_07_08T18_59_58.mseed\u001b[0m\n",
      "\u001b[1m2025-04-02T11:47:30.201022-0700 | INFO | mth5.io.conversion | split_ms_to_days | Wrote miniseed file to: c:\\Users\\jpeacock\\OneDrive - DOI\\MTData\\CL2021\\archive\\to_dmc\\1Z_CL3101__FQE_2022_07_08T18_59_58.mseed\u001b[0m\n",
      "\u001b[1m2025-04-02T11:47:30.410218-0700 | INFO | mth5.io.conversion | split_ms_to_days | Wrote miniseed file to: c:\\Users\\jpeacock\\OneDrive - DOI\\MTData\\CL2021\\archive\\to_dmc\\1Z_CL3101__FFN_2022_07_08T18_59_58.mseed\u001b[0m\n",
      "\u001b[1m2025-04-02T11:47:30.628542-0700 | INFO | mth5.io.conversion | split_ms_to_days | Wrote miniseed file to: c:\\Users\\jpeacock\\OneDrive - DOI\\MTData\\CL2021\\archive\\to_dmc\\1Z_CL3101__FFE_2022_07_08T18_59_58.mseed\u001b[0m\n",
      "\u001b[1m2025-04-02T11:47:30.840150-0700 | INFO | mth5.io.conversion | split_ms_to_days | Wrote miniseed file to: c:\\Users\\jpeacock\\OneDrive - DOI\\MTData\\CL2021\\archive\\to_dmc\\1Z_CL3101__FFZ_2022_07_08T18_59_58.mseed\u001b[0m\n",
      "\u001b[1m2025-04-02T11:47:38.311117-0700 | INFO | mth5.timeseries.run_ts | _align_channels | Channels do not have a common end, using latest: 2022-07-09T00:59:41.968750000\u001b[0m\n",
      "\u001b[1m2025-04-02T11:47:41.535793-0700 | INFO | mth5.io.conversion | split_ms_to_days | Wrote miniseed file to: c:\\Users\\jpeacock\\OneDrive - DOI\\MTData\\CL2021\\archive\\to_dmc\\1Z_CL3101__CQN_2022_07_08T19_09_58.mseed\u001b[0m\n",
      "\u001b[1m2025-04-02T11:47:41.908990-0700 | INFO | mth5.io.conversion | split_ms_to_days | Wrote miniseed file to: c:\\Users\\jpeacock\\OneDrive - DOI\\MTData\\CL2021\\archive\\to_dmc\\1Z_CL3101__CQN_2022_07_09T00_00_00.mseed\u001b[0m\n",
      "\u001b[1m2025-04-02T11:47:41.987007-0700 | INFO | mth5.io.conversion | split_ms_to_days | Wrote miniseed file to: c:\\Users\\jpeacock\\OneDrive - DOI\\MTData\\CL2021\\archive\\to_dmc\\1Z_CL3101__CQE_2022_07_08T19_09_58.mseed\u001b[0m\n",
      "\u001b[1m2025-04-02T11:47:42.354012-0700 | INFO | mth5.io.conversion | split_ms_to_days | Wrote miniseed file to: c:\\Users\\jpeacock\\OneDrive - DOI\\MTData\\CL2021\\archive\\to_dmc\\1Z_CL3101__CQE_2022_07_09T00_00_00.mseed\u001b[0m\n",
      "\u001b[1m2025-04-02T11:47:42.431522-0700 | INFO | mth5.io.conversion | split_ms_to_days | Wrote miniseed file to: c:\\Users\\jpeacock\\OneDrive - DOI\\MTData\\CL2021\\archive\\to_dmc\\1Z_CL3101__CFN_2022_07_08T19_09_58.mseed\u001b[0m\n",
      "\u001b[1m2025-04-02T11:47:42.825396-0700 | INFO | mth5.io.conversion | split_ms_to_days | Wrote miniseed file to: c:\\Users\\jpeacock\\OneDrive - DOI\\MTData\\CL2021\\archive\\to_dmc\\1Z_CL3101__CFN_2022_07_09T00_00_00.mseed\u001b[0m\n",
      "\u001b[1m2025-04-02T11:47:42.910786-0700 | INFO | mth5.io.conversion | split_ms_to_days | Wrote miniseed file to: c:\\Users\\jpeacock\\OneDrive - DOI\\MTData\\CL2021\\archive\\to_dmc\\1Z_CL3101__CFE_2022_07_08T19_09_58.mseed\u001b[0m\n",
      "\u001b[1m2025-04-02T11:47:43.313333-0700 | INFO | mth5.io.conversion | split_ms_to_days | Wrote miniseed file to: c:\\Users\\jpeacock\\OneDrive - DOI\\MTData\\CL2021\\archive\\to_dmc\\1Z_CL3101__CFE_2022_07_09T00_00_00.mseed\u001b[0m\n",
      "\u001b[1m2025-04-02T11:47:43.400338-0700 | INFO | mth5.io.conversion | split_ms_to_days | Wrote miniseed file to: c:\\Users\\jpeacock\\OneDrive - DOI\\MTData\\CL2021\\archive\\to_dmc\\1Z_CL3101__CFZ_2022_07_08T19_09_58.mseed\u001b[0m\n",
      "\u001b[1m2025-04-02T11:47:43.779560-0700 | INFO | mth5.io.conversion | split_ms_to_days | Wrote miniseed file to: c:\\Users\\jpeacock\\OneDrive - DOI\\MTData\\CL2021\\archive\\to_dmc\\1Z_CL3101__CFZ_2022_07_09T00_00_00.mseed\u001b[0m\n",
      "\u001b[1m2025-04-02T11:47:47.865734-0700 | INFO | mth5.timeseries.run_ts | _align_channels | Channels do not have a common end, using latest: 2022-07-09T01:09:41.999512000\u001b[0m\n"
     ]
    },
    {
     "name": "stderr",
     "output_type": "stream",
     "text": [
      "C:\\Users\\jpeacock\\OneDrive - DOI\\Documents\\GitHub\\mth5\\mth5\\timeseries\\channel_ts.py:1524: RuntimeWarning: invalid value encountered in cast\n",
      "  obspy_trace = Trace(self.ts.astype(encoding_dict[encoding]))\n"
     ]
    },
    {
     "name": "stdout",
     "output_type": "stream",
     "text": [
      "\u001b[1m2025-04-02T11:47:50.903572-0700 | INFO | mth5.io.conversion | split_ms_to_days | Wrote miniseed file to: c:\\Users\\jpeacock\\OneDrive - DOI\\MTData\\CL2021\\archive\\to_dmc\\1Z_CL3101__FQN_2022_07_09T00_59_58.mseed\u001b[0m\n",
      "\u001b[1m2025-04-02T11:47:51.100563-0700 | INFO | mth5.io.conversion | split_ms_to_days | Wrote miniseed file to: c:\\Users\\jpeacock\\OneDrive - DOI\\MTData\\CL2021\\archive\\to_dmc\\1Z_CL3101__FQE_2022_07_09T00_59_58.mseed\u001b[0m\n",
      "\u001b[1m2025-04-02T11:47:51.314551-0700 | INFO | mth5.io.conversion | split_ms_to_days | Wrote miniseed file to: c:\\Users\\jpeacock\\OneDrive - DOI\\MTData\\CL2021\\archive\\to_dmc\\1Z_CL3101__FFN_2022_07_09T00_59_58.mseed\u001b[0m\n",
      "\u001b[1m2025-04-02T11:47:51.565843-0700 | INFO | mth5.io.conversion | split_ms_to_days | Wrote miniseed file to: c:\\Users\\jpeacock\\OneDrive - DOI\\MTData\\CL2021\\archive\\to_dmc\\1Z_CL3101__FFE_2022_07_09T00_59_58.mseed\u001b[0m\n",
      "\u001b[1m2025-04-02T11:47:51.780199-0700 | INFO | mth5.io.conversion | split_ms_to_days | Wrote miniseed file to: c:\\Users\\jpeacock\\OneDrive - DOI\\MTData\\CL2021\\archive\\to_dmc\\1Z_CL3101__FFZ_2022_07_09T00_59_58.mseed\u001b[0m\n",
      "\u001b[1m2025-04-02T11:48:00.156786-0700 | INFO | mth5.io.conversion | split_ms_to_days | Wrote miniseed file to: c:\\Users\\jpeacock\\OneDrive - DOI\\MTData\\CL2021\\archive\\to_dmc\\1Z_CL3101__CQN_2022_07_09T01_09_58.mseed\u001b[0m\n",
      "\u001b[1m2025-04-02T11:48:00.588552-0700 | INFO | mth5.io.conversion | split_ms_to_days | Wrote miniseed file to: c:\\Users\\jpeacock\\OneDrive - DOI\\MTData\\CL2021\\archive\\to_dmc\\1Z_CL3101__CQE_2022_07_09T01_09_58.mseed\u001b[0m\n",
      "\u001b[1m2025-04-02T11:48:01.104792-0700 | INFO | mth5.io.conversion | split_ms_to_days | Wrote miniseed file to: c:\\Users\\jpeacock\\OneDrive - DOI\\MTData\\CL2021\\archive\\to_dmc\\1Z_CL3101__CFN_2022_07_09T01_09_58.mseed\u001b[0m\n",
      "\u001b[1m2025-04-02T11:48:01.606013-0700 | INFO | mth5.io.conversion | split_ms_to_days | Wrote miniseed file to: c:\\Users\\jpeacock\\OneDrive - DOI\\MTData\\CL2021\\archive\\to_dmc\\1Z_CL3101__CFE_2022_07_09T01_09_58.mseed\u001b[0m\n",
      "\u001b[1m2025-04-02T11:48:02.195406-0700 | INFO | mth5.io.conversion | split_ms_to_days | Wrote miniseed file to: c:\\Users\\jpeacock\\OneDrive - DOI\\MTData\\CL2021\\archive\\to_dmc\\1Z_CL3101__CFZ_2022_07_09T01_09_58.mseed\u001b[0m\n",
      "\u001b[1m2025-04-02T11:48:06.023063-0700 | INFO | mth5.timeseries.run_ts | _align_channels | Channels do not have a common end, using latest: 2022-07-09T07:09:41.999756000\u001b[0m\n"
     ]
    },
    {
     "name": "stderr",
     "output_type": "stream",
     "text": [
      "C:\\Users\\jpeacock\\OneDrive - DOI\\Documents\\GitHub\\mth5\\mth5\\timeseries\\channel_ts.py:1524: RuntimeWarning: invalid value encountered in cast\n",
      "  obspy_trace = Trace(self.ts.astype(encoding_dict[encoding]))\n"
     ]
    },
    {
     "name": "stdout",
     "output_type": "stream",
     "text": [
      "\u001b[1m2025-04-02T11:48:09.190280-0700 | INFO | mth5.io.conversion | split_ms_to_days | Wrote miniseed file to: c:\\Users\\jpeacock\\OneDrive - DOI\\MTData\\CL2021\\archive\\to_dmc\\1Z_CL3101__FQN_2022_07_09T06_59_58.mseed\u001b[0m\n",
      "\u001b[1m2025-04-02T11:48:09.390420-0700 | INFO | mth5.io.conversion | split_ms_to_days | Wrote miniseed file to: c:\\Users\\jpeacock\\OneDrive - DOI\\MTData\\CL2021\\archive\\to_dmc\\1Z_CL3101__FQE_2022_07_09T06_59_58.mseed\u001b[0m\n",
      "\u001b[1m2025-04-02T11:48:09.589593-0700 | INFO | mth5.io.conversion | split_ms_to_days | Wrote miniseed file to: c:\\Users\\jpeacock\\OneDrive - DOI\\MTData\\CL2021\\archive\\to_dmc\\1Z_CL3101__FFN_2022_07_09T06_59_58.mseed\u001b[0m\n",
      "\u001b[1m2025-04-02T11:48:09.782030-0700 | INFO | mth5.io.conversion | split_ms_to_days | Wrote miniseed file to: c:\\Users\\jpeacock\\OneDrive - DOI\\MTData\\CL2021\\archive\\to_dmc\\1Z_CL3101__FFE_2022_07_09T06_59_58.mseed\u001b[0m\n",
      "\u001b[1m2025-04-02T11:48:09.972261-0700 | INFO | mth5.io.conversion | split_ms_to_days | Wrote miniseed file to: c:\\Users\\jpeacock\\OneDrive - DOI\\MTData\\CL2021\\archive\\to_dmc\\1Z_CL3101__FFZ_2022_07_09T06_59_58.mseed\u001b[0m\n",
      "\u001b[1m2025-04-02T11:48:18.394809-0700 | INFO | mth5.io.conversion | split_ms_to_days | Wrote miniseed file to: c:\\Users\\jpeacock\\OneDrive - DOI\\MTData\\CL2021\\archive\\to_dmc\\1Z_CL3101__CQN_2022_07_09T07_09_58.mseed\u001b[0m\n",
      "\u001b[1m2025-04-02T11:48:18.817167-0700 | INFO | mth5.io.conversion | split_ms_to_days | Wrote miniseed file to: c:\\Users\\jpeacock\\OneDrive - DOI\\MTData\\CL2021\\archive\\to_dmc\\1Z_CL3101__CQE_2022_07_09T07_09_58.mseed\u001b[0m\n",
      "\u001b[1m2025-04-02T11:48:19.289292-0700 | INFO | mth5.io.conversion | split_ms_to_days | Wrote miniseed file to: c:\\Users\\jpeacock\\OneDrive - DOI\\MTData\\CL2021\\archive\\to_dmc\\1Z_CL3101__CFN_2022_07_09T07_09_58.mseed\u001b[0m\n",
      "\u001b[1m2025-04-02T11:48:19.757930-0700 | INFO | mth5.io.conversion | split_ms_to_days | Wrote miniseed file to: c:\\Users\\jpeacock\\OneDrive - DOI\\MTData\\CL2021\\archive\\to_dmc\\1Z_CL3101__CFE_2022_07_09T07_09_58.mseed\u001b[0m\n",
      "\u001b[1m2025-04-02T11:48:20.258286-0700 | INFO | mth5.io.conversion | split_ms_to_days | Wrote miniseed file to: c:\\Users\\jpeacock\\OneDrive - DOI\\MTData\\CL2021\\archive\\to_dmc\\1Z_CL3101__CFZ_2022_07_09T07_09_58.mseed\u001b[0m\n",
      "\u001b[1m2025-04-02T11:48:24.292249-0700 | INFO | mth5.timeseries.run_ts | _align_channels | Channels do not have a common end, using latest: 2022-07-09T13:09:41.999023437\u001b[0m\n",
      "\u001b[33m\u001b[1m2025-04-02T11:48:27.017831-0700 | WARNING | mth5.timeseries.run_ts | validate_metadata | end time of dataset 2022-07-09T13:09:41.998779296+00:00 does not match metadata end 2022-07-09T13:09:41.999023437+00:00 updating metatdata value to 2022-07-09T13:09:41.998779296+00:00\u001b[0m\n"
     ]
    },
    {
     "name": "stderr",
     "output_type": "stream",
     "text": [
      "C:\\Users\\jpeacock\\OneDrive - DOI\\Documents\\GitHub\\mth5\\mth5\\timeseries\\channel_ts.py:1524: RuntimeWarning: invalid value encountered in cast\n",
      "  obspy_trace = Trace(self.ts.astype(encoding_dict[encoding]))\n"
     ]
    },
    {
     "name": "stdout",
     "output_type": "stream",
     "text": [
      "\u001b[1m2025-04-02T11:48:27.767151-0700 | INFO | mth5.io.conversion | split_ms_to_days | Wrote miniseed file to: c:\\Users\\jpeacock\\OneDrive - DOI\\MTData\\CL2021\\archive\\to_dmc\\1Z_CL3101__FQN_2022_07_09T12_59_58.mseed\u001b[0m\n",
      "\u001b[1m2025-04-02T11:48:27.960310-0700 | INFO | mth5.io.conversion | split_ms_to_days | Wrote miniseed file to: c:\\Users\\jpeacock\\OneDrive - DOI\\MTData\\CL2021\\archive\\to_dmc\\1Z_CL3101__FQE_2022_07_09T12_59_58.mseed\u001b[0m\n",
      "\u001b[1m2025-04-02T11:48:28.148583-0700 | INFO | mth5.io.conversion | split_ms_to_days | Wrote miniseed file to: c:\\Users\\jpeacock\\OneDrive - DOI\\MTData\\CL2021\\archive\\to_dmc\\1Z_CL3101__FFN_2022_07_09T12_59_58.mseed\u001b[0m\n",
      "\u001b[1m2025-04-02T11:48:28.343847-0700 | INFO | mth5.io.conversion | split_ms_to_days | Wrote miniseed file to: c:\\Users\\jpeacock\\OneDrive - DOI\\MTData\\CL2021\\archive\\to_dmc\\1Z_CL3101__FFE_2022_07_09T12_59_58.mseed\u001b[0m\n",
      "\u001b[1m2025-04-02T11:48:28.527946-0700 | INFO | mth5.io.conversion | split_ms_to_days | Wrote miniseed file to: c:\\Users\\jpeacock\\OneDrive - DOI\\MTData\\CL2021\\archive\\to_dmc\\1Z_CL3101__FFZ_2022_07_09T12_59_58.mseed\u001b[0m\n",
      "\u001b[1m2025-04-02T11:48:34.686576-0700 | INFO | mth5.io.conversion | split_ms_to_days | Wrote miniseed file to: c:\\Users\\jpeacock\\OneDrive - DOI\\MTData\\CL2021\\archive\\to_dmc\\1Z_CL3101__CQN_2022_07_09T13_09_58.mseed\u001b[0m\n",
      "\u001b[1m2025-04-02T11:48:34.941614-0700 | INFO | mth5.io.conversion | split_ms_to_days | Wrote miniseed file to: c:\\Users\\jpeacock\\OneDrive - DOI\\MTData\\CL2021\\archive\\to_dmc\\1Z_CL3101__CQE_2022_07_09T13_09_58.mseed\u001b[0m\n",
      "\u001b[1m2025-04-02T11:48:35.210248-0700 | INFO | mth5.io.conversion | split_ms_to_days | Wrote miniseed file to: c:\\Users\\jpeacock\\OneDrive - DOI\\MTData\\CL2021\\archive\\to_dmc\\1Z_CL3101__CFN_2022_07_09T13_09_58.mseed\u001b[0m\n",
      "\u001b[1m2025-04-02T11:48:35.466375-0700 | INFO | mth5.io.conversion | split_ms_to_days | Wrote miniseed file to: c:\\Users\\jpeacock\\OneDrive - DOI\\MTData\\CL2021\\archive\\to_dmc\\1Z_CL3101__CFE_2022_07_09T13_09_58.mseed\u001b[0m\n",
      "\u001b[1m2025-04-02T11:48:35.737199-0700 | INFO | mth5.io.conversion | split_ms_to_days | Wrote miniseed file to: c:\\Users\\jpeacock\\OneDrive - DOI\\MTData\\CL2021\\archive\\to_dmc\\1Z_CL3101__CFZ_2022_07_09T13_09_58.mseed\u001b[0m\n",
      "\u001b[1m2025-04-02T11:48:36.967823-0700 | INFO | mth5.mth5 | close_mth5 | Flushing and closing c:\\Users\\jpeacock\\OneDrive - DOI\\MTData\\CL2021\\archive\\cl3101.h5\u001b[0m\n",
      "\u001b[33m\u001b[1m2025-04-02T11:48:36.971824-0700 | WARNING | mt_metadata.timeseries.stationxml.xml_station_mt_station | mt_to_xml | Station.geographic_name is None, using Station.id = cl3101.Check StationXML site.name.\u001b[0m\n",
      "\u001b[1m2025-04-02T11:48:37.046869-0700 | INFO | mt_metadata.timeseries.filters.channel_response | to_obspy | total sensitivity 105384854631.2247 != total gain 1048576000.000055. Using total_gain.\u001b[0m\n",
      "\u001b[1m2025-04-02T11:48:37.074472-0700 | INFO | mt_metadata.timeseries.filters.channel_response | to_obspy | total sensitivity 105012851743.1351 != total gain 1048576000.000055. Using total_gain.\u001b[0m\n",
      "\u001b[1m2025-04-02T11:48:37.103472-0700 | INFO | mt_metadata.timeseries.filters.channel_response | to_obspy | total sensitivity 104693940307.89154 != total gain 1048576000.000055. Using total_gain.\u001b[0m\n",
      "\u001b[1m2025-04-02T11:48:37.202967-0700 | INFO | mt_metadata.timeseries.filters.channel_response | to_obspy | total sensitivity 105384854631.2247 != total gain 1048576000.000055. Using total_gain.\u001b[0m\n",
      "\u001b[1m2025-04-02T11:48:37.231969-0700 | INFO | mt_metadata.timeseries.filters.channel_response | to_obspy | total sensitivity 105012851743.1351 != total gain 1048576000.000055. Using total_gain.\u001b[0m\n",
      "\u001b[1m2025-04-02T11:48:37.260203-0700 | INFO | mt_metadata.timeseries.filters.channel_response | to_obspy | total sensitivity 104693940307.89154 != total gain 1048576000.000055. Using total_gain.\u001b[0m\n",
      "\u001b[1m2025-04-02T11:48:37.354237-0700 | INFO | mt_metadata.timeseries.filters.channel_response | to_obspy | total sensitivity 105384854631.2247 != total gain 1048576000.000055. Using total_gain.\u001b[0m\n",
      "\u001b[1m2025-04-02T11:48:37.383754-0700 | INFO | mt_metadata.timeseries.filters.channel_response | to_obspy | total sensitivity 105012851743.1351 != total gain 1048576000.000055. Using total_gain.\u001b[0m\n",
      "\u001b[1m2025-04-02T11:48:37.411756-0700 | INFO | mt_metadata.timeseries.filters.channel_response | to_obspy | total sensitivity 104693940307.89154 != total gain 1048576000.000055. Using total_gain.\u001b[0m\n",
      "\u001b[1m2025-04-02T11:48:37.527373-0700 | INFO | mt_metadata.timeseries.filters.channel_response | to_obspy | total sensitivity 105384854631.2247 != total gain 1048576000.000055. Using total_gain.\u001b[0m\n",
      "\u001b[1m2025-04-02T11:48:37.559932-0700 | INFO | mt_metadata.timeseries.filters.channel_response | to_obspy | total sensitivity 105012851743.1351 != total gain 1048576000.000055. Using total_gain.\u001b[0m\n",
      "\u001b[1m2025-04-02T11:48:37.589930-0700 | INFO | mt_metadata.timeseries.filters.channel_response | to_obspy | total sensitivity 104693940307.89154 != total gain 1048576000.000055. Using total_gain.\u001b[0m\n",
      "\u001b[1m2025-04-02T11:48:37.684524-0700 | INFO | mt_metadata.timeseries.filters.channel_response | to_obspy | total sensitivity 105384854631.2247 != total gain 1048576000.000055. Using total_gain.\u001b[0m\n",
      "\u001b[1m2025-04-02T11:48:37.713495-0700 | INFO | mt_metadata.timeseries.filters.channel_response | to_obspy | total sensitivity 105012851743.1351 != total gain 1048576000.000055. Using total_gain.\u001b[0m\n",
      "\u001b[1m2025-04-02T11:48:37.748580-0700 | INFO | mt_metadata.timeseries.filters.channel_response | to_obspy | total sensitivity 104693940307.89154 != total gain 1048576000.000055. Using total_gain.\u001b[0m\n",
      "\u001b[1m2025-04-02T11:48:37.839144-0700 | INFO | mt_metadata.timeseries.filters.channel_response | to_obspy | total sensitivity 105384854631.2247 != total gain 1048576000.000055. Using total_gain.\u001b[0m\n",
      "\u001b[1m2025-04-02T11:48:37.868725-0700 | INFO | mt_metadata.timeseries.filters.channel_response | to_obspy | total sensitivity 105012851743.1351 != total gain 1048576000.000055. Using total_gain.\u001b[0m\n",
      "\u001b[1m2025-04-02T11:48:37.900726-0700 | INFO | mt_metadata.timeseries.filters.channel_response | to_obspy | total sensitivity 104693940307.89154 != total gain 1048576000.000055. Using total_gain.\u001b[0m\n",
      "\u001b[1m2025-04-02T11:48:37.993376-0700 | INFO | mt_metadata.timeseries.filters.channel_response | to_obspy | total sensitivity 105384854631.2247 != total gain 1048576000.000055. Using total_gain.\u001b[0m\n",
      "\u001b[1m2025-04-02T11:48:38.023345-0700 | INFO | mt_metadata.timeseries.filters.channel_response | to_obspy | total sensitivity 105012851743.1351 != total gain 1048576000.000055. Using total_gain.\u001b[0m\n",
      "\u001b[1m2025-04-02T11:48:38.051417-0700 | INFO | mt_metadata.timeseries.filters.channel_response | to_obspy | total sensitivity 104693940307.89154 != total gain 1048576000.000055. Using total_gain.\u001b[0m\n",
      "\u001b[1m2025-04-02T11:48:38.143001-0700 | INFO | mt_metadata.timeseries.filters.channel_response | to_obspy | total sensitivity 105384854631.2247 != total gain 1048576000.000055. Using total_gain.\u001b[0m\n",
      "\u001b[1m2025-04-02T11:48:38.170581-0700 | INFO | mt_metadata.timeseries.filters.channel_response | to_obspy | total sensitivity 105012851743.1351 != total gain 1048576000.000055. Using total_gain.\u001b[0m\n",
      "\u001b[1m2025-04-02T11:48:38.205582-0700 | INFO | mt_metadata.timeseries.filters.channel_response | to_obspy | total sensitivity 104693940307.89154 != total gain 1048576000.000055. Using total_gain.\u001b[0m\n",
      "\u001b[1m2025-04-02T11:48:38.306197-0700 | INFO | mt_metadata.timeseries.filters.channel_response | to_obspy | total sensitivity 105384854631.2247 != total gain 1048576000.000055. Using total_gain.\u001b[0m\n",
      "\u001b[1m2025-04-02T11:48:38.334200-0700 | INFO | mt_metadata.timeseries.filters.channel_response | to_obspy | total sensitivity 105012851743.1351 != total gain 1048576000.000055. Using total_gain.\u001b[0m\n",
      "\u001b[1m2025-04-02T11:48:38.362782-0700 | INFO | mt_metadata.timeseries.filters.channel_response | to_obspy | total sensitivity 104693940307.89154 != total gain 1048576000.000055. Using total_gain.\u001b[0m\n",
      "\u001b[1m2025-04-02T11:48:38.395784-0700 | INFO | mth5.io.conversion | convert_mth5_to_ms_stationxml | Wrote StationXML to c:\\Users\\jpeacock\\OneDrive - DOI\\MTData\\CL2021\\archive\\to_dmc\\cl3101.xml\u001b[0m\n",
      "\u001b[33m\u001b[1m2025-04-02T11:48:40.108424-0700 | WARNING | mt_metadata.timeseries.station | remove_run | Could not find cl3116a to remove.\u001b[0m\n",
      "\u001b[1m2025-04-02T11:48:43.646805-0700 | INFO | mth5.io.conversion | split_ms_to_days | Wrote miniseed file to: c:\\Users\\jpeacock\\OneDrive - DOI\\MTData\\CL2021\\archive\\to_dmc\\1Z_CL3116__LQN_2022_07_11T19_49_58.mseed\u001b[0m\n",
      "\u001b[1m2025-04-02T11:48:43.650816-0700 | INFO | mth5.io.conversion | split_ms_to_days | Wrote miniseed file to: c:\\Users\\jpeacock\\OneDrive - DOI\\MTData\\CL2021\\archive\\to_dmc\\1Z_CL3116__LQN_2022_07_12T00_00_00.mseed\u001b[0m\n",
      "\u001b[1m2025-04-02T11:48:43.660306-0700 | INFO | mth5.io.conversion | split_ms_to_days | Wrote miniseed file to: c:\\Users\\jpeacock\\OneDrive - DOI\\MTData\\CL2021\\archive\\to_dmc\\1Z_CL3116__LQE_2022_07_11T19_49_58.mseed\u001b[0m\n",
      "\u001b[1m2025-04-02T11:48:43.665330-0700 | INFO | mth5.io.conversion | split_ms_to_days | Wrote miniseed file to: c:\\Users\\jpeacock\\OneDrive - DOI\\MTData\\CL2021\\archive\\to_dmc\\1Z_CL3116__LQE_2022_07_12T00_00_00.mseed\u001b[0m\n",
      "\u001b[1m2025-04-02T11:48:43.677315-0700 | INFO | mth5.io.conversion | split_ms_to_days | Wrote miniseed file to: c:\\Users\\jpeacock\\OneDrive - DOI\\MTData\\CL2021\\archive\\to_dmc\\1Z_CL3116__LFN_2022_07_11T19_49_58.mseed\u001b[0m\n",
      "\u001b[1m2025-04-02T11:48:43.681317-0700 | INFO | mth5.io.conversion | split_ms_to_days | Wrote miniseed file to: c:\\Users\\jpeacock\\OneDrive - DOI\\MTData\\CL2021\\archive\\to_dmc\\1Z_CL3116__LFN_2022_07_12T00_00_00.mseed\u001b[0m\n",
      "\u001b[1m2025-04-02T11:48:43.691313-0700 | INFO | mth5.io.conversion | split_ms_to_days | Wrote miniseed file to: c:\\Users\\jpeacock\\OneDrive - DOI\\MTData\\CL2021\\archive\\to_dmc\\1Z_CL3116__LFE_2022_07_11T19_49_58.mseed\u001b[0m\n",
      "\u001b[1m2025-04-02T11:48:43.696314-0700 | INFO | mth5.io.conversion | split_ms_to_days | Wrote miniseed file to: c:\\Users\\jpeacock\\OneDrive - DOI\\MTData\\CL2021\\archive\\to_dmc\\1Z_CL3116__LFE_2022_07_12T00_00_00.mseed\u001b[0m\n",
      "\u001b[1m2025-04-02T11:48:43.706320-0700 | INFO | mth5.io.conversion | split_ms_to_days | Wrote miniseed file to: c:\\Users\\jpeacock\\OneDrive - DOI\\MTData\\CL2021\\archive\\to_dmc\\1Z_CL3116__LFZ_2022_07_11T19_49_58.mseed\u001b[0m\n",
      "\u001b[1m2025-04-02T11:48:43.710316-0700 | INFO | mth5.io.conversion | split_ms_to_days | Wrote miniseed file to: c:\\Users\\jpeacock\\OneDrive - DOI\\MTData\\CL2021\\archive\\to_dmc\\1Z_CL3116__LFZ_2022_07_12T00_00_00.mseed\u001b[0m\n",
      "\u001b[1m2025-04-02T11:48:50.065105-0700 | INFO | mth5.timeseries.run_ts | _align_channels | Channels do not have a common end, using latest: 2022-07-12T00:59:41.968750000\u001b[0m\n",
      "\u001b[1m2025-04-02T11:48:52.845901-0700 | INFO | mth5.io.conversion | split_ms_to_days | Wrote miniseed file to: c:\\Users\\jpeacock\\OneDrive - DOI\\MTData\\CL2021\\archive\\to_dmc\\1Z_CL3116__CQN_2022_07_11T19_49_58.mseed\u001b[0m\n",
      "\u001b[1m2025-04-02T11:48:53.186264-0700 | INFO | mth5.io.conversion | split_ms_to_days | Wrote miniseed file to: c:\\Users\\jpeacock\\OneDrive - DOI\\MTData\\CL2021\\archive\\to_dmc\\1Z_CL3116__CQN_2022_07_12T00_00_00.mseed\u001b[0m\n",
      "\u001b[1m2025-04-02T11:48:53.265234-0700 | INFO | mth5.io.conversion | split_ms_to_days | Wrote miniseed file to: c:\\Users\\jpeacock\\OneDrive - DOI\\MTData\\CL2021\\archive\\to_dmc\\1Z_CL3116__CQE_2022_07_11T19_49_58.mseed\u001b[0m\n",
      "\u001b[1m2025-04-02T11:48:53.581980-0700 | INFO | mth5.io.conversion | split_ms_to_days | Wrote miniseed file to: c:\\Users\\jpeacock\\OneDrive - DOI\\MTData\\CL2021\\archive\\to_dmc\\1Z_CL3116__CQE_2022_07_12T00_00_00.mseed\u001b[0m\n",
      "\u001b[1m2025-04-02T11:48:53.657983-0700 | INFO | mth5.io.conversion | split_ms_to_days | Wrote miniseed file to: c:\\Users\\jpeacock\\OneDrive - DOI\\MTData\\CL2021\\archive\\to_dmc\\1Z_CL3116__CFN_2022_07_11T19_49_58.mseed\u001b[0m\n",
      "\u001b[1m2025-04-02T11:48:53.974313-0700 | INFO | mth5.io.conversion | split_ms_to_days | Wrote miniseed file to: c:\\Users\\jpeacock\\OneDrive - DOI\\MTData\\CL2021\\archive\\to_dmc\\1Z_CL3116__CFN_2022_07_12T00_00_00.mseed\u001b[0m\n",
      "\u001b[1m2025-04-02T11:48:54.049312-0700 | INFO | mth5.io.conversion | split_ms_to_days | Wrote miniseed file to: c:\\Users\\jpeacock\\OneDrive - DOI\\MTData\\CL2021\\archive\\to_dmc\\1Z_CL3116__CFE_2022_07_11T19_49_58.mseed\u001b[0m\n",
      "\u001b[1m2025-04-02T11:48:54.372082-0700 | INFO | mth5.io.conversion | split_ms_to_days | Wrote miniseed file to: c:\\Users\\jpeacock\\OneDrive - DOI\\MTData\\CL2021\\archive\\to_dmc\\1Z_CL3116__CFE_2022_07_12T00_00_00.mseed\u001b[0m\n",
      "\u001b[1m2025-04-02T11:48:54.450047-0700 | INFO | mth5.io.conversion | split_ms_to_days | Wrote miniseed file to: c:\\Users\\jpeacock\\OneDrive - DOI\\MTData\\CL2021\\archive\\to_dmc\\1Z_CL3116__CFZ_2022_07_11T19_49_58.mseed\u001b[0m\n",
      "\u001b[1m2025-04-02T11:48:54.781633-0700 | INFO | mth5.io.conversion | split_ms_to_days | Wrote miniseed file to: c:\\Users\\jpeacock\\OneDrive - DOI\\MTData\\CL2021\\archive\\to_dmc\\1Z_CL3116__CFZ_2022_07_12T00_00_00.mseed\u001b[0m\n",
      "\u001b[1m2025-04-02T11:48:58.077882-0700 | INFO | mth5.timeseries.run_ts | _align_channels | Channels do not have a common end, using latest: 2022-07-12T01:09:41.998291015\u001b[0m\n",
      "\u001b[33m\u001b[1m2025-04-02T11:48:59.778160-0700 | WARNING | mth5.timeseries.run_ts | validate_metadata | end time of dataset 2022-07-12T01:09:41.998047+00:00 does not match metadata end 2022-07-12T01:09:41.998291015+00:00 updating metatdata value to 2022-07-12T01:09:41.998047+00:00\u001b[0m\n"
     ]
    },
    {
     "name": "stderr",
     "output_type": "stream",
     "text": [
      "C:\\Users\\jpeacock\\OneDrive - DOI\\Documents\\GitHub\\mth5\\mth5\\timeseries\\channel_ts.py:1524: RuntimeWarning: invalid value encountered in cast\n",
      "  obspy_trace = Trace(self.ts.astype(encoding_dict[encoding]))\n"
     ]
    },
    {
     "name": "stdout",
     "output_type": "stream",
     "text": [
      "\u001b[1m2025-04-02T11:49:00.528657-0700 | INFO | mth5.io.conversion | split_ms_to_days | Wrote miniseed file to: c:\\Users\\jpeacock\\OneDrive - DOI\\MTData\\CL2021\\archive\\to_dmc\\1Z_CL3116__FQN_2022_07_12T00_59_58.mseed\u001b[0m\n",
      "\u001b[1m2025-04-02T11:49:00.716826-0700 | INFO | mth5.io.conversion | split_ms_to_days | Wrote miniseed file to: c:\\Users\\jpeacock\\OneDrive - DOI\\MTData\\CL2021\\archive\\to_dmc\\1Z_CL3116__FQE_2022_07_12T00_59_58.mseed\u001b[0m\n",
      "\u001b[1m2025-04-02T11:49:00.927137-0700 | INFO | mth5.io.conversion | split_ms_to_days | Wrote miniseed file to: c:\\Users\\jpeacock\\OneDrive - DOI\\MTData\\CL2021\\archive\\to_dmc\\1Z_CL3116__FFN_2022_07_12T00_59_58.mseed\u001b[0m\n",
      "\u001b[1m2025-04-02T11:49:01.123102-0700 | INFO | mth5.io.conversion | split_ms_to_days | Wrote miniseed file to: c:\\Users\\jpeacock\\OneDrive - DOI\\MTData\\CL2021\\archive\\to_dmc\\1Z_CL3116__FFE_2022_07_12T00_59_58.mseed\u001b[0m\n",
      "\u001b[1m2025-04-02T11:49:01.327165-0700 | INFO | mth5.io.conversion | split_ms_to_days | Wrote miniseed file to: c:\\Users\\jpeacock\\OneDrive - DOI\\MTData\\CL2021\\archive\\to_dmc\\1Z_CL3116__FFZ_2022_07_12T00_59_58.mseed\u001b[0m\n",
      "\u001b[1m2025-04-02T11:49:07.889856-0700 | INFO | mth5.timeseries.run_ts | _align_channels | Channels do not have a common end, using latest: 2022-07-12T06:59:41.968750000\u001b[0m\n",
      "\u001b[1m2025-04-02T11:49:11.029438-0700 | INFO | mth5.io.conversion | split_ms_to_days | Wrote miniseed file to: c:\\Users\\jpeacock\\OneDrive - DOI\\MTData\\CL2021\\archive\\to_dmc\\1Z_CL3116__CQN_2022_07_12T01_09_58.mseed\u001b[0m\n",
      "\u001b[1m2025-04-02T11:49:11.549963-0700 | INFO | mth5.io.conversion | split_ms_to_days | Wrote miniseed file to: c:\\Users\\jpeacock\\OneDrive - DOI\\MTData\\CL2021\\archive\\to_dmc\\1Z_CL3116__CQE_2022_07_12T01_09_58.mseed\u001b[0m\n",
      "\u001b[1m2025-04-02T11:49:12.033009-0700 | INFO | mth5.io.conversion | split_ms_to_days | Wrote miniseed file to: c:\\Users\\jpeacock\\OneDrive - DOI\\MTData\\CL2021\\archive\\to_dmc\\1Z_CL3116__CFN_2022_07_12T01_09_58.mseed\u001b[0m\n",
      "\u001b[1m2025-04-02T11:49:12.467709-0700 | INFO | mth5.io.conversion | split_ms_to_days | Wrote miniseed file to: c:\\Users\\jpeacock\\OneDrive - DOI\\MTData\\CL2021\\archive\\to_dmc\\1Z_CL3116__CFE_2022_07_12T01_09_58.mseed\u001b[0m\n",
      "\u001b[1m2025-04-02T11:49:12.950021-0700 | INFO | mth5.io.conversion | split_ms_to_days | Wrote miniseed file to: c:\\Users\\jpeacock\\OneDrive - DOI\\MTData\\CL2021\\archive\\to_dmc\\1Z_CL3116__CFZ_2022_07_12T01_09_58.mseed\u001b[0m\n",
      "\u001b[1m2025-04-02T11:49:16.667267-0700 | INFO | mth5.timeseries.run_ts | _align_channels | Channels do not have a common end, using latest: 2022-07-12T07:09:41.999268000\u001b[0m\n"
     ]
    },
    {
     "name": "stderr",
     "output_type": "stream",
     "text": [
      "C:\\Users\\jpeacock\\OneDrive - DOI\\Documents\\GitHub\\mth5\\mth5\\timeseries\\channel_ts.py:1524: RuntimeWarning: invalid value encountered in cast\n",
      "  obspy_trace = Trace(self.ts.astype(encoding_dict[encoding]))\n"
     ]
    },
    {
     "name": "stdout",
     "output_type": "stream",
     "text": [
      "\u001b[1m2025-04-02T11:49:19.766501-0700 | INFO | mth5.io.conversion | split_ms_to_days | Wrote miniseed file to: c:\\Users\\jpeacock\\OneDrive - DOI\\MTData\\CL2021\\archive\\to_dmc\\1Z_CL3116__FQN_2022_07_12T06_59_58.mseed\u001b[0m\n",
      "\u001b[1m2025-04-02T11:49:19.972538-0700 | INFO | mth5.io.conversion | split_ms_to_days | Wrote miniseed file to: c:\\Users\\jpeacock\\OneDrive - DOI\\MTData\\CL2021\\archive\\to_dmc\\1Z_CL3116__FQE_2022_07_12T06_59_58.mseed\u001b[0m\n",
      "\u001b[1m2025-04-02T11:49:20.175568-0700 | INFO | mth5.io.conversion | split_ms_to_days | Wrote miniseed file to: c:\\Users\\jpeacock\\OneDrive - DOI\\MTData\\CL2021\\archive\\to_dmc\\1Z_CL3116__FFN_2022_07_12T06_59_58.mseed\u001b[0m\n",
      "\u001b[1m2025-04-02T11:49:20.388638-0700 | INFO | mth5.io.conversion | split_ms_to_days | Wrote miniseed file to: c:\\Users\\jpeacock\\OneDrive - DOI\\MTData\\CL2021\\archive\\to_dmc\\1Z_CL3116__FFE_2022_07_12T06_59_58.mseed\u001b[0m\n",
      "\u001b[1m2025-04-02T11:49:20.588713-0700 | INFO | mth5.io.conversion | split_ms_to_days | Wrote miniseed file to: c:\\Users\\jpeacock\\OneDrive - DOI\\MTData\\CL2021\\archive\\to_dmc\\1Z_CL3116__FFZ_2022_07_12T06_59_58.mseed\u001b[0m\n",
      "\u001b[1m2025-04-02T11:49:28.170570-0700 | INFO | mth5.io.conversion | split_ms_to_days | Wrote miniseed file to: c:\\Users\\jpeacock\\OneDrive - DOI\\MTData\\CL2021\\archive\\to_dmc\\1Z_CL3116__CQN_2022_07_12T07_09_58.mseed\u001b[0m\n",
      "\u001b[1m2025-04-02T11:49:28.585955-0700 | INFO | mth5.io.conversion | split_ms_to_days | Wrote miniseed file to: c:\\Users\\jpeacock\\OneDrive - DOI\\MTData\\CL2021\\archive\\to_dmc\\1Z_CL3116__CQE_2022_07_12T07_09_58.mseed\u001b[0m\n",
      "\u001b[1m2025-04-02T11:49:29.025377-0700 | INFO | mth5.io.conversion | split_ms_to_days | Wrote miniseed file to: c:\\Users\\jpeacock\\OneDrive - DOI\\MTData\\CL2021\\archive\\to_dmc\\1Z_CL3116__CFN_2022_07_12T07_09_58.mseed\u001b[0m\n",
      "\u001b[1m2025-04-02T11:49:29.482951-0700 | INFO | mth5.io.conversion | split_ms_to_days | Wrote miniseed file to: c:\\Users\\jpeacock\\OneDrive - DOI\\MTData\\CL2021\\archive\\to_dmc\\1Z_CL3116__CFE_2022_07_12T07_09_58.mseed\u001b[0m\n",
      "\u001b[1m2025-04-02T11:49:29.919360-0700 | INFO | mth5.io.conversion | split_ms_to_days | Wrote miniseed file to: c:\\Users\\jpeacock\\OneDrive - DOI\\MTData\\CL2021\\archive\\to_dmc\\1Z_CL3116__CFZ_2022_07_12T07_09_58.mseed\u001b[0m\n",
      "\u001b[1m2025-04-02T11:49:34.148364-0700 | INFO | mth5.timeseries.run_ts | _align_channels | Channels do not have a common end, using latest: 2022-07-12T13:09:41.998535156\u001b[0m\n",
      "\u001b[33m\u001b[1m2025-04-02T11:49:36.873898-0700 | WARNING | mth5.timeseries.run_ts | validate_metadata | end time of dataset 2022-07-12T13:09:41.998291015+00:00 does not match metadata end 2022-07-12T13:09:41.998535156+00:00 updating metatdata value to 2022-07-12T13:09:41.998291015+00:00\u001b[0m\n",
      "\u001b[1m2025-04-02T11:49:37.663697-0700 | INFO | mth5.io.conversion | split_ms_to_days | Wrote miniseed file to: c:\\Users\\jpeacock\\OneDrive - DOI\\MTData\\CL2021\\archive\\to_dmc\\1Z_CL3116__FQN_2022_07_12T12_59_58.mseed\u001b[0m\n"
     ]
    },
    {
     "name": "stderr",
     "output_type": "stream",
     "text": [
      "C:\\Users\\jpeacock\\OneDrive - DOI\\Documents\\GitHub\\mth5\\mth5\\timeseries\\channel_ts.py:1524: RuntimeWarning: invalid value encountered in cast\n",
      "  obspy_trace = Trace(self.ts.astype(encoding_dict[encoding]))\n"
     ]
    },
    {
     "name": "stdout",
     "output_type": "stream",
     "text": [
      "\u001b[1m2025-04-02T11:49:37.867737-0700 | INFO | mth5.io.conversion | split_ms_to_days | Wrote miniseed file to: c:\\Users\\jpeacock\\OneDrive - DOI\\MTData\\CL2021\\archive\\to_dmc\\1Z_CL3116__FQE_2022_07_12T12_59_58.mseed\u001b[0m\n",
      "\u001b[1m2025-04-02T11:49:38.055934-0700 | INFO | mth5.io.conversion | split_ms_to_days | Wrote miniseed file to: c:\\Users\\jpeacock\\OneDrive - DOI\\MTData\\CL2021\\archive\\to_dmc\\1Z_CL3116__FFN_2022_07_12T12_59_58.mseed\u001b[0m\n",
      "\u001b[1m2025-04-02T11:49:38.263110-0700 | INFO | mth5.io.conversion | split_ms_to_days | Wrote miniseed file to: c:\\Users\\jpeacock\\OneDrive - DOI\\MTData\\CL2021\\archive\\to_dmc\\1Z_CL3116__FFE_2022_07_12T12_59_58.mseed\u001b[0m\n",
      "\u001b[1m2025-04-02T11:49:38.467320-0700 | INFO | mth5.io.conversion | split_ms_to_days | Wrote miniseed file to: c:\\Users\\jpeacock\\OneDrive - DOI\\MTData\\CL2021\\archive\\to_dmc\\1Z_CL3116__FFZ_2022_07_12T12_59_58.mseed\u001b[0m\n",
      "\u001b[1m2025-04-02T11:49:45.928041-0700 | INFO | mth5.io.conversion | split_ms_to_days | Wrote miniseed file to: c:\\Users\\jpeacock\\OneDrive - DOI\\MTData\\CL2021\\archive\\to_dmc\\1Z_CL3116__CQN_2022_07_12T13_09_58.mseed\u001b[0m\n",
      "\u001b[1m2025-04-02T11:49:46.317671-0700 | INFO | mth5.io.conversion | split_ms_to_days | Wrote miniseed file to: c:\\Users\\jpeacock\\OneDrive - DOI\\MTData\\CL2021\\archive\\to_dmc\\1Z_CL3116__CQE_2022_07_12T13_09_58.mseed\u001b[0m\n",
      "\u001b[1m2025-04-02T11:49:46.712390-0700 | INFO | mth5.io.conversion | split_ms_to_days | Wrote miniseed file to: c:\\Users\\jpeacock\\OneDrive - DOI\\MTData\\CL2021\\archive\\to_dmc\\1Z_CL3116__CFN_2022_07_12T13_09_58.mseed\u001b[0m\n",
      "\u001b[1m2025-04-02T11:49:47.103199-0700 | INFO | mth5.io.conversion | split_ms_to_days | Wrote miniseed file to: c:\\Users\\jpeacock\\OneDrive - DOI\\MTData\\CL2021\\archive\\to_dmc\\1Z_CL3116__CFE_2022_07_12T13_09_58.mseed\u001b[0m\n",
      "\u001b[1m2025-04-02T11:49:47.511298-0700 | INFO | mth5.io.conversion | split_ms_to_days | Wrote miniseed file to: c:\\Users\\jpeacock\\OneDrive - DOI\\MTData\\CL2021\\archive\\to_dmc\\1Z_CL3116__CFZ_2022_07_12T13_09_58.mseed\u001b[0m\n",
      "\u001b[1m2025-04-02T11:49:48.825817-0700 | INFO | mth5.mth5 | close_mth5 | Flushing and closing c:\\Users\\jpeacock\\OneDrive - DOI\\MTData\\CL2021\\archive\\cl3116.h5\u001b[0m\n",
      "\u001b[33m\u001b[1m2025-04-02T11:49:48.829817-0700 | WARNING | mt_metadata.timeseries.stationxml.xml_station_mt_station | mt_to_xml | Station.geographic_name is None, using Station.id = cl3116.Check StationXML site.name.\u001b[0m\n",
      "\u001b[1m2025-04-02T11:49:48.905824-0700 | INFO | mt_metadata.timeseries.filters.channel_response | to_obspy | total sensitivity 105384854631.2247 != total gain 1048576000.000055. Using total_gain.\u001b[0m\n",
      "\u001b[1m2025-04-02T11:49:48.934334-0700 | INFO | mt_metadata.timeseries.filters.channel_response | to_obspy | total sensitivity 105012851743.1351 != total gain 1048576000.000055. Using total_gain.\u001b[0m\n",
      "\u001b[1m2025-04-02T11:49:48.963334-0700 | INFO | mt_metadata.timeseries.filters.channel_response | to_obspy | total sensitivity 104693940307.89154 != total gain 1048576000.000055. Using total_gain.\u001b[0m\n",
      "\u001b[1m2025-04-02T11:49:49.062858-0700 | INFO | mt_metadata.timeseries.filters.channel_response | to_obspy | total sensitivity 105384854631.2247 != total gain 1048576000.000055. Using total_gain.\u001b[0m\n",
      "\u001b[1m2025-04-02T11:49:49.090863-0700 | INFO | mt_metadata.timeseries.filters.channel_response | to_obspy | total sensitivity 105012851743.1351 != total gain 1048576000.000055. Using total_gain.\u001b[0m\n",
      "\u001b[1m2025-04-02T11:49:49.120371-0700 | INFO | mt_metadata.timeseries.filters.channel_response | to_obspy | total sensitivity 104693940307.89154 != total gain 1048576000.000055. Using total_gain.\u001b[0m\n",
      "\u001b[1m2025-04-02T11:49:49.210378-0700 | INFO | mt_metadata.timeseries.filters.channel_response | to_obspy | total sensitivity 105384854631.2247 != total gain 1048576000.000055. Using total_gain.\u001b[0m\n",
      "\u001b[1m2025-04-02T11:49:49.238888-0700 | INFO | mt_metadata.timeseries.filters.channel_response | to_obspy | total sensitivity 105012851743.1351 != total gain 1048576000.000055. Using total_gain.\u001b[0m\n",
      "\u001b[1m2025-04-02T11:49:49.272889-0700 | INFO | mt_metadata.timeseries.filters.channel_response | to_obspy | total sensitivity 104693940307.89154 != total gain 1048576000.000055. Using total_gain.\u001b[0m\n",
      "\u001b[1m2025-04-02T11:49:49.401402-0700 | INFO | mt_metadata.timeseries.filters.channel_response | to_obspy | total sensitivity 105384854631.2247 != total gain 1048576000.000055. Using total_gain.\u001b[0m\n",
      "\u001b[1m2025-04-02T11:49:49.431916-0700 | INFO | mt_metadata.timeseries.filters.channel_response | to_obspy | total sensitivity 105012851743.1351 != total gain 1048576000.000055. Using total_gain.\u001b[0m\n",
      "\u001b[1m2025-04-02T11:49:49.465916-0700 | INFO | mt_metadata.timeseries.filters.channel_response | to_obspy | total sensitivity 104693940307.89154 != total gain 1048576000.000055. Using total_gain.\u001b[0m\n",
      "\u001b[1m2025-04-02T11:49:49.561444-0700 | INFO | mt_metadata.timeseries.filters.channel_response | to_obspy | total sensitivity 105384854631.2247 != total gain 1048576000.000055. Using total_gain.\u001b[0m\n",
      "\u001b[1m2025-04-02T11:49:49.590441-0700 | INFO | mt_metadata.timeseries.filters.channel_response | to_obspy | total sensitivity 105012851743.1351 != total gain 1048576000.000055. Using total_gain.\u001b[0m\n",
      "\u001b[1m2025-04-02T11:49:49.618954-0700 | INFO | mt_metadata.timeseries.filters.channel_response | to_obspy | total sensitivity 104693940307.89154 != total gain 1048576000.000055. Using total_gain.\u001b[0m\n",
      "\u001b[1m2025-04-02T11:49:49.714960-0700 | INFO | mt_metadata.timeseries.filters.channel_response | to_obspy | total sensitivity 105384854631.2247 != total gain 1048576000.000055. Using total_gain.\u001b[0m\n",
      "\u001b[1m2025-04-02T11:49:49.748479-0700 | INFO | mt_metadata.timeseries.filters.channel_response | to_obspy | total sensitivity 105012851743.1351 != total gain 1048576000.000055. Using total_gain.\u001b[0m\n",
      "\u001b[1m2025-04-02T11:49:49.778524-0700 | INFO | mt_metadata.timeseries.filters.channel_response | to_obspy | total sensitivity 104693940307.89154 != total gain 1048576000.000055. Using total_gain.\u001b[0m\n",
      "\u001b[1m2025-04-02T11:49:49.872350-0700 | INFO | mt_metadata.timeseries.filters.channel_response | to_obspy | total sensitivity 105384854631.2247 != total gain 1048576000.000055. Using total_gain.\u001b[0m\n",
      "\u001b[1m2025-04-02T11:49:49.902317-0700 | INFO | mt_metadata.timeseries.filters.channel_response | to_obspy | total sensitivity 105012851743.1351 != total gain 1048576000.000055. Using total_gain.\u001b[0m\n",
      "\u001b[1m2025-04-02T11:49:49.933931-0700 | INFO | mt_metadata.timeseries.filters.channel_response | to_obspy | total sensitivity 104693940307.89154 != total gain 1048576000.000055. Using total_gain.\u001b[0m\n",
      "\u001b[1m2025-04-02T11:49:50.024484-0700 | INFO | mt_metadata.timeseries.filters.channel_response | to_obspy | total sensitivity 105384854631.2247 != total gain 1048576000.000055. Using total_gain.\u001b[0m\n",
      "\u001b[1m2025-04-02T11:49:50.052517-0700 | INFO | mt_metadata.timeseries.filters.channel_response | to_obspy | total sensitivity 105012851743.1351 != total gain 1048576000.000055. Using total_gain.\u001b[0m\n",
      "\u001b[1m2025-04-02T11:49:50.082485-0700 | INFO | mt_metadata.timeseries.filters.channel_response | to_obspy | total sensitivity 104693940307.89154 != total gain 1048576000.000055. Using total_gain.\u001b[0m\n",
      "\u001b[1m2025-04-02T11:49:50.117943-0700 | INFO | mth5.io.conversion | convert_mth5_to_ms_stationxml | Wrote StationXML to c:\\Users\\jpeacock\\OneDrive - DOI\\MTData\\CL2021\\archive\\to_dmc\\cl3116.xml\u001b[0m\n",
      "\u001b[33m\u001b[1m2025-04-02T11:49:51.502530-0700 | WARNING | mt_metadata.timeseries.station | remove_run | Could not find cl3121a to remove.\u001b[0m\n",
      "\u001b[1m2025-04-02T11:49:54.322958-0700 | INFO | mth5.io.conversion | split_ms_to_days | Wrote miniseed file to: c:\\Users\\jpeacock\\OneDrive - DOI\\MTData\\CL2021\\archive\\to_dmc\\1Z_CL3121__LQN_2022_07_09T21_34_58.mseed\u001b[0m\n",
      "\u001b[1m2025-04-02T11:49:54.325963-0700 | INFO | mth5.io.conversion | split_ms_to_days | Wrote miniseed file to: c:\\Users\\jpeacock\\OneDrive - DOI\\MTData\\CL2021\\archive\\to_dmc\\1Z_CL3121__LQN_2022_07_10T00_00_00.mseed\u001b[0m\n",
      "\u001b[1m2025-04-02T11:49:54.333958-0700 | INFO | mth5.io.conversion | split_ms_to_days | Wrote miniseed file to: c:\\Users\\jpeacock\\OneDrive - DOI\\MTData\\CL2021\\archive\\to_dmc\\1Z_CL3121__LQE_2022_07_09T21_34_58.mseed\u001b[0m\n",
      "\u001b[1m2025-04-02T11:49:54.337963-0700 | INFO | mth5.io.conversion | split_ms_to_days | Wrote miniseed file to: c:\\Users\\jpeacock\\OneDrive - DOI\\MTData\\CL2021\\archive\\to_dmc\\1Z_CL3121__LQE_2022_07_10T00_00_00.mseed\u001b[0m\n",
      "\u001b[1m2025-04-02T11:49:54.345960-0700 | INFO | mth5.io.conversion | split_ms_to_days | Wrote miniseed file to: c:\\Users\\jpeacock\\OneDrive - DOI\\MTData\\CL2021\\archive\\to_dmc\\1Z_CL3121__LFN_2022_07_09T21_34_58.mseed\u001b[0m\n",
      "\u001b[1m2025-04-02T11:49:54.349963-0700 | INFO | mth5.io.conversion | split_ms_to_days | Wrote miniseed file to: c:\\Users\\jpeacock\\OneDrive - DOI\\MTData\\CL2021\\archive\\to_dmc\\1Z_CL3121__LFN_2022_07_10T00_00_00.mseed\u001b[0m\n",
      "\u001b[1m2025-04-02T11:49:54.359961-0700 | INFO | mth5.io.conversion | split_ms_to_days | Wrote miniseed file to: c:\\Users\\jpeacock\\OneDrive - DOI\\MTData\\CL2021\\archive\\to_dmc\\1Z_CL3121__LFE_2022_07_09T21_34_58.mseed\u001b[0m\n",
      "\u001b[1m2025-04-02T11:49:54.363962-0700 | INFO | mth5.io.conversion | split_ms_to_days | Wrote miniseed file to: c:\\Users\\jpeacock\\OneDrive - DOI\\MTData\\CL2021\\archive\\to_dmc\\1Z_CL3121__LFE_2022_07_10T00_00_00.mseed\u001b[0m\n",
      "\u001b[1m2025-04-02T11:49:58.755998-0700 | INFO | mth5.io.conversion | split_ms_to_days | Wrote miniseed file to: c:\\Users\\jpeacock\\OneDrive - DOI\\MTData\\CL2021\\archive\\to_dmc\\1Z_CL3121__CQN_2022_07_09T21_34_58.mseed\u001b[0m\n",
      "\u001b[1m2025-04-02T11:49:58.946437-0700 | INFO | mth5.io.conversion | split_ms_to_days | Wrote miniseed file to: c:\\Users\\jpeacock\\OneDrive - DOI\\MTData\\CL2021\\archive\\to_dmc\\1Z_CL3121__CQN_2022_07_10T00_00_00.mseed\u001b[0m\n",
      "\u001b[1m2025-04-02T11:49:59.023484-0700 | INFO | mth5.io.conversion | split_ms_to_days | Wrote miniseed file to: c:\\Users\\jpeacock\\OneDrive - DOI\\MTData\\CL2021\\archive\\to_dmc\\1Z_CL3121__CQE_2022_07_09T21_34_58.mseed\u001b[0m\n",
      "\u001b[1m2025-04-02T11:49:59.333735-0700 | INFO | mth5.io.conversion | split_ms_to_days | Wrote miniseed file to: c:\\Users\\jpeacock\\OneDrive - DOI\\MTData\\CL2021\\archive\\to_dmc\\1Z_CL3121__CQE_2022_07_10T00_00_00.mseed\u001b[0m\n",
      "\u001b[1m2025-04-02T11:49:59.407737-0700 | INFO | mth5.io.conversion | split_ms_to_days | Wrote miniseed file to: c:\\Users\\jpeacock\\OneDrive - DOI\\MTData\\CL2021\\archive\\to_dmc\\1Z_CL3121__CFN_2022_07_09T21_34_58.mseed\u001b[0m\n",
      "\u001b[1m2025-04-02T11:49:59.589424-0700 | INFO | mth5.io.conversion | split_ms_to_days | Wrote miniseed file to: c:\\Users\\jpeacock\\OneDrive - DOI\\MTData\\CL2021\\archive\\to_dmc\\1Z_CL3121__CFN_2022_07_10T00_00_00.mseed\u001b[0m\n",
      "\u001b[1m2025-04-02T11:49:59.666661-0700 | INFO | mth5.io.conversion | split_ms_to_days | Wrote miniseed file to: c:\\Users\\jpeacock\\OneDrive - DOI\\MTData\\CL2021\\archive\\to_dmc\\1Z_CL3121__CFE_2022_07_09T21_34_58.mseed\u001b[0m\n",
      "\u001b[1m2025-04-02T11:49:59.863971-0700 | INFO | mth5.io.conversion | split_ms_to_days | Wrote miniseed file to: c:\\Users\\jpeacock\\OneDrive - DOI\\MTData\\CL2021\\archive\\to_dmc\\1Z_CL3121__CFE_2022_07_10T00_00_00.mseed\u001b[0m\n",
      "\u001b[1m2025-04-02T11:50:02.435005-0700 | INFO | mth5.timeseries.run_ts | _align_channels | Channels do not have a common end, using latest: 2022-07-10T01:09:41.998779296\u001b[0m\n",
      "\u001b[33m\u001b[1m2025-04-02T11:50:04.865326-0700 | WARNING | mth5.timeseries.run_ts | validate_metadata | end time of dataset 2022-07-10T01:09:41.998535156+00:00 does not match metadata end 2022-07-10T01:09:41.998779296+00:00 updating metatdata value to 2022-07-10T01:09:41.998535156+00:00\u001b[0m\n"
     ]
    },
    {
     "name": "stderr",
     "output_type": "stream",
     "text": [
      "C:\\Users\\jpeacock\\OneDrive - DOI\\Documents\\GitHub\\mth5\\mth5\\timeseries\\channel_ts.py:1524: RuntimeWarning: invalid value encountered in cast\n",
      "  obspy_trace = Trace(self.ts.astype(encoding_dict[encoding]))\n"
     ]
    },
    {
     "name": "stdout",
     "output_type": "stream",
     "text": [
      "\u001b[1m2025-04-02T11:50:05.560802-0700 | INFO | mth5.io.conversion | split_ms_to_days | Wrote miniseed file to: c:\\Users\\jpeacock\\OneDrive - DOI\\MTData\\CL2021\\archive\\to_dmc\\1Z_CL3121__FQN_2022_07_10T00_59_58.mseed\u001b[0m\n",
      "\u001b[1m2025-04-02T11:50:05.752431-0700 | INFO | mth5.io.conversion | split_ms_to_days | Wrote miniseed file to: c:\\Users\\jpeacock\\OneDrive - DOI\\MTData\\CL2021\\archive\\to_dmc\\1Z_CL3121__FQE_2022_07_10T00_59_58.mseed\u001b[0m\n",
      "\u001b[1m2025-04-02T11:50:05.970539-0700 | INFO | mth5.io.conversion | split_ms_to_days | Wrote miniseed file to: c:\\Users\\jpeacock\\OneDrive - DOI\\MTData\\CL2021\\archive\\to_dmc\\1Z_CL3121__FFN_2022_07_10T00_59_58.mseed\u001b[0m\n",
      "\u001b[1m2025-04-02T11:50:06.176101-0700 | INFO | mth5.io.conversion | split_ms_to_days | Wrote miniseed file to: c:\\Users\\jpeacock\\OneDrive - DOI\\MTData\\CL2021\\archive\\to_dmc\\1Z_CL3121__FFE_2022_07_10T00_59_58.mseed\u001b[0m\n",
      "\u001b[1m2025-04-02T11:50:11.777468-0700 | INFO | mth5.timeseries.run_ts | _align_channels | Channels do not have a common end, using latest: 2022-07-10T06:59:41.968750000\u001b[0m\n",
      "\u001b[1m2025-04-02T11:50:14.582808-0700 | INFO | mth5.io.conversion | split_ms_to_days | Wrote miniseed file to: c:\\Users\\jpeacock\\OneDrive - DOI\\MTData\\CL2021\\archive\\to_dmc\\1Z_CL3121__CQN_2022_07_10T01_09_58.mseed\u001b[0m\n",
      "\u001b[1m2025-04-02T11:50:15.073229-0700 | INFO | mth5.io.conversion | split_ms_to_days | Wrote miniseed file to: c:\\Users\\jpeacock\\OneDrive - DOI\\MTData\\CL2021\\archive\\to_dmc\\1Z_CL3121__CQE_2022_07_10T01_09_58.mseed\u001b[0m\n",
      "\u001b[1m2025-04-02T11:50:15.536784-0700 | INFO | mth5.io.conversion | split_ms_to_days | Wrote miniseed file to: c:\\Users\\jpeacock\\OneDrive - DOI\\MTData\\CL2021\\archive\\to_dmc\\1Z_CL3121__CFN_2022_07_10T01_09_58.mseed\u001b[0m\n",
      "\u001b[1m2025-04-02T11:50:15.996185-0700 | INFO | mth5.io.conversion | split_ms_to_days | Wrote miniseed file to: c:\\Users\\jpeacock\\OneDrive - DOI\\MTData\\CL2021\\archive\\to_dmc\\1Z_CL3121__CFE_2022_07_10T01_09_58.mseed\u001b[0m\n",
      "\u001b[1m2025-04-02T11:50:19.123431-0700 | INFO | mth5.timeseries.run_ts | _align_channels | Channels do not have a common end, using latest: 2022-07-10T07:09:41.999023437\u001b[0m\n",
      "\u001b[33m\u001b[1m2025-04-02T11:50:21.447039-0700 | WARNING | mth5.timeseries.run_ts | validate_metadata | end time of dataset 2022-07-10T07:09:41.998779296+00:00 does not match metadata end 2022-07-10T07:09:41.999023437+00:00 updating metatdata value to 2022-07-10T07:09:41.998779296+00:00\u001b[0m\n"
     ]
    },
    {
     "name": "stderr",
     "output_type": "stream",
     "text": [
      "C:\\Users\\jpeacock\\OneDrive - DOI\\Documents\\GitHub\\mth5\\mth5\\timeseries\\channel_ts.py:1524: RuntimeWarning: invalid value encountered in cast\n",
      "  obspy_trace = Trace(self.ts.astype(encoding_dict[encoding]))\n"
     ]
    },
    {
     "name": "stdout",
     "output_type": "stream",
     "text": [
      "\u001b[1m2025-04-02T11:50:22.109624-0700 | INFO | mth5.io.conversion | split_ms_to_days | Wrote miniseed file to: c:\\Users\\jpeacock\\OneDrive - DOI\\MTData\\CL2021\\archive\\to_dmc\\1Z_CL3121__FQN_2022_07_10T06_59_58.mseed\u001b[0m\n",
      "\u001b[1m2025-04-02T11:50:22.299871-0700 | INFO | mth5.io.conversion | split_ms_to_days | Wrote miniseed file to: c:\\Users\\jpeacock\\OneDrive - DOI\\MTData\\CL2021\\archive\\to_dmc\\1Z_CL3121__FQE_2022_07_10T06_59_58.mseed\u001b[0m\n",
      "\u001b[1m2025-04-02T11:50:22.491994-0700 | INFO | mth5.io.conversion | split_ms_to_days | Wrote miniseed file to: c:\\Users\\jpeacock\\OneDrive - DOI\\MTData\\CL2021\\archive\\to_dmc\\1Z_CL3121__FFN_2022_07_10T06_59_58.mseed\u001b[0m\n",
      "\u001b[1m2025-04-02T11:50:22.684100-0700 | INFO | mth5.io.conversion | split_ms_to_days | Wrote miniseed file to: c:\\Users\\jpeacock\\OneDrive - DOI\\MTData\\CL2021\\archive\\to_dmc\\1Z_CL3121__FFE_2022_07_10T06_59_58.mseed\u001b[0m\n",
      "\u001b[1m2025-04-02T11:50:28.021762-0700 | INFO | mth5.timeseries.run_ts | _align_channels | Channels do not have a common end, using latest: 2022-07-10T12:59:41.968750000\u001b[0m\n",
      "\u001b[1m2025-04-02T11:50:30.731951-0700 | INFO | mth5.io.conversion | split_ms_to_days | Wrote miniseed file to: c:\\Users\\jpeacock\\OneDrive - DOI\\MTData\\CL2021\\archive\\to_dmc\\1Z_CL3121__CQN_2022_07_10T07_09_58.mseed\u001b[0m\n",
      "\u001b[1m2025-04-02T11:50:31.193668-0700 | INFO | mth5.io.conversion | split_ms_to_days | Wrote miniseed file to: c:\\Users\\jpeacock\\OneDrive - DOI\\MTData\\CL2021\\archive\\to_dmc\\1Z_CL3121__CQE_2022_07_10T07_09_58.mseed\u001b[0m\n",
      "\u001b[1m2025-04-02T11:50:31.680450-0700 | INFO | mth5.io.conversion | split_ms_to_days | Wrote miniseed file to: c:\\Users\\jpeacock\\OneDrive - DOI\\MTData\\CL2021\\archive\\to_dmc\\1Z_CL3121__CFN_2022_07_10T07_09_58.mseed\u001b[0m\n",
      "\u001b[1m2025-04-02T11:50:32.135308-0700 | INFO | mth5.io.conversion | split_ms_to_days | Wrote miniseed file to: c:\\Users\\jpeacock\\OneDrive - DOI\\MTData\\CL2021\\archive\\to_dmc\\1Z_CL3121__CFE_2022_07_10T07_09_58.mseed\u001b[0m\n",
      "\u001b[1m2025-04-02T11:50:35.483490-0700 | INFO | mth5.timeseries.run_ts | _align_channels | Channels do not have a common end, using latest: 2022-07-10T13:09:41.999023437\u001b[0m\n",
      "\u001b[33m\u001b[1m2025-04-02T11:50:37.534790-0700 | WARNING | mth5.timeseries.run_ts | validate_metadata | end time of dataset 2022-07-10T13:09:41.998779296+00:00 does not match metadata end 2022-07-10T13:09:41.999023437+00:00 updating metatdata value to 2022-07-10T13:09:41.998779296+00:00\u001b[0m\n"
     ]
    },
    {
     "name": "stderr",
     "output_type": "stream",
     "text": [
      "C:\\Users\\jpeacock\\OneDrive - DOI\\Documents\\GitHub\\mth5\\mth5\\timeseries\\channel_ts.py:1524: RuntimeWarning: invalid value encountered in cast\n",
      "  obspy_trace = Trace(self.ts.astype(encoding_dict[encoding]))\n"
     ]
    },
    {
     "name": "stdout",
     "output_type": "stream",
     "text": [
      "\u001b[1m2025-04-02T11:50:38.056150-0700 | INFO | mth5.io.conversion | split_ms_to_days | Wrote miniseed file to: c:\\Users\\jpeacock\\OneDrive - DOI\\MTData\\CL2021\\archive\\to_dmc\\1Z_CL3121__FQN_2022_07_10T12_59_58.mseed\u001b[0m\n",
      "\u001b[1m2025-04-02T11:50:38.245016-0700 | INFO | mth5.io.conversion | split_ms_to_days | Wrote miniseed file to: c:\\Users\\jpeacock\\OneDrive - DOI\\MTData\\CL2021\\archive\\to_dmc\\1Z_CL3121__FQE_2022_07_10T12_59_58.mseed\u001b[0m\n",
      "\u001b[1m2025-04-02T11:50:38.432238-0700 | INFO | mth5.io.conversion | split_ms_to_days | Wrote miniseed file to: c:\\Users\\jpeacock\\OneDrive - DOI\\MTData\\CL2021\\archive\\to_dmc\\1Z_CL3121__FFN_2022_07_10T12_59_58.mseed\u001b[0m\n",
      "\u001b[1m2025-04-02T11:50:38.635303-0700 | INFO | mth5.io.conversion | split_ms_to_days | Wrote miniseed file to: c:\\Users\\jpeacock\\OneDrive - DOI\\MTData\\CL2021\\archive\\to_dmc\\1Z_CL3121__FFE_2022_07_10T12_59_58.mseed\u001b[0m\n",
      "\u001b[1m2025-04-02T11:50:43.407827-0700 | INFO | mth5.io.conversion | split_ms_to_days | Wrote miniseed file to: c:\\Users\\jpeacock\\OneDrive - DOI\\MTData\\CL2021\\archive\\to_dmc\\1Z_CL3121__CQN_2022_07_10T13_09_58.mseed\u001b[0m\n",
      "\u001b[1m2025-04-02T11:50:43.696135-0700 | INFO | mth5.io.conversion | split_ms_to_days | Wrote miniseed file to: c:\\Users\\jpeacock\\OneDrive - DOI\\MTData\\CL2021\\archive\\to_dmc\\1Z_CL3121__CQE_2022_07_10T13_09_58.mseed\u001b[0m\n",
      "\u001b[1m2025-04-02T11:50:43.987980-0700 | INFO | mth5.io.conversion | split_ms_to_days | Wrote miniseed file to: c:\\Users\\jpeacock\\OneDrive - DOI\\MTData\\CL2021\\archive\\to_dmc\\1Z_CL3121__CFN_2022_07_10T13_09_58.mseed\u001b[0m\n",
      "\u001b[1m2025-04-02T11:50:44.280619-0700 | INFO | mth5.io.conversion | split_ms_to_days | Wrote miniseed file to: c:\\Users\\jpeacock\\OneDrive - DOI\\MTData\\CL2021\\archive\\to_dmc\\1Z_CL3121__CFE_2022_07_10T13_09_58.mseed\u001b[0m\n",
      "\u001b[1m2025-04-02T11:50:45.291280-0700 | INFO | mth5.mth5 | close_mth5 | Flushing and closing c:\\Users\\jpeacock\\OneDrive - DOI\\MTData\\CL2021\\archive\\cl3121.h5\u001b[0m\n",
      "\u001b[33m\u001b[1m2025-04-02T11:50:45.294281-0700 | WARNING | mt_metadata.timeseries.stationxml.xml_station_mt_station | mt_to_xml | Station.geographic_name is None, using Station.id = cl3121.Check StationXML site.name.\u001b[0m\n",
      "\u001b[1m2025-04-02T11:50:45.374182-0700 | INFO | mt_metadata.timeseries.filters.channel_response | to_obspy | total sensitivity 104382542748.06306 != total gain 1048576000.000055. Using total_gain.\u001b[0m\n",
      "\u001b[1m2025-04-02T11:50:45.404183-0700 | INFO | mt_metadata.timeseries.filters.channel_response | to_obspy | total sensitivity 105026369151.30917 != total gain 1048576000.000055. Using total_gain.\u001b[0m\n",
      "\u001b[1m2025-04-02T11:50:45.515886-0700 | INFO | mt_metadata.timeseries.filters.channel_response | to_obspy | total sensitivity 104382542748.06306 != total gain 1048576000.000055. Using total_gain.\u001b[0m\n",
      "\u001b[1m2025-04-02T11:50:45.545887-0700 | INFO | mt_metadata.timeseries.filters.channel_response | to_obspy | total sensitivity 105026369151.30917 != total gain 1048576000.000055. Using total_gain.\u001b[0m\n",
      "\u001b[1m2025-04-02T11:50:45.636500-0700 | INFO | mt_metadata.timeseries.filters.channel_response | to_obspy | total sensitivity 104382542748.06306 != total gain 1048576000.000055. Using total_gain.\u001b[0m\n",
      "\u001b[1m2025-04-02T11:50:45.664512-0700 | INFO | mt_metadata.timeseries.filters.channel_response | to_obspy | total sensitivity 105026369151.30917 != total gain 1048576000.000055. Using total_gain.\u001b[0m\n",
      "\u001b[1m2025-04-02T11:50:45.755055-0700 | INFO | mt_metadata.timeseries.filters.channel_response | to_obspy | total sensitivity 104382542748.06306 != total gain 1048576000.000055. Using total_gain.\u001b[0m\n",
      "\u001b[1m2025-04-02T11:50:45.784636-0700 | INFO | mt_metadata.timeseries.filters.channel_response | to_obspy | total sensitivity 105026369151.30917 != total gain 1048576000.000055. Using total_gain.\u001b[0m\n",
      "\u001b[1m2025-04-02T11:50:45.880291-0700 | INFO | mt_metadata.timeseries.filters.channel_response | to_obspy | total sensitivity 104382542748.06306 != total gain 1048576000.000055. Using total_gain.\u001b[0m\n",
      "\u001b[1m2025-04-02T11:50:45.909259-0700 | INFO | mt_metadata.timeseries.filters.channel_response | to_obspy | total sensitivity 105026369151.30917 != total gain 1048576000.000055. Using total_gain.\u001b[0m\n",
      "\u001b[1m2025-04-02T11:50:46.006873-0700 | INFO | mt_metadata.timeseries.filters.channel_response | to_obspy | total sensitivity 104382542748.06306 != total gain 1048576000.000055. Using total_gain.\u001b[0m\n",
      "\u001b[1m2025-04-02T11:50:46.034873-0700 | INFO | mt_metadata.timeseries.filters.channel_response | to_obspy | total sensitivity 105026369151.30917 != total gain 1048576000.000055. Using total_gain.\u001b[0m\n",
      "\u001b[1m2025-04-02T11:50:46.127485-0700 | INFO | mt_metadata.timeseries.filters.channel_response | to_obspy | total sensitivity 104382542748.06306 != total gain 1048576000.000055. Using total_gain.\u001b[0m\n",
      "\u001b[1m2025-04-02T11:50:46.155524-0700 | INFO | mt_metadata.timeseries.filters.channel_response | to_obspy | total sensitivity 105026369151.30917 != total gain 1048576000.000055. Using total_gain.\u001b[0m\n",
      "\u001b[1m2025-04-02T11:50:46.275671-0700 | INFO | mt_metadata.timeseries.filters.channel_response | to_obspy | total sensitivity 104382542748.06306 != total gain 1048576000.000055. Using total_gain.\u001b[0m\n",
      "\u001b[1m2025-04-02T11:50:46.309671-0700 | INFO | mt_metadata.timeseries.filters.channel_response | to_obspy | total sensitivity 105026369151.30917 != total gain 1048576000.000055. Using total_gain.\u001b[0m\n",
      "\u001b[1m2025-04-02T11:50:46.340641-0700 | INFO | mth5.io.conversion | convert_mth5_to_ms_stationxml | Wrote StationXML to c:\\Users\\jpeacock\\OneDrive - DOI\\MTData\\CL2021\\archive\\to_dmc\\cl3121.xml\u001b[0m\n",
      "\u001b[33m\u001b[1m2025-04-02T11:50:47.919878-0700 | WARNING | mt_metadata.timeseries.station | remove_run | Could not find cl3129a to remove.\u001b[0m\n",
      "\u001b[1m2025-04-02T11:50:51.489611-0700 | INFO | mth5.io.conversion | split_ms_to_days | Wrote miniseed file to: c:\\Users\\jpeacock\\OneDrive - DOI\\MTData\\CL2021\\archive\\to_dmc\\1Z_CL3129__LQN_2022_07_11T22_59_58.mseed\u001b[0m\n",
      "\u001b[1m2025-04-02T11:50:51.493624-0700 | INFO | mth5.io.conversion | split_ms_to_days | Wrote miniseed file to: c:\\Users\\jpeacock\\OneDrive - DOI\\MTData\\CL2021\\archive\\to_dmc\\1Z_CL3129__LQN_2022_07_12T00_00_00.mseed\u001b[0m\n",
      "\u001b[1m2025-04-02T11:50:51.502614-0700 | INFO | mth5.io.conversion | split_ms_to_days | Wrote miniseed file to: c:\\Users\\jpeacock\\OneDrive - DOI\\MTData\\CL2021\\archive\\to_dmc\\1Z_CL3129__LQE_2022_07_11T22_59_58.mseed\u001b[0m\n",
      "\u001b[1m2025-04-02T11:50:51.505613-0700 | INFO | mth5.io.conversion | split_ms_to_days | Wrote miniseed file to: c:\\Users\\jpeacock\\OneDrive - DOI\\MTData\\CL2021\\archive\\to_dmc\\1Z_CL3129__LQE_2022_07_12T00_00_00.mseed\u001b[0m\n",
      "\u001b[1m2025-04-02T11:50:51.514611-0700 | INFO | mth5.io.conversion | split_ms_to_days | Wrote miniseed file to: c:\\Users\\jpeacock\\OneDrive - DOI\\MTData\\CL2021\\archive\\to_dmc\\1Z_CL3129__LFN_2022_07_11T22_59_58.mseed\u001b[0m\n",
      "\u001b[1m2025-04-02T11:50:51.518612-0700 | INFO | mth5.io.conversion | split_ms_to_days | Wrote miniseed file to: c:\\Users\\jpeacock\\OneDrive - DOI\\MTData\\CL2021\\archive\\to_dmc\\1Z_CL3129__LFN_2022_07_12T00_00_00.mseed\u001b[0m\n",
      "\u001b[1m2025-04-02T11:50:51.525610-0700 | INFO | mth5.io.conversion | split_ms_to_days | Wrote miniseed file to: c:\\Users\\jpeacock\\OneDrive - DOI\\MTData\\CL2021\\archive\\to_dmc\\1Z_CL3129__LFE_2022_07_11T22_59_58.mseed\u001b[0m\n",
      "\u001b[1m2025-04-02T11:50:51.529612-0700 | INFO | mth5.io.conversion | split_ms_to_days | Wrote miniseed file to: c:\\Users\\jpeacock\\OneDrive - DOI\\MTData\\CL2021\\archive\\to_dmc\\1Z_CL3129__LFE_2022_07_12T00_00_00.mseed\u001b[0m\n",
      "\u001b[1m2025-04-02T11:50:51.536608-0700 | INFO | mth5.io.conversion | split_ms_to_days | Wrote miniseed file to: c:\\Users\\jpeacock\\OneDrive - DOI\\MTData\\CL2021\\archive\\to_dmc\\1Z_CL3129__LFZ_2022_07_11T22_59_58.mseed\u001b[0m\n",
      "\u001b[1m2025-04-02T11:50:51.538610-0700 | INFO | mth5.io.conversion | split_ms_to_days | Wrote miniseed file to: c:\\Users\\jpeacock\\OneDrive - DOI\\MTData\\CL2021\\archive\\to_dmc\\1Z_CL3129__LFZ_2022_07_12T00_00_00.mseed\u001b[0m\n"
     ]
    },
    {
     "name": "stderr",
     "output_type": "stream",
     "text": [
      "C:\\Users\\jpeacock\\OneDrive - DOI\\Documents\\GitHub\\mth5\\mth5\\timeseries\\channel_ts.py:1524: RuntimeWarning: invalid value encountered in cast\n",
      "  obspy_trace = Trace(self.ts.astype(encoding_dict[encoding]))\n"
     ]
    },
    {
     "name": "stdout",
     "output_type": "stream",
     "text": [
      "\u001b[1m2025-04-02T11:50:55.681789-0700 | INFO | mth5.timeseries.run_ts | _align_channels | Channels do not have a common end, using latest: 2022-07-12T00:59:41.968750000\u001b[0m\n",
      "\u001b[1m2025-04-02T11:50:57.045424-0700 | INFO | mth5.io.conversion | split_ms_to_days | Wrote miniseed file to: c:\\Users\\jpeacock\\OneDrive - DOI\\MTData\\CL2021\\archive\\to_dmc\\1Z_CL3129__CQN_2022_07_11T22_59_58.mseed\u001b[0m\n",
      "\u001b[1m2025-04-02T11:50:57.119936-0700 | INFO | mth5.io.conversion | split_ms_to_days | Wrote miniseed file to: c:\\Users\\jpeacock\\OneDrive - DOI\\MTData\\CL2021\\archive\\to_dmc\\1Z_CL3129__CQN_2022_07_12T00_00_00.mseed\u001b[0m\n",
      "\u001b[1m2025-04-02T11:50:57.193464-0700 | INFO | mth5.io.conversion | split_ms_to_days | Wrote miniseed file to: c:\\Users\\jpeacock\\OneDrive - DOI\\MTData\\CL2021\\archive\\to_dmc\\1Z_CL3129__CQE_2022_07_11T22_59_58.mseed\u001b[0m\n",
      "\u001b[1m2025-04-02T11:50:57.286068-0700 | INFO | mth5.io.conversion | split_ms_to_days | Wrote miniseed file to: c:\\Users\\jpeacock\\OneDrive - DOI\\MTData\\CL2021\\archive\\to_dmc\\1Z_CL3129__CQE_2022_07_12T00_00_00.mseed\u001b[0m\n",
      "\u001b[1m2025-04-02T11:50:57.365102-0700 | INFO | mth5.io.conversion | split_ms_to_days | Wrote miniseed file to: c:\\Users\\jpeacock\\OneDrive - DOI\\MTData\\CL2021\\archive\\to_dmc\\1Z_CL3129__CFN_2022_07_11T22_59_58.mseed\u001b[0m\n",
      "\u001b[1m2025-04-02T11:50:57.438593-0700 | INFO | mth5.io.conversion | split_ms_to_days | Wrote miniseed file to: c:\\Users\\jpeacock\\OneDrive - DOI\\MTData\\CL2021\\archive\\to_dmc\\1Z_CL3129__CFN_2022_07_12T00_00_00.mseed\u001b[0m\n",
      "\u001b[1m2025-04-02T11:50:57.517127-0700 | INFO | mth5.io.conversion | split_ms_to_days | Wrote miniseed file to: c:\\Users\\jpeacock\\OneDrive - DOI\\MTData\\CL2021\\archive\\to_dmc\\1Z_CL3129__CFE_2022_07_11T22_59_58.mseed\u001b[0m\n",
      "\u001b[1m2025-04-02T11:50:57.594647-0700 | INFO | mth5.io.conversion | split_ms_to_days | Wrote miniseed file to: c:\\Users\\jpeacock\\OneDrive - DOI\\MTData\\CL2021\\archive\\to_dmc\\1Z_CL3129__CFE_2022_07_12T00_00_00.mseed\u001b[0m\n",
      "\u001b[1m2025-04-02T11:50:57.673709-0700 | INFO | mth5.io.conversion | split_ms_to_days | Wrote miniseed file to: c:\\Users\\jpeacock\\OneDrive - DOI\\MTData\\CL2021\\archive\\to_dmc\\1Z_CL3129__CFZ_2022_07_11T22_59_58.mseed\u001b[0m\n",
      "\u001b[1m2025-04-02T11:50:57.750319-0700 | INFO | mth5.io.conversion | split_ms_to_days | Wrote miniseed file to: c:\\Users\\jpeacock\\OneDrive - DOI\\MTData\\CL2021\\archive\\to_dmc\\1Z_CL3129__CFZ_2022_07_12T00_00_00.mseed\u001b[0m\n",
      "\u001b[1m2025-04-02T11:51:01.125449-0700 | INFO | mth5.timeseries.run_ts | _align_channels | Channels do not have a common end, using latest: 2022-07-12T01:09:41.997314453\u001b[0m\n",
      "\u001b[33m\u001b[1m2025-04-02T11:51:02.838320-0700 | WARNING | mth5.timeseries.run_ts | validate_metadata | end time of dataset 2022-07-12T01:09:41.997070312+00:00 does not match metadata end 2022-07-12T01:09:41.997314453+00:00 updating metatdata value to 2022-07-12T01:09:41.997070312+00:00\u001b[0m\n"
     ]
    },
    {
     "name": "stderr",
     "output_type": "stream",
     "text": [
      "C:\\Users\\jpeacock\\OneDrive - DOI\\Documents\\GitHub\\mth5\\mth5\\timeseries\\channel_ts.py:1524: RuntimeWarning: invalid value encountered in cast\n",
      "  obspy_trace = Trace(self.ts.astype(encoding_dict[encoding]))\n"
     ]
    },
    {
     "name": "stdout",
     "output_type": "stream",
     "text": [
      "\u001b[1m2025-04-02T11:51:03.650602-0700 | INFO | mth5.io.conversion | split_ms_to_days | Wrote miniseed file to: c:\\Users\\jpeacock\\OneDrive - DOI\\MTData\\CL2021\\archive\\to_dmc\\1Z_CL3129__FQN_2022_07_12T00_59_58.mseed\u001b[0m\n",
      "\u001b[1m2025-04-02T11:51:03.854001-0700 | INFO | mth5.io.conversion | split_ms_to_days | Wrote miniseed file to: c:\\Users\\jpeacock\\OneDrive - DOI\\MTData\\CL2021\\archive\\to_dmc\\1Z_CL3129__FQE_2022_07_12T00_59_58.mseed\u001b[0m\n",
      "\u001b[1m2025-04-02T11:51:04.039169-0700 | INFO | mth5.io.conversion | split_ms_to_days | Wrote miniseed file to: c:\\Users\\jpeacock\\OneDrive - DOI\\MTData\\CL2021\\archive\\to_dmc\\1Z_CL3129__FFN_2022_07_12T00_59_58.mseed\u001b[0m\n",
      "\u001b[1m2025-04-02T11:51:04.247482-0700 | INFO | mth5.io.conversion | split_ms_to_days | Wrote miniseed file to: c:\\Users\\jpeacock\\OneDrive - DOI\\MTData\\CL2021\\archive\\to_dmc\\1Z_CL3129__FFE_2022_07_12T00_59_58.mseed\u001b[0m\n",
      "\u001b[1m2025-04-02T11:51:04.436699-0700 | INFO | mth5.io.conversion | split_ms_to_days | Wrote miniseed file to: c:\\Users\\jpeacock\\OneDrive - DOI\\MTData\\CL2021\\archive\\to_dmc\\1Z_CL3129__FFZ_2022_07_12T00_59_58.mseed\u001b[0m\n",
      "\u001b[1m2025-04-02T11:51:12.168462-0700 | INFO | mth5.io.conversion | split_ms_to_days | Wrote miniseed file to: c:\\Users\\jpeacock\\OneDrive - DOI\\MTData\\CL2021\\archive\\to_dmc\\1Z_CL3129__CQN_2022_07_12T01_09_58.mseed\u001b[0m\n",
      "\u001b[1m2025-04-02T11:51:12.626736-0700 | INFO | mth5.io.conversion | split_ms_to_days | Wrote miniseed file to: c:\\Users\\jpeacock\\OneDrive - DOI\\MTData\\CL2021\\archive\\to_dmc\\1Z_CL3129__CQE_2022_07_12T01_09_58.mseed\u001b[0m\n",
      "\u001b[1m2025-04-02T11:51:13.061549-0700 | INFO | mth5.io.conversion | split_ms_to_days | Wrote miniseed file to: c:\\Users\\jpeacock\\OneDrive - DOI\\MTData\\CL2021\\archive\\to_dmc\\1Z_CL3129__CFN_2022_07_12T01_09_58.mseed\u001b[0m\n",
      "\u001b[1m2025-04-02T11:51:13.500649-0700 | INFO | mth5.io.conversion | split_ms_to_days | Wrote miniseed file to: c:\\Users\\jpeacock\\OneDrive - DOI\\MTData\\CL2021\\archive\\to_dmc\\1Z_CL3129__CFE_2022_07_12T01_09_58.mseed\u001b[0m\n",
      "\u001b[1m2025-04-02T11:51:13.941654-0700 | INFO | mth5.io.conversion | split_ms_to_days | Wrote miniseed file to: c:\\Users\\jpeacock\\OneDrive - DOI\\MTData\\CL2021\\archive\\to_dmc\\1Z_CL3129__CFZ_2022_07_12T01_09_58.mseed\u001b[0m\n",
      "\u001b[1m2025-04-02T11:51:18.270342-0700 | INFO | mth5.timeseries.run_ts | _align_channels | Channels do not have a common end, using latest: 2022-07-12T07:09:41.997803000\u001b[0m\n"
     ]
    },
    {
     "name": "stderr",
     "output_type": "stream",
     "text": [
      "C:\\Users\\jpeacock\\OneDrive - DOI\\Documents\\GitHub\\mth5\\mth5\\timeseries\\channel_ts.py:1524: RuntimeWarning: invalid value encountered in cast\n",
      "  obspy_trace = Trace(self.ts.astype(encoding_dict[encoding]))\n"
     ]
    },
    {
     "name": "stdout",
     "output_type": "stream",
     "text": [
      "\u001b[1m2025-04-02T11:51:20.718558-0700 | INFO | mth5.io.conversion | split_ms_to_days | Wrote miniseed file to: c:\\Users\\jpeacock\\OneDrive - DOI\\MTData\\CL2021\\archive\\to_dmc\\1Z_CL3129__FQN_2022_07_12T06_59_58.mseed\u001b[0m\n",
      "\u001b[1m2025-04-02T11:51:20.905803-0700 | INFO | mth5.io.conversion | split_ms_to_days | Wrote miniseed file to: c:\\Users\\jpeacock\\OneDrive - DOI\\MTData\\CL2021\\archive\\to_dmc\\1Z_CL3129__FQE_2022_07_12T06_59_58.mseed\u001b[0m\n",
      "\u001b[1m2025-04-02T11:51:21.319074-0700 | INFO | mth5.io.conversion | split_ms_to_days | Wrote miniseed file to: c:\\Users\\jpeacock\\OneDrive - DOI\\MTData\\CL2021\\archive\\to_dmc\\1Z_CL3129__FFN_2022_07_12T06_59_58.mseed\u001b[0m\n",
      "\u001b[1m2025-04-02T11:51:21.552323-0700 | INFO | mth5.io.conversion | split_ms_to_days | Wrote miniseed file to: c:\\Users\\jpeacock\\OneDrive - DOI\\MTData\\CL2021\\archive\\to_dmc\\1Z_CL3129__FFE_2022_07_12T06_59_58.mseed\u001b[0m\n",
      "\u001b[1m2025-04-02T11:51:21.757972-0700 | INFO | mth5.io.conversion | split_ms_to_days | Wrote miniseed file to: c:\\Users\\jpeacock\\OneDrive - DOI\\MTData\\CL2021\\archive\\to_dmc\\1Z_CL3129__FFZ_2022_07_12T06_59_58.mseed\u001b[0m\n",
      "\u001b[1m2025-04-02T11:51:29.109687-0700 | INFO | mth5.timeseries.run_ts | _align_channels | Channels do not have a common end, using latest: 2022-07-12T12:59:41.968750000\u001b[0m\n",
      "\u001b[1m2025-04-02T11:51:32.086782-0700 | INFO | mth5.io.conversion | split_ms_to_days | Wrote miniseed file to: c:\\Users\\jpeacock\\OneDrive - DOI\\MTData\\CL2021\\archive\\to_dmc\\1Z_CL3129__CQN_2022_07_12T07_09_58.mseed\u001b[0m\n",
      "\u001b[1m2025-04-02T11:51:32.513345-0700 | INFO | mth5.io.conversion | split_ms_to_days | Wrote miniseed file to: c:\\Users\\jpeacock\\OneDrive - DOI\\MTData\\CL2021\\archive\\to_dmc\\1Z_CL3129__CQE_2022_07_12T07_09_58.mseed\u001b[0m\n",
      "\u001b[1m2025-04-02T11:51:32.956509-0700 | INFO | mth5.io.conversion | split_ms_to_days | Wrote miniseed file to: c:\\Users\\jpeacock\\OneDrive - DOI\\MTData\\CL2021\\archive\\to_dmc\\1Z_CL3129__CFN_2022_07_12T07_09_58.mseed\u001b[0m\n",
      "\u001b[1m2025-04-02T11:51:33.388124-0700 | INFO | mth5.io.conversion | split_ms_to_days | Wrote miniseed file to: c:\\Users\\jpeacock\\OneDrive - DOI\\MTData\\CL2021\\archive\\to_dmc\\1Z_CL3129__CFE_2022_07_12T07_09_58.mseed\u001b[0m\n",
      "\u001b[1m2025-04-02T11:51:33.844532-0700 | INFO | mth5.io.conversion | split_ms_to_days | Wrote miniseed file to: c:\\Users\\jpeacock\\OneDrive - DOI\\MTData\\CL2021\\archive\\to_dmc\\1Z_CL3129__CFZ_2022_07_12T07_09_58.mseed\u001b[0m\n",
      "\u001b[1m2025-04-02T11:51:38.529595-0700 | INFO | mth5.timeseries.run_ts | _align_channels | Channels do not have a common end, using latest: 2022-07-12T13:09:41.998535156\u001b[0m\n",
      "\u001b[33m\u001b[1m2025-04-02T11:51:41.252285-0700 | WARNING | mth5.timeseries.run_ts | validate_metadata | end time of dataset 2022-07-12T13:09:41.998291015+00:00 does not match metadata end 2022-07-12T13:09:41.998535156+00:00 updating metatdata value to 2022-07-12T13:09:41.998291015+00:00\u001b[0m\n"
     ]
    },
    {
     "name": "stderr",
     "output_type": "stream",
     "text": [
      "C:\\Users\\jpeacock\\OneDrive - DOI\\Documents\\GitHub\\mth5\\mth5\\timeseries\\channel_ts.py:1524: RuntimeWarning: invalid value encountered in cast\n",
      "  obspy_trace = Trace(self.ts.astype(encoding_dict[encoding]))\n"
     ]
    },
    {
     "name": "stdout",
     "output_type": "stream",
     "text": [
      "\u001b[1m2025-04-02T11:51:42.041513-0700 | INFO | mth5.io.conversion | split_ms_to_days | Wrote miniseed file to: c:\\Users\\jpeacock\\OneDrive - DOI\\MTData\\CL2021\\archive\\to_dmc\\1Z_CL3129__FQN_2022_07_12T12_59_58.mseed\u001b[0m\n",
      "\u001b[1m2025-04-02T11:51:42.252732-0700 | INFO | mth5.io.conversion | split_ms_to_days | Wrote miniseed file to: c:\\Users\\jpeacock\\OneDrive - DOI\\MTData\\CL2021\\archive\\to_dmc\\1Z_CL3129__FQE_2022_07_12T12_59_58.mseed\u001b[0m\n",
      "\u001b[1m2025-04-02T11:51:42.460770-0700 | INFO | mth5.io.conversion | split_ms_to_days | Wrote miniseed file to: c:\\Users\\jpeacock\\OneDrive - DOI\\MTData\\CL2021\\archive\\to_dmc\\1Z_CL3129__FFN_2022_07_12T12_59_58.mseed\u001b[0m\n",
      "\u001b[1m2025-04-02T11:51:42.680817-0700 | INFO | mth5.io.conversion | split_ms_to_days | Wrote miniseed file to: c:\\Users\\jpeacock\\OneDrive - DOI\\MTData\\CL2021\\archive\\to_dmc\\1Z_CL3129__FFE_2022_07_12T12_59_58.mseed\u001b[0m\n",
      "\u001b[1m2025-04-02T11:51:42.885969-0700 | INFO | mth5.io.conversion | split_ms_to_days | Wrote miniseed file to: c:\\Users\\jpeacock\\OneDrive - DOI\\MTData\\CL2021\\archive\\to_dmc\\1Z_CL3129__FFZ_2022_07_12T12_59_58.mseed\u001b[0m\n",
      "\u001b[1m2025-04-02T11:51:47.322391-0700 | INFO | mth5.timeseries.run_ts | _align_channels | Channels do not have a common end, using latest: 2022-07-12T14:59:41.996094000\u001b[0m\n"
     ]
    },
    {
     "name": "stderr",
     "output_type": "stream",
     "text": [
      "C:\\Users\\jpeacock\\OneDrive - DOI\\Documents\\GitHub\\mth5\\mth5\\timeseries\\channel_ts.py:1524: RuntimeWarning: invalid value encountered in cast\n",
      "  obspy_trace = Trace(self.ts.astype(encoding_dict[encoding]))\n"
     ]
    },
    {
     "name": "stdout",
     "output_type": "stream",
     "text": [
      "\u001b[1m2025-04-02T11:51:48.700931-0700 | INFO | mth5.io.conversion | split_ms_to_days | Wrote miniseed file to: c:\\Users\\jpeacock\\OneDrive - DOI\\MTData\\CL2021\\archive\\to_dmc\\1Z_CL3129__CQN_2022_07_12T13_09_58.mseed\u001b[0m\n",
      "\u001b[1m2025-04-02T11:51:48.845847-0700 | INFO | mth5.io.conversion | split_ms_to_days | Wrote miniseed file to: c:\\Users\\jpeacock\\OneDrive - DOI\\MTData\\CL2021\\archive\\to_dmc\\1Z_CL3129__CQE_2022_07_12T13_09_58.mseed\u001b[0m\n",
      "\u001b[1m2025-04-02T11:51:48.980439-0700 | INFO | mth5.io.conversion | split_ms_to_days | Wrote miniseed file to: c:\\Users\\jpeacock\\OneDrive - DOI\\MTData\\CL2021\\archive\\to_dmc\\1Z_CL3129__CFN_2022_07_12T13_09_58.mseed\u001b[0m\n",
      "\u001b[1m2025-04-02T11:51:49.118020-0700 | INFO | mth5.io.conversion | split_ms_to_days | Wrote miniseed file to: c:\\Users\\jpeacock\\OneDrive - DOI\\MTData\\CL2021\\archive\\to_dmc\\1Z_CL3129__CFE_2022_07_12T13_09_58.mseed\u001b[0m\n",
      "\u001b[1m2025-04-02T11:51:49.269050-0700 | INFO | mth5.io.conversion | split_ms_to_days | Wrote miniseed file to: c:\\Users\\jpeacock\\OneDrive - DOI\\MTData\\CL2021\\archive\\to_dmc\\1Z_CL3129__CFZ_2022_07_12T13_09_58.mseed\u001b[0m\n",
      "\u001b[1m2025-04-02T11:51:50.156524-0700 | INFO | mth5.mth5 | close_mth5 | Flushing and closing c:\\Users\\jpeacock\\OneDrive - DOI\\MTData\\CL2021\\archive\\cl3129.h5\u001b[0m\n",
      "\u001b[33m\u001b[1m2025-04-02T11:51:50.160526-0700 | WARNING | mt_metadata.timeseries.stationxml.xml_station_mt_station | mt_to_xml | Station.geographic_name is None, using Station.id = cl3129.Check StationXML site.name.\u001b[0m\n",
      "\u001b[1m2025-04-02T11:51:50.249107-0700 | INFO | mt_metadata.timeseries.filters.channel_response | to_obspy | total sensitivity 104382542748.06306 != total gain 1048576000.000055. Using total_gain.\u001b[0m\n",
      "\u001b[1m2025-04-02T11:51:50.278078-0700 | INFO | mt_metadata.timeseries.filters.channel_response | to_obspy | total sensitivity 105026369151.30917 != total gain 1048576000.000055. Using total_gain.\u001b[0m\n",
      "\u001b[1m2025-04-02T11:51:50.307107-0700 | INFO | mt_metadata.timeseries.filters.channel_response | to_obspy | total sensitivity 105276966379.19785 != total gain 1048576000.000055. Using total_gain.\u001b[0m\n",
      "\u001b[1m2025-04-02T11:51:50.399705-0700 | INFO | mt_metadata.timeseries.filters.channel_response | to_obspy | total sensitivity 104382542748.06306 != total gain 1048576000.000055. Using total_gain.\u001b[0m\n",
      "\u001b[1m2025-04-02T11:51:50.429321-0700 | INFO | mt_metadata.timeseries.filters.channel_response | to_obspy | total sensitivity 105026369151.30917 != total gain 1048576000.000055. Using total_gain.\u001b[0m\n",
      "\u001b[1m2025-04-02T11:51:50.458317-0700 | INFO | mt_metadata.timeseries.filters.channel_response | to_obspy | total sensitivity 105276966379.19785 != total gain 1048576000.000055. Using total_gain.\u001b[0m\n",
      "\u001b[1m2025-04-02T11:51:50.546968-0700 | INFO | mt_metadata.timeseries.filters.channel_response | to_obspy | total sensitivity 104382542748.06306 != total gain 1048576000.000055. Using total_gain.\u001b[0m\n",
      "\u001b[1m2025-04-02T11:51:50.575938-0700 | INFO | mt_metadata.timeseries.filters.channel_response | to_obspy | total sensitivity 105026369151.30917 != total gain 1048576000.000055. Using total_gain.\u001b[0m\n",
      "\u001b[1m2025-04-02T11:51:50.608997-0700 | INFO | mt_metadata.timeseries.filters.channel_response | to_obspy | total sensitivity 105276966379.19785 != total gain 1048576000.000055. Using total_gain.\u001b[0m\n",
      "\u001b[1m2025-04-02T11:51:50.700559-0700 | INFO | mt_metadata.timeseries.filters.channel_response | to_obspy | total sensitivity 104382542748.06306 != total gain 1048576000.000055. Using total_gain.\u001b[0m\n",
      "\u001b[1m2025-04-02T11:51:50.729828-0700 | INFO | mt_metadata.timeseries.filters.channel_response | to_obspy | total sensitivity 105026369151.30917 != total gain 1048576000.000055. Using total_gain.\u001b[0m\n",
      "\u001b[1m2025-04-02T11:51:50.757852-0700 | INFO | mt_metadata.timeseries.filters.channel_response | to_obspy | total sensitivity 105276966379.19785 != total gain 1048576000.000055. Using total_gain.\u001b[0m\n",
      "\u001b[1m2025-04-02T11:51:50.849445-0700 | INFO | mt_metadata.timeseries.filters.channel_response | to_obspy | total sensitivity 104382542748.06306 != total gain 1048576000.000055. Using total_gain.\u001b[0m\n",
      "\u001b[1m2025-04-02T11:51:50.883444-0700 | INFO | mt_metadata.timeseries.filters.channel_response | to_obspy | total sensitivity 105026369151.30917 != total gain 1048576000.000055. Using total_gain.\u001b[0m\n",
      "\u001b[1m2025-04-02T11:51:50.915488-0700 | INFO | mt_metadata.timeseries.filters.channel_response | to_obspy | total sensitivity 105276966379.19785 != total gain 1048576000.000055. Using total_gain.\u001b[0m\n",
      "\u001b[1m2025-04-02T11:51:51.010068-0700 | INFO | mt_metadata.timeseries.filters.channel_response | to_obspy | total sensitivity 104382542748.06306 != total gain 1048576000.000055. Using total_gain.\u001b[0m\n",
      "\u001b[1m2025-04-02T11:51:51.037660-0700 | INFO | mt_metadata.timeseries.filters.channel_response | to_obspy | total sensitivity 105026369151.30917 != total gain 1048576000.000055. Using total_gain.\u001b[0m\n",
      "\u001b[1m2025-04-02T11:51:51.066652-0700 | INFO | mt_metadata.timeseries.filters.channel_response | to_obspy | total sensitivity 105276966379.19785 != total gain 1048576000.000055. Using total_gain.\u001b[0m\n",
      "\u001b[1m2025-04-02T11:51:51.156472-0700 | INFO | mt_metadata.timeseries.filters.channel_response | to_obspy | total sensitivity 104382542748.06306 != total gain 1048576000.000055. Using total_gain.\u001b[0m\n",
      "\u001b[1m2025-04-02T11:51:51.205441-0700 | INFO | mt_metadata.timeseries.filters.channel_response | to_obspy | total sensitivity 105026369151.30917 != total gain 1048576000.000055. Using total_gain.\u001b[0m\n",
      "\u001b[1m2025-04-02T11:51:51.256967-0700 | INFO | mt_metadata.timeseries.filters.channel_response | to_obspy | total sensitivity 105276966379.19785 != total gain 1048576000.000055. Using total_gain.\u001b[0m\n",
      "\u001b[1m2025-04-02T11:51:51.359873-0700 | INFO | mt_metadata.timeseries.filters.channel_response | to_obspy | total sensitivity 104382542748.06306 != total gain 1048576000.000055. Using total_gain.\u001b[0m\n",
      "\u001b[1m2025-04-02T11:51:51.391870-0700 | INFO | mt_metadata.timeseries.filters.channel_response | to_obspy | total sensitivity 105026369151.30917 != total gain 1048576000.000055. Using total_gain.\u001b[0m\n",
      "\u001b[1m2025-04-02T11:51:51.421913-0700 | INFO | mt_metadata.timeseries.filters.channel_response | to_obspy | total sensitivity 105276966379.19785 != total gain 1048576000.000055. Using total_gain.\u001b[0m\n",
      "\u001b[1m2025-04-02T11:51:51.452431-0700 | INFO | mth5.io.conversion | convert_mth5_to_ms_stationxml | Wrote StationXML to c:\\Users\\jpeacock\\OneDrive - DOI\\MTData\\CL2021\\archive\\to_dmc\\cl3129.xml\u001b[0m\n",
      "\u001b[33m\u001b[1m2025-04-02T11:51:52.728948-0700 | WARNING | mt_metadata.timeseries.station | remove_run | Could not find cl321a to remove.\u001b[0m\n",
      "\u001b[1m2025-04-02T11:51:55.994772-0700 | INFO | mth5.io.conversion | split_ms_to_days | Wrote miniseed file to: c:\\Users\\jpeacock\\OneDrive - DOI\\MTData\\CL2021\\archive\\to_dmc\\1Z_CL321__LQN_2022_07_14T02_14_58.mseed\u001b[0m\n",
      "\u001b[1m2025-04-02T11:51:56.001740-0700 | INFO | mth5.io.conversion | split_ms_to_days | Wrote miniseed file to: c:\\Users\\jpeacock\\OneDrive - DOI\\MTData\\CL2021\\archive\\to_dmc\\1Z_CL321__LQE_2022_07_14T02_14_58.mseed\u001b[0m\n",
      "\u001b[1m2025-04-02T11:51:56.008740-0700 | INFO | mth5.io.conversion | split_ms_to_days | Wrote miniseed file to: c:\\Users\\jpeacock\\OneDrive - DOI\\MTData\\CL2021\\archive\\to_dmc\\1Z_CL321__LFN_2022_07_14T02_14_58.mseed\u001b[0m\n",
      "\u001b[1m2025-04-02T11:51:56.017749-0700 | INFO | mth5.io.conversion | split_ms_to_days | Wrote miniseed file to: c:\\Users\\jpeacock\\OneDrive - DOI\\MTData\\CL2021\\archive\\to_dmc\\1Z_CL321__LFE_2022_07_14T02_14_58.mseed\u001b[0m\n",
      "\u001b[1m2025-04-02T11:51:56.024750-0700 | INFO | mth5.io.conversion | split_ms_to_days | Wrote miniseed file to: c:\\Users\\jpeacock\\OneDrive - DOI\\MTData\\CL2021\\archive\\to_dmc\\1Z_CL321__LFZ_2022_07_14T02_14_58.mseed\u001b[0m\n",
      "\u001b[1m2025-04-02T11:52:01.634736-0700 | INFO | mth5.timeseries.run_ts | _align_channels | Channels do not have a common end, using latest: 2022-07-14T06:59:41.968750000\u001b[0m\n",
      "\u001b[1m2025-04-02T11:52:04.382791-0700 | INFO | mth5.io.conversion | split_ms_to_days | Wrote miniseed file to: c:\\Users\\jpeacock\\OneDrive - DOI\\MTData\\CL2021\\archive\\to_dmc\\1Z_CL321__CQN_2022_07_14T02_14_58.mseed\u001b[0m\n",
      "\u001b[1m2025-04-02T11:52:04.746221-0700 | INFO | mth5.io.conversion | split_ms_to_days | Wrote miniseed file to: c:\\Users\\jpeacock\\OneDrive - DOI\\MTData\\CL2021\\archive\\to_dmc\\1Z_CL321__CQE_2022_07_14T02_14_58.mseed\u001b[0m\n",
      "\u001b[1m2025-04-02T11:52:05.107697-0700 | INFO | mth5.io.conversion | split_ms_to_days | Wrote miniseed file to: c:\\Users\\jpeacock\\OneDrive - DOI\\MTData\\CL2021\\archive\\to_dmc\\1Z_CL321__CFN_2022_07_14T02_14_58.mseed\u001b[0m\n",
      "\u001b[1m2025-04-02T11:52:05.467568-0700 | INFO | mth5.io.conversion | split_ms_to_days | Wrote miniseed file to: c:\\Users\\jpeacock\\OneDrive - DOI\\MTData\\CL2021\\archive\\to_dmc\\1Z_CL321__CFE_2022_07_14T02_14_58.mseed\u001b[0m\n",
      "\u001b[1m2025-04-02T11:52:05.869362-0700 | INFO | mth5.io.conversion | split_ms_to_days | Wrote miniseed file to: c:\\Users\\jpeacock\\OneDrive - DOI\\MTData\\CL2021\\archive\\to_dmc\\1Z_CL321__CFZ_2022_07_14T02_14_58.mseed\u001b[0m\n",
      "\u001b[1m2025-04-02T11:52:09.284908-0700 | INFO | mth5.timeseries.run_ts | _align_channels | Channels do not have a common end, using latest: 2022-07-14T07:09:41.998535156\u001b[0m\n",
      "\u001b[33m\u001b[1m2025-04-02T11:52:12.010803-0700 | WARNING | mth5.timeseries.run_ts | validate_metadata | end time of dataset 2022-07-14T07:09:41.998291015+00:00 does not match metadata end 2022-07-14T07:09:41.998535156+00:00 updating metatdata value to 2022-07-14T07:09:41.998291015+00:00\u001b[0m\n"
     ]
    },
    {
     "name": "stderr",
     "output_type": "stream",
     "text": [
      "C:\\Users\\jpeacock\\OneDrive - DOI\\Documents\\GitHub\\mth5\\mth5\\timeseries\\channel_ts.py:1524: RuntimeWarning: invalid value encountered in cast\n",
      "  obspy_trace = Trace(self.ts.astype(encoding_dict[encoding]))\n"
     ]
    },
    {
     "name": "stdout",
     "output_type": "stream",
     "text": [
      "\u001b[1m2025-04-02T11:52:12.880596-0700 | INFO | mth5.io.conversion | split_ms_to_days | Wrote miniseed file to: c:\\Users\\jpeacock\\OneDrive - DOI\\MTData\\CL2021\\archive\\to_dmc\\1Z_CL321__FQN_2022_07_14T06_59_58.mseed\u001b[0m\n",
      "\u001b[1m2025-04-02T11:52:13.078711-0700 | INFO | mth5.io.conversion | split_ms_to_days | Wrote miniseed file to: c:\\Users\\jpeacock\\OneDrive - DOI\\MTData\\CL2021\\archive\\to_dmc\\1Z_CL321__FQE_2022_07_14T06_59_58.mseed\u001b[0m\n",
      "\u001b[1m2025-04-02T11:52:13.281572-0700 | INFO | mth5.io.conversion | split_ms_to_days | Wrote miniseed file to: c:\\Users\\jpeacock\\OneDrive - DOI\\MTData\\CL2021\\archive\\to_dmc\\1Z_CL321__FFN_2022_07_14T06_59_58.mseed\u001b[0m\n",
      "\u001b[1m2025-04-02T11:52:13.508149-0700 | INFO | mth5.io.conversion | split_ms_to_days | Wrote miniseed file to: c:\\Users\\jpeacock\\OneDrive - DOI\\MTData\\CL2021\\archive\\to_dmc\\1Z_CL321__FFE_2022_07_14T06_59_58.mseed\u001b[0m\n",
      "\u001b[1m2025-04-02T11:52:13.709092-0700 | INFO | mth5.io.conversion | split_ms_to_days | Wrote miniseed file to: c:\\Users\\jpeacock\\OneDrive - DOI\\MTData\\CL2021\\archive\\to_dmc\\1Z_CL321__FFZ_2022_07_14T06_59_58.mseed\u001b[0m\n",
      "\u001b[1m2025-04-02T11:52:21.201284-0700 | INFO | mth5.io.conversion | split_ms_to_days | Wrote miniseed file to: c:\\Users\\jpeacock\\OneDrive - DOI\\MTData\\CL2021\\archive\\to_dmc\\1Z_CL321__CQN_2022_07_14T07_09_58.mseed\u001b[0m\n",
      "\u001b[1m2025-04-02T11:52:21.623245-0700 | INFO | mth5.io.conversion | split_ms_to_days | Wrote miniseed file to: c:\\Users\\jpeacock\\OneDrive - DOI\\MTData\\CL2021\\archive\\to_dmc\\1Z_CL321__CQE_2022_07_14T07_09_58.mseed\u001b[0m\n",
      "\u001b[1m2025-04-02T11:52:22.041514-0700 | INFO | mth5.io.conversion | split_ms_to_days | Wrote miniseed file to: c:\\Users\\jpeacock\\OneDrive - DOI\\MTData\\CL2021\\archive\\to_dmc\\1Z_CL321__CFN_2022_07_14T07_09_58.mseed\u001b[0m\n",
      "\u001b[1m2025-04-02T11:52:22.509088-0700 | INFO | mth5.io.conversion | split_ms_to_days | Wrote miniseed file to: c:\\Users\\jpeacock\\OneDrive - DOI\\MTData\\CL2021\\archive\\to_dmc\\1Z_CL321__CFE_2022_07_14T07_09_58.mseed\u001b[0m\n",
      "\u001b[1m2025-04-02T11:52:22.989269-0700 | INFO | mth5.io.conversion | split_ms_to_days | Wrote miniseed file to: c:\\Users\\jpeacock\\OneDrive - DOI\\MTData\\CL2021\\archive\\to_dmc\\1Z_CL321__CFZ_2022_07_14T07_09_58.mseed\u001b[0m\n",
      "\u001b[1m2025-04-02T11:52:26.781904-0700 | INFO | mth5.timeseries.run_ts | _align_channels | Channels do not have a common end, using latest: 2022-07-14T13:09:41.998291015\u001b[0m\n",
      "\u001b[33m\u001b[1m2025-04-02T11:52:29.561767-0700 | WARNING | mth5.timeseries.run_ts | validate_metadata | end time of dataset 2022-07-14T13:09:41.998047+00:00 does not match metadata end 2022-07-14T13:09:41.998291015+00:00 updating metatdata value to 2022-07-14T13:09:41.998047+00:00\u001b[0m\n"
     ]
    },
    {
     "name": "stderr",
     "output_type": "stream",
     "text": [
      "C:\\Users\\jpeacock\\OneDrive - DOI\\Documents\\GitHub\\mth5\\mth5\\timeseries\\channel_ts.py:1524: RuntimeWarning: invalid value encountered in cast\n",
      "  obspy_trace = Trace(self.ts.astype(encoding_dict[encoding]))\n"
     ]
    },
    {
     "name": "stdout",
     "output_type": "stream",
     "text": [
      "\u001b[1m2025-04-02T11:52:30.374071-0700 | INFO | mth5.io.conversion | split_ms_to_days | Wrote miniseed file to: c:\\Users\\jpeacock\\OneDrive - DOI\\MTData\\CL2021\\archive\\to_dmc\\1Z_CL321__FQN_2022_07_14T12_59_58.mseed\u001b[0m\n",
      "\u001b[1m2025-04-02T11:52:30.570060-0700 | INFO | mth5.io.conversion | split_ms_to_days | Wrote miniseed file to: c:\\Users\\jpeacock\\OneDrive - DOI\\MTData\\CL2021\\archive\\to_dmc\\1Z_CL321__FQE_2022_07_14T12_59_58.mseed\u001b[0m\n",
      "\u001b[1m2025-04-02T11:52:30.761642-0700 | INFO | mth5.io.conversion | split_ms_to_days | Wrote miniseed file to: c:\\Users\\jpeacock\\OneDrive - DOI\\MTData\\CL2021\\archive\\to_dmc\\1Z_CL321__FFN_2022_07_14T12_59_58.mseed\u001b[0m\n",
      "\u001b[1m2025-04-02T11:52:30.957492-0700 | INFO | mth5.io.conversion | split_ms_to_days | Wrote miniseed file to: c:\\Users\\jpeacock\\OneDrive - DOI\\MTData\\CL2021\\archive\\to_dmc\\1Z_CL321__FFE_2022_07_14T12_59_58.mseed\u001b[0m\n",
      "\u001b[1m2025-04-02T11:52:31.166257-0700 | INFO | mth5.io.conversion | split_ms_to_days | Wrote miniseed file to: c:\\Users\\jpeacock\\OneDrive - DOI\\MTData\\CL2021\\archive\\to_dmc\\1Z_CL321__FFZ_2022_07_14T12_59_58.mseed\u001b[0m\n",
      "\u001b[1m2025-04-02T11:52:39.178697-0700 | INFO | mth5.io.conversion | split_ms_to_days | Wrote miniseed file to: c:\\Users\\jpeacock\\OneDrive - DOI\\MTData\\CL2021\\archive\\to_dmc\\1Z_CL321__CQN_2022_07_14T13_09_58.mseed\u001b[0m\n",
      "\u001b[1m2025-04-02T11:52:39.601960-0700 | INFO | mth5.io.conversion | split_ms_to_days | Wrote miniseed file to: c:\\Users\\jpeacock\\OneDrive - DOI\\MTData\\CL2021\\archive\\to_dmc\\1Z_CL321__CQE_2022_07_14T13_09_58.mseed\u001b[0m\n",
      "\u001b[1m2025-04-02T11:52:40.006919-0700 | INFO | mth5.io.conversion | split_ms_to_days | Wrote miniseed file to: c:\\Users\\jpeacock\\OneDrive - DOI\\MTData\\CL2021\\archive\\to_dmc\\1Z_CL321__CFN_2022_07_14T13_09_58.mseed\u001b[0m\n",
      "\u001b[1m2025-04-02T11:52:40.450902-0700 | INFO | mth5.io.conversion | split_ms_to_days | Wrote miniseed file to: c:\\Users\\jpeacock\\OneDrive - DOI\\MTData\\CL2021\\archive\\to_dmc\\1Z_CL321__CFE_2022_07_14T13_09_58.mseed\u001b[0m\n",
      "\u001b[1m2025-04-02T11:52:40.861712-0700 | INFO | mth5.io.conversion | split_ms_to_days | Wrote miniseed file to: c:\\Users\\jpeacock\\OneDrive - DOI\\MTData\\CL2021\\archive\\to_dmc\\1Z_CL321__CFZ_2022_07_14T13_09_58.mseed\u001b[0m\n",
      "\u001b[1m2025-04-02T11:52:42.058715-0700 | INFO | mth5.mth5 | close_mth5 | Flushing and closing c:\\Users\\jpeacock\\OneDrive - DOI\\MTData\\CL2021\\archive\\cl321.h5\u001b[0m\n",
      "\u001b[33m\u001b[1m2025-04-02T11:52:42.062716-0700 | WARNING | mt_metadata.timeseries.stationxml.xml_station_mt_station | mt_to_xml | Station.geographic_name is None, using Station.id = cl321.Check StationXML site.name.\u001b[0m\n",
      "\u001b[1m2025-04-02T11:52:42.142012-0700 | INFO | mt_metadata.timeseries.filters.channel_response | to_obspy | total sensitivity 104957842879.94406 != total gain 1048576000.000055. Using total_gain.\u001b[0m\n",
      "\u001b[1m2025-04-02T11:52:42.175552-0700 | INFO | mt_metadata.timeseries.filters.channel_response | to_obspy | total sensitivity 99528330172.17546 != total gain 1048576000.000055. Using total_gain.\u001b[0m\n",
      "\u001b[1m2025-04-02T11:52:42.204551-0700 | INFO | mt_metadata.timeseries.filters.channel_response | to_obspy | total sensitivity 104398743147.64836 != total gain 1048576000.000055. Using total_gain.\u001b[0m\n",
      "\u001b[1m2025-04-02T11:52:42.299106-0700 | INFO | mt_metadata.timeseries.filters.channel_response | to_obspy | total sensitivity 104957842879.94406 != total gain 1048576000.000055. Using total_gain.\u001b[0m\n",
      "\u001b[1m2025-04-02T11:52:42.327718-0700 | INFO | mt_metadata.timeseries.filters.channel_response | to_obspy | total sensitivity 99528330172.17546 != total gain 1048576000.000055. Using total_gain.\u001b[0m\n",
      "\u001b[1m2025-04-02T11:52:42.357687-0700 | INFO | mt_metadata.timeseries.filters.channel_response | to_obspy | total sensitivity 104398743147.64836 != total gain 1048576000.000055. Using total_gain.\u001b[0m\n",
      "\u001b[1m2025-04-02T11:52:42.448331-0700 | INFO | mt_metadata.timeseries.filters.channel_response | to_obspy | total sensitivity 104957842879.94406 != total gain 1048576000.000055. Using total_gain.\u001b[0m\n",
      "\u001b[1m2025-04-02T11:52:42.476330-0700 | INFO | mt_metadata.timeseries.filters.channel_response | to_obspy | total sensitivity 99528330172.17546 != total gain 1048576000.000055. Using total_gain.\u001b[0m\n",
      "\u001b[1m2025-04-02T11:52:42.506337-0700 | INFO | mt_metadata.timeseries.filters.channel_response | to_obspy | total sensitivity 104398743147.64836 != total gain 1048576000.000055. Using total_gain.\u001b[0m\n",
      "\u001b[1m2025-04-02T11:52:42.595920-0700 | INFO | mt_metadata.timeseries.filters.channel_response | to_obspy | total sensitivity 104957842879.94406 != total gain 1048576000.000055. Using total_gain.\u001b[0m\n",
      "\u001b[1m2025-04-02T11:52:42.623927-0700 | INFO | mt_metadata.timeseries.filters.channel_response | to_obspy | total sensitivity 99528330172.17546 != total gain 1048576000.000055. Using total_gain.\u001b[0m\n",
      "\u001b[1m2025-04-02T11:52:42.652507-0700 | INFO | mt_metadata.timeseries.filters.channel_response | to_obspy | total sensitivity 104398743147.64836 != total gain 1048576000.000055. Using total_gain.\u001b[0m\n",
      "\u001b[1m2025-04-02T11:52:42.756005-0700 | INFO | mt_metadata.timeseries.filters.channel_response | to_obspy | total sensitivity 104957842879.94406 != total gain 1048576000.000055. Using total_gain.\u001b[0m\n",
      "\u001b[1m2025-04-02T11:52:42.793005-0700 | INFO | mt_metadata.timeseries.filters.channel_response | to_obspy | total sensitivity 99528330172.17546 != total gain 1048576000.000055. Using total_gain.\u001b[0m\n",
      "\u001b[1m2025-04-02T11:52:42.820011-0700 | INFO | mt_metadata.timeseries.filters.channel_response | to_obspy | total sensitivity 104398743147.64836 != total gain 1048576000.000055. Using total_gain.\u001b[0m\n",
      "\u001b[1m2025-04-02T11:52:42.917542-0700 | INFO | mt_metadata.timeseries.filters.channel_response | to_obspy | total sensitivity 104957842879.94406 != total gain 1048576000.000055. Using total_gain.\u001b[0m\n",
      "\u001b[1m2025-04-02T11:52:42.950049-0700 | INFO | mt_metadata.timeseries.filters.channel_response | to_obspy | total sensitivity 99528330172.17546 != total gain 1048576000.000055. Using total_gain.\u001b[0m\n",
      "\u001b[1m2025-04-02T11:52:42.979083-0700 | INFO | mt_metadata.timeseries.filters.channel_response | to_obspy | total sensitivity 104398743147.64836 != total gain 1048576000.000055. Using total_gain.\u001b[0m\n",
      "\u001b[1m2025-04-02T11:52:43.009052-0700 | INFO | mth5.io.conversion | convert_mth5_to_ms_stationxml | Wrote StationXML to c:\\Users\\jpeacock\\OneDrive - DOI\\MTData\\CL2021\\archive\\to_dmc\\cl321.xml\u001b[0m\n",
      "\u001b[33m\u001b[1m2025-04-02T11:52:45.119760-0700 | WARNING | mt_metadata.timeseries.station | remove_run | Could not find cl326a to remove.\u001b[0m\n",
      "\u001b[1m2025-04-02T11:52:48.901415-0700 | INFO | mth5.io.conversion | split_ms_to_days | Wrote miniseed file to: c:\\Users\\jpeacock\\OneDrive - DOI\\MTData\\CL2021\\archive\\to_dmc\\1Z_CL326__LQN_2022_07_08T23_59_58.mseed\u001b[0m\n",
      "\u001b[1m2025-04-02T11:52:48.903419-0700 | INFO | mth5.io.conversion | split_ms_to_days | Wrote miniseed file to: c:\\Users\\jpeacock\\OneDrive - DOI\\MTData\\CL2021\\archive\\to_dmc\\1Z_CL326__LQN_2022_07_09T00_00_00.mseed\u001b[0m\n",
      "\u001b[1m2025-04-02T11:52:48.914426-0700 | INFO | mth5.io.conversion | split_ms_to_days | Wrote miniseed file to: c:\\Users\\jpeacock\\OneDrive - DOI\\MTData\\CL2021\\archive\\to_dmc\\1Z_CL326__LQE_2022_07_08T23_59_58.mseed\u001b[0m\n",
      "\u001b[1m2025-04-02T11:52:48.916415-0700 | INFO | mth5.io.conversion | split_ms_to_days | Wrote miniseed file to: c:\\Users\\jpeacock\\OneDrive - DOI\\MTData\\CL2021\\archive\\to_dmc\\1Z_CL326__LQE_2022_07_09T00_00_00.mseed\u001b[0m\n",
      "\u001b[1m2025-04-02T11:52:48.929424-0700 | INFO | mth5.io.conversion | split_ms_to_days | Wrote miniseed file to: c:\\Users\\jpeacock\\OneDrive - DOI\\MTData\\CL2021\\archive\\to_dmc\\1Z_CL326__LFN_2022_07_08T23_59_58.mseed\u001b[0m\n",
      "\u001b[1m2025-04-02T11:52:48.932940-0700 | INFO | mth5.io.conversion | split_ms_to_days | Wrote miniseed file to: c:\\Users\\jpeacock\\OneDrive - DOI\\MTData\\CL2021\\archive\\to_dmc\\1Z_CL326__LFN_2022_07_09T00_00_00.mseed\u001b[0m\n",
      "\u001b[1m2025-04-02T11:52:48.945949-0700 | INFO | mth5.io.conversion | split_ms_to_days | Wrote miniseed file to: c:\\Users\\jpeacock\\OneDrive - DOI\\MTData\\CL2021\\archive\\to_dmc\\1Z_CL326__LFE_2022_07_08T23_59_58.mseed\u001b[0m\n",
      "\u001b[1m2025-04-02T11:52:48.948949-0700 | INFO | mth5.io.conversion | split_ms_to_days | Wrote miniseed file to: c:\\Users\\jpeacock\\OneDrive - DOI\\MTData\\CL2021\\archive\\to_dmc\\1Z_CL326__LFE_2022_07_09T00_00_00.mseed\u001b[0m\n",
      "\u001b[1m2025-04-02T11:52:48.958953-0700 | INFO | mth5.io.conversion | split_ms_to_days | Wrote miniseed file to: c:\\Users\\jpeacock\\OneDrive - DOI\\MTData\\CL2021\\archive\\to_dmc\\1Z_CL326__LFZ_2022_07_08T23_59_58.mseed\u001b[0m\n",
      "\u001b[1m2025-04-02T11:52:48.961952-0700 | INFO | mth5.io.conversion | split_ms_to_days | Wrote miniseed file to: c:\\Users\\jpeacock\\OneDrive - DOI\\MTData\\CL2021\\archive\\to_dmc\\1Z_CL326__LFZ_2022_07_09T00_00_00.mseed\u001b[0m\n",
      "\u001b[1m2025-04-02T11:52:53.464971-0700 | INFO | mth5.io.conversion | split_ms_to_days | Wrote miniseed file to: c:\\Users\\jpeacock\\OneDrive - DOI\\MTData\\CL2021\\archive\\to_dmc\\1Z_CL326__CQN_2022_07_08T23_59_58.mseed\u001b[0m\n",
      "\u001b[1m2025-04-02T11:52:53.467937-0700 | INFO | mth5.io.conversion | split_ms_to_days | Wrote miniseed file to: c:\\Users\\jpeacock\\OneDrive - DOI\\MTData\\CL2021\\archive\\to_dmc\\1Z_CL326__CQN_2022_07_09T00_00_00.mseed\u001b[0m\n",
      "\u001b[1m2025-04-02T11:52:53.541711-0700 | INFO | mth5.io.conversion | split_ms_to_days | Wrote miniseed file to: c:\\Users\\jpeacock\\OneDrive - DOI\\MTData\\CL2021\\archive\\to_dmc\\1Z_CL326__CQE_2022_07_08T23_59_58.mseed\u001b[0m\n",
      "\u001b[1m2025-04-02T11:52:53.543711-0700 | INFO | mth5.io.conversion | split_ms_to_days | Wrote miniseed file to: c:\\Users\\jpeacock\\OneDrive - DOI\\MTData\\CL2021\\archive\\to_dmc\\1Z_CL326__CQE_2022_07_09T00_00_00.mseed\u001b[0m\n",
      "\u001b[1m2025-04-02T11:52:53.628719-0700 | INFO | mth5.io.conversion | split_ms_to_days | Wrote miniseed file to: c:\\Users\\jpeacock\\OneDrive - DOI\\MTData\\CL2021\\archive\\to_dmc\\1Z_CL326__CFN_2022_07_08T23_59_58.mseed\u001b[0m\n",
      "\u001b[1m2025-04-02T11:52:53.631720-0700 | INFO | mth5.io.conversion | split_ms_to_days | Wrote miniseed file to: c:\\Users\\jpeacock\\OneDrive - DOI\\MTData\\CL2021\\archive\\to_dmc\\1Z_CL326__CFN_2022_07_09T00_00_00.mseed\u001b[0m\n",
      "\u001b[1m2025-04-02T11:52:53.720664-0700 | INFO | mth5.io.conversion | split_ms_to_days | Wrote miniseed file to: c:\\Users\\jpeacock\\OneDrive - DOI\\MTData\\CL2021\\archive\\to_dmc\\1Z_CL326__CFE_2022_07_08T23_59_58.mseed\u001b[0m\n",
      "\u001b[1m2025-04-02T11:52:53.723673-0700 | INFO | mth5.io.conversion | split_ms_to_days | Wrote miniseed file to: c:\\Users\\jpeacock\\OneDrive - DOI\\MTData\\CL2021\\archive\\to_dmc\\1Z_CL326__CFE_2022_07_09T00_00_00.mseed\u001b[0m\n",
      "\u001b[1m2025-04-02T11:52:53.803187-0700 | INFO | mth5.io.conversion | split_ms_to_days | Wrote miniseed file to: c:\\Users\\jpeacock\\OneDrive - DOI\\MTData\\CL2021\\archive\\to_dmc\\1Z_CL326__CFZ_2022_07_08T23_59_58.mseed\u001b[0m\n",
      "\u001b[1m2025-04-02T11:52:53.805184-0700 | INFO | mth5.io.conversion | split_ms_to_days | Wrote miniseed file to: c:\\Users\\jpeacock\\OneDrive - DOI\\MTData\\CL2021\\archive\\to_dmc\\1Z_CL326__CFZ_2022_07_09T00_00_00.mseed\u001b[0m\n",
      "\u001b[1m2025-04-02T11:52:57.360978-0700 | INFO | mth5.timeseries.run_ts | _align_channels | Channels do not have a common end, using latest: 2022-07-09T01:09:41.998535156\u001b[0m\n",
      "\u001b[33m\u001b[1m2025-04-02T11:52:58.967545-0700 | WARNING | mth5.timeseries.run_ts | validate_metadata | end time of dataset 2022-07-09T01:09:41.998291015+00:00 does not match metadata end 2022-07-09T01:09:41.998535156+00:00 updating metatdata value to 2022-07-09T01:09:41.998291015+00:00\u001b[0m\n"
     ]
    },
    {
     "name": "stderr",
     "output_type": "stream",
     "text": [
      "C:\\Users\\jpeacock\\OneDrive - DOI\\Documents\\GitHub\\mth5\\mth5\\timeseries\\channel_ts.py:1524: RuntimeWarning: invalid value encountered in cast\n",
      "  obspy_trace = Trace(self.ts.astype(encoding_dict[encoding]))\n"
     ]
    },
    {
     "name": "stdout",
     "output_type": "stream",
     "text": [
      "\u001b[1m2025-04-02T11:52:59.720847-0700 | INFO | mth5.io.conversion | split_ms_to_days | Wrote miniseed file to: c:\\Users\\jpeacock\\OneDrive - DOI\\MTData\\CL2021\\archive\\to_dmc\\1Z_CL326__FQN_2022_07_09T00_59_58.mseed\u001b[0m\n",
      "\u001b[1m2025-04-02T11:52:59.910981-0700 | INFO | mth5.io.conversion | split_ms_to_days | Wrote miniseed file to: c:\\Users\\jpeacock\\OneDrive - DOI\\MTData\\CL2021\\archive\\to_dmc\\1Z_CL326__FQE_2022_07_09T00_59_58.mseed\u001b[0m\n",
      "\u001b[1m2025-04-02T11:53:00.108737-0700 | INFO | mth5.io.conversion | split_ms_to_days | Wrote miniseed file to: c:\\Users\\jpeacock\\OneDrive - DOI\\MTData\\CL2021\\archive\\to_dmc\\1Z_CL326__FFN_2022_07_09T00_59_58.mseed\u001b[0m\n",
      "\u001b[1m2025-04-02T11:53:00.295873-0700 | INFO | mth5.io.conversion | split_ms_to_days | Wrote miniseed file to: c:\\Users\\jpeacock\\OneDrive - DOI\\MTData\\CL2021\\archive\\to_dmc\\1Z_CL326__FFE_2022_07_09T00_59_58.mseed\u001b[0m\n",
      "\u001b[1m2025-04-02T11:53:00.481928-0700 | INFO | mth5.io.conversion | split_ms_to_days | Wrote miniseed file to: c:\\Users\\jpeacock\\OneDrive - DOI\\MTData\\CL2021\\archive\\to_dmc\\1Z_CL326__FFZ_2022_07_09T00_59_58.mseed\u001b[0m\n",
      "\u001b[1m2025-04-02T11:53:08.024126-0700 | INFO | mth5.timeseries.run_ts | _align_channels | Channels do not have a common end, using latest: 2022-07-09T06:59:41.968750000\u001b[0m\n",
      "\u001b[1m2025-04-02T11:53:11.087613-0700 | INFO | mth5.io.conversion | split_ms_to_days | Wrote miniseed file to: c:\\Users\\jpeacock\\OneDrive - DOI\\MTData\\CL2021\\archive\\to_dmc\\1Z_CL326__CQN_2022_07_09T01_09_58.mseed\u001b[0m\n",
      "\u001b[1m2025-04-02T11:53:11.554362-0700 | INFO | mth5.io.conversion | split_ms_to_days | Wrote miniseed file to: c:\\Users\\jpeacock\\OneDrive - DOI\\MTData\\CL2021\\archive\\to_dmc\\1Z_CL326__CQE_2022_07_09T01_09_58.mseed\u001b[0m\n",
      "\u001b[1m2025-04-02T11:53:12.003461-0700 | INFO | mth5.io.conversion | split_ms_to_days | Wrote miniseed file to: c:\\Users\\jpeacock\\OneDrive - DOI\\MTData\\CL2021\\archive\\to_dmc\\1Z_CL326__CFN_2022_07_09T01_09_58.mseed\u001b[0m\n",
      "\u001b[1m2025-04-02T11:53:12.464289-0700 | INFO | mth5.io.conversion | split_ms_to_days | Wrote miniseed file to: c:\\Users\\jpeacock\\OneDrive - DOI\\MTData\\CL2021\\archive\\to_dmc\\1Z_CL326__CFE_2022_07_09T01_09_58.mseed\u001b[0m\n",
      "\u001b[1m2025-04-02T11:53:12.929318-0700 | INFO | mth5.io.conversion | split_ms_to_days | Wrote miniseed file to: c:\\Users\\jpeacock\\OneDrive - DOI\\MTData\\CL2021\\archive\\to_dmc\\1Z_CL326__CFZ_2022_07_09T01_09_58.mseed\u001b[0m\n",
      "\u001b[1m2025-04-02T11:53:17.092505-0700 | INFO | mth5.timeseries.run_ts | _align_channels | Channels do not have a common end, using latest: 2022-07-09T07:09:41.998291015\u001b[0m\n",
      "\u001b[33m\u001b[1m2025-04-02T11:53:19.321677-0700 | WARNING | mth5.timeseries.run_ts | validate_metadata | end time of dataset 2022-07-09T07:09:41.998047+00:00 does not match metadata end 2022-07-09T07:09:41.998291015+00:00 updating metatdata value to 2022-07-09T07:09:41.998047+00:00\u001b[0m\n"
     ]
    },
    {
     "name": "stderr",
     "output_type": "stream",
     "text": [
      "C:\\Users\\jpeacock\\OneDrive - DOI\\Documents\\GitHub\\mth5\\mth5\\timeseries\\channel_ts.py:1524: RuntimeWarning: invalid value encountered in cast\n",
      "  obspy_trace = Trace(self.ts.astype(encoding_dict[encoding]))\n"
     ]
    },
    {
     "name": "stdout",
     "output_type": "stream",
     "text": [
      "\u001b[1m2025-04-02T11:53:20.046572-0700 | INFO | mth5.io.conversion | split_ms_to_days | Wrote miniseed file to: c:\\Users\\jpeacock\\OneDrive - DOI\\MTData\\CL2021\\archive\\to_dmc\\1Z_CL326__FQN_2022_07_09T06_59_58.mseed\u001b[0m\n",
      "\u001b[1m2025-04-02T11:53:20.234767-0700 | INFO | mth5.io.conversion | split_ms_to_days | Wrote miniseed file to: c:\\Users\\jpeacock\\OneDrive - DOI\\MTData\\CL2021\\archive\\to_dmc\\1Z_CL326__FQE_2022_07_09T06_59_58.mseed\u001b[0m\n",
      "\u001b[1m2025-04-02T11:53:20.422951-0700 | INFO | mth5.io.conversion | split_ms_to_days | Wrote miniseed file to: c:\\Users\\jpeacock\\OneDrive - DOI\\MTData\\CL2021\\archive\\to_dmc\\1Z_CL326__FFN_2022_07_09T06_59_58.mseed\u001b[0m\n",
      "\u001b[1m2025-04-02T11:53:20.610147-0700 | INFO | mth5.io.conversion | split_ms_to_days | Wrote miniseed file to: c:\\Users\\jpeacock\\OneDrive - DOI\\MTData\\CL2021\\archive\\to_dmc\\1Z_CL326__FFE_2022_07_09T06_59_58.mseed\u001b[0m\n",
      "\u001b[1m2025-04-02T11:53:20.803181-0700 | INFO | mth5.io.conversion | split_ms_to_days | Wrote miniseed file to: c:\\Users\\jpeacock\\OneDrive - DOI\\MTData\\CL2021\\archive\\to_dmc\\1Z_CL326__FFZ_2022_07_09T06_59_58.mseed\u001b[0m\n",
      "\u001b[1m2025-04-02T11:53:28.877066-0700 | INFO | mth5.io.conversion | split_ms_to_days | Wrote miniseed file to: c:\\Users\\jpeacock\\OneDrive - DOI\\MTData\\CL2021\\archive\\to_dmc\\1Z_CL326__CQN_2022_07_09T07_09_58.mseed\u001b[0m\n",
      "\u001b[1m2025-04-02T11:53:29.357326-0700 | INFO | mth5.io.conversion | split_ms_to_days | Wrote miniseed file to: c:\\Users\\jpeacock\\OneDrive - DOI\\MTData\\CL2021\\archive\\to_dmc\\1Z_CL326__CQE_2022_07_09T07_09_58.mseed\u001b[0m\n",
      "\u001b[1m2025-04-02T11:53:29.872982-0700 | INFO | mth5.io.conversion | split_ms_to_days | Wrote miniseed file to: c:\\Users\\jpeacock\\OneDrive - DOI\\MTData\\CL2021\\archive\\to_dmc\\1Z_CL326__CFN_2022_07_09T07_09_58.mseed\u001b[0m\n",
      "\u001b[1m2025-04-02T11:53:30.388097-0700 | INFO | mth5.io.conversion | split_ms_to_days | Wrote miniseed file to: c:\\Users\\jpeacock\\OneDrive - DOI\\MTData\\CL2021\\archive\\to_dmc\\1Z_CL326__CFE_2022_07_09T07_09_58.mseed\u001b[0m\n",
      "\u001b[1m2025-04-02T11:53:30.940220-0700 | INFO | mth5.io.conversion | split_ms_to_days | Wrote miniseed file to: c:\\Users\\jpeacock\\OneDrive - DOI\\MTData\\CL2021\\archive\\to_dmc\\1Z_CL326__CFZ_2022_07_09T07_09_58.mseed\u001b[0m\n",
      "\u001b[1m2025-04-02T11:53:35.159350-0700 | INFO | mth5.timeseries.run_ts | _align_channels | Channels do not have a common end, using latest: 2022-07-09T13:09:41.998779296\u001b[0m\n",
      "\u001b[33m\u001b[1m2025-04-02T11:53:37.982181-0700 | WARNING | mth5.timeseries.run_ts | validate_metadata | end time of dataset 2022-07-09T13:09:41.998535156+00:00 does not match metadata end 2022-07-09T13:09:41.998779296+00:00 updating metatdata value to 2022-07-09T13:09:41.998535156+00:00\u001b[0m\n"
     ]
    },
    {
     "name": "stderr",
     "output_type": "stream",
     "text": [
      "C:\\Users\\jpeacock\\OneDrive - DOI\\Documents\\GitHub\\mth5\\mth5\\timeseries\\channel_ts.py:1524: RuntimeWarning: invalid value encountered in cast\n",
      "  obspy_trace = Trace(self.ts.astype(encoding_dict[encoding]))\n"
     ]
    },
    {
     "name": "stdout",
     "output_type": "stream",
     "text": [
      "\u001b[1m2025-04-02T11:53:38.774918-0700 | INFO | mth5.io.conversion | split_ms_to_days | Wrote miniseed file to: c:\\Users\\jpeacock\\OneDrive - DOI\\MTData\\CL2021\\archive\\to_dmc\\1Z_CL326__FQN_2022_07_09T12_59_58.mseed\u001b[0m\n",
      "\u001b[1m2025-04-02T11:53:38.985247-0700 | INFO | mth5.io.conversion | split_ms_to_days | Wrote miniseed file to: c:\\Users\\jpeacock\\OneDrive - DOI\\MTData\\CL2021\\archive\\to_dmc\\1Z_CL326__FQE_2022_07_09T12_59_58.mseed\u001b[0m\n",
      "\u001b[1m2025-04-02T11:53:39.184118-0700 | INFO | mth5.io.conversion | split_ms_to_days | Wrote miniseed file to: c:\\Users\\jpeacock\\OneDrive - DOI\\MTData\\CL2021\\archive\\to_dmc\\1Z_CL326__FFN_2022_07_09T12_59_58.mseed\u001b[0m\n",
      "\u001b[1m2025-04-02T11:53:39.396350-0700 | INFO | mth5.io.conversion | split_ms_to_days | Wrote miniseed file to: c:\\Users\\jpeacock\\OneDrive - DOI\\MTData\\CL2021\\archive\\to_dmc\\1Z_CL326__FFE_2022_07_09T12_59_58.mseed\u001b[0m\n",
      "\u001b[1m2025-04-02T11:53:39.604804-0700 | INFO | mth5.io.conversion | split_ms_to_days | Wrote miniseed file to: c:\\Users\\jpeacock\\OneDrive - DOI\\MTData\\CL2021\\archive\\to_dmc\\1Z_CL326__FFZ_2022_07_09T12_59_58.mseed\u001b[0m\n",
      "\u001b[1m2025-04-02T11:53:48.946443-0700 | INFO | mth5.io.conversion | split_ms_to_days | Wrote miniseed file to: c:\\Users\\jpeacock\\OneDrive - DOI\\MTData\\CL2021\\archive\\to_dmc\\1Z_CL326__CQN_2022_07_09T13_09_58.mseed\u001b[0m\n",
      "\u001b[1m2025-04-02T11:53:49.365484-0700 | INFO | mth5.io.conversion | split_ms_to_days | Wrote miniseed file to: c:\\Users\\jpeacock\\OneDrive - DOI\\MTData\\CL2021\\archive\\to_dmc\\1Z_CL326__CQE_2022_07_09T13_09_58.mseed\u001b[0m\n",
      "\u001b[1m2025-04-02T11:53:49.837478-0700 | INFO | mth5.io.conversion | split_ms_to_days | Wrote miniseed file to: c:\\Users\\jpeacock\\OneDrive - DOI\\MTData\\CL2021\\archive\\to_dmc\\1Z_CL326__CFN_2022_07_09T13_09_58.mseed\u001b[0m\n",
      "\u001b[1m2025-04-02T11:53:50.316075-0700 | INFO | mth5.io.conversion | split_ms_to_days | Wrote miniseed file to: c:\\Users\\jpeacock\\OneDrive - DOI\\MTData\\CL2021\\archive\\to_dmc\\1Z_CL326__CFE_2022_07_09T13_09_58.mseed\u001b[0m\n",
      "\u001b[1m2025-04-02T11:53:50.910727-0700 | INFO | mth5.io.conversion | split_ms_to_days | Wrote miniseed file to: c:\\Users\\jpeacock\\OneDrive - DOI\\MTData\\CL2021\\archive\\to_dmc\\1Z_CL326__CFZ_2022_07_09T13_09_58.mseed\u001b[0m\n",
      "\u001b[1m2025-04-02T11:53:55.266133-0700 | INFO | mth5.timeseries.run_ts | _align_channels | Channels do not have a common end, using latest: 2022-07-09T19:09:41.998535156\u001b[0m\n",
      "\u001b[33m\u001b[1m2025-04-02T11:53:57.969486-0700 | WARNING | mth5.timeseries.run_ts | validate_metadata | end time of dataset 2022-07-09T19:09:41.998291015+00:00 does not match metadata end 2022-07-09T19:09:41.998535156+00:00 updating metatdata value to 2022-07-09T19:09:41.998291015+00:00\u001b[0m\n"
     ]
    },
    {
     "name": "stderr",
     "output_type": "stream",
     "text": [
      "C:\\Users\\jpeacock\\OneDrive - DOI\\Documents\\GitHub\\mth5\\mth5\\timeseries\\channel_ts.py:1524: RuntimeWarning: invalid value encountered in cast\n",
      "  obspy_trace = Trace(self.ts.astype(encoding_dict[encoding]))\n"
     ]
    },
    {
     "name": "stdout",
     "output_type": "stream",
     "text": [
      "\u001b[1m2025-04-02T11:53:58.837341-0700 | INFO | mth5.io.conversion | split_ms_to_days | Wrote miniseed file to: c:\\Users\\jpeacock\\OneDrive - DOI\\MTData\\CL2021\\archive\\to_dmc\\1Z_CL326__FQN_2022_07_09T18_59_58.mseed\u001b[0m\n",
      "\u001b[1m2025-04-02T11:53:59.056520-0700 | INFO | mth5.io.conversion | split_ms_to_days | Wrote miniseed file to: c:\\Users\\jpeacock\\OneDrive - DOI\\MTData\\CL2021\\archive\\to_dmc\\1Z_CL326__FQE_2022_07_09T18_59_58.mseed\u001b[0m\n",
      "\u001b[1m2025-04-02T11:53:59.260678-0700 | INFO | mth5.io.conversion | split_ms_to_days | Wrote miniseed file to: c:\\Users\\jpeacock\\OneDrive - DOI\\MTData\\CL2021\\archive\\to_dmc\\1Z_CL326__FFN_2022_07_09T18_59_58.mseed\u001b[0m\n",
      "\u001b[1m2025-04-02T11:53:59.472723-0700 | INFO | mth5.io.conversion | split_ms_to_days | Wrote miniseed file to: c:\\Users\\jpeacock\\OneDrive - DOI\\MTData\\CL2021\\archive\\to_dmc\\1Z_CL326__FFE_2022_07_09T18_59_58.mseed\u001b[0m\n",
      "\u001b[1m2025-04-02T11:53:59.701532-0700 | INFO | mth5.io.conversion | split_ms_to_days | Wrote miniseed file to: c:\\Users\\jpeacock\\OneDrive - DOI\\MTData\\CL2021\\archive\\to_dmc\\1Z_CL326__FFZ_2022_07_09T18_59_58.mseed\u001b[0m\n",
      "\u001b[1m2025-04-02T11:54:06.894674-0700 | INFO | mth5.io.conversion | split_ms_to_days | Wrote miniseed file to: c:\\Users\\jpeacock\\OneDrive - DOI\\MTData\\CL2021\\archive\\to_dmc\\1Z_CL326__CQN_2022_07_09T19_09_58.mseed\u001b[0m\n",
      "\u001b[1m2025-04-02T11:54:07.088915-0700 | INFO | mth5.io.conversion | split_ms_to_days | Wrote miniseed file to: c:\\Users\\jpeacock\\OneDrive - DOI\\MTData\\CL2021\\archive\\to_dmc\\1Z_CL326__CQE_2022_07_09T19_09_58.mseed\u001b[0m\n",
      "\u001b[1m2025-04-02T11:54:07.285063-0700 | INFO | mth5.io.conversion | split_ms_to_days | Wrote miniseed file to: c:\\Users\\jpeacock\\OneDrive - DOI\\MTData\\CL2021\\archive\\to_dmc\\1Z_CL326__CFN_2022_07_09T19_09_58.mseed\u001b[0m\n",
      "\u001b[1m2025-04-02T11:54:07.483971-0700 | INFO | mth5.io.conversion | split_ms_to_days | Wrote miniseed file to: c:\\Users\\jpeacock\\OneDrive - DOI\\MTData\\CL2021\\archive\\to_dmc\\1Z_CL326__CFE_2022_07_09T19_09_58.mseed\u001b[0m\n",
      "\u001b[1m2025-04-02T11:54:07.687164-0700 | INFO | mth5.io.conversion | split_ms_to_days | Wrote miniseed file to: c:\\Users\\jpeacock\\OneDrive - DOI\\MTData\\CL2021\\archive\\to_dmc\\1Z_CL326__CFZ_2022_07_09T19_09_58.mseed\u001b[0m\n",
      "\u001b[1m2025-04-02T11:54:08.850430-0700 | INFO | mth5.mth5 | close_mth5 | Flushing and closing c:\\Users\\jpeacock\\OneDrive - DOI\\MTData\\CL2021\\archive\\cl326.h5\u001b[0m\n",
      "\u001b[33m\u001b[1m2025-04-02T11:54:08.854438-0700 | WARNING | mt_metadata.timeseries.stationxml.xml_station_mt_station | mt_to_xml | Station.geographic_name is None, using Station.id = cl326.Check StationXML site.name.\u001b[0m\n",
      "\u001b[1m2025-04-02T11:54:08.965984-0700 | INFO | mt_metadata.timeseries.filters.channel_response | to_obspy | total sensitivity 104063415757.0512 != total gain 1048576000.000055. Using total_gain.\u001b[0m\n",
      "\u001b[1m2025-04-02T11:54:09.002218-0700 | INFO | mt_metadata.timeseries.filters.channel_response | to_obspy | total sensitivity 104064067310.72034 != total gain 1048576000.000055. Using total_gain.\u001b[0m\n",
      "\u001b[1m2025-04-02T11:54:09.035219-0700 | INFO | mt_metadata.timeseries.filters.channel_response | to_obspy | total sensitivity 104852080647.21446 != total gain 1048576000.000055. Using total_gain.\u001b[0m\n",
      "\u001b[1m2025-04-02T11:54:09.139772-0700 | INFO | mt_metadata.timeseries.filters.channel_response | to_obspy | total sensitivity 104063415757.0512 != total gain 1048576000.000055. Using total_gain.\u001b[0m\n",
      "\u001b[1m2025-04-02T11:54:09.172771-0700 | INFO | mt_metadata.timeseries.filters.channel_response | to_obspy | total sensitivity 104064067310.72034 != total gain 1048576000.000055. Using total_gain.\u001b[0m\n",
      "\u001b[1m2025-04-02T11:54:09.207736-0700 | INFO | mt_metadata.timeseries.filters.channel_response | to_obspy | total sensitivity 104852080647.21446 != total gain 1048576000.000055. Using total_gain.\u001b[0m\n",
      "\u001b[1m2025-04-02T11:54:09.302266-0700 | INFO | mt_metadata.timeseries.filters.channel_response | to_obspy | total sensitivity 104063415757.0512 != total gain 1048576000.000055. Using total_gain.\u001b[0m\n",
      "\u001b[1m2025-04-02T11:54:09.333297-0700 | INFO | mt_metadata.timeseries.filters.channel_response | to_obspy | total sensitivity 104064067310.72034 != total gain 1048576000.000055. Using total_gain.\u001b[0m\n",
      "\u001b[1m2025-04-02T11:54:09.362264-0700 | INFO | mt_metadata.timeseries.filters.channel_response | to_obspy | total sensitivity 104852080647.21446 != total gain 1048576000.000055. Using total_gain.\u001b[0m\n",
      "\u001b[1m2025-04-02T11:54:09.452780-0700 | INFO | mt_metadata.timeseries.filters.channel_response | to_obspy | total sensitivity 104063415757.0512 != total gain 1048576000.000055. Using total_gain.\u001b[0m\n",
      "\u001b[1m2025-04-02T11:54:09.482780-0700 | INFO | mt_metadata.timeseries.filters.channel_response | to_obspy | total sensitivity 104064067310.72034 != total gain 1048576000.000055. Using total_gain.\u001b[0m\n",
      "\u001b[1m2025-04-02T11:54:09.523294-0700 | INFO | mt_metadata.timeseries.filters.channel_response | to_obspy | total sensitivity 104852080647.21446 != total gain 1048576000.000055. Using total_gain.\u001b[0m\n",
      "\u001b[1m2025-04-02T11:54:09.619811-0700 | INFO | mt_metadata.timeseries.filters.channel_response | to_obspy | total sensitivity 104063415757.0512 != total gain 1048576000.000055. Using total_gain.\u001b[0m\n",
      "\u001b[1m2025-04-02T11:54:09.648811-0700 | INFO | mt_metadata.timeseries.filters.channel_response | to_obspy | total sensitivity 104064067310.72034 != total gain 1048576000.000055. Using total_gain.\u001b[0m\n",
      "\u001b[1m2025-04-02T11:54:09.676814-0700 | INFO | mt_metadata.timeseries.filters.channel_response | to_obspy | total sensitivity 104852080647.21446 != total gain 1048576000.000055. Using total_gain.\u001b[0m\n",
      "\u001b[1m2025-04-02T11:54:09.784327-0700 | INFO | mt_metadata.timeseries.filters.channel_response | to_obspy | total sensitivity 104063415757.0512 != total gain 1048576000.000055. Using total_gain.\u001b[0m\n",
      "\u001b[1m2025-04-02T11:54:09.812843-0700 | INFO | mt_metadata.timeseries.filters.channel_response | to_obspy | total sensitivity 104064067310.72034 != total gain 1048576000.000055. Using total_gain.\u001b[0m\n",
      "\u001b[1m2025-04-02T11:54:09.844843-0700 | INFO | mt_metadata.timeseries.filters.channel_response | to_obspy | total sensitivity 104852080647.21446 != total gain 1048576000.000055. Using total_gain.\u001b[0m\n",
      "\u001b[1m2025-04-02T11:54:09.944356-0700 | INFO | mt_metadata.timeseries.filters.channel_response | to_obspy | total sensitivity 104063415757.0512 != total gain 1048576000.000055. Using total_gain.\u001b[0m\n",
      "\u001b[1m2025-04-02T11:54:09.976393-0700 | INFO | mt_metadata.timeseries.filters.channel_response | to_obspy | total sensitivity 104064067310.72034 != total gain 1048576000.000055. Using total_gain.\u001b[0m\n",
      "\u001b[1m2025-04-02T11:54:10.004871-0700 | INFO | mt_metadata.timeseries.filters.channel_response | to_obspy | total sensitivity 104852080647.21446 != total gain 1048576000.000055. Using total_gain.\u001b[0m\n",
      "\u001b[1m2025-04-02T11:54:10.094877-0700 | INFO | mt_metadata.timeseries.filters.channel_response | to_obspy | total sensitivity 104063415757.0512 != total gain 1048576000.000055. Using total_gain.\u001b[0m\n",
      "\u001b[1m2025-04-02T11:54:10.123387-0700 | INFO | mt_metadata.timeseries.filters.channel_response | to_obspy | total sensitivity 104064067310.72034 != total gain 1048576000.000055. Using total_gain.\u001b[0m\n",
      "\u001b[1m2025-04-02T11:54:10.161388-0700 | INFO | mt_metadata.timeseries.filters.channel_response | to_obspy | total sensitivity 104852080647.21446 != total gain 1048576000.000055. Using total_gain.\u001b[0m\n",
      "\u001b[1m2025-04-02T11:54:10.251904-0700 | INFO | mt_metadata.timeseries.filters.channel_response | to_obspy | total sensitivity 104063415757.0512 != total gain 1048576000.000055. Using total_gain.\u001b[0m\n",
      "\u001b[1m2025-04-02T11:54:10.283905-0700 | INFO | mt_metadata.timeseries.filters.channel_response | to_obspy | total sensitivity 104064067310.72034 != total gain 1048576000.000055. Using total_gain.\u001b[0m\n",
      "\u001b[1m2025-04-02T11:54:10.314419-0700 | INFO | mt_metadata.timeseries.filters.channel_response | to_obspy | total sensitivity 104852080647.21446 != total gain 1048576000.000055. Using total_gain.\u001b[0m\n",
      "\u001b[1m2025-04-02T11:54:10.411934-0700 | INFO | mt_metadata.timeseries.filters.channel_response | to_obspy | total sensitivity 104063415757.0512 != total gain 1048576000.000055. Using total_gain.\u001b[0m\n",
      "\u001b[1m2025-04-02T11:54:10.445934-0700 | INFO | mt_metadata.timeseries.filters.channel_response | to_obspy | total sensitivity 104064067310.72034 != total gain 1048576000.000055. Using total_gain.\u001b[0m\n",
      "\u001b[1m2025-04-02T11:54:10.474935-0700 | INFO | mt_metadata.timeseries.filters.channel_response | to_obspy | total sensitivity 104852080647.21446 != total gain 1048576000.000055. Using total_gain.\u001b[0m\n",
      "\u001b[1m2025-04-02T11:54:10.504450-0700 | INFO | mth5.io.conversion | convert_mth5_to_ms_stationxml | Wrote StationXML to c:\\Users\\jpeacock\\OneDrive - DOI\\MTData\\CL2021\\archive\\to_dmc\\cl326.xml\u001b[0m\n",
      "\u001b[33m\u001b[1m2025-04-02T11:54:12.604134-0700 | WARNING | mt_metadata.timeseries.station | remove_run | Could not find cl340a to remove.\u001b[0m\n",
      "\u001b[1m2025-04-02T11:54:16.633205-0700 | INFO | mth5.io.conversion | split_ms_to_days | Wrote miniseed file to: c:\\Users\\jpeacock\\OneDrive - DOI\\MTData\\CL2021\\archive\\to_dmc\\1Z_CL340__LQN_2022_07_13T21_14_58.mseed\u001b[0m\n",
      "\u001b[1m2025-04-02T11:54:16.637203-0700 | INFO | mth5.io.conversion | split_ms_to_days | Wrote miniseed file to: c:\\Users\\jpeacock\\OneDrive - DOI\\MTData\\CL2021\\archive\\to_dmc\\1Z_CL340__LQN_2022_07_14T00_00_00.mseed\u001b[0m\n",
      "\u001b[1m2025-04-02T11:54:16.643201-0700 | INFO | mth5.io.conversion | split_ms_to_days | Wrote miniseed file to: c:\\Users\\jpeacock\\OneDrive - DOI\\MTData\\CL2021\\archive\\to_dmc\\1Z_CL340__LQE_2022_07_13T21_14_58.mseed\u001b[0m\n",
      "\u001b[1m2025-04-02T11:54:16.711290-0700 | INFO | mth5.io.conversion | split_ms_to_days | Wrote miniseed file to: c:\\Users\\jpeacock\\OneDrive - DOI\\MTData\\CL2021\\archive\\to_dmc\\1Z_CL340__LQE_2022_07_14T00_00_00.mseed\u001b[0m\n",
      "\u001b[1m2025-04-02T11:54:16.720290-0700 | INFO | mth5.io.conversion | split_ms_to_days | Wrote miniseed file to: c:\\Users\\jpeacock\\OneDrive - DOI\\MTData\\CL2021\\archive\\to_dmc\\1Z_CL340__LFN_2022_07_13T21_14_58.mseed\u001b[0m\n",
      "\u001b[1m2025-04-02T11:54:16.723288-0700 | INFO | mth5.io.conversion | split_ms_to_days | Wrote miniseed file to: c:\\Users\\jpeacock\\OneDrive - DOI\\MTData\\CL2021\\archive\\to_dmc\\1Z_CL340__LFN_2022_07_14T00_00_00.mseed\u001b[0m\n",
      "\u001b[1m2025-04-02T11:54:16.732297-0700 | INFO | mth5.io.conversion | split_ms_to_days | Wrote miniseed file to: c:\\Users\\jpeacock\\OneDrive - DOI\\MTData\\CL2021\\archive\\to_dmc\\1Z_CL340__LFE_2022_07_13T21_14_58.mseed\u001b[0m\n",
      "\u001b[1m2025-04-02T11:54:16.736296-0700 | INFO | mth5.io.conversion | split_ms_to_days | Wrote miniseed file to: c:\\Users\\jpeacock\\OneDrive - DOI\\MTData\\CL2021\\archive\\to_dmc\\1Z_CL340__LFE_2022_07_14T00_00_00.mseed\u001b[0m\n",
      "\u001b[1m2025-04-02T11:54:16.745288-0700 | INFO | mth5.io.conversion | split_ms_to_days | Wrote miniseed file to: c:\\Users\\jpeacock\\OneDrive - DOI\\MTData\\CL2021\\archive\\to_dmc\\1Z_CL340__LFZ_2022_07_13T21_14_58.mseed\u001b[0m\n",
      "\u001b[1m2025-04-02T11:54:16.749298-0700 | INFO | mth5.io.conversion | split_ms_to_days | Wrote miniseed file to: c:\\Users\\jpeacock\\OneDrive - DOI\\MTData\\CL2021\\archive\\to_dmc\\1Z_CL340__LFZ_2022_07_14T00_00_00.mseed\u001b[0m\n",
      "\u001b[1m2025-04-02T11:54:22.955987-0700 | INFO | mth5.io.conversion | split_ms_to_days | Wrote miniseed file to: c:\\Users\\jpeacock\\OneDrive - DOI\\MTData\\CL2021\\archive\\to_dmc\\1Z_CL340__CQN_2022_07_13T21_14_58.mseed\u001b[0m\n",
      "\u001b[1m2025-04-02T11:54:23.168038-0700 | INFO | mth5.io.conversion | split_ms_to_days | Wrote miniseed file to: c:\\Users\\jpeacock\\OneDrive - DOI\\MTData\\CL2021\\archive\\to_dmc\\1Z_CL340__CQN_2022_07_14T00_00_00.mseed\u001b[0m\n",
      "\u001b[1m2025-04-02T11:54:23.253366-0700 | INFO | mth5.io.conversion | split_ms_to_days | Wrote miniseed file to: c:\\Users\\jpeacock\\OneDrive - DOI\\MTData\\CL2021\\archive\\to_dmc\\1Z_CL340__CQE_2022_07_13T21_14_58.mseed\u001b[0m\n",
      "\u001b[1m2025-04-02T11:54:23.468604-0700 | INFO | mth5.io.conversion | split_ms_to_days | Wrote miniseed file to: c:\\Users\\jpeacock\\OneDrive - DOI\\MTData\\CL2021\\archive\\to_dmc\\1Z_CL340__CQE_2022_07_14T00_00_00.mseed\u001b[0m\n",
      "\u001b[1m2025-04-02T11:54:23.547215-0700 | INFO | mth5.io.conversion | split_ms_to_days | Wrote miniseed file to: c:\\Users\\jpeacock\\OneDrive - DOI\\MTData\\CL2021\\archive\\to_dmc\\1Z_CL340__CFN_2022_07_13T21_14_58.mseed\u001b[0m\n",
      "\u001b[1m2025-04-02T11:54:23.756162-0700 | INFO | mth5.io.conversion | split_ms_to_days | Wrote miniseed file to: c:\\Users\\jpeacock\\OneDrive - DOI\\MTData\\CL2021\\archive\\to_dmc\\1Z_CL340__CFN_2022_07_14T00_00_00.mseed\u001b[0m\n",
      "\u001b[1m2025-04-02T11:54:23.829798-0700 | INFO | mth5.io.conversion | split_ms_to_days | Wrote miniseed file to: c:\\Users\\jpeacock\\OneDrive - DOI\\MTData\\CL2021\\archive\\to_dmc\\1Z_CL340__CFE_2022_07_13T21_14_58.mseed\u001b[0m\n",
      "\u001b[1m2025-04-02T11:54:24.045867-0700 | INFO | mth5.io.conversion | split_ms_to_days | Wrote miniseed file to: c:\\Users\\jpeacock\\OneDrive - DOI\\MTData\\CL2021\\archive\\to_dmc\\1Z_CL340__CFE_2022_07_14T00_00_00.mseed\u001b[0m\n",
      "\u001b[1m2025-04-02T11:54:24.118413-0700 | INFO | mth5.io.conversion | split_ms_to_days | Wrote miniseed file to: c:\\Users\\jpeacock\\OneDrive - DOI\\MTData\\CL2021\\archive\\to_dmc\\1Z_CL340__CFZ_2022_07_13T21_14_58.mseed\u001b[0m\n",
      "\u001b[1m2025-04-02T11:54:24.323209-0700 | INFO | mth5.io.conversion | split_ms_to_days | Wrote miniseed file to: c:\\Users\\jpeacock\\OneDrive - DOI\\MTData\\CL2021\\archive\\to_dmc\\1Z_CL340__CFZ_2022_07_14T00_00_00.mseed\u001b[0m\n",
      "\u001b[1m2025-04-02T11:54:27.489165-0700 | INFO | mth5.timeseries.run_ts | _align_channels | Channels do not have a common end, using latest: 2022-07-14T01:09:41.998535156\u001b[0m\n",
      "\u001b[33m\u001b[1m2025-04-02T11:54:29.968007-0700 | WARNING | mth5.timeseries.run_ts | validate_metadata | end time of dataset 2022-07-14T01:09:41.998291015+00:00 does not match metadata end 2022-07-14T01:09:41.998535156+00:00 updating metatdata value to 2022-07-14T01:09:41.998291015+00:00\u001b[0m\n"
     ]
    },
    {
     "name": "stderr",
     "output_type": "stream",
     "text": [
      "C:\\Users\\jpeacock\\OneDrive - DOI\\Documents\\GitHub\\mth5\\mth5\\timeseries\\channel_ts.py:1524: RuntimeWarning: invalid value encountered in cast\n",
      "  obspy_trace = Trace(self.ts.astype(encoding_dict[encoding]))\n"
     ]
    },
    {
     "name": "stdout",
     "output_type": "stream",
     "text": [
      "\u001b[1m2025-04-02T11:54:30.855244-0700 | INFO | mth5.io.conversion | split_ms_to_days | Wrote miniseed file to: c:\\Users\\jpeacock\\OneDrive - DOI\\MTData\\CL2021\\archive\\to_dmc\\1Z_CL340__FQN_2022_07_14T00_59_58.mseed\u001b[0m\n",
      "\u001b[1m2025-04-02T11:54:31.056971-0700 | INFO | mth5.io.conversion | split_ms_to_days | Wrote miniseed file to: c:\\Users\\jpeacock\\OneDrive - DOI\\MTData\\CL2021\\archive\\to_dmc\\1Z_CL340__FQE_2022_07_14T00_59_58.mseed\u001b[0m\n",
      "\u001b[1m2025-04-02T11:54:31.314029-0700 | INFO | mth5.io.conversion | split_ms_to_days | Wrote miniseed file to: c:\\Users\\jpeacock\\OneDrive - DOI\\MTData\\CL2021\\archive\\to_dmc\\1Z_CL340__FFN_2022_07_14T00_59_58.mseed\u001b[0m\n",
      "\u001b[1m2025-04-02T11:54:31.524228-0700 | INFO | mth5.io.conversion | split_ms_to_days | Wrote miniseed file to: c:\\Users\\jpeacock\\OneDrive - DOI\\MTData\\CL2021\\archive\\to_dmc\\1Z_CL340__FFE_2022_07_14T00_59_58.mseed\u001b[0m\n",
      "\u001b[1m2025-04-02T11:54:31.731261-0700 | INFO | mth5.io.conversion | split_ms_to_days | Wrote miniseed file to: c:\\Users\\jpeacock\\OneDrive - DOI\\MTData\\CL2021\\archive\\to_dmc\\1Z_CL340__FFZ_2022_07_14T00_59_58.mseed\u001b[0m\n",
      "\u001b[1m2025-04-02T11:54:39.105696-0700 | INFO | mth5.io.conversion | split_ms_to_days | Wrote miniseed file to: c:\\Users\\jpeacock\\OneDrive - DOI\\MTData\\CL2021\\archive\\to_dmc\\1Z_CL340__CQN_2022_07_14T01_09_58.mseed\u001b[0m\n",
      "\u001b[1m2025-04-02T11:54:39.530199-0700 | INFO | mth5.io.conversion | split_ms_to_days | Wrote miniseed file to: c:\\Users\\jpeacock\\OneDrive - DOI\\MTData\\CL2021\\archive\\to_dmc\\1Z_CL340__CQE_2022_07_14T01_09_58.mseed\u001b[0m\n",
      "\u001b[1m2025-04-02T11:54:39.972713-0700 | INFO | mth5.io.conversion | split_ms_to_days | Wrote miniseed file to: c:\\Users\\jpeacock\\OneDrive - DOI\\MTData\\CL2021\\archive\\to_dmc\\1Z_CL340__CFN_2022_07_14T01_09_58.mseed\u001b[0m\n",
      "\u001b[1m2025-04-02T11:54:40.405205-0700 | INFO | mth5.io.conversion | split_ms_to_days | Wrote miniseed file to: c:\\Users\\jpeacock\\OneDrive - DOI\\MTData\\CL2021\\archive\\to_dmc\\1Z_CL340__CFE_2022_07_14T01_09_58.mseed\u001b[0m\n",
      "\u001b[1m2025-04-02T11:54:40.847085-0700 | INFO | mth5.io.conversion | split_ms_to_days | Wrote miniseed file to: c:\\Users\\jpeacock\\OneDrive - DOI\\MTData\\CL2021\\archive\\to_dmc\\1Z_CL340__CFZ_2022_07_14T01_09_58.mseed\u001b[0m\n",
      "\u001b[1m2025-04-02T11:54:44.809173-0700 | INFO | mth5.timeseries.run_ts | _align_channels | Channels do not have a common end, using latest: 2022-07-14T07:09:41.998291015\u001b[0m\n",
      "\u001b[33m\u001b[1m2025-04-02T11:54:46.364434-0700 | WARNING | mth5.timeseries.run_ts | validate_metadata | end time of dataset 2022-07-14T07:09:41.998047+00:00 does not match metadata end 2022-07-14T07:09:41.998291015+00:00 updating metatdata value to 2022-07-14T07:09:41.998047+00:00\u001b[0m\n"
     ]
    },
    {
     "name": "stderr",
     "output_type": "stream",
     "text": [
      "C:\\Users\\jpeacock\\OneDrive - DOI\\Documents\\GitHub\\mth5\\mth5\\timeseries\\channel_ts.py:1524: RuntimeWarning: invalid value encountered in cast\n",
      "  obspy_trace = Trace(self.ts.astype(encoding_dict[encoding]))\n"
     ]
    },
    {
     "name": "stdout",
     "output_type": "stream",
     "text": [
      "\u001b[1m2025-04-02T11:54:47.282895-0700 | INFO | mth5.io.conversion | split_ms_to_days | Wrote miniseed file to: c:\\Users\\jpeacock\\OneDrive - DOI\\MTData\\CL2021\\archive\\to_dmc\\1Z_CL340__FQN_2022_07_14T06_59_58.mseed\u001b[0m\n",
      "\u001b[1m2025-04-02T11:54:47.500991-0700 | INFO | mth5.io.conversion | split_ms_to_days | Wrote miniseed file to: c:\\Users\\jpeacock\\OneDrive - DOI\\MTData\\CL2021\\archive\\to_dmc\\1Z_CL340__FQE_2022_07_14T06_59_58.mseed\u001b[0m\n",
      "\u001b[1m2025-04-02T11:54:47.700201-0700 | INFO | mth5.io.conversion | split_ms_to_days | Wrote miniseed file to: c:\\Users\\jpeacock\\OneDrive - DOI\\MTData\\CL2021\\archive\\to_dmc\\1Z_CL340__FFN_2022_07_14T06_59_58.mseed\u001b[0m\n",
      "\u001b[1m2025-04-02T11:54:47.912265-0700 | INFO | mth5.io.conversion | split_ms_to_days | Wrote miniseed file to: c:\\Users\\jpeacock\\OneDrive - DOI\\MTData\\CL2021\\archive\\to_dmc\\1Z_CL340__FFE_2022_07_14T06_59_58.mseed\u001b[0m\n",
      "\u001b[1m2025-04-02T11:54:48.127627-0700 | INFO | mth5.io.conversion | split_ms_to_days | Wrote miniseed file to: c:\\Users\\jpeacock\\OneDrive - DOI\\MTData\\CL2021\\archive\\to_dmc\\1Z_CL340__FFZ_2022_07_14T06_59_58.mseed\u001b[0m\n",
      "\u001b[1m2025-04-02T11:54:56.473224-0700 | INFO | mth5.io.conversion | split_ms_to_days | Wrote miniseed file to: c:\\Users\\jpeacock\\OneDrive - DOI\\MTData\\CL2021\\archive\\to_dmc\\1Z_CL340__CQN_2022_07_14T07_09_58.mseed\u001b[0m\n",
      "\u001b[1m2025-04-02T11:54:56.911008-0700 | INFO | mth5.io.conversion | split_ms_to_days | Wrote miniseed file to: c:\\Users\\jpeacock\\OneDrive - DOI\\MTData\\CL2021\\archive\\to_dmc\\1Z_CL340__CQE_2022_07_14T07_09_58.mseed\u001b[0m\n",
      "\u001b[1m2025-04-02T11:54:57.344837-0700 | INFO | mth5.io.conversion | split_ms_to_days | Wrote miniseed file to: c:\\Users\\jpeacock\\OneDrive - DOI\\MTData\\CL2021\\archive\\to_dmc\\1Z_CL340__CFN_2022_07_14T07_09_58.mseed\u001b[0m\n",
      "\u001b[1m2025-04-02T11:54:57.793731-0700 | INFO | mth5.io.conversion | split_ms_to_days | Wrote miniseed file to: c:\\Users\\jpeacock\\OneDrive - DOI\\MTData\\CL2021\\archive\\to_dmc\\1Z_CL340__CFE_2022_07_14T07_09_58.mseed\u001b[0m\n",
      "\u001b[1m2025-04-02T11:54:58.252081-0700 | INFO | mth5.io.conversion | split_ms_to_days | Wrote miniseed file to: c:\\Users\\jpeacock\\OneDrive - DOI\\MTData\\CL2021\\archive\\to_dmc\\1Z_CL340__CFZ_2022_07_14T07_09_58.mseed\u001b[0m\n",
      "\u001b[1m2025-04-02T11:55:01.982100-0700 | INFO | mth5.timeseries.run_ts | _align_channels | Channels do not have a common end, using latest: 2022-07-14T13:09:41.998047000\u001b[0m\n"
     ]
    },
    {
     "name": "stderr",
     "output_type": "stream",
     "text": [
      "C:\\Users\\jpeacock\\OneDrive - DOI\\Documents\\GitHub\\mth5\\mth5\\timeseries\\channel_ts.py:1524: RuntimeWarning: invalid value encountered in cast\n",
      "  obspy_trace = Trace(self.ts.astype(encoding_dict[encoding]))\n"
     ]
    },
    {
     "name": "stdout",
     "output_type": "stream",
     "text": [
      "\u001b[1m2025-04-02T11:55:04.892064-0700 | INFO | mth5.io.conversion | split_ms_to_days | Wrote miniseed file to: c:\\Users\\jpeacock\\OneDrive - DOI\\MTData\\CL2021\\archive\\to_dmc\\1Z_CL340__FQN_2022_07_14T12_59_58.mseed\u001b[0m\n",
      "\u001b[1m2025-04-02T11:55:05.079338-0700 | INFO | mth5.io.conversion | split_ms_to_days | Wrote miniseed file to: c:\\Users\\jpeacock\\OneDrive - DOI\\MTData\\CL2021\\archive\\to_dmc\\1Z_CL340__FQE_2022_07_14T12_59_58.mseed\u001b[0m\n",
      "\u001b[1m2025-04-02T11:55:05.278508-0700 | INFO | mth5.io.conversion | split_ms_to_days | Wrote miniseed file to: c:\\Users\\jpeacock\\OneDrive - DOI\\MTData\\CL2021\\archive\\to_dmc\\1Z_CL340__FFN_2022_07_14T12_59_58.mseed\u001b[0m\n",
      "\u001b[1m2025-04-02T11:55:05.486457-0700 | INFO | mth5.io.conversion | split_ms_to_days | Wrote miniseed file to: c:\\Users\\jpeacock\\OneDrive - DOI\\MTData\\CL2021\\archive\\to_dmc\\1Z_CL340__FFE_2022_07_14T12_59_58.mseed\u001b[0m\n",
      "\u001b[1m2025-04-02T11:55:05.697424-0700 | INFO | mth5.io.conversion | split_ms_to_days | Wrote miniseed file to: c:\\Users\\jpeacock\\OneDrive - DOI\\MTData\\CL2021\\archive\\to_dmc\\1Z_CL340__FFZ_2022_07_14T12_59_58.mseed\u001b[0m\n",
      "\u001b[1m2025-04-02T11:55:11.388443-0700 | INFO | mth5.io.conversion | split_ms_to_days | Wrote miniseed file to: c:\\Users\\jpeacock\\OneDrive - DOI\\MTData\\CL2021\\archive\\to_dmc\\1Z_CL340__CQN_2022_07_14T13_09_58.mseed\u001b[0m\n",
      "\u001b[1m2025-04-02T11:55:11.593500-0700 | INFO | mth5.io.conversion | split_ms_to_days | Wrote miniseed file to: c:\\Users\\jpeacock\\OneDrive - DOI\\MTData\\CL2021\\archive\\to_dmc\\1Z_CL340__CQE_2022_07_14T13_09_58.mseed\u001b[0m\n",
      "\u001b[1m2025-04-02T11:55:11.810037-0700 | INFO | mth5.io.conversion | split_ms_to_days | Wrote miniseed file to: c:\\Users\\jpeacock\\OneDrive - DOI\\MTData\\CL2021\\archive\\to_dmc\\1Z_CL340__CFN_2022_07_14T13_09_58.mseed\u001b[0m\n",
      "\u001b[1m2025-04-02T11:55:12.011926-0700 | INFO | mth5.io.conversion | split_ms_to_days | Wrote miniseed file to: c:\\Users\\jpeacock\\OneDrive - DOI\\MTData\\CL2021\\archive\\to_dmc\\1Z_CL340__CFE_2022_07_14T13_09_58.mseed\u001b[0m\n",
      "\u001b[1m2025-04-02T11:55:12.234492-0700 | INFO | mth5.io.conversion | split_ms_to_days | Wrote miniseed file to: c:\\Users\\jpeacock\\OneDrive - DOI\\MTData\\CL2021\\archive\\to_dmc\\1Z_CL340__CFZ_2022_07_14T13_09_58.mseed\u001b[0m\n",
      "\u001b[1m2025-04-02T11:55:13.483129-0700 | INFO | mth5.mth5 | close_mth5 | Flushing and closing c:\\Users\\jpeacock\\OneDrive - DOI\\MTData\\CL2021\\archive\\cl340.h5\u001b[0m\n",
      "\u001b[33m\u001b[1m2025-04-02T11:55:13.488880-0700 | WARNING | mt_metadata.timeseries.stationxml.xml_station_mt_station | mt_to_xml | Station.geographic_name is None, using Station.id = cl340.Check StationXML site.name.\u001b[0m\n",
      "\u001b[1m2025-04-02T11:55:13.639660-0700 | INFO | mt_metadata.timeseries.filters.channel_response | to_obspy | total sensitivity 104382542748.06306 != total gain 1048576000.000055. Using total_gain.\u001b[0m\n",
      "\u001b[1m2025-04-02T11:55:13.687189-0700 | INFO | mt_metadata.timeseries.filters.channel_response | to_obspy | total sensitivity 105026369151.30917 != total gain 1048576000.000055. Using total_gain.\u001b[0m\n",
      "\u001b[1m2025-04-02T11:55:13.727188-0700 | INFO | mt_metadata.timeseries.filters.channel_response | to_obspy | total sensitivity 105276966379.19785 != total gain 1048576000.000055. Using total_gain.\u001b[0m\n",
      "\u001b[1m2025-04-02T11:55:13.846758-0700 | INFO | mt_metadata.timeseries.filters.channel_response | to_obspy | total sensitivity 104382542748.06306 != total gain 1048576000.000055. Using total_gain.\u001b[0m\n",
      "\u001b[1m2025-04-02T11:55:13.879278-0700 | INFO | mt_metadata.timeseries.filters.channel_response | to_obspy | total sensitivity 105026369151.30917 != total gain 1048576000.000055. Using total_gain.\u001b[0m\n",
      "\u001b[1m2025-04-02T11:55:13.909311-0700 | INFO | mt_metadata.timeseries.filters.channel_response | to_obspy | total sensitivity 105276966379.19785 != total gain 1048576000.000055. Using total_gain.\u001b[0m\n",
      "\u001b[1m2025-04-02T11:55:14.012819-0700 | INFO | mt_metadata.timeseries.filters.channel_response | to_obspy | total sensitivity 104382542748.06306 != total gain 1048576000.000055. Using total_gain.\u001b[0m\n",
      "\u001b[1m2025-04-02T11:55:14.047826-0700 | INFO | mt_metadata.timeseries.filters.channel_response | to_obspy | total sensitivity 105026369151.30917 != total gain 1048576000.000055. Using total_gain.\u001b[0m\n",
      "\u001b[1m2025-04-02T11:55:14.082343-0700 | INFO | mt_metadata.timeseries.filters.channel_response | to_obspy | total sensitivity 105276966379.19785 != total gain 1048576000.000055. Using total_gain.\u001b[0m\n",
      "\u001b[1m2025-04-02T11:55:14.185474-0700 | INFO | mt_metadata.timeseries.filters.channel_response | to_obspy | total sensitivity 104382542748.06306 != total gain 1048576000.000055. Using total_gain.\u001b[0m\n",
      "\u001b[1m2025-04-02T11:55:14.222478-0700 | INFO | mt_metadata.timeseries.filters.channel_response | to_obspy | total sensitivity 105026369151.30917 != total gain 1048576000.000055. Using total_gain.\u001b[0m\n",
      "\u001b[1m2025-04-02T11:55:14.270040-0700 | INFO | mt_metadata.timeseries.filters.channel_response | to_obspy | total sensitivity 105276966379.19785 != total gain 1048576000.000055. Using total_gain.\u001b[0m\n",
      "\u001b[1m2025-04-02T11:55:14.368517-0700 | INFO | mt_metadata.timeseries.filters.channel_response | to_obspy | total sensitivity 104382542748.06306 != total gain 1048576000.000055. Using total_gain.\u001b[0m\n",
      "\u001b[1m2025-04-02T11:55:14.406520-0700 | INFO | mt_metadata.timeseries.filters.channel_response | to_obspy | total sensitivity 105026369151.30917 != total gain 1048576000.000055. Using total_gain.\u001b[0m\n",
      "\u001b[1m2025-04-02T11:55:14.449526-0700 | INFO | mt_metadata.timeseries.filters.channel_response | to_obspy | total sensitivity 105276966379.19785 != total gain 1048576000.000055. Using total_gain.\u001b[0m\n",
      "\u001b[1m2025-04-02T11:55:14.561199-0700 | INFO | mt_metadata.timeseries.filters.channel_response | to_obspy | total sensitivity 104382542748.06306 != total gain 1048576000.000055. Using total_gain.\u001b[0m\n",
      "\u001b[1m2025-04-02T11:55:14.589211-0700 | INFO | mt_metadata.timeseries.filters.channel_response | to_obspy | total sensitivity 105026369151.30917 != total gain 1048576000.000055. Using total_gain.\u001b[0m\n",
      "\u001b[1m2025-04-02T11:55:14.623171-0700 | INFO | mt_metadata.timeseries.filters.channel_response | to_obspy | total sensitivity 105276966379.19785 != total gain 1048576000.000055. Using total_gain.\u001b[0m\n",
      "\u001b[1m2025-04-02T11:55:14.814920-0700 | INFO | mt_metadata.timeseries.filters.channel_response | to_obspy | total sensitivity 104382542748.06306 != total gain 1048576000.000055. Using total_gain.\u001b[0m\n",
      "\u001b[1m2025-04-02T11:55:14.864862-0700 | INFO | mt_metadata.timeseries.filters.channel_response | to_obspy | total sensitivity 105026369151.30917 != total gain 1048576000.000055. Using total_gain.\u001b[0m\n",
      "\u001b[1m2025-04-02T11:55:14.906082-0700 | INFO | mt_metadata.timeseries.filters.channel_response | to_obspy | total sensitivity 105276966379.19785 != total gain 1048576000.000055. Using total_gain.\u001b[0m\n",
      "\u001b[1m2025-04-02T11:55:15.092129-0700 | INFO | mt_metadata.timeseries.filters.channel_response | to_obspy | total sensitivity 104382542748.06306 != total gain 1048576000.000055. Using total_gain.\u001b[0m\n",
      "\u001b[1m2025-04-02T11:55:15.121130-0700 | INFO | mt_metadata.timeseries.filters.channel_response | to_obspy | total sensitivity 105026369151.30917 != total gain 1048576000.000055. Using total_gain.\u001b[0m\n",
      "\u001b[1m2025-04-02T11:55:15.154138-0700 | INFO | mt_metadata.timeseries.filters.channel_response | to_obspy | total sensitivity 105276966379.19785 != total gain 1048576000.000055. Using total_gain.\u001b[0m\n",
      "\u001b[1m2025-04-02T11:55:15.189355-0700 | INFO | mth5.io.conversion | convert_mth5_to_ms_stationxml | Wrote StationXML to c:\\Users\\jpeacock\\OneDrive - DOI\\MTData\\CL2021\\archive\\to_dmc\\cl340.xml\u001b[0m\n",
      "\u001b[33m\u001b[1m2025-04-02T11:55:18.419899-0700 | WARNING | mt_metadata.timeseries.station | remove_run | Could not find cl341a to remove.\u001b[0m\n",
      "\u001b[1m2025-04-02T11:55:23.521853-0700 | INFO | mth5.io.conversion | split_ms_to_days | Wrote miniseed file to: c:\\Users\\jpeacock\\OneDrive - DOI\\MTData\\CL2021\\archive\\to_dmc\\1Z_CL341__LQN_2022_07_13T22_14_58.mseed\u001b[0m\n",
      "\u001b[1m2025-04-02T11:55:23.524852-0700 | INFO | mth5.io.conversion | split_ms_to_days | Wrote miniseed file to: c:\\Users\\jpeacock\\OneDrive - DOI\\MTData\\CL2021\\archive\\to_dmc\\1Z_CL341__LQN_2022_07_14T00_00_00.mseed\u001b[0m\n",
      "\u001b[1m2025-04-02T11:55:23.530852-0700 | INFO | mth5.io.conversion | split_ms_to_days | Wrote miniseed file to: c:\\Users\\jpeacock\\OneDrive - DOI\\MTData\\CL2021\\archive\\to_dmc\\1Z_CL341__LQE_2022_07_13T22_14_58.mseed\u001b[0m\n",
      "\u001b[1m2025-04-02T11:55:23.624388-0700 | INFO | mth5.io.conversion | split_ms_to_days | Wrote miniseed file to: c:\\Users\\jpeacock\\OneDrive - DOI\\MTData\\CL2021\\archive\\to_dmc\\1Z_CL341__LQE_2022_07_14T00_00_00.mseed\u001b[0m\n",
      "\u001b[1m2025-04-02T11:55:23.631386-0700 | INFO | mth5.io.conversion | split_ms_to_days | Wrote miniseed file to: c:\\Users\\jpeacock\\OneDrive - DOI\\MTData\\CL2021\\archive\\to_dmc\\1Z_CL341__LFN_2022_07_13T22_14_58.mseed\u001b[0m\n",
      "\u001b[1m2025-04-02T11:55:23.634388-0700 | INFO | mth5.io.conversion | split_ms_to_days | Wrote miniseed file to: c:\\Users\\jpeacock\\OneDrive - DOI\\MTData\\CL2021\\archive\\to_dmc\\1Z_CL341__LFN_2022_07_14T00_00_00.mseed\u001b[0m\n",
      "\u001b[1m2025-04-02T11:55:23.645394-0700 | INFO | mth5.io.conversion | split_ms_to_days | Wrote miniseed file to: c:\\Users\\jpeacock\\OneDrive - DOI\\MTData\\CL2021\\archive\\to_dmc\\1Z_CL341__LFE_2022_07_13T22_14_58.mseed\u001b[0m\n",
      "\u001b[1m2025-04-02T11:55:23.649400-0700 | INFO | mth5.io.conversion | split_ms_to_days | Wrote miniseed file to: c:\\Users\\jpeacock\\OneDrive - DOI\\MTData\\CL2021\\archive\\to_dmc\\1Z_CL341__LFE_2022_07_14T00_00_00.mseed\u001b[0m\n",
      "\u001b[1m2025-04-02T11:55:23.659399-0700 | INFO | mth5.io.conversion | split_ms_to_days | Wrote miniseed file to: c:\\Users\\jpeacock\\OneDrive - DOI\\MTData\\CL2021\\archive\\to_dmc\\1Z_CL341__LFZ_2022_07_13T22_14_58.mseed\u001b[0m\n",
      "\u001b[1m2025-04-02T11:55:23.662951-0700 | INFO | mth5.io.conversion | split_ms_to_days | Wrote miniseed file to: c:\\Users\\jpeacock\\OneDrive - DOI\\MTData\\CL2021\\archive\\to_dmc\\1Z_CL341__LFZ_2022_07_14T00_00_00.mseed\u001b[0m\n",
      "\u001b[1m2025-04-02T11:55:29.324328-0700 | INFO | mth5.io.conversion | split_ms_to_days | Wrote miniseed file to: c:\\Users\\jpeacock\\OneDrive - DOI\\MTData\\CL2021\\archive\\to_dmc\\1Z_CL341__CQN_2022_07_13T22_14_58.mseed\u001b[0m\n",
      "\u001b[1m2025-04-02T11:55:29.458955-0700 | INFO | mth5.io.conversion | split_ms_to_days | Wrote miniseed file to: c:\\Users\\jpeacock\\OneDrive - DOI\\MTData\\CL2021\\archive\\to_dmc\\1Z_CL341__CQN_2022_07_14T00_00_00.mseed\u001b[0m\n",
      "\u001b[1m2025-04-02T11:55:29.538395-0700 | INFO | mth5.io.conversion | split_ms_to_days | Wrote miniseed file to: c:\\Users\\jpeacock\\OneDrive - DOI\\MTData\\CL2021\\archive\\to_dmc\\1Z_CL341__CQE_2022_07_13T22_14_58.mseed\u001b[0m\n",
      "\u001b[1m2025-04-02T11:55:29.671450-0700 | INFO | mth5.io.conversion | split_ms_to_days | Wrote miniseed file to: c:\\Users\\jpeacock\\OneDrive - DOI\\MTData\\CL2021\\archive\\to_dmc\\1Z_CL341__CQE_2022_07_14T00_00_00.mseed\u001b[0m\n",
      "\u001b[1m2025-04-02T11:55:29.747446-0700 | INFO | mth5.io.conversion | split_ms_to_days | Wrote miniseed file to: c:\\Users\\jpeacock\\OneDrive - DOI\\MTData\\CL2021\\archive\\to_dmc\\1Z_CL341__CFN_2022_07_13T22_14_58.mseed\u001b[0m\n",
      "\u001b[1m2025-04-02T11:55:29.884484-0700 | INFO | mth5.io.conversion | split_ms_to_days | Wrote miniseed file to: c:\\Users\\jpeacock\\OneDrive - DOI\\MTData\\CL2021\\archive\\to_dmc\\1Z_CL341__CFN_2022_07_14T00_00_00.mseed\u001b[0m\n",
      "\u001b[1m2025-04-02T11:55:29.959529-0700 | INFO | mth5.io.conversion | split_ms_to_days | Wrote miniseed file to: c:\\Users\\jpeacock\\OneDrive - DOI\\MTData\\CL2021\\archive\\to_dmc\\1Z_CL341__CFE_2022_07_13T22_14_58.mseed\u001b[0m\n",
      "\u001b[1m2025-04-02T11:55:30.099663-0700 | INFO | mth5.io.conversion | split_ms_to_days | Wrote miniseed file to: c:\\Users\\jpeacock\\OneDrive - DOI\\MTData\\CL2021\\archive\\to_dmc\\1Z_CL341__CFE_2022_07_14T00_00_00.mseed\u001b[0m\n",
      "\u001b[1m2025-04-02T11:55:30.188170-0700 | INFO | mth5.io.conversion | split_ms_to_days | Wrote miniseed file to: c:\\Users\\jpeacock\\OneDrive - DOI\\MTData\\CL2021\\archive\\to_dmc\\1Z_CL341__CFZ_2022_07_13T22_14_58.mseed\u001b[0m\n",
      "\u001b[1m2025-04-02T11:55:30.329687-0700 | INFO | mth5.io.conversion | split_ms_to_days | Wrote miniseed file to: c:\\Users\\jpeacock\\OneDrive - DOI\\MTData\\CL2021\\archive\\to_dmc\\1Z_CL341__CFZ_2022_07_14T00_00_00.mseed\u001b[0m\n",
      "\u001b[1m2025-04-02T11:55:34.243384-0700 | INFO | mth5.timeseries.run_ts | _align_channels | Channels do not have a common end, using latest: 2022-07-14T01:09:41.997803000\u001b[0m\n",
      "\u001b[1m2025-04-02T11:55:37.045112-0700 | INFO | mth5.io.conversion | split_ms_to_days | Wrote miniseed file to: c:\\Users\\jpeacock\\OneDrive - DOI\\MTData\\CL2021\\archive\\to_dmc\\1Z_CL341__FQN_2022_07_14T00_59_58.mseed\u001b[0m\n"
     ]
    },
    {
     "name": "stderr",
     "output_type": "stream",
     "text": [
      "C:\\Users\\jpeacock\\OneDrive - DOI\\Documents\\GitHub\\mth5\\mth5\\timeseries\\channel_ts.py:1524: RuntimeWarning: invalid value encountered in cast\n",
      "  obspy_trace = Trace(self.ts.astype(encoding_dict[encoding]))\n"
     ]
    },
    {
     "name": "stdout",
     "output_type": "stream",
     "text": [
      "\u001b[1m2025-04-02T11:55:37.254146-0700 | INFO | mth5.io.conversion | split_ms_to_days | Wrote miniseed file to: c:\\Users\\jpeacock\\OneDrive - DOI\\MTData\\CL2021\\archive\\to_dmc\\1Z_CL341__FQE_2022_07_14T00_59_58.mseed\u001b[0m\n",
      "\u001b[1m2025-04-02T11:55:37.462042-0700 | INFO | mth5.io.conversion | split_ms_to_days | Wrote miniseed file to: c:\\Users\\jpeacock\\OneDrive - DOI\\MTData\\CL2021\\archive\\to_dmc\\1Z_CL341__FFN_2022_07_14T00_59_58.mseed\u001b[0m\n",
      "\u001b[1m2025-04-02T11:55:37.684611-0700 | INFO | mth5.io.conversion | split_ms_to_days | Wrote miniseed file to: c:\\Users\\jpeacock\\OneDrive - DOI\\MTData\\CL2021\\archive\\to_dmc\\1Z_CL341__FFE_2022_07_14T00_59_58.mseed\u001b[0m\n",
      "\u001b[1m2025-04-02T11:55:37.901772-0700 | INFO | mth5.io.conversion | split_ms_to_days | Wrote miniseed file to: c:\\Users\\jpeacock\\OneDrive - DOI\\MTData\\CL2021\\archive\\to_dmc\\1Z_CL341__FFZ_2022_07_14T00_59_58.mseed\u001b[0m\n",
      "\u001b[1m2025-04-02T11:55:45.110147-0700 | INFO | mth5.timeseries.run_ts | _align_channels | Channels do not have a common end, using latest: 2022-07-14T06:59:41.968750000\u001b[0m\n",
      "\u001b[1m2025-04-02T11:55:48.035772-0700 | INFO | mth5.io.conversion | split_ms_to_days | Wrote miniseed file to: c:\\Users\\jpeacock\\OneDrive - DOI\\MTData\\CL2021\\archive\\to_dmc\\1Z_CL341__CQN_2022_07_14T01_09_58.mseed\u001b[0m\n",
      "\u001b[1m2025-04-02T11:55:48.506954-0700 | INFO | mth5.io.conversion | split_ms_to_days | Wrote miniseed file to: c:\\Users\\jpeacock\\OneDrive - DOI\\MTData\\CL2021\\archive\\to_dmc\\1Z_CL341__CQE_2022_07_14T01_09_58.mseed\u001b[0m\n",
      "\u001b[1m2025-04-02T11:55:49.110161-0700 | INFO | mth5.io.conversion | split_ms_to_days | Wrote miniseed file to: c:\\Users\\jpeacock\\OneDrive - DOI\\MTData\\CL2021\\archive\\to_dmc\\1Z_CL341__CFN_2022_07_14T01_09_58.mseed\u001b[0m\n",
      "\u001b[1m2025-04-02T11:55:49.676847-0700 | INFO | mth5.io.conversion | split_ms_to_days | Wrote miniseed file to: c:\\Users\\jpeacock\\OneDrive - DOI\\MTData\\CL2021\\archive\\to_dmc\\1Z_CL341__CFE_2022_07_14T01_09_58.mseed\u001b[0m\n",
      "\u001b[1m2025-04-02T11:55:50.179737-0700 | INFO | mth5.io.conversion | split_ms_to_days | Wrote miniseed file to: c:\\Users\\jpeacock\\OneDrive - DOI\\MTData\\CL2021\\archive\\to_dmc\\1Z_CL341__CFZ_2022_07_14T01_09_58.mseed\u001b[0m\n",
      "\u001b[1m2025-04-02T11:55:54.158933-0700 | INFO | mth5.timeseries.run_ts | _align_channels | Channels do not have a common end, using latest: 2022-07-14T07:09:41.998535156\u001b[0m\n",
      "\u001b[33m\u001b[1m2025-04-02T11:55:56.137747-0700 | WARNING | mth5.timeseries.run_ts | validate_metadata | end time of dataset 2022-07-14T07:09:41.998291015+00:00 does not match metadata end 2022-07-14T07:09:41.998535156+00:00 updating metatdata value to 2022-07-14T07:09:41.998291015+00:00\u001b[0m\n"
     ]
    },
    {
     "name": "stderr",
     "output_type": "stream",
     "text": [
      "C:\\Users\\jpeacock\\OneDrive - DOI\\Documents\\GitHub\\mth5\\mth5\\timeseries\\channel_ts.py:1524: RuntimeWarning: invalid value encountered in cast\n",
      "  obspy_trace = Trace(self.ts.astype(encoding_dict[encoding]))\n"
     ]
    },
    {
     "name": "stdout",
     "output_type": "stream",
     "text": [
      "\u001b[1m2025-04-02T11:55:56.861292-0700 | INFO | mth5.io.conversion | split_ms_to_days | Wrote miniseed file to: c:\\Users\\jpeacock\\OneDrive - DOI\\MTData\\CL2021\\archive\\to_dmc\\1Z_CL341__FQN_2022_07_14T06_59_58.mseed\u001b[0m\n",
      "\u001b[1m2025-04-02T11:55:57.066408-0700 | INFO | mth5.io.conversion | split_ms_to_days | Wrote miniseed file to: c:\\Users\\jpeacock\\OneDrive - DOI\\MTData\\CL2021\\archive\\to_dmc\\1Z_CL341__FQE_2022_07_14T06_59_58.mseed\u001b[0m\n",
      "\u001b[1m2025-04-02T11:55:57.261552-0700 | INFO | mth5.io.conversion | split_ms_to_days | Wrote miniseed file to: c:\\Users\\jpeacock\\OneDrive - DOI\\MTData\\CL2021\\archive\\to_dmc\\1Z_CL341__FFN_2022_07_14T06_59_58.mseed\u001b[0m\n",
      "\u001b[1m2025-04-02T11:55:57.477648-0700 | INFO | mth5.io.conversion | split_ms_to_days | Wrote miniseed file to: c:\\Users\\jpeacock\\OneDrive - DOI\\MTData\\CL2021\\archive\\to_dmc\\1Z_CL341__FFE_2022_07_14T06_59_58.mseed\u001b[0m\n",
      "\u001b[1m2025-04-02T11:55:57.679130-0700 | INFO | mth5.io.conversion | split_ms_to_days | Wrote miniseed file to: c:\\Users\\jpeacock\\OneDrive - DOI\\MTData\\CL2021\\archive\\to_dmc\\1Z_CL341__FFZ_2022_07_14T06_59_58.mseed\u001b[0m\n",
      "\u001b[1m2025-04-02T11:56:04.896242-0700 | INFO | mth5.timeseries.run_ts | _align_channels | Channels do not have a common end, using latest: 2022-07-14T12:59:41.968750000\u001b[0m\n",
      "\u001b[1m2025-04-02T11:56:07.638683-0700 | INFO | mth5.io.conversion | split_ms_to_days | Wrote miniseed file to: c:\\Users\\jpeacock\\OneDrive - DOI\\MTData\\CL2021\\archive\\to_dmc\\1Z_CL341__CQN_2022_07_14T07_09_58.mseed\u001b[0m\n",
      "\u001b[1m2025-04-02T11:56:08.079656-0700 | INFO | mth5.io.conversion | split_ms_to_days | Wrote miniseed file to: c:\\Users\\jpeacock\\OneDrive - DOI\\MTData\\CL2021\\archive\\to_dmc\\1Z_CL341__CQE_2022_07_14T07_09_58.mseed\u001b[0m\n",
      "\u001b[1m2025-04-02T11:56:08.520045-0700 | INFO | mth5.io.conversion | split_ms_to_days | Wrote miniseed file to: c:\\Users\\jpeacock\\OneDrive - DOI\\MTData\\CL2021\\archive\\to_dmc\\1Z_CL341__CFN_2022_07_14T07_09_58.mseed\u001b[0m\n",
      "\u001b[1m2025-04-02T11:56:08.969693-0700 | INFO | mth5.io.conversion | split_ms_to_days | Wrote miniseed file to: c:\\Users\\jpeacock\\OneDrive - DOI\\MTData\\CL2021\\archive\\to_dmc\\1Z_CL341__CFE_2022_07_14T07_09_58.mseed\u001b[0m\n",
      "\u001b[1m2025-04-02T11:56:09.467167-0700 | INFO | mth5.io.conversion | split_ms_to_days | Wrote miniseed file to: c:\\Users\\jpeacock\\OneDrive - DOI\\MTData\\CL2021\\archive\\to_dmc\\1Z_CL341__CFZ_2022_07_14T07_09_58.mseed\u001b[0m\n",
      "\u001b[1m2025-04-02T11:56:13.264850-0700 | INFO | mth5.timeseries.run_ts | _align_channels | Channels do not have a common end, using latest: 2022-07-14T13:09:41.999268000\u001b[0m\n"
     ]
    },
    {
     "name": "stderr",
     "output_type": "stream",
     "text": [
      "C:\\Users\\jpeacock\\OneDrive - DOI\\Documents\\GitHub\\mth5\\mth5\\timeseries\\channel_ts.py:1524: RuntimeWarning: invalid value encountered in cast\n",
      "  obspy_trace = Trace(self.ts.astype(encoding_dict[encoding]))\n"
     ]
    },
    {
     "name": "stdout",
     "output_type": "stream",
     "text": [
      "\u001b[1m2025-04-02T11:56:16.010492-0700 | INFO | mth5.io.conversion | split_ms_to_days | Wrote miniseed file to: c:\\Users\\jpeacock\\OneDrive - DOI\\MTData\\CL2021\\archive\\to_dmc\\1Z_CL341__FQN_2022_07_14T12_59_58.mseed\u001b[0m\n",
      "\u001b[1m2025-04-02T11:56:16.322074-0700 | INFO | mth5.io.conversion | split_ms_to_days | Wrote miniseed file to: c:\\Users\\jpeacock\\OneDrive - DOI\\MTData\\CL2021\\archive\\to_dmc\\1Z_CL341__FQE_2022_07_14T12_59_58.mseed\u001b[0m\n",
      "\u001b[1m2025-04-02T11:56:16.547127-0700 | INFO | mth5.io.conversion | split_ms_to_days | Wrote miniseed file to: c:\\Users\\jpeacock\\OneDrive - DOI\\MTData\\CL2021\\archive\\to_dmc\\1Z_CL341__FFN_2022_07_14T12_59_58.mseed\u001b[0m\n",
      "\u001b[1m2025-04-02T11:56:16.760512-0700 | INFO | mth5.io.conversion | split_ms_to_days | Wrote miniseed file to: c:\\Users\\jpeacock\\OneDrive - DOI\\MTData\\CL2021\\archive\\to_dmc\\1Z_CL341__FFE_2022_07_14T12_59_58.mseed\u001b[0m\n",
      "\u001b[1m2025-04-02T11:56:16.963338-0700 | INFO | mth5.io.conversion | split_ms_to_days | Wrote miniseed file to: c:\\Users\\jpeacock\\OneDrive - DOI\\MTData\\CL2021\\archive\\to_dmc\\1Z_CL341__FFZ_2022_07_14T12_59_58.mseed\u001b[0m\n",
      "\u001b[1m2025-04-02T11:56:23.402599-0700 | INFO | mth5.io.conversion | split_ms_to_days | Wrote miniseed file to: c:\\Users\\jpeacock\\OneDrive - DOI\\MTData\\CL2021\\archive\\to_dmc\\1Z_CL341__CQN_2022_07_14T13_09_58.mseed\u001b[0m\n",
      "\u001b[1m2025-04-02T11:56:23.630880-0700 | INFO | mth5.io.conversion | split_ms_to_days | Wrote miniseed file to: c:\\Users\\jpeacock\\OneDrive - DOI\\MTData\\CL2021\\archive\\to_dmc\\1Z_CL341__CQE_2022_07_14T13_09_58.mseed\u001b[0m\n",
      "\u001b[1m2025-04-02T11:56:23.883885-0700 | INFO | mth5.io.conversion | split_ms_to_days | Wrote miniseed file to: c:\\Users\\jpeacock\\OneDrive - DOI\\MTData\\CL2021\\archive\\to_dmc\\1Z_CL341__CFN_2022_07_14T13_09_58.mseed\u001b[0m\n",
      "\u001b[1m2025-04-02T11:56:24.128331-0700 | INFO | mth5.io.conversion | split_ms_to_days | Wrote miniseed file to: c:\\Users\\jpeacock\\OneDrive - DOI\\MTData\\CL2021\\archive\\to_dmc\\1Z_CL341__CFE_2022_07_14T13_09_58.mseed\u001b[0m\n",
      "\u001b[1m2025-04-02T11:56:24.361822-0700 | INFO | mth5.io.conversion | split_ms_to_days | Wrote miniseed file to: c:\\Users\\jpeacock\\OneDrive - DOI\\MTData\\CL2021\\archive\\to_dmc\\1Z_CL341__CFZ_2022_07_14T13_09_58.mseed\u001b[0m\n",
      "\u001b[1m2025-04-02T11:56:25.685908-0700 | INFO | mth5.mth5 | close_mth5 | Flushing and closing c:\\Users\\jpeacock\\OneDrive - DOI\\MTData\\CL2021\\archive\\cl341.h5\u001b[0m\n",
      "\u001b[33m\u001b[1m2025-04-02T11:56:25.690909-0700 | WARNING | mt_metadata.timeseries.stationxml.xml_station_mt_station | mt_to_xml | Station.geographic_name is None, using Station.id = cl341.Check StationXML site.name.\u001b[0m\n",
      "\u001b[1m2025-04-02T11:56:25.770497-0700 | INFO | mt_metadata.timeseries.filters.channel_response | to_obspy | total sensitivity 104063415757.0512 != total gain 1048576000.000055. Using total_gain.\u001b[0m\n",
      "\u001b[1m2025-04-02T11:56:25.802496-0700 | INFO | mt_metadata.timeseries.filters.channel_response | to_obspy | total sensitivity 104064067310.72034 != total gain 1048576000.000055. Using total_gain.\u001b[0m\n",
      "\u001b[1m2025-04-02T11:56:25.832115-0700 | INFO | mt_metadata.timeseries.filters.channel_response | to_obspy | total sensitivity 104852080647.21446 != total gain 1048576000.000055. Using total_gain.\u001b[0m\n",
      "\u001b[1m2025-04-02T11:56:25.935137-0700 | INFO | mt_metadata.timeseries.filters.channel_response | to_obspy | total sensitivity 104063415757.0512 != total gain 1048576000.000055. Using total_gain.\u001b[0m\n",
      "\u001b[1m2025-04-02T11:56:25.968144-0700 | INFO | mt_metadata.timeseries.filters.channel_response | to_obspy | total sensitivity 104064067310.72034 != total gain 1048576000.000055. Using total_gain.\u001b[0m\n",
      "\u001b[1m2025-04-02T11:56:26.017626-0700 | INFO | mt_metadata.timeseries.filters.channel_response | to_obspy | total sensitivity 104852080647.21446 != total gain 1048576000.000055. Using total_gain.\u001b[0m\n",
      "\u001b[1m2025-04-02T11:56:26.121742-0700 | INFO | mt_metadata.timeseries.filters.channel_response | to_obspy | total sensitivity 104063415757.0512 != total gain 1048576000.000055. Using total_gain.\u001b[0m\n",
      "\u001b[1m2025-04-02T11:56:26.150742-0700 | INFO | mt_metadata.timeseries.filters.channel_response | to_obspy | total sensitivity 104064067310.72034 != total gain 1048576000.000055. Using total_gain.\u001b[0m\n",
      "\u001b[1m2025-04-02T11:56:26.179713-0700 | INFO | mt_metadata.timeseries.filters.channel_response | to_obspy | total sensitivity 104852080647.21446 != total gain 1048576000.000055. Using total_gain.\u001b[0m\n",
      "\u001b[1m2025-04-02T11:56:26.278367-0700 | INFO | mt_metadata.timeseries.filters.channel_response | to_obspy | total sensitivity 104063415757.0512 != total gain 1048576000.000055. Using total_gain.\u001b[0m\n",
      "\u001b[1m2025-04-02T11:56:26.308677-0700 | INFO | mt_metadata.timeseries.filters.channel_response | to_obspy | total sensitivity 104064067310.72034 != total gain 1048576000.000055. Using total_gain.\u001b[0m\n",
      "\u001b[1m2025-04-02T11:56:26.338300-0700 | INFO | mt_metadata.timeseries.filters.channel_response | to_obspy | total sensitivity 104852080647.21446 != total gain 1048576000.000055. Using total_gain.\u001b[0m\n",
      "\u001b[1m2025-04-02T11:56:26.435711-0700 | INFO | mt_metadata.timeseries.filters.channel_response | to_obspy | total sensitivity 104063415757.0512 != total gain 1048576000.000055. Using total_gain.\u001b[0m\n",
      "\u001b[1m2025-04-02T11:56:26.464677-0700 | INFO | mt_metadata.timeseries.filters.channel_response | to_obspy | total sensitivity 104064067310.72034 != total gain 1048576000.000055. Using total_gain.\u001b[0m\n",
      "\u001b[1m2025-04-02T11:56:26.494712-0700 | INFO | mt_metadata.timeseries.filters.channel_response | to_obspy | total sensitivity 104852080647.21446 != total gain 1048576000.000055. Using total_gain.\u001b[0m\n",
      "\u001b[1m2025-04-02T11:56:26.592855-0700 | INFO | mt_metadata.timeseries.filters.channel_response | to_obspy | total sensitivity 104063415757.0512 != total gain 1048576000.000055. Using total_gain.\u001b[0m\n",
      "\u001b[1m2025-04-02T11:56:26.628083-0700 | INFO | mt_metadata.timeseries.filters.channel_response | to_obspy | total sensitivity 104064067310.72034 != total gain 1048576000.000055. Using total_gain.\u001b[0m\n",
      "\u001b[1m2025-04-02T11:56:26.665114-0700 | INFO | mt_metadata.timeseries.filters.channel_response | to_obspy | total sensitivity 104852080647.21446 != total gain 1048576000.000055. Using total_gain.\u001b[0m\n",
      "\u001b[1m2025-04-02T11:56:26.776027-0700 | INFO | mt_metadata.timeseries.filters.channel_response | to_obspy | total sensitivity 104063415757.0512 != total gain 1048576000.000055. Using total_gain.\u001b[0m\n",
      "\u001b[1m2025-04-02T11:56:26.806000-0700 | INFO | mt_metadata.timeseries.filters.channel_response | to_obspy | total sensitivity 104064067310.72034 != total gain 1048576000.000055. Using total_gain.\u001b[0m\n",
      "\u001b[1m2025-04-02T11:56:26.837429-0700 | INFO | mt_metadata.timeseries.filters.channel_response | to_obspy | total sensitivity 104852080647.21446 != total gain 1048576000.000055. Using total_gain.\u001b[0m\n",
      "\u001b[1m2025-04-02T11:56:26.932459-0700 | INFO | mt_metadata.timeseries.filters.channel_response | to_obspy | total sensitivity 104063415757.0512 != total gain 1048576000.000055. Using total_gain.\u001b[0m\n",
      "\u001b[1m2025-04-02T11:56:26.964461-0700 | INFO | mt_metadata.timeseries.filters.channel_response | to_obspy | total sensitivity 104064067310.72034 != total gain 1048576000.000055. Using total_gain.\u001b[0m\n",
      "\u001b[1m2025-04-02T11:56:26.995459-0700 | INFO | mt_metadata.timeseries.filters.channel_response | to_obspy | total sensitivity 104852080647.21446 != total gain 1048576000.000055. Using total_gain.\u001b[0m\n",
      "\u001b[1m2025-04-02T11:56:27.030576-0700 | INFO | mth5.io.conversion | convert_mth5_to_ms_stationxml | Wrote StationXML to c:\\Users\\jpeacock\\OneDrive - DOI\\MTData\\CL2021\\archive\\to_dmc\\cl341.xml\u001b[0m\n",
      "\u001b[33m\u001b[1m2025-04-02T11:56:28.748074-0700 | WARNING | mt_metadata.timeseries.station | remove_run | Could not find cl355a to remove.\u001b[0m\n",
      "\u001b[1m2025-04-02T11:56:32.347798-0700 | INFO | mth5.io.conversion | split_ms_to_days | Wrote miniseed file to: c:\\Users\\jpeacock\\OneDrive - DOI\\MTData\\CL2021\\archive\\to_dmc\\1Z_CL355__LQN_2022_07_12T23_34_58.mseed\u001b[0m\n",
      "\u001b[1m2025-04-02T11:56:32.349764-0700 | INFO | mth5.io.conversion | split_ms_to_days | Wrote miniseed file to: c:\\Users\\jpeacock\\OneDrive - DOI\\MTData\\CL2021\\archive\\to_dmc\\1Z_CL355__LQN_2022_07_13T00_00_00.mseed\u001b[0m\n",
      "\u001b[1m2025-04-02T11:56:32.359763-0700 | INFO | mth5.io.conversion | split_ms_to_days | Wrote miniseed file to: c:\\Users\\jpeacock\\OneDrive - DOI\\MTData\\CL2021\\archive\\to_dmc\\1Z_CL355__LQE_2022_07_12T23_34_58.mseed\u001b[0m\n",
      "\u001b[1m2025-04-02T11:56:32.361762-0700 | INFO | mth5.io.conversion | split_ms_to_days | Wrote miniseed file to: c:\\Users\\jpeacock\\OneDrive - DOI\\MTData\\CL2021\\archive\\to_dmc\\1Z_CL355__LQE_2022_07_13T00_00_00.mseed\u001b[0m\n",
      "\u001b[1m2025-04-02T11:56:32.369779-0700 | INFO | mth5.io.conversion | split_ms_to_days | Wrote miniseed file to: c:\\Users\\jpeacock\\OneDrive - DOI\\MTData\\CL2021\\archive\\to_dmc\\1Z_CL355__LFN_2022_07_12T23_34_58.mseed\u001b[0m\n",
      "\u001b[1m2025-04-02T11:56:32.372767-0700 | INFO | mth5.io.conversion | split_ms_to_days | Wrote miniseed file to: c:\\Users\\jpeacock\\OneDrive - DOI\\MTData\\CL2021\\archive\\to_dmc\\1Z_CL355__LFN_2022_07_13T00_00_00.mseed\u001b[0m\n",
      "\u001b[1m2025-04-02T11:56:32.381796-0700 | INFO | mth5.io.conversion | split_ms_to_days | Wrote miniseed file to: c:\\Users\\jpeacock\\OneDrive - DOI\\MTData\\CL2021\\archive\\to_dmc\\1Z_CL355__LFE_2022_07_12T23_34_58.mseed\u001b[0m\n",
      "\u001b[1m2025-04-02T11:56:32.385774-0700 | INFO | mth5.io.conversion | split_ms_to_days | Wrote miniseed file to: c:\\Users\\jpeacock\\OneDrive - DOI\\MTData\\CL2021\\archive\\to_dmc\\1Z_CL355__LFE_2022_07_13T00_00_00.mseed\u001b[0m\n",
      "\u001b[1m2025-04-02T11:56:32.392767-0700 | INFO | mth5.io.conversion | split_ms_to_days | Wrote miniseed file to: c:\\Users\\jpeacock\\OneDrive - DOI\\MTData\\CL2021\\archive\\to_dmc\\1Z_CL355__LFZ_2022_07_12T23_34_58.mseed\u001b[0m\n",
      "\u001b[1m2025-04-02T11:56:32.395772-0700 | INFO | mth5.io.conversion | split_ms_to_days | Wrote miniseed file to: c:\\Users\\jpeacock\\OneDrive - DOI\\MTData\\CL2021\\archive\\to_dmc\\1Z_CL355__LFZ_2022_07_13T00_00_00.mseed\u001b[0m\n",
      "\u001b[1m2025-04-02T11:56:36.725692-0700 | INFO | mth5.io.conversion | split_ms_to_days | Wrote miniseed file to: c:\\Users\\jpeacock\\OneDrive - DOI\\MTData\\CL2021\\archive\\to_dmc\\1Z_CL355__CQN_2022_07_12T23_34_58.mseed\u001b[0m\n",
      "\u001b[1m2025-04-02T11:56:36.759236-0700 | INFO | mth5.io.conversion | split_ms_to_days | Wrote miniseed file to: c:\\Users\\jpeacock\\OneDrive - DOI\\MTData\\CL2021\\archive\\to_dmc\\1Z_CL355__CQN_2022_07_13T00_00_00.mseed\u001b[0m\n",
      "\u001b[1m2025-04-02T11:56:36.836243-0700 | INFO | mth5.io.conversion | split_ms_to_days | Wrote miniseed file to: c:\\Users\\jpeacock\\OneDrive - DOI\\MTData\\CL2021\\archive\\to_dmc\\1Z_CL355__CQE_2022_07_12T23_34_58.mseed\u001b[0m\n",
      "\u001b[1m2025-04-02T11:56:36.869966-0700 | INFO | mth5.io.conversion | split_ms_to_days | Wrote miniseed file to: c:\\Users\\jpeacock\\OneDrive - DOI\\MTData\\CL2021\\archive\\to_dmc\\1Z_CL355__CQE_2022_07_13T00_00_00.mseed\u001b[0m\n",
      "\u001b[1m2025-04-02T11:56:36.952992-0700 | INFO | mth5.io.conversion | split_ms_to_days | Wrote miniseed file to: c:\\Users\\jpeacock\\OneDrive - DOI\\MTData\\CL2021\\archive\\to_dmc\\1Z_CL355__CFN_2022_07_12T23_34_58.mseed\u001b[0m\n",
      "\u001b[1m2025-04-02T11:56:36.987994-0700 | INFO | mth5.io.conversion | split_ms_to_days | Wrote miniseed file to: c:\\Users\\jpeacock\\OneDrive - DOI\\MTData\\CL2021\\archive\\to_dmc\\1Z_CL355__CFN_2022_07_13T00_00_00.mseed\u001b[0m\n",
      "\u001b[1m2025-04-02T11:56:37.065549-0700 | INFO | mth5.io.conversion | split_ms_to_days | Wrote miniseed file to: c:\\Users\\jpeacock\\OneDrive - DOI\\MTData\\CL2021\\archive\\to_dmc\\1Z_CL355__CFE_2022_07_12T23_34_58.mseed\u001b[0m\n",
      "\u001b[1m2025-04-02T11:56:37.097552-0700 | INFO | mth5.io.conversion | split_ms_to_days | Wrote miniseed file to: c:\\Users\\jpeacock\\OneDrive - DOI\\MTData\\CL2021\\archive\\to_dmc\\1Z_CL355__CFE_2022_07_13T00_00_00.mseed\u001b[0m\n",
      "\u001b[1m2025-04-02T11:56:37.179067-0700 | INFO | mth5.io.conversion | split_ms_to_days | Wrote miniseed file to: c:\\Users\\jpeacock\\OneDrive - DOI\\MTData\\CL2021\\archive\\to_dmc\\1Z_CL355__CFZ_2022_07_12T23_34_58.mseed\u001b[0m\n",
      "\u001b[1m2025-04-02T11:56:37.210737-0700 | INFO | mth5.io.conversion | split_ms_to_days | Wrote miniseed file to: c:\\Users\\jpeacock\\OneDrive - DOI\\MTData\\CL2021\\archive\\to_dmc\\1Z_CL355__CFZ_2022_07_13T00_00_00.mseed\u001b[0m\n",
      "\u001b[1m2025-04-02T11:56:40.647551-0700 | INFO | mth5.timeseries.run_ts | _align_channels | Channels do not have a common end, using latest: 2022-07-13T01:09:41.999756000\u001b[0m\n"
     ]
    },
    {
     "name": "stderr",
     "output_type": "stream",
     "text": [
      "C:\\Users\\jpeacock\\OneDrive - DOI\\Documents\\GitHub\\mth5\\mth5\\timeseries\\channel_ts.py:1524: RuntimeWarning: invalid value encountered in cast\n",
      "  obspy_trace = Trace(self.ts.astype(encoding_dict[encoding]))\n"
     ]
    },
    {
     "name": "stdout",
     "output_type": "stream",
     "text": [
      "\u001b[1m2025-04-02T11:56:43.479798-0700 | INFO | mth5.io.conversion | split_ms_to_days | Wrote miniseed file to: c:\\Users\\jpeacock\\OneDrive - DOI\\MTData\\CL2021\\archive\\to_dmc\\1Z_CL355__FQN_2022_07_13T00_59_58.mseed\u001b[0m\n",
      "\u001b[1m2025-04-02T11:56:43.674270-0700 | INFO | mth5.io.conversion | split_ms_to_days | Wrote miniseed file to: c:\\Users\\jpeacock\\OneDrive - DOI\\MTData\\CL2021\\archive\\to_dmc\\1Z_CL355__FQE_2022_07_13T00_59_58.mseed\u001b[0m\n",
      "\u001b[1m2025-04-02T11:56:43.898066-0700 | INFO | mth5.io.conversion | split_ms_to_days | Wrote miniseed file to: c:\\Users\\jpeacock\\OneDrive - DOI\\MTData\\CL2021\\archive\\to_dmc\\1Z_CL355__FFN_2022_07_13T00_59_58.mseed\u001b[0m\n",
      "\u001b[1m2025-04-02T11:56:44.101295-0700 | INFO | mth5.io.conversion | split_ms_to_days | Wrote miniseed file to: c:\\Users\\jpeacock\\OneDrive - DOI\\MTData\\CL2021\\archive\\to_dmc\\1Z_CL355__FFE_2022_07_13T00_59_58.mseed\u001b[0m\n",
      "\u001b[1m2025-04-02T11:56:44.298132-0700 | INFO | mth5.io.conversion | split_ms_to_days | Wrote miniseed file to: c:\\Users\\jpeacock\\OneDrive - DOI\\MTData\\CL2021\\archive\\to_dmc\\1Z_CL355__FFZ_2022_07_13T00_59_58.mseed\u001b[0m\n",
      "\u001b[1m2025-04-02T11:56:51.448336-0700 | INFO | mth5.timeseries.run_ts | _align_channels | Channels do not have a common end, using latest: 2022-07-13T06:59:41.968750000\u001b[0m\n",
      "\u001b[1m2025-04-02T11:56:54.241913-0700 | INFO | mth5.io.conversion | split_ms_to_days | Wrote miniseed file to: c:\\Users\\jpeacock\\OneDrive - DOI\\MTData\\CL2021\\archive\\to_dmc\\1Z_CL355__CQN_2022_07_13T01_09_58.mseed\u001b[0m\n",
      "\u001b[1m2025-04-02T11:56:54.664722-0700 | INFO | mth5.io.conversion | split_ms_to_days | Wrote miniseed file to: c:\\Users\\jpeacock\\OneDrive - DOI\\MTData\\CL2021\\archive\\to_dmc\\1Z_CL355__CQE_2022_07_13T01_09_58.mseed\u001b[0m\n",
      "\u001b[1m2025-04-02T11:56:55.090564-0700 | INFO | mth5.io.conversion | split_ms_to_days | Wrote miniseed file to: c:\\Users\\jpeacock\\OneDrive - DOI\\MTData\\CL2021\\archive\\to_dmc\\1Z_CL355__CFN_2022_07_13T01_09_58.mseed\u001b[0m\n",
      "\u001b[1m2025-04-02T11:56:55.534730-0700 | INFO | mth5.io.conversion | split_ms_to_days | Wrote miniseed file to: c:\\Users\\jpeacock\\OneDrive - DOI\\MTData\\CL2021\\archive\\to_dmc\\1Z_CL355__CFE_2022_07_13T01_09_58.mseed\u001b[0m\n",
      "\u001b[1m2025-04-02T11:56:55.973113-0700 | INFO | mth5.io.conversion | split_ms_to_days | Wrote miniseed file to: c:\\Users\\jpeacock\\OneDrive - DOI\\MTData\\CL2021\\archive\\to_dmc\\1Z_CL355__CFZ_2022_07_13T01_09_58.mseed\u001b[0m\n",
      "\u001b[1m2025-04-02T11:56:59.749071-0700 | INFO | mth5.timeseries.run_ts | _align_channels | Channels do not have a common end, using latest: 2022-07-13T07:09:41.997559000\u001b[0m\n"
     ]
    },
    {
     "name": "stderr",
     "output_type": "stream",
     "text": [
      "C:\\Users\\jpeacock\\OneDrive - DOI\\Documents\\GitHub\\mth5\\mth5\\timeseries\\channel_ts.py:1524: RuntimeWarning: invalid value encountered in cast\n",
      "  obspy_trace = Trace(self.ts.astype(encoding_dict[encoding]))\n"
     ]
    },
    {
     "name": "stdout",
     "output_type": "stream",
     "text": [
      "\u001b[1m2025-04-02T11:57:02.594624-0700 | INFO | mth5.io.conversion | split_ms_to_days | Wrote miniseed file to: c:\\Users\\jpeacock\\OneDrive - DOI\\MTData\\CL2021\\archive\\to_dmc\\1Z_CL355__FQN_2022_07_13T06_59_58.mseed\u001b[0m\n",
      "\u001b[1m2025-04-02T11:57:02.783823-0700 | INFO | mth5.io.conversion | split_ms_to_days | Wrote miniseed file to: c:\\Users\\jpeacock\\OneDrive - DOI\\MTData\\CL2021\\archive\\to_dmc\\1Z_CL355__FQE_2022_07_13T06_59_58.mseed\u001b[0m\n",
      "\u001b[1m2025-04-02T11:57:02.978975-0700 | INFO | mth5.io.conversion | split_ms_to_days | Wrote miniseed file to: c:\\Users\\jpeacock\\OneDrive - DOI\\MTData\\CL2021\\archive\\to_dmc\\1Z_CL355__FFN_2022_07_13T06_59_58.mseed\u001b[0m\n",
      "\u001b[1m2025-04-02T11:57:03.179198-0700 | INFO | mth5.io.conversion | split_ms_to_days | Wrote miniseed file to: c:\\Users\\jpeacock\\OneDrive - DOI\\MTData\\CL2021\\archive\\to_dmc\\1Z_CL355__FFE_2022_07_13T06_59_58.mseed\u001b[0m\n",
      "\u001b[1m2025-04-02T11:57:03.368609-0700 | INFO | mth5.io.conversion | split_ms_to_days | Wrote miniseed file to: c:\\Users\\jpeacock\\OneDrive - DOI\\MTData\\CL2021\\archive\\to_dmc\\1Z_CL355__FFZ_2022_07_13T06_59_58.mseed\u001b[0m\n",
      "\u001b[1m2025-04-02T11:57:10.790706-0700 | INFO | mth5.timeseries.run_ts | _align_channels | Channels do not have a common end, using latest: 2022-07-13T12:59:41.968750000\u001b[0m\n",
      "\u001b[1m2025-04-02T11:57:13.673028-0700 | INFO | mth5.io.conversion | split_ms_to_days | Wrote miniseed file to: c:\\Users\\jpeacock\\OneDrive - DOI\\MTData\\CL2021\\archive\\to_dmc\\1Z_CL355__CQN_2022_07_13T07_09_58.mseed\u001b[0m\n",
      "\u001b[1m2025-04-02T11:57:14.132465-0700 | INFO | mth5.io.conversion | split_ms_to_days | Wrote miniseed file to: c:\\Users\\jpeacock\\OneDrive - DOI\\MTData\\CL2021\\archive\\to_dmc\\1Z_CL355__CQE_2022_07_13T07_09_58.mseed\u001b[0m\n",
      "\u001b[1m2025-04-02T11:57:14.623820-0700 | INFO | mth5.io.conversion | split_ms_to_days | Wrote miniseed file to: c:\\Users\\jpeacock\\OneDrive - DOI\\MTData\\CL2021\\archive\\to_dmc\\1Z_CL355__CFN_2022_07_13T07_09_58.mseed\u001b[0m\n",
      "\u001b[1m2025-04-02T11:57:15.126879-0700 | INFO | mth5.io.conversion | split_ms_to_days | Wrote miniseed file to: c:\\Users\\jpeacock\\OneDrive - DOI\\MTData\\CL2021\\archive\\to_dmc\\1Z_CL355__CFE_2022_07_13T07_09_58.mseed\u001b[0m\n",
      "\u001b[1m2025-04-02T11:57:15.616240-0700 | INFO | mth5.io.conversion | split_ms_to_days | Wrote miniseed file to: c:\\Users\\jpeacock\\OneDrive - DOI\\MTData\\CL2021\\archive\\to_dmc\\1Z_CL355__CFZ_2022_07_13T07_09_58.mseed\u001b[0m\n",
      "\u001b[1m2025-04-02T11:57:19.703006-0700 | INFO | mth5.timeseries.run_ts | _align_channels | Channels do not have a common end, using latest: 2022-07-13T13:09:41.998779296\u001b[0m\n",
      "\u001b[33m\u001b[1m2025-04-02T11:57:22.347812-0700 | WARNING | mth5.timeseries.run_ts | validate_metadata | end time of dataset 2022-07-13T13:09:41.998535156+00:00 does not match metadata end 2022-07-13T13:09:41.998779296+00:00 updating metatdata value to 2022-07-13T13:09:41.998535156+00:00\u001b[0m\n"
     ]
    },
    {
     "name": "stderr",
     "output_type": "stream",
     "text": [
      "C:\\Users\\jpeacock\\OneDrive - DOI\\Documents\\GitHub\\mth5\\mth5\\timeseries\\channel_ts.py:1524: RuntimeWarning: invalid value encountered in cast\n",
      "  obspy_trace = Trace(self.ts.astype(encoding_dict[encoding]))\n"
     ]
    },
    {
     "name": "stdout",
     "output_type": "stream",
     "text": [
      "\u001b[1m2025-04-02T11:57:23.241899-0700 | INFO | mth5.io.conversion | split_ms_to_days | Wrote miniseed file to: c:\\Users\\jpeacock\\OneDrive - DOI\\MTData\\CL2021\\archive\\to_dmc\\1Z_CL355__FQN_2022_07_13T12_59_58.mseed\u001b[0m\n",
      "\u001b[1m2025-04-02T11:57:23.479959-0700 | INFO | mth5.io.conversion | split_ms_to_days | Wrote miniseed file to: c:\\Users\\jpeacock\\OneDrive - DOI\\MTData\\CL2021\\archive\\to_dmc\\1Z_CL355__FQE_2022_07_13T12_59_58.mseed\u001b[0m\n",
      "\u001b[1m2025-04-02T11:57:23.727526-0700 | INFO | mth5.io.conversion | split_ms_to_days | Wrote miniseed file to: c:\\Users\\jpeacock\\OneDrive - DOI\\MTData\\CL2021\\archive\\to_dmc\\1Z_CL355__FFN_2022_07_13T12_59_58.mseed\u001b[0m\n",
      "\u001b[1m2025-04-02T11:57:23.961563-0700 | INFO | mth5.io.conversion | split_ms_to_days | Wrote miniseed file to: c:\\Users\\jpeacock\\OneDrive - DOI\\MTData\\CL2021\\archive\\to_dmc\\1Z_CL355__FFE_2022_07_13T12_59_58.mseed\u001b[0m\n",
      "\u001b[1m2025-04-02T11:57:24.195779-0700 | INFO | mth5.io.conversion | split_ms_to_days | Wrote miniseed file to: c:\\Users\\jpeacock\\OneDrive - DOI\\MTData\\CL2021\\archive\\to_dmc\\1Z_CL355__FFZ_2022_07_13T12_59_58.mseed\u001b[0m\n",
      "\u001b[1m2025-04-02T11:57:31.328804-0700 | INFO | mth5.io.conversion | split_ms_to_days | Wrote miniseed file to: c:\\Users\\jpeacock\\OneDrive - DOI\\MTData\\CL2021\\archive\\to_dmc\\1Z_CL355__CQN_2022_07_13T13_09_58.mseed\u001b[0m\n",
      "\u001b[1m2025-04-02T11:57:31.654352-0700 | INFO | mth5.io.conversion | split_ms_to_days | Wrote miniseed file to: c:\\Users\\jpeacock\\OneDrive - DOI\\MTData\\CL2021\\archive\\to_dmc\\1Z_CL355__CQE_2022_07_13T13_09_58.mseed\u001b[0m\n",
      "\u001b[1m2025-04-02T11:57:31.959139-0700 | INFO | mth5.io.conversion | split_ms_to_days | Wrote miniseed file to: c:\\Users\\jpeacock\\OneDrive - DOI\\MTData\\CL2021\\archive\\to_dmc\\1Z_CL355__CFN_2022_07_13T13_09_58.mseed\u001b[0m\n",
      "\u001b[1m2025-04-02T11:57:32.289477-0700 | INFO | mth5.io.conversion | split_ms_to_days | Wrote miniseed file to: c:\\Users\\jpeacock\\OneDrive - DOI\\MTData\\CL2021\\archive\\to_dmc\\1Z_CL355__CFE_2022_07_13T13_09_58.mseed\u001b[0m\n",
      "\u001b[1m2025-04-02T11:57:32.610548-0700 | INFO | mth5.io.conversion | split_ms_to_days | Wrote miniseed file to: c:\\Users\\jpeacock\\OneDrive - DOI\\MTData\\CL2021\\archive\\to_dmc\\1Z_CL355__CFZ_2022_07_13T13_09_58.mseed\u001b[0m\n",
      "\u001b[1m2025-04-02T11:57:33.938559-0700 | INFO | mth5.mth5 | close_mth5 | Flushing and closing c:\\Users\\jpeacock\\OneDrive - DOI\\MTData\\CL2021\\archive\\cl355.h5\u001b[0m\n",
      "\u001b[33m\u001b[1m2025-04-02T11:57:33.941562-0700 | WARNING | mt_metadata.timeseries.stationxml.xml_station_mt_station | mt_to_xml | Station.geographic_name is None, using Station.id = cl355.Check StationXML site.name.\u001b[0m\n",
      "\u001b[1m2025-04-02T11:57:34.023029-0700 | INFO | mt_metadata.timeseries.filters.channel_response | to_obspy | total sensitivity 104063415757.0512 != total gain 1048576000.000055. Using total_gain.\u001b[0m\n",
      "\u001b[1m2025-04-02T11:57:34.056001-0700 | INFO | mt_metadata.timeseries.filters.channel_response | to_obspy | total sensitivity 104064067310.72034 != total gain 1048576000.000055. Using total_gain.\u001b[0m\n",
      "\u001b[1m2025-04-02T11:57:34.088002-0700 | INFO | mt_metadata.timeseries.filters.channel_response | to_obspy | total sensitivity 104852080647.21446 != total gain 1048576000.000055. Using total_gain.\u001b[0m\n",
      "\u001b[1m2025-04-02T11:57:34.187634-0700 | INFO | mt_metadata.timeseries.filters.channel_response | to_obspy | total sensitivity 104063415757.0512 != total gain 1048576000.000055. Using total_gain.\u001b[0m\n",
      "\u001b[1m2025-04-02T11:57:34.238181-0700 | INFO | mt_metadata.timeseries.filters.channel_response | to_obspy | total sensitivity 104064067310.72034 != total gain 1048576000.000055. Using total_gain.\u001b[0m\n",
      "\u001b[1m2025-04-02T11:57:34.286177-0700 | INFO | mt_metadata.timeseries.filters.channel_response | to_obspy | total sensitivity 104852080647.21446 != total gain 1048576000.000055. Using total_gain.\u001b[0m\n",
      "\u001b[1m2025-04-02T11:57:34.403710-0700 | INFO | mt_metadata.timeseries.filters.channel_response | to_obspy | total sensitivity 104063415757.0512 != total gain 1048576000.000055. Using total_gain.\u001b[0m\n",
      "\u001b[1m2025-04-02T11:57:34.434227-0700 | INFO | mt_metadata.timeseries.filters.channel_response | to_obspy | total sensitivity 104064067310.72034 != total gain 1048576000.000055. Using total_gain.\u001b[0m\n",
      "\u001b[1m2025-04-02T11:57:34.465225-0700 | INFO | mt_metadata.timeseries.filters.channel_response | to_obspy | total sensitivity 104852080647.21446 != total gain 1048576000.000055. Using total_gain.\u001b[0m\n",
      "\u001b[1m2025-04-02T11:57:34.576744-0700 | INFO | mt_metadata.timeseries.filters.channel_response | to_obspy | total sensitivity 104063415757.0512 != total gain 1048576000.000055. Using total_gain.\u001b[0m\n",
      "\u001b[1m2025-04-02T11:57:34.608815-0700 | INFO | mt_metadata.timeseries.filters.channel_response | to_obspy | total sensitivity 104064067310.72034 != total gain 1048576000.000055. Using total_gain.\u001b[0m\n",
      "\u001b[1m2025-04-02T11:57:34.642363-0700 | INFO | mt_metadata.timeseries.filters.channel_response | to_obspy | total sensitivity 104852080647.21446 != total gain 1048576000.000055. Using total_gain.\u001b[0m\n",
      "\u001b[1m2025-04-02T11:57:34.738906-0700 | INFO | mt_metadata.timeseries.filters.channel_response | to_obspy | total sensitivity 104063415757.0512 != total gain 1048576000.000055. Using total_gain.\u001b[0m\n",
      "\u001b[1m2025-04-02T11:57:34.768906-0700 | INFO | mt_metadata.timeseries.filters.channel_response | to_obspy | total sensitivity 104064067310.72034 != total gain 1048576000.000055. Using total_gain.\u001b[0m\n",
      "\u001b[1m2025-04-02T11:57:34.801954-0700 | INFO | mt_metadata.timeseries.filters.channel_response | to_obspy | total sensitivity 104852080647.21446 != total gain 1048576000.000055. Using total_gain.\u001b[0m\n",
      "\u001b[1m2025-04-02T11:57:34.897530-0700 | INFO | mt_metadata.timeseries.filters.channel_response | to_obspy | total sensitivity 104063415757.0512 != total gain 1048576000.000055. Using total_gain.\u001b[0m\n",
      "\u001b[1m2025-04-02T11:57:34.925107-0700 | INFO | mt_metadata.timeseries.filters.channel_response | to_obspy | total sensitivity 104064067310.72034 != total gain 1048576000.000055. Using total_gain.\u001b[0m\n",
      "\u001b[1m2025-04-02T11:57:34.955103-0700 | INFO | mt_metadata.timeseries.filters.channel_response | to_obspy | total sensitivity 104852080647.21446 != total gain 1048576000.000055. Using total_gain.\u001b[0m\n",
      "\u001b[1m2025-04-02T11:57:35.047727-0700 | INFO | mt_metadata.timeseries.filters.channel_response | to_obspy | total sensitivity 104063415757.0512 != total gain 1048576000.000055. Using total_gain.\u001b[0m\n",
      "\u001b[1m2025-04-02T11:57:35.082718-0700 | INFO | mt_metadata.timeseries.filters.channel_response | to_obspy | total sensitivity 104064067310.72034 != total gain 1048576000.000055. Using total_gain.\u001b[0m\n",
      "\u001b[1m2025-04-02T11:57:35.111334-0700 | INFO | mt_metadata.timeseries.filters.channel_response | to_obspy | total sensitivity 104852080647.21446 != total gain 1048576000.000055. Using total_gain.\u001b[0m\n",
      "\u001b[1m2025-04-02T11:57:35.200376-0700 | INFO | mt_metadata.timeseries.filters.channel_response | to_obspy | total sensitivity 104063415757.0512 != total gain 1048576000.000055. Using total_gain.\u001b[0m\n",
      "\u001b[1m2025-04-02T11:57:35.228954-0700 | INFO | mt_metadata.timeseries.filters.channel_response | to_obspy | total sensitivity 104064067310.72034 != total gain 1048576000.000055. Using total_gain.\u001b[0m\n",
      "\u001b[1m2025-04-02T11:57:35.257956-0700 | INFO | mt_metadata.timeseries.filters.channel_response | to_obspy | total sensitivity 104852080647.21446 != total gain 1048576000.000055. Using total_gain.\u001b[0m\n",
      "\u001b[1m2025-04-02T11:57:35.289922-0700 | INFO | mth5.io.conversion | convert_mth5_to_ms_stationxml | Wrote StationXML to c:\\Users\\jpeacock\\OneDrive - DOI\\MTData\\CL2021\\archive\\to_dmc\\cl355.xml\u001b[0m\n",
      "\u001b[33m\u001b[1m2025-04-02T11:57:37.139456-0700 | WARNING | mt_metadata.timeseries.station | remove_run | Could not find cl362a to remove.\u001b[0m\n",
      "\u001b[1m2025-04-02T11:57:40.653837-0700 | INFO | mth5.io.conversion | split_ms_to_days | Wrote miniseed file to: c:\\Users\\jpeacock\\OneDrive - DOI\\MTData\\CL2021\\archive\\to_dmc\\1Z_CL362__LQN_2022_07_10T20_49_58.mseed\u001b[0m\n",
      "\u001b[1m2025-04-02T11:57:40.657834-0700 | INFO | mth5.io.conversion | split_ms_to_days | Wrote miniseed file to: c:\\Users\\jpeacock\\OneDrive - DOI\\MTData\\CL2021\\archive\\to_dmc\\1Z_CL362__LQN_2022_07_11T00_00_00.mseed\u001b[0m\n",
      "\u001b[1m2025-04-02T11:57:40.664834-0700 | INFO | mth5.io.conversion | split_ms_to_days | Wrote miniseed file to: c:\\Users\\jpeacock\\OneDrive - DOI\\MTData\\CL2021\\archive\\to_dmc\\1Z_CL362__LQE_2022_07_10T20_49_58.mseed\u001b[0m\n",
      "\u001b[1m2025-04-02T11:57:40.667836-0700 | INFO | mth5.io.conversion | split_ms_to_days | Wrote miniseed file to: c:\\Users\\jpeacock\\OneDrive - DOI\\MTData\\CL2021\\archive\\to_dmc\\1Z_CL362__LQE_2022_07_11T00_00_00.mseed\u001b[0m\n",
      "\u001b[1m2025-04-02T11:57:40.677842-0700 | INFO | mth5.io.conversion | split_ms_to_days | Wrote miniseed file to: c:\\Users\\jpeacock\\OneDrive - DOI\\MTData\\CL2021\\archive\\to_dmc\\1Z_CL362__LFN_2022_07_10T20_49_58.mseed\u001b[0m\n",
      "\u001b[1m2025-04-02T11:57:40.681834-0700 | INFO | mth5.io.conversion | split_ms_to_days | Wrote miniseed file to: c:\\Users\\jpeacock\\OneDrive - DOI\\MTData\\CL2021\\archive\\to_dmc\\1Z_CL362__LFN_2022_07_11T00_00_00.mseed\u001b[0m\n",
      "\u001b[1m2025-04-02T11:57:40.690835-0700 | INFO | mth5.io.conversion | split_ms_to_days | Wrote miniseed file to: c:\\Users\\jpeacock\\OneDrive - DOI\\MTData\\CL2021\\archive\\to_dmc\\1Z_CL362__LFE_2022_07_10T20_49_58.mseed\u001b[0m\n",
      "\u001b[1m2025-04-02T11:57:40.696839-0700 | INFO | mth5.io.conversion | split_ms_to_days | Wrote miniseed file to: c:\\Users\\jpeacock\\OneDrive - DOI\\MTData\\CL2021\\archive\\to_dmc\\1Z_CL362__LFE_2022_07_11T00_00_00.mseed\u001b[0m\n",
      "\u001b[1m2025-04-02T11:57:40.704847-0700 | INFO | mth5.io.conversion | split_ms_to_days | Wrote miniseed file to: c:\\Users\\jpeacock\\OneDrive - DOI\\MTData\\CL2021\\archive\\to_dmc\\1Z_CL362__LFZ_2022_07_10T20_49_58.mseed\u001b[0m\n",
      "\u001b[1m2025-04-02T11:57:40.708853-0700 | INFO | mth5.io.conversion | split_ms_to_days | Wrote miniseed file to: c:\\Users\\jpeacock\\OneDrive - DOI\\MTData\\CL2021\\archive\\to_dmc\\1Z_CL362__LFZ_2022_07_11T00_00_00.mseed\u001b[0m\n",
      "\u001b[1m2025-04-02T11:57:47.283634-0700 | INFO | mth5.io.conversion | split_ms_to_days | Wrote miniseed file to: c:\\Users\\jpeacock\\OneDrive - DOI\\MTData\\CL2021\\archive\\to_dmc\\1Z_CL362__CQN_2022_07_10T20_49_58.mseed\u001b[0m\n",
      "\u001b[1m2025-04-02T11:57:47.512802-0700 | INFO | mth5.io.conversion | split_ms_to_days | Wrote miniseed file to: c:\\Users\\jpeacock\\OneDrive - DOI\\MTData\\CL2021\\archive\\to_dmc\\1Z_CL362__CQN_2022_07_11T00_00_00.mseed\u001b[0m\n",
      "\u001b[1m2025-04-02T11:57:47.591943-0700 | INFO | mth5.io.conversion | split_ms_to_days | Wrote miniseed file to: c:\\Users\\jpeacock\\OneDrive - DOI\\MTData\\CL2021\\archive\\to_dmc\\1Z_CL362__CQE_2022_07_10T20_49_58.mseed\u001b[0m\n",
      "\u001b[1m2025-04-02T11:57:47.830020-0700 | INFO | mth5.io.conversion | split_ms_to_days | Wrote miniseed file to: c:\\Users\\jpeacock\\OneDrive - DOI\\MTData\\CL2021\\archive\\to_dmc\\1Z_CL362__CQE_2022_07_11T00_00_00.mseed\u001b[0m\n",
      "\u001b[1m2025-04-02T11:57:47.908030-0700 | INFO | mth5.io.conversion | split_ms_to_days | Wrote miniseed file to: c:\\Users\\jpeacock\\OneDrive - DOI\\MTData\\CL2021\\archive\\to_dmc\\1Z_CL362__CFN_2022_07_10T20_49_58.mseed\u001b[0m\n",
      "\u001b[1m2025-04-02T11:57:48.152173-0700 | INFO | mth5.io.conversion | split_ms_to_days | Wrote miniseed file to: c:\\Users\\jpeacock\\OneDrive - DOI\\MTData\\CL2021\\archive\\to_dmc\\1Z_CL362__CFN_2022_07_11T00_00_00.mseed\u001b[0m\n",
      "\u001b[1m2025-04-02T11:57:48.226724-0700 | INFO | mth5.io.conversion | split_ms_to_days | Wrote miniseed file to: c:\\Users\\jpeacock\\OneDrive - DOI\\MTData\\CL2021\\archive\\to_dmc\\1Z_CL362__CFE_2022_07_10T20_49_58.mseed\u001b[0m\n",
      "\u001b[1m2025-04-02T11:57:48.486805-0700 | INFO | mth5.io.conversion | split_ms_to_days | Wrote miniseed file to: c:\\Users\\jpeacock\\OneDrive - DOI\\MTData\\CL2021\\archive\\to_dmc\\1Z_CL362__CFE_2022_07_11T00_00_00.mseed\u001b[0m\n",
      "\u001b[1m2025-04-02T11:57:48.569429-0700 | INFO | mth5.io.conversion | split_ms_to_days | Wrote miniseed file to: c:\\Users\\jpeacock\\OneDrive - DOI\\MTData\\CL2021\\archive\\to_dmc\\1Z_CL362__CFZ_2022_07_10T20_49_58.mseed\u001b[0m\n",
      "\u001b[1m2025-04-02T11:57:48.873011-0700 | INFO | mth5.io.conversion | split_ms_to_days | Wrote miniseed file to: c:\\Users\\jpeacock\\OneDrive - DOI\\MTData\\CL2021\\archive\\to_dmc\\1Z_CL362__CFZ_2022_07_11T00_00_00.mseed\u001b[0m\n",
      "\u001b[1m2025-04-02T11:57:51.962413-0700 | INFO | mth5.timeseries.run_ts | _align_channels | Channels do not have a common end, using latest: 2022-07-11T01:09:41.999268000\u001b[0m\n"
     ]
    },
    {
     "name": "stderr",
     "output_type": "stream",
     "text": [
      "C:\\Users\\jpeacock\\OneDrive - DOI\\Documents\\GitHub\\mth5\\mth5\\timeseries\\channel_ts.py:1524: RuntimeWarning: invalid value encountered in cast\n",
      "  obspy_trace = Trace(self.ts.astype(encoding_dict[encoding]))\n"
     ]
    },
    {
     "name": "stdout",
     "output_type": "stream",
     "text": [
      "\u001b[1m2025-04-02T11:57:54.735996-0700 | INFO | mth5.io.conversion | split_ms_to_days | Wrote miniseed file to: c:\\Users\\jpeacock\\OneDrive - DOI\\MTData\\CL2021\\archive\\to_dmc\\1Z_CL362__FQN_2022_07_11T00_59_58.mseed\u001b[0m\n",
      "\u001b[1m2025-04-02T11:57:54.923629-0700 | INFO | mth5.io.conversion | split_ms_to_days | Wrote miniseed file to: c:\\Users\\jpeacock\\OneDrive - DOI\\MTData\\CL2021\\archive\\to_dmc\\1Z_CL362__FQE_2022_07_11T00_59_58.mseed\u001b[0m\n",
      "\u001b[1m2025-04-02T11:57:55.110798-0700 | INFO | mth5.io.conversion | split_ms_to_days | Wrote miniseed file to: c:\\Users\\jpeacock\\OneDrive - DOI\\MTData\\CL2021\\archive\\to_dmc\\1Z_CL362__FFN_2022_07_11T00_59_58.mseed\u001b[0m\n",
      "\u001b[1m2025-04-02T11:57:55.298919-0700 | INFO | mth5.io.conversion | split_ms_to_days | Wrote miniseed file to: c:\\Users\\jpeacock\\OneDrive - DOI\\MTData\\CL2021\\archive\\to_dmc\\1Z_CL362__FFE_2022_07_11T00_59_58.mseed\u001b[0m\n",
      "\u001b[1m2025-04-02T11:57:55.485161-0700 | INFO | mth5.io.conversion | split_ms_to_days | Wrote miniseed file to: c:\\Users\\jpeacock\\OneDrive - DOI\\MTData\\CL2021\\archive\\to_dmc\\1Z_CL362__FFZ_2022_07_11T00_59_58.mseed\u001b[0m\n",
      "\u001b[1m2025-04-02T11:58:03.626355-0700 | INFO | mth5.io.conversion | split_ms_to_days | Wrote miniseed file to: c:\\Users\\jpeacock\\OneDrive - DOI\\MTData\\CL2021\\archive\\to_dmc\\1Z_CL362__CQN_2022_07_11T01_09_58.mseed\u001b[0m\n",
      "\u001b[1m2025-04-02T11:58:04.126119-0700 | INFO | mth5.io.conversion | split_ms_to_days | Wrote miniseed file to: c:\\Users\\jpeacock\\OneDrive - DOI\\MTData\\CL2021\\archive\\to_dmc\\1Z_CL362__CQE_2022_07_11T01_09_58.mseed\u001b[0m\n",
      "\u001b[1m2025-04-02T11:58:04.566908-0700 | INFO | mth5.io.conversion | split_ms_to_days | Wrote miniseed file to: c:\\Users\\jpeacock\\OneDrive - DOI\\MTData\\CL2021\\archive\\to_dmc\\1Z_CL362__CFN_2022_07_11T01_09_58.mseed\u001b[0m\n",
      "\u001b[1m2025-04-02T11:58:05.027435-0700 | INFO | mth5.io.conversion | split_ms_to_days | Wrote miniseed file to: c:\\Users\\jpeacock\\OneDrive - DOI\\MTData\\CL2021\\archive\\to_dmc\\1Z_CL362__CFE_2022_07_11T01_09_58.mseed\u001b[0m\n",
      "\u001b[1m2025-04-02T11:58:05.497402-0700 | INFO | mth5.io.conversion | split_ms_to_days | Wrote miniseed file to: c:\\Users\\jpeacock\\OneDrive - DOI\\MTData\\CL2021\\archive\\to_dmc\\1Z_CL362__CFZ_2022_07_11T01_09_58.mseed\u001b[0m\n",
      "\u001b[1m2025-04-02T11:58:09.461118-0700 | INFO | mth5.timeseries.run_ts | _align_channels | Channels do not have a common end, using latest: 2022-07-11T07:09:41.999023437\u001b[0m\n",
      "\u001b[33m\u001b[1m2025-04-02T11:58:11.951753-0700 | WARNING | mth5.timeseries.run_ts | validate_metadata | end time of dataset 2022-07-11T07:09:41.998779296+00:00 does not match metadata end 2022-07-11T07:09:41.999023437+00:00 updating metatdata value to 2022-07-11T07:09:41.998779296+00:00\u001b[0m\n"
     ]
    },
    {
     "name": "stderr",
     "output_type": "stream",
     "text": [
      "C:\\Users\\jpeacock\\OneDrive - DOI\\Documents\\GitHub\\mth5\\mth5\\timeseries\\channel_ts.py:1524: RuntimeWarning: invalid value encountered in cast\n",
      "  obspy_trace = Trace(self.ts.astype(encoding_dict[encoding]))\n"
     ]
    },
    {
     "name": "stdout",
     "output_type": "stream",
     "text": [
      "\u001b[1m2025-04-02T11:58:12.707867-0700 | INFO | mth5.io.conversion | split_ms_to_days | Wrote miniseed file to: c:\\Users\\jpeacock\\OneDrive - DOI\\MTData\\CL2021\\archive\\to_dmc\\1Z_CL362__FQN_2022_07_11T06_59_58.mseed\u001b[0m\n",
      "\u001b[1m2025-04-02T11:58:12.896031-0700 | INFO | mth5.io.conversion | split_ms_to_days | Wrote miniseed file to: c:\\Users\\jpeacock\\OneDrive - DOI\\MTData\\CL2021\\archive\\to_dmc\\1Z_CL362__FQE_2022_07_11T06_59_58.mseed\u001b[0m\n",
      "\u001b[1m2025-04-02T11:58:13.090209-0700 | INFO | mth5.io.conversion | split_ms_to_days | Wrote miniseed file to: c:\\Users\\jpeacock\\OneDrive - DOI\\MTData\\CL2021\\archive\\to_dmc\\1Z_CL362__FFN_2022_07_11T06_59_58.mseed\u001b[0m\n",
      "\u001b[1m2025-04-02T11:58:13.281304-0700 | INFO | mth5.io.conversion | split_ms_to_days | Wrote miniseed file to: c:\\Users\\jpeacock\\OneDrive - DOI\\MTData\\CL2021\\archive\\to_dmc\\1Z_CL362__FFE_2022_07_11T06_59_58.mseed\u001b[0m\n",
      "\u001b[1m2025-04-02T11:58:13.485122-0700 | INFO | mth5.io.conversion | split_ms_to_days | Wrote miniseed file to: c:\\Users\\jpeacock\\OneDrive - DOI\\MTData\\CL2021\\archive\\to_dmc\\1Z_CL362__FFZ_2022_07_11T06_59_58.mseed\u001b[0m\n",
      "\u001b[1m2025-04-02T11:58:21.450601-0700 | INFO | mth5.io.conversion | split_ms_to_days | Wrote miniseed file to: c:\\Users\\jpeacock\\OneDrive - DOI\\MTData\\CL2021\\archive\\to_dmc\\1Z_CL362__CQN_2022_07_11T07_09_58.mseed\u001b[0m\n",
      "\u001b[1m2025-04-02T11:58:21.877069-0700 | INFO | mth5.io.conversion | split_ms_to_days | Wrote miniseed file to: c:\\Users\\jpeacock\\OneDrive - DOI\\MTData\\CL2021\\archive\\to_dmc\\1Z_CL362__CQE_2022_07_11T07_09_58.mseed\u001b[0m\n",
      "\u001b[1m2025-04-02T11:58:22.297056-0700 | INFO | mth5.io.conversion | split_ms_to_days | Wrote miniseed file to: c:\\Users\\jpeacock\\OneDrive - DOI\\MTData\\CL2021\\archive\\to_dmc\\1Z_CL362__CFN_2022_07_11T07_09_58.mseed\u001b[0m\n",
      "\u001b[1m2025-04-02T11:58:22.763895-0700 | INFO | mth5.io.conversion | split_ms_to_days | Wrote miniseed file to: c:\\Users\\jpeacock\\OneDrive - DOI\\MTData\\CL2021\\archive\\to_dmc\\1Z_CL362__CFE_2022_07_11T07_09_58.mseed\u001b[0m\n",
      "\u001b[1m2025-04-02T11:58:23.217990-0700 | INFO | mth5.io.conversion | split_ms_to_days | Wrote miniseed file to: c:\\Users\\jpeacock\\OneDrive - DOI\\MTData\\CL2021\\archive\\to_dmc\\1Z_CL362__CFZ_2022_07_11T07_09_58.mseed\u001b[0m\n",
      "\u001b[1m2025-04-02T11:58:28.094507-0700 | INFO | mth5.timeseries.run_ts | _align_channels | Channels do not have a common end, using latest: 2022-07-11T13:09:41.997803000\u001b[0m\n"
     ]
    },
    {
     "name": "stderr",
     "output_type": "stream",
     "text": [
      "C:\\Users\\jpeacock\\OneDrive - DOI\\Documents\\GitHub\\mth5\\mth5\\timeseries\\channel_ts.py:1524: RuntimeWarning: invalid value encountered in cast\n",
      "  obspy_trace = Trace(self.ts.astype(encoding_dict[encoding]))\n"
     ]
    },
    {
     "name": "stdout",
     "output_type": "stream",
     "text": [
      "\u001b[1m2025-04-02T11:58:30.907297-0700 | INFO | mth5.io.conversion | split_ms_to_days | Wrote miniseed file to: c:\\Users\\jpeacock\\OneDrive - DOI\\MTData\\CL2021\\archive\\to_dmc\\1Z_CL362__FQN_2022_07_11T12_59_58.mseed\u001b[0m\n",
      "\u001b[1m2025-04-02T11:58:31.134196-0700 | INFO | mth5.io.conversion | split_ms_to_days | Wrote miniseed file to: c:\\Users\\jpeacock\\OneDrive - DOI\\MTData\\CL2021\\archive\\to_dmc\\1Z_CL362__FQE_2022_07_11T12_59_58.mseed\u001b[0m\n",
      "\u001b[1m2025-04-02T11:58:31.343953-0700 | INFO | mth5.io.conversion | split_ms_to_days | Wrote miniseed file to: c:\\Users\\jpeacock\\OneDrive - DOI\\MTData\\CL2021\\archive\\to_dmc\\1Z_CL362__FFN_2022_07_11T12_59_58.mseed\u001b[0m\n",
      "\u001b[1m2025-04-02T11:58:31.547487-0700 | INFO | mth5.io.conversion | split_ms_to_days | Wrote miniseed file to: c:\\Users\\jpeacock\\OneDrive - DOI\\MTData\\CL2021\\archive\\to_dmc\\1Z_CL362__FFE_2022_07_11T12_59_58.mseed\u001b[0m\n",
      "\u001b[1m2025-04-02T11:58:31.743661-0700 | INFO | mth5.io.conversion | split_ms_to_days | Wrote miniseed file to: c:\\Users\\jpeacock\\OneDrive - DOI\\MTData\\CL2021\\archive\\to_dmc\\1Z_CL362__FFZ_2022_07_11T12_59_58.mseed\u001b[0m\n",
      "\u001b[1m2025-04-02T11:58:37.635022-0700 | INFO | mth5.io.conversion | split_ms_to_days | Wrote miniseed file to: c:\\Users\\jpeacock\\OneDrive - DOI\\MTData\\CL2021\\archive\\to_dmc\\1Z_CL362__CQN_2022_07_11T13_09_58.mseed\u001b[0m\n",
      "\u001b[1m2025-04-02T11:58:37.824049-0700 | INFO | mth5.io.conversion | split_ms_to_days | Wrote miniseed file to: c:\\Users\\jpeacock\\OneDrive - DOI\\MTData\\CL2021\\archive\\to_dmc\\1Z_CL362__CQE_2022_07_11T13_09_58.mseed\u001b[0m\n",
      "\u001b[1m2025-04-02T11:58:38.023087-0700 | INFO | mth5.io.conversion | split_ms_to_days | Wrote miniseed file to: c:\\Users\\jpeacock\\OneDrive - DOI\\MTData\\CL2021\\archive\\to_dmc\\1Z_CL362__CFN_2022_07_11T13_09_58.mseed\u001b[0m\n",
      "\u001b[1m2025-04-02T11:58:38.195115-0700 | INFO | mth5.io.conversion | split_ms_to_days | Wrote miniseed file to: c:\\Users\\jpeacock\\OneDrive - DOI\\MTData\\CL2021\\archive\\to_dmc\\1Z_CL362__CFE_2022_07_11T13_09_58.mseed\u001b[0m\n",
      "\u001b[1m2025-04-02T11:58:38.370166-0700 | INFO | mth5.io.conversion | split_ms_to_days | Wrote miniseed file to: c:\\Users\\jpeacock\\OneDrive - DOI\\MTData\\CL2021\\archive\\to_dmc\\1Z_CL362__CFZ_2022_07_11T13_09_58.mseed\u001b[0m\n",
      "\u001b[1m2025-04-02T11:58:39.496949-0700 | INFO | mth5.mth5 | close_mth5 | Flushing and closing c:\\Users\\jpeacock\\OneDrive - DOI\\MTData\\CL2021\\archive\\cl362.h5\u001b[0m\n",
      "\u001b[33m\u001b[1m2025-04-02T11:58:39.502953-0700 | WARNING | mt_metadata.timeseries.stationxml.xml_station_mt_station | mt_to_xml | Station.geographic_name is None, using Station.id = cl362.Check StationXML site.name.\u001b[0m\n",
      "\u001b[1m2025-04-02T11:58:39.628473-0700 | INFO | mt_metadata.timeseries.filters.channel_response | to_obspy | total sensitivity 105384854631.2247 != total gain 1048576000.000055. Using total_gain.\u001b[0m\n",
      "\u001b[1m2025-04-02T11:58:39.690998-0700 | INFO | mt_metadata.timeseries.filters.channel_response | to_obspy | total sensitivity 105012851743.1351 != total gain 1048576000.000055. Using total_gain.\u001b[0m\n",
      "\u001b[1m2025-04-02T11:58:39.736000-0700 | INFO | mt_metadata.timeseries.filters.channel_response | to_obspy | total sensitivity 104693940307.89154 != total gain 1048576000.000055. Using total_gain.\u001b[0m\n",
      "\u001b[1m2025-04-02T11:58:39.857534-0700 | INFO | mt_metadata.timeseries.filters.channel_response | to_obspy | total sensitivity 105384854631.2247 != total gain 1048576000.000055. Using total_gain.\u001b[0m\n",
      "\u001b[1m2025-04-02T11:58:39.897040-0700 | INFO | mt_metadata.timeseries.filters.channel_response | to_obspy | total sensitivity 105012851743.1351 != total gain 1048576000.000055. Using total_gain.\u001b[0m\n",
      "\u001b[1m2025-04-02T11:58:39.936042-0700 | INFO | mt_metadata.timeseries.filters.channel_response | to_obspy | total sensitivity 104693940307.89154 != total gain 1048576000.000055. Using total_gain.\u001b[0m\n",
      "\u001b[1m2025-04-02T11:58:40.032561-0700 | INFO | mt_metadata.timeseries.filters.channel_response | to_obspy | total sensitivity 105384854631.2247 != total gain 1048576000.000055. Using total_gain.\u001b[0m\n",
      "\u001b[1m2025-04-02T11:58:40.084089-0700 | INFO | mt_metadata.timeseries.filters.channel_response | to_obspy | total sensitivity 105012851743.1351 != total gain 1048576000.000055. Using total_gain.\u001b[0m\n",
      "\u001b[1m2025-04-02T11:58:40.135088-0700 | INFO | mt_metadata.timeseries.filters.channel_response | to_obspy | total sensitivity 104693940307.89154 != total gain 1048576000.000055. Using total_gain.\u001b[0m\n",
      "\u001b[1m2025-04-02T11:58:40.262124-0700 | INFO | mt_metadata.timeseries.filters.channel_response | to_obspy | total sensitivity 105384854631.2247 != total gain 1048576000.000055. Using total_gain.\u001b[0m\n",
      "\u001b[1m2025-04-02T11:58:40.299130-0700 | INFO | mt_metadata.timeseries.filters.channel_response | to_obspy | total sensitivity 105012851743.1351 != total gain 1048576000.000055. Using total_gain.\u001b[0m\n",
      "\u001b[1m2025-04-02T11:58:40.341131-0700 | INFO | mt_metadata.timeseries.filters.channel_response | to_obspy | total sensitivity 104693940307.89154 != total gain 1048576000.000055. Using total_gain.\u001b[0m\n",
      "\u001b[1m2025-04-02T11:58:40.453659-0700 | INFO | mt_metadata.timeseries.filters.channel_response | to_obspy | total sensitivity 105384854631.2247 != total gain 1048576000.000055. Using total_gain.\u001b[0m\n",
      "\u001b[1m2025-04-02T11:58:40.483166-0700 | INFO | mt_metadata.timeseries.filters.channel_response | to_obspy | total sensitivity 105012851743.1351 != total gain 1048576000.000055. Using total_gain.\u001b[0m\n",
      "\u001b[1m2025-04-02T11:58:40.519169-0700 | INFO | mt_metadata.timeseries.filters.channel_response | to_obspy | total sensitivity 104693940307.89154 != total gain 1048576000.000055. Using total_gain.\u001b[0m\n",
      "\u001b[1m2025-04-02T11:58:40.636686-0700 | INFO | mt_metadata.timeseries.filters.channel_response | to_obspy | total sensitivity 105384854631.2247 != total gain 1048576000.000055. Using total_gain.\u001b[0m\n",
      "\u001b[1m2025-04-02T11:58:40.676202-0700 | INFO | mt_metadata.timeseries.filters.channel_response | to_obspy | total sensitivity 105012851743.1351 != total gain 1048576000.000055. Using total_gain.\u001b[0m\n",
      "\u001b[1m2025-04-02T11:58:40.712202-0700 | INFO | mt_metadata.timeseries.filters.channel_response | to_obspy | total sensitivity 104693940307.89154 != total gain 1048576000.000055. Using total_gain.\u001b[0m\n",
      "\u001b[1m2025-04-02T11:58:40.822732-0700 | INFO | mt_metadata.timeseries.filters.channel_response | to_obspy | total sensitivity 105384854631.2247 != total gain 1048576000.000055. Using total_gain.\u001b[0m\n",
      "\u001b[1m2025-04-02T11:58:40.855740-0700 | INFO | mt_metadata.timeseries.filters.channel_response | to_obspy | total sensitivity 105012851743.1351 != total gain 1048576000.000055. Using total_gain.\u001b[0m\n",
      "\u001b[1m2025-04-02T11:58:40.889021-0700 | INFO | mt_metadata.timeseries.filters.channel_response | to_obspy | total sensitivity 104693940307.89154 != total gain 1048576000.000055. Using total_gain.\u001b[0m\n",
      "\u001b[1m2025-04-02T11:58:41.031515-0700 | INFO | mt_metadata.timeseries.filters.channel_response | to_obspy | total sensitivity 105384854631.2247 != total gain 1048576000.000055. Using total_gain.\u001b[0m\n",
      "\u001b[1m2025-04-02T11:58:41.066052-0700 | INFO | mt_metadata.timeseries.filters.channel_response | to_obspy | total sensitivity 105012851743.1351 != total gain 1048576000.000055. Using total_gain.\u001b[0m\n",
      "\u001b[1m2025-04-02T11:58:41.098049-0700 | INFO | mt_metadata.timeseries.filters.channel_response | to_obspy | total sensitivity 104693940307.89154 != total gain 1048576000.000055. Using total_gain.\u001b[0m\n",
      "\u001b[1m2025-04-02T11:58:41.153068-0700 | INFO | mth5.io.conversion | convert_mth5_to_ms_stationxml | Wrote StationXML to c:\\Users\\jpeacock\\OneDrive - DOI\\MTData\\CL2021\\archive\\to_dmc\\cl362.xml\u001b[0m\n",
      "\u001b[33m\u001b[1m2025-04-02T11:58:43.538990-0700 | WARNING | mt_metadata.timeseries.station | remove_run | Could not find cl381a to remove.\u001b[0m\n",
      "\u001b[1m2025-04-02T11:58:47.183385-0700 | INFO | mth5.io.conversion | split_ms_to_days | Wrote miniseed file to: c:\\Users\\jpeacock\\OneDrive - DOI\\MTData\\CL2021\\archive\\to_dmc\\1Z_CL381__LQN_2022_07_09T19_14_58.mseed\u001b[0m\n",
      "\u001b[1m2025-04-02T11:58:47.187386-0700 | INFO | mth5.io.conversion | split_ms_to_days | Wrote miniseed file to: c:\\Users\\jpeacock\\OneDrive - DOI\\MTData\\CL2021\\archive\\to_dmc\\1Z_CL381__LQN_2022_07_10T00_00_00.mseed\u001b[0m\n",
      "\u001b[1m2025-04-02T11:58:47.199100-0700 | INFO | mth5.io.conversion | split_ms_to_days | Wrote miniseed file to: c:\\Users\\jpeacock\\OneDrive - DOI\\MTData\\CL2021\\archive\\to_dmc\\1Z_CL381__LQE_2022_07_09T19_14_58.mseed\u001b[0m\n",
      "\u001b[1m2025-04-02T11:58:47.202101-0700 | INFO | mth5.io.conversion | split_ms_to_days | Wrote miniseed file to: c:\\Users\\jpeacock\\OneDrive - DOI\\MTData\\CL2021\\archive\\to_dmc\\1Z_CL381__LQE_2022_07_10T00_00_00.mseed\u001b[0m\n",
      "\u001b[1m2025-04-02T11:58:47.210099-0700 | INFO | mth5.io.conversion | split_ms_to_days | Wrote miniseed file to: c:\\Users\\jpeacock\\OneDrive - DOI\\MTData\\CL2021\\archive\\to_dmc\\1Z_CL381__LFN_2022_07_09T19_14_58.mseed\u001b[0m\n",
      "\u001b[1m2025-04-02T11:58:47.214097-0700 | INFO | mth5.io.conversion | split_ms_to_days | Wrote miniseed file to: c:\\Users\\jpeacock\\OneDrive - DOI\\MTData\\CL2021\\archive\\to_dmc\\1Z_CL381__LFN_2022_07_10T00_00_00.mseed\u001b[0m\n",
      "\u001b[1m2025-04-02T11:58:47.223101-0700 | INFO | mth5.io.conversion | split_ms_to_days | Wrote miniseed file to: c:\\Users\\jpeacock\\OneDrive - DOI\\MTData\\CL2021\\archive\\to_dmc\\1Z_CL381__LFE_2022_07_09T19_14_58.mseed\u001b[0m\n",
      "\u001b[1m2025-04-02T11:58:47.227098-0700 | INFO | mth5.io.conversion | split_ms_to_days | Wrote miniseed file to: c:\\Users\\jpeacock\\OneDrive - DOI\\MTData\\CL2021\\archive\\to_dmc\\1Z_CL381__LFE_2022_07_10T00_00_00.mseed\u001b[0m\n",
      "\u001b[1m2025-04-02T11:58:47.236098-0700 | INFO | mth5.io.conversion | split_ms_to_days | Wrote miniseed file to: c:\\Users\\jpeacock\\OneDrive - DOI\\MTData\\CL2021\\archive\\to_dmc\\1Z_CL381__LFZ_2022_07_09T19_14_58.mseed\u001b[0m\n",
      "\u001b[1m2025-04-02T11:58:47.240097-0700 | INFO | mth5.io.conversion | split_ms_to_days | Wrote miniseed file to: c:\\Users\\jpeacock\\OneDrive - DOI\\MTData\\CL2021\\archive\\to_dmc\\1Z_CL381__LFZ_2022_07_10T00_00_00.mseed\u001b[0m\n",
      "\u001b[1m2025-04-02T11:58:54.571334-0700 | INFO | mth5.io.conversion | split_ms_to_days | Wrote miniseed file to: c:\\Users\\jpeacock\\OneDrive - DOI\\MTData\\CL2021\\archive\\to_dmc\\1Z_CL381__CQN_2022_07_09T19_14_58.mseed\u001b[0m\n",
      "\u001b[1m2025-04-02T11:58:54.909728-0700 | INFO | mth5.io.conversion | split_ms_to_days | Wrote miniseed file to: c:\\Users\\jpeacock\\OneDrive - DOI\\MTData\\CL2021\\archive\\to_dmc\\1Z_CL381__CQN_2022_07_10T00_00_00.mseed\u001b[0m\n",
      "\u001b[1m2025-04-02T11:58:54.988276-0700 | INFO | mth5.io.conversion | split_ms_to_days | Wrote miniseed file to: c:\\Users\\jpeacock\\OneDrive - DOI\\MTData\\CL2021\\archive\\to_dmc\\1Z_CL381__CQE_2022_07_09T19_14_58.mseed\u001b[0m\n",
      "\u001b[1m2025-04-02T11:58:55.351150-0700 | INFO | mth5.io.conversion | split_ms_to_days | Wrote miniseed file to: c:\\Users\\jpeacock\\OneDrive - DOI\\MTData\\CL2021\\archive\\to_dmc\\1Z_CL381__CQE_2022_07_10T00_00_00.mseed\u001b[0m\n",
      "\u001b[1m2025-04-02T11:58:55.423742-0700 | INFO | mth5.io.conversion | split_ms_to_days | Wrote miniseed file to: c:\\Users\\jpeacock\\OneDrive - DOI\\MTData\\CL2021\\archive\\to_dmc\\1Z_CL381__CFN_2022_07_09T19_14_58.mseed\u001b[0m\n",
      "\u001b[1m2025-04-02T11:58:55.790985-0700 | INFO | mth5.io.conversion | split_ms_to_days | Wrote miniseed file to: c:\\Users\\jpeacock\\OneDrive - DOI\\MTData\\CL2021\\archive\\to_dmc\\1Z_CL381__CFN_2022_07_10T00_00_00.mseed\u001b[0m\n",
      "\u001b[1m2025-04-02T11:58:55.868992-0700 | INFO | mth5.io.conversion | split_ms_to_days | Wrote miniseed file to: c:\\Users\\jpeacock\\OneDrive - DOI\\MTData\\CL2021\\archive\\to_dmc\\1Z_CL381__CFE_2022_07_09T19_14_58.mseed\u001b[0m\n",
      "\u001b[1m2025-04-02T11:58:56.229162-0700 | INFO | mth5.io.conversion | split_ms_to_days | Wrote miniseed file to: c:\\Users\\jpeacock\\OneDrive - DOI\\MTData\\CL2021\\archive\\to_dmc\\1Z_CL381__CFE_2022_07_10T00_00_00.mseed\u001b[0m\n",
      "\u001b[1m2025-04-02T11:58:56.303284-0700 | INFO | mth5.io.conversion | split_ms_to_days | Wrote miniseed file to: c:\\Users\\jpeacock\\OneDrive - DOI\\MTData\\CL2021\\archive\\to_dmc\\1Z_CL381__CFZ_2022_07_09T19_14_58.mseed\u001b[0m\n",
      "\u001b[1m2025-04-02T11:58:56.670334-0700 | INFO | mth5.io.conversion | split_ms_to_days | Wrote miniseed file to: c:\\Users\\jpeacock\\OneDrive - DOI\\MTData\\CL2021\\archive\\to_dmc\\1Z_CL381__CFZ_2022_07_10T00_00_00.mseed\u001b[0m\n",
      "\u001b[1m2025-04-02T11:59:00.145976-0700 | INFO | mth5.timeseries.run_ts | _align_channels | Channels do not have a common end, using latest: 2022-07-10T01:09:41.999512000\u001b[0m\n"
     ]
    },
    {
     "name": "stderr",
     "output_type": "stream",
     "text": [
      "C:\\Users\\jpeacock\\OneDrive - DOI\\Documents\\GitHub\\mth5\\mth5\\timeseries\\channel_ts.py:1524: RuntimeWarning: invalid value encountered in cast\n",
      "  obspy_trace = Trace(self.ts.astype(encoding_dict[encoding]))\n"
     ]
    },
    {
     "name": "stdout",
     "output_type": "stream",
     "text": [
      "\u001b[1m2025-04-02T11:59:03.145950-0700 | INFO | mth5.io.conversion | split_ms_to_days | Wrote miniseed file to: c:\\Users\\jpeacock\\OneDrive - DOI\\MTData\\CL2021\\archive\\to_dmc\\1Z_CL381__FQN_2022_07_10T00_59_58.mseed\u001b[0m\n",
      "\u001b[1m2025-04-02T11:59:03.337133-0700 | INFO | mth5.io.conversion | split_ms_to_days | Wrote miniseed file to: c:\\Users\\jpeacock\\OneDrive - DOI\\MTData\\CL2021\\archive\\to_dmc\\1Z_CL381__FQE_2022_07_10T00_59_58.mseed\u001b[0m\n",
      "\u001b[1m2025-04-02T11:59:03.544822-0700 | INFO | mth5.io.conversion | split_ms_to_days | Wrote miniseed file to: c:\\Users\\jpeacock\\OneDrive - DOI\\MTData\\CL2021\\archive\\to_dmc\\1Z_CL381__FFN_2022_07_10T00_59_58.mseed\u001b[0m\n",
      "\u001b[1m2025-04-02T11:59:03.746024-0700 | INFO | mth5.io.conversion | split_ms_to_days | Wrote miniseed file to: c:\\Users\\jpeacock\\OneDrive - DOI\\MTData\\CL2021\\archive\\to_dmc\\1Z_CL381__FFE_2022_07_10T00_59_58.mseed\u001b[0m\n",
      "\u001b[1m2025-04-02T11:59:03.941856-0700 | INFO | mth5.io.conversion | split_ms_to_days | Wrote miniseed file to: c:\\Users\\jpeacock\\OneDrive - DOI\\MTData\\CL2021\\archive\\to_dmc\\1Z_CL381__FFZ_2022_07_10T00_59_58.mseed\u001b[0m\n",
      "\u001b[1m2025-04-02T11:59:11.505987-0700 | INFO | mth5.io.conversion | split_ms_to_days | Wrote miniseed file to: c:\\Users\\jpeacock\\OneDrive - DOI\\MTData\\CL2021\\archive\\to_dmc\\1Z_CL381__CQN_2022_07_10T01_09_58.mseed\u001b[0m\n",
      "\u001b[1m2025-04-02T11:59:11.965904-0700 | INFO | mth5.io.conversion | split_ms_to_days | Wrote miniseed file to: c:\\Users\\jpeacock\\OneDrive - DOI\\MTData\\CL2021\\archive\\to_dmc\\1Z_CL381__CQE_2022_07_10T01_09_58.mseed\u001b[0m\n",
      "\u001b[1m2025-04-02T11:59:12.417874-0700 | INFO | mth5.io.conversion | split_ms_to_days | Wrote miniseed file to: c:\\Users\\jpeacock\\OneDrive - DOI\\MTData\\CL2021\\archive\\to_dmc\\1Z_CL381__CFN_2022_07_10T01_09_58.mseed\u001b[0m\n",
      "\u001b[1m2025-04-02T11:59:12.862046-0700 | INFO | mth5.io.conversion | split_ms_to_days | Wrote miniseed file to: c:\\Users\\jpeacock\\OneDrive - DOI\\MTData\\CL2021\\archive\\to_dmc\\1Z_CL381__CFE_2022_07_10T01_09_58.mseed\u001b[0m\n",
      "\u001b[1m2025-04-02T11:59:13.312082-0700 | INFO | mth5.io.conversion | split_ms_to_days | Wrote miniseed file to: c:\\Users\\jpeacock\\OneDrive - DOI\\MTData\\CL2021\\archive\\to_dmc\\1Z_CL381__CFZ_2022_07_10T01_09_58.mseed\u001b[0m\n",
      "\u001b[1m2025-04-02T11:59:17.446310-0700 | INFO | mth5.timeseries.run_ts | _align_channels | Channels do not have a common end, using latest: 2022-07-10T07:09:41.998047000\u001b[0m\n"
     ]
    },
    {
     "name": "stderr",
     "output_type": "stream",
     "text": [
      "C:\\Users\\jpeacock\\OneDrive - DOI\\Documents\\GitHub\\mth5\\mth5\\timeseries\\channel_ts.py:1524: RuntimeWarning: invalid value encountered in cast\n",
      "  obspy_trace = Trace(self.ts.astype(encoding_dict[encoding]))\n"
     ]
    },
    {
     "name": "stdout",
     "output_type": "stream",
     "text": [
      "\u001b[1m2025-04-02T11:59:20.429881-0700 | INFO | mth5.io.conversion | split_ms_to_days | Wrote miniseed file to: c:\\Users\\jpeacock\\OneDrive - DOI\\MTData\\CL2021\\archive\\to_dmc\\1Z_CL381__FQN_2022_07_10T06_59_58.mseed\u001b[0m\n",
      "\u001b[1m2025-04-02T11:59:20.619984-0700 | INFO | mth5.io.conversion | split_ms_to_days | Wrote miniseed file to: c:\\Users\\jpeacock\\OneDrive - DOI\\MTData\\CL2021\\archive\\to_dmc\\1Z_CL381__FQE_2022_07_10T06_59_58.mseed\u001b[0m\n",
      "\u001b[1m2025-04-02T11:59:20.813034-0700 | INFO | mth5.io.conversion | split_ms_to_days | Wrote miniseed file to: c:\\Users\\jpeacock\\OneDrive - DOI\\MTData\\CL2021\\archive\\to_dmc\\1Z_CL381__FFN_2022_07_10T06_59_58.mseed\u001b[0m\n",
      "\u001b[1m2025-04-02T11:59:21.005287-0700 | INFO | mth5.io.conversion | split_ms_to_days | Wrote miniseed file to: c:\\Users\\jpeacock\\OneDrive - DOI\\MTData\\CL2021\\archive\\to_dmc\\1Z_CL381__FFE_2022_07_10T06_59_58.mseed\u001b[0m\n",
      "\u001b[1m2025-04-02T11:59:21.205300-0700 | INFO | mth5.io.conversion | split_ms_to_days | Wrote miniseed file to: c:\\Users\\jpeacock\\OneDrive - DOI\\MTData\\CL2021\\archive\\to_dmc\\1Z_CL381__FFZ_2022_07_10T06_59_58.mseed\u001b[0m\n",
      "\u001b[1m2025-04-02T11:59:29.301709-0700 | INFO | mth5.io.conversion | split_ms_to_days | Wrote miniseed file to: c:\\Users\\jpeacock\\OneDrive - DOI\\MTData\\CL2021\\archive\\to_dmc\\1Z_CL381__CQN_2022_07_10T07_09_58.mseed\u001b[0m\n",
      "\u001b[1m2025-04-02T11:59:29.723535-0700 | INFO | mth5.io.conversion | split_ms_to_days | Wrote miniseed file to: c:\\Users\\jpeacock\\OneDrive - DOI\\MTData\\CL2021\\archive\\to_dmc\\1Z_CL381__CQE_2022_07_10T07_09_58.mseed\u001b[0m\n",
      "\u001b[1m2025-04-02T11:59:30.149685-0700 | INFO | mth5.io.conversion | split_ms_to_days | Wrote miniseed file to: c:\\Users\\jpeacock\\OneDrive - DOI\\MTData\\CL2021\\archive\\to_dmc\\1Z_CL381__CFN_2022_07_10T07_09_58.mseed\u001b[0m\n",
      "\u001b[1m2025-04-02T11:59:30.603827-0700 | INFO | mth5.io.conversion | split_ms_to_days | Wrote miniseed file to: c:\\Users\\jpeacock\\OneDrive - DOI\\MTData\\CL2021\\archive\\to_dmc\\1Z_CL381__CFE_2022_07_10T07_09_58.mseed\u001b[0m\n",
      "\u001b[1m2025-04-02T11:59:31.055088-0700 | INFO | mth5.io.conversion | split_ms_to_days | Wrote miniseed file to: c:\\Users\\jpeacock\\OneDrive - DOI\\MTData\\CL2021\\archive\\to_dmc\\1Z_CL381__CFZ_2022_07_10T07_09_58.mseed\u001b[0m\n",
      "\u001b[1m2025-04-02T11:59:35.021855-0700 | INFO | mth5.timeseries.run_ts | _align_channels | Channels do not have a common end, using latest: 2022-07-10T13:09:41.999268000\u001b[0m\n"
     ]
    },
    {
     "name": "stderr",
     "output_type": "stream",
     "text": [
      "C:\\Users\\jpeacock\\OneDrive - DOI\\Documents\\GitHub\\mth5\\mth5\\timeseries\\channel_ts.py:1524: RuntimeWarning: invalid value encountered in cast\n",
      "  obspy_trace = Trace(self.ts.astype(encoding_dict[encoding]))\n"
     ]
    },
    {
     "name": "stdout",
     "output_type": "stream",
     "text": [
      "\u001b[1m2025-04-02T11:59:38.002014-0700 | INFO | mth5.io.conversion | split_ms_to_days | Wrote miniseed file to: c:\\Users\\jpeacock\\OneDrive - DOI\\MTData\\CL2021\\archive\\to_dmc\\1Z_CL381__FQN_2022_07_10T12_59_58.mseed\u001b[0m\n",
      "\u001b[1m2025-04-02T11:59:38.195117-0700 | INFO | mth5.io.conversion | split_ms_to_days | Wrote miniseed file to: c:\\Users\\jpeacock\\OneDrive - DOI\\MTData\\CL2021\\archive\\to_dmc\\1Z_CL381__FQE_2022_07_10T12_59_58.mseed\u001b[0m\n",
      "\u001b[1m2025-04-02T11:59:38.381387-0700 | INFO | mth5.io.conversion | split_ms_to_days | Wrote miniseed file to: c:\\Users\\jpeacock\\OneDrive - DOI\\MTData\\CL2021\\archive\\to_dmc\\1Z_CL381__FFN_2022_07_10T12_59_58.mseed\u001b[0m\n",
      "\u001b[1m2025-04-02T11:59:38.570436-0700 | INFO | mth5.io.conversion | split_ms_to_days | Wrote miniseed file to: c:\\Users\\jpeacock\\OneDrive - DOI\\MTData\\CL2021\\archive\\to_dmc\\1Z_CL381__FFE_2022_07_10T12_59_58.mseed\u001b[0m\n",
      "\u001b[1m2025-04-02T11:59:38.770711-0700 | INFO | mth5.io.conversion | split_ms_to_days | Wrote miniseed file to: c:\\Users\\jpeacock\\OneDrive - DOI\\MTData\\CL2021\\archive\\to_dmc\\1Z_CL381__FFZ_2022_07_10T12_59_58.mseed\u001b[0m\n",
      "\u001b[1m2025-04-02T11:59:44.007705-0700 | INFO | mth5.io.conversion | split_ms_to_days | Wrote miniseed file to: c:\\Users\\jpeacock\\OneDrive - DOI\\MTData\\CL2021\\archive\\to_dmc\\1Z_CL381__CQN_2022_07_10T13_09_58.mseed\u001b[0m\n",
      "\u001b[1m2025-04-02T11:59:44.170151-0700 | INFO | mth5.io.conversion | split_ms_to_days | Wrote miniseed file to: c:\\Users\\jpeacock\\OneDrive - DOI\\MTData\\CL2021\\archive\\to_dmc\\1Z_CL381__CQE_2022_07_10T13_09_58.mseed\u001b[0m\n",
      "\u001b[1m2025-04-02T11:59:44.336803-0700 | INFO | mth5.io.conversion | split_ms_to_days | Wrote miniseed file to: c:\\Users\\jpeacock\\OneDrive - DOI\\MTData\\CL2021\\archive\\to_dmc\\1Z_CL381__CFN_2022_07_10T13_09_58.mseed\u001b[0m\n",
      "\u001b[1m2025-04-02T11:59:44.508441-0700 | INFO | mth5.io.conversion | split_ms_to_days | Wrote miniseed file to: c:\\Users\\jpeacock\\OneDrive - DOI\\MTData\\CL2021\\archive\\to_dmc\\1Z_CL381__CFE_2022_07_10T13_09_58.mseed\u001b[0m\n",
      "\u001b[1m2025-04-02T11:59:44.734596-0700 | INFO | mth5.io.conversion | split_ms_to_days | Wrote miniseed file to: c:\\Users\\jpeacock\\OneDrive - DOI\\MTData\\CL2021\\archive\\to_dmc\\1Z_CL381__CFZ_2022_07_10T13_09_58.mseed\u001b[0m\n",
      "\u001b[1m2025-04-02T11:59:46.235092-0700 | INFO | mth5.mth5 | close_mth5 | Flushing and closing c:\\Users\\jpeacock\\OneDrive - DOI\\MTData\\CL2021\\archive\\cl381.h5\u001b[0m\n",
      "\u001b[33m\u001b[1m2025-04-02T11:59:46.239093-0700 | WARNING | mt_metadata.timeseries.stationxml.xml_station_mt_station | mt_to_xml | Station.geographic_name is None, using Station.id = cl381.Check StationXML site.name.\u001b[0m\n",
      "\u001b[1m2025-04-02T11:59:46.315172-0700 | INFO | mt_metadata.timeseries.filters.channel_response | to_obspy | total sensitivity 104957842879.94406 != total gain 1048576000.000055. Using total_gain.\u001b[0m\n",
      "\u001b[1m2025-04-02T11:59:46.346672-0700 | INFO | mt_metadata.timeseries.filters.channel_response | to_obspy | total sensitivity 99528330172.17546 != total gain 1048576000.000055. Using total_gain.\u001b[0m\n",
      "\u001b[1m2025-04-02T11:59:46.375639-0700 | INFO | mt_metadata.timeseries.filters.channel_response | to_obspy | total sensitivity 104398743147.64836 != total gain 1048576000.000055. Using total_gain.\u001b[0m\n",
      "\u001b[1m2025-04-02T11:59:46.477164-0700 | INFO | mt_metadata.timeseries.filters.channel_response | to_obspy | total sensitivity 104957842879.94406 != total gain 1048576000.000055. Using total_gain.\u001b[0m\n",
      "\u001b[1m2025-04-02T11:59:46.512173-0700 | INFO | mt_metadata.timeseries.filters.channel_response | to_obspy | total sensitivity 99528330172.17546 != total gain 1048576000.000055. Using total_gain.\u001b[0m\n",
      "\u001b[1m2025-04-02T11:59:46.544286-0700 | INFO | mt_metadata.timeseries.filters.channel_response | to_obspy | total sensitivity 104398743147.64836 != total gain 1048576000.000055. Using total_gain.\u001b[0m\n",
      "\u001b[1m2025-04-02T11:59:46.653799-0700 | INFO | mt_metadata.timeseries.filters.channel_response | to_obspy | total sensitivity 104957842879.94406 != total gain 1048576000.000055. Using total_gain.\u001b[0m\n",
      "\u001b[1m2025-04-02T11:59:46.681799-0700 | INFO | mt_metadata.timeseries.filters.channel_response | to_obspy | total sensitivity 99528330172.17546 != total gain 1048576000.000055. Using total_gain.\u001b[0m\n",
      "\u001b[1m2025-04-02T11:59:46.724355-0700 | INFO | mt_metadata.timeseries.filters.channel_response | to_obspy | total sensitivity 104398743147.64836 != total gain 1048576000.000055. Using total_gain.\u001b[0m\n",
      "\u001b[1m2025-04-02T11:59:46.834874-0700 | INFO | mt_metadata.timeseries.filters.channel_response | to_obspy | total sensitivity 104957842879.94406 != total gain 1048576000.000055. Using total_gain.\u001b[0m\n",
      "\u001b[1m2025-04-02T11:59:46.862871-0700 | INFO | mt_metadata.timeseries.filters.channel_response | to_obspy | total sensitivity 99528330172.17546 != total gain 1048576000.000055. Using total_gain.\u001b[0m\n",
      "\u001b[1m2025-04-02T11:59:46.891874-0700 | INFO | mt_metadata.timeseries.filters.channel_response | to_obspy | total sensitivity 104398743147.64836 != total gain 1048576000.000055. Using total_gain.\u001b[0m\n",
      "\u001b[1m2025-04-02T11:59:46.982386-0700 | INFO | mt_metadata.timeseries.filters.channel_response | to_obspy | total sensitivity 104957842879.94406 != total gain 1048576000.000055. Using total_gain.\u001b[0m\n",
      "\u001b[1m2025-04-02T11:59:47.017398-0700 | INFO | mt_metadata.timeseries.filters.channel_response | to_obspy | total sensitivity 99528330172.17546 != total gain 1048576000.000055. Using total_gain.\u001b[0m\n",
      "\u001b[1m2025-04-02T11:59:47.052906-0700 | INFO | mt_metadata.timeseries.filters.channel_response | to_obspy | total sensitivity 104398743147.64836 != total gain 1048576000.000055. Using total_gain.\u001b[0m\n",
      "\u001b[1m2025-04-02T11:59:47.145421-0700 | INFO | mt_metadata.timeseries.filters.channel_response | to_obspy | total sensitivity 104957842879.94406 != total gain 1048576000.000055. Using total_gain.\u001b[0m\n",
      "\u001b[1m2025-04-02T11:59:47.179422-0700 | INFO | mt_metadata.timeseries.filters.channel_response | to_obspy | total sensitivity 99528330172.17546 != total gain 1048576000.000055. Using total_gain.\u001b[0m\n",
      "\u001b[1m2025-04-02T11:59:47.208428-0700 | INFO | mt_metadata.timeseries.filters.channel_response | to_obspy | total sensitivity 104398743147.64836 != total gain 1048576000.000055. Using total_gain.\u001b[0m\n",
      "\u001b[1m2025-04-02T11:59:47.299936-0700 | INFO | mt_metadata.timeseries.filters.channel_response | to_obspy | total sensitivity 104957842879.94406 != total gain 1048576000.000055. Using total_gain.\u001b[0m\n",
      "\u001b[1m2025-04-02T11:59:47.334458-0700 | INFO | mt_metadata.timeseries.filters.channel_response | to_obspy | total sensitivity 99528330172.17546 != total gain 1048576000.000055. Using total_gain.\u001b[0m\n",
      "\u001b[1m2025-04-02T11:59:47.365459-0700 | INFO | mt_metadata.timeseries.filters.channel_response | to_obspy | total sensitivity 104398743147.64836 != total gain 1048576000.000055. Using total_gain.\u001b[0m\n",
      "\u001b[1m2025-04-02T11:59:47.466974-0700 | INFO | mt_metadata.timeseries.filters.channel_response | to_obspy | total sensitivity 104957842879.94406 != total gain 1048576000.000055. Using total_gain.\u001b[0m\n",
      "\u001b[1m2025-04-02T11:59:47.496976-0700 | INFO | mt_metadata.timeseries.filters.channel_response | to_obspy | total sensitivity 99528330172.17546 != total gain 1048576000.000055. Using total_gain.\u001b[0m\n",
      "\u001b[1m2025-04-02T11:59:47.526495-0700 | INFO | mt_metadata.timeseries.filters.channel_response | to_obspy | total sensitivity 104398743147.64836 != total gain 1048576000.000055. Using total_gain.\u001b[0m\n",
      "\u001b[1m2025-04-02T11:59:47.559516-0700 | INFO | mth5.io.conversion | convert_mth5_to_ms_stationxml | Wrote StationXML to c:\\Users\\jpeacock\\OneDrive - DOI\\MTData\\CL2021\\archive\\to_dmc\\cl381.xml\u001b[0m\n",
      "\u001b[33m\u001b[1m2025-04-02T11:59:49.275683-0700 | WARNING | mt_metadata.timeseries.station | remove_run | Could not find cl393a to remove.\u001b[0m\n",
      "\u001b[1m2025-04-02T11:59:52.743872-0700 | INFO | mth5.io.conversion | split_ms_to_days | Wrote miniseed file to: c:\\Users\\jpeacock\\OneDrive - DOI\\MTData\\CL2021\\archive\\to_dmc\\1Z_CL393__LQN_2022_07_08T22_09_58.mseed\u001b[0m\n",
      "\u001b[1m2025-04-02T11:59:52.747890-0700 | INFO | mth5.io.conversion | split_ms_to_days | Wrote miniseed file to: c:\\Users\\jpeacock\\OneDrive - DOI\\MTData\\CL2021\\archive\\to_dmc\\1Z_CL393__LQN_2022_07_09T00_00_00.mseed\u001b[0m\n",
      "\u001b[1m2025-04-02T11:59:52.755873-0700 | INFO | mth5.io.conversion | split_ms_to_days | Wrote miniseed file to: c:\\Users\\jpeacock\\OneDrive - DOI\\MTData\\CL2021\\archive\\to_dmc\\1Z_CL393__LQE_2022_07_08T22_09_58.mseed\u001b[0m\n",
      "\u001b[1m2025-04-02T11:59:52.759877-0700 | INFO | mth5.io.conversion | split_ms_to_days | Wrote miniseed file to: c:\\Users\\jpeacock\\OneDrive - DOI\\MTData\\CL2021\\archive\\to_dmc\\1Z_CL393__LQE_2022_07_09T00_00_00.mseed\u001b[0m\n",
      "\u001b[1m2025-04-02T11:59:52.767875-0700 | INFO | mth5.io.conversion | split_ms_to_days | Wrote miniseed file to: c:\\Users\\jpeacock\\OneDrive - DOI\\MTData\\CL2021\\archive\\to_dmc\\1Z_CL393__LFN_2022_07_08T22_09_58.mseed\u001b[0m\n",
      "\u001b[1m2025-04-02T11:59:52.771889-0700 | INFO | mth5.io.conversion | split_ms_to_days | Wrote miniseed file to: c:\\Users\\jpeacock\\OneDrive - DOI\\MTData\\CL2021\\archive\\to_dmc\\1Z_CL393__LFN_2022_07_09T00_00_00.mseed\u001b[0m\n",
      "\u001b[1m2025-04-02T11:59:52.779874-0700 | INFO | mth5.io.conversion | split_ms_to_days | Wrote miniseed file to: c:\\Users\\jpeacock\\OneDrive - DOI\\MTData\\CL2021\\archive\\to_dmc\\1Z_CL393__LFE_2022_07_08T22_09_58.mseed\u001b[0m\n",
      "\u001b[1m2025-04-02T11:59:52.782875-0700 | INFO | mth5.io.conversion | split_ms_to_days | Wrote miniseed file to: c:\\Users\\jpeacock\\OneDrive - DOI\\MTData\\CL2021\\archive\\to_dmc\\1Z_CL393__LFE_2022_07_09T00_00_00.mseed\u001b[0m\n",
      "\u001b[1m2025-04-02T11:59:52.790873-0700 | INFO | mth5.io.conversion | split_ms_to_days | Wrote miniseed file to: c:\\Users\\jpeacock\\OneDrive - DOI\\MTData\\CL2021\\archive\\to_dmc\\1Z_CL393__LFZ_2022_07_08T22_09_58.mseed\u001b[0m\n",
      "\u001b[1m2025-04-02T11:59:52.793873-0700 | INFO | mth5.io.conversion | split_ms_to_days | Wrote miniseed file to: c:\\Users\\jpeacock\\OneDrive - DOI\\MTData\\CL2021\\archive\\to_dmc\\1Z_CL393__LFZ_2022_07_09T00_00_00.mseed\u001b[0m\n",
      "\u001b[1m2025-04-02T11:59:57.371433-0700 | INFO | mth5.timeseries.run_ts | _align_channels | Channels do not have a common end, using latest: 2022-07-09T00:59:41.968750000\u001b[0m\n",
      "\u001b[1m2025-04-02T11:59:59.085471-0700 | INFO | mth5.io.conversion | split_ms_to_days | Wrote miniseed file to: c:\\Users\\jpeacock\\OneDrive - DOI\\MTData\\CL2021\\archive\\to_dmc\\1Z_CL393__CQN_2022_07_08T22_09_58.mseed\u001b[0m\n",
      "\u001b[1m2025-04-02T11:59:59.219847-0700 | INFO | mth5.io.conversion | split_ms_to_days | Wrote miniseed file to: c:\\Users\\jpeacock\\OneDrive - DOI\\MTData\\CL2021\\archive\\to_dmc\\1Z_CL393__CQN_2022_07_09T00_00_00.mseed\u001b[0m\n",
      "\u001b[1m2025-04-02T11:59:59.298413-0700 | INFO | mth5.io.conversion | split_ms_to_days | Wrote miniseed file to: c:\\Users\\jpeacock\\OneDrive - DOI\\MTData\\CL2021\\archive\\to_dmc\\1Z_CL393__CQE_2022_07_08T22_09_58.mseed\u001b[0m\n",
      "\u001b[1m2025-04-02T11:59:59.455598-0700 | INFO | mth5.io.conversion | split_ms_to_days | Wrote miniseed file to: c:\\Users\\jpeacock\\OneDrive - DOI\\MTData\\CL2021\\archive\\to_dmc\\1Z_CL393__CQE_2022_07_09T00_00_00.mseed\u001b[0m\n",
      "\u001b[1m2025-04-02T11:59:59.538178-0700 | INFO | mth5.io.conversion | split_ms_to_days | Wrote miniseed file to: c:\\Users\\jpeacock\\OneDrive - DOI\\MTData\\CL2021\\archive\\to_dmc\\1Z_CL393__CFN_2022_07_08T22_09_58.mseed\u001b[0m\n",
      "\u001b[1m2025-04-02T11:59:59.681636-0700 | INFO | mth5.io.conversion | split_ms_to_days | Wrote miniseed file to: c:\\Users\\jpeacock\\OneDrive - DOI\\MTData\\CL2021\\archive\\to_dmc\\1Z_CL393__CFN_2022_07_09T00_00_00.mseed\u001b[0m\n",
      "\u001b[1m2025-04-02T11:59:59.759062-0700 | INFO | mth5.io.conversion | split_ms_to_days | Wrote miniseed file to: c:\\Users\\jpeacock\\OneDrive - DOI\\MTData\\CL2021\\archive\\to_dmc\\1Z_CL393__CFE_2022_07_08T22_09_58.mseed\u001b[0m\n",
      "\u001b[1m2025-04-02T11:59:59.906637-0700 | INFO | mth5.io.conversion | split_ms_to_days | Wrote miniseed file to: c:\\Users\\jpeacock\\OneDrive - DOI\\MTData\\CL2021\\archive\\to_dmc\\1Z_CL393__CFE_2022_07_09T00_00_00.mseed\u001b[0m\n",
      "\u001b[1m2025-04-02T11:59:59.979279-0700 | INFO | mth5.io.conversion | split_ms_to_days | Wrote miniseed file to: c:\\Users\\jpeacock\\OneDrive - DOI\\MTData\\CL2021\\archive\\to_dmc\\1Z_CL393__CFZ_2022_07_08T22_09_58.mseed\u001b[0m\n",
      "\u001b[1m2025-04-02T12:00:00.133139-0700 | INFO | mth5.io.conversion | split_ms_to_days | Wrote miniseed file to: c:\\Users\\jpeacock\\OneDrive - DOI\\MTData\\CL2021\\archive\\to_dmc\\1Z_CL393__CFZ_2022_07_09T00_00_00.mseed\u001b[0m\n",
      "\u001b[1m2025-04-02T12:00:03.331420-0700 | INFO | mth5.timeseries.run_ts | _align_channels | Channels do not have a common end, using latest: 2022-07-09T01:09:41.999023437\u001b[0m\n",
      "\u001b[33m\u001b[1m2025-04-02T12:00:06.083307-0700 | WARNING | mth5.timeseries.run_ts | validate_metadata | end time of dataset 2022-07-09T01:09:41.998779296+00:00 does not match metadata end 2022-07-09T01:09:41.999023437+00:00 updating metatdata value to 2022-07-09T01:09:41.998779296+00:00\u001b[0m\n"
     ]
    },
    {
     "name": "stderr",
     "output_type": "stream",
     "text": [
      "C:\\Users\\jpeacock\\OneDrive - DOI\\Documents\\GitHub\\mth5\\mth5\\timeseries\\channel_ts.py:1524: RuntimeWarning: invalid value encountered in cast\n",
      "  obspy_trace = Trace(self.ts.astype(encoding_dict[encoding]))\n"
     ]
    },
    {
     "name": "stdout",
     "output_type": "stream",
     "text": [
      "\u001b[1m2025-04-02T12:00:06.808429-0700 | INFO | mth5.io.conversion | split_ms_to_days | Wrote miniseed file to: c:\\Users\\jpeacock\\OneDrive - DOI\\MTData\\CL2021\\archive\\to_dmc\\1Z_CL393__FQN_2022_07_09T00_59_58.mseed\u001b[0m\n",
      "\u001b[1m2025-04-02T12:00:06.996551-0700 | INFO | mth5.io.conversion | split_ms_to_days | Wrote miniseed file to: c:\\Users\\jpeacock\\OneDrive - DOI\\MTData\\CL2021\\archive\\to_dmc\\1Z_CL393__FQE_2022_07_09T00_59_58.mseed\u001b[0m\n",
      "\u001b[1m2025-04-02T12:00:07.187942-0700 | INFO | mth5.io.conversion | split_ms_to_days | Wrote miniseed file to: c:\\Users\\jpeacock\\OneDrive - DOI\\MTData\\CL2021\\archive\\to_dmc\\1Z_CL393__FFN_2022_07_09T00_59_58.mseed\u001b[0m\n",
      "\u001b[1m2025-04-02T12:00:07.379228-0700 | INFO | mth5.io.conversion | split_ms_to_days | Wrote miniseed file to: c:\\Users\\jpeacock\\OneDrive - DOI\\MTData\\CL2021\\archive\\to_dmc\\1Z_CL393__FFE_2022_07_09T00_59_58.mseed\u001b[0m\n",
      "\u001b[1m2025-04-02T12:00:07.570999-0700 | INFO | mth5.io.conversion | split_ms_to_days | Wrote miniseed file to: c:\\Users\\jpeacock\\OneDrive - DOI\\MTData\\CL2021\\archive\\to_dmc\\1Z_CL393__FFZ_2022_07_09T00_59_58.mseed\u001b[0m\n",
      "\u001b[1m2025-04-02T12:00:15.470424-0700 | INFO | mth5.io.conversion | split_ms_to_days | Wrote miniseed file to: c:\\Users\\jpeacock\\OneDrive - DOI\\MTData\\CL2021\\archive\\to_dmc\\1Z_CL393__CQN_2022_07_09T01_09_58.mseed\u001b[0m\n",
      "\u001b[1m2025-04-02T12:00:15.928562-0700 | INFO | mth5.io.conversion | split_ms_to_days | Wrote miniseed file to: c:\\Users\\jpeacock\\OneDrive - DOI\\MTData\\CL2021\\archive\\to_dmc\\1Z_CL393__CQE_2022_07_09T01_09_58.mseed\u001b[0m\n",
      "\u001b[1m2025-04-02T12:00:16.371278-0700 | INFO | mth5.io.conversion | split_ms_to_days | Wrote miniseed file to: c:\\Users\\jpeacock\\OneDrive - DOI\\MTData\\CL2021\\archive\\to_dmc\\1Z_CL393__CFN_2022_07_09T01_09_58.mseed\u001b[0m\n",
      "\u001b[1m2025-04-02T12:00:16.804938-0700 | INFO | mth5.io.conversion | split_ms_to_days | Wrote miniseed file to: c:\\Users\\jpeacock\\OneDrive - DOI\\MTData\\CL2021\\archive\\to_dmc\\1Z_CL393__CFE_2022_07_09T01_09_58.mseed\u001b[0m\n",
      "\u001b[1m2025-04-02T12:00:17.241835-0700 | INFO | mth5.io.conversion | split_ms_to_days | Wrote miniseed file to: c:\\Users\\jpeacock\\OneDrive - DOI\\MTData\\CL2021\\archive\\to_dmc\\1Z_CL393__CFZ_2022_07_09T01_09_58.mseed\u001b[0m\n",
      "\u001b[1m2025-04-02T12:00:20.880579-0700 | INFO | mth5.timeseries.run_ts | _align_channels | Channels do not have a common end, using latest: 2022-07-09T07:09:41.998535156\u001b[0m\n",
      "\u001b[33m\u001b[1m2025-04-02T12:00:23.648685-0700 | WARNING | mth5.timeseries.run_ts | validate_metadata | end time of dataset 2022-07-09T07:09:41.998291015+00:00 does not match metadata end 2022-07-09T07:09:41.998535156+00:00 updating metatdata value to 2022-07-09T07:09:41.998291015+00:00\u001b[0m\n"
     ]
    },
    {
     "name": "stderr",
     "output_type": "stream",
     "text": [
      "C:\\Users\\jpeacock\\OneDrive - DOI\\Documents\\GitHub\\mth5\\mth5\\timeseries\\channel_ts.py:1524: RuntimeWarning: invalid value encountered in cast\n",
      "  obspy_trace = Trace(self.ts.astype(encoding_dict[encoding]))\n"
     ]
    },
    {
     "name": "stdout",
     "output_type": "stream",
     "text": [
      "\u001b[1m2025-04-02T12:00:24.448032-0700 | INFO | mth5.io.conversion | split_ms_to_days | Wrote miniseed file to: c:\\Users\\jpeacock\\OneDrive - DOI\\MTData\\CL2021\\archive\\to_dmc\\1Z_CL393__FQN_2022_07_09T06_59_58.mseed\u001b[0m\n",
      "\u001b[1m2025-04-02T12:00:24.637828-0700 | INFO | mth5.io.conversion | split_ms_to_days | Wrote miniseed file to: c:\\Users\\jpeacock\\OneDrive - DOI\\MTData\\CL2021\\archive\\to_dmc\\1Z_CL393__FQE_2022_07_09T06_59_58.mseed\u001b[0m\n",
      "\u001b[1m2025-04-02T12:00:24.856345-0700 | INFO | mth5.io.conversion | split_ms_to_days | Wrote miniseed file to: c:\\Users\\jpeacock\\OneDrive - DOI\\MTData\\CL2021\\archive\\to_dmc\\1Z_CL393__FFN_2022_07_09T06_59_58.mseed\u001b[0m\n",
      "\u001b[1m2025-04-02T12:00:25.076093-0700 | INFO | mth5.io.conversion | split_ms_to_days | Wrote miniseed file to: c:\\Users\\jpeacock\\OneDrive - DOI\\MTData\\CL2021\\archive\\to_dmc\\1Z_CL393__FFE_2022_07_09T06_59_58.mseed\u001b[0m\n",
      "\u001b[1m2025-04-02T12:00:25.279829-0700 | INFO | mth5.io.conversion | split_ms_to_days | Wrote miniseed file to: c:\\Users\\jpeacock\\OneDrive - DOI\\MTData\\CL2021\\archive\\to_dmc\\1Z_CL393__FFZ_2022_07_09T06_59_58.mseed\u001b[0m\n",
      "\u001b[1m2025-04-02T12:00:33.517227-0700 | INFO | mth5.io.conversion | split_ms_to_days | Wrote miniseed file to: c:\\Users\\jpeacock\\OneDrive - DOI\\MTData\\CL2021\\archive\\to_dmc\\1Z_CL393__CQN_2022_07_09T07_09_58.mseed\u001b[0m\n",
      "\u001b[1m2025-04-02T12:00:33.936373-0700 | INFO | mth5.io.conversion | split_ms_to_days | Wrote miniseed file to: c:\\Users\\jpeacock\\OneDrive - DOI\\MTData\\CL2021\\archive\\to_dmc\\1Z_CL393__CQE_2022_07_09T07_09_58.mseed\u001b[0m\n",
      "\u001b[1m2025-04-02T12:00:34.379767-0700 | INFO | mth5.io.conversion | split_ms_to_days | Wrote miniseed file to: c:\\Users\\jpeacock\\OneDrive - DOI\\MTData\\CL2021\\archive\\to_dmc\\1Z_CL393__CFN_2022_07_09T07_09_58.mseed\u001b[0m\n",
      "\u001b[1m2025-04-02T12:00:34.820898-0700 | INFO | mth5.io.conversion | split_ms_to_days | Wrote miniseed file to: c:\\Users\\jpeacock\\OneDrive - DOI\\MTData\\CL2021\\archive\\to_dmc\\1Z_CL393__CFE_2022_07_09T07_09_58.mseed\u001b[0m\n",
      "\u001b[1m2025-04-02T12:00:35.260320-0700 | INFO | mth5.io.conversion | split_ms_to_days | Wrote miniseed file to: c:\\Users\\jpeacock\\OneDrive - DOI\\MTData\\CL2021\\archive\\to_dmc\\1Z_CL393__CFZ_2022_07_09T07_09_58.mseed\u001b[0m\n",
      "\u001b[1m2025-04-02T12:00:38.837974-0700 | INFO | mth5.timeseries.run_ts | _align_channels | Channels do not have a common end, using latest: 2022-07-09T13:09:41.999512000\u001b[0m\n"
     ]
    },
    {
     "name": "stderr",
     "output_type": "stream",
     "text": [
      "C:\\Users\\jpeacock\\OneDrive - DOI\\Documents\\GitHub\\mth5\\mth5\\timeseries\\channel_ts.py:1524: RuntimeWarning: invalid value encountered in cast\n",
      "  obspy_trace = Trace(self.ts.astype(encoding_dict[encoding]))\n"
     ]
    },
    {
     "name": "stdout",
     "output_type": "stream",
     "text": [
      "\u001b[1m2025-04-02T12:00:41.847515-0700 | INFO | mth5.io.conversion | split_ms_to_days | Wrote miniseed file to: c:\\Users\\jpeacock\\OneDrive - DOI\\MTData\\CL2021\\archive\\to_dmc\\1Z_CL393__FQN_2022_07_09T12_59_58.mseed\u001b[0m\n",
      "\u001b[1m2025-04-02T12:00:42.064942-0700 | INFO | mth5.io.conversion | split_ms_to_days | Wrote miniseed file to: c:\\Users\\jpeacock\\OneDrive - DOI\\MTData\\CL2021\\archive\\to_dmc\\1Z_CL393__FQE_2022_07_09T12_59_58.mseed\u001b[0m\n",
      "\u001b[1m2025-04-02T12:00:42.251068-0700 | INFO | mth5.io.conversion | split_ms_to_days | Wrote miniseed file to: c:\\Users\\jpeacock\\OneDrive - DOI\\MTData\\CL2021\\archive\\to_dmc\\1Z_CL393__FFN_2022_07_09T12_59_58.mseed\u001b[0m\n",
      "\u001b[1m2025-04-02T12:00:42.452184-0700 | INFO | mth5.io.conversion | split_ms_to_days | Wrote miniseed file to: c:\\Users\\jpeacock\\OneDrive - DOI\\MTData\\CL2021\\archive\\to_dmc\\1Z_CL393__FFE_2022_07_09T12_59_58.mseed\u001b[0m\n",
      "\u001b[1m2025-04-02T12:00:42.674871-0700 | INFO | mth5.io.conversion | split_ms_to_days | Wrote miniseed file to: c:\\Users\\jpeacock\\OneDrive - DOI\\MTData\\CL2021\\archive\\to_dmc\\1Z_CL393__FFZ_2022_07_09T12_59_58.mseed\u001b[0m\n",
      "\u001b[1m2025-04-02T12:00:47.997595-0700 | INFO | mth5.io.conversion | split_ms_to_days | Wrote miniseed file to: c:\\Users\\jpeacock\\OneDrive - DOI\\MTData\\CL2021\\archive\\to_dmc\\1Z_CL393__CQN_2022_07_09T13_09_58.mseed\u001b[0m\n",
      "\u001b[1m2025-04-02T12:00:48.135188-0700 | INFO | mth5.io.conversion | split_ms_to_days | Wrote miniseed file to: c:\\Users\\jpeacock\\OneDrive - DOI\\MTData\\CL2021\\archive\\to_dmc\\1Z_CL393__CQE_2022_07_09T13_09_58.mseed\u001b[0m\n",
      "\u001b[1m2025-04-02T12:00:48.273753-0700 | INFO | mth5.io.conversion | split_ms_to_days | Wrote miniseed file to: c:\\Users\\jpeacock\\OneDrive - DOI\\MTData\\CL2021\\archive\\to_dmc\\1Z_CL393__CFN_2022_07_09T13_09_58.mseed\u001b[0m\n",
      "\u001b[1m2025-04-02T12:00:48.414527-0700 | INFO | mth5.io.conversion | split_ms_to_days | Wrote miniseed file to: c:\\Users\\jpeacock\\OneDrive - DOI\\MTData\\CL2021\\archive\\to_dmc\\1Z_CL393__CFE_2022_07_09T13_09_58.mseed\u001b[0m\n",
      "\u001b[1m2025-04-02T12:00:48.556046-0700 | INFO | mth5.io.conversion | split_ms_to_days | Wrote miniseed file to: c:\\Users\\jpeacock\\OneDrive - DOI\\MTData\\CL2021\\archive\\to_dmc\\1Z_CL393__CFZ_2022_07_09T13_09_58.mseed\u001b[0m\n",
      "\u001b[1m2025-04-02T12:00:49.501632-0700 | INFO | mth5.mth5 | close_mth5 | Flushing and closing c:\\Users\\jpeacock\\OneDrive - DOI\\MTData\\CL2021\\archive\\cl393.h5\u001b[0m\n",
      "\u001b[33m\u001b[1m2025-04-02T12:00:49.505635-0700 | WARNING | mt_metadata.timeseries.stationxml.xml_station_mt_station | mt_to_xml | Station.geographic_name is None, using Station.id = cl393.Check StationXML site.name.\u001b[0m\n",
      "\u001b[1m2025-04-02T12:00:49.583222-0700 | INFO | mt_metadata.timeseries.filters.channel_response | to_obspy | total sensitivity 104957842879.94406 != total gain 1048576000.000055. Using total_gain.\u001b[0m\n",
      "\u001b[1m2025-04-02T12:00:49.612187-0700 | INFO | mt_metadata.timeseries.filters.channel_response | to_obspy | total sensitivity 99528330172.17546 != total gain 1048576000.000055. Using total_gain.\u001b[0m\n",
      "\u001b[1m2025-04-02T12:00:49.642223-0700 | INFO | mt_metadata.timeseries.filters.channel_response | to_obspy | total sensitivity 104398743147.64836 != total gain 1048576000.000055. Using total_gain.\u001b[0m\n",
      "\u001b[1m2025-04-02T12:00:49.741772-0700 | INFO | mt_metadata.timeseries.filters.channel_response | to_obspy | total sensitivity 104957842879.94406 != total gain 1048576000.000055. Using total_gain.\u001b[0m\n",
      "\u001b[1m2025-04-02T12:00:49.773814-0700 | INFO | mt_metadata.timeseries.filters.channel_response | to_obspy | total sensitivity 99528330172.17546 != total gain 1048576000.000055. Using total_gain.\u001b[0m\n",
      "\u001b[1m2025-04-02T12:00:49.808358-0700 | INFO | mt_metadata.timeseries.filters.channel_response | to_obspy | total sensitivity 104398743147.64836 != total gain 1048576000.000055. Using total_gain.\u001b[0m\n",
      "\u001b[1m2025-04-02T12:00:49.905982-0700 | INFO | mt_metadata.timeseries.filters.channel_response | to_obspy | total sensitivity 104957842879.94406 != total gain 1048576000.000055. Using total_gain.\u001b[0m\n",
      "\u001b[1m2025-04-02T12:00:49.938950-0700 | INFO | mt_metadata.timeseries.filters.channel_response | to_obspy | total sensitivity 99528330172.17546 != total gain 1048576000.000055. Using total_gain.\u001b[0m\n",
      "\u001b[1m2025-04-02T12:00:49.967988-0700 | INFO | mt_metadata.timeseries.filters.channel_response | to_obspy | total sensitivity 104398743147.64836 != total gain 1048576000.000055. Using total_gain.\u001b[0m\n",
      "\u001b[1m2025-04-02T12:00:50.071574-0700 | INFO | mt_metadata.timeseries.filters.channel_response | to_obspy | total sensitivity 104957842879.94406 != total gain 1048576000.000055. Using total_gain.\u001b[0m\n",
      "\u001b[1m2025-04-02T12:00:50.103121-0700 | INFO | mt_metadata.timeseries.filters.channel_response | to_obspy | total sensitivity 99528330172.17546 != total gain 1048576000.000055. Using total_gain.\u001b[0m\n",
      "\u001b[1m2025-04-02T12:00:50.134121-0700 | INFO | mt_metadata.timeseries.filters.channel_response | to_obspy | total sensitivity 104398743147.64836 != total gain 1048576000.000055. Using total_gain.\u001b[0m\n",
      "\u001b[1m2025-04-02T12:00:50.235637-0700 | INFO | mt_metadata.timeseries.filters.channel_response | to_obspy | total sensitivity 104957842879.94406 != total gain 1048576000.000055. Using total_gain.\u001b[0m\n",
      "\u001b[1m2025-04-02T12:00:50.263643-0700 | INFO | mt_metadata.timeseries.filters.channel_response | to_obspy | total sensitivity 99528330172.17546 != total gain 1048576000.000055. Using total_gain.\u001b[0m\n",
      "\u001b[1m2025-04-02T12:00:50.292218-0700 | INFO | mt_metadata.timeseries.filters.channel_response | to_obspy | total sensitivity 104398743147.64836 != total gain 1048576000.000055. Using total_gain.\u001b[0m\n",
      "\u001b[1m2025-04-02T12:00:50.402810-0700 | INFO | mt_metadata.timeseries.filters.channel_response | to_obspy | total sensitivity 104957842879.94406 != total gain 1048576000.000055. Using total_gain.\u001b[0m\n",
      "\u001b[1m2025-04-02T12:00:50.434781-0700 | INFO | mt_metadata.timeseries.filters.channel_response | to_obspy | total sensitivity 99528330172.17546 != total gain 1048576000.000055. Using total_gain.\u001b[0m\n",
      "\u001b[1m2025-04-02T12:00:50.462819-0700 | INFO | mt_metadata.timeseries.filters.channel_response | to_obspy | total sensitivity 104398743147.64836 != total gain 1048576000.000055. Using total_gain.\u001b[0m\n",
      "\u001b[1m2025-04-02T12:00:50.561305-0700 | INFO | mt_metadata.timeseries.filters.channel_response | to_obspy | total sensitivity 104957842879.94406 != total gain 1048576000.000055. Using total_gain.\u001b[0m\n",
      "\u001b[1m2025-04-02T12:00:50.590815-0700 | INFO | mt_metadata.timeseries.filters.channel_response | to_obspy | total sensitivity 99528330172.17546 != total gain 1048576000.000055. Using total_gain.\u001b[0m\n",
      "\u001b[1m2025-04-02T12:00:50.618849-0700 | INFO | mt_metadata.timeseries.filters.channel_response | to_obspy | total sensitivity 104398743147.64836 != total gain 1048576000.000055. Using total_gain.\u001b[0m\n",
      "\u001b[1m2025-04-02T12:00:50.729943-0700 | INFO | mt_metadata.timeseries.filters.channel_response | to_obspy | total sensitivity 104957842879.94406 != total gain 1048576000.000055. Using total_gain.\u001b[0m\n",
      "\u001b[1m2025-04-02T12:00:50.759909-0700 | INFO | mt_metadata.timeseries.filters.channel_response | to_obspy | total sensitivity 99528330172.17546 != total gain 1048576000.000055. Using total_gain.\u001b[0m\n",
      "\u001b[1m2025-04-02T12:00:50.789429-0700 | INFO | mt_metadata.timeseries.filters.channel_response | to_obspy | total sensitivity 104398743147.64836 != total gain 1048576000.000055. Using total_gain.\u001b[0m\n",
      "\u001b[1m2025-04-02T12:00:50.822431-0700 | INFO | mth5.io.conversion | convert_mth5_to_ms_stationxml | Wrote StationXML to c:\\Users\\jpeacock\\OneDrive - DOI\\MTData\\CL2021\\archive\\to_dmc\\cl393.xml\u001b[0m\n",
      "\u001b[33m\u001b[1m2025-04-02T12:00:52.948215-0700 | WARNING | mt_metadata.timeseries.station | remove_run | Could not find cl394a to remove.\u001b[0m\n",
      "\u001b[1m2025-04-02T12:00:56.435674-0700 | INFO | mth5.io.conversion | split_ms_to_days | Wrote miniseed file to: c:\\Users\\jpeacock\\OneDrive - DOI\\MTData\\CL2021\\archive\\to_dmc\\1Z_CL394__LQN_2022_07_08T20_44_58.mseed\u001b[0m\n",
      "\u001b[1m2025-04-02T12:00:56.439640-0700 | INFO | mth5.io.conversion | split_ms_to_days | Wrote miniseed file to: c:\\Users\\jpeacock\\OneDrive - DOI\\MTData\\CL2021\\archive\\to_dmc\\1Z_CL394__LQN_2022_07_09T00_00_00.mseed\u001b[0m\n",
      "\u001b[1m2025-04-02T12:00:56.445677-0700 | INFO | mth5.io.conversion | split_ms_to_days | Wrote miniseed file to: c:\\Users\\jpeacock\\OneDrive - DOI\\MTData\\CL2021\\archive\\to_dmc\\1Z_CL394__LQE_2022_07_08T20_44_58.mseed\u001b[0m\n",
      "\u001b[1m2025-04-02T12:00:56.449644-0700 | INFO | mth5.io.conversion | split_ms_to_days | Wrote miniseed file to: c:\\Users\\jpeacock\\OneDrive - DOI\\MTData\\CL2021\\archive\\to_dmc\\1Z_CL394__LQE_2022_07_09T00_00_00.mseed\u001b[0m\n",
      "\u001b[1m2025-04-02T12:00:56.458655-0700 | INFO | mth5.io.conversion | split_ms_to_days | Wrote miniseed file to: c:\\Users\\jpeacock\\OneDrive - DOI\\MTData\\CL2021\\archive\\to_dmc\\1Z_CL394__LFN_2022_07_08T20_44_58.mseed\u001b[0m\n",
      "\u001b[1m2025-04-02T12:00:56.461640-0700 | INFO | mth5.io.conversion | split_ms_to_days | Wrote miniseed file to: c:\\Users\\jpeacock\\OneDrive - DOI\\MTData\\CL2021\\archive\\to_dmc\\1Z_CL394__LFN_2022_07_09T00_00_00.mseed\u001b[0m\n",
      "\u001b[1m2025-04-02T12:00:56.469655-0700 | INFO | mth5.io.conversion | split_ms_to_days | Wrote miniseed file to: c:\\Users\\jpeacock\\OneDrive - DOI\\MTData\\CL2021\\archive\\to_dmc\\1Z_CL394__LFE_2022_07_08T20_44_58.mseed\u001b[0m\n",
      "\u001b[1m2025-04-02T12:00:56.473650-0700 | INFO | mth5.io.conversion | split_ms_to_days | Wrote miniseed file to: c:\\Users\\jpeacock\\OneDrive - DOI\\MTData\\CL2021\\archive\\to_dmc\\1Z_CL394__LFE_2022_07_09T00_00_00.mseed\u001b[0m\n",
      "\u001b[1m2025-04-02T12:00:56.480649-0700 | INFO | mth5.io.conversion | split_ms_to_days | Wrote miniseed file to: c:\\Users\\jpeacock\\OneDrive - DOI\\MTData\\CL2021\\archive\\to_dmc\\1Z_CL394__LFZ_2022_07_08T20_44_58.mseed\u001b[0m\n",
      "\u001b[1m2025-04-02T12:00:56.484166-0700 | INFO | mth5.io.conversion | split_ms_to_days | Wrote miniseed file to: c:\\Users\\jpeacock\\OneDrive - DOI\\MTData\\CL2021\\archive\\to_dmc\\1Z_CL394__LFZ_2022_07_09T00_00_00.mseed\u001b[0m\n",
      "\u001b[1m2025-04-02T12:01:03.010274-0700 | INFO | mth5.io.conversion | split_ms_to_days | Wrote miniseed file to: c:\\Users\\jpeacock\\OneDrive - DOI\\MTData\\CL2021\\archive\\to_dmc\\1Z_CL394__CQN_2022_07_08T20_44_58.mseed\u001b[0m\n",
      "\u001b[1m2025-04-02T12:01:03.245646-0700 | INFO | mth5.io.conversion | split_ms_to_days | Wrote miniseed file to: c:\\Users\\jpeacock\\OneDrive - DOI\\MTData\\CL2021\\archive\\to_dmc\\1Z_CL394__CQN_2022_07_09T00_00_00.mseed\u001b[0m\n",
      "\u001b[1m2025-04-02T12:01:03.325687-0700 | INFO | mth5.io.conversion | split_ms_to_days | Wrote miniseed file to: c:\\Users\\jpeacock\\OneDrive - DOI\\MTData\\CL2021\\archive\\to_dmc\\1Z_CL394__CQE_2022_07_08T20_44_58.mseed\u001b[0m\n",
      "\u001b[1m2025-04-02T12:01:03.577334-0700 | INFO | mth5.io.conversion | split_ms_to_days | Wrote miniseed file to: c:\\Users\\jpeacock\\OneDrive - DOI\\MTData\\CL2021\\archive\\to_dmc\\1Z_CL394__CQE_2022_07_09T00_00_00.mseed\u001b[0m\n",
      "\u001b[1m2025-04-02T12:01:03.655452-0700 | INFO | mth5.io.conversion | split_ms_to_days | Wrote miniseed file to: c:\\Users\\jpeacock\\OneDrive - DOI\\MTData\\CL2021\\archive\\to_dmc\\1Z_CL394__CFN_2022_07_08T20_44_58.mseed\u001b[0m\n",
      "\u001b[1m2025-04-02T12:01:03.897880-0700 | INFO | mth5.io.conversion | split_ms_to_days | Wrote miniseed file to: c:\\Users\\jpeacock\\OneDrive - DOI\\MTData\\CL2021\\archive\\to_dmc\\1Z_CL394__CFN_2022_07_09T00_00_00.mseed\u001b[0m\n",
      "\u001b[1m2025-04-02T12:01:03.975854-0700 | INFO | mth5.io.conversion | split_ms_to_days | Wrote miniseed file to: c:\\Users\\jpeacock\\OneDrive - DOI\\MTData\\CL2021\\archive\\to_dmc\\1Z_CL394__CFE_2022_07_08T20_44_58.mseed\u001b[0m\n",
      "\u001b[1m2025-04-02T12:01:04.229108-0700 | INFO | mth5.io.conversion | split_ms_to_days | Wrote miniseed file to: c:\\Users\\jpeacock\\OneDrive - DOI\\MTData\\CL2021\\archive\\to_dmc\\1Z_CL394__CFE_2022_07_09T00_00_00.mseed\u001b[0m\n",
      "\u001b[1m2025-04-02T12:01:04.305266-0700 | INFO | mth5.io.conversion | split_ms_to_days | Wrote miniseed file to: c:\\Users\\jpeacock\\OneDrive - DOI\\MTData\\CL2021\\archive\\to_dmc\\1Z_CL394__CFZ_2022_07_08T20_44_58.mseed\u001b[0m\n",
      "\u001b[1m2025-04-02T12:01:04.555200-0700 | INFO | mth5.io.conversion | split_ms_to_days | Wrote miniseed file to: c:\\Users\\jpeacock\\OneDrive - DOI\\MTData\\CL2021\\archive\\to_dmc\\1Z_CL394__CFZ_2022_07_09T00_00_00.mseed\u001b[0m\n",
      "\u001b[1m2025-04-02T12:01:07.759085-0700 | INFO | mth5.timeseries.run_ts | _align_channels | Channels do not have a common end, using latest: 2022-07-09T01:09:41.999268000\u001b[0m\n"
     ]
    },
    {
     "name": "stderr",
     "output_type": "stream",
     "text": [
      "C:\\Users\\jpeacock\\OneDrive - DOI\\Documents\\GitHub\\mth5\\mth5\\timeseries\\channel_ts.py:1524: RuntimeWarning: invalid value encountered in cast\n",
      "  obspy_trace = Trace(self.ts.astype(encoding_dict[encoding]))\n"
     ]
    },
    {
     "name": "stdout",
     "output_type": "stream",
     "text": [
      "\u001b[1m2025-04-02T12:01:10.737775-0700 | INFO | mth5.io.conversion | split_ms_to_days | Wrote miniseed file to: c:\\Users\\jpeacock\\OneDrive - DOI\\MTData\\CL2021\\archive\\to_dmc\\1Z_CL394__FQN_2022_07_09T00_59_58.mseed\u001b[0m\n",
      "\u001b[1m2025-04-02T12:01:10.935357-0700 | INFO | mth5.io.conversion | split_ms_to_days | Wrote miniseed file to: c:\\Users\\jpeacock\\OneDrive - DOI\\MTData\\CL2021\\archive\\to_dmc\\1Z_CL394__FQE_2022_07_09T00_59_58.mseed\u001b[0m\n",
      "\u001b[1m2025-04-02T12:01:11.128038-0700 | INFO | mth5.io.conversion | split_ms_to_days | Wrote miniseed file to: c:\\Users\\jpeacock\\OneDrive - DOI\\MTData\\CL2021\\archive\\to_dmc\\1Z_CL394__FFN_2022_07_09T00_59_58.mseed\u001b[0m\n",
      "\u001b[1m2025-04-02T12:01:11.318047-0700 | INFO | mth5.io.conversion | split_ms_to_days | Wrote miniseed file to: c:\\Users\\jpeacock\\OneDrive - DOI\\MTData\\CL2021\\archive\\to_dmc\\1Z_CL394__FFE_2022_07_09T00_59_58.mseed\u001b[0m\n",
      "\u001b[1m2025-04-02T12:01:11.514148-0700 | INFO | mth5.io.conversion | split_ms_to_days | Wrote miniseed file to: c:\\Users\\jpeacock\\OneDrive - DOI\\MTData\\CL2021\\archive\\to_dmc\\1Z_CL394__FFZ_2022_07_09T00_59_58.mseed\u001b[0m\n",
      "\u001b[1m2025-04-02T12:01:19.753122-0700 | INFO | mth5.io.conversion | split_ms_to_days | Wrote miniseed file to: c:\\Users\\jpeacock\\OneDrive - DOI\\MTData\\CL2021\\archive\\to_dmc\\1Z_CL394__CQN_2022_07_09T01_09_58.mseed\u001b[0m\n",
      "\u001b[1m2025-04-02T12:01:20.245015-0700 | INFO | mth5.io.conversion | split_ms_to_days | Wrote miniseed file to: c:\\Users\\jpeacock\\OneDrive - DOI\\MTData\\CL2021\\archive\\to_dmc\\1Z_CL394__CQE_2022_07_09T01_09_58.mseed\u001b[0m\n",
      "\u001b[1m2025-04-02T12:01:20.689120-0700 | INFO | mth5.io.conversion | split_ms_to_days | Wrote miniseed file to: c:\\Users\\jpeacock\\OneDrive - DOI\\MTData\\CL2021\\archive\\to_dmc\\1Z_CL394__CFN_2022_07_09T01_09_58.mseed\u001b[0m\n",
      "\u001b[1m2025-04-02T12:01:21.172841-0700 | INFO | mth5.io.conversion | split_ms_to_days | Wrote miniseed file to: c:\\Users\\jpeacock\\OneDrive - DOI\\MTData\\CL2021\\archive\\to_dmc\\1Z_CL394__CFE_2022_07_09T01_09_58.mseed\u001b[0m\n",
      "\u001b[1m2025-04-02T12:01:21.615750-0700 | INFO | mth5.io.conversion | split_ms_to_days | Wrote miniseed file to: c:\\Users\\jpeacock\\OneDrive - DOI\\MTData\\CL2021\\archive\\to_dmc\\1Z_CL394__CFZ_2022_07_09T01_09_58.mseed\u001b[0m\n",
      "\u001b[1m2025-04-02T12:01:25.651986-0700 | INFO | mth5.timeseries.run_ts | _align_channels | Channels do not have a common end, using latest: 2022-07-09T07:09:41.999023437\u001b[0m\n",
      "\u001b[33m\u001b[1m2025-04-02T12:01:28.412755-0700 | WARNING | mth5.timeseries.run_ts | validate_metadata | end time of dataset 2022-07-09T07:09:41.998779296+00:00 does not match metadata end 2022-07-09T07:09:41.999023437+00:00 updating metatdata value to 2022-07-09T07:09:41.998779296+00:00\u001b[0m\n"
     ]
    },
    {
     "name": "stderr",
     "output_type": "stream",
     "text": [
      "C:\\Users\\jpeacock\\OneDrive - DOI\\Documents\\GitHub\\mth5\\mth5\\timeseries\\channel_ts.py:1524: RuntimeWarning: invalid value encountered in cast\n",
      "  obspy_trace = Trace(self.ts.astype(encoding_dict[encoding]))\n"
     ]
    },
    {
     "name": "stdout",
     "output_type": "stream",
     "text": [
      "\u001b[1m2025-04-02T12:01:29.206973-0700 | INFO | mth5.io.conversion | split_ms_to_days | Wrote miniseed file to: c:\\Users\\jpeacock\\OneDrive - DOI\\MTData\\CL2021\\archive\\to_dmc\\1Z_CL394__FQN_2022_07_09T06_59_58.mseed\u001b[0m\n",
      "\u001b[1m2025-04-02T12:01:29.410137-0700 | INFO | mth5.io.conversion | split_ms_to_days | Wrote miniseed file to: c:\\Users\\jpeacock\\OneDrive - DOI\\MTData\\CL2021\\archive\\to_dmc\\1Z_CL394__FQE_2022_07_09T06_59_58.mseed\u001b[0m\n",
      "\u001b[1m2025-04-02T12:01:29.622299-0700 | INFO | mth5.io.conversion | split_ms_to_days | Wrote miniseed file to: c:\\Users\\jpeacock\\OneDrive - DOI\\MTData\\CL2021\\archive\\to_dmc\\1Z_CL394__FFN_2022_07_09T06_59_58.mseed\u001b[0m\n",
      "\u001b[1m2025-04-02T12:01:29.824390-0700 | INFO | mth5.io.conversion | split_ms_to_days | Wrote miniseed file to: c:\\Users\\jpeacock\\OneDrive - DOI\\MTData\\CL2021\\archive\\to_dmc\\1Z_CL394__FFE_2022_07_09T06_59_58.mseed\u001b[0m\n",
      "\u001b[1m2025-04-02T12:01:30.021494-0700 | INFO | mth5.io.conversion | split_ms_to_days | Wrote miniseed file to: c:\\Users\\jpeacock\\OneDrive - DOI\\MTData\\CL2021\\archive\\to_dmc\\1Z_CL394__FFZ_2022_07_09T06_59_58.mseed\u001b[0m\n",
      "\u001b[1m2025-04-02T12:01:37.806208-0700 | INFO | mth5.io.conversion | split_ms_to_days | Wrote miniseed file to: c:\\Users\\jpeacock\\OneDrive - DOI\\MTData\\CL2021\\archive\\to_dmc\\1Z_CL394__CQN_2022_07_09T07_09_58.mseed\u001b[0m\n",
      "\u001b[1m2025-04-02T12:01:38.240082-0700 | INFO | mth5.io.conversion | split_ms_to_days | Wrote miniseed file to: c:\\Users\\jpeacock\\OneDrive - DOI\\MTData\\CL2021\\archive\\to_dmc\\1Z_CL394__CQE_2022_07_09T07_09_58.mseed\u001b[0m\n",
      "\u001b[1m2025-04-02T12:01:38.694490-0700 | INFO | mth5.io.conversion | split_ms_to_days | Wrote miniseed file to: c:\\Users\\jpeacock\\OneDrive - DOI\\MTData\\CL2021\\archive\\to_dmc\\1Z_CL394__CFN_2022_07_09T07_09_58.mseed\u001b[0m\n",
      "\u001b[1m2025-04-02T12:01:39.150349-0700 | INFO | mth5.io.conversion | split_ms_to_days | Wrote miniseed file to: c:\\Users\\jpeacock\\OneDrive - DOI\\MTData\\CL2021\\archive\\to_dmc\\1Z_CL394__CFE_2022_07_09T07_09_58.mseed\u001b[0m\n",
      "\u001b[1m2025-04-02T12:01:39.624594-0700 | INFO | mth5.io.conversion | split_ms_to_days | Wrote miniseed file to: c:\\Users\\jpeacock\\OneDrive - DOI\\MTData\\CL2021\\archive\\to_dmc\\1Z_CL394__CFZ_2022_07_09T07_09_58.mseed\u001b[0m\n",
      "\u001b[1m2025-04-02T12:01:43.564883-0700 | INFO | mth5.timeseries.run_ts | _align_channels | Channels do not have a common end, using latest: 2022-07-09T13:09:41.998779296\u001b[0m\n",
      "\u001b[33m\u001b[1m2025-04-02T12:01:45.818705-0700 | WARNING | mth5.timeseries.run_ts | validate_metadata | end time of dataset 2022-07-09T13:09:41.998535156+00:00 does not match metadata end 2022-07-09T13:09:41.998779296+00:00 updating metatdata value to 2022-07-09T13:09:41.998535156+00:00\u001b[0m\n"
     ]
    },
    {
     "name": "stderr",
     "output_type": "stream",
     "text": [
      "C:\\Users\\jpeacock\\OneDrive - DOI\\Documents\\GitHub\\mth5\\mth5\\timeseries\\channel_ts.py:1524: RuntimeWarning: invalid value encountered in cast\n",
      "  obspy_trace = Trace(self.ts.astype(encoding_dict[encoding]))\n"
     ]
    },
    {
     "name": "stdout",
     "output_type": "stream",
     "text": [
      "\u001b[1m2025-04-02T12:01:46.586750-0700 | INFO | mth5.io.conversion | split_ms_to_days | Wrote miniseed file to: c:\\Users\\jpeacock\\OneDrive - DOI\\MTData\\CL2021\\archive\\to_dmc\\1Z_CL394__FQN_2022_07_09T12_59_58.mseed\u001b[0m\n",
      "\u001b[1m2025-04-02T12:01:46.793353-0700 | INFO | mth5.io.conversion | split_ms_to_days | Wrote miniseed file to: c:\\Users\\jpeacock\\OneDrive - DOI\\MTData\\CL2021\\archive\\to_dmc\\1Z_CL394__FQE_2022_07_09T12_59_58.mseed\u001b[0m\n",
      "\u001b[1m2025-04-02T12:01:46.994071-0700 | INFO | mth5.io.conversion | split_ms_to_days | Wrote miniseed file to: c:\\Users\\jpeacock\\OneDrive - DOI\\MTData\\CL2021\\archive\\to_dmc\\1Z_CL394__FFN_2022_07_09T12_59_58.mseed\u001b[0m\n",
      "\u001b[1m2025-04-02T12:01:47.276645-0700 | INFO | mth5.io.conversion | split_ms_to_days | Wrote miniseed file to: c:\\Users\\jpeacock\\OneDrive - DOI\\MTData\\CL2021\\archive\\to_dmc\\1Z_CL394__FFE_2022_07_09T12_59_58.mseed\u001b[0m\n",
      "\u001b[1m2025-04-02T12:01:47.476689-0700 | INFO | mth5.io.conversion | split_ms_to_days | Wrote miniseed file to: c:\\Users\\jpeacock\\OneDrive - DOI\\MTData\\CL2021\\archive\\to_dmc\\1Z_CL394__FFZ_2022_07_09T12_59_58.mseed\u001b[0m\n",
      "\u001b[1m2025-04-02T12:01:53.280886-0700 | INFO | mth5.io.conversion | split_ms_to_days | Wrote miniseed file to: c:\\Users\\jpeacock\\OneDrive - DOI\\MTData\\CL2021\\archive\\to_dmc\\1Z_CL394__CQN_2022_07_09T13_09_58.mseed\u001b[0m\n",
      "\u001b[1m2025-04-02T12:01:53.470128-0700 | INFO | mth5.io.conversion | split_ms_to_days | Wrote miniseed file to: c:\\Users\\jpeacock\\OneDrive - DOI\\MTData\\CL2021\\archive\\to_dmc\\1Z_CL394__CQE_2022_07_09T13_09_58.mseed\u001b[0m\n",
      "\u001b[1m2025-04-02T12:01:53.655786-0700 | INFO | mth5.io.conversion | split_ms_to_days | Wrote miniseed file to: c:\\Users\\jpeacock\\OneDrive - DOI\\MTData\\CL2021\\archive\\to_dmc\\1Z_CL394__CFN_2022_07_09T13_09_58.mseed\u001b[0m\n",
      "\u001b[1m2025-04-02T12:01:53.839851-0700 | INFO | mth5.io.conversion | split_ms_to_days | Wrote miniseed file to: c:\\Users\\jpeacock\\OneDrive - DOI\\MTData\\CL2021\\archive\\to_dmc\\1Z_CL394__CFE_2022_07_09T13_09_58.mseed\u001b[0m\n",
      "\u001b[1m2025-04-02T12:01:54.025059-0700 | INFO | mth5.io.conversion | split_ms_to_days | Wrote miniseed file to: c:\\Users\\jpeacock\\OneDrive - DOI\\MTData\\CL2021\\archive\\to_dmc\\1Z_CL394__CFZ_2022_07_09T13_09_58.mseed\u001b[0m\n",
      "\u001b[1m2025-04-02T12:01:55.026794-0700 | INFO | mth5.mth5 | close_mth5 | Flushing and closing c:\\Users\\jpeacock\\OneDrive - DOI\\MTData\\CL2021\\archive\\cl394.h5\u001b[0m\n",
      "\u001b[33m\u001b[1m2025-04-02T12:01:55.030795-0700 | WARNING | mt_metadata.timeseries.stationxml.xml_station_mt_station | mt_to_xml | Station.geographic_name is None, using Station.id = cl394.Check StationXML site.name.\u001b[0m\n",
      "\u001b[1m2025-04-02T12:01:55.120810-0700 | INFO | mt_metadata.timeseries.filters.channel_response | to_obspy | total sensitivity 104382542748.06306 != total gain 1048576000.000055. Using total_gain.\u001b[0m\n",
      "\u001b[1m2025-04-02T12:01:55.166343-0700 | INFO | mt_metadata.timeseries.filters.channel_response | to_obspy | total sensitivity 105026369151.30917 != total gain 1048576000.000055. Using total_gain.\u001b[0m\n",
      "\u001b[1m2025-04-02T12:01:55.200341-0700 | INFO | mt_metadata.timeseries.filters.channel_response | to_obspy | total sensitivity 105276966379.19785 != total gain 1048576000.000055. Using total_gain.\u001b[0m\n",
      "\u001b[1m2025-04-02T12:01:55.299861-0700 | INFO | mt_metadata.timeseries.filters.channel_response | to_obspy | total sensitivity 104382542748.06306 != total gain 1048576000.000055. Using total_gain.\u001b[0m\n",
      "\u001b[1m2025-04-02T12:01:55.328373-0700 | INFO | mt_metadata.timeseries.filters.channel_response | to_obspy | total sensitivity 105026369151.30917 != total gain 1048576000.000055. Using total_gain.\u001b[0m\n",
      "\u001b[1m2025-04-02T12:01:55.360407-0700 | INFO | mt_metadata.timeseries.filters.channel_response | to_obspy | total sensitivity 105276966379.19785 != total gain 1048576000.000055. Using total_gain.\u001b[0m\n",
      "\u001b[1m2025-04-02T12:01:55.449921-0700 | INFO | mt_metadata.timeseries.filters.channel_response | to_obspy | total sensitivity 104382542748.06306 != total gain 1048576000.000055. Using total_gain.\u001b[0m\n",
      "\u001b[1m2025-04-02T12:01:55.479921-0700 | INFO | mt_metadata.timeseries.filters.channel_response | to_obspy | total sensitivity 105026369151.30917 != total gain 1048576000.000055. Using total_gain.\u001b[0m\n",
      "\u001b[1m2025-04-02T12:01:55.510963-0700 | INFO | mt_metadata.timeseries.filters.channel_response | to_obspy | total sensitivity 105276966379.19785 != total gain 1048576000.000055. Using total_gain.\u001b[0m\n",
      "\u001b[1m2025-04-02T12:01:55.613461-0700 | INFO | mt_metadata.timeseries.filters.channel_response | to_obspy | total sensitivity 104382542748.06306 != total gain 1048576000.000055. Using total_gain.\u001b[0m\n",
      "\u001b[1m2025-04-02T12:01:55.644007-0700 | INFO | mt_metadata.timeseries.filters.channel_response | to_obspy | total sensitivity 105026369151.30917 != total gain 1048576000.000055. Using total_gain.\u001b[0m\n",
      "\u001b[1m2025-04-02T12:01:55.673008-0700 | INFO | mt_metadata.timeseries.filters.channel_response | to_obspy | total sensitivity 105276966379.19785 != total gain 1048576000.000055. Using total_gain.\u001b[0m\n",
      "\u001b[1m2025-04-02T12:01:55.774594-0700 | INFO | mt_metadata.timeseries.filters.channel_response | to_obspy | total sensitivity 104382542748.06306 != total gain 1048576000.000055. Using total_gain.\u001b[0m\n",
      "\u001b[1m2025-04-02T12:01:55.807559-0700 | INFO | mt_metadata.timeseries.filters.channel_response | to_obspy | total sensitivity 105026369151.30917 != total gain 1048576000.000055. Using total_gain.\u001b[0m\n",
      "\u001b[1m2025-04-02T12:01:55.838077-0700 | INFO | mt_metadata.timeseries.filters.channel_response | to_obspy | total sensitivity 105276966379.19785 != total gain 1048576000.000055. Using total_gain.\u001b[0m\n",
      "\u001b[1m2025-04-02T12:01:55.930630-0700 | INFO | mt_metadata.timeseries.filters.channel_response | to_obspy | total sensitivity 104382542748.06306 != total gain 1048576000.000055. Using total_gain.\u001b[0m\n",
      "\u001b[1m2025-04-02T12:01:55.958632-0700 | INFO | mt_metadata.timeseries.filters.channel_response | to_obspy | total sensitivity 105026369151.30917 != total gain 1048576000.000055. Using total_gain.\u001b[0m\n",
      "\u001b[1m2025-04-02T12:01:55.990666-0700 | INFO | mt_metadata.timeseries.filters.channel_response | to_obspy | total sensitivity 105276966379.19785 != total gain 1048576000.000055. Using total_gain.\u001b[0m\n",
      "\u001b[1m2025-04-02T12:01:56.094450-0700 | INFO | mt_metadata.timeseries.filters.channel_response | to_obspy | total sensitivity 104382542748.06306 != total gain 1048576000.000055. Using total_gain.\u001b[0m\n",
      "\u001b[1m2025-04-02T12:01:56.142989-0700 | INFO | mt_metadata.timeseries.filters.channel_response | to_obspy | total sensitivity 105026369151.30917 != total gain 1048576000.000055. Using total_gain.\u001b[0m\n",
      "\u001b[1m2025-04-02T12:01:56.173991-0700 | INFO | mt_metadata.timeseries.filters.channel_response | to_obspy | total sensitivity 105276966379.19785 != total gain 1048576000.000055. Using total_gain.\u001b[0m\n",
      "\u001b[1m2025-04-02T12:01:56.263536-0700 | INFO | mt_metadata.timeseries.filters.channel_response | to_obspy | total sensitivity 104382542748.06306 != total gain 1048576000.000055. Using total_gain.\u001b[0m\n",
      "\u001b[1m2025-04-02T12:01:56.292538-0700 | INFO | mt_metadata.timeseries.filters.channel_response | to_obspy | total sensitivity 105026369151.30917 != total gain 1048576000.000055. Using total_gain.\u001b[0m\n",
      "\u001b[1m2025-04-02T12:01:56.323509-0700 | INFO | mt_metadata.timeseries.filters.channel_response | to_obspy | total sensitivity 105276966379.19785 != total gain 1048576000.000055. Using total_gain.\u001b[0m\n",
      "\u001b[1m2025-04-02T12:01:56.356532-0700 | INFO | mth5.io.conversion | convert_mth5_to_ms_stationxml | Wrote StationXML to c:\\Users\\jpeacock\\OneDrive - DOI\\MTData\\CL2021\\archive\\to_dmc\\cl394.xml\u001b[0m\n",
      "\u001b[33m\u001b[1m2025-04-02T12:01:58.704381-0700 | WARNING | mt_metadata.timeseries.station | remove_run | Could not find cl395a to remove.\u001b[0m\n",
      "\u001b[1m2025-04-02T12:02:02.614616-0700 | INFO | mth5.io.conversion | split_ms_to_days | Wrote miniseed file to: c:\\Users\\jpeacock\\OneDrive - DOI\\MTData\\CL2021\\archive\\to_dmc\\1Z_CL395__LQN_2022_07_11T18_09_58.mseed\u001b[0m\n",
      "\u001b[1m2025-04-02T12:02:02.620132-0700 | INFO | mth5.io.conversion | split_ms_to_days | Wrote miniseed file to: c:\\Users\\jpeacock\\OneDrive - DOI\\MTData\\CL2021\\archive\\to_dmc\\1Z_CL395__LQN_2022_07_12T00_00_00.mseed\u001b[0m\n",
      "\u001b[1m2025-04-02T12:02:02.627680-0700 | INFO | mth5.io.conversion | split_ms_to_days | Wrote miniseed file to: c:\\Users\\jpeacock\\OneDrive - DOI\\MTData\\CL2021\\archive\\to_dmc\\1Z_CL395__LQE_2022_07_11T18_09_58.mseed\u001b[0m\n",
      "\u001b[1m2025-04-02T12:02:02.632688-0700 | INFO | mth5.io.conversion | split_ms_to_days | Wrote miniseed file to: c:\\Users\\jpeacock\\OneDrive - DOI\\MTData\\CL2021\\archive\\to_dmc\\1Z_CL395__LQE_2022_07_12T00_00_00.mseed\u001b[0m\n",
      "\u001b[1m2025-04-02T12:02:02.642687-0700 | INFO | mth5.io.conversion | split_ms_to_days | Wrote miniseed file to: c:\\Users\\jpeacock\\OneDrive - DOI\\MTData\\CL2021\\archive\\to_dmc\\1Z_CL395__LFN_2022_07_11T18_09_58.mseed\u001b[0m\n",
      "\u001b[1m2025-04-02T12:02:02.646685-0700 | INFO | mth5.io.conversion | split_ms_to_days | Wrote miniseed file to: c:\\Users\\jpeacock\\OneDrive - DOI\\MTData\\CL2021\\archive\\to_dmc\\1Z_CL395__LFN_2022_07_12T00_00_00.mseed\u001b[0m\n",
      "\u001b[1m2025-04-02T12:02:02.654691-0700 | INFO | mth5.io.conversion | split_ms_to_days | Wrote miniseed file to: c:\\Users\\jpeacock\\OneDrive - DOI\\MTData\\CL2021\\archive\\to_dmc\\1Z_CL395__LFE_2022_07_11T18_09_58.mseed\u001b[0m\n",
      "\u001b[1m2025-04-02T12:02:02.658690-0700 | INFO | mth5.io.conversion | split_ms_to_days | Wrote miniseed file to: c:\\Users\\jpeacock\\OneDrive - DOI\\MTData\\CL2021\\archive\\to_dmc\\1Z_CL395__LFE_2022_07_12T00_00_00.mseed\u001b[0m\n",
      "\u001b[1m2025-04-02T12:02:02.668688-0700 | INFO | mth5.io.conversion | split_ms_to_days | Wrote miniseed file to: c:\\Users\\jpeacock\\OneDrive - DOI\\MTData\\CL2021\\archive\\to_dmc\\1Z_CL395__LFZ_2022_07_11T18_09_58.mseed\u001b[0m\n",
      "\u001b[1m2025-04-02T12:02:02.673687-0700 | INFO | mth5.io.conversion | split_ms_to_days | Wrote miniseed file to: c:\\Users\\jpeacock\\OneDrive - DOI\\MTData\\CL2021\\archive\\to_dmc\\1Z_CL395__LFZ_2022_07_12T00_00_00.mseed\u001b[0m\n",
      "\u001b[1m2025-04-02T12:02:07.181534-0700 | INFO | mth5.io.conversion | split_ms_to_days | Wrote miniseed file to: c:\\Users\\jpeacock\\OneDrive - DOI\\MTData\\CL2021\\archive\\to_dmc\\1Z_CL395__CQN_2022_07_11T18_09_58.mseed\u001b[0m\n",
      "\u001b[1m2025-04-02T12:02:07.248085-0700 | INFO | mth5.io.conversion | split_ms_to_days | Wrote miniseed file to: c:\\Users\\jpeacock\\OneDrive - DOI\\MTData\\CL2021\\archive\\to_dmc\\1Z_CL395__CQE_2022_07_11T18_09_58.mseed\u001b[0m\n",
      "\u001b[1m2025-04-02T12:02:07.318066-0700 | INFO | mth5.io.conversion | split_ms_to_days | Wrote miniseed file to: c:\\Users\\jpeacock\\OneDrive - DOI\\MTData\\CL2021\\archive\\to_dmc\\1Z_CL395__CFN_2022_07_11T18_09_58.mseed\u001b[0m\n",
      "\u001b[1m2025-04-02T12:02:07.383582-0700 | INFO | mth5.io.conversion | split_ms_to_days | Wrote miniseed file to: c:\\Users\\jpeacock\\OneDrive - DOI\\MTData\\CL2021\\archive\\to_dmc\\1Z_CL395__CFE_2022_07_11T18_09_58.mseed\u001b[0m\n",
      "\u001b[1m2025-04-02T12:02:07.452112-0700 | INFO | mth5.io.conversion | split_ms_to_days | Wrote miniseed file to: c:\\Users\\jpeacock\\OneDrive - DOI\\MTData\\CL2021\\archive\\to_dmc\\1Z_CL395__CFZ_2022_07_11T18_09_58.mseed\u001b[0m\n",
      "\u001b[1m2025-04-02T12:02:10.862321-0700 | INFO | mth5.timeseries.run_ts | _align_channels | Channels do not have a common end, using latest: 2022-07-11T19:09:41.999268000\u001b[0m\n"
     ]
    },
    {
     "name": "stderr",
     "output_type": "stream",
     "text": [
      "C:\\Users\\jpeacock\\OneDrive - DOI\\Documents\\GitHub\\mth5\\mth5\\timeseries\\channel_ts.py:1524: RuntimeWarning: invalid value encountered in cast\n",
      "  obspy_trace = Trace(self.ts.astype(encoding_dict[encoding]))\n"
     ]
    },
    {
     "name": "stdout",
     "output_type": "stream",
     "text": [
      "\u001b[1m2025-04-02T12:02:13.862692-0700 | INFO | mth5.io.conversion | split_ms_to_days | Wrote miniseed file to: c:\\Users\\jpeacock\\OneDrive - DOI\\MTData\\CL2021\\archive\\to_dmc\\1Z_CL395__FQN_2022_07_11T18_59_58.mseed\u001b[0m\n",
      "\u001b[1m2025-04-02T12:02:14.092928-0700 | INFO | mth5.io.conversion | split_ms_to_days | Wrote miniseed file to: c:\\Users\\jpeacock\\OneDrive - DOI\\MTData\\CL2021\\archive\\to_dmc\\1Z_CL395__FQE_2022_07_11T18_59_58.mseed\u001b[0m\n",
      "\u001b[1m2025-04-02T12:02:14.312560-0700 | INFO | mth5.io.conversion | split_ms_to_days | Wrote miniseed file to: c:\\Users\\jpeacock\\OneDrive - DOI\\MTData\\CL2021\\archive\\to_dmc\\1Z_CL395__FFN_2022_07_11T18_59_58.mseed\u001b[0m\n",
      "\u001b[1m2025-04-02T12:02:14.506643-0700 | INFO | mth5.io.conversion | split_ms_to_days | Wrote miniseed file to: c:\\Users\\jpeacock\\OneDrive - DOI\\MTData\\CL2021\\archive\\to_dmc\\1Z_CL395__FFE_2022_07_11T18_59_58.mseed\u001b[0m\n",
      "\u001b[1m2025-04-02T12:02:14.709776-0700 | INFO | mth5.io.conversion | split_ms_to_days | Wrote miniseed file to: c:\\Users\\jpeacock\\OneDrive - DOI\\MTData\\CL2021\\archive\\to_dmc\\1Z_CL395__FFZ_2022_07_11T18_59_58.mseed\u001b[0m\n",
      "\u001b[1m2025-04-02T12:02:22.528254-0700 | INFO | mth5.io.conversion | split_ms_to_days | Wrote miniseed file to: c:\\Users\\jpeacock\\OneDrive - DOI\\MTData\\CL2021\\archive\\to_dmc\\1Z_CL395__CQN_2022_07_11T19_09_58.mseed\u001b[0m\n",
      "\u001b[1m2025-04-02T12:02:22.921365-0700 | INFO | mth5.io.conversion | split_ms_to_days | Wrote miniseed file to: c:\\Users\\jpeacock\\OneDrive - DOI\\MTData\\CL2021\\archive\\to_dmc\\1Z_CL395__CQN_2022_07_12T00_00_00.mseed\u001b[0m\n",
      "\u001b[1m2025-04-02T12:02:23.009886-0700 | INFO | mth5.io.conversion | split_ms_to_days | Wrote miniseed file to: c:\\Users\\jpeacock\\OneDrive - DOI\\MTData\\CL2021\\archive\\to_dmc\\1Z_CL395__CQE_2022_07_11T19_09_58.mseed\u001b[0m\n",
      "\u001b[1m2025-04-02T12:02:23.432006-0700 | INFO | mth5.io.conversion | split_ms_to_days | Wrote miniseed file to: c:\\Users\\jpeacock\\OneDrive - DOI\\MTData\\CL2021\\archive\\to_dmc\\1Z_CL395__CQE_2022_07_12T00_00_00.mseed\u001b[0m\n",
      "\u001b[1m2025-04-02T12:02:23.509791-0700 | INFO | mth5.io.conversion | split_ms_to_days | Wrote miniseed file to: c:\\Users\\jpeacock\\OneDrive - DOI\\MTData\\CL2021\\archive\\to_dmc\\1Z_CL395__CFN_2022_07_11T19_09_58.mseed\u001b[0m\n",
      "\u001b[1m2025-04-02T12:02:23.882952-0700 | INFO | mth5.io.conversion | split_ms_to_days | Wrote miniseed file to: c:\\Users\\jpeacock\\OneDrive - DOI\\MTData\\CL2021\\archive\\to_dmc\\1Z_CL395__CFN_2022_07_12T00_00_00.mseed\u001b[0m\n",
      "\u001b[1m2025-04-02T12:02:23.965567-0700 | INFO | mth5.io.conversion | split_ms_to_days | Wrote miniseed file to: c:\\Users\\jpeacock\\OneDrive - DOI\\MTData\\CL2021\\archive\\to_dmc\\1Z_CL395__CFE_2022_07_11T19_09_58.mseed\u001b[0m\n",
      "\u001b[1m2025-04-02T12:02:24.366424-0700 | INFO | mth5.io.conversion | split_ms_to_days | Wrote miniseed file to: c:\\Users\\jpeacock\\OneDrive - DOI\\MTData\\CL2021\\archive\\to_dmc\\1Z_CL395__CFE_2022_07_12T00_00_00.mseed\u001b[0m\n",
      "\u001b[1m2025-04-02T12:02:24.444976-0700 | INFO | mth5.io.conversion | split_ms_to_days | Wrote miniseed file to: c:\\Users\\jpeacock\\OneDrive - DOI\\MTData\\CL2021\\archive\\to_dmc\\1Z_CL395__CFZ_2022_07_11T19_09_58.mseed\u001b[0m\n",
      "\u001b[1m2025-04-02T12:02:24.827526-0700 | INFO | mth5.io.conversion | split_ms_to_days | Wrote miniseed file to: c:\\Users\\jpeacock\\OneDrive - DOI\\MTData\\CL2021\\archive\\to_dmc\\1Z_CL395__CFZ_2022_07_12T00_00_00.mseed\u001b[0m\n",
      "\u001b[1m2025-04-02T12:02:28.443988-0700 | INFO | mth5.timeseries.run_ts | _align_channels | Channels do not have a common end, using latest: 2022-07-12T01:09:41.997314453\u001b[0m\n",
      "\u001b[33m\u001b[1m2025-04-02T12:02:30.821538-0700 | WARNING | mth5.timeseries.run_ts | validate_metadata | end time of dataset 2022-07-12T01:09:41.997070312+00:00 does not match metadata end 2022-07-12T01:09:41.997314453+00:00 updating metatdata value to 2022-07-12T01:09:41.997070312+00:00\u001b[0m\n"
     ]
    },
    {
     "name": "stderr",
     "output_type": "stream",
     "text": [
      "C:\\Users\\jpeacock\\OneDrive - DOI\\Documents\\GitHub\\mth5\\mth5\\timeseries\\channel_ts.py:1524: RuntimeWarning: invalid value encountered in cast\n",
      "  obspy_trace = Trace(self.ts.astype(encoding_dict[encoding]))\n"
     ]
    },
    {
     "name": "stdout",
     "output_type": "stream",
     "text": [
      "\u001b[1m2025-04-02T12:02:31.684033-0700 | INFO | mth5.io.conversion | split_ms_to_days | Wrote miniseed file to: c:\\Users\\jpeacock\\OneDrive - DOI\\MTData\\CL2021\\archive\\to_dmc\\1Z_CL395__FQN_2022_07_12T00_59_58.mseed\u001b[0m\n",
      "\u001b[1m2025-04-02T12:02:31.885065-0700 | INFO | mth5.io.conversion | split_ms_to_days | Wrote miniseed file to: c:\\Users\\jpeacock\\OneDrive - DOI\\MTData\\CL2021\\archive\\to_dmc\\1Z_CL395__FQE_2022_07_12T00_59_58.mseed\u001b[0m\n",
      "\u001b[1m2025-04-02T12:02:32.103416-0700 | INFO | mth5.io.conversion | split_ms_to_days | Wrote miniseed file to: c:\\Users\\jpeacock\\OneDrive - DOI\\MTData\\CL2021\\archive\\to_dmc\\1Z_CL395__FFN_2022_07_12T00_59_58.mseed\u001b[0m\n",
      "\u001b[1m2025-04-02T12:02:32.321457-0700 | INFO | mth5.io.conversion | split_ms_to_days | Wrote miniseed file to: c:\\Users\\jpeacock\\OneDrive - DOI\\MTData\\CL2021\\archive\\to_dmc\\1Z_CL395__FFE_2022_07_12T00_59_58.mseed\u001b[0m\n",
      "\u001b[1m2025-04-02T12:02:32.527146-0700 | INFO | mth5.io.conversion | split_ms_to_days | Wrote miniseed file to: c:\\Users\\jpeacock\\OneDrive - DOI\\MTData\\CL2021\\archive\\to_dmc\\1Z_CL395__FFZ_2022_07_12T00_59_58.mseed\u001b[0m\n",
      "\u001b[1m2025-04-02T12:02:40.585233-0700 | INFO | mth5.timeseries.run_ts | _align_channels | Channels do not have a common end, using latest: 2022-07-12T06:59:41.968750000\u001b[0m\n",
      "\u001b[1m2025-04-02T12:02:45.158035-0700 | INFO | mth5.io.conversion | split_ms_to_days | Wrote miniseed file to: c:\\Users\\jpeacock\\OneDrive - DOI\\MTData\\CL2021\\archive\\to_dmc\\1Z_CL395__CQN_2022_07_12T01_09_58.mseed\u001b[0m\n",
      "\u001b[1m2025-04-02T12:02:45.599476-0700 | INFO | mth5.io.conversion | split_ms_to_days | Wrote miniseed file to: c:\\Users\\jpeacock\\OneDrive - DOI\\MTData\\CL2021\\archive\\to_dmc\\1Z_CL395__CQE_2022_07_12T01_09_58.mseed\u001b[0m\n",
      "\u001b[1m2025-04-02T12:02:46.064256-0700 | INFO | mth5.io.conversion | split_ms_to_days | Wrote miniseed file to: c:\\Users\\jpeacock\\OneDrive - DOI\\MTData\\CL2021\\archive\\to_dmc\\1Z_CL395__CFN_2022_07_12T01_09_58.mseed\u001b[0m\n",
      "\u001b[1m2025-04-02T12:02:46.519126-0700 | INFO | mth5.io.conversion | split_ms_to_days | Wrote miniseed file to: c:\\Users\\jpeacock\\OneDrive - DOI\\MTData\\CL2021\\archive\\to_dmc\\1Z_CL395__CFE_2022_07_12T01_09_58.mseed\u001b[0m\n",
      "\u001b[1m2025-04-02T12:02:46.960187-0700 | INFO | mth5.io.conversion | split_ms_to_days | Wrote miniseed file to: c:\\Users\\jpeacock\\OneDrive - DOI\\MTData\\CL2021\\archive\\to_dmc\\1Z_CL395__CFZ_2022_07_12T01_09_58.mseed\u001b[0m\n",
      "\u001b[1m2025-04-02T12:02:51.387095-0700 | INFO | mth5.timeseries.run_ts | _align_channels | Channels do not have a common end, using latest: 2022-07-12T07:09:41.999268000\u001b[0m\n"
     ]
    },
    {
     "name": "stderr",
     "output_type": "stream",
     "text": [
      "C:\\Users\\jpeacock\\OneDrive - DOI\\Documents\\GitHub\\mth5\\mth5\\timeseries\\channel_ts.py:1524: RuntimeWarning: invalid value encountered in cast\n",
      "  obspy_trace = Trace(self.ts.astype(encoding_dict[encoding]))\n"
     ]
    },
    {
     "name": "stdout",
     "output_type": "stream",
     "text": [
      "\u001b[1m2025-04-02T12:02:54.495223-0700 | INFO | mth5.io.conversion | split_ms_to_days | Wrote miniseed file to: c:\\Users\\jpeacock\\OneDrive - DOI\\MTData\\CL2021\\archive\\to_dmc\\1Z_CL395__FQN_2022_07_12T06_59_58.mseed\u001b[0m\n",
      "\u001b[1m2025-04-02T12:02:54.696276-0700 | INFO | mth5.io.conversion | split_ms_to_days | Wrote miniseed file to: c:\\Users\\jpeacock\\OneDrive - DOI\\MTData\\CL2021\\archive\\to_dmc\\1Z_CL395__FQE_2022_07_12T06_59_58.mseed\u001b[0m\n",
      "\u001b[1m2025-04-02T12:02:54.894704-0700 | INFO | mth5.io.conversion | split_ms_to_days | Wrote miniseed file to: c:\\Users\\jpeacock\\OneDrive - DOI\\MTData\\CL2021\\archive\\to_dmc\\1Z_CL395__FFN_2022_07_12T06_59_58.mseed\u001b[0m\n",
      "\u001b[1m2025-04-02T12:02:55.088815-0700 | INFO | mth5.io.conversion | split_ms_to_days | Wrote miniseed file to: c:\\Users\\jpeacock\\OneDrive - DOI\\MTData\\CL2021\\archive\\to_dmc\\1Z_CL395__FFE_2022_07_12T06_59_58.mseed\u001b[0m\n",
      "\u001b[1m2025-04-02T12:02:55.281478-0700 | INFO | mth5.io.conversion | split_ms_to_days | Wrote miniseed file to: c:\\Users\\jpeacock\\OneDrive - DOI\\MTData\\CL2021\\archive\\to_dmc\\1Z_CL395__FFZ_2022_07_12T06_59_58.mseed\u001b[0m\n",
      "\u001b[1m2025-04-02T12:03:03.337875-0700 | INFO | mth5.io.conversion | split_ms_to_days | Wrote miniseed file to: c:\\Users\\jpeacock\\OneDrive - DOI\\MTData\\CL2021\\archive\\to_dmc\\1Z_CL395__CQN_2022_07_12T07_09_58.mseed\u001b[0m\n",
      "\u001b[1m2025-04-02T12:03:03.812808-0700 | INFO | mth5.io.conversion | split_ms_to_days | Wrote miniseed file to: c:\\Users\\jpeacock\\OneDrive - DOI\\MTData\\CL2021\\archive\\to_dmc\\1Z_CL395__CQE_2022_07_12T07_09_58.mseed\u001b[0m\n",
      "\u001b[1m2025-04-02T12:03:04.263001-0700 | INFO | mth5.io.conversion | split_ms_to_days | Wrote miniseed file to: c:\\Users\\jpeacock\\OneDrive - DOI\\MTData\\CL2021\\archive\\to_dmc\\1Z_CL395__CFN_2022_07_12T07_09_58.mseed\u001b[0m\n",
      "\u001b[1m2025-04-02T12:03:04.732586-0700 | INFO | mth5.io.conversion | split_ms_to_days | Wrote miniseed file to: c:\\Users\\jpeacock\\OneDrive - DOI\\MTData\\CL2021\\archive\\to_dmc\\1Z_CL395__CFE_2022_07_12T07_09_58.mseed\u001b[0m\n",
      "\u001b[1m2025-04-02T12:03:05.220367-0700 | INFO | mth5.io.conversion | split_ms_to_days | Wrote miniseed file to: c:\\Users\\jpeacock\\OneDrive - DOI\\MTData\\CL2021\\archive\\to_dmc\\1Z_CL395__CFZ_2022_07_12T07_09_58.mseed\u001b[0m\n",
      "\u001b[1m2025-04-02T12:03:09.613836-0700 | INFO | mth5.timeseries.run_ts | _align_channels | Channels do not have a common end, using latest: 2022-07-12T13:09:41.998779296\u001b[0m\n",
      "\u001b[33m\u001b[1m2025-04-02T12:03:12.373446-0700 | WARNING | mth5.timeseries.run_ts | validate_metadata | end time of dataset 2022-07-12T13:09:41.998535156+00:00 does not match metadata end 2022-07-12T13:09:41.998779296+00:00 updating metatdata value to 2022-07-12T13:09:41.998535156+00:00\u001b[0m\n"
     ]
    },
    {
     "name": "stderr",
     "output_type": "stream",
     "text": [
      "C:\\Users\\jpeacock\\OneDrive - DOI\\Documents\\GitHub\\mth5\\mth5\\timeseries\\channel_ts.py:1524: RuntimeWarning: invalid value encountered in cast\n",
      "  obspy_trace = Trace(self.ts.astype(encoding_dict[encoding]))\n"
     ]
    },
    {
     "name": "stdout",
     "output_type": "stream",
     "text": [
      "\u001b[1m2025-04-02T12:03:13.151939-0700 | INFO | mth5.io.conversion | split_ms_to_days | Wrote miniseed file to: c:\\Users\\jpeacock\\OneDrive - DOI\\MTData\\CL2021\\archive\\to_dmc\\1Z_CL395__FQN_2022_07_12T12_59_58.mseed\u001b[0m\n",
      "\u001b[1m2025-04-02T12:03:13.342560-0700 | INFO | mth5.io.conversion | split_ms_to_days | Wrote miniseed file to: c:\\Users\\jpeacock\\OneDrive - DOI\\MTData\\CL2021\\archive\\to_dmc\\1Z_CL395__FQE_2022_07_12T12_59_58.mseed\u001b[0m\n",
      "\u001b[1m2025-04-02T12:03:13.544627-0700 | INFO | mth5.io.conversion | split_ms_to_days | Wrote miniseed file to: c:\\Users\\jpeacock\\OneDrive - DOI\\MTData\\CL2021\\archive\\to_dmc\\1Z_CL395__FFN_2022_07_12T12_59_58.mseed\u001b[0m\n",
      "\u001b[1m2025-04-02T12:03:13.741791-0700 | INFO | mth5.io.conversion | split_ms_to_days | Wrote miniseed file to: c:\\Users\\jpeacock\\OneDrive - DOI\\MTData\\CL2021\\archive\\to_dmc\\1Z_CL395__FFE_2022_07_12T12_59_58.mseed\u001b[0m\n",
      "\u001b[1m2025-04-02T12:03:13.940601-0700 | INFO | mth5.io.conversion | split_ms_to_days | Wrote miniseed file to: c:\\Users\\jpeacock\\OneDrive - DOI\\MTData\\CL2021\\archive\\to_dmc\\1Z_CL395__FFZ_2022_07_12T12_59_58.mseed\u001b[0m\n",
      "\u001b[1m2025-04-02T12:03:21.191630-0700 | INFO | mth5.io.conversion | split_ms_to_days | Wrote miniseed file to: c:\\Users\\jpeacock\\OneDrive - DOI\\MTData\\CL2021\\archive\\to_dmc\\1Z_CL395__CQN_2022_07_12T13_09_58.mseed\u001b[0m\n",
      "\u001b[1m2025-04-02T12:03:21.505296-0700 | INFO | mth5.io.conversion | split_ms_to_days | Wrote miniseed file to: c:\\Users\\jpeacock\\OneDrive - DOI\\MTData\\CL2021\\archive\\to_dmc\\1Z_CL395__CQE_2022_07_12T13_09_58.mseed\u001b[0m\n",
      "\u001b[1m2025-04-02T12:03:21.833940-0700 | INFO | mth5.io.conversion | split_ms_to_days | Wrote miniseed file to: c:\\Users\\jpeacock\\OneDrive - DOI\\MTData\\CL2021\\archive\\to_dmc\\1Z_CL395__CFN_2022_07_12T13_09_58.mseed\u001b[0m\n",
      "\u001b[1m2025-04-02T12:03:22.174720-0700 | INFO | mth5.io.conversion | split_ms_to_days | Wrote miniseed file to: c:\\Users\\jpeacock\\OneDrive - DOI\\MTData\\CL2021\\archive\\to_dmc\\1Z_CL395__CFE_2022_07_12T13_09_58.mseed\u001b[0m\n",
      "\u001b[1m2025-04-02T12:03:22.530468-0700 | INFO | mth5.io.conversion | split_ms_to_days | Wrote miniseed file to: c:\\Users\\jpeacock\\OneDrive - DOI\\MTData\\CL2021\\archive\\to_dmc\\1Z_CL395__CFZ_2022_07_12T13_09_58.mseed\u001b[0m\n",
      "\u001b[1m2025-04-02T12:03:23.866692-0700 | INFO | mth5.mth5 | close_mth5 | Flushing and closing c:\\Users\\jpeacock\\OneDrive - DOI\\MTData\\CL2021\\archive\\cl395.h5\u001b[0m\n",
      "\u001b[33m\u001b[1m2025-04-02T12:03:23.871684-0700 | WARNING | mt_metadata.timeseries.stationxml.xml_station_mt_station | mt_to_xml | Station.geographic_name is None, using Station.id = cl395.Check StationXML site.name.\u001b[0m\n",
      "\u001b[1m2025-04-02T12:03:23.947219-0700 | INFO | mt_metadata.timeseries.filters.channel_response | to_obspy | total sensitivity 104063415757.0512 != total gain 1048576000.000055. Using total_gain.\u001b[0m\n",
      "\u001b[1m2025-04-02T12:03:23.979263-0700 | INFO | mt_metadata.timeseries.filters.channel_response | to_obspy | total sensitivity 104064067310.72034 != total gain 1048576000.000055. Using total_gain.\u001b[0m\n",
      "\u001b[1m2025-04-02T12:03:24.010731-0700 | INFO | mt_metadata.timeseries.filters.channel_response | to_obspy | total sensitivity 104852080647.21446 != total gain 1048576000.000055. Using total_gain.\u001b[0m\n",
      "\u001b[1m2025-04-02T12:03:24.102393-0700 | INFO | mt_metadata.timeseries.filters.channel_response | to_obspy | total sensitivity 104063415757.0512 != total gain 1048576000.000055. Using total_gain.\u001b[0m\n",
      "\u001b[1m2025-04-02T12:03:24.132694-0700 | INFO | mt_metadata.timeseries.filters.channel_response | to_obspy | total sensitivity 104064067310.72034 != total gain 1048576000.000055. Using total_gain.\u001b[0m\n",
      "\u001b[1m2025-04-02T12:03:24.162658-0700 | INFO | mt_metadata.timeseries.filters.channel_response | to_obspy | total sensitivity 104852080647.21446 != total gain 1048576000.000055. Using total_gain.\u001b[0m\n",
      "\u001b[1m2025-04-02T12:03:24.259309-0700 | INFO | mt_metadata.timeseries.filters.channel_response | to_obspy | total sensitivity 104063415757.0512 != total gain 1048576000.000055. Using total_gain.\u001b[0m\n",
      "\u001b[1m2025-04-02T12:03:24.287350-0700 | INFO | mt_metadata.timeseries.filters.channel_response | to_obspy | total sensitivity 104064067310.72034 != total gain 1048576000.000055. Using total_gain.\u001b[0m\n",
      "\u001b[1m2025-04-02T12:03:24.315857-0700 | INFO | mt_metadata.timeseries.filters.channel_response | to_obspy | total sensitivity 104852080647.21446 != total gain 1048576000.000055. Using total_gain.\u001b[0m\n",
      "\u001b[1m2025-04-02T12:03:24.431341-0700 | INFO | mt_metadata.timeseries.filters.channel_response | to_obspy | total sensitivity 104063415757.0512 != total gain 1048576000.000055. Using total_gain.\u001b[0m\n",
      "\u001b[1m2025-04-02T12:03:24.461374-0700 | INFO | mt_metadata.timeseries.filters.channel_response | to_obspy | total sensitivity 104064067310.72034 != total gain 1048576000.000055. Using total_gain.\u001b[0m\n",
      "\u001b[1m2025-04-02T12:03:24.495902-0700 | INFO | mt_metadata.timeseries.filters.channel_response | to_obspy | total sensitivity 104852080647.21446 != total gain 1048576000.000055. Using total_gain.\u001b[0m\n",
      "\u001b[1m2025-04-02T12:03:24.584971-0700 | INFO | mt_metadata.timeseries.filters.channel_response | to_obspy | total sensitivity 104063415757.0512 != total gain 1048576000.000055. Using total_gain.\u001b[0m\n",
      "\u001b[1m2025-04-02T12:03:24.616547-0700 | INFO | mt_metadata.timeseries.filters.channel_response | to_obspy | total sensitivity 104064067310.72034 != total gain 1048576000.000055. Using total_gain.\u001b[0m\n",
      "\u001b[1m2025-04-02T12:03:24.644515-0700 | INFO | mt_metadata.timeseries.filters.channel_response | to_obspy | total sensitivity 104852080647.21446 != total gain 1048576000.000055. Using total_gain.\u001b[0m\n",
      "\u001b[1m2025-04-02T12:03:24.736089-0700 | INFO | mt_metadata.timeseries.filters.channel_response | to_obspy | total sensitivity 104063415757.0512 != total gain 1048576000.000055. Using total_gain.\u001b[0m\n",
      "\u001b[1m2025-04-02T12:03:24.765090-0700 | INFO | mt_metadata.timeseries.filters.channel_response | to_obspy | total sensitivity 104064067310.72034 != total gain 1048576000.000055. Using total_gain.\u001b[0m\n",
      "\u001b[1m2025-04-02T12:03:24.803518-0700 | INFO | mt_metadata.timeseries.filters.channel_response | to_obspy | total sensitivity 104852080647.21446 != total gain 1048576000.000055. Using total_gain.\u001b[0m\n",
      "\u001b[1m2025-04-02T12:03:24.904103-0700 | INFO | mt_metadata.timeseries.filters.channel_response | to_obspy | total sensitivity 104063415757.0512 != total gain 1048576000.000055. Using total_gain.\u001b[0m\n",
      "\u001b[1m2025-04-02T12:03:24.938104-0700 | INFO | mt_metadata.timeseries.filters.channel_response | to_obspy | total sensitivity 104064067310.72034 != total gain 1048576000.000055. Using total_gain.\u001b[0m\n",
      "\u001b[1m2025-04-02T12:03:24.969106-0700 | INFO | mt_metadata.timeseries.filters.channel_response | to_obspy | total sensitivity 104852080647.21446 != total gain 1048576000.000055. Using total_gain.\u001b[0m\n",
      "\u001b[1m2025-04-02T12:03:25.063654-0700 | INFO | mt_metadata.timeseries.filters.channel_response | to_obspy | total sensitivity 104063415757.0512 != total gain 1048576000.000055. Using total_gain.\u001b[0m\n",
      "\u001b[1m2025-04-02T12:03:25.092663-0700 | INFO | mt_metadata.timeseries.filters.channel_response | to_obspy | total sensitivity 104064067310.72034 != total gain 1048576000.000055. Using total_gain.\u001b[0m\n",
      "\u001b[1m2025-04-02T12:03:25.130210-0700 | INFO | mt_metadata.timeseries.filters.channel_response | to_obspy | total sensitivity 104852080647.21446 != total gain 1048576000.000055. Using total_gain.\u001b[0m\n",
      "\u001b[1m2025-04-02T12:03:25.222772-0700 | INFO | mt_metadata.timeseries.filters.channel_response | to_obspy | total sensitivity 104063415757.0512 != total gain 1048576000.000055. Using total_gain.\u001b[0m\n",
      "\u001b[1m2025-04-02T12:03:25.250772-0700 | INFO | mt_metadata.timeseries.filters.channel_response | to_obspy | total sensitivity 104064067310.72034 != total gain 1048576000.000055. Using total_gain.\u001b[0m\n",
      "\u001b[1m2025-04-02T12:03:25.287780-0700 | INFO | mt_metadata.timeseries.filters.channel_response | to_obspy | total sensitivity 104852080647.21446 != total gain 1048576000.000055. Using total_gain.\u001b[0m\n",
      "\u001b[1m2025-04-02T12:03:25.381365-0700 | INFO | mt_metadata.timeseries.filters.channel_response | to_obspy | total sensitivity 104063415757.0512 != total gain 1048576000.000055. Using total_gain.\u001b[0m\n",
      "\u001b[1m2025-04-02T12:03:25.408911-0700 | INFO | mt_metadata.timeseries.filters.channel_response | to_obspy | total sensitivity 104064067310.72034 != total gain 1048576000.000055. Using total_gain.\u001b[0m\n",
      "\u001b[1m2025-04-02T12:03:25.437942-0700 | INFO | mt_metadata.timeseries.filters.channel_response | to_obspy | total sensitivity 104852080647.21446 != total gain 1048576000.000055. Using total_gain.\u001b[0m\n",
      "\u001b[1m2025-04-02T12:03:25.467974-0700 | INFO | mth5.io.conversion | convert_mth5_to_ms_stationxml | Wrote StationXML to c:\\Users\\jpeacock\\OneDrive - DOI\\MTData\\CL2021\\archive\\to_dmc\\cl395.xml\u001b[0m\n",
      "\u001b[33m\u001b[1m2025-04-02T12:03:27.676293-0700 | WARNING | mt_metadata.timeseries.station | remove_run | Could not find cl396a to remove.\u001b[0m\n",
      "\u001b[1m2025-04-02T12:03:31.438523-0700 | INFO | mth5.io.conversion | split_ms_to_days | Wrote miniseed file to: c:\\Users\\jpeacock\\OneDrive - DOI\\MTData\\CL2021\\archive\\to_dmc\\1Z_CL396__LQN_2022_07_12T17_09_58.mseed\u001b[0m\n",
      "\u001b[1m2025-04-02T12:03:31.443547-0700 | INFO | mth5.io.conversion | split_ms_to_days | Wrote miniseed file to: c:\\Users\\jpeacock\\OneDrive - DOI\\MTData\\CL2021\\archive\\to_dmc\\1Z_CL396__LQN_2022_07_13T00_00_00.mseed\u001b[0m\n",
      "\u001b[1m2025-04-02T12:03:31.453537-0700 | INFO | mth5.io.conversion | split_ms_to_days | Wrote miniseed file to: c:\\Users\\jpeacock\\OneDrive - DOI\\MTData\\CL2021\\archive\\to_dmc\\1Z_CL396__LQE_2022_07_12T17_09_58.mseed\u001b[0m\n",
      "\u001b[1m2025-04-02T12:03:31.459538-0700 | INFO | mth5.io.conversion | split_ms_to_days | Wrote miniseed file to: c:\\Users\\jpeacock\\OneDrive - DOI\\MTData\\CL2021\\archive\\to_dmc\\1Z_CL396__LQE_2022_07_13T00_00_00.mseed\u001b[0m\n",
      "\u001b[1m2025-04-02T12:03:31.470540-0700 | INFO | mth5.io.conversion | split_ms_to_days | Wrote miniseed file to: c:\\Users\\jpeacock\\OneDrive - DOI\\MTData\\CL2021\\archive\\to_dmc\\1Z_CL396__LFN_2022_07_12T17_09_58.mseed\u001b[0m\n",
      "\u001b[1m2025-04-02T12:03:31.477527-0700 | INFO | mth5.io.conversion | split_ms_to_days | Wrote miniseed file to: c:\\Users\\jpeacock\\OneDrive - DOI\\MTData\\CL2021\\archive\\to_dmc\\1Z_CL396__LFN_2022_07_13T00_00_00.mseed\u001b[0m\n",
      "\u001b[1m2025-04-02T12:03:31.489537-0700 | INFO | mth5.io.conversion | split_ms_to_days | Wrote miniseed file to: c:\\Users\\jpeacock\\OneDrive - DOI\\MTData\\CL2021\\archive\\to_dmc\\1Z_CL396__LFE_2022_07_12T17_09_58.mseed\u001b[0m\n",
      "\u001b[1m2025-04-02T12:03:31.494537-0700 | INFO | mth5.io.conversion | split_ms_to_days | Wrote miniseed file to: c:\\Users\\jpeacock\\OneDrive - DOI\\MTData\\CL2021\\archive\\to_dmc\\1Z_CL396__LFE_2022_07_13T00_00_00.mseed\u001b[0m\n",
      "\u001b[1m2025-04-02T12:03:31.507055-0700 | INFO | mth5.io.conversion | split_ms_to_days | Wrote miniseed file to: c:\\Users\\jpeacock\\OneDrive - DOI\\MTData\\CL2021\\archive\\to_dmc\\1Z_CL396__LFZ_2022_07_12T17_09_58.mseed\u001b[0m\n",
      "\u001b[1m2025-04-02T12:03:31.513051-0700 | INFO | mth5.io.conversion | split_ms_to_days | Wrote miniseed file to: c:\\Users\\jpeacock\\OneDrive - DOI\\MTData\\CL2021\\archive\\to_dmc\\1Z_CL396__LFZ_2022_07_13T00_00_00.mseed\u001b[0m\n",
      "\u001b[1m2025-04-02T12:03:36.046598-0700 | INFO | mth5.timeseries.run_ts | _align_channels | Channels do not have a common end, using latest: 2022-07-12T18:59:41.968750000\u001b[0m\n",
      "\u001b[1m2025-04-02T12:03:37.464807-0700 | INFO | mth5.io.conversion | split_ms_to_days | Wrote miniseed file to: c:\\Users\\jpeacock\\OneDrive - DOI\\MTData\\CL2021\\archive\\to_dmc\\1Z_CL396__CQN_2022_07_12T17_09_58.mseed\u001b[0m\n",
      "\u001b[1m2025-04-02T12:03:37.605762-0700 | INFO | mth5.io.conversion | split_ms_to_days | Wrote miniseed file to: c:\\Users\\jpeacock\\OneDrive - DOI\\MTData\\CL2021\\archive\\to_dmc\\1Z_CL396__CQE_2022_07_12T17_09_58.mseed\u001b[0m\n",
      "\u001b[1m2025-04-02T12:03:37.741286-0700 | INFO | mth5.io.conversion | split_ms_to_days | Wrote miniseed file to: c:\\Users\\jpeacock\\OneDrive - DOI\\MTData\\CL2021\\archive\\to_dmc\\1Z_CL396__CFN_2022_07_12T17_09_58.mseed\u001b[0m\n",
      "\u001b[1m2025-04-02T12:03:37.878872-0700 | INFO | mth5.io.conversion | split_ms_to_days | Wrote miniseed file to: c:\\Users\\jpeacock\\OneDrive - DOI\\MTData\\CL2021\\archive\\to_dmc\\1Z_CL396__CFE_2022_07_12T17_09_58.mseed\u001b[0m\n",
      "\u001b[1m2025-04-02T12:03:38.030903-0700 | INFO | mth5.io.conversion | split_ms_to_days | Wrote miniseed file to: c:\\Users\\jpeacock\\OneDrive - DOI\\MTData\\CL2021\\archive\\to_dmc\\1Z_CL396__CFZ_2022_07_12T17_09_58.mseed\u001b[0m\n",
      "\u001b[1m2025-04-02T12:03:42.192591-0700 | INFO | mth5.timeseries.run_ts | _align_channels | Channels do not have a common end, using latest: 2022-07-12T19:09:41.999268000\u001b[0m\n"
     ]
    },
    {
     "name": "stderr",
     "output_type": "stream",
     "text": [
      "C:\\Users\\jpeacock\\OneDrive - DOI\\Documents\\GitHub\\mth5\\mth5\\timeseries\\channel_ts.py:1524: RuntimeWarning: invalid value encountered in cast\n",
      "  obspy_trace = Trace(self.ts.astype(encoding_dict[encoding]))\n"
     ]
    },
    {
     "name": "stdout",
     "output_type": "stream",
     "text": [
      "\u001b[1m2025-04-02T12:03:45.439920-0700 | INFO | mth5.io.conversion | split_ms_to_days | Wrote miniseed file to: c:\\Users\\jpeacock\\OneDrive - DOI\\MTData\\CL2021\\archive\\to_dmc\\1Z_CL396__FQN_2022_07_12T18_59_58.mseed\u001b[0m\n",
      "\u001b[1m2025-04-02T12:03:45.637807-0700 | INFO | mth5.io.conversion | split_ms_to_days | Wrote miniseed file to: c:\\Users\\jpeacock\\OneDrive - DOI\\MTData\\CL2021\\archive\\to_dmc\\1Z_CL396__FQE_2022_07_12T18_59_58.mseed\u001b[0m\n",
      "\u001b[1m2025-04-02T12:03:45.833006-0700 | INFO | mth5.io.conversion | split_ms_to_days | Wrote miniseed file to: c:\\Users\\jpeacock\\OneDrive - DOI\\MTData\\CL2021\\archive\\to_dmc\\1Z_CL396__FFN_2022_07_12T18_59_58.mseed\u001b[0m\n",
      "\u001b[1m2025-04-02T12:03:46.030097-0700 | INFO | mth5.io.conversion | split_ms_to_days | Wrote miniseed file to: c:\\Users\\jpeacock\\OneDrive - DOI\\MTData\\CL2021\\archive\\to_dmc\\1Z_CL396__FFE_2022_07_12T18_59_58.mseed\u001b[0m\n",
      "\u001b[1m2025-04-02T12:03:46.225238-0700 | INFO | mth5.io.conversion | split_ms_to_days | Wrote miniseed file to: c:\\Users\\jpeacock\\OneDrive - DOI\\MTData\\CL2021\\archive\\to_dmc\\1Z_CL396__FFZ_2022_07_12T18_59_58.mseed\u001b[0m\n",
      "\u001b[1m2025-04-02T12:03:53.302681-0700 | INFO | mth5.timeseries.run_ts | _align_channels | Channels do not have a common end, using latest: 2022-07-13T00:59:41.968750000\u001b[0m\n",
      "\u001b[1m2025-04-02T12:03:56.406736-0700 | INFO | mth5.io.conversion | split_ms_to_days | Wrote miniseed file to: c:\\Users\\jpeacock\\OneDrive - DOI\\MTData\\CL2021\\archive\\to_dmc\\1Z_CL396__CQN_2022_07_12T19_09_58.mseed\u001b[0m\n",
      "\u001b[1m2025-04-02T12:03:56.815053-0700 | INFO | mth5.io.conversion | split_ms_to_days | Wrote miniseed file to: c:\\Users\\jpeacock\\OneDrive - DOI\\MTData\\CL2021\\archive\\to_dmc\\1Z_CL396__CQN_2022_07_13T00_00_00.mseed\u001b[0m\n",
      "\u001b[1m2025-04-02T12:03:56.926157-0700 | INFO | mth5.io.conversion | split_ms_to_days | Wrote miniseed file to: c:\\Users\\jpeacock\\OneDrive - DOI\\MTData\\CL2021\\archive\\to_dmc\\1Z_CL396__CQE_2022_07_12T19_09_58.mseed\u001b[0m\n",
      "\u001b[1m2025-04-02T12:03:57.299734-0700 | INFO | mth5.io.conversion | split_ms_to_days | Wrote miniseed file to: c:\\Users\\jpeacock\\OneDrive - DOI\\MTData\\CL2021\\archive\\to_dmc\\1Z_CL396__CQE_2022_07_13T00_00_00.mseed\u001b[0m\n",
      "\u001b[1m2025-04-02T12:03:57.374349-0700 | INFO | mth5.io.conversion | split_ms_to_days | Wrote miniseed file to: c:\\Users\\jpeacock\\OneDrive - DOI\\MTData\\CL2021\\archive\\to_dmc\\1Z_CL396__CFN_2022_07_12T19_09_58.mseed\u001b[0m\n",
      "\u001b[1m2025-04-02T12:03:57.753296-0700 | INFO | mth5.io.conversion | split_ms_to_days | Wrote miniseed file to: c:\\Users\\jpeacock\\OneDrive - DOI\\MTData\\CL2021\\archive\\to_dmc\\1Z_CL396__CFN_2022_07_13T00_00_00.mseed\u001b[0m\n",
      "\u001b[1m2025-04-02T12:03:57.828907-0700 | INFO | mth5.io.conversion | split_ms_to_days | Wrote miniseed file to: c:\\Users\\jpeacock\\OneDrive - DOI\\MTData\\CL2021\\archive\\to_dmc\\1Z_CL396__CFE_2022_07_12T19_09_58.mseed\u001b[0m\n",
      "\u001b[1m2025-04-02T12:03:58.226933-0700 | INFO | mth5.io.conversion | split_ms_to_days | Wrote miniseed file to: c:\\Users\\jpeacock\\OneDrive - DOI\\MTData\\CL2021\\archive\\to_dmc\\1Z_CL396__CFE_2022_07_13T00_00_00.mseed\u001b[0m\n",
      "\u001b[1m2025-04-02T12:03:58.323944-0700 | INFO | mth5.io.conversion | split_ms_to_days | Wrote miniseed file to: c:\\Users\\jpeacock\\OneDrive - DOI\\MTData\\CL2021\\archive\\to_dmc\\1Z_CL396__CFZ_2022_07_12T19_09_58.mseed\u001b[0m\n",
      "\u001b[1m2025-04-02T12:03:58.714279-0700 | INFO | mth5.io.conversion | split_ms_to_days | Wrote miniseed file to: c:\\Users\\jpeacock\\OneDrive - DOI\\MTData\\CL2021\\archive\\to_dmc\\1Z_CL396__CFZ_2022_07_13T00_00_00.mseed\u001b[0m\n",
      "\u001b[1m2025-04-02T12:04:03.307677-0700 | INFO | mth5.timeseries.run_ts | _align_channels | Channels do not have a common end, using latest: 2022-07-13T01:09:41.998047000\u001b[0m\n"
     ]
    },
    {
     "name": "stderr",
     "output_type": "stream",
     "text": [
      "C:\\Users\\jpeacock\\OneDrive - DOI\\Documents\\GitHub\\mth5\\mth5\\timeseries\\channel_ts.py:1524: RuntimeWarning: invalid value encountered in cast\n",
      "  obspy_trace = Trace(self.ts.astype(encoding_dict[encoding]))\n"
     ]
    },
    {
     "name": "stdout",
     "output_type": "stream",
     "text": [
      "\u001b[1m2025-04-02T12:04:06.503889-0700 | INFO | mth5.io.conversion | split_ms_to_days | Wrote miniseed file to: c:\\Users\\jpeacock\\OneDrive - DOI\\MTData\\CL2021\\archive\\to_dmc\\1Z_CL396__FQN_2022_07_13T00_59_58.mseed\u001b[0m\n",
      "\u001b[1m2025-04-02T12:04:06.701995-0700 | INFO | mth5.io.conversion | split_ms_to_days | Wrote miniseed file to: c:\\Users\\jpeacock\\OneDrive - DOI\\MTData\\CL2021\\archive\\to_dmc\\1Z_CL396__FQE_2022_07_13T00_59_58.mseed\u001b[0m\n",
      "\u001b[1m2025-04-02T12:04:06.893165-0700 | INFO | mth5.io.conversion | split_ms_to_days | Wrote miniseed file to: c:\\Users\\jpeacock\\OneDrive - DOI\\MTData\\CL2021\\archive\\to_dmc\\1Z_CL396__FFN_2022_07_13T00_59_58.mseed\u001b[0m\n",
      "\u001b[1m2025-04-02T12:04:07.087946-0700 | INFO | mth5.io.conversion | split_ms_to_days | Wrote miniseed file to: c:\\Users\\jpeacock\\OneDrive - DOI\\MTData\\CL2021\\archive\\to_dmc\\1Z_CL396__FFE_2022_07_13T00_59_58.mseed\u001b[0m\n",
      "\u001b[1m2025-04-02T12:04:07.282185-0700 | INFO | mth5.io.conversion | split_ms_to_days | Wrote miniseed file to: c:\\Users\\jpeacock\\OneDrive - DOI\\MTData\\CL2021\\archive\\to_dmc\\1Z_CL396__FFZ_2022_07_13T00_59_58.mseed\u001b[0m\n",
      "\u001b[1m2025-04-02T12:04:15.643569-0700 | INFO | mth5.io.conversion | split_ms_to_days | Wrote miniseed file to: c:\\Users\\jpeacock\\OneDrive - DOI\\MTData\\CL2021\\archive\\to_dmc\\1Z_CL396__CQN_2022_07_13T01_09_58.mseed\u001b[0m\n",
      "\u001b[1m2025-04-02T12:04:16.069913-0700 | INFO | mth5.io.conversion | split_ms_to_days | Wrote miniseed file to: c:\\Users\\jpeacock\\OneDrive - DOI\\MTData\\CL2021\\archive\\to_dmc\\1Z_CL396__CQE_2022_07_13T01_09_58.mseed\u001b[0m\n",
      "\u001b[1m2025-04-02T12:04:16.492609-0700 | INFO | mth5.io.conversion | split_ms_to_days | Wrote miniseed file to: c:\\Users\\jpeacock\\OneDrive - DOI\\MTData\\CL2021\\archive\\to_dmc\\1Z_CL396__CFN_2022_07_13T01_09_58.mseed\u001b[0m\n",
      "\u001b[1m2025-04-02T12:04:16.933031-0700 | INFO | mth5.io.conversion | split_ms_to_days | Wrote miniseed file to: c:\\Users\\jpeacock\\OneDrive - DOI\\MTData\\CL2021\\archive\\to_dmc\\1Z_CL396__CFE_2022_07_13T01_09_58.mseed\u001b[0m\n",
      "\u001b[1m2025-04-02T12:04:17.410834-0700 | INFO | mth5.io.conversion | split_ms_to_days | Wrote miniseed file to: c:\\Users\\jpeacock\\OneDrive - DOI\\MTData\\CL2021\\archive\\to_dmc\\1Z_CL396__CFZ_2022_07_13T01_09_58.mseed\u001b[0m\n",
      "\u001b[1m2025-04-02T12:04:24.140861-0700 | INFO | mth5.timeseries.run_ts | _align_channels | Channels do not have a common end, using latest: 2022-07-13T07:09:41.999023437\u001b[0m\n",
      "\u001b[33m\u001b[1m2025-04-02T12:04:26.632158-0700 | WARNING | mth5.timeseries.run_ts | validate_metadata | end time of dataset 2022-07-13T07:09:41.998779296+00:00 does not match metadata end 2022-07-13T07:09:41.999023437+00:00 updating metatdata value to 2022-07-13T07:09:41.998779296+00:00\u001b[0m\n"
     ]
    },
    {
     "name": "stderr",
     "output_type": "stream",
     "text": [
      "C:\\Users\\jpeacock\\OneDrive - DOI\\Documents\\GitHub\\mth5\\mth5\\timeseries\\channel_ts.py:1524: RuntimeWarning: invalid value encountered in cast\n",
      "  obspy_trace = Trace(self.ts.astype(encoding_dict[encoding]))\n"
     ]
    },
    {
     "name": "stdout",
     "output_type": "stream",
     "text": [
      "\u001b[1m2025-04-02T12:04:27.474651-0700 | INFO | mth5.io.conversion | split_ms_to_days | Wrote miniseed file to: c:\\Users\\jpeacock\\OneDrive - DOI\\MTData\\CL2021\\archive\\to_dmc\\1Z_CL396__FQN_2022_07_13T06_59_58.mseed\u001b[0m\n",
      "\u001b[1m2025-04-02T12:04:27.666385-0700 | INFO | mth5.io.conversion | split_ms_to_days | Wrote miniseed file to: c:\\Users\\jpeacock\\OneDrive - DOI\\MTData\\CL2021\\archive\\to_dmc\\1Z_CL396__FQE_2022_07_13T06_59_58.mseed\u001b[0m\n",
      "\u001b[1m2025-04-02T12:04:27.852580-0700 | INFO | mth5.io.conversion | split_ms_to_days | Wrote miniseed file to: c:\\Users\\jpeacock\\OneDrive - DOI\\MTData\\CL2021\\archive\\to_dmc\\1Z_CL396__FFN_2022_07_13T06_59_58.mseed\u001b[0m\n",
      "\u001b[1m2025-04-02T12:04:28.041200-0700 | INFO | mth5.io.conversion | split_ms_to_days | Wrote miniseed file to: c:\\Users\\jpeacock\\OneDrive - DOI\\MTData\\CL2021\\archive\\to_dmc\\1Z_CL396__FFE_2022_07_13T06_59_58.mseed\u001b[0m\n",
      "\u001b[1m2025-04-02T12:04:28.231204-0700 | INFO | mth5.io.conversion | split_ms_to_days | Wrote miniseed file to: c:\\Users\\jpeacock\\OneDrive - DOI\\MTData\\CL2021\\archive\\to_dmc\\1Z_CL396__FFZ_2022_07_13T06_59_58.mseed\u001b[0m\n",
      "\u001b[1m2025-04-02T12:04:36.518405-0700 | INFO | mth5.io.conversion | split_ms_to_days | Wrote miniseed file to: c:\\Users\\jpeacock\\OneDrive - DOI\\MTData\\CL2021\\archive\\to_dmc\\1Z_CL396__CQN_2022_07_13T07_09_58.mseed\u001b[0m\n",
      "\u001b[1m2025-04-02T12:04:36.995349-0700 | INFO | mth5.io.conversion | split_ms_to_days | Wrote miniseed file to: c:\\Users\\jpeacock\\OneDrive - DOI\\MTData\\CL2021\\archive\\to_dmc\\1Z_CL396__CQE_2022_07_13T07_09_58.mseed\u001b[0m\n",
      "\u001b[1m2025-04-02T12:04:37.425876-0700 | INFO | mth5.io.conversion | split_ms_to_days | Wrote miniseed file to: c:\\Users\\jpeacock\\OneDrive - DOI\\MTData\\CL2021\\archive\\to_dmc\\1Z_CL396__CFN_2022_07_13T07_09_58.mseed\u001b[0m\n",
      "\u001b[1m2025-04-02T12:04:37.874217-0700 | INFO | mth5.io.conversion | split_ms_to_days | Wrote miniseed file to: c:\\Users\\jpeacock\\OneDrive - DOI\\MTData\\CL2021\\archive\\to_dmc\\1Z_CL396__CFE_2022_07_13T07_09_58.mseed\u001b[0m\n",
      "\u001b[1m2025-04-02T12:04:38.326575-0700 | INFO | mth5.io.conversion | split_ms_to_days | Wrote miniseed file to: c:\\Users\\jpeacock\\OneDrive - DOI\\MTData\\CL2021\\archive\\to_dmc\\1Z_CL396__CFZ_2022_07_13T07_09_58.mseed\u001b[0m\n",
      "\u001b[1m2025-04-02T12:04:42.202290-0700 | INFO | mth5.timeseries.run_ts | _align_channels | Channels do not have a common end, using latest: 2022-07-13T13:09:41.998779296\u001b[0m\n",
      "\u001b[33m\u001b[1m2025-04-02T12:04:44.688268-0700 | WARNING | mth5.timeseries.run_ts | validate_metadata | end time of dataset 2022-07-13T13:09:41.998535156+00:00 does not match metadata end 2022-07-13T13:09:41.998779296+00:00 updating metatdata value to 2022-07-13T13:09:41.998535156+00:00\u001b[0m\n"
     ]
    },
    {
     "name": "stderr",
     "output_type": "stream",
     "text": [
      "C:\\Users\\jpeacock\\OneDrive - DOI\\Documents\\GitHub\\mth5\\mth5\\timeseries\\channel_ts.py:1524: RuntimeWarning: invalid value encountered in cast\n",
      "  obspy_trace = Trace(self.ts.astype(encoding_dict[encoding]))\n"
     ]
    },
    {
     "name": "stdout",
     "output_type": "stream",
     "text": [
      "\u001b[1m2025-04-02T12:04:45.425378-0700 | INFO | mth5.io.conversion | split_ms_to_days | Wrote miniseed file to: c:\\Users\\jpeacock\\OneDrive - DOI\\MTData\\CL2021\\archive\\to_dmc\\1Z_CL396__FQN_2022_07_13T12_59_58.mseed\u001b[0m\n",
      "\u001b[1m2025-04-02T12:04:45.612593-0700 | INFO | mth5.io.conversion | split_ms_to_days | Wrote miniseed file to: c:\\Users\\jpeacock\\OneDrive - DOI\\MTData\\CL2021\\archive\\to_dmc\\1Z_CL396__FQE_2022_07_13T12_59_58.mseed\u001b[0m\n",
      "\u001b[1m2025-04-02T12:04:45.801696-0700 | INFO | mth5.io.conversion | split_ms_to_days | Wrote miniseed file to: c:\\Users\\jpeacock\\OneDrive - DOI\\MTData\\CL2021\\archive\\to_dmc\\1Z_CL396__FFN_2022_07_13T12_59_58.mseed\u001b[0m\n",
      "\u001b[1m2025-04-02T12:04:46.017288-0700 | INFO | mth5.io.conversion | split_ms_to_days | Wrote miniseed file to: c:\\Users\\jpeacock\\OneDrive - DOI\\MTData\\CL2021\\archive\\to_dmc\\1Z_CL396__FFE_2022_07_13T12_59_58.mseed\u001b[0m\n",
      "\u001b[1m2025-04-02T12:04:46.224227-0700 | INFO | mth5.io.conversion | split_ms_to_days | Wrote miniseed file to: c:\\Users\\jpeacock\\OneDrive - DOI\\MTData\\CL2021\\archive\\to_dmc\\1Z_CL396__FFZ_2022_07_13T12_59_58.mseed\u001b[0m\n",
      "\u001b[1m2025-04-02T12:04:53.351713-0700 | INFO | mth5.timeseries.run_ts | _align_channels | Channels do not have a common end, using latest: 2022-07-13T18:44:42.000000000\u001b[0m\n"
     ]
    },
    {
     "name": "stderr",
     "output_type": "stream",
     "text": [
      "C:\\Users\\jpeacock\\OneDrive - DOI\\Documents\\GitHub\\mth5\\mth5\\timeseries\\channel_ts.py:1524: RuntimeWarning: invalid value encountered in cast\n",
      "  obspy_trace = Trace(self.ts.astype(encoding_dict[encoding]))\n"
     ]
    },
    {
     "name": "stdout",
     "output_type": "stream",
     "text": [
      "\u001b[1m2025-04-02T12:04:59.363610-0700 | INFO | mth5.io.conversion | split_ms_to_days | Wrote miniseed file to: c:\\Users\\jpeacock\\OneDrive - DOI\\MTData\\CL2021\\archive\\to_dmc\\1Z_CL396__CQN_2022_07_13T13_09_58.mseed\u001b[0m\n",
      "\u001b[1m2025-04-02T12:04:59.766659-0700 | INFO | mth5.io.conversion | split_ms_to_days | Wrote miniseed file to: c:\\Users\\jpeacock\\OneDrive - DOI\\MTData\\CL2021\\archive\\to_dmc\\1Z_CL396__CQE_2022_07_13T13_09_58.mseed\u001b[0m\n",
      "\u001b[1m2025-04-02T12:05:00.210450-0700 | INFO | mth5.io.conversion | split_ms_to_days | Wrote miniseed file to: c:\\Users\\jpeacock\\OneDrive - DOI\\MTData\\CL2021\\archive\\to_dmc\\1Z_CL396__CFN_2022_07_13T13_09_58.mseed\u001b[0m\n",
      "\u001b[1m2025-04-02T12:05:00.625635-0700 | INFO | mth5.io.conversion | split_ms_to_days | Wrote miniseed file to: c:\\Users\\jpeacock\\OneDrive - DOI\\MTData\\CL2021\\archive\\to_dmc\\1Z_CL396__CFE_2022_07_13T13_09_58.mseed\u001b[0m\n",
      "\u001b[1m2025-04-02T12:05:01.056311-0700 | INFO | mth5.io.conversion | split_ms_to_days | Wrote miniseed file to: c:\\Users\\jpeacock\\OneDrive - DOI\\MTData\\CL2021\\archive\\to_dmc\\1Z_CL396__CFZ_2022_07_13T13_09_58.mseed\u001b[0m\n",
      "\u001b[1m2025-04-02T12:05:02.623025-0700 | INFO | mth5.mth5 | close_mth5 | Flushing and closing c:\\Users\\jpeacock\\OneDrive - DOI\\MTData\\CL2021\\archive\\cl396.h5\u001b[0m\n",
      "\u001b[33m\u001b[1m2025-04-02T12:05:02.628026-0700 | WARNING | mt_metadata.timeseries.stationxml.xml_station_mt_station | mt_to_xml | Station.geographic_name is None, using Station.id = cl396.Check StationXML site.name.\u001b[0m\n",
      "\u001b[1m2025-04-02T12:05:02.716579-0700 | INFO | mt_metadata.timeseries.filters.channel_response | to_obspy | total sensitivity 104382542748.06306 != total gain 1048576000.000055. Using total_gain.\u001b[0m\n",
      "\u001b[1m2025-04-02T12:05:02.748576-0700 | INFO | mt_metadata.timeseries.filters.channel_response | to_obspy | total sensitivity 105026369151.30917 != total gain 1048576000.000055. Using total_gain.\u001b[0m\n",
      "\u001b[1m2025-04-02T12:05:02.780166-0700 | INFO | mt_metadata.timeseries.filters.channel_response | to_obspy | total sensitivity 105276966379.19785 != total gain 1048576000.000055. Using total_gain.\u001b[0m\n",
      "\u001b[1m2025-04-02T12:05:02.874174-0700 | INFO | mt_metadata.timeseries.filters.channel_response | to_obspy | total sensitivity 104382542748.06306 != total gain 1048576000.000055. Using total_gain.\u001b[0m\n",
      "\u001b[1m2025-04-02T12:05:02.905750-0700 | INFO | mt_metadata.timeseries.filters.channel_response | to_obspy | total sensitivity 105026369151.30917 != total gain 1048576000.000055. Using total_gain.\u001b[0m\n",
      "\u001b[1m2025-04-02T12:05:02.934757-0700 | INFO | mt_metadata.timeseries.filters.channel_response | to_obspy | total sensitivity 105276966379.19785 != total gain 1048576000.000055. Using total_gain.\u001b[0m\n",
      "\u001b[1m2025-04-02T12:05:03.024313-0700 | INFO | mt_metadata.timeseries.filters.channel_response | to_obspy | total sensitivity 104382542748.06306 != total gain 1048576000.000055. Using total_gain.\u001b[0m\n",
      "\u001b[1m2025-04-02T12:05:03.065325-0700 | INFO | mt_metadata.timeseries.filters.channel_response | to_obspy | total sensitivity 105026369151.30917 != total gain 1048576000.000055. Using total_gain.\u001b[0m\n",
      "\u001b[1m2025-04-02T12:05:03.097878-0700 | INFO | mt_metadata.timeseries.filters.channel_response | to_obspy | total sensitivity 105276966379.19785 != total gain 1048576000.000055. Using total_gain.\u001b[0m\n",
      "\u001b[1m2025-04-02T12:05:03.200478-0700 | INFO | mt_metadata.timeseries.filters.channel_response | to_obspy | total sensitivity 104382542748.06306 != total gain 1048576000.000055. Using total_gain.\u001b[0m\n",
      "\u001b[1m2025-04-02T12:05:03.229479-0700 | INFO | mt_metadata.timeseries.filters.channel_response | to_obspy | total sensitivity 105026369151.30917 != total gain 1048576000.000055. Using total_gain.\u001b[0m\n",
      "\u001b[1m2025-04-02T12:05:03.271477-0700 | INFO | mt_metadata.timeseries.filters.channel_response | to_obspy | total sensitivity 105276966379.19785 != total gain 1048576000.000055. Using total_gain.\u001b[0m\n",
      "\u001b[1m2025-04-02T12:05:03.362034-0700 | INFO | mt_metadata.timeseries.filters.channel_response | to_obspy | total sensitivity 104382542748.06306 != total gain 1048576000.000055. Using total_gain.\u001b[0m\n",
      "\u001b[1m2025-04-02T12:05:03.390583-0700 | INFO | mt_metadata.timeseries.filters.channel_response | to_obspy | total sensitivity 105026369151.30917 != total gain 1048576000.000055. Using total_gain.\u001b[0m\n",
      "\u001b[1m2025-04-02T12:05:03.430584-0700 | INFO | mt_metadata.timeseries.filters.channel_response | to_obspy | total sensitivity 105276966379.19785 != total gain 1048576000.000055. Using total_gain.\u001b[0m\n",
      "\u001b[1m2025-04-02T12:05:03.526065-0700 | INFO | mt_metadata.timeseries.filters.channel_response | to_obspy | total sensitivity 104382542748.06306 != total gain 1048576000.000055. Using total_gain.\u001b[0m\n",
      "\u001b[1m2025-04-02T12:05:03.556069-0700 | INFO | mt_metadata.timeseries.filters.channel_response | to_obspy | total sensitivity 105026369151.30917 != total gain 1048576000.000055. Using total_gain.\u001b[0m\n",
      "\u001b[1m2025-04-02T12:05:03.588587-0700 | INFO | mt_metadata.timeseries.filters.channel_response | to_obspy | total sensitivity 105276966379.19785 != total gain 1048576000.000055. Using total_gain.\u001b[0m\n",
      "\u001b[1m2025-04-02T12:05:03.708139-0700 | INFO | mt_metadata.timeseries.filters.channel_response | to_obspy | total sensitivity 104382542748.06306 != total gain 1048576000.000055. Using total_gain.\u001b[0m\n",
      "\u001b[1m2025-04-02T12:05:03.736109-0700 | INFO | mt_metadata.timeseries.filters.channel_response | to_obspy | total sensitivity 105026369151.30917 != total gain 1048576000.000055. Using total_gain.\u001b[0m\n",
      "\u001b[1m2025-04-02T12:05:03.767115-0700 | INFO | mt_metadata.timeseries.filters.channel_response | to_obspy | total sensitivity 105276966379.19785 != total gain 1048576000.000055. Using total_gain.\u001b[0m\n",
      "\u001b[1m2025-04-02T12:05:03.874674-0700 | INFO | mt_metadata.timeseries.filters.channel_response | to_obspy | total sensitivity 104382542748.06306 != total gain 1048576000.000055. Using total_gain.\u001b[0m\n",
      "\u001b[1m2025-04-02T12:05:03.903247-0700 | INFO | mt_metadata.timeseries.filters.channel_response | to_obspy | total sensitivity 105026369151.30917 != total gain 1048576000.000055. Using total_gain.\u001b[0m\n",
      "\u001b[1m2025-04-02T12:05:03.931216-0700 | INFO | mt_metadata.timeseries.filters.channel_response | to_obspy | total sensitivity 105276966379.19785 != total gain 1048576000.000055. Using total_gain.\u001b[0m\n",
      "\u001b[1m2025-04-02T12:05:04.021838-0700 | INFO | mt_metadata.timeseries.filters.channel_response | to_obspy | total sensitivity 104382542748.06306 != total gain 1048576000.000055. Using total_gain.\u001b[0m\n",
      "\u001b[1m2025-04-02T12:05:04.050841-0700 | INFO | mt_metadata.timeseries.filters.channel_response | to_obspy | total sensitivity 105026369151.30917 != total gain 1048576000.000055. Using total_gain.\u001b[0m\n",
      "\u001b[1m2025-04-02T12:05:04.079346-0700 | INFO | mt_metadata.timeseries.filters.channel_response | to_obspy | total sensitivity 105276966379.19785 != total gain 1048576000.000055. Using total_gain.\u001b[0m\n",
      "\u001b[1m2025-04-02T12:05:04.168387-0700 | INFO | mt_metadata.timeseries.filters.channel_response | to_obspy | total sensitivity 104382542748.06306 != total gain 1048576000.000055. Using total_gain.\u001b[0m\n",
      "\u001b[1m2025-04-02T12:05:04.197963-0700 | INFO | mt_metadata.timeseries.filters.channel_response | to_obspy | total sensitivity 105026369151.30917 != total gain 1048576000.000055. Using total_gain.\u001b[0m\n",
      "\u001b[1m2025-04-02T12:05:04.227963-0700 | INFO | mt_metadata.timeseries.filters.channel_response | to_obspy | total sensitivity 105276966379.19785 != total gain 1048576000.000055. Using total_gain.\u001b[0m\n",
      "\u001b[1m2025-04-02T12:05:04.263971-0700 | INFO | mth5.io.conversion | convert_mth5_to_ms_stationxml | Wrote StationXML to c:\\Users\\jpeacock\\OneDrive - DOI\\MTData\\CL2021\\archive\\to_dmc\\cl396.xml\u001b[0m\n",
      "\u001b[33m\u001b[1m2025-04-02T12:05:05.918288-0700 | WARNING | mt_metadata.timeseries.station | remove_run | Could not find cl397a to remove.\u001b[0m\n",
      "\u001b[1m2025-04-02T12:05:09.364287-0700 | INFO | mth5.io.conversion | split_ms_to_days | Wrote miniseed file to: c:\\Users\\jpeacock\\OneDrive - DOI\\MTData\\CL2021\\archive\\to_dmc\\1Z_CL397__LQN_2022_07_14T00_04_58.mseed\u001b[0m\n",
      "\u001b[1m2025-04-02T12:05:09.371299-0700 | INFO | mth5.io.conversion | split_ms_to_days | Wrote miniseed file to: c:\\Users\\jpeacock\\OneDrive - DOI\\MTData\\CL2021\\archive\\to_dmc\\1Z_CL397__LQE_2022_07_14T00_04_58.mseed\u001b[0m\n",
      "\u001b[1m2025-04-02T12:05:09.378262-0700 | INFO | mth5.io.conversion | split_ms_to_days | Wrote miniseed file to: c:\\Users\\jpeacock\\OneDrive - DOI\\MTData\\CL2021\\archive\\to_dmc\\1Z_CL397__LFN_2022_07_14T00_04_58.mseed\u001b[0m\n",
      "\u001b[1m2025-04-02T12:05:09.385403-0700 | INFO | mth5.io.conversion | split_ms_to_days | Wrote miniseed file to: c:\\Users\\jpeacock\\OneDrive - DOI\\MTData\\CL2021\\archive\\to_dmc\\1Z_CL397__LFE_2022_07_14T00_04_58.mseed\u001b[0m\n",
      "\u001b[1m2025-04-02T12:05:09.396406-0700 | INFO | mth5.io.conversion | split_ms_to_days | Wrote miniseed file to: c:\\Users\\jpeacock\\OneDrive - DOI\\MTData\\CL2021\\archive\\to_dmc\\1Z_CL397__LFZ_2022_07_14T00_04_58.mseed\u001b[0m\n",
      "\u001b[1m2025-04-02T12:05:12.913002-0700 | INFO | mth5.timeseries.run_ts | _align_channels | Channels do not have a common end, using latest: 2022-07-14T00:59:41.988281250\u001b[0m\n"
     ]
    },
    {
     "name": "stderr",
     "output_type": "stream",
     "text": [
      "C:\\Users\\jpeacock\\OneDrive - DOI\\Documents\\GitHub\\mth5\\mth5\\timeseries\\channel_ts.py:1524: RuntimeWarning: invalid value encountered in cast\n",
      "  obspy_trace = Trace(self.ts.astype(encoding_dict[encoding]))\n"
     ]
    },
    {
     "name": "stdout",
     "output_type": "stream",
     "text": [
      "\u001b[1m2025-04-02T12:05:14.321211-0700 | INFO | mth5.io.conversion | split_ms_to_days | Wrote miniseed file to: c:\\Users\\jpeacock\\OneDrive - DOI\\MTData\\CL2021\\archive\\to_dmc\\1Z_CL397__CQN_2022_07_14T00_04_58.mseed\u001b[0m\n",
      "\u001b[1m2025-04-02T12:05:14.395727-0700 | INFO | mth5.io.conversion | split_ms_to_days | Wrote miniseed file to: c:\\Users\\jpeacock\\OneDrive - DOI\\MTData\\CL2021\\archive\\to_dmc\\1Z_CL397__CQE_2022_07_14T00_04_58.mseed\u001b[0m\n",
      "\u001b[1m2025-04-02T12:05:14.466761-0700 | INFO | mth5.io.conversion | split_ms_to_days | Wrote miniseed file to: c:\\Users\\jpeacock\\OneDrive - DOI\\MTData\\CL2021\\archive\\to_dmc\\1Z_CL397__CFN_2022_07_14T00_04_58.mseed\u001b[0m\n",
      "\u001b[1m2025-04-02T12:05:14.551245-0700 | INFO | mth5.io.conversion | split_ms_to_days | Wrote miniseed file to: c:\\Users\\jpeacock\\OneDrive - DOI\\MTData\\CL2021\\archive\\to_dmc\\1Z_CL397__CFE_2022_07_14T00_04_58.mseed\u001b[0m\n",
      "\u001b[1m2025-04-02T12:05:14.637776-0700 | INFO | mth5.io.conversion | split_ms_to_days | Wrote miniseed file to: c:\\Users\\jpeacock\\OneDrive - DOI\\MTData\\CL2021\\archive\\to_dmc\\1Z_CL397__CFZ_2022_07_14T00_04_58.mseed\u001b[0m\n",
      "\u001b[1m2025-04-02T12:05:17.836508-0700 | INFO | mth5.timeseries.run_ts | _align_channels | Channels do not have a common end, using latest: 2022-07-14T01:09:41.998535156\u001b[0m\n",
      "\u001b[33m\u001b[1m2025-04-02T12:05:20.386095-0700 | WARNING | mth5.timeseries.run_ts | validate_metadata | end time of dataset 2022-07-14T01:09:41.998291015+00:00 does not match metadata end 2022-07-14T01:09:41.998535156+00:00 updating metatdata value to 2022-07-14T01:09:41.998291015+00:00\u001b[0m\n"
     ]
    },
    {
     "name": "stderr",
     "output_type": "stream",
     "text": [
      "C:\\Users\\jpeacock\\OneDrive - DOI\\Documents\\GitHub\\mth5\\mth5\\timeseries\\channel_ts.py:1524: RuntimeWarning: invalid value encountered in cast\n",
      "  obspy_trace = Trace(self.ts.astype(encoding_dict[encoding]))\n"
     ]
    },
    {
     "name": "stdout",
     "output_type": "stream",
     "text": [
      "\u001b[1m2025-04-02T12:05:21.100788-0700 | INFO | mth5.io.conversion | split_ms_to_days | Wrote miniseed file to: c:\\Users\\jpeacock\\OneDrive - DOI\\MTData\\CL2021\\archive\\to_dmc\\1Z_CL397__FQN_2022_07_14T00_59_58.mseed\u001b[0m\n",
      "\u001b[1m2025-04-02T12:05:21.289445-0700 | INFO | mth5.io.conversion | split_ms_to_days | Wrote miniseed file to: c:\\Users\\jpeacock\\OneDrive - DOI\\MTData\\CL2021\\archive\\to_dmc\\1Z_CL397__FQE_2022_07_14T00_59_58.mseed\u001b[0m\n",
      "\u001b[1m2025-04-02T12:05:21.476638-0700 | INFO | mth5.io.conversion | split_ms_to_days | Wrote miniseed file to: c:\\Users\\jpeacock\\OneDrive - DOI\\MTData\\CL2021\\archive\\to_dmc\\1Z_CL397__FFN_2022_07_14T00_59_58.mseed\u001b[0m\n",
      "\u001b[1m2025-04-02T12:05:21.660850-0700 | INFO | mth5.io.conversion | split_ms_to_days | Wrote miniseed file to: c:\\Users\\jpeacock\\OneDrive - DOI\\MTData\\CL2021\\archive\\to_dmc\\1Z_CL397__FFE_2022_07_14T00_59_58.mseed\u001b[0m\n",
      "\u001b[1m2025-04-02T12:05:21.849017-0700 | INFO | mth5.io.conversion | split_ms_to_days | Wrote miniseed file to: c:\\Users\\jpeacock\\OneDrive - DOI\\MTData\\CL2021\\archive\\to_dmc\\1Z_CL397__FFZ_2022_07_14T00_59_58.mseed\u001b[0m\n",
      "\u001b[1m2025-04-02T12:05:29.306353-0700 | INFO | mth5.io.conversion | split_ms_to_days | Wrote miniseed file to: c:\\Users\\jpeacock\\OneDrive - DOI\\MTData\\CL2021\\archive\\to_dmc\\1Z_CL397__CQN_2022_07_14T01_09_58.mseed\u001b[0m\n",
      "\u001b[1m2025-04-02T12:05:29.734679-0700 | INFO | mth5.io.conversion | split_ms_to_days | Wrote miniseed file to: c:\\Users\\jpeacock\\OneDrive - DOI\\MTData\\CL2021\\archive\\to_dmc\\1Z_CL397__CQE_2022_07_14T01_09_58.mseed\u001b[0m\n",
      "\u001b[1m2025-04-02T12:05:30.179294-0700 | INFO | mth5.io.conversion | split_ms_to_days | Wrote miniseed file to: c:\\Users\\jpeacock\\OneDrive - DOI\\MTData\\CL2021\\archive\\to_dmc\\1Z_CL397__CFN_2022_07_14T01_09_58.mseed\u001b[0m\n",
      "\u001b[1m2025-04-02T12:05:30.644219-0700 | INFO | mth5.io.conversion | split_ms_to_days | Wrote miniseed file to: c:\\Users\\jpeacock\\OneDrive - DOI\\MTData\\CL2021\\archive\\to_dmc\\1Z_CL397__CFE_2022_07_14T01_09_58.mseed\u001b[0m\n",
      "\u001b[1m2025-04-02T12:05:31.088175-0700 | INFO | mth5.io.conversion | split_ms_to_days | Wrote miniseed file to: c:\\Users\\jpeacock\\OneDrive - DOI\\MTData\\CL2021\\archive\\to_dmc\\1Z_CL397__CFZ_2022_07_14T01_09_58.mseed\u001b[0m\n",
      "\u001b[1m2025-04-02T12:05:34.704719-0700 | INFO | mth5.timeseries.run_ts | _align_channels | Channels do not have a common end, using latest: 2022-07-14T07:09:41.998535156\u001b[0m\n",
      "\u001b[33m\u001b[1m2025-04-02T12:05:37.226117-0700 | WARNING | mth5.timeseries.run_ts | validate_metadata | end time of dataset 2022-07-14T07:09:41.998291015+00:00 does not match metadata end 2022-07-14T07:09:41.998535156+00:00 updating metatdata value to 2022-07-14T07:09:41.998291015+00:00\u001b[0m\n"
     ]
    },
    {
     "name": "stderr",
     "output_type": "stream",
     "text": [
      "C:\\Users\\jpeacock\\OneDrive - DOI\\Documents\\GitHub\\mth5\\mth5\\timeseries\\channel_ts.py:1524: RuntimeWarning: invalid value encountered in cast\n",
      "  obspy_trace = Trace(self.ts.astype(encoding_dict[encoding]))\n"
     ]
    },
    {
     "name": "stdout",
     "output_type": "stream",
     "text": [
      "\u001b[1m2025-04-02T12:05:38.025550-0700 | INFO | mth5.io.conversion | split_ms_to_days | Wrote miniseed file to: c:\\Users\\jpeacock\\OneDrive - DOI\\MTData\\CL2021\\archive\\to_dmc\\1Z_CL397__FQN_2022_07_14T06_59_58.mseed\u001b[0m\n",
      "\u001b[1m2025-04-02T12:05:38.215778-0700 | INFO | mth5.io.conversion | split_ms_to_days | Wrote miniseed file to: c:\\Users\\jpeacock\\OneDrive - DOI\\MTData\\CL2021\\archive\\to_dmc\\1Z_CL397__FQE_2022_07_14T06_59_58.mseed\u001b[0m\n",
      "\u001b[1m2025-04-02T12:05:38.429806-0700 | INFO | mth5.io.conversion | split_ms_to_days | Wrote miniseed file to: c:\\Users\\jpeacock\\OneDrive - DOI\\MTData\\CL2021\\archive\\to_dmc\\1Z_CL397__FFN_2022_07_14T06_59_58.mseed\u001b[0m\n",
      "\u001b[1m2025-04-02T12:05:38.629666-0700 | INFO | mth5.io.conversion | split_ms_to_days | Wrote miniseed file to: c:\\Users\\jpeacock\\OneDrive - DOI\\MTData\\CL2021\\archive\\to_dmc\\1Z_CL397__FFE_2022_07_14T06_59_58.mseed\u001b[0m\n",
      "\u001b[1m2025-04-02T12:05:38.824856-0700 | INFO | mth5.io.conversion | split_ms_to_days | Wrote miniseed file to: c:\\Users\\jpeacock\\OneDrive - DOI\\MTData\\CL2021\\archive\\to_dmc\\1Z_CL397__FFZ_2022_07_14T06_59_58.mseed\u001b[0m\n",
      "\u001b[1m2025-04-02T12:05:46.867616-0700 | INFO | mth5.io.conversion | split_ms_to_days | Wrote miniseed file to: c:\\Users\\jpeacock\\OneDrive - DOI\\MTData\\CL2021\\archive\\to_dmc\\1Z_CL397__CQN_2022_07_14T07_09_58.mseed\u001b[0m\n",
      "\u001b[1m2025-04-02T12:05:47.327349-0700 | INFO | mth5.io.conversion | split_ms_to_days | Wrote miniseed file to: c:\\Users\\jpeacock\\OneDrive - DOI\\MTData\\CL2021\\archive\\to_dmc\\1Z_CL397__CQE_2022_07_14T07_09_58.mseed\u001b[0m\n",
      "\u001b[1m2025-04-02T12:05:47.816133-0700 | INFO | mth5.io.conversion | split_ms_to_days | Wrote miniseed file to: c:\\Users\\jpeacock\\OneDrive - DOI\\MTData\\CL2021\\archive\\to_dmc\\1Z_CL397__CFN_2022_07_14T07_09_58.mseed\u001b[0m\n",
      "\u001b[1m2025-04-02T12:05:48.273041-0700 | INFO | mth5.io.conversion | split_ms_to_days | Wrote miniseed file to: c:\\Users\\jpeacock\\OneDrive - DOI\\MTData\\CL2021\\archive\\to_dmc\\1Z_CL397__CFE_2022_07_14T07_09_58.mseed\u001b[0m\n",
      "\u001b[1m2025-04-02T12:05:48.716613-0700 | INFO | mth5.io.conversion | split_ms_to_days | Wrote miniseed file to: c:\\Users\\jpeacock\\OneDrive - DOI\\MTData\\CL2021\\archive\\to_dmc\\1Z_CL397__CFZ_2022_07_14T07_09_58.mseed\u001b[0m\n",
      "\u001b[1m2025-04-02T12:05:52.648228-0700 | INFO | mth5.timeseries.run_ts | _align_channels | Channels do not have a common end, using latest: 2022-07-14T13:09:41.998291015\u001b[0m\n",
      "\u001b[33m\u001b[1m2025-04-02T12:05:55.171837-0700 | WARNING | mth5.timeseries.run_ts | validate_metadata | end time of dataset 2022-07-14T13:09:41.998047+00:00 does not match metadata end 2022-07-14T13:09:41.998291015+00:00 updating metatdata value to 2022-07-14T13:09:41.998047+00:00\u001b[0m\n"
     ]
    },
    {
     "name": "stderr",
     "output_type": "stream",
     "text": [
      "C:\\Users\\jpeacock\\OneDrive - DOI\\Documents\\GitHub\\mth5\\mth5\\timeseries\\channel_ts.py:1524: RuntimeWarning: invalid value encountered in cast\n",
      "  obspy_trace = Trace(self.ts.astype(encoding_dict[encoding]))\n"
     ]
    },
    {
     "name": "stdout",
     "output_type": "stream",
     "text": [
      "\u001b[1m2025-04-02T12:05:55.994611-0700 | INFO | mth5.io.conversion | split_ms_to_days | Wrote miniseed file to: c:\\Users\\jpeacock\\OneDrive - DOI\\MTData\\CL2021\\archive\\to_dmc\\1Z_CL397__FQN_2022_07_14T12_59_58.mseed\u001b[0m\n",
      "\u001b[1m2025-04-02T12:05:56.184109-0700 | INFO | mth5.io.conversion | split_ms_to_days | Wrote miniseed file to: c:\\Users\\jpeacock\\OneDrive - DOI\\MTData\\CL2021\\archive\\to_dmc\\1Z_CL397__FQE_2022_07_14T12_59_58.mseed\u001b[0m\n",
      "\u001b[1m2025-04-02T12:05:56.373428-0700 | INFO | mth5.io.conversion | split_ms_to_days | Wrote miniseed file to: c:\\Users\\jpeacock\\OneDrive - DOI\\MTData\\CL2021\\archive\\to_dmc\\1Z_CL397__FFN_2022_07_14T12_59_58.mseed\u001b[0m\n",
      "\u001b[1m2025-04-02T12:05:56.563598-0700 | INFO | mth5.io.conversion | split_ms_to_days | Wrote miniseed file to: c:\\Users\\jpeacock\\OneDrive - DOI\\MTData\\CL2021\\archive\\to_dmc\\1Z_CL397__FFE_2022_07_14T12_59_58.mseed\u001b[0m\n",
      "\u001b[1m2025-04-02T12:05:56.754774-0700 | INFO | mth5.io.conversion | split_ms_to_days | Wrote miniseed file to: c:\\Users\\jpeacock\\OneDrive - DOI\\MTData\\CL2021\\archive\\to_dmc\\1Z_CL397__FFZ_2022_07_14T12_59_58.mseed\u001b[0m\n",
      "\u001b[1m2025-04-02T12:06:03.382311-0700 | INFO | mth5.io.conversion | split_ms_to_days | Wrote miniseed file to: c:\\Users\\jpeacock\\OneDrive - DOI\\MTData\\CL2021\\archive\\to_dmc\\1Z_CL397__CQN_2022_07_14T13_09_58.mseed\u001b[0m\n",
      "\u001b[1m2025-04-02T12:06:03.682939-0700 | INFO | mth5.io.conversion | split_ms_to_days | Wrote miniseed file to: c:\\Users\\jpeacock\\OneDrive - DOI\\MTData\\CL2021\\archive\\to_dmc\\1Z_CL397__CQE_2022_07_14T13_09_58.mseed\u001b[0m\n",
      "\u001b[1m2025-04-02T12:06:03.978472-0700 | INFO | mth5.io.conversion | split_ms_to_days | Wrote miniseed file to: c:\\Users\\jpeacock\\OneDrive - DOI\\MTData\\CL2021\\archive\\to_dmc\\1Z_CL397__CFN_2022_07_14T13_09_58.mseed\u001b[0m\n",
      "\u001b[1m2025-04-02T12:06:04.276192-0700 | INFO | mth5.io.conversion | split_ms_to_days | Wrote miniseed file to: c:\\Users\\jpeacock\\OneDrive - DOI\\MTData\\CL2021\\archive\\to_dmc\\1Z_CL397__CFE_2022_07_14T13_09_58.mseed\u001b[0m\n",
      "\u001b[1m2025-04-02T12:06:04.583867-0700 | INFO | mth5.io.conversion | split_ms_to_days | Wrote miniseed file to: c:\\Users\\jpeacock\\OneDrive - DOI\\MTData\\CL2021\\archive\\to_dmc\\1Z_CL397__CFZ_2022_07_14T13_09_58.mseed\u001b[0m\n",
      "\u001b[1m2025-04-02T12:06:05.683863-0700 | INFO | mth5.mth5 | close_mth5 | Flushing and closing c:\\Users\\jpeacock\\OneDrive - DOI\\MTData\\CL2021\\archive\\cl397.h5\u001b[0m\n",
      "\u001b[33m\u001b[1m2025-04-02T12:06:05.687862-0700 | WARNING | mt_metadata.timeseries.stationxml.xml_station_mt_station | mt_to_xml | Station.geographic_name is None, using Station.id = cl397.Check StationXML site.name.\u001b[0m\n",
      "\u001b[1m2025-04-02T12:06:05.763476-0700 | INFO | mt_metadata.timeseries.filters.channel_response | to_obspy | total sensitivity 105384854631.2247 != total gain 1048576000.000055. Using total_gain.\u001b[0m\n",
      "\u001b[1m2025-04-02T12:06:05.792479-0700 | INFO | mt_metadata.timeseries.filters.channel_response | to_obspy | total sensitivity 105012851743.1351 != total gain 1048576000.000055. Using total_gain.\u001b[0m\n",
      "\u001b[1m2025-04-02T12:06:05.821999-0700 | INFO | mt_metadata.timeseries.filters.channel_response | to_obspy | total sensitivity 104693940307.89154 != total gain 1048576000.000055. Using total_gain.\u001b[0m\n",
      "\u001b[1m2025-04-02T12:06:05.914037-0700 | INFO | mt_metadata.timeseries.filters.channel_response | to_obspy | total sensitivity 105384854631.2247 != total gain 1048576000.000055. Using total_gain.\u001b[0m\n",
      "\u001b[1m2025-04-02T12:06:05.943519-0700 | INFO | mt_metadata.timeseries.filters.channel_response | to_obspy | total sensitivity 105012851743.1351 != total gain 1048576000.000055. Using total_gain.\u001b[0m\n",
      "\u001b[1m2025-04-02T12:06:05.974520-0700 | INFO | mt_metadata.timeseries.filters.channel_response | to_obspy | total sensitivity 104693940307.89154 != total gain 1048576000.000055. Using total_gain.\u001b[0m\n",
      "\u001b[1m2025-04-02T12:06:06.067138-0700 | INFO | mt_metadata.timeseries.filters.channel_response | to_obspy | total sensitivity 105384854631.2247 != total gain 1048576000.000055. Using total_gain.\u001b[0m\n",
      "\u001b[1m2025-04-02T12:06:06.095931-0700 | INFO | mt_metadata.timeseries.filters.channel_response | to_obspy | total sensitivity 105012851743.1351 != total gain 1048576000.000055. Using total_gain.\u001b[0m\n",
      "\u001b[1m2025-04-02T12:06:06.124552-0700 | INFO | mt_metadata.timeseries.filters.channel_response | to_obspy | total sensitivity 104693940307.89154 != total gain 1048576000.000055. Using total_gain.\u001b[0m\n",
      "\u001b[1m2025-04-02T12:06:06.229349-0700 | INFO | mt_metadata.timeseries.filters.channel_response | to_obspy | total sensitivity 105384854631.2247 != total gain 1048576000.000055. Using total_gain.\u001b[0m\n",
      "\u001b[1m2025-04-02T12:06:06.263384-0700 | INFO | mt_metadata.timeseries.filters.channel_response | to_obspy | total sensitivity 105012851743.1351 != total gain 1048576000.000055. Using total_gain.\u001b[0m\n",
      "\u001b[1m2025-04-02T12:06:06.293344-0700 | INFO | mt_metadata.timeseries.filters.channel_response | to_obspy | total sensitivity 104693940307.89154 != total gain 1048576000.000055. Using total_gain.\u001b[0m\n",
      "\u001b[1m2025-04-02T12:06:06.395969-0700 | INFO | mt_metadata.timeseries.filters.channel_response | to_obspy | total sensitivity 105384854631.2247 != total gain 1048576000.000055. Using total_gain.\u001b[0m\n",
      "\u001b[1m2025-04-02T12:06:06.430597-0700 | INFO | mt_metadata.timeseries.filters.channel_response | to_obspy | total sensitivity 105012851743.1351 != total gain 1048576000.000055. Using total_gain.\u001b[0m\n",
      "\u001b[1m2025-04-02T12:06:06.460629-0700 | INFO | mt_metadata.timeseries.filters.channel_response | to_obspy | total sensitivity 104693940307.89154 != total gain 1048576000.000055. Using total_gain.\u001b[0m\n",
      "\u001b[1m2025-04-02T12:06:06.554243-0700 | INFO | mt_metadata.timeseries.filters.channel_response | to_obspy | total sensitivity 105384854631.2247 != total gain 1048576000.000055. Using total_gain.\u001b[0m\n",
      "\u001b[1m2025-04-02T12:06:06.584244-0700 | INFO | mt_metadata.timeseries.filters.channel_response | to_obspy | total sensitivity 105012851743.1351 != total gain 1048576000.000055. Using total_gain.\u001b[0m\n",
      "\u001b[1m2025-04-02T12:06:06.615279-0700 | INFO | mt_metadata.timeseries.filters.channel_response | to_obspy | total sensitivity 104693940307.89154 != total gain 1048576000.000055. Using total_gain.\u001b[0m\n",
      "\u001b[1m2025-04-02T12:06:06.719874-0700 | INFO | mt_metadata.timeseries.filters.channel_response | to_obspy | total sensitivity 105384854631.2247 != total gain 1048576000.000055. Using total_gain.\u001b[0m\n",
      "\u001b[1m2025-04-02T12:06:06.747975-0700 | INFO | mt_metadata.timeseries.filters.channel_response | to_obspy | total sensitivity 105012851743.1351 != total gain 1048576000.000055. Using total_gain.\u001b[0m\n",
      "\u001b[1m2025-04-02T12:06:06.779973-0700 | INFO | mt_metadata.timeseries.filters.channel_response | to_obspy | total sensitivity 104693940307.89154 != total gain 1048576000.000055. Using total_gain.\u001b[0m\n",
      "\u001b[1m2025-04-02T12:06:06.870624-0700 | INFO | mt_metadata.timeseries.filters.channel_response | to_obspy | total sensitivity 105384854631.2247 != total gain 1048576000.000055. Using total_gain.\u001b[0m\n",
      "\u001b[1m2025-04-02T12:06:06.899625-0700 | INFO | mt_metadata.timeseries.filters.channel_response | to_obspy | total sensitivity 105012851743.1351 != total gain 1048576000.000055. Using total_gain.\u001b[0m\n",
      "\u001b[1m2025-04-02T12:06:06.931238-0700 | INFO | mt_metadata.timeseries.filters.channel_response | to_obspy | total sensitivity 104693940307.89154 != total gain 1048576000.000055. Using total_gain.\u001b[0m\n",
      "\u001b[1m2025-04-02T12:06:06.966205-0700 | INFO | mth5.io.conversion | convert_mth5_to_ms_stationxml | Wrote StationXML to c:\\Users\\jpeacock\\OneDrive - DOI\\MTData\\CL2021\\archive\\to_dmc\\cl397.xml\u001b[0m\n",
      "\u001b[1m2025-04-02T12:06:12.066131-0700 | INFO | mth5.io.conversion | split_ms_to_days | Wrote miniseed file to: c:\\Users\\jpeacock\\OneDrive - DOI\\MTData\\CL2021\\archive\\to_dmc\\1Z_CL407__LQN_2022_10_27T19_29_58.mseed\u001b[0m\n",
      "\u001b[1m2025-04-02T12:06:12.070131-0700 | INFO | mth5.io.conversion | split_ms_to_days | Wrote miniseed file to: c:\\Users\\jpeacock\\OneDrive - DOI\\MTData\\CL2021\\archive\\to_dmc\\1Z_CL407__LQN_2022_10_28T00_00_00.mseed\u001b[0m\n",
      "\u001b[1m2025-04-02T12:06:12.076099-0700 | INFO | mth5.io.conversion | split_ms_to_days | Wrote miniseed file to: c:\\Users\\jpeacock\\OneDrive - DOI\\MTData\\CL2021\\archive\\to_dmc\\1Z_CL407__LQE_2022_10_27T19_29_58.mseed\u001b[0m\n",
      "\u001b[1m2025-04-02T12:06:12.080103-0700 | INFO | mth5.io.conversion | split_ms_to_days | Wrote miniseed file to: c:\\Users\\jpeacock\\OneDrive - DOI\\MTData\\CL2021\\archive\\to_dmc\\1Z_CL407__LQE_2022_10_28T00_00_00.mseed\u001b[0m\n",
      "\u001b[1m2025-04-02T12:06:12.088098-0700 | INFO | mth5.io.conversion | split_ms_to_days | Wrote miniseed file to: c:\\Users\\jpeacock\\OneDrive - DOI\\MTData\\CL2021\\archive\\to_dmc\\1Z_CL407__LFN_2022_10_27T19_29_58.mseed\u001b[0m\n",
      "\u001b[1m2025-04-02T12:06:12.092108-0700 | INFO | mth5.io.conversion | split_ms_to_days | Wrote miniseed file to: c:\\Users\\jpeacock\\OneDrive - DOI\\MTData\\CL2021\\archive\\to_dmc\\1Z_CL407__LFN_2022_10_28T00_00_00.mseed\u001b[0m\n",
      "\u001b[1m2025-04-02T12:06:12.100101-0700 | INFO | mth5.io.conversion | split_ms_to_days | Wrote miniseed file to: c:\\Users\\jpeacock\\OneDrive - DOI\\MTData\\CL2021\\archive\\to_dmc\\1Z_CL407__LFE_2022_10_27T19_29_58.mseed\u001b[0m\n",
      "\u001b[1m2025-04-02T12:06:12.104100-0700 | INFO | mth5.io.conversion | split_ms_to_days | Wrote miniseed file to: c:\\Users\\jpeacock\\OneDrive - DOI\\MTData\\CL2021\\archive\\to_dmc\\1Z_CL407__LFE_2022_10_28T00_00_00.mseed\u001b[0m\n",
      "\u001b[1m2025-04-02T12:06:12.111112-0700 | INFO | mth5.io.conversion | split_ms_to_days | Wrote miniseed file to: c:\\Users\\jpeacock\\OneDrive - DOI\\MTData\\CL2021\\archive\\to_dmc\\1Z_CL407__LFZ_2022_10_27T19_29_58.mseed\u001b[0m\n",
      "\u001b[1m2025-04-02T12:06:12.116109-0700 | INFO | mth5.io.conversion | split_ms_to_days | Wrote miniseed file to: c:\\Users\\jpeacock\\OneDrive - DOI\\MTData\\CL2021\\archive\\to_dmc\\1Z_CL407__LFZ_2022_10_28T00_00_00.mseed\u001b[0m\n",
      "\u001b[1m2025-04-02T12:06:18.219885-0700 | INFO | mth5.timeseries.run_ts | _align_channels | Channels do not have a common end, using latest: 2022-10-28T00:59:41.968750000\u001b[0m\n",
      "\u001b[1m2025-04-02T12:06:20.898478-0700 | INFO | mth5.io.conversion | split_ms_to_days | Wrote miniseed file to: c:\\Users\\jpeacock\\OneDrive - DOI\\MTData\\CL2021\\archive\\to_dmc\\1Z_CL407__CQN_2022_10_27T19_29_58.mseed\u001b[0m\n",
      "\u001b[1m2025-04-02T12:06:21.228238-0700 | INFO | mth5.io.conversion | split_ms_to_days | Wrote miniseed file to: c:\\Users\\jpeacock\\OneDrive - DOI\\MTData\\CL2021\\archive\\to_dmc\\1Z_CL407__CQN_2022_10_28T00_00_00.mseed\u001b[0m\n",
      "\u001b[1m2025-04-02T12:06:21.304720-0700 | INFO | mth5.io.conversion | split_ms_to_days | Wrote miniseed file to: c:\\Users\\jpeacock\\OneDrive - DOI\\MTData\\CL2021\\archive\\to_dmc\\1Z_CL407__CQE_2022_10_27T19_29_58.mseed\u001b[0m\n",
      "\u001b[1m2025-04-02T12:06:21.648960-0700 | INFO | mth5.io.conversion | split_ms_to_days | Wrote miniseed file to: c:\\Users\\jpeacock\\OneDrive - DOI\\MTData\\CL2021\\archive\\to_dmc\\1Z_CL407__CQE_2022_10_28T00_00_00.mseed\u001b[0m\n",
      "\u001b[1m2025-04-02T12:06:21.732681-0700 | INFO | mth5.io.conversion | split_ms_to_days | Wrote miniseed file to: c:\\Users\\jpeacock\\OneDrive - DOI\\MTData\\CL2021\\archive\\to_dmc\\1Z_CL407__CFN_2022_10_27T19_29_58.mseed\u001b[0m\n",
      "\u001b[1m2025-04-02T12:06:22.074214-0700 | INFO | mth5.io.conversion | split_ms_to_days | Wrote miniseed file to: c:\\Users\\jpeacock\\OneDrive - DOI\\MTData\\CL2021\\archive\\to_dmc\\1Z_CL407__CFN_2022_10_28T00_00_00.mseed\u001b[0m\n",
      "\u001b[1m2025-04-02T12:06:22.156821-0700 | INFO | mth5.io.conversion | split_ms_to_days | Wrote miniseed file to: c:\\Users\\jpeacock\\OneDrive - DOI\\MTData\\CL2021\\archive\\to_dmc\\1Z_CL407__CFE_2022_10_27T19_29_58.mseed\u001b[0m\n",
      "\u001b[1m2025-04-02T12:06:22.494614-0700 | INFO | mth5.io.conversion | split_ms_to_days | Wrote miniseed file to: c:\\Users\\jpeacock\\OneDrive - DOI\\MTData\\CL2021\\archive\\to_dmc\\1Z_CL407__CFE_2022_10_28T00_00_00.mseed\u001b[0m\n",
      "\u001b[1m2025-04-02T12:06:22.571158-0700 | INFO | mth5.io.conversion | split_ms_to_days | Wrote miniseed file to: c:\\Users\\jpeacock\\OneDrive - DOI\\MTData\\CL2021\\archive\\to_dmc\\1Z_CL407__CFZ_2022_10_27T19_29_58.mseed\u001b[0m\n",
      "\u001b[1m2025-04-02T12:06:22.929270-0700 | INFO | mth5.io.conversion | split_ms_to_days | Wrote miniseed file to: c:\\Users\\jpeacock\\OneDrive - DOI\\MTData\\CL2021\\archive\\to_dmc\\1Z_CL407__CFZ_2022_10_28T00_00_00.mseed\u001b[0m\n",
      "\u001b[1m2025-04-02T12:06:26.089693-0700 | INFO | mth5.timeseries.run_ts | _align_channels | Channels do not have a common end, using latest: 2022-10-28T01:09:41.999268000\u001b[0m\n"
     ]
    },
    {
     "name": "stderr",
     "output_type": "stream",
     "text": [
      "C:\\Users\\jpeacock\\OneDrive - DOI\\Documents\\GitHub\\mth5\\mth5\\timeseries\\channel_ts.py:1524: RuntimeWarning: invalid value encountered in cast\n",
      "  obspy_trace = Trace(self.ts.astype(encoding_dict[encoding]))\n"
     ]
    },
    {
     "name": "stdout",
     "output_type": "stream",
     "text": [
      "\u001b[1m2025-04-02T12:06:28.936499-0700 | INFO | mth5.io.conversion | split_ms_to_days | Wrote miniseed file to: c:\\Users\\jpeacock\\OneDrive - DOI\\MTData\\CL2021\\archive\\to_dmc\\1Z_CL407__FQN_2022_10_28T00_59_58.mseed\u001b[0m\n",
      "\u001b[1m2025-04-02T12:06:29.127692-0700 | INFO | mth5.io.conversion | split_ms_to_days | Wrote miniseed file to: c:\\Users\\jpeacock\\OneDrive - DOI\\MTData\\CL2021\\archive\\to_dmc\\1Z_CL407__FQE_2022_10_28T00_59_58.mseed\u001b[0m\n",
      "\u001b[1m2025-04-02T12:06:29.319816-0700 | INFO | mth5.io.conversion | split_ms_to_days | Wrote miniseed file to: c:\\Users\\jpeacock\\OneDrive - DOI\\MTData\\CL2021\\archive\\to_dmc\\1Z_CL407__FFN_2022_10_28T00_59_58.mseed\u001b[0m\n",
      "\u001b[1m2025-04-02T12:06:29.515954-0700 | INFO | mth5.io.conversion | split_ms_to_days | Wrote miniseed file to: c:\\Users\\jpeacock\\OneDrive - DOI\\MTData\\CL2021\\archive\\to_dmc\\1Z_CL407__FFE_2022_10_28T00_59_58.mseed\u001b[0m\n",
      "\u001b[1m2025-04-02T12:06:29.714448-0700 | INFO | mth5.io.conversion | split_ms_to_days | Wrote miniseed file to: c:\\Users\\jpeacock\\OneDrive - DOI\\MTData\\CL2021\\archive\\to_dmc\\1Z_CL407__FFZ_2022_10_28T00_59_58.mseed\u001b[0m\n",
      "\u001b[1m2025-04-02T12:06:37.654556-0700 | INFO | mth5.io.conversion | split_ms_to_days | Wrote miniseed file to: c:\\Users\\jpeacock\\OneDrive - DOI\\MTData\\CL2021\\archive\\to_dmc\\1Z_CL407__CQN_2022_10_28T01_09_58.mseed\u001b[0m\n",
      "\u001b[1m2025-04-02T12:06:38.091848-0700 | INFO | mth5.io.conversion | split_ms_to_days | Wrote miniseed file to: c:\\Users\\jpeacock\\OneDrive - DOI\\MTData\\CL2021\\archive\\to_dmc\\1Z_CL407__CQE_2022_10_28T01_09_58.mseed\u001b[0m\n",
      "\u001b[1m2025-04-02T12:06:38.524449-0700 | INFO | mth5.io.conversion | split_ms_to_days | Wrote miniseed file to: c:\\Users\\jpeacock\\OneDrive - DOI\\MTData\\CL2021\\archive\\to_dmc\\1Z_CL407__CFN_2022_10_28T01_09_58.mseed\u001b[0m\n",
      "\u001b[1m2025-04-02T12:06:38.967536-0700 | INFO | mth5.io.conversion | split_ms_to_days | Wrote miniseed file to: c:\\Users\\jpeacock\\OneDrive - DOI\\MTData\\CL2021\\archive\\to_dmc\\1Z_CL407__CFE_2022_10_28T01_09_58.mseed\u001b[0m\n",
      "\u001b[1m2025-04-02T12:06:39.406424-0700 | INFO | mth5.io.conversion | split_ms_to_days | Wrote miniseed file to: c:\\Users\\jpeacock\\OneDrive - DOI\\MTData\\CL2021\\archive\\to_dmc\\1Z_CL407__CFZ_2022_10_28T01_09_58.mseed\u001b[0m\n",
      "\u001b[1m2025-04-02T12:06:43.420668-0700 | INFO | mth5.timeseries.run_ts | _align_channels | Channels do not have a common end, using latest: 2022-10-28T07:09:41.998535156\u001b[0m\n",
      "\u001b[33m\u001b[1m2025-04-02T12:06:45.475593-0700 | WARNING | mth5.timeseries.run_ts | validate_metadata | end time of dataset 2022-10-28T07:09:41.998291015+00:00 does not match metadata end 2022-10-28T07:09:41.998535156+00:00 updating metatdata value to 2022-10-28T07:09:41.998291015+00:00\u001b[0m\n"
     ]
    },
    {
     "name": "stderr",
     "output_type": "stream",
     "text": [
      "C:\\Users\\jpeacock\\OneDrive - DOI\\Documents\\GitHub\\mth5\\mth5\\timeseries\\channel_ts.py:1524: RuntimeWarning: invalid value encountered in cast\n",
      "  obspy_trace = Trace(self.ts.astype(encoding_dict[encoding]))\n"
     ]
    },
    {
     "name": "stdout",
     "output_type": "stream",
     "text": [
      "\u001b[1m2025-04-02T12:06:46.225647-0700 | INFO | mth5.io.conversion | split_ms_to_days | Wrote miniseed file to: c:\\Users\\jpeacock\\OneDrive - DOI\\MTData\\CL2021\\archive\\to_dmc\\1Z_CL407__FQN_2022_10_28T06_59_58.mseed\u001b[0m\n",
      "\u001b[1m2025-04-02T12:06:46.417628-0700 | INFO | mth5.io.conversion | split_ms_to_days | Wrote miniseed file to: c:\\Users\\jpeacock\\OneDrive - DOI\\MTData\\CL2021\\archive\\to_dmc\\1Z_CL407__FQE_2022_10_28T06_59_58.mseed\u001b[0m\n",
      "\u001b[1m2025-04-02T12:06:46.606650-0700 | INFO | mth5.io.conversion | split_ms_to_days | Wrote miniseed file to: c:\\Users\\jpeacock\\OneDrive - DOI\\MTData\\CL2021\\archive\\to_dmc\\1Z_CL407__FFN_2022_10_28T06_59_58.mseed\u001b[0m\n",
      "\u001b[1m2025-04-02T12:06:46.804673-0700 | INFO | mth5.io.conversion | split_ms_to_days | Wrote miniseed file to: c:\\Users\\jpeacock\\OneDrive - DOI\\MTData\\CL2021\\archive\\to_dmc\\1Z_CL407__FFE_2022_10_28T06_59_58.mseed\u001b[0m\n",
      "\u001b[1m2025-04-02T12:06:46.996698-0700 | INFO | mth5.io.conversion | split_ms_to_days | Wrote miniseed file to: c:\\Users\\jpeacock\\OneDrive - DOI\\MTData\\CL2021\\archive\\to_dmc\\1Z_CL407__FFZ_2022_10_28T06_59_58.mseed\u001b[0m\n",
      "\u001b[1m2025-04-02T12:06:54.490083-0700 | INFO | mth5.timeseries.run_ts | _align_channels | Channels do not have a common end, using latest: 2022-10-28T12:59:41.968750000\u001b[0m\n"
     ]
    },
    {
     "name": "stderr",
     "output_type": "stream",
     "text": [
      "C:\\Users\\jpeacock\\OneDrive - DOI\\Documents\\GitHub\\mth5\\mth5\\timeseries\\channel_ts.py:1524: RuntimeWarning: invalid value encountered in cast\n",
      "  obspy_trace = Trace(self.ts.astype(encoding_dict[encoding]))\n"
     ]
    },
    {
     "name": "stdout",
     "output_type": "stream",
     "text": [
      "\u001b[1m2025-04-02T12:06:57.297133-0700 | INFO | mth5.io.conversion | split_ms_to_days | Wrote miniseed file to: c:\\Users\\jpeacock\\OneDrive - DOI\\MTData\\CL2021\\archive\\to_dmc\\1Z_CL407__CQN_2022_10_28T07_09_58.mseed\u001b[0m\n",
      "\u001b[1m2025-04-02T12:06:57.714748-0700 | INFO | mth5.io.conversion | split_ms_to_days | Wrote miniseed file to: c:\\Users\\jpeacock\\OneDrive - DOI\\MTData\\CL2021\\archive\\to_dmc\\1Z_CL407__CQE_2022_10_28T07_09_58.mseed\u001b[0m\n",
      "\u001b[1m2025-04-02T12:06:58.161991-0700 | INFO | mth5.io.conversion | split_ms_to_days | Wrote miniseed file to: c:\\Users\\jpeacock\\OneDrive - DOI\\MTData\\CL2021\\archive\\to_dmc\\1Z_CL407__CFN_2022_10_28T07_09_58.mseed\u001b[0m\n",
      "\u001b[1m2025-04-02T12:06:58.590967-0700 | INFO | mth5.io.conversion | split_ms_to_days | Wrote miniseed file to: c:\\Users\\jpeacock\\OneDrive - DOI\\MTData\\CL2021\\archive\\to_dmc\\1Z_CL407__CFE_2022_10_28T07_09_58.mseed\u001b[0m\n",
      "\u001b[1m2025-04-02T12:06:59.044310-0700 | INFO | mth5.io.conversion | split_ms_to_days | Wrote miniseed file to: c:\\Users\\jpeacock\\OneDrive - DOI\\MTData\\CL2021\\archive\\to_dmc\\1Z_CL407__CFZ_2022_10_28T07_09_58.mseed\u001b[0m\n",
      "\u001b[1m2025-04-02T12:07:02.889056-0700 | INFO | mth5.timeseries.run_ts | _align_channels | Channels do not have a common end, using latest: 2022-10-28T13:09:41.999023437\u001b[0m\n",
      "\u001b[33m\u001b[1m2025-04-02T12:07:05.378951-0700 | WARNING | mth5.timeseries.run_ts | validate_metadata | end time of dataset 2022-10-28T13:09:41.998779296+00:00 does not match metadata end 2022-10-28T13:09:41.999023437+00:00 updating metatdata value to 2022-10-28T13:09:41.998779296+00:00\u001b[0m\n"
     ]
    },
    {
     "name": "stderr",
     "output_type": "stream",
     "text": [
      "C:\\Users\\jpeacock\\OneDrive - DOI\\Documents\\GitHub\\mth5\\mth5\\timeseries\\channel_ts.py:1524: RuntimeWarning: invalid value encountered in cast\n",
      "  obspy_trace = Trace(self.ts.astype(encoding_dict[encoding]))\n"
     ]
    },
    {
     "name": "stdout",
     "output_type": "stream",
     "text": [
      "\u001b[1m2025-04-02T12:07:06.197039-0700 | INFO | mth5.io.conversion | split_ms_to_days | Wrote miniseed file to: c:\\Users\\jpeacock\\OneDrive - DOI\\MTData\\CL2021\\archive\\to_dmc\\1Z_CL407__FQN_2022_10_28T12_59_58.mseed\u001b[0m\n",
      "\u001b[1m2025-04-02T12:07:06.389872-0700 | INFO | mth5.io.conversion | split_ms_to_days | Wrote miniseed file to: c:\\Users\\jpeacock\\OneDrive - DOI\\MTData\\CL2021\\archive\\to_dmc\\1Z_CL407__FQE_2022_10_28T12_59_58.mseed\u001b[0m\n",
      "\u001b[1m2025-04-02T12:07:06.581993-0700 | INFO | mth5.io.conversion | split_ms_to_days | Wrote miniseed file to: c:\\Users\\jpeacock\\OneDrive - DOI\\MTData\\CL2021\\archive\\to_dmc\\1Z_CL407__FFN_2022_10_28T12_59_58.mseed\u001b[0m\n",
      "\u001b[1m2025-04-02T12:07:06.786396-0700 | INFO | mth5.io.conversion | split_ms_to_days | Wrote miniseed file to: c:\\Users\\jpeacock\\OneDrive - DOI\\MTData\\CL2021\\archive\\to_dmc\\1Z_CL407__FFE_2022_10_28T12_59_58.mseed\u001b[0m\n",
      "\u001b[1m2025-04-02T12:07:06.980445-0700 | INFO | mth5.io.conversion | split_ms_to_days | Wrote miniseed file to: c:\\Users\\jpeacock\\OneDrive - DOI\\MTData\\CL2021\\archive\\to_dmc\\1Z_CL407__FFZ_2022_10_28T12_59_58.mseed\u001b[0m\n",
      "\u001b[1m2025-04-02T12:07:12.349043-0700 | INFO | mth5.io.conversion | split_ms_to_days | Wrote miniseed file to: c:\\Users\\jpeacock\\OneDrive - DOI\\MTData\\CL2021\\archive\\to_dmc\\1Z_CL407__CQN_2022_10_28T13_09_58.mseed\u001b[0m\n",
      "\u001b[1m2025-04-02T12:07:12.519258-0700 | INFO | mth5.io.conversion | split_ms_to_days | Wrote miniseed file to: c:\\Users\\jpeacock\\OneDrive - DOI\\MTData\\CL2021\\archive\\to_dmc\\1Z_CL407__CQE_2022_10_28T13_09_58.mseed\u001b[0m\n",
      "\u001b[1m2025-04-02T12:07:12.695393-0700 | INFO | mth5.io.conversion | split_ms_to_days | Wrote miniseed file to: c:\\Users\\jpeacock\\OneDrive - DOI\\MTData\\CL2021\\archive\\to_dmc\\1Z_CL407__CFN_2022_10_28T13_09_58.mseed\u001b[0m\n",
      "\u001b[1m2025-04-02T12:07:12.871924-0700 | INFO | mth5.io.conversion | split_ms_to_days | Wrote miniseed file to: c:\\Users\\jpeacock\\OneDrive - DOI\\MTData\\CL2021\\archive\\to_dmc\\1Z_CL407__CFE_2022_10_28T13_09_58.mseed\u001b[0m\n",
      "\u001b[1m2025-04-02T12:07:13.049982-0700 | INFO | mth5.io.conversion | split_ms_to_days | Wrote miniseed file to: c:\\Users\\jpeacock\\OneDrive - DOI\\MTData\\CL2021\\archive\\to_dmc\\1Z_CL407__CFZ_2022_10_28T13_09_58.mseed\u001b[0m\n",
      "\u001b[1m2025-04-02T12:07:14.053101-0700 | INFO | mth5.mth5 | close_mth5 | Flushing and closing c:\\Users\\jpeacock\\OneDrive - DOI\\MTData\\CL2021\\archive\\cl407.h5\u001b[0m\n",
      "\u001b[33m\u001b[1m2025-04-02T12:07:14.057101-0700 | WARNING | mt_metadata.timeseries.stationxml.xml_station_mt_station | mt_to_xml | Station.geographic_name is None, using Station.id = cl407.Check StationXML site.name.\u001b[0m\n",
      "\u001b[1m2025-04-02T12:07:14.136742-0700 | INFO | mt_metadata.timeseries.filters.channel_response | to_obspy | total sensitivity 105384854631.2247 != total gain 1048576000.000055. Using total_gain.\u001b[0m\n",
      "\u001b[1m2025-04-02T12:07:14.164754-0700 | INFO | mt_metadata.timeseries.filters.channel_response | to_obspy | total sensitivity 105012851743.1351 != total gain 1048576000.000055. Using total_gain.\u001b[0m\n",
      "\u001b[1m2025-04-02T12:07:14.194540-0700 | INFO | mt_metadata.timeseries.filters.channel_response | to_obspy | total sensitivity 104693940307.89154 != total gain 1048576000.000055. Using total_gain.\u001b[0m\n",
      "\u001b[1m2025-04-02T12:07:14.285141-0700 | INFO | mt_metadata.timeseries.filters.channel_response | to_obspy | total sensitivity 105384854631.2247 != total gain 1048576000.000055. Using total_gain.\u001b[0m\n",
      "\u001b[1m2025-04-02T12:07:14.315112-0700 | INFO | mt_metadata.timeseries.filters.channel_response | to_obspy | total sensitivity 105012851743.1351 != total gain 1048576000.000055. Using total_gain.\u001b[0m\n",
      "\u001b[1m2025-04-02T12:07:14.347112-0700 | INFO | mt_metadata.timeseries.filters.channel_response | to_obspy | total sensitivity 104693940307.89154 != total gain 1048576000.000055. Using total_gain.\u001b[0m\n",
      "\u001b[1m2025-04-02T12:07:14.444755-0700 | INFO | mt_metadata.timeseries.filters.channel_response | to_obspy | total sensitivity 105384854631.2247 != total gain 1048576000.000055. Using total_gain.\u001b[0m\n",
      "\u001b[1m2025-04-02T12:07:14.473734-0700 | INFO | mt_metadata.timeseries.filters.channel_response | to_obspy | total sensitivity 105012851743.1351 != total gain 1048576000.000055. Using total_gain.\u001b[0m\n",
      "\u001b[1m2025-04-02T12:07:14.507281-0700 | INFO | mt_metadata.timeseries.filters.channel_response | to_obspy | total sensitivity 104693940307.89154 != total gain 1048576000.000055. Using total_gain.\u001b[0m\n",
      "\u001b[1m2025-04-02T12:07:14.603783-0700 | INFO | mt_metadata.timeseries.filters.channel_response | to_obspy | total sensitivity 105384854631.2247 != total gain 1048576000.000055. Using total_gain.\u001b[0m\n",
      "\u001b[1m2025-04-02T12:07:14.650783-0700 | INFO | mt_metadata.timeseries.filters.channel_response | to_obspy | total sensitivity 105012851743.1351 != total gain 1048576000.000055. Using total_gain.\u001b[0m\n",
      "\u001b[1m2025-04-02T12:07:14.681293-0700 | INFO | mt_metadata.timeseries.filters.channel_response | to_obspy | total sensitivity 104693940307.89154 != total gain 1048576000.000055. Using total_gain.\u001b[0m\n",
      "\u001b[1m2025-04-02T12:07:14.788943-0700 | INFO | mt_metadata.timeseries.filters.channel_response | to_obspy | total sensitivity 105384854631.2247 != total gain 1048576000.000055. Using total_gain.\u001b[0m\n",
      "\u001b[1m2025-04-02T12:07:14.817945-0700 | INFO | mt_metadata.timeseries.filters.channel_response | to_obspy | total sensitivity 105012851743.1351 != total gain 1048576000.000055. Using total_gain.\u001b[0m\n",
      "\u001b[1m2025-04-02T12:07:14.851945-0700 | INFO | mt_metadata.timeseries.filters.channel_response | to_obspy | total sensitivity 104693940307.89154 != total gain 1048576000.000055. Using total_gain.\u001b[0m\n",
      "\u001b[1m2025-04-02T12:07:14.939530-0700 | INFO | mt_metadata.timeseries.filters.channel_response | to_obspy | total sensitivity 105384854631.2247 != total gain 1048576000.000055. Using total_gain.\u001b[0m\n",
      "\u001b[1m2025-04-02T12:07:14.967559-0700 | INFO | mt_metadata.timeseries.filters.channel_response | to_obspy | total sensitivity 105012851743.1351 != total gain 1048576000.000055. Using total_gain.\u001b[0m\n",
      "\u001b[1m2025-04-02T12:07:14.996111-0700 | INFO | mt_metadata.timeseries.filters.channel_response | to_obspy | total sensitivity 104693940307.89154 != total gain 1048576000.000055. Using total_gain.\u001b[0m\n",
      "\u001b[1m2025-04-02T12:07:15.085741-0700 | INFO | mt_metadata.timeseries.filters.channel_response | to_obspy | total sensitivity 105384854631.2247 != total gain 1048576000.000055. Using total_gain.\u001b[0m\n",
      "\u001b[1m2025-04-02T12:07:15.115708-0700 | INFO | mt_metadata.timeseries.filters.channel_response | to_obspy | total sensitivity 105012851743.1351 != total gain 1048576000.000055. Using total_gain.\u001b[0m\n",
      "\u001b[1m2025-04-02T12:07:15.144713-0700 | INFO | mt_metadata.timeseries.filters.channel_response | to_obspy | total sensitivity 104693940307.89154 != total gain 1048576000.000055. Using total_gain.\u001b[0m\n",
      "\u001b[1m2025-04-02T12:07:15.239359-0700 | INFO | mt_metadata.timeseries.filters.channel_response | to_obspy | total sensitivity 105384854631.2247 != total gain 1048576000.000055. Using total_gain.\u001b[0m\n",
      "\u001b[1m2025-04-02T12:07:15.269385-0700 | INFO | mt_metadata.timeseries.filters.channel_response | to_obspy | total sensitivity 105012851743.1351 != total gain 1048576000.000055. Using total_gain.\u001b[0m\n",
      "\u001b[1m2025-04-02T12:07:15.300928-0700 | INFO | mt_metadata.timeseries.filters.channel_response | to_obspy | total sensitivity 104693940307.89154 != total gain 1048576000.000055. Using total_gain.\u001b[0m\n",
      "\u001b[1m2025-04-02T12:07:15.332933-0700 | INFO | mth5.io.conversion | convert_mth5_to_ms_stationxml | Wrote StationXML to c:\\Users\\jpeacock\\OneDrive - DOI\\MTData\\CL2021\\archive\\to_dmc\\cl407.xml\u001b[0m\n",
      "\u001b[33m\u001b[1m2025-04-02T12:07:17.095760-0700 | WARNING | mt_metadata.timeseries.station | remove_run | Could not find cl408a to remove.\u001b[0m\n",
      "\u001b[1m2025-04-02T12:07:20.746192-0700 | INFO | mth5.io.conversion | split_ms_to_days | Wrote miniseed file to: c:\\Users\\jpeacock\\OneDrive - DOI\\MTData\\CL2021\\archive\\to_dmc\\1Z_CL408__LQN_2022_10_27T21_09_58.mseed\u001b[0m\n",
      "\u001b[1m2025-04-02T12:07:20.749192-0700 | INFO | mth5.io.conversion | split_ms_to_days | Wrote miniseed file to: c:\\Users\\jpeacock\\OneDrive - DOI\\MTData\\CL2021\\archive\\to_dmc\\1Z_CL408__LQN_2022_10_28T00_00_00.mseed\u001b[0m\n",
      "\u001b[1m2025-04-02T12:07:20.758194-0700 | INFO | mth5.io.conversion | split_ms_to_days | Wrote miniseed file to: c:\\Users\\jpeacock\\OneDrive - DOI\\MTData\\CL2021\\archive\\to_dmc\\1Z_CL408__LQE_2022_10_27T21_09_58.mseed\u001b[0m\n",
      "\u001b[1m2025-04-02T12:07:20.760205-0700 | INFO | mth5.io.conversion | split_ms_to_days | Wrote miniseed file to: c:\\Users\\jpeacock\\OneDrive - DOI\\MTData\\CL2021\\archive\\to_dmc\\1Z_CL408__LQE_2022_10_28T00_00_00.mseed\u001b[0m\n",
      "\u001b[1m2025-04-02T12:07:20.769211-0700 | INFO | mth5.io.conversion | split_ms_to_days | Wrote miniseed file to: c:\\Users\\jpeacock\\OneDrive - DOI\\MTData\\CL2021\\archive\\to_dmc\\1Z_CL408__LFN_2022_10_27T21_09_58.mseed\u001b[0m\n",
      "\u001b[1m2025-04-02T12:07:20.773219-0700 | INFO | mth5.io.conversion | split_ms_to_days | Wrote miniseed file to: c:\\Users\\jpeacock\\OneDrive - DOI\\MTData\\CL2021\\archive\\to_dmc\\1Z_CL408__LFN_2022_10_28T00_00_00.mseed\u001b[0m\n",
      "\u001b[1m2025-04-02T12:07:20.781217-0700 | INFO | mth5.io.conversion | split_ms_to_days | Wrote miniseed file to: c:\\Users\\jpeacock\\OneDrive - DOI\\MTData\\CL2021\\archive\\to_dmc\\1Z_CL408__LFE_2022_10_27T21_09_58.mseed\u001b[0m\n",
      "\u001b[1m2025-04-02T12:07:20.784723-0700 | INFO | mth5.io.conversion | split_ms_to_days | Wrote miniseed file to: c:\\Users\\jpeacock\\OneDrive - DOI\\MTData\\CL2021\\archive\\to_dmc\\1Z_CL408__LFE_2022_10_28T00_00_00.mseed\u001b[0m\n",
      "\u001b[1m2025-04-02T12:07:20.792735-0700 | INFO | mth5.io.conversion | split_ms_to_days | Wrote miniseed file to: c:\\Users\\jpeacock\\OneDrive - DOI\\MTData\\CL2021\\archive\\to_dmc\\1Z_CL408__LFZ_2022_10_27T21_09_58.mseed\u001b[0m\n",
      "\u001b[1m2025-04-02T12:07:20.795734-0700 | INFO | mth5.io.conversion | split_ms_to_days | Wrote miniseed file to: c:\\Users\\jpeacock\\OneDrive - DOI\\MTData\\CL2021\\archive\\to_dmc\\1Z_CL408__LFZ_2022_10_28T00_00_00.mseed\u001b[0m\n",
      "\u001b[1m2025-04-02T12:07:26.948695-0700 | INFO | mth5.io.conversion | split_ms_to_days | Wrote miniseed file to: c:\\Users\\jpeacock\\OneDrive - DOI\\MTData\\CL2021\\archive\\to_dmc\\1Z_CL408__CQN_2022_10_27T21_09_58.mseed\u001b[0m\n",
      "\u001b[1m2025-04-02T12:07:27.157829-0700 | INFO | mth5.io.conversion | split_ms_to_days | Wrote miniseed file to: c:\\Users\\jpeacock\\OneDrive - DOI\\MTData\\CL2021\\archive\\to_dmc\\1Z_CL408__CQN_2022_10_28T00_00_00.mseed\u001b[0m\n",
      "\u001b[1m2025-04-02T12:07:27.236416-0700 | INFO | mth5.io.conversion | split_ms_to_days | Wrote miniseed file to: c:\\Users\\jpeacock\\OneDrive - DOI\\MTData\\CL2021\\archive\\to_dmc\\1Z_CL408__CQE_2022_10_27T21_09_58.mseed\u001b[0m\n",
      "\u001b[1m2025-04-02T12:07:27.455470-0700 | INFO | mth5.io.conversion | split_ms_to_days | Wrote miniseed file to: c:\\Users\\jpeacock\\OneDrive - DOI\\MTData\\CL2021\\archive\\to_dmc\\1Z_CL408__CQE_2022_10_28T00_00_00.mseed\u001b[0m\n",
      "\u001b[1m2025-04-02T12:07:27.537033-0700 | INFO | mth5.io.conversion | split_ms_to_days | Wrote miniseed file to: c:\\Users\\jpeacock\\OneDrive - DOI\\MTData\\CL2021\\archive\\to_dmc\\1Z_CL408__CFN_2022_10_27T21_09_58.mseed\u001b[0m\n",
      "\u001b[1m2025-04-02T12:07:27.757168-0700 | INFO | mth5.io.conversion | split_ms_to_days | Wrote miniseed file to: c:\\Users\\jpeacock\\OneDrive - DOI\\MTData\\CL2021\\archive\\to_dmc\\1Z_CL408__CFN_2022_10_28T00_00_00.mseed\u001b[0m\n",
      "\u001b[1m2025-04-02T12:07:27.838700-0700 | INFO | mth5.io.conversion | split_ms_to_days | Wrote miniseed file to: c:\\Users\\jpeacock\\OneDrive - DOI\\MTData\\CL2021\\archive\\to_dmc\\1Z_CL408__CFE_2022_10_27T21_09_58.mseed\u001b[0m\n",
      "\u001b[1m2025-04-02T12:07:28.070772-0700 | INFO | mth5.io.conversion | split_ms_to_days | Wrote miniseed file to: c:\\Users\\jpeacock\\OneDrive - DOI\\MTData\\CL2021\\archive\\to_dmc\\1Z_CL408__CFE_2022_10_28T00_00_00.mseed\u001b[0m\n",
      "\u001b[1m2025-04-02T12:07:28.146303-0700 | INFO | mth5.io.conversion | split_ms_to_days | Wrote miniseed file to: c:\\Users\\jpeacock\\OneDrive - DOI\\MTData\\CL2021\\archive\\to_dmc\\1Z_CL408__CFZ_2022_10_27T21_09_58.mseed\u001b[0m\n",
      "\u001b[1m2025-04-02T12:07:28.363692-0700 | INFO | mth5.io.conversion | split_ms_to_days | Wrote miniseed file to: c:\\Users\\jpeacock\\OneDrive - DOI\\MTData\\CL2021\\archive\\to_dmc\\1Z_CL408__CFZ_2022_10_28T00_00_00.mseed\u001b[0m\n",
      "\u001b[1m2025-04-02T12:07:31.511570-0700 | INFO | mth5.timeseries.run_ts | _align_channels | Channels do not have a common end, using latest: 2022-10-28T01:09:41.999268000\u001b[0m\n"
     ]
    },
    {
     "name": "stderr",
     "output_type": "stream",
     "text": [
      "C:\\Users\\jpeacock\\OneDrive - DOI\\Documents\\GitHub\\mth5\\mth5\\timeseries\\channel_ts.py:1524: RuntimeWarning: invalid value encountered in cast\n",
      "  obspy_trace = Trace(self.ts.astype(encoding_dict[encoding]))\n"
     ]
    },
    {
     "name": "stdout",
     "output_type": "stream",
     "text": [
      "\u001b[1m2025-04-02T12:07:34.276789-0700 | INFO | mth5.io.conversion | split_ms_to_days | Wrote miniseed file to: c:\\Users\\jpeacock\\OneDrive - DOI\\MTData\\CL2021\\archive\\to_dmc\\1Z_CL408__FQN_2022_10_28T00_59_58.mseed\u001b[0m\n",
      "\u001b[1m2025-04-02T12:07:34.472924-0700 | INFO | mth5.io.conversion | split_ms_to_days | Wrote miniseed file to: c:\\Users\\jpeacock\\OneDrive - DOI\\MTData\\CL2021\\archive\\to_dmc\\1Z_CL408__FQE_2022_10_28T00_59_58.mseed\u001b[0m\n",
      "\u001b[1m2025-04-02T12:07:34.657166-0700 | INFO | mth5.io.conversion | split_ms_to_days | Wrote miniseed file to: c:\\Users\\jpeacock\\OneDrive - DOI\\MTData\\CL2021\\archive\\to_dmc\\1Z_CL408__FFN_2022_10_28T00_59_58.mseed\u001b[0m\n",
      "\u001b[1m2025-04-02T12:07:34.855583-0700 | INFO | mth5.io.conversion | split_ms_to_days | Wrote miniseed file to: c:\\Users\\jpeacock\\OneDrive - DOI\\MTData\\CL2021\\archive\\to_dmc\\1Z_CL408__FFE_2022_10_28T00_59_58.mseed\u001b[0m\n",
      "\u001b[1m2025-04-02T12:07:35.051957-0700 | INFO | mth5.io.conversion | split_ms_to_days | Wrote miniseed file to: c:\\Users\\jpeacock\\OneDrive - DOI\\MTData\\CL2021\\archive\\to_dmc\\1Z_CL408__FFZ_2022_10_28T00_59_58.mseed\u001b[0m\n",
      "\u001b[1m2025-04-02T12:07:41.928647-0700 | INFO | mth5.timeseries.run_ts | _align_channels | Channels do not have a common end, using latest: 2022-10-28T06:59:42.000000000\u001b[0m\n"
     ]
    },
    {
     "name": "stderr",
     "output_type": "stream",
     "text": [
      "C:\\Users\\jpeacock\\OneDrive - DOI\\Documents\\GitHub\\mth5\\mth5\\timeseries\\channel_ts.py:1524: RuntimeWarning: invalid value encountered in cast\n",
      "  obspy_trace = Trace(self.ts.astype(encoding_dict[encoding]))\n"
     ]
    },
    {
     "name": "stdout",
     "output_type": "stream",
     "text": [
      "\u001b[1m2025-04-02T12:07:48.224873-0700 | INFO | mth5.io.conversion | split_ms_to_days | Wrote miniseed file to: c:\\Users\\jpeacock\\OneDrive - DOI\\MTData\\CL2021\\archive\\to_dmc\\1Z_CL408__CQN_2022_10_28T01_09_58.mseed\u001b[0m\n",
      "\u001b[1m2025-04-02T12:07:48.644202-0700 | INFO | mth5.io.conversion | split_ms_to_days | Wrote miniseed file to: c:\\Users\\jpeacock\\OneDrive - DOI\\MTData\\CL2021\\archive\\to_dmc\\1Z_CL408__CQE_2022_10_28T01_09_58.mseed\u001b[0m\n",
      "\u001b[1m2025-04-02T12:07:49.086045-0700 | INFO | mth5.io.conversion | split_ms_to_days | Wrote miniseed file to: c:\\Users\\jpeacock\\OneDrive - DOI\\MTData\\CL2021\\archive\\to_dmc\\1Z_CL408__CFN_2022_10_28T01_09_58.mseed\u001b[0m\n",
      "\u001b[1m2025-04-02T12:07:49.517213-0700 | INFO | mth5.io.conversion | split_ms_to_days | Wrote miniseed file to: c:\\Users\\jpeacock\\OneDrive - DOI\\MTData\\CL2021\\archive\\to_dmc\\1Z_CL408__CFE_2022_10_28T01_09_58.mseed\u001b[0m\n",
      "\u001b[1m2025-04-02T12:07:49.971397-0700 | INFO | mth5.io.conversion | split_ms_to_days | Wrote miniseed file to: c:\\Users\\jpeacock\\OneDrive - DOI\\MTData\\CL2021\\archive\\to_dmc\\1Z_CL408__CFZ_2022_10_28T01_09_58.mseed\u001b[0m\n",
      "\u001b[1m2025-04-02T12:07:53.652082-0700 | INFO | mth5.timeseries.run_ts | _align_channels | Channels do not have a common end, using latest: 2022-10-28T07:09:41.999512000\u001b[0m\n"
     ]
    },
    {
     "name": "stderr",
     "output_type": "stream",
     "text": [
      "C:\\Users\\jpeacock\\OneDrive - DOI\\Documents\\GitHub\\mth5\\mth5\\timeseries\\channel_ts.py:1524: RuntimeWarning: invalid value encountered in cast\n",
      "  obspy_trace = Trace(self.ts.astype(encoding_dict[encoding]))\n"
     ]
    },
    {
     "name": "stdout",
     "output_type": "stream",
     "text": [
      "\u001b[1m2025-04-02T12:07:56.389294-0700 | INFO | mth5.io.conversion | split_ms_to_days | Wrote miniseed file to: c:\\Users\\jpeacock\\OneDrive - DOI\\MTData\\CL2021\\archive\\to_dmc\\1Z_CL408__FQN_2022_10_28T06_59_58.mseed\u001b[0m\n",
      "\u001b[1m2025-04-02T12:07:56.593433-0700 | INFO | mth5.io.conversion | split_ms_to_days | Wrote miniseed file to: c:\\Users\\jpeacock\\OneDrive - DOI\\MTData\\CL2021\\archive\\to_dmc\\1Z_CL408__FQE_2022_10_28T06_59_58.mseed\u001b[0m\n",
      "\u001b[1m2025-04-02T12:07:56.815107-0700 | INFO | mth5.io.conversion | split_ms_to_days | Wrote miniseed file to: c:\\Users\\jpeacock\\OneDrive - DOI\\MTData\\CL2021\\archive\\to_dmc\\1Z_CL408__FFN_2022_10_28T06_59_58.mseed\u001b[0m\n",
      "\u001b[1m2025-04-02T12:07:57.010665-0700 | INFO | mth5.io.conversion | split_ms_to_days | Wrote miniseed file to: c:\\Users\\jpeacock\\OneDrive - DOI\\MTData\\CL2021\\archive\\to_dmc\\1Z_CL408__FFE_2022_10_28T06_59_58.mseed\u001b[0m\n",
      "\u001b[1m2025-04-02T12:07:57.202799-0700 | INFO | mth5.io.conversion | split_ms_to_days | Wrote miniseed file to: c:\\Users\\jpeacock\\OneDrive - DOI\\MTData\\CL2021\\archive\\to_dmc\\1Z_CL408__FFZ_2022_10_28T06_59_58.mseed\u001b[0m\n",
      "\u001b[1m2025-04-02T12:08:04.919588-0700 | INFO | mth5.io.conversion | split_ms_to_days | Wrote miniseed file to: c:\\Users\\jpeacock\\OneDrive - DOI\\MTData\\CL2021\\archive\\to_dmc\\1Z_CL408__CQN_2022_10_28T07_09_58.mseed\u001b[0m\n",
      "\u001b[1m2025-04-02T12:08:05.335510-0700 | INFO | mth5.io.conversion | split_ms_to_days | Wrote miniseed file to: c:\\Users\\jpeacock\\OneDrive - DOI\\MTData\\CL2021\\archive\\to_dmc\\1Z_CL408__CQE_2022_10_28T07_09_58.mseed\u001b[0m\n",
      "\u001b[1m2025-04-02T12:08:05.796152-0700 | INFO | mth5.io.conversion | split_ms_to_days | Wrote miniseed file to: c:\\Users\\jpeacock\\OneDrive - DOI\\MTData\\CL2021\\archive\\to_dmc\\1Z_CL408__CFN_2022_10_28T07_09_58.mseed\u001b[0m\n",
      "\u001b[1m2025-04-02T12:08:06.229235-0700 | INFO | mth5.io.conversion | split_ms_to_days | Wrote miniseed file to: c:\\Users\\jpeacock\\OneDrive - DOI\\MTData\\CL2021\\archive\\to_dmc\\1Z_CL408__CFE_2022_10_28T07_09_58.mseed\u001b[0m\n",
      "\u001b[1m2025-04-02T12:08:06.680576-0700 | INFO | mth5.io.conversion | split_ms_to_days | Wrote miniseed file to: c:\\Users\\jpeacock\\OneDrive - DOI\\MTData\\CL2021\\archive\\to_dmc\\1Z_CL408__CFZ_2022_10_28T07_09_58.mseed\u001b[0m\n",
      "\u001b[1m2025-04-02T12:08:10.271705-0700 | INFO | mth5.timeseries.run_ts | _align_channels | Channels do not have a common end, using latest: 2022-10-28T13:09:41.999268000\u001b[0m\n"
     ]
    },
    {
     "name": "stderr",
     "output_type": "stream",
     "text": [
      "C:\\Users\\jpeacock\\OneDrive - DOI\\Documents\\GitHub\\mth5\\mth5\\timeseries\\channel_ts.py:1524: RuntimeWarning: invalid value encountered in cast\n",
      "  obspy_trace = Trace(self.ts.astype(encoding_dict[encoding]))\n"
     ]
    },
    {
     "name": "stdout",
     "output_type": "stream",
     "text": [
      "\u001b[1m2025-04-02T12:08:13.069208-0700 | INFO | mth5.io.conversion | split_ms_to_days | Wrote miniseed file to: c:\\Users\\jpeacock\\OneDrive - DOI\\MTData\\CL2021\\archive\\to_dmc\\1Z_CL408__FQN_2022_10_28T12_59_58.mseed\u001b[0m\n",
      "\u001b[1m2025-04-02T12:08:13.261819-0700 | INFO | mth5.io.conversion | split_ms_to_days | Wrote miniseed file to: c:\\Users\\jpeacock\\OneDrive - DOI\\MTData\\CL2021\\archive\\to_dmc\\1Z_CL408__FQE_2022_10_28T12_59_58.mseed\u001b[0m\n",
      "\u001b[1m2025-04-02T12:08:13.462847-0700 | INFO | mth5.io.conversion | split_ms_to_days | Wrote miniseed file to: c:\\Users\\jpeacock\\OneDrive - DOI\\MTData\\CL2021\\archive\\to_dmc\\1Z_CL408__FFN_2022_10_28T12_59_58.mseed\u001b[0m\n",
      "\u001b[1m2025-04-02T12:08:13.663894-0700 | INFO | mth5.io.conversion | split_ms_to_days | Wrote miniseed file to: c:\\Users\\jpeacock\\OneDrive - DOI\\MTData\\CL2021\\archive\\to_dmc\\1Z_CL408__FFE_2022_10_28T12_59_58.mseed\u001b[0m\n",
      "\u001b[1m2025-04-02T12:08:13.862613-0700 | INFO | mth5.io.conversion | split_ms_to_days | Wrote miniseed file to: c:\\Users\\jpeacock\\OneDrive - DOI\\MTData\\CL2021\\archive\\to_dmc\\1Z_CL408__FFZ_2022_10_28T12_59_58.mseed\u001b[0m\n",
      "\u001b[1m2025-04-02T12:08:18.869070-0700 | INFO | mth5.timeseries.run_ts | _align_channels | Channels do not have a common end, using latest: 2022-10-28T16:14:42.003906250\u001b[0m\n",
      "\u001b[1m2025-04-02T12:08:20.624493-0700 | INFO | mth5.io.conversion | split_ms_to_days | Wrote miniseed file to: c:\\Users\\jpeacock\\OneDrive - DOI\\MTData\\CL2021\\archive\\to_dmc\\1Z_CL408__CQN_2022_10_28T13_09_58.mseed\u001b[0m\n",
      "\u001b[1m2025-04-02T12:08:20.847530-0700 | INFO | mth5.io.conversion | split_ms_to_days | Wrote miniseed file to: c:\\Users\\jpeacock\\OneDrive - DOI\\MTData\\CL2021\\archive\\to_dmc\\1Z_CL408__CQE_2022_10_28T13_09_58.mseed\u001b[0m\n",
      "\u001b[1m2025-04-02T12:08:21.074549-0700 | INFO | mth5.io.conversion | split_ms_to_days | Wrote miniseed file to: c:\\Users\\jpeacock\\OneDrive - DOI\\MTData\\CL2021\\archive\\to_dmc\\1Z_CL408__CFN_2022_10_28T13_09_58.mseed\u001b[0m\n",
      "\u001b[1m2025-04-02T12:08:21.310007-0700 | INFO | mth5.io.conversion | split_ms_to_days | Wrote miniseed file to: c:\\Users\\jpeacock\\OneDrive - DOI\\MTData\\CL2021\\archive\\to_dmc\\1Z_CL408__CFE_2022_10_28T13_09_58.mseed\u001b[0m\n",
      "\u001b[1m2025-04-02T12:08:21.539256-0700 | INFO | mth5.io.conversion | split_ms_to_days | Wrote miniseed file to: c:\\Users\\jpeacock\\OneDrive - DOI\\MTData\\CL2021\\archive\\to_dmc\\1Z_CL408__CFZ_2022_10_28T13_09_58.mseed\u001b[0m\n",
      "\u001b[1m2025-04-02T12:08:22.689164-0700 | INFO | mth5.mth5 | close_mth5 | Flushing and closing c:\\Users\\jpeacock\\OneDrive - DOI\\MTData\\CL2021\\archive\\cl408.h5\u001b[0m\n",
      "\u001b[33m\u001b[1m2025-04-02T12:08:22.693168-0700 | WARNING | mt_metadata.timeseries.stationxml.xml_station_mt_station | mt_to_xml | Station.geographic_name is None, using Station.id = cl408.Check StationXML site.name.\u001b[0m\n",
      "\u001b[1m2025-04-02T12:08:22.773531-0700 | INFO | mt_metadata.timeseries.filters.channel_response | to_obspy | total sensitivity 104957842879.94406 != total gain 1048576000.000055. Using total_gain.\u001b[0m\n",
      "\u001b[1m2025-04-02T12:08:22.806225-0700 | INFO | mt_metadata.timeseries.filters.channel_response | to_obspy | total sensitivity 99528330172.17546 != total gain 1048576000.000055. Using total_gain.\u001b[0m\n",
      "\u001b[1m2025-04-02T12:08:22.835623-0700 | INFO | mt_metadata.timeseries.filters.channel_response | to_obspy | total sensitivity 104398743147.64836 != total gain 1048576000.000055. Using total_gain.\u001b[0m\n",
      "\u001b[1m2025-04-02T12:08:22.929685-0700 | INFO | mt_metadata.timeseries.filters.channel_response | to_obspy | total sensitivity 104957842879.94406 != total gain 1048576000.000055. Using total_gain.\u001b[0m\n",
      "\u001b[1m2025-04-02T12:08:22.958378-0700 | INFO | mt_metadata.timeseries.filters.channel_response | to_obspy | total sensitivity 99528330172.17546 != total gain 1048576000.000055. Using total_gain.\u001b[0m\n",
      "\u001b[1m2025-04-02T12:08:22.993957-0700 | INFO | mt_metadata.timeseries.filters.channel_response | to_obspy | total sensitivity 104398743147.64836 != total gain 1048576000.000055. Using total_gain.\u001b[0m\n",
      "\u001b[1m2025-04-02T12:08:23.081879-0700 | INFO | mt_metadata.timeseries.filters.channel_response | to_obspy | total sensitivity 104957842879.94406 != total gain 1048576000.000055. Using total_gain.\u001b[0m\n",
      "\u001b[1m2025-04-02T12:08:23.111954-0700 | INFO | mt_metadata.timeseries.filters.channel_response | to_obspy | total sensitivity 99528330172.17546 != total gain 1048576000.000055. Using total_gain.\u001b[0m\n",
      "\u001b[1m2025-04-02T12:08:23.150171-0700 | INFO | mt_metadata.timeseries.filters.channel_response | to_obspy | total sensitivity 104398743147.64836 != total gain 1048576000.000055. Using total_gain.\u001b[0m\n",
      "\u001b[1m2025-04-02T12:08:23.254186-0700 | INFO | mt_metadata.timeseries.filters.channel_response | to_obspy | total sensitivity 104957842879.94406 != total gain 1048576000.000055. Using total_gain.\u001b[0m\n",
      "\u001b[1m2025-04-02T12:08:23.281782-0700 | INFO | mt_metadata.timeseries.filters.channel_response | to_obspy | total sensitivity 99528330172.17546 != total gain 1048576000.000055. Using total_gain.\u001b[0m\n",
      "\u001b[1m2025-04-02T12:08:23.312578-0700 | INFO | mt_metadata.timeseries.filters.channel_response | to_obspy | total sensitivity 104398743147.64836 != total gain 1048576000.000055. Using total_gain.\u001b[0m\n",
      "\u001b[1m2025-04-02T12:08:23.412488-0700 | INFO | mt_metadata.timeseries.filters.channel_response | to_obspy | total sensitivity 104957842879.94406 != total gain 1048576000.000055. Using total_gain.\u001b[0m\n",
      "\u001b[1m2025-04-02T12:08:23.441178-0700 | INFO | mt_metadata.timeseries.filters.channel_response | to_obspy | total sensitivity 99528330172.17546 != total gain 1048576000.000055. Using total_gain.\u001b[0m\n",
      "\u001b[1m2025-04-02T12:08:23.472944-0700 | INFO | mt_metadata.timeseries.filters.channel_response | to_obspy | total sensitivity 104398743147.64836 != total gain 1048576000.000055. Using total_gain.\u001b[0m\n",
      "\u001b[1m2025-04-02T12:08:23.565584-0700 | INFO | mt_metadata.timeseries.filters.channel_response | to_obspy | total sensitivity 104957842879.94406 != total gain 1048576000.000055. Using total_gain.\u001b[0m\n",
      "\u001b[1m2025-04-02T12:08:23.593471-0700 | INFO | mt_metadata.timeseries.filters.channel_response | to_obspy | total sensitivity 99528330172.17546 != total gain 1048576000.000055. Using total_gain.\u001b[0m\n",
      "\u001b[1m2025-04-02T12:08:23.623144-0700 | INFO | mt_metadata.timeseries.filters.channel_response | to_obspy | total sensitivity 104398743147.64836 != total gain 1048576000.000055. Using total_gain.\u001b[0m\n",
      "\u001b[1m2025-04-02T12:08:23.728355-0700 | INFO | mt_metadata.timeseries.filters.channel_response | to_obspy | total sensitivity 104957842879.94406 != total gain 1048576000.000055. Using total_gain.\u001b[0m\n",
      "\u001b[1m2025-04-02T12:08:23.761528-0700 | INFO | mt_metadata.timeseries.filters.channel_response | to_obspy | total sensitivity 99528330172.17546 != total gain 1048576000.000055. Using total_gain.\u001b[0m\n",
      "\u001b[1m2025-04-02T12:08:23.790356-0700 | INFO | mt_metadata.timeseries.filters.channel_response | to_obspy | total sensitivity 104398743147.64836 != total gain 1048576000.000055. Using total_gain.\u001b[0m\n",
      "\u001b[1m2025-04-02T12:08:23.896427-0700 | INFO | mt_metadata.timeseries.filters.channel_response | to_obspy | total sensitivity 104957842879.94406 != total gain 1048576000.000055. Using total_gain.\u001b[0m\n",
      "\u001b[1m2025-04-02T12:08:23.938432-0700 | INFO | mt_metadata.timeseries.filters.channel_response | to_obspy | total sensitivity 99528330172.17546 != total gain 1048576000.000055. Using total_gain.\u001b[0m\n",
      "\u001b[1m2025-04-02T12:08:23.968460-0700 | INFO | mt_metadata.timeseries.filters.channel_response | to_obspy | total sensitivity 104398743147.64836 != total gain 1048576000.000055. Using total_gain.\u001b[0m\n",
      "\u001b[1m2025-04-02T12:08:24.003862-0700 | INFO | mth5.io.conversion | convert_mth5_to_ms_stationxml | Wrote StationXML to c:\\Users\\jpeacock\\OneDrive - DOI\\MTData\\CL2021\\archive\\to_dmc\\cl408.xml\u001b[0m\n",
      "\u001b[33m\u001b[1m2025-04-02T12:08:25.723298-0700 | WARNING | mt_metadata.timeseries.station | remove_run | Could not find cl409a to remove.\u001b[0m\n",
      "\u001b[1m2025-04-02T12:08:29.217543-0700 | INFO | mth5.io.conversion | split_ms_to_days | Wrote miniseed file to: c:\\Users\\jpeacock\\OneDrive - DOI\\MTData\\CL2021\\archive\\to_dmc\\1Z_CL409__LQN_2022_10_27T22_29_58.mseed\u001b[0m\n",
      "\u001b[1m2025-04-02T12:08:29.220540-0700 | INFO | mth5.io.conversion | split_ms_to_days | Wrote miniseed file to: c:\\Users\\jpeacock\\OneDrive - DOI\\MTData\\CL2021\\archive\\to_dmc\\1Z_CL409__LQN_2022_10_28T00_00_00.mseed\u001b[0m\n",
      "\u001b[1m2025-04-02T12:08:29.228543-0700 | INFO | mth5.io.conversion | split_ms_to_days | Wrote miniseed file to: c:\\Users\\jpeacock\\OneDrive - DOI\\MTData\\CL2021\\archive\\to_dmc\\1Z_CL409__LQE_2022_10_27T22_29_58.mseed\u001b[0m\n",
      "\u001b[1m2025-04-02T12:08:29.231540-0700 | INFO | mth5.io.conversion | split_ms_to_days | Wrote miniseed file to: c:\\Users\\jpeacock\\OneDrive - DOI\\MTData\\CL2021\\archive\\to_dmc\\1Z_CL409__LQE_2022_10_28T00_00_00.mseed\u001b[0m\n",
      "\u001b[1m2025-04-02T12:08:29.238573-0700 | INFO | mth5.io.conversion | split_ms_to_days | Wrote miniseed file to: c:\\Users\\jpeacock\\OneDrive - DOI\\MTData\\CL2021\\archive\\to_dmc\\1Z_CL409__LFN_2022_10_27T22_29_58.mseed\u001b[0m\n",
      "\u001b[1m2025-04-02T12:08:29.241542-0700 | INFO | mth5.io.conversion | split_ms_to_days | Wrote miniseed file to: c:\\Users\\jpeacock\\OneDrive - DOI\\MTData\\CL2021\\archive\\to_dmc\\1Z_CL409__LFN_2022_10_28T00_00_00.mseed\u001b[0m\n",
      "\u001b[1m2025-04-02T12:08:29.252542-0700 | INFO | mth5.io.conversion | split_ms_to_days | Wrote miniseed file to: c:\\Users\\jpeacock\\OneDrive - DOI\\MTData\\CL2021\\archive\\to_dmc\\1Z_CL409__LFE_2022_10_27T22_29_58.mseed\u001b[0m\n",
      "\u001b[1m2025-04-02T12:08:29.254541-0700 | INFO | mth5.io.conversion | split_ms_to_days | Wrote miniseed file to: c:\\Users\\jpeacock\\OneDrive - DOI\\MTData\\CL2021\\archive\\to_dmc\\1Z_CL409__LFE_2022_10_28T00_00_00.mseed\u001b[0m\n",
      "\u001b[1m2025-04-02T12:08:29.262545-0700 | INFO | mth5.io.conversion | split_ms_to_days | Wrote miniseed file to: c:\\Users\\jpeacock\\OneDrive - DOI\\MTData\\CL2021\\archive\\to_dmc\\1Z_CL409__LFZ_2022_10_27T22_29_58.mseed\u001b[0m\n",
      "\u001b[1m2025-04-02T12:08:29.265549-0700 | INFO | mth5.io.conversion | split_ms_to_days | Wrote miniseed file to: c:\\Users\\jpeacock\\OneDrive - DOI\\MTData\\CL2021\\archive\\to_dmc\\1Z_CL409__LFZ_2022_10_28T00_00_00.mseed\u001b[0m\n",
      "\u001b[1m2025-04-02T12:08:34.402094-0700 | INFO | mth5.io.conversion | split_ms_to_days | Wrote miniseed file to: c:\\Users\\jpeacock\\OneDrive - DOI\\MTData\\CL2021\\archive\\to_dmc\\1Z_CL409__CQN_2022_10_27T22_29_58.mseed\u001b[0m\n",
      "\u001b[1m2025-04-02T12:08:34.516617-0700 | INFO | mth5.io.conversion | split_ms_to_days | Wrote miniseed file to: c:\\Users\\jpeacock\\OneDrive - DOI\\MTData\\CL2021\\archive\\to_dmc\\1Z_CL409__CQN_2022_10_28T00_00_00.mseed\u001b[0m\n",
      "\u001b[1m2025-04-02T12:08:34.595222-0700 | INFO | mth5.io.conversion | split_ms_to_days | Wrote miniseed file to: c:\\Users\\jpeacock\\OneDrive - DOI\\MTData\\CL2021\\archive\\to_dmc\\1Z_CL409__CQE_2022_10_27T22_29_58.mseed\u001b[0m\n",
      "\u001b[1m2025-04-02T12:08:34.705803-0700 | INFO | mth5.io.conversion | split_ms_to_days | Wrote miniseed file to: c:\\Users\\jpeacock\\OneDrive - DOI\\MTData\\CL2021\\archive\\to_dmc\\1Z_CL409__CQE_2022_10_28T00_00_00.mseed\u001b[0m\n",
      "\u001b[1m2025-04-02T12:08:34.781545-0700 | INFO | mth5.io.conversion | split_ms_to_days | Wrote miniseed file to: c:\\Users\\jpeacock\\OneDrive - DOI\\MTData\\CL2021\\archive\\to_dmc\\1Z_CL409__CFN_2022_10_27T22_29_58.mseed\u001b[0m\n",
      "\u001b[1m2025-04-02T12:08:34.899606-0700 | INFO | mth5.io.conversion | split_ms_to_days | Wrote miniseed file to: c:\\Users\\jpeacock\\OneDrive - DOI\\MTData\\CL2021\\archive\\to_dmc\\1Z_CL409__CFN_2022_10_28T00_00_00.mseed\u001b[0m\n",
      "\u001b[1m2025-04-02T12:08:34.982646-0700 | INFO | mth5.io.conversion | split_ms_to_days | Wrote miniseed file to: c:\\Users\\jpeacock\\OneDrive - DOI\\MTData\\CL2021\\archive\\to_dmc\\1Z_CL409__CFE_2022_10_27T22_29_58.mseed\u001b[0m\n",
      "\u001b[1m2025-04-02T12:08:35.101934-0700 | INFO | mth5.io.conversion | split_ms_to_days | Wrote miniseed file to: c:\\Users\\jpeacock\\OneDrive - DOI\\MTData\\CL2021\\archive\\to_dmc\\1Z_CL409__CFE_2022_10_28T00_00_00.mseed\u001b[0m\n",
      "\u001b[1m2025-04-02T12:08:35.175936-0700 | INFO | mth5.io.conversion | split_ms_to_days | Wrote miniseed file to: c:\\Users\\jpeacock\\OneDrive - DOI\\MTData\\CL2021\\archive\\to_dmc\\1Z_CL409__CFZ_2022_10_27T22_29_58.mseed\u001b[0m\n",
      "\u001b[1m2025-04-02T12:08:35.290923-0700 | INFO | mth5.io.conversion | split_ms_to_days | Wrote miniseed file to: c:\\Users\\jpeacock\\OneDrive - DOI\\MTData\\CL2021\\archive\\to_dmc\\1Z_CL409__CFZ_2022_10_28T00_00_00.mseed\u001b[0m\n",
      "\u001b[1m2025-04-02T12:08:38.609929-0700 | INFO | mth5.timeseries.run_ts | _align_channels | Channels do not have a common end, using latest: 2022-10-28T01:09:41.999268000\u001b[0m\n"
     ]
    },
    {
     "name": "stderr",
     "output_type": "stream",
     "text": [
      "C:\\Users\\jpeacock\\OneDrive - DOI\\Documents\\GitHub\\mth5\\mth5\\timeseries\\channel_ts.py:1524: RuntimeWarning: invalid value encountered in cast\n",
      "  obspy_trace = Trace(self.ts.astype(encoding_dict[encoding]))\n"
     ]
    },
    {
     "name": "stdout",
     "output_type": "stream",
     "text": [
      "\u001b[1m2025-04-02T12:08:41.357334-0700 | INFO | mth5.io.conversion | split_ms_to_days | Wrote miniseed file to: c:\\Users\\jpeacock\\OneDrive - DOI\\MTData\\CL2021\\archive\\to_dmc\\1Z_CL409__FQN_2022_10_28T00_59_58.mseed\u001b[0m\n",
      "\u001b[1m2025-04-02T12:08:41.546609-0700 | INFO | mth5.io.conversion | split_ms_to_days | Wrote miniseed file to: c:\\Users\\jpeacock\\OneDrive - DOI\\MTData\\CL2021\\archive\\to_dmc\\1Z_CL409__FQE_2022_10_28T00_59_58.mseed\u001b[0m\n",
      "\u001b[1m2025-04-02T12:08:41.741803-0700 | INFO | mth5.io.conversion | split_ms_to_days | Wrote miniseed file to: c:\\Users\\jpeacock\\OneDrive - DOI\\MTData\\CL2021\\archive\\to_dmc\\1Z_CL409__FFN_2022_10_28T00_59_58.mseed\u001b[0m\n",
      "\u001b[1m2025-04-02T12:08:41.945012-0700 | INFO | mth5.io.conversion | split_ms_to_days | Wrote miniseed file to: c:\\Users\\jpeacock\\OneDrive - DOI\\MTData\\CL2021\\archive\\to_dmc\\1Z_CL409__FFE_2022_10_28T00_59_58.mseed\u001b[0m\n",
      "\u001b[1m2025-04-02T12:08:42.150170-0700 | INFO | mth5.io.conversion | split_ms_to_days | Wrote miniseed file to: c:\\Users\\jpeacock\\OneDrive - DOI\\MTData\\CL2021\\archive\\to_dmc\\1Z_CL409__FFZ_2022_10_28T00_59_58.mseed\u001b[0m\n",
      "\u001b[1m2025-04-02T12:08:49.741460-0700 | INFO | mth5.io.conversion | split_ms_to_days | Wrote miniseed file to: c:\\Users\\jpeacock\\OneDrive - DOI\\MTData\\CL2021\\archive\\to_dmc\\1Z_CL409__CQN_2022_10_28T01_09_58.mseed\u001b[0m\n",
      "\u001b[1m2025-04-02T12:08:50.181829-0700 | INFO | mth5.io.conversion | split_ms_to_days | Wrote miniseed file to: c:\\Users\\jpeacock\\OneDrive - DOI\\MTData\\CL2021\\archive\\to_dmc\\1Z_CL409__CQE_2022_10_28T01_09_58.mseed\u001b[0m\n",
      "\u001b[1m2025-04-02T12:08:50.597302-0700 | INFO | mth5.io.conversion | split_ms_to_days | Wrote miniseed file to: c:\\Users\\jpeacock\\OneDrive - DOI\\MTData\\CL2021\\archive\\to_dmc\\1Z_CL409__CFN_2022_10_28T01_09_58.mseed\u001b[0m\n",
      "\u001b[1m2025-04-02T12:08:51.040105-0700 | INFO | mth5.io.conversion | split_ms_to_days | Wrote miniseed file to: c:\\Users\\jpeacock\\OneDrive - DOI\\MTData\\CL2021\\archive\\to_dmc\\1Z_CL409__CFE_2022_10_28T01_09_58.mseed\u001b[0m\n",
      "\u001b[1m2025-04-02T12:08:51.489408-0700 | INFO | mth5.io.conversion | split_ms_to_days | Wrote miniseed file to: c:\\Users\\jpeacock\\OneDrive - DOI\\MTData\\CL2021\\archive\\to_dmc\\1Z_CL409__CFZ_2022_10_28T01_09_58.mseed\u001b[0m\n",
      "\u001b[1m2025-04-02T12:08:55.203223-0700 | INFO | mth5.timeseries.run_ts | _align_channels | Channels do not have a common end, using latest: 2022-10-28T07:09:41.997070312\u001b[0m\n",
      "\u001b[33m\u001b[1m2025-04-02T12:08:57.824894-0700 | WARNING | mth5.timeseries.run_ts | validate_metadata | end time of dataset 2022-10-28T07:09:41.996826171+00:00 does not match metadata end 2022-10-28T07:09:41.997070312+00:00 updating metatdata value to 2022-10-28T07:09:41.996826171+00:00\u001b[0m\n"
     ]
    },
    {
     "name": "stderr",
     "output_type": "stream",
     "text": [
      "C:\\Users\\jpeacock\\OneDrive - DOI\\Documents\\GitHub\\mth5\\mth5\\timeseries\\channel_ts.py:1524: RuntimeWarning: invalid value encountered in cast\n",
      "  obspy_trace = Trace(self.ts.astype(encoding_dict[encoding]))\n"
     ]
    },
    {
     "name": "stdout",
     "output_type": "stream",
     "text": [
      "\u001b[1m2025-04-02T12:08:58.572370-0700 | INFO | mth5.io.conversion | split_ms_to_days | Wrote miniseed file to: c:\\Users\\jpeacock\\OneDrive - DOI\\MTData\\CL2021\\archive\\to_dmc\\1Z_CL409__FQN_2022_10_28T06_59_58.mseed\u001b[0m\n",
      "\u001b[1m2025-04-02T12:08:58.770390-0700 | INFO | mth5.io.conversion | split_ms_to_days | Wrote miniseed file to: c:\\Users\\jpeacock\\OneDrive - DOI\\MTData\\CL2021\\archive\\to_dmc\\1Z_CL409__FQE_2022_10_28T06_59_58.mseed\u001b[0m\n",
      "\u001b[1m2025-04-02T12:08:58.963646-0700 | INFO | mth5.io.conversion | split_ms_to_days | Wrote miniseed file to: c:\\Users\\jpeacock\\OneDrive - DOI\\MTData\\CL2021\\archive\\to_dmc\\1Z_CL409__FFN_2022_10_28T06_59_58.mseed\u001b[0m\n",
      "\u001b[1m2025-04-02T12:08:59.154741-0700 | INFO | mth5.io.conversion | split_ms_to_days | Wrote miniseed file to: c:\\Users\\jpeacock\\OneDrive - DOI\\MTData\\CL2021\\archive\\to_dmc\\1Z_CL409__FFE_2022_10_28T06_59_58.mseed\u001b[0m\n",
      "\u001b[1m2025-04-02T12:08:59.352891-0700 | INFO | mth5.io.conversion | split_ms_to_days | Wrote miniseed file to: c:\\Users\\jpeacock\\OneDrive - DOI\\MTData\\CL2021\\archive\\to_dmc\\1Z_CL409__FFZ_2022_10_28T06_59_58.mseed\u001b[0m\n",
      "\u001b[1m2025-04-02T12:09:06.479281-0700 | INFO | mth5.timeseries.run_ts | _align_channels | Channels do not have a common end, using latest: 2022-10-28T12:59:41.968750000\u001b[0m\n"
     ]
    },
    {
     "name": "stderr",
     "output_type": "stream",
     "text": [
      "C:\\Users\\jpeacock\\OneDrive - DOI\\Documents\\GitHub\\mth5\\mth5\\timeseries\\channel_ts.py:1524: RuntimeWarning: invalid value encountered in cast\n",
      "  obspy_trace = Trace(self.ts.astype(encoding_dict[encoding]))\n"
     ]
    },
    {
     "name": "stdout",
     "output_type": "stream",
     "text": [
      "\u001b[1m2025-04-02T12:09:09.494993-0700 | INFO | mth5.io.conversion | split_ms_to_days | Wrote miniseed file to: c:\\Users\\jpeacock\\OneDrive - DOI\\MTData\\CL2021\\archive\\to_dmc\\1Z_CL409__CQN_2022_10_28T07_09_58.mseed\u001b[0m\n",
      "\u001b[1m2025-04-02T12:09:09.949341-0700 | INFO | mth5.io.conversion | split_ms_to_days | Wrote miniseed file to: c:\\Users\\jpeacock\\OneDrive - DOI\\MTData\\CL2021\\archive\\to_dmc\\1Z_CL409__CQE_2022_10_28T07_09_58.mseed\u001b[0m\n",
      "\u001b[1m2025-04-02T12:09:10.386436-0700 | INFO | mth5.io.conversion | split_ms_to_days | Wrote miniseed file to: c:\\Users\\jpeacock\\OneDrive - DOI\\MTData\\CL2021\\archive\\to_dmc\\1Z_CL409__CFN_2022_10_28T07_09_58.mseed\u001b[0m\n",
      "\u001b[1m2025-04-02T12:09:10.827824-0700 | INFO | mth5.io.conversion | split_ms_to_days | Wrote miniseed file to: c:\\Users\\jpeacock\\OneDrive - DOI\\MTData\\CL2021\\archive\\to_dmc\\1Z_CL409__CFE_2022_10_28T07_09_58.mseed\u001b[0m\n",
      "\u001b[1m2025-04-02T12:09:11.276716-0700 | INFO | mth5.io.conversion | split_ms_to_days | Wrote miniseed file to: c:\\Users\\jpeacock\\OneDrive - DOI\\MTData\\CL2021\\archive\\to_dmc\\1Z_CL409__CFZ_2022_10_28T07_09_58.mseed\u001b[0m\n",
      "\u001b[1m2025-04-02T12:09:14.949793-0700 | INFO | mth5.timeseries.run_ts | _align_channels | Channels do not have a common end, using latest: 2022-10-28T13:09:41.998291015\u001b[0m\n",
      "\u001b[33m\u001b[1m2025-04-02T12:09:17.721865-0700 | WARNING | mth5.timeseries.run_ts | validate_metadata | end time of dataset 2022-10-28T13:09:41.998047+00:00 does not match metadata end 2022-10-28T13:09:41.998291015+00:00 updating metatdata value to 2022-10-28T13:09:41.998047+00:00\u001b[0m\n"
     ]
    },
    {
     "name": "stderr",
     "output_type": "stream",
     "text": [
      "C:\\Users\\jpeacock\\OneDrive - DOI\\Documents\\GitHub\\mth5\\mth5\\timeseries\\channel_ts.py:1524: RuntimeWarning: invalid value encountered in cast\n",
      "  obspy_trace = Trace(self.ts.astype(encoding_dict[encoding]))\n"
     ]
    },
    {
     "name": "stdout",
     "output_type": "stream",
     "text": [
      "\u001b[1m2025-04-02T12:09:18.520957-0700 | INFO | mth5.io.conversion | split_ms_to_days | Wrote miniseed file to: c:\\Users\\jpeacock\\OneDrive - DOI\\MTData\\CL2021\\archive\\to_dmc\\1Z_CL409__FQN_2022_10_28T12_59_58.mseed\u001b[0m\n",
      "\u001b[1m2025-04-02T12:09:18.715740-0700 | INFO | mth5.io.conversion | split_ms_to_days | Wrote miniseed file to: c:\\Users\\jpeacock\\OneDrive - DOI\\MTData\\CL2021\\archive\\to_dmc\\1Z_CL409__FQE_2022_10_28T12_59_58.mseed\u001b[0m\n",
      "\u001b[1m2025-04-02T12:09:18.910346-0700 | INFO | mth5.io.conversion | split_ms_to_days | Wrote miniseed file to: c:\\Users\\jpeacock\\OneDrive - DOI\\MTData\\CL2021\\archive\\to_dmc\\1Z_CL409__FFN_2022_10_28T12_59_58.mseed\u001b[0m\n",
      "\u001b[1m2025-04-02T12:09:19.100521-0700 | INFO | mth5.io.conversion | split_ms_to_days | Wrote miniseed file to: c:\\Users\\jpeacock\\OneDrive - DOI\\MTData\\CL2021\\archive\\to_dmc\\1Z_CL409__FFE_2022_10_28T12_59_58.mseed\u001b[0m\n",
      "\u001b[1m2025-04-02T12:09:19.289724-0700 | INFO | mth5.io.conversion | split_ms_to_days | Wrote miniseed file to: c:\\Users\\jpeacock\\OneDrive - DOI\\MTData\\CL2021\\archive\\to_dmc\\1Z_CL409__FFZ_2022_10_28T12_59_58.mseed\u001b[0m\n",
      "\u001b[1m2025-04-02T12:09:25.758281-0700 | INFO | mth5.io.conversion | split_ms_to_days | Wrote miniseed file to: c:\\Users\\jpeacock\\OneDrive - DOI\\MTData\\CL2021\\archive\\to_dmc\\1Z_CL409__CQN_2022_10_28T13_09_58.mseed\u001b[0m\n",
      "\u001b[1m2025-04-02T12:09:26.021526-0700 | INFO | mth5.io.conversion | split_ms_to_days | Wrote miniseed file to: c:\\Users\\jpeacock\\OneDrive - DOI\\MTData\\CL2021\\archive\\to_dmc\\1Z_CL409__CQE_2022_10_28T13_09_58.mseed\u001b[0m\n",
      "\u001b[1m2025-04-02T12:09:26.280460-0700 | INFO | mth5.io.conversion | split_ms_to_days | Wrote miniseed file to: c:\\Users\\jpeacock\\OneDrive - DOI\\MTData\\CL2021\\archive\\to_dmc\\1Z_CL409__CFN_2022_10_28T13_09_58.mseed\u001b[0m\n",
      "\u001b[1m2025-04-02T12:09:26.544628-0700 | INFO | mth5.io.conversion | split_ms_to_days | Wrote miniseed file to: c:\\Users\\jpeacock\\OneDrive - DOI\\MTData\\CL2021\\archive\\to_dmc\\1Z_CL409__CFE_2022_10_28T13_09_58.mseed\u001b[0m\n",
      "\u001b[1m2025-04-02T12:09:26.828324-0700 | INFO | mth5.io.conversion | split_ms_to_days | Wrote miniseed file to: c:\\Users\\jpeacock\\OneDrive - DOI\\MTData\\CL2021\\archive\\to_dmc\\1Z_CL409__CFZ_2022_10_28T13_09_58.mseed\u001b[0m\n",
      "\u001b[1m2025-04-02T12:09:27.929707-0700 | INFO | mth5.mth5 | close_mth5 | Flushing and closing c:\\Users\\jpeacock\\OneDrive - DOI\\MTData\\CL2021\\archive\\cl409.h5\u001b[0m\n",
      "\u001b[33m\u001b[1m2025-04-02T12:09:27.932708-0700 | WARNING | mt_metadata.timeseries.stationxml.xml_station_mt_station | mt_to_xml | Station.geographic_name is None, using Station.id = cl409.Check StationXML site.name.\u001b[0m\n",
      "\u001b[1m2025-04-02T12:09:28.013072-0700 | INFO | mt_metadata.timeseries.filters.channel_response | to_obspy | total sensitivity 104382542748.06306 != total gain 1048576000.000055. Using total_gain.\u001b[0m\n",
      "\u001b[1m2025-04-02T12:09:28.044079-0700 | INFO | mt_metadata.timeseries.filters.channel_response | to_obspy | total sensitivity 105026369151.30917 != total gain 1048576000.000055. Using total_gain.\u001b[0m\n",
      "\u001b[1m2025-04-02T12:09:28.078184-0700 | INFO | mt_metadata.timeseries.filters.channel_response | to_obspy | total sensitivity 105276966379.19785 != total gain 1048576000.000055. Using total_gain.\u001b[0m\n",
      "\u001b[1m2025-04-02T12:09:28.174839-0700 | INFO | mt_metadata.timeseries.filters.channel_response | to_obspy | total sensitivity 104382542748.06306 != total gain 1048576000.000055. Using total_gain.\u001b[0m\n",
      "\u001b[1m2025-04-02T12:09:28.205835-0700 | INFO | mt_metadata.timeseries.filters.channel_response | to_obspy | total sensitivity 105026369151.30917 != total gain 1048576000.000055. Using total_gain.\u001b[0m\n",
      "\u001b[1m2025-04-02T12:09:28.234802-0700 | INFO | mt_metadata.timeseries.filters.channel_response | to_obspy | total sensitivity 105276966379.19785 != total gain 1048576000.000055. Using total_gain.\u001b[0m\n",
      "\u001b[1m2025-04-02T12:09:28.331412-0700 | INFO | mt_metadata.timeseries.filters.channel_response | to_obspy | total sensitivity 104382542748.06306 != total gain 1048576000.000055. Using total_gain.\u001b[0m\n",
      "\u001b[1m2025-04-02T12:09:28.361999-0700 | INFO | mt_metadata.timeseries.filters.channel_response | to_obspy | total sensitivity 105026369151.30917 != total gain 1048576000.000055. Using total_gain.\u001b[0m\n",
      "\u001b[1m2025-04-02T12:09:28.390998-0700 | INFO | mt_metadata.timeseries.filters.channel_response | to_obspy | total sensitivity 105276966379.19785 != total gain 1048576000.000055. Using total_gain.\u001b[0m\n",
      "\u001b[1m2025-04-02T12:09:28.490557-0700 | INFO | mt_metadata.timeseries.filters.channel_response | to_obspy | total sensitivity 104382542748.06306 != total gain 1048576000.000055. Using total_gain.\u001b[0m\n",
      "\u001b[1m2025-04-02T12:09:28.532562-0700 | INFO | mt_metadata.timeseries.filters.channel_response | to_obspy | total sensitivity 105026369151.30917 != total gain 1048576000.000055. Using total_gain.\u001b[0m\n",
      "\u001b[1m2025-04-02T12:09:28.614816-0700 | INFO | mt_metadata.timeseries.filters.channel_response | to_obspy | total sensitivity 105276966379.19785 != total gain 1048576000.000055. Using total_gain.\u001b[0m\n",
      "\u001b[1m2025-04-02T12:09:28.756891-0700 | INFO | mt_metadata.timeseries.filters.channel_response | to_obspy | total sensitivity 104382542748.06306 != total gain 1048576000.000055. Using total_gain.\u001b[0m\n",
      "\u001b[1m2025-04-02T12:09:28.792235-0700 | INFO | mt_metadata.timeseries.filters.channel_response | to_obspy | total sensitivity 105026369151.30917 != total gain 1048576000.000055. Using total_gain.\u001b[0m\n",
      "\u001b[1m2025-04-02T12:09:28.823234-0700 | INFO | mt_metadata.timeseries.filters.channel_response | to_obspy | total sensitivity 105276966379.19785 != total gain 1048576000.000055. Using total_gain.\u001b[0m\n",
      "\u001b[1m2025-04-02T12:09:28.920816-0700 | INFO | mt_metadata.timeseries.filters.channel_response | to_obspy | total sensitivity 104382542748.06306 != total gain 1048576000.000055. Using total_gain.\u001b[0m\n",
      "\u001b[1m2025-04-02T12:09:28.948887-0700 | INFO | mt_metadata.timeseries.filters.channel_response | to_obspy | total sensitivity 105026369151.30917 != total gain 1048576000.000055. Using total_gain.\u001b[0m\n",
      "\u001b[1m2025-04-02T12:09:28.980437-0700 | INFO | mt_metadata.timeseries.filters.channel_response | to_obspy | total sensitivity 105276966379.19785 != total gain 1048576000.000055. Using total_gain.\u001b[0m\n",
      "\u001b[1m2025-04-02T12:09:29.074975-0700 | INFO | mt_metadata.timeseries.filters.channel_response | to_obspy | total sensitivity 104382542748.06306 != total gain 1048576000.000055. Using total_gain.\u001b[0m\n",
      "\u001b[1m2025-04-02T12:09:29.103975-0700 | INFO | mt_metadata.timeseries.filters.channel_response | to_obspy | total sensitivity 105026369151.30917 != total gain 1048576000.000055. Using total_gain.\u001b[0m\n",
      "\u001b[1m2025-04-02T12:09:29.134302-0700 | INFO | mt_metadata.timeseries.filters.channel_response | to_obspy | total sensitivity 105276966379.19785 != total gain 1048576000.000055. Using total_gain.\u001b[0m\n",
      "\u001b[1m2025-04-02T12:09:29.228864-0700 | INFO | mt_metadata.timeseries.filters.channel_response | to_obspy | total sensitivity 104382542748.06306 != total gain 1048576000.000055. Using total_gain.\u001b[0m\n",
      "\u001b[1m2025-04-02T12:09:29.263449-0700 | INFO | mt_metadata.timeseries.filters.channel_response | to_obspy | total sensitivity 105026369151.30917 != total gain 1048576000.000055. Using total_gain.\u001b[0m\n",
      "\u001b[1m2025-04-02T12:09:29.291450-0700 | INFO | mt_metadata.timeseries.filters.channel_response | to_obspy | total sensitivity 105276966379.19785 != total gain 1048576000.000055. Using total_gain.\u001b[0m\n",
      "\u001b[1m2025-04-02T12:09:29.323418-0700 | INFO | mth5.io.conversion | convert_mth5_to_ms_stationxml | Wrote StationXML to c:\\Users\\jpeacock\\OneDrive - DOI\\MTData\\CL2021\\archive\\to_dmc\\cl409.xml\u001b[0m\n",
      "\u001b[33m\u001b[1m2025-04-02T12:09:31.774779-0700 | WARNING | mt_metadata.timeseries.station | remove_run | Could not find cl431a to remove.\u001b[0m\n",
      "\u001b[1m2025-04-02T12:09:35.268055-0700 | INFO | mth5.io.conversion | split_ms_to_days | Wrote miniseed file to: c:\\Users\\jpeacock\\OneDrive - DOI\\MTData\\CL2021\\archive\\to_dmc\\1Z_CL431__LQN_2022_11_02T22_19_58.mseed\u001b[0m\n",
      "\u001b[1m2025-04-02T12:09:35.271068-0700 | INFO | mth5.io.conversion | split_ms_to_days | Wrote miniseed file to: c:\\Users\\jpeacock\\OneDrive - DOI\\MTData\\CL2021\\archive\\to_dmc\\1Z_CL431__LQN_2022_11_03T00_00_00.mseed\u001b[0m\n",
      "\u001b[1m2025-04-02T12:09:35.278088-0700 | INFO | mth5.io.conversion | split_ms_to_days | Wrote miniseed file to: c:\\Users\\jpeacock\\OneDrive - DOI\\MTData\\CL2021\\archive\\to_dmc\\1Z_CL431__LQE_2022_11_02T22_19_58.mseed\u001b[0m\n",
      "\u001b[1m2025-04-02T12:09:35.281055-0700 | INFO | mth5.io.conversion | split_ms_to_days | Wrote miniseed file to: c:\\Users\\jpeacock\\OneDrive - DOI\\MTData\\CL2021\\archive\\to_dmc\\1Z_CL431__LQE_2022_11_03T00_00_00.mseed\u001b[0m\n",
      "\u001b[1m2025-04-02T12:09:35.290090-0700 | INFO | mth5.io.conversion | split_ms_to_days | Wrote miniseed file to: c:\\Users\\jpeacock\\OneDrive - DOI\\MTData\\CL2021\\archive\\to_dmc\\1Z_CL431__LFN_2022_11_02T22_19_58.mseed\u001b[0m\n",
      "\u001b[1m2025-04-02T12:09:35.292056-0700 | INFO | mth5.io.conversion | split_ms_to_days | Wrote miniseed file to: c:\\Users\\jpeacock\\OneDrive - DOI\\MTData\\CL2021\\archive\\to_dmc\\1Z_CL431__LFN_2022_11_03T00_00_00.mseed\u001b[0m\n",
      "\u001b[1m2025-04-02T12:09:35.302057-0700 | INFO | mth5.io.conversion | split_ms_to_days | Wrote miniseed file to: c:\\Users\\jpeacock\\OneDrive - DOI\\MTData\\CL2021\\archive\\to_dmc\\1Z_CL431__LFE_2022_11_02T22_19_58.mseed\u001b[0m\n",
      "\u001b[1m2025-04-02T12:09:35.305056-0700 | INFO | mth5.io.conversion | split_ms_to_days | Wrote miniseed file to: c:\\Users\\jpeacock\\OneDrive - DOI\\MTData\\CL2021\\archive\\to_dmc\\1Z_CL431__LFE_2022_11_03T00_00_00.mseed\u001b[0m\n",
      "\u001b[1m2025-04-02T12:09:35.313058-0700 | INFO | mth5.io.conversion | split_ms_to_days | Wrote miniseed file to: c:\\Users\\jpeacock\\OneDrive - DOI\\MTData\\CL2021\\archive\\to_dmc\\1Z_CL431__LFZ_2022_11_02T22_19_58.mseed\u001b[0m\n",
      "\u001b[1m2025-04-02T12:09:35.317057-0700 | INFO | mth5.io.conversion | split_ms_to_days | Wrote miniseed file to: c:\\Users\\jpeacock\\OneDrive - DOI\\MTData\\CL2021\\archive\\to_dmc\\1Z_CL431__LFZ_2022_11_03T00_00_00.mseed\u001b[0m\n",
      "\u001b[1m2025-04-02T12:09:40.420040-0700 | INFO | mth5.io.conversion | split_ms_to_days | Wrote miniseed file to: c:\\Users\\jpeacock\\OneDrive - DOI\\MTData\\CL2021\\archive\\to_dmc\\1Z_CL431__CQN_2022_11_02T22_19_58.mseed\u001b[0m\n",
      "\u001b[1m2025-04-02T12:09:40.542625-0700 | INFO | mth5.io.conversion | split_ms_to_days | Wrote miniseed file to: c:\\Users\\jpeacock\\OneDrive - DOI\\MTData\\CL2021\\archive\\to_dmc\\1Z_CL431__CQN_2022_11_03T00_00_00.mseed\u001b[0m\n",
      "\u001b[1m2025-04-02T12:09:40.615210-0700 | INFO | mth5.io.conversion | split_ms_to_days | Wrote miniseed file to: c:\\Users\\jpeacock\\OneDrive - DOI\\MTData\\CL2021\\archive\\to_dmc\\1Z_CL431__CQE_2022_11_02T22_19_58.mseed\u001b[0m\n",
      "\u001b[1m2025-04-02T12:09:40.734825-0700 | INFO | mth5.io.conversion | split_ms_to_days | Wrote miniseed file to: c:\\Users\\jpeacock\\OneDrive - DOI\\MTData\\CL2021\\archive\\to_dmc\\1Z_CL431__CQE_2022_11_03T00_00_00.mseed\u001b[0m\n",
      "\u001b[1m2025-04-02T12:09:40.813288-0700 | INFO | mth5.io.conversion | split_ms_to_days | Wrote miniseed file to: c:\\Users\\jpeacock\\OneDrive - DOI\\MTData\\CL2021\\archive\\to_dmc\\1Z_CL431__CFN_2022_11_02T22_19_58.mseed\u001b[0m\n",
      "\u001b[1m2025-04-02T12:09:40.933939-0700 | INFO | mth5.io.conversion | split_ms_to_days | Wrote miniseed file to: c:\\Users\\jpeacock\\OneDrive - DOI\\MTData\\CL2021\\archive\\to_dmc\\1Z_CL431__CFN_2022_11_03T00_00_00.mseed\u001b[0m\n",
      "\u001b[1m2025-04-02T12:09:41.013484-0700 | INFO | mth5.io.conversion | split_ms_to_days | Wrote miniseed file to: c:\\Users\\jpeacock\\OneDrive - DOI\\MTData\\CL2021\\archive\\to_dmc\\1Z_CL431__CFE_2022_11_02T22_19_58.mseed\u001b[0m\n",
      "\u001b[1m2025-04-02T12:09:41.148131-0700 | INFO | mth5.io.conversion | split_ms_to_days | Wrote miniseed file to: c:\\Users\\jpeacock\\OneDrive - DOI\\MTData\\CL2021\\archive\\to_dmc\\1Z_CL431__CFE_2022_11_03T00_00_00.mseed\u001b[0m\n",
      "\u001b[1m2025-04-02T12:09:41.224716-0700 | INFO | mth5.io.conversion | split_ms_to_days | Wrote miniseed file to: c:\\Users\\jpeacock\\OneDrive - DOI\\MTData\\CL2021\\archive\\to_dmc\\1Z_CL431__CFZ_2022_11_02T22_19_58.mseed\u001b[0m\n",
      "\u001b[1m2025-04-02T12:09:41.351259-0700 | INFO | mth5.io.conversion | split_ms_to_days | Wrote miniseed file to: c:\\Users\\jpeacock\\OneDrive - DOI\\MTData\\CL2021\\archive\\to_dmc\\1Z_CL431__CFZ_2022_11_03T00_00_00.mseed\u001b[0m\n",
      "\u001b[1m2025-04-02T12:09:44.734494-0700 | INFO | mth5.timeseries.run_ts | _align_channels | Channels do not have a common end, using latest: 2022-11-03T01:09:41.998535156\u001b[0m\n",
      "\u001b[33m\u001b[1m2025-04-02T12:09:47.464848-0700 | WARNING | mth5.timeseries.run_ts | validate_metadata | end time of dataset 2022-11-03T01:09:41.998291015+00:00 does not match metadata end 2022-11-03T01:09:41.998535156+00:00 updating metatdata value to 2022-11-03T01:09:41.998291015+00:00\u001b[0m\n"
     ]
    },
    {
     "name": "stderr",
     "output_type": "stream",
     "text": [
      "C:\\Users\\jpeacock\\OneDrive - DOI\\Documents\\GitHub\\mth5\\mth5\\timeseries\\channel_ts.py:1524: RuntimeWarning: invalid value encountered in cast\n",
      "  obspy_trace = Trace(self.ts.astype(encoding_dict[encoding]))\n"
     ]
    },
    {
     "name": "stdout",
     "output_type": "stream",
     "text": [
      "\u001b[1m2025-04-02T12:09:48.261873-0700 | INFO | mth5.io.conversion | split_ms_to_days | Wrote miniseed file to: c:\\Users\\jpeacock\\OneDrive - DOI\\MTData\\CL2021\\archive\\to_dmc\\1Z_CL431__FQN_2022_11_03T00_59_58.mseed\u001b[0m\n",
      "\u001b[1m2025-04-02T12:09:48.462523-0700 | INFO | mth5.io.conversion | split_ms_to_days | Wrote miniseed file to: c:\\Users\\jpeacock\\OneDrive - DOI\\MTData\\CL2021\\archive\\to_dmc\\1Z_CL431__FQE_2022_11_03T00_59_58.mseed\u001b[0m\n",
      "\u001b[1m2025-04-02T12:09:48.676186-0700 | INFO | mth5.io.conversion | split_ms_to_days | Wrote miniseed file to: c:\\Users\\jpeacock\\OneDrive - DOI\\MTData\\CL2021\\archive\\to_dmc\\1Z_CL431__FFN_2022_11_03T00_59_58.mseed\u001b[0m\n",
      "\u001b[1m2025-04-02T12:09:48.915234-0700 | INFO | mth5.io.conversion | split_ms_to_days | Wrote miniseed file to: c:\\Users\\jpeacock\\OneDrive - DOI\\MTData\\CL2021\\archive\\to_dmc\\1Z_CL431__FFE_2022_11_03T00_59_58.mseed\u001b[0m\n",
      "\u001b[1m2025-04-02T12:09:49.125172-0700 | INFO | mth5.io.conversion | split_ms_to_days | Wrote miniseed file to: c:\\Users\\jpeacock\\OneDrive - DOI\\MTData\\CL2021\\archive\\to_dmc\\1Z_CL431__FFZ_2022_11_03T00_59_58.mseed\u001b[0m\n",
      "\u001b[1m2025-04-02T12:09:56.596032-0700 | INFO | mth5.io.conversion | split_ms_to_days | Wrote miniseed file to: c:\\Users\\jpeacock\\OneDrive - DOI\\MTData\\CL2021\\archive\\to_dmc\\1Z_CL431__CQN_2022_11_03T01_09_58.mseed\u001b[0m\n",
      "\u001b[1m2025-04-02T12:09:57.017291-0700 | INFO | mth5.io.conversion | split_ms_to_days | Wrote miniseed file to: c:\\Users\\jpeacock\\OneDrive - DOI\\MTData\\CL2021\\archive\\to_dmc\\1Z_CL431__CQE_2022_11_03T01_09_58.mseed\u001b[0m\n",
      "\u001b[1m2025-04-02T12:09:57.462137-0700 | INFO | mth5.io.conversion | split_ms_to_days | Wrote miniseed file to: c:\\Users\\jpeacock\\OneDrive - DOI\\MTData\\CL2021\\archive\\to_dmc\\1Z_CL431__CFN_2022_11_03T01_09_58.mseed\u001b[0m\n",
      "\u001b[1m2025-04-02T12:09:57.910539-0700 | INFO | mth5.io.conversion | split_ms_to_days | Wrote miniseed file to: c:\\Users\\jpeacock\\OneDrive - DOI\\MTData\\CL2021\\archive\\to_dmc\\1Z_CL431__CFE_2022_11_03T01_09_58.mseed\u001b[0m\n",
      "\u001b[1m2025-04-02T12:09:58.363731-0700 | INFO | mth5.io.conversion | split_ms_to_days | Wrote miniseed file to: c:\\Users\\jpeacock\\OneDrive - DOI\\MTData\\CL2021\\archive\\to_dmc\\1Z_CL431__CFZ_2022_11_03T01_09_58.mseed\u001b[0m\n",
      "\u001b[1m2025-04-02T12:10:02.447642-0700 | INFO | mth5.timeseries.run_ts | _align_channels | Channels do not have a common end, using latest: 2022-11-03T07:09:41.998779296\u001b[0m\n",
      "\u001b[33m\u001b[1m2025-04-02T12:10:05.255825-0700 | WARNING | mth5.timeseries.run_ts | validate_metadata | end time of dataset 2022-11-03T07:09:41.998535156+00:00 does not match metadata end 2022-11-03T07:09:41.998779296+00:00 updating metatdata value to 2022-11-03T07:09:41.998535156+00:00\u001b[0m\n"
     ]
    },
    {
     "name": "stderr",
     "output_type": "stream",
     "text": [
      "C:\\Users\\jpeacock\\OneDrive - DOI\\Documents\\GitHub\\mth5\\mth5\\timeseries\\channel_ts.py:1524: RuntimeWarning: invalid value encountered in cast\n",
      "  obspy_trace = Trace(self.ts.astype(encoding_dict[encoding]))\n"
     ]
    },
    {
     "name": "stdout",
     "output_type": "stream",
     "text": [
      "\u001b[1m2025-04-02T12:10:06.097866-0700 | INFO | mth5.io.conversion | split_ms_to_days | Wrote miniseed file to: c:\\Users\\jpeacock\\OneDrive - DOI\\MTData\\CL2021\\archive\\to_dmc\\1Z_CL431__FQN_2022_11_03T06_59_58.mseed\u001b[0m\n",
      "\u001b[1m2025-04-02T12:10:06.290435-0700 | INFO | mth5.io.conversion | split_ms_to_days | Wrote miniseed file to: c:\\Users\\jpeacock\\OneDrive - DOI\\MTData\\CL2021\\archive\\to_dmc\\1Z_CL431__FQE_2022_11_03T06_59_58.mseed\u001b[0m\n",
      "\u001b[1m2025-04-02T12:10:06.525648-0700 | INFO | mth5.io.conversion | split_ms_to_days | Wrote miniseed file to: c:\\Users\\jpeacock\\OneDrive - DOI\\MTData\\CL2021\\archive\\to_dmc\\1Z_CL431__FFN_2022_11_03T06_59_58.mseed\u001b[0m\n",
      "\u001b[1m2025-04-02T12:10:06.721791-0700 | INFO | mth5.io.conversion | split_ms_to_days | Wrote miniseed file to: c:\\Users\\jpeacock\\OneDrive - DOI\\MTData\\CL2021\\archive\\to_dmc\\1Z_CL431__FFE_2022_11_03T06_59_58.mseed\u001b[0m\n",
      "\u001b[1m2025-04-02T12:10:06.933953-0700 | INFO | mth5.io.conversion | split_ms_to_days | Wrote miniseed file to: c:\\Users\\jpeacock\\OneDrive - DOI\\MTData\\CL2021\\archive\\to_dmc\\1Z_CL431__FFZ_2022_11_03T06_59_58.mseed\u001b[0m\n",
      "\u001b[1m2025-04-02T12:10:13.562739-0700 | INFO | mth5.timeseries.run_ts | _align_channels | Channels do not have a common end, using latest: 2022-11-03T12:59:41.968750000\u001b[0m\n",
      "\u001b[1m2025-04-02T12:10:16.570070-0700 | INFO | mth5.io.conversion | split_ms_to_days | Wrote miniseed file to: c:\\Users\\jpeacock\\OneDrive - DOI\\MTData\\CL2021\\archive\\to_dmc\\1Z_CL431__CQN_2022_11_03T07_09_58.mseed\u001b[0m\n",
      "\u001b[1m2025-04-02T12:10:16.991291-0700 | INFO | mth5.io.conversion | split_ms_to_days | Wrote miniseed file to: c:\\Users\\jpeacock\\OneDrive - DOI\\MTData\\CL2021\\archive\\to_dmc\\1Z_CL431__CQE_2022_11_03T07_09_58.mseed\u001b[0m\n",
      "\u001b[1m2025-04-02T12:10:17.428961-0700 | INFO | mth5.io.conversion | split_ms_to_days | Wrote miniseed file to: c:\\Users\\jpeacock\\OneDrive - DOI\\MTData\\CL2021\\archive\\to_dmc\\1Z_CL431__CFN_2022_11_03T07_09_58.mseed\u001b[0m\n",
      "\u001b[1m2025-04-02T12:10:17.863990-0700 | INFO | mth5.io.conversion | split_ms_to_days | Wrote miniseed file to: c:\\Users\\jpeacock\\OneDrive - DOI\\MTData\\CL2021\\archive\\to_dmc\\1Z_CL431__CFE_2022_11_03T07_09_58.mseed\u001b[0m\n",
      "\u001b[1m2025-04-02T12:10:18.310853-0700 | INFO | mth5.io.conversion | split_ms_to_days | Wrote miniseed file to: c:\\Users\\jpeacock\\OneDrive - DOI\\MTData\\CL2021\\archive\\to_dmc\\1Z_CL431__CFZ_2022_11_03T07_09_58.mseed\u001b[0m\n",
      "\u001b[1m2025-04-02T12:10:22.294251-0700 | INFO | mth5.timeseries.run_ts | _align_channels | Channels do not have a common end, using latest: 2022-11-03T13:09:41.998535156\u001b[0m\n",
      "\u001b[33m\u001b[1m2025-04-02T12:10:25.103191-0700 | WARNING | mth5.timeseries.run_ts | validate_metadata | end time of dataset 2022-11-03T13:09:41.998291015+00:00 does not match metadata end 2022-11-03T13:09:41.998535156+00:00 updating metatdata value to 2022-11-03T13:09:41.998291015+00:00\u001b[0m\n"
     ]
    },
    {
     "name": "stderr",
     "output_type": "stream",
     "text": [
      "C:\\Users\\jpeacock\\OneDrive - DOI\\Documents\\GitHub\\mth5\\mth5\\timeseries\\channel_ts.py:1524: RuntimeWarning: invalid value encountered in cast\n",
      "  obspy_trace = Trace(self.ts.astype(encoding_dict[encoding]))\n"
     ]
    },
    {
     "name": "stdout",
     "output_type": "stream",
     "text": [
      "\u001b[1m2025-04-02T12:10:25.866219-0700 | INFO | mth5.io.conversion | split_ms_to_days | Wrote miniseed file to: c:\\Users\\jpeacock\\OneDrive - DOI\\MTData\\CL2021\\archive\\to_dmc\\1Z_CL431__FQN_2022_11_03T12_59_58.mseed\u001b[0m\n",
      "\u001b[1m2025-04-02T12:10:26.057464-0700 | INFO | mth5.io.conversion | split_ms_to_days | Wrote miniseed file to: c:\\Users\\jpeacock\\OneDrive - DOI\\MTData\\CL2021\\archive\\to_dmc\\1Z_CL431__FQE_2022_11_03T12_59_58.mseed\u001b[0m\n",
      "\u001b[1m2025-04-02T12:10:26.247079-0700 | INFO | mth5.io.conversion | split_ms_to_days | Wrote miniseed file to: c:\\Users\\jpeacock\\OneDrive - DOI\\MTData\\CL2021\\archive\\to_dmc\\1Z_CL431__FFN_2022_11_03T12_59_58.mseed\u001b[0m\n",
      "\u001b[1m2025-04-02T12:10:26.438474-0700 | INFO | mth5.io.conversion | split_ms_to_days | Wrote miniseed file to: c:\\Users\\jpeacock\\OneDrive - DOI\\MTData\\CL2021\\archive\\to_dmc\\1Z_CL431__FFE_2022_11_03T12_59_58.mseed\u001b[0m\n",
      "\u001b[1m2025-04-02T12:10:26.631583-0700 | INFO | mth5.io.conversion | split_ms_to_days | Wrote miniseed file to: c:\\Users\\jpeacock\\OneDrive - DOI\\MTData\\CL2021\\archive\\to_dmc\\1Z_CL431__FFZ_2022_11_03T12_59_58.mseed\u001b[0m\n",
      "\u001b[1m2025-04-02T12:10:33.452579-0700 | INFO | mth5.io.conversion | split_ms_to_days | Wrote miniseed file to: c:\\Users\\jpeacock\\OneDrive - DOI\\MTData\\CL2021\\archive\\to_dmc\\1Z_CL431__CQN_2022_11_03T13_09_58.mseed\u001b[0m\n",
      "\u001b[1m2025-04-02T12:10:33.777482-0700 | INFO | mth5.io.conversion | split_ms_to_days | Wrote miniseed file to: c:\\Users\\jpeacock\\OneDrive - DOI\\MTData\\CL2021\\archive\\to_dmc\\1Z_CL431__CQE_2022_11_03T13_09_58.mseed\u001b[0m\n",
      "\u001b[1m2025-04-02T12:10:34.107164-0700 | INFO | mth5.io.conversion | split_ms_to_days | Wrote miniseed file to: c:\\Users\\jpeacock\\OneDrive - DOI\\MTData\\CL2021\\archive\\to_dmc\\1Z_CL431__CFN_2022_11_03T13_09_58.mseed\u001b[0m\n",
      "\u001b[1m2025-04-02T12:10:34.431189-0700 | INFO | mth5.io.conversion | split_ms_to_days | Wrote miniseed file to: c:\\Users\\jpeacock\\OneDrive - DOI\\MTData\\CL2021\\archive\\to_dmc\\1Z_CL431__CFE_2022_11_03T13_09_58.mseed\u001b[0m\n",
      "\u001b[1m2025-04-02T12:10:34.759366-0700 | INFO | mth5.io.conversion | split_ms_to_days | Wrote miniseed file to: c:\\Users\\jpeacock\\OneDrive - DOI\\MTData\\CL2021\\archive\\to_dmc\\1Z_CL431__CFZ_2022_11_03T13_09_58.mseed\u001b[0m\n",
      "\u001b[1m2025-04-02T12:10:35.922221-0700 | INFO | mth5.mth5 | close_mth5 | Flushing and closing c:\\Users\\jpeacock\\OneDrive - DOI\\MTData\\CL2021\\archive\\cl431.h5\u001b[0m\n",
      "\u001b[33m\u001b[1m2025-04-02T12:10:35.925224-0700 | WARNING | mt_metadata.timeseries.stationxml.xml_station_mt_station | mt_to_xml | Station.geographic_name is None, using Station.id = cl431.Check StationXML site.name.\u001b[0m\n",
      "\u001b[1m2025-04-02T12:10:36.009260-0700 | INFO | mt_metadata.timeseries.filters.channel_response | to_obspy | total sensitivity 104063415757.0512 != total gain 1048576000.000055. Using total_gain.\u001b[0m\n",
      "\u001b[1m2025-04-02T12:10:36.038804-0700 | INFO | mt_metadata.timeseries.filters.channel_response | to_obspy | total sensitivity 104064067310.72034 != total gain 1048576000.000055. Using total_gain.\u001b[0m\n",
      "\u001b[1m2025-04-02T12:10:36.067808-0700 | INFO | mt_metadata.timeseries.filters.channel_response | to_obspy | total sensitivity 104852080647.21446 != total gain 1048576000.000055. Using total_gain.\u001b[0m\n",
      "\u001b[1m2025-04-02T12:10:36.174356-0700 | INFO | mt_metadata.timeseries.filters.channel_response | to_obspy | total sensitivity 104063415757.0512 != total gain 1048576000.000055. Using total_gain.\u001b[0m\n",
      "\u001b[1m2025-04-02T12:10:36.207394-0700 | INFO | mt_metadata.timeseries.filters.channel_response | to_obspy | total sensitivity 104064067310.72034 != total gain 1048576000.000055. Using total_gain.\u001b[0m\n",
      "\u001b[1m2025-04-02T12:10:36.239932-0700 | INFO | mt_metadata.timeseries.filters.channel_response | to_obspy | total sensitivity 104852080647.21446 != total gain 1048576000.000055. Using total_gain.\u001b[0m\n",
      "\u001b[1m2025-04-02T12:10:36.368450-0700 | INFO | mt_metadata.timeseries.filters.channel_response | to_obspy | total sensitivity 104063415757.0512 != total gain 1048576000.000055. Using total_gain.\u001b[0m\n",
      "\u001b[1m2025-04-02T12:10:36.399523-0700 | INFO | mt_metadata.timeseries.filters.channel_response | to_obspy | total sensitivity 104064067310.72034 != total gain 1048576000.000055. Using total_gain.\u001b[0m\n",
      "\u001b[1m2025-04-02T12:10:36.431051-0700 | INFO | mt_metadata.timeseries.filters.channel_response | to_obspy | total sensitivity 104852080647.21446 != total gain 1048576000.000055. Using total_gain.\u001b[0m\n",
      "\u001b[1m2025-04-02T12:10:36.539565-0700 | INFO | mt_metadata.timeseries.filters.channel_response | to_obspy | total sensitivity 104063415757.0512 != total gain 1048576000.000055. Using total_gain.\u001b[0m\n",
      "\u001b[1m2025-04-02T12:10:36.571603-0700 | INFO | mt_metadata.timeseries.filters.channel_response | to_obspy | total sensitivity 104064067310.72034 != total gain 1048576000.000055. Using total_gain.\u001b[0m\n",
      "\u001b[1m2025-04-02T12:10:36.605611-0700 | INFO | mt_metadata.timeseries.filters.channel_response | to_obspy | total sensitivity 104852080647.21446 != total gain 1048576000.000055. Using total_gain.\u001b[0m\n",
      "\u001b[1m2025-04-02T12:10:36.698153-0700 | INFO | mt_metadata.timeseries.filters.channel_response | to_obspy | total sensitivity 104063415757.0512 != total gain 1048576000.000055. Using total_gain.\u001b[0m\n",
      "\u001b[1m2025-04-02T12:10:36.727775-0700 | INFO | mt_metadata.timeseries.filters.channel_response | to_obspy | total sensitivity 104064067310.72034 != total gain 1048576000.000055. Using total_gain.\u001b[0m\n",
      "\u001b[1m2025-04-02T12:10:36.756774-0700 | INFO | mt_metadata.timeseries.filters.channel_response | to_obspy | total sensitivity 104852080647.21446 != total gain 1048576000.000055. Using total_gain.\u001b[0m\n",
      "\u001b[1m2025-04-02T12:10:36.850363-0700 | INFO | mt_metadata.timeseries.filters.channel_response | to_obspy | total sensitivity 104063415757.0512 != total gain 1048576000.000055. Using total_gain.\u001b[0m\n",
      "\u001b[1m2025-04-02T12:10:36.878361-0700 | INFO | mt_metadata.timeseries.filters.channel_response | to_obspy | total sensitivity 104064067310.72034 != total gain 1048576000.000055. Using total_gain.\u001b[0m\n",
      "\u001b[1m2025-04-02T12:10:36.907365-0700 | INFO | mt_metadata.timeseries.filters.channel_response | to_obspy | total sensitivity 104852080647.21446 != total gain 1048576000.000055. Using total_gain.\u001b[0m\n",
      "\u001b[1m2025-04-02T12:10:37.007911-0700 | INFO | mt_metadata.timeseries.filters.channel_response | to_obspy | total sensitivity 104063415757.0512 != total gain 1048576000.000055. Using total_gain.\u001b[0m\n",
      "\u001b[1m2025-04-02T12:10:37.044458-0700 | INFO | mt_metadata.timeseries.filters.channel_response | to_obspy | total sensitivity 104064067310.72034 != total gain 1048576000.000055. Using total_gain.\u001b[0m\n",
      "\u001b[1m2025-04-02T12:10:37.072459-0700 | INFO | mt_metadata.timeseries.filters.channel_response | to_obspy | total sensitivity 104852080647.21446 != total gain 1048576000.000055. Using total_gain.\u001b[0m\n",
      "\u001b[1m2025-04-02T12:10:37.169044-0700 | INFO | mt_metadata.timeseries.filters.channel_response | to_obspy | total sensitivity 104063415757.0512 != total gain 1048576000.000055. Using total_gain.\u001b[0m\n",
      "\u001b[1m2025-04-02T12:10:37.204122-0700 | INFO | mt_metadata.timeseries.filters.channel_response | to_obspy | total sensitivity 104064067310.72034 != total gain 1048576000.000055. Using total_gain.\u001b[0m\n",
      "\u001b[1m2025-04-02T12:10:37.235659-0700 | INFO | mt_metadata.timeseries.filters.channel_response | to_obspy | total sensitivity 104852080647.21446 != total gain 1048576000.000055. Using total_gain.\u001b[0m\n",
      "\u001b[1m2025-04-02T12:10:37.267657-0700 | INFO | mth5.io.conversion | convert_mth5_to_ms_stationxml | Wrote StationXML to c:\\Users\\jpeacock\\OneDrive - DOI\\MTData\\CL2021\\archive\\to_dmc\\cl431.xml\u001b[0m\n",
      "\u001b[33m\u001b[1m2025-04-02T12:10:39.392908-0700 | WARNING | mt_metadata.timeseries.station | remove_run | Could not find cl433a to remove.\u001b[0m\n",
      "\u001b[1m2025-04-02T12:10:42.993622-0700 | INFO | mth5.io.conversion | split_ms_to_days | Wrote miniseed file to: c:\\Users\\jpeacock\\OneDrive - DOI\\MTData\\CL2021\\archive\\to_dmc\\1Z_CL433__LQN_2022_10_31T22_44_58.mseed\u001b[0m\n",
      "\u001b[1m2025-04-02T12:10:42.995590-0700 | INFO | mth5.io.conversion | split_ms_to_days | Wrote miniseed file to: c:\\Users\\jpeacock\\OneDrive - DOI\\MTData\\CL2021\\archive\\to_dmc\\1Z_CL433__LQN_2022_11_01T00_00_00.mseed\u001b[0m\n",
      "\u001b[1m2025-04-02T12:10:43.012708-0700 | INFO | mth5.io.conversion | split_ms_to_days | Wrote miniseed file to: c:\\Users\\jpeacock\\OneDrive - DOI\\MTData\\CL2021\\archive\\to_dmc\\1Z_CL433__LQE_2022_10_31T22_44_58.mseed\u001b[0m\n",
      "\u001b[1m2025-04-02T12:10:43.051700-0700 | INFO | mth5.io.conversion | split_ms_to_days | Wrote miniseed file to: c:\\Users\\jpeacock\\OneDrive - DOI\\MTData\\CL2021\\archive\\to_dmc\\1Z_CL433__LQE_2022_11_01T00_00_00.mseed\u001b[0m\n",
      "\u001b[1m2025-04-02T12:10:43.097741-0700 | INFO | mth5.io.conversion | split_ms_to_days | Wrote miniseed file to: c:\\Users\\jpeacock\\OneDrive - DOI\\MTData\\CL2021\\archive\\to_dmc\\1Z_CL433__LFN_2022_10_31T22_44_58.mseed\u001b[0m\n",
      "\u001b[1m2025-04-02T12:10:43.099710-0700 | INFO | mth5.io.conversion | split_ms_to_days | Wrote miniseed file to: c:\\Users\\jpeacock\\OneDrive - DOI\\MTData\\CL2021\\archive\\to_dmc\\1Z_CL433__LFN_2022_11_01T00_00_00.mseed\u001b[0m\n",
      "\u001b[1m2025-04-02T12:10:43.110714-0700 | INFO | mth5.io.conversion | split_ms_to_days | Wrote miniseed file to: c:\\Users\\jpeacock\\OneDrive - DOI\\MTData\\CL2021\\archive\\to_dmc\\1Z_CL433__LFE_2022_10_31T22_44_58.mseed\u001b[0m\n",
      "\u001b[1m2025-04-02T12:10:43.119715-0700 | INFO | mth5.io.conversion | split_ms_to_days | Wrote miniseed file to: c:\\Users\\jpeacock\\OneDrive - DOI\\MTData\\CL2021\\archive\\to_dmc\\1Z_CL433__LFE_2022_11_01T00_00_00.mseed\u001b[0m\n",
      "\u001b[1m2025-04-02T12:10:43.128765-0700 | INFO | mth5.io.conversion | split_ms_to_days | Wrote miniseed file to: c:\\Users\\jpeacock\\OneDrive - DOI\\MTData\\CL2021\\archive\\to_dmc\\1Z_CL433__LFZ_2022_10_31T22_44_58.mseed\u001b[0m\n",
      "\u001b[1m2025-04-02T12:10:43.131767-0700 | INFO | mth5.io.conversion | split_ms_to_days | Wrote miniseed file to: c:\\Users\\jpeacock\\OneDrive - DOI\\MTData\\CL2021\\archive\\to_dmc\\1Z_CL433__LFZ_2022_11_01T00_00_00.mseed\u001b[0m\n"
     ]
    },
    {
     "name": "stderr",
     "output_type": "stream",
     "text": [
      "C:\\Users\\jpeacock\\OneDrive - DOI\\Documents\\GitHub\\mth5\\mth5\\timeseries\\channel_ts.py:1524: RuntimeWarning: invalid value encountered in cast\n",
      "  obspy_trace = Trace(self.ts.astype(encoding_dict[encoding]))\n"
     ]
    },
    {
     "name": "stdout",
     "output_type": "stream",
     "text": [
      "\u001b[1m2025-04-02T12:10:48.596371-0700 | INFO | mth5.io.conversion | split_ms_to_days | Wrote miniseed file to: c:\\Users\\jpeacock\\OneDrive - DOI\\MTData\\CL2021\\archive\\to_dmc\\1Z_CL433__CQN_2022_10_31T22_44_58.mseed\u001b[0m\n",
      "\u001b[1m2025-04-02T12:10:48.718895-0700 | INFO | mth5.io.conversion | split_ms_to_days | Wrote miniseed file to: c:\\Users\\jpeacock\\OneDrive - DOI\\MTData\\CL2021\\archive\\to_dmc\\1Z_CL433__CQN_2022_11_01T00_00_00.mseed\u001b[0m\n",
      "\u001b[1m2025-04-02T12:10:48.801436-0700 | INFO | mth5.io.conversion | split_ms_to_days | Wrote miniseed file to: c:\\Users\\jpeacock\\OneDrive - DOI\\MTData\\CL2021\\archive\\to_dmc\\1Z_CL433__CQE_2022_10_31T22_44_58.mseed\u001b[0m\n",
      "\u001b[1m2025-04-02T12:10:48.921969-0700 | INFO | mth5.io.conversion | split_ms_to_days | Wrote miniseed file to: c:\\Users\\jpeacock\\OneDrive - DOI\\MTData\\CL2021\\archive\\to_dmc\\1Z_CL433__CQE_2022_11_01T00_00_00.mseed\u001b[0m\n",
      "\u001b[1m2025-04-02T12:10:49.006483-0700 | INFO | mth5.io.conversion | split_ms_to_days | Wrote miniseed file to: c:\\Users\\jpeacock\\OneDrive - DOI\\MTData\\CL2021\\archive\\to_dmc\\1Z_CL433__CFN_2022_10_31T22_44_58.mseed\u001b[0m\n",
      "\u001b[1m2025-04-02T12:10:49.102010-0700 | INFO | mth5.io.conversion | split_ms_to_days | Wrote miniseed file to: c:\\Users\\jpeacock\\OneDrive - DOI\\MTData\\CL2021\\archive\\to_dmc\\1Z_CL433__CFN_2022_11_01T00_00_00.mseed\u001b[0m\n",
      "\u001b[1m2025-04-02T12:10:49.193525-0700 | INFO | mth5.io.conversion | split_ms_to_days | Wrote miniseed file to: c:\\Users\\jpeacock\\OneDrive - DOI\\MTData\\CL2021\\archive\\to_dmc\\1Z_CL433__CFE_2022_10_31T22_44_58.mseed\u001b[0m\n",
      "\u001b[1m2025-04-02T12:10:49.301044-0700 | INFO | mth5.io.conversion | split_ms_to_days | Wrote miniseed file to: c:\\Users\\jpeacock\\OneDrive - DOI\\MTData\\CL2021\\archive\\to_dmc\\1Z_CL433__CFE_2022_11_01T00_00_00.mseed\u001b[0m\n",
      "\u001b[1m2025-04-02T12:10:49.376562-0700 | INFO | mth5.io.conversion | split_ms_to_days | Wrote miniseed file to: c:\\Users\\jpeacock\\OneDrive - DOI\\MTData\\CL2021\\archive\\to_dmc\\1Z_CL433__CFZ_2022_10_31T22_44_58.mseed\u001b[0m\n",
      "\u001b[1m2025-04-02T12:10:49.481874-0700 | INFO | mth5.io.conversion | split_ms_to_days | Wrote miniseed file to: c:\\Users\\jpeacock\\OneDrive - DOI\\MTData\\CL2021\\archive\\to_dmc\\1Z_CL433__CFZ_2022_11_01T00_00_00.mseed\u001b[0m\n",
      "\u001b[1m2025-04-02T12:10:52.944384-0700 | INFO | mth5.timeseries.run_ts | _align_channels | Channels do not have a common end, using latest: 2022-11-01T01:09:41.999023437\u001b[0m\n",
      "\u001b[33m\u001b[1m2025-04-02T12:10:54.617646-0700 | WARNING | mth5.timeseries.run_ts | validate_metadata | end time of dataset 2022-11-01T01:09:41.998779296+00:00 does not match metadata end 2022-11-01T01:09:41.999023437+00:00 updating metatdata value to 2022-11-01T01:09:41.998779296+00:00\u001b[0m\n",
      "\u001b[1m2025-04-02T12:10:55.402163-0700 | INFO | mth5.io.conversion | split_ms_to_days | Wrote miniseed file to: c:\\Users\\jpeacock\\OneDrive - DOI\\MTData\\CL2021\\archive\\to_dmc\\1Z_CL433__FQN_2022_11_01T00_59_58.mseed\u001b[0m\n",
      "\u001b[1m2025-04-02T12:10:55.588400-0700 | INFO | mth5.io.conversion | split_ms_to_days | Wrote miniseed file to: c:\\Users\\jpeacock\\OneDrive - DOI\\MTData\\CL2021\\archive\\to_dmc\\1Z_CL433__FQE_2022_11_01T00_59_58.mseed\u001b[0m\n"
     ]
    },
    {
     "name": "stderr",
     "output_type": "stream",
     "text": [
      "C:\\Users\\jpeacock\\OneDrive - DOI\\Documents\\GitHub\\mth5\\mth5\\timeseries\\channel_ts.py:1524: RuntimeWarning: invalid value encountered in cast\n",
      "  obspy_trace = Trace(self.ts.astype(encoding_dict[encoding]))\n"
     ]
    },
    {
     "name": "stdout",
     "output_type": "stream",
     "text": [
      "\u001b[1m2025-04-02T12:10:55.792545-0700 | INFO | mth5.io.conversion | split_ms_to_days | Wrote miniseed file to: c:\\Users\\jpeacock\\OneDrive - DOI\\MTData\\CL2021\\archive\\to_dmc\\1Z_CL433__FFN_2022_11_01T00_59_58.mseed\u001b[0m\n",
      "\u001b[1m2025-04-02T12:10:55.995712-0700 | INFO | mth5.io.conversion | split_ms_to_days | Wrote miniseed file to: c:\\Users\\jpeacock\\OneDrive - DOI\\MTData\\CL2021\\archive\\to_dmc\\1Z_CL433__FFE_2022_11_01T00_59_58.mseed\u001b[0m\n",
      "\u001b[1m2025-04-02T12:10:56.199522-0700 | INFO | mth5.io.conversion | split_ms_to_days | Wrote miniseed file to: c:\\Users\\jpeacock\\OneDrive - DOI\\MTData\\CL2021\\archive\\to_dmc\\1Z_CL433__FFZ_2022_11_01T00_59_58.mseed\u001b[0m\n",
      "\u001b[1m2025-04-02T12:11:04.162323-0700 | INFO | mth5.io.conversion | split_ms_to_days | Wrote miniseed file to: c:\\Users\\jpeacock\\OneDrive - DOI\\MTData\\CL2021\\archive\\to_dmc\\1Z_CL433__CQN_2022_11_01T01_09_58.mseed\u001b[0m\n",
      "\u001b[1m2025-04-02T12:11:04.591726-0700 | INFO | mth5.io.conversion | split_ms_to_days | Wrote miniseed file to: c:\\Users\\jpeacock\\OneDrive - DOI\\MTData\\CL2021\\archive\\to_dmc\\1Z_CL433__CQE_2022_11_01T01_09_58.mseed\u001b[0m\n",
      "\u001b[1m2025-04-02T12:11:05.011090-0700 | INFO | mth5.io.conversion | split_ms_to_days | Wrote miniseed file to: c:\\Users\\jpeacock\\OneDrive - DOI\\MTData\\CL2021\\archive\\to_dmc\\1Z_CL433__CFN_2022_11_01T01_09_58.mseed\u001b[0m\n",
      "\u001b[1m2025-04-02T12:11:05.467569-0700 | INFO | mth5.io.conversion | split_ms_to_days | Wrote miniseed file to: c:\\Users\\jpeacock\\OneDrive - DOI\\MTData\\CL2021\\archive\\to_dmc\\1Z_CL433__CFE_2022_11_01T01_09_58.mseed\u001b[0m\n",
      "\u001b[1m2025-04-02T12:11:05.903045-0700 | INFO | mth5.io.conversion | split_ms_to_days | Wrote miniseed file to: c:\\Users\\jpeacock\\OneDrive - DOI\\MTData\\CL2021\\archive\\to_dmc\\1Z_CL433__CFZ_2022_11_01T01_09_58.mseed\u001b[0m\n",
      "\u001b[1m2025-04-02T12:11:09.977110-0700 | INFO | mth5.timeseries.run_ts | _align_channels | Channels do not have a common end, using latest: 2022-11-01T07:09:41.999023437\u001b[0m\n",
      "\u001b[33m\u001b[1m2025-04-02T12:11:12.151388-0700 | WARNING | mth5.timeseries.run_ts | validate_metadata | end time of dataset 2022-11-01T07:09:41.998779296+00:00 does not match metadata end 2022-11-01T07:09:41.999023437+00:00 updating metatdata value to 2022-11-01T07:09:41.998779296+00:00\u001b[0m\n"
     ]
    },
    {
     "name": "stderr",
     "output_type": "stream",
     "text": [
      "C:\\Users\\jpeacock\\OneDrive - DOI\\Documents\\GitHub\\mth5\\mth5\\timeseries\\channel_ts.py:1524: RuntimeWarning: invalid value encountered in cast\n",
      "  obspy_trace = Trace(self.ts.astype(encoding_dict[encoding]))\n"
     ]
    },
    {
     "name": "stdout",
     "output_type": "stream",
     "text": [
      "\u001b[1m2025-04-02T12:11:12.897733-0700 | INFO | mth5.io.conversion | split_ms_to_days | Wrote miniseed file to: c:\\Users\\jpeacock\\OneDrive - DOI\\MTData\\CL2021\\archive\\to_dmc\\1Z_CL433__FQN_2022_11_01T06_59_58.mseed\u001b[0m\n",
      "\u001b[1m2025-04-02T12:11:13.101925-0700 | INFO | mth5.io.conversion | split_ms_to_days | Wrote miniseed file to: c:\\Users\\jpeacock\\OneDrive - DOI\\MTData\\CL2021\\archive\\to_dmc\\1Z_CL433__FQE_2022_11_01T06_59_58.mseed\u001b[0m\n",
      "\u001b[1m2025-04-02T12:11:13.291517-0700 | INFO | mth5.io.conversion | split_ms_to_days | Wrote miniseed file to: c:\\Users\\jpeacock\\OneDrive - DOI\\MTData\\CL2021\\archive\\to_dmc\\1Z_CL433__FFN_2022_11_01T06_59_58.mseed\u001b[0m\n",
      "\u001b[1m2025-04-02T12:11:13.482635-0700 | INFO | mth5.io.conversion | split_ms_to_days | Wrote miniseed file to: c:\\Users\\jpeacock\\OneDrive - DOI\\MTData\\CL2021\\archive\\to_dmc\\1Z_CL433__FFE_2022_11_01T06_59_58.mseed\u001b[0m\n",
      "\u001b[1m2025-04-02T12:11:13.690758-0700 | INFO | mth5.io.conversion | split_ms_to_days | Wrote miniseed file to: c:\\Users\\jpeacock\\OneDrive - DOI\\MTData\\CL2021\\archive\\to_dmc\\1Z_CL433__FFZ_2022_11_01T06_59_58.mseed\u001b[0m\n",
      "\u001b[1m2025-04-02T12:11:21.332837-0700 | INFO | mth5.io.conversion | split_ms_to_days | Wrote miniseed file to: c:\\Users\\jpeacock\\OneDrive - DOI\\MTData\\CL2021\\archive\\to_dmc\\1Z_CL433__CQN_2022_11_01T07_09_58.mseed\u001b[0m\n",
      "\u001b[1m2025-04-02T12:11:21.762697-0700 | INFO | mth5.io.conversion | split_ms_to_days | Wrote miniseed file to: c:\\Users\\jpeacock\\OneDrive - DOI\\MTData\\CL2021\\archive\\to_dmc\\1Z_CL433__CQE_2022_11_01T07_09_58.mseed\u001b[0m\n",
      "\u001b[1m2025-04-02T12:11:22.196855-0700 | INFO | mth5.io.conversion | split_ms_to_days | Wrote miniseed file to: c:\\Users\\jpeacock\\OneDrive - DOI\\MTData\\CL2021\\archive\\to_dmc\\1Z_CL433__CFN_2022_11_01T07_09_58.mseed\u001b[0m\n",
      "\u001b[1m2025-04-02T12:11:22.641224-0700 | INFO | mth5.io.conversion | split_ms_to_days | Wrote miniseed file to: c:\\Users\\jpeacock\\OneDrive - DOI\\MTData\\CL2021\\archive\\to_dmc\\1Z_CL433__CFE_2022_11_01T07_09_58.mseed\u001b[0m\n",
      "\u001b[1m2025-04-02T12:11:23.081127-0700 | INFO | mth5.io.conversion | split_ms_to_days | Wrote miniseed file to: c:\\Users\\jpeacock\\OneDrive - DOI\\MTData\\CL2021\\archive\\to_dmc\\1Z_CL433__CFZ_2022_11_01T07_09_58.mseed\u001b[0m\n",
      "\u001b[1m2025-04-02T12:11:27.177915-0700 | INFO | mth5.timeseries.run_ts | _align_channels | Channels do not have a common end, using latest: 2022-11-01T13:09:41.998779296\u001b[0m\n",
      "\u001b[33m\u001b[1m2025-04-02T12:11:29.887340-0700 | WARNING | mth5.timeseries.run_ts | validate_metadata | end time of dataset 2022-11-01T13:09:41.998535156+00:00 does not match metadata end 2022-11-01T13:09:41.998779296+00:00 updating metatdata value to 2022-11-01T13:09:41.998535156+00:00\u001b[0m\n"
     ]
    },
    {
     "name": "stderr",
     "output_type": "stream",
     "text": [
      "C:\\Users\\jpeacock\\OneDrive - DOI\\Documents\\GitHub\\mth5\\mth5\\timeseries\\channel_ts.py:1524: RuntimeWarning: invalid value encountered in cast\n",
      "  obspy_trace = Trace(self.ts.astype(encoding_dict[encoding]))\n"
     ]
    },
    {
     "name": "stdout",
     "output_type": "stream",
     "text": [
      "\u001b[1m2025-04-02T12:11:30.644223-0700 | INFO | mth5.io.conversion | split_ms_to_days | Wrote miniseed file to: c:\\Users\\jpeacock\\OneDrive - DOI\\MTData\\CL2021\\archive\\to_dmc\\1Z_CL433__FQN_2022_11_01T12_59_58.mseed\u001b[0m\n",
      "\u001b[1m2025-04-02T12:11:30.848429-0700 | INFO | mth5.io.conversion | split_ms_to_days | Wrote miniseed file to: c:\\Users\\jpeacock\\OneDrive - DOI\\MTData\\CL2021\\archive\\to_dmc\\1Z_CL433__FQE_2022_11_01T12_59_58.mseed\u001b[0m\n",
      "\u001b[1m2025-04-02T12:11:31.040426-0700 | INFO | mth5.io.conversion | split_ms_to_days | Wrote miniseed file to: c:\\Users\\jpeacock\\OneDrive - DOI\\MTData\\CL2021\\archive\\to_dmc\\1Z_CL433__FFN_2022_11_01T12_59_58.mseed\u001b[0m\n",
      "\u001b[1m2025-04-02T12:11:31.229451-0700 | INFO | mth5.io.conversion | split_ms_to_days | Wrote miniseed file to: c:\\Users\\jpeacock\\OneDrive - DOI\\MTData\\CL2021\\archive\\to_dmc\\1Z_CL433__FFE_2022_11_01T12_59_58.mseed\u001b[0m\n",
      "\u001b[1m2025-04-02T12:11:31.425500-0700 | INFO | mth5.io.conversion | split_ms_to_days | Wrote miniseed file to: c:\\Users\\jpeacock\\OneDrive - DOI\\MTData\\CL2021\\archive\\to_dmc\\1Z_CL433__FFZ_2022_11_01T12_59_58.mseed\u001b[0m\n",
      "\u001b[1m2025-04-02T12:11:37.598313-0700 | INFO | mth5.io.conversion | split_ms_to_days | Wrote miniseed file to: c:\\Users\\jpeacock\\OneDrive - DOI\\MTData\\CL2021\\archive\\to_dmc\\1Z_CL433__CQN_2022_11_01T13_09_58.mseed\u001b[0m\n",
      "\u001b[1m2025-04-02T12:11:37.898544-0700 | INFO | mth5.io.conversion | split_ms_to_days | Wrote miniseed file to: c:\\Users\\jpeacock\\OneDrive - DOI\\MTData\\CL2021\\archive\\to_dmc\\1Z_CL433__CQE_2022_11_01T13_09_58.mseed\u001b[0m\n",
      "\u001b[1m2025-04-02T12:11:38.168782-0700 | INFO | mth5.io.conversion | split_ms_to_days | Wrote miniseed file to: c:\\Users\\jpeacock\\OneDrive - DOI\\MTData\\CL2021\\archive\\to_dmc\\1Z_CL433__CFN_2022_11_01T13_09_58.mseed\u001b[0m\n",
      "\u001b[1m2025-04-02T12:11:38.442021-0700 | INFO | mth5.io.conversion | split_ms_to_days | Wrote miniseed file to: c:\\Users\\jpeacock\\OneDrive - DOI\\MTData\\CL2021\\archive\\to_dmc\\1Z_CL433__CFE_2022_11_01T13_09_58.mseed\u001b[0m\n",
      "\u001b[1m2025-04-02T12:11:38.737723-0700 | INFO | mth5.io.conversion | split_ms_to_days | Wrote miniseed file to: c:\\Users\\jpeacock\\OneDrive - DOI\\MTData\\CL2021\\archive\\to_dmc\\1Z_CL433__CFZ_2022_11_01T13_09_58.mseed\u001b[0m\n",
      "\u001b[1m2025-04-02T12:11:43.021539-0700 | INFO | mth5.io.conversion | split_ms_to_days | Wrote miniseed file to: c:\\Users\\jpeacock\\OneDrive - DOI\\MTData\\CL2021\\archive\\to_dmc\\1Z_CL433__CQN_2022_11_01T19_09_58.mseed\u001b[0m\n",
      "\u001b[1m2025-04-02T12:11:43.101186-0700 | INFO | mth5.io.conversion | split_ms_to_days | Wrote miniseed file to: c:\\Users\\jpeacock\\OneDrive - DOI\\MTData\\CL2021\\archive\\to_dmc\\1Z_CL433__CQE_2022_11_01T19_09_58.mseed\u001b[0m\n",
      "\u001b[1m2025-04-02T12:11:43.211937-0700 | INFO | mth5.io.conversion | split_ms_to_days | Wrote miniseed file to: c:\\Users\\jpeacock\\OneDrive - DOI\\MTData\\CL2021\\archive\\to_dmc\\1Z_CL433__CFN_2022_11_01T19_09_58.mseed\u001b[0m\n",
      "\u001b[1m2025-04-02T12:11:43.273471-0700 | INFO | mth5.io.conversion | split_ms_to_days | Wrote miniseed file to: c:\\Users\\jpeacock\\OneDrive - DOI\\MTData\\CL2021\\archive\\to_dmc\\1Z_CL433__CFE_2022_11_01T19_09_58.mseed\u001b[0m\n",
      "\u001b[1m2025-04-02T12:11:43.337471-0700 | INFO | mth5.io.conversion | split_ms_to_days | Wrote miniseed file to: c:\\Users\\jpeacock\\OneDrive - DOI\\MTData\\CL2021\\archive\\to_dmc\\1Z_CL433__CFZ_2022_11_01T19_09_58.mseed\u001b[0m\n",
      "\u001b[1m2025-04-02T12:11:44.240904-0700 | INFO | mth5.mth5 | close_mth5 | Flushing and closing c:\\Users\\jpeacock\\OneDrive - DOI\\MTData\\CL2021\\archive\\cl433.h5\u001b[0m\n",
      "\u001b[33m\u001b[1m2025-04-02T12:11:44.243905-0700 | WARNING | mt_metadata.timeseries.stationxml.xml_station_mt_station | mt_to_xml | Station.geographic_name is None, using Station.id = cl433.Check StationXML site.name.\u001b[0m\n",
      "\u001b[1m2025-04-02T12:11:44.327512-0700 | INFO | mt_metadata.timeseries.filters.channel_response | to_obspy | total sensitivity 105384854631.2247 != total gain 1048576000.000055. Using total_gain.\u001b[0m\n",
      "\u001b[1m2025-04-02T12:11:44.361515-0700 | INFO | mt_metadata.timeseries.filters.channel_response | to_obspy | total sensitivity 105012851743.1351 != total gain 1048576000.000055. Using total_gain.\u001b[0m\n",
      "\u001b[1m2025-04-02T12:11:44.395099-0700 | INFO | mt_metadata.timeseries.filters.channel_response | to_obspy | total sensitivity 104693940307.89154 != total gain 1048576000.000055. Using total_gain.\u001b[0m\n",
      "\u001b[1m2025-04-02T12:11:44.506650-0700 | INFO | mt_metadata.timeseries.filters.channel_response | to_obspy | total sensitivity 105384854631.2247 != total gain 1048576000.000055. Using total_gain.\u001b[0m\n",
      "\u001b[1m2025-04-02T12:11:44.537654-0700 | INFO | mt_metadata.timeseries.filters.channel_response | to_obspy | total sensitivity 105012851743.1351 != total gain 1048576000.000055. Using total_gain.\u001b[0m\n",
      "\u001b[1m2025-04-02T12:11:44.566694-0700 | INFO | mt_metadata.timeseries.filters.channel_response | to_obspy | total sensitivity 104693940307.89154 != total gain 1048576000.000055. Using total_gain.\u001b[0m\n",
      "\u001b[1m2025-04-02T12:11:44.658262-0700 | INFO | mt_metadata.timeseries.filters.channel_response | to_obspy | total sensitivity 105384854631.2247 != total gain 1048576000.000055. Using total_gain.\u001b[0m\n",
      "\u001b[1m2025-04-02T12:11:44.688869-0700 | INFO | mt_metadata.timeseries.filters.channel_response | to_obspy | total sensitivity 105012851743.1351 != total gain 1048576000.000055. Using total_gain.\u001b[0m\n",
      "\u001b[1m2025-04-02T12:11:44.719869-0700 | INFO | mt_metadata.timeseries.filters.channel_response | to_obspy | total sensitivity 104693940307.89154 != total gain 1048576000.000055. Using total_gain.\u001b[0m\n",
      "\u001b[1m2025-04-02T12:11:44.814382-0700 | INFO | mt_metadata.timeseries.filters.channel_response | to_obspy | total sensitivity 105384854631.2247 != total gain 1048576000.000055. Using total_gain.\u001b[0m\n",
      "\u001b[1m2025-04-02T12:11:44.845383-0700 | INFO | mt_metadata.timeseries.filters.channel_response | to_obspy | total sensitivity 105012851743.1351 != total gain 1048576000.000055. Using total_gain.\u001b[0m\n",
      "\u001b[1m2025-04-02T12:11:44.873897-0700 | INFO | mt_metadata.timeseries.filters.channel_response | to_obspy | total sensitivity 104693940307.89154 != total gain 1048576000.000055. Using total_gain.\u001b[0m\n",
      "\u001b[1m2025-04-02T12:11:44.971939-0700 | INFO | mt_metadata.timeseries.filters.channel_response | to_obspy | total sensitivity 105384854631.2247 != total gain 1048576000.000055. Using total_gain.\u001b[0m\n",
      "\u001b[1m2025-04-02T12:11:45.000308-0700 | INFO | mt_metadata.timeseries.filters.channel_response | to_obspy | total sensitivity 105012851743.1351 != total gain 1048576000.000055. Using total_gain.\u001b[0m\n",
      "\u001b[1m2025-04-02T12:11:45.030309-0700 | INFO | mt_metadata.timeseries.filters.channel_response | to_obspy | total sensitivity 104693940307.89154 != total gain 1048576000.000055. Using total_gain.\u001b[0m\n",
      "\u001b[1m2025-04-02T12:11:45.138820-0700 | INFO | mt_metadata.timeseries.filters.channel_response | to_obspy | total sensitivity 105384854631.2247 != total gain 1048576000.000055. Using total_gain.\u001b[0m\n",
      "\u001b[1m2025-04-02T12:11:45.173335-0700 | INFO | mt_metadata.timeseries.filters.channel_response | to_obspy | total sensitivity 105012851743.1351 != total gain 1048576000.000055. Using total_gain.\u001b[0m\n",
      "\u001b[1m2025-04-02T12:11:45.208342-0700 | INFO | mt_metadata.timeseries.filters.channel_response | to_obspy | total sensitivity 104693940307.89154 != total gain 1048576000.000055. Using total_gain.\u001b[0m\n",
      "\u001b[1m2025-04-02T12:11:45.329863-0700 | INFO | mt_metadata.timeseries.filters.channel_response | to_obspy | total sensitivity 105384854631.2247 != total gain 1048576000.000055. Using total_gain.\u001b[0m\n",
      "\u001b[1m2025-04-02T12:11:45.360874-0700 | INFO | mt_metadata.timeseries.filters.channel_response | to_obspy | total sensitivity 105012851743.1351 != total gain 1048576000.000055. Using total_gain.\u001b[0m\n",
      "\u001b[1m2025-04-02T12:11:45.401396-0700 | INFO | mt_metadata.timeseries.filters.channel_response | to_obspy | total sensitivity 104693940307.89154 != total gain 1048576000.000055. Using total_gain.\u001b[0m\n",
      "\u001b[1m2025-04-02T12:11:45.518012-0700 | INFO | mt_metadata.timeseries.filters.channel_response | to_obspy | total sensitivity 105384854631.2247 != total gain 1048576000.000055. Using total_gain.\u001b[0m\n",
      "\u001b[1m2025-04-02T12:11:45.547008-0700 | INFO | mt_metadata.timeseries.filters.channel_response | to_obspy | total sensitivity 105012851743.1351 != total gain 1048576000.000055. Using total_gain.\u001b[0m\n",
      "\u001b[1m2025-04-02T12:11:45.575524-0700 | INFO | mt_metadata.timeseries.filters.channel_response | to_obspy | total sensitivity 104693940307.89154 != total gain 1048576000.000055. Using total_gain.\u001b[0m\n",
      "\u001b[1m2025-04-02T12:11:45.664528-0700 | INFO | mt_metadata.timeseries.filters.channel_response | to_obspy | total sensitivity 105384854631.2247 != total gain 1048576000.000055. Using total_gain.\u001b[0m\n",
      "\u001b[1m2025-04-02T12:11:45.696037-0700 | INFO | mt_metadata.timeseries.filters.channel_response | to_obspy | total sensitivity 105012851743.1351 != total gain 1048576000.000055. Using total_gain.\u001b[0m\n",
      "\u001b[1m2025-04-02T12:11:45.729037-0700 | INFO | mt_metadata.timeseries.filters.channel_response | to_obspy | total sensitivity 104693940307.89154 != total gain 1048576000.000055. Using total_gain.\u001b[0m\n",
      "\u001b[1m2025-04-02T12:11:45.759047-0700 | INFO | mth5.io.conversion | convert_mth5_to_ms_stationxml | Wrote StationXML to c:\\Users\\jpeacock\\OneDrive - DOI\\MTData\\CL2021\\archive\\to_dmc\\cl433.xml\u001b[0m\n",
      "\u001b[33m\u001b[1m2025-04-02T12:11:47.499799-0700 | WARNING | mt_metadata.timeseries.station | remove_run | Could not find cl434a to remove.\u001b[0m\n",
      "\u001b[1m2025-04-02T12:11:51.096985-0700 | INFO | mth5.io.conversion | split_ms_to_days | Wrote miniseed file to: c:\\Users\\jpeacock\\OneDrive - DOI\\MTData\\CL2021\\archive\\to_dmc\\1Z_CL434__LQN_2022_10_31T21_39_58.mseed\u001b[0m\n",
      "\u001b[1m2025-04-02T12:11:51.098984-0700 | INFO | mth5.io.conversion | split_ms_to_days | Wrote miniseed file to: c:\\Users\\jpeacock\\OneDrive - DOI\\MTData\\CL2021\\archive\\to_dmc\\1Z_CL434__LQN_2022_11_01T00_00_00.mseed\u001b[0m\n",
      "\u001b[1m2025-04-02T12:11:51.107012-0700 | INFO | mth5.io.conversion | split_ms_to_days | Wrote miniseed file to: c:\\Users\\jpeacock\\OneDrive - DOI\\MTData\\CL2021\\archive\\to_dmc\\1Z_CL434__LQE_2022_10_31T21_39_58.mseed\u001b[0m\n",
      "\u001b[1m2025-04-02T12:11:51.109988-0700 | INFO | mth5.io.conversion | split_ms_to_days | Wrote miniseed file to: c:\\Users\\jpeacock\\OneDrive - DOI\\MTData\\CL2021\\archive\\to_dmc\\1Z_CL434__LQE_2022_11_01T00_00_00.mseed\u001b[0m\n",
      "\u001b[1m2025-04-02T12:11:51.117984-0700 | INFO | mth5.io.conversion | split_ms_to_days | Wrote miniseed file to: c:\\Users\\jpeacock\\OneDrive - DOI\\MTData\\CL2021\\archive\\to_dmc\\1Z_CL434__LFN_2022_10_31T21_39_58.mseed\u001b[0m\n",
      "\u001b[1m2025-04-02T12:11:51.120986-0700 | INFO | mth5.io.conversion | split_ms_to_days | Wrote miniseed file to: c:\\Users\\jpeacock\\OneDrive - DOI\\MTData\\CL2021\\archive\\to_dmc\\1Z_CL434__LFN_2022_11_01T00_00_00.mseed\u001b[0m\n",
      "\u001b[1m2025-04-02T12:11:51.128989-0700 | INFO | mth5.io.conversion | split_ms_to_days | Wrote miniseed file to: c:\\Users\\jpeacock\\OneDrive - DOI\\MTData\\CL2021\\archive\\to_dmc\\1Z_CL434__LFE_2022_10_31T21_39_58.mseed\u001b[0m\n",
      "\u001b[1m2025-04-02T12:11:51.141986-0700 | INFO | mth5.io.conversion | split_ms_to_days | Wrote miniseed file to: c:\\Users\\jpeacock\\OneDrive - DOI\\MTData\\CL2021\\archive\\to_dmc\\1Z_CL434__LFE_2022_11_01T00_00_00.mseed\u001b[0m\n",
      "\u001b[1m2025-04-02T12:11:51.151987-0700 | INFO | mth5.io.conversion | split_ms_to_days | Wrote miniseed file to: c:\\Users\\jpeacock\\OneDrive - DOI\\MTData\\CL2021\\archive\\to_dmc\\1Z_CL434__LFZ_2022_10_31T21_39_58.mseed\u001b[0m\n",
      "\u001b[1m2025-04-02T12:11:51.154987-0700 | INFO | mth5.io.conversion | split_ms_to_days | Wrote miniseed file to: c:\\Users\\jpeacock\\OneDrive - DOI\\MTData\\CL2021\\archive\\to_dmc\\1Z_CL434__LFZ_2022_11_01T00_00_00.mseed\u001b[0m\n",
      "\u001b[1m2025-04-02T12:11:57.572848-0700 | INFO | mth5.io.conversion | split_ms_to_days | Wrote miniseed file to: c:\\Users\\jpeacock\\OneDrive - DOI\\MTData\\CL2021\\archive\\to_dmc\\1Z_CL434__CQN_2022_10_31T21_39_58.mseed\u001b[0m\n",
      "\u001b[1m2025-04-02T12:11:57.743981-0700 | INFO | mth5.io.conversion | split_ms_to_days | Wrote miniseed file to: c:\\Users\\jpeacock\\OneDrive - DOI\\MTData\\CL2021\\archive\\to_dmc\\1Z_CL434__CQN_2022_11_01T00_00_00.mseed\u001b[0m\n",
      "\u001b[1m2025-04-02T12:11:57.833500-0700 | INFO | mth5.io.conversion | split_ms_to_days | Wrote miniseed file to: c:\\Users\\jpeacock\\OneDrive - DOI\\MTData\\CL2021\\archive\\to_dmc\\1Z_CL434__CQE_2022_10_31T21_39_58.mseed\u001b[0m\n",
      "\u001b[1m2025-04-02T12:11:58.018536-0700 | INFO | mth5.io.conversion | split_ms_to_days | Wrote miniseed file to: c:\\Users\\jpeacock\\OneDrive - DOI\\MTData\\CL2021\\archive\\to_dmc\\1Z_CL434__CQE_2022_11_01T00_00_00.mseed\u001b[0m\n",
      "\u001b[1m2025-04-02T12:11:58.093193-0700 | INFO | mth5.io.conversion | split_ms_to_days | Wrote miniseed file to: c:\\Users\\jpeacock\\OneDrive - DOI\\MTData\\CL2021\\archive\\to_dmc\\1Z_CL434__CFN_2022_10_31T21_39_58.mseed\u001b[0m\n",
      "\u001b[1m2025-04-02T12:11:58.280770-0700 | INFO | mth5.io.conversion | split_ms_to_days | Wrote miniseed file to: c:\\Users\\jpeacock\\OneDrive - DOI\\MTData\\CL2021\\archive\\to_dmc\\1Z_CL434__CFN_2022_11_01T00_00_00.mseed\u001b[0m\n",
      "\u001b[1m2025-04-02T12:11:58.358319-0700 | INFO | mth5.io.conversion | split_ms_to_days | Wrote miniseed file to: c:\\Users\\jpeacock\\OneDrive - DOI\\MTData\\CL2021\\archive\\to_dmc\\1Z_CL434__CFE_2022_10_31T21_39_58.mseed\u001b[0m\n",
      "\u001b[1m2025-04-02T12:11:58.542351-0700 | INFO | mth5.io.conversion | split_ms_to_days | Wrote miniseed file to: c:\\Users\\jpeacock\\OneDrive - DOI\\MTData\\CL2021\\archive\\to_dmc\\1Z_CL434__CFE_2022_11_01T00_00_00.mseed\u001b[0m\n",
      "\u001b[1m2025-04-02T12:11:58.624871-0700 | INFO | mth5.io.conversion | split_ms_to_days | Wrote miniseed file to: c:\\Users\\jpeacock\\OneDrive - DOI\\MTData\\CL2021\\archive\\to_dmc\\1Z_CL434__CFZ_2022_10_31T21_39_58.mseed\u001b[0m\n",
      "\u001b[1m2025-04-02T12:11:58.815904-0700 | INFO | mth5.io.conversion | split_ms_to_days | Wrote miniseed file to: c:\\Users\\jpeacock\\OneDrive - DOI\\MTData\\CL2021\\archive\\to_dmc\\1Z_CL434__CFZ_2022_11_01T00_00_00.mseed\u001b[0m\n",
      "\u001b[1m2025-04-02T12:12:02.304636-0700 | INFO | mth5.timeseries.run_ts | _align_channels | Channels do not have a common end, using latest: 2022-11-01T01:09:41.998535156\u001b[0m\n",
      "\u001b[33m\u001b[1m2025-04-02T12:12:04.515507-0700 | WARNING | mth5.timeseries.run_ts | validate_metadata | end time of dataset 2022-11-01T01:09:41.998291015+00:00 does not match metadata end 2022-11-01T01:09:41.998535156+00:00 updating metatdata value to 2022-11-01T01:09:41.998291015+00:00\u001b[0m\n"
     ]
    },
    {
     "name": "stderr",
     "output_type": "stream",
     "text": [
      "C:\\Users\\jpeacock\\OneDrive - DOI\\Documents\\GitHub\\mth5\\mth5\\timeseries\\channel_ts.py:1524: RuntimeWarning: invalid value encountered in cast\n",
      "  obspy_trace = Trace(self.ts.astype(encoding_dict[encoding]))\n"
     ]
    },
    {
     "name": "stdout",
     "output_type": "stream",
     "text": [
      "\u001b[1m2025-04-02T12:12:05.316880-0700 | INFO | mth5.io.conversion | split_ms_to_days | Wrote miniseed file to: c:\\Users\\jpeacock\\OneDrive - DOI\\MTData\\CL2021\\archive\\to_dmc\\1Z_CL434__FQN_2022_11_01T00_59_58.mseed\u001b[0m\n",
      "\u001b[1m2025-04-02T12:12:05.504881-0700 | INFO | mth5.io.conversion | split_ms_to_days | Wrote miniseed file to: c:\\Users\\jpeacock\\OneDrive - DOI\\MTData\\CL2021\\archive\\to_dmc\\1Z_CL434__FQE_2022_11_01T00_59_58.mseed\u001b[0m\n",
      "\u001b[1m2025-04-02T12:12:05.697137-0700 | INFO | mth5.io.conversion | split_ms_to_days | Wrote miniseed file to: c:\\Users\\jpeacock\\OneDrive - DOI\\MTData\\CL2021\\archive\\to_dmc\\1Z_CL434__FFN_2022_11_01T00_59_58.mseed\u001b[0m\n",
      "\u001b[1m2025-04-02T12:12:05.885715-0700 | INFO | mth5.io.conversion | split_ms_to_days | Wrote miniseed file to: c:\\Users\\jpeacock\\OneDrive - DOI\\MTData\\CL2021\\archive\\to_dmc\\1Z_CL434__FFE_2022_11_01T00_59_58.mseed\u001b[0m\n",
      "\u001b[1m2025-04-02T12:12:06.091172-0700 | INFO | mth5.io.conversion | split_ms_to_days | Wrote miniseed file to: c:\\Users\\jpeacock\\OneDrive - DOI\\MTData\\CL2021\\archive\\to_dmc\\1Z_CL434__FFZ_2022_11_01T00_59_58.mseed\u001b[0m\n",
      "\u001b[1m2025-04-02T12:12:13.878599-0700 | INFO | mth5.io.conversion | split_ms_to_days | Wrote miniseed file to: c:\\Users\\jpeacock\\OneDrive - DOI\\MTData\\CL2021\\archive\\to_dmc\\1Z_CL434__CQN_2022_11_01T01_09_58.mseed\u001b[0m\n",
      "\u001b[1m2025-04-02T12:12:14.303436-0700 | INFO | mth5.io.conversion | split_ms_to_days | Wrote miniseed file to: c:\\Users\\jpeacock\\OneDrive - DOI\\MTData\\CL2021\\archive\\to_dmc\\1Z_CL434__CQE_2022_11_01T01_09_58.mseed\u001b[0m\n",
      "\u001b[1m2025-04-02T12:12:14.743720-0700 | INFO | mth5.io.conversion | split_ms_to_days | Wrote miniseed file to: c:\\Users\\jpeacock\\OneDrive - DOI\\MTData\\CL2021\\archive\\to_dmc\\1Z_CL434__CFN_2022_11_01T01_09_58.mseed\u001b[0m\n",
      "\u001b[1m2025-04-02T12:12:15.176954-0700 | INFO | mth5.io.conversion | split_ms_to_days | Wrote miniseed file to: c:\\Users\\jpeacock\\OneDrive - DOI\\MTData\\CL2021\\archive\\to_dmc\\1Z_CL434__CFE_2022_11_01T01_09_58.mseed\u001b[0m\n",
      "\u001b[1m2025-04-02T12:12:15.619638-0700 | INFO | mth5.io.conversion | split_ms_to_days | Wrote miniseed file to: c:\\Users\\jpeacock\\OneDrive - DOI\\MTData\\CL2021\\archive\\to_dmc\\1Z_CL434__CFZ_2022_11_01T01_09_58.mseed\u001b[0m\n",
      "\u001b[1m2025-04-02T12:12:19.212390-0700 | INFO | mth5.timeseries.run_ts | _align_channels | Channels do not have a common end, using latest: 2022-11-01T07:09:41.998779296\u001b[0m\n",
      "\u001b[33m\u001b[1m2025-04-02T12:12:21.989816-0700 | WARNING | mth5.timeseries.run_ts | validate_metadata | end time of dataset 2022-11-01T07:09:41.998535156+00:00 does not match metadata end 2022-11-01T07:09:41.998779296+00:00 updating metatdata value to 2022-11-01T07:09:41.998535156+00:00\u001b[0m\n"
     ]
    },
    {
     "name": "stderr",
     "output_type": "stream",
     "text": [
      "C:\\Users\\jpeacock\\OneDrive - DOI\\Documents\\GitHub\\mth5\\mth5\\timeseries\\channel_ts.py:1524: RuntimeWarning: invalid value encountered in cast\n",
      "  obspy_trace = Trace(self.ts.astype(encoding_dict[encoding]))\n"
     ]
    },
    {
     "name": "stdout",
     "output_type": "stream",
     "text": [
      "\u001b[1m2025-04-02T12:12:22.810123-0700 | INFO | mth5.io.conversion | split_ms_to_days | Wrote miniseed file to: c:\\Users\\jpeacock\\OneDrive - DOI\\MTData\\CL2021\\archive\\to_dmc\\1Z_CL434__FQN_2022_11_01T06_59_58.mseed\u001b[0m\n",
      "\u001b[1m2025-04-02T12:12:23.000792-0700 | INFO | mth5.io.conversion | split_ms_to_days | Wrote miniseed file to: c:\\Users\\jpeacock\\OneDrive - DOI\\MTData\\CL2021\\archive\\to_dmc\\1Z_CL434__FQE_2022_11_01T06_59_58.mseed\u001b[0m\n",
      "\u001b[1m2025-04-02T12:12:23.209186-0700 | INFO | mth5.io.conversion | split_ms_to_days | Wrote miniseed file to: c:\\Users\\jpeacock\\OneDrive - DOI\\MTData\\CL2021\\archive\\to_dmc\\1Z_CL434__FFN_2022_11_01T06_59_58.mseed\u001b[0m\n",
      "\u001b[1m2025-04-02T12:12:23.398653-0700 | INFO | mth5.io.conversion | split_ms_to_days | Wrote miniseed file to: c:\\Users\\jpeacock\\OneDrive - DOI\\MTData\\CL2021\\archive\\to_dmc\\1Z_CL434__FFE_2022_11_01T06_59_58.mseed\u001b[0m\n",
      "\u001b[1m2025-04-02T12:12:23.598266-0700 | INFO | mth5.io.conversion | split_ms_to_days | Wrote miniseed file to: c:\\Users\\jpeacock\\OneDrive - DOI\\MTData\\CL2021\\archive\\to_dmc\\1Z_CL434__FFZ_2022_11_01T06_59_58.mseed\u001b[0m\n",
      "\u001b[1m2025-04-02T12:12:31.936466-0700 | INFO | mth5.io.conversion | split_ms_to_days | Wrote miniseed file to: c:\\Users\\jpeacock\\OneDrive - DOI\\MTData\\CL2021\\archive\\to_dmc\\1Z_CL434__CQN_2022_11_01T07_09_58.mseed\u001b[0m\n",
      "\u001b[1m2025-04-02T12:12:32.352900-0700 | INFO | mth5.io.conversion | split_ms_to_days | Wrote miniseed file to: c:\\Users\\jpeacock\\OneDrive - DOI\\MTData\\CL2021\\archive\\to_dmc\\1Z_CL434__CQE_2022_11_01T07_09_58.mseed\u001b[0m\n",
      "\u001b[1m2025-04-02T12:12:32.786323-0700 | INFO | mth5.io.conversion | split_ms_to_days | Wrote miniseed file to: c:\\Users\\jpeacock\\OneDrive - DOI\\MTData\\CL2021\\archive\\to_dmc\\1Z_CL434__CFN_2022_11_01T07_09_58.mseed\u001b[0m\n",
      "\u001b[1m2025-04-02T12:12:33.220727-0700 | INFO | mth5.io.conversion | split_ms_to_days | Wrote miniseed file to: c:\\Users\\jpeacock\\OneDrive - DOI\\MTData\\CL2021\\archive\\to_dmc\\1Z_CL434__CFE_2022_11_01T07_09_58.mseed\u001b[0m\n",
      "\u001b[1m2025-04-02T12:12:33.659375-0700 | INFO | mth5.io.conversion | split_ms_to_days | Wrote miniseed file to: c:\\Users\\jpeacock\\OneDrive - DOI\\MTData\\CL2021\\archive\\to_dmc\\1Z_CL434__CFZ_2022_11_01T07_09_58.mseed\u001b[0m\n",
      "\u001b[1m2025-04-02T12:12:38.528344-0700 | INFO | mth5.timeseries.run_ts | _align_channels | Channels do not have a common end, using latest: 2022-11-01T13:09:41.999268000\u001b[0m\n"
     ]
    },
    {
     "name": "stderr",
     "output_type": "stream",
     "text": [
      "C:\\Users\\jpeacock\\OneDrive - DOI\\Documents\\GitHub\\mth5\\mth5\\timeseries\\channel_ts.py:1524: RuntimeWarning: invalid value encountered in cast\n",
      "  obspy_trace = Trace(self.ts.astype(encoding_dict[encoding]))\n"
     ]
    },
    {
     "name": "stdout",
     "output_type": "stream",
     "text": [
      "\u001b[1m2025-04-02T12:12:41.452003-0700 | INFO | mth5.io.conversion | split_ms_to_days | Wrote miniseed file to: c:\\Users\\jpeacock\\OneDrive - DOI\\MTData\\CL2021\\archive\\to_dmc\\1Z_CL434__FQN_2022_11_01T12_59_58.mseed\u001b[0m\n",
      "\u001b[1m2025-04-02T12:12:41.644164-0700 | INFO | mth5.io.conversion | split_ms_to_days | Wrote miniseed file to: c:\\Users\\jpeacock\\OneDrive - DOI\\MTData\\CL2021\\archive\\to_dmc\\1Z_CL434__FQE_2022_11_01T12_59_58.mseed\u001b[0m\n",
      "\u001b[1m2025-04-02T12:12:41.838891-0700 | INFO | mth5.io.conversion | split_ms_to_days | Wrote miniseed file to: c:\\Users\\jpeacock\\OneDrive - DOI\\MTData\\CL2021\\archive\\to_dmc\\1Z_CL434__FFN_2022_11_01T12_59_58.mseed\u001b[0m\n",
      "\u001b[1m2025-04-02T12:12:42.033059-0700 | INFO | mth5.io.conversion | split_ms_to_days | Wrote miniseed file to: c:\\Users\\jpeacock\\OneDrive - DOI\\MTData\\CL2021\\archive\\to_dmc\\1Z_CL434__FFE_2022_11_01T12_59_58.mseed\u001b[0m\n",
      "\u001b[1m2025-04-02T12:12:42.226131-0700 | INFO | mth5.io.conversion | split_ms_to_days | Wrote miniseed file to: c:\\Users\\jpeacock\\OneDrive - DOI\\MTData\\CL2021\\archive\\to_dmc\\1Z_CL434__FFZ_2022_11_01T12_59_58.mseed\u001b[0m\n",
      "\u001b[1m2025-04-02T12:12:48.594300-0700 | INFO | mth5.io.conversion | split_ms_to_days | Wrote miniseed file to: c:\\Users\\jpeacock\\OneDrive - DOI\\MTData\\CL2021\\archive\\to_dmc\\1Z_CL434__CQN_2022_11_01T13_09_58.mseed\u001b[0m\n",
      "\u001b[1m2025-04-02T12:12:48.835958-0700 | INFO | mth5.io.conversion | split_ms_to_days | Wrote miniseed file to: c:\\Users\\jpeacock\\OneDrive - DOI\\MTData\\CL2021\\archive\\to_dmc\\1Z_CL434__CQE_2022_11_01T13_09_58.mseed\u001b[0m\n",
      "\u001b[1m2025-04-02T12:12:49.080178-0700 | INFO | mth5.io.conversion | split_ms_to_days | Wrote miniseed file to: c:\\Users\\jpeacock\\OneDrive - DOI\\MTData\\CL2021\\archive\\to_dmc\\1Z_CL434__CFN_2022_11_01T13_09_58.mseed\u001b[0m\n",
      "\u001b[1m2025-04-02T12:12:49.316118-0700 | INFO | mth5.io.conversion | split_ms_to_days | Wrote miniseed file to: c:\\Users\\jpeacock\\OneDrive - DOI\\MTData\\CL2021\\archive\\to_dmc\\1Z_CL434__CFE_2022_11_01T13_09_58.mseed\u001b[0m\n",
      "\u001b[1m2025-04-02T12:12:49.564377-0700 | INFO | mth5.io.conversion | split_ms_to_days | Wrote miniseed file to: c:\\Users\\jpeacock\\OneDrive - DOI\\MTData\\CL2021\\archive\\to_dmc\\1Z_CL434__CFZ_2022_11_01T13_09_58.mseed\u001b[0m\n",
      "\u001b[1m2025-04-02T12:12:51.070111-0700 | INFO | mth5.mth5 | close_mth5 | Flushing and closing c:\\Users\\jpeacock\\OneDrive - DOI\\MTData\\CL2021\\archive\\cl434.h5\u001b[0m\n",
      "\u001b[33m\u001b[1m2025-04-02T12:12:51.073628-0700 | WARNING | mt_metadata.timeseries.stationxml.xml_station_mt_station | mt_to_xml | Station.geographic_name is None, using Station.id = cl434.Check StationXML site.name.\u001b[0m\n",
      "\u001b[1m2025-04-02T12:12:51.157219-0700 | INFO | mt_metadata.timeseries.filters.channel_response | to_obspy | total sensitivity 104957842879.94406 != total gain 1048576000.000055. Using total_gain.\u001b[0m\n",
      "\u001b[1m2025-04-02T12:12:51.186184-0700 | INFO | mt_metadata.timeseries.filters.channel_response | to_obspy | total sensitivity 99528330172.17546 != total gain 1048576000.000055. Using total_gain.\u001b[0m\n",
      "\u001b[1m2025-04-02T12:12:51.217192-0700 | INFO | mt_metadata.timeseries.filters.channel_response | to_obspy | total sensitivity 104398743147.64836 != total gain 1048576000.000055. Using total_gain.\u001b[0m\n",
      "\u001b[1m2025-04-02T12:12:51.308782-0700 | INFO | mt_metadata.timeseries.filters.channel_response | to_obspy | total sensitivity 104957842879.94406 != total gain 1048576000.000055. Using total_gain.\u001b[0m\n",
      "\u001b[1m2025-04-02T12:12:51.343329-0700 | INFO | mt_metadata.timeseries.filters.channel_response | to_obspy | total sensitivity 99528330172.17546 != total gain 1048576000.000055. Using total_gain.\u001b[0m\n",
      "\u001b[1m2025-04-02T12:12:51.378331-0700 | INFO | mt_metadata.timeseries.filters.channel_response | to_obspy | total sensitivity 104398743147.64836 != total gain 1048576000.000055. Using total_gain.\u001b[0m\n",
      "\u001b[1m2025-04-02T12:12:51.488854-0700 | INFO | mt_metadata.timeseries.filters.channel_response | to_obspy | total sensitivity 104957842879.94406 != total gain 1048576000.000055. Using total_gain.\u001b[0m\n",
      "\u001b[1m2025-04-02T12:12:51.523856-0700 | INFO | mt_metadata.timeseries.filters.channel_response | to_obspy | total sensitivity 99528330172.17546 != total gain 1048576000.000055. Using total_gain.\u001b[0m\n",
      "\u001b[1m2025-04-02T12:12:51.553366-0700 | INFO | mt_metadata.timeseries.filters.channel_response | to_obspy | total sensitivity 104398743147.64836 != total gain 1048576000.000055. Using total_gain.\u001b[0m\n",
      "\u001b[1m2025-04-02T12:12:51.654881-0700 | INFO | mt_metadata.timeseries.filters.channel_response | to_obspy | total sensitivity 104957842879.94406 != total gain 1048576000.000055. Using total_gain.\u001b[0m\n",
      "\u001b[1m2025-04-02T12:12:51.689881-0700 | INFO | mt_metadata.timeseries.filters.channel_response | to_obspy | total sensitivity 99528330172.17546 != total gain 1048576000.000055. Using total_gain.\u001b[0m\n",
      "\u001b[1m2025-04-02T12:12:51.718887-0700 | INFO | mt_metadata.timeseries.filters.channel_response | to_obspy | total sensitivity 104398743147.64836 != total gain 1048576000.000055. Using total_gain.\u001b[0m\n",
      "\u001b[1m2025-04-02T12:12:51.821405-0700 | INFO | mt_metadata.timeseries.filters.channel_response | to_obspy | total sensitivity 104957842879.94406 != total gain 1048576000.000055. Using total_gain.\u001b[0m\n",
      "\u001b[1m2025-04-02T12:12:51.850893-0700 | INFO | mt_metadata.timeseries.filters.channel_response | to_obspy | total sensitivity 99528330172.17546 != total gain 1048576000.000055. Using total_gain.\u001b[0m\n",
      "\u001b[1m2025-04-02T12:12:51.879003-0700 | INFO | mt_metadata.timeseries.filters.channel_response | to_obspy | total sensitivity 104398743147.64836 != total gain 1048576000.000055. Using total_gain.\u001b[0m\n",
      "\u001b[1m2025-04-02T12:12:51.968563-0700 | INFO | mt_metadata.timeseries.filters.channel_response | to_obspy | total sensitivity 104957842879.94406 != total gain 1048576000.000055. Using total_gain.\u001b[0m\n",
      "\u001b[1m2025-04-02T12:12:51.997531-0700 | INFO | mt_metadata.timeseries.filters.channel_response | to_obspy | total sensitivity 99528330172.17546 != total gain 1048576000.000055. Using total_gain.\u001b[0m\n",
      "\u001b[1m2025-04-02T12:12:52.033132-0700 | INFO | mt_metadata.timeseries.filters.channel_response | to_obspy | total sensitivity 104398743147.64836 != total gain 1048576000.000055. Using total_gain.\u001b[0m\n",
      "\u001b[1m2025-04-02T12:12:52.122111-0700 | INFO | mt_metadata.timeseries.filters.channel_response | to_obspy | total sensitivity 104957842879.94406 != total gain 1048576000.000055. Using total_gain.\u001b[0m\n",
      "\u001b[1m2025-04-02T12:12:52.152624-0700 | INFO | mt_metadata.timeseries.filters.channel_response | to_obspy | total sensitivity 99528330172.17546 != total gain 1048576000.000055. Using total_gain.\u001b[0m\n",
      "\u001b[1m2025-04-02T12:12:52.181624-0700 | INFO | mt_metadata.timeseries.filters.channel_response | to_obspy | total sensitivity 104398743147.64836 != total gain 1048576000.000055. Using total_gain.\u001b[0m\n",
      "\u001b[1m2025-04-02T12:12:52.275887-0700 | INFO | mt_metadata.timeseries.filters.channel_response | to_obspy | total sensitivity 104957842879.94406 != total gain 1048576000.000055. Using total_gain.\u001b[0m\n",
      "\u001b[1m2025-04-02T12:12:52.303853-0700 | INFO | mt_metadata.timeseries.filters.channel_response | to_obspy | total sensitivity 99528330172.17546 != total gain 1048576000.000055. Using total_gain.\u001b[0m\n",
      "\u001b[1m2025-04-02T12:12:52.332381-0700 | INFO | mt_metadata.timeseries.filters.channel_response | to_obspy | total sensitivity 104398743147.64836 != total gain 1048576000.000055. Using total_gain.\u001b[0m\n",
      "\u001b[1m2025-04-02T12:12:52.367402-0700 | INFO | mth5.io.conversion | convert_mth5_to_ms_stationxml | Wrote StationXML to c:\\Users\\jpeacock\\OneDrive - DOI\\MTData\\CL2021\\archive\\to_dmc\\cl434.xml\u001b[0m\n",
      "\u001b[33m\u001b[1m2025-04-02T12:12:55.358346-0700 | WARNING | mt_metadata.timeseries.station | remove_run | Could not find cl435a to remove.\u001b[0m\n"
     ]
    },
    {
     "name": "stderr",
     "output_type": "stream",
     "text": [
      "C:\\Users\\jpeacock\\OneDrive - DOI\\Documents\\GitHub\\mth5\\mth5\\timeseries\\channel_ts.py:1524: RuntimeWarning: invalid value encountered in cast\n",
      "  obspy_trace = Trace(self.ts.astype(encoding_dict[encoding]))\n"
     ]
    },
    {
     "name": "stdout",
     "output_type": "stream",
     "text": [
      "\u001b[1m2025-04-02T12:12:59.983282-0700 | INFO | mth5.io.conversion | split_ms_to_days | Wrote miniseed file to: c:\\Users\\jpeacock\\OneDrive - DOI\\MTData\\CL2021\\archive\\to_dmc\\1Z_CL435__LQN_2022_10_31T20_29_58.mseed\u001b[0m\n",
      "\u001b[1m2025-04-02T12:12:59.988282-0700 | INFO | mth5.io.conversion | split_ms_to_days | Wrote miniseed file to: c:\\Users\\jpeacock\\OneDrive - DOI\\MTData\\CL2021\\archive\\to_dmc\\1Z_CL435__LQN_2022_11_01T00_00_00.mseed\u001b[0m\n",
      "\u001b[1m2025-04-02T12:13:00.000279-0700 | INFO | mth5.io.conversion | split_ms_to_days | Wrote miniseed file to: c:\\Users\\jpeacock\\OneDrive - DOI\\MTData\\CL2021\\archive\\to_dmc\\1Z_CL435__LQN_2022_11_02T00_00_00.mseed\u001b[0m\n",
      "\u001b[1m2025-04-02T12:13:00.011284-0700 | INFO | mth5.io.conversion | split_ms_to_days | Wrote miniseed file to: c:\\Users\\jpeacock\\OneDrive - DOI\\MTData\\CL2021\\archive\\to_dmc\\1Z_CL435__LQN_2022_11_03T00_00_00.mseed\u001b[0m\n",
      "\u001b[1m2025-04-02T12:13:00.031292-0700 | INFO | mth5.io.conversion | split_ms_to_days | Wrote miniseed file to: c:\\Users\\jpeacock\\OneDrive - DOI\\MTData\\CL2021\\archive\\to_dmc\\1Z_CL435__LQN_2022_11_04T00_00_00.mseed\u001b[0m\n",
      "\u001b[1m2025-04-02T12:13:00.044781-0700 | INFO | mth5.io.conversion | split_ms_to_days | Wrote miniseed file to: c:\\Users\\jpeacock\\OneDrive - DOI\\MTData\\CL2021\\archive\\to_dmc\\1Z_CL435__LQE_2022_10_31T20_29_58.mseed\u001b[0m\n",
      "\u001b[1m2025-04-02T12:13:00.049782-0700 | INFO | mth5.io.conversion | split_ms_to_days | Wrote miniseed file to: c:\\Users\\jpeacock\\OneDrive - DOI\\MTData\\CL2021\\archive\\to_dmc\\1Z_CL435__LQE_2022_11_01T00_00_00.mseed\u001b[0m\n",
      "\u001b[1m2025-04-02T12:13:00.062779-0700 | INFO | mth5.io.conversion | split_ms_to_days | Wrote miniseed file to: c:\\Users\\jpeacock\\OneDrive - DOI\\MTData\\CL2021\\archive\\to_dmc\\1Z_CL435__LQE_2022_11_02T00_00_00.mseed\u001b[0m\n",
      "\u001b[1m2025-04-02T12:13:00.075781-0700 | INFO | mth5.io.conversion | split_ms_to_days | Wrote miniseed file to: c:\\Users\\jpeacock\\OneDrive - DOI\\MTData\\CL2021\\archive\\to_dmc\\1Z_CL435__LQE_2022_11_03T00_00_00.mseed\u001b[0m\n",
      "\u001b[1m2025-04-02T12:13:00.091781-0700 | INFO | mth5.io.conversion | split_ms_to_days | Wrote miniseed file to: c:\\Users\\jpeacock\\OneDrive - DOI\\MTData\\CL2021\\archive\\to_dmc\\1Z_CL435__LQE_2022_11_04T00_00_00.mseed\u001b[0m\n",
      "\u001b[1m2025-04-02T12:13:00.099783-0700 | INFO | mth5.io.conversion | split_ms_to_days | Wrote miniseed file to: c:\\Users\\jpeacock\\OneDrive - DOI\\MTData\\CL2021\\archive\\to_dmc\\1Z_CL435__LFN_2022_10_31T20_29_58.mseed\u001b[0m\n",
      "\u001b[1m2025-04-02T12:13:00.115781-0700 | INFO | mth5.io.conversion | split_ms_to_days | Wrote miniseed file to: c:\\Users\\jpeacock\\OneDrive - DOI\\MTData\\CL2021\\archive\\to_dmc\\1Z_CL435__LFN_2022_11_01T00_00_00.mseed\u001b[0m\n",
      "\u001b[1m2025-04-02T12:13:00.124795-0700 | INFO | mth5.io.conversion | split_ms_to_days | Wrote miniseed file to: c:\\Users\\jpeacock\\OneDrive - DOI\\MTData\\CL2021\\archive\\to_dmc\\1Z_CL435__LFN_2022_11_02T00_00_00.mseed\u001b[0m\n",
      "\u001b[1m2025-04-02T12:13:00.139311-0700 | INFO | mth5.io.conversion | split_ms_to_days | Wrote miniseed file to: c:\\Users\\jpeacock\\OneDrive - DOI\\MTData\\CL2021\\archive\\to_dmc\\1Z_CL435__LFN_2022_11_03T00_00_00.mseed\u001b[0m\n",
      "\u001b[1m2025-04-02T12:13:00.147311-0700 | INFO | mth5.io.conversion | split_ms_to_days | Wrote miniseed file to: c:\\Users\\jpeacock\\OneDrive - DOI\\MTData\\CL2021\\archive\\to_dmc\\1Z_CL435__LFN_2022_11_04T00_00_00.mseed\u001b[0m\n",
      "\u001b[1m2025-04-02T12:13:00.159307-0700 | INFO | mth5.io.conversion | split_ms_to_days | Wrote miniseed file to: c:\\Users\\jpeacock\\OneDrive - DOI\\MTData\\CL2021\\archive\\to_dmc\\1Z_CL435__LFE_2022_10_31T20_29_58.mseed\u001b[0m\n",
      "\u001b[1m2025-04-02T12:13:00.163314-0700 | INFO | mth5.io.conversion | split_ms_to_days | Wrote miniseed file to: c:\\Users\\jpeacock\\OneDrive - DOI\\MTData\\CL2021\\archive\\to_dmc\\1Z_CL435__LFE_2022_11_01T00_00_00.mseed\u001b[0m\n",
      "\u001b[1m2025-04-02T12:13:00.174311-0700 | INFO | mth5.io.conversion | split_ms_to_days | Wrote miniseed file to: c:\\Users\\jpeacock\\OneDrive - DOI\\MTData\\CL2021\\archive\\to_dmc\\1Z_CL435__LFE_2022_11_02T00_00_00.mseed\u001b[0m\n",
      "\u001b[1m2025-04-02T12:13:00.184307-0700 | INFO | mth5.io.conversion | split_ms_to_days | Wrote miniseed file to: c:\\Users\\jpeacock\\OneDrive - DOI\\MTData\\CL2021\\archive\\to_dmc\\1Z_CL435__LFE_2022_11_03T00_00_00.mseed\u001b[0m\n",
      "\u001b[1m2025-04-02T12:13:00.195307-0700 | INFO | mth5.io.conversion | split_ms_to_days | Wrote miniseed file to: c:\\Users\\jpeacock\\OneDrive - DOI\\MTData\\CL2021\\archive\\to_dmc\\1Z_CL435__LFE_2022_11_04T00_00_00.mseed\u001b[0m\n",
      "\u001b[1m2025-04-02T12:13:00.202340-0700 | INFO | mth5.io.conversion | split_ms_to_days | Wrote miniseed file to: c:\\Users\\jpeacock\\OneDrive - DOI\\MTData\\CL2021\\archive\\to_dmc\\1Z_CL435__LFZ_2022_10_31T20_29_58.mseed\u001b[0m\n",
      "\u001b[1m2025-04-02T12:13:00.206347-0700 | INFO | mth5.io.conversion | split_ms_to_days | Wrote miniseed file to: c:\\Users\\jpeacock\\OneDrive - DOI\\MTData\\CL2021\\archive\\to_dmc\\1Z_CL435__LFZ_2022_11_01T00_00_00.mseed\u001b[0m\n",
      "\u001b[1m2025-04-02T12:13:00.217308-0700 | INFO | mth5.io.conversion | split_ms_to_days | Wrote miniseed file to: c:\\Users\\jpeacock\\OneDrive - DOI\\MTData\\CL2021\\archive\\to_dmc\\1Z_CL435__LFZ_2022_11_02T00_00_00.mseed\u001b[0m\n",
      "\u001b[1m2025-04-02T12:13:00.227315-0700 | INFO | mth5.io.conversion | split_ms_to_days | Wrote miniseed file to: c:\\Users\\jpeacock\\OneDrive - DOI\\MTData\\CL2021\\archive\\to_dmc\\1Z_CL435__LFZ_2022_11_03T00_00_00.mseed\u001b[0m\n",
      "\u001b[1m2025-04-02T12:13:00.236314-0700 | INFO | mth5.io.conversion | split_ms_to_days | Wrote miniseed file to: c:\\Users\\jpeacock\\OneDrive - DOI\\MTData\\CL2021\\archive\\to_dmc\\1Z_CL435__LFZ_2022_11_04T00_00_00.mseed\u001b[0m\n",
      "\u001b[1m2025-04-02T12:13:07.547007-0700 | INFO | mth5.io.conversion | split_ms_to_days | Wrote miniseed file to: c:\\Users\\jpeacock\\OneDrive - DOI\\MTData\\CL2021\\archive\\to_dmc\\1Z_CL435__CQN_2022_10_31T20_29_58.mseed\u001b[0m\n",
      "\u001b[1m2025-04-02T12:13:07.810217-0700 | INFO | mth5.io.conversion | split_ms_to_days | Wrote miniseed file to: c:\\Users\\jpeacock\\OneDrive - DOI\\MTData\\CL2021\\archive\\to_dmc\\1Z_CL435__CQN_2022_11_01T00_00_00.mseed\u001b[0m\n",
      "\u001b[1m2025-04-02T12:13:07.885818-0700 | INFO | mth5.io.conversion | split_ms_to_days | Wrote miniseed file to: c:\\Users\\jpeacock\\OneDrive - DOI\\MTData\\CL2021\\archive\\to_dmc\\1Z_CL435__CQE_2022_10_31T20_29_58.mseed\u001b[0m\n",
      "\u001b[1m2025-04-02T12:13:08.149853-0700 | INFO | mth5.io.conversion | split_ms_to_days | Wrote miniseed file to: c:\\Users\\jpeacock\\OneDrive - DOI\\MTData\\CL2021\\archive\\to_dmc\\1Z_CL435__CQE_2022_11_01T00_00_00.mseed\u001b[0m\n",
      "\u001b[1m2025-04-02T12:13:08.225865-0700 | INFO | mth5.io.conversion | split_ms_to_days | Wrote miniseed file to: c:\\Users\\jpeacock\\OneDrive - DOI\\MTData\\CL2021\\archive\\to_dmc\\1Z_CL435__CFN_2022_10_31T20_29_58.mseed\u001b[0m\n",
      "\u001b[1m2025-04-02T12:13:08.509559-0700 | INFO | mth5.io.conversion | split_ms_to_days | Wrote miniseed file to: c:\\Users\\jpeacock\\OneDrive - DOI\\MTData\\CL2021\\archive\\to_dmc\\1Z_CL435__CFN_2022_11_01T00_00_00.mseed\u001b[0m\n",
      "\u001b[1m2025-04-02T12:13:08.595082-0700 | INFO | mth5.io.conversion | split_ms_to_days | Wrote miniseed file to: c:\\Users\\jpeacock\\OneDrive - DOI\\MTData\\CL2021\\archive\\to_dmc\\1Z_CL435__CFE_2022_10_31T20_29_58.mseed\u001b[0m\n",
      "\u001b[1m2025-04-02T12:13:08.894593-0700 | INFO | mth5.io.conversion | split_ms_to_days | Wrote miniseed file to: c:\\Users\\jpeacock\\OneDrive - DOI\\MTData\\CL2021\\archive\\to_dmc\\1Z_CL435__CFE_2022_11_01T00_00_00.mseed\u001b[0m\n",
      "\u001b[1m2025-04-02T12:13:08.973870-0700 | INFO | mth5.io.conversion | split_ms_to_days | Wrote miniseed file to: c:\\Users\\jpeacock\\OneDrive - DOI\\MTData\\CL2021\\archive\\to_dmc\\1Z_CL435__CFZ_2022_10_31T20_29_58.mseed\u001b[0m\n",
      "\u001b[1m2025-04-02T12:13:09.247820-0700 | INFO | mth5.io.conversion | split_ms_to_days | Wrote miniseed file to: c:\\Users\\jpeacock\\OneDrive - DOI\\MTData\\CL2021\\archive\\to_dmc\\1Z_CL435__CFZ_2022_11_01T00_00_00.mseed\u001b[0m\n",
      "\u001b[1m2025-04-02T12:13:13.479768-0700 | INFO | mth5.timeseries.run_ts | _align_channels | Channels do not have a common end, using latest: 2022-11-01T01:09:41.998779296\u001b[0m\n",
      "\u001b[33m\u001b[1m2025-04-02T12:13:16.333621-0700 | WARNING | mth5.timeseries.run_ts | validate_metadata | end time of dataset 2022-11-01T01:09:41.998535156+00:00 does not match metadata end 2022-11-01T01:09:41.998779296+00:00 updating metatdata value to 2022-11-01T01:09:41.998535156+00:00\u001b[0m\n"
     ]
    },
    {
     "name": "stderr",
     "output_type": "stream",
     "text": [
      "C:\\Users\\jpeacock\\OneDrive - DOI\\Documents\\GitHub\\mth5\\mth5\\timeseries\\channel_ts.py:1524: RuntimeWarning: invalid value encountered in cast\n",
      "  obspy_trace = Trace(self.ts.astype(encoding_dict[encoding]))\n"
     ]
    },
    {
     "name": "stdout",
     "output_type": "stream",
     "text": [
      "\u001b[1m2025-04-02T12:13:17.091481-0700 | INFO | mth5.io.conversion | split_ms_to_days | Wrote miniseed file to: c:\\Users\\jpeacock\\OneDrive - DOI\\MTData\\CL2021\\archive\\to_dmc\\1Z_CL435__FQN_2022_11_01T00_59_58.mseed\u001b[0m\n",
      "\u001b[1m2025-04-02T12:13:17.304795-0700 | INFO | mth5.io.conversion | split_ms_to_days | Wrote miniseed file to: c:\\Users\\jpeacock\\OneDrive - DOI\\MTData\\CL2021\\archive\\to_dmc\\1Z_CL435__FQE_2022_11_01T00_59_58.mseed\u001b[0m\n",
      "\u001b[1m2025-04-02T12:13:17.572253-0700 | INFO | mth5.io.conversion | split_ms_to_days | Wrote miniseed file to: c:\\Users\\jpeacock\\OneDrive - DOI\\MTData\\CL2021\\archive\\to_dmc\\1Z_CL435__FFN_2022_11_01T00_59_58.mseed\u001b[0m\n",
      "\u001b[1m2025-04-02T12:13:17.802312-0700 | INFO | mth5.io.conversion | split_ms_to_days | Wrote miniseed file to: c:\\Users\\jpeacock\\OneDrive - DOI\\MTData\\CL2021\\archive\\to_dmc\\1Z_CL435__FFE_2022_11_01T00_59_58.mseed\u001b[0m\n",
      "\u001b[1m2025-04-02T12:13:18.062273-0700 | INFO | mth5.io.conversion | split_ms_to_days | Wrote miniseed file to: c:\\Users\\jpeacock\\OneDrive - DOI\\MTData\\CL2021\\archive\\to_dmc\\1Z_CL435__FFZ_2022_11_01T00_59_58.mseed\u001b[0m\n",
      "\u001b[1m2025-04-02T12:13:26.844000-0700 | INFO | mth5.io.conversion | split_ms_to_days | Wrote miniseed file to: c:\\Users\\jpeacock\\OneDrive - DOI\\MTData\\CL2021\\archive\\to_dmc\\1Z_CL435__CQN_2022_11_01T01_09_58.mseed\u001b[0m\n",
      "\u001b[1m2025-04-02T12:13:27.275852-0700 | INFO | mth5.io.conversion | split_ms_to_days | Wrote miniseed file to: c:\\Users\\jpeacock\\OneDrive - DOI\\MTData\\CL2021\\archive\\to_dmc\\1Z_CL435__CQE_2022_11_01T01_09_58.mseed\u001b[0m\n",
      "\u001b[1m2025-04-02T12:13:27.719598-0700 | INFO | mth5.io.conversion | split_ms_to_days | Wrote miniseed file to: c:\\Users\\jpeacock\\OneDrive - DOI\\MTData\\CL2021\\archive\\to_dmc\\1Z_CL435__CFN_2022_11_01T01_09_58.mseed\u001b[0m\n",
      "\u001b[1m2025-04-02T12:13:28.150028-0700 | INFO | mth5.io.conversion | split_ms_to_days | Wrote miniseed file to: c:\\Users\\jpeacock\\OneDrive - DOI\\MTData\\CL2021\\archive\\to_dmc\\1Z_CL435__CFE_2022_11_01T01_09_58.mseed\u001b[0m\n",
      "\u001b[1m2025-04-02T12:13:28.597135-0700 | INFO | mth5.io.conversion | split_ms_to_days | Wrote miniseed file to: c:\\Users\\jpeacock\\OneDrive - DOI\\MTData\\CL2021\\archive\\to_dmc\\1Z_CL435__CFZ_2022_11_01T01_09_58.mseed\u001b[0m\n",
      "\u001b[1m2025-04-02T12:13:33.315451-0700 | INFO | mth5.timeseries.run_ts | _align_channels | Channels do not have a common end, using latest: 2022-11-01T07:09:41.999268000\u001b[0m\n"
     ]
    },
    {
     "name": "stderr",
     "output_type": "stream",
     "text": [
      "C:\\Users\\jpeacock\\OneDrive - DOI\\Documents\\GitHub\\mth5\\mth5\\timeseries\\channel_ts.py:1524: RuntimeWarning: invalid value encountered in cast\n",
      "  obspy_trace = Trace(self.ts.astype(encoding_dict[encoding]))\n"
     ]
    },
    {
     "name": "stdout",
     "output_type": "stream",
     "text": [
      "\u001b[1m2025-04-02T12:13:36.277005-0700 | INFO | mth5.io.conversion | split_ms_to_days | Wrote miniseed file to: c:\\Users\\jpeacock\\OneDrive - DOI\\MTData\\CL2021\\archive\\to_dmc\\1Z_CL435__FQN_2022_11_01T06_59_58.mseed\u001b[0m\n",
      "\u001b[1m2025-04-02T12:13:36.470030-0700 | INFO | mth5.io.conversion | split_ms_to_days | Wrote miniseed file to: c:\\Users\\jpeacock\\OneDrive - DOI\\MTData\\CL2021\\archive\\to_dmc\\1Z_CL435__FQE_2022_11_01T06_59_58.mseed\u001b[0m\n",
      "\u001b[1m2025-04-02T12:13:36.656548-0700 | INFO | mth5.io.conversion | split_ms_to_days | Wrote miniseed file to: c:\\Users\\jpeacock\\OneDrive - DOI\\MTData\\CL2021\\archive\\to_dmc\\1Z_CL435__FFN_2022_11_01T06_59_58.mseed\u001b[0m\n",
      "\u001b[1m2025-04-02T12:13:36.842567-0700 | INFO | mth5.io.conversion | split_ms_to_days | Wrote miniseed file to: c:\\Users\\jpeacock\\OneDrive - DOI\\MTData\\CL2021\\archive\\to_dmc\\1Z_CL435__FFE_2022_11_01T06_59_58.mseed\u001b[0m\n",
      "\u001b[1m2025-04-02T12:13:37.037603-0700 | INFO | mth5.io.conversion | split_ms_to_days | Wrote miniseed file to: c:\\Users\\jpeacock\\OneDrive - DOI\\MTData\\CL2021\\archive\\to_dmc\\1Z_CL435__FFZ_2022_11_01T06_59_58.mseed\u001b[0m\n",
      "\u001b[1m2025-04-02T12:13:45.414808-0700 | INFO | mth5.io.conversion | split_ms_to_days | Wrote miniseed file to: c:\\Users\\jpeacock\\OneDrive - DOI\\MTData\\CL2021\\archive\\to_dmc\\1Z_CL435__CQN_2022_11_01T07_09_58.mseed\u001b[0m\n",
      "\u001b[1m2025-04-02T12:13:45.862833-0700 | INFO | mth5.io.conversion | split_ms_to_days | Wrote miniseed file to: c:\\Users\\jpeacock\\OneDrive - DOI\\MTData\\CL2021\\archive\\to_dmc\\1Z_CL435__CQE_2022_11_01T07_09_58.mseed\u001b[0m\n",
      "\u001b[1m2025-04-02T12:13:46.352400-0700 | INFO | mth5.io.conversion | split_ms_to_days | Wrote miniseed file to: c:\\Users\\jpeacock\\OneDrive - DOI\\MTData\\CL2021\\archive\\to_dmc\\1Z_CL435__CFN_2022_11_01T07_09_58.mseed\u001b[0m\n",
      "\u001b[1m2025-04-02T12:13:46.831275-0700 | INFO | mth5.io.conversion | split_ms_to_days | Wrote miniseed file to: c:\\Users\\jpeacock\\OneDrive - DOI\\MTData\\CL2021\\archive\\to_dmc\\1Z_CL435__CFE_2022_11_01T07_09_58.mseed\u001b[0m\n",
      "\u001b[1m2025-04-02T12:13:47.290125-0700 | INFO | mth5.io.conversion | split_ms_to_days | Wrote miniseed file to: c:\\Users\\jpeacock\\OneDrive - DOI\\MTData\\CL2021\\archive\\to_dmc\\1Z_CL435__CFZ_2022_11_01T07_09_58.mseed\u001b[0m\n",
      "\u001b[1m2025-04-02T12:13:52.269586-0700 | INFO | mth5.timeseries.run_ts | _align_channels | Channels do not have a common end, using latest: 2022-11-01T13:09:41.999023437\u001b[0m\n",
      "\u001b[33m\u001b[1m2025-04-02T12:13:54.989549-0700 | WARNING | mth5.timeseries.run_ts | validate_metadata | end time of dataset 2022-11-01T13:09:41.998779296+00:00 does not match metadata end 2022-11-01T13:09:41.999023437+00:00 updating metatdata value to 2022-11-01T13:09:41.998779296+00:00\u001b[0m\n"
     ]
    },
    {
     "name": "stderr",
     "output_type": "stream",
     "text": [
      "C:\\Users\\jpeacock\\OneDrive - DOI\\Documents\\GitHub\\mth5\\mth5\\timeseries\\channel_ts.py:1524: RuntimeWarning: invalid value encountered in cast\n",
      "  obspy_trace = Trace(self.ts.astype(encoding_dict[encoding]))\n"
     ]
    },
    {
     "name": "stdout",
     "output_type": "stream",
     "text": [
      "\u001b[1m2025-04-02T12:13:55.738435-0700 | INFO | mth5.io.conversion | split_ms_to_days | Wrote miniseed file to: c:\\Users\\jpeacock\\OneDrive - DOI\\MTData\\CL2021\\archive\\to_dmc\\1Z_CL435__FQN_2022_11_01T12_59_58.mseed\u001b[0m\n",
      "\u001b[1m2025-04-02T12:13:55.929540-0700 | INFO | mth5.io.conversion | split_ms_to_days | Wrote miniseed file to: c:\\Users\\jpeacock\\OneDrive - DOI\\MTData\\CL2021\\archive\\to_dmc\\1Z_CL435__FQE_2022_11_01T12_59_58.mseed\u001b[0m\n",
      "\u001b[1m2025-04-02T12:13:56.147610-0700 | INFO | mth5.io.conversion | split_ms_to_days | Wrote miniseed file to: c:\\Users\\jpeacock\\OneDrive - DOI\\MTData\\CL2021\\archive\\to_dmc\\1Z_CL435__FFN_2022_11_01T12_59_58.mseed\u001b[0m\n",
      "\u001b[1m2025-04-02T12:13:56.336827-0700 | INFO | mth5.io.conversion | split_ms_to_days | Wrote miniseed file to: c:\\Users\\jpeacock\\OneDrive - DOI\\MTData\\CL2021\\archive\\to_dmc\\1Z_CL435__FFE_2022_11_01T12_59_58.mseed\u001b[0m\n",
      "\u001b[1m2025-04-02T12:13:56.528833-0700 | INFO | mth5.io.conversion | split_ms_to_days | Wrote miniseed file to: c:\\Users\\jpeacock\\OneDrive - DOI\\MTData\\CL2021\\archive\\to_dmc\\1Z_CL435__FFZ_2022_11_01T12_59_58.mseed\u001b[0m\n",
      "\u001b[1m2025-04-02T12:14:02.766258-0700 | INFO | mth5.io.conversion | split_ms_to_days | Wrote miniseed file to: c:\\Users\\jpeacock\\OneDrive - DOI\\MTData\\CL2021\\archive\\to_dmc\\1Z_CL435__CQN_2022_11_01T13_09_58.mseed\u001b[0m\n",
      "\u001b[1m2025-04-02T12:14:02.961850-0700 | INFO | mth5.io.conversion | split_ms_to_days | Wrote miniseed file to: c:\\Users\\jpeacock\\OneDrive - DOI\\MTData\\CL2021\\archive\\to_dmc\\1Z_CL435__CQE_2022_11_01T13_09_58.mseed\u001b[0m\n",
      "\u001b[1m2025-04-02T12:14:03.159733-0700 | INFO | mth5.io.conversion | split_ms_to_days | Wrote miniseed file to: c:\\Users\\jpeacock\\OneDrive - DOI\\MTData\\CL2021\\archive\\to_dmc\\1Z_CL435__CFN_2022_11_01T13_09_58.mseed\u001b[0m\n",
      "\u001b[1m2025-04-02T12:14:03.352853-0700 | INFO | mth5.io.conversion | split_ms_to_days | Wrote miniseed file to: c:\\Users\\jpeacock\\OneDrive - DOI\\MTData\\CL2021\\archive\\to_dmc\\1Z_CL435__CFE_2022_11_01T13_09_58.mseed\u001b[0m\n",
      "\u001b[1m2025-04-02T12:14:03.549977-0700 | INFO | mth5.io.conversion | split_ms_to_days | Wrote miniseed file to: c:\\Users\\jpeacock\\OneDrive - DOI\\MTData\\CL2021\\archive\\to_dmc\\1Z_CL435__CFZ_2022_11_01T13_09_58.mseed\u001b[0m\n",
      "\u001b[1m2025-04-02T12:14:10.743939-0700 | INFO | mth5.io.conversion | split_ms_to_days | Wrote miniseed file to: c:\\Users\\jpeacock\\OneDrive - DOI\\MTData\\CL2021\\archive\\to_dmc\\1Z_CL435__CQN_2022_11_03T21_49_58.mseed\u001b[0m\n",
      "\u001b[1m2025-04-02T12:14:10.905400-0700 | INFO | mth5.io.conversion | split_ms_to_days | Wrote miniseed file to: c:\\Users\\jpeacock\\OneDrive - DOI\\MTData\\CL2021\\archive\\to_dmc\\1Z_CL435__CQN_2022_11_04T00_00_00.mseed\u001b[0m\n",
      "\u001b[1m2025-04-02T12:14:10.978467-0700 | INFO | mth5.io.conversion | split_ms_to_days | Wrote miniseed file to: c:\\Users\\jpeacock\\OneDrive - DOI\\MTData\\CL2021\\archive\\to_dmc\\1Z_CL435__CQE_2022_11_03T21_49_58.mseed\u001b[0m\n",
      "\u001b[1m2025-04-02T12:14:11.138468-0700 | INFO | mth5.io.conversion | split_ms_to_days | Wrote miniseed file to: c:\\Users\\jpeacock\\OneDrive - DOI\\MTData\\CL2021\\archive\\to_dmc\\1Z_CL435__CQE_2022_11_04T00_00_00.mseed\u001b[0m\n",
      "\u001b[1m2025-04-02T12:14:11.211094-0700 | INFO | mth5.io.conversion | split_ms_to_days | Wrote miniseed file to: c:\\Users\\jpeacock\\OneDrive - DOI\\MTData\\CL2021\\archive\\to_dmc\\1Z_CL435__CFN_2022_11_03T21_49_58.mseed\u001b[0m\n",
      "\u001b[1m2025-04-02T12:14:11.371611-0700 | INFO | mth5.io.conversion | split_ms_to_days | Wrote miniseed file to: c:\\Users\\jpeacock\\OneDrive - DOI\\MTData\\CL2021\\archive\\to_dmc\\1Z_CL435__CFN_2022_11_04T00_00_00.mseed\u001b[0m\n",
      "\u001b[1m2025-04-02T12:14:11.448225-0700 | INFO | mth5.io.conversion | split_ms_to_days | Wrote miniseed file to: c:\\Users\\jpeacock\\OneDrive - DOI\\MTData\\CL2021\\archive\\to_dmc\\1Z_CL435__CFE_2022_11_03T21_49_58.mseed\u001b[0m\n",
      "\u001b[1m2025-04-02T12:14:11.619547-0700 | INFO | mth5.io.conversion | split_ms_to_days | Wrote miniseed file to: c:\\Users\\jpeacock\\OneDrive - DOI\\MTData\\CL2021\\archive\\to_dmc\\1Z_CL435__CFE_2022_11_04T00_00_00.mseed\u001b[0m\n",
      "\u001b[1m2025-04-02T12:14:11.700073-0700 | INFO | mth5.io.conversion | split_ms_to_days | Wrote miniseed file to: c:\\Users\\jpeacock\\OneDrive - DOI\\MTData\\CL2021\\archive\\to_dmc\\1Z_CL435__CFZ_2022_11_03T21_49_58.mseed\u001b[0m\n",
      "\u001b[1m2025-04-02T12:14:11.876616-0700 | INFO | mth5.io.conversion | split_ms_to_days | Wrote miniseed file to: c:\\Users\\jpeacock\\OneDrive - DOI\\MTData\\CL2021\\archive\\to_dmc\\1Z_CL435__CFZ_2022_11_04T00_00_00.mseed\u001b[0m\n",
      "\u001b[1m2025-04-02T12:14:15.084825-0700 | INFO | mth5.timeseries.run_ts | _align_channels | Channels do not have a common end, using latest: 2022-11-04T01:09:41.999023437\u001b[0m\n",
      "\u001b[33m\u001b[1m2025-04-02T12:14:16.692533-0700 | WARNING | mth5.timeseries.run_ts | validate_metadata | end time of dataset 2022-11-04T01:09:41.998779296+00:00 does not match metadata end 2022-11-04T01:09:41.999023437+00:00 updating metatdata value to 2022-11-04T01:09:41.998779296+00:00\u001b[0m\n"
     ]
    },
    {
     "name": "stderr",
     "output_type": "stream",
     "text": [
      "C:\\Users\\jpeacock\\OneDrive - DOI\\Documents\\GitHub\\mth5\\mth5\\timeseries\\channel_ts.py:1524: RuntimeWarning: invalid value encountered in cast\n",
      "  obspy_trace = Trace(self.ts.astype(encoding_dict[encoding]))\n"
     ]
    },
    {
     "name": "stdout",
     "output_type": "stream",
     "text": [
      "\u001b[1m2025-04-02T12:14:17.228469-0700 | INFO | mth5.io.conversion | split_ms_to_days | Wrote miniseed file to: c:\\Users\\jpeacock\\OneDrive - DOI\\MTData\\CL2021\\archive\\to_dmc\\1Z_CL435__FQN_2022_11_04T00_59_58.mseed\u001b[0m\n",
      "\u001b[1m2025-04-02T12:14:17.421437-0700 | INFO | mth5.io.conversion | split_ms_to_days | Wrote miniseed file to: c:\\Users\\jpeacock\\OneDrive - DOI\\MTData\\CL2021\\archive\\to_dmc\\1Z_CL435__FFN_2022_11_04T00_59_58.mseed\u001b[0m\n",
      "\u001b[1m2025-04-02T12:14:17.621617-0700 | INFO | mth5.io.conversion | split_ms_to_days | Wrote miniseed file to: c:\\Users\\jpeacock\\OneDrive - DOI\\MTData\\CL2021\\archive\\to_dmc\\1Z_CL435__FFE_2022_11_04T00_59_58.mseed\u001b[0m\n",
      "\u001b[1m2025-04-02T12:14:17.818650-0700 | INFO | mth5.io.conversion | split_ms_to_days | Wrote miniseed file to: c:\\Users\\jpeacock\\OneDrive - DOI\\MTData\\CL2021\\archive\\to_dmc\\1Z_CL435__FFZ_2022_11_04T00_59_58.mseed\u001b[0m\n",
      "\u001b[1m2025-04-02T12:14:26.250011-0700 | INFO | mth5.io.conversion | split_ms_to_days | Wrote miniseed file to: c:\\Users\\jpeacock\\OneDrive - DOI\\MTData\\CL2021\\archive\\to_dmc\\1Z_CL435__CQN_2022_11_04T01_09_58.mseed\u001b[0m\n",
      "\u001b[1m2025-04-02T12:14:26.662744-0700 | INFO | mth5.io.conversion | split_ms_to_days | Wrote miniseed file to: c:\\Users\\jpeacock\\OneDrive - DOI\\MTData\\CL2021\\archive\\to_dmc\\1Z_CL435__CQE_2022_11_04T01_09_58.mseed\u001b[0m\n",
      "\u001b[1m2025-04-02T12:14:27.075861-0700 | INFO | mth5.io.conversion | split_ms_to_days | Wrote miniseed file to: c:\\Users\\jpeacock\\OneDrive - DOI\\MTData\\CL2021\\archive\\to_dmc\\1Z_CL435__CFN_2022_11_04T01_09_58.mseed\u001b[0m\n",
      "\u001b[1m2025-04-02T12:14:27.526041-0700 | INFO | mth5.io.conversion | split_ms_to_days | Wrote miniseed file to: c:\\Users\\jpeacock\\OneDrive - DOI\\MTData\\CL2021\\archive\\to_dmc\\1Z_CL435__CFE_2022_11_04T01_09_58.mseed\u001b[0m\n",
      "\u001b[1m2025-04-02T12:14:27.953309-0700 | INFO | mth5.io.conversion | split_ms_to_days | Wrote miniseed file to: c:\\Users\\jpeacock\\OneDrive - DOI\\MTData\\CL2021\\archive\\to_dmc\\1Z_CL435__CFZ_2022_11_04T01_09_58.mseed\u001b[0m\n",
      "\u001b[1m2025-04-02T12:14:32.797750-0700 | INFO | mth5.timeseries.run_ts | _align_channels | Channels do not have a common end, using latest: 2022-11-04T07:09:41.999023437\u001b[0m\n",
      "\u001b[33m\u001b[1m2025-04-02T12:14:35.603565-0700 | WARNING | mth5.timeseries.run_ts | validate_metadata | end time of dataset 2022-11-04T07:09:41.998779296+00:00 does not match metadata end 2022-11-04T07:09:41.999023437+00:00 updating metatdata value to 2022-11-04T07:09:41.998779296+00:00\u001b[0m\n"
     ]
    },
    {
     "name": "stderr",
     "output_type": "stream",
     "text": [
      "C:\\Users\\jpeacock\\OneDrive - DOI\\Documents\\GitHub\\mth5\\mth5\\timeseries\\channel_ts.py:1524: RuntimeWarning: invalid value encountered in cast\n",
      "  obspy_trace = Trace(self.ts.astype(encoding_dict[encoding]))\n"
     ]
    },
    {
     "name": "stdout",
     "output_type": "stream",
     "text": [
      "\u001b[1m2025-04-02T12:14:36.344084-0700 | INFO | mth5.io.conversion | split_ms_to_days | Wrote miniseed file to: c:\\Users\\jpeacock\\OneDrive - DOI\\MTData\\CL2021\\archive\\to_dmc\\1Z_CL435__FQN_2022_11_04T06_59_58.mseed\u001b[0m\n",
      "\u001b[1m2025-04-02T12:14:36.532310-0700 | INFO | mth5.io.conversion | split_ms_to_days | Wrote miniseed file to: c:\\Users\\jpeacock\\OneDrive - DOI\\MTData\\CL2021\\archive\\to_dmc\\1Z_CL435__FQE_2022_11_04T06_59_58.mseed\u001b[0m\n",
      "\u001b[1m2025-04-02T12:14:36.720515-0700 | INFO | mth5.io.conversion | split_ms_to_days | Wrote miniseed file to: c:\\Users\\jpeacock\\OneDrive - DOI\\MTData\\CL2021\\archive\\to_dmc\\1Z_CL435__FFN_2022_11_04T06_59_58.mseed\u001b[0m\n",
      "\u001b[1m2025-04-02T12:14:36.909226-0700 | INFO | mth5.io.conversion | split_ms_to_days | Wrote miniseed file to: c:\\Users\\jpeacock\\OneDrive - DOI\\MTData\\CL2021\\archive\\to_dmc\\1Z_CL435__FFE_2022_11_04T06_59_58.mseed\u001b[0m\n",
      "\u001b[1m2025-04-02T12:14:37.182096-0700 | INFO | mth5.io.conversion | split_ms_to_days | Wrote miniseed file to: c:\\Users\\jpeacock\\OneDrive - DOI\\MTData\\CL2021\\archive\\to_dmc\\1Z_CL435__FFZ_2022_11_04T06_59_58.mseed\u001b[0m\n",
      "\u001b[1m2025-04-02T12:14:45.908487-0700 | INFO | mth5.io.conversion | split_ms_to_days | Wrote miniseed file to: c:\\Users\\jpeacock\\OneDrive - DOI\\MTData\\CL2021\\archive\\to_dmc\\1Z_CL435__CQN_2022_11_04T07_09_58.mseed\u001b[0m\n",
      "\u001b[1m2025-04-02T12:14:46.448315-0700 | INFO | mth5.io.conversion | split_ms_to_days | Wrote miniseed file to: c:\\Users\\jpeacock\\OneDrive - DOI\\MTData\\CL2021\\archive\\to_dmc\\1Z_CL435__CQE_2022_11_04T07_09_58.mseed\u001b[0m\n",
      "\u001b[1m2025-04-02T12:14:46.965456-0700 | INFO | mth5.io.conversion | split_ms_to_days | Wrote miniseed file to: c:\\Users\\jpeacock\\OneDrive - DOI\\MTData\\CL2021\\archive\\to_dmc\\1Z_CL435__CFN_2022_11_04T07_09_58.mseed\u001b[0m\n",
      "\u001b[1m2025-04-02T12:14:47.518068-0700 | INFO | mth5.io.conversion | split_ms_to_days | Wrote miniseed file to: c:\\Users\\jpeacock\\OneDrive - DOI\\MTData\\CL2021\\archive\\to_dmc\\1Z_CL435__CFE_2022_11_04T07_09_58.mseed\u001b[0m\n",
      "\u001b[1m2025-04-02T12:14:47.971927-0700 | INFO | mth5.io.conversion | split_ms_to_days | Wrote miniseed file to: c:\\Users\\jpeacock\\OneDrive - DOI\\MTData\\CL2021\\archive\\to_dmc\\1Z_CL435__CFZ_2022_11_04T07_09_58.mseed\u001b[0m\n",
      "\u001b[1m2025-04-02T12:14:54.475781-0700 | INFO | mth5.timeseries.run_ts | _align_channels | Channels do not have a common end, using latest: 2022-11-04T13:09:41.999512000\u001b[0m\n"
     ]
    },
    {
     "name": "stderr",
     "output_type": "stream",
     "text": [
      "C:\\Users\\jpeacock\\OneDrive - DOI\\Documents\\GitHub\\mth5\\mth5\\timeseries\\channel_ts.py:1524: RuntimeWarning: invalid value encountered in cast\n",
      "  obspy_trace = Trace(self.ts.astype(encoding_dict[encoding]))\n"
     ]
    },
    {
     "name": "stdout",
     "output_type": "stream",
     "text": [
      "\u001b[1m2025-04-02T12:14:57.240399-0700 | INFO | mth5.io.conversion | split_ms_to_days | Wrote miniseed file to: c:\\Users\\jpeacock\\OneDrive - DOI\\MTData\\CL2021\\archive\\to_dmc\\1Z_CL435__FQN_2022_11_04T12_59_58.mseed\u001b[0m\n",
      "\u001b[1m2025-04-02T12:14:57.428598-0700 | INFO | mth5.io.conversion | split_ms_to_days | Wrote miniseed file to: c:\\Users\\jpeacock\\OneDrive - DOI\\MTData\\CL2021\\archive\\to_dmc\\1Z_CL435__FQE_2022_11_04T12_59_58.mseed\u001b[0m\n",
      "\u001b[1m2025-04-02T12:14:57.614267-0700 | INFO | mth5.io.conversion | split_ms_to_days | Wrote miniseed file to: c:\\Users\\jpeacock\\OneDrive - DOI\\MTData\\CL2021\\archive\\to_dmc\\1Z_CL435__FFN_2022_11_04T12_59_58.mseed\u001b[0m\n",
      "\u001b[1m2025-04-02T12:14:57.801464-0700 | INFO | mth5.io.conversion | split_ms_to_days | Wrote miniseed file to: c:\\Users\\jpeacock\\OneDrive - DOI\\MTData\\CL2021\\archive\\to_dmc\\1Z_CL435__FFE_2022_11_04T12_59_58.mseed\u001b[0m\n",
      "\u001b[1m2025-04-02T12:14:57.990661-0700 | INFO | mth5.io.conversion | split_ms_to_days | Wrote miniseed file to: c:\\Users\\jpeacock\\OneDrive - DOI\\MTData\\CL2021\\archive\\to_dmc\\1Z_CL435__FFZ_2022_11_04T12_59_58.mseed\u001b[0m\n",
      "\u001b[1m2025-04-02T12:15:04.731870-0700 | INFO | mth5.io.conversion | split_ms_to_days | Wrote miniseed file to: c:\\Users\\jpeacock\\OneDrive - DOI\\MTData\\CL2021\\archive\\to_dmc\\1Z_CL435__CQN_2022_11_04T13_09_58.mseed\u001b[0m\n",
      "\u001b[1m2025-04-02T12:15:04.963138-0700 | INFO | mth5.io.conversion | split_ms_to_days | Wrote miniseed file to: c:\\Users\\jpeacock\\OneDrive - DOI\\MTData\\CL2021\\archive\\to_dmc\\1Z_CL435__CQE_2022_11_04T13_09_58.mseed\u001b[0m\n",
      "\u001b[1m2025-04-02T12:15:05.194378-0700 | INFO | mth5.io.conversion | split_ms_to_days | Wrote miniseed file to: c:\\Users\\jpeacock\\OneDrive - DOI\\MTData\\CL2021\\archive\\to_dmc\\1Z_CL435__CFN_2022_11_04T13_09_58.mseed\u001b[0m\n",
      "\u001b[1m2025-04-02T12:15:05.436999-0700 | INFO | mth5.io.conversion | split_ms_to_days | Wrote miniseed file to: c:\\Users\\jpeacock\\OneDrive - DOI\\MTData\\CL2021\\archive\\to_dmc\\1Z_CL435__CFE_2022_11_04T13_09_58.mseed\u001b[0m\n",
      "\u001b[1m2025-04-02T12:15:05.670207-0700 | INFO | mth5.io.conversion | split_ms_to_days | Wrote miniseed file to: c:\\Users\\jpeacock\\OneDrive - DOI\\MTData\\CL2021\\archive\\to_dmc\\1Z_CL435__CFZ_2022_11_04T13_09_58.mseed\u001b[0m\n",
      "\u001b[1m2025-04-02T12:15:08.762122-0700 | INFO | mth5.mth5 | close_mth5 | Flushing and closing c:\\Users\\jpeacock\\OneDrive - DOI\\MTData\\CL2021\\archive\\cl435.h5\u001b[0m\n",
      "\u001b[33m\u001b[1m2025-04-02T12:15:08.767122-0700 | WARNING | mt_metadata.timeseries.stationxml.xml_station_mt_station | mt_to_xml | Station.geographic_name is None, using Station.id = cl435.Check StationXML site.name.\u001b[0m\n",
      "\u001b[1m2025-04-02T12:15:08.847708-0700 | INFO | mt_metadata.timeseries.filters.channel_response | to_obspy | total sensitivity 104382542748.06306 != total gain 1048576000.000055. Using total_gain.\u001b[0m\n",
      "\u001b[1m2025-04-02T12:15:08.874746-0700 | INFO | mt_metadata.timeseries.filters.channel_response | to_obspy | total sensitivity 105026369151.30917 != total gain 1048576000.000055. Using total_gain.\u001b[0m\n",
      "\u001b[1m2025-04-02T12:15:08.914723-0700 | INFO | mt_metadata.timeseries.filters.channel_response | to_obspy | total sensitivity 105276966379.19785 != total gain 1048576000.000055. Using total_gain.\u001b[0m\n",
      "\u001b[1m2025-04-02T12:15:09.015298-0700 | INFO | mt_metadata.timeseries.filters.channel_response | to_obspy | total sensitivity 104382542748.06306 != total gain 1048576000.000055. Using total_gain.\u001b[0m\n",
      "\u001b[1m2025-04-02T12:15:09.044893-0700 | INFO | mt_metadata.timeseries.filters.channel_response | to_obspy | total sensitivity 105026369151.30917 != total gain 1048576000.000055. Using total_gain.\u001b[0m\n",
      "\u001b[1m2025-04-02T12:15:09.074924-0700 | INFO | mt_metadata.timeseries.filters.channel_response | to_obspy | total sensitivity 105276966379.19785 != total gain 1048576000.000055. Using total_gain.\u001b[0m\n",
      "\u001b[1m2025-04-02T12:15:09.172480-0700 | INFO | mt_metadata.timeseries.filters.channel_response | to_obspy | total sensitivity 104382542748.06306 != total gain 1048576000.000055. Using total_gain.\u001b[0m\n",
      "\u001b[1m2025-04-02T12:15:09.201446-0700 | INFO | mt_metadata.timeseries.filters.channel_response | to_obspy | total sensitivity 105026369151.30917 != total gain 1048576000.000055. Using total_gain.\u001b[0m\n",
      "\u001b[1m2025-04-02T12:15:09.232516-0700 | INFO | mt_metadata.timeseries.filters.channel_response | to_obspy | total sensitivity 105276966379.19785 != total gain 1048576000.000055. Using total_gain.\u001b[0m\n",
      "\u001b[1m2025-04-02T12:15:09.326135-0700 | INFO | mt_metadata.timeseries.filters.channel_response | to_obspy | total sensitivity 104382542748.06306 != total gain 1048576000.000055. Using total_gain.\u001b[0m\n",
      "\u001b[1m2025-04-02T12:15:09.358712-0700 | INFO | mt_metadata.timeseries.filters.channel_response | to_obspy | total sensitivity 105026369151.30917 != total gain 1048576000.000055. Using total_gain.\u001b[0m\n",
      "\u001b[1m2025-04-02T12:15:09.389720-0700 | INFO | mt_metadata.timeseries.filters.channel_response | to_obspy | total sensitivity 105276966379.19785 != total gain 1048576000.000055. Using total_gain.\u001b[0m\n",
      "\u001b[1m2025-04-02T12:15:09.492236-0700 | INFO | mt_metadata.timeseries.filters.channel_response | to_obspy | total sensitivity 104382542748.06306 != total gain 1048576000.000055. Using total_gain.\u001b[0m\n",
      "\u001b[1m2025-04-02T12:15:09.521235-0700 | INFO | mt_metadata.timeseries.filters.channel_response | to_obspy | total sensitivity 105026369151.30917 != total gain 1048576000.000055. Using total_gain.\u001b[0m\n",
      "\u001b[1m2025-04-02T12:15:09.552760-0700 | INFO | mt_metadata.timeseries.filters.channel_response | to_obspy | total sensitivity 105276966379.19785 != total gain 1048576000.000055. Using total_gain.\u001b[0m\n",
      "\u001b[1m2025-04-02T12:15:09.655374-0700 | INFO | mt_metadata.timeseries.filters.channel_response | to_obspy | total sensitivity 104957842879.94406 != total gain 1048576000.000055. Using total_gain.\u001b[0m\n",
      "\u001b[1m2025-04-02T12:15:09.684384-0700 | INFO | mt_metadata.timeseries.filters.channel_response | to_obspy | total sensitivity 99528330172.17546 != total gain 1048576000.000055. Using total_gain.\u001b[0m\n",
      "\u001b[1m2025-04-02T12:15:09.720345-0700 | INFO | mt_metadata.timeseries.filters.channel_response | to_obspy | total sensitivity 104398743147.64836 != total gain 1048576000.000055. Using total_gain.\u001b[0m\n",
      "\u001b[1m2025-04-02T12:15:09.819902-0700 | INFO | mt_metadata.timeseries.filters.channel_response | to_obspy | total sensitivity 104957842879.94406 != total gain 1048576000.000055. Using total_gain.\u001b[0m\n",
      "\u001b[1m2025-04-02T12:15:09.847487-0700 | INFO | mt_metadata.timeseries.filters.channel_response | to_obspy | total sensitivity 99528330172.17546 != total gain 1048576000.000055. Using total_gain.\u001b[0m\n",
      "\u001b[1m2025-04-02T12:15:09.881516-0700 | INFO | mt_metadata.timeseries.filters.channel_response | to_obspy | total sensitivity 104398743147.64836 != total gain 1048576000.000055. Using total_gain.\u001b[0m\n",
      "\u001b[1m2025-04-02T12:15:09.974132-0700 | INFO | mt_metadata.timeseries.filters.channel_response | to_obspy | total sensitivity 104957842879.94406 != total gain 1048576000.000055. Using total_gain.\u001b[0m\n",
      "\u001b[1m2025-04-02T12:15:10.002133-0700 | INFO | mt_metadata.timeseries.filters.channel_response | to_obspy | total sensitivity 99528330172.17546 != total gain 1048576000.000055. Using total_gain.\u001b[0m\n",
      "\u001b[1m2025-04-02T12:15:10.032138-0700 | INFO | mt_metadata.timeseries.filters.channel_response | to_obspy | total sensitivity 104398743147.64836 != total gain 1048576000.000055. Using total_gain.\u001b[0m\n",
      "\u001b[1m2025-04-02T12:15:10.133393-0700 | INFO | mt_metadata.timeseries.filters.channel_response | to_obspy | total sensitivity 104957842879.94406 != total gain 1048576000.000055. Using total_gain.\u001b[0m\n",
      "\u001b[1m2025-04-02T12:15:10.163968-0700 | INFO | mt_metadata.timeseries.filters.channel_response | to_obspy | total sensitivity 99528330172.17546 != total gain 1048576000.000055. Using total_gain.\u001b[0m\n",
      "\u001b[1m2025-04-02T12:15:10.195969-0700 | INFO | mt_metadata.timeseries.filters.channel_response | to_obspy | total sensitivity 104398743147.64836 != total gain 1048576000.000055. Using total_gain.\u001b[0m\n",
      "\u001b[1m2025-04-02T12:15:10.290556-0700 | INFO | mt_metadata.timeseries.filters.channel_response | to_obspy | total sensitivity 104382542748.06306 != total gain 1048576000.000055. Using total_gain.\u001b[0m\n",
      "\u001b[1m2025-04-02T12:15:10.319562-0700 | INFO | mt_metadata.timeseries.filters.channel_response | to_obspy | total sensitivity 105026369151.30917 != total gain 1048576000.000055. Using total_gain.\u001b[0m\n",
      "\u001b[1m2025-04-02T12:15:10.351143-0700 | INFO | mt_metadata.timeseries.filters.channel_response | to_obspy | total sensitivity 105276966379.19785 != total gain 1048576000.000055. Using total_gain.\u001b[0m\n",
      "\u001b[1m2025-04-02T12:15:10.448787-0700 | INFO | mt_metadata.timeseries.filters.channel_response | to_obspy | total sensitivity 104382542748.06306 != total gain 1048576000.000055. Using total_gain.\u001b[0m\n",
      "\u001b[1m2025-04-02T12:15:10.480758-0700 | INFO | mt_metadata.timeseries.filters.channel_response | to_obspy | total sensitivity 105026369151.30917 != total gain 1048576000.000055. Using total_gain.\u001b[0m\n",
      "\u001b[1m2025-04-02T12:15:10.508793-0700 | INFO | mt_metadata.timeseries.filters.channel_response | to_obspy | total sensitivity 105276966379.19785 != total gain 1048576000.000055. Using total_gain.\u001b[0m\n",
      "\u001b[1m2025-04-02T12:15:10.617326-0700 | INFO | mt_metadata.timeseries.filters.channel_response | to_obspy | total sensitivity 104382542748.06306 != total gain 1048576000.000055. Using total_gain.\u001b[0m\n",
      "\u001b[1m2025-04-02T12:15:10.651903-0700 | INFO | mt_metadata.timeseries.filters.channel_response | to_obspy | total sensitivity 105026369151.30917 != total gain 1048576000.000055. Using total_gain.\u001b[0m\n",
      "\u001b[1m2025-04-02T12:15:10.680848-0700 | INFO | mt_metadata.timeseries.filters.channel_response | to_obspy | total sensitivity 105276966379.19785 != total gain 1048576000.000055. Using total_gain.\u001b[0m\n",
      "\u001b[1m2025-04-02T12:15:10.742457-0700 | INFO | mt_metadata.timeseries.filters.channel_response | to_obspy | total sensitivity 104957842879.94406 != total gain 1048576000.000055. Using total_gain.\u001b[0m\n",
      "\u001b[1m2025-04-02T12:15:10.772467-0700 | INFO | mt_metadata.timeseries.filters.channel_response | to_obspy | total sensitivity 99528330172.17546 != total gain 1048576000.000055. Using total_gain.\u001b[0m\n",
      "\u001b[1m2025-04-02T12:15:10.802469-0700 | INFO | mt_metadata.timeseries.filters.channel_response | to_obspy | total sensitivity 104398743147.64836 != total gain 1048576000.000055. Using total_gain.\u001b[0m\n",
      "\u001b[1m2025-04-02T12:15:10.902077-0700 | INFO | mt_metadata.timeseries.filters.channel_response | to_obspy | total sensitivity 104957842879.94406 != total gain 1048576000.000055. Using total_gain.\u001b[0m\n",
      "\u001b[1m2025-04-02T12:15:10.937085-0700 | INFO | mt_metadata.timeseries.filters.channel_response | to_obspy | total sensitivity 99528330172.17546 != total gain 1048576000.000055. Using total_gain.\u001b[0m\n",
      "\u001b[1m2025-04-02T12:15:10.966631-0700 | INFO | mt_metadata.timeseries.filters.channel_response | to_obspy | total sensitivity 104398743147.64836 != total gain 1048576000.000055. Using total_gain.\u001b[0m\n",
      "\u001b[1m2025-04-02T12:15:11.067250-0700 | INFO | mt_metadata.timeseries.filters.channel_response | to_obspy | total sensitivity 104957842879.94406 != total gain 1048576000.000055. Using total_gain.\u001b[0m\n",
      "\u001b[1m2025-04-02T12:15:11.097251-0700 | INFO | mt_metadata.timeseries.filters.channel_response | to_obspy | total sensitivity 99528330172.17546 != total gain 1048576000.000055. Using total_gain.\u001b[0m\n",
      "\u001b[1m2025-04-02T12:15:11.128255-0700 | INFO | mt_metadata.timeseries.filters.channel_response | to_obspy | total sensitivity 104398743147.64836 != total gain 1048576000.000055. Using total_gain.\u001b[0m\n",
      "\u001b[1m2025-04-02T12:15:11.174865-0700 | INFO | mth5.io.conversion | convert_mth5_to_ms_stationxml | Wrote StationXML to c:\\Users\\jpeacock\\OneDrive - DOI\\MTData\\CL2021\\archive\\to_dmc\\cl435.xml\u001b[0m\n",
      "\u001b[33m\u001b[1m2025-04-02T12:15:12.841508-0700 | WARNING | mt_metadata.timeseries.station | remove_run | Could not find cl436a to remove.\u001b[0m\n",
      "\u001b[1m2025-04-02T12:15:16.329681-0700 | INFO | mth5.io.conversion | split_ms_to_days | Wrote miniseed file to: c:\\Users\\jpeacock\\OneDrive - DOI\\MTData\\CL2021\\archive\\to_dmc\\1Z_CL436__LQN_2022_11_03T20_09_58.mseed\u001b[0m\n",
      "\u001b[1m2025-04-02T12:15:16.333685-0700 | INFO | mth5.io.conversion | split_ms_to_days | Wrote miniseed file to: c:\\Users\\jpeacock\\OneDrive - DOI\\MTData\\CL2021\\archive\\to_dmc\\1Z_CL436__LQN_2022_11_04T00_00_00.mseed\u001b[0m\n",
      "\u001b[1m2025-04-02T12:15:16.342686-0700 | INFO | mth5.io.conversion | split_ms_to_days | Wrote miniseed file to: c:\\Users\\jpeacock\\OneDrive - DOI\\MTData\\CL2021\\archive\\to_dmc\\1Z_CL436__LQE_2022_11_03T20_09_58.mseed\u001b[0m\n",
      "\u001b[1m2025-04-02T12:15:16.344687-0700 | INFO | mth5.io.conversion | split_ms_to_days | Wrote miniseed file to: c:\\Users\\jpeacock\\OneDrive - DOI\\MTData\\CL2021\\archive\\to_dmc\\1Z_CL436__LQE_2022_11_04T00_00_00.mseed\u001b[0m\n",
      "\u001b[1m2025-04-02T12:15:16.353203-0700 | INFO | mth5.io.conversion | split_ms_to_days | Wrote miniseed file to: c:\\Users\\jpeacock\\OneDrive - DOI\\MTData\\CL2021\\archive\\to_dmc\\1Z_CL436__LFN_2022_11_03T20_09_58.mseed\u001b[0m\n",
      "\u001b[1m2025-04-02T12:15:16.358208-0700 | INFO | mth5.io.conversion | split_ms_to_days | Wrote miniseed file to: c:\\Users\\jpeacock\\OneDrive - DOI\\MTData\\CL2021\\archive\\to_dmc\\1Z_CL436__LFN_2022_11_04T00_00_00.mseed\u001b[0m\n",
      "\u001b[1m2025-04-02T12:15:16.365202-0700 | INFO | mth5.io.conversion | split_ms_to_days | Wrote miniseed file to: c:\\Users\\jpeacock\\OneDrive - DOI\\MTData\\CL2021\\archive\\to_dmc\\1Z_CL436__LFE_2022_11_03T20_09_58.mseed\u001b[0m\n",
      "\u001b[1m2025-04-02T12:15:16.368207-0700 | INFO | mth5.io.conversion | split_ms_to_days | Wrote miniseed file to: c:\\Users\\jpeacock\\OneDrive - DOI\\MTData\\CL2021\\archive\\to_dmc\\1Z_CL436__LFE_2022_11_04T00_00_00.mseed\u001b[0m\n",
      "\u001b[1m2025-04-02T12:15:16.376203-0700 | INFO | mth5.io.conversion | split_ms_to_days | Wrote miniseed file to: c:\\Users\\jpeacock\\OneDrive - DOI\\MTData\\CL2021\\archive\\to_dmc\\1Z_CL436__LFZ_2022_11_03T20_09_58.mseed\u001b[0m\n",
      "\u001b[1m2025-04-02T12:15:16.380203-0700 | INFO | mth5.io.conversion | split_ms_to_days | Wrote miniseed file to: c:\\Users\\jpeacock\\OneDrive - DOI\\MTData\\CL2021\\archive\\to_dmc\\1Z_CL436__LFZ_2022_11_04T00_00_00.mseed\u001b[0m\n",
      "\u001b[1m2025-04-02T12:15:22.954807-0700 | INFO | mth5.io.conversion | split_ms_to_days | Wrote miniseed file to: c:\\Users\\jpeacock\\OneDrive - DOI\\MTData\\CL2021\\archive\\to_dmc\\1Z_CL436__CQN_2022_11_03T20_09_58.mseed\u001b[0m\n",
      "\u001b[1m2025-04-02T12:15:23.251483-0700 | INFO | mth5.io.conversion | split_ms_to_days | Wrote miniseed file to: c:\\Users\\jpeacock\\OneDrive - DOI\\MTData\\CL2021\\archive\\to_dmc\\1Z_CL436__CQN_2022_11_04T00_00_00.mseed\u001b[0m\n",
      "\u001b[1m2025-04-02T12:15:23.328992-0700 | INFO | mth5.io.conversion | split_ms_to_days | Wrote miniseed file to: c:\\Users\\jpeacock\\OneDrive - DOI\\MTData\\CL2021\\archive\\to_dmc\\1Z_CL436__CQE_2022_11_03T20_09_58.mseed\u001b[0m\n",
      "\u001b[1m2025-04-02T12:15:23.631729-0700 | INFO | mth5.io.conversion | split_ms_to_days | Wrote miniseed file to: c:\\Users\\jpeacock\\OneDrive - DOI\\MTData\\CL2021\\archive\\to_dmc\\1Z_CL436__CQE_2022_11_04T00_00_00.mseed\u001b[0m\n",
      "\u001b[1m2025-04-02T12:15:23.708716-0700 | INFO | mth5.io.conversion | split_ms_to_days | Wrote miniseed file to: c:\\Users\\jpeacock\\OneDrive - DOI\\MTData\\CL2021\\archive\\to_dmc\\1Z_CL436__CFN_2022_11_03T20_09_58.mseed\u001b[0m\n",
      "\u001b[1m2025-04-02T12:15:23.999004-0700 | INFO | mth5.io.conversion | split_ms_to_days | Wrote miniseed file to: c:\\Users\\jpeacock\\OneDrive - DOI\\MTData\\CL2021\\archive\\to_dmc\\1Z_CL436__CFN_2022_11_04T00_00_00.mseed\u001b[0m\n",
      "\u001b[1m2025-04-02T12:15:24.075561-0700 | INFO | mth5.io.conversion | split_ms_to_days | Wrote miniseed file to: c:\\Users\\jpeacock\\OneDrive - DOI\\MTData\\CL2021\\archive\\to_dmc\\1Z_CL436__CFE_2022_11_03T20_09_58.mseed\u001b[0m\n",
      "\u001b[1m2025-04-02T12:15:24.369150-0700 | INFO | mth5.io.conversion | split_ms_to_days | Wrote miniseed file to: c:\\Users\\jpeacock\\OneDrive - DOI\\MTData\\CL2021\\archive\\to_dmc\\1Z_CL436__CFE_2022_11_04T00_00_00.mseed\u001b[0m\n",
      "\u001b[1m2025-04-02T12:15:24.444189-0700 | INFO | mth5.io.conversion | split_ms_to_days | Wrote miniseed file to: c:\\Users\\jpeacock\\OneDrive - DOI\\MTData\\CL2021\\archive\\to_dmc\\1Z_CL436__CFZ_2022_11_03T20_09_58.mseed\u001b[0m\n",
      "\u001b[1m2025-04-02T12:15:24.750810-0700 | INFO | mth5.io.conversion | split_ms_to_days | Wrote miniseed file to: c:\\Users\\jpeacock\\OneDrive - DOI\\MTData\\CL2021\\archive\\to_dmc\\1Z_CL436__CFZ_2022_11_04T00_00_00.mseed\u001b[0m\n",
      "\u001b[1m2025-04-02T12:15:28.356996-0700 | INFO | mth5.timeseries.run_ts | _align_channels | Channels do not have a common end, using latest: 2022-11-04T01:09:41.997803000\u001b[0m\n"
     ]
    },
    {
     "name": "stderr",
     "output_type": "stream",
     "text": [
      "C:\\Users\\jpeacock\\OneDrive - DOI\\Documents\\GitHub\\mth5\\mth5\\timeseries\\channel_ts.py:1524: RuntimeWarning: invalid value encountered in cast\n",
      "  obspy_trace = Trace(self.ts.astype(encoding_dict[encoding]))\n"
     ]
    },
    {
     "name": "stdout",
     "output_type": "stream",
     "text": [
      "\u001b[1m2025-04-02T12:15:31.200267-0700 | INFO | mth5.io.conversion | split_ms_to_days | Wrote miniseed file to: c:\\Users\\jpeacock\\OneDrive - DOI\\MTData\\CL2021\\archive\\to_dmc\\1Z_CL436__FQN_2022_11_04T00_59_58.mseed\u001b[0m\n",
      "\u001b[1m2025-04-02T12:15:31.400376-0700 | INFO | mth5.io.conversion | split_ms_to_days | Wrote miniseed file to: c:\\Users\\jpeacock\\OneDrive - DOI\\MTData\\CL2021\\archive\\to_dmc\\1Z_CL436__FQE_2022_11_04T00_59_58.mseed\u001b[0m\n",
      "\u001b[1m2025-04-02T12:15:31.611517-0700 | INFO | mth5.io.conversion | split_ms_to_days | Wrote miniseed file to: c:\\Users\\jpeacock\\OneDrive - DOI\\MTData\\CL2021\\archive\\to_dmc\\1Z_CL436__FFN_2022_11_04T00_59_58.mseed\u001b[0m\n",
      "\u001b[1m2025-04-02T12:15:31.815990-0700 | INFO | mth5.io.conversion | split_ms_to_days | Wrote miniseed file to: c:\\Users\\jpeacock\\OneDrive - DOI\\MTData\\CL2021\\archive\\to_dmc\\1Z_CL436__FFE_2022_11_04T00_59_58.mseed\u001b[0m\n",
      "\u001b[1m2025-04-02T12:15:32.014119-0700 | INFO | mth5.io.conversion | split_ms_to_days | Wrote miniseed file to: c:\\Users\\jpeacock\\OneDrive - DOI\\MTData\\CL2021\\archive\\to_dmc\\1Z_CL436__FFZ_2022_11_04T00_59_58.mseed\u001b[0m\n",
      "\u001b[1m2025-04-02T12:15:39.407998-0700 | INFO | mth5.io.conversion | split_ms_to_days | Wrote miniseed file to: c:\\Users\\jpeacock\\OneDrive - DOI\\MTData\\CL2021\\archive\\to_dmc\\1Z_CL436__CQN_2022_11_04T01_09_58.mseed\u001b[0m\n",
      "\u001b[1m2025-04-02T12:15:39.825470-0700 | INFO | mth5.io.conversion | split_ms_to_days | Wrote miniseed file to: c:\\Users\\jpeacock\\OneDrive - DOI\\MTData\\CL2021\\archive\\to_dmc\\1Z_CL436__CQE_2022_11_04T01_09_58.mseed\u001b[0m\n",
      "\u001b[1m2025-04-02T12:15:40.242790-0700 | INFO | mth5.io.conversion | split_ms_to_days | Wrote miniseed file to: c:\\Users\\jpeacock\\OneDrive - DOI\\MTData\\CL2021\\archive\\to_dmc\\1Z_CL436__CFN_2022_11_04T01_09_58.mseed\u001b[0m\n",
      "\u001b[1m2025-04-02T12:15:40.674631-0700 | INFO | mth5.io.conversion | split_ms_to_days | Wrote miniseed file to: c:\\Users\\jpeacock\\OneDrive - DOI\\MTData\\CL2021\\archive\\to_dmc\\1Z_CL436__CFE_2022_11_04T01_09_58.mseed\u001b[0m\n",
      "\u001b[1m2025-04-02T12:15:41.113508-0700 | INFO | mth5.io.conversion | split_ms_to_days | Wrote miniseed file to: c:\\Users\\jpeacock\\OneDrive - DOI\\MTData\\CL2021\\archive\\to_dmc\\1Z_CL436__CFZ_2022_11_04T01_09_58.mseed\u001b[0m\n",
      "\u001b[1m2025-04-02T12:15:44.938273-0700 | INFO | mth5.timeseries.run_ts | _align_channels | Channels do not have a common end, using latest: 2022-11-04T07:09:41.999268000\u001b[0m\n"
     ]
    },
    {
     "name": "stderr",
     "output_type": "stream",
     "text": [
      "C:\\Users\\jpeacock\\OneDrive - DOI\\Documents\\GitHub\\mth5\\mth5\\timeseries\\channel_ts.py:1524: RuntimeWarning: invalid value encountered in cast\n",
      "  obspy_trace = Trace(self.ts.astype(encoding_dict[encoding]))\n"
     ]
    },
    {
     "name": "stdout",
     "output_type": "stream",
     "text": [
      "\u001b[1m2025-04-02T12:15:47.688188-0700 | INFO | mth5.io.conversion | split_ms_to_days | Wrote miniseed file to: c:\\Users\\jpeacock\\OneDrive - DOI\\MTData\\CL2021\\archive\\to_dmc\\1Z_CL436__FQN_2022_11_04T06_59_58.mseed\u001b[0m\n",
      "\u001b[1m2025-04-02T12:15:47.879011-0700 | INFO | mth5.io.conversion | split_ms_to_days | Wrote miniseed file to: c:\\Users\\jpeacock\\OneDrive - DOI\\MTData\\CL2021\\archive\\to_dmc\\1Z_CL436__FQE_2022_11_04T06_59_58.mseed\u001b[0m\n",
      "\u001b[1m2025-04-02T12:15:48.068518-0700 | INFO | mth5.io.conversion | split_ms_to_days | Wrote miniseed file to: c:\\Users\\jpeacock\\OneDrive - DOI\\MTData\\CL2021\\archive\\to_dmc\\1Z_CL436__FFN_2022_11_04T06_59_58.mseed\u001b[0m\n",
      "\u001b[1m2025-04-02T12:15:48.267030-0700 | INFO | mth5.io.conversion | split_ms_to_days | Wrote miniseed file to: c:\\Users\\jpeacock\\OneDrive - DOI\\MTData\\CL2021\\archive\\to_dmc\\1Z_CL436__FFE_2022_11_04T06_59_58.mseed\u001b[0m\n",
      "\u001b[1m2025-04-02T12:15:48.470324-0700 | INFO | mth5.io.conversion | split_ms_to_days | Wrote miniseed file to: c:\\Users\\jpeacock\\OneDrive - DOI\\MTData\\CL2021\\archive\\to_dmc\\1Z_CL436__FFZ_2022_11_04T06_59_58.mseed\u001b[0m\n",
      "\u001b[1m2025-04-02T12:15:56.187797-0700 | INFO | mth5.io.conversion | split_ms_to_days | Wrote miniseed file to: c:\\Users\\jpeacock\\OneDrive - DOI\\MTData\\CL2021\\archive\\to_dmc\\1Z_CL436__CQN_2022_11_04T07_09_58.mseed\u001b[0m\n",
      "\u001b[1m2025-04-02T12:15:56.615663-0700 | INFO | mth5.io.conversion | split_ms_to_days | Wrote miniseed file to: c:\\Users\\jpeacock\\OneDrive - DOI\\MTData\\CL2021\\archive\\to_dmc\\1Z_CL436__CQE_2022_11_04T07_09_58.mseed\u001b[0m\n",
      "\u001b[1m2025-04-02T12:15:57.047408-0700 | INFO | mth5.io.conversion | split_ms_to_days | Wrote miniseed file to: c:\\Users\\jpeacock\\OneDrive - DOI\\MTData\\CL2021\\archive\\to_dmc\\1Z_CL436__CFN_2022_11_04T07_09_58.mseed\u001b[0m\n",
      "\u001b[1m2025-04-02T12:15:57.491713-0700 | INFO | mth5.io.conversion | split_ms_to_days | Wrote miniseed file to: c:\\Users\\jpeacock\\OneDrive - DOI\\MTData\\CL2021\\archive\\to_dmc\\1Z_CL436__CFE_2022_11_04T07_09_58.mseed\u001b[0m\n",
      "\u001b[1m2025-04-02T12:15:57.934225-0700 | INFO | mth5.io.conversion | split_ms_to_days | Wrote miniseed file to: c:\\Users\\jpeacock\\OneDrive - DOI\\MTData\\CL2021\\archive\\to_dmc\\1Z_CL436__CFZ_2022_11_04T07_09_58.mseed\u001b[0m\n",
      "\u001b[1m2025-04-02T12:16:01.941725-0700 | INFO | mth5.timeseries.run_ts | _align_channels | Channels do not have a common end, using latest: 2022-11-04T13:09:41.999268000\u001b[0m\n"
     ]
    },
    {
     "name": "stderr",
     "output_type": "stream",
     "text": [
      "C:\\Users\\jpeacock\\OneDrive - DOI\\Documents\\GitHub\\mth5\\mth5\\timeseries\\channel_ts.py:1524: RuntimeWarning: invalid value encountered in cast\n",
      "  obspy_trace = Trace(self.ts.astype(encoding_dict[encoding]))\n"
     ]
    },
    {
     "name": "stdout",
     "output_type": "stream",
     "text": [
      "\u001b[1m2025-04-02T12:16:04.782198-0700 | INFO | mth5.io.conversion | split_ms_to_days | Wrote miniseed file to: c:\\Users\\jpeacock\\OneDrive - DOI\\MTData\\CL2021\\archive\\to_dmc\\1Z_CL436__FQN_2022_11_04T12_59_58.mseed\u001b[0m\n",
      "\u001b[1m2025-04-02T12:16:04.977225-0700 | INFO | mth5.io.conversion | split_ms_to_days | Wrote miniseed file to: c:\\Users\\jpeacock\\OneDrive - DOI\\MTData\\CL2021\\archive\\to_dmc\\1Z_CL436__FQE_2022_11_04T12_59_58.mseed\u001b[0m\n",
      "\u001b[1m2025-04-02T12:16:05.165427-0700 | INFO | mth5.io.conversion | split_ms_to_days | Wrote miniseed file to: c:\\Users\\jpeacock\\OneDrive - DOI\\MTData\\CL2021\\archive\\to_dmc\\1Z_CL436__FFN_2022_11_04T12_59_58.mseed\u001b[0m\n",
      "\u001b[1m2025-04-02T12:16:05.355719-0700 | INFO | mth5.io.conversion | split_ms_to_days | Wrote miniseed file to: c:\\Users\\jpeacock\\OneDrive - DOI\\MTData\\CL2021\\archive\\to_dmc\\1Z_CL436__FFE_2022_11_04T12_59_58.mseed\u001b[0m\n",
      "\u001b[1m2025-04-02T12:16:05.645889-0700 | INFO | mth5.io.conversion | split_ms_to_days | Wrote miniseed file to: c:\\Users\\jpeacock\\OneDrive - DOI\\MTData\\CL2021\\archive\\to_dmc\\1Z_CL436__FFZ_2022_11_04T12_59_58.mseed\u001b[0m\n",
      "\u001b[1m2025-04-02T12:16:11.333457-0700 | INFO | mth5.io.conversion | split_ms_to_days | Wrote miniseed file to: c:\\Users\\jpeacock\\OneDrive - DOI\\MTData\\CL2021\\archive\\to_dmc\\1Z_CL436__CQN_2022_11_04T13_09_58.mseed\u001b[0m\n",
      "\u001b[1m2025-04-02T12:16:11.518624-0700 | INFO | mth5.io.conversion | split_ms_to_days | Wrote miniseed file to: c:\\Users\\jpeacock\\OneDrive - DOI\\MTData\\CL2021\\archive\\to_dmc\\1Z_CL436__CQE_2022_11_04T13_09_58.mseed\u001b[0m\n",
      "\u001b[1m2025-04-02T12:16:11.702809-0700 | INFO | mth5.io.conversion | split_ms_to_days | Wrote miniseed file to: c:\\Users\\jpeacock\\OneDrive - DOI\\MTData\\CL2021\\archive\\to_dmc\\1Z_CL436__CFN_2022_11_04T13_09_58.mseed\u001b[0m\n",
      "\u001b[1m2025-04-02T12:16:11.882421-0700 | INFO | mth5.io.conversion | split_ms_to_days | Wrote miniseed file to: c:\\Users\\jpeacock\\OneDrive - DOI\\MTData\\CL2021\\archive\\to_dmc\\1Z_CL436__CFE_2022_11_04T13_09_58.mseed\u001b[0m\n",
      "\u001b[1m2025-04-02T12:16:12.113235-0700 | INFO | mth5.io.conversion | split_ms_to_days | Wrote miniseed file to: c:\\Users\\jpeacock\\OneDrive - DOI\\MTData\\CL2021\\archive\\to_dmc\\1Z_CL436__CFZ_2022_11_04T13_09_58.mseed\u001b[0m\n",
      "\u001b[1m2025-04-02T12:16:13.274166-0700 | INFO | mth5.mth5 | close_mth5 | Flushing and closing c:\\Users\\jpeacock\\OneDrive - DOI\\MTData\\CL2021\\archive\\cl436.h5\u001b[0m\n",
      "\u001b[33m\u001b[1m2025-04-02T12:16:13.279199-0700 | WARNING | mt_metadata.timeseries.stationxml.xml_station_mt_station | mt_to_xml | Station.geographic_name is None, using Station.id = cl436.Check StationXML site.name.\u001b[0m\n",
      "\u001b[1m2025-04-02T12:16:13.392989-0700 | INFO | mt_metadata.timeseries.filters.channel_response | to_obspy | total sensitivity 105384854631.2247 != total gain 1048576000.000055. Using total_gain.\u001b[0m\n",
      "\u001b[1m2025-04-02T12:16:13.437552-0700 | INFO | mt_metadata.timeseries.filters.channel_response | to_obspy | total sensitivity 105012851743.1351 != total gain 1048576000.000055. Using total_gain.\u001b[0m\n",
      "\u001b[1m2025-04-02T12:16:13.466519-0700 | INFO | mt_metadata.timeseries.filters.channel_response | to_obspy | total sensitivity 104693940307.89154 != total gain 1048576000.000055. Using total_gain.\u001b[0m\n",
      "\u001b[1m2025-04-02T12:16:13.560039-0700 | INFO | mt_metadata.timeseries.filters.channel_response | to_obspy | total sensitivity 105384854631.2247 != total gain 1048576000.000055. Using total_gain.\u001b[0m\n",
      "\u001b[1m2025-04-02T12:16:13.589079-0700 | INFO | mt_metadata.timeseries.filters.channel_response | to_obspy | total sensitivity 105012851743.1351 != total gain 1048576000.000055. Using total_gain.\u001b[0m\n",
      "\u001b[1m2025-04-02T12:16:13.619132-0700 | INFO | mt_metadata.timeseries.filters.channel_response | to_obspy | total sensitivity 104693940307.89154 != total gain 1048576000.000055. Using total_gain.\u001b[0m\n",
      "\u001b[1m2025-04-02T12:16:13.717673-0700 | INFO | mt_metadata.timeseries.filters.channel_response | to_obspy | total sensitivity 105384854631.2247 != total gain 1048576000.000055. Using total_gain.\u001b[0m\n",
      "\u001b[1m2025-04-02T12:16:13.749677-0700 | INFO | mt_metadata.timeseries.filters.channel_response | to_obspy | total sensitivity 105012851743.1351 != total gain 1048576000.000055. Using total_gain.\u001b[0m\n",
      "\u001b[1m2025-04-02T12:16:13.776707-0700 | INFO | mt_metadata.timeseries.filters.channel_response | to_obspy | total sensitivity 104693940307.89154 != total gain 1048576000.000055. Using total_gain.\u001b[0m\n",
      "\u001b[1m2025-04-02T12:16:13.871286-0700 | INFO | mt_metadata.timeseries.filters.channel_response | to_obspy | total sensitivity 105384854631.2247 != total gain 1048576000.000055. Using total_gain.\u001b[0m\n",
      "\u001b[1m2025-04-02T12:16:13.899294-0700 | INFO | mt_metadata.timeseries.filters.channel_response | to_obspy | total sensitivity 105012851743.1351 != total gain 1048576000.000055. Using total_gain.\u001b[0m\n",
      "\u001b[1m2025-04-02T12:16:13.929457-0700 | INFO | mt_metadata.timeseries.filters.channel_response | to_obspy | total sensitivity 104693940307.89154 != total gain 1048576000.000055. Using total_gain.\u001b[0m\n",
      "\u001b[1m2025-04-02T12:16:14.030527-0700 | INFO | mt_metadata.timeseries.filters.channel_response | to_obspy | total sensitivity 105384854631.2247 != total gain 1048576000.000055. Using total_gain.\u001b[0m\n",
      "\u001b[1m2025-04-02T12:16:14.063530-0700 | INFO | mt_metadata.timeseries.filters.channel_response | to_obspy | total sensitivity 105012851743.1351 != total gain 1048576000.000055. Using total_gain.\u001b[0m\n",
      "\u001b[1m2025-04-02T12:16:14.093574-0700 | INFO | mt_metadata.timeseries.filters.channel_response | to_obspy | total sensitivity 104693940307.89154 != total gain 1048576000.000055. Using total_gain.\u001b[0m\n",
      "\u001b[1m2025-04-02T12:16:14.192091-0700 | INFO | mt_metadata.timeseries.filters.channel_response | to_obspy | total sensitivity 105384854631.2247 != total gain 1048576000.000055. Using total_gain.\u001b[0m\n",
      "\u001b[1m2025-04-02T12:16:14.221642-0700 | INFO | mt_metadata.timeseries.filters.channel_response | to_obspy | total sensitivity 105012851743.1351 != total gain 1048576000.000055. Using total_gain.\u001b[0m\n",
      "\u001b[1m2025-04-02T12:16:14.264844-0700 | INFO | mt_metadata.timeseries.filters.channel_response | to_obspy | total sensitivity 104693940307.89154 != total gain 1048576000.000055. Using total_gain.\u001b[0m\n",
      "\u001b[1m2025-04-02T12:16:14.360035-0700 | INFO | mt_metadata.timeseries.filters.channel_response | to_obspy | total sensitivity 105384854631.2247 != total gain 1048576000.000055. Using total_gain.\u001b[0m\n",
      "\u001b[1m2025-04-02T12:16:14.389041-0700 | INFO | mt_metadata.timeseries.filters.channel_response | to_obspy | total sensitivity 105012851743.1351 != total gain 1048576000.000055. Using total_gain.\u001b[0m\n",
      "\u001b[1m2025-04-02T12:16:14.422566-0700 | INFO | mt_metadata.timeseries.filters.channel_response | to_obspy | total sensitivity 104693940307.89154 != total gain 1048576000.000055. Using total_gain.\u001b[0m\n",
      "\u001b[1m2025-04-02T12:16:14.516082-0700 | INFO | mt_metadata.timeseries.filters.channel_response | to_obspy | total sensitivity 105384854631.2247 != total gain 1048576000.000055. Using total_gain.\u001b[0m\n",
      "\u001b[1m2025-04-02T12:16:14.549082-0700 | INFO | mt_metadata.timeseries.filters.channel_response | to_obspy | total sensitivity 105012851743.1351 != total gain 1048576000.000055. Using total_gain.\u001b[0m\n",
      "\u001b[1m2025-04-02T12:16:14.579084-0700 | INFO | mt_metadata.timeseries.filters.channel_response | to_obspy | total sensitivity 104693940307.89154 != total gain 1048576000.000055. Using total_gain.\u001b[0m\n",
      "\u001b[1m2025-04-02T12:16:14.609604-0700 | INFO | mth5.io.conversion | convert_mth5_to_ms_stationxml | Wrote StationXML to c:\\Users\\jpeacock\\OneDrive - DOI\\MTData\\CL2021\\archive\\to_dmc\\cl436.xml\u001b[0m\n",
      "\u001b[33m\u001b[1m2025-04-02T12:16:16.839116-0700 | WARNING | mt_metadata.timeseries.station | remove_run | Could not find cl455a to remove.\u001b[0m\n",
      "\u001b[1m2025-04-02T12:16:20.884696-0700 | INFO | mth5.io.conversion | split_ms_to_days | Wrote miniseed file to: c:\\Users\\jpeacock\\OneDrive - DOI\\MTData\\CL2021\\archive\\to_dmc\\1Z_CL455__LQN_2022_10_30T18_24_58.mseed\u001b[0m\n",
      "\u001b[1m2025-04-02T12:16:20.888661-0700 | INFO | mth5.io.conversion | split_ms_to_days | Wrote miniseed file to: c:\\Users\\jpeacock\\OneDrive - DOI\\MTData\\CL2021\\archive\\to_dmc\\1Z_CL455__LQN_2022_10_31T00_00_00.mseed\u001b[0m\n",
      "\u001b[1m2025-04-02T12:16:20.896674-0700 | INFO | mth5.io.conversion | split_ms_to_days | Wrote miniseed file to: c:\\Users\\jpeacock\\OneDrive - DOI\\MTData\\CL2021\\archive\\to_dmc\\1Z_CL455__LQE_2022_10_30T18_24_58.mseed\u001b[0m\n",
      "\u001b[1m2025-04-02T12:16:20.902671-0700 | INFO | mth5.io.conversion | split_ms_to_days | Wrote miniseed file to: c:\\Users\\jpeacock\\OneDrive - DOI\\MTData\\CL2021\\archive\\to_dmc\\1Z_CL455__LQE_2022_10_31T00_00_00.mseed\u001b[0m\n",
      "\u001b[1m2025-04-02T12:16:20.911186-0700 | INFO | mth5.io.conversion | split_ms_to_days | Wrote miniseed file to: c:\\Users\\jpeacock\\OneDrive - DOI\\MTData\\CL2021\\archive\\to_dmc\\1Z_CL455__LFN_2022_10_30T18_24_58.mseed\u001b[0m\n",
      "\u001b[1m2025-04-02T12:16:20.917187-0700 | INFO | mth5.io.conversion | split_ms_to_days | Wrote miniseed file to: c:\\Users\\jpeacock\\OneDrive - DOI\\MTData\\CL2021\\archive\\to_dmc\\1Z_CL455__LFN_2022_10_31T00_00_00.mseed\u001b[0m\n",
      "\u001b[1m2025-04-02T12:16:20.934192-0700 | INFO | mth5.io.conversion | split_ms_to_days | Wrote miniseed file to: c:\\Users\\jpeacock\\OneDrive - DOI\\MTData\\CL2021\\archive\\to_dmc\\1Z_CL455__LFE_2022_10_30T18_24_58.mseed\u001b[0m\n",
      "\u001b[1m2025-04-02T12:16:21.048290-0700 | INFO | mth5.io.conversion | split_ms_to_days | Wrote miniseed file to: c:\\Users\\jpeacock\\OneDrive - DOI\\MTData\\CL2021\\archive\\to_dmc\\1Z_CL455__LFE_2022_10_31T00_00_00.mseed\u001b[0m\n",
      "\u001b[1m2025-04-02T12:16:21.057260-0700 | INFO | mth5.io.conversion | split_ms_to_days | Wrote miniseed file to: c:\\Users\\jpeacock\\OneDrive - DOI\\MTData\\CL2021\\archive\\to_dmc\\1Z_CL455__LFZ_2022_10_30T18_24_58.mseed\u001b[0m\n",
      "\u001b[1m2025-04-02T12:16:21.062260-0700 | INFO | mth5.io.conversion | split_ms_to_days | Wrote miniseed file to: c:\\Users\\jpeacock\\OneDrive - DOI\\MTData\\CL2021\\archive\\to_dmc\\1Z_CL455__LFZ_2022_10_31T00_00_00.mseed\u001b[0m\n",
      "\u001b[1m2025-04-02T12:16:24.626907-0700 | INFO | mth5.timeseries.run_ts | _align_channels | Channels do not have a common end, using latest: 2022-10-30T18:59:41.988281250\u001b[0m\n"
     ]
    },
    {
     "name": "stderr",
     "output_type": "stream",
     "text": [
      "C:\\Users\\jpeacock\\OneDrive - DOI\\Documents\\GitHub\\mth5\\mth5\\timeseries\\channel_ts.py:1524: RuntimeWarning: invalid value encountered in cast\n",
      "  obspy_trace = Trace(self.ts.astype(encoding_dict[encoding]))\n"
     ]
    },
    {
     "name": "stdout",
     "output_type": "stream",
     "text": [
      "\u001b[1m2025-04-02T12:16:25.722195-0700 | INFO | mth5.io.conversion | split_ms_to_days | Wrote miniseed file to: c:\\Users\\jpeacock\\OneDrive - DOI\\MTData\\CL2021\\archive\\to_dmc\\1Z_CL455__CQN_2022_10_30T18_24_58.mseed\u001b[0m\n",
      "\u001b[1m2025-04-02T12:16:25.767163-0700 | INFO | mth5.io.conversion | split_ms_to_days | Wrote miniseed file to: c:\\Users\\jpeacock\\OneDrive - DOI\\MTData\\CL2021\\archive\\to_dmc\\1Z_CL455__CQE_2022_10_30T18_24_58.mseed\u001b[0m\n",
      "\u001b[1m2025-04-02T12:16:25.813798-0700 | INFO | mth5.io.conversion | split_ms_to_days | Wrote miniseed file to: c:\\Users\\jpeacock\\OneDrive - DOI\\MTData\\CL2021\\archive\\to_dmc\\1Z_CL455__CFN_2022_10_30T18_24_58.mseed\u001b[0m\n",
      "\u001b[1m2025-04-02T12:16:25.857752-0700 | INFO | mth5.io.conversion | split_ms_to_days | Wrote miniseed file to: c:\\Users\\jpeacock\\OneDrive - DOI\\MTData\\CL2021\\archive\\to_dmc\\1Z_CL455__CFE_2022_10_30T18_24_58.mseed\u001b[0m\n",
      "\u001b[1m2025-04-02T12:16:25.905796-0700 | INFO | mth5.io.conversion | split_ms_to_days | Wrote miniseed file to: c:\\Users\\jpeacock\\OneDrive - DOI\\MTData\\CL2021\\archive\\to_dmc\\1Z_CL455__CFZ_2022_10_30T18_24_58.mseed\u001b[0m\n",
      "\u001b[1m2025-04-02T12:16:29.210131-0700 | INFO | mth5.timeseries.run_ts | _align_channels | Channels do not have a common end, using latest: 2022-10-30T19:09:41.999268000\u001b[0m\n"
     ]
    },
    {
     "name": "stderr",
     "output_type": "stream",
     "text": [
      "C:\\Users\\jpeacock\\OneDrive - DOI\\Documents\\GitHub\\mth5\\mth5\\timeseries\\channel_ts.py:1524: RuntimeWarning: invalid value encountered in cast\n",
      "  obspy_trace = Trace(self.ts.astype(encoding_dict[encoding]))\n"
     ]
    },
    {
     "name": "stdout",
     "output_type": "stream",
     "text": [
      "\u001b[1m2025-04-02T12:16:32.042825-0700 | INFO | mth5.io.conversion | split_ms_to_days | Wrote miniseed file to: c:\\Users\\jpeacock\\OneDrive - DOI\\MTData\\CL2021\\archive\\to_dmc\\1Z_CL455__FQN_2022_10_30T18_59_58.mseed\u001b[0m\n",
      "\u001b[1m2025-04-02T12:16:32.245731-0700 | INFO | mth5.io.conversion | split_ms_to_days | Wrote miniseed file to: c:\\Users\\jpeacock\\OneDrive - DOI\\MTData\\CL2021\\archive\\to_dmc\\1Z_CL455__FQE_2022_10_30T18_59_58.mseed\u001b[0m\n",
      "\u001b[1m2025-04-02T12:16:32.445478-0700 | INFO | mth5.io.conversion | split_ms_to_days | Wrote miniseed file to: c:\\Users\\jpeacock\\OneDrive - DOI\\MTData\\CL2021\\archive\\to_dmc\\1Z_CL455__FFN_2022_10_30T18_59_58.mseed\u001b[0m\n",
      "\u001b[1m2025-04-02T12:16:32.643155-0700 | INFO | mth5.io.conversion | split_ms_to_days | Wrote miniseed file to: c:\\Users\\jpeacock\\OneDrive - DOI\\MTData\\CL2021\\archive\\to_dmc\\1Z_CL455__FFE_2022_10_30T18_59_58.mseed\u001b[0m\n",
      "\u001b[1m2025-04-02T12:16:32.836311-0700 | INFO | mth5.io.conversion | split_ms_to_days | Wrote miniseed file to: c:\\Users\\jpeacock\\OneDrive - DOI\\MTData\\CL2021\\archive\\to_dmc\\1Z_CL455__FFZ_2022_10_30T18_59_58.mseed\u001b[0m\n",
      "\u001b[1m2025-04-02T12:16:40.970362-0700 | INFO | mth5.io.conversion | split_ms_to_days | Wrote miniseed file to: c:\\Users\\jpeacock\\OneDrive - DOI\\MTData\\CL2021\\archive\\to_dmc\\1Z_CL455__CQN_2022_10_30T19_09_58.mseed\u001b[0m\n",
      "\u001b[1m2025-04-02T12:16:41.311164-0700 | INFO | mth5.io.conversion | split_ms_to_days | Wrote miniseed file to: c:\\Users\\jpeacock\\OneDrive - DOI\\MTData\\CL2021\\archive\\to_dmc\\1Z_CL455__CQN_2022_10_31T00_00_00.mseed\u001b[0m\n",
      "\u001b[1m2025-04-02T12:16:41.398270-0700 | INFO | mth5.io.conversion | split_ms_to_days | Wrote miniseed file to: c:\\Users\\jpeacock\\OneDrive - DOI\\MTData\\CL2021\\archive\\to_dmc\\1Z_CL455__CQE_2022_10_30T19_09_58.mseed\u001b[0m\n",
      "\u001b[1m2025-04-02T12:16:41.785870-0700 | INFO | mth5.io.conversion | split_ms_to_days | Wrote miniseed file to: c:\\Users\\jpeacock\\OneDrive - DOI\\MTData\\CL2021\\archive\\to_dmc\\1Z_CL455__CQE_2022_10_31T00_00_00.mseed\u001b[0m\n",
      "\u001b[1m2025-04-02T12:16:41.859459-0700 | INFO | mth5.io.conversion | split_ms_to_days | Wrote miniseed file to: c:\\Users\\jpeacock\\OneDrive - DOI\\MTData\\CL2021\\archive\\to_dmc\\1Z_CL455__CFN_2022_10_30T19_09_58.mseed\u001b[0m\n",
      "\u001b[1m2025-04-02T12:16:42.226195-0700 | INFO | mth5.io.conversion | split_ms_to_days | Wrote miniseed file to: c:\\Users\\jpeacock\\OneDrive - DOI\\MTData\\CL2021\\archive\\to_dmc\\1Z_CL455__CFN_2022_10_31T00_00_00.mseed\u001b[0m\n",
      "\u001b[1m2025-04-02T12:16:42.311201-0700 | INFO | mth5.io.conversion | split_ms_to_days | Wrote miniseed file to: c:\\Users\\jpeacock\\OneDrive - DOI\\MTData\\CL2021\\archive\\to_dmc\\1Z_CL455__CFE_2022_10_30T19_09_58.mseed\u001b[0m\n",
      "\u001b[1m2025-04-02T12:16:42.765852-0700 | INFO | mth5.io.conversion | split_ms_to_days | Wrote miniseed file to: c:\\Users\\jpeacock\\OneDrive - DOI\\MTData\\CL2021\\archive\\to_dmc\\1Z_CL455__CFE_2022_10_31T00_00_00.mseed\u001b[0m\n",
      "\u001b[1m2025-04-02T12:16:42.842370-0700 | INFO | mth5.io.conversion | split_ms_to_days | Wrote miniseed file to: c:\\Users\\jpeacock\\OneDrive - DOI\\MTData\\CL2021\\archive\\to_dmc\\1Z_CL455__CFZ_2022_10_30T19_09_58.mseed\u001b[0m\n",
      "\u001b[1m2025-04-02T12:16:43.256294-0700 | INFO | mth5.io.conversion | split_ms_to_days | Wrote miniseed file to: c:\\Users\\jpeacock\\OneDrive - DOI\\MTData\\CL2021\\archive\\to_dmc\\1Z_CL455__CFZ_2022_10_31T00_00_00.mseed\u001b[0m\n",
      "\u001b[1m2025-04-02T12:16:46.707668-0700 | INFO | mth5.timeseries.run_ts | _align_channels | Channels do not have a common end, using latest: 2022-10-31T01:09:41.998535156\u001b[0m\n",
      "\u001b[33m\u001b[1m2025-04-02T12:16:48.714909-0700 | WARNING | mth5.timeseries.run_ts | validate_metadata | end time of dataset 2022-10-31T01:09:41.998291015+00:00 does not match metadata end 2022-10-31T01:09:41.998535156+00:00 updating metatdata value to 2022-10-31T01:09:41.998291015+00:00\u001b[0m\n"
     ]
    },
    {
     "name": "stderr",
     "output_type": "stream",
     "text": [
      "C:\\Users\\jpeacock\\OneDrive - DOI\\Documents\\GitHub\\mth5\\mth5\\timeseries\\channel_ts.py:1524: RuntimeWarning: invalid value encountered in cast\n",
      "  obspy_trace = Trace(self.ts.astype(encoding_dict[encoding]))\n"
     ]
    },
    {
     "name": "stdout",
     "output_type": "stream",
     "text": [
      "\u001b[1m2025-04-02T12:16:49.470182-0700 | INFO | mth5.io.conversion | split_ms_to_days | Wrote miniseed file to: c:\\Users\\jpeacock\\OneDrive - DOI\\MTData\\CL2021\\archive\\to_dmc\\1Z_CL455__FQN_2022_10_31T00_59_58.mseed\u001b[0m\n",
      "\u001b[1m2025-04-02T12:16:49.664289-0700 | INFO | mth5.io.conversion | split_ms_to_days | Wrote miniseed file to: c:\\Users\\jpeacock\\OneDrive - DOI\\MTData\\CL2021\\archive\\to_dmc\\1Z_CL455__FQE_2022_10_31T00_59_58.mseed\u001b[0m\n",
      "\u001b[1m2025-04-02T12:16:49.857361-0700 | INFO | mth5.io.conversion | split_ms_to_days | Wrote miniseed file to: c:\\Users\\jpeacock\\OneDrive - DOI\\MTData\\CL2021\\archive\\to_dmc\\1Z_CL455__FFN_2022_10_31T00_59_58.mseed\u001b[0m\n",
      "\u001b[1m2025-04-02T12:16:50.053200-0700 | INFO | mth5.io.conversion | split_ms_to_days | Wrote miniseed file to: c:\\Users\\jpeacock\\OneDrive - DOI\\MTData\\CL2021\\archive\\to_dmc\\1Z_CL455__FFE_2022_10_31T00_59_58.mseed\u001b[0m\n",
      "\u001b[1m2025-04-02T12:16:50.249720-0700 | INFO | mth5.io.conversion | split_ms_to_days | Wrote miniseed file to: c:\\Users\\jpeacock\\OneDrive - DOI\\MTData\\CL2021\\archive\\to_dmc\\1Z_CL455__FFZ_2022_10_31T00_59_58.mseed\u001b[0m\n",
      "\u001b[1m2025-04-02T12:16:58.241361-0700 | INFO | mth5.io.conversion | split_ms_to_days | Wrote miniseed file to: c:\\Users\\jpeacock\\OneDrive - DOI\\MTData\\CL2021\\archive\\to_dmc\\1Z_CL455__CQN_2022_10_31T01_09_58.mseed\u001b[0m\n",
      "\u001b[1m2025-04-02T12:16:58.661563-0700 | INFO | mth5.io.conversion | split_ms_to_days | Wrote miniseed file to: c:\\Users\\jpeacock\\OneDrive - DOI\\MTData\\CL2021\\archive\\to_dmc\\1Z_CL455__CQE_2022_10_31T01_09_58.mseed\u001b[0m\n",
      "\u001b[1m2025-04-02T12:16:59.080864-0700 | INFO | mth5.io.conversion | split_ms_to_days | Wrote miniseed file to: c:\\Users\\jpeacock\\OneDrive - DOI\\MTData\\CL2021\\archive\\to_dmc\\1Z_CL455__CFN_2022_10_31T01_09_58.mseed\u001b[0m\n",
      "\u001b[1m2025-04-02T12:16:59.521503-0700 | INFO | mth5.io.conversion | split_ms_to_days | Wrote miniseed file to: c:\\Users\\jpeacock\\OneDrive - DOI\\MTData\\CL2021\\archive\\to_dmc\\1Z_CL455__CFE_2022_10_31T01_09_58.mseed\u001b[0m\n",
      "\u001b[1m2025-04-02T12:16:59.952751-0700 | INFO | mth5.io.conversion | split_ms_to_days | Wrote miniseed file to: c:\\Users\\jpeacock\\OneDrive - DOI\\MTData\\CL2021\\archive\\to_dmc\\1Z_CL455__CFZ_2022_10_31T01_09_58.mseed\u001b[0m\n",
      "\u001b[1m2025-04-02T12:17:03.936927-0700 | INFO | mth5.timeseries.run_ts | _align_channels | Channels do not have a common end, using latest: 2022-10-31T07:09:41.999268000\u001b[0m\n"
     ]
    },
    {
     "name": "stderr",
     "output_type": "stream",
     "text": [
      "C:\\Users\\jpeacock\\OneDrive - DOI\\Documents\\GitHub\\mth5\\mth5\\timeseries\\channel_ts.py:1524: RuntimeWarning: invalid value encountered in cast\n",
      "  obspy_trace = Trace(self.ts.astype(encoding_dict[encoding]))\n"
     ]
    },
    {
     "name": "stdout",
     "output_type": "stream",
     "text": [
      "\u001b[1m2025-04-02T12:17:06.740528-0700 | INFO | mth5.io.conversion | split_ms_to_days | Wrote miniseed file to: c:\\Users\\jpeacock\\OneDrive - DOI\\MTData\\CL2021\\archive\\to_dmc\\1Z_CL455__FQN_2022_10_31T06_59_58.mseed\u001b[0m\n",
      "\u001b[1m2025-04-02T12:17:06.932884-0700 | INFO | mth5.io.conversion | split_ms_to_days | Wrote miniseed file to: c:\\Users\\jpeacock\\OneDrive - DOI\\MTData\\CL2021\\archive\\to_dmc\\1Z_CL455__FQE_2022_10_31T06_59_58.mseed\u001b[0m\n",
      "\u001b[1m2025-04-02T12:17:07.118974-0700 | INFO | mth5.io.conversion | split_ms_to_days | Wrote miniseed file to: c:\\Users\\jpeacock\\OneDrive - DOI\\MTData\\CL2021\\archive\\to_dmc\\1Z_CL455__FFN_2022_10_31T06_59_58.mseed\u001b[0m\n",
      "\u001b[1m2025-04-02T12:17:07.307999-0700 | INFO | mth5.io.conversion | split_ms_to_days | Wrote miniseed file to: c:\\Users\\jpeacock\\OneDrive - DOI\\MTData\\CL2021\\archive\\to_dmc\\1Z_CL455__FFE_2022_10_31T06_59_58.mseed\u001b[0m\n",
      "\u001b[1m2025-04-02T12:17:07.514437-0700 | INFO | mth5.io.conversion | split_ms_to_days | Wrote miniseed file to: c:\\Users\\jpeacock\\OneDrive - DOI\\MTData\\CL2021\\archive\\to_dmc\\1Z_CL455__FFZ_2022_10_31T06_59_58.mseed\u001b[0m\n",
      "\u001b[1m2025-04-02T12:17:15.181590-0700 | INFO | mth5.io.conversion | split_ms_to_days | Wrote miniseed file to: c:\\Users\\jpeacock\\OneDrive - DOI\\MTData\\CL2021\\archive\\to_dmc\\1Z_CL455__CQN_2022_10_31T07_09_58.mseed\u001b[0m\n",
      "\u001b[1m2025-04-02T12:17:15.595906-0700 | INFO | mth5.io.conversion | split_ms_to_days | Wrote miniseed file to: c:\\Users\\jpeacock\\OneDrive - DOI\\MTData\\CL2021\\archive\\to_dmc\\1Z_CL455__CQE_2022_10_31T07_09_58.mseed\u001b[0m\n",
      "\u001b[1m2025-04-02T12:17:16.010226-0700 | INFO | mth5.io.conversion | split_ms_to_days | Wrote miniseed file to: c:\\Users\\jpeacock\\OneDrive - DOI\\MTData\\CL2021\\archive\\to_dmc\\1Z_CL455__CFN_2022_10_31T07_09_58.mseed\u001b[0m\n",
      "\u001b[1m2025-04-02T12:17:16.438754-0700 | INFO | mth5.io.conversion | split_ms_to_days | Wrote miniseed file to: c:\\Users\\jpeacock\\OneDrive - DOI\\MTData\\CL2021\\archive\\to_dmc\\1Z_CL455__CFE_2022_10_31T07_09_58.mseed\u001b[0m\n",
      "\u001b[1m2025-04-02T12:17:16.859905-0700 | INFO | mth5.io.conversion | split_ms_to_days | Wrote miniseed file to: c:\\Users\\jpeacock\\OneDrive - DOI\\MTData\\CL2021\\archive\\to_dmc\\1Z_CL455__CFZ_2022_10_31T07_09_58.mseed\u001b[0m\n",
      "\u001b[1m2025-04-02T12:17:20.922192-0700 | INFO | mth5.timeseries.run_ts | _align_channels | Channels do not have a common end, using latest: 2022-10-31T13:09:41.997559000\u001b[0m\n"
     ]
    },
    {
     "name": "stderr",
     "output_type": "stream",
     "text": [
      "C:\\Users\\jpeacock\\OneDrive - DOI\\Documents\\GitHub\\mth5\\mth5\\timeseries\\channel_ts.py:1524: RuntimeWarning: invalid value encountered in cast\n",
      "  obspy_trace = Trace(self.ts.astype(encoding_dict[encoding]))\n"
     ]
    },
    {
     "name": "stdout",
     "output_type": "stream",
     "text": [
      "\u001b[1m2025-04-02T12:17:23.689428-0700 | INFO | mth5.io.conversion | split_ms_to_days | Wrote miniseed file to: c:\\Users\\jpeacock\\OneDrive - DOI\\MTData\\CL2021\\archive\\to_dmc\\1Z_CL455__FQN_2022_10_31T12_59_58.mseed\u001b[0m\n",
      "\u001b[1m2025-04-02T12:17:23.877626-0700 | INFO | mth5.io.conversion | split_ms_to_days | Wrote miniseed file to: c:\\Users\\jpeacock\\OneDrive - DOI\\MTData\\CL2021\\archive\\to_dmc\\1Z_CL455__FQE_2022_10_31T12_59_58.mseed\u001b[0m\n",
      "\u001b[1m2025-04-02T12:17:24.063611-0700 | INFO | mth5.io.conversion | split_ms_to_days | Wrote miniseed file to: c:\\Users\\jpeacock\\OneDrive - DOI\\MTData\\CL2021\\archive\\to_dmc\\1Z_CL455__FFN_2022_10_31T12_59_58.mseed\u001b[0m\n",
      "\u001b[1m2025-04-02T12:17:24.262828-0700 | INFO | mth5.io.conversion | split_ms_to_days | Wrote miniseed file to: c:\\Users\\jpeacock\\OneDrive - DOI\\MTData\\CL2021\\archive\\to_dmc\\1Z_CL455__FFE_2022_10_31T12_59_58.mseed\u001b[0m\n",
      "\u001b[1m2025-04-02T12:17:24.453555-0700 | INFO | mth5.io.conversion | split_ms_to_days | Wrote miniseed file to: c:\\Users\\jpeacock\\OneDrive - DOI\\MTData\\CL2021\\archive\\to_dmc\\1Z_CL455__FFZ_2022_10_31T12_59_58.mseed\u001b[0m\n",
      "\u001b[1m2025-04-02T12:17:29.871089-0700 | INFO | mth5.io.conversion | split_ms_to_days | Wrote miniseed file to: c:\\Users\\jpeacock\\OneDrive - DOI\\MTData\\CL2021\\archive\\to_dmc\\1Z_CL455__CQN_2022_10_31T13_09_58.mseed\u001b[0m\n",
      "\u001b[1m2025-04-02T12:17:30.047662-0700 | INFO | mth5.io.conversion | split_ms_to_days | Wrote miniseed file to: c:\\Users\\jpeacock\\OneDrive - DOI\\MTData\\CL2021\\archive\\to_dmc\\1Z_CL455__CQE_2022_10_31T13_09_58.mseed\u001b[0m\n",
      "\u001b[1m2025-04-02T12:17:30.247475-0700 | INFO | mth5.io.conversion | split_ms_to_days | Wrote miniseed file to: c:\\Users\\jpeacock\\OneDrive - DOI\\MTData\\CL2021\\archive\\to_dmc\\1Z_CL455__CFN_2022_10_31T13_09_58.mseed\u001b[0m\n",
      "\u001b[1m2025-04-02T12:17:30.457529-0700 | INFO | mth5.io.conversion | split_ms_to_days | Wrote miniseed file to: c:\\Users\\jpeacock\\OneDrive - DOI\\MTData\\CL2021\\archive\\to_dmc\\1Z_CL455__CFE_2022_10_31T13_09_58.mseed\u001b[0m\n",
      "\u001b[1m2025-04-02T12:17:30.643774-0700 | INFO | mth5.io.conversion | split_ms_to_days | Wrote miniseed file to: c:\\Users\\jpeacock\\OneDrive - DOI\\MTData\\CL2021\\archive\\to_dmc\\1Z_CL455__CFZ_2022_10_31T13_09_58.mseed\u001b[0m\n",
      "\u001b[1m2025-04-02T12:17:32.049686-0700 | INFO | mth5.mth5 | close_mth5 | Flushing and closing c:\\Users\\jpeacock\\OneDrive - DOI\\MTData\\CL2021\\archive\\cl455.h5\u001b[0m\n",
      "\u001b[33m\u001b[1m2025-04-02T12:17:32.053681-0700 | WARNING | mt_metadata.timeseries.stationxml.xml_station_mt_station | mt_to_xml | Station.geographic_name is None, using Station.id = cl455.Check StationXML site.name.\u001b[0m\n",
      "\u001b[1m2025-04-02T12:17:32.132192-0700 | INFO | mt_metadata.timeseries.filters.channel_response | to_obspy | total sensitivity 105384854631.2247 != total gain 1048576000.000055. Using total_gain.\u001b[0m\n",
      "\u001b[1m2025-04-02T12:17:32.161198-0700 | INFO | mt_metadata.timeseries.filters.channel_response | to_obspy | total sensitivity 105012851743.1351 != total gain 1048576000.000055. Using total_gain.\u001b[0m\n",
      "\u001b[1m2025-04-02T12:17:32.189709-0700 | INFO | mt_metadata.timeseries.filters.channel_response | to_obspy | total sensitivity 104693940307.89154 != total gain 1048576000.000055. Using total_gain.\u001b[0m\n",
      "\u001b[1m2025-04-02T12:17:32.279223-0700 | INFO | mt_metadata.timeseries.filters.channel_response | to_obspy | total sensitivity 105384854631.2247 != total gain 1048576000.000055. Using total_gain.\u001b[0m\n",
      "\u001b[1m2025-04-02T12:17:32.307223-0700 | INFO | mt_metadata.timeseries.filters.channel_response | to_obspy | total sensitivity 105012851743.1351 != total gain 1048576000.000055. Using total_gain.\u001b[0m\n",
      "\u001b[1m2025-04-02T12:17:32.342226-0700 | INFO | mt_metadata.timeseries.filters.channel_response | to_obspy | total sensitivity 104693940307.89154 != total gain 1048576000.000055. Using total_gain.\u001b[0m\n",
      "\u001b[1m2025-04-02T12:17:32.439072-0700 | INFO | mt_metadata.timeseries.filters.channel_response | to_obspy | total sensitivity 105384854631.2247 != total gain 1048576000.000055. Using total_gain.\u001b[0m\n",
      "\u001b[1m2025-04-02T12:17:32.467651-0700 | INFO | mt_metadata.timeseries.filters.channel_response | to_obspy | total sensitivity 105012851743.1351 != total gain 1048576000.000055. Using total_gain.\u001b[0m\n",
      "\u001b[1m2025-04-02T12:17:32.494684-0700 | INFO | mt_metadata.timeseries.filters.channel_response | to_obspy | total sensitivity 104693940307.89154 != total gain 1048576000.000055. Using total_gain.\u001b[0m\n",
      "\u001b[1m2025-04-02T12:17:32.588174-0700 | INFO | mt_metadata.timeseries.filters.channel_response | to_obspy | total sensitivity 105384854631.2247 != total gain 1048576000.000055. Using total_gain.\u001b[0m\n",
      "\u001b[1m2025-04-02T12:17:32.620174-0700 | INFO | mt_metadata.timeseries.filters.channel_response | to_obspy | total sensitivity 105012851743.1351 != total gain 1048576000.000055. Using total_gain.\u001b[0m\n",
      "\u001b[1m2025-04-02T12:17:32.652180-0700 | INFO | mt_metadata.timeseries.filters.channel_response | to_obspy | total sensitivity 104693940307.89154 != total gain 1048576000.000055. Using total_gain.\u001b[0m\n",
      "\u001b[1m2025-04-02T12:17:32.776312-0700 | INFO | mt_metadata.timeseries.filters.channel_response | to_obspy | total sensitivity 105384854631.2247 != total gain 1048576000.000055. Using total_gain.\u001b[0m\n",
      "\u001b[1m2025-04-02T12:17:32.804279-0700 | INFO | mt_metadata.timeseries.filters.channel_response | to_obspy | total sensitivity 105012851743.1351 != total gain 1048576000.000055. Using total_gain.\u001b[0m\n",
      "\u001b[1m2025-04-02T12:17:32.834280-0700 | INFO | mt_metadata.timeseries.filters.channel_response | to_obspy | total sensitivity 104693940307.89154 != total gain 1048576000.000055. Using total_gain.\u001b[0m\n",
      "\u001b[1m2025-04-02T12:17:32.923795-0700 | INFO | mt_metadata.timeseries.filters.channel_response | to_obspy | total sensitivity 105384854631.2247 != total gain 1048576000.000055. Using total_gain.\u001b[0m\n",
      "\u001b[1m2025-04-02T12:17:32.957803-0700 | INFO | mt_metadata.timeseries.filters.channel_response | to_obspy | total sensitivity 105012851743.1351 != total gain 1048576000.000055. Using total_gain.\u001b[0m\n",
      "\u001b[1m2025-04-02T12:17:32.988115-0700 | INFO | mt_metadata.timeseries.filters.channel_response | to_obspy | total sensitivity 104693940307.89154 != total gain 1048576000.000055. Using total_gain.\u001b[0m\n",
      "\u001b[1m2025-04-02T12:17:33.085631-0700 | INFO | mt_metadata.timeseries.filters.channel_response | to_obspy | total sensitivity 105384854631.2247 != total gain 1048576000.000055. Using total_gain.\u001b[0m\n",
      "\u001b[1m2025-04-02T12:17:33.120631-0700 | INFO | mt_metadata.timeseries.filters.channel_response | to_obspy | total sensitivity 105012851743.1351 != total gain 1048576000.000055. Using total_gain.\u001b[0m\n",
      "\u001b[1m2025-04-02T12:17:33.149637-0700 | INFO | mt_metadata.timeseries.filters.channel_response | to_obspy | total sensitivity 104693940307.89154 != total gain 1048576000.000055. Using total_gain.\u001b[0m\n",
      "\u001b[1m2025-04-02T12:17:33.261152-0700 | INFO | mt_metadata.timeseries.filters.channel_response | to_obspy | total sensitivity 105384854631.2247 != total gain 1048576000.000055. Using total_gain.\u001b[0m\n",
      "\u001b[1m2025-04-02T12:17:33.289699-0700 | INFO | mt_metadata.timeseries.filters.channel_response | to_obspy | total sensitivity 105012851743.1351 != total gain 1048576000.000055. Using total_gain.\u001b[0m\n",
      "\u001b[1m2025-04-02T12:17:33.318667-0700 | INFO | mt_metadata.timeseries.filters.channel_response | to_obspy | total sensitivity 104693940307.89154 != total gain 1048576000.000055. Using total_gain.\u001b[0m\n",
      "\u001b[1m2025-04-02T12:17:33.407182-0700 | INFO | mt_metadata.timeseries.filters.channel_response | to_obspy | total sensitivity 105384854631.2247 != total gain 1048576000.000055. Using total_gain.\u001b[0m\n",
      "\u001b[1m2025-04-02T12:17:33.439183-0700 | INFO | mt_metadata.timeseries.filters.channel_response | to_obspy | total sensitivity 105012851743.1351 != total gain 1048576000.000055. Using total_gain.\u001b[0m\n",
      "\u001b[1m2025-04-02T12:17:33.470698-0700 | INFO | mt_metadata.timeseries.filters.channel_response | to_obspy | total sensitivity 104693940307.89154 != total gain 1048576000.000055. Using total_gain.\u001b[0m\n",
      "\u001b[1m2025-04-02T12:17:33.569213-0700 | INFO | mt_metadata.timeseries.filters.channel_response | to_obspy | total sensitivity 105384854631.2247 != total gain 1048576000.000055. Using total_gain.\u001b[0m\n",
      "\u001b[1m2025-04-02T12:17:33.603214-0700 | INFO | mt_metadata.timeseries.filters.channel_response | to_obspy | total sensitivity 105012851743.1351 != total gain 1048576000.000055. Using total_gain.\u001b[0m\n",
      "\u001b[1m2025-04-02T12:17:33.631214-0700 | INFO | mt_metadata.timeseries.filters.channel_response | to_obspy | total sensitivity 104693940307.89154 != total gain 1048576000.000055. Using total_gain.\u001b[0m\n",
      "\u001b[1m2025-04-02T12:17:33.665727-0700 | INFO | mth5.io.conversion | convert_mth5_to_ms_stationxml | Wrote StationXML to c:\\Users\\jpeacock\\OneDrive - DOI\\MTData\\CL2021\\archive\\to_dmc\\cl455.xml\u001b[0m\n",
      "\u001b[33m\u001b[1m2025-04-02T12:17:35.457421-0700 | WARNING | mt_metadata.timeseries.station | remove_run | Could not find cl461a to remove.\u001b[0m\n",
      "\u001b[1m2025-04-02T12:17:39.008037-0700 | INFO | mth5.io.conversion | split_ms_to_days | Wrote miniseed file to: c:\\Users\\jpeacock\\OneDrive - DOI\\MTData\\CL2021\\archive\\to_dmc\\1Z_CL461__LQN_2022_10_30T21_44_58.mseed\u001b[0m\n",
      "\u001b[1m2025-04-02T12:17:39.011040-0700 | INFO | mth5.io.conversion | split_ms_to_days | Wrote miniseed file to: c:\\Users\\jpeacock\\OneDrive - DOI\\MTData\\CL2021\\archive\\to_dmc\\1Z_CL461__LQN_2022_10_31T00_00_00.mseed\u001b[0m\n",
      "\u001b[1m2025-04-02T12:17:39.019038-0700 | INFO | mth5.io.conversion | split_ms_to_days | Wrote miniseed file to: c:\\Users\\jpeacock\\OneDrive - DOI\\MTData\\CL2021\\archive\\to_dmc\\1Z_CL461__LQE_2022_10_30T21_44_58.mseed\u001b[0m\n",
      "\u001b[1m2025-04-02T12:17:39.057189-0700 | INFO | mth5.io.conversion | split_ms_to_days | Wrote miniseed file to: c:\\Users\\jpeacock\\OneDrive - DOI\\MTData\\CL2021\\archive\\to_dmc\\1Z_CL461__LQE_2022_10_31T00_00_00.mseed\u001b[0m\n",
      "\u001b[1m2025-04-02T12:17:39.065187-0700 | INFO | mth5.io.conversion | split_ms_to_days | Wrote miniseed file to: c:\\Users\\jpeacock\\OneDrive - DOI\\MTData\\CL2021\\archive\\to_dmc\\1Z_CL461__LFN_2022_10_30T21_44_58.mseed\u001b[0m\n",
      "\u001b[1m2025-04-02T12:17:39.068189-0700 | INFO | mth5.io.conversion | split_ms_to_days | Wrote miniseed file to: c:\\Users\\jpeacock\\OneDrive - DOI\\MTData\\CL2021\\archive\\to_dmc\\1Z_CL461__LFN_2022_10_31T00_00_00.mseed\u001b[0m\n",
      "\u001b[1m2025-04-02T12:17:39.075701-0700 | INFO | mth5.io.conversion | split_ms_to_days | Wrote miniseed file to: c:\\Users\\jpeacock\\OneDrive - DOI\\MTData\\CL2021\\archive\\to_dmc\\1Z_CL461__LFE_2022_10_30T21_44_58.mseed\u001b[0m\n",
      "\u001b[1m2025-04-02T12:17:39.078702-0700 | INFO | mth5.io.conversion | split_ms_to_days | Wrote miniseed file to: c:\\Users\\jpeacock\\OneDrive - DOI\\MTData\\CL2021\\archive\\to_dmc\\1Z_CL461__LFE_2022_10_31T00_00_00.mseed\u001b[0m\n",
      "\u001b[1m2025-04-02T12:17:39.086702-0700 | INFO | mth5.io.conversion | split_ms_to_days | Wrote miniseed file to: c:\\Users\\jpeacock\\OneDrive - DOI\\MTData\\CL2021\\archive\\to_dmc\\1Z_CL461__LFZ_2022_10_30T21_44_58.mseed\u001b[0m\n",
      "\u001b[1m2025-04-02T12:17:39.089702-0700 | INFO | mth5.io.conversion | split_ms_to_days | Wrote miniseed file to: c:\\Users\\jpeacock\\OneDrive - DOI\\MTData\\CL2021\\archive\\to_dmc\\1Z_CL461__LFZ_2022_10_31T00_00_00.mseed\u001b[0m\n",
      "\u001b[1m2025-04-02T12:17:44.112217-0700 | INFO | mth5.timeseries.run_ts | _align_channels | Channels do not have a common end, using latest: 2022-10-31T00:59:41.968750000\u001b[0m\n",
      "\u001b[1m2025-04-02T12:17:45.874272-0700 | INFO | mth5.io.conversion | split_ms_to_days | Wrote miniseed file to: c:\\Users\\jpeacock\\OneDrive - DOI\\MTData\\CL2021\\archive\\to_dmc\\1Z_CL461__CQN_2022_10_30T21_44_58.mseed\u001b[0m\n",
      "\u001b[1m2025-04-02T12:17:46.050741-0700 | INFO | mth5.io.conversion | split_ms_to_days | Wrote miniseed file to: c:\\Users\\jpeacock\\OneDrive - DOI\\MTData\\CL2021\\archive\\to_dmc\\1Z_CL461__CQN_2022_10_31T00_00_00.mseed\u001b[0m\n",
      "\u001b[1m2025-04-02T12:17:46.123257-0700 | INFO | mth5.io.conversion | split_ms_to_days | Wrote miniseed file to: c:\\Users\\jpeacock\\OneDrive - DOI\\MTData\\CL2021\\archive\\to_dmc\\1Z_CL461__CQE_2022_10_30T21_44_58.mseed\u001b[0m\n",
      "\u001b[1m2025-04-02T12:17:46.292291-0700 | INFO | mth5.io.conversion | split_ms_to_days | Wrote miniseed file to: c:\\Users\\jpeacock\\OneDrive - DOI\\MTData\\CL2021\\archive\\to_dmc\\1Z_CL461__CQE_2022_10_31T00_00_00.mseed\u001b[0m\n",
      "\u001b[1m2025-04-02T12:17:46.370050-0700 | INFO | mth5.io.conversion | split_ms_to_days | Wrote miniseed file to: c:\\Users\\jpeacock\\OneDrive - DOI\\MTData\\CL2021\\archive\\to_dmc\\1Z_CL461__CFN_2022_10_30T21_44_58.mseed\u001b[0m\n",
      "\u001b[1m2025-04-02T12:17:46.542353-0700 | INFO | mth5.io.conversion | split_ms_to_days | Wrote miniseed file to: c:\\Users\\jpeacock\\OneDrive - DOI\\MTData\\CL2021\\archive\\to_dmc\\1Z_CL461__CFN_2022_10_31T00_00_00.mseed\u001b[0m\n",
      "\u001b[1m2025-04-02T12:17:46.615932-0700 | INFO | mth5.io.conversion | split_ms_to_days | Wrote miniseed file to: c:\\Users\\jpeacock\\OneDrive - DOI\\MTData\\CL2021\\archive\\to_dmc\\1Z_CL461__CFE_2022_10_30T21_44_58.mseed\u001b[0m\n",
      "\u001b[1m2025-04-02T12:17:46.785967-0700 | INFO | mth5.io.conversion | split_ms_to_days | Wrote miniseed file to: c:\\Users\\jpeacock\\OneDrive - DOI\\MTData\\CL2021\\archive\\to_dmc\\1Z_CL461__CFE_2022_10_31T00_00_00.mseed\u001b[0m\n",
      "\u001b[1m2025-04-02T12:17:46.861959-0700 | INFO | mth5.io.conversion | split_ms_to_days | Wrote miniseed file to: c:\\Users\\jpeacock\\OneDrive - DOI\\MTData\\CL2021\\archive\\to_dmc\\1Z_CL461__CFZ_2022_10_30T21_44_58.mseed\u001b[0m\n",
      "\u001b[1m2025-04-02T12:17:47.053050-0700 | INFO | mth5.io.conversion | split_ms_to_days | Wrote miniseed file to: c:\\Users\\jpeacock\\OneDrive - DOI\\MTData\\CL2021\\archive\\to_dmc\\1Z_CL461__CFZ_2022_10_31T00_00_00.mseed\u001b[0m\n",
      "\u001b[1m2025-04-02T12:17:50.267543-0700 | INFO | mth5.timeseries.run_ts | _align_channels | Channels do not have a common end, using latest: 2022-10-31T01:09:41.998535156\u001b[0m\n",
      "\u001b[33m\u001b[1m2025-04-02T12:17:52.790086-0700 | WARNING | mth5.timeseries.run_ts | validate_metadata | end time of dataset 2022-10-31T01:09:41.998291015+00:00 does not match metadata end 2022-10-31T01:09:41.998535156+00:00 updating metatdata value to 2022-10-31T01:09:41.998291015+00:00\u001b[0m\n"
     ]
    },
    {
     "name": "stderr",
     "output_type": "stream",
     "text": [
      "C:\\Users\\jpeacock\\OneDrive - DOI\\Documents\\GitHub\\mth5\\mth5\\timeseries\\channel_ts.py:1524: RuntimeWarning: invalid value encountered in cast\n",
      "  obspy_trace = Trace(self.ts.astype(encoding_dict[encoding]))\n"
     ]
    },
    {
     "name": "stdout",
     "output_type": "stream",
     "text": [
      "\u001b[1m2025-04-02T12:17:53.519952-0700 | INFO | mth5.io.conversion | split_ms_to_days | Wrote miniseed file to: c:\\Users\\jpeacock\\OneDrive - DOI\\MTData\\CL2021\\archive\\to_dmc\\1Z_CL461__FQN_2022_10_31T00_59_58.mseed\u001b[0m\n",
      "\u001b[1m2025-04-02T12:17:53.715981-0700 | INFO | mth5.io.conversion | split_ms_to_days | Wrote miniseed file to: c:\\Users\\jpeacock\\OneDrive - DOI\\MTData\\CL2021\\archive\\to_dmc\\1Z_CL461__FQE_2022_10_31T00_59_58.mseed\u001b[0m\n",
      "\u001b[1m2025-04-02T12:17:53.926628-0700 | INFO | mth5.io.conversion | split_ms_to_days | Wrote miniseed file to: c:\\Users\\jpeacock\\OneDrive - DOI\\MTData\\CL2021\\archive\\to_dmc\\1Z_CL461__FFN_2022_10_31T00_59_58.mseed\u001b[0m\n",
      "\u001b[1m2025-04-02T12:17:54.119765-0700 | INFO | mth5.io.conversion | split_ms_to_days | Wrote miniseed file to: c:\\Users\\jpeacock\\OneDrive - DOI\\MTData\\CL2021\\archive\\to_dmc\\1Z_CL461__FFE_2022_10_31T00_59_58.mseed\u001b[0m\n",
      "\u001b[1m2025-04-02T12:17:54.320428-0700 | INFO | mth5.io.conversion | split_ms_to_days | Wrote miniseed file to: c:\\Users\\jpeacock\\OneDrive - DOI\\MTData\\CL2021\\archive\\to_dmc\\1Z_CL461__FFZ_2022_10_31T00_59_58.mseed\u001b[0m\n",
      "\u001b[1m2025-04-02T12:18:02.156601-0700 | INFO | mth5.io.conversion | split_ms_to_days | Wrote miniseed file to: c:\\Users\\jpeacock\\OneDrive - DOI\\MTData\\CL2021\\archive\\to_dmc\\1Z_CL461__CQN_2022_10_31T01_09_58.mseed\u001b[0m\n",
      "\u001b[1m2025-04-02T12:18:02.593474-0700 | INFO | mth5.io.conversion | split_ms_to_days | Wrote miniseed file to: c:\\Users\\jpeacock\\OneDrive - DOI\\MTData\\CL2021\\archive\\to_dmc\\1Z_CL461__CQE_2022_10_31T01_09_58.mseed\u001b[0m\n",
      "\u001b[1m2025-04-02T12:18:03.036281-0700 | INFO | mth5.io.conversion | split_ms_to_days | Wrote miniseed file to: c:\\Users\\jpeacock\\OneDrive - DOI\\MTData\\CL2021\\archive\\to_dmc\\1Z_CL461__CFN_2022_10_31T01_09_58.mseed\u001b[0m\n",
      "\u001b[1m2025-04-02T12:18:03.480508-0700 | INFO | mth5.io.conversion | split_ms_to_days | Wrote miniseed file to: c:\\Users\\jpeacock\\OneDrive - DOI\\MTData\\CL2021\\archive\\to_dmc\\1Z_CL461__CFE_2022_10_31T01_09_58.mseed\u001b[0m\n",
      "\u001b[1m2025-04-02T12:18:03.910792-0700 | INFO | mth5.io.conversion | split_ms_to_days | Wrote miniseed file to: c:\\Users\\jpeacock\\OneDrive - DOI\\MTData\\CL2021\\archive\\to_dmc\\1Z_CL461__CFZ_2022_10_31T01_09_58.mseed\u001b[0m\n",
      "\u001b[1m2025-04-02T12:18:07.942346-0700 | INFO | mth5.timeseries.run_ts | _align_channels | Channels do not have a common end, using latest: 2022-10-31T07:09:41.997803000\u001b[0m\n"
     ]
    },
    {
     "name": "stderr",
     "output_type": "stream",
     "text": [
      "C:\\Users\\jpeacock\\OneDrive - DOI\\Documents\\GitHub\\mth5\\mth5\\timeseries\\channel_ts.py:1524: RuntimeWarning: invalid value encountered in cast\n",
      "  obspy_trace = Trace(self.ts.astype(encoding_dict[encoding]))\n"
     ]
    },
    {
     "name": "stdout",
     "output_type": "stream",
     "text": [
      "\u001b[1m2025-04-02T12:18:10.301477-0700 | INFO | mth5.io.conversion | split_ms_to_days | Wrote miniseed file to: c:\\Users\\jpeacock\\OneDrive - DOI\\MTData\\CL2021\\archive\\to_dmc\\1Z_CL461__FQN_2022_10_31T06_59_58.mseed\u001b[0m\n",
      "\u001b[1m2025-04-02T12:18:10.490176-0700 | INFO | mth5.io.conversion | split_ms_to_days | Wrote miniseed file to: c:\\Users\\jpeacock\\OneDrive - DOI\\MTData\\CL2021\\archive\\to_dmc\\1Z_CL461__FQE_2022_10_31T06_59_58.mseed\u001b[0m\n",
      "\u001b[1m2025-04-02T12:18:10.703995-0700 | INFO | mth5.io.conversion | split_ms_to_days | Wrote miniseed file to: c:\\Users\\jpeacock\\OneDrive - DOI\\MTData\\CL2021\\archive\\to_dmc\\1Z_CL461__FFN_2022_10_31T06_59_58.mseed\u001b[0m\n",
      "\u001b[1m2025-04-02T12:18:10.896158-0700 | INFO | mth5.io.conversion | split_ms_to_days | Wrote miniseed file to: c:\\Users\\jpeacock\\OneDrive - DOI\\MTData\\CL2021\\archive\\to_dmc\\1Z_CL461__FFE_2022_10_31T06_59_58.mseed\u001b[0m\n",
      "\u001b[1m2025-04-02T12:18:11.088775-0700 | INFO | mth5.io.conversion | split_ms_to_days | Wrote miniseed file to: c:\\Users\\jpeacock\\OneDrive - DOI\\MTData\\CL2021\\archive\\to_dmc\\1Z_CL461__FFZ_2022_10_31T06_59_58.mseed\u001b[0m\n",
      "\u001b[1m2025-04-02T12:18:19.145009-0700 | INFO | mth5.io.conversion | split_ms_to_days | Wrote miniseed file to: c:\\Users\\jpeacock\\OneDrive - DOI\\MTData\\CL2021\\archive\\to_dmc\\1Z_CL461__CQN_2022_10_31T07_09_58.mseed\u001b[0m\n",
      "\u001b[1m2025-04-02T12:18:19.572451-0700 | INFO | mth5.io.conversion | split_ms_to_days | Wrote miniseed file to: c:\\Users\\jpeacock\\OneDrive - DOI\\MTData\\CL2021\\archive\\to_dmc\\1Z_CL461__CQE_2022_10_31T07_09_58.mseed\u001b[0m\n",
      "\u001b[1m2025-04-02T12:18:19.995837-0700 | INFO | mth5.io.conversion | split_ms_to_days | Wrote miniseed file to: c:\\Users\\jpeacock\\OneDrive - DOI\\MTData\\CL2021\\archive\\to_dmc\\1Z_CL461__CFN_2022_10_31T07_09_58.mseed\u001b[0m\n",
      "\u001b[1m2025-04-02T12:18:20.448754-0700 | INFO | mth5.io.conversion | split_ms_to_days | Wrote miniseed file to: c:\\Users\\jpeacock\\OneDrive - DOI\\MTData\\CL2021\\archive\\to_dmc\\1Z_CL461__CFE_2022_10_31T07_09_58.mseed\u001b[0m\n",
      "\u001b[1m2025-04-02T12:18:20.896280-0700 | INFO | mth5.io.conversion | split_ms_to_days | Wrote miniseed file to: c:\\Users\\jpeacock\\OneDrive - DOI\\MTData\\CL2021\\archive\\to_dmc\\1Z_CL461__CFZ_2022_10_31T07_09_58.mseed\u001b[0m\n",
      "\u001b[1m2025-04-02T12:18:24.516889-0700 | INFO | mth5.timeseries.run_ts | _align_channels | Channels do not have a common end, using latest: 2022-10-31T13:09:41.998535156\u001b[0m\n",
      "\u001b[33m\u001b[1m2025-04-02T12:18:26.981920-0700 | WARNING | mth5.timeseries.run_ts | validate_metadata | end time of dataset 2022-10-31T13:09:41.998291015+00:00 does not match metadata end 2022-10-31T13:09:41.998535156+00:00 updating metatdata value to 2022-10-31T13:09:41.998291015+00:00\u001b[0m\n"
     ]
    },
    {
     "name": "stderr",
     "output_type": "stream",
     "text": [
      "C:\\Users\\jpeacock\\OneDrive - DOI\\Documents\\GitHub\\mth5\\mth5\\timeseries\\channel_ts.py:1524: RuntimeWarning: invalid value encountered in cast\n",
      "  obspy_trace = Trace(self.ts.astype(encoding_dict[encoding]))\n"
     ]
    },
    {
     "name": "stdout",
     "output_type": "stream",
     "text": [
      "\u001b[1m2025-04-02T12:18:27.719489-0700 | INFO | mth5.io.conversion | split_ms_to_days | Wrote miniseed file to: c:\\Users\\jpeacock\\OneDrive - DOI\\MTData\\CL2021\\archive\\to_dmc\\1Z_CL461__FQN_2022_10_31T12_59_58.mseed\u001b[0m\n",
      "\u001b[1m2025-04-02T12:18:27.916882-0700 | INFO | mth5.io.conversion | split_ms_to_days | Wrote miniseed file to: c:\\Users\\jpeacock\\OneDrive - DOI\\MTData\\CL2021\\archive\\to_dmc\\1Z_CL461__FQE_2022_10_31T12_59_58.mseed\u001b[0m\n",
      "\u001b[1m2025-04-02T12:18:28.106373-0700 | INFO | mth5.io.conversion | split_ms_to_days | Wrote miniseed file to: c:\\Users\\jpeacock\\OneDrive - DOI\\MTData\\CL2021\\archive\\to_dmc\\1Z_CL461__FFN_2022_10_31T12_59_58.mseed\u001b[0m\n",
      "\u001b[1m2025-04-02T12:18:28.303757-0700 | INFO | mth5.io.conversion | split_ms_to_days | Wrote miniseed file to: c:\\Users\\jpeacock\\OneDrive - DOI\\MTData\\CL2021\\archive\\to_dmc\\1Z_CL461__FFE_2022_10_31T12_59_58.mseed\u001b[0m\n",
      "\u001b[1m2025-04-02T12:18:28.518433-0700 | INFO | mth5.io.conversion | split_ms_to_days | Wrote miniseed file to: c:\\Users\\jpeacock\\OneDrive - DOI\\MTData\\CL2021\\archive\\to_dmc\\1Z_CL461__FFZ_2022_10_31T12_59_58.mseed\u001b[0m\n",
      "\u001b[1m2025-04-02T12:18:35.457793-0700 | INFO | mth5.io.conversion | split_ms_to_days | Wrote miniseed file to: c:\\Users\\jpeacock\\OneDrive - DOI\\MTData\\CL2021\\archive\\to_dmc\\1Z_CL461__CQN_2022_10_31T13_09_58.mseed\u001b[0m\n",
      "\u001b[1m2025-04-02T12:18:35.797432-0700 | INFO | mth5.io.conversion | split_ms_to_days | Wrote miniseed file to: c:\\Users\\jpeacock\\OneDrive - DOI\\MTData\\CL2021\\archive\\to_dmc\\1Z_CL461__CQE_2022_10_31T13_09_58.mseed\u001b[0m\n",
      "\u001b[1m2025-04-02T12:18:36.137414-0700 | INFO | mth5.io.conversion | split_ms_to_days | Wrote miniseed file to: c:\\Users\\jpeacock\\OneDrive - DOI\\MTData\\CL2021\\archive\\to_dmc\\1Z_CL461__CFN_2022_10_31T13_09_58.mseed\u001b[0m\n",
      "\u001b[1m2025-04-02T12:18:36.476303-0700 | INFO | mth5.io.conversion | split_ms_to_days | Wrote miniseed file to: c:\\Users\\jpeacock\\OneDrive - DOI\\MTData\\CL2021\\archive\\to_dmc\\1Z_CL461__CFE_2022_10_31T13_09_58.mseed\u001b[0m\n",
      "\u001b[1m2025-04-02T12:18:36.819722-0700 | INFO | mth5.io.conversion | split_ms_to_days | Wrote miniseed file to: c:\\Users\\jpeacock\\OneDrive - DOI\\MTData\\CL2021\\archive\\to_dmc\\1Z_CL461__CFZ_2022_10_31T13_09_58.mseed\u001b[0m\n",
      "\u001b[1m2025-04-02T12:18:37.998473-0700 | INFO | mth5.mth5 | close_mth5 | Flushing and closing c:\\Users\\jpeacock\\OneDrive - DOI\\MTData\\CL2021\\archive\\cl461.h5\u001b[0m\n",
      "\u001b[33m\u001b[1m2025-04-02T12:18:38.001474-0700 | WARNING | mt_metadata.timeseries.stationxml.xml_station_mt_station | mt_to_xml | Station.geographic_name is None, using Station.id = cl461.Check StationXML site.name.\u001b[0m\n",
      "\u001b[1m2025-04-02T12:18:38.084028-0700 | INFO | mt_metadata.timeseries.filters.channel_response | to_obspy | total sensitivity 104382542748.06306 != total gain 1048576000.000055. Using total_gain.\u001b[0m\n",
      "\u001b[1m2025-04-02T12:18:38.118079-0700 | INFO | mt_metadata.timeseries.filters.channel_response | to_obspy | total sensitivity 105026369151.30917 != total gain 1048576000.000055. Using total_gain.\u001b[0m\n",
      "\u001b[1m2025-04-02T12:18:38.157132-0700 | INFO | mt_metadata.timeseries.filters.channel_response | to_obspy | total sensitivity 105276966379.19785 != total gain 1048576000.000055. Using total_gain.\u001b[0m\n",
      "\u001b[1m2025-04-02T12:18:38.249689-0700 | INFO | mt_metadata.timeseries.filters.channel_response | to_obspy | total sensitivity 104382542748.06306 != total gain 1048576000.000055. Using total_gain.\u001b[0m\n",
      "\u001b[1m2025-04-02T12:18:38.280659-0700 | INFO | mt_metadata.timeseries.filters.channel_response | to_obspy | total sensitivity 105026369151.30917 != total gain 1048576000.000055. Using total_gain.\u001b[0m\n",
      "\u001b[1m2025-04-02T12:18:38.334181-0700 | INFO | mt_metadata.timeseries.filters.channel_response | to_obspy | total sensitivity 105276966379.19785 != total gain 1048576000.000055. Using total_gain.\u001b[0m\n",
      "\u001b[1m2025-04-02T12:18:38.430732-0700 | INFO | mt_metadata.timeseries.filters.channel_response | to_obspy | total sensitivity 104382542748.06306 != total gain 1048576000.000055. Using total_gain.\u001b[0m\n",
      "\u001b[1m2025-04-02T12:18:38.460984-0700 | INFO | mt_metadata.timeseries.filters.channel_response | to_obspy | total sensitivity 105026369151.30917 != total gain 1048576000.000055. Using total_gain.\u001b[0m\n",
      "\u001b[1m2025-04-02T12:18:38.490979-0700 | INFO | mt_metadata.timeseries.filters.channel_response | to_obspy | total sensitivity 105276966379.19785 != total gain 1048576000.000055. Using total_gain.\u001b[0m\n",
      "\u001b[1m2025-04-02T12:18:38.582532-0700 | INFO | mt_metadata.timeseries.filters.channel_response | to_obspy | total sensitivity 104382542748.06306 != total gain 1048576000.000055. Using total_gain.\u001b[0m\n",
      "\u001b[1m2025-04-02T12:18:38.610539-0700 | INFO | mt_metadata.timeseries.filters.channel_response | to_obspy | total sensitivity 105026369151.30917 != total gain 1048576000.000055. Using total_gain.\u001b[0m\n",
      "\u001b[1m2025-04-02T12:18:38.639634-0700 | INFO | mt_metadata.timeseries.filters.channel_response | to_obspy | total sensitivity 105276966379.19785 != total gain 1048576000.000055. Using total_gain.\u001b[0m\n",
      "\u001b[1m2025-04-02T12:18:38.728990-0700 | INFO | mt_metadata.timeseries.filters.channel_response | to_obspy | total sensitivity 104382542748.06306 != total gain 1048576000.000055. Using total_gain.\u001b[0m\n",
      "\u001b[1m2025-04-02T12:18:38.757992-0700 | INFO | mt_metadata.timeseries.filters.channel_response | to_obspy | total sensitivity 105026369151.30917 != total gain 1048576000.000055. Using total_gain.\u001b[0m\n",
      "\u001b[1m2025-04-02T12:18:38.786992-0700 | INFO | mt_metadata.timeseries.filters.channel_response | to_obspy | total sensitivity 105276966379.19785 != total gain 1048576000.000055. Using total_gain.\u001b[0m\n",
      "\u001b[1m2025-04-02T12:18:38.880501-0700 | INFO | mt_metadata.timeseries.filters.channel_response | to_obspy | total sensitivity 104382542748.06306 != total gain 1048576000.000055. Using total_gain.\u001b[0m\n",
      "\u001b[1m2025-04-02T12:18:38.909509-0700 | INFO | mt_metadata.timeseries.filters.channel_response | to_obspy | total sensitivity 105026369151.30917 != total gain 1048576000.000055. Using total_gain.\u001b[0m\n",
      "\u001b[1m2025-04-02T12:18:38.939023-0700 | INFO | mt_metadata.timeseries.filters.channel_response | to_obspy | total sensitivity 105276966379.19785 != total gain 1048576000.000055. Using total_gain.\u001b[0m\n",
      "\u001b[1m2025-04-02T12:18:39.030604-0700 | INFO | mt_metadata.timeseries.filters.channel_response | to_obspy | total sensitivity 104382542748.06306 != total gain 1048576000.000055. Using total_gain.\u001b[0m\n",
      "\u001b[1m2025-04-02T12:18:39.059605-0700 | INFO | mt_metadata.timeseries.filters.channel_response | to_obspy | total sensitivity 105026369151.30917 != total gain 1048576000.000055. Using total_gain.\u001b[0m\n",
      "\u001b[1m2025-04-02T12:18:39.087572-0700 | INFO | mt_metadata.timeseries.filters.channel_response | to_obspy | total sensitivity 105276966379.19785 != total gain 1048576000.000055. Using total_gain.\u001b[0m\n",
      "\u001b[1m2025-04-02T12:18:39.179154-0700 | INFO | mt_metadata.timeseries.filters.channel_response | to_obspy | total sensitivity 104382542748.06306 != total gain 1048576000.000055. Using total_gain.\u001b[0m\n",
      "\u001b[1m2025-04-02T12:18:39.209159-0700 | INFO | mt_metadata.timeseries.filters.channel_response | to_obspy | total sensitivity 105026369151.30917 != total gain 1048576000.000055. Using total_gain.\u001b[0m\n",
      "\u001b[1m2025-04-02T12:18:39.237673-0700 | INFO | mt_metadata.timeseries.filters.channel_response | to_obspy | total sensitivity 105276966379.19785 != total gain 1048576000.000055. Using total_gain.\u001b[0m\n",
      "\u001b[1m2025-04-02T12:18:39.269675-0700 | INFO | mth5.io.conversion | convert_mth5_to_ms_stationxml | Wrote StationXML to c:\\Users\\jpeacock\\OneDrive - DOI\\MTData\\CL2021\\archive\\to_dmc\\cl461.xml\u001b[0m\n",
      "\u001b[33m\u001b[1m2025-04-02T12:18:41.370299-0700 | WARNING | mt_metadata.timeseries.station | remove_run | Could not find cl463a to remove.\u001b[0m\n",
      "\u001b[1m2025-04-02T12:18:44.836550-0700 | INFO | mth5.io.conversion | split_ms_to_days | Wrote miniseed file to: c:\\Users\\jpeacock\\OneDrive - DOI\\MTData\\CL2021\\archive\\to_dmc\\1Z_CL463__LQN_2022_10_30T20_19_58.mseed\u001b[0m\n",
      "\u001b[1m2025-04-02T12:18:44.840524-0700 | INFO | mth5.io.conversion | split_ms_to_days | Wrote miniseed file to: c:\\Users\\jpeacock\\OneDrive - DOI\\MTData\\CL2021\\archive\\to_dmc\\1Z_CL463__LQN_2022_10_31T00_00_00.mseed\u001b[0m\n",
      "\u001b[1m2025-04-02T12:18:44.848282-0700 | INFO | mth5.io.conversion | split_ms_to_days | Wrote miniseed file to: c:\\Users\\jpeacock\\OneDrive - DOI\\MTData\\CL2021\\archive\\to_dmc\\1Z_CL463__LQE_2022_10_30T20_19_58.mseed\u001b[0m\n",
      "\u001b[1m2025-04-02T12:18:44.852283-0700 | INFO | mth5.io.conversion | split_ms_to_days | Wrote miniseed file to: c:\\Users\\jpeacock\\OneDrive - DOI\\MTData\\CL2021\\archive\\to_dmc\\1Z_CL463__LQE_2022_10_31T00_00_00.mseed\u001b[0m\n",
      "\u001b[1m2025-04-02T12:18:44.861294-0700 | INFO | mth5.io.conversion | split_ms_to_days | Wrote miniseed file to: c:\\Users\\jpeacock\\OneDrive - DOI\\MTData\\CL2021\\archive\\to_dmc\\1Z_CL463__LFN_2022_10_30T20_19_58.mseed\u001b[0m\n",
      "\u001b[1m2025-04-02T12:18:44.865287-0700 | INFO | mth5.io.conversion | split_ms_to_days | Wrote miniseed file to: c:\\Users\\jpeacock\\OneDrive - DOI\\MTData\\CL2021\\archive\\to_dmc\\1Z_CL463__LFN_2022_10_31T00_00_00.mseed\u001b[0m\n",
      "\u001b[1m2025-04-02T12:18:44.871288-0700 | INFO | mth5.io.conversion | split_ms_to_days | Wrote miniseed file to: c:\\Users\\jpeacock\\OneDrive - DOI\\MTData\\CL2021\\archive\\to_dmc\\1Z_CL463__LFE_2022_10_30T20_19_58.mseed\u001b[0m\n",
      "\u001b[1m2025-04-02T12:18:44.877292-0700 | INFO | mth5.io.conversion | split_ms_to_days | Wrote miniseed file to: c:\\Users\\jpeacock\\OneDrive - DOI\\MTData\\CL2021\\archive\\to_dmc\\1Z_CL463__LFE_2022_10_31T00_00_00.mseed\u001b[0m\n",
      "\u001b[1m2025-04-02T12:18:44.885288-0700 | INFO | mth5.io.conversion | split_ms_to_days | Wrote miniseed file to: c:\\Users\\jpeacock\\OneDrive - DOI\\MTData\\CL2021\\archive\\to_dmc\\1Z_CL463__LFZ_2022_10_30T20_19_58.mseed\u001b[0m\n",
      "\u001b[1m2025-04-02T12:18:44.889285-0700 | INFO | mth5.io.conversion | split_ms_to_days | Wrote miniseed file to: c:\\Users\\jpeacock\\OneDrive - DOI\\MTData\\CL2021\\archive\\to_dmc\\1Z_CL463__LFZ_2022_10_31T00_00_00.mseed\u001b[0m\n",
      "\u001b[1m2025-04-02T12:18:51.509726-0700 | INFO | mth5.io.conversion | split_ms_to_days | Wrote miniseed file to: c:\\Users\\jpeacock\\OneDrive - DOI\\MTData\\CL2021\\archive\\to_dmc\\1Z_CL463__CQN_2022_10_30T20_19_58.mseed\u001b[0m\n",
      "\u001b[1m2025-04-02T12:18:51.781941-0700 | INFO | mth5.io.conversion | split_ms_to_days | Wrote miniseed file to: c:\\Users\\jpeacock\\OneDrive - DOI\\MTData\\CL2021\\archive\\to_dmc\\1Z_CL463__CQN_2022_10_31T00_00_00.mseed\u001b[0m\n",
      "\u001b[1m2025-04-02T12:18:51.860998-0700 | INFO | mth5.io.conversion | split_ms_to_days | Wrote miniseed file to: c:\\Users\\jpeacock\\OneDrive - DOI\\MTData\\CL2021\\archive\\to_dmc\\1Z_CL463__CQE_2022_10_30T20_19_58.mseed\u001b[0m\n",
      "\u001b[1m2025-04-02T12:18:52.138596-0700 | INFO | mth5.io.conversion | split_ms_to_days | Wrote miniseed file to: c:\\Users\\jpeacock\\OneDrive - DOI\\MTData\\CL2021\\archive\\to_dmc\\1Z_CL463__CQE_2022_10_31T00_00_00.mseed\u001b[0m\n",
      "\u001b[1m2025-04-02T12:18:52.215598-0700 | INFO | mth5.io.conversion | split_ms_to_days | Wrote miniseed file to: c:\\Users\\jpeacock\\OneDrive - DOI\\MTData\\CL2021\\archive\\to_dmc\\1Z_CL463__CFN_2022_10_30T20_19_58.mseed\u001b[0m\n",
      "\u001b[1m2025-04-02T12:18:52.494608-0700 | INFO | mth5.io.conversion | split_ms_to_days | Wrote miniseed file to: c:\\Users\\jpeacock\\OneDrive - DOI\\MTData\\CL2021\\archive\\to_dmc\\1Z_CL463__CFN_2022_10_31T00_00_00.mseed\u001b[0m\n",
      "\u001b[1m2025-04-02T12:18:52.581201-0700 | INFO | mth5.io.conversion | split_ms_to_days | Wrote miniseed file to: c:\\Users\\jpeacock\\OneDrive - DOI\\MTData\\CL2021\\archive\\to_dmc\\1Z_CL463__CFE_2022_10_30T20_19_58.mseed\u001b[0m\n",
      "\u001b[1m2025-04-02T12:18:52.854601-0700 | INFO | mth5.io.conversion | split_ms_to_days | Wrote miniseed file to: c:\\Users\\jpeacock\\OneDrive - DOI\\MTData\\CL2021\\archive\\to_dmc\\1Z_CL463__CFE_2022_10_31T00_00_00.mseed\u001b[0m\n",
      "\u001b[1m2025-04-02T12:18:52.929613-0700 | INFO | mth5.io.conversion | split_ms_to_days | Wrote miniseed file to: c:\\Users\\jpeacock\\OneDrive - DOI\\MTData\\CL2021\\archive\\to_dmc\\1Z_CL463__CFZ_2022_10_30T20_19_58.mseed\u001b[0m\n",
      "\u001b[1m2025-04-02T12:18:53.211023-0700 | INFO | mth5.io.conversion | split_ms_to_days | Wrote miniseed file to: c:\\Users\\jpeacock\\OneDrive - DOI\\MTData\\CL2021\\archive\\to_dmc\\1Z_CL463__CFZ_2022_10_31T00_00_00.mseed\u001b[0m\n",
      "\u001b[1m2025-04-02T12:18:56.537473-0700 | INFO | mth5.timeseries.run_ts | _align_channels | Channels do not have a common end, using latest: 2022-10-31T01:09:41.999023437\u001b[0m\n",
      "\u001b[33m\u001b[1m2025-04-02T12:18:59.043505-0700 | WARNING | mth5.timeseries.run_ts | validate_metadata | end time of dataset 2022-10-31T01:09:41.998779296+00:00 does not match metadata end 2022-10-31T01:09:41.999023437+00:00 updating metatdata value to 2022-10-31T01:09:41.998779296+00:00\u001b[0m\n"
     ]
    },
    {
     "name": "stderr",
     "output_type": "stream",
     "text": [
      "C:\\Users\\jpeacock\\OneDrive - DOI\\Documents\\GitHub\\mth5\\mth5\\timeseries\\channel_ts.py:1524: RuntimeWarning: invalid value encountered in cast\n",
      "  obspy_trace = Trace(self.ts.astype(encoding_dict[encoding]))\n"
     ]
    },
    {
     "name": "stdout",
     "output_type": "stream",
     "text": [
      "\u001b[1m2025-04-02T12:18:59.760623-0700 | INFO | mth5.io.conversion | split_ms_to_days | Wrote miniseed file to: c:\\Users\\jpeacock\\OneDrive - DOI\\MTData\\CL2021\\archive\\to_dmc\\1Z_CL463__FQN_2022_10_31T00_59_58.mseed\u001b[0m\n",
      "\u001b[1m2025-04-02T12:18:59.960061-0700 | INFO | mth5.io.conversion | split_ms_to_days | Wrote miniseed file to: c:\\Users\\jpeacock\\OneDrive - DOI\\MTData\\CL2021\\archive\\to_dmc\\1Z_CL463__FQE_2022_10_31T00_59_58.mseed\u001b[0m\n",
      "\u001b[1m2025-04-02T12:19:00.178497-0700 | INFO | mth5.io.conversion | split_ms_to_days | Wrote miniseed file to: c:\\Users\\jpeacock\\OneDrive - DOI\\MTData\\CL2021\\archive\\to_dmc\\1Z_CL463__FFN_2022_10_31T00_59_58.mseed\u001b[0m\n",
      "\u001b[1m2025-04-02T12:19:00.368691-0700 | INFO | mth5.io.conversion | split_ms_to_days | Wrote miniseed file to: c:\\Users\\jpeacock\\OneDrive - DOI\\MTData\\CL2021\\archive\\to_dmc\\1Z_CL463__FFE_2022_10_31T00_59_58.mseed\u001b[0m\n",
      "\u001b[1m2025-04-02T12:19:00.587466-0700 | INFO | mth5.io.conversion | split_ms_to_days | Wrote miniseed file to: c:\\Users\\jpeacock\\OneDrive - DOI\\MTData\\CL2021\\archive\\to_dmc\\1Z_CL463__FFZ_2022_10_31T00_59_58.mseed\u001b[0m\n",
      "\u001b[1m2025-04-02T12:19:08.001651-0700 | INFO | mth5.io.conversion | split_ms_to_days | Wrote miniseed file to: c:\\Users\\jpeacock\\OneDrive - DOI\\MTData\\CL2021\\archive\\to_dmc\\1Z_CL463__CQN_2022_10_31T01_09_58.mseed\u001b[0m\n",
      "\u001b[1m2025-04-02T12:19:08.453633-0700 | INFO | mth5.io.conversion | split_ms_to_days | Wrote miniseed file to: c:\\Users\\jpeacock\\OneDrive - DOI\\MTData\\CL2021\\archive\\to_dmc\\1Z_CL463__CQE_2022_10_31T01_09_58.mseed\u001b[0m\n",
      "\u001b[1m2025-04-02T12:19:08.871967-0700 | INFO | mth5.io.conversion | split_ms_to_days | Wrote miniseed file to: c:\\Users\\jpeacock\\OneDrive - DOI\\MTData\\CL2021\\archive\\to_dmc\\1Z_CL463__CFN_2022_10_31T01_09_58.mseed\u001b[0m\n",
      "\u001b[1m2025-04-02T12:19:09.388190-0700 | INFO | mth5.io.conversion | split_ms_to_days | Wrote miniseed file to: c:\\Users\\jpeacock\\OneDrive - DOI\\MTData\\CL2021\\archive\\to_dmc\\1Z_CL463__CFE_2022_10_31T01_09_58.mseed\u001b[0m\n",
      "\u001b[1m2025-04-02T12:19:09.954276-0700 | INFO | mth5.io.conversion | split_ms_to_days | Wrote miniseed file to: c:\\Users\\jpeacock\\OneDrive - DOI\\MTData\\CL2021\\archive\\to_dmc\\1Z_CL463__CFZ_2022_10_31T01_09_58.mseed\u001b[0m\n",
      "\u001b[1m2025-04-02T12:19:14.186231-0700 | INFO | mth5.timeseries.run_ts | _align_channels | Channels do not have a common end, using latest: 2022-10-31T07:09:41.998779296\u001b[0m\n",
      "\u001b[33m\u001b[1m2025-04-02T12:19:16.871370-0700 | WARNING | mth5.timeseries.run_ts | validate_metadata | end time of dataset 2022-10-31T07:09:41.998535156+00:00 does not match metadata end 2022-10-31T07:09:41.998779296+00:00 updating metatdata value to 2022-10-31T07:09:41.998535156+00:00\u001b[0m\n"
     ]
    },
    {
     "name": "stderr",
     "output_type": "stream",
     "text": [
      "C:\\Users\\jpeacock\\OneDrive - DOI\\Documents\\GitHub\\mth5\\mth5\\timeseries\\channel_ts.py:1524: RuntimeWarning: invalid value encountered in cast\n",
      "  obspy_trace = Trace(self.ts.astype(encoding_dict[encoding]))\n"
     ]
    },
    {
     "name": "stdout",
     "output_type": "stream",
     "text": [
      "\u001b[1m2025-04-02T12:19:17.695782-0700 | INFO | mth5.io.conversion | split_ms_to_days | Wrote miniseed file to: c:\\Users\\jpeacock\\OneDrive - DOI\\MTData\\CL2021\\archive\\to_dmc\\1Z_CL463__FQN_2022_10_31T06_59_58.mseed\u001b[0m\n",
      "\u001b[1m2025-04-02T12:19:17.893879-0700 | INFO | mth5.io.conversion | split_ms_to_days | Wrote miniseed file to: c:\\Users\\jpeacock\\OneDrive - DOI\\MTData\\CL2021\\archive\\to_dmc\\1Z_CL463__FQE_2022_10_31T06_59_58.mseed\u001b[0m\n",
      "\u001b[1m2025-04-02T12:19:18.116250-0700 | INFO | mth5.io.conversion | split_ms_to_days | Wrote miniseed file to: c:\\Users\\jpeacock\\OneDrive - DOI\\MTData\\CL2021\\archive\\to_dmc\\1Z_CL463__FFN_2022_10_31T06_59_58.mseed\u001b[0m\n",
      "\u001b[1m2025-04-02T12:19:18.311415-0700 | INFO | mth5.io.conversion | split_ms_to_days | Wrote miniseed file to: c:\\Users\\jpeacock\\OneDrive - DOI\\MTData\\CL2021\\archive\\to_dmc\\1Z_CL463__FFE_2022_10_31T06_59_58.mseed\u001b[0m\n",
      "\u001b[1m2025-04-02T12:19:18.512363-0700 | INFO | mth5.io.conversion | split_ms_to_days | Wrote miniseed file to: c:\\Users\\jpeacock\\OneDrive - DOI\\MTData\\CL2021\\archive\\to_dmc\\1Z_CL463__FFZ_2022_10_31T06_59_58.mseed\u001b[0m\n",
      "\u001b[1m2025-04-02T12:19:26.457733-0700 | INFO | mth5.io.conversion | split_ms_to_days | Wrote miniseed file to: c:\\Users\\jpeacock\\OneDrive - DOI\\MTData\\CL2021\\archive\\to_dmc\\1Z_CL463__CQN_2022_10_31T07_09_58.mseed\u001b[0m\n",
      "\u001b[1m2025-04-02T12:19:26.913283-0700 | INFO | mth5.io.conversion | split_ms_to_days | Wrote miniseed file to: c:\\Users\\jpeacock\\OneDrive - DOI\\MTData\\CL2021\\archive\\to_dmc\\1Z_CL463__CQE_2022_10_31T07_09_58.mseed\u001b[0m\n",
      "\u001b[1m2025-04-02T12:19:27.369824-0700 | INFO | mth5.io.conversion | split_ms_to_days | Wrote miniseed file to: c:\\Users\\jpeacock\\OneDrive - DOI\\MTData\\CL2021\\archive\\to_dmc\\1Z_CL463__CFN_2022_10_31T07_09_58.mseed\u001b[0m\n",
      "\u001b[1m2025-04-02T12:19:27.801625-0700 | INFO | mth5.io.conversion | split_ms_to_days | Wrote miniseed file to: c:\\Users\\jpeacock\\OneDrive - DOI\\MTData\\CL2021\\archive\\to_dmc\\1Z_CL463__CFE_2022_10_31T07_09_58.mseed\u001b[0m\n",
      "\u001b[1m2025-04-02T12:19:28.265747-0700 | INFO | mth5.io.conversion | split_ms_to_days | Wrote miniseed file to: c:\\Users\\jpeacock\\OneDrive - DOI\\MTData\\CL2021\\archive\\to_dmc\\1Z_CL463__CFZ_2022_10_31T07_09_58.mseed\u001b[0m\n",
      "\u001b[1m2025-04-02T12:19:32.712150-0700 | INFO | mth5.timeseries.run_ts | _align_channels | Channels do not have a common end, using latest: 2022-10-31T13:09:41.998047000\u001b[0m\n"
     ]
    },
    {
     "name": "stderr",
     "output_type": "stream",
     "text": [
      "C:\\Users\\jpeacock\\OneDrive - DOI\\Documents\\GitHub\\mth5\\mth5\\timeseries\\channel_ts.py:1524: RuntimeWarning: invalid value encountered in cast\n",
      "  obspy_trace = Trace(self.ts.astype(encoding_dict[encoding]))\n"
     ]
    },
    {
     "name": "stdout",
     "output_type": "stream",
     "text": [
      "\u001b[1m2025-04-02T12:19:35.534694-0700 | INFO | mth5.io.conversion | split_ms_to_days | Wrote miniseed file to: c:\\Users\\jpeacock\\OneDrive - DOI\\MTData\\CL2021\\archive\\to_dmc\\1Z_CL463__FQN_2022_10_31T12_59_58.mseed\u001b[0m\n",
      "\u001b[1m2025-04-02T12:19:35.726879-0700 | INFO | mth5.io.conversion | split_ms_to_days | Wrote miniseed file to: c:\\Users\\jpeacock\\OneDrive - DOI\\MTData\\CL2021\\archive\\to_dmc\\1Z_CL463__FQE_2022_10_31T12_59_58.mseed\u001b[0m\n",
      "\u001b[1m2025-04-02T12:19:35.928824-0700 | INFO | mth5.io.conversion | split_ms_to_days | Wrote miniseed file to: c:\\Users\\jpeacock\\OneDrive - DOI\\MTData\\CL2021\\archive\\to_dmc\\1Z_CL463__FFN_2022_10_31T12_59_58.mseed\u001b[0m\n",
      "\u001b[1m2025-04-02T12:19:36.121106-0700 | INFO | mth5.io.conversion | split_ms_to_days | Wrote miniseed file to: c:\\Users\\jpeacock\\OneDrive - DOI\\MTData\\CL2021\\archive\\to_dmc\\1Z_CL463__FFE_2022_10_31T12_59_58.mseed\u001b[0m\n",
      "\u001b[1m2025-04-02T12:19:36.324769-0700 | INFO | mth5.io.conversion | split_ms_to_days | Wrote miniseed file to: c:\\Users\\jpeacock\\OneDrive - DOI\\MTData\\CL2021\\archive\\to_dmc\\1Z_CL463__FFZ_2022_10_31T12_59_58.mseed\u001b[0m\n",
      "\u001b[1m2025-04-02T12:19:42.082428-0700 | INFO | mth5.io.conversion | split_ms_to_days | Wrote miniseed file to: c:\\Users\\jpeacock\\OneDrive - DOI\\MTData\\CL2021\\archive\\to_dmc\\1Z_CL463__CQN_2022_10_31T13_09_58.mseed\u001b[0m\n",
      "\u001b[1m2025-04-02T12:19:42.344564-0700 | INFO | mth5.io.conversion | split_ms_to_days | Wrote miniseed file to: c:\\Users\\jpeacock\\OneDrive - DOI\\MTData\\CL2021\\archive\\to_dmc\\1Z_CL463__CQE_2022_10_31T13_09_58.mseed\u001b[0m\n",
      "\u001b[1m2025-04-02T12:19:42.628056-0700 | INFO | mth5.io.conversion | split_ms_to_days | Wrote miniseed file to: c:\\Users\\jpeacock\\OneDrive - DOI\\MTData\\CL2021\\archive\\to_dmc\\1Z_CL463__CFN_2022_10_31T13_09_58.mseed\u001b[0m\n",
      "\u001b[1m2025-04-02T12:19:42.882797-0700 | INFO | mth5.io.conversion | split_ms_to_days | Wrote miniseed file to: c:\\Users\\jpeacock\\OneDrive - DOI\\MTData\\CL2021\\archive\\to_dmc\\1Z_CL463__CFE_2022_10_31T13_09_58.mseed\u001b[0m\n",
      "\u001b[1m2025-04-02T12:19:43.150070-0700 | INFO | mth5.io.conversion | split_ms_to_days | Wrote miniseed file to: c:\\Users\\jpeacock\\OneDrive - DOI\\MTData\\CL2021\\archive\\to_dmc\\1Z_CL463__CFZ_2022_10_31T13_09_58.mseed\u001b[0m\n",
      "\u001b[1m2025-04-02T12:19:44.293618-0700 | INFO | mth5.mth5 | close_mth5 | Flushing and closing c:\\Users\\jpeacock\\OneDrive - DOI\\MTData\\CL2021\\archive\\cl463.h5\u001b[0m\n",
      "\u001b[33m\u001b[1m2025-04-02T12:19:44.296620-0700 | WARNING | mt_metadata.timeseries.stationxml.xml_station_mt_station | mt_to_xml | Station.geographic_name is None, using Station.id = cl463.Check StationXML site.name.\u001b[0m\n",
      "\u001b[1m2025-04-02T12:19:44.370691-0700 | INFO | mt_metadata.timeseries.filters.channel_response | to_obspy | total sensitivity 104957842879.94406 != total gain 1048576000.000055. Using total_gain.\u001b[0m\n",
      "\u001b[1m2025-04-02T12:19:44.398180-0700 | INFO | mt_metadata.timeseries.filters.channel_response | to_obspy | total sensitivity 99528330172.17546 != total gain 1048576000.000055. Using total_gain.\u001b[0m\n",
      "\u001b[1m2025-04-02T12:19:44.426180-0700 | INFO | mt_metadata.timeseries.filters.channel_response | to_obspy | total sensitivity 104398743147.64836 != total gain 1048576000.000055. Using total_gain.\u001b[0m\n",
      "\u001b[1m2025-04-02T12:19:44.522093-0700 | INFO | mt_metadata.timeseries.filters.channel_response | to_obspy | total sensitivity 104957842879.94406 != total gain 1048576000.000055. Using total_gain.\u001b[0m\n",
      "\u001b[1m2025-04-02T12:19:44.549098-0700 | INFO | mt_metadata.timeseries.filters.channel_response | to_obspy | total sensitivity 99528330172.17546 != total gain 1048576000.000055. Using total_gain.\u001b[0m\n",
      "\u001b[1m2025-04-02T12:19:44.577647-0700 | INFO | mt_metadata.timeseries.filters.channel_response | to_obspy | total sensitivity 104398743147.64836 != total gain 1048576000.000055. Using total_gain.\u001b[0m\n",
      "\u001b[1m2025-04-02T12:19:44.677168-0700 | INFO | mt_metadata.timeseries.filters.channel_response | to_obspy | total sensitivity 104957842879.94406 != total gain 1048576000.000055. Using total_gain.\u001b[0m\n",
      "\u001b[1m2025-04-02T12:19:44.705198-0700 | INFO | mt_metadata.timeseries.filters.channel_response | to_obspy | total sensitivity 99528330172.17546 != total gain 1048576000.000055. Using total_gain.\u001b[0m\n",
      "\u001b[1m2025-04-02T12:19:44.734199-0700 | INFO | mt_metadata.timeseries.filters.channel_response | to_obspy | total sensitivity 104398743147.64836 != total gain 1048576000.000055. Using total_gain.\u001b[0m\n",
      "\u001b[1m2025-04-02T12:19:44.837686-0700 | INFO | mt_metadata.timeseries.filters.channel_response | to_obspy | total sensitivity 104957842879.94406 != total gain 1048576000.000055. Using total_gain.\u001b[0m\n",
      "\u001b[1m2025-04-02T12:19:44.867723-0700 | INFO | mt_metadata.timeseries.filters.channel_response | to_obspy | total sensitivity 99528330172.17546 != total gain 1048576000.000055. Using total_gain.\u001b[0m\n",
      "\u001b[1m2025-04-02T12:19:44.904242-0700 | INFO | mt_metadata.timeseries.filters.channel_response | to_obspy | total sensitivity 104398743147.64836 != total gain 1048576000.000055. Using total_gain.\u001b[0m\n",
      "\u001b[1m2025-04-02T12:19:45.012852-0700 | INFO | mt_metadata.timeseries.filters.channel_response | to_obspy | total sensitivity 104957842879.94406 != total gain 1048576000.000055. Using total_gain.\u001b[0m\n",
      "\u001b[1m2025-04-02T12:19:45.045853-0700 | INFO | mt_metadata.timeseries.filters.channel_response | to_obspy | total sensitivity 99528330172.17546 != total gain 1048576000.000055. Using total_gain.\u001b[0m\n",
      "\u001b[1m2025-04-02T12:19:45.073892-0700 | INFO | mt_metadata.timeseries.filters.channel_response | to_obspy | total sensitivity 104398743147.64836 != total gain 1048576000.000055. Using total_gain.\u001b[0m\n",
      "\u001b[1m2025-04-02T12:19:45.166508-0700 | INFO | mt_metadata.timeseries.filters.channel_response | to_obspy | total sensitivity 104957842879.94406 != total gain 1048576000.000055. Using total_gain.\u001b[0m\n",
      "\u001b[1m2025-04-02T12:19:45.196060-0700 | INFO | mt_metadata.timeseries.filters.channel_response | to_obspy | total sensitivity 99528330172.17546 != total gain 1048576000.000055. Using total_gain.\u001b[0m\n",
      "\u001b[1m2025-04-02T12:19:45.228092-0700 | INFO | mt_metadata.timeseries.filters.channel_response | to_obspy | total sensitivity 104398743147.64836 != total gain 1048576000.000055. Using total_gain.\u001b[0m\n",
      "\u001b[1m2025-04-02T12:19:45.318689-0700 | INFO | mt_metadata.timeseries.filters.channel_response | to_obspy | total sensitivity 104957842879.94406 != total gain 1048576000.000055. Using total_gain.\u001b[0m\n",
      "\u001b[1m2025-04-02T12:19:45.349686-0700 | INFO | mt_metadata.timeseries.filters.channel_response | to_obspy | total sensitivity 99528330172.17546 != total gain 1048576000.000055. Using total_gain.\u001b[0m\n",
      "\u001b[1m2025-04-02T12:19:45.380220-0700 | INFO | mt_metadata.timeseries.filters.channel_response | to_obspy | total sensitivity 104398743147.64836 != total gain 1048576000.000055. Using total_gain.\u001b[0m\n",
      "\u001b[1m2025-04-02T12:19:45.472257-0700 | INFO | mt_metadata.timeseries.filters.channel_response | to_obspy | total sensitivity 104957842879.94406 != total gain 1048576000.000055. Using total_gain.\u001b[0m\n",
      "\u001b[1m2025-04-02T12:19:45.500744-0700 | INFO | mt_metadata.timeseries.filters.channel_response | to_obspy | total sensitivity 99528330172.17546 != total gain 1048576000.000055. Using total_gain.\u001b[0m\n",
      "\u001b[1m2025-04-02T12:19:45.529712-0700 | INFO | mt_metadata.timeseries.filters.channel_response | to_obspy | total sensitivity 104398743147.64836 != total gain 1048576000.000055. Using total_gain.\u001b[0m\n",
      "\u001b[1m2025-04-02T12:19:45.562691-0700 | INFO | mth5.io.conversion | convert_mth5_to_ms_stationxml | Wrote StationXML to c:\\Users\\jpeacock\\OneDrive - DOI\\MTData\\CL2021\\archive\\to_dmc\\cl463.xml\u001b[0m\n",
      "\u001b[33m\u001b[1m2025-04-02T12:19:47.587545-0700 | WARNING | mt_metadata.timeseries.station | remove_run | Could not find cl471a to remove.\u001b[0m\n",
      "\u001b[1m2025-04-02T12:19:51.629961-0700 | INFO | mth5.io.conversion | split_ms_to_days | Wrote miniseed file to: c:\\Users\\jpeacock\\OneDrive - DOI\\MTData\\CL2021\\archive\\to_dmc\\1Z_CL471__LQN_2022_11_01T23_04_58.mseed\u001b[0m\n",
      "\u001b[1m2025-04-02T12:19:51.633929-0700 | INFO | mth5.io.conversion | split_ms_to_days | Wrote miniseed file to: c:\\Users\\jpeacock\\OneDrive - DOI\\MTData\\CL2021\\archive\\to_dmc\\1Z_CL471__LQN_2022_11_02T00_00_00.mseed\u001b[0m\n",
      "\u001b[1m2025-04-02T12:19:51.642963-0700 | INFO | mth5.io.conversion | split_ms_to_days | Wrote miniseed file to: c:\\Users\\jpeacock\\OneDrive - DOI\\MTData\\CL2021\\archive\\to_dmc\\1Z_CL471__LQE_2022_11_01T23_04_58.mseed\u001b[0m\n",
      "\u001b[1m2025-04-02T12:19:51.644930-0700 | INFO | mth5.io.conversion | split_ms_to_days | Wrote miniseed file to: c:\\Users\\jpeacock\\OneDrive - DOI\\MTData\\CL2021\\archive\\to_dmc\\1Z_CL471__LQE_2022_11_02T00_00_00.mseed\u001b[0m\n",
      "\u001b[1m2025-04-02T12:19:51.655930-0700 | INFO | mth5.io.conversion | split_ms_to_days | Wrote miniseed file to: c:\\Users\\jpeacock\\OneDrive - DOI\\MTData\\CL2021\\archive\\to_dmc\\1Z_CL471__LFN_2022_11_01T23_04_58.mseed\u001b[0m\n",
      "\u001b[1m2025-04-02T12:19:51.658941-0700 | INFO | mth5.io.conversion | split_ms_to_days | Wrote miniseed file to: c:\\Users\\jpeacock\\OneDrive - DOI\\MTData\\CL2021\\archive\\to_dmc\\1Z_CL471__LFN_2022_11_02T00_00_00.mseed\u001b[0m\n",
      "\u001b[1m2025-04-02T12:19:51.667940-0700 | INFO | mth5.io.conversion | split_ms_to_days | Wrote miniseed file to: c:\\Users\\jpeacock\\OneDrive - DOI\\MTData\\CL2021\\archive\\to_dmc\\1Z_CL471__LFE_2022_11_01T23_04_58.mseed\u001b[0m\n",
      "\u001b[1m2025-04-02T12:19:51.670940-0700 | INFO | mth5.io.conversion | split_ms_to_days | Wrote miniseed file to: c:\\Users\\jpeacock\\OneDrive - DOI\\MTData\\CL2021\\archive\\to_dmc\\1Z_CL471__LFE_2022_11_02T00_00_00.mseed\u001b[0m\n",
      "\u001b[1m2025-04-02T12:19:51.679439-0700 | INFO | mth5.io.conversion | split_ms_to_days | Wrote miniseed file to: c:\\Users\\jpeacock\\OneDrive - DOI\\MTData\\CL2021\\archive\\to_dmc\\1Z_CL471__LFZ_2022_11_01T23_04_58.mseed\u001b[0m\n",
      "\u001b[1m2025-04-02T12:19:51.682450-0700 | INFO | mth5.io.conversion | split_ms_to_days | Wrote miniseed file to: c:\\Users\\jpeacock\\OneDrive - DOI\\MTData\\CL2021\\archive\\to_dmc\\1Z_CL471__LFZ_2022_11_02T00_00_00.mseed\u001b[0m\n",
      "\u001b[1m2025-04-02T12:19:56.757423-0700 | INFO | mth5.io.conversion | split_ms_to_days | Wrote miniseed file to: c:\\Users\\jpeacock\\OneDrive - DOI\\MTData\\CL2021\\archive\\to_dmc\\1Z_CL471__CQN_2022_11_01T23_04_58.mseed\u001b[0m\n",
      "\u001b[1m2025-04-02T12:19:56.826041-0700 | INFO | mth5.io.conversion | split_ms_to_days | Wrote miniseed file to: c:\\Users\\jpeacock\\OneDrive - DOI\\MTData\\CL2021\\archive\\to_dmc\\1Z_CL471__CQN_2022_11_02T00_00_00.mseed\u001b[0m\n",
      "\u001b[1m2025-04-02T12:19:56.914594-0700 | INFO | mth5.io.conversion | split_ms_to_days | Wrote miniseed file to: c:\\Users\\jpeacock\\OneDrive - DOI\\MTData\\CL2021\\archive\\to_dmc\\1Z_CL471__CQE_2022_11_01T23_04_58.mseed\u001b[0m\n",
      "\u001b[1m2025-04-02T12:19:56.982567-0700 | INFO | mth5.io.conversion | split_ms_to_days | Wrote miniseed file to: c:\\Users\\jpeacock\\OneDrive - DOI\\MTData\\CL2021\\archive\\to_dmc\\1Z_CL471__CQE_2022_11_02T00_00_00.mseed\u001b[0m\n",
      "\u001b[1m2025-04-02T12:19:57.062497-0700 | INFO | mth5.io.conversion | split_ms_to_days | Wrote miniseed file to: c:\\Users\\jpeacock\\OneDrive - DOI\\MTData\\CL2021\\archive\\to_dmc\\1Z_CL471__CFN_2022_11_01T23_04_58.mseed\u001b[0m\n",
      "\u001b[1m2025-04-02T12:19:57.133011-0700 | INFO | mth5.io.conversion | split_ms_to_days | Wrote miniseed file to: c:\\Users\\jpeacock\\OneDrive - DOI\\MTData\\CL2021\\archive\\to_dmc\\1Z_CL471__CFN_2022_11_02T00_00_00.mseed\u001b[0m\n",
      "\u001b[1m2025-04-02T12:19:57.210376-0700 | INFO | mth5.io.conversion | split_ms_to_days | Wrote miniseed file to: c:\\Users\\jpeacock\\OneDrive - DOI\\MTData\\CL2021\\archive\\to_dmc\\1Z_CL471__CFE_2022_11_01T23_04_58.mseed\u001b[0m\n",
      "\u001b[1m2025-04-02T12:19:57.280382-0700 | INFO | mth5.io.conversion | split_ms_to_days | Wrote miniseed file to: c:\\Users\\jpeacock\\OneDrive - DOI\\MTData\\CL2021\\archive\\to_dmc\\1Z_CL471__CFE_2022_11_02T00_00_00.mseed\u001b[0m\n",
      "\u001b[1m2025-04-02T12:19:57.358121-0700 | INFO | mth5.io.conversion | split_ms_to_days | Wrote miniseed file to: c:\\Users\\jpeacock\\OneDrive - DOI\\MTData\\CL2021\\archive\\to_dmc\\1Z_CL471__CFZ_2022_11_01T23_04_58.mseed\u001b[0m\n",
      "\u001b[1m2025-04-02T12:19:57.430636-0700 | INFO | mth5.io.conversion | split_ms_to_days | Wrote miniseed file to: c:\\Users\\jpeacock\\OneDrive - DOI\\MTData\\CL2021\\archive\\to_dmc\\1Z_CL471__CFZ_2022_11_02T00_00_00.mseed\u001b[0m\n",
      "\u001b[1m2025-04-02T12:20:01.017428-0700 | INFO | mth5.timeseries.run_ts | _align_channels | Channels do not have a common end, using latest: 2022-11-02T01:09:41.998779296\u001b[0m\n",
      "\u001b[33m\u001b[1m2025-04-02T12:20:03.084810-0700 | WARNING | mth5.timeseries.run_ts | validate_metadata | end time of dataset 2022-11-02T01:09:41.998535156+00:00 does not match metadata end 2022-11-02T01:09:41.998779296+00:00 updating metatdata value to 2022-11-02T01:09:41.998535156+00:00\u001b[0m\n"
     ]
    },
    {
     "name": "stderr",
     "output_type": "stream",
     "text": [
      "C:\\Users\\jpeacock\\OneDrive - DOI\\Documents\\GitHub\\mth5\\mth5\\timeseries\\channel_ts.py:1524: RuntimeWarning: invalid value encountered in cast\n",
      "  obspy_trace = Trace(self.ts.astype(encoding_dict[encoding]))\n"
     ]
    },
    {
     "name": "stdout",
     "output_type": "stream",
     "text": [
      "\u001b[1m2025-04-02T12:20:03.807209-0700 | INFO | mth5.io.conversion | split_ms_to_days | Wrote miniseed file to: c:\\Users\\jpeacock\\OneDrive - DOI\\MTData\\CL2021\\archive\\to_dmc\\1Z_CL471__FQN_2022_11_02T00_59_58.mseed\u001b[0m\n",
      "\u001b[1m2025-04-02T12:20:04.017380-0700 | INFO | mth5.io.conversion | split_ms_to_days | Wrote miniseed file to: c:\\Users\\jpeacock\\OneDrive - DOI\\MTData\\CL2021\\archive\\to_dmc\\1Z_CL471__FQE_2022_11_02T00_59_58.mseed\u001b[0m\n",
      "\u001b[1m2025-04-02T12:20:04.209514-0700 | INFO | mth5.io.conversion | split_ms_to_days | Wrote miniseed file to: c:\\Users\\jpeacock\\OneDrive - DOI\\MTData\\CL2021\\archive\\to_dmc\\1Z_CL471__FFN_2022_11_02T00_59_58.mseed\u001b[0m\n",
      "\u001b[1m2025-04-02T12:20:04.410958-0700 | INFO | mth5.io.conversion | split_ms_to_days | Wrote miniseed file to: c:\\Users\\jpeacock\\OneDrive - DOI\\MTData\\CL2021\\archive\\to_dmc\\1Z_CL471__FFE_2022_11_02T00_59_58.mseed\u001b[0m\n",
      "\u001b[1m2025-04-02T12:20:04.606288-0700 | INFO | mth5.io.conversion | split_ms_to_days | Wrote miniseed file to: c:\\Users\\jpeacock\\OneDrive - DOI\\MTData\\CL2021\\archive\\to_dmc\\1Z_CL471__FFZ_2022_11_02T00_59_58.mseed\u001b[0m\n",
      "\u001b[1m2025-04-02T12:20:12.300046-0700 | INFO | mth5.io.conversion | split_ms_to_days | Wrote miniseed file to: c:\\Users\\jpeacock\\OneDrive - DOI\\MTData\\CL2021\\archive\\to_dmc\\1Z_CL471__CQN_2022_11_02T01_09_58.mseed\u001b[0m\n",
      "\u001b[1m2025-04-02T12:20:12.722355-0700 | INFO | mth5.io.conversion | split_ms_to_days | Wrote miniseed file to: c:\\Users\\jpeacock\\OneDrive - DOI\\MTData\\CL2021\\archive\\to_dmc\\1Z_CL471__CQE_2022_11_02T01_09_58.mseed\u001b[0m\n",
      "\u001b[1m2025-04-02T12:20:13.140240-0700 | INFO | mth5.io.conversion | split_ms_to_days | Wrote miniseed file to: c:\\Users\\jpeacock\\OneDrive - DOI\\MTData\\CL2021\\archive\\to_dmc\\1Z_CL471__CFN_2022_11_02T01_09_58.mseed\u001b[0m\n",
      "\u001b[1m2025-04-02T12:20:13.585530-0700 | INFO | mth5.io.conversion | split_ms_to_days | Wrote miniseed file to: c:\\Users\\jpeacock\\OneDrive - DOI\\MTData\\CL2021\\archive\\to_dmc\\1Z_CL471__CFE_2022_11_02T01_09_58.mseed\u001b[0m\n",
      "\u001b[1m2025-04-02T12:20:14.033122-0700 | INFO | mth5.io.conversion | split_ms_to_days | Wrote miniseed file to: c:\\Users\\jpeacock\\OneDrive - DOI\\MTData\\CL2021\\archive\\to_dmc\\1Z_CL471__CFZ_2022_11_02T01_09_58.mseed\u001b[0m\n",
      "\u001b[1m2025-04-02T12:20:17.984194-0700 | INFO | mth5.timeseries.run_ts | _align_channels | Channels do not have a common end, using latest: 2022-11-02T07:09:41.999268000\u001b[0m\n"
     ]
    },
    {
     "name": "stderr",
     "output_type": "stream",
     "text": [
      "C:\\Users\\jpeacock\\OneDrive - DOI\\Documents\\GitHub\\mth5\\mth5\\timeseries\\channel_ts.py:1524: RuntimeWarning: invalid value encountered in cast\n",
      "  obspy_trace = Trace(self.ts.astype(encoding_dict[encoding]))\n"
     ]
    },
    {
     "name": "stdout",
     "output_type": "stream",
     "text": [
      "\u001b[1m2025-04-02T12:20:20.811716-0700 | INFO | mth5.io.conversion | split_ms_to_days | Wrote miniseed file to: c:\\Users\\jpeacock\\OneDrive - DOI\\MTData\\CL2021\\archive\\to_dmc\\1Z_CL471__FQN_2022_11_02T06_59_58.mseed\u001b[0m\n",
      "\u001b[1m2025-04-02T12:20:21.011859-0700 | INFO | mth5.io.conversion | split_ms_to_days | Wrote miniseed file to: c:\\Users\\jpeacock\\OneDrive - DOI\\MTData\\CL2021\\archive\\to_dmc\\1Z_CL471__FQE_2022_11_02T06_59_58.mseed\u001b[0m\n",
      "\u001b[1m2025-04-02T12:20:21.217537-0700 | INFO | mth5.io.conversion | split_ms_to_days | Wrote miniseed file to: c:\\Users\\jpeacock\\OneDrive - DOI\\MTData\\CL2021\\archive\\to_dmc\\1Z_CL471__FFN_2022_11_02T06_59_58.mseed\u001b[0m\n",
      "\u001b[1m2025-04-02T12:20:21.414673-0700 | INFO | mth5.io.conversion | split_ms_to_days | Wrote miniseed file to: c:\\Users\\jpeacock\\OneDrive - DOI\\MTData\\CL2021\\archive\\to_dmc\\1Z_CL471__FFE_2022_11_02T06_59_58.mseed\u001b[0m\n",
      "\u001b[1m2025-04-02T12:20:21.624624-0700 | INFO | mth5.io.conversion | split_ms_to_days | Wrote miniseed file to: c:\\Users\\jpeacock\\OneDrive - DOI\\MTData\\CL2021\\archive\\to_dmc\\1Z_CL471__FFZ_2022_11_02T06_59_58.mseed\u001b[0m\n",
      "\u001b[1m2025-04-02T12:20:29.957103-0700 | INFO | mth5.io.conversion | split_ms_to_days | Wrote miniseed file to: c:\\Users\\jpeacock\\OneDrive - DOI\\MTData\\CL2021\\archive\\to_dmc\\1Z_CL471__CQN_2022_11_02T07_09_58.mseed\u001b[0m\n",
      "\u001b[1m2025-04-02T12:20:30.391707-0700 | INFO | mth5.io.conversion | split_ms_to_days | Wrote miniseed file to: c:\\Users\\jpeacock\\OneDrive - DOI\\MTData\\CL2021\\archive\\to_dmc\\1Z_CL471__CQE_2022_11_02T07_09_58.mseed\u001b[0m\n",
      "\u001b[1m2025-04-02T12:20:30.836863-0700 | INFO | mth5.io.conversion | split_ms_to_days | Wrote miniseed file to: c:\\Users\\jpeacock\\OneDrive - DOI\\MTData\\CL2021\\archive\\to_dmc\\1Z_CL471__CFN_2022_11_02T07_09_58.mseed\u001b[0m\n",
      "\u001b[1m2025-04-02T12:20:31.278060-0700 | INFO | mth5.io.conversion | split_ms_to_days | Wrote miniseed file to: c:\\Users\\jpeacock\\OneDrive - DOI\\MTData\\CL2021\\archive\\to_dmc\\1Z_CL471__CFE_2022_11_02T07_09_58.mseed\u001b[0m\n",
      "\u001b[1m2025-04-02T12:20:31.759879-0700 | INFO | mth5.io.conversion | split_ms_to_days | Wrote miniseed file to: c:\\Users\\jpeacock\\OneDrive - DOI\\MTData\\CL2021\\archive\\to_dmc\\1Z_CL471__CFZ_2022_11_02T07_09_58.mseed\u001b[0m\n",
      "\u001b[1m2025-04-02T12:20:35.843257-0700 | INFO | mth5.timeseries.run_ts | _align_channels | Channels do not have a common end, using latest: 2022-11-02T13:09:41.998535156\u001b[0m\n",
      "\u001b[33m\u001b[1m2025-04-02T12:20:37.851365-0700 | WARNING | mth5.timeseries.run_ts | validate_metadata | end time of dataset 2022-11-02T13:09:41.998291015+00:00 does not match metadata end 2022-11-02T13:09:41.998535156+00:00 updating metatdata value to 2022-11-02T13:09:41.998291015+00:00\u001b[0m\n"
     ]
    },
    {
     "name": "stderr",
     "output_type": "stream",
     "text": [
      "C:\\Users\\jpeacock\\OneDrive - DOI\\Documents\\GitHub\\mth5\\mth5\\timeseries\\channel_ts.py:1524: RuntimeWarning: invalid value encountered in cast\n",
      "  obspy_trace = Trace(self.ts.astype(encoding_dict[encoding]))\n"
     ]
    },
    {
     "name": "stdout",
     "output_type": "stream",
     "text": [
      "\u001b[1m2025-04-02T12:20:38.608543-0700 | INFO | mth5.io.conversion | split_ms_to_days | Wrote miniseed file to: c:\\Users\\jpeacock\\OneDrive - DOI\\MTData\\CL2021\\archive\\to_dmc\\1Z_CL471__FQN_2022_11_02T12_59_58.mseed\u001b[0m\n",
      "\u001b[1m2025-04-02T12:20:38.796710-0700 | INFO | mth5.io.conversion | split_ms_to_days | Wrote miniseed file to: c:\\Users\\jpeacock\\OneDrive - DOI\\MTData\\CL2021\\archive\\to_dmc\\1Z_CL471__FQE_2022_11_02T12_59_58.mseed\u001b[0m\n",
      "\u001b[1m2025-04-02T12:20:38.996626-0700 | INFO | mth5.io.conversion | split_ms_to_days | Wrote miniseed file to: c:\\Users\\jpeacock\\OneDrive - DOI\\MTData\\CL2021\\archive\\to_dmc\\1Z_CL471__FFN_2022_11_02T12_59_58.mseed\u001b[0m\n",
      "\u001b[1m2025-04-02T12:20:39.193696-0700 | INFO | mth5.io.conversion | split_ms_to_days | Wrote miniseed file to: c:\\Users\\jpeacock\\OneDrive - DOI\\MTData\\CL2021\\archive\\to_dmc\\1Z_CL471__FFE_2022_11_02T12_59_58.mseed\u001b[0m\n",
      "\u001b[1m2025-04-02T12:20:39.394624-0700 | INFO | mth5.io.conversion | split_ms_to_days | Wrote miniseed file to: c:\\Users\\jpeacock\\OneDrive - DOI\\MTData\\CL2021\\archive\\to_dmc\\1Z_CL471__FFZ_2022_11_02T12_59_58.mseed\u001b[0m\n",
      "\u001b[1m2025-04-02T12:20:48.406491-0700 | INFO | mth5.io.conversion | split_ms_to_days | Wrote miniseed file to: c:\\Users\\jpeacock\\OneDrive - DOI\\MTData\\CL2021\\archive\\to_dmc\\1Z_CL471__CQN_2022_11_02T13_09_58.mseed\u001b[0m\n",
      "\u001b[1m2025-04-02T12:20:48.845729-0700 | INFO | mth5.io.conversion | split_ms_to_days | Wrote miniseed file to: c:\\Users\\jpeacock\\OneDrive - DOI\\MTData\\CL2021\\archive\\to_dmc\\1Z_CL471__CQE_2022_11_02T13_09_58.mseed\u001b[0m\n",
      "\u001b[1m2025-04-02T12:20:49.274627-0700 | INFO | mth5.io.conversion | split_ms_to_days | Wrote miniseed file to: c:\\Users\\jpeacock\\OneDrive - DOI\\MTData\\CL2021\\archive\\to_dmc\\1Z_CL471__CFN_2022_11_02T13_09_58.mseed\u001b[0m\n",
      "\u001b[1m2025-04-02T12:20:49.723754-0700 | INFO | mth5.io.conversion | split_ms_to_days | Wrote miniseed file to: c:\\Users\\jpeacock\\OneDrive - DOI\\MTData\\CL2021\\archive\\to_dmc\\1Z_CL471__CFE_2022_11_02T13_09_58.mseed\u001b[0m\n",
      "\u001b[1m2025-04-02T12:20:50.158379-0700 | INFO | mth5.io.conversion | split_ms_to_days | Wrote miniseed file to: c:\\Users\\jpeacock\\OneDrive - DOI\\MTData\\CL2021\\archive\\to_dmc\\1Z_CL471__CFZ_2022_11_02T13_09_58.mseed\u001b[0m\n",
      "\u001b[1m2025-04-02T12:20:53.957406-0700 | INFO | mth5.timeseries.run_ts | _align_channels | Channels do not have a common end, using latest: 2022-11-02T19:09:41.998291015\u001b[0m\n",
      "\u001b[33m\u001b[1m2025-04-02T12:20:56.179722-0700 | WARNING | mth5.timeseries.run_ts | validate_metadata | end time of dataset 2022-11-02T19:09:41.998047+00:00 does not match metadata end 2022-11-02T19:09:41.998291015+00:00 updating metatdata value to 2022-11-02T19:09:41.998047+00:00\u001b[0m\n"
     ]
    },
    {
     "name": "stderr",
     "output_type": "stream",
     "text": [
      "C:\\Users\\jpeacock\\OneDrive - DOI\\Documents\\GitHub\\mth5\\mth5\\timeseries\\channel_ts.py:1524: RuntimeWarning: invalid value encountered in cast\n",
      "  obspy_trace = Trace(self.ts.astype(encoding_dict[encoding]))\n"
     ]
    },
    {
     "name": "stdout",
     "output_type": "stream",
     "text": [
      "\u001b[1m2025-04-02T12:20:56.933483-0700 | INFO | mth5.io.conversion | split_ms_to_days | Wrote miniseed file to: c:\\Users\\jpeacock\\OneDrive - DOI\\MTData\\CL2021\\archive\\to_dmc\\1Z_CL471__FQN_2022_11_02T18_59_58.mseed\u001b[0m\n",
      "\u001b[1m2025-04-02T12:20:57.122600-0700 | INFO | mth5.io.conversion | split_ms_to_days | Wrote miniseed file to: c:\\Users\\jpeacock\\OneDrive - DOI\\MTData\\CL2021\\archive\\to_dmc\\1Z_CL471__FQE_2022_11_02T18_59_58.mseed\u001b[0m\n",
      "\u001b[1m2025-04-02T12:20:57.317695-0700 | INFO | mth5.io.conversion | split_ms_to_days | Wrote miniseed file to: c:\\Users\\jpeacock\\OneDrive - DOI\\MTData\\CL2021\\archive\\to_dmc\\1Z_CL471__FFN_2022_11_02T18_59_58.mseed\u001b[0m\n",
      "\u001b[1m2025-04-02T12:20:57.509807-0700 | INFO | mth5.io.conversion | split_ms_to_days | Wrote miniseed file to: c:\\Users\\jpeacock\\OneDrive - DOI\\MTData\\CL2021\\archive\\to_dmc\\1Z_CL471__FFE_2022_11_02T18_59_58.mseed\u001b[0m\n",
      "\u001b[1m2025-04-02T12:20:57.699832-0700 | INFO | mth5.io.conversion | split_ms_to_days | Wrote miniseed file to: c:\\Users\\jpeacock\\OneDrive - DOI\\MTData\\CL2021\\archive\\to_dmc\\1Z_CL471__FFZ_2022_11_02T18_59_58.mseed\u001b[0m\n",
      "\u001b[1m2025-04-02T12:21:04.864534-0700 | INFO | mth5.io.conversion | split_ms_to_days | Wrote miniseed file to: c:\\Users\\jpeacock\\OneDrive - DOI\\MTData\\CL2021\\archive\\to_dmc\\1Z_CL471__CQN_2022_11_02T19_09_58.mseed\u001b[0m\n",
      "\u001b[1m2025-04-02T12:21:05.126709-0700 | INFO | mth5.io.conversion | split_ms_to_days | Wrote miniseed file to: c:\\Users\\jpeacock\\OneDrive - DOI\\MTData\\CL2021\\archive\\to_dmc\\1Z_CL471__CQE_2022_11_02T19_09_58.mseed\u001b[0m\n",
      "\u001b[1m2025-04-02T12:21:05.407311-0700 | INFO | mth5.io.conversion | split_ms_to_days | Wrote miniseed file to: c:\\Users\\jpeacock\\OneDrive - DOI\\MTData\\CL2021\\archive\\to_dmc\\1Z_CL471__CFN_2022_11_02T19_09_58.mseed\u001b[0m\n",
      "\u001b[1m2025-04-02T12:21:05.684961-0700 | INFO | mth5.io.conversion | split_ms_to_days | Wrote miniseed file to: c:\\Users\\jpeacock\\OneDrive - DOI\\MTData\\CL2021\\archive\\to_dmc\\1Z_CL471__CFE_2022_11_02T19_09_58.mseed\u001b[0m\n",
      "\u001b[1m2025-04-02T12:21:05.963191-0700 | INFO | mth5.io.conversion | split_ms_to_days | Wrote miniseed file to: c:\\Users\\jpeacock\\OneDrive - DOI\\MTData\\CL2021\\archive\\to_dmc\\1Z_CL471__CFZ_2022_11_02T19_09_58.mseed\u001b[0m\n",
      "\u001b[1m2025-04-02T12:21:07.314799-0700 | INFO | mth5.mth5 | close_mth5 | Flushing and closing c:\\Users\\jpeacock\\OneDrive - DOI\\MTData\\CL2021\\archive\\cl471.h5\u001b[0m\n",
      "\u001b[33m\u001b[1m2025-04-02T12:21:07.318799-0700 | WARNING | mt_metadata.timeseries.stationxml.xml_station_mt_station | mt_to_xml | Station.geographic_name is None, using Station.id = cl471.Check StationXML site.name.\u001b[0m\n",
      "\u001b[1m2025-04-02T12:21:07.394390-0700 | INFO | mt_metadata.timeseries.filters.channel_response | to_obspy | total sensitivity 104382542748.06306 != total gain 1048576000.000055. Using total_gain.\u001b[0m\n",
      "\u001b[1m2025-04-02T12:21:07.423361-0700 | INFO | mt_metadata.timeseries.filters.channel_response | to_obspy | total sensitivity 105026369151.30917 != total gain 1048576000.000055. Using total_gain.\u001b[0m\n",
      "\u001b[1m2025-04-02T12:21:07.453979-0700 | INFO | mt_metadata.timeseries.filters.channel_response | to_obspy | total sensitivity 105276966379.19785 != total gain 1048576000.000055. Using total_gain.\u001b[0m\n",
      "\u001b[1m2025-04-02T12:21:07.546177-0700 | INFO | mt_metadata.timeseries.filters.channel_response | to_obspy | total sensitivity 104382542748.06306 != total gain 1048576000.000055. Using total_gain.\u001b[0m\n",
      "\u001b[1m2025-04-02T12:21:07.581177-0700 | INFO | mt_metadata.timeseries.filters.channel_response | to_obspy | total sensitivity 105026369151.30917 != total gain 1048576000.000055. Using total_gain.\u001b[0m\n",
      "\u001b[1m2025-04-02T12:21:07.610180-0700 | INFO | mt_metadata.timeseries.filters.channel_response | to_obspy | total sensitivity 105276966379.19785 != total gain 1048576000.000055. Using total_gain.\u001b[0m\n",
      "\u001b[1m2025-04-02T12:21:07.701701-0700 | INFO | mt_metadata.timeseries.filters.channel_response | to_obspy | total sensitivity 104382542748.06306 != total gain 1048576000.000055. Using total_gain.\u001b[0m\n",
      "\u001b[1m2025-04-02T12:21:07.742738-0700 | INFO | mt_metadata.timeseries.filters.channel_response | to_obspy | total sensitivity 105026369151.30917 != total gain 1048576000.000055. Using total_gain.\u001b[0m\n",
      "\u001b[1m2025-04-02T12:21:07.774288-0700 | INFO | mt_metadata.timeseries.filters.channel_response | to_obspy | total sensitivity 105276966379.19785 != total gain 1048576000.000055. Using total_gain.\u001b[0m\n",
      "\u001b[1m2025-04-02T12:21:07.864805-0700 | INFO | mt_metadata.timeseries.filters.channel_response | to_obspy | total sensitivity 104382542748.06306 != total gain 1048576000.000055. Using total_gain.\u001b[0m\n",
      "\u001b[1m2025-04-02T12:21:07.892806-0700 | INFO | mt_metadata.timeseries.filters.channel_response | to_obspy | total sensitivity 105026369151.30917 != total gain 1048576000.000055. Using total_gain.\u001b[0m\n",
      "\u001b[1m2025-04-02T12:21:07.921806-0700 | INFO | mt_metadata.timeseries.filters.channel_response | to_obspy | total sensitivity 105276966379.19785 != total gain 1048576000.000055. Using total_gain.\u001b[0m\n",
      "\u001b[1m2025-04-02T12:21:08.029327-0700 | INFO | mt_metadata.timeseries.filters.channel_response | to_obspy | total sensitivity 104382542748.06306 != total gain 1048576000.000055. Using total_gain.\u001b[0m\n",
      "\u001b[1m2025-04-02T12:21:08.058833-0700 | INFO | mt_metadata.timeseries.filters.channel_response | to_obspy | total sensitivity 105026369151.30917 != total gain 1048576000.000055. Using total_gain.\u001b[0m\n",
      "\u001b[1m2025-04-02T12:21:08.090834-0700 | INFO | mt_metadata.timeseries.filters.channel_response | to_obspy | total sensitivity 105276966379.19785 != total gain 1048576000.000055. Using total_gain.\u001b[0m\n",
      "\u001b[1m2025-04-02T12:21:08.194352-0700 | INFO | mt_metadata.timeseries.filters.channel_response | to_obspy | total sensitivity 104382542748.06306 != total gain 1048576000.000055. Using total_gain.\u001b[0m\n",
      "\u001b[1m2025-04-02T12:21:08.225349-0700 | INFO | mt_metadata.timeseries.filters.channel_response | to_obspy | total sensitivity 105026369151.30917 != total gain 1048576000.000055. Using total_gain.\u001b[0m\n",
      "\u001b[1m2025-04-02T12:21:08.258861-0700 | INFO | mt_metadata.timeseries.filters.channel_response | to_obspy | total sensitivity 105276966379.19785 != total gain 1048576000.000055. Using total_gain.\u001b[0m\n",
      "\u001b[1m2025-04-02T12:21:08.371450-0700 | INFO | mt_metadata.timeseries.filters.channel_response | to_obspy | total sensitivity 104382542748.06306 != total gain 1048576000.000055. Using total_gain.\u001b[0m\n",
      "\u001b[1m2025-04-02T12:21:08.401417-0700 | INFO | mt_metadata.timeseries.filters.channel_response | to_obspy | total sensitivity 105026369151.30917 != total gain 1048576000.000055. Using total_gain.\u001b[0m\n",
      "\u001b[1m2025-04-02T12:21:08.430425-0700 | INFO | mt_metadata.timeseries.filters.channel_response | to_obspy | total sensitivity 105276966379.19785 != total gain 1048576000.000055. Using total_gain.\u001b[0m\n",
      "\u001b[1m2025-04-02T12:21:08.523528-0700 | INFO | mt_metadata.timeseries.filters.channel_response | to_obspy | total sensitivity 104382542748.06306 != total gain 1048576000.000055. Using total_gain.\u001b[0m\n",
      "\u001b[1m2025-04-02T12:21:08.552009-0700 | INFO | mt_metadata.timeseries.filters.channel_response | to_obspy | total sensitivity 105026369151.30917 != total gain 1048576000.000055. Using total_gain.\u001b[0m\n",
      "\u001b[1m2025-04-02T12:21:08.581012-0700 | INFO | mt_metadata.timeseries.filters.channel_response | to_obspy | total sensitivity 105276966379.19785 != total gain 1048576000.000055. Using total_gain.\u001b[0m\n",
      "\u001b[1m2025-04-02T12:21:08.669522-0700 | INFO | mt_metadata.timeseries.filters.channel_response | to_obspy | total sensitivity 104382542748.06306 != total gain 1048576000.000055. Using total_gain.\u001b[0m\n",
      "\u001b[1m2025-04-02T12:21:08.702523-0700 | INFO | mt_metadata.timeseries.filters.channel_response | to_obspy | total sensitivity 105026369151.30917 != total gain 1048576000.000055. Using total_gain.\u001b[0m\n",
      "\u001b[1m2025-04-02T12:21:08.735528-0700 | INFO | mt_metadata.timeseries.filters.channel_response | to_obspy | total sensitivity 105276966379.19785 != total gain 1048576000.000055. Using total_gain.\u001b[0m\n",
      "\u001b[1m2025-04-02T12:21:08.839143-0700 | INFO | mt_metadata.timeseries.filters.channel_response | to_obspy | total sensitivity 104382542748.06306 != total gain 1048576000.000055. Using total_gain.\u001b[0m\n",
      "\u001b[1m2025-04-02T12:21:08.869336-0700 | INFO | mt_metadata.timeseries.filters.channel_response | to_obspy | total sensitivity 105026369151.30917 != total gain 1048576000.000055. Using total_gain.\u001b[0m\n",
      "\u001b[1m2025-04-02T12:21:08.899337-0700 | INFO | mt_metadata.timeseries.filters.channel_response | to_obspy | total sensitivity 105276966379.19785 != total gain 1048576000.000055. Using total_gain.\u001b[0m\n",
      "\u001b[1m2025-04-02T12:21:08.935343-0700 | INFO | mth5.io.conversion | convert_mth5_to_ms_stationxml | Wrote StationXML to c:\\Users\\jpeacock\\OneDrive - DOI\\MTData\\CL2021\\archive\\to_dmc\\cl471.xml\u001b[0m\n",
      "\u001b[33m\u001b[1m2025-04-02T12:21:10.652700-0700 | WARNING | mt_metadata.timeseries.station | remove_run | Could not find cl472a to remove.\u001b[0m\n",
      "\u001b[1m2025-04-02T12:21:14.078917-0700 | INFO | mth5.io.conversion | split_ms_to_days | Wrote miniseed file to: c:\\Users\\jpeacock\\OneDrive - DOI\\MTData\\CL2021\\archive\\to_dmc\\1Z_CL472__LQN_2022_11_01T21_34_58.mseed\u001b[0m\n",
      "\u001b[1m2025-04-02T12:21:14.081890-0700 | INFO | mth5.io.conversion | split_ms_to_days | Wrote miniseed file to: c:\\Users\\jpeacock\\OneDrive - DOI\\MTData\\CL2021\\archive\\to_dmc\\1Z_CL472__LQN_2022_11_02T00_00_00.mseed\u001b[0m\n",
      "\u001b[1m2025-04-02T12:21:14.089885-0700 | INFO | mth5.io.conversion | split_ms_to_days | Wrote miniseed file to: c:\\Users\\jpeacock\\OneDrive - DOI\\MTData\\CL2021\\archive\\to_dmc\\1Z_CL472__LQE_2022_11_01T21_34_58.mseed\u001b[0m\n",
      "\u001b[1m2025-04-02T12:21:14.093886-0700 | INFO | mth5.io.conversion | split_ms_to_days | Wrote miniseed file to: c:\\Users\\jpeacock\\OneDrive - DOI\\MTData\\CL2021\\archive\\to_dmc\\1Z_CL472__LQE_2022_11_02T00_00_00.mseed\u001b[0m\n",
      "\u001b[1m2025-04-02T12:21:14.101889-0700 | INFO | mth5.io.conversion | split_ms_to_days | Wrote miniseed file to: c:\\Users\\jpeacock\\OneDrive - DOI\\MTData\\CL2021\\archive\\to_dmc\\1Z_CL472__LFN_2022_11_01T21_34_58.mseed\u001b[0m\n",
      "\u001b[1m2025-04-02T12:21:14.105887-0700 | INFO | mth5.io.conversion | split_ms_to_days | Wrote miniseed file to: c:\\Users\\jpeacock\\OneDrive - DOI\\MTData\\CL2021\\archive\\to_dmc\\1Z_CL472__LFN_2022_11_02T00_00_00.mseed\u001b[0m\n",
      "\u001b[1m2025-04-02T12:21:14.112889-0700 | INFO | mth5.io.conversion | split_ms_to_days | Wrote miniseed file to: c:\\Users\\jpeacock\\OneDrive - DOI\\MTData\\CL2021\\archive\\to_dmc\\1Z_CL472__LFE_2022_11_01T21_34_58.mseed\u001b[0m\n",
      "\u001b[1m2025-04-02T12:21:14.115890-0700 | INFO | mth5.io.conversion | split_ms_to_days | Wrote miniseed file to: c:\\Users\\jpeacock\\OneDrive - DOI\\MTData\\CL2021\\archive\\to_dmc\\1Z_CL472__LFE_2022_11_02T00_00_00.mseed\u001b[0m\n",
      "\u001b[1m2025-04-02T12:21:14.123887-0700 | INFO | mth5.io.conversion | split_ms_to_days | Wrote miniseed file to: c:\\Users\\jpeacock\\OneDrive - DOI\\MTData\\CL2021\\archive\\to_dmc\\1Z_CL472__LFZ_2022_11_01T21_34_58.mseed\u001b[0m\n",
      "\u001b[1m2025-04-02T12:21:14.127889-0700 | INFO | mth5.io.conversion | split_ms_to_days | Wrote miniseed file to: c:\\Users\\jpeacock\\OneDrive - DOI\\MTData\\CL2021\\archive\\to_dmc\\1Z_CL472__LFZ_2022_11_02T00_00_00.mseed\u001b[0m\n",
      "\u001b[1m2025-04-02T12:21:19.753559-0700 | INFO | mth5.io.conversion | split_ms_to_days | Wrote miniseed file to: c:\\Users\\jpeacock\\OneDrive - DOI\\MTData\\CL2021\\archive\\to_dmc\\1Z_CL472__CQN_2022_11_01T21_34_58.mseed\u001b[0m\n",
      "\u001b[1m2025-04-02T12:21:19.934585-0700 | INFO | mth5.io.conversion | split_ms_to_days | Wrote miniseed file to: c:\\Users\\jpeacock\\OneDrive - DOI\\MTData\\CL2021\\archive\\to_dmc\\1Z_CL472__CQN_2022_11_02T00_00_00.mseed\u001b[0m\n",
      "\u001b[1m2025-04-02T12:21:20.009101-0700 | INFO | mth5.io.conversion | split_ms_to_days | Wrote miniseed file to: c:\\Users\\jpeacock\\OneDrive - DOI\\MTData\\CL2021\\archive\\to_dmc\\1Z_CL472__CQE_2022_11_01T21_34_58.mseed\u001b[0m\n",
      "\u001b[1m2025-04-02T12:21:20.195255-0700 | INFO | mth5.io.conversion | split_ms_to_days | Wrote miniseed file to: c:\\Users\\jpeacock\\OneDrive - DOI\\MTData\\CL2021\\archive\\to_dmc\\1Z_CL472__CQE_2022_11_02T00_00_00.mseed\u001b[0m\n",
      "\u001b[1m2025-04-02T12:21:20.269547-0700 | INFO | mth5.io.conversion | split_ms_to_days | Wrote miniseed file to: c:\\Users\\jpeacock\\OneDrive - DOI\\MTData\\CL2021\\archive\\to_dmc\\1Z_CL472__CFN_2022_11_01T21_34_58.mseed\u001b[0m\n",
      "\u001b[1m2025-04-02T12:21:20.456628-0700 | INFO | mth5.io.conversion | split_ms_to_days | Wrote miniseed file to: c:\\Users\\jpeacock\\OneDrive - DOI\\MTData\\CL2021\\archive\\to_dmc\\1Z_CL472__CFN_2022_11_02T00_00_00.mseed\u001b[0m\n",
      "\u001b[1m2025-04-02T12:21:20.543669-0700 | INFO | mth5.io.conversion | split_ms_to_days | Wrote miniseed file to: c:\\Users\\jpeacock\\OneDrive - DOI\\MTData\\CL2021\\archive\\to_dmc\\1Z_CL472__CFE_2022_11_01T21_34_58.mseed\u001b[0m\n",
      "\u001b[1m2025-04-02T12:21:20.728929-0700 | INFO | mth5.io.conversion | split_ms_to_days | Wrote miniseed file to: c:\\Users\\jpeacock\\OneDrive - DOI\\MTData\\CL2021\\archive\\to_dmc\\1Z_CL472__CFE_2022_11_02T00_00_00.mseed\u001b[0m\n",
      "\u001b[1m2025-04-02T12:21:20.806363-0700 | INFO | mth5.io.conversion | split_ms_to_days | Wrote miniseed file to: c:\\Users\\jpeacock\\OneDrive - DOI\\MTData\\CL2021\\archive\\to_dmc\\1Z_CL472__CFZ_2022_11_01T21_34_58.mseed\u001b[0m\n",
      "\u001b[1m2025-04-02T12:21:20.987140-0700 | INFO | mth5.io.conversion | split_ms_to_days | Wrote miniseed file to: c:\\Users\\jpeacock\\OneDrive - DOI\\MTData\\CL2021\\archive\\to_dmc\\1Z_CL472__CFZ_2022_11_02T00_00_00.mseed\u001b[0m\n",
      "\u001b[1m2025-04-02T12:21:24.121875-0700 | INFO | mth5.timeseries.run_ts | _align_channels | Channels do not have a common end, using latest: 2022-11-02T01:09:41.999512000\u001b[0m\n"
     ]
    },
    {
     "name": "stderr",
     "output_type": "stream",
     "text": [
      "C:\\Users\\jpeacock\\OneDrive - DOI\\Documents\\GitHub\\mth5\\mth5\\timeseries\\channel_ts.py:1524: RuntimeWarning: invalid value encountered in cast\n",
      "  obspy_trace = Trace(self.ts.astype(encoding_dict[encoding]))\n"
     ]
    },
    {
     "name": "stdout",
     "output_type": "stream",
     "text": [
      "\u001b[1m2025-04-02T12:21:27.082299-0700 | INFO | mth5.io.conversion | split_ms_to_days | Wrote miniseed file to: c:\\Users\\jpeacock\\OneDrive - DOI\\MTData\\CL2021\\archive\\to_dmc\\1Z_CL472__FQN_2022_11_02T00_59_58.mseed\u001b[0m\n",
      "\u001b[1m2025-04-02T12:21:27.273378-0700 | INFO | mth5.io.conversion | split_ms_to_days | Wrote miniseed file to: c:\\Users\\jpeacock\\OneDrive - DOI\\MTData\\CL2021\\archive\\to_dmc\\1Z_CL472__FQE_2022_11_02T00_59_58.mseed\u001b[0m\n",
      "\u001b[1m2025-04-02T12:21:27.462501-0700 | INFO | mth5.io.conversion | split_ms_to_days | Wrote miniseed file to: c:\\Users\\jpeacock\\OneDrive - DOI\\MTData\\CL2021\\archive\\to_dmc\\1Z_CL472__FFN_2022_11_02T00_59_58.mseed\u001b[0m\n",
      "\u001b[1m2025-04-02T12:21:27.652945-0700 | INFO | mth5.io.conversion | split_ms_to_days | Wrote miniseed file to: c:\\Users\\jpeacock\\OneDrive - DOI\\MTData\\CL2021\\archive\\to_dmc\\1Z_CL472__FFE_2022_11_02T00_59_58.mseed\u001b[0m\n",
      "\u001b[1m2025-04-02T12:21:27.852923-0700 | INFO | mth5.io.conversion | split_ms_to_days | Wrote miniseed file to: c:\\Users\\jpeacock\\OneDrive - DOI\\MTData\\CL2021\\archive\\to_dmc\\1Z_CL472__FFZ_2022_11_02T00_59_58.mseed\u001b[0m\n",
      "\u001b[1m2025-04-02T12:21:34.392739-0700 | INFO | mth5.timeseries.run_ts | _align_channels | Channels do not have a common end, using latest: 2022-11-02T06:59:41.968750000\u001b[0m\n",
      "\u001b[1m2025-04-02T12:21:37.338037-0700 | INFO | mth5.io.conversion | split_ms_to_days | Wrote miniseed file to: c:\\Users\\jpeacock\\OneDrive - DOI\\MTData\\CL2021\\archive\\to_dmc\\1Z_CL472__CQN_2022_11_02T01_09_58.mseed\u001b[0m\n",
      "\u001b[1m2025-04-02T12:21:37.749427-0700 | INFO | mth5.io.conversion | split_ms_to_days | Wrote miniseed file to: c:\\Users\\jpeacock\\OneDrive - DOI\\MTData\\CL2021\\archive\\to_dmc\\1Z_CL472__CQE_2022_11_02T01_09_58.mseed\u001b[0m\n",
      "\u001b[1m2025-04-02T12:21:38.169334-0700 | INFO | mth5.io.conversion | split_ms_to_days | Wrote miniseed file to: c:\\Users\\jpeacock\\OneDrive - DOI\\MTData\\CL2021\\archive\\to_dmc\\1Z_CL472__CFN_2022_11_02T01_09_58.mseed\u001b[0m\n",
      "\u001b[1m2025-04-02T12:21:38.626084-0700 | INFO | mth5.io.conversion | split_ms_to_days | Wrote miniseed file to: c:\\Users\\jpeacock\\OneDrive - DOI\\MTData\\CL2021\\archive\\to_dmc\\1Z_CL472__CFE_2022_11_02T01_09_58.mseed\u001b[0m\n",
      "\u001b[1m2025-04-02T12:21:39.060435-0700 | INFO | mth5.io.conversion | split_ms_to_days | Wrote miniseed file to: c:\\Users\\jpeacock\\OneDrive - DOI\\MTData\\CL2021\\archive\\to_dmc\\1Z_CL472__CFZ_2022_11_02T01_09_58.mseed\u001b[0m\n",
      "\u001b[1m2025-04-02T12:21:42.895908-0700 | INFO | mth5.timeseries.run_ts | _align_channels | Channels do not have a common end, using latest: 2022-11-02T07:09:41.998047000\u001b[0m\n"
     ]
    },
    {
     "name": "stderr",
     "output_type": "stream",
     "text": [
      "C:\\Users\\jpeacock\\OneDrive - DOI\\Documents\\GitHub\\mth5\\mth5\\timeseries\\channel_ts.py:1524: RuntimeWarning: invalid value encountered in cast\n",
      "  obspy_trace = Trace(self.ts.astype(encoding_dict[encoding]))\n"
     ]
    },
    {
     "name": "stdout",
     "output_type": "stream",
     "text": [
      "\u001b[1m2025-04-02T12:21:45.940551-0700 | INFO | mth5.io.conversion | split_ms_to_days | Wrote miniseed file to: c:\\Users\\jpeacock\\OneDrive - DOI\\MTData\\CL2021\\archive\\to_dmc\\1Z_CL472__FQN_2022_11_02T06_59_58.mseed\u001b[0m\n",
      "\u001b[1m2025-04-02T12:21:46.135511-0700 | INFO | mth5.io.conversion | split_ms_to_days | Wrote miniseed file to: c:\\Users\\jpeacock\\OneDrive - DOI\\MTData\\CL2021\\archive\\to_dmc\\1Z_CL472__FQE_2022_11_02T06_59_58.mseed\u001b[0m\n",
      "\u001b[1m2025-04-02T12:21:46.326636-0700 | INFO | mth5.io.conversion | split_ms_to_days | Wrote miniseed file to: c:\\Users\\jpeacock\\OneDrive - DOI\\MTData\\CL2021\\archive\\to_dmc\\1Z_CL472__FFN_2022_11_02T06_59_58.mseed\u001b[0m\n",
      "\u001b[1m2025-04-02T12:21:46.517077-0700 | INFO | mth5.io.conversion | split_ms_to_days | Wrote miniseed file to: c:\\Users\\jpeacock\\OneDrive - DOI\\MTData\\CL2021\\archive\\to_dmc\\1Z_CL472__FFE_2022_11_02T06_59_58.mseed\u001b[0m\n",
      "\u001b[1m2025-04-02T12:21:46.707308-0700 | INFO | mth5.io.conversion | split_ms_to_days | Wrote miniseed file to: c:\\Users\\jpeacock\\OneDrive - DOI\\MTData\\CL2021\\archive\\to_dmc\\1Z_CL472__FFZ_2022_11_02T06_59_58.mseed\u001b[0m\n",
      "\u001b[1m2025-04-02T12:21:54.277257-0700 | INFO | mth5.io.conversion | split_ms_to_days | Wrote miniseed file to: c:\\Users\\jpeacock\\OneDrive - DOI\\MTData\\CL2021\\archive\\to_dmc\\1Z_CL472__CQN_2022_11_02T07_09_58.mseed\u001b[0m\n",
      "\u001b[1m2025-04-02T12:21:54.707356-0700 | INFO | mth5.io.conversion | split_ms_to_days | Wrote miniseed file to: c:\\Users\\jpeacock\\OneDrive - DOI\\MTData\\CL2021\\archive\\to_dmc\\1Z_CL472__CQE_2022_11_02T07_09_58.mseed\u001b[0m\n",
      "\u001b[1m2025-04-02T12:21:55.134738-0700 | INFO | mth5.io.conversion | split_ms_to_days | Wrote miniseed file to: c:\\Users\\jpeacock\\OneDrive - DOI\\MTData\\CL2021\\archive\\to_dmc\\1Z_CL472__CFN_2022_11_02T07_09_58.mseed\u001b[0m\n",
      "\u001b[1m2025-04-02T12:21:55.576500-0700 | INFO | mth5.io.conversion | split_ms_to_days | Wrote miniseed file to: c:\\Users\\jpeacock\\OneDrive - DOI\\MTData\\CL2021\\archive\\to_dmc\\1Z_CL472__CFE_2022_11_02T07_09_58.mseed\u001b[0m\n",
      "\u001b[1m2025-04-02T12:21:56.008271-0700 | INFO | mth5.io.conversion | split_ms_to_days | Wrote miniseed file to: c:\\Users\\jpeacock\\OneDrive - DOI\\MTData\\CL2021\\archive\\to_dmc\\1Z_CL472__CFZ_2022_11_02T07_09_58.mseed\u001b[0m\n",
      "\u001b[1m2025-04-02T12:21:59.663484-0700 | INFO | mth5.timeseries.run_ts | _align_channels | Channels do not have a common end, using latest: 2022-11-02T13:09:41.999268000\u001b[0m\n"
     ]
    },
    {
     "name": "stderr",
     "output_type": "stream",
     "text": [
      "C:\\Users\\jpeacock\\OneDrive - DOI\\Documents\\GitHub\\mth5\\mth5\\timeseries\\channel_ts.py:1524: RuntimeWarning: invalid value encountered in cast\n",
      "  obspy_trace = Trace(self.ts.astype(encoding_dict[encoding]))\n"
     ]
    },
    {
     "name": "stdout",
     "output_type": "stream",
     "text": [
      "\u001b[1m2025-04-02T12:22:02.644722-0700 | INFO | mth5.io.conversion | split_ms_to_days | Wrote miniseed file to: c:\\Users\\jpeacock\\OneDrive - DOI\\MTData\\CL2021\\archive\\to_dmc\\1Z_CL472__FQN_2022_11_02T12_59_58.mseed\u001b[0m\n",
      "\u001b[1m2025-04-02T12:22:02.835893-0700 | INFO | mth5.io.conversion | split_ms_to_days | Wrote miniseed file to: c:\\Users\\jpeacock\\OneDrive - DOI\\MTData\\CL2021\\archive\\to_dmc\\1Z_CL472__FQE_2022_11_02T12_59_58.mseed\u001b[0m\n",
      "\u001b[1m2025-04-02T12:22:03.035062-0700 | INFO | mth5.io.conversion | split_ms_to_days | Wrote miniseed file to: c:\\Users\\jpeacock\\OneDrive - DOI\\MTData\\CL2021\\archive\\to_dmc\\1Z_CL472__FFN_2022_11_02T12_59_58.mseed\u001b[0m\n",
      "\u001b[1m2025-04-02T12:22:03.232204-0700 | INFO | mth5.io.conversion | split_ms_to_days | Wrote miniseed file to: c:\\Users\\jpeacock\\OneDrive - DOI\\MTData\\CL2021\\archive\\to_dmc\\1Z_CL472__FFE_2022_11_02T12_59_58.mseed\u001b[0m\n",
      "\u001b[1m2025-04-02T12:22:03.428298-0700 | INFO | mth5.io.conversion | split_ms_to_days | Wrote miniseed file to: c:\\Users\\jpeacock\\OneDrive - DOI\\MTData\\CL2021\\archive\\to_dmc\\1Z_CL472__FFZ_2022_11_02T12_59_58.mseed\u001b[0m\n",
      "\u001b[1m2025-04-02T12:22:09.228224-0700 | INFO | mth5.io.conversion | split_ms_to_days | Wrote miniseed file to: c:\\Users\\jpeacock\\OneDrive - DOI\\MTData\\CL2021\\archive\\to_dmc\\1Z_CL472__CQN_2022_11_02T13_09_58.mseed\u001b[0m\n",
      "\u001b[1m2025-04-02T12:22:09.423900-0700 | INFO | mth5.io.conversion | split_ms_to_days | Wrote miniseed file to: c:\\Users\\jpeacock\\OneDrive - DOI\\MTData\\CL2021\\archive\\to_dmc\\1Z_CL472__CQE_2022_11_02T13_09_58.mseed\u001b[0m\n",
      "\u001b[1m2025-04-02T12:22:09.640722-0700 | INFO | mth5.io.conversion | split_ms_to_days | Wrote miniseed file to: c:\\Users\\jpeacock\\OneDrive - DOI\\MTData\\CL2021\\archive\\to_dmc\\1Z_CL472__CFN_2022_11_02T13_09_58.mseed\u001b[0m\n",
      "\u001b[1m2025-04-02T12:22:09.838758-0700 | INFO | mth5.io.conversion | split_ms_to_days | Wrote miniseed file to: c:\\Users\\jpeacock\\OneDrive - DOI\\MTData\\CL2021\\archive\\to_dmc\\1Z_CL472__CFE_2022_11_02T13_09_58.mseed\u001b[0m\n",
      "\u001b[1m2025-04-02T12:22:10.038432-0700 | INFO | mth5.io.conversion | split_ms_to_days | Wrote miniseed file to: c:\\Users\\jpeacock\\OneDrive - DOI\\MTData\\CL2021\\archive\\to_dmc\\1Z_CL472__CFZ_2022_11_02T13_09_58.mseed\u001b[0m\n",
      "\u001b[1m2025-04-02T12:22:11.360004-0700 | INFO | mth5.mth5 | close_mth5 | Flushing and closing c:\\Users\\jpeacock\\OneDrive - DOI\\MTData\\CL2021\\archive\\cl472.h5\u001b[0m\n",
      "\u001b[33m\u001b[1m2025-04-02T12:22:11.363004-0700 | WARNING | mt_metadata.timeseries.stationxml.xml_station_mt_station | mt_to_xml | Station.geographic_name is None, using Station.id = cl472.Check StationXML site.name.\u001b[0m\n",
      "\u001b[1m2025-04-02T12:22:11.456685-0700 | INFO | mt_metadata.timeseries.filters.channel_response | to_obspy | total sensitivity 104957842879.94406 != total gain 1048576000.000055. Using total_gain.\u001b[0m\n",
      "\u001b[1m2025-04-02T12:22:11.492368-0700 | INFO | mt_metadata.timeseries.filters.channel_response | to_obspy | total sensitivity 99528330172.17546 != total gain 1048576000.000055. Using total_gain.\u001b[0m\n",
      "\u001b[1m2025-04-02T12:22:11.525470-0700 | INFO | mt_metadata.timeseries.filters.channel_response | to_obspy | total sensitivity 104398743147.64836 != total gain 1048576000.000055. Using total_gain.\u001b[0m\n",
      "\u001b[1m2025-04-02T12:22:11.636991-0700 | INFO | mt_metadata.timeseries.filters.channel_response | to_obspy | total sensitivity 104957842879.94406 != total gain 1048576000.000055. Using total_gain.\u001b[0m\n",
      "\u001b[1m2025-04-02T12:22:11.673516-0700 | INFO | mt_metadata.timeseries.filters.channel_response | to_obspy | total sensitivity 99528330172.17546 != total gain 1048576000.000055. Using total_gain.\u001b[0m\n",
      "\u001b[1m2025-04-02T12:22:11.717044-0700 | INFO | mt_metadata.timeseries.filters.channel_response | to_obspy | total sensitivity 104398743147.64836 != total gain 1048576000.000055. Using total_gain.\u001b[0m\n",
      "\u001b[1m2025-04-02T12:22:11.843168-0700 | INFO | mt_metadata.timeseries.filters.channel_response | to_obspy | total sensitivity 104957842879.94406 != total gain 1048576000.000055. Using total_gain.\u001b[0m\n",
      "\u001b[1m2025-04-02T12:22:11.902320-0700 | INFO | mt_metadata.timeseries.filters.channel_response | to_obspy | total sensitivity 99528330172.17546 != total gain 1048576000.000055. Using total_gain.\u001b[0m\n",
      "\u001b[1m2025-04-02T12:22:11.939323-0700 | INFO | mt_metadata.timeseries.filters.channel_response | to_obspy | total sensitivity 104398743147.64836 != total gain 1048576000.000055. Using total_gain.\u001b[0m\n",
      "\u001b[1m2025-04-02T12:22:12.064353-0700 | INFO | mt_metadata.timeseries.filters.channel_response | to_obspy | total sensitivity 104957842879.94406 != total gain 1048576000.000055. Using total_gain.\u001b[0m\n",
      "\u001b[1m2025-04-02T12:22:12.113910-0700 | INFO | mt_metadata.timeseries.filters.channel_response | to_obspy | total sensitivity 99528330172.17546 != total gain 1048576000.000055. Using total_gain.\u001b[0m\n",
      "\u001b[1m2025-04-02T12:22:12.151878-0700 | INFO | mt_metadata.timeseries.filters.channel_response | to_obspy | total sensitivity 104398743147.64836 != total gain 1048576000.000055. Using total_gain.\u001b[0m\n",
      "\u001b[1m2025-04-02T12:22:12.244432-0700 | INFO | mt_metadata.timeseries.filters.channel_response | to_obspy | total sensitivity 104957842879.94406 != total gain 1048576000.000055. Using total_gain.\u001b[0m\n",
      "\u001b[1m2025-04-02T12:22:12.274429-0700 | INFO | mt_metadata.timeseries.filters.channel_response | to_obspy | total sensitivity 99528330172.17546 != total gain 1048576000.000055. Using total_gain.\u001b[0m\n",
      "\u001b[1m2025-04-02T12:22:12.303032-0700 | INFO | mt_metadata.timeseries.filters.channel_response | to_obspy | total sensitivity 104398743147.64836 != total gain 1048576000.000055. Using total_gain.\u001b[0m\n",
      "\u001b[1m2025-04-02T12:22:12.399608-0700 | INFO | mt_metadata.timeseries.filters.channel_response | to_obspy | total sensitivity 104957842879.94406 != total gain 1048576000.000055. Using total_gain.\u001b[0m\n",
      "\u001b[1m2025-04-02T12:22:12.429299-0700 | INFO | mt_metadata.timeseries.filters.channel_response | to_obspy | total sensitivity 99528330172.17546 != total gain 1048576000.000055. Using total_gain.\u001b[0m\n",
      "\u001b[1m2025-04-02T12:22:12.463300-0700 | INFO | mt_metadata.timeseries.filters.channel_response | to_obspy | total sensitivity 104398743147.64836 != total gain 1048576000.000055. Using total_gain.\u001b[0m\n",
      "\u001b[1m2025-04-02T12:22:12.583835-0700 | INFO | mt_metadata.timeseries.filters.channel_response | to_obspy | total sensitivity 104957842879.94406 != total gain 1048576000.000055. Using total_gain.\u001b[0m\n",
      "\u001b[1m2025-04-02T12:22:12.615168-0700 | INFO | mt_metadata.timeseries.filters.channel_response | to_obspy | total sensitivity 99528330172.17546 != total gain 1048576000.000055. Using total_gain.\u001b[0m\n",
      "\u001b[1m2025-04-02T12:22:12.646168-0700 | INFO | mt_metadata.timeseries.filters.channel_response | to_obspy | total sensitivity 104398743147.64836 != total gain 1048576000.000055. Using total_gain.\u001b[0m\n",
      "\u001b[1m2025-04-02T12:22:12.740541-0700 | INFO | mt_metadata.timeseries.filters.channel_response | to_obspy | total sensitivity 104957842879.94406 != total gain 1048576000.000055. Using total_gain.\u001b[0m\n",
      "\u001b[1m2025-04-02T12:22:12.770508-0700 | INFO | mt_metadata.timeseries.filters.channel_response | to_obspy | total sensitivity 99528330172.17546 != total gain 1048576000.000055. Using total_gain.\u001b[0m\n",
      "\u001b[1m2025-04-02T12:22:12.799158-0700 | INFO | mt_metadata.timeseries.filters.channel_response | to_obspy | total sensitivity 104398743147.64836 != total gain 1048576000.000055. Using total_gain.\u001b[0m\n",
      "\u001b[1m2025-04-02T12:22:12.835130-0700 | INFO | mth5.io.conversion | convert_mth5_to_ms_stationxml | Wrote StationXML to c:\\Users\\jpeacock\\OneDrive - DOI\\MTData\\CL2021\\archive\\to_dmc\\cl472.xml\u001b[0m\n",
      "\u001b[33m\u001b[1m2025-04-02T12:22:14.610254-0700 | WARNING | mt_metadata.timeseries.station | remove_run | Could not find cl473a to remove.\u001b[0m\n",
      "\u001b[1m2025-04-02T12:22:18.430080-0700 | INFO | mth5.io.conversion | split_ms_to_days | Wrote miniseed file to: c:\\Users\\jpeacock\\OneDrive - DOI\\MTData\\CL2021\\archive\\to_dmc\\1Z_CL473__LQN_2022_11_01T20_14_58.mseed\u001b[0m\n",
      "\u001b[1m2025-04-02T12:22:18.434080-0700 | INFO | mth5.io.conversion | split_ms_to_days | Wrote miniseed file to: c:\\Users\\jpeacock\\OneDrive - DOI\\MTData\\CL2021\\archive\\to_dmc\\1Z_CL473__LQN_2022_11_02T00_00_00.mseed\u001b[0m\n",
      "\u001b[1m2025-04-02T12:22:18.444076-0700 | INFO | mth5.io.conversion | split_ms_to_days | Wrote miniseed file to: c:\\Users\\jpeacock\\OneDrive - DOI\\MTData\\CL2021\\archive\\to_dmc\\1Z_CL473__LQE_2022_11_01T20_14_58.mseed\u001b[0m\n",
      "\u001b[1m2025-04-02T12:22:18.448081-0700 | INFO | mth5.io.conversion | split_ms_to_days | Wrote miniseed file to: c:\\Users\\jpeacock\\OneDrive - DOI\\MTData\\CL2021\\archive\\to_dmc\\1Z_CL473__LQE_2022_11_02T00_00_00.mseed\u001b[0m\n",
      "\u001b[1m2025-04-02T12:22:18.456082-0700 | INFO | mth5.io.conversion | split_ms_to_days | Wrote miniseed file to: c:\\Users\\jpeacock\\OneDrive - DOI\\MTData\\CL2021\\archive\\to_dmc\\1Z_CL473__LFN_2022_11_01T20_14_58.mseed\u001b[0m\n",
      "\u001b[1m2025-04-02T12:22:18.461078-0700 | INFO | mth5.io.conversion | split_ms_to_days | Wrote miniseed file to: c:\\Users\\jpeacock\\OneDrive - DOI\\MTData\\CL2021\\archive\\to_dmc\\1Z_CL473__LFN_2022_11_02T00_00_00.mseed\u001b[0m\n",
      "\u001b[1m2025-04-02T12:22:18.470077-0700 | INFO | mth5.io.conversion | split_ms_to_days | Wrote miniseed file to: c:\\Users\\jpeacock\\OneDrive - DOI\\MTData\\CL2021\\archive\\to_dmc\\1Z_CL473__LFE_2022_11_01T20_14_58.mseed\u001b[0m\n",
      "\u001b[1m2025-04-02T12:22:18.498093-0700 | INFO | mth5.io.conversion | split_ms_to_days | Wrote miniseed file to: c:\\Users\\jpeacock\\OneDrive - DOI\\MTData\\CL2021\\archive\\to_dmc\\1Z_CL473__LFE_2022_11_02T00_00_00.mseed\u001b[0m\n",
      "\u001b[1m2025-04-02T12:22:18.515607-0700 | INFO | mth5.io.conversion | split_ms_to_days | Wrote miniseed file to: c:\\Users\\jpeacock\\OneDrive - DOI\\MTData\\CL2021\\archive\\to_dmc\\1Z_CL473__LFZ_2022_11_01T20_14_58.mseed\u001b[0m\n",
      "\u001b[1m2025-04-02T12:22:18.521609-0700 | INFO | mth5.io.conversion | split_ms_to_days | Wrote miniseed file to: c:\\Users\\jpeacock\\OneDrive - DOI\\MTData\\CL2021\\archive\\to_dmc\\1Z_CL473__LFZ_2022_11_02T00_00_00.mseed\u001b[0m\n",
      "\u001b[1m2025-04-02T12:22:24.639097-0700 | INFO | mth5.timeseries.run_ts | _align_channels | Channels do not have a common end, using latest: 2022-11-02T00:59:41.968750000\u001b[0m\n"
     ]
    },
    {
     "name": "stderr",
     "output_type": "stream",
     "text": [
      "C:\\Users\\jpeacock\\OneDrive - DOI\\Documents\\GitHub\\mth5\\mth5\\timeseries\\channel_ts.py:1524: RuntimeWarning: invalid value encountered in cast\n",
      "  obspy_trace = Trace(self.ts.astype(encoding_dict[encoding]))\n"
     ]
    },
    {
     "name": "stdout",
     "output_type": "stream",
     "text": [
      "\u001b[1m2025-04-02T12:22:27.486888-0700 | INFO | mth5.io.conversion | split_ms_to_days | Wrote miniseed file to: c:\\Users\\jpeacock\\OneDrive - DOI\\MTData\\CL2021\\archive\\to_dmc\\1Z_CL473__CQN_2022_11_01T20_14_58.mseed\u001b[0m\n",
      "\u001b[1m2025-04-02T12:22:27.775000-0700 | INFO | mth5.io.conversion | split_ms_to_days | Wrote miniseed file to: c:\\Users\\jpeacock\\OneDrive - DOI\\MTData\\CL2021\\archive\\to_dmc\\1Z_CL473__CQN_2022_11_02T00_00_00.mseed\u001b[0m\n",
      "\u001b[1m2025-04-02T12:22:27.858179-0700 | INFO | mth5.io.conversion | split_ms_to_days | Wrote miniseed file to: c:\\Users\\jpeacock\\OneDrive - DOI\\MTData\\CL2021\\archive\\to_dmc\\1Z_CL473__CQE_2022_11_01T20_14_58.mseed\u001b[0m\n",
      "\u001b[1m2025-04-02T12:22:28.146841-0700 | INFO | mth5.io.conversion | split_ms_to_days | Wrote miniseed file to: c:\\Users\\jpeacock\\OneDrive - DOI\\MTData\\CL2021\\archive\\to_dmc\\1Z_CL473__CQE_2022_11_02T00_00_00.mseed\u001b[0m\n",
      "\u001b[1m2025-04-02T12:22:28.221424-0700 | INFO | mth5.io.conversion | split_ms_to_days | Wrote miniseed file to: c:\\Users\\jpeacock\\OneDrive - DOI\\MTData\\CL2021\\archive\\to_dmc\\1Z_CL473__CFN_2022_11_01T20_14_58.mseed\u001b[0m\n",
      "\u001b[1m2025-04-02T12:22:28.517083-0700 | INFO | mth5.io.conversion | split_ms_to_days | Wrote miniseed file to: c:\\Users\\jpeacock\\OneDrive - DOI\\MTData\\CL2021\\archive\\to_dmc\\1Z_CL473__CFN_2022_11_02T00_00_00.mseed\u001b[0m\n",
      "\u001b[1m2025-04-02T12:22:28.602123-0700 | INFO | mth5.io.conversion | split_ms_to_days | Wrote miniseed file to: c:\\Users\\jpeacock\\OneDrive - DOI\\MTData\\CL2021\\archive\\to_dmc\\1Z_CL473__CFE_2022_11_01T20_14_58.mseed\u001b[0m\n",
      "\u001b[1m2025-04-02T12:22:28.913256-0700 | INFO | mth5.io.conversion | split_ms_to_days | Wrote miniseed file to: c:\\Users\\jpeacock\\OneDrive - DOI\\MTData\\CL2021\\archive\\to_dmc\\1Z_CL473__CFE_2022_11_02T00_00_00.mseed\u001b[0m\n",
      "\u001b[1m2025-04-02T12:22:29.021042-0700 | INFO | mth5.io.conversion | split_ms_to_days | Wrote miniseed file to: c:\\Users\\jpeacock\\OneDrive - DOI\\MTData\\CL2021\\archive\\to_dmc\\1Z_CL473__CFZ_2022_11_01T20_14_58.mseed\u001b[0m\n",
      "\u001b[1m2025-04-02T12:22:29.344895-0700 | INFO | mth5.io.conversion | split_ms_to_days | Wrote miniseed file to: c:\\Users\\jpeacock\\OneDrive - DOI\\MTData\\CL2021\\archive\\to_dmc\\1Z_CL473__CFZ_2022_11_02T00_00_00.mseed\u001b[0m\n",
      "\u001b[1m2025-04-02T12:22:32.996985-0700 | INFO | mth5.timeseries.run_ts | _align_channels | Channels do not have a common end, using latest: 2022-11-02T01:09:41.999023437\u001b[0m\n",
      "\u001b[33m\u001b[1m2025-04-02T12:22:35.724826-0700 | WARNING | mth5.timeseries.run_ts | validate_metadata | end time of dataset 2022-11-02T01:09:41.998779296+00:00 does not match metadata end 2022-11-02T01:09:41.999023437+00:00 updating metatdata value to 2022-11-02T01:09:41.998779296+00:00\u001b[0m\n"
     ]
    },
    {
     "name": "stderr",
     "output_type": "stream",
     "text": [
      "C:\\Users\\jpeacock\\OneDrive - DOI\\Documents\\GitHub\\mth5\\mth5\\timeseries\\channel_ts.py:1524: RuntimeWarning: invalid value encountered in cast\n",
      "  obspy_trace = Trace(self.ts.astype(encoding_dict[encoding]))\n"
     ]
    },
    {
     "name": "stdout",
     "output_type": "stream",
     "text": [
      "\u001b[1m2025-04-02T12:22:36.480449-0700 | INFO | mth5.io.conversion | split_ms_to_days | Wrote miniseed file to: c:\\Users\\jpeacock\\OneDrive - DOI\\MTData\\CL2021\\archive\\to_dmc\\1Z_CL473__FQN_2022_11_02T00_59_58.mseed\u001b[0m\n",
      "\u001b[1m2025-04-02T12:22:36.667457-0700 | INFO | mth5.io.conversion | split_ms_to_days | Wrote miniseed file to: c:\\Users\\jpeacock\\OneDrive - DOI\\MTData\\CL2021\\archive\\to_dmc\\1Z_CL473__FQE_2022_11_02T00_59_58.mseed\u001b[0m\n",
      "\u001b[1m2025-04-02T12:22:36.855020-0700 | INFO | mth5.io.conversion | split_ms_to_days | Wrote miniseed file to: c:\\Users\\jpeacock\\OneDrive - DOI\\MTData\\CL2021\\archive\\to_dmc\\1Z_CL473__FFN_2022_11_02T00_59_58.mseed\u001b[0m\n",
      "\u001b[1m2025-04-02T12:22:37.093771-0700 | INFO | mth5.io.conversion | split_ms_to_days | Wrote miniseed file to: c:\\Users\\jpeacock\\OneDrive - DOI\\MTData\\CL2021\\archive\\to_dmc\\1Z_CL473__FFE_2022_11_02T00_59_58.mseed\u001b[0m\n",
      "\u001b[1m2025-04-02T12:22:37.296176-0700 | INFO | mth5.io.conversion | split_ms_to_days | Wrote miniseed file to: c:\\Users\\jpeacock\\OneDrive - DOI\\MTData\\CL2021\\archive\\to_dmc\\1Z_CL473__FFZ_2022_11_02T00_59_58.mseed\u001b[0m\n",
      "\u001b[1m2025-04-02T12:22:45.051287-0700 | INFO | mth5.io.conversion | split_ms_to_days | Wrote miniseed file to: c:\\Users\\jpeacock\\OneDrive - DOI\\MTData\\CL2021\\archive\\to_dmc\\1Z_CL473__CQN_2022_11_02T01_09_58.mseed\u001b[0m\n",
      "\u001b[1m2025-04-02T12:22:45.477466-0700 | INFO | mth5.io.conversion | split_ms_to_days | Wrote miniseed file to: c:\\Users\\jpeacock\\OneDrive - DOI\\MTData\\CL2021\\archive\\to_dmc\\1Z_CL473__CQE_2022_11_02T01_09_58.mseed\u001b[0m\n",
      "\u001b[1m2025-04-02T12:22:45.906732-0700 | INFO | mth5.io.conversion | split_ms_to_days | Wrote miniseed file to: c:\\Users\\jpeacock\\OneDrive - DOI\\MTData\\CL2021\\archive\\to_dmc\\1Z_CL473__CFN_2022_11_02T01_09_58.mseed\u001b[0m\n",
      "\u001b[1m2025-04-02T12:22:46.366941-0700 | INFO | mth5.io.conversion | split_ms_to_days | Wrote miniseed file to: c:\\Users\\jpeacock\\OneDrive - DOI\\MTData\\CL2021\\archive\\to_dmc\\1Z_CL473__CFE_2022_11_02T01_09_58.mseed\u001b[0m\n",
      "\u001b[1m2025-04-02T12:22:46.807165-0700 | INFO | mth5.io.conversion | split_ms_to_days | Wrote miniseed file to: c:\\Users\\jpeacock\\OneDrive - DOI\\MTData\\CL2021\\archive\\to_dmc\\1Z_CL473__CFZ_2022_11_02T01_09_58.mseed\u001b[0m\n",
      "\u001b[1m2025-04-02T12:22:50.758902-0700 | INFO | mth5.timeseries.run_ts | _align_channels | Channels do not have a common end, using latest: 2022-11-02T07:09:41.998535156\u001b[0m\n",
      "\u001b[33m\u001b[1m2025-04-02T12:22:53.654288-0700 | WARNING | mth5.timeseries.run_ts | validate_metadata | end time of dataset 2022-11-02T07:09:41.998291015+00:00 does not match metadata end 2022-11-02T07:09:41.998535156+00:00 updating metatdata value to 2022-11-02T07:09:41.998291015+00:00\u001b[0m\n"
     ]
    },
    {
     "name": "stderr",
     "output_type": "stream",
     "text": [
      "C:\\Users\\jpeacock\\OneDrive - DOI\\Documents\\GitHub\\mth5\\mth5\\timeseries\\channel_ts.py:1524: RuntimeWarning: invalid value encountered in cast\n",
      "  obspy_trace = Trace(self.ts.astype(encoding_dict[encoding]))\n"
     ]
    },
    {
     "name": "stdout",
     "output_type": "stream",
     "text": [
      "\u001b[1m2025-04-02T12:22:54.434585-0700 | INFO | mth5.io.conversion | split_ms_to_days | Wrote miniseed file to: c:\\Users\\jpeacock\\OneDrive - DOI\\MTData\\CL2021\\archive\\to_dmc\\1Z_CL473__FQN_2022_11_02T06_59_58.mseed\u001b[0m\n",
      "\u001b[1m2025-04-02T12:22:54.655791-0700 | INFO | mth5.io.conversion | split_ms_to_days | Wrote miniseed file to: c:\\Users\\jpeacock\\OneDrive - DOI\\MTData\\CL2021\\archive\\to_dmc\\1Z_CL473__FQE_2022_11_02T06_59_58.mseed\u001b[0m\n",
      "\u001b[1m2025-04-02T12:22:54.846372-0700 | INFO | mth5.io.conversion | split_ms_to_days | Wrote miniseed file to: c:\\Users\\jpeacock\\OneDrive - DOI\\MTData\\CL2021\\archive\\to_dmc\\1Z_CL473__FFN_2022_11_02T06_59_58.mseed\u001b[0m\n",
      "\u001b[1m2025-04-02T12:22:55.036487-0700 | INFO | mth5.io.conversion | split_ms_to_days | Wrote miniseed file to: c:\\Users\\jpeacock\\OneDrive - DOI\\MTData\\CL2021\\archive\\to_dmc\\1Z_CL473__FFE_2022_11_02T06_59_58.mseed\u001b[0m\n",
      "\u001b[1m2025-04-02T12:22:55.241178-0700 | INFO | mth5.io.conversion | split_ms_to_days | Wrote miniseed file to: c:\\Users\\jpeacock\\OneDrive - DOI\\MTData\\CL2021\\archive\\to_dmc\\1Z_CL473__FFZ_2022_11_02T06_59_58.mseed\u001b[0m\n",
      "\u001b[1m2025-04-02T12:23:03.152117-0700 | INFO | mth5.io.conversion | split_ms_to_days | Wrote miniseed file to: c:\\Users\\jpeacock\\OneDrive - DOI\\MTData\\CL2021\\archive\\to_dmc\\1Z_CL473__CQN_2022_11_02T07_09_58.mseed\u001b[0m\n",
      "\u001b[1m2025-04-02T12:23:03.595208-0700 | INFO | mth5.io.conversion | split_ms_to_days | Wrote miniseed file to: c:\\Users\\jpeacock\\OneDrive - DOI\\MTData\\CL2021\\archive\\to_dmc\\1Z_CL473__CQE_2022_11_02T07_09_58.mseed\u001b[0m\n",
      "\u001b[1m2025-04-02T12:23:04.045117-0700 | INFO | mth5.io.conversion | split_ms_to_days | Wrote miniseed file to: c:\\Users\\jpeacock\\OneDrive - DOI\\MTData\\CL2021\\archive\\to_dmc\\1Z_CL473__CFN_2022_11_02T07_09_58.mseed\u001b[0m\n",
      "\u001b[1m2025-04-02T12:23:04.515677-0700 | INFO | mth5.io.conversion | split_ms_to_days | Wrote miniseed file to: c:\\Users\\jpeacock\\OneDrive - DOI\\MTData\\CL2021\\archive\\to_dmc\\1Z_CL473__CFE_2022_11_02T07_09_58.mseed\u001b[0m\n",
      "\u001b[1m2025-04-02T12:23:04.966911-0700 | INFO | mth5.io.conversion | split_ms_to_days | Wrote miniseed file to: c:\\Users\\jpeacock\\OneDrive - DOI\\MTData\\CL2021\\archive\\to_dmc\\1Z_CL473__CFZ_2022_11_02T07_09_58.mseed\u001b[0m\n",
      "\u001b[1m2025-04-02T12:23:08.807728-0700 | INFO | mth5.timeseries.run_ts | _align_channels | Channels do not have a common end, using latest: 2022-11-02T13:09:41.997803000\u001b[0m\n"
     ]
    },
    {
     "name": "stderr",
     "output_type": "stream",
     "text": [
      "C:\\Users\\jpeacock\\OneDrive - DOI\\Documents\\GitHub\\mth5\\mth5\\timeseries\\channel_ts.py:1524: RuntimeWarning: invalid value encountered in cast\n",
      "  obspy_trace = Trace(self.ts.astype(encoding_dict[encoding]))\n"
     ]
    },
    {
     "name": "stdout",
     "output_type": "stream",
     "text": [
      "\u001b[1m2025-04-02T12:23:11.775347-0700 | INFO | mth5.io.conversion | split_ms_to_days | Wrote miniseed file to: c:\\Users\\jpeacock\\OneDrive - DOI\\MTData\\CL2021\\archive\\to_dmc\\1Z_CL473__FQN_2022_11_02T12_59_58.mseed\u001b[0m\n",
      "\u001b[1m2025-04-02T12:23:11.967800-0700 | INFO | mth5.io.conversion | split_ms_to_days | Wrote miniseed file to: c:\\Users\\jpeacock\\OneDrive - DOI\\MTData\\CL2021\\archive\\to_dmc\\1Z_CL473__FQE_2022_11_02T12_59_58.mseed\u001b[0m\n",
      "\u001b[1m2025-04-02T12:23:12.178254-0700 | INFO | mth5.io.conversion | split_ms_to_days | Wrote miniseed file to: c:\\Users\\jpeacock\\OneDrive - DOI\\MTData\\CL2021\\archive\\to_dmc\\1Z_CL473__FFN_2022_11_02T12_59_58.mseed\u001b[0m\n",
      "\u001b[1m2025-04-02T12:23:12.425122-0700 | INFO | mth5.io.conversion | split_ms_to_days | Wrote miniseed file to: c:\\Users\\jpeacock\\OneDrive - DOI\\MTData\\CL2021\\archive\\to_dmc\\1Z_CL473__FFE_2022_11_02T12_59_58.mseed\u001b[0m\n",
      "\u001b[1m2025-04-02T12:23:12.621225-0700 | INFO | mth5.io.conversion | split_ms_to_days | Wrote miniseed file to: c:\\Users\\jpeacock\\OneDrive - DOI\\MTData\\CL2021\\archive\\to_dmc\\1Z_CL473__FFZ_2022_11_02T12_59_58.mseed\u001b[0m\n",
      "\u001b[1m2025-04-02T12:23:17.537028-0700 | INFO | mth5.io.conversion | split_ms_to_days | Wrote miniseed file to: c:\\Users\\jpeacock\\OneDrive - DOI\\MTData\\CL2021\\archive\\to_dmc\\1Z_CL473__CQN_2022_11_02T13_09_58.mseed\u001b[0m\n",
      "\u001b[1m2025-04-02T12:23:17.668235-0700 | INFO | mth5.io.conversion | split_ms_to_days | Wrote miniseed file to: c:\\Users\\jpeacock\\OneDrive - DOI\\MTData\\CL2021\\archive\\to_dmc\\1Z_CL473__CQE_2022_11_02T13_09_58.mseed\u001b[0m\n",
      "\u001b[1m2025-04-02T12:23:17.795780-0700 | INFO | mth5.io.conversion | split_ms_to_days | Wrote miniseed file to: c:\\Users\\jpeacock\\OneDrive - DOI\\MTData\\CL2021\\archive\\to_dmc\\1Z_CL473__CFN_2022_11_02T13_09_58.mseed\u001b[0m\n",
      "\u001b[1m2025-04-02T12:23:17.940300-0700 | INFO | mth5.io.conversion | split_ms_to_days | Wrote miniseed file to: c:\\Users\\jpeacock\\OneDrive - DOI\\MTData\\CL2021\\archive\\to_dmc\\1Z_CL473__CFE_2022_11_02T13_09_58.mseed\u001b[0m\n",
      "\u001b[1m2025-04-02T12:23:18.073458-0700 | INFO | mth5.io.conversion | split_ms_to_days | Wrote miniseed file to: c:\\Users\\jpeacock\\OneDrive - DOI\\MTData\\CL2021\\archive\\to_dmc\\1Z_CL473__CFZ_2022_11_02T13_09_58.mseed\u001b[0m\n",
      "\u001b[1m2025-04-02T12:23:19.331017-0700 | INFO | mth5.mth5 | close_mth5 | Flushing and closing c:\\Users\\jpeacock\\OneDrive - DOI\\MTData\\CL2021\\archive\\cl473.h5\u001b[0m\n",
      "\u001b[33m\u001b[1m2025-04-02T12:23:19.336000-0700 | WARNING | mt_metadata.timeseries.stationxml.xml_station_mt_station | mt_to_xml | Station.geographic_name is None, using Station.id = cl473.Check StationXML site.name.\u001b[0m\n",
      "\u001b[1m2025-04-02T12:23:19.429619-0700 | INFO | mt_metadata.timeseries.filters.channel_response | to_obspy | total sensitivity 105384854631.2247 != total gain 1048576000.000055. Using total_gain.\u001b[0m\n",
      "\u001b[1m2025-04-02T12:23:19.457141-0700 | INFO | mt_metadata.timeseries.filters.channel_response | to_obspy | total sensitivity 105012851743.1351 != total gain 1048576000.000055. Using total_gain.\u001b[0m\n",
      "\u001b[1m2025-04-02T12:23:19.486172-0700 | INFO | mt_metadata.timeseries.filters.channel_response | to_obspy | total sensitivity 104693940307.89154 != total gain 1048576000.000055. Using total_gain.\u001b[0m\n",
      "\u001b[1m2025-04-02T12:23:19.575758-0700 | INFO | mt_metadata.timeseries.filters.channel_response | to_obspy | total sensitivity 105384854631.2247 != total gain 1048576000.000055. Using total_gain.\u001b[0m\n",
      "\u001b[1m2025-04-02T12:23:19.603756-0700 | INFO | mt_metadata.timeseries.filters.channel_response | to_obspy | total sensitivity 105012851743.1351 != total gain 1048576000.000055. Using total_gain.\u001b[0m\n",
      "\u001b[1m2025-04-02T12:23:19.638738-0700 | INFO | mt_metadata.timeseries.filters.channel_response | to_obspy | total sensitivity 104693940307.89154 != total gain 1048576000.000055. Using total_gain.\u001b[0m\n",
      "\u001b[1m2025-04-02T12:23:19.729357-0700 | INFO | mt_metadata.timeseries.filters.channel_response | to_obspy | total sensitivity 105384854631.2247 != total gain 1048576000.000055. Using total_gain.\u001b[0m\n",
      "\u001b[1m2025-04-02T12:23:19.759972-0700 | INFO | mt_metadata.timeseries.filters.channel_response | to_obspy | total sensitivity 105012851743.1351 != total gain 1048576000.000055. Using total_gain.\u001b[0m\n",
      "\u001b[1m2025-04-02T12:23:19.789941-0700 | INFO | mt_metadata.timeseries.filters.channel_response | to_obspy | total sensitivity 104693940307.89154 != total gain 1048576000.000055. Using total_gain.\u001b[0m\n",
      "\u001b[1m2025-04-02T12:23:19.879553-0700 | INFO | mt_metadata.timeseries.filters.channel_response | to_obspy | total sensitivity 105384854631.2247 != total gain 1048576000.000055. Using total_gain.\u001b[0m\n",
      "\u001b[1m2025-04-02T12:23:19.908554-0700 | INFO | mt_metadata.timeseries.filters.channel_response | to_obspy | total sensitivity 105012851743.1351 != total gain 1048576000.000055. Using total_gain.\u001b[0m\n",
      "\u001b[1m2025-04-02T12:23:19.939560-0700 | INFO | mt_metadata.timeseries.filters.channel_response | to_obspy | total sensitivity 104693940307.89154 != total gain 1048576000.000055. Using total_gain.\u001b[0m\n",
      "\u001b[1m2025-04-02T12:23:20.028178-0700 | INFO | mt_metadata.timeseries.filters.channel_response | to_obspy | total sensitivity 105384854631.2247 != total gain 1048576000.000055. Using total_gain.\u001b[0m\n",
      "\u001b[1m2025-04-02T12:23:20.056745-0700 | INFO | mt_metadata.timeseries.filters.channel_response | to_obspy | total sensitivity 105012851743.1351 != total gain 1048576000.000055. Using total_gain.\u001b[0m\n",
      "\u001b[1m2025-04-02T12:23:20.085767-0700 | INFO | mt_metadata.timeseries.filters.channel_response | to_obspy | total sensitivity 104693940307.89154 != total gain 1048576000.000055. Using total_gain.\u001b[0m\n",
      "\u001b[1m2025-04-02T12:23:20.177366-0700 | INFO | mt_metadata.timeseries.filters.channel_response | to_obspy | total sensitivity 105384854631.2247 != total gain 1048576000.000055. Using total_gain.\u001b[0m\n",
      "\u001b[1m2025-04-02T12:23:20.204365-0700 | INFO | mt_metadata.timeseries.filters.channel_response | to_obspy | total sensitivity 105012851743.1351 != total gain 1048576000.000055. Using total_gain.\u001b[0m\n",
      "\u001b[1m2025-04-02T12:23:20.233365-0700 | INFO | mt_metadata.timeseries.filters.channel_response | to_obspy | total sensitivity 104693940307.89154 != total gain 1048576000.000055. Using total_gain.\u001b[0m\n",
      "\u001b[1m2025-04-02T12:23:20.324889-0700 | INFO | mt_metadata.timeseries.filters.channel_response | to_obspy | total sensitivity 105384854631.2247 != total gain 1048576000.000055. Using total_gain.\u001b[0m\n",
      "\u001b[1m2025-04-02T12:23:20.376926-0700 | INFO | mt_metadata.timeseries.filters.channel_response | to_obspy | total sensitivity 105012851743.1351 != total gain 1048576000.000055. Using total_gain.\u001b[0m\n",
      "\u001b[1m2025-04-02T12:23:20.415929-0700 | INFO | mt_metadata.timeseries.filters.channel_response | to_obspy | total sensitivity 104693940307.89154 != total gain 1048576000.000055. Using total_gain.\u001b[0m\n",
      "\u001b[1m2025-04-02T12:23:20.505540-0700 | INFO | mt_metadata.timeseries.filters.channel_response | to_obspy | total sensitivity 105384854631.2247 != total gain 1048576000.000055. Using total_gain.\u001b[0m\n",
      "\u001b[1m2025-04-02T12:23:20.536539-0700 | INFO | mt_metadata.timeseries.filters.channel_response | to_obspy | total sensitivity 105012851743.1351 != total gain 1048576000.000055. Using total_gain.\u001b[0m\n",
      "\u001b[1m2025-04-02T12:23:20.569339-0700 | INFO | mt_metadata.timeseries.filters.channel_response | to_obspy | total sensitivity 104693940307.89154 != total gain 1048576000.000055. Using total_gain.\u001b[0m\n",
      "\u001b[1m2025-04-02T12:23:20.600341-0700 | INFO | mth5.io.conversion | convert_mth5_to_ms_stationxml | Wrote StationXML to c:\\Users\\jpeacock\\OneDrive - DOI\\MTData\\CL2021\\archive\\to_dmc\\cl473.xml\u001b[0m\n",
      "\u001b[33m\u001b[1m2025-04-02T12:23:22.531560-0700 | WARNING | mt_metadata.timeseries.station | remove_run | Could not find cl478a to remove.\u001b[0m\n",
      "\u001b[1m2025-04-02T12:23:26.323582-0700 | INFO | mth5.io.conversion | split_ms_to_days | Wrote miniseed file to: c:\\Users\\jpeacock\\OneDrive - DOI\\MTData\\CL2021\\archive\\to_dmc\\1Z_CL478__LQN_2022_11_02T18_39_58.mseed\u001b[0m\n",
      "\u001b[1m2025-04-02T12:23:26.330554-0700 | INFO | mth5.io.conversion | split_ms_to_days | Wrote miniseed file to: c:\\Users\\jpeacock\\OneDrive - DOI\\MTData\\CL2021\\archive\\to_dmc\\1Z_CL478__LQN_2022_11_03T00_00_00.mseed\u001b[0m\n",
      "\u001b[1m2025-04-02T12:23:26.337583-0700 | INFO | mth5.io.conversion | split_ms_to_days | Wrote miniseed file to: c:\\Users\\jpeacock\\OneDrive - DOI\\MTData\\CL2021\\archive\\to_dmc\\1Z_CL478__LQE_2022_11_02T18_39_58.mseed\u001b[0m\n",
      "\u001b[1m2025-04-02T12:23:26.343554-0700 | INFO | mth5.io.conversion | split_ms_to_days | Wrote miniseed file to: c:\\Users\\jpeacock\\OneDrive - DOI\\MTData\\CL2021\\archive\\to_dmc\\1Z_CL478__LQE_2022_11_03T00_00_00.mseed\u001b[0m\n",
      "\u001b[1m2025-04-02T12:23:26.354580-0700 | INFO | mth5.io.conversion | split_ms_to_days | Wrote miniseed file to: c:\\Users\\jpeacock\\OneDrive - DOI\\MTData\\CL2021\\archive\\to_dmc\\1Z_CL478__LFN_2022_11_02T18_39_58.mseed\u001b[0m\n",
      "\u001b[1m2025-04-02T12:23:26.358575-0700 | INFO | mth5.io.conversion | split_ms_to_days | Wrote miniseed file to: c:\\Users\\jpeacock\\OneDrive - DOI\\MTData\\CL2021\\archive\\to_dmc\\1Z_CL478__LFN_2022_11_03T00_00_00.mseed\u001b[0m\n",
      "\u001b[1m2025-04-02T12:23:26.367091-0700 | INFO | mth5.io.conversion | split_ms_to_days | Wrote miniseed file to: c:\\Users\\jpeacock\\OneDrive - DOI\\MTData\\CL2021\\archive\\to_dmc\\1Z_CL478__LFE_2022_11_02T18_39_58.mseed\u001b[0m\n",
      "\u001b[1m2025-04-02T12:23:26.372091-0700 | INFO | mth5.io.conversion | split_ms_to_days | Wrote miniseed file to: c:\\Users\\jpeacock\\OneDrive - DOI\\MTData\\CL2021\\archive\\to_dmc\\1Z_CL478__LFE_2022_11_03T00_00_00.mseed\u001b[0m\n",
      "\u001b[1m2025-04-02T12:23:26.379095-0700 | INFO | mth5.io.conversion | split_ms_to_days | Wrote miniseed file to: c:\\Users\\jpeacock\\OneDrive - DOI\\MTData\\CL2021\\archive\\to_dmc\\1Z_CL478__LFZ_2022_11_02T18_39_58.mseed\u001b[0m\n",
      "\u001b[1m2025-04-02T12:23:26.384094-0700 | INFO | mth5.io.conversion | split_ms_to_days | Wrote miniseed file to: c:\\Users\\jpeacock\\OneDrive - DOI\\MTData\\CL2021\\archive\\to_dmc\\1Z_CL478__LFZ_2022_11_03T00_00_00.mseed\u001b[0m\n",
      "\u001b[1m2025-04-02T12:23:30.197700-0700 | INFO | mth5.io.conversion | split_ms_to_days | Wrote miniseed file to: c:\\Users\\jpeacock\\OneDrive - DOI\\MTData\\CL2021\\archive\\to_dmc\\1Z_CL478__CQN_2022_11_02T18_39_58.mseed\u001b[0m\n",
      "\u001b[1m2025-04-02T12:23:30.223701-0700 | INFO | mth5.io.conversion | split_ms_to_days | Wrote miniseed file to: c:\\Users\\jpeacock\\OneDrive - DOI\\MTData\\CL2021\\archive\\to_dmc\\1Z_CL478__CQE_2022_11_02T18_39_58.mseed\u001b[0m\n",
      "\u001b[1m2025-04-02T12:23:30.252714-0700 | INFO | mth5.io.conversion | split_ms_to_days | Wrote miniseed file to: c:\\Users\\jpeacock\\OneDrive - DOI\\MTData\\CL2021\\archive\\to_dmc\\1Z_CL478__CFN_2022_11_02T18_39_58.mseed\u001b[0m\n",
      "\u001b[1m2025-04-02T12:23:30.281256-0700 | INFO | mth5.io.conversion | split_ms_to_days | Wrote miniseed file to: c:\\Users\\jpeacock\\OneDrive - DOI\\MTData\\CL2021\\archive\\to_dmc\\1Z_CL478__CFE_2022_11_02T18_39_58.mseed\u001b[0m\n",
      "\u001b[1m2025-04-02T12:23:30.309268-0700 | INFO | mth5.io.conversion | split_ms_to_days | Wrote miniseed file to: c:\\Users\\jpeacock\\OneDrive - DOI\\MTData\\CL2021\\archive\\to_dmc\\1Z_CL478__CFZ_2022_11_02T18_39_58.mseed\u001b[0m\n",
      "\u001b[1m2025-04-02T12:23:33.737740-0700 | INFO | mth5.timeseries.run_ts | _align_channels | Channels do not have a common end, using latest: 2022-11-02T19:09:41.998535156\u001b[0m\n",
      "\u001b[33m\u001b[1m2025-04-02T12:23:36.350505-0700 | WARNING | mth5.timeseries.run_ts | validate_metadata | end time of dataset 2022-11-02T19:09:41.998291015+00:00 does not match metadata end 2022-11-02T19:09:41.998535156+00:00 updating metatdata value to 2022-11-02T19:09:41.998291015+00:00\u001b[0m\n"
     ]
    },
    {
     "name": "stderr",
     "output_type": "stream",
     "text": [
      "C:\\Users\\jpeacock\\OneDrive - DOI\\Documents\\GitHub\\mth5\\mth5\\timeseries\\channel_ts.py:1524: RuntimeWarning: invalid value encountered in cast\n",
      "  obspy_trace = Trace(self.ts.astype(encoding_dict[encoding]))\n"
     ]
    },
    {
     "name": "stdout",
     "output_type": "stream",
     "text": [
      "\u001b[1m2025-04-02T12:23:37.058218-0700 | INFO | mth5.io.conversion | split_ms_to_days | Wrote miniseed file to: c:\\Users\\jpeacock\\OneDrive - DOI\\MTData\\CL2021\\archive\\to_dmc\\1Z_CL478__FQN_2022_11_02T18_59_58.mseed\u001b[0m\n",
      "\u001b[1m2025-04-02T12:23:37.252381-0700 | INFO | mth5.io.conversion | split_ms_to_days | Wrote miniseed file to: c:\\Users\\jpeacock\\OneDrive - DOI\\MTData\\CL2021\\archive\\to_dmc\\1Z_CL478__FQE_2022_11_02T18_59_58.mseed\u001b[0m\n",
      "\u001b[1m2025-04-02T12:23:37.461259-0700 | INFO | mth5.io.conversion | split_ms_to_days | Wrote miniseed file to: c:\\Users\\jpeacock\\OneDrive - DOI\\MTData\\CL2021\\archive\\to_dmc\\1Z_CL478__FFN_2022_11_02T18_59_58.mseed\u001b[0m\n",
      "\u001b[1m2025-04-02T12:23:37.667294-0700 | INFO | mth5.io.conversion | split_ms_to_days | Wrote miniseed file to: c:\\Users\\jpeacock\\OneDrive - DOI\\MTData\\CL2021\\archive\\to_dmc\\1Z_CL478__FFE_2022_11_02T18_59_58.mseed\u001b[0m\n",
      "\u001b[1m2025-04-02T12:23:37.867262-0700 | INFO | mth5.io.conversion | split_ms_to_days | Wrote miniseed file to: c:\\Users\\jpeacock\\OneDrive - DOI\\MTData\\CL2021\\archive\\to_dmc\\1Z_CL478__FFZ_2022_11_02T18_59_58.mseed\u001b[0m\n",
      "\u001b[1m2025-04-02T12:23:46.126764-0700 | INFO | mth5.io.conversion | split_ms_to_days | Wrote miniseed file to: c:\\Users\\jpeacock\\OneDrive - DOI\\MTData\\CL2021\\archive\\to_dmc\\1Z_CL478__CQN_2022_11_02T19_09_58.mseed\u001b[0m\n",
      "\u001b[1m2025-04-02T12:23:46.493647-0700 | INFO | mth5.io.conversion | split_ms_to_days | Wrote miniseed file to: c:\\Users\\jpeacock\\OneDrive - DOI\\MTData\\CL2021\\archive\\to_dmc\\1Z_CL478__CQN_2022_11_03T00_00_00.mseed\u001b[0m\n",
      "\u001b[1m2025-04-02T12:23:46.567689-0700 | INFO | mth5.io.conversion | split_ms_to_days | Wrote miniseed file to: c:\\Users\\jpeacock\\OneDrive - DOI\\MTData\\CL2021\\archive\\to_dmc\\1Z_CL478__CQE_2022_11_02T19_09_58.mseed\u001b[0m\n",
      "\u001b[1m2025-04-02T12:23:46.931789-0700 | INFO | mth5.io.conversion | split_ms_to_days | Wrote miniseed file to: c:\\Users\\jpeacock\\OneDrive - DOI\\MTData\\CL2021\\archive\\to_dmc\\1Z_CL478__CQE_2022_11_03T00_00_00.mseed\u001b[0m\n",
      "\u001b[1m2025-04-02T12:23:47.008327-0700 | INFO | mth5.io.conversion | split_ms_to_days | Wrote miniseed file to: c:\\Users\\jpeacock\\OneDrive - DOI\\MTData\\CL2021\\archive\\to_dmc\\1Z_CL478__CFN_2022_11_02T19_09_58.mseed\u001b[0m\n",
      "\u001b[1m2025-04-02T12:23:47.390266-0700 | INFO | mth5.io.conversion | split_ms_to_days | Wrote miniseed file to: c:\\Users\\jpeacock\\OneDrive - DOI\\MTData\\CL2021\\archive\\to_dmc\\1Z_CL478__CFN_2022_11_03T00_00_00.mseed\u001b[0m\n",
      "\u001b[1m2025-04-02T12:23:47.469305-0700 | INFO | mth5.io.conversion | split_ms_to_days | Wrote miniseed file to: c:\\Users\\jpeacock\\OneDrive - DOI\\MTData\\CL2021\\archive\\to_dmc\\1Z_CL478__CFE_2022_11_02T19_09_58.mseed\u001b[0m\n",
      "\u001b[1m2025-04-02T12:23:47.845689-0700 | INFO | mth5.io.conversion | split_ms_to_days | Wrote miniseed file to: c:\\Users\\jpeacock\\OneDrive - DOI\\MTData\\CL2021\\archive\\to_dmc\\1Z_CL478__CFE_2022_11_03T00_00_00.mseed\u001b[0m\n",
      "\u001b[1m2025-04-02T12:23:47.922211-0700 | INFO | mth5.io.conversion | split_ms_to_days | Wrote miniseed file to: c:\\Users\\jpeacock\\OneDrive - DOI\\MTData\\CL2021\\archive\\to_dmc\\1Z_CL478__CFZ_2022_11_02T19_09_58.mseed\u001b[0m\n",
      "\u001b[1m2025-04-02T12:23:48.326857-0700 | INFO | mth5.io.conversion | split_ms_to_days | Wrote miniseed file to: c:\\Users\\jpeacock\\OneDrive - DOI\\MTData\\CL2021\\archive\\to_dmc\\1Z_CL478__CFZ_2022_11_03T00_00_00.mseed\u001b[0m\n",
      "\u001b[1m2025-04-02T12:23:51.967363-0700 | INFO | mth5.timeseries.run_ts | _align_channels | Channels do not have a common end, using latest: 2022-11-03T01:09:41.999023437\u001b[0m\n",
      "\u001b[33m\u001b[1m2025-04-02T12:23:54.730775-0700 | WARNING | mth5.timeseries.run_ts | validate_metadata | end time of dataset 2022-11-03T01:09:41.998779296+00:00 does not match metadata end 2022-11-03T01:09:41.999023437+00:00 updating metatdata value to 2022-11-03T01:09:41.998779296+00:00\u001b[0m\n"
     ]
    },
    {
     "name": "stderr",
     "output_type": "stream",
     "text": [
      "C:\\Users\\jpeacock\\OneDrive - DOI\\Documents\\GitHub\\mth5\\mth5\\timeseries\\channel_ts.py:1524: RuntimeWarning: invalid value encountered in cast\n",
      "  obspy_trace = Trace(self.ts.astype(encoding_dict[encoding]))\n"
     ]
    },
    {
     "name": "stdout",
     "output_type": "stream",
     "text": [
      "\u001b[1m2025-04-02T12:23:55.532452-0700 | INFO | mth5.io.conversion | split_ms_to_days | Wrote miniseed file to: c:\\Users\\jpeacock\\OneDrive - DOI\\MTData\\CL2021\\archive\\to_dmc\\1Z_CL478__FQN_2022_11_03T00_59_58.mseed\u001b[0m\n",
      "\u001b[1m2025-04-02T12:23:55.722583-0700 | INFO | mth5.io.conversion | split_ms_to_days | Wrote miniseed file to: c:\\Users\\jpeacock\\OneDrive - DOI\\MTData\\CL2021\\archive\\to_dmc\\1Z_CL478__FQE_2022_11_03T00_59_58.mseed\u001b[0m\n",
      "\u001b[1m2025-04-02T12:23:55.919758-0700 | INFO | mth5.io.conversion | split_ms_to_days | Wrote miniseed file to: c:\\Users\\jpeacock\\OneDrive - DOI\\MTData\\CL2021\\archive\\to_dmc\\1Z_CL478__FFN_2022_11_03T00_59_58.mseed\u001b[0m\n",
      "\u001b[1m2025-04-02T12:23:56.112929-0700 | INFO | mth5.io.conversion | split_ms_to_days | Wrote miniseed file to: c:\\Users\\jpeacock\\OneDrive - DOI\\MTData\\CL2021\\archive\\to_dmc\\1Z_CL478__FFE_2022_11_03T00_59_58.mseed\u001b[0m\n",
      "\u001b[1m2025-04-02T12:23:56.311148-0700 | INFO | mth5.io.conversion | split_ms_to_days | Wrote miniseed file to: c:\\Users\\jpeacock\\OneDrive - DOI\\MTData\\CL2021\\archive\\to_dmc\\1Z_CL478__FFZ_2022_11_03T00_59_58.mseed\u001b[0m\n",
      "\u001b[1m2025-04-02T12:24:04.099701-0700 | INFO | mth5.io.conversion | split_ms_to_days | Wrote miniseed file to: c:\\Users\\jpeacock\\OneDrive - DOI\\MTData\\CL2021\\archive\\to_dmc\\1Z_CL478__CQN_2022_11_03T01_09_58.mseed\u001b[0m\n",
      "\u001b[1m2025-04-02T12:24:04.552148-0700 | INFO | mth5.io.conversion | split_ms_to_days | Wrote miniseed file to: c:\\Users\\jpeacock\\OneDrive - DOI\\MTData\\CL2021\\archive\\to_dmc\\1Z_CL478__CQE_2022_11_03T01_09_58.mseed\u001b[0m\n",
      "\u001b[1m2025-04-02T12:24:05.010187-0700 | INFO | mth5.io.conversion | split_ms_to_days | Wrote miniseed file to: c:\\Users\\jpeacock\\OneDrive - DOI\\MTData\\CL2021\\archive\\to_dmc\\1Z_CL478__CFN_2022_11_03T01_09_58.mseed\u001b[0m\n",
      "\u001b[1m2025-04-02T12:24:05.473911-0700 | INFO | mth5.io.conversion | split_ms_to_days | Wrote miniseed file to: c:\\Users\\jpeacock\\OneDrive - DOI\\MTData\\CL2021\\archive\\to_dmc\\1Z_CL478__CFE_2022_11_03T01_09_58.mseed\u001b[0m\n",
      "\u001b[1m2025-04-02T12:24:05.975321-0700 | INFO | mth5.io.conversion | split_ms_to_days | Wrote miniseed file to: c:\\Users\\jpeacock\\OneDrive - DOI\\MTData\\CL2021\\archive\\to_dmc\\1Z_CL478__CFZ_2022_11_03T01_09_58.mseed\u001b[0m\n",
      "\u001b[1m2025-04-02T12:24:09.799658-0700 | INFO | mth5.timeseries.run_ts | _align_channels | Channels do not have a common end, using latest: 2022-11-03T07:09:41.998291015\u001b[0m\n",
      "\u001b[33m\u001b[1m2025-04-02T12:24:12.516166-0700 | WARNING | mth5.timeseries.run_ts | validate_metadata | end time of dataset 2022-11-03T07:09:41.998047+00:00 does not match metadata end 2022-11-03T07:09:41.998291015+00:00 updating metatdata value to 2022-11-03T07:09:41.998047+00:00\u001b[0m\n"
     ]
    },
    {
     "name": "stderr",
     "output_type": "stream",
     "text": [
      "C:\\Users\\jpeacock\\OneDrive - DOI\\Documents\\GitHub\\mth5\\mth5\\timeseries\\channel_ts.py:1524: RuntimeWarning: invalid value encountered in cast\n",
      "  obspy_trace = Trace(self.ts.astype(encoding_dict[encoding]))\n"
     ]
    },
    {
     "name": "stdout",
     "output_type": "stream",
     "text": [
      "\u001b[1m2025-04-02T12:24:13.236024-0700 | INFO | mth5.io.conversion | split_ms_to_days | Wrote miniseed file to: c:\\Users\\jpeacock\\OneDrive - DOI\\MTData\\CL2021\\archive\\to_dmc\\1Z_CL478__FQN_2022_11_03T06_59_58.mseed\u001b[0m\n",
      "\u001b[1m2025-04-02T12:24:13.436170-0700 | INFO | mth5.io.conversion | split_ms_to_days | Wrote miniseed file to: c:\\Users\\jpeacock\\OneDrive - DOI\\MTData\\CL2021\\archive\\to_dmc\\1Z_CL478__FQE_2022_11_03T06_59_58.mseed\u001b[0m\n",
      "\u001b[1m2025-04-02T12:24:13.636230-0700 | INFO | mth5.io.conversion | split_ms_to_days | Wrote miniseed file to: c:\\Users\\jpeacock\\OneDrive - DOI\\MTData\\CL2021\\archive\\to_dmc\\1Z_CL478__FFN_2022_11_03T06_59_58.mseed\u001b[0m\n",
      "\u001b[1m2025-04-02T12:24:13.834328-0700 | INFO | mth5.io.conversion | split_ms_to_days | Wrote miniseed file to: c:\\Users\\jpeacock\\OneDrive - DOI\\MTData\\CL2021\\archive\\to_dmc\\1Z_CL478__FFE_2022_11_03T06_59_58.mseed\u001b[0m\n",
      "\u001b[1m2025-04-02T12:24:14.029077-0700 | INFO | mth5.io.conversion | split_ms_to_days | Wrote miniseed file to: c:\\Users\\jpeacock\\OneDrive - DOI\\MTData\\CL2021\\archive\\to_dmc\\1Z_CL478__FFZ_2022_11_03T06_59_58.mseed\u001b[0m\n",
      "\u001b[1m2025-04-02T12:24:21.733161-0700 | INFO | mth5.io.conversion | split_ms_to_days | Wrote miniseed file to: c:\\Users\\jpeacock\\OneDrive - DOI\\MTData\\CL2021\\archive\\to_dmc\\1Z_CL478__CQN_2022_11_03T07_09_58.mseed\u001b[0m\n",
      "\u001b[1m2025-04-02T12:24:22.161987-0700 | INFO | mth5.io.conversion | split_ms_to_days | Wrote miniseed file to: c:\\Users\\jpeacock\\OneDrive - DOI\\MTData\\CL2021\\archive\\to_dmc\\1Z_CL478__CQE_2022_11_03T07_09_58.mseed\u001b[0m\n",
      "\u001b[1m2025-04-02T12:24:22.595205-0700 | INFO | mth5.io.conversion | split_ms_to_days | Wrote miniseed file to: c:\\Users\\jpeacock\\OneDrive - DOI\\MTData\\CL2021\\archive\\to_dmc\\1Z_CL478__CFN_2022_11_03T07_09_58.mseed\u001b[0m\n",
      "\u001b[1m2025-04-02T12:24:23.034619-0700 | INFO | mth5.io.conversion | split_ms_to_days | Wrote miniseed file to: c:\\Users\\jpeacock\\OneDrive - DOI\\MTData\\CL2021\\archive\\to_dmc\\1Z_CL478__CFE_2022_11_03T07_09_58.mseed\u001b[0m\n",
      "\u001b[1m2025-04-02T12:24:23.466791-0700 | INFO | mth5.io.conversion | split_ms_to_days | Wrote miniseed file to: c:\\Users\\jpeacock\\OneDrive - DOI\\MTData\\CL2021\\archive\\to_dmc\\1Z_CL478__CFZ_2022_11_03T07_09_58.mseed\u001b[0m\n",
      "\u001b[1m2025-04-02T12:24:27.747673-0700 | INFO | mth5.timeseries.run_ts | _align_channels | Channels do not have a common end, using latest: 2022-11-03T13:09:41.999512000\u001b[0m\n"
     ]
    },
    {
     "name": "stderr",
     "output_type": "stream",
     "text": [
      "C:\\Users\\jpeacock\\OneDrive - DOI\\Documents\\GitHub\\mth5\\mth5\\timeseries\\channel_ts.py:1524: RuntimeWarning: invalid value encountered in cast\n",
      "  obspy_trace = Trace(self.ts.astype(encoding_dict[encoding]))\n"
     ]
    },
    {
     "name": "stdout",
     "output_type": "stream",
     "text": [
      "\u001b[1m2025-04-02T12:24:30.835083-0700 | INFO | mth5.io.conversion | split_ms_to_days | Wrote miniseed file to: c:\\Users\\jpeacock\\OneDrive - DOI\\MTData\\CL2021\\archive\\to_dmc\\1Z_CL478__FQN_2022_11_03T12_59_58.mseed\u001b[0m\n",
      "\u001b[1m2025-04-02T12:24:31.028289-0700 | INFO | mth5.io.conversion | split_ms_to_days | Wrote miniseed file to: c:\\Users\\jpeacock\\OneDrive - DOI\\MTData\\CL2021\\archive\\to_dmc\\1Z_CL478__FQE_2022_11_03T12_59_58.mseed\u001b[0m\n",
      "\u001b[1m2025-04-02T12:24:31.242434-0700 | INFO | mth5.io.conversion | split_ms_to_days | Wrote miniseed file to: c:\\Users\\jpeacock\\OneDrive - DOI\\MTData\\CL2021\\archive\\to_dmc\\1Z_CL478__FFN_2022_11_03T12_59_58.mseed\u001b[0m\n",
      "\u001b[1m2025-04-02T12:24:31.453545-0700 | INFO | mth5.io.conversion | split_ms_to_days | Wrote miniseed file to: c:\\Users\\jpeacock\\OneDrive - DOI\\MTData\\CL2021\\archive\\to_dmc\\1Z_CL478__FFE_2022_11_03T12_59_58.mseed\u001b[0m\n",
      "\u001b[1m2025-04-02T12:24:31.661627-0700 | INFO | mth5.io.conversion | split_ms_to_days | Wrote miniseed file to: c:\\Users\\jpeacock\\OneDrive - DOI\\MTData\\CL2021\\archive\\to_dmc\\1Z_CL478__FFZ_2022_11_03T12_59_58.mseed\u001b[0m\n",
      "\u001b[1m2025-04-02T12:24:37.516335-0700 | INFO | mth5.io.conversion | split_ms_to_days | Wrote miniseed file to: c:\\Users\\jpeacock\\OneDrive - DOI\\MTData\\CL2021\\archive\\to_dmc\\1Z_CL478__CQN_2022_11_03T13_09_58.mseed\u001b[0m\n",
      "\u001b[1m2025-04-02T12:24:37.684502-0700 | INFO | mth5.io.conversion | split_ms_to_days | Wrote miniseed file to: c:\\Users\\jpeacock\\OneDrive - DOI\\MTData\\CL2021\\archive\\to_dmc\\1Z_CL478__CQE_2022_11_03T13_09_58.mseed\u001b[0m\n",
      "\u001b[1m2025-04-02T12:24:37.865446-0700 | INFO | mth5.io.conversion | split_ms_to_days | Wrote miniseed file to: c:\\Users\\jpeacock\\OneDrive - DOI\\MTData\\CL2021\\archive\\to_dmc\\1Z_CL478__CFN_2022_11_03T13_09_58.mseed\u001b[0m\n",
      "\u001b[1m2025-04-02T12:24:38.068454-0700 | INFO | mth5.io.conversion | split_ms_to_days | Wrote miniseed file to: c:\\Users\\jpeacock\\OneDrive - DOI\\MTData\\CL2021\\archive\\to_dmc\\1Z_CL478__CFE_2022_11_03T13_09_58.mseed\u001b[0m\n",
      "\u001b[1m2025-04-02T12:24:38.261338-0700 | INFO | mth5.io.conversion | split_ms_to_days | Wrote miniseed file to: c:\\Users\\jpeacock\\OneDrive - DOI\\MTData\\CL2021\\archive\\to_dmc\\1Z_CL478__CFZ_2022_11_03T13_09_58.mseed\u001b[0m\n",
      "\u001b[1m2025-04-02T12:24:39.589388-0700 | INFO | mth5.mth5 | close_mth5 | Flushing and closing c:\\Users\\jpeacock\\OneDrive - DOI\\MTData\\CL2021\\archive\\cl478.h5\u001b[0m\n",
      "\u001b[33m\u001b[1m2025-04-02T12:24:39.593177-0700 | WARNING | mt_metadata.timeseries.stationxml.xml_station_mt_station | mt_to_xml | Station.geographic_name is None, using Station.id = cl478.Check StationXML site.name.\u001b[0m\n",
      "\u001b[1m2025-04-02T12:24:39.698739-0700 | INFO | mt_metadata.timeseries.filters.channel_response | to_obspy | total sensitivity 105384854631.2247 != total gain 1048576000.000055. Using total_gain.\u001b[0m\n",
      "\u001b[1m2025-04-02T12:24:39.731283-0700 | INFO | mt_metadata.timeseries.filters.channel_response | to_obspy | total sensitivity 105012851743.1351 != total gain 1048576000.000055. Using total_gain.\u001b[0m\n",
      "\u001b[1m2025-04-02T12:24:39.770316-0700 | INFO | mt_metadata.timeseries.filters.channel_response | to_obspy | total sensitivity 104693940307.89154 != total gain 1048576000.000055. Using total_gain.\u001b[0m\n",
      "\u001b[1m2025-04-02T12:24:39.866936-0700 | INFO | mt_metadata.timeseries.filters.channel_response | to_obspy | total sensitivity 105384854631.2247 != total gain 1048576000.000055. Using total_gain.\u001b[0m\n",
      "\u001b[1m2025-04-02T12:24:39.898937-0700 | INFO | mt_metadata.timeseries.filters.channel_response | to_obspy | total sensitivity 105012851743.1351 != total gain 1048576000.000055. Using total_gain.\u001b[0m\n",
      "\u001b[1m2025-04-02T12:24:39.929519-0700 | INFO | mt_metadata.timeseries.filters.channel_response | to_obspy | total sensitivity 104693940307.89154 != total gain 1048576000.000055. Using total_gain.\u001b[0m\n",
      "\u001b[1m2025-04-02T12:24:40.020491-0700 | INFO | mt_metadata.timeseries.filters.channel_response | to_obspy | total sensitivity 105384854631.2247 != total gain 1048576000.000055. Using total_gain.\u001b[0m\n",
      "\u001b[1m2025-04-02T12:24:40.050992-0700 | INFO | mt_metadata.timeseries.filters.channel_response | to_obspy | total sensitivity 105012851743.1351 != total gain 1048576000.000055. Using total_gain.\u001b[0m\n",
      "\u001b[1m2025-04-02T12:24:40.080993-0700 | INFO | mt_metadata.timeseries.filters.channel_response | to_obspy | total sensitivity 104693940307.89154 != total gain 1048576000.000055. Using total_gain.\u001b[0m\n",
      "\u001b[1m2025-04-02T12:24:40.192568-0700 | INFO | mt_metadata.timeseries.filters.channel_response | to_obspy | total sensitivity 105384854631.2247 != total gain 1048576000.000055. Using total_gain.\u001b[0m\n",
      "\u001b[1m2025-04-02T12:24:40.224092-0700 | INFO | mt_metadata.timeseries.filters.channel_response | to_obspy | total sensitivity 105012851743.1351 != total gain 1048576000.000055. Using total_gain.\u001b[0m\n",
      "\u001b[1m2025-04-02T12:24:40.263078-0700 | INFO | mt_metadata.timeseries.filters.channel_response | to_obspy | total sensitivity 104693940307.89154 != total gain 1048576000.000055. Using total_gain.\u001b[0m\n",
      "\u001b[1m2025-04-02T12:24:40.394637-0700 | INFO | mt_metadata.timeseries.filters.channel_response | to_obspy | total sensitivity 105384854631.2247 != total gain 1048576000.000055. Using total_gain.\u001b[0m\n",
      "\u001b[1m2025-04-02T12:24:40.428268-0700 | INFO | mt_metadata.timeseries.filters.channel_response | to_obspy | total sensitivity 105012851743.1351 != total gain 1048576000.000055. Using total_gain.\u001b[0m\n",
      "\u001b[1m2025-04-02T12:24:40.458918-0700 | INFO | mt_metadata.timeseries.filters.channel_response | to_obspy | total sensitivity 104693940307.89154 != total gain 1048576000.000055. Using total_gain.\u001b[0m\n",
      "\u001b[1m2025-04-02T12:24:40.560539-0700 | INFO | mt_metadata.timeseries.filters.channel_response | to_obspy | total sensitivity 105384854631.2247 != total gain 1048576000.000055. Using total_gain.\u001b[0m\n",
      "\u001b[1m2025-04-02T12:24:40.590509-0700 | INFO | mt_metadata.timeseries.filters.channel_response | to_obspy | total sensitivity 105012851743.1351 != total gain 1048576000.000055. Using total_gain.\u001b[0m\n",
      "\u001b[1m2025-04-02T12:24:40.618549-0700 | INFO | mt_metadata.timeseries.filters.channel_response | to_obspy | total sensitivity 104693940307.89154 != total gain 1048576000.000055. Using total_gain.\u001b[0m\n",
      "\u001b[1m2025-04-02T12:24:40.711069-0700 | INFO | mt_metadata.timeseries.filters.channel_response | to_obspy | total sensitivity 105384854631.2247 != total gain 1048576000.000055. Using total_gain.\u001b[0m\n",
      "\u001b[1m2025-04-02T12:24:40.742648-0700 | INFO | mt_metadata.timeseries.filters.channel_response | to_obspy | total sensitivity 105012851743.1351 != total gain 1048576000.000055. Using total_gain.\u001b[0m\n",
      "\u001b[1m2025-04-02T12:24:40.778620-0700 | INFO | mt_metadata.timeseries.filters.channel_response | to_obspy | total sensitivity 104693940307.89154 != total gain 1048576000.000055. Using total_gain.\u001b[0m\n",
      "\u001b[1m2025-04-02T12:24:40.894176-0700 | INFO | mt_metadata.timeseries.filters.channel_response | to_obspy | total sensitivity 105384854631.2247 != total gain 1048576000.000055. Using total_gain.\u001b[0m\n",
      "\u001b[1m2025-04-02T12:24:40.922248-0700 | INFO | mt_metadata.timeseries.filters.channel_response | to_obspy | total sensitivity 105012851743.1351 != total gain 1048576000.000055. Using total_gain.\u001b[0m\n",
      "\u001b[1m2025-04-02T12:24:40.951791-0700 | INFO | mt_metadata.timeseries.filters.channel_response | to_obspy | total sensitivity 104693940307.89154 != total gain 1048576000.000055. Using total_gain.\u001b[0m\n",
      "\u001b[1m2025-04-02T12:24:41.056407-0700 | INFO | mt_metadata.timeseries.filters.channel_response | to_obspy | total sensitivity 105384854631.2247 != total gain 1048576000.000055. Using total_gain.\u001b[0m\n",
      "\u001b[1m2025-04-02T12:24:41.089409-0700 | INFO | mt_metadata.timeseries.filters.channel_response | to_obspy | total sensitivity 105012851743.1351 != total gain 1048576000.000055. Using total_gain.\u001b[0m\n",
      "\u001b[1m2025-04-02T12:24:41.117381-0700 | INFO | mt_metadata.timeseries.filters.channel_response | to_obspy | total sensitivity 104693940307.89154 != total gain 1048576000.000055. Using total_gain.\u001b[0m\n",
      "\u001b[1m2025-04-02T12:24:41.214782-0700 | INFO | mt_metadata.timeseries.filters.channel_response | to_obspy | total sensitivity 105384854631.2247 != total gain 1048576000.000055. Using total_gain.\u001b[0m\n",
      "\u001b[1m2025-04-02T12:24:41.245358-0700 | INFO | mt_metadata.timeseries.filters.channel_response | to_obspy | total sensitivity 105012851743.1351 != total gain 1048576000.000055. Using total_gain.\u001b[0m\n",
      "\u001b[1m2025-04-02T12:24:41.283357-0700 | INFO | mt_metadata.timeseries.filters.channel_response | to_obspy | total sensitivity 104693940307.89154 != total gain 1048576000.000055. Using total_gain.\u001b[0m\n",
      "\u001b[1m2025-04-02T12:24:41.324880-0700 | INFO | mth5.io.conversion | convert_mth5_to_ms_stationxml | Wrote StationXML to c:\\Users\\jpeacock\\OneDrive - DOI\\MTData\\CL2021\\archive\\to_dmc\\cl478.xml\u001b[0m\n",
      "\u001b[33m\u001b[1m2025-04-02T12:24:43.032472-0700 | WARNING | mt_metadata.timeseries.station | remove_run | Could not find cl479a to remove.\u001b[0m\n"
     ]
    },
    {
     "name": "stderr",
     "output_type": "stream",
     "text": [
      "C:\\Users\\jpeacock\\OneDrive - DOI\\Documents\\GitHub\\mth5\\mth5\\timeseries\\channel_ts.py:1524: RuntimeWarning: invalid value encountered in cast\n",
      "  obspy_trace = Trace(self.ts.astype(encoding_dict[encoding]))\n"
     ]
    },
    {
     "name": "stdout",
     "output_type": "stream",
     "text": [
      "\u001b[1m2025-04-02T12:24:46.797286-0700 | INFO | mth5.io.conversion | split_ms_to_days | Wrote miniseed file to: c:\\Users\\jpeacock\\OneDrive - DOI\\MTData\\CL2021\\archive\\to_dmc\\1Z_CL479__LQN_2022_11_02T20_29_58.mseed\u001b[0m\n",
      "\u001b[1m2025-04-02T12:24:46.800284-0700 | INFO | mth5.io.conversion | split_ms_to_days | Wrote miniseed file to: c:\\Users\\jpeacock\\OneDrive - DOI\\MTData\\CL2021\\archive\\to_dmc\\1Z_CL479__LQN_2022_11_03T00_00_00.mseed\u001b[0m\n",
      "\u001b[1m2025-04-02T12:24:46.807283-0700 | INFO | mth5.io.conversion | split_ms_to_days | Wrote miniseed file to: c:\\Users\\jpeacock\\OneDrive - DOI\\MTData\\CL2021\\archive\\to_dmc\\1Z_CL479__LQE_2022_11_02T20_29_58.mseed\u001b[0m\n",
      "\u001b[1m2025-04-02T12:24:46.813293-0700 | INFO | mth5.io.conversion | split_ms_to_days | Wrote miniseed file to: c:\\Users\\jpeacock\\OneDrive - DOI\\MTData\\CL2021\\archive\\to_dmc\\1Z_CL479__LQE_2022_11_03T00_00_00.mseed\u001b[0m\n",
      "\u001b[1m2025-04-02T12:24:46.820291-0700 | INFO | mth5.io.conversion | split_ms_to_days | Wrote miniseed file to: c:\\Users\\jpeacock\\OneDrive - DOI\\MTData\\CL2021\\archive\\to_dmc\\1Z_CL479__LFN_2022_11_02T20_29_58.mseed\u001b[0m\n",
      "\u001b[1m2025-04-02T12:24:46.824292-0700 | INFO | mth5.io.conversion | split_ms_to_days | Wrote miniseed file to: c:\\Users\\jpeacock\\OneDrive - DOI\\MTData\\CL2021\\archive\\to_dmc\\1Z_CL479__LFN_2022_11_03T00_00_00.mseed\u001b[0m\n",
      "\u001b[1m2025-04-02T12:24:46.832807-0700 | INFO | mth5.io.conversion | split_ms_to_days | Wrote miniseed file to: c:\\Users\\jpeacock\\OneDrive - DOI\\MTData\\CL2021\\archive\\to_dmc\\1Z_CL479__LFE_2022_11_02T20_29_58.mseed\u001b[0m\n",
      "\u001b[1m2025-04-02T12:24:46.836806-0700 | INFO | mth5.io.conversion | split_ms_to_days | Wrote miniseed file to: c:\\Users\\jpeacock\\OneDrive - DOI\\MTData\\CL2021\\archive\\to_dmc\\1Z_CL479__LFE_2022_11_03T00_00_00.mseed\u001b[0m\n",
      "\u001b[1m2025-04-02T12:24:46.843808-0700 | INFO | mth5.io.conversion | split_ms_to_days | Wrote miniseed file to: c:\\Users\\jpeacock\\OneDrive - DOI\\MTData\\CL2021\\archive\\to_dmc\\1Z_CL479__LFZ_2022_11_02T20_29_58.mseed\u001b[0m\n",
      "\u001b[1m2025-04-02T12:24:46.848807-0700 | INFO | mth5.io.conversion | split_ms_to_days | Wrote miniseed file to: c:\\Users\\jpeacock\\OneDrive - DOI\\MTData\\CL2021\\archive\\to_dmc\\1Z_CL479__LFZ_2022_11_03T00_00_00.mseed\u001b[0m\n",
      "\u001b[1m2025-04-02T12:24:53.246319-0700 | INFO | mth5.io.conversion | split_ms_to_days | Wrote miniseed file to: c:\\Users\\jpeacock\\OneDrive - DOI\\MTData\\CL2021\\archive\\to_dmc\\1Z_CL479__CQN_2022_11_02T20_29_58.mseed\u001b[0m\n",
      "\u001b[1m2025-04-02T12:24:53.499459-0700 | INFO | mth5.io.conversion | split_ms_to_days | Wrote miniseed file to: c:\\Users\\jpeacock\\OneDrive - DOI\\MTData\\CL2021\\archive\\to_dmc\\1Z_CL479__CQN_2022_11_03T00_00_00.mseed\u001b[0m\n",
      "\u001b[1m2025-04-02T12:24:53.578789-0700 | INFO | mth5.io.conversion | split_ms_to_days | Wrote miniseed file to: c:\\Users\\jpeacock\\OneDrive - DOI\\MTData\\CL2021\\archive\\to_dmc\\1Z_CL479__CQE_2022_11_02T20_29_58.mseed\u001b[0m\n",
      "\u001b[1m2025-04-02T12:24:53.845960-0700 | INFO | mth5.io.conversion | split_ms_to_days | Wrote miniseed file to: c:\\Users\\jpeacock\\OneDrive - DOI\\MTData\\CL2021\\archive\\to_dmc\\1Z_CL479__CQE_2022_11_03T00_00_00.mseed\u001b[0m\n",
      "\u001b[1m2025-04-02T12:24:53.921937-0700 | INFO | mth5.io.conversion | split_ms_to_days | Wrote miniseed file to: c:\\Users\\jpeacock\\OneDrive - DOI\\MTData\\CL2021\\archive\\to_dmc\\1Z_CL479__CFN_2022_11_02T20_29_58.mseed\u001b[0m\n",
      "\u001b[1m2025-04-02T12:24:54.195174-0700 | INFO | mth5.io.conversion | split_ms_to_days | Wrote miniseed file to: c:\\Users\\jpeacock\\OneDrive - DOI\\MTData\\CL2021\\archive\\to_dmc\\1Z_CL479__CFN_2022_11_03T00_00_00.mseed\u001b[0m\n",
      "\u001b[1m2025-04-02T12:24:54.272793-0700 | INFO | mth5.io.conversion | split_ms_to_days | Wrote miniseed file to: c:\\Users\\jpeacock\\OneDrive - DOI\\MTData\\CL2021\\archive\\to_dmc\\1Z_CL479__CFE_2022_11_02T20_29_58.mseed\u001b[0m\n",
      "\u001b[1m2025-04-02T12:24:54.599518-0700 | INFO | mth5.io.conversion | split_ms_to_days | Wrote miniseed file to: c:\\Users\\jpeacock\\OneDrive - DOI\\MTData\\CL2021\\archive\\to_dmc\\1Z_CL479__CFE_2022_11_03T00_00_00.mseed\u001b[0m\n",
      "\u001b[1m2025-04-02T12:24:54.682101-0700 | INFO | mth5.io.conversion | split_ms_to_days | Wrote miniseed file to: c:\\Users\\jpeacock\\OneDrive - DOI\\MTData\\CL2021\\archive\\to_dmc\\1Z_CL479__CFZ_2022_11_02T20_29_58.mseed\u001b[0m\n",
      "\u001b[1m2025-04-02T12:24:54.970817-0700 | INFO | mth5.io.conversion | split_ms_to_days | Wrote miniseed file to: c:\\Users\\jpeacock\\OneDrive - DOI\\MTData\\CL2021\\archive\\to_dmc\\1Z_CL479__CFZ_2022_11_03T00_00_00.mseed\u001b[0m\n",
      "\u001b[1m2025-04-02T12:24:58.160371-0700 | INFO | mth5.timeseries.run_ts | _align_channels | Channels do not have a common end, using latest: 2022-11-03T01:09:41.998779296\u001b[0m\n",
      "\u001b[33m\u001b[1m2025-04-02T12:25:00.910774-0700 | WARNING | mth5.timeseries.run_ts | validate_metadata | end time of dataset 2022-11-03T01:09:41.998535156+00:00 does not match metadata end 2022-11-03T01:09:41.998779296+00:00 updating metatdata value to 2022-11-03T01:09:41.998535156+00:00\u001b[0m\n"
     ]
    },
    {
     "name": "stderr",
     "output_type": "stream",
     "text": [
      "C:\\Users\\jpeacock\\OneDrive - DOI\\Documents\\GitHub\\mth5\\mth5\\timeseries\\channel_ts.py:1524: RuntimeWarning: invalid value encountered in cast\n",
      "  obspy_trace = Trace(self.ts.astype(encoding_dict[encoding]))\n"
     ]
    },
    {
     "name": "stdout",
     "output_type": "stream",
     "text": [
      "\u001b[1m2025-04-02T12:25:01.688078-0700 | INFO | mth5.io.conversion | split_ms_to_days | Wrote miniseed file to: c:\\Users\\jpeacock\\OneDrive - DOI\\MTData\\CL2021\\archive\\to_dmc\\1Z_CL479__FQN_2022_11_03T00_59_58.mseed\u001b[0m\n",
      "\u001b[1m2025-04-02T12:25:01.878316-0700 | INFO | mth5.io.conversion | split_ms_to_days | Wrote miniseed file to: c:\\Users\\jpeacock\\OneDrive - DOI\\MTData\\CL2021\\archive\\to_dmc\\1Z_CL479__FQE_2022_11_03T00_59_58.mseed\u001b[0m\n",
      "\u001b[1m2025-04-02T12:25:02.071771-0700 | INFO | mth5.io.conversion | split_ms_to_days | Wrote miniseed file to: c:\\Users\\jpeacock\\OneDrive - DOI\\MTData\\CL2021\\archive\\to_dmc\\1Z_CL479__FFN_2022_11_03T00_59_58.mseed\u001b[0m\n",
      "\u001b[1m2025-04-02T12:25:02.262807-0700 | INFO | mth5.io.conversion | split_ms_to_days | Wrote miniseed file to: c:\\Users\\jpeacock\\OneDrive - DOI\\MTData\\CL2021\\archive\\to_dmc\\1Z_CL479__FFE_2022_11_03T00_59_58.mseed\u001b[0m\n",
      "\u001b[1m2025-04-02T12:25:02.449880-0700 | INFO | mth5.io.conversion | split_ms_to_days | Wrote miniseed file to: c:\\Users\\jpeacock\\OneDrive - DOI\\MTData\\CL2021\\archive\\to_dmc\\1Z_CL479__FFZ_2022_11_03T00_59_58.mseed\u001b[0m\n",
      "\u001b[1m2025-04-02T12:25:10.852561-0700 | INFO | mth5.io.conversion | split_ms_to_days | Wrote miniseed file to: c:\\Users\\jpeacock\\OneDrive - DOI\\MTData\\CL2021\\archive\\to_dmc\\1Z_CL479__CQN_2022_11_03T01_09_58.mseed\u001b[0m\n",
      "\u001b[1m2025-04-02T12:25:11.291338-0700 | INFO | mth5.io.conversion | split_ms_to_days | Wrote miniseed file to: c:\\Users\\jpeacock\\OneDrive - DOI\\MTData\\CL2021\\archive\\to_dmc\\1Z_CL479__CQE_2022_11_03T01_09_58.mseed\u001b[0m\n",
      "\u001b[1m2025-04-02T12:25:11.741148-0700 | INFO | mth5.io.conversion | split_ms_to_days | Wrote miniseed file to: c:\\Users\\jpeacock\\OneDrive - DOI\\MTData\\CL2021\\archive\\to_dmc\\1Z_CL479__CFN_2022_11_03T01_09_58.mseed\u001b[0m\n",
      "\u001b[1m2025-04-02T12:25:12.181050-0700 | INFO | mth5.io.conversion | split_ms_to_days | Wrote miniseed file to: c:\\Users\\jpeacock\\OneDrive - DOI\\MTData\\CL2021\\archive\\to_dmc\\1Z_CL479__CFE_2022_11_03T01_09_58.mseed\u001b[0m\n",
      "\u001b[1m2025-04-02T12:25:12.619631-0700 | INFO | mth5.io.conversion | split_ms_to_days | Wrote miniseed file to: c:\\Users\\jpeacock\\OneDrive - DOI\\MTData\\CL2021\\archive\\to_dmc\\1Z_CL479__CFZ_2022_11_03T01_09_58.mseed\u001b[0m\n",
      "\u001b[1m2025-04-02T12:25:16.629243-0700 | INFO | mth5.timeseries.run_ts | _align_channels | Channels do not have a common end, using latest: 2022-11-03T07:09:41.998535156\u001b[0m\n",
      "\u001b[33m\u001b[1m2025-04-02T12:25:19.447869-0700 | WARNING | mth5.timeseries.run_ts | validate_metadata | end time of dataset 2022-11-03T07:09:41.998291015+00:00 does not match metadata end 2022-11-03T07:09:41.998535156+00:00 updating metatdata value to 2022-11-03T07:09:41.998291015+00:00\u001b[0m\n"
     ]
    },
    {
     "name": "stderr",
     "output_type": "stream",
     "text": [
      "C:\\Users\\jpeacock\\OneDrive - DOI\\Documents\\GitHub\\mth5\\mth5\\timeseries\\channel_ts.py:1524: RuntimeWarning: invalid value encountered in cast\n",
      "  obspy_trace = Trace(self.ts.astype(encoding_dict[encoding]))\n"
     ]
    },
    {
     "name": "stdout",
     "output_type": "stream",
     "text": [
      "\u001b[1m2025-04-02T12:25:20.434107-0700 | INFO | mth5.io.conversion | split_ms_to_days | Wrote miniseed file to: c:\\Users\\jpeacock\\OneDrive - DOI\\MTData\\CL2021\\archive\\to_dmc\\1Z_CL479__FQN_2022_11_03T06_59_58.mseed\u001b[0m\n",
      "\u001b[1m2025-04-02T12:25:20.660020-0700 | INFO | mth5.io.conversion | split_ms_to_days | Wrote miniseed file to: c:\\Users\\jpeacock\\OneDrive - DOI\\MTData\\CL2021\\archive\\to_dmc\\1Z_CL479__FQE_2022_11_03T06_59_58.mseed\u001b[0m\n",
      "\u001b[1m2025-04-02T12:25:20.877054-0700 | INFO | mth5.io.conversion | split_ms_to_days | Wrote miniseed file to: c:\\Users\\jpeacock\\OneDrive - DOI\\MTData\\CL2021\\archive\\to_dmc\\1Z_CL479__FFN_2022_11_03T06_59_58.mseed\u001b[0m\n",
      "\u001b[1m2025-04-02T12:25:21.073151-0700 | INFO | mth5.io.conversion | split_ms_to_days | Wrote miniseed file to: c:\\Users\\jpeacock\\OneDrive - DOI\\MTData\\CL2021\\archive\\to_dmc\\1Z_CL479__FFE_2022_11_03T06_59_58.mseed\u001b[0m\n",
      "\u001b[1m2025-04-02T12:25:21.265387-0700 | INFO | mth5.io.conversion | split_ms_to_days | Wrote miniseed file to: c:\\Users\\jpeacock\\OneDrive - DOI\\MTData\\CL2021\\archive\\to_dmc\\1Z_CL479__FFZ_2022_11_03T06_59_58.mseed\u001b[0m\n",
      "\u001b[1m2025-04-02T12:25:28.810506-0700 | INFO | mth5.io.conversion | split_ms_to_days | Wrote miniseed file to: c:\\Users\\jpeacock\\OneDrive - DOI\\MTData\\CL2021\\archive\\to_dmc\\1Z_CL479__CQN_2022_11_03T07_09_58.mseed\u001b[0m\n",
      "\u001b[1m2025-04-02T12:25:29.261457-0700 | INFO | mth5.io.conversion | split_ms_to_days | Wrote miniseed file to: c:\\Users\\jpeacock\\OneDrive - DOI\\MTData\\CL2021\\archive\\to_dmc\\1Z_CL479__CQE_2022_11_03T07_09_58.mseed\u001b[0m\n",
      "\u001b[1m2025-04-02T12:25:29.684540-0700 | INFO | mth5.io.conversion | split_ms_to_days | Wrote miniseed file to: c:\\Users\\jpeacock\\OneDrive - DOI\\MTData\\CL2021\\archive\\to_dmc\\1Z_CL479__CFN_2022_11_03T07_09_58.mseed\u001b[0m\n",
      "\u001b[1m2025-04-02T12:25:30.121780-0700 | INFO | mth5.io.conversion | split_ms_to_days | Wrote miniseed file to: c:\\Users\\jpeacock\\OneDrive - DOI\\MTData\\CL2021\\archive\\to_dmc\\1Z_CL479__CFE_2022_11_03T07_09_58.mseed\u001b[0m\n",
      "\u001b[1m2025-04-02T12:25:30.590954-0700 | INFO | mth5.io.conversion | split_ms_to_days | Wrote miniseed file to: c:\\Users\\jpeacock\\OneDrive - DOI\\MTData\\CL2021\\archive\\to_dmc\\1Z_CL479__CFZ_2022_11_03T07_09_58.mseed\u001b[0m\n",
      "\u001b[1m2025-04-02T12:25:34.391614-0700 | INFO | mth5.timeseries.run_ts | _align_channels | Channels do not have a common end, using latest: 2022-11-03T13:09:41.999023437\u001b[0m\n",
      "\u001b[33m\u001b[1m2025-04-02T12:25:36.608615-0700 | WARNING | mth5.timeseries.run_ts | validate_metadata | end time of dataset 2022-11-03T13:09:41.998779296+00:00 does not match metadata end 2022-11-03T13:09:41.999023437+00:00 updating metatdata value to 2022-11-03T13:09:41.998779296+00:00\u001b[0m\n"
     ]
    },
    {
     "name": "stderr",
     "output_type": "stream",
     "text": [
      "C:\\Users\\jpeacock\\OneDrive - DOI\\Documents\\GitHub\\mth5\\mth5\\timeseries\\channel_ts.py:1524: RuntimeWarning: invalid value encountered in cast\n",
      "  obspy_trace = Trace(self.ts.astype(encoding_dict[encoding]))\n"
     ]
    },
    {
     "name": "stdout",
     "output_type": "stream",
     "text": [
      "\u001b[1m2025-04-02T12:25:37.331607-0700 | INFO | mth5.io.conversion | split_ms_to_days | Wrote miniseed file to: c:\\Users\\jpeacock\\OneDrive - DOI\\MTData\\CL2021\\archive\\to_dmc\\1Z_CL479__FQN_2022_11_03T12_59_58.mseed\u001b[0m\n",
      "\u001b[1m2025-04-02T12:25:37.525468-0700 | INFO | mth5.io.conversion | split_ms_to_days | Wrote miniseed file to: c:\\Users\\jpeacock\\OneDrive - DOI\\MTData\\CL2021\\archive\\to_dmc\\1Z_CL479__FQE_2022_11_03T12_59_58.mseed\u001b[0m\n",
      "\u001b[1m2025-04-02T12:25:37.718592-0700 | INFO | mth5.io.conversion | split_ms_to_days | Wrote miniseed file to: c:\\Users\\jpeacock\\OneDrive - DOI\\MTData\\CL2021\\archive\\to_dmc\\1Z_CL479__FFN_2022_11_03T12_59_58.mseed\u001b[0m\n",
      "\u001b[1m2025-04-02T12:25:37.923382-0700 | INFO | mth5.io.conversion | split_ms_to_days | Wrote miniseed file to: c:\\Users\\jpeacock\\OneDrive - DOI\\MTData\\CL2021\\archive\\to_dmc\\1Z_CL479__FFE_2022_11_03T12_59_58.mseed\u001b[0m\n",
      "\u001b[1m2025-04-02T12:25:38.125537-0700 | INFO | mth5.io.conversion | split_ms_to_days | Wrote miniseed file to: c:\\Users\\jpeacock\\OneDrive - DOI\\MTData\\CL2021\\archive\\to_dmc\\1Z_CL479__FFZ_2022_11_03T12_59_58.mseed\u001b[0m\n",
      "\u001b[1m2025-04-02T12:25:46.283056-0700 | INFO | mth5.io.conversion | split_ms_to_days | Wrote miniseed file to: c:\\Users\\jpeacock\\OneDrive - DOI\\MTData\\CL2021\\archive\\to_dmc\\1Z_CL479__CQN_2022_11_03T13_09_58.mseed\u001b[0m\n",
      "\u001b[1m2025-04-02T12:25:46.551257-0700 | INFO | mth5.io.conversion | split_ms_to_days | Wrote miniseed file to: c:\\Users\\jpeacock\\OneDrive - DOI\\MTData\\CL2021\\archive\\to_dmc\\1Z_CL479__CQE_2022_11_03T13_09_58.mseed\u001b[0m\n",
      "\u001b[1m2025-04-02T12:25:46.808123-0700 | INFO | mth5.io.conversion | split_ms_to_days | Wrote miniseed file to: c:\\Users\\jpeacock\\OneDrive - DOI\\MTData\\CL2021\\archive\\to_dmc\\1Z_CL479__CFN_2022_11_03T13_09_58.mseed\u001b[0m\n",
      "\u001b[1m2025-04-02T12:25:47.068305-0700 | INFO | mth5.io.conversion | split_ms_to_days | Wrote miniseed file to: c:\\Users\\jpeacock\\OneDrive - DOI\\MTData\\CL2021\\archive\\to_dmc\\1Z_CL479__CFE_2022_11_03T13_09_58.mseed\u001b[0m\n",
      "\u001b[1m2025-04-02T12:25:47.321912-0700 | INFO | mth5.io.conversion | split_ms_to_days | Wrote miniseed file to: c:\\Users\\jpeacock\\OneDrive - DOI\\MTData\\CL2021\\archive\\to_dmc\\1Z_CL479__CFZ_2022_11_03T13_09_58.mseed\u001b[0m\n",
      "\u001b[1m2025-04-02T12:25:48.497607-0700 | INFO | mth5.mth5 | close_mth5 | Flushing and closing c:\\Users\\jpeacock\\OneDrive - DOI\\MTData\\CL2021\\archive\\cl479.h5\u001b[0m\n",
      "\u001b[33m\u001b[1m2025-04-02T12:25:48.500593-0700 | WARNING | mt_metadata.timeseries.stationxml.xml_station_mt_station | mt_to_xml | Station.geographic_name is None, using Station.id = cl479.Check StationXML site.name.\u001b[0m\n",
      "\u001b[1m2025-04-02T12:25:48.575599-0700 | INFO | mt_metadata.timeseries.filters.channel_response | to_obspy | total sensitivity 104957842879.94406 != total gain 1048576000.000055. Using total_gain.\u001b[0m\n",
      "\u001b[1m2025-04-02T12:25:48.604950-0700 | INFO | mt_metadata.timeseries.filters.channel_response | to_obspy | total sensitivity 99528330172.17546 != total gain 1048576000.000055. Using total_gain.\u001b[0m\n",
      "\u001b[1m2025-04-02T12:25:48.634366-0700 | INFO | mt_metadata.timeseries.filters.channel_response | to_obspy | total sensitivity 104398743147.64836 != total gain 1048576000.000055. Using total_gain.\u001b[0m\n",
      "\u001b[1m2025-04-02T12:25:48.726984-0700 | INFO | mt_metadata.timeseries.filters.channel_response | to_obspy | total sensitivity 104957842879.94406 != total gain 1048576000.000055. Using total_gain.\u001b[0m\n",
      "\u001b[1m2025-04-02T12:25:48.756984-0700 | INFO | mt_metadata.timeseries.filters.channel_response | to_obspy | total sensitivity 99528330172.17546 != total gain 1048576000.000055. Using total_gain.\u001b[0m\n",
      "\u001b[1m2025-04-02T12:25:48.794504-0700 | INFO | mt_metadata.timeseries.filters.channel_response | to_obspy | total sensitivity 104398743147.64836 != total gain 1048576000.000055. Using total_gain.\u001b[0m\n",
      "\u001b[1m2025-04-02T12:25:48.887065-0700 | INFO | mt_metadata.timeseries.filters.channel_response | to_obspy | total sensitivity 104957842879.94406 != total gain 1048576000.000055. Using total_gain.\u001b[0m\n",
      "\u001b[1m2025-04-02T12:25:48.917118-0700 | INFO | mt_metadata.timeseries.filters.channel_response | to_obspy | total sensitivity 99528330172.17546 != total gain 1048576000.000055. Using total_gain.\u001b[0m\n",
      "\u001b[1m2025-04-02T12:25:48.945122-0700 | INFO | mt_metadata.timeseries.filters.channel_response | to_obspy | total sensitivity 104398743147.64836 != total gain 1048576000.000055. Using total_gain.\u001b[0m\n",
      "\u001b[1m2025-04-02T12:25:49.034328-0700 | INFO | mt_metadata.timeseries.filters.channel_response | to_obspy | total sensitivity 104957842879.94406 != total gain 1048576000.000055. Using total_gain.\u001b[0m\n",
      "\u001b[1m2025-04-02T12:25:49.066336-0700 | INFO | mt_metadata.timeseries.filters.channel_response | to_obspy | total sensitivity 99528330172.17546 != total gain 1048576000.000055. Using total_gain.\u001b[0m\n",
      "\u001b[1m2025-04-02T12:25:49.095829-0700 | INFO | mt_metadata.timeseries.filters.channel_response | to_obspy | total sensitivity 104398743147.64836 != total gain 1048576000.000055. Using total_gain.\u001b[0m\n",
      "\u001b[1m2025-04-02T12:25:49.207331-0700 | INFO | mt_metadata.timeseries.filters.channel_response | to_obspy | total sensitivity 104957842879.94406 != total gain 1048576000.000055. Using total_gain.\u001b[0m\n",
      "\u001b[1m2025-04-02T12:25:49.238332-0700 | INFO | mt_metadata.timeseries.filters.channel_response | to_obspy | total sensitivity 99528330172.17546 != total gain 1048576000.000055. Using total_gain.\u001b[0m\n",
      "\u001b[1m2025-04-02T12:25:49.266306-0700 | INFO | mt_metadata.timeseries.filters.channel_response | to_obspy | total sensitivity 104398743147.64836 != total gain 1048576000.000055. Using total_gain.\u001b[0m\n",
      "\u001b[1m2025-04-02T12:25:49.357845-0700 | INFO | mt_metadata.timeseries.filters.channel_response | to_obspy | total sensitivity 104957842879.94406 != total gain 1048576000.000055. Using total_gain.\u001b[0m\n",
      "\u001b[1m2025-04-02T12:25:49.385403-0700 | INFO | mt_metadata.timeseries.filters.channel_response | to_obspy | total sensitivity 99528330172.17546 != total gain 1048576000.000055. Using total_gain.\u001b[0m\n",
      "\u001b[1m2025-04-02T12:25:49.413396-0700 | INFO | mt_metadata.timeseries.filters.channel_response | to_obspy | total sensitivity 104398743147.64836 != total gain 1048576000.000055. Using total_gain.\u001b[0m\n",
      "\u001b[1m2025-04-02T12:25:49.508912-0700 | INFO | mt_metadata.timeseries.filters.channel_response | to_obspy | total sensitivity 104957842879.94406 != total gain 1048576000.000055. Using total_gain.\u001b[0m\n",
      "\u001b[1m2025-04-02T12:25:49.536915-0700 | INFO | mt_metadata.timeseries.filters.channel_response | to_obspy | total sensitivity 99528330172.17546 != total gain 1048576000.000055. Using total_gain.\u001b[0m\n",
      "\u001b[1m2025-04-02T12:25:49.563913-0700 | INFO | mt_metadata.timeseries.filters.channel_response | to_obspy | total sensitivity 104398743147.64836 != total gain 1048576000.000055. Using total_gain.\u001b[0m\n",
      "\u001b[1m2025-04-02T12:25:49.657564-0700 | INFO | mt_metadata.timeseries.filters.channel_response | to_obspy | total sensitivity 104957842879.94406 != total gain 1048576000.000055. Using total_gain.\u001b[0m\n",
      "\u001b[1m2025-04-02T12:25:49.686716-0700 | INFO | mt_metadata.timeseries.filters.channel_response | to_obspy | total sensitivity 99528330172.17546 != total gain 1048576000.000055. Using total_gain.\u001b[0m\n",
      "\u001b[1m2025-04-02T12:25:49.723711-0700 | INFO | mt_metadata.timeseries.filters.channel_response | to_obspy | total sensitivity 104398743147.64836 != total gain 1048576000.000055. Using total_gain.\u001b[0m\n",
      "\u001b[1m2025-04-02T12:25:49.755679-0700 | INFO | mth5.io.conversion | convert_mth5_to_ms_stationxml | Wrote StationXML to c:\\Users\\jpeacock\\OneDrive - DOI\\MTData\\CL2021\\archive\\to_dmc\\cl479.xml\u001b[0m\n",
      "\u001b[33m\u001b[1m2025-04-02T12:25:51.436845-0700 | WARNING | mt_metadata.timeseries.station | remove_run | Could not find cl484a to remove.\u001b[0m\n",
      "\u001b[1m2025-04-02T12:25:56.622701-0700 | INFO | mth5.io.conversion | split_ms_to_days | Wrote miniseed file to: c:\\Users\\jpeacock\\OneDrive - DOI\\MTData\\CL2021\\archive\\to_dmc\\1Z_CL484__LQN_2022_10_28T19_44_58.mseed\u001b[0m\n",
      "\u001b[1m2025-04-02T12:25:56.625665-0700 | INFO | mth5.io.conversion | split_ms_to_days | Wrote miniseed file to: c:\\Users\\jpeacock\\OneDrive - DOI\\MTData\\CL2021\\archive\\to_dmc\\1Z_CL484__LQN_2022_10_29T00_00_00.mseed\u001b[0m\n",
      "\u001b[1m2025-04-02T12:25:56.632665-0700 | INFO | mth5.io.conversion | split_ms_to_days | Wrote miniseed file to: c:\\Users\\jpeacock\\OneDrive - DOI\\MTData\\CL2021\\archive\\to_dmc\\1Z_CL484__LQE_2022_10_28T19_44_58.mseed\u001b[0m\n",
      "\u001b[1m2025-04-02T12:25:56.637680-0700 | INFO | mth5.io.conversion | split_ms_to_days | Wrote miniseed file to: c:\\Users\\jpeacock\\OneDrive - DOI\\MTData\\CL2021\\archive\\to_dmc\\1Z_CL484__LQE_2022_10_29T00_00_00.mseed\u001b[0m\n",
      "\u001b[1m2025-04-02T12:25:56.645670-0700 | INFO | mth5.io.conversion | split_ms_to_days | Wrote miniseed file to: c:\\Users\\jpeacock\\OneDrive - DOI\\MTData\\CL2021\\archive\\to_dmc\\1Z_CL484__LFN_2022_10_28T19_44_58.mseed\u001b[0m\n",
      "\u001b[1m2025-04-02T12:25:56.649668-0700 | INFO | mth5.io.conversion | split_ms_to_days | Wrote miniseed file to: c:\\Users\\jpeacock\\OneDrive - DOI\\MTData\\CL2021\\archive\\to_dmc\\1Z_CL484__LFN_2022_10_29T00_00_00.mseed\u001b[0m\n",
      "\u001b[1m2025-04-02T12:25:56.658666-0700 | INFO | mth5.io.conversion | split_ms_to_days | Wrote miniseed file to: c:\\Users\\jpeacock\\OneDrive - DOI\\MTData\\CL2021\\archive\\to_dmc\\1Z_CL484__LFE_2022_10_28T19_44_58.mseed\u001b[0m\n",
      "\u001b[1m2025-04-02T12:25:56.662670-0700 | INFO | mth5.io.conversion | split_ms_to_days | Wrote miniseed file to: c:\\Users\\jpeacock\\OneDrive - DOI\\MTData\\CL2021\\archive\\to_dmc\\1Z_CL484__LFE_2022_10_29T00_00_00.mseed\u001b[0m\n",
      "\u001b[1m2025-04-02T12:25:56.668669-0700 | INFO | mth5.io.conversion | split_ms_to_days | Wrote miniseed file to: c:\\Users\\jpeacock\\OneDrive - DOI\\MTData\\CL2021\\archive\\to_dmc\\1Z_CL484__LFZ_2022_10_28T19_44_58.mseed\u001b[0m\n",
      "\u001b[1m2025-04-02T12:25:56.672682-0700 | INFO | mth5.io.conversion | split_ms_to_days | Wrote miniseed file to: c:\\Users\\jpeacock\\OneDrive - DOI\\MTData\\CL2021\\archive\\to_dmc\\1Z_CL484__LFZ_2022_10_29T00_00_00.mseed\u001b[0m\n",
      "\u001b[1m2025-04-02T12:26:03.915173-0700 | INFO | mth5.io.conversion | split_ms_to_days | Wrote miniseed file to: c:\\Users\\jpeacock\\OneDrive - DOI\\MTData\\CL2021\\archive\\to_dmc\\1Z_CL484__CQN_2022_10_28T19_44_58.mseed\u001b[0m\n",
      "\u001b[1m2025-04-02T12:26:04.237716-0700 | INFO | mth5.io.conversion | split_ms_to_days | Wrote miniseed file to: c:\\Users\\jpeacock\\OneDrive - DOI\\MTData\\CL2021\\archive\\to_dmc\\1Z_CL484__CQN_2022_10_29T00_00_00.mseed\u001b[0m\n",
      "\u001b[1m2025-04-02T12:26:04.342240-0700 | INFO | mth5.io.conversion | split_ms_to_days | Wrote miniseed file to: c:\\Users\\jpeacock\\OneDrive - DOI\\MTData\\CL2021\\archive\\to_dmc\\1Z_CL484__CQE_2022_10_28T19_44_58.mseed\u001b[0m\n",
      "\u001b[1m2025-04-02T12:26:04.686831-0700 | INFO | mth5.io.conversion | split_ms_to_days | Wrote miniseed file to: c:\\Users\\jpeacock\\OneDrive - DOI\\MTData\\CL2021\\archive\\to_dmc\\1Z_CL484__CQE_2022_10_29T00_00_00.mseed\u001b[0m\n",
      "\u001b[1m2025-04-02T12:26:04.768353-0700 | INFO | mth5.io.conversion | split_ms_to_days | Wrote miniseed file to: c:\\Users\\jpeacock\\OneDrive - DOI\\MTData\\CL2021\\archive\\to_dmc\\1Z_CL484__CFN_2022_10_28T19_44_58.mseed\u001b[0m\n",
      "\u001b[1m2025-04-02T12:26:05.108443-0700 | INFO | mth5.io.conversion | split_ms_to_days | Wrote miniseed file to: c:\\Users\\jpeacock\\OneDrive - DOI\\MTData\\CL2021\\archive\\to_dmc\\1Z_CL484__CFN_2022_10_29T00_00_00.mseed\u001b[0m\n",
      "\u001b[1m2025-04-02T12:26:05.185456-0700 | INFO | mth5.io.conversion | split_ms_to_days | Wrote miniseed file to: c:\\Users\\jpeacock\\OneDrive - DOI\\MTData\\CL2021\\archive\\to_dmc\\1Z_CL484__CFE_2022_10_28T19_44_58.mseed\u001b[0m\n",
      "\u001b[1m2025-04-02T12:26:05.619989-0700 | INFO | mth5.io.conversion | split_ms_to_days | Wrote miniseed file to: c:\\Users\\jpeacock\\OneDrive - DOI\\MTData\\CL2021\\archive\\to_dmc\\1Z_CL484__CFE_2022_10_29T00_00_00.mseed\u001b[0m\n",
      "\u001b[1m2025-04-02T12:26:05.695130-0700 | INFO | mth5.io.conversion | split_ms_to_days | Wrote miniseed file to: c:\\Users\\jpeacock\\OneDrive - DOI\\MTData\\CL2021\\archive\\to_dmc\\1Z_CL484__CFZ_2022_10_28T19_44_58.mseed\u001b[0m\n",
      "\u001b[1m2025-04-02T12:26:06.024781-0700 | INFO | mth5.io.conversion | split_ms_to_days | Wrote miniseed file to: c:\\Users\\jpeacock\\OneDrive - DOI\\MTData\\CL2021\\archive\\to_dmc\\1Z_CL484__CFZ_2022_10_29T00_00_00.mseed\u001b[0m\n",
      "\u001b[1m2025-04-02T12:26:09.420406-0700 | INFO | mth5.timeseries.run_ts | _align_channels | Channels do not have a common end, using latest: 2022-10-29T01:09:41.998535156\u001b[0m\n",
      "\u001b[33m\u001b[1m2025-04-02T12:26:11.468056-0700 | WARNING | mth5.timeseries.run_ts | validate_metadata | end time of dataset 2022-10-29T01:09:41.998291015+00:00 does not match metadata end 2022-10-29T01:09:41.998535156+00:00 updating metatdata value to 2022-10-29T01:09:41.998291015+00:00\u001b[0m\n"
     ]
    },
    {
     "name": "stderr",
     "output_type": "stream",
     "text": [
      "C:\\Users\\jpeacock\\OneDrive - DOI\\Documents\\GitHub\\mth5\\mth5\\timeseries\\channel_ts.py:1524: RuntimeWarning: invalid value encountered in cast\n",
      "  obspy_trace = Trace(self.ts.astype(encoding_dict[encoding]))\n"
     ]
    },
    {
     "name": "stdout",
     "output_type": "stream",
     "text": [
      "\u001b[1m2025-04-02T12:26:12.243562-0700 | INFO | mth5.io.conversion | split_ms_to_days | Wrote miniseed file to: c:\\Users\\jpeacock\\OneDrive - DOI\\MTData\\CL2021\\archive\\to_dmc\\1Z_CL484__FQN_2022_10_29T00_59_58.mseed\u001b[0m\n",
      "\u001b[1m2025-04-02T12:26:12.449571-0700 | INFO | mth5.io.conversion | split_ms_to_days | Wrote miniseed file to: c:\\Users\\jpeacock\\OneDrive - DOI\\MTData\\CL2021\\archive\\to_dmc\\1Z_CL484__FQE_2022_10_29T00_59_58.mseed\u001b[0m\n",
      "\u001b[1m2025-04-02T12:26:12.642598-0700 | INFO | mth5.io.conversion | split_ms_to_days | Wrote miniseed file to: c:\\Users\\jpeacock\\OneDrive - DOI\\MTData\\CL2021\\archive\\to_dmc\\1Z_CL484__FFN_2022_10_29T00_59_58.mseed\u001b[0m\n",
      "\u001b[1m2025-04-02T12:26:12.841632-0700 | INFO | mth5.io.conversion | split_ms_to_days | Wrote miniseed file to: c:\\Users\\jpeacock\\OneDrive - DOI\\MTData\\CL2021\\archive\\to_dmc\\1Z_CL484__FFE_2022_10_29T00_59_58.mseed\u001b[0m\n",
      "\u001b[1m2025-04-02T12:26:13.044050-0700 | INFO | mth5.io.conversion | split_ms_to_days | Wrote miniseed file to: c:\\Users\\jpeacock\\OneDrive - DOI\\MTData\\CL2021\\archive\\to_dmc\\1Z_CL484__FFZ_2022_10_29T00_59_58.mseed\u001b[0m\n",
      "\u001b[1m2025-04-02T12:26:20.807598-0700 | INFO | mth5.io.conversion | split_ms_to_days | Wrote miniseed file to: c:\\Users\\jpeacock\\OneDrive - DOI\\MTData\\CL2021\\archive\\to_dmc\\1Z_CL484__CQN_2022_10_29T01_09_58.mseed\u001b[0m\n",
      "\u001b[1m2025-04-02T12:26:21.278802-0700 | INFO | mth5.io.conversion | split_ms_to_days | Wrote miniseed file to: c:\\Users\\jpeacock\\OneDrive - DOI\\MTData\\CL2021\\archive\\to_dmc\\1Z_CL484__CQE_2022_10_29T01_09_58.mseed\u001b[0m\n",
      "\u001b[1m2025-04-02T12:26:21.725475-0700 | INFO | mth5.io.conversion | split_ms_to_days | Wrote miniseed file to: c:\\Users\\jpeacock\\OneDrive - DOI\\MTData\\CL2021\\archive\\to_dmc\\1Z_CL484__CFN_2022_10_29T01_09_58.mseed\u001b[0m\n",
      "\u001b[1m2025-04-02T12:26:22.184704-0700 | INFO | mth5.io.conversion | split_ms_to_days | Wrote miniseed file to: c:\\Users\\jpeacock\\OneDrive - DOI\\MTData\\CL2021\\archive\\to_dmc\\1Z_CL484__CFE_2022_10_29T01_09_58.mseed\u001b[0m\n",
      "\u001b[1m2025-04-02T12:26:22.649970-0700 | INFO | mth5.io.conversion | split_ms_to_days | Wrote miniseed file to: c:\\Users\\jpeacock\\OneDrive - DOI\\MTData\\CL2021\\archive\\to_dmc\\1Z_CL484__CFZ_2022_10_29T01_09_58.mseed\u001b[0m\n",
      "\u001b[1m2025-04-02T12:26:27.266664-0700 | INFO | mth5.timeseries.run_ts | _align_channels | Channels do not have a common end, using latest: 2022-10-29T07:09:41.998779296\u001b[0m\n",
      "\u001b[33m\u001b[1m2025-04-02T12:26:29.969159-0700 | WARNING | mth5.timeseries.run_ts | validate_metadata | end time of dataset 2022-10-29T07:09:41.998535156+00:00 does not match metadata end 2022-10-29T07:09:41.998779296+00:00 updating metatdata value to 2022-10-29T07:09:41.998535156+00:00\u001b[0m\n"
     ]
    },
    {
     "name": "stderr",
     "output_type": "stream",
     "text": [
      "C:\\Users\\jpeacock\\OneDrive - DOI\\Documents\\GitHub\\mth5\\mth5\\timeseries\\channel_ts.py:1524: RuntimeWarning: invalid value encountered in cast\n",
      "  obspy_trace = Trace(self.ts.astype(encoding_dict[encoding]))\n"
     ]
    },
    {
     "name": "stdout",
     "output_type": "stream",
     "text": [
      "\u001b[1m2025-04-02T12:26:30.730844-0700 | INFO | mth5.io.conversion | split_ms_to_days | Wrote miniseed file to: c:\\Users\\jpeacock\\OneDrive - DOI\\MTData\\CL2021\\archive\\to_dmc\\1Z_CL484__FQN_2022_10_29T06_59_58.mseed\u001b[0m\n",
      "\u001b[1m2025-04-02T12:26:30.918877-0700 | INFO | mth5.io.conversion | split_ms_to_days | Wrote miniseed file to: c:\\Users\\jpeacock\\OneDrive - DOI\\MTData\\CL2021\\archive\\to_dmc\\1Z_CL484__FQE_2022_10_29T06_59_58.mseed\u001b[0m\n",
      "\u001b[1m2025-04-02T12:26:31.115768-0700 | INFO | mth5.io.conversion | split_ms_to_days | Wrote miniseed file to: c:\\Users\\jpeacock\\OneDrive - DOI\\MTData\\CL2021\\archive\\to_dmc\\1Z_CL484__FFN_2022_10_29T06_59_58.mseed\u001b[0m\n",
      "\u001b[1m2025-04-02T12:26:31.324862-0700 | INFO | mth5.io.conversion | split_ms_to_days | Wrote miniseed file to: c:\\Users\\jpeacock\\OneDrive - DOI\\MTData\\CL2021\\archive\\to_dmc\\1Z_CL484__FFE_2022_10_29T06_59_58.mseed\u001b[0m\n",
      "\u001b[1m2025-04-02T12:26:31.526181-0700 | INFO | mth5.io.conversion | split_ms_to_days | Wrote miniseed file to: c:\\Users\\jpeacock\\OneDrive - DOI\\MTData\\CL2021\\archive\\to_dmc\\1Z_CL484__FFZ_2022_10_29T06_59_58.mseed\u001b[0m\n",
      "\u001b[1m2025-04-02T12:26:39.298624-0700 | INFO | mth5.io.conversion | split_ms_to_days | Wrote miniseed file to: c:\\Users\\jpeacock\\OneDrive - DOI\\MTData\\CL2021\\archive\\to_dmc\\1Z_CL484__CQN_2022_10_29T07_09_58.mseed\u001b[0m\n",
      "\u001b[1m2025-04-02T12:26:39.738297-0700 | INFO | mth5.io.conversion | split_ms_to_days | Wrote miniseed file to: c:\\Users\\jpeacock\\OneDrive - DOI\\MTData\\CL2021\\archive\\to_dmc\\1Z_CL484__CQE_2022_10_29T07_09_58.mseed\u001b[0m\n",
      "\u001b[1m2025-04-02T12:26:40.168029-0700 | INFO | mth5.io.conversion | split_ms_to_days | Wrote miniseed file to: c:\\Users\\jpeacock\\OneDrive - DOI\\MTData\\CL2021\\archive\\to_dmc\\1Z_CL484__CFN_2022_10_29T07_09_58.mseed\u001b[0m\n",
      "\u001b[1m2025-04-02T12:26:40.611646-0700 | INFO | mth5.io.conversion | split_ms_to_days | Wrote miniseed file to: c:\\Users\\jpeacock\\OneDrive - DOI\\MTData\\CL2021\\archive\\to_dmc\\1Z_CL484__CFE_2022_10_29T07_09_58.mseed\u001b[0m\n",
      "\u001b[1m2025-04-02T12:26:41.079171-0700 | INFO | mth5.io.conversion | split_ms_to_days | Wrote miniseed file to: c:\\Users\\jpeacock\\OneDrive - DOI\\MTData\\CL2021\\archive\\to_dmc\\1Z_CL484__CFZ_2022_10_29T07_09_58.mseed\u001b[0m\n",
      "\u001b[1m2025-04-02T12:26:45.149894-0700 | INFO | mth5.timeseries.run_ts | _align_channels | Channels do not have a common end, using latest: 2022-10-29T13:09:41.998291015\u001b[0m\n",
      "\u001b[33m\u001b[1m2025-04-02T12:26:47.666029-0700 | WARNING | mth5.timeseries.run_ts | validate_metadata | end time of dataset 2022-10-29T13:09:41.998047+00:00 does not match metadata end 2022-10-29T13:09:41.998291015+00:00 updating metatdata value to 2022-10-29T13:09:41.998047+00:00\u001b[0m\n"
     ]
    },
    {
     "name": "stderr",
     "output_type": "stream",
     "text": [
      "C:\\Users\\jpeacock\\OneDrive - DOI\\Documents\\GitHub\\mth5\\mth5\\timeseries\\channel_ts.py:1524: RuntimeWarning: invalid value encountered in cast\n",
      "  obspy_trace = Trace(self.ts.astype(encoding_dict[encoding]))\n"
     ]
    },
    {
     "name": "stdout",
     "output_type": "stream",
     "text": [
      "\u001b[1m2025-04-02T12:26:48.453882-0700 | INFO | mth5.io.conversion | split_ms_to_days | Wrote miniseed file to: c:\\Users\\jpeacock\\OneDrive - DOI\\MTData\\CL2021\\archive\\to_dmc\\1Z_CL484__FQN_2022_10_29T12_59_58.mseed\u001b[0m\n",
      "\u001b[1m2025-04-02T12:26:48.642115-0700 | INFO | mth5.io.conversion | split_ms_to_days | Wrote miniseed file to: c:\\Users\\jpeacock\\OneDrive - DOI\\MTData\\CL2021\\archive\\to_dmc\\1Z_CL484__FQE_2022_10_29T12_59_58.mseed\u001b[0m\n",
      "\u001b[1m2025-04-02T12:26:48.840344-0700 | INFO | mth5.io.conversion | split_ms_to_days | Wrote miniseed file to: c:\\Users\\jpeacock\\OneDrive - DOI\\MTData\\CL2021\\archive\\to_dmc\\1Z_CL484__FFN_2022_10_29T12_59_58.mseed\u001b[0m\n",
      "\u001b[1m2025-04-02T12:26:49.027507-0700 | INFO | mth5.io.conversion | split_ms_to_days | Wrote miniseed file to: c:\\Users\\jpeacock\\OneDrive - DOI\\MTData\\CL2021\\archive\\to_dmc\\1Z_CL484__FFE_2022_10_29T12_59_58.mseed\u001b[0m\n",
      "\u001b[1m2025-04-02T12:26:49.218519-0700 | INFO | mth5.io.conversion | split_ms_to_days | Wrote miniseed file to: c:\\Users\\jpeacock\\OneDrive - DOI\\MTData\\CL2021\\archive\\to_dmc\\1Z_CL484__FFZ_2022_10_29T12_59_58.mseed\u001b[0m\n",
      "\u001b[1m2025-04-02T12:26:54.424443-0700 | INFO | mth5.io.conversion | split_ms_to_days | Wrote miniseed file to: c:\\Users\\jpeacock\\OneDrive - DOI\\MTData\\CL2021\\archive\\to_dmc\\1Z_CL484__CQN_2022_10_29T13_09_58.mseed\u001b[0m\n",
      "\u001b[1m2025-04-02T12:26:54.600571-0700 | INFO | mth5.io.conversion | split_ms_to_days | Wrote miniseed file to: c:\\Users\\jpeacock\\OneDrive - DOI\\MTData\\CL2021\\archive\\to_dmc\\1Z_CL484__CQE_2022_10_29T13_09_58.mseed\u001b[0m\n",
      "\u001b[1m2025-04-02T12:26:54.778590-0700 | INFO | mth5.io.conversion | split_ms_to_days | Wrote miniseed file to: c:\\Users\\jpeacock\\OneDrive - DOI\\MTData\\CL2021\\archive\\to_dmc\\1Z_CL484__CFN_2022_10_29T13_09_58.mseed\u001b[0m\n",
      "\u001b[1m2025-04-02T12:26:54.957679-0700 | INFO | mth5.io.conversion | split_ms_to_days | Wrote miniseed file to: c:\\Users\\jpeacock\\OneDrive - DOI\\MTData\\CL2021\\archive\\to_dmc\\1Z_CL484__CFE_2022_10_29T13_09_58.mseed\u001b[0m\n",
      "\u001b[1m2025-04-02T12:26:55.141828-0700 | INFO | mth5.io.conversion | split_ms_to_days | Wrote miniseed file to: c:\\Users\\jpeacock\\OneDrive - DOI\\MTData\\CL2021\\archive\\to_dmc\\1Z_CL484__CFZ_2022_10_29T13_09_58.mseed\u001b[0m\n",
      "\u001b[1m2025-04-02T12:26:56.136744-0700 | INFO | mth5.mth5 | close_mth5 | Flushing and closing c:\\Users\\jpeacock\\OneDrive - DOI\\MTData\\CL2021\\archive\\cl484.h5\u001b[0m\n",
      "\u001b[33m\u001b[1m2025-04-02T12:26:56.144745-0700 | WARNING | mt_metadata.timeseries.stationxml.xml_station_mt_station | mt_to_xml | Station.geographic_name is None, using Station.id = cl484.Check StationXML site.name.\u001b[0m\n",
      "\u001b[1m2025-04-02T12:26:56.246292-0700 | INFO | mt_metadata.timeseries.filters.channel_response | to_obspy | total sensitivity 105276966379.19785 != total gain 1048576000.000055. Using total_gain.\u001b[0m\n",
      "\u001b[1m2025-04-02T12:26:56.277259-0700 | INFO | mt_metadata.timeseries.filters.channel_response | to_obspy | total sensitivity 105026369151.30917 != total gain 1048576000.000055. Using total_gain.\u001b[0m\n",
      "\u001b[1m2025-04-02T12:26:56.310259-0700 | INFO | mt_metadata.timeseries.filters.channel_response | to_obspy | total sensitivity 105276966379.19785 != total gain 1048576000.000055. Using total_gain.\u001b[0m\n",
      "\u001b[1m2025-04-02T12:26:56.400936-0700 | INFO | mt_metadata.timeseries.filters.channel_response | to_obspy | total sensitivity 105276966379.19785 != total gain 1048576000.000055. Using total_gain.\u001b[0m\n",
      "\u001b[1m2025-04-02T12:26:56.428977-0700 | INFO | mt_metadata.timeseries.filters.channel_response | to_obspy | total sensitivity 105026369151.30917 != total gain 1048576000.000055. Using total_gain.\u001b[0m\n",
      "\u001b[1m2025-04-02T12:26:56.462284-0700 | INFO | mt_metadata.timeseries.filters.channel_response | to_obspy | total sensitivity 105276966379.19785 != total gain 1048576000.000055. Using total_gain.\u001b[0m\n",
      "\u001b[1m2025-04-02T12:26:56.567897-0700 | INFO | mt_metadata.timeseries.filters.channel_response | to_obspy | total sensitivity 105276966379.19785 != total gain 1048576000.000055. Using total_gain.\u001b[0m\n",
      "\u001b[1m2025-04-02T12:26:56.596898-0700 | INFO | mt_metadata.timeseries.filters.channel_response | to_obspy | total sensitivity 105026369151.30917 != total gain 1048576000.000055. Using total_gain.\u001b[0m\n",
      "\u001b[1m2025-04-02T12:26:56.627904-0700 | INFO | mt_metadata.timeseries.filters.channel_response | to_obspy | total sensitivity 105276966379.19785 != total gain 1048576000.000055. Using total_gain.\u001b[0m\n",
      "\u001b[1m2025-04-02T12:26:56.732986-0700 | INFO | mt_metadata.timeseries.filters.channel_response | to_obspy | total sensitivity 105276966379.19785 != total gain 1048576000.000055. Using total_gain.\u001b[0m\n",
      "\u001b[1m2025-04-02T12:26:56.761995-0700 | INFO | mt_metadata.timeseries.filters.channel_response | to_obspy | total sensitivity 105026369151.30917 != total gain 1048576000.000055. Using total_gain.\u001b[0m\n",
      "\u001b[1m2025-04-02T12:26:56.792027-0700 | INFO | mt_metadata.timeseries.filters.channel_response | to_obspy | total sensitivity 105276966379.19785 != total gain 1048576000.000055. Using total_gain.\u001b[0m\n",
      "\u001b[1m2025-04-02T12:26:56.881436-0700 | INFO | mt_metadata.timeseries.filters.channel_response | to_obspy | total sensitivity 105276966379.19785 != total gain 1048576000.000055. Using total_gain.\u001b[0m\n",
      "\u001b[1m2025-04-02T12:26:56.909440-0700 | INFO | mt_metadata.timeseries.filters.channel_response | to_obspy | total sensitivity 105026369151.30917 != total gain 1048576000.000055. Using total_gain.\u001b[0m\n",
      "\u001b[1m2025-04-02T12:26:56.939030-0700 | INFO | mt_metadata.timeseries.filters.channel_response | to_obspy | total sensitivity 105276966379.19785 != total gain 1048576000.000055. Using total_gain.\u001b[0m\n",
      "\u001b[1m2025-04-02T12:26:57.030102-0700 | INFO | mt_metadata.timeseries.filters.channel_response | to_obspy | total sensitivity 105276966379.19785 != total gain 1048576000.000055. Using total_gain.\u001b[0m\n",
      "\u001b[1m2025-04-02T12:26:57.061159-0700 | INFO | mt_metadata.timeseries.filters.channel_response | to_obspy | total sensitivity 105026369151.30917 != total gain 1048576000.000055. Using total_gain.\u001b[0m\n",
      "\u001b[1m2025-04-02T12:26:57.090196-0700 | INFO | mt_metadata.timeseries.filters.channel_response | to_obspy | total sensitivity 105276966379.19785 != total gain 1048576000.000055. Using total_gain.\u001b[0m\n",
      "\u001b[1m2025-04-02T12:26:57.184806-0700 | INFO | mt_metadata.timeseries.filters.channel_response | to_obspy | total sensitivity 105276966379.19785 != total gain 1048576000.000055. Using total_gain.\u001b[0m\n",
      "\u001b[1m2025-04-02T12:26:57.214817-0700 | INFO | mt_metadata.timeseries.filters.channel_response | to_obspy | total sensitivity 105026369151.30917 != total gain 1048576000.000055. Using total_gain.\u001b[0m\n",
      "\u001b[1m2025-04-02T12:26:57.255330-0700 | INFO | mt_metadata.timeseries.filters.channel_response | to_obspy | total sensitivity 105276966379.19785 != total gain 1048576000.000055. Using total_gain.\u001b[0m\n",
      "\u001b[1m2025-04-02T12:26:57.356569-0700 | INFO | mt_metadata.timeseries.filters.channel_response | to_obspy | total sensitivity 105276966379.19785 != total gain 1048576000.000055. Using total_gain.\u001b[0m\n",
      "\u001b[1m2025-04-02T12:26:57.393105-0700 | INFO | mt_metadata.timeseries.filters.channel_response | to_obspy | total sensitivity 105026369151.30917 != total gain 1048576000.000055. Using total_gain.\u001b[0m\n",
      "\u001b[1m2025-04-02T12:26:57.423151-0700 | INFO | mt_metadata.timeseries.filters.channel_response | to_obspy | total sensitivity 105276966379.19785 != total gain 1048576000.000055. Using total_gain.\u001b[0m\n",
      "\u001b[1m2025-04-02T12:26:57.456695-0700 | INFO | mth5.io.conversion | convert_mth5_to_ms_stationxml | Wrote StationXML to c:\\Users\\jpeacock\\OneDrive - DOI\\MTData\\CL2021\\archive\\to_dmc\\cl484.xml\u001b[0m\n",
      "\u001b[33m\u001b[1m2025-04-02T12:26:59.043175-0700 | WARNING | mt_metadata.timeseries.station | remove_run | Could not find cl485a to remove.\u001b[0m\n",
      "\u001b[1m2025-04-02T12:27:02.476591-0700 | INFO | mth5.io.conversion | split_ms_to_days | Wrote miniseed file to: c:\\Users\\jpeacock\\OneDrive - DOI\\MTData\\CL2021\\archive\\to_dmc\\1Z_CL485__LQN_2022_10_28T22_29_58.mseed\u001b[0m\n",
      "\u001b[1m2025-04-02T12:27:02.481552-0700 | INFO | mth5.io.conversion | split_ms_to_days | Wrote miniseed file to: c:\\Users\\jpeacock\\OneDrive - DOI\\MTData\\CL2021\\archive\\to_dmc\\1Z_CL485__LQN_2022_10_29T00_00_00.mseed\u001b[0m\n",
      "\u001b[1m2025-04-02T12:27:02.488584-0700 | INFO | mth5.io.conversion | split_ms_to_days | Wrote miniseed file to: c:\\Users\\jpeacock\\OneDrive - DOI\\MTData\\CL2021\\archive\\to_dmc\\1Z_CL485__LQE_2022_10_28T22_29_58.mseed\u001b[0m\n",
      "\u001b[1m2025-04-02T12:27:02.490554-0700 | INFO | mth5.io.conversion | split_ms_to_days | Wrote miniseed file to: c:\\Users\\jpeacock\\OneDrive - DOI\\MTData\\CL2021\\archive\\to_dmc\\1Z_CL485__LQE_2022_10_29T00_00_00.mseed\u001b[0m\n",
      "\u001b[1m2025-04-02T12:27:02.498553-0700 | INFO | mth5.io.conversion | split_ms_to_days | Wrote miniseed file to: c:\\Users\\jpeacock\\OneDrive - DOI\\MTData\\CL2021\\archive\\to_dmc\\1Z_CL485__LFN_2022_10_28T22_29_58.mseed\u001b[0m\n",
      "\u001b[1m2025-04-02T12:27:02.501556-0700 | INFO | mth5.io.conversion | split_ms_to_days | Wrote miniseed file to: c:\\Users\\jpeacock\\OneDrive - DOI\\MTData\\CL2021\\archive\\to_dmc\\1Z_CL485__LFN_2022_10_29T00_00_00.mseed\u001b[0m\n",
      "\u001b[1m2025-04-02T12:27:02.511555-0700 | INFO | mth5.io.conversion | split_ms_to_days | Wrote miniseed file to: c:\\Users\\jpeacock\\OneDrive - DOI\\MTData\\CL2021\\archive\\to_dmc\\1Z_CL485__LFE_2022_10_28T22_29_58.mseed\u001b[0m\n",
      "\u001b[1m2025-04-02T12:27:02.522552-0700 | INFO | mth5.io.conversion | split_ms_to_days | Wrote miniseed file to: c:\\Users\\jpeacock\\OneDrive - DOI\\MTData\\CL2021\\archive\\to_dmc\\1Z_CL485__LFE_2022_10_29T00_00_00.mseed\u001b[0m\n",
      "\u001b[1m2025-04-02T12:27:02.538564-0700 | INFO | mth5.io.conversion | split_ms_to_days | Wrote miniseed file to: c:\\Users\\jpeacock\\OneDrive - DOI\\MTData\\CL2021\\archive\\to_dmc\\1Z_CL485__LFZ_2022_10_28T22_29_58.mseed\u001b[0m\n",
      "\u001b[1m2025-04-02T12:27:02.541651-0700 | INFO | mth5.io.conversion | split_ms_to_days | Wrote miniseed file to: c:\\Users\\jpeacock\\OneDrive - DOI\\MTData\\CL2021\\archive\\to_dmc\\1Z_CL485__LFZ_2022_10_29T00_00_00.mseed\u001b[0m\n",
      "\u001b[1m2025-04-02T12:27:07.621258-0700 | INFO | mth5.io.conversion | split_ms_to_days | Wrote miniseed file to: c:\\Users\\jpeacock\\OneDrive - DOI\\MTData\\CL2021\\archive\\to_dmc\\1Z_CL485__CQN_2022_10_28T22_29_58.mseed\u001b[0m\n",
      "\u001b[1m2025-04-02T12:27:07.735239-0700 | INFO | mth5.io.conversion | split_ms_to_days | Wrote miniseed file to: c:\\Users\\jpeacock\\OneDrive - DOI\\MTData\\CL2021\\archive\\to_dmc\\1Z_CL485__CQN_2022_10_29T00_00_00.mseed\u001b[0m\n",
      "\u001b[1m2025-04-02T12:27:07.819761-0700 | INFO | mth5.io.conversion | split_ms_to_days | Wrote miniseed file to: c:\\Users\\jpeacock\\OneDrive - DOI\\MTData\\CL2021\\archive\\to_dmc\\1Z_CL485__CQE_2022_10_28T22_29_58.mseed\u001b[0m\n",
      "\u001b[1m2025-04-02T12:27:07.945976-0700 | INFO | mth5.io.conversion | split_ms_to_days | Wrote miniseed file to: c:\\Users\\jpeacock\\OneDrive - DOI\\MTData\\CL2021\\archive\\to_dmc\\1Z_CL485__CQE_2022_10_29T00_00_00.mseed\u001b[0m\n",
      "\u001b[1m2025-04-02T12:27:08.023865-0700 | INFO | mth5.io.conversion | split_ms_to_days | Wrote miniseed file to: c:\\Users\\jpeacock\\OneDrive - DOI\\MTData\\CL2021\\archive\\to_dmc\\1Z_CL485__CFN_2022_10_28T22_29_58.mseed\u001b[0m\n",
      "\u001b[1m2025-04-02T12:27:08.138485-0700 | INFO | mth5.io.conversion | split_ms_to_days | Wrote miniseed file to: c:\\Users\\jpeacock\\OneDrive - DOI\\MTData\\CL2021\\archive\\to_dmc\\1Z_CL485__CFN_2022_10_29T00_00_00.mseed\u001b[0m\n",
      "\u001b[1m2025-04-02T12:27:08.214098-0700 | INFO | mth5.io.conversion | split_ms_to_days | Wrote miniseed file to: c:\\Users\\jpeacock\\OneDrive - DOI\\MTData\\CL2021\\archive\\to_dmc\\1Z_CL485__CFE_2022_10_28T22_29_58.mseed\u001b[0m\n",
      "\u001b[1m2025-04-02T12:27:08.331602-0700 | INFO | mth5.io.conversion | split_ms_to_days | Wrote miniseed file to: c:\\Users\\jpeacock\\OneDrive - DOI\\MTData\\CL2021\\archive\\to_dmc\\1Z_CL485__CFE_2022_10_29T00_00_00.mseed\u001b[0m\n",
      "\u001b[1m2025-04-02T12:27:08.404698-0700 | INFO | mth5.io.conversion | split_ms_to_days | Wrote miniseed file to: c:\\Users\\jpeacock\\OneDrive - DOI\\MTData\\CL2021\\archive\\to_dmc\\1Z_CL485__CFZ_2022_10_28T22_29_58.mseed\u001b[0m\n",
      "\u001b[1m2025-04-02T12:27:08.520874-0700 | INFO | mth5.io.conversion | split_ms_to_days | Wrote miniseed file to: c:\\Users\\jpeacock\\OneDrive - DOI\\MTData\\CL2021\\archive\\to_dmc\\1Z_CL485__CFZ_2022_10_29T00_00_00.mseed\u001b[0m\n",
      "\u001b[1m2025-04-02T12:27:11.689102-0700 | INFO | mth5.timeseries.run_ts | _align_channels | Channels do not have a common end, using latest: 2022-10-29T01:09:41.999268000\u001b[0m\n"
     ]
    },
    {
     "name": "stderr",
     "output_type": "stream",
     "text": [
      "C:\\Users\\jpeacock\\OneDrive - DOI\\Documents\\GitHub\\mth5\\mth5\\timeseries\\channel_ts.py:1524: RuntimeWarning: invalid value encountered in cast\n",
      "  obspy_trace = Trace(self.ts.astype(encoding_dict[encoding]))\n"
     ]
    },
    {
     "name": "stdout",
     "output_type": "stream",
     "text": [
      "\u001b[1m2025-04-02T12:27:14.516325-0700 | INFO | mth5.io.conversion | split_ms_to_days | Wrote miniseed file to: c:\\Users\\jpeacock\\OneDrive - DOI\\MTData\\CL2021\\archive\\to_dmc\\1Z_CL485__FQN_2022_10_29T00_59_58.mseed\u001b[0m\n",
      "\u001b[1m2025-04-02T12:27:14.705521-0700 | INFO | mth5.io.conversion | split_ms_to_days | Wrote miniseed file to: c:\\Users\\jpeacock\\OneDrive - DOI\\MTData\\CL2021\\archive\\to_dmc\\1Z_CL485__FQE_2022_10_29T00_59_58.mseed\u001b[0m\n",
      "\u001b[1m2025-04-02T12:27:14.897650-0700 | INFO | mth5.io.conversion | split_ms_to_days | Wrote miniseed file to: c:\\Users\\jpeacock\\OneDrive - DOI\\MTData\\CL2021\\archive\\to_dmc\\1Z_CL485__FFN_2022_10_29T00_59_58.mseed\u001b[0m\n",
      "\u001b[1m2025-04-02T12:27:15.082852-0700 | INFO | mth5.io.conversion | split_ms_to_days | Wrote miniseed file to: c:\\Users\\jpeacock\\OneDrive - DOI\\MTData\\CL2021\\archive\\to_dmc\\1Z_CL485__FFE_2022_10_29T00_59_58.mseed\u001b[0m\n",
      "\u001b[1m2025-04-02T12:27:15.280027-0700 | INFO | mth5.io.conversion | split_ms_to_days | Wrote miniseed file to: c:\\Users\\jpeacock\\OneDrive - DOI\\MTData\\CL2021\\archive\\to_dmc\\1Z_CL485__FFZ_2022_10_29T00_59_58.mseed\u001b[0m\n",
      "\u001b[1m2025-04-02T12:27:22.528986-0700 | INFO | mth5.io.conversion | split_ms_to_days | Wrote miniseed file to: c:\\Users\\jpeacock\\OneDrive - DOI\\MTData\\CL2021\\archive\\to_dmc\\1Z_CL485__CQN_2022_10_29T01_09_58.mseed\u001b[0m\n",
      "\u001b[1m2025-04-02T12:27:22.948222-0700 | INFO | mth5.io.conversion | split_ms_to_days | Wrote miniseed file to: c:\\Users\\jpeacock\\OneDrive - DOI\\MTData\\CL2021\\archive\\to_dmc\\1Z_CL485__CQE_2022_10_29T01_09_58.mseed\u001b[0m\n",
      "\u001b[1m2025-04-02T12:27:23.394213-0700 | INFO | mth5.io.conversion | split_ms_to_days | Wrote miniseed file to: c:\\Users\\jpeacock\\OneDrive - DOI\\MTData\\CL2021\\archive\\to_dmc\\1Z_CL485__CFN_2022_10_29T01_09_58.mseed\u001b[0m\n",
      "\u001b[1m2025-04-02T12:27:23.822563-0700 | INFO | mth5.io.conversion | split_ms_to_days | Wrote miniseed file to: c:\\Users\\jpeacock\\OneDrive - DOI\\MTData\\CL2021\\archive\\to_dmc\\1Z_CL485__CFE_2022_10_29T01_09_58.mseed\u001b[0m\n",
      "\u001b[1m2025-04-02T12:27:24.267626-0700 | INFO | mth5.io.conversion | split_ms_to_days | Wrote miniseed file to: c:\\Users\\jpeacock\\OneDrive - DOI\\MTData\\CL2021\\archive\\to_dmc\\1Z_CL485__CFZ_2022_10_29T01_09_58.mseed\u001b[0m\n",
      "\u001b[1m2025-04-02T12:27:28.119219-0700 | INFO | mth5.timeseries.run_ts | _align_channels | Channels do not have a common end, using latest: 2022-10-29T07:09:41.999268000\u001b[0m\n"
     ]
    },
    {
     "name": "stderr",
     "output_type": "stream",
     "text": [
      "C:\\Users\\jpeacock\\OneDrive - DOI\\Documents\\GitHub\\mth5\\mth5\\timeseries\\channel_ts.py:1524: RuntimeWarning: invalid value encountered in cast\n",
      "  obspy_trace = Trace(self.ts.astype(encoding_dict[encoding]))\n"
     ]
    },
    {
     "name": "stdout",
     "output_type": "stream",
     "text": [
      "\u001b[1m2025-04-02T12:27:29.930979-0700 | INFO | mth5.io.conversion | split_ms_to_days | Wrote miniseed file to: c:\\Users\\jpeacock\\OneDrive - DOI\\MTData\\CL2021\\archive\\to_dmc\\1Z_CL485__FQN_2022_10_29T06_59_58.mseed\u001b[0m\n",
      "\u001b[1m2025-04-02T12:27:30.125071-0700 | INFO | mth5.io.conversion | split_ms_to_days | Wrote miniseed file to: c:\\Users\\jpeacock\\OneDrive - DOI\\MTData\\CL2021\\archive\\to_dmc\\1Z_CL485__FQE_2022_10_29T06_59_58.mseed\u001b[0m\n",
      "\u001b[1m2025-04-02T12:27:30.325801-0700 | INFO | mth5.io.conversion | split_ms_to_days | Wrote miniseed file to: c:\\Users\\jpeacock\\OneDrive - DOI\\MTData\\CL2021\\archive\\to_dmc\\1Z_CL485__FFN_2022_10_29T06_59_58.mseed\u001b[0m\n",
      "\u001b[1m2025-04-02T12:27:30.526342-0700 | INFO | mth5.io.conversion | split_ms_to_days | Wrote miniseed file to: c:\\Users\\jpeacock\\OneDrive - DOI\\MTData\\CL2021\\archive\\to_dmc\\1Z_CL485__FFE_2022_10_29T06_59_58.mseed\u001b[0m\n",
      "\u001b[1m2025-04-02T12:27:30.725497-0700 | INFO | mth5.io.conversion | split_ms_to_days | Wrote miniseed file to: c:\\Users\\jpeacock\\OneDrive - DOI\\MTData\\CL2021\\archive\\to_dmc\\1Z_CL485__FFZ_2022_10_29T06_59_58.mseed\u001b[0m\n",
      "\u001b[1m2025-04-02T12:27:38.207447-0700 | INFO | mth5.io.conversion | split_ms_to_days | Wrote miniseed file to: c:\\Users\\jpeacock\\OneDrive - DOI\\MTData\\CL2021\\archive\\to_dmc\\1Z_CL485__CQN_2022_10_29T07_09_58.mseed\u001b[0m\n",
      "\u001b[1m2025-04-02T12:27:38.628718-0700 | INFO | mth5.io.conversion | split_ms_to_days | Wrote miniseed file to: c:\\Users\\jpeacock\\OneDrive - DOI\\MTData\\CL2021\\archive\\to_dmc\\1Z_CL485__CQE_2022_10_29T07_09_58.mseed\u001b[0m\n",
      "\u001b[1m2025-04-02T12:27:39.069967-0700 | INFO | mth5.io.conversion | split_ms_to_days | Wrote miniseed file to: c:\\Users\\jpeacock\\OneDrive - DOI\\MTData\\CL2021\\archive\\to_dmc\\1Z_CL485__CFN_2022_10_29T07_09_58.mseed\u001b[0m\n",
      "\u001b[1m2025-04-02T12:27:39.545120-0700 | INFO | mth5.io.conversion | split_ms_to_days | Wrote miniseed file to: c:\\Users\\jpeacock\\OneDrive - DOI\\MTData\\CL2021\\archive\\to_dmc\\1Z_CL485__CFE_2022_10_29T07_09_58.mseed\u001b[0m\n",
      "\u001b[1m2025-04-02T12:27:40.011598-0700 | INFO | mth5.io.conversion | split_ms_to_days | Wrote miniseed file to: c:\\Users\\jpeacock\\OneDrive - DOI\\MTData\\CL2021\\archive\\to_dmc\\1Z_CL485__CFZ_2022_10_29T07_09_58.mseed\u001b[0m\n",
      "\u001b[1m2025-04-02T12:27:44.113243-0700 | INFO | mth5.timeseries.run_ts | _align_channels | Channels do not have a common end, using latest: 2022-10-29T13:09:41.999023437\u001b[0m\n",
      "\u001b[33m\u001b[1m2025-04-02T12:27:47.037664-0700 | WARNING | mth5.timeseries.run_ts | validate_metadata | end time of dataset 2022-10-29T13:09:41.998779296+00:00 does not match metadata end 2022-10-29T13:09:41.999023437+00:00 updating metatdata value to 2022-10-29T13:09:41.998779296+00:00\u001b[0m\n"
     ]
    },
    {
     "name": "stderr",
     "output_type": "stream",
     "text": [
      "C:\\Users\\jpeacock\\OneDrive - DOI\\Documents\\GitHub\\mth5\\mth5\\timeseries\\channel_ts.py:1524: RuntimeWarning: invalid value encountered in cast\n",
      "  obspy_trace = Trace(self.ts.astype(encoding_dict[encoding]))\n"
     ]
    },
    {
     "name": "stdout",
     "output_type": "stream",
     "text": [
      "\u001b[1m2025-04-02T12:27:47.856616-0700 | INFO | mth5.io.conversion | split_ms_to_days | Wrote miniseed file to: c:\\Users\\jpeacock\\OneDrive - DOI\\MTData\\CL2021\\archive\\to_dmc\\1Z_CL485__FQN_2022_10_29T12_59_58.mseed\u001b[0m\n",
      "\u001b[1m2025-04-02T12:27:48.062734-0700 | INFO | mth5.io.conversion | split_ms_to_days | Wrote miniseed file to: c:\\Users\\jpeacock\\OneDrive - DOI\\MTData\\CL2021\\archive\\to_dmc\\1Z_CL485__FQE_2022_10_29T12_59_58.mseed\u001b[0m\n",
      "\u001b[1m2025-04-02T12:27:48.275908-0700 | INFO | mth5.io.conversion | split_ms_to_days | Wrote miniseed file to: c:\\Users\\jpeacock\\OneDrive - DOI\\MTData\\CL2021\\archive\\to_dmc\\1Z_CL485__FFN_2022_10_29T12_59_58.mseed\u001b[0m\n",
      "\u001b[1m2025-04-02T12:27:48.469011-0700 | INFO | mth5.io.conversion | split_ms_to_days | Wrote miniseed file to: c:\\Users\\jpeacock\\OneDrive - DOI\\MTData\\CL2021\\archive\\to_dmc\\1Z_CL485__FFE_2022_10_29T12_59_58.mseed\u001b[0m\n",
      "\u001b[1m2025-04-02T12:27:48.686698-0700 | INFO | mth5.io.conversion | split_ms_to_days | Wrote miniseed file to: c:\\Users\\jpeacock\\OneDrive - DOI\\MTData\\CL2021\\archive\\to_dmc\\1Z_CL485__FFZ_2022_10_29T12_59_58.mseed\u001b[0m\n",
      "\u001b[1m2025-04-02T12:27:56.734075-0700 | INFO | mth5.io.conversion | split_ms_to_days | Wrote miniseed file to: c:\\Users\\jpeacock\\OneDrive - DOI\\MTData\\CL2021\\archive\\to_dmc\\1Z_CL485__CQN_2022_10_29T13_09_58.mseed\u001b[0m\n",
      "\u001b[1m2025-04-02T12:27:57.016768-0700 | INFO | mth5.io.conversion | split_ms_to_days | Wrote miniseed file to: c:\\Users\\jpeacock\\OneDrive - DOI\\MTData\\CL2021\\archive\\to_dmc\\1Z_CL485__CQE_2022_10_29T13_09_58.mseed\u001b[0m\n",
      "\u001b[1m2025-04-02T12:27:57.341563-0700 | INFO | mth5.io.conversion | split_ms_to_days | Wrote miniseed file to: c:\\Users\\jpeacock\\OneDrive - DOI\\MTData\\CL2021\\archive\\to_dmc\\1Z_CL485__CFN_2022_10_29T13_09_58.mseed\u001b[0m\n",
      "\u001b[1m2025-04-02T12:27:57.669497-0700 | INFO | mth5.io.conversion | split_ms_to_days | Wrote miniseed file to: c:\\Users\\jpeacock\\OneDrive - DOI\\MTData\\CL2021\\archive\\to_dmc\\1Z_CL485__CFE_2022_10_29T13_09_58.mseed\u001b[0m\n",
      "\u001b[1m2025-04-02T12:27:58.039197-0700 | INFO | mth5.io.conversion | split_ms_to_days | Wrote miniseed file to: c:\\Users\\jpeacock\\OneDrive - DOI\\MTData\\CL2021\\archive\\to_dmc\\1Z_CL485__CFZ_2022_10_29T13_09_58.mseed\u001b[0m\n",
      "\u001b[1m2025-04-02T12:27:59.237940-0700 | INFO | mth5.mth5 | close_mth5 | Flushing and closing c:\\Users\\jpeacock\\OneDrive - DOI\\MTData\\CL2021\\archive\\cl485.h5\u001b[0m\n",
      "\u001b[33m\u001b[1m2025-04-02T12:27:59.242942-0700 | WARNING | mt_metadata.timeseries.stationxml.xml_station_mt_station | mt_to_xml | Station.geographic_name is None, using Station.id = cl485.Check StationXML site.name.\u001b[0m\n",
      "\u001b[1m2025-04-02T12:27:59.347458-0700 | INFO | mt_metadata.timeseries.filters.channel_response | to_obspy | total sensitivity 105384854631.2247 != total gain 1048576000.000055. Using total_gain.\u001b[0m\n",
      "\u001b[1m2025-04-02T12:27:59.397551-0700 | INFO | mt_metadata.timeseries.filters.channel_response | to_obspy | total sensitivity 105012851743.1351 != total gain 1048576000.000055. Using total_gain.\u001b[0m\n",
      "\u001b[1m2025-04-02T12:27:59.430556-0700 | INFO | mt_metadata.timeseries.filters.channel_response | to_obspy | total sensitivity 104693940307.89154 != total gain 1048576000.000055. Using total_gain.\u001b[0m\n",
      "\u001b[1m2025-04-02T12:27:59.541323-0700 | INFO | mt_metadata.timeseries.filters.channel_response | to_obspy | total sensitivity 105384854631.2247 != total gain 1048576000.000055. Using total_gain.\u001b[0m\n",
      "\u001b[1m2025-04-02T12:27:59.575320-0700 | INFO | mt_metadata.timeseries.filters.channel_response | to_obspy | total sensitivity 105012851743.1351 != total gain 1048576000.000055. Using total_gain.\u001b[0m\n",
      "\u001b[1m2025-04-02T12:27:59.611829-0700 | INFO | mt_metadata.timeseries.filters.channel_response | to_obspy | total sensitivity 104693940307.89154 != total gain 1048576000.000055. Using total_gain.\u001b[0m\n",
      "\u001b[1m2025-04-02T12:27:59.758294-0700 | INFO | mt_metadata.timeseries.filters.channel_response | to_obspy | total sensitivity 105384854631.2247 != total gain 1048576000.000055. Using total_gain.\u001b[0m\n",
      "\u001b[1m2025-04-02T12:27:59.800795-0700 | INFO | mt_metadata.timeseries.filters.channel_response | to_obspy | total sensitivity 105012851743.1351 != total gain 1048576000.000055. Using total_gain.\u001b[0m\n",
      "\u001b[1m2025-04-02T12:27:59.847801-0700 | INFO | mt_metadata.timeseries.filters.channel_response | to_obspy | total sensitivity 104693940307.89154 != total gain 1048576000.000055. Using total_gain.\u001b[0m\n",
      "\u001b[1m2025-04-02T12:27:59.987828-0700 | INFO | mt_metadata.timeseries.filters.channel_response | to_obspy | total sensitivity 105384854631.2247 != total gain 1048576000.000055. Using total_gain.\u001b[0m\n",
      "\u001b[1m2025-04-02T12:28:00.021840-0700 | INFO | mt_metadata.timeseries.filters.channel_response | to_obspy | total sensitivity 105012851743.1351 != total gain 1048576000.000055. Using total_gain.\u001b[0m\n",
      "\u001b[1m2025-04-02T12:28:00.071834-0700 | INFO | mt_metadata.timeseries.filters.channel_response | to_obspy | total sensitivity 104693940307.89154 != total gain 1048576000.000055. Using total_gain.\u001b[0m\n",
      "\u001b[1m2025-04-02T12:28:00.219956-0700 | INFO | mt_metadata.timeseries.filters.channel_response | to_obspy | total sensitivity 105384854631.2247 != total gain 1048576000.000055. Using total_gain.\u001b[0m\n",
      "\u001b[1m2025-04-02T12:28:00.252957-0700 | INFO | mt_metadata.timeseries.filters.channel_response | to_obspy | total sensitivity 105012851743.1351 != total gain 1048576000.000055. Using total_gain.\u001b[0m\n",
      "\u001b[1m2025-04-02T12:28:00.292487-0700 | INFO | mt_metadata.timeseries.filters.channel_response | to_obspy | total sensitivity 104693940307.89154 != total gain 1048576000.000055. Using total_gain.\u001b[0m\n",
      "\u001b[1m2025-04-02T12:28:00.444003-0700 | INFO | mt_metadata.timeseries.filters.channel_response | to_obspy | total sensitivity 105384854631.2247 != total gain 1048576000.000055. Using total_gain.\u001b[0m\n",
      "\u001b[1m2025-04-02T12:28:00.489051-0700 | INFO | mt_metadata.timeseries.filters.channel_response | to_obspy | total sensitivity 105012851743.1351 != total gain 1048576000.000055. Using total_gain.\u001b[0m\n",
      "\u001b[1m2025-04-02T12:28:00.529053-0700 | INFO | mt_metadata.timeseries.filters.channel_response | to_obspy | total sensitivity 104693940307.89154 != total gain 1048576000.000055. Using total_gain.\u001b[0m\n",
      "\u001b[1m2025-04-02T12:28:00.646570-0700 | INFO | mt_metadata.timeseries.filters.channel_response | to_obspy | total sensitivity 105384854631.2247 != total gain 1048576000.000055. Using total_gain.\u001b[0m\n",
      "\u001b[1m2025-04-02T12:28:00.681577-0700 | INFO | mt_metadata.timeseries.filters.channel_response | to_obspy | total sensitivity 105012851743.1351 != total gain 1048576000.000055. Using total_gain.\u001b[0m\n",
      "\u001b[1m2025-04-02T12:28:00.712087-0700 | INFO | mt_metadata.timeseries.filters.channel_response | to_obspy | total sensitivity 104693940307.89154 != total gain 1048576000.000055. Using total_gain.\u001b[0m\n",
      "\u001b[1m2025-04-02T12:28:00.827625-0700 | INFO | mt_metadata.timeseries.filters.channel_response | to_obspy | total sensitivity 105384854631.2247 != total gain 1048576000.000055. Using total_gain.\u001b[0m\n",
      "\u001b[1m2025-04-02T12:28:00.878660-0700 | INFO | mt_metadata.timeseries.filters.channel_response | to_obspy | total sensitivity 105012851743.1351 != total gain 1048576000.000055. Using total_gain.\u001b[0m\n",
      "\u001b[1m2025-04-02T12:28:00.932160-0700 | INFO | mt_metadata.timeseries.filters.channel_response | to_obspy | total sensitivity 104693940307.89154 != total gain 1048576000.000055. Using total_gain.\u001b[0m\n",
      "\u001b[1m2025-04-02T12:28:00.981168-0700 | INFO | mth5.io.conversion | convert_mth5_to_ms_stationxml | Wrote StationXML to c:\\Users\\jpeacock\\OneDrive - DOI\\MTData\\CL2021\\archive\\to_dmc\\cl485.xml\u001b[0m\n",
      "\u001b[33m\u001b[1m2025-04-02T12:28:03.118932-0700 | WARNING | mt_metadata.timeseries.station | remove_run | Could not find cl486a to remove.\u001b[0m\n",
      "\u001b[1m2025-04-02T12:28:07.010421-0700 | INFO | mth5.io.conversion | split_ms_to_days | Wrote miniseed file to: c:\\Users\\jpeacock\\OneDrive - DOI\\MTData\\CL2021\\archive\\to_dmc\\1Z_CL486__LQN_2022_10_28T20_59_58.mseed\u001b[0m\n",
      "\u001b[1m2025-04-02T12:28:07.014425-0700 | INFO | mth5.io.conversion | split_ms_to_days | Wrote miniseed file to: c:\\Users\\jpeacock\\OneDrive - DOI\\MTData\\CL2021\\archive\\to_dmc\\1Z_CL486__LQN_2022_10_29T00_00_00.mseed\u001b[0m\n",
      "\u001b[1m2025-04-02T12:28:07.022453-0700 | INFO | mth5.io.conversion | split_ms_to_days | Wrote miniseed file to: c:\\Users\\jpeacock\\OneDrive - DOI\\MTData\\CL2021\\archive\\to_dmc\\1Z_CL486__LQE_2022_10_28T20_59_58.mseed\u001b[0m\n",
      "\u001b[1m2025-04-02T12:28:07.025418-0700 | INFO | mth5.io.conversion | split_ms_to_days | Wrote miniseed file to: c:\\Users\\jpeacock\\OneDrive - DOI\\MTData\\CL2021\\archive\\to_dmc\\1Z_CL486__LQE_2022_10_29T00_00_00.mseed\u001b[0m\n",
      "\u001b[1m2025-04-02T12:28:07.035422-0700 | INFO | mth5.io.conversion | split_ms_to_days | Wrote miniseed file to: c:\\Users\\jpeacock\\OneDrive - DOI\\MTData\\CL2021\\archive\\to_dmc\\1Z_CL486__LFN_2022_10_28T20_59_58.mseed\u001b[0m\n",
      "\u001b[1m2025-04-02T12:28:07.039421-0700 | INFO | mth5.io.conversion | split_ms_to_days | Wrote miniseed file to: c:\\Users\\jpeacock\\OneDrive - DOI\\MTData\\CL2021\\archive\\to_dmc\\1Z_CL486__LFN_2022_10_29T00_00_00.mseed\u001b[0m\n",
      "\u001b[1m2025-04-02T12:28:07.051424-0700 | INFO | mth5.io.conversion | split_ms_to_days | Wrote miniseed file to: c:\\Users\\jpeacock\\OneDrive - DOI\\MTData\\CL2021\\archive\\to_dmc\\1Z_CL486__LFE_2022_10_28T20_59_58.mseed\u001b[0m\n",
      "\u001b[1m2025-04-02T12:28:07.055419-0700 | INFO | mth5.io.conversion | split_ms_to_days | Wrote miniseed file to: c:\\Users\\jpeacock\\OneDrive - DOI\\MTData\\CL2021\\archive\\to_dmc\\1Z_CL486__LFE_2022_10_29T00_00_00.mseed\u001b[0m\n",
      "\u001b[1m2025-04-02T12:28:07.065426-0700 | INFO | mth5.io.conversion | split_ms_to_days | Wrote miniseed file to: c:\\Users\\jpeacock\\OneDrive - DOI\\MTData\\CL2021\\archive\\to_dmc\\1Z_CL486__LFZ_2022_10_28T20_59_58.mseed\u001b[0m\n",
      "\u001b[1m2025-04-02T12:28:07.070430-0700 | INFO | mth5.io.conversion | split_ms_to_days | Wrote miniseed file to: c:\\Users\\jpeacock\\OneDrive - DOI\\MTData\\CL2021\\archive\\to_dmc\\1Z_CL486__LFZ_2022_10_29T00_00_00.mseed\u001b[0m\n",
      "\u001b[1m2025-04-02T12:28:13.403597-0700 | INFO | mth5.io.conversion | split_ms_to_days | Wrote miniseed file to: c:\\Users\\jpeacock\\OneDrive - DOI\\MTData\\CL2021\\archive\\to_dmc\\1Z_CL486__CQN_2022_10_28T20_59_58.mseed\u001b[0m\n",
      "\u001b[1m2025-04-02T12:28:13.634943-0700 | INFO | mth5.io.conversion | split_ms_to_days | Wrote miniseed file to: c:\\Users\\jpeacock\\OneDrive - DOI\\MTData\\CL2021\\archive\\to_dmc\\1Z_CL486__CQN_2022_10_29T00_00_00.mseed\u001b[0m\n",
      "\u001b[1m2025-04-02T12:28:13.709231-0700 | INFO | mth5.io.conversion | split_ms_to_days | Wrote miniseed file to: c:\\Users\\jpeacock\\OneDrive - DOI\\MTData\\CL2021\\archive\\to_dmc\\1Z_CL486__CQE_2022_10_28T20_59_58.mseed\u001b[0m\n",
      "\u001b[1m2025-04-02T12:28:13.940291-0700 | INFO | mth5.io.conversion | split_ms_to_days | Wrote miniseed file to: c:\\Users\\jpeacock\\OneDrive - DOI\\MTData\\CL2021\\archive\\to_dmc\\1Z_CL486__CQE_2022_10_29T00_00_00.mseed\u001b[0m\n",
      "\u001b[1m2025-04-02T12:28:14.014516-0700 | INFO | mth5.io.conversion | split_ms_to_days | Wrote miniseed file to: c:\\Users\\jpeacock\\OneDrive - DOI\\MTData\\CL2021\\archive\\to_dmc\\1Z_CL486__CFN_2022_10_28T20_59_58.mseed\u001b[0m\n",
      "\u001b[1m2025-04-02T12:28:14.241619-0700 | INFO | mth5.io.conversion | split_ms_to_days | Wrote miniseed file to: c:\\Users\\jpeacock\\OneDrive - DOI\\MTData\\CL2021\\archive\\to_dmc\\1Z_CL486__CFN_2022_10_29T00_00_00.mseed\u001b[0m\n",
      "\u001b[1m2025-04-02T12:28:14.318711-0700 | INFO | mth5.io.conversion | split_ms_to_days | Wrote miniseed file to: c:\\Users\\jpeacock\\OneDrive - DOI\\MTData\\CL2021\\archive\\to_dmc\\1Z_CL486__CFE_2022_10_28T20_59_58.mseed\u001b[0m\n",
      "\u001b[1m2025-04-02T12:28:14.559700-0700 | INFO | mth5.io.conversion | split_ms_to_days | Wrote miniseed file to: c:\\Users\\jpeacock\\OneDrive - DOI\\MTData\\CL2021\\archive\\to_dmc\\1Z_CL486__CFE_2022_10_29T00_00_00.mseed\u001b[0m\n",
      "\u001b[1m2025-04-02T12:28:14.636285-0700 | INFO | mth5.io.conversion | split_ms_to_days | Wrote miniseed file to: c:\\Users\\jpeacock\\OneDrive - DOI\\MTData\\CL2021\\archive\\to_dmc\\1Z_CL486__CFZ_2022_10_28T20_59_58.mseed\u001b[0m\n",
      "\u001b[1m2025-04-02T12:28:14.868967-0700 | INFO | mth5.io.conversion | split_ms_to_days | Wrote miniseed file to: c:\\Users\\jpeacock\\OneDrive - DOI\\MTData\\CL2021\\archive\\to_dmc\\1Z_CL486__CFZ_2022_10_29T00_00_00.mseed\u001b[0m\n",
      "\u001b[1m2025-04-02T12:28:18.035774-0700 | INFO | mth5.timeseries.run_ts | _align_channels | Channels do not have a common end, using latest: 2022-10-29T01:09:41.998535156\u001b[0m\n",
      "\u001b[33m\u001b[1m2025-04-02T12:28:19.598950-0700 | WARNING | mth5.timeseries.run_ts | validate_metadata | end time of dataset 2022-10-29T01:09:41.998291015+00:00 does not match metadata end 2022-10-29T01:09:41.998535156+00:00 updating metatdata value to 2022-10-29T01:09:41.998291015+00:00\u001b[0m\n"
     ]
    },
    {
     "name": "stderr",
     "output_type": "stream",
     "text": [
      "C:\\Users\\jpeacock\\OneDrive - DOI\\Documents\\GitHub\\mth5\\mth5\\timeseries\\channel_ts.py:1524: RuntimeWarning: invalid value encountered in cast\n",
      "  obspy_trace = Trace(self.ts.astype(encoding_dict[encoding]))\n"
     ]
    },
    {
     "name": "stdout",
     "output_type": "stream",
     "text": [
      "\u001b[1m2025-04-02T12:28:20.316783-0700 | INFO | mth5.io.conversion | split_ms_to_days | Wrote miniseed file to: c:\\Users\\jpeacock\\OneDrive - DOI\\MTData\\CL2021\\archive\\to_dmc\\1Z_CL486__FQN_2022_10_29T00_59_58.mseed\u001b[0m\n",
      "\u001b[1m2025-04-02T12:28:20.507003-0700 | INFO | mth5.io.conversion | split_ms_to_days | Wrote miniseed file to: c:\\Users\\jpeacock\\OneDrive - DOI\\MTData\\CL2021\\archive\\to_dmc\\1Z_CL486__FQE_2022_10_29T00_59_58.mseed\u001b[0m\n",
      "\u001b[1m2025-04-02T12:28:20.696572-0700 | INFO | mth5.io.conversion | split_ms_to_days | Wrote miniseed file to: c:\\Users\\jpeacock\\OneDrive - DOI\\MTData\\CL2021\\archive\\to_dmc\\1Z_CL486__FFN_2022_10_29T00_59_58.mseed\u001b[0m\n",
      "\u001b[1m2025-04-02T12:28:20.885154-0700 | INFO | mth5.io.conversion | split_ms_to_days | Wrote miniseed file to: c:\\Users\\jpeacock\\OneDrive - DOI\\MTData\\CL2021\\archive\\to_dmc\\1Z_CL486__FFE_2022_10_29T00_59_58.mseed\u001b[0m\n",
      "\u001b[1m2025-04-02T12:28:21.079211-0700 | INFO | mth5.io.conversion | split_ms_to_days | Wrote miniseed file to: c:\\Users\\jpeacock\\OneDrive - DOI\\MTData\\CL2021\\archive\\to_dmc\\1Z_CL486__FFZ_2022_10_29T00_59_58.mseed\u001b[0m\n",
      "\u001b[1m2025-04-02T12:28:28.768972-0700 | INFO | mth5.io.conversion | split_ms_to_days | Wrote miniseed file to: c:\\Users\\jpeacock\\OneDrive - DOI\\MTData\\CL2021\\archive\\to_dmc\\1Z_CL486__CQN_2022_10_29T01_09_58.mseed\u001b[0m\n",
      "\u001b[1m2025-04-02T12:28:29.184369-0700 | INFO | mth5.io.conversion | split_ms_to_days | Wrote miniseed file to: c:\\Users\\jpeacock\\OneDrive - DOI\\MTData\\CL2021\\archive\\to_dmc\\1Z_CL486__CQE_2022_10_29T01_09_58.mseed\u001b[0m\n",
      "\u001b[1m2025-04-02T12:28:29.605036-0700 | INFO | mth5.io.conversion | split_ms_to_days | Wrote miniseed file to: c:\\Users\\jpeacock\\OneDrive - DOI\\MTData\\CL2021\\archive\\to_dmc\\1Z_CL486__CFN_2022_10_29T01_09_58.mseed\u001b[0m\n",
      "\u001b[1m2025-04-02T12:28:30.058075-0700 | INFO | mth5.io.conversion | split_ms_to_days | Wrote miniseed file to: c:\\Users\\jpeacock\\OneDrive - DOI\\MTData\\CL2021\\archive\\to_dmc\\1Z_CL486__CFE_2022_10_29T01_09_58.mseed\u001b[0m\n",
      "\u001b[1m2025-04-02T12:28:30.504378-0700 | INFO | mth5.io.conversion | split_ms_to_days | Wrote miniseed file to: c:\\Users\\jpeacock\\OneDrive - DOI\\MTData\\CL2021\\archive\\to_dmc\\1Z_CL486__CFZ_2022_10_29T01_09_58.mseed\u001b[0m\n",
      "\u001b[1m2025-04-02T12:28:34.166397-0700 | INFO | mth5.timeseries.run_ts | _align_channels | Channels do not have a common end, using latest: 2022-10-29T07:09:41.998535156\u001b[0m\n",
      "\u001b[33m\u001b[1m2025-04-02T12:28:36.738461-0700 | WARNING | mth5.timeseries.run_ts | validate_metadata | end time of dataset 2022-10-29T07:09:41.998291015+00:00 does not match metadata end 2022-10-29T07:09:41.998535156+00:00 updating metatdata value to 2022-10-29T07:09:41.998291015+00:00\u001b[0m\n"
     ]
    },
    {
     "name": "stderr",
     "output_type": "stream",
     "text": [
      "C:\\Users\\jpeacock\\OneDrive - DOI\\Documents\\GitHub\\mth5\\mth5\\timeseries\\channel_ts.py:1524: RuntimeWarning: invalid value encountered in cast\n",
      "  obspy_trace = Trace(self.ts.astype(encoding_dict[encoding]))\n"
     ]
    },
    {
     "name": "stdout",
     "output_type": "stream",
     "text": [
      "\u001b[1m2025-04-02T12:28:37.471622-0700 | INFO | mth5.io.conversion | split_ms_to_days | Wrote miniseed file to: c:\\Users\\jpeacock\\OneDrive - DOI\\MTData\\CL2021\\archive\\to_dmc\\1Z_CL486__FQN_2022_10_29T06_59_58.mseed\u001b[0m\n",
      "\u001b[1m2025-04-02T12:28:37.662865-0700 | INFO | mth5.io.conversion | split_ms_to_days | Wrote miniseed file to: c:\\Users\\jpeacock\\OneDrive - DOI\\MTData\\CL2021\\archive\\to_dmc\\1Z_CL486__FQE_2022_10_29T06_59_58.mseed\u001b[0m\n",
      "\u001b[1m2025-04-02T12:28:37.850358-0700 | INFO | mth5.io.conversion | split_ms_to_days | Wrote miniseed file to: c:\\Users\\jpeacock\\OneDrive - DOI\\MTData\\CL2021\\archive\\to_dmc\\1Z_CL486__FFN_2022_10_29T06_59_58.mseed\u001b[0m\n",
      "\u001b[1m2025-04-02T12:28:38.051522-0700 | INFO | mth5.io.conversion | split_ms_to_days | Wrote miniseed file to: c:\\Users\\jpeacock\\OneDrive - DOI\\MTData\\CL2021\\archive\\to_dmc\\1Z_CL486__FFE_2022_10_29T06_59_58.mseed\u001b[0m\n",
      "\u001b[1m2025-04-02T12:28:38.242699-0700 | INFO | mth5.io.conversion | split_ms_to_days | Wrote miniseed file to: c:\\Users\\jpeacock\\OneDrive - DOI\\MTData\\CL2021\\archive\\to_dmc\\1Z_CL486__FFZ_2022_10_29T06_59_58.mseed\u001b[0m\n",
      "\u001b[1m2025-04-02T12:28:45.668859-0700 | INFO | mth5.io.conversion | split_ms_to_days | Wrote miniseed file to: c:\\Users\\jpeacock\\OneDrive - DOI\\MTData\\CL2021\\archive\\to_dmc\\1Z_CL486__CQN_2022_10_29T07_09_58.mseed\u001b[0m\n",
      "\u001b[1m2025-04-02T12:28:46.097004-0700 | INFO | mth5.io.conversion | split_ms_to_days | Wrote miniseed file to: c:\\Users\\jpeacock\\OneDrive - DOI\\MTData\\CL2021\\archive\\to_dmc\\1Z_CL486__CQE_2022_10_29T07_09_58.mseed\u001b[0m\n",
      "\u001b[1m2025-04-02T12:28:46.564699-0700 | INFO | mth5.io.conversion | split_ms_to_days | Wrote miniseed file to: c:\\Users\\jpeacock\\OneDrive - DOI\\MTData\\CL2021\\archive\\to_dmc\\1Z_CL486__CFN_2022_10_29T07_09_58.mseed\u001b[0m\n",
      "\u001b[1m2025-04-02T12:28:47.001686-0700 | INFO | mth5.io.conversion | split_ms_to_days | Wrote miniseed file to: c:\\Users\\jpeacock\\OneDrive - DOI\\MTData\\CL2021\\archive\\to_dmc\\1Z_CL486__CFE_2022_10_29T07_09_58.mseed\u001b[0m\n",
      "\u001b[1m2025-04-02T12:28:47.454055-0700 | INFO | mth5.io.conversion | split_ms_to_days | Wrote miniseed file to: c:\\Users\\jpeacock\\OneDrive - DOI\\MTData\\CL2021\\archive\\to_dmc\\1Z_CL486__CFZ_2022_10_29T07_09_58.mseed\u001b[0m\n",
      "\u001b[1m2025-04-02T12:28:51.536180-0700 | INFO | mth5.timeseries.run_ts | _align_channels | Channels do not have a common end, using latest: 2022-10-29T13:09:41.999268000\u001b[0m\n"
     ]
    },
    {
     "name": "stderr",
     "output_type": "stream",
     "text": [
      "C:\\Users\\jpeacock\\OneDrive - DOI\\Documents\\GitHub\\mth5\\mth5\\timeseries\\channel_ts.py:1524: RuntimeWarning: invalid value encountered in cast\n",
      "  obspy_trace = Trace(self.ts.astype(encoding_dict[encoding]))\n"
     ]
    },
    {
     "name": "stdout",
     "output_type": "stream",
     "text": [
      "\u001b[1m2025-04-02T12:28:54.328131-0700 | INFO | mth5.io.conversion | split_ms_to_days | Wrote miniseed file to: c:\\Users\\jpeacock\\OneDrive - DOI\\MTData\\CL2021\\archive\\to_dmc\\1Z_CL486__FQN_2022_10_29T12_59_58.mseed\u001b[0m\n",
      "\u001b[1m2025-04-02T12:28:54.528266-0700 | INFO | mth5.io.conversion | split_ms_to_days | Wrote miniseed file to: c:\\Users\\jpeacock\\OneDrive - DOI\\MTData\\CL2021\\archive\\to_dmc\\1Z_CL486__FQE_2022_10_29T12_59_58.mseed\u001b[0m\n",
      "\u001b[1m2025-04-02T12:28:54.725320-0700 | INFO | mth5.io.conversion | split_ms_to_days | Wrote miniseed file to: c:\\Users\\jpeacock\\OneDrive - DOI\\MTData\\CL2021\\archive\\to_dmc\\1Z_CL486__FFN_2022_10_29T12_59_58.mseed\u001b[0m\n",
      "\u001b[1m2025-04-02T12:28:54.918474-0700 | INFO | mth5.io.conversion | split_ms_to_days | Wrote miniseed file to: c:\\Users\\jpeacock\\OneDrive - DOI\\MTData\\CL2021\\archive\\to_dmc\\1Z_CL486__FFE_2022_10_29T12_59_58.mseed\u001b[0m\n",
      "\u001b[1m2025-04-02T12:28:55.118606-0700 | INFO | mth5.io.conversion | split_ms_to_days | Wrote miniseed file to: c:\\Users\\jpeacock\\OneDrive - DOI\\MTData\\CL2021\\archive\\to_dmc\\1Z_CL486__FFZ_2022_10_29T12_59_58.mseed\u001b[0m\n",
      "\u001b[1m2025-04-02T12:29:00.982284-0700 | INFO | mth5.io.conversion | split_ms_to_days | Wrote miniseed file to: c:\\Users\\jpeacock\\OneDrive - DOI\\MTData\\CL2021\\archive\\to_dmc\\1Z_CL486__CQN_2022_10_29T13_09_58.mseed\u001b[0m\n",
      "\u001b[1m2025-04-02T12:29:01.233801-0700 | INFO | mth5.io.conversion | split_ms_to_days | Wrote miniseed file to: c:\\Users\\jpeacock\\OneDrive - DOI\\MTData\\CL2021\\archive\\to_dmc\\1Z_CL486__CQE_2022_10_29T13_09_58.mseed\u001b[0m\n",
      "\u001b[1m2025-04-02T12:29:01.542064-0700 | INFO | mth5.io.conversion | split_ms_to_days | Wrote miniseed file to: c:\\Users\\jpeacock\\OneDrive - DOI\\MTData\\CL2021\\archive\\to_dmc\\1Z_CL486__CFN_2022_10_29T13_09_58.mseed\u001b[0m\n",
      "\u001b[1m2025-04-02T12:29:01.798110-0700 | INFO | mth5.io.conversion | split_ms_to_days | Wrote miniseed file to: c:\\Users\\jpeacock\\OneDrive - DOI\\MTData\\CL2021\\archive\\to_dmc\\1Z_CL486__CFE_2022_10_29T13_09_58.mseed\u001b[0m\n",
      "\u001b[1m2025-04-02T12:29:02.052683-0700 | INFO | mth5.io.conversion | split_ms_to_days | Wrote miniseed file to: c:\\Users\\jpeacock\\OneDrive - DOI\\MTData\\CL2021\\archive\\to_dmc\\1Z_CL486__CFZ_2022_10_29T13_09_58.mseed\u001b[0m\n",
      "\u001b[1m2025-04-02T12:29:03.223484-0700 | INFO | mth5.mth5 | close_mth5 | Flushing and closing c:\\Users\\jpeacock\\OneDrive - DOI\\MTData\\CL2021\\archive\\cl486.h5\u001b[0m\n",
      "\u001b[33m\u001b[1m2025-04-02T12:29:03.228492-0700 | WARNING | mt_metadata.timeseries.stationxml.xml_station_mt_station | mt_to_xml | Station.geographic_name is None, using Station.id = cl486.Check StationXML site.name.\u001b[0m\n",
      "\u001b[1m2025-04-02T12:29:03.319998-0700 | INFO | mt_metadata.timeseries.filters.channel_response | to_obspy | total sensitivity 104957842879.94406 != total gain 1048576000.000055. Using total_gain.\u001b[0m\n",
      "\u001b[1m2025-04-02T12:29:03.353510-0700 | INFO | mt_metadata.timeseries.filters.channel_response | to_obspy | total sensitivity 99528330172.17546 != total gain 1048576000.000055. Using total_gain.\u001b[0m\n",
      "\u001b[1m2025-04-02T12:29:03.389936-0700 | INFO | mt_metadata.timeseries.filters.channel_response | to_obspy | total sensitivity 104398743147.64836 != total gain 1048576000.000055. Using total_gain.\u001b[0m\n",
      "\u001b[1m2025-04-02T12:29:03.485448-0700 | INFO | mt_metadata.timeseries.filters.channel_response | to_obspy | total sensitivity 104957842879.94406 != total gain 1048576000.000055. Using total_gain.\u001b[0m\n",
      "\u001b[1m2025-04-02T12:29:03.518452-0700 | INFO | mt_metadata.timeseries.filters.channel_response | to_obspy | total sensitivity 99528330172.17546 != total gain 1048576000.000055. Using total_gain.\u001b[0m\n",
      "\u001b[1m2025-04-02T12:29:03.548981-0700 | INFO | mt_metadata.timeseries.filters.channel_response | to_obspy | total sensitivity 104398743147.64836 != total gain 1048576000.000055. Using total_gain.\u001b[0m\n",
      "\u001b[1m2025-04-02T12:29:03.637986-0700 | INFO | mt_metadata.timeseries.filters.channel_response | to_obspy | total sensitivity 104957842879.94406 != total gain 1048576000.000055. Using total_gain.\u001b[0m\n",
      "\u001b[1m2025-04-02T12:29:03.672120-0700 | INFO | mt_metadata.timeseries.filters.channel_response | to_obspy | total sensitivity 99528330172.17546 != total gain 1048576000.000055. Using total_gain.\u001b[0m\n",
      "\u001b[1m2025-04-02T12:29:03.702121-0700 | INFO | mt_metadata.timeseries.filters.channel_response | to_obspy | total sensitivity 104398743147.64836 != total gain 1048576000.000055. Using total_gain.\u001b[0m\n",
      "\u001b[1m2025-04-02T12:29:03.806640-0700 | INFO | mt_metadata.timeseries.filters.channel_response | to_obspy | total sensitivity 104957842879.94406 != total gain 1048576000.000055. Using total_gain.\u001b[0m\n",
      "\u001b[1m2025-04-02T12:29:03.843150-0700 | INFO | mt_metadata.timeseries.filters.channel_response | to_obspy | total sensitivity 99528330172.17546 != total gain 1048576000.000055. Using total_gain.\u001b[0m\n",
      "\u001b[1m2025-04-02T12:29:03.879149-0700 | INFO | mt_metadata.timeseries.filters.channel_response | to_obspy | total sensitivity 104398743147.64836 != total gain 1048576000.000055. Using total_gain.\u001b[0m\n",
      "\u001b[1m2025-04-02T12:29:03.993678-0700 | INFO | mt_metadata.timeseries.filters.channel_response | to_obspy | total sensitivity 104957842879.94406 != total gain 1048576000.000055. Using total_gain.\u001b[0m\n",
      "\u001b[1m2025-04-02T12:29:04.025682-0700 | INFO | mt_metadata.timeseries.filters.channel_response | to_obspy | total sensitivity 99528330172.17546 != total gain 1048576000.000055. Using total_gain.\u001b[0m\n",
      "\u001b[1m2025-04-02T12:29:04.054188-0700 | INFO | mt_metadata.timeseries.filters.channel_response | to_obspy | total sensitivity 104398743147.64836 != total gain 1048576000.000055. Using total_gain.\u001b[0m\n",
      "\u001b[1m2025-04-02T12:29:04.146704-0700 | INFO | mt_metadata.timeseries.filters.channel_response | to_obspy | total sensitivity 104957842879.94406 != total gain 1048576000.000055. Using total_gain.\u001b[0m\n",
      "\u001b[1m2025-04-02T12:29:04.182705-0700 | INFO | mt_metadata.timeseries.filters.channel_response | to_obspy | total sensitivity 99528330172.17546 != total gain 1048576000.000055. Using total_gain.\u001b[0m\n",
      "\u001b[1m2025-04-02T12:29:04.212705-0700 | INFO | mt_metadata.timeseries.filters.channel_response | to_obspy | total sensitivity 104398743147.64836 != total gain 1048576000.000055. Using total_gain.\u001b[0m\n",
      "\u001b[1m2025-04-02T12:29:04.303216-0700 | INFO | mt_metadata.timeseries.filters.channel_response | to_obspy | total sensitivity 104957842879.94406 != total gain 1048576000.000055. Using total_gain.\u001b[0m\n",
      "\u001b[1m2025-04-02T12:29:04.341478-0700 | INFO | mt_metadata.timeseries.filters.channel_response | to_obspy | total sensitivity 99528330172.17546 != total gain 1048576000.000055. Using total_gain.\u001b[0m\n",
      "\u001b[1m2025-04-02T12:29:04.386469-0700 | INFO | mt_metadata.timeseries.filters.channel_response | to_obspy | total sensitivity 104398743147.64836 != total gain 1048576000.000055. Using total_gain.\u001b[0m\n",
      "\u001b[1m2025-04-02T12:29:04.490991-0700 | INFO | mt_metadata.timeseries.filters.channel_response | to_obspy | total sensitivity 104957842879.94406 != total gain 1048576000.000055. Using total_gain.\u001b[0m\n",
      "\u001b[1m2025-04-02T12:29:04.522991-0700 | INFO | mt_metadata.timeseries.filters.channel_response | to_obspy | total sensitivity 99528330172.17546 != total gain 1048576000.000055. Using total_gain.\u001b[0m\n",
      "\u001b[1m2025-04-02T12:29:04.551540-0700 | INFO | mt_metadata.timeseries.filters.channel_response | to_obspy | total sensitivity 104398743147.64836 != total gain 1048576000.000055. Using total_gain.\u001b[0m\n",
      "\u001b[1m2025-04-02T12:29:04.583543-0700 | INFO | mth5.io.conversion | convert_mth5_to_ms_stationxml | Wrote StationXML to c:\\Users\\jpeacock\\OneDrive - DOI\\MTData\\CL2021\\archive\\to_dmc\\cl486.xml\u001b[0m\n",
      "\u001b[33m\u001b[1m2025-04-02T12:29:06.283167-0700 | WARNING | mt_metadata.timeseries.station | remove_run | Could not find cl491a to remove.\u001b[0m\n",
      "\u001b[1m2025-04-02T12:29:09.862374-0700 | INFO | mth5.io.conversion | split_ms_to_days | Wrote miniseed file to: c:\\Users\\jpeacock\\OneDrive - DOI\\MTData\\CL2021\\archive\\to_dmc\\1Z_CL491__LQN_2022_10_29T22_09_58.mseed\u001b[0m\n",
      "\u001b[1m2025-04-02T12:29:09.865373-0700 | INFO | mth5.io.conversion | split_ms_to_days | Wrote miniseed file to: c:\\Users\\jpeacock\\OneDrive - DOI\\MTData\\CL2021\\archive\\to_dmc\\1Z_CL491__LQN_2022_10_30T00_00_00.mseed\u001b[0m\n",
      "\u001b[1m2025-04-02T12:29:09.872404-0700 | INFO | mth5.io.conversion | split_ms_to_days | Wrote miniseed file to: c:\\Users\\jpeacock\\OneDrive - DOI\\MTData\\CL2021\\archive\\to_dmc\\1Z_CL491__LQE_2022_10_29T22_09_58.mseed\u001b[0m\n",
      "\u001b[1m2025-04-02T12:29:09.875371-0700 | INFO | mth5.io.conversion | split_ms_to_days | Wrote miniseed file to: c:\\Users\\jpeacock\\OneDrive - DOI\\MTData\\CL2021\\archive\\to_dmc\\1Z_CL491__LQE_2022_10_30T00_00_00.mseed\u001b[0m\n",
      "\u001b[1m2025-04-02T12:29:09.882372-0700 | INFO | mth5.io.conversion | split_ms_to_days | Wrote miniseed file to: c:\\Users\\jpeacock\\OneDrive - DOI\\MTData\\CL2021\\archive\\to_dmc\\1Z_CL491__LFN_2022_10_29T22_09_58.mseed\u001b[0m\n",
      "\u001b[1m2025-04-02T12:29:09.886381-0700 | INFO | mth5.io.conversion | split_ms_to_days | Wrote miniseed file to: c:\\Users\\jpeacock\\OneDrive - DOI\\MTData\\CL2021\\archive\\to_dmc\\1Z_CL491__LFN_2022_10_30T00_00_00.mseed\u001b[0m\n",
      "\u001b[1m2025-04-02T12:29:09.893370-0700 | INFO | mth5.io.conversion | split_ms_to_days | Wrote miniseed file to: c:\\Users\\jpeacock\\OneDrive - DOI\\MTData\\CL2021\\archive\\to_dmc\\1Z_CL491__LFE_2022_10_29T22_09_58.mseed\u001b[0m\n",
      "\u001b[1m2025-04-02T12:29:09.898373-0700 | INFO | mth5.io.conversion | split_ms_to_days | Wrote miniseed file to: c:\\Users\\jpeacock\\OneDrive - DOI\\MTData\\CL2021\\archive\\to_dmc\\1Z_CL491__LFE_2022_10_30T00_00_00.mseed\u001b[0m\n",
      "\u001b[1m2025-04-02T12:29:09.905375-0700 | INFO | mth5.io.conversion | split_ms_to_days | Wrote miniseed file to: c:\\Users\\jpeacock\\OneDrive - DOI\\MTData\\CL2021\\archive\\to_dmc\\1Z_CL491__LFZ_2022_10_29T22_09_58.mseed\u001b[0m\n",
      "\u001b[1m2025-04-02T12:29:09.908373-0700 | INFO | mth5.io.conversion | split_ms_to_days | Wrote miniseed file to: c:\\Users\\jpeacock\\OneDrive - DOI\\MTData\\CL2021\\archive\\to_dmc\\1Z_CL491__LFZ_2022_10_30T00_00_00.mseed\u001b[0m\n",
      "\u001b[1m2025-04-02T12:29:16.319830-0700 | INFO | mth5.io.conversion | split_ms_to_days | Wrote miniseed file to: c:\\Users\\jpeacock\\OneDrive - DOI\\MTData\\CL2021\\archive\\to_dmc\\1Z_CL491__CQN_2022_10_29T22_09_58.mseed\u001b[0m\n",
      "\u001b[1m2025-04-02T12:29:16.459981-0700 | INFO | mth5.io.conversion | split_ms_to_days | Wrote miniseed file to: c:\\Users\\jpeacock\\OneDrive - DOI\\MTData\\CL2021\\archive\\to_dmc\\1Z_CL491__CQN_2022_10_30T00_00_00.mseed\u001b[0m\n",
      "\u001b[1m2025-04-02T12:29:16.540989-0700 | INFO | mth5.io.conversion | split_ms_to_days | Wrote miniseed file to: c:\\Users\\jpeacock\\OneDrive - DOI\\MTData\\CL2021\\archive\\to_dmc\\1Z_CL491__CQE_2022_10_29T22_09_58.mseed\u001b[0m\n",
      "\u001b[1m2025-04-02T12:29:16.695066-0700 | INFO | mth5.io.conversion | split_ms_to_days | Wrote miniseed file to: c:\\Users\\jpeacock\\OneDrive - DOI\\MTData\\CL2021\\archive\\to_dmc\\1Z_CL491__CQE_2022_10_30T00_00_00.mseed\u001b[0m\n",
      "\u001b[1m2025-04-02T12:29:16.774593-0700 | INFO | mth5.io.conversion | split_ms_to_days | Wrote miniseed file to: c:\\Users\\jpeacock\\OneDrive - DOI\\MTData\\CL2021\\archive\\to_dmc\\1Z_CL491__CFN_2022_10_29T22_09_58.mseed\u001b[0m\n",
      "\u001b[1m2025-04-02T12:29:16.919131-0700 | INFO | mth5.io.conversion | split_ms_to_days | Wrote miniseed file to: c:\\Users\\jpeacock\\OneDrive - DOI\\MTData\\CL2021\\archive\\to_dmc\\1Z_CL491__CFN_2022_10_30T00_00_00.mseed\u001b[0m\n",
      "\u001b[1m2025-04-02T12:29:16.994648-0700 | INFO | mth5.io.conversion | split_ms_to_days | Wrote miniseed file to: c:\\Users\\jpeacock\\OneDrive - DOI\\MTData\\CL2021\\archive\\to_dmc\\1Z_CL491__CFE_2022_10_29T22_09_58.mseed\u001b[0m\n",
      "\u001b[1m2025-04-02T12:29:17.160707-0700 | INFO | mth5.io.conversion | split_ms_to_days | Wrote miniseed file to: c:\\Users\\jpeacock\\OneDrive - DOI\\MTData\\CL2021\\archive\\to_dmc\\1Z_CL491__CFE_2022_10_30T00_00_00.mseed\u001b[0m\n",
      "\u001b[1m2025-04-02T12:29:17.253231-0700 | INFO | mth5.io.conversion | split_ms_to_days | Wrote miniseed file to: c:\\Users\\jpeacock\\OneDrive - DOI\\MTData\\CL2021\\archive\\to_dmc\\1Z_CL491__CFZ_2022_10_29T22_09_58.mseed\u001b[0m\n",
      "\u001b[1m2025-04-02T12:29:17.398746-0700 | INFO | mth5.io.conversion | split_ms_to_days | Wrote miniseed file to: c:\\Users\\jpeacock\\OneDrive - DOI\\MTData\\CL2021\\archive\\to_dmc\\1Z_CL491__CFZ_2022_10_30T00_00_00.mseed\u001b[0m\n",
      "\u001b[1m2025-04-02T12:29:21.019558-0700 | INFO | mth5.timeseries.run_ts | _align_channels | Channels do not have a common end, using latest: 2022-10-30T01:09:41.998779296\u001b[0m\n",
      "\u001b[33m\u001b[1m2025-04-02T12:29:23.528409-0700 | WARNING | mth5.timeseries.run_ts | validate_metadata | end time of dataset 2022-10-30T01:09:41.998535156+00:00 does not match metadata end 2022-10-30T01:09:41.998779296+00:00 updating metatdata value to 2022-10-30T01:09:41.998535156+00:00\u001b[0m\n"
     ]
    },
    {
     "name": "stderr",
     "output_type": "stream",
     "text": [
      "C:\\Users\\jpeacock\\OneDrive - DOI\\Documents\\GitHub\\mth5\\mth5\\timeseries\\channel_ts.py:1524: RuntimeWarning: invalid value encountered in cast\n",
      "  obspy_trace = Trace(self.ts.astype(encoding_dict[encoding]))\n"
     ]
    },
    {
     "name": "stdout",
     "output_type": "stream",
     "text": [
      "\u001b[1m2025-04-02T12:29:24.242387-0700 | INFO | mth5.io.conversion | split_ms_to_days | Wrote miniseed file to: c:\\Users\\jpeacock\\OneDrive - DOI\\MTData\\CL2021\\archive\\to_dmc\\1Z_CL491__FQN_2022_10_30T00_59_58.mseed\u001b[0m\n",
      "\u001b[1m2025-04-02T12:29:24.430602-0700 | INFO | mth5.io.conversion | split_ms_to_days | Wrote miniseed file to: c:\\Users\\jpeacock\\OneDrive - DOI\\MTData\\CL2021\\archive\\to_dmc\\1Z_CL491__FQE_2022_10_30T00_59_58.mseed\u001b[0m\n",
      "\u001b[1m2025-04-02T12:29:24.624678-0700 | INFO | mth5.io.conversion | split_ms_to_days | Wrote miniseed file to: c:\\Users\\jpeacock\\OneDrive - DOI\\MTData\\CL2021\\archive\\to_dmc\\1Z_CL491__FFN_2022_10_30T00_59_58.mseed\u001b[0m\n",
      "\u001b[1m2025-04-02T12:29:24.823804-0700 | INFO | mth5.io.conversion | split_ms_to_days | Wrote miniseed file to: c:\\Users\\jpeacock\\OneDrive - DOI\\MTData\\CL2021\\archive\\to_dmc\\1Z_CL491__FFE_2022_10_30T00_59_58.mseed\u001b[0m\n",
      "\u001b[1m2025-04-02T12:29:25.016828-0700 | INFO | mth5.io.conversion | split_ms_to_days | Wrote miniseed file to: c:\\Users\\jpeacock\\OneDrive - DOI\\MTData\\CL2021\\archive\\to_dmc\\1Z_CL491__FFZ_2022_10_30T00_59_58.mseed\u001b[0m\n",
      "\u001b[1m2025-04-02T12:29:33.100282-0700 | INFO | mth5.timeseries.run_ts | _align_channels | Channels do not have a common end, using latest: 2022-10-30T06:59:41.968750000\u001b[0m\n",
      "\u001b[1m2025-04-02T12:29:36.135151-0700 | INFO | mth5.io.conversion | split_ms_to_days | Wrote miniseed file to: c:\\Users\\jpeacock\\OneDrive - DOI\\MTData\\CL2021\\archive\\to_dmc\\1Z_CL491__CQN_2022_10_30T01_09_58.mseed\u001b[0m\n",
      "\u001b[1m2025-04-02T12:29:36.601845-0700 | INFO | mth5.io.conversion | split_ms_to_days | Wrote miniseed file to: c:\\Users\\jpeacock\\OneDrive - DOI\\MTData\\CL2021\\archive\\to_dmc\\1Z_CL491__CQE_2022_10_30T01_09_58.mseed\u001b[0m\n",
      "\u001b[1m2025-04-02T12:29:37.107612-0700 | INFO | mth5.io.conversion | split_ms_to_days | Wrote miniseed file to: c:\\Users\\jpeacock\\OneDrive - DOI\\MTData\\CL2021\\archive\\to_dmc\\1Z_CL491__CFN_2022_10_30T01_09_58.mseed\u001b[0m\n",
      "\u001b[1m2025-04-02T12:29:37.632844-0700 | INFO | mth5.io.conversion | split_ms_to_days | Wrote miniseed file to: c:\\Users\\jpeacock\\OneDrive - DOI\\MTData\\CL2021\\archive\\to_dmc\\1Z_CL491__CFE_2022_10_30T01_09_58.mseed\u001b[0m\n",
      "\u001b[1m2025-04-02T12:29:38.129464-0700 | INFO | mth5.io.conversion | split_ms_to_days | Wrote miniseed file to: c:\\Users\\jpeacock\\OneDrive - DOI\\MTData\\CL2021\\archive\\to_dmc\\1Z_CL491__CFZ_2022_10_30T01_09_58.mseed\u001b[0m\n",
      "\u001b[1m2025-04-02T12:29:43.533230-0700 | INFO | mth5.timeseries.run_ts | _align_channels | Channels do not have a common end, using latest: 2022-10-30T07:09:41.998291015\u001b[0m\n",
      "\u001b[33m\u001b[1m2025-04-02T12:29:46.309933-0700 | WARNING | mth5.timeseries.run_ts | validate_metadata | end time of dataset 2022-10-30T07:09:41.998047+00:00 does not match metadata end 2022-10-30T07:09:41.998291015+00:00 updating metatdata value to 2022-10-30T07:09:41.998047+00:00\u001b[0m\n"
     ]
    },
    {
     "name": "stderr",
     "output_type": "stream",
     "text": [
      "C:\\Users\\jpeacock\\OneDrive - DOI\\Documents\\GitHub\\mth5\\mth5\\timeseries\\channel_ts.py:1524: RuntimeWarning: invalid value encountered in cast\n",
      "  obspy_trace = Trace(self.ts.astype(encoding_dict[encoding]))\n"
     ]
    },
    {
     "name": "stdout",
     "output_type": "stream",
     "text": [
      "\u001b[1m2025-04-02T12:29:47.502434-0700 | INFO | mth5.io.conversion | split_ms_to_days | Wrote miniseed file to: c:\\Users\\jpeacock\\OneDrive - DOI\\MTData\\CL2021\\archive\\to_dmc\\1Z_CL491__FQN_2022_10_30T06_59_58.mseed\u001b[0m\n",
      "\u001b[1m2025-04-02T12:29:47.757300-0700 | INFO | mth5.io.conversion | split_ms_to_days | Wrote miniseed file to: c:\\Users\\jpeacock\\OneDrive - DOI\\MTData\\CL2021\\archive\\to_dmc\\1Z_CL491__FQE_2022_10_30T06_59_58.mseed\u001b[0m\n",
      "\u001b[1m2025-04-02T12:29:48.076557-0700 | INFO | mth5.io.conversion | split_ms_to_days | Wrote miniseed file to: c:\\Users\\jpeacock\\OneDrive - DOI\\MTData\\CL2021\\archive\\to_dmc\\1Z_CL491__FFN_2022_10_30T06_59_58.mseed\u001b[0m\n",
      "\u001b[1m2025-04-02T12:29:48.294303-0700 | INFO | mth5.io.conversion | split_ms_to_days | Wrote miniseed file to: c:\\Users\\jpeacock\\OneDrive - DOI\\MTData\\CL2021\\archive\\to_dmc\\1Z_CL491__FFE_2022_10_30T06_59_58.mseed\u001b[0m\n",
      "\u001b[1m2025-04-02T12:29:48.655400-0700 | INFO | mth5.io.conversion | split_ms_to_days | Wrote miniseed file to: c:\\Users\\jpeacock\\OneDrive - DOI\\MTData\\CL2021\\archive\\to_dmc\\1Z_CL491__FFZ_2022_10_30T06_59_58.mseed\u001b[0m\n",
      "\u001b[1m2025-04-02T12:29:59.946844-0700 | INFO | mth5.io.conversion | split_ms_to_days | Wrote miniseed file to: c:\\Users\\jpeacock\\OneDrive - DOI\\MTData\\CL2021\\archive\\to_dmc\\1Z_CL491__CQN_2022_10_30T07_09_58.mseed\u001b[0m\n",
      "\u001b[1m2025-04-02T12:30:00.442671-0700 | INFO | mth5.io.conversion | split_ms_to_days | Wrote miniseed file to: c:\\Users\\jpeacock\\OneDrive - DOI\\MTData\\CL2021\\archive\\to_dmc\\1Z_CL491__CQE_2022_10_30T07_09_58.mseed\u001b[0m\n",
      "\u001b[1m2025-04-02T12:30:00.883507-0700 | INFO | mth5.io.conversion | split_ms_to_days | Wrote miniseed file to: c:\\Users\\jpeacock\\OneDrive - DOI\\MTData\\CL2021\\archive\\to_dmc\\1Z_CL491__CFN_2022_10_30T07_09_58.mseed\u001b[0m\n",
      "\u001b[1m2025-04-02T12:30:01.341507-0700 | INFO | mth5.io.conversion | split_ms_to_days | Wrote miniseed file to: c:\\Users\\jpeacock\\OneDrive - DOI\\MTData\\CL2021\\archive\\to_dmc\\1Z_CL491__CFE_2022_10_30T07_09_58.mseed\u001b[0m\n",
      "\u001b[1m2025-04-02T12:30:01.790951-0700 | INFO | mth5.io.conversion | split_ms_to_days | Wrote miniseed file to: c:\\Users\\jpeacock\\OneDrive - DOI\\MTData\\CL2021\\archive\\to_dmc\\1Z_CL491__CFZ_2022_10_30T07_09_58.mseed\u001b[0m\n",
      "\u001b[1m2025-04-02T12:30:05.674710-0700 | INFO | mth5.timeseries.run_ts | _align_channels | Channels do not have a common end, using latest: 2022-10-30T13:09:41.998779296\u001b[0m\n",
      "\u001b[33m\u001b[1m2025-04-02T12:30:08.210979-0700 | WARNING | mth5.timeseries.run_ts | validate_metadata | end time of dataset 2022-10-30T13:09:41.998535156+00:00 does not match metadata end 2022-10-30T13:09:41.998779296+00:00 updating metatdata value to 2022-10-30T13:09:41.998535156+00:00\u001b[0m\n"
     ]
    },
    {
     "name": "stderr",
     "output_type": "stream",
     "text": [
      "C:\\Users\\jpeacock\\OneDrive - DOI\\Documents\\GitHub\\mth5\\mth5\\timeseries\\channel_ts.py:1524: RuntimeWarning: invalid value encountered in cast\n",
      "  obspy_trace = Trace(self.ts.astype(encoding_dict[encoding]))\n"
     ]
    },
    {
     "name": "stdout",
     "output_type": "stream",
     "text": [
      "\u001b[1m2025-04-02T12:30:08.943640-0700 | INFO | mth5.io.conversion | split_ms_to_days | Wrote miniseed file to: c:\\Users\\jpeacock\\OneDrive - DOI\\MTData\\CL2021\\archive\\to_dmc\\1Z_CL491__FQN_2022_10_30T12_59_58.mseed\u001b[0m\n",
      "\u001b[1m2025-04-02T12:30:09.154911-0700 | INFO | mth5.io.conversion | split_ms_to_days | Wrote miniseed file to: c:\\Users\\jpeacock\\OneDrive - DOI\\MTData\\CL2021\\archive\\to_dmc\\1Z_CL491__FQE_2022_10_30T12_59_58.mseed\u001b[0m\n",
      "\u001b[1m2025-04-02T12:30:09.363952-0700 | INFO | mth5.io.conversion | split_ms_to_days | Wrote miniseed file to: c:\\Users\\jpeacock\\OneDrive - DOI\\MTData\\CL2021\\archive\\to_dmc\\1Z_CL491__FFN_2022_10_30T12_59_58.mseed\u001b[0m\n",
      "\u001b[1m2025-04-02T12:30:09.576793-0700 | INFO | mth5.io.conversion | split_ms_to_days | Wrote miniseed file to: c:\\Users\\jpeacock\\OneDrive - DOI\\MTData\\CL2021\\archive\\to_dmc\\1Z_CL491__FFE_2022_10_30T12_59_58.mseed\u001b[0m\n",
      "\u001b[1m2025-04-02T12:30:09.782741-0700 | INFO | mth5.io.conversion | split_ms_to_days | Wrote miniseed file to: c:\\Users\\jpeacock\\OneDrive - DOI\\MTData\\CL2021\\archive\\to_dmc\\1Z_CL491__FFZ_2022_10_30T12_59_58.mseed\u001b[0m\n",
      "\u001b[1m2025-04-02T12:30:14.417852-0700 | INFO | mth5.timeseries.run_ts | _align_channels | Channels do not have a common end, using latest: 2022-10-30T14:54:41.996094000\u001b[0m\n"
     ]
    },
    {
     "name": "stderr",
     "output_type": "stream",
     "text": [
      "C:\\Users\\jpeacock\\OneDrive - DOI\\Documents\\GitHub\\mth5\\mth5\\timeseries\\channel_ts.py:1524: RuntimeWarning: invalid value encountered in cast\n",
      "  obspy_trace = Trace(self.ts.astype(encoding_dict[encoding]))\n"
     ]
    },
    {
     "name": "stdout",
     "output_type": "stream",
     "text": [
      "\u001b[1m2025-04-02T12:30:15.769332-0700 | INFO | mth5.io.conversion | split_ms_to_days | Wrote miniseed file to: c:\\Users\\jpeacock\\OneDrive - DOI\\MTData\\CL2021\\archive\\to_dmc\\1Z_CL491__CQN_2022_10_30T13_09_58.mseed\u001b[0m\n",
      "\u001b[1m2025-04-02T12:30:15.899858-0700 | INFO | mth5.io.conversion | split_ms_to_days | Wrote miniseed file to: c:\\Users\\jpeacock\\OneDrive - DOI\\MTData\\CL2021\\archive\\to_dmc\\1Z_CL491__CQE_2022_10_30T13_09_58.mseed\u001b[0m\n",
      "\u001b[1m2025-04-02T12:30:16.035964-0700 | INFO | mth5.io.conversion | split_ms_to_days | Wrote miniseed file to: c:\\Users\\jpeacock\\OneDrive - DOI\\MTData\\CL2021\\archive\\to_dmc\\1Z_CL491__CFN_2022_10_30T13_09_58.mseed\u001b[0m\n",
      "\u001b[1m2025-04-02T12:30:16.180487-0700 | INFO | mth5.io.conversion | split_ms_to_days | Wrote miniseed file to: c:\\Users\\jpeacock\\OneDrive - DOI\\MTData\\CL2021\\archive\\to_dmc\\1Z_CL491__CFE_2022_10_30T13_09_58.mseed\u001b[0m\n",
      "\u001b[1m2025-04-02T12:30:16.321498-0700 | INFO | mth5.io.conversion | split_ms_to_days | Wrote miniseed file to: c:\\Users\\jpeacock\\OneDrive - DOI\\MTData\\CL2021\\archive\\to_dmc\\1Z_CL491__CFZ_2022_10_30T13_09_58.mseed\u001b[0m\n",
      "\u001b[1m2025-04-02T12:30:17.307363-0700 | INFO | mth5.mth5 | close_mth5 | Flushing and closing c:\\Users\\jpeacock\\OneDrive - DOI\\MTData\\CL2021\\archive\\cl491.h5\u001b[0m\n",
      "\u001b[33m\u001b[1m2025-04-02T12:30:17.311363-0700 | WARNING | mt_metadata.timeseries.stationxml.xml_station_mt_station | mt_to_xml | Station.geographic_name is None, using Station.id = cl491.Check StationXML site.name.\u001b[0m\n",
      "\u001b[1m2025-04-02T12:30:17.386557-0700 | INFO | mt_metadata.timeseries.filters.channel_response | to_obspy | total sensitivity 105384854631.2247 != total gain 1048576000.000055. Using total_gain.\u001b[0m\n",
      "\u001b[1m2025-04-02T12:30:17.422073-0700 | INFO | mt_metadata.timeseries.filters.channel_response | to_obspy | total sensitivity 105012851743.1351 != total gain 1048576000.000055. Using total_gain.\u001b[0m\n",
      "\u001b[1m2025-04-02T12:30:17.452071-0700 | INFO | mt_metadata.timeseries.filters.channel_response | to_obspy | total sensitivity 104693940307.89154 != total gain 1048576000.000055. Using total_gain.\u001b[0m\n",
      "\u001b[1m2025-04-02T12:30:17.541719-0700 | INFO | mt_metadata.timeseries.filters.channel_response | to_obspy | total sensitivity 105384854631.2247 != total gain 1048576000.000055. Using total_gain.\u001b[0m\n",
      "\u001b[1m2025-04-02T12:30:17.570496-0700 | INFO | mt_metadata.timeseries.filters.channel_response | to_obspy | total sensitivity 105012851743.1351 != total gain 1048576000.000055. Using total_gain.\u001b[0m\n",
      "\u001b[1m2025-04-02T12:30:17.599538-0700 | INFO | mt_metadata.timeseries.filters.channel_response | to_obspy | total sensitivity 104693940307.89154 != total gain 1048576000.000055. Using total_gain.\u001b[0m\n",
      "\u001b[1m2025-04-02T12:30:17.708432-0700 | INFO | mt_metadata.timeseries.filters.channel_response | to_obspy | total sensitivity 105384854631.2247 != total gain 1048576000.000055. Using total_gain.\u001b[0m\n",
      "\u001b[1m2025-04-02T12:30:17.748435-0700 | INFO | mt_metadata.timeseries.filters.channel_response | to_obspy | total sensitivity 105012851743.1351 != total gain 1048576000.000055. Using total_gain.\u001b[0m\n",
      "\u001b[1m2025-04-02T12:30:17.784470-0700 | INFO | mt_metadata.timeseries.filters.channel_response | to_obspy | total sensitivity 104693940307.89154 != total gain 1048576000.000055. Using total_gain.\u001b[0m\n",
      "\u001b[1m2025-04-02T12:30:17.884036-0700 | INFO | mt_metadata.timeseries.filters.channel_response | to_obspy | total sensitivity 105384854631.2247 != total gain 1048576000.000055. Using total_gain.\u001b[0m\n",
      "\u001b[1m2025-04-02T12:30:17.915549-0700 | INFO | mt_metadata.timeseries.filters.channel_response | to_obspy | total sensitivity 105012851743.1351 != total gain 1048576000.000055. Using total_gain.\u001b[0m\n",
      "\u001b[1m2025-04-02T12:30:17.950587-0700 | INFO | mt_metadata.timeseries.filters.channel_response | to_obspy | total sensitivity 104693940307.89154 != total gain 1048576000.000055. Using total_gain.\u001b[0m\n",
      "\u001b[1m2025-04-02T12:30:18.072145-0700 | INFO | mt_metadata.timeseries.filters.channel_response | to_obspy | total sensitivity 105384854631.2247 != total gain 1048576000.000055. Using total_gain.\u001b[0m\n",
      "\u001b[1m2025-04-02T12:30:18.106730-0700 | INFO | mt_metadata.timeseries.filters.channel_response | to_obspy | total sensitivity 105012851743.1351 != total gain 1048576000.000055. Using total_gain.\u001b[0m\n",
      "\u001b[1m2025-04-02T12:30:18.137734-0700 | INFO | mt_metadata.timeseries.filters.channel_response | to_obspy | total sensitivity 104693940307.89154 != total gain 1048576000.000055. Using total_gain.\u001b[0m\n",
      "\u001b[1m2025-04-02T12:30:18.234309-0700 | INFO | mt_metadata.timeseries.filters.channel_response | to_obspy | total sensitivity 105384854631.2247 != total gain 1048576000.000055. Using total_gain.\u001b[0m\n",
      "\u001b[1m2025-04-02T12:30:18.262313-0700 | INFO | mt_metadata.timeseries.filters.channel_response | to_obspy | total sensitivity 105012851743.1351 != total gain 1048576000.000055. Using total_gain.\u001b[0m\n",
      "\u001b[1m2025-04-02T12:30:18.292315-0700 | INFO | mt_metadata.timeseries.filters.channel_response | to_obspy | total sensitivity 104693940307.89154 != total gain 1048576000.000055. Using total_gain.\u001b[0m\n",
      "\u001b[1m2025-04-02T12:30:18.382900-0700 | INFO | mt_metadata.timeseries.filters.channel_response | to_obspy | total sensitivity 105384854631.2247 != total gain 1048576000.000055. Using total_gain.\u001b[0m\n",
      "\u001b[1m2025-04-02T12:30:18.414480-0700 | INFO | mt_metadata.timeseries.filters.channel_response | to_obspy | total sensitivity 105012851743.1351 != total gain 1048576000.000055. Using total_gain.\u001b[0m\n",
      "\u001b[1m2025-04-02T12:30:18.450887-0700 | INFO | mt_metadata.timeseries.filters.channel_response | to_obspy | total sensitivity 104693940307.89154 != total gain 1048576000.000055. Using total_gain.\u001b[0m\n",
      "\u001b[1m2025-04-02T12:30:18.546536-0700 | INFO | mt_metadata.timeseries.filters.channel_response | to_obspy | total sensitivity 105384854631.2247 != total gain 1048576000.000055. Using total_gain.\u001b[0m\n",
      "\u001b[1m2025-04-02T12:30:18.576544-0700 | INFO | mt_metadata.timeseries.filters.channel_response | to_obspy | total sensitivity 105012851743.1351 != total gain 1048576000.000055. Using total_gain.\u001b[0m\n",
      "\u001b[1m2025-04-02T12:30:18.606836-0700 | INFO | mt_metadata.timeseries.filters.channel_response | to_obspy | total sensitivity 104693940307.89154 != total gain 1048576000.000055. Using total_gain.\u001b[0m\n",
      "\u001b[1m2025-04-02T12:30:18.642842-0700 | INFO | mth5.io.conversion | convert_mth5_to_ms_stationxml | Wrote StationXML to c:\\Users\\jpeacock\\OneDrive - DOI\\MTData\\CL2021\\archive\\to_dmc\\cl491.xml\u001b[0m\n"
     ]
    }
   ],
   "source": [
    "for h5_file in Path(r\"c:\\Users\\jpeacock\\OneDrive - DOI\\MTData\\CL2021\\archive\").glob(\"*.h5\"):\n",
    "    if h5_file.name.startswith(\"cl3\") or h5_file.name.startswith(\"cl4\"):\n",
    "        try:\n",
    "            station_xml, ms_list = MTH5ToMiniSEEDStationXML.convert_mth5_to_ms_stationxml(\n",
    "                mth5_path=h5_file,\n",
    "                save_path=r\"c:\\Users\\jpeacock\\OneDrive - DOI\\MTData\\CL2021\\archive\\to_dmc\",\n",
    "                network_code=\"1Z\",\n",
    "                encoding=\"INT32\",\n",
    "            )\n",
    "        except Exception as error:\n",
    "            print(f\"FAILED: {h5_file}\\n{error}\")"
   ]
  },
  {
   "cell_type": "code",
   "execution_count": null,
   "metadata": {},
   "outputs": [],
   "source": []
  }
 ],
 "metadata": {
  "kernelspec": {
   "display_name": "py311",
   "language": "python",
   "name": "python3"
  },
  "language_info": {
   "codemirror_mode": {
    "name": "ipython",
    "version": 3
   },
   "file_extension": ".py",
   "mimetype": "text/x-python",
   "name": "python",
   "nbconvert_exporter": "python",
   "pygments_lexer": "ipython3",
   "version": "3.11.11"
  }
 },
 "nbformat": 4,
 "nbformat_minor": 2
}
