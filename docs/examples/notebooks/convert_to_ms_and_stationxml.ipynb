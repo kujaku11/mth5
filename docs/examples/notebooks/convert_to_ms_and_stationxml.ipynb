{
 "cells": [
  {
   "cell_type": "markdown",
   "metadata": {},
   "source": [
    "# Convert MTH5 to miniseed"
   ]
  },
  {
   "cell_type": "code",
   "execution_count": 3,
   "metadata": {},
   "outputs": [],
   "source": [
    "from pathlib import Path\n",
    "from mth5.io.conversion import MTH5ToMiniSEEDStationXML"
   ]
  },
  {
   "cell_type": "code",
   "execution_count": null,
   "metadata": {},
   "outputs": [
    {
     "name": "stdout",
     "output_type": "stream",
     "text": [
      "\u001b[1m2025-04-01T16:48:09.814093-0700 | INFO | mth5.io.conversion | split_ms_to_days | Wrote miniseed file to: c:\\Users\\jpeacock\\OneDrive - DOI\\MTData\\CL2021\\archive\\to_dmc\\1Z_CL008__LQN_2021_04_30T16_19_59.mseed\u001b[0m\n",
      "\u001b[1m2025-04-01T16:48:09.821094-0700 | INFO | mth5.io.conversion | split_ms_to_days | Wrote miniseed file to: c:\\Users\\jpeacock\\OneDrive - DOI\\MTData\\CL2021\\archive\\to_dmc\\1Z_CL008__LQN_2021_05_01T00_00_00.mseed\u001b[0m\n",
      "\u001b[1m2025-04-01T16:48:09.829094-0700 | INFO | mth5.io.conversion | split_ms_to_days | Wrote miniseed file to: c:\\Users\\jpeacock\\OneDrive - DOI\\MTData\\CL2021\\archive\\to_dmc\\1Z_CL008__LQE_2021_04_30T16_19_59.mseed\u001b[0m\n",
      "\u001b[1m2025-04-01T16:48:09.834095-0700 | INFO | mth5.io.conversion | split_ms_to_days | Wrote miniseed file to: c:\\Users\\jpeacock\\OneDrive - DOI\\MTData\\CL2021\\archive\\to_dmc\\1Z_CL008__LQE_2021_05_01T00_00_00.mseed\u001b[0m\n",
      "\u001b[1m2025-04-01T16:48:09.842100-0700 | INFO | mth5.io.conversion | split_ms_to_days | Wrote miniseed file to: c:\\Users\\jpeacock\\OneDrive - DOI\\MTData\\CL2021\\archive\\to_dmc\\1Z_CL008__LFN_2021_04_30T16_19_59.mseed\u001b[0m\n",
      "\u001b[1m2025-04-01T16:48:09.847121-0700 | INFO | mth5.io.conversion | split_ms_to_days | Wrote miniseed file to: c:\\Users\\jpeacock\\OneDrive - DOI\\MTData\\CL2021\\archive\\to_dmc\\1Z_CL008__LFN_2021_05_01T00_00_00.mseed\u001b[0m\n",
      "\u001b[1m2025-04-01T16:48:09.858100-0700 | INFO | mth5.io.conversion | split_ms_to_days | Wrote miniseed file to: c:\\Users\\jpeacock\\OneDrive - DOI\\MTData\\CL2021\\archive\\to_dmc\\1Z_CL008__LFE_2021_04_30T16_19_59.mseed\u001b[0m\n",
      "\u001b[1m2025-04-01T16:48:09.864096-0700 | INFO | mth5.io.conversion | split_ms_to_days | Wrote miniseed file to: c:\\Users\\jpeacock\\OneDrive - DOI\\MTData\\CL2021\\archive\\to_dmc\\1Z_CL008__LFE_2021_05_01T00_00_00.mseed\u001b[0m\n",
      "\u001b[1m2025-04-01T16:48:09.871109-0700 | INFO | mth5.io.conversion | split_ms_to_days | Wrote miniseed file to: c:\\Users\\jpeacock\\OneDrive - DOI\\MTData\\CL2021\\archive\\to_dmc\\1Z_CL008__LFZ_2021_04_30T16_19_59.mseed\u001b[0m\n",
      "\u001b[1m2025-04-01T16:48:09.876106-0700 | INFO | mth5.io.conversion | split_ms_to_days | Wrote miniseed file to: c:\\Users\\jpeacock\\OneDrive - DOI\\MTData\\CL2021\\archive\\to_dmc\\1Z_CL008__LFZ_2021_05_01T00_00_00.mseed\u001b[0m\n",
      "\u001b[1m2025-04-01T16:48:14.236471-0700 | INFO | mth5.timeseries.run_ts | _align_channels | Channels do not have a common end, using latest: 2021-04-30T18:59:43.996094000\u001b[0m\n"
     ]
    },
    {
     "name": "stderr",
     "output_type": "stream",
     "text": [
      "C:\\Users\\jpeacock\\OneDrive - DOI\\Documents\\GitHub\\mth5\\mth5\\timeseries\\channel_ts.py:1524: RuntimeWarning: invalid value encountered in cast\n",
      "  obspy_trace = Trace(self.ts.astype(encoding_dict[encoding]))\n"
     ]
    },
    {
     "name": "stdout",
     "output_type": "stream",
     "text": [
      "\u001b[1m2025-04-01T16:48:17.449262-0700 | INFO | mth5.io.conversion | split_ms_to_days | Wrote miniseed file to: c:\\Users\\jpeacock\\OneDrive - DOI\\MTData\\CL2021\\archive\\to_dmc\\1Z_CL008__CQN_2021_04_30T16_19_59.mseed\u001b[0m\n",
      "\u001b[1m2025-04-01T16:48:17.655372-0700 | INFO | mth5.io.conversion | split_ms_to_days | Wrote miniseed file to: c:\\Users\\jpeacock\\OneDrive - DOI\\MTData\\CL2021\\archive\\to_dmc\\1Z_CL008__CQE_2021_04_30T16_19_59.mseed\u001b[0m\n",
      "\u001b[1m2025-04-01T16:48:17.860889-0700 | INFO | mth5.io.conversion | split_ms_to_days | Wrote miniseed file to: c:\\Users\\jpeacock\\OneDrive - DOI\\MTData\\CL2021\\archive\\to_dmc\\1Z_CL008__CFN_2021_04_30T16_19_59.mseed\u001b[0m\n",
      "\u001b[1m2025-04-01T16:48:18.057590-0700 | INFO | mth5.io.conversion | split_ms_to_days | Wrote miniseed file to: c:\\Users\\jpeacock\\OneDrive - DOI\\MTData\\CL2021\\archive\\to_dmc\\1Z_CL008__CFE_2021_04_30T16_19_59.mseed\u001b[0m\n",
      "\u001b[1m2025-04-01T16:48:18.261694-0700 | INFO | mth5.io.conversion | split_ms_to_days | Wrote miniseed file to: c:\\Users\\jpeacock\\OneDrive - DOI\\MTData\\CL2021\\archive\\to_dmc\\1Z_CL008__CFZ_2021_04_30T16_19_59.mseed\u001b[0m\n",
      "\u001b[1m2025-04-01T16:48:21.793216-0700 | INFO | mth5.timeseries.run_ts | _align_channels | Channels do not have a common end, using latest: 2021-04-30T19:09:43.998779296\u001b[0m\n",
      "\u001b[33m\u001b[1m2025-04-01T16:48:24.558740-0700 | WARNING | mth5.timeseries.run_ts | validate_metadata | end time of dataset 2021-04-30T19:09:43.998535156+00:00 does not match metadata end 2021-04-30T19:09:43.998779296+00:00 updating metatdata value to 2021-04-30T19:09:43.998535156+00:00\u001b[0m\n"
     ]
    },
    {
     "name": "stderr",
     "output_type": "stream",
     "text": [
      "C:\\Users\\jpeacock\\OneDrive - DOI\\Documents\\GitHub\\mth5\\mth5\\timeseries\\channel_ts.py:1524: RuntimeWarning: invalid value encountered in cast\n",
      "  obspy_trace = Trace(self.ts.astype(encoding_dict[encoding]))\n"
     ]
    },
    {
     "name": "stdout",
     "output_type": "stream",
     "text": [
      "\u001b[1m2025-04-01T16:48:25.303057-0700 | INFO | mth5.io.conversion | split_ms_to_days | Wrote miniseed file to: c:\\Users\\jpeacock\\OneDrive - DOI\\MTData\\CL2021\\archive\\to_dmc\\1Z_CL008__FQN_2021_04_30T18_59_59.mseed\u001b[0m\n",
      "\u001b[1m2025-04-01T16:48:25.510699-0700 | INFO | mth5.io.conversion | split_ms_to_days | Wrote miniseed file to: c:\\Users\\jpeacock\\OneDrive - DOI\\MTData\\CL2021\\archive\\to_dmc\\1Z_CL008__FQE_2021_04_30T18_59_59.mseed\u001b[0m\n",
      "\u001b[1m2025-04-01T16:48:25.720671-0700 | INFO | mth5.io.conversion | split_ms_to_days | Wrote miniseed file to: c:\\Users\\jpeacock\\OneDrive - DOI\\MTData\\CL2021\\archive\\to_dmc\\1Z_CL008__FFN_2021_04_30T18_59_59.mseed\u001b[0m\n",
      "\u001b[1m2025-04-01T16:48:25.926815-0700 | INFO | mth5.io.conversion | split_ms_to_days | Wrote miniseed file to: c:\\Users\\jpeacock\\OneDrive - DOI\\MTData\\CL2021\\archive\\to_dmc\\1Z_CL008__FFE_2021_04_30T18_59_59.mseed\u001b[0m\n",
      "\u001b[1m2025-04-01T16:48:26.136999-0700 | INFO | mth5.io.conversion | split_ms_to_days | Wrote miniseed file to: c:\\Users\\jpeacock\\OneDrive - DOI\\MTData\\CL2021\\archive\\to_dmc\\1Z_CL008__FFZ_2021_04_30T18_59_59.mseed\u001b[0m\n",
      "\u001b[1m2025-04-01T16:48:32.744247-0700 | INFO | mth5.timeseries.run_ts | _align_channels | Channels do not have a common end, using latest: 2021-05-01T00:59:43.996094000\u001b[0m\n"
     ]
    },
    {
     "name": "stderr",
     "output_type": "stream",
     "text": [
      "C:\\Users\\jpeacock\\OneDrive - DOI\\Documents\\GitHub\\mth5\\mth5\\timeseries\\channel_ts.py:1524: RuntimeWarning: invalid value encountered in cast\n",
      "  obspy_trace = Trace(self.ts.astype(encoding_dict[encoding]))\n"
     ]
    },
    {
     "name": "stdout",
     "output_type": "stream",
     "text": [
      "\u001b[1m2025-04-01T16:48:39.444253-0700 | INFO | mth5.io.conversion | split_ms_to_days | Wrote miniseed file to: c:\\Users\\jpeacock\\OneDrive - DOI\\MTData\\CL2021\\archive\\to_dmc\\1Z_CL008__CQN_2021_04_30T19_09_59.mseed\u001b[0m\n",
      "\u001b[1m2025-04-01T16:48:39.872980-0700 | INFO | mth5.io.conversion | split_ms_to_days | Wrote miniseed file to: c:\\Users\\jpeacock\\OneDrive - DOI\\MTData\\CL2021\\archive\\to_dmc\\1Z_CL008__CQN_2021_05_01T00_00_00.mseed\u001b[0m\n",
      "\u001b[1m2025-04-01T16:48:39.952598-0700 | INFO | mth5.io.conversion | split_ms_to_days | Wrote miniseed file to: c:\\Users\\jpeacock\\OneDrive - DOI\\MTData\\CL2021\\archive\\to_dmc\\1Z_CL008__CQE_2021_04_30T19_09_59.mseed\u001b[0m\n",
      "\u001b[1m2025-04-01T16:48:40.335940-0700 | INFO | mth5.io.conversion | split_ms_to_days | Wrote miniseed file to: c:\\Users\\jpeacock\\OneDrive - DOI\\MTData\\CL2021\\archive\\to_dmc\\1Z_CL008__CQE_2021_05_01T00_00_00.mseed\u001b[0m\n",
      "\u001b[1m2025-04-01T16:48:40.416576-0700 | INFO | mth5.io.conversion | split_ms_to_days | Wrote miniseed file to: c:\\Users\\jpeacock\\OneDrive - DOI\\MTData\\CL2021\\archive\\to_dmc\\1Z_CL008__CFN_2021_04_30T19_09_59.mseed\u001b[0m\n",
      "\u001b[1m2025-04-01T16:48:40.868572-0700 | INFO | mth5.io.conversion | split_ms_to_days | Wrote miniseed file to: c:\\Users\\jpeacock\\OneDrive - DOI\\MTData\\CL2021\\archive\\to_dmc\\1Z_CL008__CFN_2021_05_01T00_00_00.mseed\u001b[0m\n",
      "\u001b[1m2025-04-01T16:48:40.966010-0700 | INFO | mth5.io.conversion | split_ms_to_days | Wrote miniseed file to: c:\\Users\\jpeacock\\OneDrive - DOI\\MTData\\CL2021\\archive\\to_dmc\\1Z_CL008__CFE_2021_04_30T19_09_59.mseed\u001b[0m\n",
      "\u001b[1m2025-04-01T16:48:41.376886-0700 | INFO | mth5.io.conversion | split_ms_to_days | Wrote miniseed file to: c:\\Users\\jpeacock\\OneDrive - DOI\\MTData\\CL2021\\archive\\to_dmc\\1Z_CL008__CFE_2021_05_01T00_00_00.mseed\u001b[0m\n",
      "\u001b[1m2025-04-01T16:48:41.490409-0700 | INFO | mth5.io.conversion | split_ms_to_days | Wrote miniseed file to: c:\\Users\\jpeacock\\OneDrive - DOI\\MTData\\CL2021\\archive\\to_dmc\\1Z_CL008__CFZ_2021_04_30T19_09_59.mseed\u001b[0m\n",
      "\u001b[1m2025-04-01T16:48:41.884560-0700 | INFO | mth5.io.conversion | split_ms_to_days | Wrote miniseed file to: c:\\Users\\jpeacock\\OneDrive - DOI\\MTData\\CL2021\\archive\\to_dmc\\1Z_CL008__CFZ_2021_05_01T00_00_00.mseed\u001b[0m\n",
      "\u001b[1m2025-04-01T16:48:45.254892-0700 | INFO | mth5.timeseries.run_ts | _align_channels | Channels do not have a common end, using latest: 2021-05-01T01:09:43.997803000\u001b[0m\n"
     ]
    },
    {
     "name": "stderr",
     "output_type": "stream",
     "text": [
      "C:\\Users\\jpeacock\\OneDrive - DOI\\Documents\\GitHub\\mth5\\mth5\\timeseries\\channel_ts.py:1524: RuntimeWarning: invalid value encountered in cast\n",
      "  obspy_trace = Trace(self.ts.astype(encoding_dict[encoding]))\n"
     ]
    },
    {
     "name": "stdout",
     "output_type": "stream",
     "text": [
      "\u001b[1m2025-04-01T16:48:48.091657-0700 | INFO | mth5.io.conversion | split_ms_to_days | Wrote miniseed file to: c:\\Users\\jpeacock\\OneDrive - DOI\\MTData\\CL2021\\archive\\to_dmc\\1Z_CL008__FQN_2021_05_01T00_59_59.mseed\u001b[0m\n",
      "\u001b[1m2025-04-01T16:48:48.304038-0700 | INFO | mth5.io.conversion | split_ms_to_days | Wrote miniseed file to: c:\\Users\\jpeacock\\OneDrive - DOI\\MTData\\CL2021\\archive\\to_dmc\\1Z_CL008__FQE_2021_05_01T00_59_59.mseed\u001b[0m\n",
      "\u001b[1m2025-04-01T16:48:48.529781-0700 | INFO | mth5.io.conversion | split_ms_to_days | Wrote miniseed file to: c:\\Users\\jpeacock\\OneDrive - DOI\\MTData\\CL2021\\archive\\to_dmc\\1Z_CL008__FFN_2021_05_01T00_59_59.mseed\u001b[0m\n",
      "\u001b[1m2025-04-01T16:48:48.729882-0700 | INFO | mth5.io.conversion | split_ms_to_days | Wrote miniseed file to: c:\\Users\\jpeacock\\OneDrive - DOI\\MTData\\CL2021\\archive\\to_dmc\\1Z_CL008__FFE_2021_05_01T00_59_59.mseed\u001b[0m\n",
      "\u001b[1m2025-04-01T16:48:48.946352-0700 | INFO | mth5.io.conversion | split_ms_to_days | Wrote miniseed file to: c:\\Users\\jpeacock\\OneDrive - DOI\\MTData\\CL2021\\archive\\to_dmc\\1Z_CL008__FFZ_2021_05_01T00_59_59.mseed\u001b[0m\n",
      "\u001b[1m2025-04-01T16:48:55.496566-0700 | INFO | mth5.timeseries.run_ts | _align_channels | Channels do not have a common end, using latest: 2021-05-01T06:59:43.996094000\u001b[0m\n"
     ]
    },
    {
     "name": "stderr",
     "output_type": "stream",
     "text": [
      "C:\\Users\\jpeacock\\OneDrive - DOI\\Documents\\GitHub\\mth5\\mth5\\timeseries\\channel_ts.py:1524: RuntimeWarning: invalid value encountered in cast\n",
      "  obspy_trace = Trace(self.ts.astype(encoding_dict[encoding]))\n"
     ]
    },
    {
     "name": "stdout",
     "output_type": "stream",
     "text": [
      "\u001b[1m2025-04-01T16:49:02.187415-0700 | INFO | mth5.io.conversion | split_ms_to_days | Wrote miniseed file to: c:\\Users\\jpeacock\\OneDrive - DOI\\MTData\\CL2021\\archive\\to_dmc\\1Z_CL008__CQN_2021_05_01T01_09_59.mseed\u001b[0m\n",
      "\u001b[1m2025-04-01T16:49:02.644230-0700 | INFO | mth5.io.conversion | split_ms_to_days | Wrote miniseed file to: c:\\Users\\jpeacock\\OneDrive - DOI\\MTData\\CL2021\\archive\\to_dmc\\1Z_CL008__CQE_2021_05_01T01_09_59.mseed\u001b[0m\n",
      "\u001b[1m2025-04-01T16:49:03.094097-0700 | INFO | mth5.io.conversion | split_ms_to_days | Wrote miniseed file to: c:\\Users\\jpeacock\\OneDrive - DOI\\MTData\\CL2021\\archive\\to_dmc\\1Z_CL008__CFN_2021_05_01T01_09_59.mseed\u001b[0m\n",
      "\u001b[1m2025-04-01T16:49:03.533322-0700 | INFO | mth5.io.conversion | split_ms_to_days | Wrote miniseed file to: c:\\Users\\jpeacock\\OneDrive - DOI\\MTData\\CL2021\\archive\\to_dmc\\1Z_CL008__CFE_2021_05_01T01_09_59.mseed\u001b[0m\n",
      "\u001b[1m2025-04-01T16:49:03.994791-0700 | INFO | mth5.io.conversion | split_ms_to_days | Wrote miniseed file to: c:\\Users\\jpeacock\\OneDrive - DOI\\MTData\\CL2021\\archive\\to_dmc\\1Z_CL008__CFZ_2021_05_01T01_09_59.mseed\u001b[0m\n",
      "\u001b[1m2025-04-01T16:49:07.546928-0700 | INFO | mth5.timeseries.run_ts | _align_channels | Channels do not have a common end, using latest: 2021-05-01T07:09:43.999512000\u001b[0m\n"
     ]
    },
    {
     "name": "stderr",
     "output_type": "stream",
     "text": [
      "C:\\Users\\jpeacock\\OneDrive - DOI\\Documents\\GitHub\\mth5\\mth5\\timeseries\\channel_ts.py:1524: RuntimeWarning: invalid value encountered in cast\n",
      "  obspy_trace = Trace(self.ts.astype(encoding_dict[encoding]))\n"
     ]
    },
    {
     "name": "stdout",
     "output_type": "stream",
     "text": [
      "\u001b[1m2025-04-01T16:49:10.487446-0700 | INFO | mth5.io.conversion | split_ms_to_days | Wrote miniseed file to: c:\\Users\\jpeacock\\OneDrive - DOI\\MTData\\CL2021\\archive\\to_dmc\\1Z_CL008__FQN_2021_05_01T06_59_59.mseed\u001b[0m\n",
      "\u001b[1m2025-04-01T16:49:10.702523-0700 | INFO | mth5.io.conversion | split_ms_to_days | Wrote miniseed file to: c:\\Users\\jpeacock\\OneDrive - DOI\\MTData\\CL2021\\archive\\to_dmc\\1Z_CL008__FQE_2021_05_01T06_59_59.mseed\u001b[0m\n",
      "\u001b[1m2025-04-01T16:49:10.892699-0700 | INFO | mth5.io.conversion | split_ms_to_days | Wrote miniseed file to: c:\\Users\\jpeacock\\OneDrive - DOI\\MTData\\CL2021\\archive\\to_dmc\\1Z_CL008__FFN_2021_05_01T06_59_59.mseed\u001b[0m\n",
      "\u001b[1m2025-04-01T16:49:11.083850-0700 | INFO | mth5.io.conversion | split_ms_to_days | Wrote miniseed file to: c:\\Users\\jpeacock\\OneDrive - DOI\\MTData\\CL2021\\archive\\to_dmc\\1Z_CL008__FFE_2021_05_01T06_59_59.mseed\u001b[0m\n",
      "\u001b[1m2025-04-01T16:49:11.290024-0700 | INFO | mth5.io.conversion | split_ms_to_days | Wrote miniseed file to: c:\\Users\\jpeacock\\OneDrive - DOI\\MTData\\CL2021\\archive\\to_dmc\\1Z_CL008__FFZ_2021_05_01T06_59_59.mseed\u001b[0m\n",
      "\u001b[1m2025-04-01T16:49:17.629529-0700 | INFO | mth5.timeseries.run_ts | _align_channels | Channels do not have a common end, using latest: 2021-05-01T12:59:43.996094000\u001b[0m\n"
     ]
    },
    {
     "name": "stderr",
     "output_type": "stream",
     "text": [
      "C:\\Users\\jpeacock\\OneDrive - DOI\\Documents\\GitHub\\mth5\\mth5\\timeseries\\channel_ts.py:1524: RuntimeWarning: invalid value encountered in cast\n",
      "  obspy_trace = Trace(self.ts.astype(encoding_dict[encoding]))\n"
     ]
    },
    {
     "name": "stdout",
     "output_type": "stream",
     "text": [
      "\u001b[1m2025-04-01T16:49:23.178730-0700 | INFO | mth5.io.conversion | split_ms_to_days | Wrote miniseed file to: c:\\Users\\jpeacock\\OneDrive - DOI\\MTData\\CL2021\\archive\\to_dmc\\1Z_CL008__CQN_2021_05_01T07_09_59.mseed\u001b[0m\n",
      "\u001b[1m2025-04-01T16:49:24.096821-0700 | INFO | mth5.io.conversion | split_ms_to_days | Wrote miniseed file to: c:\\Users\\jpeacock\\OneDrive - DOI\\MTData\\CL2021\\archive\\to_dmc\\1Z_CL008__CQE_2021_05_01T07_09_59.mseed\u001b[0m\n",
      "\u001b[1m2025-04-01T16:49:24.566610-0700 | INFO | mth5.io.conversion | split_ms_to_days | Wrote miniseed file to: c:\\Users\\jpeacock\\OneDrive - DOI\\MTData\\CL2021\\archive\\to_dmc\\1Z_CL008__CFN_2021_05_01T07_09_59.mseed\u001b[0m\n",
      "\u001b[1m2025-04-01T16:49:25.040837-0700 | INFO | mth5.io.conversion | split_ms_to_days | Wrote miniseed file to: c:\\Users\\jpeacock\\OneDrive - DOI\\MTData\\CL2021\\archive\\to_dmc\\1Z_CL008__CFE_2021_05_01T07_09_59.mseed\u001b[0m\n",
      "\u001b[1m2025-04-01T16:49:25.498954-0700 | INFO | mth5.io.conversion | split_ms_to_days | Wrote miniseed file to: c:\\Users\\jpeacock\\OneDrive - DOI\\MTData\\CL2021\\archive\\to_dmc\\1Z_CL008__CFZ_2021_05_01T07_09_59.mseed\u001b[0m\n",
      "\u001b[1m2025-04-01T16:49:29.105740-0700 | INFO | mth5.timeseries.run_ts | _align_channels | Channels do not have a common end, using latest: 2021-05-01T13:09:43.998535156\u001b[0m\n",
      "\u001b[33m\u001b[1m2025-04-01T16:49:31.702553-0700 | WARNING | mth5.timeseries.run_ts | validate_metadata | end time of dataset 2021-05-01T13:09:43.998291015+00:00 does not match metadata end 2021-05-01T13:09:43.998535156+00:00 updating metatdata value to 2021-05-01T13:09:43.998291015+00:00\u001b[0m\n"
     ]
    },
    {
     "name": "stderr",
     "output_type": "stream",
     "text": [
      "C:\\Users\\jpeacock\\OneDrive - DOI\\Documents\\GitHub\\mth5\\mth5\\timeseries\\channel_ts.py:1524: RuntimeWarning: invalid value encountered in cast\n",
      "  obspy_trace = Trace(self.ts.astype(encoding_dict[encoding]))\n"
     ]
    },
    {
     "name": "stdout",
     "output_type": "stream",
     "text": [
      "\u001b[1m2025-04-01T16:49:32.764903-0700 | INFO | mth5.io.conversion | split_ms_to_days | Wrote miniseed file to: c:\\Users\\jpeacock\\OneDrive - DOI\\MTData\\CL2021\\archive\\to_dmc\\1Z_CL008__FQN_2021_05_01T12_59_59.mseed\u001b[0m\n",
      "\u001b[1m2025-04-01T16:49:32.960211-0700 | INFO | mth5.io.conversion | split_ms_to_days | Wrote miniseed file to: c:\\Users\\jpeacock\\OneDrive - DOI\\MTData\\CL2021\\archive\\to_dmc\\1Z_CL008__FQE_2021_05_01T12_59_59.mseed\u001b[0m\n",
      "\u001b[1m2025-04-01T16:49:33.169890-0700 | INFO | mth5.io.conversion | split_ms_to_days | Wrote miniseed file to: c:\\Users\\jpeacock\\OneDrive - DOI\\MTData\\CL2021\\archive\\to_dmc\\1Z_CL008__FFN_2021_05_01T12_59_59.mseed\u001b[0m\n",
      "\u001b[1m2025-04-01T16:49:33.381249-0700 | INFO | mth5.io.conversion | split_ms_to_days | Wrote miniseed file to: c:\\Users\\jpeacock\\OneDrive - DOI\\MTData\\CL2021\\archive\\to_dmc\\1Z_CL008__FFE_2021_05_01T12_59_59.mseed\u001b[0m\n",
      "\u001b[1m2025-04-01T16:49:33.581590-0700 | INFO | mth5.io.conversion | split_ms_to_days | Wrote miniseed file to: c:\\Users\\jpeacock\\OneDrive - DOI\\MTData\\CL2021\\archive\\to_dmc\\1Z_CL008__FFZ_2021_05_01T12_59_59.mseed\u001b[0m\n",
      "\u001b[1m2025-04-01T16:49:37.917244-0700 | INFO | mth5.timeseries.run_ts | _align_channels | Channels do not have a common end, using latest: 2021-05-01T15:13:34.996094000\u001b[0m\n"
     ]
    },
    {
     "name": "stderr",
     "output_type": "stream",
     "text": [
      "C:\\Users\\jpeacock\\OneDrive - DOI\\Documents\\GitHub\\mth5\\mth5\\timeseries\\channel_ts.py:1524: RuntimeWarning: invalid value encountered in cast\n",
      "  obspy_trace = Trace(self.ts.astype(encoding_dict[encoding]))\n"
     ]
    },
    {
     "name": "stdout",
     "output_type": "stream",
     "text": [
      "\u001b[1m2025-04-01T16:49:39.842071-0700 | INFO | mth5.io.conversion | split_ms_to_days | Wrote miniseed file to: c:\\Users\\jpeacock\\OneDrive - DOI\\MTData\\CL2021\\archive\\to_dmc\\1Z_CL008__CQN_2021_05_01T13_09_59.mseed\u001b[0m\n",
      "\u001b[1m2025-04-01T16:49:40.024709-0700 | INFO | mth5.io.conversion | split_ms_to_days | Wrote miniseed file to: c:\\Users\\jpeacock\\OneDrive - DOI\\MTData\\CL2021\\archive\\to_dmc\\1Z_CL008__CQE_2021_05_01T13_09_59.mseed\u001b[0m\n",
      "\u001b[1m2025-04-01T16:49:40.181850-0700 | INFO | mth5.io.conversion | split_ms_to_days | Wrote miniseed file to: c:\\Users\\jpeacock\\OneDrive - DOI\\MTData\\CL2021\\archive\\to_dmc\\1Z_CL008__CFN_2021_05_01T13_09_59.mseed\u001b[0m\n",
      "\u001b[1m2025-04-01T16:49:40.332426-0700 | INFO | mth5.io.conversion | split_ms_to_days | Wrote miniseed file to: c:\\Users\\jpeacock\\OneDrive - DOI\\MTData\\CL2021\\archive\\to_dmc\\1Z_CL008__CFE_2021_05_01T13_09_59.mseed\u001b[0m\n",
      "\u001b[1m2025-04-01T16:49:40.490529-0700 | INFO | mth5.io.conversion | split_ms_to_days | Wrote miniseed file to: c:\\Users\\jpeacock\\OneDrive - DOI\\MTData\\CL2021\\archive\\to_dmc\\1Z_CL008__CFZ_2021_05_01T13_09_59.mseed\u001b[0m\n",
      "\u001b[1m2025-04-01T16:49:41.670964-0700 | INFO | mth5.mth5 | close_mth5 | Flushing and closing c:\\Users\\jpeacock\\OneDrive - DOI\\MTData\\CL2021\\archive\\cl008.h5\u001b[0m\n",
      "\u001b[33m\u001b[1m2025-04-01T16:49:41.674964-0700 | WARNING | mt_metadata.timeseries.stationxml.xml_station_mt_station | mt_to_xml | Station.geographic_name is None, using Station.id = cl008.Check StationXML site.name.\u001b[0m\n",
      "\u001b[1m2025-04-01T16:49:41.763652-0700 | INFO | mt_metadata.timeseries.filters.channel_response | to_obspy | total sensitivity 104957842879.94406 != total gain 1048576000.000055. Using total_gain.\u001b[0m\n",
      "\u001b[1m2025-04-01T16:49:41.793652-0700 | INFO | mt_metadata.timeseries.filters.channel_response | to_obspy | total sensitivity 99528330172.17546 != total gain 1048576000.000055. Using total_gain.\u001b[0m\n",
      "\u001b[1m2025-04-01T16:49:41.825685-0700 | INFO | mt_metadata.timeseries.filters.channel_response | to_obspy | total sensitivity 104398743147.64836 != total gain 1048576000.000055. Using total_gain.\u001b[0m\n",
      "\u001b[1m2025-04-01T16:49:41.924242-0700 | INFO | mt_metadata.timeseries.filters.channel_response | to_obspy | total sensitivity 104957842879.94406 != total gain 1048576000.000055. Using total_gain.\u001b[0m\n",
      "\u001b[1m2025-04-01T16:49:41.952219-0700 | INFO | mt_metadata.timeseries.filters.channel_response | to_obspy | total sensitivity 99528330172.17546 != total gain 1048576000.000055. Using total_gain.\u001b[0m\n",
      "\u001b[1m2025-04-01T16:49:41.982807-0700 | INFO | mt_metadata.timeseries.filters.channel_response | to_obspy | total sensitivity 104398743147.64836 != total gain 1048576000.000055. Using total_gain.\u001b[0m\n",
      "\u001b[1m2025-04-01T16:49:42.075423-0700 | INFO | mt_metadata.timeseries.filters.channel_response | to_obspy | total sensitivity 104957842879.94406 != total gain 1048576000.000055. Using total_gain.\u001b[0m\n",
      "\u001b[1m2025-04-01T16:49:42.107422-0700 | INFO | mt_metadata.timeseries.filters.channel_response | to_obspy | total sensitivity 99528330172.17546 != total gain 1048576000.000055. Using total_gain.\u001b[0m\n",
      "\u001b[1m2025-04-01T16:49:42.135393-0700 | INFO | mt_metadata.timeseries.filters.channel_response | to_obspy | total sensitivity 104398743147.64836 != total gain 1048576000.000055. Using total_gain.\u001b[0m\n",
      "\u001b[1m2025-04-01T16:49:42.229980-0700 | INFO | mt_metadata.timeseries.filters.channel_response | to_obspy | total sensitivity 104957842879.94406 != total gain 1048576000.000055. Using total_gain.\u001b[0m\n",
      "\u001b[1m2025-04-01T16:49:42.261492-0700 | INFO | mt_metadata.timeseries.filters.channel_response | to_obspy | total sensitivity 99528330172.17546 != total gain 1048576000.000055. Using total_gain.\u001b[0m\n",
      "\u001b[1m2025-04-01T16:49:42.292498-0700 | INFO | mt_metadata.timeseries.filters.channel_response | to_obspy | total sensitivity 104398743147.64836 != total gain 1048576000.000055. Using total_gain.\u001b[0m\n",
      "\u001b[1m2025-04-01T16:49:42.383147-0700 | INFO | mt_metadata.timeseries.filters.channel_response | to_obspy | total sensitivity 104957842879.94406 != total gain 1048576000.000055. Using total_gain.\u001b[0m\n",
      "\u001b[1m2025-04-01T16:49:42.411146-0700 | INFO | mt_metadata.timeseries.filters.channel_response | to_obspy | total sensitivity 99528330172.17546 != total gain 1048576000.000055. Using total_gain.\u001b[0m\n",
      "\u001b[1m2025-04-01T16:49:42.460129-0700 | INFO | mt_metadata.timeseries.filters.channel_response | to_obspy | total sensitivity 104398743147.64836 != total gain 1048576000.000055. Using total_gain.\u001b[0m\n",
      "\u001b[1m2025-04-01T16:49:42.554722-0700 | INFO | mt_metadata.timeseries.filters.channel_response | to_obspy | total sensitivity 104957842879.94406 != total gain 1048576000.000055. Using total_gain.\u001b[0m\n",
      "\u001b[1m2025-04-01T16:49:42.582299-0700 | INFO | mt_metadata.timeseries.filters.channel_response | to_obspy | total sensitivity 99528330172.17546 != total gain 1048576000.000055. Using total_gain.\u001b[0m\n",
      "\u001b[1m2025-04-01T16:49:42.614268-0700 | INFO | mt_metadata.timeseries.filters.channel_response | to_obspy | total sensitivity 104398743147.64836 != total gain 1048576000.000055. Using total_gain.\u001b[0m\n",
      "\u001b[1m2025-04-01T16:49:42.730219-0700 | INFO | mt_metadata.timeseries.filters.channel_response | to_obspy | total sensitivity 104957842879.94406 != total gain 1048576000.000055. Using total_gain.\u001b[0m\n",
      "\u001b[1m2025-04-01T16:49:42.757864-0700 | INFO | mt_metadata.timeseries.filters.channel_response | to_obspy | total sensitivity 99528330172.17546 != total gain 1048576000.000055. Using total_gain.\u001b[0m\n",
      "\u001b[1m2025-04-01T16:49:42.792420-0700 | INFO | mt_metadata.timeseries.filters.channel_response | to_obspy | total sensitivity 104398743147.64836 != total gain 1048576000.000055. Using total_gain.\u001b[0m\n",
      "\u001b[1m2025-04-01T16:49:42.888961-0700 | INFO | mt_metadata.timeseries.filters.channel_response | to_obspy | total sensitivity 104957842879.94406 != total gain 1048576000.000055. Using total_gain.\u001b[0m\n",
      "\u001b[1m2025-04-01T16:49:42.921961-0700 | INFO | mt_metadata.timeseries.filters.channel_response | to_obspy | total sensitivity 99528330172.17546 != total gain 1048576000.000055. Using total_gain.\u001b[0m\n",
      "\u001b[1m2025-04-01T16:49:42.950969-0700 | INFO | mt_metadata.timeseries.filters.channel_response | to_obspy | total sensitivity 104398743147.64836 != total gain 1048576000.000055. Using total_gain.\u001b[0m\n",
      "\u001b[1m2025-04-01T16:49:43.050005-0700 | INFO | mt_metadata.timeseries.filters.channel_response | to_obspy | total sensitivity 104957842879.94406 != total gain 1048576000.000055. Using total_gain.\u001b[0m\n",
      "\u001b[1m2025-04-01T16:49:43.082505-0700 | INFO | mt_metadata.timeseries.filters.channel_response | to_obspy | total sensitivity 99528330172.17546 != total gain 1048576000.000055. Using total_gain.\u001b[0m\n",
      "\u001b[1m2025-04-01T16:49:43.116523-0700 | INFO | mt_metadata.timeseries.filters.channel_response | to_obspy | total sensitivity 104398743147.64836 != total gain 1048576000.000055. Using total_gain.\u001b[0m\n",
      "\u001b[1m2025-04-01T16:49:43.209020-0700 | INFO | mt_metadata.timeseries.filters.channel_response | to_obspy | total sensitivity 104957842879.94406 != total gain 1048576000.000055. Using total_gain.\u001b[0m\n",
      "\u001b[1m2025-04-01T16:49:43.236051-0700 | INFO | mt_metadata.timeseries.filters.channel_response | to_obspy | total sensitivity 99528330172.17546 != total gain 1048576000.000055. Using total_gain.\u001b[0m\n",
      "\u001b[1m2025-04-01T16:49:43.264603-0700 | INFO | mt_metadata.timeseries.filters.channel_response | to_obspy | total sensitivity 104398743147.64836 != total gain 1048576000.000055. Using total_gain.\u001b[0m\n",
      "\u001b[1m2025-04-01T16:49:43.295639-0700 | INFO | mth5.io.conversion | convert_mth5_to_ms_stationxml | Wrote StationXML to c:\\Users\\jpeacock\\OneDrive - DOI\\MTData\\CL2021\\archive\\to_dmc\\cl008.xml\u001b[0m\n",
      "\u001b[1m2025-04-01T16:49:48.921678-0700 | INFO | mth5.io.conversion | split_ms_to_days | Wrote miniseed file to: c:\\Users\\jpeacock\\OneDrive - DOI\\MTData\\CL2021\\archive\\to_dmc\\1Z_CL016__LQN_2021_04_30T18_49_59.mseed\u001b[0m\n",
      "\u001b[1m2025-04-01T16:49:48.925674-0700 | INFO | mth5.io.conversion | split_ms_to_days | Wrote miniseed file to: c:\\Users\\jpeacock\\OneDrive - DOI\\MTData\\CL2021\\archive\\to_dmc\\1Z_CL016__LQN_2021_05_01T00_00_00.mseed\u001b[0m\n",
      "\u001b[1m2025-04-01T16:49:48.932672-0700 | INFO | mth5.io.conversion | split_ms_to_days | Wrote miniseed file to: c:\\Users\\jpeacock\\OneDrive - DOI\\MTData\\CL2021\\archive\\to_dmc\\1Z_CL016__LQE_2021_04_30T18_49_59.mseed\u001b[0m\n",
      "\u001b[1m2025-04-01T16:49:48.937676-0700 | INFO | mth5.io.conversion | split_ms_to_days | Wrote miniseed file to: c:\\Users\\jpeacock\\OneDrive - DOI\\MTData\\CL2021\\archive\\to_dmc\\1Z_CL016__LQE_2021_05_01T00_00_00.mseed\u001b[0m\n",
      "\u001b[1m2025-04-01T16:49:48.948676-0700 | INFO | mth5.io.conversion | split_ms_to_days | Wrote miniseed file to: c:\\Users\\jpeacock\\OneDrive - DOI\\MTData\\CL2021\\archive\\to_dmc\\1Z_CL016__LFN_2021_04_30T18_49_59.mseed\u001b[0m\n",
      "\u001b[1m2025-04-01T16:49:48.952689-0700 | INFO | mth5.io.conversion | split_ms_to_days | Wrote miniseed file to: c:\\Users\\jpeacock\\OneDrive - DOI\\MTData\\CL2021\\archive\\to_dmc\\1Z_CL016__LFN_2021_05_01T00_00_00.mseed\u001b[0m\n",
      "\u001b[1m2025-04-01T16:49:48.964687-0700 | INFO | mth5.io.conversion | split_ms_to_days | Wrote miniseed file to: c:\\Users\\jpeacock\\OneDrive - DOI\\MTData\\CL2021\\archive\\to_dmc\\1Z_CL016__LFE_2021_04_30T18_49_59.mseed\u001b[0m\n",
      "\u001b[1m2025-04-01T16:49:48.970212-0700 | INFO | mth5.io.conversion | split_ms_to_days | Wrote miniseed file to: c:\\Users\\jpeacock\\OneDrive - DOI\\MTData\\CL2021\\archive\\to_dmc\\1Z_CL016__LFE_2021_05_01T00_00_00.mseed\u001b[0m\n",
      "\u001b[1m2025-04-01T16:49:48.978208-0700 | INFO | mth5.io.conversion | split_ms_to_days | Wrote miniseed file to: c:\\Users\\jpeacock\\OneDrive - DOI\\MTData\\CL2021\\archive\\to_dmc\\1Z_CL016__LFZ_2021_04_30T18_49_59.mseed\u001b[0m\n",
      "\u001b[1m2025-04-01T16:49:48.981210-0700 | INFO | mth5.io.conversion | split_ms_to_days | Wrote miniseed file to: c:\\Users\\jpeacock\\OneDrive - DOI\\MTData\\CL2021\\archive\\to_dmc\\1Z_CL016__LFZ_2021_05_01T00_00_00.mseed\u001b[0m\n",
      "\u001b[1m2025-04-01T16:49:52.594735-0700 | INFO | mth5.io.conversion | split_ms_to_days | Wrote miniseed file to: c:\\Users\\jpeacock\\OneDrive - DOI\\MTData\\CL2021\\archive\\to_dmc\\1Z_CL016__CQN_2021_04_30T18_49_59.mseed\u001b[0m\n",
      "\u001b[1m2025-04-01T16:49:52.610702-0700 | INFO | mth5.io.conversion | split_ms_to_days | Wrote miniseed file to: c:\\Users\\jpeacock\\OneDrive - DOI\\MTData\\CL2021\\archive\\to_dmc\\1Z_CL016__CQE_2021_04_30T18_49_59.mseed\u001b[0m\n",
      "\u001b[1m2025-04-01T16:49:52.636705-0700 | INFO | mth5.io.conversion | split_ms_to_days | Wrote miniseed file to: c:\\Users\\jpeacock\\OneDrive - DOI\\MTData\\CL2021\\archive\\to_dmc\\1Z_CL016__CFN_2021_04_30T18_49_59.mseed\u001b[0m\n",
      "\u001b[1m2025-04-01T16:49:52.657712-0700 | INFO | mth5.io.conversion | split_ms_to_days | Wrote miniseed file to: c:\\Users\\jpeacock\\OneDrive - DOI\\MTData\\CL2021\\archive\\to_dmc\\1Z_CL016__CFE_2021_04_30T18_49_59.mseed\u001b[0m\n",
      "\u001b[1m2025-04-01T16:49:52.672233-0700 | INFO | mth5.io.conversion | split_ms_to_days | Wrote miniseed file to: c:\\Users\\jpeacock\\OneDrive - DOI\\MTData\\CL2021\\archive\\to_dmc\\1Z_CL016__CFZ_2021_04_30T18_49_59.mseed\u001b[0m\n",
      "\u001b[1m2025-04-01T16:49:55.782873-0700 | INFO | mth5.timeseries.run_ts | _align_channels | Channels do not have a common end, using latest: 2021-04-30T19:09:43.999512000\u001b[0m\n"
     ]
    },
    {
     "name": "stderr",
     "output_type": "stream",
     "text": [
      "C:\\Users\\jpeacock\\OneDrive - DOI\\Documents\\GitHub\\mth5\\mth5\\timeseries\\channel_ts.py:1524: RuntimeWarning: invalid value encountered in cast\n",
      "  obspy_trace = Trace(self.ts.astype(encoding_dict[encoding]))\n"
     ]
    },
    {
     "name": "stdout",
     "output_type": "stream",
     "text": [
      "\u001b[1m2025-04-01T16:49:58.523343-0700 | INFO | mth5.io.conversion | split_ms_to_days | Wrote miniseed file to: c:\\Users\\jpeacock\\OneDrive - DOI\\MTData\\CL2021\\archive\\to_dmc\\1Z_CL016__FQN_2021_04_30T18_59_59.mseed\u001b[0m\n",
      "\u001b[1m2025-04-01T16:49:58.714147-0700 | INFO | mth5.io.conversion | split_ms_to_days | Wrote miniseed file to: c:\\Users\\jpeacock\\OneDrive - DOI\\MTData\\CL2021\\archive\\to_dmc\\1Z_CL016__FQE_2021_04_30T18_59_59.mseed\u001b[0m\n",
      "\u001b[1m2025-04-01T16:49:58.907304-0700 | INFO | mth5.io.conversion | split_ms_to_days | Wrote miniseed file to: c:\\Users\\jpeacock\\OneDrive - DOI\\MTData\\CL2021\\archive\\to_dmc\\1Z_CL016__FFN_2021_04_30T18_59_59.mseed\u001b[0m\n",
      "\u001b[1m2025-04-01T16:49:59.114405-0700 | INFO | mth5.io.conversion | split_ms_to_days | Wrote miniseed file to: c:\\Users\\jpeacock\\OneDrive - DOI\\MTData\\CL2021\\archive\\to_dmc\\1Z_CL016__FFE_2021_04_30T18_59_59.mseed\u001b[0m\n",
      "\u001b[1m2025-04-01T16:49:59.327505-0700 | INFO | mth5.io.conversion | split_ms_to_days | Wrote miniseed file to: c:\\Users\\jpeacock\\OneDrive - DOI\\MTData\\CL2021\\archive\\to_dmc\\1Z_CL016__FFZ_2021_04_30T18_59_59.mseed\u001b[0m\n",
      "\u001b[1m2025-04-01T16:50:06.153022-0700 | INFO | mth5.timeseries.run_ts | _align_channels | Channels do not have a common end, using latest: 2021-05-01T00:59:43.996094000\u001b[0m\n"
     ]
    },
    {
     "name": "stderr",
     "output_type": "stream",
     "text": [
      "C:\\Users\\jpeacock\\OneDrive - DOI\\Documents\\GitHub\\mth5\\mth5\\timeseries\\channel_ts.py:1524: RuntimeWarning: invalid value encountered in cast\n",
      "  obspy_trace = Trace(self.ts.astype(encoding_dict[encoding]))\n"
     ]
    },
    {
     "name": "stdout",
     "output_type": "stream",
     "text": [
      "\u001b[1m2025-04-01T16:50:12.466288-0700 | INFO | mth5.io.conversion | split_ms_to_days | Wrote miniseed file to: c:\\Users\\jpeacock\\OneDrive - DOI\\MTData\\CL2021\\archive\\to_dmc\\1Z_CL016__CQN_2021_04_30T19_09_59.mseed\u001b[0m\n",
      "\u001b[1m2025-04-01T16:50:12.825620-0700 | INFO | mth5.io.conversion | split_ms_to_days | Wrote miniseed file to: c:\\Users\\jpeacock\\OneDrive - DOI\\MTData\\CL2021\\archive\\to_dmc\\1Z_CL016__CQN_2021_05_01T00_00_00.mseed\u001b[0m\n",
      "\u001b[1m2025-04-01T16:50:12.916132-0700 | INFO | mth5.io.conversion | split_ms_to_days | Wrote miniseed file to: c:\\Users\\jpeacock\\OneDrive - DOI\\MTData\\CL2021\\archive\\to_dmc\\1Z_CL016__CQE_2021_04_30T19_09_59.mseed\u001b[0m\n",
      "\u001b[1m2025-04-01T16:50:13.305891-0700 | INFO | mth5.io.conversion | split_ms_to_days | Wrote miniseed file to: c:\\Users\\jpeacock\\OneDrive - DOI\\MTData\\CL2021\\archive\\to_dmc\\1Z_CL016__CQE_2021_05_01T00_00_00.mseed\u001b[0m\n",
      "\u001b[1m2025-04-01T16:50:13.384703-0700 | INFO | mth5.io.conversion | split_ms_to_days | Wrote miniseed file to: c:\\Users\\jpeacock\\OneDrive - DOI\\MTData\\CL2021\\archive\\to_dmc\\1Z_CL016__CFN_2021_04_30T19_09_59.mseed\u001b[0m\n",
      "\u001b[1m2025-04-01T16:50:13.784038-0700 | INFO | mth5.io.conversion | split_ms_to_days | Wrote miniseed file to: c:\\Users\\jpeacock\\OneDrive - DOI\\MTData\\CL2021\\archive\\to_dmc\\1Z_CL016__CFN_2021_05_01T00_00_00.mseed\u001b[0m\n",
      "\u001b[1m2025-04-01T16:50:13.862056-0700 | INFO | mth5.io.conversion | split_ms_to_days | Wrote miniseed file to: c:\\Users\\jpeacock\\OneDrive - DOI\\MTData\\CL2021\\archive\\to_dmc\\1Z_CL016__CFE_2021_04_30T19_09_59.mseed\u001b[0m\n",
      "\u001b[1m2025-04-01T16:50:14.250667-0700 | INFO | mth5.io.conversion | split_ms_to_days | Wrote miniseed file to: c:\\Users\\jpeacock\\OneDrive - DOI\\MTData\\CL2021\\archive\\to_dmc\\1Z_CL016__CFE_2021_05_01T00_00_00.mseed\u001b[0m\n",
      "\u001b[1m2025-04-01T16:50:14.327254-0700 | INFO | mth5.io.conversion | split_ms_to_days | Wrote miniseed file to: c:\\Users\\jpeacock\\OneDrive - DOI\\MTData\\CL2021\\archive\\to_dmc\\1Z_CL016__CFZ_2021_04_30T19_09_59.mseed\u001b[0m\n",
      "\u001b[1m2025-04-01T16:50:14.704332-0700 | INFO | mth5.io.conversion | split_ms_to_days | Wrote miniseed file to: c:\\Users\\jpeacock\\OneDrive - DOI\\MTData\\CL2021\\archive\\to_dmc\\1Z_CL016__CFZ_2021_05_01T00_00_00.mseed\u001b[0m\n",
      "\u001b[1m2025-04-01T16:50:18.046676-0700 | INFO | mth5.timeseries.run_ts | _align_channels | Channels do not have a common end, using latest: 2021-05-01T01:09:43.998291015\u001b[0m\n",
      "\u001b[33m\u001b[1m2025-04-01T16:50:20.179435-0700 | WARNING | mth5.timeseries.run_ts | validate_metadata | end time of dataset 2021-05-01T01:09:43.998047+00:00 does not match metadata end 2021-05-01T01:09:43.998291015+00:00 updating metatdata value to 2021-05-01T01:09:43.998047+00:00\u001b[0m\n"
     ]
    },
    {
     "name": "stderr",
     "output_type": "stream",
     "text": [
      "C:\\Users\\jpeacock\\OneDrive - DOI\\Documents\\GitHub\\mth5\\mth5\\timeseries\\channel_ts.py:1524: RuntimeWarning: invalid value encountered in cast\n",
      "  obspy_trace = Trace(self.ts.astype(encoding_dict[encoding]))\n"
     ]
    },
    {
     "name": "stdout",
     "output_type": "stream",
     "text": [
      "\u001b[1m2025-04-01T16:50:20.986015-0700 | INFO | mth5.io.conversion | split_ms_to_days | Wrote miniseed file to: c:\\Users\\jpeacock\\OneDrive - DOI\\MTData\\CL2021\\archive\\to_dmc\\1Z_CL016__FQN_2021_05_01T00_59_59.mseed\u001b[0m\n",
      "\u001b[1m2025-04-01T16:50:21.186498-0700 | INFO | mth5.io.conversion | split_ms_to_days | Wrote miniseed file to: c:\\Users\\jpeacock\\OneDrive - DOI\\MTData\\CL2021\\archive\\to_dmc\\1Z_CL016__FQE_2021_05_01T00_59_59.mseed\u001b[0m\n",
      "\u001b[1m2025-04-01T16:50:21.376626-0700 | INFO | mth5.io.conversion | split_ms_to_days | Wrote miniseed file to: c:\\Users\\jpeacock\\OneDrive - DOI\\MTData\\CL2021\\archive\\to_dmc\\1Z_CL016__FFN_2021_05_01T00_59_59.mseed\u001b[0m\n",
      "\u001b[1m2025-04-01T16:50:21.583770-0700 | INFO | mth5.io.conversion | split_ms_to_days | Wrote miniseed file to: c:\\Users\\jpeacock\\OneDrive - DOI\\MTData\\CL2021\\archive\\to_dmc\\1Z_CL016__FFE_2021_05_01T00_59_59.mseed\u001b[0m\n",
      "\u001b[1m2025-04-01T16:50:21.788531-0700 | INFO | mth5.io.conversion | split_ms_to_days | Wrote miniseed file to: c:\\Users\\jpeacock\\OneDrive - DOI\\MTData\\CL2021\\archive\\to_dmc\\1Z_CL016__FFZ_2021_05_01T00_59_59.mseed\u001b[0m\n",
      "\u001b[1m2025-04-01T16:50:28.860847-0700 | INFO | mth5.timeseries.run_ts | _align_channels | Channels do not have a common end, using latest: 2021-05-01T06:59:43.996094000\u001b[0m\n"
     ]
    },
    {
     "name": "stderr",
     "output_type": "stream",
     "text": [
      "C:\\Users\\jpeacock\\OneDrive - DOI\\Documents\\GitHub\\mth5\\mth5\\timeseries\\channel_ts.py:1524: RuntimeWarning: invalid value encountered in cast\n",
      "  obspy_trace = Trace(self.ts.astype(encoding_dict[encoding]))\n"
     ]
    },
    {
     "name": "stdout",
     "output_type": "stream",
     "text": [
      "\u001b[1m2025-04-01T16:50:35.269303-0700 | INFO | mth5.io.conversion | split_ms_to_days | Wrote miniseed file to: c:\\Users\\jpeacock\\OneDrive - DOI\\MTData\\CL2021\\archive\\to_dmc\\1Z_CL016__CQN_2021_05_01T01_09_59.mseed\u001b[0m\n",
      "\u001b[1m2025-04-01T16:50:35.697381-0700 | INFO | mth5.io.conversion | split_ms_to_days | Wrote miniseed file to: c:\\Users\\jpeacock\\OneDrive - DOI\\MTData\\CL2021\\archive\\to_dmc\\1Z_CL016__CQE_2021_05_01T01_09_59.mseed\u001b[0m\n",
      "\u001b[1m2025-04-01T16:50:36.130230-0700 | INFO | mth5.io.conversion | split_ms_to_days | Wrote miniseed file to: c:\\Users\\jpeacock\\OneDrive - DOI\\MTData\\CL2021\\archive\\to_dmc\\1Z_CL016__CFN_2021_05_01T01_09_59.mseed\u001b[0m\n",
      "\u001b[1m2025-04-01T16:50:36.589873-0700 | INFO | mth5.io.conversion | split_ms_to_days | Wrote miniseed file to: c:\\Users\\jpeacock\\OneDrive - DOI\\MTData\\CL2021\\archive\\to_dmc\\1Z_CL016__CFE_2021_05_01T01_09_59.mseed\u001b[0m\n",
      "\u001b[1m2025-04-01T16:50:37.057021-0700 | INFO | mth5.io.conversion | split_ms_to_days | Wrote miniseed file to: c:\\Users\\jpeacock\\OneDrive - DOI\\MTData\\CL2021\\archive\\to_dmc\\1Z_CL016__CFZ_2021_05_01T01_09_59.mseed\u001b[0m\n",
      "\u001b[1m2025-04-01T16:50:41.152014-0700 | INFO | mth5.timeseries.run_ts | _align_channels | Channels do not have a common end, using latest: 2021-05-01T07:09:43.998779296\u001b[0m\n",
      "\u001b[33m\u001b[1m2025-04-01T16:50:43.397531-0700 | WARNING | mth5.timeseries.run_ts | validate_metadata | end time of dataset 2021-05-01T07:09:43.998535156+00:00 does not match metadata end 2021-05-01T07:09:43.998779296+00:00 updating metatdata value to 2021-05-01T07:09:43.998535156+00:00\u001b[0m\n",
      "\u001b[1m2025-04-01T16:50:44.169224-0700 | INFO | mth5.io.conversion | split_ms_to_days | Wrote miniseed file to: c:\\Users\\jpeacock\\OneDrive - DOI\\MTData\\CL2021\\archive\\to_dmc\\1Z_CL016__FQN_2021_05_01T06_59_59.mseed\u001b[0m\n"
     ]
    },
    {
     "name": "stderr",
     "output_type": "stream",
     "text": [
      "C:\\Users\\jpeacock\\OneDrive - DOI\\Documents\\GitHub\\mth5\\mth5\\timeseries\\channel_ts.py:1524: RuntimeWarning: invalid value encountered in cast\n",
      "  obspy_trace = Trace(self.ts.astype(encoding_dict[encoding]))\n"
     ]
    },
    {
     "name": "stdout",
     "output_type": "stream",
     "text": [
      "\u001b[1m2025-04-01T16:50:44.379451-0700 | INFO | mth5.io.conversion | split_ms_to_days | Wrote miniseed file to: c:\\Users\\jpeacock\\OneDrive - DOI\\MTData\\CL2021\\archive\\to_dmc\\1Z_CL016__FQE_2021_05_01T06_59_59.mseed\u001b[0m\n",
      "\u001b[1m2025-04-01T16:50:44.588568-0700 | INFO | mth5.io.conversion | split_ms_to_days | Wrote miniseed file to: c:\\Users\\jpeacock\\OneDrive - DOI\\MTData\\CL2021\\archive\\to_dmc\\1Z_CL016__FFN_2021_05_01T06_59_59.mseed\u001b[0m\n",
      "\u001b[1m2025-04-01T16:50:44.793375-0700 | INFO | mth5.io.conversion | split_ms_to_days | Wrote miniseed file to: c:\\Users\\jpeacock\\OneDrive - DOI\\MTData\\CL2021\\archive\\to_dmc\\1Z_CL016__FFE_2021_05_01T06_59_59.mseed\u001b[0m\n",
      "\u001b[1m2025-04-01T16:50:45.000109-0700 | INFO | mth5.io.conversion | split_ms_to_days | Wrote miniseed file to: c:\\Users\\jpeacock\\OneDrive - DOI\\MTData\\CL2021\\archive\\to_dmc\\1Z_CL016__FFZ_2021_05_01T06_59_59.mseed\u001b[0m\n",
      "\u001b[1m2025-04-01T16:50:53.055392-0700 | INFO | mth5.io.conversion | split_ms_to_days | Wrote miniseed file to: c:\\Users\\jpeacock\\OneDrive - DOI\\MTData\\CL2021\\archive\\to_dmc\\1Z_CL016__CQN_2021_05_01T07_09_59.mseed\u001b[0m\n",
      "\u001b[1m2025-04-01T16:50:53.493633-0700 | INFO | mth5.io.conversion | split_ms_to_days | Wrote miniseed file to: c:\\Users\\jpeacock\\OneDrive - DOI\\MTData\\CL2021\\archive\\to_dmc\\1Z_CL016__CQE_2021_05_01T07_09_59.mseed\u001b[0m\n",
      "\u001b[1m2025-04-01T16:50:53.959890-0700 | INFO | mth5.io.conversion | split_ms_to_days | Wrote miniseed file to: c:\\Users\\jpeacock\\OneDrive - DOI\\MTData\\CL2021\\archive\\to_dmc\\1Z_CL016__CFN_2021_05_01T07_09_59.mseed\u001b[0m\n",
      "\u001b[1m2025-04-01T16:50:54.399588-0700 | INFO | mth5.io.conversion | split_ms_to_days | Wrote miniseed file to: c:\\Users\\jpeacock\\OneDrive - DOI\\MTData\\CL2021\\archive\\to_dmc\\1Z_CL016__CFE_2021_05_01T07_09_59.mseed\u001b[0m\n",
      "\u001b[1m2025-04-01T16:50:54.848425-0700 | INFO | mth5.io.conversion | split_ms_to_days | Wrote miniseed file to: c:\\Users\\jpeacock\\OneDrive - DOI\\MTData\\CL2021\\archive\\to_dmc\\1Z_CL016__CFZ_2021_05_01T07_09_59.mseed\u001b[0m\n",
      "\u001b[1m2025-04-01T16:50:58.853794-0700 | INFO | mth5.timeseries.run_ts | _align_channels | Channels do not have a common end, using latest: 2021-05-01T13:09:43.998779296\u001b[0m\n",
      "\u001b[33m\u001b[1m2025-04-01T16:51:01.399497-0700 | WARNING | mth5.timeseries.run_ts | validate_metadata | end time of dataset 2021-05-01T13:09:43.998535156+00:00 does not match metadata end 2021-05-01T13:09:43.998779296+00:00 updating metatdata value to 2021-05-01T13:09:43.998535156+00:00\u001b[0m\n"
     ]
    },
    {
     "name": "stderr",
     "output_type": "stream",
     "text": [
      "C:\\Users\\jpeacock\\OneDrive - DOI\\Documents\\GitHub\\mth5\\mth5\\timeseries\\channel_ts.py:1524: RuntimeWarning: invalid value encountered in cast\n",
      "  obspy_trace = Trace(self.ts.astype(encoding_dict[encoding]))\n"
     ]
    },
    {
     "name": "stdout",
     "output_type": "stream",
     "text": [
      "\u001b[1m2025-04-01T16:51:02.078351-0700 | INFO | mth5.io.conversion | split_ms_to_days | Wrote miniseed file to: c:\\Users\\jpeacock\\OneDrive - DOI\\MTData\\CL2021\\archive\\to_dmc\\1Z_CL016__FQN_2021_05_01T12_59_59.mseed\u001b[0m\n",
      "\u001b[1m2025-04-01T16:51:02.276348-0700 | INFO | mth5.io.conversion | split_ms_to_days | Wrote miniseed file to: c:\\Users\\jpeacock\\OneDrive - DOI\\MTData\\CL2021\\archive\\to_dmc\\1Z_CL016__FQE_2021_05_01T12_59_59.mseed\u001b[0m\n",
      "\u001b[1m2025-04-01T16:51:02.468739-0700 | INFO | mth5.io.conversion | split_ms_to_days | Wrote miniseed file to: c:\\Users\\jpeacock\\OneDrive - DOI\\MTData\\CL2021\\archive\\to_dmc\\1Z_CL016__FFN_2021_05_01T12_59_59.mseed\u001b[0m\n",
      "\u001b[1m2025-04-01T16:51:02.667904-0700 | INFO | mth5.io.conversion | split_ms_to_days | Wrote miniseed file to: c:\\Users\\jpeacock\\OneDrive - DOI\\MTData\\CL2021\\archive\\to_dmc\\1Z_CL016__FFE_2021_05_01T12_59_59.mseed\u001b[0m\n",
      "\u001b[1m2025-04-01T16:51:02.871426-0700 | INFO | mth5.io.conversion | split_ms_to_days | Wrote miniseed file to: c:\\Users\\jpeacock\\OneDrive - DOI\\MTData\\CL2021\\archive\\to_dmc\\1Z_CL016__FFZ_2021_05_01T12_59_59.mseed\u001b[0m\n",
      "\u001b[1m2025-04-01T16:51:09.425941-0700 | INFO | mth5.io.conversion | split_ms_to_days | Wrote miniseed file to: c:\\Users\\jpeacock\\OneDrive - DOI\\MTData\\CL2021\\archive\\to_dmc\\1Z_CL016__CQN_2021_05_01T13_09_59.mseed\u001b[0m\n",
      "\u001b[1m2025-04-01T16:51:09.711074-0700 | INFO | mth5.io.conversion | split_ms_to_days | Wrote miniseed file to: c:\\Users\\jpeacock\\OneDrive - DOI\\MTData\\CL2021\\archive\\to_dmc\\1Z_CL016__CQE_2021_05_01T13_09_59.mseed\u001b[0m\n",
      "\u001b[1m2025-04-01T16:51:10.016624-0700 | INFO | mth5.io.conversion | split_ms_to_days | Wrote miniseed file to: c:\\Users\\jpeacock\\OneDrive - DOI\\MTData\\CL2021\\archive\\to_dmc\\1Z_CL016__CFN_2021_05_01T13_09_59.mseed\u001b[0m\n",
      "\u001b[1m2025-04-01T16:51:10.329934-0700 | INFO | mth5.io.conversion | split_ms_to_days | Wrote miniseed file to: c:\\Users\\jpeacock\\OneDrive - DOI\\MTData\\CL2021\\archive\\to_dmc\\1Z_CL016__CFE_2021_05_01T13_09_59.mseed\u001b[0m\n",
      "\u001b[1m2025-04-01T16:51:10.643547-0700 | INFO | mth5.io.conversion | split_ms_to_days | Wrote miniseed file to: c:\\Users\\jpeacock\\OneDrive - DOI\\MTData\\CL2021\\archive\\to_dmc\\1Z_CL016__CFZ_2021_05_01T13_09_59.mseed\u001b[0m\n",
      "\u001b[1m2025-04-01T16:51:11.966393-0700 | INFO | mth5.mth5 | close_mth5 | Flushing and closing c:\\Users\\jpeacock\\OneDrive - DOI\\MTData\\CL2021\\archive\\cl016.h5\u001b[0m\n",
      "\u001b[33m\u001b[1m2025-04-01T16:51:11.970394-0700 | WARNING | mt_metadata.timeseries.stationxml.xml_station_mt_station | mt_to_xml | Station.geographic_name is None, using Station.id = cl016.Check StationXML site.name.\u001b[0m\n",
      "\u001b[1m2025-04-01T16:51:12.058944-0700 | INFO | mt_metadata.timeseries.filters.channel_response | to_obspy | total sensitivity 104382542748.06306 != total gain 1048576000.000055. Using total_gain.\u001b[0m\n",
      "\u001b[1m2025-04-01T16:51:12.093910-0700 | INFO | mt_metadata.timeseries.filters.channel_response | to_obspy | total sensitivity 105026369151.30917 != total gain 1048576000.000055. Using total_gain.\u001b[0m\n",
      "\u001b[1m2025-04-01T16:51:12.122912-0700 | INFO | mt_metadata.timeseries.filters.channel_response | to_obspy | total sensitivity 105276966379.19785 != total gain 1048576000.000055. Using total_gain.\u001b[0m\n",
      "\u001b[1m2025-04-01T16:51:12.216432-0700 | INFO | mt_metadata.timeseries.filters.channel_response | to_obspy | total sensitivity 104382542748.06306 != total gain 1048576000.000055. Using total_gain.\u001b[0m\n",
      "\u001b[1m2025-04-01T16:51:12.249971-0700 | INFO | mt_metadata.timeseries.filters.channel_response | to_obspy | total sensitivity 105026369151.30917 != total gain 1048576000.000055. Using total_gain.\u001b[0m\n",
      "\u001b[1m2025-04-01T16:51:12.283002-0700 | INFO | mt_metadata.timeseries.filters.channel_response | to_obspy | total sensitivity 105276966379.19785 != total gain 1048576000.000055. Using total_gain.\u001b[0m\n",
      "\u001b[1m2025-04-01T16:51:12.374514-0700 | INFO | mt_metadata.timeseries.filters.channel_response | to_obspy | total sensitivity 104382542748.06306 != total gain 1048576000.000055. Using total_gain.\u001b[0m\n",
      "\u001b[1m2025-04-01T16:51:12.402480-0700 | INFO | mt_metadata.timeseries.filters.channel_response | to_obspy | total sensitivity 105026369151.30917 != total gain 1048576000.000055. Using total_gain.\u001b[0m\n",
      "\u001b[1m2025-04-01T16:51:12.434488-0700 | INFO | mt_metadata.timeseries.filters.channel_response | to_obspy | total sensitivity 105276966379.19785 != total gain 1048576000.000055. Using total_gain.\u001b[0m\n",
      "\u001b[1m2025-04-01T16:51:12.529000-0700 | INFO | mt_metadata.timeseries.filters.channel_response | to_obspy | total sensitivity 104382542748.06306 != total gain 1048576000.000055. Using total_gain.\u001b[0m\n",
      "\u001b[1m2025-04-01T16:51:12.557507-0700 | INFO | mt_metadata.timeseries.filters.channel_response | to_obspy | total sensitivity 105026369151.30917 != total gain 1048576000.000055. Using total_gain.\u001b[0m\n",
      "\u001b[1m2025-04-01T16:51:12.588509-0700 | INFO | mt_metadata.timeseries.filters.channel_response | to_obspy | total sensitivity 105276966379.19785 != total gain 1048576000.000055. Using total_gain.\u001b[0m\n",
      "\u001b[1m2025-04-01T16:51:12.688027-0700 | INFO | mt_metadata.timeseries.filters.channel_response | to_obspy | total sensitivity 104382542748.06306 != total gain 1048576000.000055. Using total_gain.\u001b[0m\n",
      "\u001b[1m2025-04-01T16:51:12.722028-0700 | INFO | mt_metadata.timeseries.filters.channel_response | to_obspy | total sensitivity 105026369151.30917 != total gain 1048576000.000055. Using total_gain.\u001b[0m\n",
      "\u001b[1m2025-04-01T16:51:12.752548-0700 | INFO | mt_metadata.timeseries.filters.channel_response | to_obspy | total sensitivity 105276966379.19785 != total gain 1048576000.000055. Using total_gain.\u001b[0m\n",
      "\u001b[1m2025-04-01T16:51:12.850068-0700 | INFO | mt_metadata.timeseries.filters.channel_response | to_obspy | total sensitivity 104382542748.06306 != total gain 1048576000.000055. Using total_gain.\u001b[0m\n",
      "\u001b[1m2025-04-01T16:51:12.880069-0700 | INFO | mt_metadata.timeseries.filters.channel_response | to_obspy | total sensitivity 105026369151.30917 != total gain 1048576000.000055. Using total_gain.\u001b[0m\n",
      "\u001b[1m2025-04-01T16:51:12.912069-0700 | INFO | mt_metadata.timeseries.filters.channel_response | to_obspy | total sensitivity 105276966379.19785 != total gain 1048576000.000055. Using total_gain.\u001b[0m\n",
      "\u001b[1m2025-04-01T16:51:13.019380-0700 | INFO | mt_metadata.timeseries.filters.channel_response | to_obspy | total sensitivity 104382542748.06306 != total gain 1048576000.000055. Using total_gain.\u001b[0m\n",
      "\u001b[1m2025-04-01T16:51:13.056632-0700 | INFO | mt_metadata.timeseries.filters.channel_response | to_obspy | total sensitivity 105026369151.30917 != total gain 1048576000.000055. Using total_gain.\u001b[0m\n",
      "\u001b[1m2025-04-01T16:51:13.088630-0700 | INFO | mt_metadata.timeseries.filters.channel_response | to_obspy | total sensitivity 105276966379.19785 != total gain 1048576000.000055. Using total_gain.\u001b[0m\n",
      "\u001b[1m2025-04-01T16:51:13.192662-0700 | INFO | mt_metadata.timeseries.filters.channel_response | to_obspy | total sensitivity 104382542748.06306 != total gain 1048576000.000055. Using total_gain.\u001b[0m\n",
      "\u001b[1m2025-04-01T16:51:13.220664-0700 | INFO | mt_metadata.timeseries.filters.channel_response | to_obspy | total sensitivity 105026369151.30917 != total gain 1048576000.000055. Using total_gain.\u001b[0m\n",
      "\u001b[1m2025-04-01T16:51:13.250997-0700 | INFO | mt_metadata.timeseries.filters.channel_response | to_obspy | total sensitivity 105276966379.19785 != total gain 1048576000.000055. Using total_gain.\u001b[0m\n",
      "\u001b[1m2025-04-01T16:51:13.341581-0700 | INFO | mt_metadata.timeseries.filters.channel_response | to_obspy | total sensitivity 104382542748.06306 != total gain 1048576000.000055. Using total_gain.\u001b[0m\n",
      "\u001b[1m2025-04-01T16:51:13.368549-0700 | INFO | mt_metadata.timeseries.filters.channel_response | to_obspy | total sensitivity 105026369151.30917 != total gain 1048576000.000055. Using total_gain.\u001b[0m\n",
      "\u001b[1m2025-04-01T16:51:13.398583-0700 | INFO | mt_metadata.timeseries.filters.channel_response | to_obspy | total sensitivity 105276966379.19785 != total gain 1048576000.000055. Using total_gain.\u001b[0m\n",
      "\u001b[1m2025-04-01T16:51:13.494136-0700 | INFO | mt_metadata.timeseries.filters.channel_response | to_obspy | total sensitivity 104382542748.06306 != total gain 1048576000.000055. Using total_gain.\u001b[0m\n",
      "\u001b[1m2025-04-01T16:51:13.522106-0700 | INFO | mt_metadata.timeseries.filters.channel_response | to_obspy | total sensitivity 105026369151.30917 != total gain 1048576000.000055. Using total_gain.\u001b[0m\n",
      "\u001b[1m2025-04-01T16:51:13.553691-0700 | INFO | mt_metadata.timeseries.filters.channel_response | to_obspy | total sensitivity 105276966379.19785 != total gain 1048576000.000055. Using total_gain.\u001b[0m\n",
      "\u001b[1m2025-04-01T16:51:13.592567-0700 | INFO | mth5.io.conversion | convert_mth5_to_ms_stationxml | Wrote StationXML to c:\\Users\\jpeacock\\OneDrive - DOI\\MTData\\CL2021\\archive\\to_dmc\\cl016.xml\u001b[0m\n",
      "\u001b[1m2025-04-01T16:51:19.757990-0700 | INFO | mth5.io.conversion | split_ms_to_days | Wrote miniseed file to: c:\\Users\\jpeacock\\OneDrive - DOI\\MTData\\CL2021\\archive\\to_dmc\\1Z_CL017__LQN_2021_04_30T17_39_59.mseed\u001b[0m\n",
      "\u001b[1m2025-04-01T16:51:19.763010-0700 | INFO | mth5.io.conversion | split_ms_to_days | Wrote miniseed file to: c:\\Users\\jpeacock\\OneDrive - DOI\\MTData\\CL2021\\archive\\to_dmc\\1Z_CL017__LQN_2021_05_01T00_00_00.mseed\u001b[0m\n",
      "\u001b[1m2025-04-01T16:51:19.770990-0700 | INFO | mth5.io.conversion | split_ms_to_days | Wrote miniseed file to: c:\\Users\\jpeacock\\OneDrive - DOI\\MTData\\CL2021\\archive\\to_dmc\\1Z_CL017__LQE_2021_04_30T17_39_59.mseed\u001b[0m\n",
      "\u001b[1m2025-04-01T16:51:19.775992-0700 | INFO | mth5.io.conversion | split_ms_to_days | Wrote miniseed file to: c:\\Users\\jpeacock\\OneDrive - DOI\\MTData\\CL2021\\archive\\to_dmc\\1Z_CL017__LQE_2021_05_01T00_00_00.mseed\u001b[0m\n",
      "\u001b[1m2025-04-01T16:51:19.783994-0700 | INFO | mth5.io.conversion | split_ms_to_days | Wrote miniseed file to: c:\\Users\\jpeacock\\OneDrive - DOI\\MTData\\CL2021\\archive\\to_dmc\\1Z_CL017__LFN_2021_04_30T17_39_59.mseed\u001b[0m\n",
      "\u001b[1m2025-04-01T16:51:19.787992-0700 | INFO | mth5.io.conversion | split_ms_to_days | Wrote miniseed file to: c:\\Users\\jpeacock\\OneDrive - DOI\\MTData\\CL2021\\archive\\to_dmc\\1Z_CL017__LFN_2021_05_01T00_00_00.mseed\u001b[0m\n",
      "\u001b[1m2025-04-01T16:51:19.794993-0700 | INFO | mth5.io.conversion | split_ms_to_days | Wrote miniseed file to: c:\\Users\\jpeacock\\OneDrive - DOI\\MTData\\CL2021\\archive\\to_dmc\\1Z_CL017__LFE_2021_04_30T17_39_59.mseed\u001b[0m\n",
      "\u001b[1m2025-04-01T16:51:19.798995-0700 | INFO | mth5.io.conversion | split_ms_to_days | Wrote miniseed file to: c:\\Users\\jpeacock\\OneDrive - DOI\\MTData\\CL2021\\archive\\to_dmc\\1Z_CL017__LFE_2021_05_01T00_00_00.mseed\u001b[0m\n",
      "\u001b[1m2025-04-01T16:51:19.805992-0700 | INFO | mth5.io.conversion | split_ms_to_days | Wrote miniseed file to: c:\\Users\\jpeacock\\OneDrive - DOI\\MTData\\CL2021\\archive\\to_dmc\\1Z_CL017__LFZ_2021_04_30T17_39_59.mseed\u001b[0m\n",
      "\u001b[1m2025-04-01T16:51:19.810995-0700 | INFO | mth5.io.conversion | split_ms_to_days | Wrote miniseed file to: c:\\Users\\jpeacock\\OneDrive - DOI\\MTData\\CL2021\\archive\\to_dmc\\1Z_CL017__LFZ_2021_05_01T00_00_00.mseed\u001b[0m\n",
      "\u001b[1m2025-04-01T16:51:24.566533-0700 | INFO | mth5.io.conversion | split_ms_to_days | Wrote miniseed file to: c:\\Users\\jpeacock\\OneDrive - DOI\\MTData\\CL2021\\archive\\to_dmc\\1Z_CL017__CQN_2021_04_30T17_39_59.mseed\u001b[0m\n",
      "\u001b[1m2025-04-01T16:51:24.677014-0700 | INFO | mth5.io.conversion | split_ms_to_days | Wrote miniseed file to: c:\\Users\\jpeacock\\OneDrive - DOI\\MTData\\CL2021\\archive\\to_dmc\\1Z_CL017__CQE_2021_04_30T17_39_59.mseed\u001b[0m\n",
      "\u001b[1m2025-04-01T16:51:24.785017-0700 | INFO | mth5.io.conversion | split_ms_to_days | Wrote miniseed file to: c:\\Users\\jpeacock\\OneDrive - DOI\\MTData\\CL2021\\archive\\to_dmc\\1Z_CL017__CFN_2021_04_30T17_39_59.mseed\u001b[0m\n",
      "\u001b[1m2025-04-01T16:51:24.900615-0700 | INFO | mth5.io.conversion | split_ms_to_days | Wrote miniseed file to: c:\\Users\\jpeacock\\OneDrive - DOI\\MTData\\CL2021\\archive\\to_dmc\\1Z_CL017__CFE_2021_04_30T17_39_59.mseed\u001b[0m\n",
      "\u001b[1m2025-04-01T16:51:25.028726-0700 | INFO | mth5.io.conversion | split_ms_to_days | Wrote miniseed file to: c:\\Users\\jpeacock\\OneDrive - DOI\\MTData\\CL2021\\archive\\to_dmc\\1Z_CL017__CFZ_2021_04_30T17_39_59.mseed\u001b[0m\n",
      "\u001b[1m2025-04-01T16:51:28.358685-0700 | INFO | mth5.timeseries.run_ts | _align_channels | Channels do not have a common end, using latest: 2021-04-30T19:09:43.998047000\u001b[0m\n"
     ]
    },
    {
     "name": "stderr",
     "output_type": "stream",
     "text": [
      "C:\\Users\\jpeacock\\OneDrive - DOI\\Documents\\GitHub\\mth5\\mth5\\timeseries\\channel_ts.py:1524: RuntimeWarning: invalid value encountered in cast\n",
      "  obspy_trace = Trace(self.ts.astype(encoding_dict[encoding]))\n"
     ]
    },
    {
     "name": "stdout",
     "output_type": "stream",
     "text": [
      "\u001b[1m2025-04-01T16:51:31.109801-0700 | INFO | mth5.io.conversion | split_ms_to_days | Wrote miniseed file to: c:\\Users\\jpeacock\\OneDrive - DOI\\MTData\\CL2021\\archive\\to_dmc\\1Z_CL017__FQN_2021_04_30T18_59_59.mseed\u001b[0m\n",
      "\u001b[1m2025-04-01T16:51:31.306856-0700 | INFO | mth5.io.conversion | split_ms_to_days | Wrote miniseed file to: c:\\Users\\jpeacock\\OneDrive - DOI\\MTData\\CL2021\\archive\\to_dmc\\1Z_CL017__FQE_2021_04_30T18_59_59.mseed\u001b[0m\n",
      "\u001b[1m2025-04-01T16:51:31.513472-0700 | INFO | mth5.io.conversion | split_ms_to_days | Wrote miniseed file to: c:\\Users\\jpeacock\\OneDrive - DOI\\MTData\\CL2021\\archive\\to_dmc\\1Z_CL017__FFN_2021_04_30T18_59_59.mseed\u001b[0m\n",
      "\u001b[1m2025-04-01T16:51:31.713566-0700 | INFO | mth5.io.conversion | split_ms_to_days | Wrote miniseed file to: c:\\Users\\jpeacock\\OneDrive - DOI\\MTData\\CL2021\\archive\\to_dmc\\1Z_CL017__FFE_2021_04_30T18_59_59.mseed\u001b[0m\n",
      "\u001b[1m2025-04-01T16:51:31.923516-0700 | INFO | mth5.io.conversion | split_ms_to_days | Wrote miniseed file to: c:\\Users\\jpeacock\\OneDrive - DOI\\MTData\\CL2021\\archive\\to_dmc\\1Z_CL017__FFZ_2021_04_30T18_59_59.mseed\u001b[0m\n",
      "\u001b[1m2025-04-01T16:51:38.768002-0700 | INFO | mth5.timeseries.run_ts | _align_channels | Channels do not have a common end, using latest: 2021-05-01T00:59:43.996094000\u001b[0m\n"
     ]
    },
    {
     "name": "stderr",
     "output_type": "stream",
     "text": [
      "C:\\Users\\jpeacock\\OneDrive - DOI\\Documents\\GitHub\\mth5\\mth5\\timeseries\\channel_ts.py:1524: RuntimeWarning: invalid value encountered in cast\n",
      "  obspy_trace = Trace(self.ts.astype(encoding_dict[encoding]))\n"
     ]
    },
    {
     "name": "stdout",
     "output_type": "stream",
     "text": [
      "\u001b[1m2025-04-01T16:51:42.802711-0700 | INFO | mth5.io.conversion | split_ms_to_days | Wrote miniseed file to: c:\\Users\\jpeacock\\OneDrive - DOI\\MTData\\CL2021\\archive\\to_dmc\\1Z_CL017__CQN_2021_04_30T19_09_59.mseed\u001b[0m\n",
      "\u001b[1m2025-04-01T16:51:43.198998-0700 | INFO | mth5.io.conversion | split_ms_to_days | Wrote miniseed file to: c:\\Users\\jpeacock\\OneDrive - DOI\\MTData\\CL2021\\archive\\to_dmc\\1Z_CL017__CQN_2021_05_01T00_00_00.mseed\u001b[0m\n",
      "\u001b[1m2025-04-01T16:51:43.283544-0700 | INFO | mth5.io.conversion | split_ms_to_days | Wrote miniseed file to: c:\\Users\\jpeacock\\OneDrive - DOI\\MTData\\CL2021\\archive\\to_dmc\\1Z_CL017__CQE_2021_04_30T19_09_59.mseed\u001b[0m\n",
      "\u001b[1m2025-04-01T16:51:43.684299-0700 | INFO | mth5.io.conversion | split_ms_to_days | Wrote miniseed file to: c:\\Users\\jpeacock\\OneDrive - DOI\\MTData\\CL2021\\archive\\to_dmc\\1Z_CL017__CQE_2021_05_01T00_00_00.mseed\u001b[0m\n",
      "\u001b[1m2025-04-01T16:51:43.800782-0700 | INFO | mth5.io.conversion | split_ms_to_days | Wrote miniseed file to: c:\\Users\\jpeacock\\OneDrive - DOI\\MTData\\CL2021\\archive\\to_dmc\\1Z_CL017__CFN_2021_04_30T19_09_59.mseed\u001b[0m\n",
      "\u001b[1m2025-04-01T16:51:44.193247-0700 | INFO | mth5.io.conversion | split_ms_to_days | Wrote miniseed file to: c:\\Users\\jpeacock\\OneDrive - DOI\\MTData\\CL2021\\archive\\to_dmc\\1Z_CL017__CFN_2021_05_01T00_00_00.mseed\u001b[0m\n",
      "\u001b[1m2025-04-01T16:51:44.296391-0700 | INFO | mth5.io.conversion | split_ms_to_days | Wrote miniseed file to: c:\\Users\\jpeacock\\OneDrive - DOI\\MTData\\CL2021\\archive\\to_dmc\\1Z_CL017__CFE_2021_04_30T19_09_59.mseed\u001b[0m\n",
      "\u001b[1m2025-04-01T16:51:44.732447-0700 | INFO | mth5.io.conversion | split_ms_to_days | Wrote miniseed file to: c:\\Users\\jpeacock\\OneDrive - DOI\\MTData\\CL2021\\archive\\to_dmc\\1Z_CL017__CFE_2021_05_01T00_00_00.mseed\u001b[0m\n",
      "\u001b[1m2025-04-01T16:51:44.846969-0700 | INFO | mth5.io.conversion | split_ms_to_days | Wrote miniseed file to: c:\\Users\\jpeacock\\OneDrive - DOI\\MTData\\CL2021\\archive\\to_dmc\\1Z_CL017__CFZ_2021_04_30T19_09_59.mseed\u001b[0m\n",
      "\u001b[1m2025-04-01T16:51:45.251310-0700 | INFO | mth5.io.conversion | split_ms_to_days | Wrote miniseed file to: c:\\Users\\jpeacock\\OneDrive - DOI\\MTData\\CL2021\\archive\\to_dmc\\1Z_CL017__CFZ_2021_05_01T00_00_00.mseed\u001b[0m\n",
      "\u001b[1m2025-04-01T16:51:49.559228-0700 | INFO | mth5.timeseries.run_ts | _align_channels | Channels do not have a common end, using latest: 2021-05-01T01:09:43.998535156\u001b[0m\n",
      "\u001b[33m\u001b[1m2025-04-01T16:51:51.733829-0700 | WARNING | mth5.timeseries.run_ts | validate_metadata | end time of dataset 2021-05-01T01:09:43.998291015+00:00 does not match metadata end 2021-05-01T01:09:43.998535156+00:00 updating metatdata value to 2021-05-01T01:09:43.998291015+00:00\u001b[0m\n",
      "\u001b[1m2025-04-01T16:51:52.487171-0700 | INFO | mth5.io.conversion | split_ms_to_days | Wrote miniseed file to: c:\\Users\\jpeacock\\OneDrive - DOI\\MTData\\CL2021\\archive\\to_dmc\\1Z_CL017__FQN_2021_05_01T00_59_59.mseed\u001b[0m\n"
     ]
    },
    {
     "name": "stderr",
     "output_type": "stream",
     "text": [
      "C:\\Users\\jpeacock\\OneDrive - DOI\\Documents\\GitHub\\mth5\\mth5\\timeseries\\channel_ts.py:1524: RuntimeWarning: invalid value encountered in cast\n",
      "  obspy_trace = Trace(self.ts.astype(encoding_dict[encoding]))\n"
     ]
    },
    {
     "name": "stdout",
     "output_type": "stream",
     "text": [
      "\u001b[1m2025-04-01T16:51:52.694177-0700 | INFO | mth5.io.conversion | split_ms_to_days | Wrote miniseed file to: c:\\Users\\jpeacock\\OneDrive - DOI\\MTData\\CL2021\\archive\\to_dmc\\1Z_CL017__FQE_2021_05_01T00_59_59.mseed\u001b[0m\n",
      "\u001b[1m2025-04-01T16:51:52.911163-0700 | INFO | mth5.io.conversion | split_ms_to_days | Wrote miniseed file to: c:\\Users\\jpeacock\\OneDrive - DOI\\MTData\\CL2021\\archive\\to_dmc\\1Z_CL017__FFN_2021_05_01T00_59_59.mseed\u001b[0m\n",
      "\u001b[1m2025-04-01T16:51:53.120227-0700 | INFO | mth5.io.conversion | split_ms_to_days | Wrote miniseed file to: c:\\Users\\jpeacock\\OneDrive - DOI\\MTData\\CL2021\\archive\\to_dmc\\1Z_CL017__FFE_2021_05_01T00_59_59.mseed\u001b[0m\n",
      "\u001b[1m2025-04-01T16:51:53.335518-0700 | INFO | mth5.io.conversion | split_ms_to_days | Wrote miniseed file to: c:\\Users\\jpeacock\\OneDrive - DOI\\MTData\\CL2021\\archive\\to_dmc\\1Z_CL017__FFZ_2021_05_01T00_59_59.mseed\u001b[0m\n",
      "\u001b[1m2025-04-01T16:52:00.306723-0700 | INFO | mth5.timeseries.run_ts | _align_channels | Channels do not have a common end, using latest: 2021-05-01T06:59:43.996094000\u001b[0m\n"
     ]
    },
    {
     "name": "stderr",
     "output_type": "stream",
     "text": [
      "C:\\Users\\jpeacock\\OneDrive - DOI\\Documents\\GitHub\\mth5\\mth5\\timeseries\\channel_ts.py:1524: RuntimeWarning: invalid value encountered in cast\n",
      "  obspy_trace = Trace(self.ts.astype(encoding_dict[encoding]))\n"
     ]
    },
    {
     "name": "stdout",
     "output_type": "stream",
     "text": [
      "\u001b[1m2025-04-01T16:52:05.633814-0700 | INFO | mth5.io.conversion | split_ms_to_days | Wrote miniseed file to: c:\\Users\\jpeacock\\OneDrive - DOI\\MTData\\CL2021\\archive\\to_dmc\\1Z_CL017__CQN_2021_05_01T01_09_59.mseed\u001b[0m\n",
      "\u001b[1m2025-04-01T16:52:06.077126-0700 | INFO | mth5.io.conversion | split_ms_to_days | Wrote miniseed file to: c:\\Users\\jpeacock\\OneDrive - DOI\\MTData\\CL2021\\archive\\to_dmc\\1Z_CL017__CQE_2021_05_01T01_09_59.mseed\u001b[0m\n",
      "\u001b[1m2025-04-01T16:52:06.542488-0700 | INFO | mth5.io.conversion | split_ms_to_days | Wrote miniseed file to: c:\\Users\\jpeacock\\OneDrive - DOI\\MTData\\CL2021\\archive\\to_dmc\\1Z_CL017__CFN_2021_05_01T01_09_59.mseed\u001b[0m\n",
      "\u001b[1m2025-04-01T16:52:07.027825-0700 | INFO | mth5.io.conversion | split_ms_to_days | Wrote miniseed file to: c:\\Users\\jpeacock\\OneDrive - DOI\\MTData\\CL2021\\archive\\to_dmc\\1Z_CL017__CFE_2021_05_01T01_09_59.mseed\u001b[0m\n",
      "\u001b[1m2025-04-01T16:52:07.488448-0700 | INFO | mth5.io.conversion | split_ms_to_days | Wrote miniseed file to: c:\\Users\\jpeacock\\OneDrive - DOI\\MTData\\CL2021\\archive\\to_dmc\\1Z_CL017__CFZ_2021_05_01T01_09_59.mseed\u001b[0m\n",
      "\u001b[1m2025-04-01T16:52:11.524561-0700 | INFO | mth5.timeseries.run_ts | _align_channels | Channels do not have a common end, using latest: 2021-05-01T07:09:43.998535156\u001b[0m\n",
      "\u001b[33m\u001b[1m2025-04-01T16:52:14.361563-0700 | WARNING | mth5.timeseries.run_ts | validate_metadata | end time of dataset 2021-05-01T07:09:43.998291015+00:00 does not match metadata end 2021-05-01T07:09:43.998535156+00:00 updating metatdata value to 2021-05-01T07:09:43.998291015+00:00\u001b[0m\n"
     ]
    },
    {
     "name": "stderr",
     "output_type": "stream",
     "text": [
      "C:\\Users\\jpeacock\\OneDrive - DOI\\Documents\\GitHub\\mth5\\mth5\\timeseries\\channel_ts.py:1524: RuntimeWarning: invalid value encountered in cast\n",
      "  obspy_trace = Trace(self.ts.astype(encoding_dict[encoding]))\n"
     ]
    },
    {
     "name": "stdout",
     "output_type": "stream",
     "text": [
      "\u001b[1m2025-04-01T16:52:15.156712-0700 | INFO | mth5.io.conversion | split_ms_to_days | Wrote miniseed file to: c:\\Users\\jpeacock\\OneDrive - DOI\\MTData\\CL2021\\archive\\to_dmc\\1Z_CL017__FQN_2021_05_01T06_59_59.mseed\u001b[0m\n",
      "\u001b[1m2025-04-01T16:52:15.395762-0700 | INFO | mth5.io.conversion | split_ms_to_days | Wrote miniseed file to: c:\\Users\\jpeacock\\OneDrive - DOI\\MTData\\CL2021\\archive\\to_dmc\\1Z_CL017__FQE_2021_05_01T06_59_59.mseed\u001b[0m\n",
      "\u001b[1m2025-04-01T16:52:15.636685-0700 | INFO | mth5.io.conversion | split_ms_to_days | Wrote miniseed file to: c:\\Users\\jpeacock\\OneDrive - DOI\\MTData\\CL2021\\archive\\to_dmc\\1Z_CL017__FFN_2021_05_01T06_59_59.mseed\u001b[0m\n",
      "\u001b[1m2025-04-01T16:52:15.871834-0700 | INFO | mth5.io.conversion | split_ms_to_days | Wrote miniseed file to: c:\\Users\\jpeacock\\OneDrive - DOI\\MTData\\CL2021\\archive\\to_dmc\\1Z_CL017__FFE_2021_05_01T06_59_59.mseed\u001b[0m\n",
      "\u001b[1m2025-04-01T16:52:16.073406-0700 | INFO | mth5.io.conversion | split_ms_to_days | Wrote miniseed file to: c:\\Users\\jpeacock\\OneDrive - DOI\\MTData\\CL2021\\archive\\to_dmc\\1Z_CL017__FFZ_2021_05_01T06_59_59.mseed\u001b[0m\n",
      "\u001b[1m2025-04-01T16:52:23.209681-0700 | INFO | mth5.timeseries.run_ts | _align_channels | Channels do not have a common end, using latest: 2021-05-01T12:59:43.996094000\u001b[0m\n"
     ]
    },
    {
     "name": "stderr",
     "output_type": "stream",
     "text": [
      "C:\\Users\\jpeacock\\OneDrive - DOI\\Documents\\GitHub\\mth5\\mth5\\timeseries\\channel_ts.py:1524: RuntimeWarning: invalid value encountered in cast\n",
      "  obspy_trace = Trace(self.ts.astype(encoding_dict[encoding]))\n"
     ]
    },
    {
     "name": "stdout",
     "output_type": "stream",
     "text": [
      "\u001b[1m2025-04-01T16:52:30.004492-0700 | INFO | mth5.io.conversion | split_ms_to_days | Wrote miniseed file to: c:\\Users\\jpeacock\\OneDrive - DOI\\MTData\\CL2021\\archive\\to_dmc\\1Z_CL017__CQN_2021_05_01T07_09_59.mseed\u001b[0m\n",
      "\u001b[1m2025-04-01T16:52:30.499642-0700 | INFO | mth5.io.conversion | split_ms_to_days | Wrote miniseed file to: c:\\Users\\jpeacock\\OneDrive - DOI\\MTData\\CL2021\\archive\\to_dmc\\1Z_CL017__CQE_2021_05_01T07_09_59.mseed\u001b[0m\n",
      "\u001b[1m2025-04-01T16:52:30.953486-0700 | INFO | mth5.io.conversion | split_ms_to_days | Wrote miniseed file to: c:\\Users\\jpeacock\\OneDrive - DOI\\MTData\\CL2021\\archive\\to_dmc\\1Z_CL017__CFN_2021_05_01T07_09_59.mseed\u001b[0m\n",
      "\u001b[1m2025-04-01T16:52:31.414303-0700 | INFO | mth5.io.conversion | split_ms_to_days | Wrote miniseed file to: c:\\Users\\jpeacock\\OneDrive - DOI\\MTData\\CL2021\\archive\\to_dmc\\1Z_CL017__CFE_2021_05_01T07_09_59.mseed\u001b[0m\n",
      "\u001b[1m2025-04-01T16:52:31.890340-0700 | INFO | mth5.io.conversion | split_ms_to_days | Wrote miniseed file to: c:\\Users\\jpeacock\\OneDrive - DOI\\MTData\\CL2021\\archive\\to_dmc\\1Z_CL017__CFZ_2021_05_01T07_09_59.mseed\u001b[0m\n",
      "\u001b[1m2025-04-01T16:52:36.297821-0700 | INFO | mth5.timeseries.run_ts | _align_channels | Channels do not have a common end, using latest: 2021-05-01T13:09:43.999512000\u001b[0m\n"
     ]
    },
    {
     "name": "stderr",
     "output_type": "stream",
     "text": [
      "C:\\Users\\jpeacock\\OneDrive - DOI\\Documents\\GitHub\\mth5\\mth5\\timeseries\\channel_ts.py:1524: RuntimeWarning: invalid value encountered in cast\n",
      "  obspy_trace = Trace(self.ts.astype(encoding_dict[encoding]))\n"
     ]
    },
    {
     "name": "stdout",
     "output_type": "stream",
     "text": [
      "\u001b[1m2025-04-01T16:52:39.756767-0700 | INFO | mth5.io.conversion | split_ms_to_days | Wrote miniseed file to: c:\\Users\\jpeacock\\OneDrive - DOI\\MTData\\CL2021\\archive\\to_dmc\\1Z_CL017__FQN_2021_05_01T12_59_59.mseed\u001b[0m\n",
      "\u001b[1m2025-04-01T16:52:39.984863-0700 | INFO | mth5.io.conversion | split_ms_to_days | Wrote miniseed file to: c:\\Users\\jpeacock\\OneDrive - DOI\\MTData\\CL2021\\archive\\to_dmc\\1Z_CL017__FQE_2021_05_01T12_59_59.mseed\u001b[0m\n",
      "\u001b[1m2025-04-01T16:52:40.212926-0700 | INFO | mth5.io.conversion | split_ms_to_days | Wrote miniseed file to: c:\\Users\\jpeacock\\OneDrive - DOI\\MTData\\CL2021\\archive\\to_dmc\\1Z_CL017__FFN_2021_05_01T12_59_59.mseed\u001b[0m\n",
      "\u001b[1m2025-04-01T16:52:40.444966-0700 | INFO | mth5.io.conversion | split_ms_to_days | Wrote miniseed file to: c:\\Users\\jpeacock\\OneDrive - DOI\\MTData\\CL2021\\archive\\to_dmc\\1Z_CL017__FFE_2021_05_01T12_59_59.mseed\u001b[0m\n",
      "\u001b[1m2025-04-01T16:52:40.678996-0700 | INFO | mth5.io.conversion | split_ms_to_days | Wrote miniseed file to: c:\\Users\\jpeacock\\OneDrive - DOI\\MTData\\CL2021\\archive\\to_dmc\\1Z_CL017__FFZ_2021_05_01T12_59_59.mseed\u001b[0m\n",
      "\u001b[1m2025-04-01T16:52:47.102801-0700 | INFO | mth5.io.conversion | split_ms_to_days | Wrote miniseed file to: c:\\Users\\jpeacock\\OneDrive - DOI\\MTData\\CL2021\\archive\\to_dmc\\1Z_CL017__CQN_2021_05_01T13_09_59.mseed\u001b[0m\n",
      "\u001b[1m2025-04-01T16:52:47.357237-0700 | INFO | mth5.io.conversion | split_ms_to_days | Wrote miniseed file to: c:\\Users\\jpeacock\\OneDrive - DOI\\MTData\\CL2021\\archive\\to_dmc\\1Z_CL017__CQE_2021_05_01T13_09_59.mseed\u001b[0m\n",
      "\u001b[1m2025-04-01T16:52:47.631504-0700 | INFO | mth5.io.conversion | split_ms_to_days | Wrote miniseed file to: c:\\Users\\jpeacock\\OneDrive - DOI\\MTData\\CL2021\\archive\\to_dmc\\1Z_CL017__CFN_2021_05_01T13_09_59.mseed\u001b[0m\n",
      "\u001b[1m2025-04-01T16:52:47.880919-0700 | INFO | mth5.io.conversion | split_ms_to_days | Wrote miniseed file to: c:\\Users\\jpeacock\\OneDrive - DOI\\MTData\\CL2021\\archive\\to_dmc\\1Z_CL017__CFE_2021_05_01T13_09_59.mseed\u001b[0m\n",
      "\u001b[1m2025-04-01T16:52:48.120539-0700 | INFO | mth5.io.conversion | split_ms_to_days | Wrote miniseed file to: c:\\Users\\jpeacock\\OneDrive - DOI\\MTData\\CL2021\\archive\\to_dmc\\1Z_CL017__CFZ_2021_05_01T13_09_59.mseed\u001b[0m\n",
      "\u001b[1m2025-04-01T16:52:49.525069-0700 | INFO | mth5.mth5 | close_mth5 | Flushing and closing c:\\Users\\jpeacock\\OneDrive - DOI\\MTData\\CL2021\\archive\\cl017.h5\u001b[0m\n",
      "\u001b[33m\u001b[1m2025-04-01T16:52:49.530069-0700 | WARNING | mt_metadata.timeseries.stationxml.xml_station_mt_station | mt_to_xml | Station.geographic_name is None, using Station.id = cl017.Check StationXML site.name.\u001b[0m\n",
      "\u001b[1m2025-04-01T16:52:49.621631-0700 | INFO | mt_metadata.timeseries.filters.channel_response | to_obspy | total sensitivity 105030248038.4055 != total gain 1048576000.000055. Using total_gain.\u001b[0m\n",
      "\u001b[1m2025-04-01T16:52:49.653633-0700 | INFO | mt_metadata.timeseries.filters.channel_response | to_obspy | total sensitivity 105404484812.80553 != total gain 1048576000.000055. Using total_gain.\u001b[0m\n",
      "\u001b[1m2025-04-01T16:52:49.685628-0700 | INFO | mt_metadata.timeseries.filters.channel_response | to_obspy | total sensitivity 105051593082.1482 != total gain 1048576000.000055. Using total_gain.\u001b[0m\n",
      "\u001b[1m2025-04-01T16:52:49.783185-0700 | INFO | mt_metadata.timeseries.filters.channel_response | to_obspy | total sensitivity 105030248038.4055 != total gain 1048576000.000055. Using total_gain.\u001b[0m\n",
      "\u001b[1m2025-04-01T16:52:49.812192-0700 | INFO | mt_metadata.timeseries.filters.channel_response | to_obspy | total sensitivity 105404484812.80553 != total gain 1048576000.000055. Using total_gain.\u001b[0m\n",
      "\u001b[1m2025-04-01T16:52:49.842705-0700 | INFO | mt_metadata.timeseries.filters.channel_response | to_obspy | total sensitivity 105051593082.1482 != total gain 1048576000.000055. Using total_gain.\u001b[0m\n",
      "\u001b[1m2025-04-01T16:52:49.936220-0700 | INFO | mt_metadata.timeseries.filters.channel_response | to_obspy | total sensitivity 105030248038.4055 != total gain 1048576000.000055. Using total_gain.\u001b[0m\n",
      "\u001b[1m2025-04-01T16:52:49.966222-0700 | INFO | mt_metadata.timeseries.filters.channel_response | to_obspy | total sensitivity 105404484812.80553 != total gain 1048576000.000055. Using total_gain.\u001b[0m\n",
      "\u001b[1m2025-04-01T16:52:49.997225-0700 | INFO | mt_metadata.timeseries.filters.channel_response | to_obspy | total sensitivity 105051593082.1482 != total gain 1048576000.000055. Using total_gain.\u001b[0m\n",
      "\u001b[1m2025-04-01T16:52:50.090756-0700 | INFO | mt_metadata.timeseries.filters.channel_response | to_obspy | total sensitivity 105030248038.4055 != total gain 1048576000.000055. Using total_gain.\u001b[0m\n",
      "\u001b[1m2025-04-01T16:52:50.119272-0700 | INFO | mt_metadata.timeseries.filters.channel_response | to_obspy | total sensitivity 105404484812.80553 != total gain 1048576000.000055. Using total_gain.\u001b[0m\n",
      "\u001b[1m2025-04-01T16:52:50.150273-0700 | INFO | mt_metadata.timeseries.filters.channel_response | to_obspy | total sensitivity 105051593082.1482 != total gain 1048576000.000055. Using total_gain.\u001b[0m\n",
      "\u001b[1m2025-04-01T16:52:50.246799-0700 | INFO | mt_metadata.timeseries.filters.channel_response | to_obspy | total sensitivity 105030248038.4055 != total gain 1048576000.000055. Using total_gain.\u001b[0m\n",
      "\u001b[1m2025-04-01T16:52:50.275801-0700 | INFO | mt_metadata.timeseries.filters.channel_response | to_obspy | total sensitivity 105404484812.80553 != total gain 1048576000.000055. Using total_gain.\u001b[0m\n",
      "\u001b[1m2025-04-01T16:52:50.307806-0700 | INFO | mt_metadata.timeseries.filters.channel_response | to_obspy | total sensitivity 105051593082.1482 != total gain 1048576000.000055. Using total_gain.\u001b[0m\n",
      "\u001b[1m2025-04-01T16:52:50.429835-0700 | INFO | mt_metadata.timeseries.filters.channel_response | to_obspy | total sensitivity 105030248038.4055 != total gain 1048576000.000055. Using total_gain.\u001b[0m\n",
      "\u001b[1m2025-04-01T16:52:50.457833-0700 | INFO | mt_metadata.timeseries.filters.channel_response | to_obspy | total sensitivity 105404484812.80553 != total gain 1048576000.000055. Using total_gain.\u001b[0m\n",
      "\u001b[1m2025-04-01T16:52:50.488833-0700 | INFO | mt_metadata.timeseries.filters.channel_response | to_obspy | total sensitivity 105051593082.1482 != total gain 1048576000.000055. Using total_gain.\u001b[0m\n",
      "\u001b[1m2025-04-01T16:52:50.595350-0700 | INFO | mt_metadata.timeseries.filters.channel_response | to_obspy | total sensitivity 105030248038.4055 != total gain 1048576000.000055. Using total_gain.\u001b[0m\n",
      "\u001b[1m2025-04-01T16:52:50.623937-0700 | INFO | mt_metadata.timeseries.filters.channel_response | to_obspy | total sensitivity 105404484812.80553 != total gain 1048576000.000055. Using total_gain.\u001b[0m\n",
      "\u001b[1m2025-04-01T16:52:50.653972-0700 | INFO | mt_metadata.timeseries.filters.channel_response | to_obspy | total sensitivity 105051593082.1482 != total gain 1048576000.000055. Using total_gain.\u001b[0m\n",
      "\u001b[1m2025-04-01T16:52:50.743559-0700 | INFO | mt_metadata.timeseries.filters.channel_response | to_obspy | total sensitivity 105030248038.4055 != total gain 1048576000.000055. Using total_gain.\u001b[0m\n",
      "\u001b[1m2025-04-01T16:52:50.770561-0700 | INFO | mt_metadata.timeseries.filters.channel_response | to_obspy | total sensitivity 105404484812.80553 != total gain 1048576000.000055. Using total_gain.\u001b[0m\n",
      "\u001b[1m2025-04-01T16:52:50.797528-0700 | INFO | mt_metadata.timeseries.filters.channel_response | to_obspy | total sensitivity 105051593082.1482 != total gain 1048576000.000055. Using total_gain.\u001b[0m\n",
      "\u001b[1m2025-04-01T16:52:50.888111-0700 | INFO | mt_metadata.timeseries.filters.channel_response | to_obspy | total sensitivity 105030248038.4055 != total gain 1048576000.000055. Using total_gain.\u001b[0m\n",
      "\u001b[1m2025-04-01T16:52:50.919423-0700 | INFO | mt_metadata.timeseries.filters.channel_response | to_obspy | total sensitivity 105404484812.80553 != total gain 1048576000.000055. Using total_gain.\u001b[0m\n",
      "\u001b[1m2025-04-01T16:52:50.978426-0700 | INFO | mt_metadata.timeseries.filters.channel_response | to_obspy | total sensitivity 105051593082.1482 != total gain 1048576000.000055. Using total_gain.\u001b[0m\n",
      "\u001b[1m2025-04-01T16:52:51.099960-0700 | INFO | mt_metadata.timeseries.filters.channel_response | to_obspy | total sensitivity 105030248038.4055 != total gain 1048576000.000055. Using total_gain.\u001b[0m\n",
      "\u001b[1m2025-04-01T16:52:51.129475-0700 | INFO | mt_metadata.timeseries.filters.channel_response | to_obspy | total sensitivity 105404484812.80553 != total gain 1048576000.000055. Using total_gain.\u001b[0m\n",
      "\u001b[1m2025-04-01T16:52:51.158485-0700 | INFO | mt_metadata.timeseries.filters.channel_response | to_obspy | total sensitivity 105051593082.1482 != total gain 1048576000.000055. Using total_gain.\u001b[0m\n",
      "\u001b[1m2025-04-01T16:52:51.190477-0700 | INFO | mth5.io.conversion | convert_mth5_to_ms_stationxml | Wrote StationXML to c:\\Users\\jpeacock\\OneDrive - DOI\\MTData\\CL2021\\archive\\to_dmc\\cl017.xml\u001b[0m\n",
      "\u001b[1m2025-04-01T16:52:56.717116-0700 | INFO | mth5.io.conversion | split_ms_to_days | Wrote miniseed file to: c:\\Users\\jpeacock\\OneDrive - DOI\\MTData\\CL2021\\archive\\to_dmc\\1Z_CL024__LQN_2021_05_20T23_44_59.mseed\u001b[0m\n",
      "\u001b[1m2025-04-01T16:52:56.719328-0700 | INFO | mth5.io.conversion | split_ms_to_days | Wrote miniseed file to: c:\\Users\\jpeacock\\OneDrive - DOI\\MTData\\CL2021\\archive\\to_dmc\\1Z_CL024__LQN_2021_05_21T00_00_00.mseed\u001b[0m\n",
      "\u001b[1m2025-04-01T16:52:56.728325-0700 | INFO | mth5.io.conversion | split_ms_to_days | Wrote miniseed file to: c:\\Users\\jpeacock\\OneDrive - DOI\\MTData\\CL2021\\archive\\to_dmc\\1Z_CL024__LQE_2021_05_20T23_44_59.mseed\u001b[0m\n",
      "\u001b[1m2025-04-01T16:52:56.731328-0700 | INFO | mth5.io.conversion | split_ms_to_days | Wrote miniseed file to: c:\\Users\\jpeacock\\OneDrive - DOI\\MTData\\CL2021\\archive\\to_dmc\\1Z_CL024__LQE_2021_05_21T00_00_00.mseed\u001b[0m\n",
      "\u001b[1m2025-04-01T16:52:56.741332-0700 | INFO | mth5.io.conversion | split_ms_to_days | Wrote miniseed file to: c:\\Users\\jpeacock\\OneDrive - DOI\\MTData\\CL2021\\archive\\to_dmc\\1Z_CL024__LFN_2021_05_20T23_44_59.mseed\u001b[0m\n",
      "\u001b[1m2025-04-01T16:52:56.744331-0700 | INFO | mth5.io.conversion | split_ms_to_days | Wrote miniseed file to: c:\\Users\\jpeacock\\OneDrive - DOI\\MTData\\CL2021\\archive\\to_dmc\\1Z_CL024__LFN_2021_05_21T00_00_00.mseed\u001b[0m\n",
      "\u001b[1m2025-04-01T16:52:56.755328-0700 | INFO | mth5.io.conversion | split_ms_to_days | Wrote miniseed file to: c:\\Users\\jpeacock\\OneDrive - DOI\\MTData\\CL2021\\archive\\to_dmc\\1Z_CL024__LFE_2021_05_20T23_44_59.mseed\u001b[0m\n",
      "\u001b[1m2025-04-01T16:52:56.757329-0700 | INFO | mth5.io.conversion | split_ms_to_days | Wrote miniseed file to: c:\\Users\\jpeacock\\OneDrive - DOI\\MTData\\CL2021\\archive\\to_dmc\\1Z_CL024__LFE_2021_05_21T00_00_00.mseed\u001b[0m\n",
      "\u001b[1m2025-04-01T16:52:56.767327-0700 | INFO | mth5.io.conversion | split_ms_to_days | Wrote miniseed file to: c:\\Users\\jpeacock\\OneDrive - DOI\\MTData\\CL2021\\archive\\to_dmc\\1Z_CL024__LFZ_2021_05_20T23_44_59.mseed\u001b[0m\n",
      "\u001b[1m2025-04-01T16:52:56.770331-0700 | INFO | mth5.io.conversion | split_ms_to_days | Wrote miniseed file to: c:\\Users\\jpeacock\\OneDrive - DOI\\MTData\\CL2021\\archive\\to_dmc\\1Z_CL024__LFZ_2021_05_21T00_00_00.mseed\u001b[0m\n",
      "\u001b[1m2025-04-01T16:53:01.566791-0700 | INFO | mth5.io.conversion | split_ms_to_days | Wrote miniseed file to: c:\\Users\\jpeacock\\OneDrive - DOI\\MTData\\CL2021\\archive\\to_dmc\\1Z_CL024__CQN_2021_05_20T23_44_59.mseed\u001b[0m\n",
      "\u001b[1m2025-04-01T16:53:01.590821-0700 | INFO | mth5.io.conversion | split_ms_to_days | Wrote miniseed file to: c:\\Users\\jpeacock\\OneDrive - DOI\\MTData\\CL2021\\archive\\to_dmc\\1Z_CL024__CQN_2021_05_21T00_00_00.mseed\u001b[0m\n",
      "\u001b[1m2025-04-01T16:53:01.681965-0700 | INFO | mth5.io.conversion | split_ms_to_days | Wrote miniseed file to: c:\\Users\\jpeacock\\OneDrive - DOI\\MTData\\CL2021\\archive\\to_dmc\\1Z_CL024__CQE_2021_05_20T23_44_59.mseed\u001b[0m\n",
      "\u001b[1m2025-04-01T16:53:01.706002-0700 | INFO | mth5.io.conversion | split_ms_to_days | Wrote miniseed file to: c:\\Users\\jpeacock\\OneDrive - DOI\\MTData\\CL2021\\archive\\to_dmc\\1Z_CL024__CQE_2021_05_21T00_00_00.mseed\u001b[0m\n",
      "\u001b[1m2025-04-01T16:53:01.784509-0700 | INFO | mth5.io.conversion | split_ms_to_days | Wrote miniseed file to: c:\\Users\\jpeacock\\OneDrive - DOI\\MTData\\CL2021\\archive\\to_dmc\\1Z_CL024__CFN_2021_05_20T23_44_59.mseed\u001b[0m\n",
      "\u001b[1m2025-04-01T16:53:01.811513-0700 | INFO | mth5.io.conversion | split_ms_to_days | Wrote miniseed file to: c:\\Users\\jpeacock\\OneDrive - DOI\\MTData\\CL2021\\archive\\to_dmc\\1Z_CL024__CFN_2021_05_21T00_00_00.mseed\u001b[0m\n",
      "\u001b[1m2025-04-01T16:53:01.897037-0700 | INFO | mth5.io.conversion | split_ms_to_days | Wrote miniseed file to: c:\\Users\\jpeacock\\OneDrive - DOI\\MTData\\CL2021\\archive\\to_dmc\\1Z_CL024__CFE_2021_05_20T23_44_59.mseed\u001b[0m\n",
      "\u001b[1m2025-04-01T16:53:01.924563-0700 | INFO | mth5.io.conversion | split_ms_to_days | Wrote miniseed file to: c:\\Users\\jpeacock\\OneDrive - DOI\\MTData\\CL2021\\archive\\to_dmc\\1Z_CL024__CFE_2021_05_21T00_00_00.mseed\u001b[0m\n",
      "\u001b[1m2025-04-01T16:53:02.031127-0700 | INFO | mth5.io.conversion | split_ms_to_days | Wrote miniseed file to: c:\\Users\\jpeacock\\OneDrive - DOI\\MTData\\CL2021\\archive\\to_dmc\\1Z_CL024__CFZ_2021_05_20T23_44_59.mseed\u001b[0m\n",
      "\u001b[1m2025-04-01T16:53:02.053116-0700 | INFO | mth5.io.conversion | split_ms_to_days | Wrote miniseed file to: c:\\Users\\jpeacock\\OneDrive - DOI\\MTData\\CL2021\\archive\\to_dmc\\1Z_CL024__CFZ_2021_05_21T00_00_00.mseed\u001b[0m\n",
      "\u001b[1m2025-04-01T16:53:05.290515-0700 | INFO | mth5.timeseries.run_ts | _align_channels | Channels do not have a common end, using latest: 2021-05-21T01:09:43.998535156\u001b[0m\n",
      "\u001b[33m\u001b[1m2025-04-01T16:53:08.106828-0700 | WARNING | mth5.timeseries.run_ts | validate_metadata | end time of dataset 2021-05-21T01:09:43.998291015+00:00 does not match metadata end 2021-05-21T01:09:43.998535156+00:00 updating metatdata value to 2021-05-21T01:09:43.998291015+00:00\u001b[0m\n"
     ]
    },
    {
     "name": "stderr",
     "output_type": "stream",
     "text": [
      "C:\\Users\\jpeacock\\OneDrive - DOI\\Documents\\GitHub\\mth5\\mth5\\timeseries\\channel_ts.py:1524: RuntimeWarning: invalid value encountered in cast\n",
      "  obspy_trace = Trace(self.ts.astype(encoding_dict[encoding]))\n"
     ]
    },
    {
     "name": "stdout",
     "output_type": "stream",
     "text": [
      "\u001b[1m2025-04-01T16:53:09.190047-0700 | INFO | mth5.io.conversion | split_ms_to_days | Wrote miniseed file to: c:\\Users\\jpeacock\\OneDrive - DOI\\MTData\\CL2021\\archive\\to_dmc\\1Z_CL024__FQN_2021_05_21T00_59_59.mseed\u001b[0m\n",
      "\u001b[1m2025-04-01T16:53:09.401846-0700 | INFO | mth5.io.conversion | split_ms_to_days | Wrote miniseed file to: c:\\Users\\jpeacock\\OneDrive - DOI\\MTData\\CL2021\\archive\\to_dmc\\1Z_CL024__FQE_2021_05_21T00_59_59.mseed\u001b[0m\n",
      "\u001b[1m2025-04-01T16:53:09.692056-0700 | INFO | mth5.io.conversion | split_ms_to_days | Wrote miniseed file to: c:\\Users\\jpeacock\\OneDrive - DOI\\MTData\\CL2021\\archive\\to_dmc\\1Z_CL024__FFN_2021_05_21T00_59_59.mseed\u001b[0m\n",
      "\u001b[1m2025-04-01T16:53:09.901289-0700 | INFO | mth5.io.conversion | split_ms_to_days | Wrote miniseed file to: c:\\Users\\jpeacock\\OneDrive - DOI\\MTData\\CL2021\\archive\\to_dmc\\1Z_CL024__FFE_2021_05_21T00_59_59.mseed\u001b[0m\n",
      "\u001b[1m2025-04-01T16:53:10.120338-0700 | INFO | mth5.io.conversion | split_ms_to_days | Wrote miniseed file to: c:\\Users\\jpeacock\\OneDrive - DOI\\MTData\\CL2021\\archive\\to_dmc\\1Z_CL024__FFZ_2021_05_21T00_59_59.mseed\u001b[0m\n",
      "\u001b[1m2025-04-01T16:53:17.220651-0700 | INFO | mth5.timeseries.run_ts | _align_channels | Channels do not have a common end, using latest: 2021-05-21T06:59:43.996094000\u001b[0m\n"
     ]
    },
    {
     "name": "stderr",
     "output_type": "stream",
     "text": [
      "C:\\Users\\jpeacock\\OneDrive - DOI\\Documents\\GitHub\\mth5\\mth5\\timeseries\\channel_ts.py:1524: RuntimeWarning: invalid value encountered in cast\n",
      "  obspy_trace = Trace(self.ts.astype(encoding_dict[encoding]))\n"
     ]
    },
    {
     "name": "stdout",
     "output_type": "stream",
     "text": [
      "\u001b[1m2025-04-01T16:53:22.940590-0700 | INFO | mth5.io.conversion | split_ms_to_days | Wrote miniseed file to: c:\\Users\\jpeacock\\OneDrive - DOI\\MTData\\CL2021\\archive\\to_dmc\\1Z_CL024__CQN_2021_05_21T01_09_59.mseed\u001b[0m\n",
      "\u001b[1m2025-04-01T16:53:23.456987-0700 | INFO | mth5.io.conversion | split_ms_to_days | Wrote miniseed file to: c:\\Users\\jpeacock\\OneDrive - DOI\\MTData\\CL2021\\archive\\to_dmc\\1Z_CL024__CQE_2021_05_21T01_09_59.mseed\u001b[0m\n",
      "\u001b[1m2025-04-01T16:53:24.065662-0700 | INFO | mth5.io.conversion | split_ms_to_days | Wrote miniseed file to: c:\\Users\\jpeacock\\OneDrive - DOI\\MTData\\CL2021\\archive\\to_dmc\\1Z_CL024__CFN_2021_05_21T01_09_59.mseed\u001b[0m\n",
      "\u001b[1m2025-04-01T16:53:24.583162-0700 | INFO | mth5.io.conversion | split_ms_to_days | Wrote miniseed file to: c:\\Users\\jpeacock\\OneDrive - DOI\\MTData\\CL2021\\archive\\to_dmc\\1Z_CL024__CFE_2021_05_21T01_09_59.mseed\u001b[0m\n",
      "\u001b[1m2025-04-01T16:53:25.121862-0700 | INFO | mth5.io.conversion | split_ms_to_days | Wrote miniseed file to: c:\\Users\\jpeacock\\OneDrive - DOI\\MTData\\CL2021\\archive\\to_dmc\\1Z_CL024__CFZ_2021_05_21T01_09_59.mseed\u001b[0m\n",
      "\u001b[1m2025-04-01T16:53:28.992923-0700 | INFO | mth5.timeseries.run_ts | _align_channels | Channels do not have a common end, using latest: 2021-05-21T07:09:43.999268000\u001b[0m\n"
     ]
    },
    {
     "name": "stderr",
     "output_type": "stream",
     "text": [
      "C:\\Users\\jpeacock\\OneDrive - DOI\\Documents\\GitHub\\mth5\\mth5\\timeseries\\channel_ts.py:1524: RuntimeWarning: invalid value encountered in cast\n",
      "  obspy_trace = Trace(self.ts.astype(encoding_dict[encoding]))\n"
     ]
    },
    {
     "name": "stdout",
     "output_type": "stream",
     "text": [
      "\u001b[1m2025-04-01T16:53:31.876461-0700 | INFO | mth5.io.conversion | split_ms_to_days | Wrote miniseed file to: c:\\Users\\jpeacock\\OneDrive - DOI\\MTData\\CL2021\\archive\\to_dmc\\1Z_CL024__FQN_2021_05_21T06_59_59.mseed\u001b[0m\n",
      "\u001b[1m2025-04-01T16:53:32.088473-0700 | INFO | mth5.io.conversion | split_ms_to_days | Wrote miniseed file to: c:\\Users\\jpeacock\\OneDrive - DOI\\MTData\\CL2021\\archive\\to_dmc\\1Z_CL024__FQE_2021_05_21T06_59_59.mseed\u001b[0m\n",
      "\u001b[1m2025-04-01T16:53:32.284502-0700 | INFO | mth5.io.conversion | split_ms_to_days | Wrote miniseed file to: c:\\Users\\jpeacock\\OneDrive - DOI\\MTData\\CL2021\\archive\\to_dmc\\1Z_CL024__FFN_2021_05_21T06_59_59.mseed\u001b[0m\n",
      "\u001b[1m2025-04-01T16:53:32.478528-0700 | INFO | mth5.io.conversion | split_ms_to_days | Wrote miniseed file to: c:\\Users\\jpeacock\\OneDrive - DOI\\MTData\\CL2021\\archive\\to_dmc\\1Z_CL024__FFE_2021_05_21T06_59_59.mseed\u001b[0m\n",
      "\u001b[1m2025-04-01T16:53:32.675556-0700 | INFO | mth5.io.conversion | split_ms_to_days | Wrote miniseed file to: c:\\Users\\jpeacock\\OneDrive - DOI\\MTData\\CL2021\\archive\\to_dmc\\1Z_CL024__FFZ_2021_05_21T06_59_59.mseed\u001b[0m\n",
      "\u001b[1m2025-04-01T16:53:39.830549-0700 | INFO | mth5.timeseries.run_ts | _align_channels | Channels do not have a common end, using latest: 2021-05-21T12:59:43.996094000\u001b[0m\n"
     ]
    },
    {
     "name": "stderr",
     "output_type": "stream",
     "text": [
      "C:\\Users\\jpeacock\\OneDrive - DOI\\Documents\\GitHub\\mth5\\mth5\\timeseries\\channel_ts.py:1524: RuntimeWarning: invalid value encountered in cast\n",
      "  obspy_trace = Trace(self.ts.astype(encoding_dict[encoding]))\n"
     ]
    },
    {
     "name": "stdout",
     "output_type": "stream",
     "text": [
      "\u001b[1m2025-04-01T16:53:46.588429-0700 | INFO | mth5.io.conversion | split_ms_to_days | Wrote miniseed file to: c:\\Users\\jpeacock\\OneDrive - DOI\\MTData\\CL2021\\archive\\to_dmc\\1Z_CL024__CQN_2021_05_21T07_09_59.mseed\u001b[0m\n",
      "\u001b[1m2025-04-01T16:53:47.114998-0700 | INFO | mth5.io.conversion | split_ms_to_days | Wrote miniseed file to: c:\\Users\\jpeacock\\OneDrive - DOI\\MTData\\CL2021\\archive\\to_dmc\\1Z_CL024__CQE_2021_05_21T07_09_59.mseed\u001b[0m\n",
      "\u001b[1m2025-04-01T16:53:47.562622-0700 | INFO | mth5.io.conversion | split_ms_to_days | Wrote miniseed file to: c:\\Users\\jpeacock\\OneDrive - DOI\\MTData\\CL2021\\archive\\to_dmc\\1Z_CL024__CFN_2021_05_21T07_09_59.mseed\u001b[0m\n",
      "\u001b[1m2025-04-01T16:53:48.035080-0700 | INFO | mth5.io.conversion | split_ms_to_days | Wrote miniseed file to: c:\\Users\\jpeacock\\OneDrive - DOI\\MTData\\CL2021\\archive\\to_dmc\\1Z_CL024__CFE_2021_05_21T07_09_59.mseed\u001b[0m\n",
      "\u001b[1m2025-04-01T16:53:48.535456-0700 | INFO | mth5.io.conversion | split_ms_to_days | Wrote miniseed file to: c:\\Users\\jpeacock\\OneDrive - DOI\\MTData\\CL2021\\archive\\to_dmc\\1Z_CL024__CFZ_2021_05_21T07_09_59.mseed\u001b[0m\n",
      "\u001b[1m2025-04-01T16:53:52.300305-0700 | INFO | mth5.timeseries.run_ts | _align_channels | Channels do not have a common end, using latest: 2021-05-21T13:09:43.998779296\u001b[0m\n",
      "\u001b[33m\u001b[1m2025-04-01T16:53:54.849279-0700 | WARNING | mth5.timeseries.run_ts | validate_metadata | end time of dataset 2021-05-21T13:09:43.998535156+00:00 does not match metadata end 2021-05-21T13:09:43.998779296+00:00 updating metatdata value to 2021-05-21T13:09:43.998535156+00:00\u001b[0m\n"
     ]
    },
    {
     "name": "stderr",
     "output_type": "stream",
     "text": [
      "C:\\Users\\jpeacock\\OneDrive - DOI\\Documents\\GitHub\\mth5\\mth5\\timeseries\\channel_ts.py:1524: RuntimeWarning: invalid value encountered in cast\n",
      "  obspy_trace = Trace(self.ts.astype(encoding_dict[encoding]))\n"
     ]
    },
    {
     "name": "stdout",
     "output_type": "stream",
     "text": [
      "\u001b[1m2025-04-01T16:53:55.603729-0700 | INFO | mth5.io.conversion | split_ms_to_days | Wrote miniseed file to: c:\\Users\\jpeacock\\OneDrive - DOI\\MTData\\CL2021\\archive\\to_dmc\\1Z_CL024__FQN_2021_05_21T12_59_59.mseed\u001b[0m\n",
      "\u001b[1m2025-04-01T16:53:55.809214-0700 | INFO | mth5.io.conversion | split_ms_to_days | Wrote miniseed file to: c:\\Users\\jpeacock\\OneDrive - DOI\\MTData\\CL2021\\archive\\to_dmc\\1Z_CL024__FQE_2021_05_21T12_59_59.mseed\u001b[0m\n",
      "\u001b[1m2025-04-01T16:53:56.022322-0700 | INFO | mth5.io.conversion | split_ms_to_days | Wrote miniseed file to: c:\\Users\\jpeacock\\OneDrive - DOI\\MTData\\CL2021\\archive\\to_dmc\\1Z_CL024__FFN_2021_05_21T12_59_59.mseed\u001b[0m\n",
      "\u001b[1m2025-04-01T16:53:56.226419-0700 | INFO | mth5.io.conversion | split_ms_to_days | Wrote miniseed file to: c:\\Users\\jpeacock\\OneDrive - DOI\\MTData\\CL2021\\archive\\to_dmc\\1Z_CL024__FFE_2021_05_21T12_59_59.mseed\u001b[0m\n",
      "\u001b[1m2025-04-01T16:53:56.465534-0700 | INFO | mth5.io.conversion | split_ms_to_days | Wrote miniseed file to: c:\\Users\\jpeacock\\OneDrive - DOI\\MTData\\CL2021\\archive\\to_dmc\\1Z_CL024__FFZ_2021_05_21T12_59_59.mseed\u001b[0m\n",
      "\u001b[1m2025-04-01T16:54:03.745849-0700 | INFO | mth5.io.conversion | split_ms_to_days | Wrote miniseed file to: c:\\Users\\jpeacock\\OneDrive - DOI\\MTData\\CL2021\\archive\\to_dmc\\1Z_CL024__CQN_2021_05_21T13_09_59.mseed\u001b[0m\n",
      "\u001b[1m2025-04-01T16:54:04.113147-0700 | INFO | mth5.io.conversion | split_ms_to_days | Wrote miniseed file to: c:\\Users\\jpeacock\\OneDrive - DOI\\MTData\\CL2021\\archive\\to_dmc\\1Z_CL024__CQE_2021_05_21T13_09_59.mseed\u001b[0m\n",
      "\u001b[1m2025-04-01T16:54:04.461746-0700 | INFO | mth5.io.conversion | split_ms_to_days | Wrote miniseed file to: c:\\Users\\jpeacock\\OneDrive - DOI\\MTData\\CL2021\\archive\\to_dmc\\1Z_CL024__CFN_2021_05_21T13_09_59.mseed\u001b[0m\n",
      "\u001b[1m2025-04-01T16:54:04.873306-0700 | INFO | mth5.io.conversion | split_ms_to_days | Wrote miniseed file to: c:\\Users\\jpeacock\\OneDrive - DOI\\MTData\\CL2021\\archive\\to_dmc\\1Z_CL024__CFE_2021_05_21T13_09_59.mseed\u001b[0m\n",
      "\u001b[1m2025-04-01T16:54:05.288401-0700 | INFO | mth5.io.conversion | split_ms_to_days | Wrote miniseed file to: c:\\Users\\jpeacock\\OneDrive - DOI\\MTData\\CL2021\\archive\\to_dmc\\1Z_CL024__CFZ_2021_05_21T13_09_59.mseed\u001b[0m\n",
      "\u001b[1m2025-04-01T16:54:06.557688-0700 | INFO | mth5.mth5 | close_mth5 | Flushing and closing c:\\Users\\jpeacock\\OneDrive - DOI\\MTData\\CL2021\\archive\\cl024.h5\u001b[0m\n",
      "\u001b[33m\u001b[1m2025-04-01T16:54:06.561688-0700 | WARNING | mt_metadata.timeseries.stationxml.xml_station_mt_station | mt_to_xml | Station.geographic_name is None, using Station.id = cl024.Check StationXML site.name.\u001b[0m\n",
      "\u001b[1m2025-04-01T16:54:06.643236-0700 | INFO | mt_metadata.timeseries.filters.channel_response | to_obspy | total sensitivity 105030248038.4055 != total gain 1048576000.000055. Using total_gain.\u001b[0m\n",
      "\u001b[1m2025-04-01T16:54:06.677858-0700 | INFO | mt_metadata.timeseries.filters.channel_response | to_obspy | total sensitivity 105404484812.80553 != total gain 1048576000.000055. Using total_gain.\u001b[0m\n",
      "\u001b[1m2025-04-01T16:54:06.712859-0700 | INFO | mt_metadata.timeseries.filters.channel_response | to_obspy | total sensitivity 105051593082.1482 != total gain 1048576000.000055. Using total_gain.\u001b[0m\n",
      "\u001b[1m2025-04-01T16:54:06.812397-0700 | INFO | mt_metadata.timeseries.filters.channel_response | to_obspy | total sensitivity 105030248038.4055 != total gain 1048576000.000055. Using total_gain.\u001b[0m\n",
      "\u001b[1m2025-04-01T16:54:06.844397-0700 | INFO | mt_metadata.timeseries.filters.channel_response | to_obspy | total sensitivity 105404484812.80553 != total gain 1048576000.000055. Using total_gain.\u001b[0m\n",
      "\u001b[1m2025-04-01T16:54:06.873948-0700 | INFO | mt_metadata.timeseries.filters.channel_response | to_obspy | total sensitivity 105051593082.1482 != total gain 1048576000.000055. Using total_gain.\u001b[0m\n",
      "\u001b[1m2025-04-01T16:54:06.995460-0700 | INFO | mt_metadata.timeseries.filters.channel_response | to_obspy | total sensitivity 105030248038.4055 != total gain 1048576000.000055. Using total_gain.\u001b[0m\n",
      "\u001b[1m2025-04-01T16:54:07.037467-0700 | INFO | mt_metadata.timeseries.filters.channel_response | to_obspy | total sensitivity 105404484812.80553 != total gain 1048576000.000055. Using total_gain.\u001b[0m\n",
      "\u001b[1m2025-04-01T16:54:07.067987-0700 | INFO | mt_metadata.timeseries.filters.channel_response | to_obspy | total sensitivity 105051593082.1482 != total gain 1048576000.000055. Using total_gain.\u001b[0m\n",
      "\u001b[1m2025-04-01T16:54:07.160057-0700 | INFO | mt_metadata.timeseries.filters.channel_response | to_obspy | total sensitivity 105030248038.4055 != total gain 1048576000.000055. Using total_gain.\u001b[0m\n",
      "\u001b[1m2025-04-01T16:54:07.192570-0700 | INFO | mt_metadata.timeseries.filters.channel_response | to_obspy | total sensitivity 105404484812.80553 != total gain 1048576000.000055. Using total_gain.\u001b[0m\n",
      "\u001b[1m2025-04-01T16:54:07.225577-0700 | INFO | mt_metadata.timeseries.filters.channel_response | to_obspy | total sensitivity 105051593082.1482 != total gain 1048576000.000055. Using total_gain.\u001b[0m\n",
      "\u001b[1m2025-04-01T16:54:07.352110-0700 | INFO | mt_metadata.timeseries.filters.channel_response | to_obspy | total sensitivity 105030248038.4055 != total gain 1048576000.000055. Using total_gain.\u001b[0m\n",
      "\u001b[1m2025-04-01T16:54:07.389645-0700 | INFO | mt_metadata.timeseries.filters.channel_response | to_obspy | total sensitivity 105404484812.80553 != total gain 1048576000.000055. Using total_gain.\u001b[0m\n",
      "\u001b[1m2025-04-01T16:54:07.428635-0700 | INFO | mt_metadata.timeseries.filters.channel_response | to_obspy | total sensitivity 105051593082.1482 != total gain 1048576000.000055. Using total_gain.\u001b[0m\n",
      "\u001b[1m2025-04-01T16:54:07.567731-0700 | INFO | mt_metadata.timeseries.filters.channel_response | to_obspy | total sensitivity 105030248038.4055 != total gain 1048576000.000055. Using total_gain.\u001b[0m\n",
      "\u001b[1m2025-04-01T16:54:07.629730-0700 | INFO | mt_metadata.timeseries.filters.channel_response | to_obspy | total sensitivity 105404484812.80553 != total gain 1048576000.000055. Using total_gain.\u001b[0m\n",
      "\u001b[1m2025-04-01T16:54:07.672857-0700 | INFO | mt_metadata.timeseries.filters.channel_response | to_obspy | total sensitivity 105051593082.1482 != total gain 1048576000.000055. Using total_gain.\u001b[0m\n",
      "\u001b[1m2025-04-01T16:54:07.768439-0700 | INFO | mt_metadata.timeseries.filters.channel_response | to_obspy | total sensitivity 105030248038.4055 != total gain 1048576000.000055. Using total_gain.\u001b[0m\n",
      "\u001b[1m2025-04-01T16:54:07.808416-0700 | INFO | mt_metadata.timeseries.filters.channel_response | to_obspy | total sensitivity 105404484812.80553 != total gain 1048576000.000055. Using total_gain.\u001b[0m\n",
      "\u001b[1m2025-04-01T16:54:07.841417-0700 | INFO | mt_metadata.timeseries.filters.channel_response | to_obspy | total sensitivity 105051593082.1482 != total gain 1048576000.000055. Using total_gain.\u001b[0m\n",
      "\u001b[1m2025-04-01T16:54:07.974471-0700 | INFO | mt_metadata.timeseries.filters.channel_response | to_obspy | total sensitivity 105030248038.4055 != total gain 1048576000.000055. Using total_gain.\u001b[0m\n",
      "\u001b[1m2025-04-01T16:54:08.014569-0700 | INFO | mt_metadata.timeseries.filters.channel_response | to_obspy | total sensitivity 105404484812.80553 != total gain 1048576000.000055. Using total_gain.\u001b[0m\n",
      "\u001b[1m2025-04-01T16:54:08.049576-0700 | INFO | mt_metadata.timeseries.filters.channel_response | to_obspy | total sensitivity 105051593082.1482 != total gain 1048576000.000055. Using total_gain.\u001b[0m\n",
      "\u001b[1m2025-04-01T16:54:08.094104-0700 | INFO | mth5.io.conversion | convert_mth5_to_ms_stationxml | Wrote StationXML to c:\\Users\\jpeacock\\OneDrive - DOI\\MTData\\CL2021\\archive\\to_dmc\\cl024.xml\u001b[0m\n"
     ]
    },
    {
     "name": "stderr",
     "output_type": "stream",
     "text": [
      "C:\\Users\\jpeacock\\OneDrive - DOI\\Documents\\GitHub\\mth5\\mth5\\timeseries\\channel_ts.py:1524: RuntimeWarning: invalid value encountered in cast\n",
      "  obspy_trace = Trace(self.ts.astype(encoding_dict[encoding]))\n"
     ]
    },
    {
     "name": "stdout",
     "output_type": "stream",
     "text": [
      "\u001b[1m2025-04-01T16:54:13.605776-0700 | INFO | mth5.io.conversion | split_ms_to_days | Wrote miniseed file to: c:\\Users\\jpeacock\\OneDrive - DOI\\MTData\\CL2021\\archive\\to_dmc\\1Z_CL028__LQN_2021_05_25T21_59_59.mseed\u001b[0m\n",
      "\u001b[1m2025-04-01T16:54:13.609780-0700 | INFO | mth5.io.conversion | split_ms_to_days | Wrote miniseed file to: c:\\Users\\jpeacock\\OneDrive - DOI\\MTData\\CL2021\\archive\\to_dmc\\1Z_CL028__LQN_2021_05_26T00_00_00.mseed\u001b[0m\n",
      "\u001b[1m2025-04-01T16:54:13.619792-0700 | INFO | mth5.io.conversion | split_ms_to_days | Wrote miniseed file to: c:\\Users\\jpeacock\\OneDrive - DOI\\MTData\\CL2021\\archive\\to_dmc\\1Z_CL028__LQE_2021_05_25T21_59_59.mseed\u001b[0m\n",
      "\u001b[1m2025-04-01T16:54:13.623799-0700 | INFO | mth5.io.conversion | split_ms_to_days | Wrote miniseed file to: c:\\Users\\jpeacock\\OneDrive - DOI\\MTData\\CL2021\\archive\\to_dmc\\1Z_CL028__LQE_2021_05_26T00_00_00.mseed\u001b[0m\n",
      "\u001b[1m2025-04-01T16:54:13.634783-0700 | INFO | mth5.io.conversion | split_ms_to_days | Wrote miniseed file to: c:\\Users\\jpeacock\\OneDrive - DOI\\MTData\\CL2021\\archive\\to_dmc\\1Z_CL028__LFN_2021_05_25T21_59_59.mseed\u001b[0m\n",
      "\u001b[1m2025-04-01T16:54:13.639781-0700 | INFO | mth5.io.conversion | split_ms_to_days | Wrote miniseed file to: c:\\Users\\jpeacock\\OneDrive - DOI\\MTData\\CL2021\\archive\\to_dmc\\1Z_CL028__LFN_2021_05_26T00_00_00.mseed\u001b[0m\n",
      "\u001b[1m2025-04-01T16:54:13.647812-0700 | INFO | mth5.io.conversion | split_ms_to_days | Wrote miniseed file to: c:\\Users\\jpeacock\\OneDrive - DOI\\MTData\\CL2021\\archive\\to_dmc\\1Z_CL028__LFE_2021_05_25T21_59_59.mseed\u001b[0m\n",
      "\u001b[1m2025-04-01T16:54:13.651809-0700 | INFO | mth5.io.conversion | split_ms_to_days | Wrote miniseed file to: c:\\Users\\jpeacock\\OneDrive - DOI\\MTData\\CL2021\\archive\\to_dmc\\1Z_CL028__LFE_2021_05_26T00_00_00.mseed\u001b[0m\n",
      "\u001b[1m2025-04-01T16:54:13.660788-0700 | INFO | mth5.io.conversion | split_ms_to_days | Wrote miniseed file to: c:\\Users\\jpeacock\\OneDrive - DOI\\MTData\\CL2021\\archive\\to_dmc\\1Z_CL028__LFZ_2021_05_25T21_59_59.mseed\u001b[0m\n",
      "\u001b[1m2025-04-01T16:54:13.664785-0700 | INFO | mth5.io.conversion | split_ms_to_days | Wrote miniseed file to: c:\\Users\\jpeacock\\OneDrive - DOI\\MTData\\CL2021\\archive\\to_dmc\\1Z_CL028__LFZ_2021_05_26T00_00_00.mseed\u001b[0m\n",
      "\u001b[1m2025-04-01T16:54:18.518834-0700 | INFO | mth5.timeseries.run_ts | _align_channels | Channels do not have a common end, using latest: 2021-05-26T00:59:43.968750000\u001b[0m\n"
     ]
    },
    {
     "name": "stderr",
     "output_type": "stream",
     "text": [
      "C:\\Users\\jpeacock\\OneDrive - DOI\\Documents\\GitHub\\mth5\\mth5\\timeseries\\channel_ts.py:1524: RuntimeWarning: invalid value encountered in cast\n",
      "  obspy_trace = Trace(self.ts.astype(encoding_dict[encoding]))\n"
     ]
    },
    {
     "name": "stdout",
     "output_type": "stream",
     "text": [
      "\u001b[1m2025-04-01T16:54:20.158324-0700 | INFO | mth5.io.conversion | split_ms_to_days | Wrote miniseed file to: c:\\Users\\jpeacock\\OneDrive - DOI\\MTData\\CL2021\\archive\\to_dmc\\1Z_CL028__CQN_2021_05_25T21_59_59.mseed\u001b[0m\n",
      "\u001b[1m2025-04-01T16:54:20.308516-0700 | INFO | mth5.io.conversion | split_ms_to_days | Wrote miniseed file to: c:\\Users\\jpeacock\\OneDrive - DOI\\MTData\\CL2021\\archive\\to_dmc\\1Z_CL028__CQN_2021_05_26T00_00_00.mseed\u001b[0m\n",
      "\u001b[1m2025-04-01T16:54:20.394153-0700 | INFO | mth5.io.conversion | split_ms_to_days | Wrote miniseed file to: c:\\Users\\jpeacock\\OneDrive - DOI\\MTData\\CL2021\\archive\\to_dmc\\1Z_CL028__CQE_2021_05_25T21_59_59.mseed\u001b[0m\n",
      "\u001b[1m2025-04-01T16:54:20.549633-0700 | INFO | mth5.io.conversion | split_ms_to_days | Wrote miniseed file to: c:\\Users\\jpeacock\\OneDrive - DOI\\MTData\\CL2021\\archive\\to_dmc\\1Z_CL028__CQE_2021_05_26T00_00_00.mseed\u001b[0m\n",
      "\u001b[1m2025-04-01T16:54:20.624212-0700 | INFO | mth5.io.conversion | split_ms_to_days | Wrote miniseed file to: c:\\Users\\jpeacock\\OneDrive - DOI\\MTData\\CL2021\\archive\\to_dmc\\1Z_CL028__CFN_2021_05_25T21_59_59.mseed\u001b[0m\n",
      "\u001b[1m2025-04-01T16:54:20.772836-0700 | INFO | mth5.io.conversion | split_ms_to_days | Wrote miniseed file to: c:\\Users\\jpeacock\\OneDrive - DOI\\MTData\\CL2021\\archive\\to_dmc\\1Z_CL028__CFN_2021_05_26T00_00_00.mseed\u001b[0m\n",
      "\u001b[1m2025-04-01T16:54:20.856348-0700 | INFO | mth5.io.conversion | split_ms_to_days | Wrote miniseed file to: c:\\Users\\jpeacock\\OneDrive - DOI\\MTData\\CL2021\\archive\\to_dmc\\1Z_CL028__CFE_2021_05_25T21_59_59.mseed\u001b[0m\n",
      "\u001b[1m2025-04-01T16:54:21.026857-0700 | INFO | mth5.io.conversion | split_ms_to_days | Wrote miniseed file to: c:\\Users\\jpeacock\\OneDrive - DOI\\MTData\\CL2021\\archive\\to_dmc\\1Z_CL028__CFE_2021_05_26T00_00_00.mseed\u001b[0m\n",
      "\u001b[1m2025-04-01T16:54:21.113410-0700 | INFO | mth5.io.conversion | split_ms_to_days | Wrote miniseed file to: c:\\Users\\jpeacock\\OneDrive - DOI\\MTData\\CL2021\\archive\\to_dmc\\1Z_CL028__CFZ_2021_05_25T21_59_59.mseed\u001b[0m\n",
      "\u001b[1m2025-04-01T16:54:21.269883-0700 | INFO | mth5.io.conversion | split_ms_to_days | Wrote miniseed file to: c:\\Users\\jpeacock\\OneDrive - DOI\\MTData\\CL2021\\archive\\to_dmc\\1Z_CL028__CFZ_2021_05_26T00_00_00.mseed\u001b[0m\n",
      "\u001b[1m2025-04-01T16:54:24.680139-0700 | INFO | mth5.timeseries.run_ts | _align_channels | Channels do not have a common end, using latest: 2021-05-26T01:09:43.998047000\u001b[0m\n"
     ]
    },
    {
     "name": "stderr",
     "output_type": "stream",
     "text": [
      "C:\\Users\\jpeacock\\OneDrive - DOI\\Documents\\GitHub\\mth5\\mth5\\timeseries\\channel_ts.py:1524: RuntimeWarning: invalid value encountered in cast\n",
      "  obspy_trace = Trace(self.ts.astype(encoding_dict[encoding]))\n"
     ]
    },
    {
     "name": "stdout",
     "output_type": "stream",
     "text": [
      "\u001b[1m2025-04-01T16:54:27.948885-0700 | INFO | mth5.io.conversion | split_ms_to_days | Wrote miniseed file to: c:\\Users\\jpeacock\\OneDrive - DOI\\MTData\\CL2021\\archive\\to_dmc\\1Z_CL028__FQN_2021_05_26T00_59_59.mseed\u001b[0m\n",
      "\u001b[1m2025-04-01T16:54:28.143916-0700 | INFO | mth5.io.conversion | split_ms_to_days | Wrote miniseed file to: c:\\Users\\jpeacock\\OneDrive - DOI\\MTData\\CL2021\\archive\\to_dmc\\1Z_CL028__FQE_2021_05_26T00_59_59.mseed\u001b[0m\n",
      "\u001b[1m2025-04-01T16:54:28.350073-0700 | INFO | mth5.io.conversion | split_ms_to_days | Wrote miniseed file to: c:\\Users\\jpeacock\\OneDrive - DOI\\MTData\\CL2021\\archive\\to_dmc\\1Z_CL028__FFN_2021_05_26T00_59_59.mseed\u001b[0m\n",
      "\u001b[1m2025-04-01T16:54:28.560822-0700 | INFO | mth5.io.conversion | split_ms_to_days | Wrote miniseed file to: c:\\Users\\jpeacock\\OneDrive - DOI\\MTData\\CL2021\\archive\\to_dmc\\1Z_CL028__FFE_2021_05_26T00_59_59.mseed\u001b[0m\n",
      "\u001b[1m2025-04-01T16:54:28.788363-0700 | INFO | mth5.io.conversion | split_ms_to_days | Wrote miniseed file to: c:\\Users\\jpeacock\\OneDrive - DOI\\MTData\\CL2021\\archive\\to_dmc\\1Z_CL028__FFZ_2021_05_26T00_59_59.mseed\u001b[0m\n",
      "\u001b[1m2025-04-01T16:54:35.572376-0700 | INFO | mth5.timeseries.run_ts | _align_channels | Channels do not have a common end, using latest: 2021-05-26T06:59:43.996094000\u001b[0m\n"
     ]
    },
    {
     "name": "stderr",
     "output_type": "stream",
     "text": [
      "C:\\Users\\jpeacock\\OneDrive - DOI\\Documents\\GitHub\\mth5\\mth5\\timeseries\\channel_ts.py:1524: RuntimeWarning: invalid value encountered in cast\n",
      "  obspy_trace = Trace(self.ts.astype(encoding_dict[encoding]))\n"
     ]
    },
    {
     "name": "stdout",
     "output_type": "stream",
     "text": [
      "\u001b[1m2025-04-01T16:54:42.318298-0700 | INFO | mth5.io.conversion | split_ms_to_days | Wrote miniseed file to: c:\\Users\\jpeacock\\OneDrive - DOI\\MTData\\CL2021\\archive\\to_dmc\\1Z_CL028__CQN_2021_05_26T01_09_59.mseed\u001b[0m\n",
      "\u001b[1m2025-04-01T16:54:42.771130-0700 | INFO | mth5.io.conversion | split_ms_to_days | Wrote miniseed file to: c:\\Users\\jpeacock\\OneDrive - DOI\\MTData\\CL2021\\archive\\to_dmc\\1Z_CL028__CQE_2021_05_26T01_09_59.mseed\u001b[0m\n",
      "\u001b[1m2025-04-01T16:54:43.229850-0700 | INFO | mth5.io.conversion | split_ms_to_days | Wrote miniseed file to: c:\\Users\\jpeacock\\OneDrive - DOI\\MTData\\CL2021\\archive\\to_dmc\\1Z_CL028__CFN_2021_05_26T01_09_59.mseed\u001b[0m\n",
      "\u001b[1m2025-04-01T16:54:43.666221-0700 | INFO | mth5.io.conversion | split_ms_to_days | Wrote miniseed file to: c:\\Users\\jpeacock\\OneDrive - DOI\\MTData\\CL2021\\archive\\to_dmc\\1Z_CL028__CFE_2021_05_26T01_09_59.mseed\u001b[0m\n",
      "\u001b[1m2025-04-01T16:54:44.165522-0700 | INFO | mth5.io.conversion | split_ms_to_days | Wrote miniseed file to: c:\\Users\\jpeacock\\OneDrive - DOI\\MTData\\CL2021\\archive\\to_dmc\\1Z_CL028__CFZ_2021_05_26T01_09_59.mseed\u001b[0m\n",
      "\u001b[1m2025-04-01T16:54:47.729217-0700 | INFO | mth5.timeseries.run_ts | _align_channels | Channels do not have a common end, using latest: 2021-05-26T07:09:43.999023437\u001b[0m\n",
      "\u001b[33m\u001b[1m2025-04-01T16:54:50.512519-0700 | WARNING | mth5.timeseries.run_ts | validate_metadata | end time of dataset 2021-05-26T07:09:43.998779296+00:00 does not match metadata end 2021-05-26T07:09:43.999023437+00:00 updating metatdata value to 2021-05-26T07:09:43.998779296+00:00\u001b[0m\n"
     ]
    },
    {
     "name": "stderr",
     "output_type": "stream",
     "text": [
      "C:\\Users\\jpeacock\\OneDrive - DOI\\Documents\\GitHub\\mth5\\mth5\\timeseries\\channel_ts.py:1524: RuntimeWarning: invalid value encountered in cast\n",
      "  obspy_trace = Trace(self.ts.astype(encoding_dict[encoding]))\n"
     ]
    },
    {
     "name": "stdout",
     "output_type": "stream",
     "text": [
      "\u001b[1m2025-04-01T16:54:51.240496-0700 | INFO | mth5.io.conversion | split_ms_to_days | Wrote miniseed file to: c:\\Users\\jpeacock\\OneDrive - DOI\\MTData\\CL2021\\archive\\to_dmc\\1Z_CL028__FQN_2021_05_26T06_59_59.mseed\u001b[0m\n",
      "\u001b[1m2025-04-01T16:54:51.433687-0700 | INFO | mth5.io.conversion | split_ms_to_days | Wrote miniseed file to: c:\\Users\\jpeacock\\OneDrive - DOI\\MTData\\CL2021\\archive\\to_dmc\\1Z_CL028__FQE_2021_05_26T06_59_59.mseed\u001b[0m\n",
      "\u001b[1m2025-04-01T16:54:51.633958-0700 | INFO | mth5.io.conversion | split_ms_to_days | Wrote miniseed file to: c:\\Users\\jpeacock\\OneDrive - DOI\\MTData\\CL2021\\archive\\to_dmc\\1Z_CL028__FFN_2021_05_26T06_59_59.mseed\u001b[0m\n",
      "\u001b[1m2025-04-01T16:54:51.881689-0700 | INFO | mth5.io.conversion | split_ms_to_days | Wrote miniseed file to: c:\\Users\\jpeacock\\OneDrive - DOI\\MTData\\CL2021\\archive\\to_dmc\\1Z_CL028__FFE_2021_05_26T06_59_59.mseed\u001b[0m\n",
      "\u001b[1m2025-04-01T16:54:52.081067-0700 | INFO | mth5.io.conversion | split_ms_to_days | Wrote miniseed file to: c:\\Users\\jpeacock\\OneDrive - DOI\\MTData\\CL2021\\archive\\to_dmc\\1Z_CL028__FFZ_2021_05_26T06_59_59.mseed\u001b[0m\n",
      "\u001b[1m2025-04-01T16:54:59.121028-0700 | INFO | mth5.timeseries.run_ts | _align_channels | Channels do not have a common end, using latest: 2021-05-26T12:59:43.996094000\u001b[0m\n"
     ]
    },
    {
     "name": "stderr",
     "output_type": "stream",
     "text": [
      "C:\\Users\\jpeacock\\OneDrive - DOI\\Documents\\GitHub\\mth5\\mth5\\timeseries\\channel_ts.py:1524: RuntimeWarning: invalid value encountered in cast\n",
      "  obspy_trace = Trace(self.ts.astype(encoding_dict[encoding]))\n"
     ]
    },
    {
     "name": "stdout",
     "output_type": "stream",
     "text": [
      "\u001b[1m2025-04-01T16:55:04.326243-0700 | INFO | mth5.io.conversion | split_ms_to_days | Wrote miniseed file to: c:\\Users\\jpeacock\\OneDrive - DOI\\MTData\\CL2021\\archive\\to_dmc\\1Z_CL028__CQN_2021_05_26T07_09_59.mseed\u001b[0m\n",
      "\u001b[1m2025-04-01T16:55:04.776384-0700 | INFO | mth5.io.conversion | split_ms_to_days | Wrote miniseed file to: c:\\Users\\jpeacock\\OneDrive - DOI\\MTData\\CL2021\\archive\\to_dmc\\1Z_CL028__CQE_2021_05_26T07_09_59.mseed\u001b[0m\n",
      "\u001b[1m2025-04-01T16:55:05.227768-0700 | INFO | mth5.io.conversion | split_ms_to_days | Wrote miniseed file to: c:\\Users\\jpeacock\\OneDrive - DOI\\MTData\\CL2021\\archive\\to_dmc\\1Z_CL028__CFN_2021_05_26T07_09_59.mseed\u001b[0m\n",
      "\u001b[1m2025-04-01T16:55:05.690582-0700 | INFO | mth5.io.conversion | split_ms_to_days | Wrote miniseed file to: c:\\Users\\jpeacock\\OneDrive - DOI\\MTData\\CL2021\\archive\\to_dmc\\1Z_CL028__CFE_2021_05_26T07_09_59.mseed\u001b[0m\n",
      "\u001b[1m2025-04-01T16:55:06.166622-0700 | INFO | mth5.io.conversion | split_ms_to_days | Wrote miniseed file to: c:\\Users\\jpeacock\\OneDrive - DOI\\MTData\\CL2021\\archive\\to_dmc\\1Z_CL028__CFZ_2021_05_26T07_09_59.mseed\u001b[0m\n",
      "\u001b[1m2025-04-01T16:55:10.225307-0700 | INFO | mth5.timeseries.run_ts | _align_channels | Channels do not have a common end, using latest: 2021-05-26T13:09:43.999023437\u001b[0m\n",
      "\u001b[33m\u001b[1m2025-04-01T16:55:12.850797-0700 | WARNING | mth5.timeseries.run_ts | validate_metadata | end time of dataset 2021-05-26T13:09:43.998779296+00:00 does not match metadata end 2021-05-26T13:09:43.999023437+00:00 updating metatdata value to 2021-05-26T13:09:43.998779296+00:00\u001b[0m\n"
     ]
    },
    {
     "name": "stderr",
     "output_type": "stream",
     "text": [
      "C:\\Users\\jpeacock\\OneDrive - DOI\\Documents\\GitHub\\mth5\\mth5\\timeseries\\channel_ts.py:1524: RuntimeWarning: invalid value encountered in cast\n",
      "  obspy_trace = Trace(self.ts.astype(encoding_dict[encoding]))\n"
     ]
    },
    {
     "name": "stdout",
     "output_type": "stream",
     "text": [
      "\u001b[1m2025-04-01T16:55:13.614761-0700 | INFO | mth5.io.conversion | split_ms_to_days | Wrote miniseed file to: c:\\Users\\jpeacock\\OneDrive - DOI\\MTData\\CL2021\\archive\\to_dmc\\1Z_CL028__FQN_2021_05_26T12_59_59.mseed\u001b[0m\n",
      "\u001b[1m2025-04-01T16:55:13.821491-0700 | INFO | mth5.io.conversion | split_ms_to_days | Wrote miniseed file to: c:\\Users\\jpeacock\\OneDrive - DOI\\MTData\\CL2021\\archive\\to_dmc\\1Z_CL028__FQE_2021_05_26T12_59_59.mseed\u001b[0m\n",
      "\u001b[1m2025-04-01T16:55:14.028544-0700 | INFO | mth5.io.conversion | split_ms_to_days | Wrote miniseed file to: c:\\Users\\jpeacock\\OneDrive - DOI\\MTData\\CL2021\\archive\\to_dmc\\1Z_CL028__FFN_2021_05_26T12_59_59.mseed\u001b[0m\n",
      "\u001b[1m2025-04-01T16:55:14.222561-0700 | INFO | mth5.io.conversion | split_ms_to_days | Wrote miniseed file to: c:\\Users\\jpeacock\\OneDrive - DOI\\MTData\\CL2021\\archive\\to_dmc\\1Z_CL028__FFE_2021_05_26T12_59_59.mseed\u001b[0m\n",
      "\u001b[1m2025-04-01T16:55:14.414263-0700 | INFO | mth5.io.conversion | split_ms_to_days | Wrote miniseed file to: c:\\Users\\jpeacock\\OneDrive - DOI\\MTData\\CL2021\\archive\\to_dmc\\1Z_CL028__FFZ_2021_05_26T12_59_59.mseed\u001b[0m\n",
      "\u001b[1m2025-04-01T16:55:20.442492-0700 | INFO | mth5.io.conversion | split_ms_to_days | Wrote miniseed file to: c:\\Users\\jpeacock\\OneDrive - DOI\\MTData\\CL2021\\archive\\to_dmc\\1Z_CL028__CQN_2021_05_26T13_09_59.mseed\u001b[0m\n",
      "\u001b[1m2025-04-01T16:55:20.700629-0700 | INFO | mth5.io.conversion | split_ms_to_days | Wrote miniseed file to: c:\\Users\\jpeacock\\OneDrive - DOI\\MTData\\CL2021\\archive\\to_dmc\\1Z_CL028__CQE_2021_05_26T13_09_59.mseed\u001b[0m\n",
      "\u001b[1m2025-04-01T16:55:20.964265-0700 | INFO | mth5.io.conversion | split_ms_to_days | Wrote miniseed file to: c:\\Users\\jpeacock\\OneDrive - DOI\\MTData\\CL2021\\archive\\to_dmc\\1Z_CL028__CFN_2021_05_26T13_09_59.mseed\u001b[0m\n",
      "\u001b[1m2025-04-01T16:55:21.254656-0700 | INFO | mth5.io.conversion | split_ms_to_days | Wrote miniseed file to: c:\\Users\\jpeacock\\OneDrive - DOI\\MTData\\CL2021\\archive\\to_dmc\\1Z_CL028__CFE_2021_05_26T13_09_59.mseed\u001b[0m\n",
      "\u001b[1m2025-04-01T16:55:21.517821-0700 | INFO | mth5.io.conversion | split_ms_to_days | Wrote miniseed file to: c:\\Users\\jpeacock\\OneDrive - DOI\\MTData\\CL2021\\archive\\to_dmc\\1Z_CL028__CFZ_2021_05_26T13_09_59.mseed\u001b[0m\n",
      "\u001b[1m2025-04-01T16:55:22.616115-0700 | INFO | mth5.mth5 | close_mth5 | Flushing and closing c:\\Users\\jpeacock\\OneDrive - DOI\\MTData\\CL2021\\archive\\cl028.h5\u001b[0m\n",
      "\u001b[33m\u001b[1m2025-04-01T16:55:22.621116-0700 | WARNING | mt_metadata.timeseries.stationxml.xml_station_mt_station | mt_to_xml | Station.geographic_name is None, using Station.id = cl028.Check StationXML site.name.\u001b[0m\n",
      "\u001b[1m2025-04-01T16:55:22.696508-0700 | INFO | mt_metadata.timeseries.filters.channel_response | to_obspy | total sensitivity 105030248038.4055 != total gain 1048576000.000055. Using total_gain.\u001b[0m\n",
      "\u001b[1m2025-04-01T16:55:22.725546-0700 | INFO | mt_metadata.timeseries.filters.channel_response | to_obspy | total sensitivity 105404484812.80553 != total gain 1048576000.000055. Using total_gain.\u001b[0m\n",
      "\u001b[1m2025-04-01T16:55:22.755140-0700 | INFO | mt_metadata.timeseries.filters.channel_response | to_obspy | total sensitivity 105051593082.1482 != total gain 1048576000.000055. Using total_gain.\u001b[0m\n",
      "\u001b[1m2025-04-01T16:55:22.853740-0700 | INFO | mt_metadata.timeseries.filters.channel_response | to_obspy | total sensitivity 105030248038.4055 != total gain 1048576000.000055. Using total_gain.\u001b[0m\n",
      "\u001b[1m2025-04-01T16:55:22.883708-0700 | INFO | mt_metadata.timeseries.filters.channel_response | to_obspy | total sensitivity 105404484812.80553 != total gain 1048576000.000055. Using total_gain.\u001b[0m\n",
      "\u001b[1m2025-04-01T16:55:22.917724-0700 | INFO | mt_metadata.timeseries.filters.channel_response | to_obspy | total sensitivity 105051593082.1482 != total gain 1048576000.000055. Using total_gain.\u001b[0m\n",
      "\u001b[1m2025-04-01T16:55:23.008326-0700 | INFO | mt_metadata.timeseries.filters.channel_response | to_obspy | total sensitivity 105030248038.4055 != total gain 1048576000.000055. Using total_gain.\u001b[0m\n",
      "\u001b[1m2025-04-01T16:55:23.037913-0700 | INFO | mt_metadata.timeseries.filters.channel_response | to_obspy | total sensitivity 105404484812.80553 != total gain 1048576000.000055. Using total_gain.\u001b[0m\n",
      "\u001b[1m2025-04-01T16:55:23.069911-0700 | INFO | mt_metadata.timeseries.filters.channel_response | to_obspy | total sensitivity 105051593082.1482 != total gain 1048576000.000055. Using total_gain.\u001b[0m\n",
      "\u001b[1m2025-04-01T16:55:23.167465-0700 | INFO | mt_metadata.timeseries.filters.channel_response | to_obspy | total sensitivity 105030248038.4055 != total gain 1048576000.000055. Using total_gain.\u001b[0m\n",
      "\u001b[1m2025-04-01T16:55:23.195464-0700 | INFO | mt_metadata.timeseries.filters.channel_response | to_obspy | total sensitivity 105404484812.80553 != total gain 1048576000.000055. Using total_gain.\u001b[0m\n",
      "\u001b[1m2025-04-01T16:55:23.225505-0700 | INFO | mt_metadata.timeseries.filters.channel_response | to_obspy | total sensitivity 105051593082.1482 != total gain 1048576000.000055. Using total_gain.\u001b[0m\n",
      "\u001b[1m2025-04-01T16:55:23.323821-0700 | INFO | mt_metadata.timeseries.filters.channel_response | to_obspy | total sensitivity 105030248038.4055 != total gain 1048576000.000055. Using total_gain.\u001b[0m\n",
      "\u001b[1m2025-04-01T16:55:23.350378-0700 | INFO | mt_metadata.timeseries.filters.channel_response | to_obspy | total sensitivity 105404484812.80553 != total gain 1048576000.000055. Using total_gain.\u001b[0m\n",
      "\u001b[1m2025-04-01T16:55:23.379403-0700 | INFO | mt_metadata.timeseries.filters.channel_response | to_obspy | total sensitivity 105051593082.1482 != total gain 1048576000.000055. Using total_gain.\u001b[0m\n",
      "\u001b[1m2025-04-01T16:55:23.482717-0700 | INFO | mt_metadata.timeseries.filters.channel_response | to_obspy | total sensitivity 105030248038.4055 != total gain 1048576000.000055. Using total_gain.\u001b[0m\n",
      "\u001b[1m2025-04-01T16:55:23.512718-0700 | INFO | mt_metadata.timeseries.filters.channel_response | to_obspy | total sensitivity 105404484812.80553 != total gain 1048576000.000055. Using total_gain.\u001b[0m\n",
      "\u001b[1m2025-04-01T16:55:23.543244-0700 | INFO | mt_metadata.timeseries.filters.channel_response | to_obspy | total sensitivity 105051593082.1482 != total gain 1048576000.000055. Using total_gain.\u001b[0m\n",
      "\u001b[1m2025-04-01T16:55:23.633598-0700 | INFO | mt_metadata.timeseries.filters.channel_response | to_obspy | total sensitivity 105030248038.4055 != total gain 1048576000.000055. Using total_gain.\u001b[0m\n",
      "\u001b[1m2025-04-01T16:55:23.663600-0700 | INFO | mt_metadata.timeseries.filters.channel_response | to_obspy | total sensitivity 105404484812.80553 != total gain 1048576000.000055. Using total_gain.\u001b[0m\n",
      "\u001b[1m2025-04-01T16:55:23.691599-0700 | INFO | mt_metadata.timeseries.filters.channel_response | to_obspy | total sensitivity 105051593082.1482 != total gain 1048576000.000055. Using total_gain.\u001b[0m\n",
      "\u001b[1m2025-04-01T16:55:23.782116-0700 | INFO | mt_metadata.timeseries.filters.channel_response | to_obspy | total sensitivity 105030248038.4055 != total gain 1048576000.000055. Using total_gain.\u001b[0m\n",
      "\u001b[1m2025-04-01T16:55:23.833562-0700 | INFO | mt_metadata.timeseries.filters.channel_response | to_obspy | total sensitivity 105404484812.80553 != total gain 1048576000.000055. Using total_gain.\u001b[0m\n",
      "\u001b[1m2025-04-01T16:55:23.870562-0700 | INFO | mt_metadata.timeseries.filters.channel_response | to_obspy | total sensitivity 105051593082.1482 != total gain 1048576000.000055. Using total_gain.\u001b[0m\n",
      "\u001b[1m2025-04-01T16:55:23.900561-0700 | INFO | mth5.io.conversion | convert_mth5_to_ms_stationxml | Wrote StationXML to c:\\Users\\jpeacock\\OneDrive - DOI\\MTData\\CL2021\\archive\\to_dmc\\cl028.xml\u001b[0m\n",
      "\u001b[1m2025-04-01T16:55:28.988464-0700 | INFO | mth5.io.conversion | split_ms_to_days | Wrote miniseed file to: c:\\Users\\jpeacock\\OneDrive - DOI\\MTData\\CL2021\\archive\\to_dmc\\1Z_CL029__LQN_2021_05_04T22_24_59.mseed\u001b[0m\n",
      "\u001b[1m2025-04-01T16:55:28.992247-0700 | INFO | mth5.io.conversion | split_ms_to_days | Wrote miniseed file to: c:\\Users\\jpeacock\\OneDrive - DOI\\MTData\\CL2021\\archive\\to_dmc\\1Z_CL029__LQN_2021_05_05T00_00_00.mseed\u001b[0m\n",
      "\u001b[1m2025-04-01T16:55:29.001246-0700 | INFO | mth5.io.conversion | split_ms_to_days | Wrote miniseed file to: c:\\Users\\jpeacock\\OneDrive - DOI\\MTData\\CL2021\\archive\\to_dmc\\1Z_CL029__LQE_2021_05_04T22_24_59.mseed\u001b[0m\n",
      "\u001b[1m2025-04-01T16:55:29.005255-0700 | INFO | mth5.io.conversion | split_ms_to_days | Wrote miniseed file to: c:\\Users\\jpeacock\\OneDrive - DOI\\MTData\\CL2021\\archive\\to_dmc\\1Z_CL029__LQE_2021_05_05T00_00_00.mseed\u001b[0m\n",
      "\u001b[1m2025-04-01T16:55:29.013248-0700 | INFO | mth5.io.conversion | split_ms_to_days | Wrote miniseed file to: c:\\Users\\jpeacock\\OneDrive - DOI\\MTData\\CL2021\\archive\\to_dmc\\1Z_CL029__LFN_2021_05_04T22_24_59.mseed\u001b[0m\n",
      "\u001b[1m2025-04-01T16:55:29.016247-0700 | INFO | mth5.io.conversion | split_ms_to_days | Wrote miniseed file to: c:\\Users\\jpeacock\\OneDrive - DOI\\MTData\\CL2021\\archive\\to_dmc\\1Z_CL029__LFN_2021_05_05T00_00_00.mseed\u001b[0m\n",
      "\u001b[1m2025-04-01T16:55:29.025255-0700 | INFO | mth5.io.conversion | split_ms_to_days | Wrote miniseed file to: c:\\Users\\jpeacock\\OneDrive - DOI\\MTData\\CL2021\\archive\\to_dmc\\1Z_CL029__LFE_2021_05_04T22_24_59.mseed\u001b[0m\n",
      "\u001b[1m2025-04-01T16:55:29.029289-0700 | INFO | mth5.io.conversion | split_ms_to_days | Wrote miniseed file to: c:\\Users\\jpeacock\\OneDrive - DOI\\MTData\\CL2021\\archive\\to_dmc\\1Z_CL029__LFE_2021_05_05T00_00_00.mseed\u001b[0m\n",
      "\u001b[1m2025-04-01T16:55:29.035778-0700 | INFO | mth5.io.conversion | split_ms_to_days | Wrote miniseed file to: c:\\Users\\jpeacock\\OneDrive - DOI\\MTData\\CL2021\\archive\\to_dmc\\1Z_CL029__LFZ_2021_05_04T22_24_59.mseed\u001b[0m\n",
      "\u001b[1m2025-04-01T16:55:29.037770-0700 | INFO | mth5.io.conversion | split_ms_to_days | Wrote miniseed file to: c:\\Users\\jpeacock\\OneDrive - DOI\\MTData\\CL2021\\archive\\to_dmc\\1Z_CL029__LFZ_2021_05_05T00_00_00.mseed\u001b[0m\n",
      "\u001b[1m2025-04-01T16:55:34.113867-0700 | INFO | mth5.io.conversion | split_ms_to_days | Wrote miniseed file to: c:\\Users\\jpeacock\\OneDrive - DOI\\MTData\\CL2021\\archive\\to_dmc\\1Z_CL029__CQN_2021_05_04T22_24_59.mseed\u001b[0m\n",
      "\u001b[1m2025-04-01T16:55:34.233498-0700 | INFO | mth5.io.conversion | split_ms_to_days | Wrote miniseed file to: c:\\Users\\jpeacock\\OneDrive - DOI\\MTData\\CL2021\\archive\\to_dmc\\1Z_CL029__CQN_2021_05_05T00_00_00.mseed\u001b[0m\n",
      "\u001b[1m2025-04-01T16:55:34.319084-0700 | INFO | mth5.io.conversion | split_ms_to_days | Wrote miniseed file to: c:\\Users\\jpeacock\\OneDrive - DOI\\MTData\\CL2021\\archive\\to_dmc\\1Z_CL029__CQE_2021_05_04T22_24_59.mseed\u001b[0m\n",
      "\u001b[1m2025-04-01T16:55:34.444170-0700 | INFO | mth5.io.conversion | split_ms_to_days | Wrote miniseed file to: c:\\Users\\jpeacock\\OneDrive - DOI\\MTData\\CL2021\\archive\\to_dmc\\1Z_CL029__CQE_2021_05_05T00_00_00.mseed\u001b[0m\n",
      "\u001b[1m2025-04-01T16:55:34.523161-0700 | INFO | mth5.io.conversion | split_ms_to_days | Wrote miniseed file to: c:\\Users\\jpeacock\\OneDrive - DOI\\MTData\\CL2021\\archive\\to_dmc\\1Z_CL029__CFN_2021_05_04T22_24_59.mseed\u001b[0m\n",
      "\u001b[1m2025-04-01T16:55:34.652888-0700 | INFO | mth5.io.conversion | split_ms_to_days | Wrote miniseed file to: c:\\Users\\jpeacock\\OneDrive - DOI\\MTData\\CL2021\\archive\\to_dmc\\1Z_CL029__CFN_2021_05_05T00_00_00.mseed\u001b[0m\n",
      "\u001b[1m2025-04-01T16:55:34.727895-0700 | INFO | mth5.io.conversion | split_ms_to_days | Wrote miniseed file to: c:\\Users\\jpeacock\\OneDrive - DOI\\MTData\\CL2021\\archive\\to_dmc\\1Z_CL029__CFE_2021_05_04T22_24_59.mseed\u001b[0m\n",
      "\u001b[1m2025-04-01T16:55:34.857549-0700 | INFO | mth5.io.conversion | split_ms_to_days | Wrote miniseed file to: c:\\Users\\jpeacock\\OneDrive - DOI\\MTData\\CL2021\\archive\\to_dmc\\1Z_CL029__CFE_2021_05_05T00_00_00.mseed\u001b[0m\n",
      "\u001b[1m2025-04-01T16:55:34.930623-0700 | INFO | mth5.io.conversion | split_ms_to_days | Wrote miniseed file to: c:\\Users\\jpeacock\\OneDrive - DOI\\MTData\\CL2021\\archive\\to_dmc\\1Z_CL029__CFZ_2021_05_04T22_24_59.mseed\u001b[0m\n",
      "\u001b[1m2025-04-01T16:55:35.061675-0700 | INFO | mth5.io.conversion | split_ms_to_days | Wrote miniseed file to: c:\\Users\\jpeacock\\OneDrive - DOI\\MTData\\CL2021\\archive\\to_dmc\\1Z_CL029__CFZ_2021_05_05T00_00_00.mseed\u001b[0m\n",
      "\u001b[1m2025-04-01T16:55:38.231518-0700 | INFO | mth5.timeseries.run_ts | _align_channels | Channels do not have a common end, using latest: 2021-05-05T01:09:43.998291015\u001b[0m\n",
      "\u001b[33m\u001b[1m2025-04-01T16:55:40.870624-0700 | WARNING | mth5.timeseries.run_ts | validate_metadata | end time of dataset 2021-05-05T01:09:43.998047+00:00 does not match metadata end 2021-05-05T01:09:43.998291015+00:00 updating metatdata value to 2021-05-05T01:09:43.998047+00:00\u001b[0m\n"
     ]
    },
    {
     "name": "stderr",
     "output_type": "stream",
     "text": [
      "C:\\Users\\jpeacock\\OneDrive - DOI\\Documents\\GitHub\\mth5\\mth5\\timeseries\\channel_ts.py:1524: RuntimeWarning: invalid value encountered in cast\n",
      "  obspy_trace = Trace(self.ts.astype(encoding_dict[encoding]))\n"
     ]
    },
    {
     "name": "stdout",
     "output_type": "stream",
     "text": [
      "\u001b[1m2025-04-01T16:55:41.595241-0700 | INFO | mth5.io.conversion | split_ms_to_days | Wrote miniseed file to: c:\\Users\\jpeacock\\OneDrive - DOI\\MTData\\CL2021\\archive\\to_dmc\\1Z_CL029__FQN_2021_05_05T00_59_59.mseed\u001b[0m\n",
      "\u001b[1m2025-04-01T16:55:41.796338-0700 | INFO | mth5.io.conversion | split_ms_to_days | Wrote miniseed file to: c:\\Users\\jpeacock\\OneDrive - DOI\\MTData\\CL2021\\archive\\to_dmc\\1Z_CL029__FQE_2021_05_05T00_59_59.mseed\u001b[0m\n",
      "\u001b[1m2025-04-01T16:55:41.985721-0700 | INFO | mth5.io.conversion | split_ms_to_days | Wrote miniseed file to: c:\\Users\\jpeacock\\OneDrive - DOI\\MTData\\CL2021\\archive\\to_dmc\\1Z_CL029__FFN_2021_05_05T00_59_59.mseed\u001b[0m\n",
      "\u001b[1m2025-04-01T16:55:42.176745-0700 | INFO | mth5.io.conversion | split_ms_to_days | Wrote miniseed file to: c:\\Users\\jpeacock\\OneDrive - DOI\\MTData\\CL2021\\archive\\to_dmc\\1Z_CL029__FFE_2021_05_05T00_59_59.mseed\u001b[0m\n",
      "\u001b[1m2025-04-01T16:55:42.427898-0700 | INFO | mth5.io.conversion | split_ms_to_days | Wrote miniseed file to: c:\\Users\\jpeacock\\OneDrive - DOI\\MTData\\CL2021\\archive\\to_dmc\\1Z_CL029__FFZ_2021_05_05T00_59_59.mseed\u001b[0m\n",
      "\u001b[1m2025-04-01T16:55:49.208261-0700 | INFO | mth5.timeseries.run_ts | _align_channels | Channels do not have a common end, using latest: 2021-05-05T06:59:43.996094000\u001b[0m\n"
     ]
    },
    {
     "name": "stderr",
     "output_type": "stream",
     "text": [
      "C:\\Users\\jpeacock\\OneDrive - DOI\\Documents\\GitHub\\mth5\\mth5\\timeseries\\channel_ts.py:1524: RuntimeWarning: invalid value encountered in cast\n",
      "  obspy_trace = Trace(self.ts.astype(encoding_dict[encoding]))\n"
     ]
    },
    {
     "name": "stdout",
     "output_type": "stream",
     "text": [
      "\u001b[1m2025-04-01T16:55:54.463462-0700 | INFO | mth5.io.conversion | split_ms_to_days | Wrote miniseed file to: c:\\Users\\jpeacock\\OneDrive - DOI\\MTData\\CL2021\\archive\\to_dmc\\1Z_CL029__CQN_2021_05_05T01_09_59.mseed\u001b[0m\n",
      "\u001b[1m2025-04-01T16:55:54.935520-0700 | INFO | mth5.io.conversion | split_ms_to_days | Wrote miniseed file to: c:\\Users\\jpeacock\\OneDrive - DOI\\MTData\\CL2021\\archive\\to_dmc\\1Z_CL029__CQE_2021_05_05T01_09_59.mseed\u001b[0m\n",
      "\u001b[1m2025-04-01T16:55:55.393238-0700 | INFO | mth5.io.conversion | split_ms_to_days | Wrote miniseed file to: c:\\Users\\jpeacock\\OneDrive - DOI\\MTData\\CL2021\\archive\\to_dmc\\1Z_CL029__CFN_2021_05_05T01_09_59.mseed\u001b[0m\n",
      "\u001b[1m2025-04-01T16:55:55.837659-0700 | INFO | mth5.io.conversion | split_ms_to_days | Wrote miniseed file to: c:\\Users\\jpeacock\\OneDrive - DOI\\MTData\\CL2021\\archive\\to_dmc\\1Z_CL029__CFE_2021_05_05T01_09_59.mseed\u001b[0m\n",
      "\u001b[1m2025-04-01T16:55:56.322310-0700 | INFO | mth5.io.conversion | split_ms_to_days | Wrote miniseed file to: c:\\Users\\jpeacock\\OneDrive - DOI\\MTData\\CL2021\\archive\\to_dmc\\1Z_CL029__CFZ_2021_05_05T01_09_59.mseed\u001b[0m\n",
      "\u001b[1m2025-04-01T16:55:59.889326-0700 | INFO | mth5.timeseries.run_ts | _align_channels | Channels do not have a common end, using latest: 2021-05-05T07:09:43.997803000\u001b[0m\n"
     ]
    },
    {
     "name": "stderr",
     "output_type": "stream",
     "text": [
      "C:\\Users\\jpeacock\\OneDrive - DOI\\Documents\\GitHub\\mth5\\mth5\\timeseries\\channel_ts.py:1524: RuntimeWarning: invalid value encountered in cast\n",
      "  obspy_trace = Trace(self.ts.astype(encoding_dict[encoding]))\n"
     ]
    },
    {
     "name": "stdout",
     "output_type": "stream",
     "text": [
      "\u001b[1m2025-04-01T16:56:03.023629-0700 | INFO | mth5.io.conversion | split_ms_to_days | Wrote miniseed file to: c:\\Users\\jpeacock\\OneDrive - DOI\\MTData\\CL2021\\archive\\to_dmc\\1Z_CL029__FQN_2021_05_05T06_59_59.mseed\u001b[0m\n",
      "\u001b[1m2025-04-01T16:56:03.221876-0700 | INFO | mth5.io.conversion | split_ms_to_days | Wrote miniseed file to: c:\\Users\\jpeacock\\OneDrive - DOI\\MTData\\CL2021\\archive\\to_dmc\\1Z_CL029__FQE_2021_05_05T06_59_59.mseed\u001b[0m\n",
      "\u001b[1m2025-04-01T16:56:03.429914-0700 | INFO | mth5.io.conversion | split_ms_to_days | Wrote miniseed file to: c:\\Users\\jpeacock\\OneDrive - DOI\\MTData\\CL2021\\archive\\to_dmc\\1Z_CL029__FFN_2021_05_05T06_59_59.mseed\u001b[0m\n",
      "\u001b[1m2025-04-01T16:56:03.642054-0700 | INFO | mth5.io.conversion | split_ms_to_days | Wrote miniseed file to: c:\\Users\\jpeacock\\OneDrive - DOI\\MTData\\CL2021\\archive\\to_dmc\\1Z_CL029__FFE_2021_05_05T06_59_59.mseed\u001b[0m\n",
      "\u001b[1m2025-04-01T16:56:03.872476-0700 | INFO | mth5.io.conversion | split_ms_to_days | Wrote miniseed file to: c:\\Users\\jpeacock\\OneDrive - DOI\\MTData\\CL2021\\archive\\to_dmc\\1Z_CL029__FFZ_2021_05_05T06_59_59.mseed\u001b[0m\n",
      "\u001b[1m2025-04-01T16:56:10.863793-0700 | INFO | mth5.timeseries.run_ts | _align_channels | Channels do not have a common end, using latest: 2021-05-05T12:59:43.996094000\u001b[0m\n"
     ]
    },
    {
     "name": "stderr",
     "output_type": "stream",
     "text": [
      "C:\\Users\\jpeacock\\OneDrive - DOI\\Documents\\GitHub\\mth5\\mth5\\timeseries\\channel_ts.py:1524: RuntimeWarning: invalid value encountered in cast\n",
      "  obspy_trace = Trace(self.ts.astype(encoding_dict[encoding]))\n"
     ]
    },
    {
     "name": "stdout",
     "output_type": "stream",
     "text": [
      "\u001b[1m2025-04-01T16:56:17.612421-0700 | INFO | mth5.io.conversion | split_ms_to_days | Wrote miniseed file to: c:\\Users\\jpeacock\\OneDrive - DOI\\MTData\\CL2021\\archive\\to_dmc\\1Z_CL029__CQN_2021_05_05T07_09_59.mseed\u001b[0m\n",
      "\u001b[1m2025-04-01T16:56:18.037112-0700 | INFO | mth5.io.conversion | split_ms_to_days | Wrote miniseed file to: c:\\Users\\jpeacock\\OneDrive - DOI\\MTData\\CL2021\\archive\\to_dmc\\1Z_CL029__CQE_2021_05_05T07_09_59.mseed\u001b[0m\n",
      "\u001b[1m2025-04-01T16:56:18.456384-0700 | INFO | mth5.io.conversion | split_ms_to_days | Wrote miniseed file to: c:\\Users\\jpeacock\\OneDrive - DOI\\MTData\\CL2021\\archive\\to_dmc\\1Z_CL029__CFN_2021_05_05T07_09_59.mseed\u001b[0m\n",
      "\u001b[1m2025-04-01T16:56:18.903560-0700 | INFO | mth5.io.conversion | split_ms_to_days | Wrote miniseed file to: c:\\Users\\jpeacock\\OneDrive - DOI\\MTData\\CL2021\\archive\\to_dmc\\1Z_CL029__CFE_2021_05_05T07_09_59.mseed\u001b[0m\n",
      "\u001b[1m2025-04-01T16:56:19.355022-0700 | INFO | mth5.io.conversion | split_ms_to_days | Wrote miniseed file to: c:\\Users\\jpeacock\\OneDrive - DOI\\MTData\\CL2021\\archive\\to_dmc\\1Z_CL029__CFZ_2021_05_05T07_09_59.mseed\u001b[0m\n",
      "\u001b[1m2025-04-01T16:56:23.095065-0700 | INFO | mth5.timeseries.run_ts | _align_channels | Channels do not have a common end, using latest: 2021-05-05T13:09:43.999023437\u001b[0m\n",
      "\u001b[33m\u001b[1m2025-04-01T16:56:25.883701-0700 | WARNING | mth5.timeseries.run_ts | validate_metadata | end time of dataset 2021-05-05T13:09:43.998779296+00:00 does not match metadata end 2021-05-05T13:09:43.999023437+00:00 updating metatdata value to 2021-05-05T13:09:43.998779296+00:00\u001b[0m\n"
     ]
    },
    {
     "name": "stderr",
     "output_type": "stream",
     "text": [
      "C:\\Users\\jpeacock\\OneDrive - DOI\\Documents\\GitHub\\mth5\\mth5\\timeseries\\channel_ts.py:1524: RuntimeWarning: invalid value encountered in cast\n",
      "  obspy_trace = Trace(self.ts.astype(encoding_dict[encoding]))\n"
     ]
    },
    {
     "name": "stdout",
     "output_type": "stream",
     "text": [
      "\u001b[1m2025-04-01T16:56:26.629557-0700 | INFO | mth5.io.conversion | split_ms_to_days | Wrote miniseed file to: c:\\Users\\jpeacock\\OneDrive - DOI\\MTData\\CL2021\\archive\\to_dmc\\1Z_CL029__FQN_2021_05_05T12_59_59.mseed\u001b[0m\n",
      "\u001b[1m2025-04-01T16:56:26.838216-0700 | INFO | mth5.io.conversion | split_ms_to_days | Wrote miniseed file to: c:\\Users\\jpeacock\\OneDrive - DOI\\MTData\\CL2021\\archive\\to_dmc\\1Z_CL029__FQE_2021_05_05T12_59_59.mseed\u001b[0m\n",
      "\u001b[1m2025-04-01T16:56:27.031922-0700 | INFO | mth5.io.conversion | split_ms_to_days | Wrote miniseed file to: c:\\Users\\jpeacock\\OneDrive - DOI\\MTData\\CL2021\\archive\\to_dmc\\1Z_CL029__FFN_2021_05_05T12_59_59.mseed\u001b[0m\n",
      "\u001b[1m2025-04-01T16:56:27.228142-0700 | INFO | mth5.io.conversion | split_ms_to_days | Wrote miniseed file to: c:\\Users\\jpeacock\\OneDrive - DOI\\MTData\\CL2021\\archive\\to_dmc\\1Z_CL029__FFE_2021_05_05T12_59_59.mseed\u001b[0m\n",
      "\u001b[1m2025-04-01T16:56:27.421074-0700 | INFO | mth5.io.conversion | split_ms_to_days | Wrote miniseed file to: c:\\Users\\jpeacock\\OneDrive - DOI\\MTData\\CL2021\\archive\\to_dmc\\1Z_CL029__FFZ_2021_05_05T12_59_59.mseed\u001b[0m\n",
      "\u001b[1m2025-04-01T16:56:33.365132-0700 | INFO | mth5.io.conversion | split_ms_to_days | Wrote miniseed file to: c:\\Users\\jpeacock\\OneDrive - DOI\\MTData\\CL2021\\archive\\to_dmc\\1Z_CL029__CQN_2021_05_05T13_09_59.mseed\u001b[0m\n",
      "\u001b[1m2025-04-01T16:56:33.620852-0700 | INFO | mth5.io.conversion | split_ms_to_days | Wrote miniseed file to: c:\\Users\\jpeacock\\OneDrive - DOI\\MTData\\CL2021\\archive\\to_dmc\\1Z_CL029__CQE_2021_05_05T13_09_59.mseed\u001b[0m\n",
      "\u001b[1m2025-04-01T16:56:33.873550-0700 | INFO | mth5.io.conversion | split_ms_to_days | Wrote miniseed file to: c:\\Users\\jpeacock\\OneDrive - DOI\\MTData\\CL2021\\archive\\to_dmc\\1Z_CL029__CFN_2021_05_05T13_09_59.mseed\u001b[0m\n",
      "\u001b[1m2025-04-01T16:56:34.152027-0700 | INFO | mth5.io.conversion | split_ms_to_days | Wrote miniseed file to: c:\\Users\\jpeacock\\OneDrive - DOI\\MTData\\CL2021\\archive\\to_dmc\\1Z_CL029__CFE_2021_05_05T13_09_59.mseed\u001b[0m\n",
      "\u001b[1m2025-04-01T16:56:34.474790-0700 | INFO | mth5.io.conversion | split_ms_to_days | Wrote miniseed file to: c:\\Users\\jpeacock\\OneDrive - DOI\\MTData\\CL2021\\archive\\to_dmc\\1Z_CL029__CFZ_2021_05_05T13_09_59.mseed\u001b[0m\n",
      "\u001b[1m2025-04-01T16:56:35.545535-0700 | INFO | mth5.mth5 | close_mth5 | Flushing and closing c:\\Users\\jpeacock\\OneDrive - DOI\\MTData\\CL2021\\archive\\cl029.h5\u001b[0m\n",
      "\u001b[33m\u001b[1m2025-04-01T16:56:35.549536-0700 | WARNING | mt_metadata.timeseries.stationxml.xml_station_mt_station | mt_to_xml | Station.geographic_name is None, using Station.id = cl029.Check StationXML site.name.\u001b[0m\n",
      "\u001b[1m2025-04-01T16:56:35.626164-0700 | INFO | mt_metadata.timeseries.filters.channel_response | to_obspy | total sensitivity 104382542748.06306 != total gain 1048576000.000055. Using total_gain.\u001b[0m\n",
      "\u001b[1m2025-04-01T16:56:35.654161-0700 | INFO | mt_metadata.timeseries.filters.channel_response | to_obspy | total sensitivity 105026369151.30917 != total gain 1048576000.000055. Using total_gain.\u001b[0m\n",
      "\u001b[1m2025-04-01T16:56:35.683175-0700 | INFO | mt_metadata.timeseries.filters.channel_response | to_obspy | total sensitivity 105276966379.19785 != total gain 1048576000.000055. Using total_gain.\u001b[0m\n",
      "\u001b[1m2025-04-01T16:56:35.774281-0700 | INFO | mt_metadata.timeseries.filters.channel_response | to_obspy | total sensitivity 104382542748.06306 != total gain 1048576000.000055. Using total_gain.\u001b[0m\n",
      "\u001b[1m2025-04-01T16:56:35.803897-0700 | INFO | mt_metadata.timeseries.filters.channel_response | to_obspy | total sensitivity 105026369151.30917 != total gain 1048576000.000055. Using total_gain.\u001b[0m\n",
      "\u001b[1m2025-04-01T16:56:35.831862-0700 | INFO | mt_metadata.timeseries.filters.channel_response | to_obspy | total sensitivity 105276966379.19785 != total gain 1048576000.000055. Using total_gain.\u001b[0m\n",
      "\u001b[1m2025-04-01T16:56:35.922487-0700 | INFO | mt_metadata.timeseries.filters.channel_response | to_obspy | total sensitivity 104382542748.06306 != total gain 1048576000.000055. Using total_gain.\u001b[0m\n",
      "\u001b[1m2025-04-01T16:56:35.949645-0700 | INFO | mt_metadata.timeseries.filters.channel_response | to_obspy | total sensitivity 105026369151.30917 != total gain 1048576000.000055. Using total_gain.\u001b[0m\n",
      "\u001b[1m2025-04-01T16:56:35.977717-0700 | INFO | mt_metadata.timeseries.filters.channel_response | to_obspy | total sensitivity 105276966379.19785 != total gain 1048576000.000055. Using total_gain.\u001b[0m\n",
      "\u001b[1m2025-04-01T16:56:36.067303-0700 | INFO | mt_metadata.timeseries.filters.channel_response | to_obspy | total sensitivity 104382542748.06306 != total gain 1048576000.000055. Using total_gain.\u001b[0m\n",
      "\u001b[1m2025-04-01T16:56:36.093883-0700 | INFO | mt_metadata.timeseries.filters.channel_response | to_obspy | total sensitivity 105026369151.30917 != total gain 1048576000.000055. Using total_gain.\u001b[0m\n",
      "\u001b[1m2025-04-01T16:56:36.123882-0700 | INFO | mt_metadata.timeseries.filters.channel_response | to_obspy | total sensitivity 105276966379.19785 != total gain 1048576000.000055. Using total_gain.\u001b[0m\n",
      "\u001b[1m2025-04-01T16:56:36.213492-0700 | INFO | mt_metadata.timeseries.filters.channel_response | to_obspy | total sensitivity 104382542748.06306 != total gain 1048576000.000055. Using total_gain.\u001b[0m\n",
      "\u001b[1m2025-04-01T16:56:36.243503-0700 | INFO | mt_metadata.timeseries.filters.channel_response | to_obspy | total sensitivity 105026369151.30917 != total gain 1048576000.000055. Using total_gain.\u001b[0m\n",
      "\u001b[1m2025-04-01T16:56:36.274504-0700 | INFO | mt_metadata.timeseries.filters.channel_response | to_obspy | total sensitivity 105276966379.19785 != total gain 1048576000.000055. Using total_gain.\u001b[0m\n",
      "\u001b[1m2025-04-01T16:56:36.369053-0700 | INFO | mt_metadata.timeseries.filters.channel_response | to_obspy | total sensitivity 104382542748.06306 != total gain 1048576000.000055. Using total_gain.\u001b[0m\n",
      "\u001b[1m2025-04-01T16:56:36.395170-0700 | INFO | mt_metadata.timeseries.filters.channel_response | to_obspy | total sensitivity 105026369151.30917 != total gain 1048576000.000055. Using total_gain.\u001b[0m\n",
      "\u001b[1m2025-04-01T16:56:36.425197-0700 | INFO | mt_metadata.timeseries.filters.channel_response | to_obspy | total sensitivity 105276966379.19785 != total gain 1048576000.000055. Using total_gain.\u001b[0m\n",
      "\u001b[1m2025-04-01T16:56:36.515822-0700 | INFO | mt_metadata.timeseries.filters.channel_response | to_obspy | total sensitivity 104382542748.06306 != total gain 1048576000.000055. Using total_gain.\u001b[0m\n",
      "\u001b[1m2025-04-01T16:56:36.552810-0700 | INFO | mt_metadata.timeseries.filters.channel_response | to_obspy | total sensitivity 105026369151.30917 != total gain 1048576000.000055. Using total_gain.\u001b[0m\n",
      "\u001b[1m2025-04-01T16:56:36.590365-0700 | INFO | mt_metadata.timeseries.filters.channel_response | to_obspy | total sensitivity 105276966379.19785 != total gain 1048576000.000055. Using total_gain.\u001b[0m\n",
      "\u001b[1m2025-04-01T16:56:36.713655-0700 | INFO | mt_metadata.timeseries.filters.channel_response | to_obspy | total sensitivity 104382542748.06306 != total gain 1048576000.000055. Using total_gain.\u001b[0m\n",
      "\u001b[1m2025-04-01T16:56:36.741688-0700 | INFO | mt_metadata.timeseries.filters.channel_response | to_obspy | total sensitivity 105026369151.30917 != total gain 1048576000.000055. Using total_gain.\u001b[0m\n",
      "\u001b[1m2025-04-01T16:56:36.775728-0700 | INFO | mt_metadata.timeseries.filters.channel_response | to_obspy | total sensitivity 105276966379.19785 != total gain 1048576000.000055. Using total_gain.\u001b[0m\n",
      "\u001b[1m2025-04-01T16:56:36.804284-0700 | INFO | mth5.io.conversion | convert_mth5_to_ms_stationxml | Wrote StationXML to c:\\Users\\jpeacock\\OneDrive - DOI\\MTData\\CL2021\\archive\\to_dmc\\cl029.xml\u001b[0m\n",
      "\u001b[1m2025-04-01T16:56:42.253452-0700 | INFO | mth5.io.conversion | split_ms_to_days | Wrote miniseed file to: c:\\Users\\jpeacock\\OneDrive - DOI\\MTData\\CL2021\\archive\\to_dmc\\1Z_CL031__LQN_2021_05_04T20_34_59.mseed\u001b[0m\n",
      "\u001b[1m2025-04-01T16:56:42.257419-0700 | INFO | mth5.io.conversion | split_ms_to_days | Wrote miniseed file to: c:\\Users\\jpeacock\\OneDrive - DOI\\MTData\\CL2021\\archive\\to_dmc\\1Z_CL031__LQN_2021_05_05T00_00_00.mseed\u001b[0m\n",
      "\u001b[1m2025-04-01T16:56:42.265419-0700 | INFO | mth5.io.conversion | split_ms_to_days | Wrote miniseed file to: c:\\Users\\jpeacock\\OneDrive - DOI\\MTData\\CL2021\\archive\\to_dmc\\1Z_CL031__LQE_2021_05_04T20_34_59.mseed\u001b[0m\n",
      "\u001b[1m2025-04-01T16:56:42.270420-0700 | INFO | mth5.io.conversion | split_ms_to_days | Wrote miniseed file to: c:\\Users\\jpeacock\\OneDrive - DOI\\MTData\\CL2021\\archive\\to_dmc\\1Z_CL031__LQE_2021_05_05T00_00_00.mseed\u001b[0m\n",
      "\u001b[1m2025-04-01T16:56:42.278421-0700 | INFO | mth5.io.conversion | split_ms_to_days | Wrote miniseed file to: c:\\Users\\jpeacock\\OneDrive - DOI\\MTData\\CL2021\\archive\\to_dmc\\1Z_CL031__LFN_2021_05_04T20_34_59.mseed\u001b[0m\n",
      "\u001b[1m2025-04-01T16:56:42.282425-0700 | INFO | mth5.io.conversion | split_ms_to_days | Wrote miniseed file to: c:\\Users\\jpeacock\\OneDrive - DOI\\MTData\\CL2021\\archive\\to_dmc\\1Z_CL031__LFN_2021_05_05T00_00_00.mseed\u001b[0m\n",
      "\u001b[1m2025-04-01T16:56:42.291426-0700 | INFO | mth5.io.conversion | split_ms_to_days | Wrote miniseed file to: c:\\Users\\jpeacock\\OneDrive - DOI\\MTData\\CL2021\\archive\\to_dmc\\1Z_CL031__LFE_2021_05_04T20_34_59.mseed\u001b[0m\n",
      "\u001b[1m2025-04-01T16:56:42.294426-0700 | INFO | mth5.io.conversion | split_ms_to_days | Wrote miniseed file to: c:\\Users\\jpeacock\\OneDrive - DOI\\MTData\\CL2021\\archive\\to_dmc\\1Z_CL031__LFE_2021_05_05T00_00_00.mseed\u001b[0m\n",
      "\u001b[1m2025-04-01T16:56:42.300938-0700 | INFO | mth5.io.conversion | split_ms_to_days | Wrote miniseed file to: c:\\Users\\jpeacock\\OneDrive - DOI\\MTData\\CL2021\\archive\\to_dmc\\1Z_CL031__LFZ_2021_05_04T20_34_59.mseed\u001b[0m\n",
      "\u001b[1m2025-04-01T16:56:42.304942-0700 | INFO | mth5.io.conversion | split_ms_to_days | Wrote miniseed file to: c:\\Users\\jpeacock\\OneDrive - DOI\\MTData\\CL2021\\archive\\to_dmc\\1Z_CL031__LFZ_2021_05_05T00_00_00.mseed\u001b[0m\n",
      "\u001b[1m2025-04-01T16:56:47.733639-0700 | INFO | mth5.timeseries.run_ts | _align_channels | Channels do not have a common end, using latest: 2021-05-05T00:59:43.980469000\u001b[0m\n"
     ]
    },
    {
     "name": "stderr",
     "output_type": "stream",
     "text": [
      "C:\\Users\\jpeacock\\OneDrive - DOI\\Documents\\GitHub\\mth5\\mth5\\timeseries\\channel_ts.py:1524: RuntimeWarning: invalid value encountered in cast\n",
      "  obspy_trace = Trace(self.ts.astype(encoding_dict[encoding]))\n"
     ]
    },
    {
     "name": "stdout",
     "output_type": "stream",
     "text": [
      "\u001b[1m2025-04-01T16:56:52.862385-0700 | INFO | mth5.io.conversion | split_ms_to_days | Wrote miniseed file to: c:\\Users\\jpeacock\\OneDrive - DOI\\MTData\\CL2021\\archive\\to_dmc\\1Z_CL031__CQN_2021_05_04T20_34_59.mseed\u001b[0m\n",
      "\u001b[1m2025-04-01T16:56:53.138313-0700 | INFO | mth5.io.conversion | split_ms_to_days | Wrote miniseed file to: c:\\Users\\jpeacock\\OneDrive - DOI\\MTData\\CL2021\\archive\\to_dmc\\1Z_CL031__CQN_2021_05_05T00_00_00.mseed\u001b[0m\n",
      "\u001b[1m2025-04-01T16:56:53.214970-0700 | INFO | mth5.io.conversion | split_ms_to_days | Wrote miniseed file to: c:\\Users\\jpeacock\\OneDrive - DOI\\MTData\\CL2021\\archive\\to_dmc\\1Z_CL031__CQE_2021_05_04T20_34_59.mseed\u001b[0m\n",
      "\u001b[1m2025-04-01T16:56:53.478075-0700 | INFO | mth5.io.conversion | split_ms_to_days | Wrote miniseed file to: c:\\Users\\jpeacock\\OneDrive - DOI\\MTData\\CL2021\\archive\\to_dmc\\1Z_CL031__CQE_2021_05_05T00_00_00.mseed\u001b[0m\n",
      "\u001b[1m2025-04-01T16:56:53.555674-0700 | INFO | mth5.io.conversion | split_ms_to_days | Wrote miniseed file to: c:\\Users\\jpeacock\\OneDrive - DOI\\MTData\\CL2021\\archive\\to_dmc\\1Z_CL031__CFN_2021_05_04T20_34_59.mseed\u001b[0m\n",
      "\u001b[1m2025-04-01T16:56:53.830269-0700 | INFO | mth5.io.conversion | split_ms_to_days | Wrote miniseed file to: c:\\Users\\jpeacock\\OneDrive - DOI\\MTData\\CL2021\\archive\\to_dmc\\1Z_CL031__CFN_2021_05_05T00_00_00.mseed\u001b[0m\n",
      "\u001b[1m2025-04-01T16:56:53.907884-0700 | INFO | mth5.io.conversion | split_ms_to_days | Wrote miniseed file to: c:\\Users\\jpeacock\\OneDrive - DOI\\MTData\\CL2021\\archive\\to_dmc\\1Z_CL031__CFE_2021_05_04T20_34_59.mseed\u001b[0m\n",
      "\u001b[1m2025-04-01T16:56:54.189264-0700 | INFO | mth5.io.conversion | split_ms_to_days | Wrote miniseed file to: c:\\Users\\jpeacock\\OneDrive - DOI\\MTData\\CL2021\\archive\\to_dmc\\1Z_CL031__CFE_2021_05_05T00_00_00.mseed\u001b[0m\n",
      "\u001b[1m2025-04-01T16:56:54.266820-0700 | INFO | mth5.io.conversion | split_ms_to_days | Wrote miniseed file to: c:\\Users\\jpeacock\\OneDrive - DOI\\MTData\\CL2021\\archive\\to_dmc\\1Z_CL031__CFZ_2021_05_04T20_34_59.mseed\u001b[0m\n",
      "\u001b[1m2025-04-01T16:56:54.541294-0700 | INFO | mth5.io.conversion | split_ms_to_days | Wrote miniseed file to: c:\\Users\\jpeacock\\OneDrive - DOI\\MTData\\CL2021\\archive\\to_dmc\\1Z_CL031__CFZ_2021_05_05T00_00_00.mseed\u001b[0m\n",
      "\u001b[1m2025-04-01T16:56:57.857832-0700 | INFO | mth5.timeseries.run_ts | _align_channels | Channels do not have a common end, using latest: 2021-05-05T01:09:43.999023437\u001b[0m\n",
      "\u001b[33m\u001b[1m2025-04-01T16:56:59.984561-0700 | WARNING | mth5.timeseries.run_ts | validate_metadata | end time of dataset 2021-05-05T01:09:43.998779296+00:00 does not match metadata end 2021-05-05T01:09:43.999023437+00:00 updating metatdata value to 2021-05-05T01:09:43.998779296+00:00\u001b[0m\n"
     ]
    },
    {
     "name": "stderr",
     "output_type": "stream",
     "text": [
      "C:\\Users\\jpeacock\\OneDrive - DOI\\Documents\\GitHub\\mth5\\mth5\\timeseries\\channel_ts.py:1524: RuntimeWarning: invalid value encountered in cast\n",
      "  obspy_trace = Trace(self.ts.astype(encoding_dict[encoding]))\n"
     ]
    },
    {
     "name": "stdout",
     "output_type": "stream",
     "text": [
      "\u001b[1m2025-04-01T16:57:00.734028-0700 | INFO | mth5.io.conversion | split_ms_to_days | Wrote miniseed file to: c:\\Users\\jpeacock\\OneDrive - DOI\\MTData\\CL2021\\archive\\to_dmc\\1Z_CL031__FQN_2021_05_05T00_59_59.mseed\u001b[0m\n",
      "\u001b[1m2025-04-01T16:57:00.937066-0700 | INFO | mth5.io.conversion | split_ms_to_days | Wrote miniseed file to: c:\\Users\\jpeacock\\OneDrive - DOI\\MTData\\CL2021\\archive\\to_dmc\\1Z_CL031__FQE_2021_05_05T00_59_59.mseed\u001b[0m\n",
      "\u001b[1m2025-04-01T16:57:01.127324-0700 | INFO | mth5.io.conversion | split_ms_to_days | Wrote miniseed file to: c:\\Users\\jpeacock\\OneDrive - DOI\\MTData\\CL2021\\archive\\to_dmc\\1Z_CL031__FFN_2021_05_05T00_59_59.mseed\u001b[0m\n",
      "\u001b[1m2025-04-01T16:57:01.330405-0700 | INFO | mth5.io.conversion | split_ms_to_days | Wrote miniseed file to: c:\\Users\\jpeacock\\OneDrive - DOI\\MTData\\CL2021\\archive\\to_dmc\\1Z_CL031__FFE_2021_05_05T00_59_59.mseed\u001b[0m\n",
      "\u001b[1m2025-04-01T16:57:01.548157-0700 | INFO | mth5.io.conversion | split_ms_to_days | Wrote miniseed file to: c:\\Users\\jpeacock\\OneDrive - DOI\\MTData\\CL2021\\archive\\to_dmc\\1Z_CL031__FFZ_2021_05_05T00_59_59.mseed\u001b[0m\n",
      "\u001b[1m2025-04-01T16:57:08.422898-0700 | INFO | mth5.timeseries.run_ts | _align_channels | Channels do not have a common end, using latest: 2021-05-05T06:59:43.996094000\u001b[0m\n"
     ]
    },
    {
     "name": "stderr",
     "output_type": "stream",
     "text": [
      "C:\\Users\\jpeacock\\OneDrive - DOI\\Documents\\GitHub\\mth5\\mth5\\timeseries\\channel_ts.py:1524: RuntimeWarning: invalid value encountered in cast\n",
      "  obspy_trace = Trace(self.ts.astype(encoding_dict[encoding]))\n"
     ]
    },
    {
     "name": "stdout",
     "output_type": "stream",
     "text": [
      "\u001b[1m2025-04-01T16:57:13.673952-0700 | INFO | mth5.io.conversion | split_ms_to_days | Wrote miniseed file to: c:\\Users\\jpeacock\\OneDrive - DOI\\MTData\\CL2021\\archive\\to_dmc\\1Z_CL031__CQN_2021_05_05T01_09_59.mseed\u001b[0m\n",
      "\u001b[1m2025-04-01T16:57:14.152543-0700 | INFO | mth5.io.conversion | split_ms_to_days | Wrote miniseed file to: c:\\Users\\jpeacock\\OneDrive - DOI\\MTData\\CL2021\\archive\\to_dmc\\1Z_CL031__CQE_2021_05_05T01_09_59.mseed\u001b[0m\n",
      "\u001b[1m2025-04-01T16:57:14.584562-0700 | INFO | mth5.io.conversion | split_ms_to_days | Wrote miniseed file to: c:\\Users\\jpeacock\\OneDrive - DOI\\MTData\\CL2021\\archive\\to_dmc\\1Z_CL031__CFN_2021_05_05T01_09_59.mseed\u001b[0m\n",
      "\u001b[1m2025-04-01T16:57:15.038658-0700 | INFO | mth5.io.conversion | split_ms_to_days | Wrote miniseed file to: c:\\Users\\jpeacock\\OneDrive - DOI\\MTData\\CL2021\\archive\\to_dmc\\1Z_CL031__CFE_2021_05_05T01_09_59.mseed\u001b[0m\n",
      "\u001b[1m2025-04-01T16:57:15.494985-0700 | INFO | mth5.io.conversion | split_ms_to_days | Wrote miniseed file to: c:\\Users\\jpeacock\\OneDrive - DOI\\MTData\\CL2021\\archive\\to_dmc\\1Z_CL031__CFZ_2021_05_05T01_09_59.mseed\u001b[0m\n",
      "\u001b[1m2025-04-01T16:57:19.340207-0700 | INFO | mth5.timeseries.run_ts | _align_channels | Channels do not have a common end, using latest: 2021-05-05T07:09:43.997803000\u001b[0m\n"
     ]
    },
    {
     "name": "stderr",
     "output_type": "stream",
     "text": [
      "C:\\Users\\jpeacock\\OneDrive - DOI\\Documents\\GitHub\\mth5\\mth5\\timeseries\\channel_ts.py:1524: RuntimeWarning: invalid value encountered in cast\n",
      "  obspy_trace = Trace(self.ts.astype(encoding_dict[encoding]))\n"
     ]
    },
    {
     "name": "stdout",
     "output_type": "stream",
     "text": [
      "\u001b[1m2025-04-01T16:57:22.427642-0700 | INFO | mth5.io.conversion | split_ms_to_days | Wrote miniseed file to: c:\\Users\\jpeacock\\OneDrive - DOI\\MTData\\CL2021\\archive\\to_dmc\\1Z_CL031__FQN_2021_05_05T06_59_59.mseed\u001b[0m\n",
      "\u001b[1m2025-04-01T16:57:22.655956-0700 | INFO | mth5.io.conversion | split_ms_to_days | Wrote miniseed file to: c:\\Users\\jpeacock\\OneDrive - DOI\\MTData\\CL2021\\archive\\to_dmc\\1Z_CL031__FQE_2021_05_05T06_59_59.mseed\u001b[0m\n",
      "\u001b[1m2025-04-01T16:57:22.905835-0700 | INFO | mth5.io.conversion | split_ms_to_days | Wrote miniseed file to: c:\\Users\\jpeacock\\OneDrive - DOI\\MTData\\CL2021\\archive\\to_dmc\\1Z_CL031__FFN_2021_05_05T06_59_59.mseed\u001b[0m\n",
      "\u001b[1m2025-04-01T16:57:23.155175-0700 | INFO | mth5.io.conversion | split_ms_to_days | Wrote miniseed file to: c:\\Users\\jpeacock\\OneDrive - DOI\\MTData\\CL2021\\archive\\to_dmc\\1Z_CL031__FFE_2021_05_05T06_59_59.mseed\u001b[0m\n",
      "\u001b[1m2025-04-01T16:57:23.392026-0700 | INFO | mth5.io.conversion | split_ms_to_days | Wrote miniseed file to: c:\\Users\\jpeacock\\OneDrive - DOI\\MTData\\CL2021\\archive\\to_dmc\\1Z_CL031__FFZ_2021_05_05T06_59_59.mseed\u001b[0m\n",
      "\u001b[1m2025-04-01T16:57:30.601994-0700 | INFO | mth5.timeseries.run_ts | _align_channels | Channels do not have a common end, using latest: 2021-05-05T12:59:43.996094000\u001b[0m\n"
     ]
    },
    {
     "name": "stderr",
     "output_type": "stream",
     "text": [
      "C:\\Users\\jpeacock\\OneDrive - DOI\\Documents\\GitHub\\mth5\\mth5\\timeseries\\channel_ts.py:1524: RuntimeWarning: invalid value encountered in cast\n",
      "  obspy_trace = Trace(self.ts.astype(encoding_dict[encoding]))\n"
     ]
    },
    {
     "name": "stdout",
     "output_type": "stream",
     "text": [
      "\u001b[1m2025-04-01T16:57:37.226761-0700 | INFO | mth5.io.conversion | split_ms_to_days | Wrote miniseed file to: c:\\Users\\jpeacock\\OneDrive - DOI\\MTData\\CL2021\\archive\\to_dmc\\1Z_CL031__CQN_2021_05_05T07_09_59.mseed\u001b[0m\n",
      "\u001b[1m2025-04-01T16:57:37.651469-0700 | INFO | mth5.io.conversion | split_ms_to_days | Wrote miniseed file to: c:\\Users\\jpeacock\\OneDrive - DOI\\MTData\\CL2021\\archive\\to_dmc\\1Z_CL031__CQE_2021_05_05T07_09_59.mseed\u001b[0m\n",
      "\u001b[1m2025-04-01T16:57:38.104591-0700 | INFO | mth5.io.conversion | split_ms_to_days | Wrote miniseed file to: c:\\Users\\jpeacock\\OneDrive - DOI\\MTData\\CL2021\\archive\\to_dmc\\1Z_CL031__CFN_2021_05_05T07_09_59.mseed\u001b[0m\n",
      "\u001b[1m2025-04-01T16:57:38.535991-0700 | INFO | mth5.io.conversion | split_ms_to_days | Wrote miniseed file to: c:\\Users\\jpeacock\\OneDrive - DOI\\MTData\\CL2021\\archive\\to_dmc\\1Z_CL031__CFE_2021_05_05T07_09_59.mseed\u001b[0m\n",
      "\u001b[1m2025-04-01T16:57:38.984880-0700 | INFO | mth5.io.conversion | split_ms_to_days | Wrote miniseed file to: c:\\Users\\jpeacock\\OneDrive - DOI\\MTData\\CL2021\\archive\\to_dmc\\1Z_CL031__CFZ_2021_05_05T07_09_59.mseed\u001b[0m\n",
      "\u001b[1m2025-04-01T16:57:42.774514-0700 | INFO | mth5.timeseries.run_ts | _align_channels | Channels do not have a common end, using latest: 2021-05-05T13:09:43.999268000\u001b[0m\n"
     ]
    },
    {
     "name": "stderr",
     "output_type": "stream",
     "text": [
      "C:\\Users\\jpeacock\\OneDrive - DOI\\Documents\\GitHub\\mth5\\mth5\\timeseries\\channel_ts.py:1524: RuntimeWarning: invalid value encountered in cast\n",
      "  obspy_trace = Trace(self.ts.astype(encoding_dict[encoding]))\n"
     ]
    },
    {
     "name": "stdout",
     "output_type": "stream",
     "text": [
      "\u001b[1m2025-04-01T16:57:45.662333-0700 | INFO | mth5.io.conversion | split_ms_to_days | Wrote miniseed file to: c:\\Users\\jpeacock\\OneDrive - DOI\\MTData\\CL2021\\archive\\to_dmc\\1Z_CL031__FQN_2021_05_05T12_59_59.mseed\u001b[0m\n",
      "\u001b[1m2025-04-01T16:57:45.855573-0700 | INFO | mth5.io.conversion | split_ms_to_days | Wrote miniseed file to: c:\\Users\\jpeacock\\OneDrive - DOI\\MTData\\CL2021\\archive\\to_dmc\\1Z_CL031__FQE_2021_05_05T12_59_59.mseed\u001b[0m\n",
      "\u001b[1m2025-04-01T16:57:46.046133-0700 | INFO | mth5.io.conversion | split_ms_to_days | Wrote miniseed file to: c:\\Users\\jpeacock\\OneDrive - DOI\\MTData\\CL2021\\archive\\to_dmc\\1Z_CL031__FFN_2021_05_05T12_59_59.mseed\u001b[0m\n",
      "\u001b[1m2025-04-01T16:57:46.236041-0700 | INFO | mth5.io.conversion | split_ms_to_days | Wrote miniseed file to: c:\\Users\\jpeacock\\OneDrive - DOI\\MTData\\CL2021\\archive\\to_dmc\\1Z_CL031__FFE_2021_05_05T12_59_59.mseed\u001b[0m\n",
      "\u001b[1m2025-04-01T16:57:46.433100-0700 | INFO | mth5.io.conversion | split_ms_to_days | Wrote miniseed file to: c:\\Users\\jpeacock\\OneDrive - DOI\\MTData\\CL2021\\archive\\to_dmc\\1Z_CL031__FFZ_2021_05_05T12_59_59.mseed\u001b[0m\n",
      "\u001b[1m2025-04-01T16:57:53.224392-0700 | INFO | mth5.io.conversion | split_ms_to_days | Wrote miniseed file to: c:\\Users\\jpeacock\\OneDrive - DOI\\MTData\\CL2021\\archive\\to_dmc\\1Z_CL031__CQN_2021_05_05T13_09_59.mseed\u001b[0m\n",
      "\u001b[1m2025-04-01T16:57:53.561265-0700 | INFO | mth5.io.conversion | split_ms_to_days | Wrote miniseed file to: c:\\Users\\jpeacock\\OneDrive - DOI\\MTData\\CL2021\\archive\\to_dmc\\1Z_CL031__CQE_2021_05_05T13_09_59.mseed\u001b[0m\n",
      "\u001b[1m2025-04-01T16:57:53.908046-0700 | INFO | mth5.io.conversion | split_ms_to_days | Wrote miniseed file to: c:\\Users\\jpeacock\\OneDrive - DOI\\MTData\\CL2021\\archive\\to_dmc\\1Z_CL031__CFN_2021_05_05T13_09_59.mseed\u001b[0m\n",
      "\u001b[1m2025-04-01T16:57:54.272280-0700 | INFO | mth5.io.conversion | split_ms_to_days | Wrote miniseed file to: c:\\Users\\jpeacock\\OneDrive - DOI\\MTData\\CL2021\\archive\\to_dmc\\1Z_CL031__CFE_2021_05_05T13_09_59.mseed\u001b[0m\n",
      "\u001b[1m2025-04-01T16:57:54.627440-0700 | INFO | mth5.io.conversion | split_ms_to_days | Wrote miniseed file to: c:\\Users\\jpeacock\\OneDrive - DOI\\MTData\\CL2021\\archive\\to_dmc\\1Z_CL031__CFZ_2021_05_05T13_09_59.mseed\u001b[0m\n",
      "\u001b[1m2025-04-01T16:57:55.870115-0700 | INFO | mth5.mth5 | close_mth5 | Flushing and closing c:\\Users\\jpeacock\\OneDrive - DOI\\MTData\\CL2021\\archive\\cl031.h5\u001b[0m\n",
      "\u001b[33m\u001b[1m2025-04-01T16:57:55.874154-0700 | WARNING | mt_metadata.timeseries.stationxml.xml_station_mt_station | mt_to_xml | Station.geographic_name is None, using Station.id = cl031.Check StationXML site.name.\u001b[0m\n",
      "\u001b[1m2025-04-01T16:57:55.957731-0700 | INFO | mt_metadata.timeseries.filters.channel_response | to_obspy | total sensitivity 104957842879.94406 != total gain 1048576000.000055. Using total_gain.\u001b[0m\n",
      "\u001b[1m2025-04-01T16:57:55.988699-0700 | INFO | mt_metadata.timeseries.filters.channel_response | to_obspy | total sensitivity 99528330172.17546 != total gain 1048576000.000055. Using total_gain.\u001b[0m\n",
      "\u001b[1m2025-04-01T16:57:56.020708-0700 | INFO | mt_metadata.timeseries.filters.channel_response | to_obspy | total sensitivity 104398743147.64836 != total gain 1048576000.000055. Using total_gain.\u001b[0m\n",
      "\u001b[1m2025-04-01T16:57:56.130252-0700 | INFO | mt_metadata.timeseries.filters.channel_response | to_obspy | total sensitivity 104957842879.94406 != total gain 1048576000.000055. Using total_gain.\u001b[0m\n",
      "\u001b[1m2025-04-01T16:57:56.160799-0700 | INFO | mt_metadata.timeseries.filters.channel_response | to_obspy | total sensitivity 99528330172.17546 != total gain 1048576000.000055. Using total_gain.\u001b[0m\n",
      "\u001b[1m2025-04-01T16:57:56.192800-0700 | INFO | mt_metadata.timeseries.filters.channel_response | to_obspy | total sensitivity 104398743147.64836 != total gain 1048576000.000055. Using total_gain.\u001b[0m\n",
      "\u001b[1m2025-04-01T16:57:56.283461-0700 | INFO | mt_metadata.timeseries.filters.channel_response | to_obspy | total sensitivity 104957842879.94406 != total gain 1048576000.000055. Using total_gain.\u001b[0m\n",
      "\u001b[1m2025-04-01T16:57:56.318425-0700 | INFO | mt_metadata.timeseries.filters.channel_response | to_obspy | total sensitivity 99528330172.17546 != total gain 1048576000.000055. Using total_gain.\u001b[0m\n",
      "\u001b[1m2025-04-01T16:57:56.346501-0700 | INFO | mt_metadata.timeseries.filters.channel_response | to_obspy | total sensitivity 104398743147.64836 != total gain 1048576000.000055. Using total_gain.\u001b[0m\n",
      "\u001b[1m2025-04-01T16:57:56.435065-0700 | INFO | mt_metadata.timeseries.filters.channel_response | to_obspy | total sensitivity 104957842879.94406 != total gain 1048576000.000055. Using total_gain.\u001b[0m\n",
      "\u001b[1m2025-04-01T16:57:56.462611-0700 | INFO | mt_metadata.timeseries.filters.channel_response | to_obspy | total sensitivity 99528330172.17546 != total gain 1048576000.000055. Using total_gain.\u001b[0m\n",
      "\u001b[1m2025-04-01T16:57:56.491644-0700 | INFO | mt_metadata.timeseries.filters.channel_response | to_obspy | total sensitivity 104398743147.64836 != total gain 1048576000.000055. Using total_gain.\u001b[0m\n",
      "\u001b[1m2025-04-01T16:57:56.584198-0700 | INFO | mt_metadata.timeseries.filters.channel_response | to_obspy | total sensitivity 104957842879.94406 != total gain 1048576000.000055. Using total_gain.\u001b[0m\n",
      "\u001b[1m2025-04-01T16:57:56.611195-0700 | INFO | mt_metadata.timeseries.filters.channel_response | to_obspy | total sensitivity 99528330172.17546 != total gain 1048576000.000055. Using total_gain.\u001b[0m\n",
      "\u001b[1m2025-04-01T16:57:56.640197-0700 | INFO | mt_metadata.timeseries.filters.channel_response | to_obspy | total sensitivity 104398743147.64836 != total gain 1048576000.000055. Using total_gain.\u001b[0m\n",
      "\u001b[1m2025-04-01T16:57:56.729803-0700 | INFO | mt_metadata.timeseries.filters.channel_response | to_obspy | total sensitivity 104957842879.94406 != total gain 1048576000.000055. Using total_gain.\u001b[0m\n",
      "\u001b[1m2025-04-01T16:57:56.760453-0700 | INFO | mt_metadata.timeseries.filters.channel_response | to_obspy | total sensitivity 99528330172.17546 != total gain 1048576000.000055. Using total_gain.\u001b[0m\n",
      "\u001b[1m2025-04-01T16:57:56.789453-0700 | INFO | mt_metadata.timeseries.filters.channel_response | to_obspy | total sensitivity 104398743147.64836 != total gain 1048576000.000055. Using total_gain.\u001b[0m\n",
      "\u001b[1m2025-04-01T16:57:56.882010-0700 | INFO | mt_metadata.timeseries.filters.channel_response | to_obspy | total sensitivity 104957842879.94406 != total gain 1048576000.000055. Using total_gain.\u001b[0m\n",
      "\u001b[1m2025-04-01T16:57:56.910010-0700 | INFO | mt_metadata.timeseries.filters.channel_response | to_obspy | total sensitivity 99528330172.17546 != total gain 1048576000.000055. Using total_gain.\u001b[0m\n",
      "\u001b[1m2025-04-01T16:57:56.937010-0700 | INFO | mt_metadata.timeseries.filters.channel_response | to_obspy | total sensitivity 104398743147.64836 != total gain 1048576000.000055. Using total_gain.\u001b[0m\n",
      "\u001b[1m2025-04-01T16:57:57.022627-0700 | INFO | mt_metadata.timeseries.filters.channel_response | to_obspy | total sensitivity 104957842879.94406 != total gain 1048576000.000055. Using total_gain.\u001b[0m\n",
      "\u001b[1m2025-04-01T16:57:57.050601-0700 | INFO | mt_metadata.timeseries.filters.channel_response | to_obspy | total sensitivity 99528330172.17546 != total gain 1048576000.000055. Using total_gain.\u001b[0m\n",
      "\u001b[1m2025-04-01T16:57:57.077217-0700 | INFO | mt_metadata.timeseries.filters.channel_response | to_obspy | total sensitivity 104398743147.64836 != total gain 1048576000.000055. Using total_gain.\u001b[0m\n",
      "\u001b[1m2025-04-01T16:57:57.127934-0700 | INFO | mth5.io.conversion | convert_mth5_to_ms_stationxml | Wrote StationXML to c:\\Users\\jpeacock\\OneDrive - DOI\\MTData\\CL2021\\archive\\to_dmc\\cl031.xml\u001b[0m\n",
      "\u001b[1m2025-04-01T16:58:02.453344-0700 | INFO | mth5.io.conversion | split_ms_to_days | Wrote miniseed file to: c:\\Users\\jpeacock\\OneDrive - DOI\\MTData\\CL2021\\archive\\to_dmc\\1Z_CL032__LQN_2021_05_01T21_39_59.mseed\u001b[0m\n",
      "\u001b[1m2025-04-01T16:58:02.456313-0700 | INFO | mth5.io.conversion | split_ms_to_days | Wrote miniseed file to: c:\\Users\\jpeacock\\OneDrive - DOI\\MTData\\CL2021\\archive\\to_dmc\\1Z_CL032__LQN_2021_05_02T00_00_00.mseed\u001b[0m\n",
      "\u001b[1m2025-04-01T16:58:02.464832-0700 | INFO | mth5.io.conversion | split_ms_to_days | Wrote miniseed file to: c:\\Users\\jpeacock\\OneDrive - DOI\\MTData\\CL2021\\archive\\to_dmc\\1Z_CL032__LQE_2021_05_01T21_39_59.mseed\u001b[0m\n",
      "\u001b[1m2025-04-01T16:58:02.467842-0700 | INFO | mth5.io.conversion | split_ms_to_days | Wrote miniseed file to: c:\\Users\\jpeacock\\OneDrive - DOI\\MTData\\CL2021\\archive\\to_dmc\\1Z_CL032__LQE_2021_05_02T00_00_00.mseed\u001b[0m\n",
      "\u001b[1m2025-04-01T16:58:02.474875-0700 | INFO | mth5.io.conversion | split_ms_to_days | Wrote miniseed file to: c:\\Users\\jpeacock\\OneDrive - DOI\\MTData\\CL2021\\archive\\to_dmc\\1Z_CL032__LFN_2021_05_01T21_39_59.mseed\u001b[0m\n",
      "\u001b[1m2025-04-01T16:58:02.478843-0700 | INFO | mth5.io.conversion | split_ms_to_days | Wrote miniseed file to: c:\\Users\\jpeacock\\OneDrive - DOI\\MTData\\CL2021\\archive\\to_dmc\\1Z_CL032__LFN_2021_05_02T00_00_00.mseed\u001b[0m\n",
      "\u001b[1m2025-04-01T16:58:02.486843-0700 | INFO | mth5.io.conversion | split_ms_to_days | Wrote miniseed file to: c:\\Users\\jpeacock\\OneDrive - DOI\\MTData\\CL2021\\archive\\to_dmc\\1Z_CL032__LFE_2021_05_01T21_39_59.mseed\u001b[0m\n",
      "\u001b[1m2025-04-01T16:58:02.489842-0700 | INFO | mth5.io.conversion | split_ms_to_days | Wrote miniseed file to: c:\\Users\\jpeacock\\OneDrive - DOI\\MTData\\CL2021\\archive\\to_dmc\\1Z_CL032__LFE_2021_05_02T00_00_00.mseed\u001b[0m\n",
      "\u001b[1m2025-04-01T16:58:02.496841-0700 | INFO | mth5.io.conversion | split_ms_to_days | Wrote miniseed file to: c:\\Users\\jpeacock\\OneDrive - DOI\\MTData\\CL2021\\archive\\to_dmc\\1Z_CL032__LFZ_2021_05_01T21_39_59.mseed\u001b[0m\n",
      "\u001b[1m2025-04-01T16:58:02.499846-0700 | INFO | mth5.io.conversion | split_ms_to_days | Wrote miniseed file to: c:\\Users\\jpeacock\\OneDrive - DOI\\MTData\\CL2021\\archive\\to_dmc\\1Z_CL032__LFZ_2021_05_02T00_00_00.mseed\u001b[0m\n",
      "\u001b[1m2025-04-01T16:58:08.768774-0700 | INFO | mth5.io.conversion | split_ms_to_days | Wrote miniseed file to: c:\\Users\\jpeacock\\OneDrive - DOI\\MTData\\CL2021\\archive\\to_dmc\\1Z_CL032__CQN_2021_05_01T21_39_59.mseed\u001b[0m\n",
      "\u001b[1m2025-04-01T16:58:08.934399-0700 | INFO | mth5.io.conversion | split_ms_to_days | Wrote miniseed file to: c:\\Users\\jpeacock\\OneDrive - DOI\\MTData\\CL2021\\archive\\to_dmc\\1Z_CL032__CQN_2021_05_02T00_00_00.mseed\u001b[0m\n",
      "\u001b[1m2025-04-01T16:58:09.016878-0700 | INFO | mth5.io.conversion | split_ms_to_days | Wrote miniseed file to: c:\\Users\\jpeacock\\OneDrive - DOI\\MTData\\CL2021\\archive\\to_dmc\\1Z_CL032__CQE_2021_05_01T21_39_59.mseed\u001b[0m\n",
      "\u001b[1m2025-04-01T16:58:09.191902-0700 | INFO | mth5.io.conversion | split_ms_to_days | Wrote miniseed file to: c:\\Users\\jpeacock\\OneDrive - DOI\\MTData\\CL2021\\archive\\to_dmc\\1Z_CL032__CQE_2021_05_02T00_00_00.mseed\u001b[0m\n",
      "\u001b[1m2025-04-01T16:58:09.266216-0700 | INFO | mth5.io.conversion | split_ms_to_days | Wrote miniseed file to: c:\\Users\\jpeacock\\OneDrive - DOI\\MTData\\CL2021\\archive\\to_dmc\\1Z_CL032__CFN_2021_05_01T21_39_59.mseed\u001b[0m\n",
      "\u001b[1m2025-04-01T16:58:09.453841-0700 | INFO | mth5.io.conversion | split_ms_to_days | Wrote miniseed file to: c:\\Users\\jpeacock\\OneDrive - DOI\\MTData\\CL2021\\archive\\to_dmc\\1Z_CL032__CFN_2021_05_02T00_00_00.mseed\u001b[0m\n",
      "\u001b[1m2025-04-01T16:58:09.528350-0700 | INFO | mth5.io.conversion | split_ms_to_days | Wrote miniseed file to: c:\\Users\\jpeacock\\OneDrive - DOI\\MTData\\CL2021\\archive\\to_dmc\\1Z_CL032__CFE_2021_05_01T21_39_59.mseed\u001b[0m\n",
      "\u001b[1m2025-04-01T16:58:09.726217-0700 | INFO | mth5.io.conversion | split_ms_to_days | Wrote miniseed file to: c:\\Users\\jpeacock\\OneDrive - DOI\\MTData\\CL2021\\archive\\to_dmc\\1Z_CL032__CFE_2021_05_02T00_00_00.mseed\u001b[0m\n",
      "\u001b[1m2025-04-01T16:58:09.800827-0700 | INFO | mth5.io.conversion | split_ms_to_days | Wrote miniseed file to: c:\\Users\\jpeacock\\OneDrive - DOI\\MTData\\CL2021\\archive\\to_dmc\\1Z_CL032__CFZ_2021_05_01T21_39_59.mseed\u001b[0m\n",
      "\u001b[1m2025-04-01T16:58:09.986853-0700 | INFO | mth5.io.conversion | split_ms_to_days | Wrote miniseed file to: c:\\Users\\jpeacock\\OneDrive - DOI\\MTData\\CL2021\\archive\\to_dmc\\1Z_CL032__CFZ_2021_05_02T00_00_00.mseed\u001b[0m\n",
      "\u001b[1m2025-04-01T16:58:13.138258-0700 | INFO | mth5.timeseries.run_ts | _align_channels | Channels do not have a common end, using latest: 2021-05-02T01:09:43.999268000\u001b[0m\n"
     ]
    },
    {
     "name": "stderr",
     "output_type": "stream",
     "text": [
      "C:\\Users\\jpeacock\\OneDrive - DOI\\Documents\\GitHub\\mth5\\mth5\\timeseries\\channel_ts.py:1524: RuntimeWarning: invalid value encountered in cast\n",
      "  obspy_trace = Trace(self.ts.astype(encoding_dict[encoding]))\n"
     ]
    },
    {
     "name": "stdout",
     "output_type": "stream",
     "text": [
      "\u001b[1m2025-04-01T16:58:16.381040-0700 | INFO | mth5.io.conversion | split_ms_to_days | Wrote miniseed file to: c:\\Users\\jpeacock\\OneDrive - DOI\\MTData\\CL2021\\archive\\to_dmc\\1Z_CL032__FQN_2021_05_02T00_59_59.mseed\u001b[0m\n",
      "\u001b[1m2025-04-01T16:58:16.600611-0700 | INFO | mth5.io.conversion | split_ms_to_days | Wrote miniseed file to: c:\\Users\\jpeacock\\OneDrive - DOI\\MTData\\CL2021\\archive\\to_dmc\\1Z_CL032__FQE_2021_05_02T00_59_59.mseed\u001b[0m\n",
      "\u001b[1m2025-04-01T16:58:16.832569-0700 | INFO | mth5.io.conversion | split_ms_to_days | Wrote miniseed file to: c:\\Users\\jpeacock\\OneDrive - DOI\\MTData\\CL2021\\archive\\to_dmc\\1Z_CL032__FFN_2021_05_02T00_59_59.mseed\u001b[0m\n",
      "\u001b[1m2025-04-01T16:58:17.035676-0700 | INFO | mth5.io.conversion | split_ms_to_days | Wrote miniseed file to: c:\\Users\\jpeacock\\OneDrive - DOI\\MTData\\CL2021\\archive\\to_dmc\\1Z_CL032__FFE_2021_05_02T00_59_59.mseed\u001b[0m\n",
      "\u001b[1m2025-04-01T16:58:17.248071-0700 | INFO | mth5.io.conversion | split_ms_to_days | Wrote miniseed file to: c:\\Users\\jpeacock\\OneDrive - DOI\\MTData\\CL2021\\archive\\to_dmc\\1Z_CL032__FFZ_2021_05_02T00_59_59.mseed\u001b[0m\n",
      "\u001b[1m2025-04-01T16:58:24.848136-0700 | INFO | mth5.timeseries.run_ts | _align_channels | Channels do not have a common end, using latest: 2021-05-02T06:59:43.968750000\u001b[0m\n",
      "\u001b[1m2025-04-01T16:58:27.940451-0700 | INFO | mth5.io.conversion | split_ms_to_days | Wrote miniseed file to: c:\\Users\\jpeacock\\OneDrive - DOI\\MTData\\CL2021\\archive\\to_dmc\\1Z_CL032__CQN_2021_05_02T01_09_59.mseed\u001b[0m\n",
      "\u001b[1m2025-04-01T16:58:28.427994-0700 | INFO | mth5.io.conversion | split_ms_to_days | Wrote miniseed file to: c:\\Users\\jpeacock\\OneDrive - DOI\\MTData\\CL2021\\archive\\to_dmc\\1Z_CL032__CQE_2021_05_02T01_09_59.mseed\u001b[0m\n",
      "\u001b[1m2025-04-01T16:58:28.904098-0700 | INFO | mth5.io.conversion | split_ms_to_days | Wrote miniseed file to: c:\\Users\\jpeacock\\OneDrive - DOI\\MTData\\CL2021\\archive\\to_dmc\\1Z_CL032__CFN_2021_05_02T01_09_59.mseed\u001b[0m\n",
      "\u001b[1m2025-04-01T16:58:29.342499-0700 | INFO | mth5.io.conversion | split_ms_to_days | Wrote miniseed file to: c:\\Users\\jpeacock\\OneDrive - DOI\\MTData\\CL2021\\archive\\to_dmc\\1Z_CL032__CFE_2021_05_02T01_09_59.mseed\u001b[0m\n",
      "\u001b[1m2025-04-01T16:58:29.808009-0700 | INFO | mth5.io.conversion | split_ms_to_days | Wrote miniseed file to: c:\\Users\\jpeacock\\OneDrive - DOI\\MTData\\CL2021\\archive\\to_dmc\\1Z_CL032__CFZ_2021_05_02T01_09_59.mseed\u001b[0m\n",
      "\u001b[1m2025-04-01T16:58:33.866398-0700 | INFO | mth5.timeseries.run_ts | _align_channels | Channels do not have a common end, using latest: 2021-05-02T07:09:43.998291015\u001b[0m\n",
      "\u001b[33m\u001b[1m2025-04-01T16:58:35.941690-0700 | WARNING | mth5.timeseries.run_ts | validate_metadata | end time of dataset 2021-05-02T07:09:43.998047+00:00 does not match metadata end 2021-05-02T07:09:43.998291015+00:00 updating metatdata value to 2021-05-02T07:09:43.998047+00:00\u001b[0m\n",
      "\u001b[1m2025-04-01T16:58:36.622731-0700 | INFO | mth5.io.conversion | split_ms_to_days | Wrote miniseed file to: c:\\Users\\jpeacock\\OneDrive - DOI\\MTData\\CL2021\\archive\\to_dmc\\1Z_CL032__FQN_2021_05_02T06_59_59.mseed\u001b[0m\n"
     ]
    },
    {
     "name": "stderr",
     "output_type": "stream",
     "text": [
      "C:\\Users\\jpeacock\\OneDrive - DOI\\Documents\\GitHub\\mth5\\mth5\\timeseries\\channel_ts.py:1524: RuntimeWarning: invalid value encountered in cast\n",
      "  obspy_trace = Trace(self.ts.astype(encoding_dict[encoding]))\n"
     ]
    },
    {
     "name": "stdout",
     "output_type": "stream",
     "text": [
      "\u001b[1m2025-04-01T16:58:36.823895-0700 | INFO | mth5.io.conversion | split_ms_to_days | Wrote miniseed file to: c:\\Users\\jpeacock\\OneDrive - DOI\\MTData\\CL2021\\archive\\to_dmc\\1Z_CL032__FQE_2021_05_02T06_59_59.mseed\u001b[0m\n",
      "\u001b[1m2025-04-01T16:58:37.015941-0700 | INFO | mth5.io.conversion | split_ms_to_days | Wrote miniseed file to: c:\\Users\\jpeacock\\OneDrive - DOI\\MTData\\CL2021\\archive\\to_dmc\\1Z_CL032__FFN_2021_05_02T06_59_59.mseed\u001b[0m\n",
      "\u001b[1m2025-04-01T16:58:37.216142-0700 | INFO | mth5.io.conversion | split_ms_to_days | Wrote miniseed file to: c:\\Users\\jpeacock\\OneDrive - DOI\\MTData\\CL2021\\archive\\to_dmc\\1Z_CL032__FFE_2021_05_02T06_59_59.mseed\u001b[0m\n",
      "\u001b[1m2025-04-01T16:58:37.426761-0700 | INFO | mth5.io.conversion | split_ms_to_days | Wrote miniseed file to: c:\\Users\\jpeacock\\OneDrive - DOI\\MTData\\CL2021\\archive\\to_dmc\\1Z_CL032__FFZ_2021_05_02T06_59_59.mseed\u001b[0m\n",
      "\u001b[1m2025-04-01T16:58:45.197138-0700 | INFO | mth5.io.conversion | split_ms_to_days | Wrote miniseed file to: c:\\Users\\jpeacock\\OneDrive - DOI\\MTData\\CL2021\\archive\\to_dmc\\1Z_CL032__CQN_2021_05_02T07_09_59.mseed\u001b[0m\n",
      "\u001b[1m2025-04-01T16:58:45.644713-0700 | INFO | mth5.io.conversion | split_ms_to_days | Wrote miniseed file to: c:\\Users\\jpeacock\\OneDrive - DOI\\MTData\\CL2021\\archive\\to_dmc\\1Z_CL032__CQE_2021_05_02T07_09_59.mseed\u001b[0m\n",
      "\u001b[1m2025-04-01T16:58:46.159490-0700 | INFO | mth5.io.conversion | split_ms_to_days | Wrote miniseed file to: c:\\Users\\jpeacock\\OneDrive - DOI\\MTData\\CL2021\\archive\\to_dmc\\1Z_CL032__CFN_2021_05_02T07_09_59.mseed\u001b[0m\n",
      "\u001b[1m2025-04-01T16:58:46.642037-0700 | INFO | mth5.io.conversion | split_ms_to_days | Wrote miniseed file to: c:\\Users\\jpeacock\\OneDrive - DOI\\MTData\\CL2021\\archive\\to_dmc\\1Z_CL032__CFE_2021_05_02T07_09_59.mseed\u001b[0m\n",
      "\u001b[1m2025-04-01T16:58:47.132854-0700 | INFO | mth5.io.conversion | split_ms_to_days | Wrote miniseed file to: c:\\Users\\jpeacock\\OneDrive - DOI\\MTData\\CL2021\\archive\\to_dmc\\1Z_CL032__CFZ_2021_05_02T07_09_59.mseed\u001b[0m\n",
      "\u001b[1m2025-04-01T16:58:51.004307-0700 | INFO | mth5.timeseries.run_ts | _align_channels | Channels do not have a common end, using latest: 2021-05-02T13:09:43.999268000\u001b[0m\n"
     ]
    },
    {
     "name": "stderr",
     "output_type": "stream",
     "text": [
      "C:\\Users\\jpeacock\\OneDrive - DOI\\Documents\\GitHub\\mth5\\mth5\\timeseries\\channel_ts.py:1524: RuntimeWarning: invalid value encountered in cast\n",
      "  obspy_trace = Trace(self.ts.astype(encoding_dict[encoding]))\n"
     ]
    },
    {
     "name": "stdout",
     "output_type": "stream",
     "text": [
      "\u001b[1m2025-04-01T16:58:54.004759-0700 | INFO | mth5.io.conversion | split_ms_to_days | Wrote miniseed file to: c:\\Users\\jpeacock\\OneDrive - DOI\\MTData\\CL2021\\archive\\to_dmc\\1Z_CL032__FQN_2021_05_02T12_59_59.mseed\u001b[0m\n",
      "\u001b[1m2025-04-01T16:58:54.203285-0700 | INFO | mth5.io.conversion | split_ms_to_days | Wrote miniseed file to: c:\\Users\\jpeacock\\OneDrive - DOI\\MTData\\CL2021\\archive\\to_dmc\\1Z_CL032__FQE_2021_05_02T12_59_59.mseed\u001b[0m\n",
      "\u001b[1m2025-04-01T16:58:54.399341-0700 | INFO | mth5.io.conversion | split_ms_to_days | Wrote miniseed file to: c:\\Users\\jpeacock\\OneDrive - DOI\\MTData\\CL2021\\archive\\to_dmc\\1Z_CL032__FFN_2021_05_02T12_59_59.mseed\u001b[0m\n",
      "\u001b[1m2025-04-01T16:58:54.595647-0700 | INFO | mth5.io.conversion | split_ms_to_days | Wrote miniseed file to: c:\\Users\\jpeacock\\OneDrive - DOI\\MTData\\CL2021\\archive\\to_dmc\\1Z_CL032__FFE_2021_05_02T12_59_59.mseed\u001b[0m\n",
      "\u001b[1m2025-04-01T16:58:54.807914-0700 | INFO | mth5.io.conversion | split_ms_to_days | Wrote miniseed file to: c:\\Users\\jpeacock\\OneDrive - DOI\\MTData\\CL2021\\archive\\to_dmc\\1Z_CL032__FFZ_2021_05_02T12_59_59.mseed\u001b[0m\n",
      "\u001b[1m2025-04-01T16:59:01.321549-0700 | INFO | mth5.io.conversion | split_ms_to_days | Wrote miniseed file to: c:\\Users\\jpeacock\\OneDrive - DOI\\MTData\\CL2021\\archive\\to_dmc\\1Z_CL032__CQN_2021_05_02T13_09_59.mseed\u001b[0m\n",
      "\u001b[1m2025-04-01T16:59:01.619186-0700 | INFO | mth5.io.conversion | split_ms_to_days | Wrote miniseed file to: c:\\Users\\jpeacock\\OneDrive - DOI\\MTData\\CL2021\\archive\\to_dmc\\1Z_CL032__CQE_2021_05_02T13_09_59.mseed\u001b[0m\n",
      "\u001b[1m2025-04-01T16:59:01.898388-0700 | INFO | mth5.io.conversion | split_ms_to_days | Wrote miniseed file to: c:\\Users\\jpeacock\\OneDrive - DOI\\MTData\\CL2021\\archive\\to_dmc\\1Z_CL032__CFN_2021_05_02T13_09_59.mseed\u001b[0m\n",
      "\u001b[1m2025-04-01T16:59:02.167844-0700 | INFO | mth5.io.conversion | split_ms_to_days | Wrote miniseed file to: c:\\Users\\jpeacock\\OneDrive - DOI\\MTData\\CL2021\\archive\\to_dmc\\1Z_CL032__CFE_2021_05_02T13_09_59.mseed\u001b[0m\n",
      "\u001b[1m2025-04-01T16:59:02.437598-0700 | INFO | mth5.io.conversion | split_ms_to_days | Wrote miniseed file to: c:\\Users\\jpeacock\\OneDrive - DOI\\MTData\\CL2021\\archive\\to_dmc\\1Z_CL032__CFZ_2021_05_02T13_09_59.mseed\u001b[0m\n",
      "\u001b[1m2025-04-01T16:59:03.556454-0700 | INFO | mth5.mth5 | close_mth5 | Flushing and closing c:\\Users\\jpeacock\\OneDrive - DOI\\MTData\\CL2021\\archive\\cl032.h5\u001b[0m\n",
      "\u001b[33m\u001b[1m2025-04-01T16:59:03.560455-0700 | WARNING | mt_metadata.timeseries.stationxml.xml_station_mt_station | mt_to_xml | Station.geographic_name is None, using Station.id = cl032.Check StationXML site.name.\u001b[0m\n",
      "\u001b[1m2025-04-01T16:59:03.666984-0700 | INFO | mt_metadata.timeseries.filters.channel_response | to_obspy | total sensitivity 104063415757.0512 != total gain 1048576000.000055. Using total_gain.\u001b[0m\n",
      "\u001b[1m2025-04-01T16:59:03.698990-0700 | INFO | mt_metadata.timeseries.filters.channel_response | to_obspy | total sensitivity 104064067310.72034 != total gain 1048576000.000055. Using total_gain.\u001b[0m\n",
      "\u001b[1m2025-04-01T16:59:03.733165-0700 | INFO | mt_metadata.timeseries.filters.channel_response | to_obspy | total sensitivity 104852080647.21446 != total gain 1048576000.000055. Using total_gain.\u001b[0m\n",
      "\u001b[1m2025-04-01T16:59:03.828725-0700 | INFO | mt_metadata.timeseries.filters.channel_response | to_obspy | total sensitivity 104063415757.0512 != total gain 1048576000.000055. Using total_gain.\u001b[0m\n",
      "\u001b[1m2025-04-01T16:59:03.859727-0700 | INFO | mt_metadata.timeseries.filters.channel_response | to_obspy | total sensitivity 104064067310.72034 != total gain 1048576000.000055. Using total_gain.\u001b[0m\n",
      "\u001b[1m2025-04-01T16:59:03.889726-0700 | INFO | mt_metadata.timeseries.filters.channel_response | to_obspy | total sensitivity 104852080647.21446 != total gain 1048576000.000055. Using total_gain.\u001b[0m\n",
      "\u001b[1m2025-04-01T16:59:03.988290-0700 | INFO | mt_metadata.timeseries.filters.channel_response | to_obspy | total sensitivity 104063415757.0512 != total gain 1048576000.000055. Using total_gain.\u001b[0m\n",
      "\u001b[1m2025-04-01T16:59:04.018472-0700 | INFO | mt_metadata.timeseries.filters.channel_response | to_obspy | total sensitivity 104064067310.72034 != total gain 1048576000.000055. Using total_gain.\u001b[0m\n",
      "\u001b[1m2025-04-01T16:59:04.050439-0700 | INFO | mt_metadata.timeseries.filters.channel_response | to_obspy | total sensitivity 104852080647.21446 != total gain 1048576000.000055. Using total_gain.\u001b[0m\n",
      "\u001b[1m2025-04-01T16:59:04.143956-0700 | INFO | mt_metadata.timeseries.filters.channel_response | to_obspy | total sensitivity 104063415757.0512 != total gain 1048576000.000055. Using total_gain.\u001b[0m\n",
      "\u001b[1m2025-04-01T16:59:04.171957-0700 | INFO | mt_metadata.timeseries.filters.channel_response | to_obspy | total sensitivity 104064067310.72034 != total gain 1048576000.000055. Using total_gain.\u001b[0m\n",
      "\u001b[1m2025-04-01T16:59:04.201963-0700 | INFO | mt_metadata.timeseries.filters.channel_response | to_obspy | total sensitivity 104852080647.21446 != total gain 1048576000.000055. Using total_gain.\u001b[0m\n",
      "\u001b[1m2025-04-01T16:59:04.317008-0700 | INFO | mt_metadata.timeseries.filters.channel_response | to_obspy | total sensitivity 104063415757.0512 != total gain 1048576000.000055. Using total_gain.\u001b[0m\n",
      "\u001b[1m2025-04-01T16:59:04.349011-0700 | INFO | mt_metadata.timeseries.filters.channel_response | to_obspy | total sensitivity 104064067310.72034 != total gain 1048576000.000055. Using total_gain.\u001b[0m\n",
      "\u001b[1m2025-04-01T16:59:04.385009-0700 | INFO | mt_metadata.timeseries.filters.channel_response | to_obspy | total sensitivity 104852080647.21446 != total gain 1048576000.000055. Using total_gain.\u001b[0m\n",
      "\u001b[1m2025-04-01T16:59:04.483525-0700 | INFO | mt_metadata.timeseries.filters.channel_response | to_obspy | total sensitivity 104063415757.0512 != total gain 1048576000.000055. Using total_gain.\u001b[0m\n",
      "\u001b[1m2025-04-01T16:59:04.515040-0700 | INFO | mt_metadata.timeseries.filters.channel_response | to_obspy | total sensitivity 104064067310.72034 != total gain 1048576000.000055. Using total_gain.\u001b[0m\n",
      "\u001b[1m2025-04-01T16:59:04.548041-0700 | INFO | mt_metadata.timeseries.filters.channel_response | to_obspy | total sensitivity 104852080647.21446 != total gain 1048576000.000055. Using total_gain.\u001b[0m\n",
      "\u001b[1m2025-04-01T16:59:04.655581-0700 | INFO | mt_metadata.timeseries.filters.channel_response | to_obspy | total sensitivity 104063415757.0512 != total gain 1048576000.000055. Using total_gain.\u001b[0m\n",
      "\u001b[1m2025-04-01T16:59:04.686580-0700 | INFO | mt_metadata.timeseries.filters.channel_response | to_obspy | total sensitivity 104064067310.72034 != total gain 1048576000.000055. Using total_gain.\u001b[0m\n",
      "\u001b[1m2025-04-01T16:59:04.719104-0700 | INFO | mt_metadata.timeseries.filters.channel_response | to_obspy | total sensitivity 104852080647.21446 != total gain 1048576000.000055. Using total_gain.\u001b[0m\n",
      "\u001b[1m2025-04-01T16:59:04.811110-0700 | INFO | mt_metadata.timeseries.filters.channel_response | to_obspy | total sensitivity 104063415757.0512 != total gain 1048576000.000055. Using total_gain.\u001b[0m\n",
      "\u001b[1m2025-04-01T16:59:04.842624-0700 | INFO | mt_metadata.timeseries.filters.channel_response | to_obspy | total sensitivity 104064067310.72034 != total gain 1048576000.000055. Using total_gain.\u001b[0m\n",
      "\u001b[1m2025-04-01T16:59:04.873624-0700 | INFO | mt_metadata.timeseries.filters.channel_response | to_obspy | total sensitivity 104852080647.21446 != total gain 1048576000.000055. Using total_gain.\u001b[0m\n",
      "\u001b[1m2025-04-01T16:59:04.917145-0700 | INFO | mth5.io.conversion | convert_mth5_to_ms_stationxml | Wrote StationXML to c:\\Users\\jpeacock\\OneDrive - DOI\\MTData\\CL2021\\archive\\to_dmc\\cl032.xml\u001b[0m\n",
      "\u001b[1m2025-04-01T16:59:10.023249-0700 | INFO | mth5.io.conversion | split_ms_to_days | Wrote miniseed file to: c:\\Users\\jpeacock\\OneDrive - DOI\\MTData\\CL2021\\archive\\to_dmc\\1Z_CL036__LQN_2021_05_23T23_39_59.mseed\u001b[0m\n",
      "\u001b[1m2025-04-01T16:59:10.026269-0700 | INFO | mth5.io.conversion | split_ms_to_days | Wrote miniseed file to: c:\\Users\\jpeacock\\OneDrive - DOI\\MTData\\CL2021\\archive\\to_dmc\\1Z_CL036__LQN_2021_05_24T00_00_00.mseed\u001b[0m\n",
      "\u001b[1m2025-04-01T16:59:10.037249-0700 | INFO | mth5.io.conversion | split_ms_to_days | Wrote miniseed file to: c:\\Users\\jpeacock\\OneDrive - DOI\\MTData\\CL2021\\archive\\to_dmc\\1Z_CL036__LQE_2021_05_23T23_39_59.mseed\u001b[0m\n",
      "\u001b[1m2025-04-01T16:59:10.039251-0700 | INFO | mth5.io.conversion | split_ms_to_days | Wrote miniseed file to: c:\\Users\\jpeacock\\OneDrive - DOI\\MTData\\CL2021\\archive\\to_dmc\\1Z_CL036__LQE_2021_05_24T00_00_00.mseed\u001b[0m\n",
      "\u001b[1m2025-04-01T16:59:10.048271-0700 | INFO | mth5.io.conversion | split_ms_to_days | Wrote miniseed file to: c:\\Users\\jpeacock\\OneDrive - DOI\\MTData\\CL2021\\archive\\to_dmc\\1Z_CL036__LFN_2021_05_23T23_39_59.mseed\u001b[0m\n",
      "\u001b[1m2025-04-01T16:59:10.051249-0700 | INFO | mth5.io.conversion | split_ms_to_days | Wrote miniseed file to: c:\\Users\\jpeacock\\OneDrive - DOI\\MTData\\CL2021\\archive\\to_dmc\\1Z_CL036__LFN_2021_05_24T00_00_00.mseed\u001b[0m\n",
      "\u001b[1m2025-04-01T16:59:10.062253-0700 | INFO | mth5.io.conversion | split_ms_to_days | Wrote miniseed file to: c:\\Users\\jpeacock\\OneDrive - DOI\\MTData\\CL2021\\archive\\to_dmc\\1Z_CL036__LFE_2021_05_23T23_39_59.mseed\u001b[0m\n",
      "\u001b[1m2025-04-01T16:59:10.065249-0700 | INFO | mth5.io.conversion | split_ms_to_days | Wrote miniseed file to: c:\\Users\\jpeacock\\OneDrive - DOI\\MTData\\CL2021\\archive\\to_dmc\\1Z_CL036__LFE_2021_05_24T00_00_00.mseed\u001b[0m\n",
      "\u001b[1m2025-04-01T16:59:10.072249-0700 | INFO | mth5.io.conversion | split_ms_to_days | Wrote miniseed file to: c:\\Users\\jpeacock\\OneDrive - DOI\\MTData\\CL2021\\archive\\to_dmc\\1Z_CL036__LFZ_2021_05_23T23_39_59.mseed\u001b[0m\n",
      "\u001b[1m2025-04-01T16:59:10.075250-0700 | INFO | mth5.io.conversion | split_ms_to_days | Wrote miniseed file to: c:\\Users\\jpeacock\\OneDrive - DOI\\MTData\\CL2021\\archive\\to_dmc\\1Z_CL036__LFZ_2021_05_24T00_00_00.mseed\u001b[0m\n",
      "\u001b[1m2025-04-01T16:59:14.306192-0700 | INFO | mth5.io.conversion | split_ms_to_days | Wrote miniseed file to: c:\\Users\\jpeacock\\OneDrive - DOI\\MTData\\CL2021\\archive\\to_dmc\\1Z_CL036__CQN_2021_05_23T23_39_59.mseed\u001b[0m\n",
      "\u001b[1m2025-04-01T16:59:14.335387-0700 | INFO | mth5.io.conversion | split_ms_to_days | Wrote miniseed file to: c:\\Users\\jpeacock\\OneDrive - DOI\\MTData\\CL2021\\archive\\to_dmc\\1Z_CL036__CQN_2021_05_24T00_00_00.mseed\u001b[0m\n",
      "\u001b[1m2025-04-01T16:59:14.420874-0700 | INFO | mth5.io.conversion | split_ms_to_days | Wrote miniseed file to: c:\\Users\\jpeacock\\OneDrive - DOI\\MTData\\CL2021\\archive\\to_dmc\\1Z_CL036__CQE_2021_05_23T23_39_59.mseed\u001b[0m\n",
      "\u001b[1m2025-04-01T16:59:14.451876-0700 | INFO | mth5.io.conversion | split_ms_to_days | Wrote miniseed file to: c:\\Users\\jpeacock\\OneDrive - DOI\\MTData\\CL2021\\archive\\to_dmc\\1Z_CL036__CQE_2021_05_24T00_00_00.mseed\u001b[0m\n",
      "\u001b[1m2025-04-01T16:59:14.530394-0700 | INFO | mth5.io.conversion | split_ms_to_days | Wrote miniseed file to: c:\\Users\\jpeacock\\OneDrive - DOI\\MTData\\CL2021\\archive\\to_dmc\\1Z_CL036__CFN_2021_05_23T23_39_59.mseed\u001b[0m\n",
      "\u001b[1m2025-04-01T16:59:14.556395-0700 | INFO | mth5.io.conversion | split_ms_to_days | Wrote miniseed file to: c:\\Users\\jpeacock\\OneDrive - DOI\\MTData\\CL2021\\archive\\to_dmc\\1Z_CL036__CFN_2021_05_24T00_00_00.mseed\u001b[0m\n",
      "\u001b[1m2025-04-01T16:59:14.634698-0700 | INFO | mth5.io.conversion | split_ms_to_days | Wrote miniseed file to: c:\\Users\\jpeacock\\OneDrive - DOI\\MTData\\CL2021\\archive\\to_dmc\\1Z_CL036__CFE_2021_05_23T23_39_59.mseed\u001b[0m\n",
      "\u001b[1m2025-04-01T16:59:14.660695-0700 | INFO | mth5.io.conversion | split_ms_to_days | Wrote miniseed file to: c:\\Users\\jpeacock\\OneDrive - DOI\\MTData\\CL2021\\archive\\to_dmc\\1Z_CL036__CFE_2021_05_24T00_00_00.mseed\u001b[0m\n",
      "\u001b[1m2025-04-01T16:59:14.738216-0700 | INFO | mth5.io.conversion | split_ms_to_days | Wrote miniseed file to: c:\\Users\\jpeacock\\OneDrive - DOI\\MTData\\CL2021\\archive\\to_dmc\\1Z_CL036__CFZ_2021_05_23T23_39_59.mseed\u001b[0m\n",
      "\u001b[1m2025-04-01T16:59:14.766210-0700 | INFO | mth5.io.conversion | split_ms_to_days | Wrote miniseed file to: c:\\Users\\jpeacock\\OneDrive - DOI\\MTData\\CL2021\\archive\\to_dmc\\1Z_CL036__CFZ_2021_05_24T00_00_00.mseed\u001b[0m\n",
      "\u001b[1m2025-04-01T16:59:18.089726-0700 | INFO | mth5.timeseries.run_ts | _align_channels | Channels do not have a common end, using latest: 2021-05-24T01:09:43.998047000\u001b[0m\n"
     ]
    },
    {
     "name": "stderr",
     "output_type": "stream",
     "text": [
      "C:\\Users\\jpeacock\\OneDrive - DOI\\Documents\\GitHub\\mth5\\mth5\\timeseries\\channel_ts.py:1524: RuntimeWarning: invalid value encountered in cast\n",
      "  obspy_trace = Trace(self.ts.astype(encoding_dict[encoding]))\n"
     ]
    },
    {
     "name": "stdout",
     "output_type": "stream",
     "text": [
      "\u001b[1m2025-04-01T16:59:20.846755-0700 | INFO | mth5.io.conversion | split_ms_to_days | Wrote miniseed file to: c:\\Users\\jpeacock\\OneDrive - DOI\\MTData\\CL2021\\archive\\to_dmc\\1Z_CL036__FQN_2021_05_24T00_59_59.mseed\u001b[0m\n",
      "\u001b[1m2025-04-01T16:59:21.044941-0700 | INFO | mth5.io.conversion | split_ms_to_days | Wrote miniseed file to: c:\\Users\\jpeacock\\OneDrive - DOI\\MTData\\CL2021\\archive\\to_dmc\\1Z_CL036__FQE_2021_05_24T00_59_59.mseed\u001b[0m\n",
      "\u001b[1m2025-04-01T16:59:21.236113-0700 | INFO | mth5.io.conversion | split_ms_to_days | Wrote miniseed file to: c:\\Users\\jpeacock\\OneDrive - DOI\\MTData\\CL2021\\archive\\to_dmc\\1Z_CL036__FFN_2021_05_24T00_59_59.mseed\u001b[0m\n",
      "\u001b[1m2025-04-01T16:59:21.427330-0700 | INFO | mth5.io.conversion | split_ms_to_days | Wrote miniseed file to: c:\\Users\\jpeacock\\OneDrive - DOI\\MTData\\CL2021\\archive\\to_dmc\\1Z_CL036__FFE_2021_05_24T00_59_59.mseed\u001b[0m\n",
      "\u001b[1m2025-04-01T16:59:21.628405-0700 | INFO | mth5.io.conversion | split_ms_to_days | Wrote miniseed file to: c:\\Users\\jpeacock\\OneDrive - DOI\\MTData\\CL2021\\archive\\to_dmc\\1Z_CL036__FFZ_2021_05_24T00_59_59.mseed\u001b[0m\n",
      "\u001b[1m2025-04-01T16:59:28.426106-0700 | INFO | mth5.timeseries.run_ts | _align_channels | Channels do not have a common end, using latest: 2021-05-24T06:59:43.996094000\u001b[0m\n"
     ]
    },
    {
     "name": "stderr",
     "output_type": "stream",
     "text": [
      "C:\\Users\\jpeacock\\OneDrive - DOI\\Documents\\GitHub\\mth5\\mth5\\timeseries\\channel_ts.py:1524: RuntimeWarning: invalid value encountered in cast\n",
      "  obspy_trace = Trace(self.ts.astype(encoding_dict[encoding]))\n"
     ]
    },
    {
     "name": "stdout",
     "output_type": "stream",
     "text": [
      "\u001b[1m2025-04-01T16:59:33.553187-0700 | INFO | mth5.io.conversion | split_ms_to_days | Wrote miniseed file to: c:\\Users\\jpeacock\\OneDrive - DOI\\MTData\\CL2021\\archive\\to_dmc\\1Z_CL036__CQN_2021_05_24T01_09_59.mseed\u001b[0m\n",
      "\u001b[1m2025-04-01T16:59:33.994670-0700 | INFO | mth5.io.conversion | split_ms_to_days | Wrote miniseed file to: c:\\Users\\jpeacock\\OneDrive - DOI\\MTData\\CL2021\\archive\\to_dmc\\1Z_CL036__CQE_2021_05_24T01_09_59.mseed\u001b[0m\n",
      "\u001b[1m2025-04-01T16:59:34.435519-0700 | INFO | mth5.io.conversion | split_ms_to_days | Wrote miniseed file to: c:\\Users\\jpeacock\\OneDrive - DOI\\MTData\\CL2021\\archive\\to_dmc\\1Z_CL036__CFN_2021_05_24T01_09_59.mseed\u001b[0m\n",
      "\u001b[1m2025-04-01T16:59:34.886741-0700 | INFO | mth5.io.conversion | split_ms_to_days | Wrote miniseed file to: c:\\Users\\jpeacock\\OneDrive - DOI\\MTData\\CL2021\\archive\\to_dmc\\1Z_CL036__CFE_2021_05_24T01_09_59.mseed\u001b[0m\n",
      "\u001b[1m2025-04-01T16:59:35.328331-0700 | INFO | mth5.io.conversion | split_ms_to_days | Wrote miniseed file to: c:\\Users\\jpeacock\\OneDrive - DOI\\MTData\\CL2021\\archive\\to_dmc\\1Z_CL036__CFZ_2021_05_24T01_09_59.mseed\u001b[0m\n",
      "\u001b[1m2025-04-01T16:59:38.819991-0700 | INFO | mth5.timeseries.run_ts | _align_channels | Channels do not have a common end, using latest: 2021-05-24T07:09:43.997314453\u001b[0m\n",
      "\u001b[33m\u001b[1m2025-04-01T16:59:41.324641-0700 | WARNING | mth5.timeseries.run_ts | validate_metadata | end time of dataset 2021-05-24T07:09:43.997070312+00:00 does not match metadata end 2021-05-24T07:09:43.997314453+00:00 updating metatdata value to 2021-05-24T07:09:43.997070312+00:00\u001b[0m\n",
      "\u001b[1m2025-04-01T16:59:42.142287-0700 | INFO | mth5.io.conversion | split_ms_to_days | Wrote miniseed file to: c:\\Users\\jpeacock\\OneDrive - DOI\\MTData\\CL2021\\archive\\to_dmc\\1Z_CL036__FQN_2021_05_24T06_59_59.mseed\u001b[0m\n"
     ]
    },
    {
     "name": "stderr",
     "output_type": "stream",
     "text": [
      "C:\\Users\\jpeacock\\OneDrive - DOI\\Documents\\GitHub\\mth5\\mth5\\timeseries\\channel_ts.py:1524: RuntimeWarning: invalid value encountered in cast\n",
      "  obspy_trace = Trace(self.ts.astype(encoding_dict[encoding]))\n"
     ]
    },
    {
     "name": "stdout",
     "output_type": "stream",
     "text": [
      "\u001b[1m2025-04-01T16:59:42.368470-0700 | INFO | mth5.io.conversion | split_ms_to_days | Wrote miniseed file to: c:\\Users\\jpeacock\\OneDrive - DOI\\MTData\\CL2021\\archive\\to_dmc\\1Z_CL036__FQE_2021_05_24T06_59_59.mseed\u001b[0m\n",
      "\u001b[1m2025-04-01T16:59:42.589527-0700 | INFO | mth5.io.conversion | split_ms_to_days | Wrote miniseed file to: c:\\Users\\jpeacock\\OneDrive - DOI\\MTData\\CL2021\\archive\\to_dmc\\1Z_CL036__FFN_2021_05_24T06_59_59.mseed\u001b[0m\n",
      "\u001b[1m2025-04-01T16:59:42.801579-0700 | INFO | mth5.io.conversion | split_ms_to_days | Wrote miniseed file to: c:\\Users\\jpeacock\\OneDrive - DOI\\MTData\\CL2021\\archive\\to_dmc\\1Z_CL036__FFE_2021_05_24T06_59_59.mseed\u001b[0m\n",
      "\u001b[1m2025-04-01T16:59:43.061967-0700 | INFO | mth5.io.conversion | split_ms_to_days | Wrote miniseed file to: c:\\Users\\jpeacock\\OneDrive - DOI\\MTData\\CL2021\\archive\\to_dmc\\1Z_CL036__FFZ_2021_05_24T06_59_59.mseed\u001b[0m\n",
      "\u001b[1m2025-04-01T16:59:50.107915-0700 | INFO | mth5.timeseries.run_ts | _align_channels | Channels do not have a common end, using latest: 2021-05-24T12:59:43.996094000\u001b[0m\n"
     ]
    },
    {
     "name": "stderr",
     "output_type": "stream",
     "text": [
      "C:\\Users\\jpeacock\\OneDrive - DOI\\Documents\\GitHub\\mth5\\mth5\\timeseries\\channel_ts.py:1524: RuntimeWarning: invalid value encountered in cast\n",
      "  obspy_trace = Trace(self.ts.astype(encoding_dict[encoding]))\n"
     ]
    },
    {
     "name": "stdout",
     "output_type": "stream",
     "text": [
      "\u001b[1m2025-04-01T16:59:55.364577-0700 | INFO | mth5.io.conversion | split_ms_to_days | Wrote miniseed file to: c:\\Users\\jpeacock\\OneDrive - DOI\\MTData\\CL2021\\archive\\to_dmc\\1Z_CL036__CQN_2021_05_24T07_09_59.mseed\u001b[0m\n",
      "\u001b[1m2025-04-01T16:59:55.800621-0700 | INFO | mth5.io.conversion | split_ms_to_days | Wrote miniseed file to: c:\\Users\\jpeacock\\OneDrive - DOI\\MTData\\CL2021\\archive\\to_dmc\\1Z_CL036__CQE_2021_05_24T07_09_59.mseed\u001b[0m\n",
      "\u001b[1m2025-04-01T16:59:56.221060-0700 | INFO | mth5.io.conversion | split_ms_to_days | Wrote miniseed file to: c:\\Users\\jpeacock\\OneDrive - DOI\\MTData\\CL2021\\archive\\to_dmc\\1Z_CL036__CFN_2021_05_24T07_09_59.mseed\u001b[0m\n",
      "\u001b[1m2025-04-01T16:59:56.684100-0700 | INFO | mth5.io.conversion | split_ms_to_days | Wrote miniseed file to: c:\\Users\\jpeacock\\OneDrive - DOI\\MTData\\CL2021\\archive\\to_dmc\\1Z_CL036__CFE_2021_05_24T07_09_59.mseed\u001b[0m\n",
      "\u001b[1m2025-04-01T16:59:57.148545-0700 | INFO | mth5.io.conversion | split_ms_to_days | Wrote miniseed file to: c:\\Users\\jpeacock\\OneDrive - DOI\\MTData\\CL2021\\archive\\to_dmc\\1Z_CL036__CFZ_2021_05_24T07_09_59.mseed\u001b[0m\n",
      "\u001b[1m2025-04-01T17:00:00.927246-0700 | INFO | mth5.timeseries.run_ts | _align_channels | Channels do not have a common end, using latest: 2021-05-24T13:09:43.998779296\u001b[0m\n",
      "\u001b[33m\u001b[1m2025-04-01T17:00:03.591934-0700 | WARNING | mth5.timeseries.run_ts | validate_metadata | end time of dataset 2021-05-24T13:09:43.998535156+00:00 does not match metadata end 2021-05-24T13:09:43.998779296+00:00 updating metatdata value to 2021-05-24T13:09:43.998535156+00:00\u001b[0m\n"
     ]
    },
    {
     "name": "stderr",
     "output_type": "stream",
     "text": [
      "C:\\Users\\jpeacock\\OneDrive - DOI\\Documents\\GitHub\\mth5\\mth5\\timeseries\\channel_ts.py:1524: RuntimeWarning: invalid value encountered in cast\n",
      "  obspy_trace = Trace(self.ts.astype(encoding_dict[encoding]))\n"
     ]
    },
    {
     "name": "stdout",
     "output_type": "stream",
     "text": [
      "\u001b[1m2025-04-01T17:00:04.364304-0700 | INFO | mth5.io.conversion | split_ms_to_days | Wrote miniseed file to: c:\\Users\\jpeacock\\OneDrive - DOI\\MTData\\CL2021\\archive\\to_dmc\\1Z_CL036__FQN_2021_05_24T12_59_59.mseed\u001b[0m\n",
      "\u001b[1m2025-04-01T17:00:04.564925-0700 | INFO | mth5.io.conversion | split_ms_to_days | Wrote miniseed file to: c:\\Users\\jpeacock\\OneDrive - DOI\\MTData\\CL2021\\archive\\to_dmc\\1Z_CL036__FQE_2021_05_24T12_59_59.mseed\u001b[0m\n",
      "\u001b[1m2025-04-01T17:00:04.770838-0700 | INFO | mth5.io.conversion | split_ms_to_days | Wrote miniseed file to: c:\\Users\\jpeacock\\OneDrive - DOI\\MTData\\CL2021\\archive\\to_dmc\\1Z_CL036__FFN_2021_05_24T12_59_59.mseed\u001b[0m\n",
      "\u001b[1m2025-04-01T17:00:04.961077-0700 | INFO | mth5.io.conversion | split_ms_to_days | Wrote miniseed file to: c:\\Users\\jpeacock\\OneDrive - DOI\\MTData\\CL2021\\archive\\to_dmc\\1Z_CL036__FFE_2021_05_24T12_59_59.mseed\u001b[0m\n",
      "\u001b[1m2025-04-01T17:00:05.178078-0700 | INFO | mth5.io.conversion | split_ms_to_days | Wrote miniseed file to: c:\\Users\\jpeacock\\OneDrive - DOI\\MTData\\CL2021\\archive\\to_dmc\\1Z_CL036__FFZ_2021_05_24T12_59_59.mseed\u001b[0m\n",
      "\u001b[1m2025-04-01T17:00:11.064754-0700 | INFO | mth5.io.conversion | split_ms_to_days | Wrote miniseed file to: c:\\Users\\jpeacock\\OneDrive - DOI\\MTData\\CL2021\\archive\\to_dmc\\1Z_CL036__CQN_2021_05_24T13_09_59.mseed\u001b[0m\n",
      "\u001b[1m2025-04-01T17:00:11.314768-0700 | INFO | mth5.io.conversion | split_ms_to_days | Wrote miniseed file to: c:\\Users\\jpeacock\\OneDrive - DOI\\MTData\\CL2021\\archive\\to_dmc\\1Z_CL036__CQE_2021_05_24T13_09_59.mseed\u001b[0m\n",
      "\u001b[1m2025-04-01T17:00:11.567956-0700 | INFO | mth5.io.conversion | split_ms_to_days | Wrote miniseed file to: c:\\Users\\jpeacock\\OneDrive - DOI\\MTData\\CL2021\\archive\\to_dmc\\1Z_CL036__CFN_2021_05_24T13_09_59.mseed\u001b[0m\n",
      "\u001b[1m2025-04-01T17:00:11.802810-0700 | INFO | mth5.io.conversion | split_ms_to_days | Wrote miniseed file to: c:\\Users\\jpeacock\\OneDrive - DOI\\MTData\\CL2021\\archive\\to_dmc\\1Z_CL036__CFE_2021_05_24T13_09_59.mseed\u001b[0m\n",
      "\u001b[1m2025-04-01T17:00:12.077576-0700 | INFO | mth5.io.conversion | split_ms_to_days | Wrote miniseed file to: c:\\Users\\jpeacock\\OneDrive - DOI\\MTData\\CL2021\\archive\\to_dmc\\1Z_CL036__CFZ_2021_05_24T13_09_59.mseed\u001b[0m\n",
      "\u001b[1m2025-04-01T17:00:13.148189-0700 | INFO | mth5.mth5 | close_mth5 | Flushing and closing c:\\Users\\jpeacock\\OneDrive - DOI\\MTData\\CL2021\\archive\\cl036.h5\u001b[0m\n",
      "\u001b[33m\u001b[1m2025-04-01T17:00:13.153146-0700 | WARNING | mt_metadata.timeseries.stationxml.xml_station_mt_station | mt_to_xml | Station.geographic_name is None, using Station.id = cl036.Check StationXML site.name.\u001b[0m\n",
      "\u001b[1m2025-04-01T17:00:13.238348-0700 | INFO | mt_metadata.timeseries.filters.channel_response | to_obspy | total sensitivity 104382542748.06306 != total gain 1048576000.000055. Using total_gain.\u001b[0m\n",
      "\u001b[1m2025-04-01T17:00:13.275935-0700 | INFO | mt_metadata.timeseries.filters.channel_response | to_obspy | total sensitivity 105026369151.30917 != total gain 1048576000.000055. Using total_gain.\u001b[0m\n",
      "\u001b[1m2025-04-01T17:00:13.306902-0700 | INFO | mt_metadata.timeseries.filters.channel_response | to_obspy | total sensitivity 105276966379.19785 != total gain 1048576000.000055. Using total_gain.\u001b[0m\n",
      "\u001b[1m2025-04-01T17:00:13.399488-0700 | INFO | mt_metadata.timeseries.filters.channel_response | to_obspy | total sensitivity 104382542748.06306 != total gain 1048576000.000055. Using total_gain.\u001b[0m\n",
      "\u001b[1m2025-04-01T17:00:13.429458-0700 | INFO | mt_metadata.timeseries.filters.channel_response | to_obspy | total sensitivity 105026369151.30917 != total gain 1048576000.000055. Using total_gain.\u001b[0m\n",
      "\u001b[1m2025-04-01T17:00:13.463001-0700 | INFO | mt_metadata.timeseries.filters.channel_response | to_obspy | total sensitivity 105276966379.19785 != total gain 1048576000.000055. Using total_gain.\u001b[0m\n",
      "\u001b[1m2025-04-01T17:00:13.572602-0700 | INFO | mt_metadata.timeseries.filters.channel_response | to_obspy | total sensitivity 104382542748.06306 != total gain 1048576000.000055. Using total_gain.\u001b[0m\n",
      "\u001b[1m2025-04-01T17:00:13.601599-0700 | INFO | mt_metadata.timeseries.filters.channel_response | to_obspy | total sensitivity 105026369151.30917 != total gain 1048576000.000055. Using total_gain.\u001b[0m\n",
      "\u001b[1m2025-04-01T17:00:13.630632-0700 | INFO | mt_metadata.timeseries.filters.channel_response | to_obspy | total sensitivity 105276966379.19785 != total gain 1048576000.000055. Using total_gain.\u001b[0m\n",
      "\u001b[1m2025-04-01T17:00:13.722190-0700 | INFO | mt_metadata.timeseries.filters.channel_response | to_obspy | total sensitivity 104382542748.06306 != total gain 1048576000.000055. Using total_gain.\u001b[0m\n",
      "\u001b[1m2025-04-01T17:00:13.753195-0700 | INFO | mt_metadata.timeseries.filters.channel_response | to_obspy | total sensitivity 105026369151.30917 != total gain 1048576000.000055. Using total_gain.\u001b[0m\n",
      "\u001b[1m2025-04-01T17:00:13.783732-0700 | INFO | mt_metadata.timeseries.filters.channel_response | to_obspy | total sensitivity 105276966379.19785 != total gain 1048576000.000055. Using total_gain.\u001b[0m\n",
      "\u001b[1m2025-04-01T17:00:13.891406-0700 | INFO | mt_metadata.timeseries.filters.channel_response | to_obspy | total sensitivity 104382542748.06306 != total gain 1048576000.000055. Using total_gain.\u001b[0m\n",
      "\u001b[1m2025-04-01T17:00:13.930412-0700 | INFO | mt_metadata.timeseries.filters.channel_response | to_obspy | total sensitivity 105026369151.30917 != total gain 1048576000.000055. Using total_gain.\u001b[0m\n",
      "\u001b[1m2025-04-01T17:00:13.959413-0700 | INFO | mt_metadata.timeseries.filters.channel_response | to_obspy | total sensitivity 105276966379.19785 != total gain 1048576000.000055. Using total_gain.\u001b[0m\n",
      "\u001b[1m2025-04-01T17:00:14.056007-0700 | INFO | mt_metadata.timeseries.filters.channel_response | to_obspy | total sensitivity 104382542748.06306 != total gain 1048576000.000055. Using total_gain.\u001b[0m\n",
      "\u001b[1m2025-04-01T17:00:14.084314-0700 | INFO | mt_metadata.timeseries.filters.channel_response | to_obspy | total sensitivity 105026369151.30917 != total gain 1048576000.000055. Using total_gain.\u001b[0m\n",
      "\u001b[1m2025-04-01T17:00:14.118314-0700 | INFO | mt_metadata.timeseries.filters.channel_response | to_obspy | total sensitivity 105276966379.19785 != total gain 1048576000.000055. Using total_gain.\u001b[0m\n",
      "\u001b[1m2025-04-01T17:00:14.208903-0700 | INFO | mt_metadata.timeseries.filters.channel_response | to_obspy | total sensitivity 104382542748.06306 != total gain 1048576000.000055. Using total_gain.\u001b[0m\n",
      "\u001b[1m2025-04-01T17:00:14.236902-0700 | INFO | mt_metadata.timeseries.filters.channel_response | to_obspy | total sensitivity 105026369151.30917 != total gain 1048576000.000055. Using total_gain.\u001b[0m\n",
      "\u001b[1m2025-04-01T17:00:14.265287-0700 | INFO | mt_metadata.timeseries.filters.channel_response | to_obspy | total sensitivity 105276966379.19785 != total gain 1048576000.000055. Using total_gain.\u001b[0m\n",
      "\u001b[1m2025-04-01T17:00:14.356326-0700 | INFO | mt_metadata.timeseries.filters.channel_response | to_obspy | total sensitivity 104382542748.06306 != total gain 1048576000.000055. Using total_gain.\u001b[0m\n",
      "\u001b[1m2025-04-01T17:00:14.387838-0700 | INFO | mt_metadata.timeseries.filters.channel_response | to_obspy | total sensitivity 105026369151.30917 != total gain 1048576000.000055. Using total_gain.\u001b[0m\n",
      "\u001b[1m2025-04-01T17:00:14.414839-0700 | INFO | mt_metadata.timeseries.filters.channel_response | to_obspy | total sensitivity 105276966379.19785 != total gain 1048576000.000055. Using total_gain.\u001b[0m\n",
      "\u001b[1m2025-04-01T17:00:14.448855-0700 | INFO | mth5.io.conversion | convert_mth5_to_ms_stationxml | Wrote StationXML to c:\\Users\\jpeacock\\OneDrive - DOI\\MTData\\CL2021\\archive\\to_dmc\\cl036.xml\u001b[0m\n",
      "\u001b[1m2025-04-01T17:00:19.163917-0700 | INFO | mth5.io.conversion | split_ms_to_days | Wrote miniseed file to: c:\\Users\\jpeacock\\OneDrive - DOI\\MTData\\CL2021\\archive\\to_dmc\\1Z_CL037__LQN_2021_05_24T01_09_59.mseed\u001b[0m\n",
      "\u001b[1m2025-04-01T17:00:19.171434-0700 | INFO | mth5.io.conversion | split_ms_to_days | Wrote miniseed file to: c:\\Users\\jpeacock\\OneDrive - DOI\\MTData\\CL2021\\archive\\to_dmc\\1Z_CL037__LQE_2021_05_24T01_09_59.mseed\u001b[0m\n",
      "\u001b[1m2025-04-01T17:00:19.177433-0700 | INFO | mth5.io.conversion | split_ms_to_days | Wrote miniseed file to: c:\\Users\\jpeacock\\OneDrive - DOI\\MTData\\CL2021\\archive\\to_dmc\\1Z_CL037__LFN_2021_05_24T01_09_59.mseed\u001b[0m\n",
      "\u001b[1m2025-04-01T17:00:19.184433-0700 | INFO | mth5.io.conversion | split_ms_to_days | Wrote miniseed file to: c:\\Users\\jpeacock\\OneDrive - DOI\\MTData\\CL2021\\archive\\to_dmc\\1Z_CL037__LFE_2021_05_24T01_09_59.mseed\u001b[0m\n",
      "\u001b[1m2025-04-01T17:00:19.191433-0700 | INFO | mth5.io.conversion | split_ms_to_days | Wrote miniseed file to: c:\\Users\\jpeacock\\OneDrive - DOI\\MTData\\CL2021\\archive\\to_dmc\\1Z_CL037__LFZ_2021_05_24T01_09_59.mseed\u001b[0m\n",
      "\u001b[1m2025-04-01T17:00:26.453675-0700 | INFO | mth5.io.conversion | split_ms_to_days | Wrote miniseed file to: c:\\Users\\jpeacock\\OneDrive - DOI\\MTData\\CL2021\\archive\\to_dmc\\1Z_CL037__CQN_2021_05_24T01_09_59.mseed\u001b[0m\n",
      "\u001b[1m2025-04-01T17:00:26.902856-0700 | INFO | mth5.io.conversion | split_ms_to_days | Wrote miniseed file to: c:\\Users\\jpeacock\\OneDrive - DOI\\MTData\\CL2021\\archive\\to_dmc\\1Z_CL037__CQE_2021_05_24T01_09_59.mseed\u001b[0m\n",
      "\u001b[1m2025-04-01T17:00:27.381455-0700 | INFO | mth5.io.conversion | split_ms_to_days | Wrote miniseed file to: c:\\Users\\jpeacock\\OneDrive - DOI\\MTData\\CL2021\\archive\\to_dmc\\1Z_CL037__CFN_2021_05_24T01_09_59.mseed\u001b[0m\n",
      "\u001b[1m2025-04-01T17:00:27.865518-0700 | INFO | mth5.io.conversion | split_ms_to_days | Wrote miniseed file to: c:\\Users\\jpeacock\\OneDrive - DOI\\MTData\\CL2021\\archive\\to_dmc\\1Z_CL037__CFE_2021_05_24T01_09_59.mseed\u001b[0m\n",
      "\u001b[1m2025-04-01T17:00:28.308984-0700 | INFO | mth5.io.conversion | split_ms_to_days | Wrote miniseed file to: c:\\Users\\jpeacock\\OneDrive - DOI\\MTData\\CL2021\\archive\\to_dmc\\1Z_CL037__CFZ_2021_05_24T01_09_59.mseed\u001b[0m\n",
      "\u001b[1m2025-04-01T17:00:32.131603-0700 | INFO | mth5.timeseries.run_ts | _align_channels | Channels do not have a common end, using latest: 2021-05-24T07:09:43.997559000\u001b[0m\n"
     ]
    },
    {
     "name": "stderr",
     "output_type": "stream",
     "text": [
      "C:\\Users\\jpeacock\\OneDrive - DOI\\Documents\\GitHub\\mth5\\mth5\\timeseries\\channel_ts.py:1524: RuntimeWarning: invalid value encountered in cast\n",
      "  obspy_trace = Trace(self.ts.astype(encoding_dict[encoding]))\n"
     ]
    },
    {
     "name": "stdout",
     "output_type": "stream",
     "text": [
      "\u001b[1m2025-04-01T17:00:34.960180-0700 | INFO | mth5.io.conversion | split_ms_to_days | Wrote miniseed file to: c:\\Users\\jpeacock\\OneDrive - DOI\\MTData\\CL2021\\archive\\to_dmc\\1Z_CL037__FQN_2021_05_24T06_59_59.mseed\u001b[0m\n",
      "\u001b[1m2025-04-01T17:00:35.150748-0700 | INFO | mth5.io.conversion | split_ms_to_days | Wrote miniseed file to: c:\\Users\\jpeacock\\OneDrive - DOI\\MTData\\CL2021\\archive\\to_dmc\\1Z_CL037__FQE_2021_05_24T06_59_59.mseed\u001b[0m\n",
      "\u001b[1m2025-04-01T17:00:35.348913-0700 | INFO | mth5.io.conversion | split_ms_to_days | Wrote miniseed file to: c:\\Users\\jpeacock\\OneDrive - DOI\\MTData\\CL2021\\archive\\to_dmc\\1Z_CL037__FFN_2021_05_24T06_59_59.mseed\u001b[0m\n",
      "\u001b[1m2025-04-01T17:00:35.559978-0700 | INFO | mth5.io.conversion | split_ms_to_days | Wrote miniseed file to: c:\\Users\\jpeacock\\OneDrive - DOI\\MTData\\CL2021\\archive\\to_dmc\\1Z_CL037__FFE_2021_05_24T06_59_59.mseed\u001b[0m\n",
      "\u001b[1m2025-04-01T17:00:35.758062-0700 | INFO | mth5.io.conversion | split_ms_to_days | Wrote miniseed file to: c:\\Users\\jpeacock\\OneDrive - DOI\\MTData\\CL2021\\archive\\to_dmc\\1Z_CL037__FFZ_2021_05_24T06_59_59.mseed\u001b[0m\n",
      "\u001b[1m2025-04-01T17:00:42.794461-0700 | INFO | mth5.timeseries.run_ts | _align_channels | Channels do not have a common end, using latest: 2021-05-24T12:59:43.996094000\u001b[0m\n"
     ]
    },
    {
     "name": "stderr",
     "output_type": "stream",
     "text": [
      "C:\\Users\\jpeacock\\OneDrive - DOI\\Documents\\GitHub\\mth5\\mth5\\timeseries\\channel_ts.py:1524: RuntimeWarning: invalid value encountered in cast\n",
      "  obspy_trace = Trace(self.ts.astype(encoding_dict[encoding]))\n"
     ]
    },
    {
     "name": "stdout",
     "output_type": "stream",
     "text": [
      "\u001b[1m2025-04-01T17:00:47.960705-0700 | INFO | mth5.io.conversion | split_ms_to_days | Wrote miniseed file to: c:\\Users\\jpeacock\\OneDrive - DOI\\MTData\\CL2021\\archive\\to_dmc\\1Z_CL037__CQN_2021_05_24T07_09_59.mseed\u001b[0m\n",
      "\u001b[1m2025-04-01T17:00:48.393414-0700 | INFO | mth5.io.conversion | split_ms_to_days | Wrote miniseed file to: c:\\Users\\jpeacock\\OneDrive - DOI\\MTData\\CL2021\\archive\\to_dmc\\1Z_CL037__CQE_2021_05_24T07_09_59.mseed\u001b[0m\n",
      "\u001b[1m2025-04-01T17:00:48.825493-0700 | INFO | mth5.io.conversion | split_ms_to_days | Wrote miniseed file to: c:\\Users\\jpeacock\\OneDrive - DOI\\MTData\\CL2021\\archive\\to_dmc\\1Z_CL037__CFN_2021_05_24T07_09_59.mseed\u001b[0m\n",
      "\u001b[1m2025-04-01T17:00:49.311344-0700 | INFO | mth5.io.conversion | split_ms_to_days | Wrote miniseed file to: c:\\Users\\jpeacock\\OneDrive - DOI\\MTData\\CL2021\\archive\\to_dmc\\1Z_CL037__CFE_2021_05_24T07_09_59.mseed\u001b[0m\n",
      "\u001b[1m2025-04-01T17:00:49.768197-0700 | INFO | mth5.io.conversion | split_ms_to_days | Wrote miniseed file to: c:\\Users\\jpeacock\\OneDrive - DOI\\MTData\\CL2021\\archive\\to_dmc\\1Z_CL037__CFZ_2021_05_24T07_09_59.mseed\u001b[0m\n",
      "\u001b[1m2025-04-01T17:00:53.350121-0700 | INFO | mth5.timeseries.run_ts | _align_channels | Channels do not have a common end, using latest: 2021-05-24T13:09:43.998535156\u001b[0m\n",
      "\u001b[33m\u001b[1m2025-04-01T17:00:55.923162-0700 | WARNING | mth5.timeseries.run_ts | validate_metadata | end time of dataset 2021-05-24T13:09:43.998291015+00:00 does not match metadata end 2021-05-24T13:09:43.998535156+00:00 updating metatdata value to 2021-05-24T13:09:43.998291015+00:00\u001b[0m\n"
     ]
    },
    {
     "name": "stderr",
     "output_type": "stream",
     "text": [
      "C:\\Users\\jpeacock\\OneDrive - DOI\\Documents\\GitHub\\mth5\\mth5\\timeseries\\channel_ts.py:1524: RuntimeWarning: invalid value encountered in cast\n",
      "  obspy_trace = Trace(self.ts.astype(encoding_dict[encoding]))\n"
     ]
    },
    {
     "name": "stdout",
     "output_type": "stream",
     "text": [
      "\u001b[1m2025-04-01T17:00:56.696538-0700 | INFO | mth5.io.conversion | split_ms_to_days | Wrote miniseed file to: c:\\Users\\jpeacock\\OneDrive - DOI\\MTData\\CL2021\\archive\\to_dmc\\1Z_CL037__FQN_2021_05_24T12_59_59.mseed\u001b[0m\n",
      "\u001b[1m2025-04-01T17:00:56.900581-0700 | INFO | mth5.io.conversion | split_ms_to_days | Wrote miniseed file to: c:\\Users\\jpeacock\\OneDrive - DOI\\MTData\\CL2021\\archive\\to_dmc\\1Z_CL037__FQE_2021_05_24T12_59_59.mseed\u001b[0m\n",
      "\u001b[1m2025-04-01T17:00:57.108076-0700 | INFO | mth5.io.conversion | split_ms_to_days | Wrote miniseed file to: c:\\Users\\jpeacock\\OneDrive - DOI\\MTData\\CL2021\\archive\\to_dmc\\1Z_CL037__FFN_2021_05_24T12_59_59.mseed\u001b[0m\n",
      "\u001b[1m2025-04-01T17:00:57.316711-0700 | INFO | mth5.io.conversion | split_ms_to_days | Wrote miniseed file to: c:\\Users\\jpeacock\\OneDrive - DOI\\MTData\\CL2021\\archive\\to_dmc\\1Z_CL037__FFE_2021_05_24T12_59_59.mseed\u001b[0m\n",
      "\u001b[1m2025-04-01T17:00:57.512743-0700 | INFO | mth5.io.conversion | split_ms_to_days | Wrote miniseed file to: c:\\Users\\jpeacock\\OneDrive - DOI\\MTData\\CL2021\\archive\\to_dmc\\1Z_CL037__FFZ_2021_05_24T12_59_59.mseed\u001b[0m\n",
      "\u001b[1m2025-04-01T17:01:02.961067-0700 | INFO | mth5.io.conversion | split_ms_to_days | Wrote miniseed file to: c:\\Users\\jpeacock\\OneDrive - DOI\\MTData\\CL2021\\archive\\to_dmc\\1Z_CL037__CQN_2021_05_24T13_09_59.mseed\u001b[0m\n",
      "\u001b[1m2025-04-01T17:01:03.109169-0700 | INFO | mth5.io.conversion | split_ms_to_days | Wrote miniseed file to: c:\\Users\\jpeacock\\OneDrive - DOI\\MTData\\CL2021\\archive\\to_dmc\\1Z_CL037__CQE_2021_05_24T13_09_59.mseed\u001b[0m\n",
      "\u001b[1m2025-04-01T17:01:03.269200-0700 | INFO | mth5.io.conversion | split_ms_to_days | Wrote miniseed file to: c:\\Users\\jpeacock\\OneDrive - DOI\\MTData\\CL2021\\archive\\to_dmc\\1Z_CL037__CFN_2021_05_24T13_09_59.mseed\u001b[0m\n",
      "\u001b[1m2025-04-01T17:01:03.424395-0700 | INFO | mth5.io.conversion | split_ms_to_days | Wrote miniseed file to: c:\\Users\\jpeacock\\OneDrive - DOI\\MTData\\CL2021\\archive\\to_dmc\\1Z_CL037__CFE_2021_05_24T13_09_59.mseed\u001b[0m\n",
      "\u001b[1m2025-04-01T17:01:03.581936-0700 | INFO | mth5.io.conversion | split_ms_to_days | Wrote miniseed file to: c:\\Users\\jpeacock\\OneDrive - DOI\\MTData\\CL2021\\archive\\to_dmc\\1Z_CL037__CFZ_2021_05_24T13_09_59.mseed\u001b[0m\n",
      "\u001b[1m2025-04-01T17:01:04.397477-0700 | INFO | mth5.mth5 | close_mth5 | Flushing and closing c:\\Users\\jpeacock\\OneDrive - DOI\\MTData\\CL2021\\archive\\cl037.h5\u001b[0m\n",
      "\u001b[33m\u001b[1m2025-04-01T17:01:04.401478-0700 | WARNING | mt_metadata.timeseries.stationxml.xml_station_mt_station | mt_to_xml | Station.geographic_name is None, using Station.id = cl037.Check StationXML site.name.\u001b[0m\n",
      "\u001b[1m2025-04-01T17:01:04.486993-0700 | INFO | mt_metadata.timeseries.filters.channel_response | to_obspy | total sensitivity 105030248038.4055 != total gain 1048576000.000055. Using total_gain.\u001b[0m\n",
      "\u001b[1m2025-04-01T17:01:04.520363-0700 | INFO | mt_metadata.timeseries.filters.channel_response | to_obspy | total sensitivity 105404484812.80553 != total gain 1048576000.000055. Using total_gain.\u001b[0m\n",
      "\u001b[1m2025-04-01T17:01:04.550363-0700 | INFO | mt_metadata.timeseries.filters.channel_response | to_obspy | total sensitivity 105051593082.1482 != total gain 1048576000.000055. Using total_gain.\u001b[0m\n",
      "\u001b[1m2025-04-01T17:01:04.678902-0700 | INFO | mt_metadata.timeseries.filters.channel_response | to_obspy | total sensitivity 105030248038.4055 != total gain 1048576000.000055. Using total_gain.\u001b[0m\n",
      "\u001b[1m2025-04-01T17:01:04.708407-0700 | INFO | mt_metadata.timeseries.filters.channel_response | to_obspy | total sensitivity 105404484812.80553 != total gain 1048576000.000055. Using total_gain.\u001b[0m\n",
      "\u001b[1m2025-04-01T17:01:04.736457-0700 | INFO | mt_metadata.timeseries.filters.channel_response | to_obspy | total sensitivity 105051593082.1482 != total gain 1048576000.000055. Using total_gain.\u001b[0m\n",
      "\u001b[1m2025-04-01T17:01:04.846577-0700 | INFO | mt_metadata.timeseries.filters.channel_response | to_obspy | total sensitivity 105030248038.4055 != total gain 1048576000.000055. Using total_gain.\u001b[0m\n",
      "\u001b[1m2025-04-01T17:01:04.876771-0700 | INFO | mt_metadata.timeseries.filters.channel_response | to_obspy | total sensitivity 105404484812.80553 != total gain 1048576000.000055. Using total_gain.\u001b[0m\n",
      "\u001b[1m2025-04-01T17:01:04.906047-0700 | INFO | mt_metadata.timeseries.filters.channel_response | to_obspy | total sensitivity 105051593082.1482 != total gain 1048576000.000055. Using total_gain.\u001b[0m\n",
      "\u001b[1m2025-04-01T17:01:05.031215-0700 | INFO | mt_metadata.timeseries.filters.channel_response | to_obspy | total sensitivity 105030248038.4055 != total gain 1048576000.000055. Using total_gain.\u001b[0m\n",
      "\u001b[1m2025-04-01T17:01:05.062190-0700 | INFO | mt_metadata.timeseries.filters.channel_response | to_obspy | total sensitivity 105404484812.80553 != total gain 1048576000.000055. Using total_gain.\u001b[0m\n",
      "\u001b[1m2025-04-01T17:01:05.093186-0700 | INFO | mt_metadata.timeseries.filters.channel_response | to_obspy | total sensitivity 105051593082.1482 != total gain 1048576000.000055. Using total_gain.\u001b[0m\n",
      "\u001b[1m2025-04-01T17:01:05.185772-0700 | INFO | mt_metadata.timeseries.filters.channel_response | to_obspy | total sensitivity 105030248038.4055 != total gain 1048576000.000055. Using total_gain.\u001b[0m\n",
      "\u001b[1m2025-04-01T17:01:05.214327-0700 | INFO | mt_metadata.timeseries.filters.channel_response | to_obspy | total sensitivity 105404484812.80553 != total gain 1048576000.000055. Using total_gain.\u001b[0m\n",
      "\u001b[1m2025-04-01T17:01:05.251293-0700 | INFO | mt_metadata.timeseries.filters.channel_response | to_obspy | total sensitivity 105051593082.1482 != total gain 1048576000.000055. Using total_gain.\u001b[0m\n",
      "\u001b[1m2025-04-01T17:01:05.347525-0700 | INFO | mt_metadata.timeseries.filters.channel_response | to_obspy | total sensitivity 105030248038.4055 != total gain 1048576000.000055. Using total_gain.\u001b[0m\n",
      "\u001b[1m2025-04-01T17:01:05.380525-0700 | INFO | mt_metadata.timeseries.filters.channel_response | to_obspy | total sensitivity 105404484812.80553 != total gain 1048576000.000055. Using total_gain.\u001b[0m\n",
      "\u001b[1m2025-04-01T17:01:05.411048-0700 | INFO | mt_metadata.timeseries.filters.channel_response | to_obspy | total sensitivity 105051593082.1482 != total gain 1048576000.000055. Using total_gain.\u001b[0m\n",
      "\u001b[1m2025-04-01T17:01:05.446048-0700 | INFO | mth5.io.conversion | convert_mth5_to_ms_stationxml | Wrote StationXML to c:\\Users\\jpeacock\\OneDrive - DOI\\MTData\\CL2021\\archive\\to_dmc\\cl037.xml\u001b[0m\n",
      "\u001b[1m2025-04-01T17:01:10.779569-0700 | INFO | mth5.io.conversion | split_ms_to_days | Wrote miniseed file to: c:\\Users\\jpeacock\\OneDrive - DOI\\MTData\\CL2021\\archive\\to_dmc\\1Z_CL043__LQN_2021_04_28T20_04_59.mseed\u001b[0m\n",
      "\u001b[1m2025-04-01T17:01:10.782536-0700 | INFO | mth5.io.conversion | split_ms_to_days | Wrote miniseed file to: c:\\Users\\jpeacock\\OneDrive - DOI\\MTData\\CL2021\\archive\\to_dmc\\1Z_CL043__LQN_2021_04_29T00_00_00.mseed\u001b[0m\n",
      "\u001b[1m2025-04-01T17:01:10.793537-0700 | INFO | mth5.io.conversion | split_ms_to_days | Wrote miniseed file to: c:\\Users\\jpeacock\\OneDrive - DOI\\MTData\\CL2021\\archive\\to_dmc\\1Z_CL043__LQE_2021_04_28T20_04_59.mseed\u001b[0m\n",
      "\u001b[1m2025-04-01T17:01:10.799546-0700 | INFO | mth5.io.conversion | split_ms_to_days | Wrote miniseed file to: c:\\Users\\jpeacock\\OneDrive - DOI\\MTData\\CL2021\\archive\\to_dmc\\1Z_CL043__LQE_2021_04_29T00_00_00.mseed\u001b[0m\n",
      "\u001b[1m2025-04-01T17:01:10.806545-0700 | INFO | mth5.io.conversion | split_ms_to_days | Wrote miniseed file to: c:\\Users\\jpeacock\\OneDrive - DOI\\MTData\\CL2021\\archive\\to_dmc\\1Z_CL043__LFN_2021_04_28T20_04_59.mseed\u001b[0m\n",
      "\u001b[1m2025-04-01T17:01:10.810547-0700 | INFO | mth5.io.conversion | split_ms_to_days | Wrote miniseed file to: c:\\Users\\jpeacock\\OneDrive - DOI\\MTData\\CL2021\\archive\\to_dmc\\1Z_CL043__LFN_2021_04_29T00_00_00.mseed\u001b[0m\n",
      "\u001b[1m2025-04-01T17:01:10.818065-0700 | INFO | mth5.io.conversion | split_ms_to_days | Wrote miniseed file to: c:\\Users\\jpeacock\\OneDrive - DOI\\MTData\\CL2021\\archive\\to_dmc\\1Z_CL043__LFE_2021_04_28T20_04_59.mseed\u001b[0m\n",
      "\u001b[1m2025-04-01T17:01:10.821066-0700 | INFO | mth5.io.conversion | split_ms_to_days | Wrote miniseed file to: c:\\Users\\jpeacock\\OneDrive - DOI\\MTData\\CL2021\\archive\\to_dmc\\1Z_CL043__LFE_2021_04_29T00_00_00.mseed\u001b[0m\n",
      "\u001b[1m2025-04-01T17:01:10.829070-0700 | INFO | mth5.io.conversion | split_ms_to_days | Wrote miniseed file to: c:\\Users\\jpeacock\\OneDrive - DOI\\MTData\\CL2021\\archive\\to_dmc\\1Z_CL043__LFZ_2021_04_28T20_04_59.mseed\u001b[0m\n",
      "\u001b[1m2025-04-01T17:01:10.833066-0700 | INFO | mth5.io.conversion | split_ms_to_days | Wrote miniseed file to: c:\\Users\\jpeacock\\OneDrive - DOI\\MTData\\CL2021\\archive\\to_dmc\\1Z_CL043__LFZ_2021_04_29T00_00_00.mseed\u001b[0m\n",
      "\u001b[1m2025-04-01T17:01:17.588309-0700 | INFO | mth5.io.conversion | split_ms_to_days | Wrote miniseed file to: c:\\Users\\jpeacock\\OneDrive - DOI\\MTData\\CL2021\\archive\\to_dmc\\1Z_CL043__CQN_2021_04_28T20_04_59.mseed\u001b[0m\n",
      "\u001b[1m2025-04-01T17:01:17.871770-0700 | INFO | mth5.io.conversion | split_ms_to_days | Wrote miniseed file to: c:\\Users\\jpeacock\\OneDrive - DOI\\MTData\\CL2021\\archive\\to_dmc\\1Z_CL043__CQN_2021_04_29T00_00_00.mseed\u001b[0m\n",
      "\u001b[1m2025-04-01T17:01:17.956652-0700 | INFO | mth5.io.conversion | split_ms_to_days | Wrote miniseed file to: c:\\Users\\jpeacock\\OneDrive - DOI\\MTData\\CL2021\\archive\\to_dmc\\1Z_CL043__CQE_2021_04_28T20_04_59.mseed\u001b[0m\n",
      "\u001b[1m2025-04-01T17:01:18.256066-0700 | INFO | mth5.io.conversion | split_ms_to_days | Wrote miniseed file to: c:\\Users\\jpeacock\\OneDrive - DOI\\MTData\\CL2021\\archive\\to_dmc\\1Z_CL043__CQE_2021_04_29T00_00_00.mseed\u001b[0m\n",
      "\u001b[1m2025-04-01T17:01:18.335580-0700 | INFO | mth5.io.conversion | split_ms_to_days | Wrote miniseed file to: c:\\Users\\jpeacock\\OneDrive - DOI\\MTData\\CL2021\\archive\\to_dmc\\1Z_CL043__CFN_2021_04_28T20_04_59.mseed\u001b[0m\n",
      "\u001b[1m2025-04-01T17:01:18.643948-0700 | INFO | mth5.io.conversion | split_ms_to_days | Wrote miniseed file to: c:\\Users\\jpeacock\\OneDrive - DOI\\MTData\\CL2021\\archive\\to_dmc\\1Z_CL043__CFN_2021_04_29T00_00_00.mseed\u001b[0m\n",
      "\u001b[1m2025-04-01T17:01:18.744471-0700 | INFO | mth5.io.conversion | split_ms_to_days | Wrote miniseed file to: c:\\Users\\jpeacock\\OneDrive - DOI\\MTData\\CL2021\\archive\\to_dmc\\1Z_CL043__CFE_2021_04_28T20_04_59.mseed\u001b[0m\n",
      "\u001b[1m2025-04-01T17:01:19.062672-0700 | INFO | mth5.io.conversion | split_ms_to_days | Wrote miniseed file to: c:\\Users\\jpeacock\\OneDrive - DOI\\MTData\\CL2021\\archive\\to_dmc\\1Z_CL043__CFE_2021_04_29T00_00_00.mseed\u001b[0m\n",
      "\u001b[1m2025-04-01T17:01:19.137194-0700 | INFO | mth5.io.conversion | split_ms_to_days | Wrote miniseed file to: c:\\Users\\jpeacock\\OneDrive - DOI\\MTData\\CL2021\\archive\\to_dmc\\1Z_CL043__CFZ_2021_04_28T20_04_59.mseed\u001b[0m\n",
      "\u001b[1m2025-04-01T17:01:19.432476-0700 | INFO | mth5.io.conversion | split_ms_to_days | Wrote miniseed file to: c:\\Users\\jpeacock\\OneDrive - DOI\\MTData\\CL2021\\archive\\to_dmc\\1Z_CL043__CFZ_2021_04_29T00_00_00.mseed\u001b[0m\n",
      "\u001b[1m2025-04-01T17:01:22.568118-0700 | INFO | mth5.timeseries.run_ts | _align_channels | Channels do not have a common end, using latest: 2021-04-29T01:09:43.998291015\u001b[0m\n",
      "\u001b[33m\u001b[1m2025-04-01T17:01:24.659123-0700 | WARNING | mth5.timeseries.run_ts | validate_metadata | end time of dataset 2021-04-29T01:09:43.998047+00:00 does not match metadata end 2021-04-29T01:09:43.998291015+00:00 updating metatdata value to 2021-04-29T01:09:43.998047+00:00\u001b[0m\n"
     ]
    },
    {
     "name": "stderr",
     "output_type": "stream",
     "text": [
      "C:\\Users\\jpeacock\\OneDrive - DOI\\Documents\\GitHub\\mth5\\mth5\\timeseries\\channel_ts.py:1524: RuntimeWarning: invalid value encountered in cast\n",
      "  obspy_trace = Trace(self.ts.astype(encoding_dict[encoding]))\n"
     ]
    },
    {
     "name": "stdout",
     "output_type": "stream",
     "text": [
      "\u001b[1m2025-04-01T17:01:25.398460-0700 | INFO | mth5.io.conversion | split_ms_to_days | Wrote miniseed file to: c:\\Users\\jpeacock\\OneDrive - DOI\\MTData\\CL2021\\archive\\to_dmc\\1Z_CL043__FQN_2021_04_29T00_59_59.mseed\u001b[0m\n",
      "\u001b[1m2025-04-01T17:01:25.589535-0700 | INFO | mth5.io.conversion | split_ms_to_days | Wrote miniseed file to: c:\\Users\\jpeacock\\OneDrive - DOI\\MTData\\CL2021\\archive\\to_dmc\\1Z_CL043__FQE_2021_04_29T00_59_59.mseed\u001b[0m\n",
      "\u001b[1m2025-04-01T17:01:25.796584-0700 | INFO | mth5.io.conversion | split_ms_to_days | Wrote miniseed file to: c:\\Users\\jpeacock\\OneDrive - DOI\\MTData\\CL2021\\archive\\to_dmc\\1Z_CL043__FFN_2021_04_29T00_59_59.mseed\u001b[0m\n",
      "\u001b[1m2025-04-01T17:01:26.010736-0700 | INFO | mth5.io.conversion | split_ms_to_days | Wrote miniseed file to: c:\\Users\\jpeacock\\OneDrive - DOI\\MTData\\CL2021\\archive\\to_dmc\\1Z_CL043__FFE_2021_04_29T00_59_59.mseed\u001b[0m\n",
      "\u001b[1m2025-04-01T17:01:26.209551-0700 | INFO | mth5.io.conversion | split_ms_to_days | Wrote miniseed file to: c:\\Users\\jpeacock\\OneDrive - DOI\\MTData\\CL2021\\archive\\to_dmc\\1Z_CL043__FFZ_2021_04_29T00_59_59.mseed\u001b[0m\n",
      "\u001b[1m2025-04-01T17:01:32.848247-0700 | INFO | mth5.timeseries.run_ts | _align_channels | Channels do not have a common end, using latest: 2021-04-29T06:59:43.996094000\u001b[0m\n"
     ]
    },
    {
     "name": "stderr",
     "output_type": "stream",
     "text": [
      "C:\\Users\\jpeacock\\OneDrive - DOI\\Documents\\GitHub\\mth5\\mth5\\timeseries\\channel_ts.py:1524: RuntimeWarning: invalid value encountered in cast\n",
      "  obspy_trace = Trace(self.ts.astype(encoding_dict[encoding]))\n"
     ]
    },
    {
     "name": "stdout",
     "output_type": "stream",
     "text": [
      "\u001b[1m2025-04-01T17:01:38.144526-0700 | INFO | mth5.io.conversion | split_ms_to_days | Wrote miniseed file to: c:\\Users\\jpeacock\\OneDrive - DOI\\MTData\\CL2021\\archive\\to_dmc\\1Z_CL043__CQN_2021_04_29T01_09_59.mseed\u001b[0m\n",
      "\u001b[1m2025-04-01T17:01:38.593980-0700 | INFO | mth5.io.conversion | split_ms_to_days | Wrote miniseed file to: c:\\Users\\jpeacock\\OneDrive - DOI\\MTData\\CL2021\\archive\\to_dmc\\1Z_CL043__CQE_2021_04_29T01_09_59.mseed\u001b[0m\n",
      "\u001b[1m2025-04-01T17:01:39.047687-0700 | INFO | mth5.io.conversion | split_ms_to_days | Wrote miniseed file to: c:\\Users\\jpeacock\\OneDrive - DOI\\MTData\\CL2021\\archive\\to_dmc\\1Z_CL043__CFN_2021_04_29T01_09_59.mseed\u001b[0m\n",
      "\u001b[1m2025-04-01T17:01:39.487527-0700 | INFO | mth5.io.conversion | split_ms_to_days | Wrote miniseed file to: c:\\Users\\jpeacock\\OneDrive - DOI\\MTData\\CL2021\\archive\\to_dmc\\1Z_CL043__CFE_2021_04_29T01_09_59.mseed\u001b[0m\n",
      "\u001b[1m2025-04-01T17:01:39.970508-0700 | INFO | mth5.io.conversion | split_ms_to_days | Wrote miniseed file to: c:\\Users\\jpeacock\\OneDrive - DOI\\MTData\\CL2021\\archive\\to_dmc\\1Z_CL043__CFZ_2021_04_29T01_09_59.mseed\u001b[0m\n",
      "\u001b[1m2025-04-01T17:01:43.793260-0700 | INFO | mth5.timeseries.run_ts | _align_channels | Channels do not have a common end, using latest: 2021-04-29T07:09:43.998047000\u001b[0m\n"
     ]
    },
    {
     "name": "stderr",
     "output_type": "stream",
     "text": [
      "C:\\Users\\jpeacock\\OneDrive - DOI\\Documents\\GitHub\\mth5\\mth5\\timeseries\\channel_ts.py:1524: RuntimeWarning: invalid value encountered in cast\n",
      "  obspy_trace = Trace(self.ts.astype(encoding_dict[encoding]))\n"
     ]
    },
    {
     "name": "stdout",
     "output_type": "stream",
     "text": [
      "\u001b[1m2025-04-01T17:01:46.749876-0700 | INFO | mth5.io.conversion | split_ms_to_days | Wrote miniseed file to: c:\\Users\\jpeacock\\OneDrive - DOI\\MTData\\CL2021\\archive\\to_dmc\\1Z_CL043__FQN_2021_04_29T06_59_59.mseed\u001b[0m\n",
      "\u001b[1m2025-04-01T17:01:46.948913-0700 | INFO | mth5.io.conversion | split_ms_to_days | Wrote miniseed file to: c:\\Users\\jpeacock\\OneDrive - DOI\\MTData\\CL2021\\archive\\to_dmc\\1Z_CL043__FQE_2021_04_29T06_59_59.mseed\u001b[0m\n",
      "\u001b[1m2025-04-01T17:01:47.135338-0700 | INFO | mth5.io.conversion | split_ms_to_days | Wrote miniseed file to: c:\\Users\\jpeacock\\OneDrive - DOI\\MTData\\CL2021\\archive\\to_dmc\\1Z_CL043__FFN_2021_04_29T06_59_59.mseed\u001b[0m\n",
      "\u001b[1m2025-04-01T17:01:47.325860-0700 | INFO | mth5.io.conversion | split_ms_to_days | Wrote miniseed file to: c:\\Users\\jpeacock\\OneDrive - DOI\\MTData\\CL2021\\archive\\to_dmc\\1Z_CL043__FFE_2021_04_29T06_59_59.mseed\u001b[0m\n",
      "\u001b[1m2025-04-01T17:01:47.535312-0700 | INFO | mth5.io.conversion | split_ms_to_days | Wrote miniseed file to: c:\\Users\\jpeacock\\OneDrive - DOI\\MTData\\CL2021\\archive\\to_dmc\\1Z_CL043__FFZ_2021_04_29T06_59_59.mseed\u001b[0m\n",
      "\u001b[1m2025-04-01T17:01:54.984233-0700 | INFO | mth5.timeseries.run_ts | _align_channels | Channels do not have a common end, using latest: 2021-04-29T12:59:43.996094000\u001b[0m\n"
     ]
    },
    {
     "name": "stderr",
     "output_type": "stream",
     "text": [
      "C:\\Users\\jpeacock\\OneDrive - DOI\\Documents\\GitHub\\mth5\\mth5\\timeseries\\channel_ts.py:1524: RuntimeWarning: invalid value encountered in cast\n",
      "  obspy_trace = Trace(self.ts.astype(encoding_dict[encoding]))\n"
     ]
    },
    {
     "name": "stdout",
     "output_type": "stream",
     "text": [
      "\u001b[1m2025-04-01T17:02:01.617361-0700 | INFO | mth5.io.conversion | split_ms_to_days | Wrote miniseed file to: c:\\Users\\jpeacock\\OneDrive - DOI\\MTData\\CL2021\\archive\\to_dmc\\1Z_CL043__CQN_2021_04_29T07_09_59.mseed\u001b[0m\n",
      "\u001b[1m2025-04-01T17:02:02.074783-0700 | INFO | mth5.io.conversion | split_ms_to_days | Wrote miniseed file to: c:\\Users\\jpeacock\\OneDrive - DOI\\MTData\\CL2021\\archive\\to_dmc\\1Z_CL043__CQE_2021_04_29T07_09_59.mseed\u001b[0m\n",
      "\u001b[1m2025-04-01T17:02:02.564724-0700 | INFO | mth5.io.conversion | split_ms_to_days | Wrote miniseed file to: c:\\Users\\jpeacock\\OneDrive - DOI\\MTData\\CL2021\\archive\\to_dmc\\1Z_CL043__CFN_2021_04_29T07_09_59.mseed\u001b[0m\n",
      "\u001b[1m2025-04-01T17:02:03.011819-0700 | INFO | mth5.io.conversion | split_ms_to_days | Wrote miniseed file to: c:\\Users\\jpeacock\\OneDrive - DOI\\MTData\\CL2021\\archive\\to_dmc\\1Z_CL043__CFE_2021_04_29T07_09_59.mseed\u001b[0m\n",
      "\u001b[1m2025-04-01T17:02:03.453985-0700 | INFO | mth5.io.conversion | split_ms_to_days | Wrote miniseed file to: c:\\Users\\jpeacock\\OneDrive - DOI\\MTData\\CL2021\\archive\\to_dmc\\1Z_CL043__CFZ_2021_04_29T07_09_59.mseed\u001b[0m\n",
      "\u001b[1m2025-04-01T17:02:07.393634-0700 | INFO | mth5.timeseries.run_ts | _align_channels | Channels do not have a common end, using latest: 2021-04-29T13:09:43.999512000\u001b[0m\n"
     ]
    },
    {
     "name": "stderr",
     "output_type": "stream",
     "text": [
      "C:\\Users\\jpeacock\\OneDrive - DOI\\Documents\\GitHub\\mth5\\mth5\\timeseries\\channel_ts.py:1524: RuntimeWarning: invalid value encountered in cast\n",
      "  obspy_trace = Trace(self.ts.astype(encoding_dict[encoding]))\n"
     ]
    },
    {
     "name": "stdout",
     "output_type": "stream",
     "text": [
      "\u001b[1m2025-04-01T17:02:10.306166-0700 | INFO | mth5.io.conversion | split_ms_to_days | Wrote miniseed file to: c:\\Users\\jpeacock\\OneDrive - DOI\\MTData\\CL2021\\archive\\to_dmc\\1Z_CL043__FQN_2021_04_29T12_59_59.mseed\u001b[0m\n",
      "\u001b[1m2025-04-01T17:02:10.526213-0700 | INFO | mth5.io.conversion | split_ms_to_days | Wrote miniseed file to: c:\\Users\\jpeacock\\OneDrive - DOI\\MTData\\CL2021\\archive\\to_dmc\\1Z_CL043__FQE_2021_04_29T12_59_59.mseed\u001b[0m\n",
      "\u001b[1m2025-04-01T17:02:10.738302-0700 | INFO | mth5.io.conversion | split_ms_to_days | Wrote miniseed file to: c:\\Users\\jpeacock\\OneDrive - DOI\\MTData\\CL2021\\archive\\to_dmc\\1Z_CL043__FFN_2021_04_29T12_59_59.mseed\u001b[0m\n",
      "\u001b[1m2025-04-01T17:02:10.945455-0700 | INFO | mth5.io.conversion | split_ms_to_days | Wrote miniseed file to: c:\\Users\\jpeacock\\OneDrive - DOI\\MTData\\CL2021\\archive\\to_dmc\\1Z_CL043__FFE_2021_04_29T12_59_59.mseed\u001b[0m\n",
      "\u001b[1m2025-04-01T17:02:11.160629-0700 | INFO | mth5.io.conversion | split_ms_to_days | Wrote miniseed file to: c:\\Users\\jpeacock\\OneDrive - DOI\\MTData\\CL2021\\archive\\to_dmc\\1Z_CL043__FFZ_2021_04_29T12_59_59.mseed\u001b[0m\n",
      "\u001b[1m2025-04-01T17:02:16.493155-0700 | INFO | mth5.io.conversion | split_ms_to_days | Wrote miniseed file to: c:\\Users\\jpeacock\\OneDrive - DOI\\MTData\\CL2021\\archive\\to_dmc\\1Z_CL043__CQN_2021_04_29T13_09_59.mseed\u001b[0m\n",
      "\u001b[1m2025-04-01T17:02:16.689326-0700 | INFO | mth5.io.conversion | split_ms_to_days | Wrote miniseed file to: c:\\Users\\jpeacock\\OneDrive - DOI\\MTData\\CL2021\\archive\\to_dmc\\1Z_CL043__CQE_2021_04_29T13_09_59.mseed\u001b[0m\n",
      "\u001b[1m2025-04-01T17:02:16.887497-0700 | INFO | mth5.io.conversion | split_ms_to_days | Wrote miniseed file to: c:\\Users\\jpeacock\\OneDrive - DOI\\MTData\\CL2021\\archive\\to_dmc\\1Z_CL043__CFN_2021_04_29T13_09_59.mseed\u001b[0m\n",
      "\u001b[1m2025-04-01T17:02:17.081952-0700 | INFO | mth5.io.conversion | split_ms_to_days | Wrote miniseed file to: c:\\Users\\jpeacock\\OneDrive - DOI\\MTData\\CL2021\\archive\\to_dmc\\1Z_CL043__CFE_2021_04_29T13_09_59.mseed\u001b[0m\n",
      "\u001b[1m2025-04-01T17:02:17.280729-0700 | INFO | mth5.io.conversion | split_ms_to_days | Wrote miniseed file to: c:\\Users\\jpeacock\\OneDrive - DOI\\MTData\\CL2021\\archive\\to_dmc\\1Z_CL043__CFZ_2021_04_29T13_09_59.mseed\u001b[0m\n",
      "\u001b[1m2025-04-01T17:02:18.350926-0700 | INFO | mth5.mth5 | close_mth5 | Flushing and closing c:\\Users\\jpeacock\\OneDrive - DOI\\MTData\\CL2021\\archive\\cl043.h5\u001b[0m\n",
      "\u001b[33m\u001b[1m2025-04-01T17:02:18.354924-0700 | WARNING | mt_metadata.timeseries.stationxml.xml_station_mt_station | mt_to_xml | Station.geographic_name is None, using Station.id = cl043.Check StationXML site.name.\u001b[0m\n",
      "\u001b[1m2025-04-01T17:02:18.441690-0700 | INFO | mt_metadata.timeseries.filters.channel_response | to_obspy | total sensitivity 105030248038.4055 != total gain 1048576000.000055. Using total_gain.\u001b[0m\n",
      "\u001b[1m2025-04-01T17:02:18.485183-0700 | INFO | mt_metadata.timeseries.filters.channel_response | to_obspy | total sensitivity 105404484812.80553 != total gain 1048576000.000055. Using total_gain.\u001b[0m\n",
      "\u001b[1m2025-04-01T17:02:18.521184-0700 | INFO | mt_metadata.timeseries.filters.channel_response | to_obspy | total sensitivity 105051593082.1482 != total gain 1048576000.000055. Using total_gain.\u001b[0m\n",
      "\u001b[1m2025-04-01T17:02:18.624724-0700 | INFO | mt_metadata.timeseries.filters.channel_response | to_obspy | total sensitivity 105030248038.4055 != total gain 1048576000.000055. Using total_gain.\u001b[0m\n",
      "\u001b[1m2025-04-01T17:02:18.654738-0700 | INFO | mt_metadata.timeseries.filters.channel_response | to_obspy | total sensitivity 105404484812.80553 != total gain 1048576000.000055. Using total_gain.\u001b[0m\n",
      "\u001b[1m2025-04-01T17:02:18.699278-0700 | INFO | mt_metadata.timeseries.filters.channel_response | to_obspy | total sensitivity 105051593082.1482 != total gain 1048576000.000055. Using total_gain.\u001b[0m\n",
      "\u001b[1m2025-04-01T17:02:18.797798-0700 | INFO | mt_metadata.timeseries.filters.channel_response | to_obspy | total sensitivity 105030248038.4055 != total gain 1048576000.000055. Using total_gain.\u001b[0m\n",
      "\u001b[1m2025-04-01T17:02:18.827828-0700 | INFO | mt_metadata.timeseries.filters.channel_response | to_obspy | total sensitivity 105404484812.80553 != total gain 1048576000.000055. Using total_gain.\u001b[0m\n",
      "\u001b[1m2025-04-01T17:02:18.861834-0700 | INFO | mt_metadata.timeseries.filters.channel_response | to_obspy | total sensitivity 105051593082.1482 != total gain 1048576000.000055. Using total_gain.\u001b[0m\n",
      "\u001b[1m2025-04-01T17:02:18.976925-0700 | INFO | mt_metadata.timeseries.filters.channel_response | to_obspy | total sensitivity 105030248038.4055 != total gain 1048576000.000055. Using total_gain.\u001b[0m\n",
      "\u001b[1m2025-04-01T17:02:19.008926-0700 | INFO | mt_metadata.timeseries.filters.channel_response | to_obspy | total sensitivity 105404484812.80553 != total gain 1048576000.000055. Using total_gain.\u001b[0m\n",
      "\u001b[1m2025-04-01T17:02:19.047926-0700 | INFO | mt_metadata.timeseries.filters.channel_response | to_obspy | total sensitivity 105051593082.1482 != total gain 1048576000.000055. Using total_gain.\u001b[0m\n",
      "\u001b[1m2025-04-01T17:02:19.175055-0700 | INFO | mt_metadata.timeseries.filters.channel_response | to_obspy | total sensitivity 105030248038.4055 != total gain 1048576000.000055. Using total_gain.\u001b[0m\n",
      "\u001b[1m2025-04-01T17:02:19.205051-0700 | INFO | mt_metadata.timeseries.filters.channel_response | to_obspy | total sensitivity 105404484812.80553 != total gain 1048576000.000055. Using total_gain.\u001b[0m\n",
      "\u001b[1m2025-04-01T17:02:19.238053-0700 | INFO | mt_metadata.timeseries.filters.channel_response | to_obspy | total sensitivity 105051593082.1482 != total gain 1048576000.000055. Using total_gain.\u001b[0m\n",
      "\u001b[1m2025-04-01T17:02:19.330567-0700 | INFO | mt_metadata.timeseries.filters.channel_response | to_obspy | total sensitivity 105030248038.4055 != total gain 1048576000.000055. Using total_gain.\u001b[0m\n",
      "\u001b[1m2025-04-01T17:02:19.359574-0700 | INFO | mt_metadata.timeseries.filters.channel_response | to_obspy | total sensitivity 105404484812.80553 != total gain 1048576000.000055. Using total_gain.\u001b[0m\n",
      "\u001b[1m2025-04-01T17:02:19.388084-0700 | INFO | mt_metadata.timeseries.filters.channel_response | to_obspy | total sensitivity 105051593082.1482 != total gain 1048576000.000055. Using total_gain.\u001b[0m\n",
      "\u001b[1m2025-04-01T17:02:19.518811-0700 | INFO | mt_metadata.timeseries.filters.channel_response | to_obspy | total sensitivity 105030248038.4055 != total gain 1048576000.000055. Using total_gain.\u001b[0m\n",
      "\u001b[1m2025-04-01T17:02:19.546768-0700 | INFO | mt_metadata.timeseries.filters.channel_response | to_obspy | total sensitivity 105404484812.80553 != total gain 1048576000.000055. Using total_gain.\u001b[0m\n",
      "\u001b[1m2025-04-01T17:02:19.577285-0700 | INFO | mt_metadata.timeseries.filters.channel_response | to_obspy | total sensitivity 105051593082.1482 != total gain 1048576000.000055. Using total_gain.\u001b[0m\n",
      "\u001b[1m2025-04-01T17:02:19.663301-0700 | INFO | mt_metadata.timeseries.filters.channel_response | to_obspy | total sensitivity 105030248038.4055 != total gain 1048576000.000055. Using total_gain.\u001b[0m\n",
      "\u001b[1m2025-04-01T17:02:19.691815-0700 | INFO | mt_metadata.timeseries.filters.channel_response | to_obspy | total sensitivity 105404484812.80553 != total gain 1048576000.000055. Using total_gain.\u001b[0m\n",
      "\u001b[1m2025-04-01T17:02:19.721815-0700 | INFO | mt_metadata.timeseries.filters.channel_response | to_obspy | total sensitivity 105051593082.1482 != total gain 1048576000.000055. Using total_gain.\u001b[0m\n",
      "\u001b[1m2025-04-01T17:02:19.750585-0700 | INFO | mth5.io.conversion | convert_mth5_to_ms_stationxml | Wrote StationXML to c:\\Users\\jpeacock\\OneDrive - DOI\\MTData\\CL2021\\archive\\to_dmc\\cl043.xml\u001b[0m\n",
      "\u001b[1m2025-04-01T17:02:25.455412-0700 | INFO | mth5.io.conversion | split_ms_to_days | Wrote miniseed file to: c:\\Users\\jpeacock\\OneDrive - DOI\\MTData\\CL2021\\archive\\to_dmc\\1Z_CL044__LQN_2021_04_28T18_44_59.mseed\u001b[0m\n",
      "\u001b[1m2025-04-01T17:02:25.460418-0700 | INFO | mth5.io.conversion | split_ms_to_days | Wrote miniseed file to: c:\\Users\\jpeacock\\OneDrive - DOI\\MTData\\CL2021\\archive\\to_dmc\\1Z_CL044__LQN_2021_04_29T00_00_00.mseed\u001b[0m\n",
      "\u001b[1m2025-04-01T17:02:25.468418-0700 | INFO | mth5.io.conversion | split_ms_to_days | Wrote miniseed file to: c:\\Users\\jpeacock\\OneDrive - DOI\\MTData\\CL2021\\archive\\to_dmc\\1Z_CL044__LQE_2021_04_28T18_44_59.mseed\u001b[0m\n",
      "\u001b[1m2025-04-01T17:02:25.472935-0700 | INFO | mth5.io.conversion | split_ms_to_days | Wrote miniseed file to: c:\\Users\\jpeacock\\OneDrive - DOI\\MTData\\CL2021\\archive\\to_dmc\\1Z_CL044__LQE_2021_04_29T00_00_00.mseed\u001b[0m\n",
      "\u001b[1m2025-04-01T17:02:25.480929-0700 | INFO | mth5.io.conversion | split_ms_to_days | Wrote miniseed file to: c:\\Users\\jpeacock\\OneDrive - DOI\\MTData\\CL2021\\archive\\to_dmc\\1Z_CL044__LFN_2021_04_28T18_44_59.mseed\u001b[0m\n",
      "\u001b[1m2025-04-01T17:02:25.485929-0700 | INFO | mth5.io.conversion | split_ms_to_days | Wrote miniseed file to: c:\\Users\\jpeacock\\OneDrive - DOI\\MTData\\CL2021\\archive\\to_dmc\\1Z_CL044__LFN_2021_04_29T00_00_00.mseed\u001b[0m\n",
      "\u001b[1m2025-04-01T17:02:25.493934-0700 | INFO | mth5.io.conversion | split_ms_to_days | Wrote miniseed file to: c:\\Users\\jpeacock\\OneDrive - DOI\\MTData\\CL2021\\archive\\to_dmc\\1Z_CL044__LFE_2021_04_28T18_44_59.mseed\u001b[0m\n",
      "\u001b[1m2025-04-01T17:02:25.497932-0700 | INFO | mth5.io.conversion | split_ms_to_days | Wrote miniseed file to: c:\\Users\\jpeacock\\OneDrive - DOI\\MTData\\CL2021\\archive\\to_dmc\\1Z_CL044__LFE_2021_04_29T00_00_00.mseed\u001b[0m\n",
      "\u001b[1m2025-04-01T17:02:25.504930-0700 | INFO | mth5.io.conversion | split_ms_to_days | Wrote miniseed file to: c:\\Users\\jpeacock\\OneDrive - DOI\\MTData\\CL2021\\archive\\to_dmc\\1Z_CL044__LFZ_2021_04_28T18_44_59.mseed\u001b[0m\n",
      "\u001b[1m2025-04-01T17:02:25.509934-0700 | INFO | mth5.io.conversion | split_ms_to_days | Wrote miniseed file to: c:\\Users\\jpeacock\\OneDrive - DOI\\MTData\\CL2021\\archive\\to_dmc\\1Z_CL044__LFZ_2021_04_29T00_00_00.mseed\u001b[0m\n",
      "\u001b[1m2025-04-01T17:02:29.396887-0700 | INFO | mth5.io.conversion | split_ms_to_days | Wrote miniseed file to: c:\\Users\\jpeacock\\OneDrive - DOI\\MTData\\CL2021\\archive\\to_dmc\\1Z_CL044__CQN_2021_04_28T18_44_59.mseed\u001b[0m\n",
      "\u001b[1m2025-04-01T17:02:29.417860-0700 | INFO | mth5.io.conversion | split_ms_to_days | Wrote miniseed file to: c:\\Users\\jpeacock\\OneDrive - DOI\\MTData\\CL2021\\archive\\to_dmc\\1Z_CL044__CQE_2021_04_28T18_44_59.mseed\u001b[0m\n",
      "\u001b[1m2025-04-01T17:02:29.440854-0700 | INFO | mth5.io.conversion | split_ms_to_days | Wrote miniseed file to: c:\\Users\\jpeacock\\OneDrive - DOI\\MTData\\CL2021\\archive\\to_dmc\\1Z_CL044__CFN_2021_04_28T18_44_59.mseed\u001b[0m\n",
      "\u001b[1m2025-04-01T17:02:29.463862-0700 | INFO | mth5.io.conversion | split_ms_to_days | Wrote miniseed file to: c:\\Users\\jpeacock\\OneDrive - DOI\\MTData\\CL2021\\archive\\to_dmc\\1Z_CL044__CFE_2021_04_28T18_44_59.mseed\u001b[0m\n",
      "\u001b[1m2025-04-01T17:02:29.485403-0700 | INFO | mth5.io.conversion | split_ms_to_days | Wrote miniseed file to: c:\\Users\\jpeacock\\OneDrive - DOI\\MTData\\CL2021\\archive\\to_dmc\\1Z_CL044__CFZ_2021_04_28T18_44_59.mseed\u001b[0m\n",
      "\u001b[1m2025-04-01T17:02:33.187248-0700 | INFO | mth5.timeseries.run_ts | _align_channels | Channels do not have a common end, using latest: 2021-04-28T19:09:43.999512000\u001b[0m\n"
     ]
    },
    {
     "name": "stderr",
     "output_type": "stream",
     "text": [
      "C:\\Users\\jpeacock\\OneDrive - DOI\\Documents\\GitHub\\mth5\\mth5\\timeseries\\channel_ts.py:1524: RuntimeWarning: invalid value encountered in cast\n",
      "  obspy_trace = Trace(self.ts.astype(encoding_dict[encoding]))\n"
     ]
    },
    {
     "name": "stdout",
     "output_type": "stream",
     "text": [
      "\u001b[1m2025-04-01T17:02:35.941341-0700 | INFO | mth5.io.conversion | split_ms_to_days | Wrote miniseed file to: c:\\Users\\jpeacock\\OneDrive - DOI\\MTData\\CL2021\\archive\\to_dmc\\1Z_CL044__FQN_2021_04_28T18_59_59.mseed\u001b[0m\n",
      "\u001b[1m2025-04-01T17:02:36.134571-0700 | INFO | mth5.io.conversion | split_ms_to_days | Wrote miniseed file to: c:\\Users\\jpeacock\\OneDrive - DOI\\MTData\\CL2021\\archive\\to_dmc\\1Z_CL044__FQE_2021_04_28T18_59_59.mseed\u001b[0m\n",
      "\u001b[1m2025-04-01T17:02:36.323580-0700 | INFO | mth5.io.conversion | split_ms_to_days | Wrote miniseed file to: c:\\Users\\jpeacock\\OneDrive - DOI\\MTData\\CL2021\\archive\\to_dmc\\1Z_CL044__FFN_2021_04_28T18_59_59.mseed\u001b[0m\n",
      "\u001b[1m2025-04-01T17:02:36.513252-0700 | INFO | mth5.io.conversion | split_ms_to_days | Wrote miniseed file to: c:\\Users\\jpeacock\\OneDrive - DOI\\MTData\\CL2021\\archive\\to_dmc\\1Z_CL044__FFE_2021_04_28T18_59_59.mseed\u001b[0m\n",
      "\u001b[1m2025-04-01T17:02:36.726351-0700 | INFO | mth5.io.conversion | split_ms_to_days | Wrote miniseed file to: c:\\Users\\jpeacock\\OneDrive - DOI\\MTData\\CL2021\\archive\\to_dmc\\1Z_CL044__FFZ_2021_04_28T18_59_59.mseed\u001b[0m\n",
      "\u001b[1m2025-04-01T17:02:43.721257-0700 | INFO | mth5.timeseries.run_ts | _align_channels | Channels do not have a common end, using latest: 2021-04-29T00:59:43.996094000\u001b[0m\n"
     ]
    },
    {
     "name": "stderr",
     "output_type": "stream",
     "text": [
      "C:\\Users\\jpeacock\\OneDrive - DOI\\Documents\\GitHub\\mth5\\mth5\\timeseries\\channel_ts.py:1524: RuntimeWarning: invalid value encountered in cast\n",
      "  obspy_trace = Trace(self.ts.astype(encoding_dict[encoding]))\n"
     ]
    },
    {
     "name": "stdout",
     "output_type": "stream",
     "text": [
      "\u001b[1m2025-04-01T17:02:50.800151-0700 | INFO | mth5.io.conversion | split_ms_to_days | Wrote miniseed file to: c:\\Users\\jpeacock\\OneDrive - DOI\\MTData\\CL2021\\archive\\to_dmc\\1Z_CL044__CQN_2021_04_28T19_09_59.mseed\u001b[0m\n",
      "\u001b[1m2025-04-01T17:02:51.182250-0700 | INFO | mth5.io.conversion | split_ms_to_days | Wrote miniseed file to: c:\\Users\\jpeacock\\OneDrive - DOI\\MTData\\CL2021\\archive\\to_dmc\\1Z_CL044__CQN_2021_04_29T00_00_00.mseed\u001b[0m\n"
     ]
    }
   ],
   "source": [
    "for h5_file in Path(r\"c:\\Users\\jpeacock\\OneDrive - DOI\\MTData\\CL2021\\archive\").glob(\"*.h5\"):\n",
    "    try:\n",
    "        station_xml, ms_list = MTH5ToMiniSEEDStationXML.convert_mth5_to_ms_stationxml(\n",
    "            mth5_path=h5_file,\n",
    "            save_path=r\"c:\\Users\\jpeacock\\OneDrive - DOI\\MTData\\CL2021\\archive\\to_dmc\",\n",
    "            network_code=\"1Z\",\n",
    "            encoding=\"INT32\",\n",
    "        )\n",
    "    except Exception as error:\n",
    "        print(f\"FAILED: {h5_file}\\n{error}\")"
   ]
  },
  {
   "cell_type": "code",
   "execution_count": null,
   "metadata": {},
   "outputs": [],
   "source": []
  }
 ],
 "metadata": {
  "kernelspec": {
   "display_name": "py311",
   "language": "python",
   "name": "python3"
  },
  "language_info": {
   "codemirror_mode": {
    "name": "ipython",
    "version": 3
   },
   "file_extension": ".py",
   "mimetype": "text/x-python",
   "name": "python",
   "nbconvert_exporter": "python",
   "pygments_lexer": "ipython3",
   "version": "3.11.11"
  }
 },
 "nbformat": 4,
 "nbformat_minor": 2
}
