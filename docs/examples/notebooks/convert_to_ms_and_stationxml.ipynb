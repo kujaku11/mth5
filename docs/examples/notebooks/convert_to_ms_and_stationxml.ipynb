{
 "cells": [
  {
   "cell_type": "markdown",
   "metadata": {},
   "source": [
    "# Convert MTH5 to miniseed"
   ]
  },
  {
   "cell_type": "code",
   "execution_count": 1,
   "metadata": {},
   "outputs": [],
   "source": [
    "from mth5.io.conversion import MTH5ToMiniSEEDStationXML"
   ]
  },
  {
   "cell_type": "code",
   "execution_count": 2,
   "metadata": {},
   "outputs": [
    {
     "name": "stdout",
     "output_type": "stream",
     "text": [
      "\u001b[1m2025-03-21T12:30:27.612879-0700 | INFO | mth5.io.conversion | convert_mth5_to_ms_stationxml | Wrote miniSEED for Clearlake2022.cl008.sr1_0001 to c:\\Users\\jpeacock\\OneDrive - DOI\\MTData\\CL2021\\archive\\to_dmc\\Clearlake2022_cl008_sr1_0001.mseed\u001b[0m\n",
      "\u001b[1m2025-03-21T12:30:32.154000-0700 | INFO | mth5.timeseries.run_ts | _align_channels | Channels do not have a common end, using latest: 2021-04-30T18:59:43.996094000\u001b[0m\n"
     ]
    },
    {
     "name": "stderr",
     "output_type": "stream",
     "text": [
      "C:\\Users\\jpeacock\\OneDrive - DOI\\Documents\\GitHub\\mth5\\mth5\\timeseries\\channel_ts.py:1524: RuntimeWarning: invalid value encountered in cast\n",
      "  obspy_trace = Trace(self.ts.astype(encoding_dict[encoding]))\n"
     ]
    },
    {
     "name": "stdout",
     "output_type": "stream",
     "text": [
      "\u001b[1m2025-03-21T12:30:36.274033-0700 | INFO | mth5.io.conversion | convert_mth5_to_ms_stationxml | Wrote miniSEED for Clearlake2022.cl008.sr256_0001 to c:\\Users\\jpeacock\\OneDrive - DOI\\MTData\\CL2021\\archive\\to_dmc\\Clearlake2022_cl008_sr256_0001.mseed\u001b[0m\n",
      "\u001b[1m2025-03-21T12:30:39.494241-0700 | INFO | mth5.timeseries.run_ts | _align_channels | Channels do not have a common end, using latest: 2021-04-30T19:09:43.998779296\u001b[0m\n",
      "\u001b[33m\u001b[1m2025-03-21T12:30:42.083551-0700 | WARNING | mth5.timeseries.run_ts | validate_metadata | end time of dataset 2021-04-30T19:09:43.998535156+00:00 does not match metadata end 2021-04-30T19:09:43.998779296+00:00 updating metatdata value to 2021-04-30T19:09:43.998535156+00:00\u001b[0m\n"
     ]
    },
    {
     "name": "stderr",
     "output_type": "stream",
     "text": [
      "C:\\Users\\jpeacock\\OneDrive - DOI\\Documents\\GitHub\\mth5\\mth5\\timeseries\\channel_ts.py:1524: RuntimeWarning: invalid value encountered in cast\n",
      "  obspy_trace = Trace(self.ts.astype(encoding_dict[encoding]))\n"
     ]
    },
    {
     "name": "stdout",
     "output_type": "stream",
     "text": [
      "\u001b[1m2025-03-21T12:30:43.738043-0700 | INFO | mth5.io.conversion | convert_mth5_to_ms_stationxml | Wrote miniSEED for Clearlake2022.cl008.sr4096_0002 to c:\\Users\\jpeacock\\OneDrive - DOI\\MTData\\CL2021\\archive\\to_dmc\\Clearlake2022_cl008_sr4096_0002.mseed\u001b[0m\n",
      "\u001b[1m2025-03-21T12:30:51.254848-0700 | INFO | mth5.timeseries.run_ts | _align_channels | Channels do not have a common end, using latest: 2021-05-01T00:59:43.996094000\u001b[0m\n"
     ]
    },
    {
     "name": "stderr",
     "output_type": "stream",
     "text": [
      "C:\\Users\\jpeacock\\OneDrive - DOI\\Documents\\GitHub\\mth5\\mth5\\timeseries\\channel_ts.py:1524: RuntimeWarning: invalid value encountered in cast\n",
      "  obspy_trace = Trace(self.ts.astype(encoding_dict[encoding]))\n"
     ]
    },
    {
     "name": "stdout",
     "output_type": "stream",
     "text": [
      "\u001b[1m2025-03-21T12:30:59.691627-0700 | INFO | mth5.io.conversion | convert_mth5_to_ms_stationxml | Wrote miniSEED for Clearlake2022.cl008.sr256_0003 to c:\\Users\\jpeacock\\OneDrive - DOI\\MTData\\CL2021\\archive\\to_dmc\\Clearlake2022_cl008_sr256_0003.mseed\u001b[0m\n",
      "\u001b[1m2025-03-21T12:31:03.075173-0700 | INFO | mth5.timeseries.run_ts | _align_channels | Channels do not have a common end, using latest: 2021-05-01T01:09:43.997803000\u001b[0m\n"
     ]
    },
    {
     "name": "stderr",
     "output_type": "stream",
     "text": [
      "C:\\Users\\jpeacock\\OneDrive - DOI\\Documents\\GitHub\\mth5\\mth5\\timeseries\\channel_ts.py:1524: RuntimeWarning: invalid value encountered in cast\n",
      "  obspy_trace = Trace(self.ts.astype(encoding_dict[encoding]))\n"
     ]
    },
    {
     "name": "stdout",
     "output_type": "stream",
     "text": [
      "\u001b[1m2025-03-21T12:31:06.748902-0700 | INFO | mth5.io.conversion | convert_mth5_to_ms_stationxml | Wrote miniSEED for Clearlake2022.cl008.sr4096_0004 to c:\\Users\\jpeacock\\OneDrive - DOI\\MTData\\CL2021\\archive\\to_dmc\\Clearlake2022_cl008_sr4096_0004.mseed\u001b[0m\n",
      "\u001b[1m2025-03-21T12:31:13.617120-0700 | INFO | mth5.timeseries.run_ts | _align_channels | Channels do not have a common end, using latest: 2021-05-01T06:59:43.996094000\u001b[0m\n"
     ]
    },
    {
     "name": "stderr",
     "output_type": "stream",
     "text": [
      "C:\\Users\\jpeacock\\OneDrive - DOI\\Documents\\GitHub\\mth5\\mth5\\timeseries\\channel_ts.py:1524: RuntimeWarning: invalid value encountered in cast\n",
      "  obspy_trace = Trace(self.ts.astype(encoding_dict[encoding]))\n"
     ]
    },
    {
     "name": "stdout",
     "output_type": "stream",
     "text": [
      "\u001b[1m2025-03-21T12:31:21.812914-0700 | INFO | mth5.io.conversion | convert_mth5_to_ms_stationxml | Wrote miniSEED for Clearlake2022.cl008.sr256_0005 to c:\\Users\\jpeacock\\OneDrive - DOI\\MTData\\CL2021\\archive\\to_dmc\\Clearlake2022_cl008_sr256_0005.mseed\u001b[0m\n",
      "\u001b[1m2025-03-21T12:31:25.036833-0700 | INFO | mth5.timeseries.run_ts | _align_channels | Channels do not have a common end, using latest: 2021-05-01T07:09:43.999512000\u001b[0m\n"
     ]
    },
    {
     "name": "stderr",
     "output_type": "stream",
     "text": [
      "C:\\Users\\jpeacock\\OneDrive - DOI\\Documents\\GitHub\\mth5\\mth5\\timeseries\\channel_ts.py:1524: RuntimeWarning: invalid value encountered in cast\n",
      "  obspy_trace = Trace(self.ts.astype(encoding_dict[encoding]))\n"
     ]
    },
    {
     "name": "stdout",
     "output_type": "stream",
     "text": [
      "\u001b[1m2025-03-21T12:31:28.619508-0700 | INFO | mth5.io.conversion | convert_mth5_to_ms_stationxml | Wrote miniSEED for Clearlake2022.cl008.sr4096_0006 to c:\\Users\\jpeacock\\OneDrive - DOI\\MTData\\CL2021\\archive\\to_dmc\\Clearlake2022_cl008_sr4096_0006.mseed\u001b[0m\n",
      "\u001b[1m2025-03-21T12:31:35.293225-0700 | INFO | mth5.timeseries.run_ts | _align_channels | Channels do not have a common end, using latest: 2021-05-01T12:59:43.996094000\u001b[0m\n"
     ]
    },
    {
     "name": "stderr",
     "output_type": "stream",
     "text": [
      "C:\\Users\\jpeacock\\OneDrive - DOI\\Documents\\GitHub\\mth5\\mth5\\timeseries\\channel_ts.py:1524: RuntimeWarning: invalid value encountered in cast\n",
      "  obspy_trace = Trace(self.ts.astype(encoding_dict[encoding]))\n"
     ]
    },
    {
     "name": "stdout",
     "output_type": "stream",
     "text": [
      "\u001b[1m2025-03-21T12:31:42.524795-0700 | INFO | mth5.io.conversion | convert_mth5_to_ms_stationxml | Wrote miniSEED for Clearlake2022.cl008.sr256_0007 to c:\\Users\\jpeacock\\OneDrive - DOI\\MTData\\CL2021\\archive\\to_dmc\\Clearlake2022_cl008_sr256_0007.mseed\u001b[0m\n",
      "\u001b[1m2025-03-21T12:31:45.999139-0700 | INFO | mth5.timeseries.run_ts | _align_channels | Channels do not have a common end, using latest: 2021-05-01T13:09:43.998535156\u001b[0m\n",
      "\u001b[33m\u001b[1m2025-03-21T12:31:48.477437-0700 | WARNING | mth5.timeseries.run_ts | validate_metadata | end time of dataset 2021-05-01T13:09:43.998291015+00:00 does not match metadata end 2021-05-01T13:09:43.998535156+00:00 updating metatdata value to 2021-05-01T13:09:43.998291015+00:00\u001b[0m\n"
     ]
    },
    {
     "name": "stderr",
     "output_type": "stream",
     "text": [
      "C:\\Users\\jpeacock\\OneDrive - DOI\\Documents\\GitHub\\mth5\\mth5\\timeseries\\channel_ts.py:1524: RuntimeWarning: invalid value encountered in cast\n",
      "  obspy_trace = Trace(self.ts.astype(encoding_dict[encoding]))\n"
     ]
    },
    {
     "name": "stdout",
     "output_type": "stream",
     "text": [
      "\u001b[1m2025-03-21T12:31:50.101308-0700 | INFO | mth5.io.conversion | convert_mth5_to_ms_stationxml | Wrote miniSEED for Clearlake2022.cl008.sr4096_0008 to c:\\Users\\jpeacock\\OneDrive - DOI\\MTData\\CL2021\\archive\\to_dmc\\Clearlake2022_cl008_sr4096_0008.mseed\u001b[0m\n",
      "\u001b[1m2025-03-21T12:31:54.158575-0700 | INFO | mth5.timeseries.run_ts | _align_channels | Channels do not have a common end, using latest: 2021-05-01T15:13:34.996094000\u001b[0m\n"
     ]
    },
    {
     "name": "stderr",
     "output_type": "stream",
     "text": [
      "C:\\Users\\jpeacock\\OneDrive - DOI\\Documents\\GitHub\\mth5\\mth5\\timeseries\\channel_ts.py:1524: RuntimeWarning: invalid value encountered in cast\n",
      "  obspy_trace = Trace(self.ts.astype(encoding_dict[encoding]))\n"
     ]
    },
    {
     "name": "stdout",
     "output_type": "stream",
     "text": [
      "\u001b[1m2025-03-21T12:31:56.636706-0700 | INFO | mth5.io.conversion | convert_mth5_to_ms_stationxml | Wrote miniSEED for Clearlake2022.cl008.sr256_0009 to c:\\Users\\jpeacock\\OneDrive - DOI\\MTData\\CL2021\\archive\\to_dmc\\Clearlake2022_cl008_sr256_0009.mseed\u001b[0m\n",
      "\u001b[1m2025-03-21T12:31:57.616451-0700 | INFO | mth5.mth5 | close_mth5 | Flushing and closing c:\\Users\\jpeacock\\OneDrive - DOI\\MTData\\CL2021\\archive\\cl008.h5\u001b[0m\n",
      "\u001b[1m2025-03-21T12:31:59.098722-0700 | INFO | mth5.io.conversion | convert_mth5_to_ms_stationxml | Wrote StationXML to c:\\Users\\jpeacock\\OneDrive - DOI\\MTData\\CL2021\\archive\\to_dmc\\cl008.xml\u001b[0m\n"
     ]
    }
   ],
   "source": [
    "station_xml, ms_list = MTH5ToMiniSEEDStationXML.convert_mth5_to_ms_stationxml(\n",
    "    mth5_path=r\"c:\\Users\\jpeacock\\OneDrive - DOI\\MTData\\CL2021\\archive\\cl008.h5\",\n",
    "    save_path=r\"c:\\Users\\jpeacock\\OneDrive - DOI\\MTData\\CL2021\\archive\\to_dmc\",\n",
    "    network_code=\"1Z\",\n",
    "    encoding=\"INT32\",\n",
    ")"
   ]
  },
  {
   "cell_type": "code",
   "execution_count": 3,
   "metadata": {},
   "outputs": [
    {
     "data": {
      "text/plain": [
       "[WindowsPath('c:/Users/jpeacock/OneDrive - DOI/MTData/CL2021/archive/to_dmc/Clearlake2022_cl008_sr1_0001.mseed'),\n",
       " WindowsPath('c:/Users/jpeacock/OneDrive - DOI/MTData/CL2021/archive/to_dmc/Clearlake2022_cl008_sr256_0001.mseed'),\n",
       " WindowsPath('c:/Users/jpeacock/OneDrive - DOI/MTData/CL2021/archive/to_dmc/Clearlake2022_cl008_sr4096_0002.mseed'),\n",
       " WindowsPath('c:/Users/jpeacock/OneDrive - DOI/MTData/CL2021/archive/to_dmc/Clearlake2022_cl008_sr256_0003.mseed'),\n",
       " WindowsPath('c:/Users/jpeacock/OneDrive - DOI/MTData/CL2021/archive/to_dmc/Clearlake2022_cl008_sr4096_0004.mseed'),\n",
       " WindowsPath('c:/Users/jpeacock/OneDrive - DOI/MTData/CL2021/archive/to_dmc/Clearlake2022_cl008_sr256_0005.mseed'),\n",
       " WindowsPath('c:/Users/jpeacock/OneDrive - DOI/MTData/CL2021/archive/to_dmc/Clearlake2022_cl008_sr4096_0006.mseed'),\n",
       " WindowsPath('c:/Users/jpeacock/OneDrive - DOI/MTData/CL2021/archive/to_dmc/Clearlake2022_cl008_sr256_0007.mseed'),\n",
       " WindowsPath('c:/Users/jpeacock/OneDrive - DOI/MTData/CL2021/archive/to_dmc/Clearlake2022_cl008_sr4096_0008.mseed'),\n",
       " WindowsPath('c:/Users/jpeacock/OneDrive - DOI/MTData/CL2021/archive/to_dmc/Clearlake2022_cl008_sr256_0009.mseed')]"
      ]
     },
     "execution_count": 3,
     "metadata": {},
     "output_type": "execute_result"
    }
   ],
   "source": [
    "ms_list"
   ]
  },
  {
   "cell_type": "code",
   "execution_count": 3,
   "metadata": {},
   "outputs": [],
   "source": [
    "# Certainly! Splitting MiniSEED files by day using ObsPy is a common task for seismologists. Below is a Python script that demonstrates how to achieve this:\n",
    "\n",
    "from pathlib import Path\n",
    "from obspy import read\n",
    "from obspy.core import UTCDateTime\n",
    "import datetime\n",
    "\n",
    "\n",
    "def split_miniseed_by_day(input_file):\n",
    "    save_path = Path(input_file).parent\n",
    "    # Read the MiniSEED file\n",
    "    st = read(input_file)\n",
    "\n",
    "    tr_list = []\n",
    "    # Iterate over each trace in the stream\n",
    "    for tr in st:\n",
    "        start_time = tr.stats.starttime\n",
    "        end_time = tr.stats.endtime\n",
    "\n",
    "        # Split the trace by day\n",
    "        current_time = start_time\n",
    "        while current_time < end_time:\n",
    "            next_day = UTCDateTime(current_time.date + datetime.timedelta(days=1))\n",
    "            if next_day > end_time:\n",
    "                next_day = end_time\n",
    "\n",
    "            # Slice the trace for the current day\n",
    "            tr_day = tr.slice(current_time, next_day)\n",
    "\n",
    "            # Generate the output file name\n",
    "            output_file = save_path.joinpath(\n",
    "                f\"{tr.stats.network}.{tr.stats.station}.{tr.stats.location}.{tr.stats.channel}.{current_time.date}.mseed\"\n",
    "            )\n",
    "\n",
    "            # Write the sliced trace to a new MiniSEED file\n",
    "            tr_day.write(output_file, format=\"MSEED\")\n",
    "\n",
    "            # Move to the next day\n",
    "            current_time = next_day\n",
    "\n",
    "\n",
    "# Example usage\n",
    "\n",
    "\n",
    "# Explanation:\n",
    "# Reading the MiniSEED File: The script starts by reading the MiniSEED file using obspy.read().\n",
    "# Creating Output Directory: It ensures the output directory exists or creates it if it doesn't.\n",
    "# Iterating Over Traces: It iterates over each trace in the stream.\n",
    "# Splitting by Day: For each trace, it slices the data into daily segments.\n",
    "# Writing Output Files: Each daily segment is written to a new MiniSEED file with a filename that includes the date.\n",
    "\n",
    "# This script should help you split your MiniSEED files by day efficiently. If you have any further questions or need additional customization, feel free to ask!"
   ]
  },
  {
   "cell_type": "code",
   "execution_count": 5,
   "metadata": {},
   "outputs": [],
   "source": [
    "split_miniseed_by_day(r\"c:\\Users\\jpeacock\\OneDrive - DOI\\MTData\\CL2021\\archive\\to_dmc\\Clearlake2022_cl008_sr1_0001.mseed\")"
   ]
  },
  {
   "cell_type": "code",
   "execution_count": null,
   "metadata": {},
   "outputs": [],
   "source": []
  }
 ],
 "metadata": {
  "kernelspec": {
   "display_name": "py311",
   "language": "python",
   "name": "python3"
  },
  "language_info": {
   "codemirror_mode": {
    "name": "ipython",
    "version": 3
   },
   "file_extension": ".py",
   "mimetype": "text/x-python",
   "name": "python",
   "nbconvert_exporter": "python",
   "pygments_lexer": "ipython3",
   "version": "3.11.11"
  }
 },
 "nbformat": 4,
 "nbformat_minor": 2
}
