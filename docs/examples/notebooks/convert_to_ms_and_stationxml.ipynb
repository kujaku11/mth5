{
 "cells": [
  {
   "cell_type": "markdown",
   "metadata": {},
   "source": [
    "# Convert MTH5 to miniseed"
   ]
  },
  {
   "cell_type": "code",
   "execution_count": 1,
   "metadata": {},
   "outputs": [],
   "source": [
    "from mth5.io.conversion import MTH5ToMiniSEEDStationXML"
   ]
  },
  {
   "cell_type": "code",
   "execution_count": null,
   "metadata": {},
   "outputs": [],
   "source": [
    "station_xml, ms_list = MTH5ToMiniSEEDStationXML.convert_mth5_to_ms_stationxml(\n",
    "    mth5_path=r\"c:\\Users\\jpeacock\\OneDrive - DOI\\MTData\\CL2021\\archive\\cl008.h5\",\n",
    "    save_path=r\"c:\\Users\\jpeacock\\OneDrive - DOI\\MTData\\CL2021\\archive\\to_dmc\",\n",
    "    network_code=\"1Z\",\n",
    "    encoding=\"INT32\",\n",
    ")"
   ]
  },
  {
   "cell_type": "code",
   "execution_count": 3,
   "metadata": {},
   "outputs": [
    {
     "data": {
      "text/plain": [
       "[WindowsPath('c:/Users/jpeacock/OneDrive - DOI/MTData/CL2021/archive/to_dmc/Clearlake2022_CL008_sr1_0001.mseed'),\n",
       " WindowsPath('c:/Users/jpeacock/OneDrive - DOI/MTData/CL2021/archive/to_dmc/Clearlake2022_CL008_sr256_0001.mseed'),\n",
       " WindowsPath('c:/Users/jpeacock/OneDrive - DOI/MTData/CL2021/archive/to_dmc/Clearlake2022_CL008_sr4096_0002.mseed'),\n",
       " WindowsPath('c:/Users/jpeacock/OneDrive - DOI/MTData/CL2021/archive/to_dmc/Clearlake2022_CL008_sr256_0003.mseed'),\n",
       " WindowsPath('c:/Users/jpeacock/OneDrive - DOI/MTData/CL2021/archive/to_dmc/Clearlake2022_CL008_sr4096_0004.mseed'),\n",
       " WindowsPath('c:/Users/jpeacock/OneDrive - DOI/MTData/CL2021/archive/to_dmc/Clearlake2022_CL008_sr256_0005.mseed'),\n",
       " WindowsPath('c:/Users/jpeacock/OneDrive - DOI/MTData/CL2021/archive/to_dmc/Clearlake2022_CL008_sr4096_0006.mseed'),\n",
       " WindowsPath('c:/Users/jpeacock/OneDrive - DOI/MTData/CL2021/archive/to_dmc/Clearlake2022_CL008_sr256_0007.mseed'),\n",
       " WindowsPath('c:/Users/jpeacock/OneDrive - DOI/MTData/CL2021/archive/to_dmc/Clearlake2022_CL008_sr4096_0008.mseed'),\n",
       " WindowsPath('c:/Users/jpeacock/OneDrive - DOI/MTData/CL2021/archive/to_dmc/Clearlake2022_CL008_sr256_0009.mseed')]"
      ]
     },
     "execution_count": 3,
     "metadata": {},
     "output_type": "execute_result"
    }
   ],
   "source": [
    "ms_list"
   ]
  },
  {
   "cell_type": "code",
   "execution_count": null,
   "metadata": {},
   "outputs": [],
   "source": [
    "# Certainly! Splitting MiniSEED files by day using ObsPy is a common task for seismologists. Below is a Python script that demonstrates how to achieve this:\n",
    "\n",
    "from pathlib import Path\n",
    "from obspy import read\n",
    "from obspy.core import UTCDateTime\n",
    "import datetime\n",
    "\n",
    "\n",
    "def split_miniseed_by_day(input_file):\n",
    "    save_path = Path(input_file).parent\n",
    "    # Read the MiniSEED file\n",
    "    st = read(input_file)\n",
    "\n",
    "    tr_list = []\n",
    "    # Iterate over each trace in the stream\n",
    "    for tr in st:\n",
    "        start_time = tr.stats.starttime\n",
    "        end_time = tr.stats.endtime\n",
    "\n",
    "        # Split the trace by day\n",
    "        current_time = start_time\n",
    "        while current_time < end_time:\n",
    "            next_day = UTCDateTime(current_time.date + datetime.timedelta(days=1))\n",
    "            if next_day > end_time:\n",
    "                next_day = end_time\n",
    "\n",
    "            # Slice the trace for the current day\n",
    "            tr_day = tr.slice(current_time, next_day)\n",
    "\n",
    "            # Generate the output file name\n",
    "            output_file = save_path.joinpath(\n",
    "                f\"{tr.stats.network}_{tr.stats.station}_{tr.stats.location}_{tr.stats.channel}_{current_time.date.replace(\"-\", \"_\")}T{current_time.time.replace(\":\", \"_\")}.mseed\"\n",
    "            )\n",
    "\n",
    "            # Write the sliced trace to a new MiniSEED file\n",
    "            tr_day.write(output_file, format=\"MSEED\")\n",
    "\n",
    "            # Move to the next day\n",
    "            current_time = next_day\n",
    "\n",
    "\n",
    "# Example usage\n",
    "\n",
    "\n",
    "# Explanation:\n",
    "# Reading the MiniSEED File: The script starts by reading the MiniSEED file using obspy.read().\n",
    "# Creating Output Directory: It ensures the output directory exists or creates it if it doesn't.\n",
    "# Iterating Over Traces: It iterates over each trace in the stream.\n",
    "# Splitting by Day: For each trace, it slices the data into daily segments.\n",
    "# Writing Output Files: Each daily segment is written to a new MiniSEED file with a filename that includes the date.\n",
    "\n",
    "# This script should help you split your MiniSEED files by day efficiently. If you have any further questions or need additional customization, feel free to ask!"
   ]
  },
  {
   "cell_type": "code",
   "execution_count": 5,
   "metadata": {},
   "outputs": [],
   "source": [
    "split_miniseed_by_day(r\"c:\\Users\\jpeacock\\OneDrive - DOI\\MTData\\CL2021\\archive\\to_dmc\\Clearlake2022_cl008_sr1_0001.mseed\")"
   ]
  },
  {
   "cell_type": "code",
   "execution_count": 8,
   "metadata": {},
   "outputs": [
    {
     "ename": "FileNotFoundError",
     "evalue": "[Errno 2] No such file or directory: 'c:\\\\Users\\\\jpeacock\\\\OneDrive - DOI\\\\MTData\\\\CL2021\\\\archive\\\\to_dmc\\\\Clearlake2022_CL008_sr256_0001.mseed'",
     "output_type": "error",
     "traceback": [
      "\u001b[1;31m---------------------------------------------------------------------------\u001b[0m",
      "\u001b[1;31mFileNotFoundError\u001b[0m                         Traceback (most recent call last)",
      "Cell \u001b[1;32mIn[8], line 1\u001b[0m\n\u001b[1;32m----> 1\u001b[0m \u001b[43msplit_miniseed_by_day\u001b[49m\u001b[43m(\u001b[49m\u001b[38;5;124;43mr\u001b[39;49m\u001b[38;5;124;43m\"\u001b[39;49m\u001b[38;5;124;43mc:\u001b[39;49m\u001b[38;5;124;43m\\\u001b[39;49m\u001b[38;5;124;43mUsers\u001b[39;49m\u001b[38;5;124;43m\\\u001b[39;49m\u001b[38;5;124;43mjpeacock\u001b[39;49m\u001b[38;5;124;43m\\\u001b[39;49m\u001b[38;5;124;43mOneDrive - DOI\u001b[39;49m\u001b[38;5;124;43m\\\u001b[39;49m\u001b[38;5;124;43mMTData\u001b[39;49m\u001b[38;5;124;43m\\\u001b[39;49m\u001b[38;5;124;43mCL2021\u001b[39;49m\u001b[38;5;124;43m\\\u001b[39;49m\u001b[38;5;124;43marchive\u001b[39;49m\u001b[38;5;124;43m\\\u001b[39;49m\u001b[38;5;124;43mto_dmc\u001b[39;49m\u001b[38;5;124;43m\\\u001b[39;49m\u001b[38;5;124;43mClearlake2022_CL008_sr256_0001.mseed\u001b[39;49m\u001b[38;5;124;43m\"\u001b[39;49m\u001b[43m)\u001b[49m\n",
      "Cell \u001b[1;32mIn[3], line 12\u001b[0m, in \u001b[0;36msplit_miniseed_by_day\u001b[1;34m(input_file)\u001b[0m\n\u001b[0;32m     10\u001b[0m save_path \u001b[38;5;241m=\u001b[39m Path(input_file)\u001b[38;5;241m.\u001b[39mparent\n\u001b[0;32m     11\u001b[0m \u001b[38;5;66;03m# Read the MiniSEED file\u001b[39;00m\n\u001b[1;32m---> 12\u001b[0m st \u001b[38;5;241m=\u001b[39m \u001b[43mread\u001b[49m\u001b[43m(\u001b[49m\u001b[43minput_file\u001b[49m\u001b[43m)\u001b[49m\n\u001b[0;32m     14\u001b[0m tr_list \u001b[38;5;241m=\u001b[39m []\n\u001b[0;32m     15\u001b[0m \u001b[38;5;66;03m# Iterate over each trace in the stream\u001b[39;00m\n",
      "File \u001b[1;32mc:\\Users\\jpeacock\\AppData\\Local\\miniforge3\\envs\\py311\\Lib\\site-packages\\decorator.py:232\u001b[0m, in \u001b[0;36mdecorate.<locals>.fun\u001b[1;34m(*args, **kw)\u001b[0m\n\u001b[0;32m    230\u001b[0m \u001b[38;5;28;01mif\u001b[39;00m \u001b[38;5;129;01mnot\u001b[39;00m kwsyntax:\n\u001b[0;32m    231\u001b[0m     args, kw \u001b[38;5;241m=\u001b[39m fix(args, kw, sig)\n\u001b[1;32m--> 232\u001b[0m \u001b[38;5;28;01mreturn\u001b[39;00m \u001b[43mcaller\u001b[49m\u001b[43m(\u001b[49m\u001b[43mfunc\u001b[49m\u001b[43m,\u001b[49m\u001b[43m \u001b[49m\u001b[38;5;241;43m*\u001b[39;49m\u001b[43m(\u001b[49m\u001b[43mextras\u001b[49m\u001b[43m \u001b[49m\u001b[38;5;241;43m+\u001b[39;49m\u001b[43m \u001b[49m\u001b[43margs\u001b[49m\u001b[43m)\u001b[49m\u001b[43m,\u001b[49m\u001b[43m \u001b[49m\u001b[38;5;241;43m*\u001b[39;49m\u001b[38;5;241;43m*\u001b[39;49m\u001b[43mkw\u001b[49m\u001b[43m)\u001b[49m\n",
      "File \u001b[1;32mc:\\Users\\jpeacock\\AppData\\Local\\miniforge3\\envs\\py311\\Lib\\site-packages\\obspy\\core\\util\\decorator.py:297\u001b[0m, in \u001b[0;36mmap_example_filename.<locals>._map_example_filename\u001b[1;34m(func, *args, **kwargs)\u001b[0m\n\u001b[0;32m    295\u001b[0m                 \u001b[38;5;28;01mexcept\u001b[39;00m \u001b[38;5;167;01mIOError\u001b[39;00m:\n\u001b[0;32m    296\u001b[0m                     \u001b[38;5;28;01mpass\u001b[39;00m\n\u001b[1;32m--> 297\u001b[0m \u001b[38;5;28;01mreturn\u001b[39;00m \u001b[43mfunc\u001b[49m\u001b[43m(\u001b[49m\u001b[38;5;241;43m*\u001b[39;49m\u001b[43margs\u001b[49m\u001b[43m,\u001b[49m\u001b[43m \u001b[49m\u001b[38;5;241;43m*\u001b[39;49m\u001b[38;5;241;43m*\u001b[39;49m\u001b[43mkwargs\u001b[49m\u001b[43m)\u001b[49m\n",
      "File \u001b[1;32mc:\\Users\\jpeacock\\AppData\\Local\\miniforge3\\envs\\py311\\Lib\\site-packages\\obspy\\core\\stream.py:208\u001b[0m, in \u001b[0;36mread\u001b[1;34m(pathname_or_url, format, headonly, starttime, endtime, nearest_sample, dtype, apply_calib, check_compression, **kwargs)\u001b[0m\n\u001b[0;32m    206\u001b[0m     st \u001b[38;5;241m=\u001b[39m _create_example_stream(headonly\u001b[38;5;241m=\u001b[39mheadonly)\n\u001b[0;32m    207\u001b[0m \u001b[38;5;28;01melse\u001b[39;00m:\n\u001b[1;32m--> 208\u001b[0m     st \u001b[38;5;241m=\u001b[39m \u001b[43m_generic_reader\u001b[49m\u001b[43m(\u001b[49m\u001b[43mpathname_or_url\u001b[49m\u001b[43m,\u001b[49m\u001b[43m \u001b[49m\u001b[43m_read\u001b[49m\u001b[43m,\u001b[49m\u001b[43m \u001b[49m\u001b[38;5;241;43m*\u001b[39;49m\u001b[38;5;241;43m*\u001b[39;49m\u001b[43mkwargs\u001b[49m\u001b[43m)\u001b[49m\n\u001b[0;32m    210\u001b[0m \u001b[38;5;28;01mif\u001b[39;00m \u001b[38;5;28mlen\u001b[39m(st) \u001b[38;5;241m==\u001b[39m \u001b[38;5;241m0\u001b[39m:\n\u001b[0;32m    211\u001b[0m     \u001b[38;5;28;01mif\u001b[39;00m \u001b[38;5;28misinstance\u001b[39m(pathname_or_url, Path):\n",
      "File \u001b[1;32mc:\\Users\\jpeacock\\AppData\\Local\\miniforge3\\envs\\py311\\Lib\\site-packages\\obspy\\core\\util\\base.py:656\u001b[0m, in \u001b[0;36m_generic_reader\u001b[1;34m(pathname_or_url, callback_func, **kwargs)\u001b[0m\n\u001b[0;32m    654\u001b[0m         \u001b[38;5;28;01mraise\u001b[39;00m \u001b[38;5;167;01mException\u001b[39;00m(\u001b[38;5;124m\"\u001b[39m\u001b[38;5;124mNo file matching file pattern: \u001b[39m\u001b[38;5;132;01m%s\u001b[39;00m\u001b[38;5;124m\"\u001b[39m \u001b[38;5;241m%\u001b[39m pathname)\n\u001b[0;32m    655\u001b[0m     \u001b[38;5;28;01melif\u001b[39;00m \u001b[38;5;129;01mnot\u001b[39;00m glob\u001b[38;5;241m.\u001b[39mhas_magic(pathname) \u001b[38;5;129;01mand\u001b[39;00m \u001b[38;5;129;01mnot\u001b[39;00m Path(pathname)\u001b[38;5;241m.\u001b[39mis_file():\n\u001b[1;32m--> 656\u001b[0m         \u001b[38;5;28;01mraise\u001b[39;00m \u001b[38;5;167;01mIOError\u001b[39;00m(\u001b[38;5;241m2\u001b[39m, \u001b[38;5;124m\"\u001b[39m\u001b[38;5;124mNo such file or directory\u001b[39m\u001b[38;5;124m\"\u001b[39m, pathname)\n\u001b[0;32m    658\u001b[0m generic \u001b[38;5;241m=\u001b[39m callback_func(pathnames[\u001b[38;5;241m0\u001b[39m], \u001b[38;5;241m*\u001b[39m\u001b[38;5;241m*\u001b[39mkwargs)\n\u001b[0;32m    659\u001b[0m \u001b[38;5;28;01mif\u001b[39;00m \u001b[38;5;28mlen\u001b[39m(pathnames) \u001b[38;5;241m>\u001b[39m \u001b[38;5;241m1\u001b[39m:\n",
      "\u001b[1;31mFileNotFoundError\u001b[0m: [Errno 2] No such file or directory: 'c:\\\\Users\\\\jpeacock\\\\OneDrive - DOI\\\\MTData\\\\CL2021\\\\archive\\\\to_dmc\\\\Clearlake2022_CL008_sr256_0001.mseed'"
     ]
    }
   ],
   "source": [
    "split_miniseed_by_day(r\"c:\\Users\\jpeacock\\OneDrive - DOI\\MTData\\CL2021\\archive\\to_dmc\\Clearlake2022_CL008_sr256_0001.mseed\")"
   ]
  },
  {
   "cell_type": "code",
   "execution_count": null,
   "metadata": {},
   "outputs": [],
   "source": []
  }
 ],
 "metadata": {
  "kernelspec": {
   "display_name": "py311",
   "language": "python",
   "name": "python3"
  },
  "language_info": {
   "codemirror_mode": {
    "name": "ipython",
    "version": 3
   },
   "file_extension": ".py",
   "mimetype": "text/x-python",
   "name": "python",
   "nbconvert_exporter": "python",
   "pygments_lexer": "ipython3",
   "version": "3.11.11"
  }
 },
 "nbformat": 4,
 "nbformat_minor": 2
}
