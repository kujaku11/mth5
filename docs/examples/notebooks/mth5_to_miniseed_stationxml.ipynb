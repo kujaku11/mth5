{
 "cells": [
  {
   "cell_type": "markdown",
   "metadata": {},
   "source": [
    "# MTH5 to StationXML and miniseed"
   ]
  },
  {
   "cell_type": "code",
   "execution_count": 1,
   "metadata": {},
   "outputs": [],
   "source": [
    "from pathlib import Path\n",
    "from mth5.mth5 import MTH5\n",
    "from mt_metadata.timeseries.stationxml import XMLInventoryMTExperiment"
   ]
  },
  {
   "cell_type": "code",
   "execution_count": 2,
   "metadata": {},
   "outputs": [],
   "source": [
    "network_code = \"8P\""
   ]
  },
  {
   "cell_type": "code",
   "execution_count": 3,
   "metadata": {},
   "outputs": [],
   "source": [
    "h5_path = Path(r\"c:\\Users\\jpeacock\\OneDrive - DOI\\MTData\\CL2021\\archive\\cl008.h5\")"
   ]
  },
  {
   "cell_type": "code",
   "execution_count": 4,
   "metadata": {},
   "outputs": [
    {
     "name": "stdout",
     "output_type": "stream",
     "text": [
      "\u001b[1m2025-03-12T16:34:22.820573-0700 | INFO | mth5.timeseries.run_ts | _align_channels | Channels do not have a common end, using latest: 2021-04-30T18:59:43.996094000\u001b[0m\n",
      "\u001b[1m2025-03-12T16:41:39.933366-0700 | INFO | mth5.timeseries.run_ts | _align_channels | Channels do not have a common end, using latest: 2021-04-30T18:59:43.996094000\u001b[0m\n",
      "\u001b[1m2025-03-12T16:45:26.652452-0700 | INFO | mth5.timeseries.run_ts | _align_channels | Channels do not have a common end, using latest: 2021-04-30T19:09:43.998779296\u001b[0m\n",
      "\u001b[33m\u001b[1m2025-03-12T16:45:29.865338-0700 | WARNING | mth5.timeseries.run_ts | validate_metadata | end time of dataset 2021-04-30T19:09:43.998535156+00:00 does not match metadata end 2021-04-30T19:09:43.998779296+00:00 updating metatdata value to 2021-04-30T19:09:43.998535156+00:00\u001b[0m\n",
      "\u001b[1m2025-03-12T16:45:46.125043-0700 | INFO | mth5.timeseries.run_ts | _align_channels | Channels do not have a common end, using latest: 2021-05-01T00:59:43.996094000\u001b[0m\n",
      "\u001b[1m2025-03-12T16:46:03.233567-0700 | INFO | mth5.timeseries.run_ts | _align_channels | Channels do not have a common end, using latest: 2021-05-01T01:09:43.997803000\u001b[0m\n",
      "\u001b[1m2025-03-12T16:46:21.448086-0700 | INFO | mth5.timeseries.run_ts | _align_channels | Channels do not have a common end, using latest: 2021-05-01T06:59:43.996094000\u001b[0m\n",
      "\u001b[1m2025-03-12T16:46:37.340199-0700 | INFO | mth5.timeseries.run_ts | _align_channels | Channels do not have a common end, using latest: 2021-05-01T07:09:43.999512000\u001b[0m\n",
      "\u001b[1m2025-03-12T16:46:52.480318-0700 | INFO | mth5.timeseries.run_ts | _align_channels | Channels do not have a common end, using latest: 2021-05-01T12:59:43.996094000\u001b[0m\n",
      "\u001b[1m2025-03-12T16:47:07.227725-0700 | INFO | mth5.timeseries.run_ts | _align_channels | Channels do not have a common end, using latest: 2021-05-01T13:09:43.998535156\u001b[0m\n",
      "\u001b[33m\u001b[1m2025-03-12T16:47:10.014537-0700 | WARNING | mth5.timeseries.run_ts | validate_metadata | end time of dataset 2021-05-01T13:09:43.998291015+00:00 does not match metadata end 2021-05-01T13:09:43.998535156+00:00 updating metatdata value to 2021-05-01T13:09:43.998291015+00:00\u001b[0m\n",
      "\u001b[1m2025-03-12T16:47:21.705685-0700 | INFO | mth5.timeseries.run_ts | _align_channels | Channels do not have a common end, using latest: 2021-05-01T15:13:34.996094000\u001b[0m\n",
      "\u001b[1m2025-03-12T16:47:25.689825-0700 | INFO | mth5.mth5 | close_mth5 | Flushing and closing c:\\Users\\jpeacock\\OneDrive - DOI\\MTData\\CL2021\\archive\\cl008.h5\u001b[0m\n"
     ]
    }
   ],
   "source": [
    "with MTH5() as m:\n",
    "    m.open_mth5(h5_path)\n",
    "    experiment = m.to_experiment()\n",
    "    stream_list = []\n",
    "    for row in m.run_summary.itertuples():\n",
    "        if row.has_data:\n",
    "            run_ts = m.from_reference(row.run_hdf5_reference).to_runts()\n",
    "            stream_list.append(run_ts.to_obspy_stream(network_code=network_code))"
   ]
  },
  {
   "cell_type": "code",
   "execution_count": 5,
   "metadata": {},
   "outputs": [
    {
     "data": {
      "text/plain": [
       "[5 Trace(s) in Stream:\n",
       "8P.cl008..LQN | 2021-04-30T16:19:59.000000Z - 2021-05-01T15:13:34.000000Z | 1.0 Hz, 82416 samples\n",
       "8P.cl008..LQE | 2021-04-30T16:19:59.000000Z - 2021-05-01T15:13:34.000000Z | 1.0 Hz, 82416 samples\n",
       "8P.cl008..LFN | 2021-04-30T16:19:59.000000Z - 2021-05-01T15:13:34.000000Z | 1.0 Hz, 82416 samples\n",
       "8P.cl008..LFE | 2021-04-30T16:19:59.000000Z - 2021-05-01T15:13:34.000000Z | 1.0 Hz, 82416 samples\n",
       "8P.cl008..LFZ | 2021-04-30T16:19:59.000000Z - 2021-05-01T15:13:34.000000Z | 1.0 Hz, 82416 samples,\n",
       " 5 Trace(s) in Stream:\n",
       "8P.cl008..CQN | 2021-04-30T16:19:59.000000Z - 2021-04-30T18:59:43.996094Z | 256.0 Hz, 2453760 samples\n",
       "8P.cl008..CQE | 2021-04-30T16:19:59.000000Z - 2021-04-30T18:59:43.996094Z | 256.0 Hz, 2453760 samples\n",
       "8P.cl008..CFN | 2021-04-30T16:19:59.000000Z - 2021-04-30T18:59:43.996094Z | 256.0 Hz, 2453760 samples\n",
       "8P.cl008..CFE | 2021-04-30T16:19:59.000000Z - 2021-04-30T18:59:43.996094Z | 256.0 Hz, 2453760 samples\n",
       "8P.cl008..CFZ | 2021-04-30T16:19:59.000000Z - 2021-04-30T18:59:43.996094Z | 256.0 Hz, 2453760 samples,\n",
       " 5 Trace(s) in Stream:\n",
       "8P.cl008..FQN | 2021-04-30T18:59:59.000000Z - 2021-04-30T19:09:43.998535Z | 4096.0 Hz, 2396155 samples\n",
       "8P.cl008..FQE | 2021-04-30T18:59:59.000000Z - 2021-04-30T19:09:43.998535Z | 4096.0 Hz, 2396155 samples\n",
       "8P.cl008..FFN | 2021-04-30T18:59:59.000000Z - 2021-04-30T19:09:43.998535Z | 4096.0 Hz, 2396155 samples\n",
       "8P.cl008..FFE | 2021-04-30T18:59:59.000000Z - 2021-04-30T19:09:43.998535Z | 4096.0 Hz, 2396155 samples\n",
       "8P.cl008..FFZ | 2021-04-30T18:59:59.000000Z - 2021-04-30T19:09:43.998535Z | 4096.0 Hz, 2396155 samples,\n",
       " 5 Trace(s) in Stream:\n",
       "8P.cl008..CQN | 2021-04-30T19:09:59.000000Z - 2021-05-01T00:59:43.996094Z | 256.0 Hz, 5372160 samples\n",
       "8P.cl008..CQE | 2021-04-30T19:09:59.000000Z - 2021-05-01T00:59:43.996094Z | 256.0 Hz, 5372160 samples\n",
       "8P.cl008..CFN | 2021-04-30T19:09:59.000000Z - 2021-05-01T00:59:43.996094Z | 256.0 Hz, 5372160 samples\n",
       "8P.cl008..CFE | 2021-04-30T19:09:59.000000Z - 2021-05-01T00:59:43.996094Z | 256.0 Hz, 5372160 samples\n",
       "8P.cl008..CFZ | 2021-04-30T19:09:59.000000Z - 2021-05-01T00:59:43.996094Z | 256.0 Hz, 5372160 samples,\n",
       " 5 Trace(s) in Stream:\n",
       "8P.cl008..FQN | 2021-05-01T00:59:59.000000Z - 2021-05-01T01:09:43.997803Z | 4096.0 Hz, 2396152 samples\n",
       "8P.cl008..FQE | 2021-05-01T00:59:59.000000Z - 2021-05-01T01:09:43.997803Z | 4096.0 Hz, 2396152 samples\n",
       "8P.cl008..FFN | 2021-05-01T00:59:59.000000Z - 2021-05-01T01:09:43.997803Z | 4096.0 Hz, 2396152 samples\n",
       "8P.cl008..FFE | 2021-05-01T00:59:59.000000Z - 2021-05-01T01:09:43.997803Z | 4096.0 Hz, 2396152 samples\n",
       "8P.cl008..FFZ | 2021-05-01T00:59:59.000000Z - 2021-05-01T01:09:43.997803Z | 4096.0 Hz, 2396152 samples,\n",
       " 5 Trace(s) in Stream:\n",
       "8P.cl008..CQN | 2021-05-01T01:09:59.000000Z - 2021-05-01T06:59:43.996094Z | 256.0 Hz, 5372160 samples\n",
       "8P.cl008..CQE | 2021-05-01T01:09:59.000000Z - 2021-05-01T06:59:43.996094Z | 256.0 Hz, 5372160 samples\n",
       "8P.cl008..CFN | 2021-05-01T01:09:59.000000Z - 2021-05-01T06:59:43.996094Z | 256.0 Hz, 5372160 samples\n",
       "8P.cl008..CFE | 2021-05-01T01:09:59.000000Z - 2021-05-01T06:59:43.996094Z | 256.0 Hz, 5372160 samples\n",
       "8P.cl008..CFZ | 2021-05-01T01:09:59.000000Z - 2021-05-01T06:59:43.996094Z | 256.0 Hz, 5372160 samples,\n",
       " 5 Trace(s) in Stream:\n",
       "8P.cl008..FQN | 2021-05-01T06:59:59.000000Z - 2021-05-01T07:09:43.999512Z | 4096.0 Hz, 2396159 samples\n",
       "8P.cl008..FQE | 2021-05-01T06:59:59.000000Z - 2021-05-01T07:09:43.999512Z | 4096.0 Hz, 2396159 samples\n",
       "8P.cl008..FFN | 2021-05-01T06:59:59.000000Z - 2021-05-01T07:09:43.999512Z | 4096.0 Hz, 2396159 samples\n",
       "8P.cl008..FFE | 2021-05-01T06:59:59.000000Z - 2021-05-01T07:09:43.999512Z | 4096.0 Hz, 2396159 samples\n",
       "8P.cl008..FFZ | 2021-05-01T06:59:59.000000Z - 2021-05-01T07:09:43.999512Z | 4096.0 Hz, 2396159 samples,\n",
       " 5 Trace(s) in Stream:\n",
       "8P.cl008..CQN | 2021-05-01T07:09:59.000000Z - 2021-05-01T12:59:43.996094Z | 256.0 Hz, 5372160 samples\n",
       "8P.cl008..CQE | 2021-05-01T07:09:59.000000Z - 2021-05-01T12:59:43.996094Z | 256.0 Hz, 5372160 samples\n",
       "8P.cl008..CFN | 2021-05-01T07:09:59.000000Z - 2021-05-01T12:59:43.996094Z | 256.0 Hz, 5372160 samples\n",
       "8P.cl008..CFE | 2021-05-01T07:09:59.000000Z - 2021-05-01T12:59:43.996094Z | 256.0 Hz, 5372160 samples\n",
       "8P.cl008..CFZ | 2021-05-01T07:09:59.000000Z - 2021-05-01T12:59:43.996094Z | 256.0 Hz, 5372160 samples,\n",
       " 5 Trace(s) in Stream:\n",
       "8P.cl008..FQN | 2021-05-01T12:59:59.000000Z - 2021-05-01T13:09:43.998291Z | 4096.0 Hz, 2396154 samples\n",
       "8P.cl008..FQE | 2021-05-01T12:59:59.000000Z - 2021-05-01T13:09:43.998291Z | 4096.0 Hz, 2396154 samples\n",
       "8P.cl008..FFN | 2021-05-01T12:59:59.000000Z - 2021-05-01T13:09:43.998291Z | 4096.0 Hz, 2396154 samples\n",
       "8P.cl008..FFE | 2021-05-01T12:59:59.000000Z - 2021-05-01T13:09:43.998291Z | 4096.0 Hz, 2396154 samples\n",
       "8P.cl008..FFZ | 2021-05-01T12:59:59.000000Z - 2021-05-01T13:09:43.998291Z | 4096.0 Hz, 2396154 samples,\n",
       " 5 Trace(s) in Stream:\n",
       "8P.cl008..CQN | 2021-05-01T13:09:59.000000Z - 2021-05-01T15:13:34.996094Z | 256.0 Hz, 1898496 samples\n",
       "8P.cl008..CQE | 2021-05-01T13:09:59.000000Z - 2021-05-01T15:13:34.996094Z | 256.0 Hz, 1898496 samples\n",
       "8P.cl008..CFN | 2021-05-01T13:09:59.000000Z - 2021-05-01T15:13:34.996094Z | 256.0 Hz, 1898496 samples\n",
       "8P.cl008..CFE | 2021-05-01T13:09:59.000000Z - 2021-05-01T15:13:34.996094Z | 256.0 Hz, 1898496 samples\n",
       "8P.cl008..CFZ | 2021-05-01T13:09:59.000000Z - 2021-05-01T15:13:34.996094Z | 256.0 Hz, 1898496 samples]"
      ]
     },
     "execution_count": 5,
     "metadata": {},
     "output_type": "execute_result"
    }
   ],
   "source": [
    "stream_list"
   ]
  },
  {
   "cell_type": "code",
   "execution_count": null,
   "metadata": {},
   "outputs": [
    {
     "data": {
      "text/plain": [
       "array([26370590., 26385844., 26417756., ..., 27133124., 27163860.,\n",
       "             nan])"
      ]
     },
     "execution_count": 10,
     "metadata": {},
     "output_type": "execute_result"
    }
   ],
   "source": [
    "m.h5_is_read"
   ]
  },
  {
   "cell_type": "code",
   "execution_count": 8,
   "metadata": {},
   "outputs": [
    {
     "name": "stderr",
     "output_type": "stream",
     "text": [
      "c:\\Users\\jpeacock\\AppData\\Local\\miniforge3\\envs\\py311\\Lib\\site-packages\\obspy\\io\\mseed\\core.py:824: UserWarning: File will be written with more than one different encodings.\n",
      "This might have a negative influence on the compatibility with other programs.\n",
      "  warnings.warn(msg % 'encodings')\n"
     ]
    }
   ],
   "source": [
    "s1.write(h5_path.parent.joinpath(\"s1_test.mseed\"), format=\"MSEED\", reclen=256)"
   ]
  },
  {
   "cell_type": "code",
   "execution_count": 11,
   "metadata": {},
   "outputs": [],
   "source": [
    "experiment.surveys[0].fdsn.network = network_code\n",
    "\n",
    "translator = XMLInventoryMTExperiment()\n",
    "stationxml = translator.mt_to_xml(\n",
    "    experiment, stationxml_fn=h5_path.parent.joinpath(\"test_cl008.xml\")\n",
    ")"
   ]
  },
  {
   "cell_type": "code",
   "execution_count": 8,
   "metadata": {},
   "outputs": [],
   "source": [
    "import pandas as pd\n",
    "\n",
    "df = pd.read_csv(r\"c:\\Users\\jpeacock\\OneDrive - DOI\\MTData\\CL2021\\survey_summary.csv\")"
   ]
  },
  {
   "cell_type": "code",
   "execution_count": 24,
   "metadata": {},
   "outputs": [
    {
     "name": "stdout",
     "output_type": "stream",
     "text": [
      "\u001b[1m2025-03-06T14:59:05.702589-0800 | INFO | mth5.mth5 | close_mth5 | Flushing and closing c:\\Users\\jpeacock\\OneDrive - DOI\\MTData\\CL2021\\archive\\cl008.h5\u001b[0m\n",
      "\u001b[1m2025-03-06T14:59:09.948523-0800 | INFO | mth5.mth5 | close_mth5 | Flushing and closing c:\\Users\\jpeacock\\OneDrive - DOI\\MTData\\CL2021\\archive\\cl016.h5\u001b[0m\n",
      "\u001b[1m2025-03-06T14:59:13.904538-0800 | INFO | mth5.mth5 | close_mth5 | Flushing and closing c:\\Users\\jpeacock\\OneDrive - DOI\\MTData\\CL2021\\archive\\cl017.h5\u001b[0m\n",
      "\u001b[1m2025-03-06T14:59:16.925630-0800 | INFO | mth5.mth5 | close_mth5 | Flushing and closing c:\\Users\\jpeacock\\OneDrive - DOI\\MTData\\CL2021\\archive\\cl024.h5\u001b[0m\n",
      "\u001b[1m2025-03-06T14:59:20.455742-0800 | INFO | mth5.mth5 | close_mth5 | Flushing and closing c:\\Users\\jpeacock\\OneDrive - DOI\\MTData\\CL2021\\archive\\cl028.h5\u001b[0m\n",
      "\u001b[1m2025-03-06T14:59:23.396660-0800 | INFO | mth5.mth5 | close_mth5 | Flushing and closing c:\\Users\\jpeacock\\OneDrive - DOI\\MTData\\CL2021\\archive\\cl029.h5\u001b[0m\n",
      "\u001b[1m2025-03-06T14:59:26.479024-0800 | INFO | mth5.mth5 | close_mth5 | Flushing and closing c:\\Users\\jpeacock\\OneDrive - DOI\\MTData\\CL2021\\archive\\cl031.h5\u001b[0m\n",
      "\u001b[1m2025-03-06T14:59:29.736857-0800 | INFO | mth5.mth5 | close_mth5 | Flushing and closing c:\\Users\\jpeacock\\OneDrive - DOI\\MTData\\CL2021\\archive\\cl032.h5\u001b[0m\n",
      "\u001b[1m2025-03-06T14:59:32.441444-0800 | INFO | mth5.mth5 | close_mth5 | Flushing and closing c:\\Users\\jpeacock\\OneDrive - DOI\\MTData\\CL2021\\archive\\cl036.h5\u001b[0m\n",
      "\u001b[1m2025-03-06T14:59:34.657613-0800 | INFO | mth5.mth5 | close_mth5 | Flushing and closing c:\\Users\\jpeacock\\OneDrive - DOI\\MTData\\CL2021\\archive\\cl037.h5\u001b[0m\n",
      "\u001b[1m2025-03-06T14:59:37.860541-0800 | INFO | mth5.mth5 | close_mth5 | Flushing and closing c:\\Users\\jpeacock\\OneDrive - DOI\\MTData\\CL2021\\archive\\cl043.h5\u001b[0m\n",
      "\u001b[1m2025-03-06T14:59:41.463127-0800 | INFO | mth5.mth5 | close_mth5 | Flushing and closing c:\\Users\\jpeacock\\OneDrive - DOI\\MTData\\CL2021\\archive\\cl044.h5\u001b[0m\n",
      "\u001b[1m2025-03-06T14:59:44.532465-0800 | INFO | mth5.mth5 | close_mth5 | Flushing and closing c:\\Users\\jpeacock\\OneDrive - DOI\\MTData\\CL2021\\archive\\cl049.h5\u001b[0m\n",
      "\u001b[1m2025-03-06T14:59:47.918451-0800 | INFO | mth5.mth5 | close_mth5 | Flushing and closing c:\\Users\\jpeacock\\OneDrive - DOI\\MTData\\CL2021\\archive\\cl051.h5\u001b[0m\n",
      "\u001b[1m2025-03-06T14:59:51.304565-0800 | INFO | mth5.mth5 | close_mth5 | Flushing and closing c:\\Users\\jpeacock\\OneDrive - DOI\\MTData\\CL2021\\archive\\cl059.h5\u001b[0m\n",
      "\u001b[1m2025-03-06T14:59:54.540031-0800 | INFO | mth5.mth5 | close_mth5 | Flushing and closing c:\\Users\\jpeacock\\OneDrive - DOI\\MTData\\CL2021\\archive\\cl060.h5\u001b[0m\n",
      "\u001b[1m2025-03-06T14:59:58.193705-0800 | INFO | mth5.mth5 | close_mth5 | Flushing and closing c:\\Users\\jpeacock\\OneDrive - DOI\\MTData\\CL2021\\archive\\cl061.h5\u001b[0m\n",
      "\u001b[1m2025-03-06T15:00:01.112147-0800 | INFO | mth5.mth5 | close_mth5 | Flushing and closing c:\\Users\\jpeacock\\OneDrive - DOI\\MTData\\CL2021\\archive\\cl070.h5\u001b[0m\n",
      "\u001b[1m2025-03-06T15:00:04.218082-0800 | INFO | mth5.mth5 | close_mth5 | Flushing and closing c:\\Users\\jpeacock\\OneDrive - DOI\\MTData\\CL2021\\archive\\cl071.h5\u001b[0m\n",
      "\u001b[1m2025-03-06T15:00:07.968423-0800 | INFO | mth5.mth5 | close_mth5 | Flushing and closing c:\\Users\\jpeacock\\OneDrive - DOI\\MTData\\CL2021\\archive\\cl074.h5\u001b[0m\n",
      "\u001b[1m2025-03-06T15:00:11.054330-0800 | INFO | mth5.mth5 | close_mth5 | Flushing and closing c:\\Users\\jpeacock\\OneDrive - DOI\\MTData\\CL2021\\archive\\cl077.h5\u001b[0m\n",
      "\u001b[1m2025-03-06T15:00:14.056847-0800 | INFO | mth5.mth5 | close_mth5 | Flushing and closing c:\\Users\\jpeacock\\OneDrive - DOI\\MTData\\CL2021\\archive\\cl078.h5\u001b[0m\n",
      "\u001b[1m2025-03-06T15:00:16.792336-0800 | INFO | mth5.mth5 | close_mth5 | Flushing and closing c:\\Users\\jpeacock\\OneDrive - DOI\\MTData\\CL2021\\archive\\cl088.h5\u001b[0m\n",
      "\u001b[1m2025-03-06T15:00:19.711548-0800 | INFO | mth5.mth5 | close_mth5 | Flushing and closing c:\\Users\\jpeacock\\OneDrive - DOI\\MTData\\CL2021\\archive\\cl090.h5\u001b[0m\n",
      "\u001b[1m2025-03-06T15:00:22.397229-0800 | INFO | mth5.mth5 | close_mth5 | Flushing and closing c:\\Users\\jpeacock\\OneDrive - DOI\\MTData\\CL2021\\archive\\cl099.h5\u001b[0m\n",
      "\u001b[1m2025-03-06T15:00:25.449764-0800 | INFO | mth5.mth5 | close_mth5 | Flushing and closing c:\\Users\\jpeacock\\OneDrive - DOI\\MTData\\CL2021\\archive\\cl101.h5\u001b[0m\n",
      "\u001b[1m2025-03-06T15:00:28.335346-0800 | INFO | mth5.mth5 | close_mth5 | Flushing and closing c:\\Users\\jpeacock\\OneDrive - DOI\\MTData\\CL2021\\archive\\cl103.h5\u001b[0m\n",
      "\u001b[1m2025-03-06T15:00:31.654837-0800 | INFO | mth5.mth5 | close_mth5 | Flushing and closing c:\\Users\\jpeacock\\OneDrive - DOI\\MTData\\CL2021\\archive\\cl104.h5\u001b[0m\n",
      "\u001b[1m2025-03-06T15:00:34.559674-0800 | INFO | mth5.mth5 | close_mth5 | Flushing and closing c:\\Users\\jpeacock\\OneDrive - DOI\\MTData\\CL2021\\archive\\cl108.h5\u001b[0m\n",
      "\u001b[1m2025-03-06T15:00:37.458390-0800 | INFO | mth5.mth5 | close_mth5 | Flushing and closing c:\\Users\\jpeacock\\OneDrive - DOI\\MTData\\CL2021\\archive\\cl110.h5\u001b[0m\n",
      "\u001b[1m2025-03-06T15:00:40.968233-0800 | INFO | mth5.mth5 | close_mth5 | Flushing and closing c:\\Users\\jpeacock\\OneDrive - DOI\\MTData\\CL2021\\archive\\cl111.h5\u001b[0m\n",
      "\u001b[1m2025-03-06T15:00:44.270247-0800 | INFO | mth5.mth5 | close_mth5 | Flushing and closing c:\\Users\\jpeacock\\OneDrive - DOI\\MTData\\CL2021\\archive\\cl112.h5\u001b[0m\n",
      "\u001b[1m2025-03-06T15:00:46.979011-0800 | INFO | mth5.mth5 | close_mth5 | Flushing and closing c:\\Users\\jpeacock\\OneDrive - DOI\\MTData\\CL2021\\archive\\cl113.h5\u001b[0m\n",
      "\u001b[1m2025-03-06T15:00:49.793038-0800 | INFO | mth5.mth5 | close_mth5 | Flushing and closing c:\\Users\\jpeacock\\OneDrive - DOI\\MTData\\CL2021\\archive\\cl126.h5\u001b[0m\n",
      "\u001b[1m2025-03-06T15:00:52.607978-0800 | INFO | mth5.mth5 | close_mth5 | Flushing and closing c:\\Users\\jpeacock\\OneDrive - DOI\\MTData\\CL2021\\archive\\cl128.h5\u001b[0m\n",
      "\u001b[1m2025-03-06T15:00:55.472935-0800 | INFO | mth5.mth5 | close_mth5 | Flushing and closing c:\\Users\\jpeacock\\OneDrive - DOI\\MTData\\CL2021\\archive\\cl129.h5\u001b[0m\n",
      "\u001b[1m2025-03-06T15:00:58.409645-0800 | INFO | mth5.mth5 | close_mth5 | Flushing and closing c:\\Users\\jpeacock\\OneDrive - DOI\\MTData\\CL2021\\archive\\cl140.h5\u001b[0m\n",
      "\u001b[1m2025-03-06T15:01:01.179117-0800 | INFO | mth5.mth5 | close_mth5 | Flushing and closing c:\\Users\\jpeacock\\OneDrive - DOI\\MTData\\CL2021\\archive\\cl141.h5\u001b[0m\n",
      "\u001b[1m2025-03-06T15:01:04.672143-0800 | INFO | mth5.mth5 | close_mth5 | Flushing and closing c:\\Users\\jpeacock\\OneDrive - DOI\\MTData\\CL2021\\archive\\cl160.h5\u001b[0m\n",
      "\u001b[1m2025-03-06T15:01:07.582787-0800 | INFO | mth5.mth5 | close_mth5 | Flushing and closing c:\\Users\\jpeacock\\OneDrive - DOI\\MTData\\CL2021\\archive\\cl161.h5\u001b[0m\n",
      "\u001b[1m2025-03-06T15:01:10.606171-0800 | INFO | mth5.mth5 | close_mth5 | Flushing and closing c:\\Users\\jpeacock\\OneDrive - DOI\\MTData\\CL2021\\archive\\cl162.h5\u001b[0m\n",
      "\u001b[1m2025-03-06T15:01:13.355967-0800 | INFO | mth5.mth5 | close_mth5 | Flushing and closing c:\\Users\\jpeacock\\OneDrive - DOI\\MTData\\CL2021\\archive\\cl163.h5\u001b[0m\n",
      "\u001b[1m2025-03-06T15:01:16.942754-0800 | INFO | mth5.mth5 | close_mth5 | Flushing and closing c:\\Users\\jpeacock\\OneDrive - DOI\\MTData\\CL2021\\archive\\cl200.h5\u001b[0m\n",
      "\u001b[1m2025-03-06T15:01:20.528599-0800 | INFO | mth5.mth5 | close_mth5 | Flushing and closing c:\\Users\\jpeacock\\OneDrive - DOI\\MTData\\CL2021\\archive\\cl201.h5\u001b[0m\n",
      "\u001b[1m2025-03-06T15:01:23.679963-0800 | INFO | mth5.mth5 | close_mth5 | Flushing and closing c:\\Users\\jpeacock\\OneDrive - DOI\\MTData\\CL2021\\archive\\cl203.h5\u001b[0m\n",
      "\u001b[1m2025-03-06T15:01:26.517257-0800 | INFO | mth5.mth5 | close_mth5 | Flushing and closing c:\\Users\\jpeacock\\OneDrive - DOI\\MTData\\CL2021\\archive\\cl204.h5\u001b[0m\n",
      "\u001b[1m2025-03-06T15:01:29.319195-0800 | INFO | mth5.mth5 | close_mth5 | Flushing and closing c:\\Users\\jpeacock\\OneDrive - DOI\\MTData\\CL2021\\archive\\cl205.h5\u001b[0m\n",
      "\u001b[1m2025-03-06T15:01:32.371682-0800 | INFO | mth5.mth5 | close_mth5 | Flushing and closing c:\\Users\\jpeacock\\OneDrive - DOI\\MTData\\CL2021\\archive\\cl207.h5\u001b[0m\n",
      "\u001b[1m2025-03-06T15:01:35.373526-0800 | INFO | mth5.mth5 | close_mth5 | Flushing and closing c:\\Users\\jpeacock\\OneDrive - DOI\\MTData\\CL2021\\archive\\cl208.h5\u001b[0m\n",
      "\u001b[1m2025-03-06T15:01:38.293204-0800 | INFO | mth5.mth5 | close_mth5 | Flushing and closing c:\\Users\\jpeacock\\OneDrive - DOI\\MTData\\CL2021\\archive\\cl211.h5\u001b[0m\n",
      "\u001b[1m2025-03-06T15:01:41.394645-0800 | INFO | mth5.mth5 | close_mth5 | Flushing and closing c:\\Users\\jpeacock\\OneDrive - DOI\\MTData\\CL2021\\archive\\cl221.h5\u001b[0m\n",
      "\u001b[1m2025-03-06T15:01:44.356893-0800 | INFO | mth5.mth5 | close_mth5 | Flushing and closing c:\\Users\\jpeacock\\OneDrive - DOI\\MTData\\CL2021\\archive\\cl230.h5\u001b[0m\n",
      "\u001b[1m2025-03-06T15:01:47.733756-0800 | INFO | mth5.mth5 | close_mth5 | Flushing and closing c:\\Users\\jpeacock\\OneDrive - DOI\\MTData\\CL2021\\archive\\cl302.h5\u001b[0m\n",
      "\u001b[1m2025-03-06T15:01:50.303510-0800 | INFO | mth5.mth5 | close_mth5 | Flushing and closing c:\\Users\\jpeacock\\OneDrive - DOI\\MTData\\CL2021\\archive\\cl303.h5\u001b[0m\n",
      "\u001b[1m2025-03-06T15:01:53.307908-0800 | INFO | mth5.mth5 | close_mth5 | Flushing and closing c:\\Users\\jpeacock\\OneDrive - DOI\\MTData\\CL2021\\archive\\cl304.h5\u001b[0m\n",
      "\u001b[1m2025-03-06T15:01:56.925301-0800 | INFO | mth5.mth5 | close_mth5 | Flushing and closing c:\\Users\\jpeacock\\OneDrive - DOI\\MTData\\CL2021\\archive\\cl305.h5\u001b[0m\n",
      "\u001b[1m2025-03-06T15:01:59.827722-0800 | INFO | mth5.mth5 | close_mth5 | Flushing and closing c:\\Users\\jpeacock\\OneDrive - DOI\\MTData\\CL2021\\archive\\cl306.h5\u001b[0m\n",
      "\u001b[1m2025-03-06T15:02:03.717166-0800 | INFO | mth5.mth5 | close_mth5 | Flushing and closing c:\\Users\\jpeacock\\OneDrive - DOI\\MTData\\CL2021\\archive\\cl3101.h5\u001b[0m\n",
      "\u001b[1m2025-03-06T15:02:07.050337-0800 | INFO | mth5.mth5 | close_mth5 | Flushing and closing c:\\Users\\jpeacock\\OneDrive - DOI\\MTData\\CL2021\\archive\\cl3116.h5\u001b[0m\n",
      "\u001b[1m2025-03-06T15:02:09.502476-0800 | INFO | mth5.mth5 | close_mth5 | Flushing and closing c:\\Users\\jpeacock\\OneDrive - DOI\\MTData\\CL2021\\archive\\cl3121.h5\u001b[0m\n",
      "\u001b[1m2025-03-06T15:02:12.498756-0800 | INFO | mth5.mth5 | close_mth5 | Flushing and closing c:\\Users\\jpeacock\\OneDrive - DOI\\MTData\\CL2021\\archive\\cl3129.h5\u001b[0m\n",
      "\u001b[1m2025-03-06T15:02:14.856847-0800 | INFO | mth5.mth5 | close_mth5 | Flushing and closing c:\\Users\\jpeacock\\OneDrive - DOI\\MTData\\CL2021\\archive\\cl321.h5\u001b[0m\n",
      "\u001b[1m2025-03-06T15:02:18.393240-0800 | INFO | mth5.mth5 | close_mth5 | Flushing and closing c:\\Users\\jpeacock\\OneDrive - DOI\\MTData\\CL2021\\archive\\cl326.h5\u001b[0m\n",
      "\u001b[1m2025-03-06T15:02:21.612415-0800 | INFO | mth5.mth5 | close_mth5 | Flushing and closing c:\\Users\\jpeacock\\OneDrive - DOI\\MTData\\CL2021\\archive\\cl340.h5\u001b[0m\n",
      "\u001b[1m2025-03-06T15:02:24.481754-0800 | INFO | mth5.mth5 | close_mth5 | Flushing and closing c:\\Users\\jpeacock\\OneDrive - DOI\\MTData\\CL2021\\archive\\cl341.h5\u001b[0m\n",
      "\u001b[1m2025-03-06T15:02:27.300443-0800 | INFO | mth5.mth5 | close_mth5 | Flushing and closing c:\\Users\\jpeacock\\OneDrive - DOI\\MTData\\CL2021\\archive\\cl355.h5\u001b[0m\n",
      "\u001b[1m2025-03-06T15:02:30.167878-0800 | INFO | mth5.mth5 | close_mth5 | Flushing and closing c:\\Users\\jpeacock\\OneDrive - DOI\\MTData\\CL2021\\archive\\cl362.h5\u001b[0m\n",
      "\u001b[1m2025-03-06T15:02:33.206745-0800 | INFO | mth5.mth5 | close_mth5 | Flushing and closing c:\\Users\\jpeacock\\OneDrive - DOI\\MTData\\CL2021\\archive\\cl381.h5\u001b[0m\n",
      "\u001b[1m2025-03-06T15:02:35.929369-0800 | INFO | mth5.mth5 | close_mth5 | Flushing and closing c:\\Users\\jpeacock\\OneDrive - DOI\\MTData\\CL2021\\archive\\cl393.h5\u001b[0m\n",
      "\u001b[1m2025-03-06T15:02:38.860356-0800 | INFO | mth5.mth5 | close_mth5 | Flushing and closing c:\\Users\\jpeacock\\OneDrive - DOI\\MTData\\CL2021\\archive\\cl394.h5\u001b[0m\n",
      "\u001b[1m2025-03-06T15:02:42.523970-0800 | INFO | mth5.mth5 | close_mth5 | Flushing and closing c:\\Users\\jpeacock\\OneDrive - DOI\\MTData\\CL2021\\archive\\cl395.h5\u001b[0m\n",
      "\u001b[1m2025-03-06T15:02:46.299533-0800 | INFO | mth5.mth5 | close_mth5 | Flushing and closing c:\\Users\\jpeacock\\OneDrive - DOI\\MTData\\CL2021\\archive\\cl396.h5\u001b[0m\n",
      "\u001b[1m2025-03-06T15:02:49.073137-0800 | INFO | mth5.mth5 | close_mth5 | Flushing and closing c:\\Users\\jpeacock\\OneDrive - DOI\\MTData\\CL2021\\archive\\cl397.h5\u001b[0m\n",
      "\u001b[1m2025-03-06T15:02:52.086057-0800 | INFO | mth5.mth5 | close_mth5 | Flushing and closing c:\\Users\\jpeacock\\OneDrive - DOI\\MTData\\CL2021\\archive\\cl407.h5\u001b[0m\n",
      "\u001b[1m2025-03-06T15:02:54.956798-0800 | INFO | mth5.mth5 | close_mth5 | Flushing and closing c:\\Users\\jpeacock\\OneDrive - DOI\\MTData\\CL2021\\archive\\cl408.h5\u001b[0m\n",
      "\u001b[1m2025-03-06T15:02:57.792500-0800 | INFO | mth5.mth5 | close_mth5 | Flushing and closing c:\\Users\\jpeacock\\OneDrive - DOI\\MTData\\CL2021\\archive\\cl409.h5\u001b[0m\n",
      "\u001b[1m2025-03-06T15:03:00.741851-0800 | INFO | mth5.mth5 | close_mth5 | Flushing and closing c:\\Users\\jpeacock\\OneDrive - DOI\\MTData\\CL2021\\archive\\cl431.h5\u001b[0m\n",
      "\u001b[1m2025-03-06T15:03:03.749962-0800 | INFO | mth5.mth5 | close_mth5 | Flushing and closing c:\\Users\\jpeacock\\OneDrive - DOI\\MTData\\CL2021\\archive\\cl433.h5\u001b[0m\n",
      "\u001b[1m2025-03-06T15:03:06.653269-0800 | INFO | mth5.mth5 | close_mth5 | Flushing and closing c:\\Users\\jpeacock\\OneDrive - DOI\\MTData\\CL2021\\archive\\cl434.h5\u001b[0m\n",
      "\u001b[1m2025-03-06T15:03:12.287918-0800 | INFO | mth5.mth5 | close_mth5 | Flushing and closing c:\\Users\\jpeacock\\OneDrive - DOI\\MTData\\CL2021\\archive\\cl435.h5\u001b[0m\n",
      "\u001b[1m2025-03-06T15:03:15.256992-0800 | INFO | mth5.mth5 | close_mth5 | Flushing and closing c:\\Users\\jpeacock\\OneDrive - DOI\\MTData\\CL2021\\archive\\cl436.h5\u001b[0m\n",
      "\u001b[1m2025-03-06T15:03:18.809191-0800 | INFO | mth5.mth5 | close_mth5 | Flushing and closing c:\\Users\\jpeacock\\OneDrive - DOI\\MTData\\CL2021\\archive\\cl455.h5\u001b[0m\n",
      "\u001b[1m2025-03-06T15:03:22.264181-0800 | INFO | mth5.mth5 | close_mth5 | Flushing and closing c:\\Users\\jpeacock\\OneDrive - DOI\\MTData\\CL2021\\archive\\cl461.h5\u001b[0m\n",
      "\u001b[1m2025-03-06T15:03:25.334556-0800 | INFO | mth5.mth5 | close_mth5 | Flushing and closing c:\\Users\\jpeacock\\OneDrive - DOI\\MTData\\CL2021\\archive\\cl463.h5\u001b[0m\n",
      "\u001b[1m2025-03-06T15:03:29.187263-0800 | INFO | mth5.mth5 | close_mth5 | Flushing and closing c:\\Users\\jpeacock\\OneDrive - DOI\\MTData\\CL2021\\archive\\cl471.h5\u001b[0m\n",
      "\u001b[1m2025-03-06T15:03:32.020663-0800 | INFO | mth5.mth5 | close_mth5 | Flushing and closing c:\\Users\\jpeacock\\OneDrive - DOI\\MTData\\CL2021\\archive\\cl472.h5\u001b[0m\n",
      "\u001b[1m2025-03-06T15:03:35.023154-0800 | INFO | mth5.mth5 | close_mth5 | Flushing and closing c:\\Users\\jpeacock\\OneDrive - DOI\\MTData\\CL2021\\archive\\cl473.h5\u001b[0m\n",
      "\u001b[1m2025-03-06T15:03:38.459373-0800 | INFO | mth5.mth5 | close_mth5 | Flushing and closing c:\\Users\\jpeacock\\OneDrive - DOI\\MTData\\CL2021\\archive\\cl478.h5\u001b[0m\n",
      "\u001b[1m2025-03-06T15:03:41.435380-0800 | INFO | mth5.mth5 | close_mth5 | Flushing and closing c:\\Users\\jpeacock\\OneDrive - DOI\\MTData\\CL2021\\archive\\cl479.h5\u001b[0m\n",
      "\u001b[1m2025-03-06T15:03:44.414430-0800 | INFO | mth5.mth5 | close_mth5 | Flushing and closing c:\\Users\\jpeacock\\OneDrive - DOI\\MTData\\CL2021\\archive\\cl484.h5\u001b[0m\n",
      "\u001b[1m2025-03-06T15:03:47.269997-0800 | INFO | mth5.mth5 | close_mth5 | Flushing and closing c:\\Users\\jpeacock\\OneDrive - DOI\\MTData\\CL2021\\archive\\cl485.h5\u001b[0m\n",
      "\u001b[1m2025-03-06T15:03:50.152391-0800 | INFO | mth5.mth5 | close_mth5 | Flushing and closing c:\\Users\\jpeacock\\OneDrive - DOI\\MTData\\CL2021\\archive\\cl486.h5\u001b[0m\n",
      "\u001b[1m2025-03-06T15:03:52.938006-0800 | INFO | mth5.mth5 | close_mth5 | Flushing and closing c:\\Users\\jpeacock\\OneDrive - DOI\\MTData\\CL2021\\archive\\cl491.h5\u001b[0m\n"
     ]
    }
   ],
   "source": [
    "for h5_fn in h5_path.parent.glob(\"*h5\"): \n",
    "    with MTH5() as m:\n",
    "        m.open_mth5(h5_fn)\n",
    "        for row in m.run_summary.itertuples():\n",
    "            run_group = m.from_reference(row.run_hdf5_reference)\n",
    "            run_group.metadata.data_logger.id = df.loc[df.station == h5_fn.stem][\"instrument_id\"].array[0]\n",
    "            run_group.metadata.data_logger.manufacturer = \"Zonge International\"\n",
    "            run_group.write_metadata()\n",
    "        # ch_summary = m.channel_summary.to_dataframe()\n",
    "        # mags = ch_summary[ch_summary.measurement_type == \"magnetic\"]\n",
    "        # for row in mags.itertuples():\n",
    "        #     ch = m.from_reference(row.hdf5_reference)\n",
    "        #     for key in [\"id\", \"manufacturer\", \"model\", \"type\"]:\n",
    "        #         attr = f\"sensor.{key}\"\n",
    "        #         value = ch.metadata.get_attr_from_name(attr)\n",
    "        #         if isinstance(value, (list, np.ndarray)):\n",
    "        #             ch.metadata.set_attr_from_name(\n",
    "        #                 attr, ch.metadata.get_attr_from_name(attr)[0]\n",
    "        #             )\n",
    "        #     ch.write_metadata()"
   ]
  },
  {
   "cell_type": "code",
   "execution_count": 23,
   "metadata": {},
   "outputs": [
    {
     "data": {
      "text/plain": [
       "'ZEN_026'"
      ]
     },
     "execution_count": 23,
     "metadata": {},
     "output_type": "execute_result"
    }
   ],
   "source": [
    "df.loc[df.station == \"cl306\"][\"instrument_id\"].array[0]\n"
   ]
  },
  {
   "cell_type": "code",
   "execution_count": null,
   "metadata": {},
   "outputs": [],
   "source": []
  }
 ],
 "metadata": {
  "kernelspec": {
   "display_name": "py311",
   "language": "python",
   "name": "python3"
  },
  "language_info": {
   "codemirror_mode": {
    "name": "ipython",
    "version": 3
   },
   "file_extension": ".py",
   "mimetype": "text/x-python",
   "name": "python",
   "nbconvert_exporter": "python",
   "pygments_lexer": "ipython3",
   "version": "3.11.11"
  }
 },
 "nbformat": 4,
 "nbformat_minor": 2
}
